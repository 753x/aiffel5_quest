{
 "cells": [
  {
   "cell_type": "markdown",
   "source": [
    "## 딥러닝으로 시작하는 컴퓨터 비전\n",
    "### 9. Segmentation"
   ],
   "metadata": {
    "collapsed": false
   }
  },
  {
   "cell_type": "markdown",
   "source": [
    "#### 9-1. 들어가며"
   ],
   "metadata": {
    "collapsed": false
   }
  },
  {
   "cell_type": "markdown",
   "source": [
    "![](./img09/01.png)\n",
    "![](./img09/02.png)"
   ],
   "metadata": {
    "collapsed": false
   }
  },
  {
   "cell_type": "markdown",
   "source": [
    "#### 학습 내용\n",
    "\n",
    "Semantic Segmentation vs. Instance Segmentation\n",
    "\n",
    " - Segmentation이 어떤 task 인지 이해하고 Segmentation의 종류를 나눠서 각 개념에 대해 알아봅시다.\n",
    "\n",
    "U-Net 모델을 통해 Semantic Segmentation 이해하기\n",
    "\n",
    " - Segmentation 중에서도 Semantic segmentation의 목표를 알아봅시다. 또한, U-Net 모델의 구성요소를 살펴보며 Semantic Segmentation을 이해해 봅시다.\n",
    "\n",
    "U-Net 코드를 통해서 이해 다지기\n",
    "\n",
    " - U-Net 모델을 직접 코드로 구현해 보고 다시 한번 Semantic Segmentation 이해하고 Encoder-Decoder 구조를 알아봅시다.\n",
    "\n",
    "학습 목표\n",
    "\n",
    "Segmentation의 목표를 이해하고, semantic segmentation과 instance segmentation의 차이점을 설명할 수 있습니다.\n",
    "\n",
    "Semantic segmentation의 대표적인 모델인 U-Net 모델의 구성 요소를 설명할 수 있습니다."
   ],
   "metadata": {
    "collapsed": false
   }
  },
  {
   "cell_type": "markdown",
   "source": [
    "#### 9-2. Semantic Segmentation vs Instance Segmentation"
   ],
   "metadata": {
    "collapsed": false
   }
  },
  {
   "cell_type": "markdown",
   "source": [
    "![](./img09/03.png)\n",
    "\n",
    "Semantic Segmentation\n",
    "\n",
    " - Semantic Segmentation은 이미지에서 픽셀 단위로 분류하는 방법입니다. 이때, 같은 라벨은 같은 색으로 표시됩니다. Semantic Segmentation은 이미지에서 픽셀 단위로 분류하는 방법입니다. 이때, 같은 라벨은 같은 색으로 표시됩니다.\n",
    " - 하나의 이미지 안에 들어있는 객체의 종류를 (object category)를 픽셀 단위로 찾자\n",
    "\n",
    "Instance Segmentation\n",
    " - Instance Segmentation은 Semantic Segmentation과 비슷하지만 같은 라벨이라도 각각 다른 색으로 표시됩니다. Semantic Segmentation은 이미지에서 픽셀 단위로 분류하는 방법입니다. 이때, 같은 라벨은 같은 색으로 표시됩니다.\n",
    " - 하나의 이미지 안에 들어있는 객체의 객체를(object instance) 픽셀 단위로 찾자\n",
    "\n",
    "Instance Segmentation = Semantic Segmentation + distinguishing instance\n",
    "\n",
    "두 방법 다 데이터의 크기가 매우 크기 때문에 data augmentation이 필수적입니다.(소량의 데이터로 효과적인 방법을 찾는것)"
   ],
   "metadata": {
    "collapsed": false
   }
  },
  {
   "cell_type": "markdown",
   "source": [
    "Q. Segmentation는 어떤 task 인지 설명해 보세요.\n",
    "\n",
    "segmentation은 이미지를 픽셀 단위로 나누어서 특정 픽셀이 무엇을 지칭하는지를 파악하는 task 입니다.\n"
   ],
   "metadata": {
    "collapsed": false
   }
  },
  {
   "cell_type": "markdown",
   "source": [
    "Q. Segmentation의 종류는 Semantic Segmentation과 Instance Segmentation으로 나눌 수 있습니다. 어떤 차이가 있는지 각 개념을 설명해 보세요.\n",
    "\n",
    "semantic segmentation은 하나의 이미지 안에 들어있는 객체의 종류(object category)를 픽셀 단위로 찾습니다. 반면 instance segmentation은 하나의 이미지 안에 들어있는 객체의 개체(object instance)를 픽셀 단위로 찾습니다.\n",
    "\n",
    "어떤 Segmentation 종류이든 이미지 데이터를 segmentation 모델 학습에 사용하기 위해서는 픽셀 하나하나 labeling을 해줘야 하기 때문에 데이터셋 구축이 어렵고, 따라서 data augmentation이 매우 중요합니다."
   ],
   "metadata": {
    "collapsed": false
   }
  },
  {
   "cell_type": "markdown",
   "source": [
    "#### 9-3. U-Net 구조를 통해서 Segmentation 이해하기"
   ],
   "metadata": {
    "collapsed": false
   }
  },
  {
   "cell_type": "markdown",
   "source": [
    "![](./img09/04.png)\n",
    "\n",
    "Semantic Segmentation의 목표는 정답값(label)을 맞추는 것\n",
    "\n",
    "의료 데이터의 경우 정상과 비정상 2개로 나뉠수 있다. 하지만 예시의 경우 라벨값이 2개 이상일 경우 1부터 5까지 표시됨\n",
    "\n",
    "라벨을 픽셀단위로 Class를 픽셀단위로 분류하는 것이 Semantic Segmentation의 목표"
   ],
   "metadata": {
    "collapsed": false
   }
  },
  {
   "cell_type": "markdown",
   "source": [
    "![](./img09/05.png)\n",
    "\n",
    "정답은 위와 같이 구성되어 있다. (0과 1의 Binary Encoding으로 구성되어 있다)\n",
    "\n"
   ],
   "metadata": {
    "collapsed": false
   }
  },
  {
   "cell_type": "markdown",
   "source": [
    "![](./img09/06.png)\n",
    "\n",
    "여러개의 인풋을 가진 채널 존재. 아웃풋은 강우량(양의 실수)\n",
    "\n",
    "이것은 regression task로 U-Net은 regression task도 수행 가!\n"
   ],
   "metadata": {
    "collapsed": false
   }
  },
  {
   "cell_type": "markdown",
   "source": [
    "![](./img09/07.png)\n",
    "\n",
    "Transpoesd Convolution(Encorder, Decorder)에 skip Connection을 추가한 구조가 U-Net\n",
    "\n",
    "Skip Connection은 ResNet에서 처음 등장했고, U-Net에서도 사용되었다 (ResNet은 Classification을 위한 모델, Gradient HighWay)"
   ],
   "metadata": {
    "collapsed": false
   }
  },
  {
   "cell_type": "markdown",
   "source": [
    "![](./img09/08.png)\n",
    "\n",
    "Up conv = Transposed Convolution\n",
    "\n",
    "3*3+Relu conv을 연달아 2번 진행\n",
    "\n",
    "회색 화살표의 Crop and Copy 의미 : Down sampling (U를 반으로 잘랐을때 왼쪽편)에서 그림 상 점선의 값이 오른편으로 이동한다.\n",
    "\n",
    "ex) 세번째 층 외편의 점선을 보면 점선의 값이 그대로 오른편으로 이동하게 된다.\n",
    "\n",
    "피쳐맵의 전체를 사용하는게 아니라 136^2에서 104^2만 잘라내서(crop) 오른편의 동일층에 붙인다(concat)"
   ],
   "metadata": {
    "collapsed": false
   }
  },
  {
   "cell_type": "markdown",
   "source": [
    "![](./img09/09.png)\n",
    "\n",
    "U-Net의 왼편은 Encoder(압축)만 가지고 Semantic Segmentation을 수행할 수 없다.\n",
    "\n",
    "이미지 위치에 대한 정보가 점점 소실되기 때문\n"
   ],
   "metadata": {
    "collapsed": false
   }
  },
  {
   "cell_type": "markdown",
   "source": [
    "![](./img09/10.png)\n",
    "\n",
    "압축된 이미지를 High Resolution으로 복원\n",
    "\n",
    "대부분의 semantic segmentation 인풋사이즈와 아웃풋 사이즈가 동일하지만 U-Net은 아웃풋이 더 작다"
   ],
   "metadata": {
    "collapsed": false
   }
  },
  {
   "cell_type": "markdown",
   "source": [
    "![](./img09/11.png)\n",
    "\n",
    "Concat을 통해 인코딩 과정에서의 정보 손실을 보충한다."
   ],
   "metadata": {
    "collapsed": false
   }
  },
  {
   "cell_type": "markdown",
   "source": [
    "Q. 앞에서 Segmentation의 종류 2가지를 배웠습니다. 그중에서 Semantic segmentation의 목표는 무엇인지 설명해 보세요.\n",
    "\n",
    "Semantic segmentation의 목표는 이미지가 주어졌을 때, 픽셀 단위로 Classification을 수행하여 이미지와 동일한 높이와 너비를 가진 Segmentation map을 생성하는 것입니다."
   ],
   "metadata": {
    "collapsed": false
   }
  },
  {
   "cell_type": "markdown",
   "source": [
    "Q. U-Net 모델은 Encoder-Decoder 모델에 skip connection을 추가한 모델이라고 할 수 있습니다. U-Net 모델 구조 중 Encoder에 해당하는 Contracting path 부분의 특징을 설명해 보세요.\n",
    "\n",
    "convolution 연산으로 이루어진 부분이며 CNN 구조와 유사하다는 특징이 있습니다. 또한 3x3 kernel을 사용하는 VGG 모델과 매우 유사하며 입력 이미지가 가지고 있는 context 정보를 추출합니다. U-Net 모델 구조 중 Encoder에 해당하며 convolution 연산을 하기 때문에 이미지의 위치에 대한 정보가 차츰 사라집니다."
   ],
   "metadata": {
    "collapsed": false
   }
  },
  {
   "cell_type": "markdown",
   "source": [
    "Q. U-Net 모델 구조 중 Decoder에 해당하는 Expanding (Expansive) path 부분의 특징을 설명해 보세요.\n",
    "\n",
    "up-convolution 연산으로 이루어진 부분이며 low resolution의 latent representation을 high resolution으로 변형합니다. 또한 Encoder 부분인 contracting path에서 만들어진 feature map을 cropping 한 결과물이 concatenation 됩니다. U-Net 모델 구조 중 Decoder에 해당하며 up-convolution 연산을 하기 때문에 원본 이미지가 가지고 있었던 위치 정보가 복원됩니다."
   ],
   "metadata": {
    "collapsed": false
   }
  },
  {
   "cell_type": "markdown",
   "source": [
    "Q. U-Net 모델은 Encoding 부분에서 이미지를 압축하며 정보의 손실이 발생합니다. 이를 보완하기 위해 어떤 방법을 사용하는지, 그 방법의 특징은 무엇인 설명해 보세요.\n",
    "\n",
    "Encoding 과정에서의 정보 손실을 보충하기 위해 skip connection을 사용합니다. 이것은 Decoding 단계에서, 저차원의 정보와 고차원의 정보도 함께 이용하기 위한 방법입니다."
   ],
   "metadata": {
    "collapsed": false
   }
  },
  {
   "cell_type": "markdown",
   "source": [
    "#### 9-4. U-Net 코드를 통해서 이해 다지기"
   ],
   "metadata": {
    "collapsed": false
   }
  },
  {
   "cell_type": "markdown",
   "source": [
    "U-Net 모델의 코드를 보면서 구조를 이해해봅시다.\n",
    "먼저 시각화에 필요한 라이브러리들을 설치하고 필요한 라이브러리를 불러옵니다."
   ],
   "metadata": {
    "collapsed": false
   }
  },
  {
   "cell_type": "code",
   "execution_count": 7,
   "outputs": [
    {
     "name": "stdout",
     "output_type": "stream",
     "text": [
      "Requirement already satisfied: graphviz in /Users/ralphpark/anaconda3/lib/python3.10/site-packages (0.20.1)\r\n",
      "Requirement already satisfied: pydot in /Users/ralphpark/anaconda3/lib/python3.10/site-packages (1.4.2)\r\n",
      "Requirement already satisfied: pyparsing>=2.1.4 in /Users/ralphpark/anaconda3/lib/python3.10/site-packages (from pydot) (3.0.9)\r\n"
     ]
    }
   ],
   "source": [
    "!pip install graphviz\n",
    "!pip install pydot"
   ],
   "metadata": {
    "collapsed": false,
    "ExecuteTime": {
     "end_time": "2023-08-16T15:20:45.099677Z",
     "start_time": "2023-08-16T15:20:38.203918Z"
    }
   }
  },
  {
   "cell_type": "code",
   "execution_count": 8,
   "outputs": [],
   "source": [
    "import tensorflow.keras.layers as layers\n",
    "import tensorflow as tf"
   ],
   "metadata": {
    "collapsed": false,
    "ExecuteTime": {
     "end_time": "2023-08-16T15:20:45.103733Z",
     "start_time": "2023-08-16T15:20:45.101892Z"
    }
   }
  },
  {
   "cell_type": "markdown",
   "source": [
    "U-Net 모델을 구현한 코드입니다.\n",
    "\n",
    "![](https://d3s0tskafalll9.cloudfront.net/media/images/cv-b-9-4-1.max-800x600.png)\n",
    "\n",
    "![](https://d3s0tskafalll9.cloudfront.net/media/images/cv-b-9-4-2.max-800x600.png)"
   ],
   "metadata": {
    "collapsed": false
   }
  },
  {
   "cell_type": "code",
   "execution_count": 9,
   "outputs": [],
   "source": [
    "inputs = layers.Input(shape=(572, 572, 1))\n",
    "\n",
    "# Contracting path 시작\n",
    "# [1]\n",
    "conv0 = layers.Conv2D(64, activation='relu', kernel_size = 3)(inputs)\n",
    "conv1 = layers.Conv2D(64, activation='relu', kernel_size=3)(conv0)  # Skip connection으로 Expanding path로 이어질 예정\n",
    "conv2 = layers.MaxPool2D(pool_size=(2, 2), strides=(2, 2))(conv1)\n",
    "\n",
    "\n",
    "# Q.위 이미지를 보고 [2]번 블럭을 구현해 봅시다. (filter 수를 주의하세요!)\n",
    "conv3 = layers.Conv2D(128, activation='relu', kernel_size=3)(conv2)\n",
    "conv4 = layers.Conv2D(128, activation='relu', kernel_size=3)(conv3)\n",
    "conv5 = layers.MaxPool2D(pool_size=(2, 2), strides=(2, 2))(conv4)\n",
    "\n",
    "\n",
    "# Q.위 이미지를 보고 [3]번 블럭을 구현해 봅시다. (filter 수를 주의하세요!)\n",
    "conv6 = layers.Conv2D(256, activation='relu', kernel_size=3)(conv5)\n",
    "conv7 = layers.Conv2D(256, activation='relu', kernel_size=3)(conv6)\n",
    "conv8 = layers.MaxPool2D(pool_size=(2, 2), strides=(2, 2))(conv7)\n",
    "\n",
    "\n",
    "# Q.위 이미지를 보고 [4]번 블럭을 구현해 봅시다. (filter 수를 주의하세요!)\n",
    "conv9 = layers.Conv2D(512, activation='relu', kernel_size=3)(conv8)\n",
    "conv10 = layers.Conv2D(512, activation='relu', kernel_size=3)(conv9)\n",
    "conv11 = layers.MaxPool2D(pool_size=(2, 2), strides=(2, 2))(conv10)\n",
    "\n",
    "\n",
    "# [5]\n",
    "conv12 = layers.Conv2D(1024, activation='relu', kernel_size=3)(conv11)\n",
    "conv13 = layers.Conv2D(1024, activation='relu', kernel_size=3)(conv12)\n",
    "# Contracting path 끝\n",
    "\n",
    "# Expanding path 시작\n",
    "# [6]\n",
    "trans01 = layers.Conv2DTranspose(512, kernel_size=2, strides=(2, 2), activation='relu')(conv13)\n",
    "crop01 = layers.Cropping2D(cropping=(4, 4))(conv10)\n",
    "concat01 = layers.concatenate([trans01, crop01], axis=-1)\n",
    "\n",
    "# [7]\n",
    "conv14 = layers.Conv2D(512, activation='relu', kernel_size=3)(concat01)\n",
    "conv15 = layers.Conv2D(512, activation='relu', kernel_size=3)(conv14)\n",
    "trans02 = layers.Conv2DTranspose(256, kernel_size=2, strides=(2, 2), activation='relu')(conv15)\n",
    "\n",
    "# [8]\n",
    "crop02 = layers.Cropping2D(cropping=(16, 16))(conv7)\n",
    "concat02 = layers.concatenate([trans02, crop02], axis=-1)\n",
    "\n",
    "\n",
    "# Q.위 이미지를 보고 [9]번 블럭을 구현해 봅시다. (filter 수를 주의하세요!)\n",
    "conv16 = layers.Conv2D(256, activation='relu', kernel_size=3)(concat02)\n",
    "conv17 = layers.Conv2D(256, activation='relu', kernel_size=3)(conv16)\n",
    "trans03 = layers.Conv2DTranspose(128, kernel_size=2, strides=(2, 2), activation='relu')(conv17)\n",
    "\n",
    "\n",
    "# Q.위 이미지를 보고 [10]번 블럭을 구현해 봅시다. (cropping=(40, 40))\n",
    "crop03 = layers.Cropping2D(cropping=(40, 40))(conv4)\n",
    "concat03 = layers.concatenate([trans03, crop03], axis=-1)\n",
    "\n",
    "\n",
    "# Q.위 이미지를 보고 [11]번 블럭을 구현해 봅시다. (filter 수를 주의하세요!)\n",
    "conv18 = layers.Conv2D(128, activation='relu', kernel_size=3)(concat03)\n",
    "conv19 = layers.Conv2D(128, activation='relu', kernel_size=3)(conv18)\n",
    "trans04 = layers.Conv2DTranspose(64, kernel_size=2, strides=(2, 2), activation='relu')(conv19)\n",
    "\n",
    "\n",
    "# Q.위 이미지를 보고 [12]번 블럭을 구현해 봅시다. (cropping=(88, 88))\n",
    "crop04 = layers.Cropping2D(cropping=(88, 88))(conv1)\n",
    "concat04 = layers.concatenate([trans04, crop04], axis=-1)\n",
    "\n",
    "\n",
    "# [13]\n",
    "conv20 = layers.Conv2D(64, activation='relu', kernel_size=3)(concat04)\n",
    "conv21 = layers.Conv2D(64, activation='relu', kernel_size=3)(conv20)\n",
    "# Expanding path 끝\n",
    "\n",
    "outputs = layers.Conv2D(2, kernel_size=1)(conv21)\n",
    "\n",
    "model = tf.keras.Model(inputs=inputs, outputs=outputs, name=\"u-netmodel\")"
   ],
   "metadata": {
    "collapsed": false,
    "ExecuteTime": {
     "end_time": "2023-08-16T15:20:45.384327Z",
     "start_time": "2023-08-16T15:20:45.104522Z"
    }
   }
  },
  {
   "cell_type": "code",
   "execution_count": 10,
   "outputs": [
    {
     "name": "stdout",
     "output_type": "stream",
     "text": [
      "Model: \"u-netmodel\"\n",
      "__________________________________________________________________________________________________\n",
      " Layer (type)                   Output Shape         Param #     Connected to                     \n",
      "==================================================================================================\n",
      " input_2 (InputLayer)           [(None, 572, 572, 1  0           []                               \n",
      "                                )]                                                                \n",
      "                                                                                                  \n",
      " conv2d_20 (Conv2D)             (None, 570, 570, 64  640         ['input_2[0][0]']                \n",
      "                                )                                                                 \n",
      "                                                                                                  \n",
      " conv2d_21 (Conv2D)             (None, 568, 568, 64  36928       ['conv2d_20[0][0]']              \n",
      "                                )                                                                 \n",
      "                                                                                                  \n",
      " max_pooling2d_4 (MaxPooling2D)  (None, 284, 284, 64  0          ['conv2d_21[0][0]']              \n",
      "                                )                                                                 \n",
      "                                                                                                  \n",
      " conv2d_22 (Conv2D)             (None, 282, 282, 12  73856       ['max_pooling2d_4[0][0]']        \n",
      "                                8)                                                                \n",
      "                                                                                                  \n",
      " conv2d_23 (Conv2D)             (None, 280, 280, 12  147584      ['conv2d_22[0][0]']              \n",
      "                                8)                                                                \n",
      "                                                                                                  \n",
      " max_pooling2d_5 (MaxPooling2D)  (None, 140, 140, 12  0          ['conv2d_23[0][0]']              \n",
      "                                8)                                                                \n",
      "                                                                                                  \n",
      " conv2d_24 (Conv2D)             (None, 138, 138, 25  295168      ['max_pooling2d_5[0][0]']        \n",
      "                                6)                                                                \n",
      "                                                                                                  \n",
      " conv2d_25 (Conv2D)             (None, 136, 136, 25  590080      ['conv2d_24[0][0]']              \n",
      "                                6)                                                                \n",
      "                                                                                                  \n",
      " max_pooling2d_6 (MaxPooling2D)  (None, 68, 68, 256)  0          ['conv2d_25[0][0]']              \n",
      "                                                                                                  \n",
      " conv2d_26 (Conv2D)             (None, 66, 66, 512)  1180160     ['max_pooling2d_6[0][0]']        \n",
      "                                                                                                  \n",
      " conv2d_27 (Conv2D)             (None, 64, 64, 512)  2359808     ['conv2d_26[0][0]']              \n",
      "                                                                                                  \n",
      " max_pooling2d_7 (MaxPooling2D)  (None, 32, 32, 512)  0          ['conv2d_27[0][0]']              \n",
      "                                                                                                  \n",
      " conv2d_28 (Conv2D)             (None, 30, 30, 1024  4719616     ['max_pooling2d_7[0][0]']        \n",
      "                                )                                                                 \n",
      "                                                                                                  \n",
      " conv2d_29 (Conv2D)             (None, 28, 28, 1024  9438208     ['conv2d_28[0][0]']              \n",
      "                                )                                                                 \n",
      "                                                                                                  \n",
      " conv2d_transpose_4 (Conv2DTran  (None, 56, 56, 512)  2097664    ['conv2d_29[0][0]']              \n",
      " spose)                                                                                           \n",
      "                                                                                                  \n",
      " cropping2d_4 (Cropping2D)      (None, 56, 56, 512)  0           ['conv2d_27[0][0]']              \n",
      "                                                                                                  \n",
      " concatenate_4 (Concatenate)    (None, 56, 56, 1024  0           ['conv2d_transpose_4[0][0]',     \n",
      "                                )                                 'cropping2d_4[0][0]']           \n",
      "                                                                                                  \n",
      " conv2d_30 (Conv2D)             (None, 54, 54, 512)  4719104     ['concatenate_4[0][0]']          \n",
      "                                                                                                  \n",
      " conv2d_31 (Conv2D)             (None, 52, 52, 512)  2359808     ['conv2d_30[0][0]']              \n",
      "                                                                                                  \n",
      " conv2d_transpose_5 (Conv2DTran  (None, 104, 104, 25  524544     ['conv2d_31[0][0]']              \n",
      " spose)                         6)                                                                \n",
      "                                                                                                  \n",
      " cropping2d_5 (Cropping2D)      (None, 104, 104, 25  0           ['conv2d_25[0][0]']              \n",
      "                                6)                                                                \n",
      "                                                                                                  \n",
      " concatenate_5 (Concatenate)    (None, 104, 104, 51  0           ['conv2d_transpose_5[0][0]',     \n",
      "                                2)                                'cropping2d_5[0][0]']           \n",
      "                                                                                                  \n",
      " conv2d_32 (Conv2D)             (None, 102, 102, 25  1179904     ['concatenate_5[0][0]']          \n",
      "                                6)                                                                \n",
      "                                                                                                  \n",
      " conv2d_33 (Conv2D)             (None, 100, 100, 25  590080      ['conv2d_32[0][0]']              \n",
      "                                6)                                                                \n",
      "                                                                                                  \n",
      " conv2d_transpose_6 (Conv2DTran  (None, 200, 200, 12  131200     ['conv2d_33[0][0]']              \n",
      " spose)                         8)                                                                \n",
      "                                                                                                  \n",
      " cropping2d_6 (Cropping2D)      (None, 200, 200, 12  0           ['conv2d_23[0][0]']              \n",
      "                                8)                                                                \n",
      "                                                                                                  \n",
      " concatenate_6 (Concatenate)    (None, 200, 200, 25  0           ['conv2d_transpose_6[0][0]',     \n",
      "                                6)                                'cropping2d_6[0][0]']           \n",
      "                                                                                                  \n",
      " conv2d_34 (Conv2D)             (None, 198, 198, 12  295040      ['concatenate_6[0][0]']          \n",
      "                                8)                                                                \n",
      "                                                                                                  \n",
      " conv2d_35 (Conv2D)             (None, 196, 196, 12  147584      ['conv2d_34[0][0]']              \n",
      "                                8)                                                                \n",
      "                                                                                                  \n",
      " conv2d_transpose_7 (Conv2DTran  (None, 392, 392, 64  32832      ['conv2d_35[0][0]']              \n",
      " spose)                         )                                                                 \n",
      "                                                                                                  \n",
      " cropping2d_7 (Cropping2D)      (None, 392, 392, 64  0           ['conv2d_21[0][0]']              \n",
      "                                )                                                                 \n",
      "                                                                                                  \n",
      " concatenate_7 (Concatenate)    (None, 392, 392, 12  0           ['conv2d_transpose_7[0][0]',     \n",
      "                                8)                                'cropping2d_7[0][0]']           \n",
      "                                                                                                  \n",
      " conv2d_36 (Conv2D)             (None, 390, 390, 64  73792       ['concatenate_7[0][0]']          \n",
      "                                )                                                                 \n",
      "                                                                                                  \n",
      " conv2d_37 (Conv2D)             (None, 388, 388, 64  36928       ['conv2d_36[0][0]']              \n",
      "                                )                                                                 \n",
      "                                                                                                  \n",
      " conv2d_38 (Conv2D)             (None, 388, 388, 2)  130         ['conv2d_37[0][0]']              \n",
      "                                                                                                  \n",
      "==================================================================================================\n",
      "Total params: 31,030,658\n",
      "Trainable params: 31,030,658\n",
      "Non-trainable params: 0\n",
      "__________________________________________________________________________________________________\n"
     ]
    }
   ],
   "source": [
    "model.summary()"
   ],
   "metadata": {
    "collapsed": false,
    "ExecuteTime": {
     "end_time": "2023-08-16T15:20:45.442877Z",
     "start_time": "2023-08-16T15:20:45.385220Z"
    }
   }
  },
  {
   "cell_type": "markdown",
   "source": [
    "위에서 구현한 U-Net 모델의 구조를 그림으로 나타낼 수 있습니다."
   ],
   "metadata": {
    "collapsed": false
   }
  },
  {
   "cell_type": "code",
   "execution_count": 11,
   "outputs": [
    {
     "data": {
      "text/plain": "<IPython.core.display.SVG object>",
      "image/svg+xml": "<svg xmlns=\"http://www.w3.org/2000/svg\" xmlns:xlink=\"http://www.w3.org/1999/xlink\" width=\"1775pt\" height=\"3027pt\" viewBox=\"0.00 0.00 1597.88 2724.00\">\n<g id=\"graph0\" class=\"graph\" transform=\"scale(1.11111 1.11111) rotate(0) translate(4 2720)\">\n<title>G</title>\n<polygon fill=\"white\" stroke=\"none\" points=\"-4,4 -4,-2720 1593.88,-2720 1593.88,4 -4,4\"/>\n<!-- 140656317584848 -->\n<g id=\"node1\" class=\"node\">\n<title>140656317584848</title>\n<polygon fill=\"none\" stroke=\"black\" points=\"977.38,-2666.5 977.38,-2715.5 1373.62,-2715.5 1373.62,-2666.5 977.38,-2666.5\"/>\n<text text-anchor=\"middle\" x=\"1015.38\" y=\"-2698.2\" font-family=\"Times,serif\" font-size=\"14.00\">input_2</text>\n<polyline fill=\"none\" stroke=\"black\" points=\"977.38,-2691 1053.38,-2691\"/>\n<text text-anchor=\"middle\" x=\"1015.38\" y=\"-2673.7\" font-family=\"Times,serif\" font-size=\"14.00\">InputLayer</text>\n<polyline fill=\"none\" stroke=\"black\" points=\"1053.38,-2666.5 1053.38,-2715.5\"/>\n<text text-anchor=\"middle\" x=\"1080.5\" y=\"-2698.2\" font-family=\"Times,serif\" font-size=\"14.00\">input:</text>\n<polyline fill=\"none\" stroke=\"black\" points=\"1053.38,-2691 1107.62,-2691\"/>\n<text text-anchor=\"middle\" x=\"1080.5\" y=\"-2673.7\" font-family=\"Times,serif\" font-size=\"14.00\">output:</text>\n<polyline fill=\"none\" stroke=\"black\" points=\"1107.62,-2666.5 1107.62,-2715.5\"/>\n<text text-anchor=\"middle\" x=\"1174.12\" y=\"-2686.2\" font-family=\"Times,serif\" font-size=\"14.00\">[(None, 572, 572, 1)]</text>\n<polyline fill=\"none\" stroke=\"black\" points=\"1240.62,-2666.5 1240.62,-2715.5\"/>\n<text text-anchor=\"middle\" x=\"1307.12\" y=\"-2686.2\" font-family=\"Times,serif\" font-size=\"14.00\">[(None, 572, 572, 1)]</text>\n</g>\n<!-- 140656317593728 -->\n<g id=\"node2\" class=\"node\">\n<title>140656317593728</title>\n<polygon fill=\"none\" stroke=\"black\" points=\"983,-2580.5 983,-2629.5 1368,-2629.5 1368,-2580.5 983,-2580.5\"/>\n<text text-anchor=\"middle\" x=\"1021\" y=\"-2612.2\" font-family=\"Times,serif\" font-size=\"14.00\">conv2d_20</text>\n<polyline fill=\"none\" stroke=\"black\" points=\"983,-2605 1059,-2605\"/>\n<text text-anchor=\"middle\" x=\"1021\" y=\"-2587.7\" font-family=\"Times,serif\" font-size=\"14.00\">Conv2D</text>\n<polyline fill=\"none\" stroke=\"black\" points=\"1059,-2580.5 1059,-2629.5\"/>\n<text text-anchor=\"middle\" x=\"1086.12\" y=\"-2612.2\" font-family=\"Times,serif\" font-size=\"14.00\">input:</text>\n<polyline fill=\"none\" stroke=\"black\" points=\"1059,-2605 1113.25,-2605\"/>\n<text text-anchor=\"middle\" x=\"1086.12\" y=\"-2587.7\" font-family=\"Times,serif\" font-size=\"14.00\">output:</text>\n<polyline fill=\"none\" stroke=\"black\" points=\"1113.25,-2580.5 1113.25,-2629.5\"/>\n<text text-anchor=\"middle\" x=\"1175.25\" y=\"-2600.2\" font-family=\"Times,serif\" font-size=\"14.00\">(None, 572, 572, 1)</text>\n<polyline fill=\"none\" stroke=\"black\" points=\"1237.25,-2580.5 1237.25,-2629.5\"/>\n<text text-anchor=\"middle\" x=\"1302.62\" y=\"-2600.2\" font-family=\"Times,serif\" font-size=\"14.00\">(None, 570, 570, 64)</text>\n</g>\n<!-- 140656317584848&#45;&gt;140656317593728 -->\n<g id=\"edge1\" class=\"edge\">\n<title>140656317584848-&gt;140656317593728</title>\n<path fill=\"none\" stroke=\"black\" d=\"M1175.5,-2666.6C1175.5,-2658.41 1175.5,-2649.03 1175.5,-2640.15\"/>\n<polygon fill=\"black\" stroke=\"black\" points=\"1179,-2640.27 1175.5,-2630.27 1172,-2640.27 1179,-2640.27\"/>\n</g>\n<!-- 140656317585808 -->\n<g id=\"node3\" class=\"node\">\n<title>140656317585808</title>\n<polygon fill=\"none\" stroke=\"black\" points=\"979.62,-2494.5 979.62,-2543.5 1371.38,-2543.5 1371.38,-2494.5 979.62,-2494.5\"/>\n<text text-anchor=\"middle\" x=\"1017.62\" y=\"-2526.2\" font-family=\"Times,serif\" font-size=\"14.00\">conv2d_21</text>\n<polyline fill=\"none\" stroke=\"black\" points=\"979.62,-2519 1055.62,-2519\"/>\n<text text-anchor=\"middle\" x=\"1017.62\" y=\"-2501.7\" font-family=\"Times,serif\" font-size=\"14.00\">Conv2D</text>\n<polyline fill=\"none\" stroke=\"black\" points=\"1055.62,-2494.5 1055.62,-2543.5\"/>\n<text text-anchor=\"middle\" x=\"1082.75\" y=\"-2526.2\" font-family=\"Times,serif\" font-size=\"14.00\">input:</text>\n<polyline fill=\"none\" stroke=\"black\" points=\"1055.62,-2519 1109.88,-2519\"/>\n<text text-anchor=\"middle\" x=\"1082.75\" y=\"-2501.7\" font-family=\"Times,serif\" font-size=\"14.00\">output:</text>\n<polyline fill=\"none\" stroke=\"black\" points=\"1109.88,-2494.5 1109.88,-2543.5\"/>\n<text text-anchor=\"middle\" x=\"1175.25\" y=\"-2514.2\" font-family=\"Times,serif\" font-size=\"14.00\">(None, 570, 570, 64)</text>\n<polyline fill=\"none\" stroke=\"black\" points=\"1240.62,-2494.5 1240.62,-2543.5\"/>\n<text text-anchor=\"middle\" x=\"1306\" y=\"-2514.2\" font-family=\"Times,serif\" font-size=\"14.00\">(None, 568, 568, 64)</text>\n</g>\n<!-- 140656317593728&#45;&gt;140656317585808 -->\n<g id=\"edge2\" class=\"edge\">\n<title>140656317593728-&gt;140656317585808</title>\n<path fill=\"none\" stroke=\"black\" d=\"M1175.5,-2580.6C1175.5,-2572.41 1175.5,-2563.03 1175.5,-2554.15\"/>\n<polygon fill=\"black\" stroke=\"black\" points=\"1179,-2554.27 1175.5,-2544.27 1172,-2554.27 1179,-2554.27\"/>\n</g>\n<!-- 140656317593440 -->\n<g id=\"node4\" class=\"node\">\n<title>140656317593440</title>\n<polygon fill=\"none\" stroke=\"black\" points=\"839.12,-2408.5 839.12,-2457.5 1269.88,-2457.5 1269.88,-2408.5 839.12,-2408.5\"/>\n<text text-anchor=\"middle\" x=\"896.62\" y=\"-2440.2\" font-family=\"Times,serif\" font-size=\"14.00\">max_pooling2d_4</text>\n<polyline fill=\"none\" stroke=\"black\" points=\"839.12,-2433 954.12,-2433\"/>\n<text text-anchor=\"middle\" x=\"896.62\" y=\"-2415.7\" font-family=\"Times,serif\" font-size=\"14.00\">MaxPooling2D</text>\n<polyline fill=\"none\" stroke=\"black\" points=\"954.12,-2408.5 954.12,-2457.5\"/>\n<text text-anchor=\"middle\" x=\"981.25\" y=\"-2440.2\" font-family=\"Times,serif\" font-size=\"14.00\">input:</text>\n<polyline fill=\"none\" stroke=\"black\" points=\"954.12,-2433 1008.38,-2433\"/>\n<text text-anchor=\"middle\" x=\"981.25\" y=\"-2415.7\" font-family=\"Times,serif\" font-size=\"14.00\">output:</text>\n<polyline fill=\"none\" stroke=\"black\" points=\"1008.38,-2408.5 1008.38,-2457.5\"/>\n<text text-anchor=\"middle\" x=\"1073.75\" y=\"-2428.2\" font-family=\"Times,serif\" font-size=\"14.00\">(None, 568, 568, 64)</text>\n<polyline fill=\"none\" stroke=\"black\" points=\"1139.12,-2408.5 1139.12,-2457.5\"/>\n<text text-anchor=\"middle\" x=\"1204.5\" y=\"-2428.2\" font-family=\"Times,serif\" font-size=\"14.00\">(None, 284, 284, 64)</text>\n</g>\n<!-- 140656317585808&#45;&gt;140656317593440 -->\n<g id=\"edge3\" class=\"edge\">\n<title>140656317585808-&gt;140656317593440</title>\n<path fill=\"none\" stroke=\"black\" d=\"M1141.79,-2494.6C1127.9,-2484.95 1111.63,-2473.66 1096.94,-2463.46\"/>\n<polygon fill=\"black\" stroke=\"black\" points=\"1099.24,-2460.1 1089.02,-2457.27 1095.24,-2465.85 1099.24,-2460.1\"/>\n</g>\n<!-- 140656454424736 -->\n<g id=\"node32\" class=\"node\">\n<title>140656454424736</title>\n<polygon fill=\"none\" stroke=\"black\" points=\"1183.12,-2322.5 1183.12,-2371.5 1589.88,-2371.5 1589.88,-2322.5 1183.12,-2322.5\"/>\n<text text-anchor=\"middle\" x=\"1228.62\" y=\"-2354.2\" font-family=\"Times,serif\" font-size=\"14.00\">cropping2d_7</text>\n<polyline fill=\"none\" stroke=\"black\" points=\"1183.12,-2347 1274.12,-2347\"/>\n<text text-anchor=\"middle\" x=\"1228.62\" y=\"-2329.7\" font-family=\"Times,serif\" font-size=\"14.00\">Cropping2D</text>\n<polyline fill=\"none\" stroke=\"black\" points=\"1274.12,-2322.5 1274.12,-2371.5\"/>\n<text text-anchor=\"middle\" x=\"1301.25\" y=\"-2354.2\" font-family=\"Times,serif\" font-size=\"14.00\">input:</text>\n<polyline fill=\"none\" stroke=\"black\" points=\"1274.12,-2347 1328.38,-2347\"/>\n<text text-anchor=\"middle\" x=\"1301.25\" y=\"-2329.7\" font-family=\"Times,serif\" font-size=\"14.00\">output:</text>\n<polyline fill=\"none\" stroke=\"black\" points=\"1328.38,-2322.5 1328.38,-2371.5\"/>\n<text text-anchor=\"middle\" x=\"1393.75\" y=\"-2342.2\" font-family=\"Times,serif\" font-size=\"14.00\">(None, 568, 568, 64)</text>\n<polyline fill=\"none\" stroke=\"black\" points=\"1459.12,-2322.5 1459.12,-2371.5\"/>\n<text text-anchor=\"middle\" x=\"1524.5\" y=\"-2342.2\" font-family=\"Times,serif\" font-size=\"14.00\">(None, 392, 392, 64)</text>\n</g>\n<!-- 140656317585808&#45;&gt;140656454424736 -->\n<g id=\"edge34\" class=\"edge\">\n<title>140656317585808-&gt;140656454424736</title>\n<path fill=\"none\" stroke=\"black\" d=\"M1221.54,-2494.64C1239.96,-2484.43 1260.94,-2471.66 1278.5,-2458 1308.79,-2434.44 1339.03,-2402.76 1359.78,-2379.45\"/>\n<polygon fill=\"black\" stroke=\"black\" points=\"1362.99,-2382.09 1366.97,-2372.27 1357.74,-2377.47 1362.99,-2382.09\"/>\n</g>\n<!-- 140657103000896 -->\n<g id=\"node5\" class=\"node\">\n<title>140657103000896</title>\n<polygon fill=\"none\" stroke=\"black\" points=\"766.25,-2322.5 766.25,-2371.5 1164.75,-2371.5 1164.75,-2322.5 766.25,-2322.5\"/>\n<text text-anchor=\"middle\" x=\"804.25\" y=\"-2354.2\" font-family=\"Times,serif\" font-size=\"14.00\">conv2d_22</text>\n<polyline fill=\"none\" stroke=\"black\" points=\"766.25,-2347 842.25,-2347\"/>\n<text text-anchor=\"middle\" x=\"804.25\" y=\"-2329.7\" font-family=\"Times,serif\" font-size=\"14.00\">Conv2D</text>\n<polyline fill=\"none\" stroke=\"black\" points=\"842.25,-2322.5 842.25,-2371.5\"/>\n<text text-anchor=\"middle\" x=\"869.38\" y=\"-2354.2\" font-family=\"Times,serif\" font-size=\"14.00\">input:</text>\n<polyline fill=\"none\" stroke=\"black\" points=\"842.25,-2347 896.5,-2347\"/>\n<text text-anchor=\"middle\" x=\"869.38\" y=\"-2329.7\" font-family=\"Times,serif\" font-size=\"14.00\">output:</text>\n<polyline fill=\"none\" stroke=\"black\" points=\"896.5,-2322.5 896.5,-2371.5\"/>\n<text text-anchor=\"middle\" x=\"961.88\" y=\"-2342.2\" font-family=\"Times,serif\" font-size=\"14.00\">(None, 284, 284, 64)</text>\n<polyline fill=\"none\" stroke=\"black\" points=\"1027.25,-2322.5 1027.25,-2371.5\"/>\n<text text-anchor=\"middle\" x=\"1096\" y=\"-2342.2\" font-family=\"Times,serif\" font-size=\"14.00\">(None, 282, 282, 128)</text>\n</g>\n<!-- 140656317593440&#45;&gt;140657103000896 -->\n<g id=\"edge4\" class=\"edge\">\n<title>140656317593440-&gt;140657103000896</title>\n<path fill=\"none\" stroke=\"black\" d=\"M1029.71,-2408.6C1019.87,-2399.32 1008.42,-2388.51 997.94,-2378.62\"/>\n<polygon fill=\"black\" stroke=\"black\" points=\"1000.83,-2376.59 991.16,-2372.27 996.03,-2381.68 1000.83,-2376.59\"/>\n</g>\n<!-- 140657103032272 -->\n<g id=\"node6\" class=\"node\">\n<title>140657103032272</title>\n<polygon fill=\"none\" stroke=\"black\" points=\"762.88,-2236.5 762.88,-2285.5 1168.12,-2285.5 1168.12,-2236.5 762.88,-2236.5\"/>\n<text text-anchor=\"middle\" x=\"800.88\" y=\"-2268.2\" font-family=\"Times,serif\" font-size=\"14.00\">conv2d_23</text>\n<polyline fill=\"none\" stroke=\"black\" points=\"762.88,-2261 838.88,-2261\"/>\n<text text-anchor=\"middle\" x=\"800.88\" y=\"-2243.7\" font-family=\"Times,serif\" font-size=\"14.00\">Conv2D</text>\n<polyline fill=\"none\" stroke=\"black\" points=\"838.88,-2236.5 838.88,-2285.5\"/>\n<text text-anchor=\"middle\" x=\"866\" y=\"-2268.2\" font-family=\"Times,serif\" font-size=\"14.00\">input:</text>\n<polyline fill=\"none\" stroke=\"black\" points=\"838.88,-2261 893.12,-2261\"/>\n<text text-anchor=\"middle\" x=\"866\" y=\"-2243.7\" font-family=\"Times,serif\" font-size=\"14.00\">output:</text>\n<polyline fill=\"none\" stroke=\"black\" points=\"893.12,-2236.5 893.12,-2285.5\"/>\n<text text-anchor=\"middle\" x=\"961.88\" y=\"-2256.2\" font-family=\"Times,serif\" font-size=\"14.00\">(None, 282, 282, 128)</text>\n<polyline fill=\"none\" stroke=\"black\" points=\"1030.62,-2236.5 1030.62,-2285.5\"/>\n<text text-anchor=\"middle\" x=\"1099.38\" y=\"-2256.2\" font-family=\"Times,serif\" font-size=\"14.00\">(None, 280, 280, 128)</text>\n</g>\n<!-- 140657103000896&#45;&gt;140657103032272 -->\n<g id=\"edge5\" class=\"edge\">\n<title>140657103000896-&gt;140657103032272</title>\n<path fill=\"none\" stroke=\"black\" d=\"M965.5,-2322.6C965.5,-2314.41 965.5,-2305.03 965.5,-2296.15\"/>\n<polygon fill=\"black\" stroke=\"black\" points=\"969,-2296.27 965.5,-2286.27 962,-2296.27 969,-2296.27\"/>\n</g>\n<!-- 140656317583984 -->\n<g id=\"node7\" class=\"node\">\n<title>140656317583984</title>\n<polygon fill=\"none\" stroke=\"black\" points=\"506.38,-2150.5 506.38,-2199.5 950.62,-2199.5 950.62,-2150.5 506.38,-2150.5\"/>\n<text text-anchor=\"middle\" x=\"563.88\" y=\"-2182.2\" font-family=\"Times,serif\" font-size=\"14.00\">max_pooling2d_5</text>\n<polyline fill=\"none\" stroke=\"black\" points=\"506.38,-2175 621.38,-2175\"/>\n<text text-anchor=\"middle\" x=\"563.88\" y=\"-2157.7\" font-family=\"Times,serif\" font-size=\"14.00\">MaxPooling2D</text>\n<polyline fill=\"none\" stroke=\"black\" points=\"621.38,-2150.5 621.38,-2199.5\"/>\n<text text-anchor=\"middle\" x=\"648.5\" y=\"-2182.2\" font-family=\"Times,serif\" font-size=\"14.00\">input:</text>\n<polyline fill=\"none\" stroke=\"black\" points=\"621.38,-2175 675.62,-2175\"/>\n<text text-anchor=\"middle\" x=\"648.5\" y=\"-2157.7\" font-family=\"Times,serif\" font-size=\"14.00\">output:</text>\n<polyline fill=\"none\" stroke=\"black\" points=\"675.62,-2150.5 675.62,-2199.5\"/>\n<text text-anchor=\"middle\" x=\"744.38\" y=\"-2170.2\" font-family=\"Times,serif\" font-size=\"14.00\">(None, 280, 280, 128)</text>\n<polyline fill=\"none\" stroke=\"black\" points=\"813.12,-2150.5 813.12,-2199.5\"/>\n<text text-anchor=\"middle\" x=\"881.88\" y=\"-2170.2\" font-family=\"Times,serif\" font-size=\"14.00\">(None, 140, 140, 128)</text>\n</g>\n<!-- 140657103032272&#45;&gt;140656317583984 -->\n<g id=\"edge6\" class=\"edge\">\n<title>140657103032272-&gt;140656317583984</title>\n<path fill=\"none\" stroke=\"black\" d=\"M899.48,-2236.6C870.07,-2226.18 835.26,-2213.84 804.74,-2203.02\"/>\n<polygon fill=\"black\" stroke=\"black\" points=\"806.17,-2199.46 795.57,-2199.42 803.83,-2206.06 806.17,-2199.46\"/>\n</g>\n<!-- 140657102998064 -->\n<g id=\"node27\" class=\"node\">\n<title>140657102998064</title>\n<polygon fill=\"none\" stroke=\"black\" points=\"903.38,-2064.5 903.38,-2113.5 1323.62,-2113.5 1323.62,-2064.5 903.38,-2064.5\"/>\n<text text-anchor=\"middle\" x=\"948.88\" y=\"-2096.2\" font-family=\"Times,serif\" font-size=\"14.00\">cropping2d_6</text>\n<polyline fill=\"none\" stroke=\"black\" points=\"903.38,-2089 994.38,-2089\"/>\n<text text-anchor=\"middle\" x=\"948.88\" y=\"-2071.7\" font-family=\"Times,serif\" font-size=\"14.00\">Cropping2D</text>\n<polyline fill=\"none\" stroke=\"black\" points=\"994.38,-2064.5 994.38,-2113.5\"/>\n<text text-anchor=\"middle\" x=\"1021.5\" y=\"-2096.2\" font-family=\"Times,serif\" font-size=\"14.00\">input:</text>\n<polyline fill=\"none\" stroke=\"black\" points=\"994.38,-2089 1048.62,-2089\"/>\n<text text-anchor=\"middle\" x=\"1021.5\" y=\"-2071.7\" font-family=\"Times,serif\" font-size=\"14.00\">output:</text>\n<polyline fill=\"none\" stroke=\"black\" points=\"1048.62,-2064.5 1048.62,-2113.5\"/>\n<text text-anchor=\"middle\" x=\"1117.38\" y=\"-2084.2\" font-family=\"Times,serif\" font-size=\"14.00\">(None, 280, 280, 128)</text>\n<polyline fill=\"none\" stroke=\"black\" points=\"1186.12,-2064.5 1186.12,-2113.5\"/>\n<text text-anchor=\"middle\" x=\"1254.88\" y=\"-2084.2\" font-family=\"Times,serif\" font-size=\"14.00\">(None, 200, 200, 128)</text>\n</g>\n<!-- 140657103032272&#45;&gt;140657102998064 -->\n<g id=\"edge28\" class=\"edge\">\n<title>140657103032272-&gt;140657102998064</title>\n<path fill=\"none\" stroke=\"black\" d=\"M985.77,-2236.72C1011.82,-2206.79 1057.16,-2154.72 1086.22,-2121.33\"/>\n<polygon fill=\"black\" stroke=\"black\" points=\"1089.31,-2124.11 1093.24,-2114.27 1084.03,-2119.52 1089.31,-2124.11\"/>\n</g>\n<!-- 140656317389344 -->\n<g id=\"node8\" class=\"node\">\n<title>140656317389344</title>\n<polygon fill=\"none\" stroke=\"black\" points=\"479.88,-2064.5 479.88,-2113.5 885.12,-2113.5 885.12,-2064.5 479.88,-2064.5\"/>\n<text text-anchor=\"middle\" x=\"517.88\" y=\"-2096.2\" font-family=\"Times,serif\" font-size=\"14.00\">conv2d_24</text>\n<polyline fill=\"none\" stroke=\"black\" points=\"479.88,-2089 555.88,-2089\"/>\n<text text-anchor=\"middle\" x=\"517.88\" y=\"-2071.7\" font-family=\"Times,serif\" font-size=\"14.00\">Conv2D</text>\n<polyline fill=\"none\" stroke=\"black\" points=\"555.88,-2064.5 555.88,-2113.5\"/>\n<text text-anchor=\"middle\" x=\"583\" y=\"-2096.2\" font-family=\"Times,serif\" font-size=\"14.00\">input:</text>\n<polyline fill=\"none\" stroke=\"black\" points=\"555.88,-2089 610.12,-2089\"/>\n<text text-anchor=\"middle\" x=\"583\" y=\"-2071.7\" font-family=\"Times,serif\" font-size=\"14.00\">output:</text>\n<polyline fill=\"none\" stroke=\"black\" points=\"610.12,-2064.5 610.12,-2113.5\"/>\n<text text-anchor=\"middle\" x=\"678.88\" y=\"-2084.2\" font-family=\"Times,serif\" font-size=\"14.00\">(None, 140, 140, 128)</text>\n<polyline fill=\"none\" stroke=\"black\" points=\"747.62,-2064.5 747.62,-2113.5\"/>\n<text text-anchor=\"middle\" x=\"816.38\" y=\"-2084.2\" font-family=\"Times,serif\" font-size=\"14.00\">(None, 138, 138, 256)</text>\n</g>\n<!-- 140656317583984&#45;&gt;140656317389344 -->\n<g id=\"edge7\" class=\"edge\">\n<title>140656317583984-&gt;140656317389344</title>\n<path fill=\"none\" stroke=\"black\" d=\"M715.69,-2150.6C710.95,-2141.95 705.49,-2131.99 700.39,-2122.67\"/>\n<polygon fill=\"black\" stroke=\"black\" points=\"703.12,-2121.36 695.24,-2114.27 696.98,-2124.73 703.12,-2121.36\"/>\n</g>\n<!-- 140656037486144 -->\n<g id=\"node9\" class=\"node\">\n<title>140656037486144</title>\n<polygon fill=\"none\" stroke=\"black\" points=\"479.88,-1978.5 479.88,-2027.5 885.12,-2027.5 885.12,-1978.5 479.88,-1978.5\"/>\n<text text-anchor=\"middle\" x=\"517.88\" y=\"-2010.2\" font-family=\"Times,serif\" font-size=\"14.00\">conv2d_25</text>\n<polyline fill=\"none\" stroke=\"black\" points=\"479.88,-2003 555.88,-2003\"/>\n<text text-anchor=\"middle\" x=\"517.88\" y=\"-1985.7\" font-family=\"Times,serif\" font-size=\"14.00\">Conv2D</text>\n<polyline fill=\"none\" stroke=\"black\" points=\"555.88,-1978.5 555.88,-2027.5\"/>\n<text text-anchor=\"middle\" x=\"583\" y=\"-2010.2\" font-family=\"Times,serif\" font-size=\"14.00\">input:</text>\n<polyline fill=\"none\" stroke=\"black\" points=\"555.88,-2003 610.12,-2003\"/>\n<text text-anchor=\"middle\" x=\"583\" y=\"-1985.7\" font-family=\"Times,serif\" font-size=\"14.00\">output:</text>\n<polyline fill=\"none\" stroke=\"black\" points=\"610.12,-1978.5 610.12,-2027.5\"/>\n<text text-anchor=\"middle\" x=\"678.88\" y=\"-1998.2\" font-family=\"Times,serif\" font-size=\"14.00\">(None, 138, 138, 256)</text>\n<polyline fill=\"none\" stroke=\"black\" points=\"747.62,-1978.5 747.62,-2027.5\"/>\n<text text-anchor=\"middle\" x=\"816.38\" y=\"-1998.2\" font-family=\"Times,serif\" font-size=\"14.00\">(None, 136, 136, 256)</text>\n</g>\n<!-- 140656317389344&#45;&gt;140656037486144 -->\n<g id=\"edge8\" class=\"edge\">\n<title>140656317389344-&gt;140656037486144</title>\n<path fill=\"none\" stroke=\"black\" d=\"M682.5,-2064.6C682.5,-2056.41 682.5,-2047.03 682.5,-2038.15\"/>\n<polygon fill=\"black\" stroke=\"black\" points=\"686,-2038.27 682.5,-2028.27 679,-2038.27 686,-2038.27\"/>\n</g>\n<!-- 140656035668768 -->\n<g id=\"node10\" class=\"node\">\n<title>140656035668768</title>\n<polygon fill=\"none\" stroke=\"black\" points=\"252.12,-1892.5 252.12,-1941.5 682.88,-1941.5 682.88,-1892.5 252.12,-1892.5\"/>\n<text text-anchor=\"middle\" x=\"309.62\" y=\"-1924.2\" font-family=\"Times,serif\" font-size=\"14.00\">max_pooling2d_6</text>\n<polyline fill=\"none\" stroke=\"black\" points=\"252.12,-1917 367.12,-1917\"/>\n<text text-anchor=\"middle\" x=\"309.62\" y=\"-1899.7\" font-family=\"Times,serif\" font-size=\"14.00\">MaxPooling2D</text>\n<polyline fill=\"none\" stroke=\"black\" points=\"367.12,-1892.5 367.12,-1941.5\"/>\n<text text-anchor=\"middle\" x=\"394.25\" y=\"-1924.2\" font-family=\"Times,serif\" font-size=\"14.00\">input:</text>\n<polyline fill=\"none\" stroke=\"black\" points=\"367.12,-1917 421.38,-1917\"/>\n<text text-anchor=\"middle\" x=\"394.25\" y=\"-1899.7\" font-family=\"Times,serif\" font-size=\"14.00\">output:</text>\n<polyline fill=\"none\" stroke=\"black\" points=\"421.38,-1892.5 421.38,-1941.5\"/>\n<text text-anchor=\"middle\" x=\"490.12\" y=\"-1912.2\" font-family=\"Times,serif\" font-size=\"14.00\">(None, 136, 136, 256)</text>\n<polyline fill=\"none\" stroke=\"black\" points=\"558.88,-1892.5 558.88,-1941.5\"/>\n<text text-anchor=\"middle\" x=\"620.88\" y=\"-1912.2\" font-family=\"Times,serif\" font-size=\"14.00\">(None, 68, 68, 256)</text>\n</g>\n<!-- 140656037486144&#45;&gt;140656035668768 -->\n<g id=\"edge9\" class=\"edge\">\n<title>140656037486144-&gt;140656035668768</title>\n<path fill=\"none\" stroke=\"black\" d=\"M622.61,-1978.6C596.16,-1968.27 564.9,-1956.05 537.39,-1945.31\"/>\n<polygon fill=\"black\" stroke=\"black\" points=\"539.03,-1941.8 528.44,-1941.42 536.48,-1948.32 539.03,-1941.8\"/>\n</g>\n<!-- 140657102981248 -->\n<g id=\"node22\" class=\"node\">\n<title>140657102981248</title>\n<polygon fill=\"none\" stroke=\"black\" points=\"630.38,-1806.5 630.38,-1855.5 1050.62,-1855.5 1050.62,-1806.5 630.38,-1806.5\"/>\n<text text-anchor=\"middle\" x=\"675.88\" y=\"-1838.2\" font-family=\"Times,serif\" font-size=\"14.00\">cropping2d_5</text>\n<polyline fill=\"none\" stroke=\"black\" points=\"630.38,-1831 721.38,-1831\"/>\n<text text-anchor=\"middle\" x=\"675.88\" y=\"-1813.7\" font-family=\"Times,serif\" font-size=\"14.00\">Cropping2D</text>\n<polyline fill=\"none\" stroke=\"black\" points=\"721.38,-1806.5 721.38,-1855.5\"/>\n<text text-anchor=\"middle\" x=\"748.5\" y=\"-1838.2\" font-family=\"Times,serif\" font-size=\"14.00\">input:</text>\n<polyline fill=\"none\" stroke=\"black\" points=\"721.38,-1831 775.62,-1831\"/>\n<text text-anchor=\"middle\" x=\"748.5\" y=\"-1813.7\" font-family=\"Times,serif\" font-size=\"14.00\">output:</text>\n<polyline fill=\"none\" stroke=\"black\" points=\"775.62,-1806.5 775.62,-1855.5\"/>\n<text text-anchor=\"middle\" x=\"844.38\" y=\"-1826.2\" font-family=\"Times,serif\" font-size=\"14.00\">(None, 136, 136, 256)</text>\n<polyline fill=\"none\" stroke=\"black\" points=\"913.12,-1806.5 913.12,-1855.5\"/>\n<text text-anchor=\"middle\" x=\"981.88\" y=\"-1826.2\" font-family=\"Times,serif\" font-size=\"14.00\">(None, 104, 104, 256)</text>\n</g>\n<!-- 140656037486144&#45;&gt;140657102981248 -->\n<g id=\"edge22\" class=\"edge\">\n<title>140656037486144-&gt;140657102981248</title>\n<path fill=\"none\" stroke=\"black\" d=\"M704.14,-1978.72C732.07,-1948.66 780.76,-1896.27 811.77,-1862.91\"/>\n<polygon fill=\"black\" stroke=\"black\" points=\"813.63,-1865.98 817.87,-1856.27 808.5,-1861.21 813.63,-1865.98\"/>\n</g>\n<!-- 140657368447008 -->\n<g id=\"node11\" class=\"node\">\n<title>140657368447008</title>\n<polygon fill=\"none\" stroke=\"black\" points=\"234.38,-1806.5 234.38,-1855.5 612.62,-1855.5 612.62,-1806.5 234.38,-1806.5\"/>\n<text text-anchor=\"middle\" x=\"272.38\" y=\"-1838.2\" font-family=\"Times,serif\" font-size=\"14.00\">conv2d_26</text>\n<polyline fill=\"none\" stroke=\"black\" points=\"234.38,-1831 310.38,-1831\"/>\n<text text-anchor=\"middle\" x=\"272.38\" y=\"-1813.7\" font-family=\"Times,serif\" font-size=\"14.00\">Conv2D</text>\n<polyline fill=\"none\" stroke=\"black\" points=\"310.38,-1806.5 310.38,-1855.5\"/>\n<text text-anchor=\"middle\" x=\"337.5\" y=\"-1838.2\" font-family=\"Times,serif\" font-size=\"14.00\">input:</text>\n<polyline fill=\"none\" stroke=\"black\" points=\"310.38,-1831 364.62,-1831\"/>\n<text text-anchor=\"middle\" x=\"337.5\" y=\"-1813.7\" font-family=\"Times,serif\" font-size=\"14.00\">output:</text>\n<polyline fill=\"none\" stroke=\"black\" points=\"364.62,-1806.5 364.62,-1855.5\"/>\n<text text-anchor=\"middle\" x=\"426.62\" y=\"-1826.2\" font-family=\"Times,serif\" font-size=\"14.00\">(None, 68, 68, 256)</text>\n<polyline fill=\"none\" stroke=\"black\" points=\"488.62,-1806.5 488.62,-1855.5\"/>\n<text text-anchor=\"middle\" x=\"550.62\" y=\"-1826.2\" font-family=\"Times,serif\" font-size=\"14.00\">(None, 66, 66, 512)</text>\n</g>\n<!-- 140656035668768&#45;&gt;140657368447008 -->\n<g id=\"edge10\" class=\"edge\">\n<title>140656035668768-&gt;140657368447008</title>\n<path fill=\"none\" stroke=\"black\" d=\"M455.24,-1892.6C450.76,-1884.05 445.6,-1874.2 440.77,-1864.96\"/>\n<polygon fill=\"black\" stroke=\"black\" points=\"443.43,-1863.51 435.69,-1856.27 437.23,-1866.76 443.43,-1863.51\"/>\n</g>\n<!-- 140657102984704 -->\n<g id=\"node12\" class=\"node\">\n<title>140657102984704</title>\n<polygon fill=\"none\" stroke=\"black\" points=\"234.38,-1720.5 234.38,-1769.5 612.62,-1769.5 612.62,-1720.5 234.38,-1720.5\"/>\n<text text-anchor=\"middle\" x=\"272.38\" y=\"-1752.2\" font-family=\"Times,serif\" font-size=\"14.00\">conv2d_27</text>\n<polyline fill=\"none\" stroke=\"black\" points=\"234.38,-1745 310.38,-1745\"/>\n<text text-anchor=\"middle\" x=\"272.38\" y=\"-1727.7\" font-family=\"Times,serif\" font-size=\"14.00\">Conv2D</text>\n<polyline fill=\"none\" stroke=\"black\" points=\"310.38,-1720.5 310.38,-1769.5\"/>\n<text text-anchor=\"middle\" x=\"337.5\" y=\"-1752.2\" font-family=\"Times,serif\" font-size=\"14.00\">input:</text>\n<polyline fill=\"none\" stroke=\"black\" points=\"310.38,-1745 364.62,-1745\"/>\n<text text-anchor=\"middle\" x=\"337.5\" y=\"-1727.7\" font-family=\"Times,serif\" font-size=\"14.00\">output:</text>\n<polyline fill=\"none\" stroke=\"black\" points=\"364.62,-1720.5 364.62,-1769.5\"/>\n<text text-anchor=\"middle\" x=\"426.62\" y=\"-1740.2\" font-family=\"Times,serif\" font-size=\"14.00\">(None, 66, 66, 512)</text>\n<polyline fill=\"none\" stroke=\"black\" points=\"488.62,-1720.5 488.62,-1769.5\"/>\n<text text-anchor=\"middle\" x=\"550.62\" y=\"-1740.2\" font-family=\"Times,serif\" font-size=\"14.00\">(None, 64, 64, 512)</text>\n</g>\n<!-- 140657368447008&#45;&gt;140657102984704 -->\n<g id=\"edge11\" class=\"edge\">\n<title>140657368447008-&gt;140657102984704</title>\n<path fill=\"none\" stroke=\"black\" d=\"M423.5,-1806.6C423.5,-1798.41 423.5,-1789.03 423.5,-1780.15\"/>\n<polygon fill=\"black\" stroke=\"black\" points=\"427,-1780.27 423.5,-1770.27 420,-1780.27 427,-1780.27\"/>\n</g>\n<!-- 140657103033856 -->\n<g id=\"node13\" class=\"node\">\n<title>140657103033856</title>\n<polygon fill=\"none\" stroke=\"black\" points=\"26.88,-1634.5 26.88,-1683.5 444.12,-1683.5 444.12,-1634.5 26.88,-1634.5\"/>\n<text text-anchor=\"middle\" x=\"84.38\" y=\"-1666.2\" font-family=\"Times,serif\" font-size=\"14.00\">max_pooling2d_7</text>\n<polyline fill=\"none\" stroke=\"black\" points=\"26.88,-1659 141.88,-1659\"/>\n<text text-anchor=\"middle\" x=\"84.38\" y=\"-1641.7\" font-family=\"Times,serif\" font-size=\"14.00\">MaxPooling2D</text>\n<polyline fill=\"none\" stroke=\"black\" points=\"141.88,-1634.5 141.88,-1683.5\"/>\n<text text-anchor=\"middle\" x=\"169\" y=\"-1666.2\" font-family=\"Times,serif\" font-size=\"14.00\">input:</text>\n<polyline fill=\"none\" stroke=\"black\" points=\"141.88,-1659 196.12,-1659\"/>\n<text text-anchor=\"middle\" x=\"169\" y=\"-1641.7\" font-family=\"Times,serif\" font-size=\"14.00\">output:</text>\n<polyline fill=\"none\" stroke=\"black\" points=\"196.12,-1634.5 196.12,-1683.5\"/>\n<text text-anchor=\"middle\" x=\"258.12\" y=\"-1654.2\" font-family=\"Times,serif\" font-size=\"14.00\">(None, 64, 64, 512)</text>\n<polyline fill=\"none\" stroke=\"black\" points=\"320.12,-1634.5 320.12,-1683.5\"/>\n<text text-anchor=\"middle\" x=\"382.12\" y=\"-1654.2\" font-family=\"Times,serif\" font-size=\"14.00\">(None, 32, 32, 512)</text>\n</g>\n<!-- 140657102984704&#45;&gt;140657103033856 -->\n<g id=\"edge12\" class=\"edge\">\n<title>140657102984704-&gt;140657103033856</title>\n<path fill=\"none\" stroke=\"black\" d=\"M371.13,-1720.6C348.41,-1710.45 321.62,-1698.48 297.88,-1687.87\"/>\n<polygon fill=\"black\" stroke=\"black\" points=\"299.47,-1684.3 288.91,-1683.42 296.62,-1690.69 299.47,-1684.3\"/>\n</g>\n<!-- 140656037486384 -->\n<g id=\"node17\" class=\"node\">\n<title>140656037486384</title>\n<polygon fill=\"none\" stroke=\"black\" points=\"402.88,-1548.5 402.88,-1597.5 796.12,-1597.5 796.12,-1548.5 402.88,-1548.5\"/>\n<text text-anchor=\"middle\" x=\"448.38\" y=\"-1580.2\" font-family=\"Times,serif\" font-size=\"14.00\">cropping2d_4</text>\n<polyline fill=\"none\" stroke=\"black\" points=\"402.88,-1573 493.88,-1573\"/>\n<text text-anchor=\"middle\" x=\"448.38\" y=\"-1555.7\" font-family=\"Times,serif\" font-size=\"14.00\">Cropping2D</text>\n<polyline fill=\"none\" stroke=\"black\" points=\"493.88,-1548.5 493.88,-1597.5\"/>\n<text text-anchor=\"middle\" x=\"521\" y=\"-1580.2\" font-family=\"Times,serif\" font-size=\"14.00\">input:</text>\n<polyline fill=\"none\" stroke=\"black\" points=\"493.88,-1573 548.12,-1573\"/>\n<text text-anchor=\"middle\" x=\"521\" y=\"-1555.7\" font-family=\"Times,serif\" font-size=\"14.00\">output:</text>\n<polyline fill=\"none\" stroke=\"black\" points=\"548.12,-1548.5 548.12,-1597.5\"/>\n<text text-anchor=\"middle\" x=\"610.12\" y=\"-1568.2\" font-family=\"Times,serif\" font-size=\"14.00\">(None, 64, 64, 512)</text>\n<polyline fill=\"none\" stroke=\"black\" points=\"672.12,-1548.5 672.12,-1597.5\"/>\n<text text-anchor=\"middle\" x=\"734.12\" y=\"-1568.2\" font-family=\"Times,serif\" font-size=\"14.00\">(None, 56, 56, 512)</text>\n</g>\n<!-- 140657102984704&#45;&gt;140656037486384 -->\n<g id=\"edge16\" class=\"edge\">\n<title>140657102984704-&gt;140656037486384</title>\n<path fill=\"none\" stroke=\"black\" d=\"M447.6,-1720.72C478.72,-1690.66 532.96,-1638.27 567.5,-1604.91\"/>\n<polygon fill=\"black\" stroke=\"black\" points=\"569.65,-1607.74 574.41,-1598.27 564.78,-1602.7 569.65,-1607.74\"/>\n</g>\n<!-- 140657103908640 -->\n<g id=\"node14\" class=\"node\">\n<title>140657103908640</title>\n<polygon fill=\"none\" stroke=\"black\" points=\"0,-1548.5 0,-1597.5 385,-1597.5 385,-1548.5 0,-1548.5\"/>\n<text text-anchor=\"middle\" x=\"38\" y=\"-1580.2\" font-family=\"Times,serif\" font-size=\"14.00\">conv2d_28</text>\n<polyline fill=\"none\" stroke=\"black\" points=\"0,-1573 76,-1573\"/>\n<text text-anchor=\"middle\" x=\"38\" y=\"-1555.7\" font-family=\"Times,serif\" font-size=\"14.00\">Conv2D</text>\n<polyline fill=\"none\" stroke=\"black\" points=\"76,-1548.5 76,-1597.5\"/>\n<text text-anchor=\"middle\" x=\"103.12\" y=\"-1580.2\" font-family=\"Times,serif\" font-size=\"14.00\">input:</text>\n<polyline fill=\"none\" stroke=\"black\" points=\"76,-1573 130.25,-1573\"/>\n<text text-anchor=\"middle\" x=\"103.12\" y=\"-1555.7\" font-family=\"Times,serif\" font-size=\"14.00\">output:</text>\n<polyline fill=\"none\" stroke=\"black\" points=\"130.25,-1548.5 130.25,-1597.5\"/>\n<text text-anchor=\"middle\" x=\"192.25\" y=\"-1568.2\" font-family=\"Times,serif\" font-size=\"14.00\">(None, 32, 32, 512)</text>\n<polyline fill=\"none\" stroke=\"black\" points=\"254.25,-1548.5 254.25,-1597.5\"/>\n<text text-anchor=\"middle\" x=\"319.62\" y=\"-1568.2\" font-family=\"Times,serif\" font-size=\"14.00\">(None, 30, 30, 1024)</text>\n</g>\n<!-- 140657103033856&#45;&gt;140657103908640 -->\n<g id=\"edge13\" class=\"edge\">\n<title>140657103033856-&gt;140657103908640</title>\n<path fill=\"none\" stroke=\"black\" d=\"M223.52,-1634.6C219.14,-1626.05 214.1,-1616.2 209.37,-1606.96\"/>\n<polygon fill=\"black\" stroke=\"black\" points=\"212.09,-1605.58 204.41,-1598.27 205.85,-1608.77 212.09,-1605.58\"/>\n</g>\n<!-- 140657103898608 -->\n<g id=\"node15\" class=\"node\">\n<title>140657103898608</title>\n<polygon fill=\"none\" stroke=\"black\" points=\"60.62,-1462.5 60.62,-1511.5 452.38,-1511.5 452.38,-1462.5 60.62,-1462.5\"/>\n<text text-anchor=\"middle\" x=\"98.62\" y=\"-1494.2\" font-family=\"Times,serif\" font-size=\"14.00\">conv2d_29</text>\n<polyline fill=\"none\" stroke=\"black\" points=\"60.62,-1487 136.62,-1487\"/>\n<text text-anchor=\"middle\" x=\"98.62\" y=\"-1469.7\" font-family=\"Times,serif\" font-size=\"14.00\">Conv2D</text>\n<polyline fill=\"none\" stroke=\"black\" points=\"136.62,-1462.5 136.62,-1511.5\"/>\n<text text-anchor=\"middle\" x=\"163.75\" y=\"-1494.2\" font-family=\"Times,serif\" font-size=\"14.00\">input:</text>\n<polyline fill=\"none\" stroke=\"black\" points=\"136.62,-1487 190.88,-1487\"/>\n<text text-anchor=\"middle\" x=\"163.75\" y=\"-1469.7\" font-family=\"Times,serif\" font-size=\"14.00\">output:</text>\n<polyline fill=\"none\" stroke=\"black\" points=\"190.88,-1462.5 190.88,-1511.5\"/>\n<text text-anchor=\"middle\" x=\"256.25\" y=\"-1482.2\" font-family=\"Times,serif\" font-size=\"14.00\">(None, 30, 30, 1024)</text>\n<polyline fill=\"none\" stroke=\"black\" points=\"321.62,-1462.5 321.62,-1511.5\"/>\n<text text-anchor=\"middle\" x=\"387\" y=\"-1482.2\" font-family=\"Times,serif\" font-size=\"14.00\">(None, 28, 28, 1024)</text>\n</g>\n<!-- 140657103908640&#45;&gt;140657103898608 -->\n<g id=\"edge14\" class=\"edge\">\n<title>140657103908640-&gt;140657103898608</title>\n<path fill=\"none\" stroke=\"black\" d=\"M210.33,-1548.6C217.12,-1539.68 224.99,-1529.36 232.28,-1519.79\"/>\n<polygon fill=\"black\" stroke=\"black\" points=\"235.49,-1522.35 238.77,-1512.27 229.92,-1518.11 235.49,-1522.35\"/>\n</g>\n<!-- 140657664956096 -->\n<g id=\"node16\" class=\"node\">\n<title>140657664956096</title>\n<polygon fill=\"none\" stroke=\"black\" points=\"78.5,-1376.5 78.5,-1425.5 514.5,-1425.5 514.5,-1376.5 78.5,-1376.5\"/>\n<text text-anchor=\"middle\" x=\"142\" y=\"-1408.2\" font-family=\"Times,serif\" font-size=\"14.00\">conv2d_transpose_4</text>\n<polyline fill=\"none\" stroke=\"black\" points=\"78.5,-1401 205.5,-1401\"/>\n<text text-anchor=\"middle\" x=\"142\" y=\"-1383.7\" font-family=\"Times,serif\" font-size=\"14.00\">Conv2DTranspose</text>\n<polyline fill=\"none\" stroke=\"black\" points=\"205.5,-1376.5 205.5,-1425.5\"/>\n<text text-anchor=\"middle\" x=\"232.62\" y=\"-1408.2\" font-family=\"Times,serif\" font-size=\"14.00\">input:</text>\n<polyline fill=\"none\" stroke=\"black\" points=\"205.5,-1401 259.75,-1401\"/>\n<text text-anchor=\"middle\" x=\"232.62\" y=\"-1383.7\" font-family=\"Times,serif\" font-size=\"14.00\">output:</text>\n<polyline fill=\"none\" stroke=\"black\" points=\"259.75,-1376.5 259.75,-1425.5\"/>\n<text text-anchor=\"middle\" x=\"325.12\" y=\"-1396.2\" font-family=\"Times,serif\" font-size=\"14.00\">(None, 28, 28, 1024)</text>\n<polyline fill=\"none\" stroke=\"black\" points=\"390.5,-1376.5 390.5,-1425.5\"/>\n<text text-anchor=\"middle\" x=\"452.5\" y=\"-1396.2\" font-family=\"Times,serif\" font-size=\"14.00\">(None, 56, 56, 512)</text>\n</g>\n<!-- 140657103898608&#45;&gt;140657664956096 -->\n<g id=\"edge15\" class=\"edge\">\n<title>140657103898608-&gt;140657664956096</title>\n<path fill=\"none\" stroke=\"black\" d=\"M267.64,-1462.6C271.72,-1454.05 276.41,-1444.2 280.8,-1434.96\"/>\n<polygon fill=\"black\" stroke=\"black\" points=\"284.28,-1436.81 285.42,-1426.27 277.96,-1433.8 284.28,-1436.81\"/>\n</g>\n<!-- 140656035634800 -->\n<g id=\"node18\" class=\"node\">\n<title>140656035634800</title>\n<polygon fill=\"none\" stroke=\"black\" points=\"286.12,-1290.5 286.12,-1339.5 812.88,-1339.5 812.88,-1290.5 286.12,-1290.5\"/>\n<text text-anchor=\"middle\" x=\"332.75\" y=\"-1322.2\" font-family=\"Times,serif\" font-size=\"14.00\">concatenate_4</text>\n<polyline fill=\"none\" stroke=\"black\" points=\"286.12,-1315 379.38,-1315\"/>\n<text text-anchor=\"middle\" x=\"332.75\" y=\"-1297.7\" font-family=\"Times,serif\" font-size=\"14.00\">Concatenate</text>\n<polyline fill=\"none\" stroke=\"black\" points=\"379.38,-1290.5 379.38,-1339.5\"/>\n<text text-anchor=\"middle\" x=\"406.5\" y=\"-1322.2\" font-family=\"Times,serif\" font-size=\"14.00\">input:</text>\n<polyline fill=\"none\" stroke=\"black\" points=\"379.38,-1315 433.62,-1315\"/>\n<text text-anchor=\"middle\" x=\"406.5\" y=\"-1297.7\" font-family=\"Times,serif\" font-size=\"14.00\">output:</text>\n<polyline fill=\"none\" stroke=\"black\" points=\"433.62,-1290.5 433.62,-1339.5\"/>\n<text text-anchor=\"middle\" x=\"557.88\" y=\"-1310.2\" font-family=\"Times,serif\" font-size=\"14.00\">[(None, 56, 56, 512), (None, 56, 56, 512)]</text>\n<polyline fill=\"none\" stroke=\"black\" points=\"682.12,-1290.5 682.12,-1339.5\"/>\n<text text-anchor=\"middle\" x=\"747.5\" y=\"-1310.2\" font-family=\"Times,serif\" font-size=\"14.00\">(None, 56, 56, 1024)</text>\n</g>\n<!-- 140657664956096&#45;&gt;140656035634800 -->\n<g id=\"edge17\" class=\"edge\">\n<title>140657664956096-&gt;140656035634800</title>\n<path fill=\"none\" stroke=\"black\" d=\"M366.97,-1376.6C398.51,-1366.13 435.86,-1353.73 468.53,-1342.88\"/>\n<polygon fill=\"black\" stroke=\"black\" points=\"469.58,-1345.89 477.96,-1339.42 467.37,-1339.25 469.58,-1345.89\"/>\n</g>\n<!-- 140656037486384&#45;&gt;140656035634800 -->\n<g id=\"edge18\" class=\"edge\">\n<title>140656037486384-&gt;140656035634800</title>\n<path fill=\"none\" stroke=\"black\" d=\"M594.97,-1548.83C586.11,-1503.44 566.42,-1402.65 556.1,-1349.81\"/>\n<polygon fill=\"black\" stroke=\"black\" points=\"559.4,-1349.45 554.05,-1340.3 552.53,-1350.79 559.4,-1349.45\"/>\n</g>\n<!-- 140657103234016 -->\n<g id=\"node19\" class=\"node\">\n<title>140657103234016</title>\n<polygon fill=\"none\" stroke=\"black\" points=\"378,-1204.5 378,-1253.5 763,-1253.5 763,-1204.5 378,-1204.5\"/>\n<text text-anchor=\"middle\" x=\"416\" y=\"-1236.2\" font-family=\"Times,serif\" font-size=\"14.00\">conv2d_30</text>\n<polyline fill=\"none\" stroke=\"black\" points=\"378,-1229 454,-1229\"/>\n<text text-anchor=\"middle\" x=\"416\" y=\"-1211.7\" font-family=\"Times,serif\" font-size=\"14.00\">Conv2D</text>\n<polyline fill=\"none\" stroke=\"black\" points=\"454,-1204.5 454,-1253.5\"/>\n<text text-anchor=\"middle\" x=\"481.12\" y=\"-1236.2\" font-family=\"Times,serif\" font-size=\"14.00\">input:</text>\n<polyline fill=\"none\" stroke=\"black\" points=\"454,-1229 508.25,-1229\"/>\n<text text-anchor=\"middle\" x=\"481.12\" y=\"-1211.7\" font-family=\"Times,serif\" font-size=\"14.00\">output:</text>\n<polyline fill=\"none\" stroke=\"black\" points=\"508.25,-1204.5 508.25,-1253.5\"/>\n<text text-anchor=\"middle\" x=\"573.62\" y=\"-1224.2\" font-family=\"Times,serif\" font-size=\"14.00\">(None, 56, 56, 1024)</text>\n<polyline fill=\"none\" stroke=\"black\" points=\"639,-1204.5 639,-1253.5\"/>\n<text text-anchor=\"middle\" x=\"701\" y=\"-1224.2\" font-family=\"Times,serif\" font-size=\"14.00\">(None, 54, 54, 512)</text>\n</g>\n<!-- 140656035634800&#45;&gt;140657103234016 -->\n<g id=\"edge19\" class=\"edge\">\n<title>140656035634800-&gt;140657103234016</title>\n<path fill=\"none\" stroke=\"black\" d=\"M555.35,-1290.6C557.42,-1282.32 559.79,-1272.83 562.04,-1263.85\"/>\n<polygon fill=\"black\" stroke=\"black\" points=\"565.65,-1264.82 564.68,-1254.27 558.86,-1263.13 565.65,-1264.82\"/>\n</g>\n<!-- 140656035204496 -->\n<g id=\"node20\" class=\"node\">\n<title>140656035204496</title>\n<polygon fill=\"none\" stroke=\"black\" points=\"391.38,-1118.5 391.38,-1167.5 769.62,-1167.5 769.62,-1118.5 391.38,-1118.5\"/>\n<text text-anchor=\"middle\" x=\"429.38\" y=\"-1150.2\" font-family=\"Times,serif\" font-size=\"14.00\">conv2d_31</text>\n<polyline fill=\"none\" stroke=\"black\" points=\"391.38,-1143 467.38,-1143\"/>\n<text text-anchor=\"middle\" x=\"429.38\" y=\"-1125.7\" font-family=\"Times,serif\" font-size=\"14.00\">Conv2D</text>\n<polyline fill=\"none\" stroke=\"black\" points=\"467.38,-1118.5 467.38,-1167.5\"/>\n<text text-anchor=\"middle\" x=\"494.5\" y=\"-1150.2\" font-family=\"Times,serif\" font-size=\"14.00\">input:</text>\n<polyline fill=\"none\" stroke=\"black\" points=\"467.38,-1143 521.62,-1143\"/>\n<text text-anchor=\"middle\" x=\"494.5\" y=\"-1125.7\" font-family=\"Times,serif\" font-size=\"14.00\">output:</text>\n<polyline fill=\"none\" stroke=\"black\" points=\"521.62,-1118.5 521.62,-1167.5\"/>\n<text text-anchor=\"middle\" x=\"583.62\" y=\"-1138.2\" font-family=\"Times,serif\" font-size=\"14.00\">(None, 54, 54, 512)</text>\n<polyline fill=\"none\" stroke=\"black\" points=\"645.62,-1118.5 645.62,-1167.5\"/>\n<text text-anchor=\"middle\" x=\"707.62\" y=\"-1138.2\" font-family=\"Times,serif\" font-size=\"14.00\">(None, 52, 52, 512)</text>\n</g>\n<!-- 140657103234016&#45;&gt;140656035204496 -->\n<g id=\"edge20\" class=\"edge\">\n<title>140657103234016-&gt;140656035204496</title>\n<path fill=\"none\" stroke=\"black\" d=\"M573.29,-1204.6C574.26,-1196.41 575.38,-1187.03 576.44,-1178.15\"/>\n<polygon fill=\"black\" stroke=\"black\" points=\"580.02,-1178.62 577.73,-1168.27 573.07,-1177.79 580.02,-1178.62\"/>\n</g>\n<!-- 140656316741616 -->\n<g id=\"node21\" class=\"node\">\n<title>140656316741616</title>\n<polygon fill=\"none\" stroke=\"black\" points=\"365.12,-1032.5 365.12,-1081.5 807.88,-1081.5 807.88,-1032.5 365.12,-1032.5\"/>\n<text text-anchor=\"middle\" x=\"428.62\" y=\"-1064.2\" font-family=\"Times,serif\" font-size=\"14.00\">conv2d_transpose_5</text>\n<polyline fill=\"none\" stroke=\"black\" points=\"365.12,-1057 492.12,-1057\"/>\n<text text-anchor=\"middle\" x=\"428.62\" y=\"-1039.7\" font-family=\"Times,serif\" font-size=\"14.00\">Conv2DTranspose</text>\n<polyline fill=\"none\" stroke=\"black\" points=\"492.12,-1032.5 492.12,-1081.5\"/>\n<text text-anchor=\"middle\" x=\"519.25\" y=\"-1064.2\" font-family=\"Times,serif\" font-size=\"14.00\">input:</text>\n<polyline fill=\"none\" stroke=\"black\" points=\"492.12,-1057 546.38,-1057\"/>\n<text text-anchor=\"middle\" x=\"519.25\" y=\"-1039.7\" font-family=\"Times,serif\" font-size=\"14.00\">output:</text>\n<polyline fill=\"none\" stroke=\"black\" points=\"546.38,-1032.5 546.38,-1081.5\"/>\n<text text-anchor=\"middle\" x=\"608.38\" y=\"-1052.2\" font-family=\"Times,serif\" font-size=\"14.00\">(None, 52, 52, 512)</text>\n<polyline fill=\"none\" stroke=\"black\" points=\"670.38,-1032.5 670.38,-1081.5\"/>\n<text text-anchor=\"middle\" x=\"739.12\" y=\"-1052.2\" font-family=\"Times,serif\" font-size=\"14.00\">(None, 104, 104, 256)</text>\n</g>\n<!-- 140656035204496&#45;&gt;140656316741616 -->\n<g id=\"edge21\" class=\"edge\">\n<title>140656035204496-&gt;140656316741616</title>\n<path fill=\"none\" stroke=\"black\" d=\"M582.17,-1118.6C582.76,-1110.41 583.43,-1101.03 584.06,-1092.15\"/>\n<polygon fill=\"black\" stroke=\"black\" points=\"587.62,-1092.5 584.84,-1082.27 580.63,-1092 587.62,-1092.5\"/>\n</g>\n<!-- 140656317338320 -->\n<g id=\"node23\" class=\"node\">\n<title>140656317338320</title>\n<polygon fill=\"none\" stroke=\"black\" points=\"525.25,-946.5 525.25,-995.5 1085.75,-995.5 1085.75,-946.5 525.25,-946.5\"/>\n<text text-anchor=\"middle\" x=\"571.88\" y=\"-978.2\" font-family=\"Times,serif\" font-size=\"14.00\">concatenate_5</text>\n<polyline fill=\"none\" stroke=\"black\" points=\"525.25,-971 618.5,-971\"/>\n<text text-anchor=\"middle\" x=\"571.88\" y=\"-953.7\" font-family=\"Times,serif\" font-size=\"14.00\">Concatenate</text>\n<polyline fill=\"none\" stroke=\"black\" points=\"618.5,-946.5 618.5,-995.5\"/>\n<text text-anchor=\"middle\" x=\"645.62\" y=\"-978.2\" font-family=\"Times,serif\" font-size=\"14.00\">input:</text>\n<polyline fill=\"none\" stroke=\"black\" points=\"618.5,-971 672.75,-971\"/>\n<text text-anchor=\"middle\" x=\"645.62\" y=\"-953.7\" font-family=\"Times,serif\" font-size=\"14.00\">output:</text>\n<polyline fill=\"none\" stroke=\"black\" points=\"672.75,-946.5 672.75,-995.5\"/>\n<text text-anchor=\"middle\" x=\"810.5\" y=\"-966.2\" font-family=\"Times,serif\" font-size=\"14.00\">[(None, 104, 104, 256), (None, 104, 104, 256)]</text>\n<polyline fill=\"none\" stroke=\"black\" points=\"948.25,-946.5 948.25,-995.5\"/>\n<text text-anchor=\"middle\" x=\"1017\" y=\"-966.2\" font-family=\"Times,serif\" font-size=\"14.00\">(None, 104, 104, 512)</text>\n</g>\n<!-- 140656316741616&#45;&gt;140656317338320 -->\n<g id=\"edge23\" class=\"edge\">\n<title>140656316741616-&gt;140656317338320</title>\n<path fill=\"none\" stroke=\"black\" d=\"M647.5,-1032.6C674.44,-1022.27 706.29,-1010.05 734.31,-999.31\"/>\n<polygon fill=\"black\" stroke=\"black\" points=\"735.36,-1002.27 743.44,-995.42 732.85,-995.73 735.36,-1002.27\"/>\n</g>\n<!-- 140657102981248&#45;&gt;140656317338320 -->\n<g id=\"edge24\" class=\"edge\">\n<title>140657102981248-&gt;140656317338320</title>\n<path fill=\"none\" stroke=\"black\" d=\"M840.5,-1806.63C840.5,-1773.86 840.5,-1712.39 840.5,-1660 840.5,-1660 840.5,-1660 840.5,-1142 840.5,-1093.87 826.88,-1039.63 816.63,-1005.63\"/>\n<polygon fill=\"black\" stroke=\"black\" points=\"819.74,-1004.86 813.44,-996.34 813.06,-1006.93 819.74,-1004.86\"/>\n</g>\n<!-- 140656317337120 -->\n<g id=\"node24\" class=\"node\">\n<title>140656317337120</title>\n<polygon fill=\"none\" stroke=\"black\" points=\"609.88,-860.5 609.88,-909.5 1015.12,-909.5 1015.12,-860.5 609.88,-860.5\"/>\n<text text-anchor=\"middle\" x=\"647.88\" y=\"-892.2\" font-family=\"Times,serif\" font-size=\"14.00\">conv2d_32</text>\n<polyline fill=\"none\" stroke=\"black\" points=\"609.88,-885 685.88,-885\"/>\n<text text-anchor=\"middle\" x=\"647.88\" y=\"-867.7\" font-family=\"Times,serif\" font-size=\"14.00\">Conv2D</text>\n<polyline fill=\"none\" stroke=\"black\" points=\"685.88,-860.5 685.88,-909.5\"/>\n<text text-anchor=\"middle\" x=\"713\" y=\"-892.2\" font-family=\"Times,serif\" font-size=\"14.00\">input:</text>\n<polyline fill=\"none\" stroke=\"black\" points=\"685.88,-885 740.12,-885\"/>\n<text text-anchor=\"middle\" x=\"713\" y=\"-867.7\" font-family=\"Times,serif\" font-size=\"14.00\">output:</text>\n<polyline fill=\"none\" stroke=\"black\" points=\"740.12,-860.5 740.12,-909.5\"/>\n<text text-anchor=\"middle\" x=\"808.88\" y=\"-880.2\" font-family=\"Times,serif\" font-size=\"14.00\">(None, 104, 104, 512)</text>\n<polyline fill=\"none\" stroke=\"black\" points=\"877.62,-860.5 877.62,-909.5\"/>\n<text text-anchor=\"middle\" x=\"946.38\" y=\"-880.2\" font-family=\"Times,serif\" font-size=\"14.00\">(None, 102, 102, 256)</text>\n</g>\n<!-- 140656317338320&#45;&gt;140656317337120 -->\n<g id=\"edge25\" class=\"edge\">\n<title>140656317338320-&gt;140656317337120</title>\n<path fill=\"none\" stroke=\"black\" d=\"M807.45,-946.6C808.13,-938.41 808.91,-929.03 809.65,-920.15\"/>\n<polygon fill=\"black\" stroke=\"black\" points=\"813.22,-920.53 810.56,-910.27 806.24,-919.95 813.22,-920.53\"/>\n</g>\n<!-- 140656316815376 -->\n<g id=\"node25\" class=\"node\">\n<title>140656316815376</title>\n<polygon fill=\"none\" stroke=\"black\" points=\"622.88,-774.5 622.88,-823.5 1028.12,-823.5 1028.12,-774.5 622.88,-774.5\"/>\n<text text-anchor=\"middle\" x=\"660.88\" y=\"-806.2\" font-family=\"Times,serif\" font-size=\"14.00\">conv2d_33</text>\n<polyline fill=\"none\" stroke=\"black\" points=\"622.88,-799 698.88,-799\"/>\n<text text-anchor=\"middle\" x=\"660.88\" y=\"-781.7\" font-family=\"Times,serif\" font-size=\"14.00\">Conv2D</text>\n<polyline fill=\"none\" stroke=\"black\" points=\"698.88,-774.5 698.88,-823.5\"/>\n<text text-anchor=\"middle\" x=\"726\" y=\"-806.2\" font-family=\"Times,serif\" font-size=\"14.00\">input:</text>\n<polyline fill=\"none\" stroke=\"black\" points=\"698.88,-799 753.12,-799\"/>\n<text text-anchor=\"middle\" x=\"726\" y=\"-781.7\" font-family=\"Times,serif\" font-size=\"14.00\">output:</text>\n<polyline fill=\"none\" stroke=\"black\" points=\"753.12,-774.5 753.12,-823.5\"/>\n<text text-anchor=\"middle\" x=\"821.88\" y=\"-794.2\" font-family=\"Times,serif\" font-size=\"14.00\">(None, 102, 102, 256)</text>\n<polyline fill=\"none\" stroke=\"black\" points=\"890.62,-774.5 890.62,-823.5\"/>\n<text text-anchor=\"middle\" x=\"959.38\" y=\"-794.2\" font-family=\"Times,serif\" font-size=\"14.00\">(None, 100, 100, 256)</text>\n</g>\n<!-- 140656317337120&#45;&gt;140656316815376 -->\n<g id=\"edge26\" class=\"edge\">\n<title>140656317337120-&gt;140656316815376</title>\n<path fill=\"none\" stroke=\"black\" d=\"M816.12,-860.6C817.4,-852.32 818.87,-842.83 820.26,-833.85\"/>\n<polygon fill=\"black\" stroke=\"black\" points=\"823.83,-834.69 821.9,-824.27 816.91,-833.62 823.83,-834.69\"/>\n</g>\n<!-- 140656317214832 -->\n<g id=\"node26\" class=\"node\">\n<title>140656317214832</title>\n<polygon fill=\"none\" stroke=\"black\" points=\"603.38,-688.5 603.38,-737.5 1059.62,-737.5 1059.62,-688.5 603.38,-688.5\"/>\n<text text-anchor=\"middle\" x=\"666.88\" y=\"-720.2\" font-family=\"Times,serif\" font-size=\"14.00\">conv2d_transpose_6</text>\n<polyline fill=\"none\" stroke=\"black\" points=\"603.38,-713 730.38,-713\"/>\n<text text-anchor=\"middle\" x=\"666.88\" y=\"-695.7\" font-family=\"Times,serif\" font-size=\"14.00\">Conv2DTranspose</text>\n<polyline fill=\"none\" stroke=\"black\" points=\"730.38,-688.5 730.38,-737.5\"/>\n<text text-anchor=\"middle\" x=\"757.5\" y=\"-720.2\" font-family=\"Times,serif\" font-size=\"14.00\">input:</text>\n<polyline fill=\"none\" stroke=\"black\" points=\"730.38,-713 784.62,-713\"/>\n<text text-anchor=\"middle\" x=\"757.5\" y=\"-695.7\" font-family=\"Times,serif\" font-size=\"14.00\">output:</text>\n<polyline fill=\"none\" stroke=\"black\" points=\"784.62,-688.5 784.62,-737.5\"/>\n<text text-anchor=\"middle\" x=\"853.38\" y=\"-708.2\" font-family=\"Times,serif\" font-size=\"14.00\">(None, 100, 100, 256)</text>\n<polyline fill=\"none\" stroke=\"black\" points=\"922.12,-688.5 922.12,-737.5\"/>\n<text text-anchor=\"middle\" x=\"990.88\" y=\"-708.2\" font-family=\"Times,serif\" font-size=\"14.00\">(None, 200, 200, 128)</text>\n</g>\n<!-- 140656316815376&#45;&gt;140656317214832 -->\n<g id=\"edge27\" class=\"edge\">\n<title>140656316815376-&gt;140656317214832</title>\n<path fill=\"none\" stroke=\"black\" d=\"M827.17,-774.6C827.76,-766.41 828.43,-757.03 829.06,-748.15\"/>\n<polygon fill=\"black\" stroke=\"black\" points=\"832.62,-748.5 829.84,-738.27 825.63,-748 832.62,-748.5\"/>\n</g>\n<!-- 140656579288688 -->\n<g id=\"node28\" class=\"node\">\n<title>140656579288688</title>\n<polygon fill=\"none\" stroke=\"black\" points=\"798.25,-602.5 798.25,-651.5 1358.75,-651.5 1358.75,-602.5 798.25,-602.5\"/>\n<text text-anchor=\"middle\" x=\"844.88\" y=\"-634.2\" font-family=\"Times,serif\" font-size=\"14.00\">concatenate_6</text>\n<polyline fill=\"none\" stroke=\"black\" points=\"798.25,-627 891.5,-627\"/>\n<text text-anchor=\"middle\" x=\"844.88\" y=\"-609.7\" font-family=\"Times,serif\" font-size=\"14.00\">Concatenate</text>\n<polyline fill=\"none\" stroke=\"black\" points=\"891.5,-602.5 891.5,-651.5\"/>\n<text text-anchor=\"middle\" x=\"918.62\" y=\"-634.2\" font-family=\"Times,serif\" font-size=\"14.00\">input:</text>\n<polyline fill=\"none\" stroke=\"black\" points=\"891.5,-627 945.75,-627\"/>\n<text text-anchor=\"middle\" x=\"918.62\" y=\"-609.7\" font-family=\"Times,serif\" font-size=\"14.00\">output:</text>\n<polyline fill=\"none\" stroke=\"black\" points=\"945.75,-602.5 945.75,-651.5\"/>\n<text text-anchor=\"middle\" x=\"1083.5\" y=\"-622.2\" font-family=\"Times,serif\" font-size=\"14.00\">[(None, 200, 200, 128), (None, 200, 200, 128)]</text>\n<polyline fill=\"none\" stroke=\"black\" points=\"1221.25,-602.5 1221.25,-651.5\"/>\n<text text-anchor=\"middle\" x=\"1290\" y=\"-622.2\" font-family=\"Times,serif\" font-size=\"14.00\">(None, 200, 200, 256)</text>\n</g>\n<!-- 140656317214832&#45;&gt;140656579288688 -->\n<g id=\"edge29\" class=\"edge\">\n<title>140656317214832-&gt;140656579288688</title>\n<path fill=\"none\" stroke=\"black\" d=\"M900.3,-688.6C931.09,-678.13 967.55,-665.73 999.45,-654.88\"/>\n<polygon fill=\"black\" stroke=\"black\" points=\"1000.3,-657.95 1008.64,-651.42 998.04,-651.32 1000.3,-657.95\"/>\n</g>\n<!-- 140657102998064&#45;&gt;140656579288688 -->\n<g id=\"edge30\" class=\"edge\">\n<title>140657102998064-&gt;140656579288688</title>\n<path fill=\"none\" stroke=\"black\" d=\"M1113.5,-2064.63C1113.5,-2031.86 1113.5,-1970.39 1113.5,-1918 1113.5,-1918 1113.5,-1918 1113.5,-798 1113.5,-749.87 1099.88,-695.63 1089.63,-661.63\"/>\n<polygon fill=\"black\" stroke=\"black\" points=\"1092.74,-660.86 1086.44,-652.34 1086.06,-662.93 1092.74,-660.86\"/>\n</g>\n<!-- 140656454343392 -->\n<g id=\"node29\" class=\"node\">\n<title>140656454343392</title>\n<polygon fill=\"none\" stroke=\"black\" points=\"882.88,-516.5 882.88,-565.5 1288.12,-565.5 1288.12,-516.5 882.88,-516.5\"/>\n<text text-anchor=\"middle\" x=\"920.88\" y=\"-548.2\" font-family=\"Times,serif\" font-size=\"14.00\">conv2d_34</text>\n<polyline fill=\"none\" stroke=\"black\" points=\"882.88,-541 958.88,-541\"/>\n<text text-anchor=\"middle\" x=\"920.88\" y=\"-523.7\" font-family=\"Times,serif\" font-size=\"14.00\">Conv2D</text>\n<polyline fill=\"none\" stroke=\"black\" points=\"958.88,-516.5 958.88,-565.5\"/>\n<text text-anchor=\"middle\" x=\"986\" y=\"-548.2\" font-family=\"Times,serif\" font-size=\"14.00\">input:</text>\n<polyline fill=\"none\" stroke=\"black\" points=\"958.88,-541 1013.12,-541\"/>\n<text text-anchor=\"middle\" x=\"986\" y=\"-523.7\" font-family=\"Times,serif\" font-size=\"14.00\">output:</text>\n<polyline fill=\"none\" stroke=\"black\" points=\"1013.12,-516.5 1013.12,-565.5\"/>\n<text text-anchor=\"middle\" x=\"1081.88\" y=\"-536.2\" font-family=\"Times,serif\" font-size=\"14.00\">(None, 200, 200, 256)</text>\n<polyline fill=\"none\" stroke=\"black\" points=\"1150.62,-516.5 1150.62,-565.5\"/>\n<text text-anchor=\"middle\" x=\"1219.38\" y=\"-536.2\" font-family=\"Times,serif\" font-size=\"14.00\">(None, 198, 198, 128)</text>\n</g>\n<!-- 140656579288688&#45;&gt;140656454343392 -->\n<g id=\"edge31\" class=\"edge\">\n<title>140656579288688-&gt;140656454343392</title>\n<path fill=\"none\" stroke=\"black\" d=\"M1080.45,-602.6C1081.13,-594.41 1081.91,-585.03 1082.65,-576.15\"/>\n<polygon fill=\"black\" stroke=\"black\" points=\"1086.22,-576.53 1083.56,-566.27 1079.24,-575.95 1086.22,-576.53\"/>\n</g>\n<!-- 140656579288496 -->\n<g id=\"node30\" class=\"node\">\n<title>140656579288496</title>\n<polygon fill=\"none\" stroke=\"black\" points=\"909.88,-430.5 909.88,-479.5 1315.12,-479.5 1315.12,-430.5 909.88,-430.5\"/>\n<text text-anchor=\"middle\" x=\"947.88\" y=\"-462.2\" font-family=\"Times,serif\" font-size=\"14.00\">conv2d_35</text>\n<polyline fill=\"none\" stroke=\"black\" points=\"909.88,-455 985.88,-455\"/>\n<text text-anchor=\"middle\" x=\"947.88\" y=\"-437.7\" font-family=\"Times,serif\" font-size=\"14.00\">Conv2D</text>\n<polyline fill=\"none\" stroke=\"black\" points=\"985.88,-430.5 985.88,-479.5\"/>\n<text text-anchor=\"middle\" x=\"1013\" y=\"-462.2\" font-family=\"Times,serif\" font-size=\"14.00\">input:</text>\n<polyline fill=\"none\" stroke=\"black\" points=\"985.88,-455 1040.12,-455\"/>\n<text text-anchor=\"middle\" x=\"1013\" y=\"-437.7\" font-family=\"Times,serif\" font-size=\"14.00\">output:</text>\n<polyline fill=\"none\" stroke=\"black\" points=\"1040.12,-430.5 1040.12,-479.5\"/>\n<text text-anchor=\"middle\" x=\"1108.88\" y=\"-450.2\" font-family=\"Times,serif\" font-size=\"14.00\">(None, 198, 198, 128)</text>\n<polyline fill=\"none\" stroke=\"black\" points=\"1177.62,-430.5 1177.62,-479.5\"/>\n<text text-anchor=\"middle\" x=\"1246.38\" y=\"-450.2\" font-family=\"Times,serif\" font-size=\"14.00\">(None, 196, 196, 128)</text>\n</g>\n<!-- 140656454343392&#45;&gt;140656579288496 -->\n<g id=\"edge32\" class=\"edge\">\n<title>140656454343392-&gt;140656579288496</title>\n<path fill=\"none\" stroke=\"black\" d=\"M1093.02,-516.6C1095.71,-508.23 1098.8,-498.62 1101.71,-489.55\"/>\n<polygon fill=\"black\" stroke=\"black\" points=\"1105.29,-490.86 1105.02,-480.27 1098.63,-488.72 1105.29,-490.86\"/>\n</g>\n<!-- 140656454425792 -->\n<g id=\"node31\" class=\"node\">\n<title>140656454425792</title>\n<polygon fill=\"none\" stroke=\"black\" points=\"901.75,-344.5 901.75,-393.5 1351.25,-393.5 1351.25,-344.5 901.75,-344.5\"/>\n<text text-anchor=\"middle\" x=\"965.25\" y=\"-376.2\" font-family=\"Times,serif\" font-size=\"14.00\">conv2d_transpose_7</text>\n<polyline fill=\"none\" stroke=\"black\" points=\"901.75,-369 1028.75,-369\"/>\n<text text-anchor=\"middle\" x=\"965.25\" y=\"-351.7\" font-family=\"Times,serif\" font-size=\"14.00\">Conv2DTranspose</text>\n<polyline fill=\"none\" stroke=\"black\" points=\"1028.75,-344.5 1028.75,-393.5\"/>\n<text text-anchor=\"middle\" x=\"1055.88\" y=\"-376.2\" font-family=\"Times,serif\" font-size=\"14.00\">input:</text>\n<polyline fill=\"none\" stroke=\"black\" points=\"1028.75,-369 1083,-369\"/>\n<text text-anchor=\"middle\" x=\"1055.88\" y=\"-351.7\" font-family=\"Times,serif\" font-size=\"14.00\">output:</text>\n<polyline fill=\"none\" stroke=\"black\" points=\"1083,-344.5 1083,-393.5\"/>\n<text text-anchor=\"middle\" x=\"1151.75\" y=\"-364.2\" font-family=\"Times,serif\" font-size=\"14.00\">(None, 196, 196, 128)</text>\n<polyline fill=\"none\" stroke=\"black\" points=\"1220.5,-344.5 1220.5,-393.5\"/>\n<text text-anchor=\"middle\" x=\"1285.88\" y=\"-364.2\" font-family=\"Times,serif\" font-size=\"14.00\">(None, 392, 392, 64)</text>\n</g>\n<!-- 140656579288496&#45;&gt;140656454425792 -->\n<g id=\"edge33\" class=\"edge\">\n<title>140656579288496-&gt;140656454425792</title>\n<path fill=\"none\" stroke=\"black\" d=\"M1116.4,-430.6C1117.78,-422.32 1119.36,-412.83 1120.86,-403.85\"/>\n<polygon fill=\"black\" stroke=\"black\" points=\"1124.43,-404.71 1122.62,-394.27 1117.52,-403.56 1124.43,-404.71\"/>\n</g>\n<!-- 140656454419504 -->\n<g id=\"node33\" class=\"node\">\n<title>140656454419504</title>\n<polygon fill=\"none\" stroke=\"black\" points=\"979,-258.5 979,-307.5 1526,-307.5 1526,-258.5 979,-258.5\"/>\n<text text-anchor=\"middle\" x=\"1025.62\" y=\"-290.2\" font-family=\"Times,serif\" font-size=\"14.00\">concatenate_7</text>\n<polyline fill=\"none\" stroke=\"black\" points=\"979,-283 1072.25,-283\"/>\n<text text-anchor=\"middle\" x=\"1025.62\" y=\"-265.7\" font-family=\"Times,serif\" font-size=\"14.00\">Concatenate</text>\n<polyline fill=\"none\" stroke=\"black\" points=\"1072.25,-258.5 1072.25,-307.5\"/>\n<text text-anchor=\"middle\" x=\"1099.38\" y=\"-290.2\" font-family=\"Times,serif\" font-size=\"14.00\">input:</text>\n<polyline fill=\"none\" stroke=\"black\" points=\"1072.25,-283 1126.5,-283\"/>\n<text text-anchor=\"middle\" x=\"1099.38\" y=\"-265.7\" font-family=\"Times,serif\" font-size=\"14.00\">output:</text>\n<polyline fill=\"none\" stroke=\"black\" points=\"1126.5,-258.5 1126.5,-307.5\"/>\n<text text-anchor=\"middle\" x=\"1257.5\" y=\"-278.2\" font-family=\"Times,serif\" font-size=\"14.00\">[(None, 392, 392, 64), (None, 392, 392, 64)]</text>\n<polyline fill=\"none\" stroke=\"black\" points=\"1388.5,-258.5 1388.5,-307.5\"/>\n<text text-anchor=\"middle\" x=\"1457.25\" y=\"-278.2\" font-family=\"Times,serif\" font-size=\"14.00\">(None, 392, 392, 128)</text>\n</g>\n<!-- 140656454425792&#45;&gt;140656454419504 -->\n<g id=\"edge35\" class=\"edge\">\n<title>140656454425792-&gt;140656454419504</title>\n<path fill=\"none\" stroke=\"black\" d=\"M1161.6,-344.6C1176.21,-334.86 1193.32,-323.45 1208.74,-313.17\"/>\n<polygon fill=\"black\" stroke=\"black\" points=\"1210.21,-315.73 1216.59,-307.27 1206.33,-309.91 1210.21,-315.73\"/>\n</g>\n<!-- 140656454424736&#45;&gt;140656454419504 -->\n<g id=\"edge36\" class=\"edge\">\n<title>140656454424736-&gt;140656454419504</title>\n<path fill=\"none\" stroke=\"black\" d=\"M1386.5,-2322.63C1386.5,-2289.86 1386.5,-2228.39 1386.5,-2176 1386.5,-2176 1386.5,-2176 1386.5,-454 1386.5,-403.76 1390.82,-384.06 1360.5,-344 1350.98,-331.42 1338.02,-321.12 1324.38,-312.83\"/>\n<polygon fill=\"black\" stroke=\"black\" points=\"1326.28,-309.31 1315.86,-307.4 1322.82,-315.39 1326.28,-309.31\"/>\n</g>\n<!-- 140656454423056 -->\n<g id=\"node34\" class=\"node\">\n<title>140656454423056</title>\n<polygon fill=\"none\" stroke=\"black\" points=\"1053.25,-172.5 1053.25,-221.5 1451.75,-221.5 1451.75,-172.5 1053.25,-172.5\"/>\n<text text-anchor=\"middle\" x=\"1091.25\" y=\"-204.2\" font-family=\"Times,serif\" font-size=\"14.00\">conv2d_36</text>\n<polyline fill=\"none\" stroke=\"black\" points=\"1053.25,-197 1129.25,-197\"/>\n<text text-anchor=\"middle\" x=\"1091.25\" y=\"-179.7\" font-family=\"Times,serif\" font-size=\"14.00\">Conv2D</text>\n<polyline fill=\"none\" stroke=\"black\" points=\"1129.25,-172.5 1129.25,-221.5\"/>\n<text text-anchor=\"middle\" x=\"1156.38\" y=\"-204.2\" font-family=\"Times,serif\" font-size=\"14.00\">input:</text>\n<polyline fill=\"none\" stroke=\"black\" points=\"1129.25,-197 1183.5,-197\"/>\n<text text-anchor=\"middle\" x=\"1156.38\" y=\"-179.7\" font-family=\"Times,serif\" font-size=\"14.00\">output:</text>\n<polyline fill=\"none\" stroke=\"black\" points=\"1183.5,-172.5 1183.5,-221.5\"/>\n<text text-anchor=\"middle\" x=\"1252.25\" y=\"-192.2\" font-family=\"Times,serif\" font-size=\"14.00\">(None, 392, 392, 128)</text>\n<polyline fill=\"none\" stroke=\"black\" points=\"1321,-172.5 1321,-221.5\"/>\n<text text-anchor=\"middle\" x=\"1386.38\" y=\"-192.2\" font-family=\"Times,serif\" font-size=\"14.00\">(None, 390, 390, 64)</text>\n</g>\n<!-- 140656454419504&#45;&gt;140656454423056 -->\n<g id=\"edge37\" class=\"edge\">\n<title>140656454419504-&gt;140656454423056</title>\n<path fill=\"none\" stroke=\"black\" d=\"M1252.5,-258.6C1252.5,-250.41 1252.5,-241.03 1252.5,-232.15\"/>\n<polygon fill=\"black\" stroke=\"black\" points=\"1256,-232.27 1252.5,-222.27 1249,-232.27 1256,-232.27\"/>\n</g>\n<!-- 140656317216848 -->\n<g id=\"node35\" class=\"node\">\n<title>140656317216848</title>\n<polygon fill=\"none\" stroke=\"black\" points=\"1056.62,-86.5 1056.62,-135.5 1448.38,-135.5 1448.38,-86.5 1056.62,-86.5\"/>\n<text text-anchor=\"middle\" x=\"1094.62\" y=\"-118.2\" font-family=\"Times,serif\" font-size=\"14.00\">conv2d_37</text>\n<polyline fill=\"none\" stroke=\"black\" points=\"1056.62,-111 1132.62,-111\"/>\n<text text-anchor=\"middle\" x=\"1094.62\" y=\"-93.7\" font-family=\"Times,serif\" font-size=\"14.00\">Conv2D</text>\n<polyline fill=\"none\" stroke=\"black\" points=\"1132.62,-86.5 1132.62,-135.5\"/>\n<text text-anchor=\"middle\" x=\"1159.75\" y=\"-118.2\" font-family=\"Times,serif\" font-size=\"14.00\">input:</text>\n<polyline fill=\"none\" stroke=\"black\" points=\"1132.62,-111 1186.88,-111\"/>\n<text text-anchor=\"middle\" x=\"1159.75\" y=\"-93.7\" font-family=\"Times,serif\" font-size=\"14.00\">output:</text>\n<polyline fill=\"none\" stroke=\"black\" points=\"1186.88,-86.5 1186.88,-135.5\"/>\n<text text-anchor=\"middle\" x=\"1252.25\" y=\"-106.2\" font-family=\"Times,serif\" font-size=\"14.00\">(None, 390, 390, 64)</text>\n<polyline fill=\"none\" stroke=\"black\" points=\"1317.62,-86.5 1317.62,-135.5\"/>\n<text text-anchor=\"middle\" x=\"1383\" y=\"-106.2\" font-family=\"Times,serif\" font-size=\"14.00\">(None, 388, 388, 64)</text>\n</g>\n<!-- 140656454423056&#45;&gt;140656317216848 -->\n<g id=\"edge38\" class=\"edge\">\n<title>140656454423056-&gt;140656317216848</title>\n<path fill=\"none\" stroke=\"black\" d=\"M1252.5,-172.6C1252.5,-164.41 1252.5,-155.03 1252.5,-146.15\"/>\n<polygon fill=\"black\" stroke=\"black\" points=\"1256,-146.27 1252.5,-136.27 1249,-146.27 1256,-146.27\"/>\n</g>\n<!-- 140657103095072 -->\n<g id=\"node36\" class=\"node\">\n<title>140657103095072</title>\n<polygon fill=\"none\" stroke=\"black\" points=\"1060,-0.5 1060,-49.5 1445,-49.5 1445,-0.5 1060,-0.5\"/>\n<text text-anchor=\"middle\" x=\"1098\" y=\"-32.2\" font-family=\"Times,serif\" font-size=\"14.00\">conv2d_39</text>\n<polyline fill=\"none\" stroke=\"black\" points=\"1060,-25 1136,-25\"/>\n<text text-anchor=\"middle\" x=\"1098\" y=\"-7.7\" font-family=\"Times,serif\" font-size=\"14.00\">Conv2D</text>\n<polyline fill=\"none\" stroke=\"black\" points=\"1136,-0.5 1136,-49.5\"/>\n<text text-anchor=\"middle\" x=\"1163.12\" y=\"-32.2\" font-family=\"Times,serif\" font-size=\"14.00\">input:</text>\n<polyline fill=\"none\" stroke=\"black\" points=\"1136,-25 1190.25,-25\"/>\n<text text-anchor=\"middle\" x=\"1163.12\" y=\"-7.7\" font-family=\"Times,serif\" font-size=\"14.00\">output:</text>\n<polyline fill=\"none\" stroke=\"black\" points=\"1190.25,-0.5 1190.25,-49.5\"/>\n<text text-anchor=\"middle\" x=\"1255.62\" y=\"-20.2\" font-family=\"Times,serif\" font-size=\"14.00\">(None, 388, 388, 64)</text>\n<polyline fill=\"none\" stroke=\"black\" points=\"1321,-0.5 1321,-49.5\"/>\n<text text-anchor=\"middle\" x=\"1383\" y=\"-20.2\" font-family=\"Times,serif\" font-size=\"14.00\">(None, 388, 388, 2)</text>\n</g>\n<!-- 140656317216848&#45;&gt;140657103095072 -->\n<g id=\"edge39\" class=\"edge\">\n<title>140656317216848-&gt;140657103095072</title>\n<path fill=\"none\" stroke=\"black\" d=\"M1252.5,-86.6C1252.5,-78.41 1252.5,-69.03 1252.5,-60.15\"/>\n<polygon fill=\"black\" stroke=\"black\" points=\"1256,-60.27 1252.5,-50.27 1249,-60.27 1256,-60.27\"/>\n</g>\n</g>\n</svg>"
     },
     "metadata": {},
     "output_type": "display_data"
    }
   ],
   "source": [
    "from IPython.display import SVG\n",
    "from keras.utils.vis_utils import model_to_dot\n",
    "\n",
    "%matplotlib inline\n",
    "\n",
    "SVG(model_to_dot(model, show_shapes= True, show_layer_names=True, dpi=80).create(prog='dot', format='svg'))  #dpi를 작게 하면 그래프가 커집니다."
   ],
   "metadata": {
    "collapsed": false,
    "ExecuteTime": {
     "end_time": "2023-08-16T15:20:45.612681Z",
     "start_time": "2023-08-16T15:20:45.460869Z"
    }
   }
  },
  {
   "cell_type": "markdown",
   "source": [],
   "metadata": {
    "collapsed": false
   }
  },
  {
   "cell_type": "markdown",
   "source": [],
   "metadata": {
    "collapsed": false
   }
  },
  {
   "cell_type": "markdown",
   "source": [],
   "metadata": {
    "collapsed": false
   }
  },
  {
   "cell_type": "markdown",
   "source": [],
   "metadata": {
    "collapsed": false
   }
  },
  {
   "cell_type": "markdown",
   "source": [],
   "metadata": {
    "collapsed": false
   }
  },
  {
   "cell_type": "markdown",
   "source": [],
   "metadata": {
    "collapsed": false
   }
  },
  {
   "cell_type": "markdown",
   "source": [],
   "metadata": {
    "collapsed": false
   }
  },
  {
   "cell_type": "markdown",
   "source": [],
   "metadata": {
    "collapsed": false
   }
  },
  {
   "cell_type": "markdown",
   "source": [],
   "metadata": {
    "collapsed": false
   }
  },
  {
   "cell_type": "markdown",
   "source": [],
   "metadata": {
    "collapsed": false
   }
  },
  {
   "cell_type": "markdown",
   "source": [],
   "metadata": {
    "collapsed": false
   }
  },
  {
   "cell_type": "markdown",
   "source": [],
   "metadata": {
    "collapsed": false
   }
  },
  {
   "cell_type": "markdown",
   "source": [],
   "metadata": {
    "collapsed": false
   }
  },
  {
   "cell_type": "markdown",
   "source": [],
   "metadata": {
    "collapsed": false
   }
  },
  {
   "cell_type": "markdown",
   "source": [],
   "metadata": {
    "collapsed": false
   }
  },
  {
   "cell_type": "markdown",
   "source": [],
   "metadata": {
    "collapsed": false
   }
  },
  {
   "cell_type": "markdown",
   "source": [],
   "metadata": {
    "collapsed": false
   }
  },
  {
   "cell_type": "markdown",
   "source": [],
   "metadata": {
    "collapsed": false
   }
  },
  {
   "cell_type": "markdown",
   "source": [],
   "metadata": {
    "collapsed": false
   }
  },
  {
   "cell_type": "markdown",
   "source": [],
   "metadata": {
    "collapsed": false
   }
  },
  {
   "cell_type": "markdown",
   "source": [],
   "metadata": {
    "collapsed": false
   }
  },
  {
   "cell_type": "markdown",
   "source": [],
   "metadata": {
    "collapsed": false
   }
  },
  {
   "cell_type": "markdown",
   "source": [],
   "metadata": {
    "collapsed": false
   }
  },
  {
   "cell_type": "markdown",
   "source": [],
   "metadata": {
    "collapsed": false
   }
  },
  {
   "cell_type": "markdown",
   "source": [],
   "metadata": {
    "collapsed": false
   }
  },
  {
   "cell_type": "markdown",
   "source": [],
   "metadata": {
    "collapsed": false
   }
  }
 ],
 "metadata": {
  "kernelspec": {
   "display_name": "Python 3",
   "language": "python",
   "name": "python3"
  },
  "language_info": {
   "codemirror_mode": {
    "name": "ipython",
    "version": 2
   },
   "file_extension": ".py",
   "mimetype": "text/x-python",
   "name": "python",
   "nbconvert_exporter": "python",
   "pygments_lexer": "ipython2",
   "version": "2.7.6"
  }
 },
 "nbformat": 4,
 "nbformat_minor": 0
}
