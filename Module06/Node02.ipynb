{
 "cells": [
  {
   "cell_type": "markdown",
   "source": [
    "## 딥러닝으로 시작하는 컴퓨터 비전\n",
    "### 2. 다층 퍼셉트론(Multi-Layer Perceptron) 구조 복습하기"
   ],
   "metadata": {
    "collapsed": false
   }
  },
  {
   "cell_type": "markdown",
   "source": [
    "#### 2-1. 들어가며"
   ],
   "metadata": {
    "collapsed": false
   }
  },
  {
   "cell_type": "markdown",
   "source": [
    "![](./img02/01.png)"
   ],
   "metadata": {
    "collapsed": false
   }
  },
  {
   "cell_type": "markdown",
   "source": [
    "![](./img02/02.png)"
   ],
   "metadata": {
    "collapsed": false
   }
  },
  {
   "cell_type": "markdown",
   "source": [
    "#### 2-2. MLP 모델 복습하기"
   ],
   "metadata": {
    "collapsed": false
   }
  },
  {
   "cell_type": "markdown",
   "source": [
    "![](./img02/03.png)\n",
    "\n",
    "Deep의 의미는 깊다.\n",
    "Learner (학습기), 머신러닝의 머신, 분류에서의 Classifier와 비슷한 말\n",
    "학습기 중에서 학습을 하는 구조가 얕은것과 깊은 것이 있고 깊은 문제를 학습할수도 있다\n",
    "히든레이어가 여러개가 있어 학습기의 구조가 Deep한 것이 Deep Learning이다."
   ],
   "metadata": {
    "collapsed": false
   }
  },
  {
   "cell_type": "markdown",
   "source": [
    "![](./img02/04.png)\n"
   ],
   "metadata": {
    "collapsed": false
   }
  },
  {
   "cell_type": "markdown",
   "source": [
    "![](./img02/05.png)\n",
    "\n",
    "뉴런은 정보 수용, 조합, 발산 으로 구성\n",
    "\n",
    "조합한것을 그대로 전달하는 것이 아니라 특정 조건을 만족하면 발산한다."
   ],
   "metadata": {
    "collapsed": false
   }
  },
  {
   "cell_type": "markdown",
   "source": [
    "![](./img02/06.png)"
   ],
   "metadata": {
    "collapsed": false
   }
  },
  {
   "cell_type": "markdown",
   "source": [
    "![](./img02/07.png)"
   ],
   "metadata": {
    "collapsed": false
   }
  },
  {
   "cell_type": "markdown",
   "source": [
    "![](./img02/08.png)\n",
    "\n",
    "single perceptron\n",
    "\n",
    "입력층에서는 x 값 데이터를 입력받는다\n",
    "\n",
    "w 파라미터는 찾아야 한다 -> Training\n",
    "\n",
    "y 아웃풋 (전달)\n",
    "\n",
    "h 는 활성화 함수 (이 그림에서는 ReLU)\n",
    "\n",
    "h(a) = max(0, a) -> 0보다 작으면 0, 0보다 크면 x\n",
    "-> 비선형성(직선이 아니다)을 가지고 있다.\n",
    "\n",
    "L은 Loss Function (손실함수) -> 실제값과 예측값의 차이를 계산하는 함수\n",
    " - 오차 제곱의 1/2을 계산하는 함수\n",
    "\n",
    "Back-Probagation (역전파) -> Loss Function을 최소화하는 방향으로 w를 찾는다.\n",
    " - Loss Function을 미분해서 w를 찾는다.\n",
    "\n",
    "위 그림에서 출력 후 손실함수를 구해서 다시 w를 찾는 과정을 반복하는 것이 training이다."
   ],
   "metadata": {
    "collapsed": false
   }
  },
  {
   "cell_type": "markdown",
   "source": [
    "![](./img02/09.png)\n",
    "\n",
    "Single Perceptron -> Multi-Layer Perceptron\n",
    "\n",
    "3개의 hidden layer를 가졌을때 그림상 연두색 부분의 빨간 점 오분류가 존재함\n",
    "\n",
    "20개로 늘렸을때는 오분류가 없음\n",
    "\n",
    "은닉노드(뉴런) 이 늘어지면 분류경계면의 복잡도가 늘어 더 복잡한 문제를 해결 가능"
   ],
   "metadata": {
    "collapsed": false
   }
  },
  {
   "cell_type": "markdown",
   "source": [
    "![](./img02/10.png)\n",
    "\n",
    "데이터가 가지고 있는 hidden Pattern을 찾아내는 과정이 Representation Learning\n",
    "\n",
    "Representation Learning 은 Pattern Extrator 혹은 Feature Extractor 라고도 한다.\n"
   ],
   "metadata": {
    "collapsed": false
   }
  },
  {
   "cell_type": "markdown",
   "source": [
    "![](./img02/11.png)\n",
    "\n",
    "binary classification\n",
    "\n",
    "hidden layer는 데이터를 변형하여 직선으로 공간을 구분"
   ],
   "metadata": {
    "collapsed": false
   }
  },
  {
   "cell_type": "markdown",
   "source": [
    "![](./img02/12.png)\n",
    "\n",
    "task를 수행하여 확률값을 출력"
   ],
   "metadata": {
    "collapsed": false
   }
  },
  {
   "cell_type": "markdown",
   "source": [],
   "metadata": {
    "collapsed": false
   }
  },
  {
   "cell_type": "markdown",
   "source": [],
   "metadata": {
    "collapsed": false
   }
  },
  {
   "cell_type": "markdown",
   "source": [],
   "metadata": {
    "collapsed": false
   }
  },
  {
   "cell_type": "markdown",
   "source": [],
   "metadata": {
    "collapsed": false
   }
  },
  {
   "cell_type": "markdown",
   "source": [],
   "metadata": {
    "collapsed": false
   }
  },
  {
   "cell_type": "markdown",
   "source": [],
   "metadata": {
    "collapsed": false
   }
  },
  {
   "cell_type": "markdown",
   "source": [],
   "metadata": {
    "collapsed": false
   }
  },
  {
   "cell_type": "markdown",
   "source": [],
   "metadata": {
    "collapsed": false
   }
  },
  {
   "cell_type": "markdown",
   "source": [],
   "metadata": {
    "collapsed": false
   }
  },
  {
   "cell_type": "markdown",
   "source": [],
   "metadata": {
    "collapsed": false
   }
  },
  {
   "cell_type": "markdown",
   "source": [],
   "metadata": {
    "collapsed": false
   }
  },
  {
   "cell_type": "markdown",
   "source": [],
   "metadata": {
    "collapsed": false
   }
  },
  {
   "cell_type": "markdown",
   "source": [],
   "metadata": {
    "collapsed": false
   }
  },
  {
   "cell_type": "markdown",
   "source": [],
   "metadata": {
    "collapsed": false
   }
  },
  {
   "cell_type": "markdown",
   "source": [],
   "metadata": {
    "collapsed": false
   }
  },
  {
   "cell_type": "markdown",
   "source": [],
   "metadata": {
    "collapsed": false
   }
  },
  {
   "cell_type": "markdown",
   "source": [],
   "metadata": {
    "collapsed": false
   }
  },
  {
   "cell_type": "markdown",
   "source": [],
   "metadata": {
    "collapsed": false
   }
  },
  {
   "cell_type": "markdown",
   "source": [],
   "metadata": {
    "collapsed": false
   }
  },
  {
   "cell_type": "markdown",
   "source": [],
   "metadata": {
    "collapsed": false
   }
  },
  {
   "cell_type": "markdown",
   "source": [],
   "metadata": {
    "collapsed": false
   }
  }
 ],
 "metadata": {
  "kernelspec": {
   "display_name": "Python 3",
   "language": "python",
   "name": "python3"
  },
  "language_info": {
   "codemirror_mode": {
    "name": "ipython",
    "version": 2
   },
   "file_extension": ".py",
   "mimetype": "text/x-python",
   "name": "python",
   "nbconvert_exporter": "python",
   "pygments_lexer": "ipython2",
   "version": "2.7.6"
  }
 },
 "nbformat": 4,
 "nbformat_minor": 0
}
