{
 "cells": [
  {
   "cell_type": "markdown",
   "source": [
    "## 딥러닝으로 시작하는 컴퓨터 비전\n",
    "### 2. 다층 퍼셉트론(Multi-Layer Perceptron) 구조 복습하기"
   ],
   "metadata": {
    "collapsed": false
   }
  },
  {
   "cell_type": "markdown",
   "source": [
    "#### 2-1. 들어가며"
   ],
   "metadata": {
    "collapsed": false
   }
  },
  {
   "cell_type": "markdown",
   "source": [
    "![](./img02/01.png)"
   ],
   "metadata": {
    "collapsed": false
   }
  },
  {
   "cell_type": "markdown",
   "source": [
    "![](./img02/02.png)"
   ],
   "metadata": {
    "collapsed": false
   }
  },
  {
   "cell_type": "markdown",
   "source": [
    "#### 2-2. MLP 모델 복습하기"
   ],
   "metadata": {
    "collapsed": false
   }
  },
  {
   "cell_type": "markdown",
   "source": [
    "![](./img02/03.png)\n",
    "\n",
    "Deep의 의미는 깊다.\n",
    "Learner (학습기), 머신러닝의 머신, 분류에서의 Classifier와 비슷한 말\n",
    "학습기 중에서 학습을 하는 구조가 얕은것과 깊은 것이 있고 깊은 문제를 학습할수도 있다\n",
    "히든레이어가 여러개가 있어 학습기의 구조가 Deep한 것이 Deep Learning이다."
   ],
   "metadata": {
    "collapsed": false
   }
  },
  {
   "cell_type": "markdown",
   "source": [
    "![](./img02/04.png)\n"
   ],
   "metadata": {
    "collapsed": false
   }
  },
  {
   "cell_type": "markdown",
   "source": [
    "![](./img02/05.png)\n",
    "\n",
    "뉴런은 정보 수용, 조합, 발산 으로 구성\n",
    "\n",
    "조합한것을 그대로 전달하는 것이 아니라 특정 조건을 만족하면 발산한다."
   ],
   "metadata": {
    "collapsed": false
   }
  },
  {
   "cell_type": "markdown",
   "source": [
    "![](./img02/06.png)"
   ],
   "metadata": {
    "collapsed": false
   }
  },
  {
   "cell_type": "markdown",
   "source": [
    "![](./img02/07.png)"
   ],
   "metadata": {
    "collapsed": false
   }
  },
  {
   "cell_type": "markdown",
   "source": [
    "![](./img02/08.png)\n",
    "\n",
    "single perceptron\n",
    "\n",
    "입력층에서는 x 값 데이터를 입력받는다\n",
    "\n",
    "w 파라미터는 찾아야 한다 -> Training\n",
    "\n",
    "y 아웃풋 (전달)\n",
    "\n",
    "h 는 활성화 함수 (이 그림에서는 ReLU)\n",
    "\n",
    "h(a) = max(0, a) -> 0보다 작으면 0, 0보다 크면 x\n",
    "-> 비선형성(직선이 아니다)을 가지고 있다.\n",
    "\n",
    "L은 Loss Function (손실함수) -> 실제값과 예측값의 차이를 계산하는 함수\n",
    " - 오차 제곱의 1/2을 계산하는 함수\n",
    "\n",
    "Back-Probagation (역전파) -> Loss Function을 최소화하는 방향으로 w를 찾는다.\n",
    " - Loss Function을 미분해서 w를 찾는다.\n",
    "\n",
    "위 그림에서 출력 후 손실함수를 구해서 다시 w를 찾는 과정을 반복하는 것이 training이다."
   ],
   "metadata": {
    "collapsed": false
   }
  },
  {
   "cell_type": "markdown",
   "source": [
    "![](./img02/09.png)\n",
    "\n",
    "Single Perceptron -> Multi-Layer Perceptron\n",
    "\n",
    "3개의 hidden layer를 가졌을때 그림상 연두색 부분의 빨간 점 오분류가 존재함\n",
    "\n",
    "20개로 늘렸을때는 오분류가 없음\n",
    "\n",
    "은닉노드(뉴런) 이 늘어지면 분류경계면의 복잡도가 늘어 더 복잡한 문제를 해결 가능"
   ],
   "metadata": {
    "collapsed": false
   }
  },
  {
   "cell_type": "markdown",
   "source": [
    "![](./img02/10.png)\n",
    "\n",
    "데이터가 가지고 있는 hidden Pattern을 찾아내는 과정이 Representation Learning\n",
    "\n",
    "Representation Learning 은 Pattern Extrator 혹은 Feature Extractor 라고도 한다.\n"
   ],
   "metadata": {
    "collapsed": false
   }
  },
  {
   "cell_type": "markdown",
   "source": [
    "![](./img02/11.png)\n",
    "\n",
    "binary classification\n",
    "\n",
    "hidden layer는 데이터를 변형하여 직선으로 공간을 구분"
   ],
   "metadata": {
    "collapsed": false
   }
  },
  {
   "cell_type": "markdown",
   "source": [
    "![](./img02/12.png)\n",
    "\n",
    "task를 수행하여 확률값을 출력"
   ],
   "metadata": {
    "collapsed": false
   }
  },
  {
   "cell_type": "markdown",
   "source": [
    "Q. 딥러닝(Deep Learning) 구조의 핵심은 무엇인가요?\n",
    "\n",
    "딥러닝 구조의 핵심은 여러 개의 hidden layer로 인해 학습기(learner)가 deep 하다는 것입니다.\n",
    "\n",
    "GPT 답변\n",
    "딥러닝(Deep Learning) 구조의 핵심은 인공신경망(Artificial Neural Network)입니다. 인공신경망은 인간 뇌의 동작 원리에서 영감을 받아 만들어진 기술로, 입력층, 은닉층, 출력층으로 구성됩니다.\n",
    "\n",
    "딥러닝에서 은닉층은 인공신경망의 핵심 요소입니다. 은닉층은 입력층과 출력층 사이에 위치하며, 입력 데이터와 출력 데이터 사이의 양방향 흐름을 통해 정보를 추출하고 처리하는 역할을 합니다. 또한, 은닉층은 여러 개로 구성할 수 있으며, 이는 딥러닝이라는 이름의 유래가 되었습니다.\n",
    "\n",
    "딥러닝에서는 입력 데이터를 처리하여 예측 결과를 출력하는 과정을 학습이라고 합니다. 딥러닝 모델은 대량의 학습 데이터를 이용하여 자동으로 인식하고 예측하는 방법을 학습하며, 그 결과 학습된 딥러닝 모델은 입력 데이터를 처리하여 대부분 정확한 결과를 출력합니다.\n",
    "\n",
    "딥러닝 구조의 핵심을 이루는 인공신경망의 구성 요소와 학습 알고리즘은 딥러닝 모델의 성능을 좌우합니다. 따라서 이를 지속적으로 개선하고 발전시키는 것이 딥러닝 연구와 응용 분야에서의 핵심 과제 중 하나입니다."
   ],
   "metadata": {
    "collapsed": false
   }
  },
  {
   "cell_type": "markdown",
   "source": [
    "Q. 뉴런의 작동 방식은 크게 세 부분으로 나눠서 볼 수 있습니다. 뉴런이 어떻게 동작하는지 세 부분으로 나눠서 설명해 보세요.\n",
    "\n",
    "수용 → 조합 → 경계값/조건에 따라 전달\n",
    "\n",
    "맞아요. 뉴런은 계속해서 신호를 받아서 조합(sum) 하고, 특정 threshold(경계값)를 넘어서면 “fire(발산, 전달)” 합니다."
   ],
   "metadata": {
    "collapsed": false
   }
  },
  {
   "cell_type": "markdown",
   "source": [
    "#### 퍼셉트론의\n",
    "\n",
    "퍼셉트론 ≈ 뉴론\n",
    "\n",
    "입력변수 ≈ 수용\n",
    "\n",
    "가중합 ≈ 조합\n",
    "\n",
    "활성함수 ≈ Threshold\n",
    "\n",
    "최종 결과물 ≈ 전달\n",
    "\n",
    "![](https://d3s0tskafalll9.cloudfront.net/media/images/NoDeu2-4_lB5ccg0.max-800x600.png)"
   ],
   "metadata": {
    "collapsed": false
   }
  },
  {
   "cell_type": "markdown",
   "source": [
    "Q. 퍼셉트론은 단일 뉴런의 작동 원리를 모사한 것입니다. 뉴런과 퍼셉트론을 비교해서 설명해 보세요.\n",
    "\n",
    "뉴론은 시냅스로부터 탐지된 자극을 수상돌기를 통해 세포핵에 전달 후 역치를 넘어서는 자극에 대해서는 축색돌기를 이용하여 다른 뉴런으로 정보를 전달합니다. 퍼셉트론은 입력변수의 값들에 대한 가중합에 대해 활성함수를 적용하여 최종 결과물을 생성합니다.\n",
    "\n",
    "뉴론과 퍼셉트론에 나오는 개념들을 매치를 시켜서 본다면 작동 원리가 매우 유사하다는 것을 알 수 있습니다.\n",
    "\n",
    "GPT 답변\n",
    "인공신경망의 기본 단위인 뉴런과 퍼셉트론은 개념적으로 유사하지만, 구조적으로는 차이가 있습니다.\n",
    "\n",
    "뉴런은 생물학적 신경망에서 영감받아 만들어진 모델로, 다수의 입력을 받아 이들을 가중치와 함께 결합해 출력을 내보내는 계산 단위입니다.\n",
    "\n",
    "반면, 퍼셉트론은 인공신경망의 한 종류로, 단일 뉴런의 작동 원리를 바탕으로 만들어졌지만, 뉴런보다는 단순화된 형태의 모델입니다. 퍼셉트론은 여러 개의 입력 신호와 각각의 가중치를 곱한 후 총합을 구하고, 설정한 임계값과 비교하여 출력 값을 결정합니다. 이때, 출력은 이진값(0 또는 1)으로 결정됩니다.\n",
    "\n",
    "즉, 뉴런은 다수의 입력을 동시에 고려하여 복잡한 계산을 수행하고, 출력 값도 연속적인 범위를 가질 수 있습니다. 반면, 퍼셉트론은 다수의 이진 입력 신호만을 다루며, 출력 값도 0 또는 1로 고정됩니다.\n",
    "\n",
    "따라서, 퍼셉트론은 선형 판별 기법이나 AND, OR 등의 논리 연산에서 유용하게 사용될 수 있지만, 복잡한 문제를 다루기에는 한계점이 있습니다. 하지만 여러 개의 퍼셉트론을 결합하여 여러 층을 구성한 MLP (Multi-Layer Perceptron)을 사용하여 다층 신경망을 만들면, 뉴런 처럼 복잡하고 비선형적인 문제를 효과적으로 처리할 수 있습니다."
   ],
   "metadata": {
    "collapsed": false
   }
  },
  {
   "cell_type": "markdown",
   "source": [
    "Q. MLP 모델 구조를 보면 여러 개의 hidden layer로 이뤄져 있는 것을 알 수 있습니다. 이것들은 Representation learning을 수행한다고 말할 수 있습니다. 이때 Representation learning은 무엇을 의미하고, 또 다른 말로 어떻게 부를 수 있는지 설명해 보세요.\n",
    "\n",
    "Representation learning은 Representation을 통해서 원래 데이터가 존재하는 공간을 변경하는 것을 의미합니다. 정리해서 설명하자면, Representation learning은 Training 하는 과정에서 parameter를 계속해서 변형하여 task를 수행하는 데에 가장 적합한 공간구조를 Representation을 합니다.\n",
    "\n",
    "Representation learning은 Pattern Extractor(패턴 추출기) Feature Extractor라고 부릅니다. 이는 MLP 모델이 가진 큰 장점이라고 말할 수 있으며, 어떻게 하면 Feature Extractor를 잘 만들 수 있을까가 딥러닝 모델을 만들 때 핵심이 됩니다.\n",
    "\n",
    "GPT 답변\n",
    "Representation learning은 입력 데이터로부터 데이터의 특징이나 패턴과 같은 중요한 정보를 추출하여 새로운 데이터 표현(representation)을 학습하는 기법입니다. 따라서 MLP에서 여러 개의 hidden layer를 거치면서, 입력 데이터로부터 점차 더 추상화되고 의미 있는 특징을 추출하게 됩니다. 이 때, 추출된 특징 정보는 새로운 방식으로 표현될 수 있습니다.\n",
    "\n",
    "이러한 Representation learning 기법은 딥러닝 모델에서 매우 중요한 역할을 합니다. 대용량 데이터와 MLP와 같은 딥러닝 모델을 이용하여 표현 학습을 수행하면, 입력 데이터의 고차원 특징을 추출할 수 있습니다. 이러한 고차원 특징 추출은 이미지, 음성, 자연어 등의 다양한 데이터 분야에서 큰 효과를 발휘합니다.\n",
    "\n",
    "Representation learning은 또 다른 말로, feature learning, representation extraction, embedding learning 등으로 불립니다. 이는 모두 입력 데이터로부터 의미 있는 정보를 추출해 새로운 형태로 표현하는 기법을 의미하기 때문입니다."
   ],
   "metadata": {
    "collapsed": false
   }
  },
  {
   "cell_type": "markdown",
   "source": [
    "#### MLP 모델로 이미지 분류해보기\n",
    "\n",
    "먼저 필요한 라이브러리를 import하고 tf.keras.datasets.mnist.load_data() 함수를 이용해 MNIST 데이터셋을 불러옵니다."
   ],
   "metadata": {
    "collapsed": false
   }
  },
  {
   "cell_type": "code",
   "execution_count": 21,
   "outputs": [],
   "source": [
    "import sys\n",
    "import tensorflow as tf\n",
    "import numpy as np"
   ],
   "metadata": {
    "collapsed": false,
    "ExecuteTime": {
     "start_time": "2023-08-11T03:17:49.037196Z",
     "end_time": "2023-08-11T03:17:49.299223Z"
    }
   }
  },
  {
   "cell_type": "code",
   "execution_count": 22,
   "outputs": [
    {
     "name": "stdout",
     "output_type": "stream",
     "text": [
      "(60000, 28, 28)\n",
      "(60000,)\n",
      "학습셋 이미지 수 : 60000 개\n",
      "테스트셋 이미지 수 : 10000 개\n"
     ]
    }
   ],
   "source": [
    "# MNIST 데이터셋 불러오기\n",
    "(X_train, Y_train), (X_test, Y_test) = tf.keras.datasets.mnist.load_data()\n",
    "\n",
    "# shape 확인하기\n",
    "print(X_train.shape) # 28 x 28의 이미지가 60,000장\n",
    "print(Y_train.shape) ## [ 5, 1, 2, 3, 4, 4,   .... ]\n",
    "print(\"학습셋 이미지 수 : %d 개\" % (X_train.shape[0]))\n",
    "print(\"테스트셋 이미지 수 : %d 개\" % (X_test.shape[0]))"
   ],
   "metadata": {
    "collapsed": false,
    "ExecuteTime": {
     "start_time": "2023-08-11T03:17:49.043573Z",
     "end_time": "2023-08-11T03:17:49.474827Z"
    }
   }
  },
  {
   "cell_type": "markdown",
   "source": [
    "MNIST 데이터가 어떻게 생겼는지 확인해볼까요?"
   ],
   "metadata": {
    "collapsed": false
   }
  },
  {
   "cell_type": "code",
   "execution_count": 23,
   "outputs": [
    {
     "name": "stdout",
     "output_type": "stream",
     "text": [
      "5\n"
     ]
    },
    {
     "data": {
      "text/plain": "<Figure size 640x480 with 1 Axes>",
      "image/png": "[encoded data removed]"
     },
     "metadata": {},
     "output_type": "display_data"
    }
   ],
   "source": [
    "# MNIST 데이터를 시각화하기\n",
    "import matplotlib.pyplot as plt\n",
    "print(Y_train[0])\n",
    "plt.imshow(X_train[0], cmap='Greys') # 흑백 이미지로 확인\n",
    "plt.show()"
   ],
   "metadata": {
    "collapsed": false,
    "ExecuteTime": {
     "start_time": "2023-08-11T03:17:49.404654Z",
     "end_time": "2023-08-11T03:17:49.564513Z"
    }
   }
  },
  {
   "cell_type": "markdown",
   "source": [
    "MNIST 데이터는 위와 같이 이미지처럼 나타낼 수 있지만 사실은 2차원 배열에 픽셀 값이 저장되어 있는 형태입니다. 즉 0과 255 사이의 정수로 구성된 데이터입니다."
   ],
   "metadata": {
    "collapsed": false
   }
  },
  {
   "cell_type": "code",
   "execution_count": 24,
   "outputs": [
    {
     "name": "stdout",
     "output_type": "stream",
     "text": [
      "0\t0\t0\t0\t0\t0\t0\t0\t0\t0\t0\t0\t0\t0\t0\t0\t0\t0\t0\t0\t0\t0\t0\t0\t0\t0\t0\t0\t\n",
      "0\t0\t0\t0\t0\t0\t0\t0\t0\t0\t0\t0\t0\t0\t0\t0\t0\t0\t0\t0\t0\t0\t0\t0\t0\t0\t0\t0\t\n",
      "0\t0\t0\t0\t0\t0\t0\t0\t0\t0\t0\t0\t0\t0\t0\t0\t0\t0\t0\t0\t0\t0\t0\t0\t0\t0\t0\t0\t\n",
      "0\t0\t0\t0\t0\t0\t0\t0\t0\t0\t0\t0\t0\t0\t0\t0\t0\t0\t0\t0\t0\t0\t0\t0\t0\t0\t0\t0\t\n",
      "0\t0\t0\t0\t0\t0\t0\t0\t0\t0\t0\t0\t0\t0\t0\t0\t0\t0\t0\t0\t0\t0\t0\t0\t0\t0\t0\t0\t\n",
      "0\t0\t0\t0\t0\t0\t0\t0\t0\t0\t0\t0\t3\t18\t18\t18\t126\t136\t175\t26\t166\t255\t247\t127\t0\t0\t0\t0\t\n",
      "0\t0\t0\t0\t0\t0\t0\t0\t30\t36\t94\t154\t170\t253\t253\t253\t253\t253\t225\t172\t253\t242\t195\t64\t0\t0\t0\t0\t\n",
      "0\t0\t0\t0\t0\t0\t0\t49\t238\t253\t253\t253\t253\t253\t253\t253\t253\t251\t93\t82\t82\t56\t39\t0\t0\t0\t0\t0\t\n",
      "0\t0\t0\t0\t0\t0\t0\t18\t219\t253\t253\t253\t253\t253\t198\t182\t247\t241\t0\t0\t0\t0\t0\t0\t0\t0\t0\t0\t\n",
      "0\t0\t0\t0\t0\t0\t0\t0\t80\t156\t107\t253\t253\t205\t11\t0\t43\t154\t0\t0\t0\t0\t0\t0\t0\t0\t0\t0\t\n",
      "0\t0\t0\t0\t0\t0\t0\t0\t0\t14\t1\t154\t253\t90\t0\t0\t0\t0\t0\t0\t0\t0\t0\t0\t0\t0\t0\t0\t\n",
      "0\t0\t0\t0\t0\t0\t0\t0\t0\t0\t0\t139\t253\t190\t2\t0\t0\t0\t0\t0\t0\t0\t0\t0\t0\t0\t0\t0\t\n",
      "0\t0\t0\t0\t0\t0\t0\t0\t0\t0\t0\t11\t190\t253\t70\t0\t0\t0\t0\t0\t0\t0\t0\t0\t0\t0\t0\t0\t\n",
      "0\t0\t0\t0\t0\t0\t0\t0\t0\t0\t0\t0\t35\t241\t225\t160\t108\t1\t0\t0\t0\t0\t0\t0\t0\t0\t0\t0\t\n",
      "0\t0\t0\t0\t0\t0\t0\t0\t0\t0\t0\t0\t0\t81\t240\t253\t253\t119\t25\t0\t0\t0\t0\t0\t0\t0\t0\t0\t\n",
      "0\t0\t0\t0\t0\t0\t0\t0\t0\t0\t0\t0\t0\t0\t45\t186\t253\t253\t150\t27\t0\t0\t0\t0\t0\t0\t0\t0\t\n",
      "0\t0\t0\t0\t0\t0\t0\t0\t0\t0\t0\t0\t0\t0\t0\t16\t93\t252\t253\t187\t0\t0\t0\t0\t0\t0\t0\t0\t\n",
      "0\t0\t0\t0\t0\t0\t0\t0\t0\t0\t0\t0\t0\t0\t0\t0\t0\t249\t253\t249\t64\t0\t0\t0\t0\t0\t0\t0\t\n",
      "0\t0\t0\t0\t0\t0\t0\t0\t0\t0\t0\t0\t0\t0\t46\t130\t183\t253\t253\t207\t2\t0\t0\t0\t0\t0\t0\t0\t\n",
      "0\t0\t0\t0\t0\t0\t0\t0\t0\t0\t0\t0\t39\t148\t229\t253\t253\t253\t250\t182\t0\t0\t0\t0\t0\t0\t0\t0\t\n",
      "0\t0\t0\t0\t0\t0\t0\t0\t0\t0\t24\t114\t221\t253\t253\t253\t253\t201\t78\t0\t0\t0\t0\t0\t0\t0\t0\t0\t\n",
      "0\t0\t0\t0\t0\t0\t0\t0\t23\t66\t213\t253\t253\t253\t253\t198\t81\t2\t0\t0\t0\t0\t0\t0\t0\t0\t0\t0\t\n",
      "0\t0\t0\t0\t0\t0\t18\t171\t219\t253\t253\t253\t253\t195\t80\t9\t0\t0\t0\t0\t0\t0\t0\t0\t0\t0\t0\t0\t\n",
      "0\t0\t0\t0\t55\t172\t226\t253\t253\t253\t253\t244\t133\t11\t0\t0\t0\t0\t0\t0\t0\t0\t0\t0\t0\t0\t0\t0\t\n",
      "0\t0\t0\t0\t136\t253\t253\t253\t212\t135\t132\t16\t0\t0\t0\t0\t0\t0\t0\t0\t0\t0\t0\t0\t0\t0\t0\t0\t\n",
      "0\t0\t0\t0\t0\t0\t0\t0\t0\t0\t0\t0\t0\t0\t0\t0\t0\t0\t0\t0\t0\t0\t0\t0\t0\t0\t0\t0\t\n",
      "0\t0\t0\t0\t0\t0\t0\t0\t0\t0\t0\t0\t0\t0\t0\t0\t0\t0\t0\t0\t0\t0\t0\t0\t0\t0\t0\t0\t\n",
      "0\t0\t0\t0\t0\t0\t0\t0\t0\t0\t0\t0\t0\t0\t0\t0\t0\t0\t0\t0\t0\t0\t0\t0\t0\t0\t0\t0\t\n"
     ]
    }
   ],
   "source": [
    "# 데이터를 직접 들여다보기\n",
    "for x in X_train[0]:\n",
    "    for i in x:\n",
    "        sys.stdout.write('%d\\t' % i)\n",
    "    sys.stdout.write('\\n')"
   ],
   "metadata": {
    "collapsed": false,
    "ExecuteTime": {
     "start_time": "2023-08-11T03:17:49.553321Z",
     "end_time": "2023-08-11T03:17:49.568427Z"
    }
   }
  },
  {
   "cell_type": "markdown",
   "source": [
    "##### MLP 구조 만들기\n",
    "\n",
    "MLP(Multi Layer Perceptron)의 입력 데이터는 기본적으로 벡터 형태입니다.\n",
    "X_train은 28 x 28 크기의 MNIST 데이터 60,000개가 모여 있는 배열이기 때문에, 각각의 데이터를 (28, 28) 크기의 행렬(2차원)에서 길이가 28x28=784인 벡터(1차원)로 변형시켜야 합니다. X_test에 포함된 데이터도 reshape() 함수를 사용하여 크기를 바꿔줍시다."
   ],
   "metadata": {
    "collapsed": false
   }
  },
  {
   "cell_type": "code",
   "execution_count": 25,
   "outputs": [],
   "source": [
    "# MLP 구조에 적절한 input의 형태로 변형하기\n",
    "## reshape()을 사용하여 2차원의 데이터를 1차원으로 변형\n",
    "## 1차원으로 변형함과 동시에 Normalization\n",
    "X_train = X_train.reshape(X_train.shape[0], 784).astype('float32') # 28 x 28= 784\n",
    "X_test = X_test.reshape(X_test.shape[0], 784).astype('float32')"
   ],
   "metadata": {
    "collapsed": false,
    "ExecuteTime": {
     "start_time": "2023-08-11T03:17:49.570053Z",
     "end_time": "2023-08-11T03:17:49.699209Z"
    }
   }
  },
  {
   "cell_type": "markdown",
   "source": [
    "데이터셋 행렬의 크기를 다시 확인해봅시다.\n",
    "X_train의 경우 (60000, 28, 28)에서 (60000, 784)로 변형된 것을 확인할 수 있습니다."
   ],
   "metadata": {
    "collapsed": false
   }
  },
  {
   "cell_type": "code",
   "execution_count": 26,
   "outputs": [
    {
     "name": "stdout",
     "output_type": "stream",
     "text": [
      "(60000, 784)\n",
      "(10000, 784)\n"
     ]
    }
   ],
   "source": [
    "# Q. reshape한 X_train과 X_test의 shape을 다시 확인해 보세요.\n",
    "print(X_train.shape)\n",
    "print(X_test.shape)"
   ],
   "metadata": {
    "collapsed": false,
    "ExecuteTime": {
     "start_time": "2023-08-11T03:17:49.700848Z",
     "end_time": "2023-08-11T03:17:49.711146Z"
    }
   }
  },
  {
   "cell_type": "markdown",
   "source": [
    "label의 경우 현재 0~9의 정수 값을 가지고 있습니다.\n",
    "이 값들을 분류 문제에 맞게 one-hot vector로 만들어줍시다. Y_train, Y_test의 shape을 다시 보면 길이가 10인 벡터 60,000개(test는 10,000개)가 묶인 형태로 바뀐 것을 확인할 수 있습니다."
   ],
   "metadata": {
    "collapsed": false
   }
  },
  {
   "cell_type": "markdown",
   "source": [
    "원-핫 인코딩은 \"단어 집합의 크기를 벡터의 차원으로 하고, 표현하고 싶은 단어의 인덱스에 1의 값을 부여하고, 다른 인덱스에는 0을 부여하는 단어의 벡터 표현 방식이며, 이렇게 표현된 벡터를 원-핫 벡터(One-Hot vector)\"라고 합니다. (출처: 위키독스)"
   ],
   "metadata": {
    "collapsed": false
   }
  },
  {
   "cell_type": "code",
   "execution_count": 27,
   "outputs": [],
   "source": [
    "# Label 값을 One-hot encoding 하기\n",
    "# Multi-Class Classfication이므로 keras.utils.to_categorical을 사용\n",
    "Y_train = tf.keras.utils.to_categorical(Y_train)\n",
    "Y_test = tf.keras.utils.to_categorical(Y_test)"
   ],
   "metadata": {
    "collapsed": false,
    "ExecuteTime": {
     "start_time": "2023-08-11T03:17:49.714594Z",
     "end_time": "2023-08-11T03:17:49.718528Z"
    }
   }
  },
  {
   "cell_type": "code",
   "execution_count": 28,
   "outputs": [
    {
     "name": "stdout",
     "output_type": "stream",
     "text": [
      "(60000, 10)\n",
      "(10000, 10)\n",
      "[0. 0. 0. 0. 0. 1. 0. 0. 0. 0.]\n"
     ]
    }
   ],
   "source": [
    "print(Y_train.shape)\n",
    "print(Y_test.shape)\n",
    "print(Y_train[0])"
   ],
   "metadata": {
    "collapsed": false,
    "ExecuteTime": {
     "start_time": "2023-08-11T03:17:49.720319Z",
     "end_time": "2023-08-11T03:17:49.747623Z"
    }
   }
  },
  {
   "cell_type": "markdown",
   "source": [
    "본격적으로 MLP 모델을 만들어봅시다. 모델을 만드는 여러 가지 방법이 있지만 여기서는 Functional API로 만들어 봅시다.\n",
    "\n",
    "이번에 구현할 모델은 input layer와 두 개의 hidden layer, 그리고 output layer로 구성되어 있습니다.\n",
    "특히 output layer는 특별한 task를 수행하는데, 이 경우에는 10개의 class를 분류 (multi-class classification)하는 것입니다. 만약 output layer의 perceptron이 회귀 문제에서와 같이 실수 출력 값을 가진다면 수행하고자 하는 분류 task에 적절하지 않습니다. 왜냐 하면 분류 문제에서 label 값은 one-hot vector로 인코딩되고, 이것은 특정 클래스에 속할 확률이 1이라고 해석될 수 있기 때문입니다. 그러므로 10개의 perceptron에서 나온 출력을 확률 값으로 만들기 위해 활성화 함수로 softmax를 사용해야 합니다."
   ],
   "metadata": {
    "collapsed": false
   }
  },
  {
   "cell_type": "code",
   "execution_count": 29,
   "outputs": [
    {
     "name": "stdout",
     "output_type": "stream",
     "text": [
      "Model: \"model_1\"\n",
      "_________________________________________________________________\n",
      " Layer (type)                Output Shape              Param #   \n",
      "=================================================================\n",
      " input_2 (InputLayer)        [(None, 784)]             0         \n",
      "                                                                 \n",
      " dense_3 (Dense)             (None, 512)               401920    \n",
      "                                                                 \n",
      " dense_4 (Dense)             (None, 512)               262656    \n",
      "                                                                 \n",
      " dense_5 (Dense)             (None, 10)                5130      \n",
      "                                                                 \n",
      "=================================================================\n",
      "Total params: 669706 (2.55 MB)\n",
      "Trainable params: 669706 (2.55 MB)\n",
      "Non-trainable params: 0 (0.00 Byte)\n",
      "_________________________________________________________________\n"
     ]
    }
   ],
   "source": [
    "# 모델 설계하기\n",
    "input_layer = tf.keras.layers.Input(shape=(784,)) # input layer, input의 사이즈에 맞게 shape을 지정하는 것이 중요\n",
    "x = tf.keras.layers.Dense(512, activation='relu')(input_layer) # hidden layer 1, 512개의 perceptron으로 구성된 fully connted layer, activation 함수는 relu\n",
    "x = tf.keras.layers.Dense(512, activation='relu')(x) # hidden layer 2\n",
    "\n",
    "# 분류해야 하는 class 0~9 (10개) -> 따라서 최종 layer의 perceptron은 10개\n",
    "out_layer= tf.keras.layers.Dense(10, activation='softmax')(x)\n",
    "\n",
    "model = tf.keras.Model(inputs=[input_layer], outputs=[out_layer])\n",
    "model.summary()"
   ],
   "metadata": {
    "collapsed": false,
    "ExecuteTime": {
     "start_time": "2023-08-11T03:17:49.747967Z",
     "end_time": "2023-08-11T03:17:49.860754Z"
    }
   }
  },
  {
   "cell_type": "markdown",
   "source": [
    "모델의 loss 함수, optimizer, metric을 설정하고 모델을 compile해줍시다."
   ],
   "metadata": {
    "collapsed": false
   }
  },
  {
   "cell_type": "code",
   "execution_count": 30,
   "outputs": [],
   "source": [
    "loss=tf.keras.losses.categorical_crossentropy\n",
    "optimizer = tf.keras.optimizers.Adam(learning_rate = 0.001)\n",
    "metric=tf.keras.metrics.categorical_accuracy\n",
    "model.compile(loss = loss,\n",
    "              optimizer = optimizer,\n",
    "              metrics = [metric])"
   ],
   "metadata": {
    "collapsed": false,
    "ExecuteTime": {
     "start_time": "2023-08-11T03:17:49.842559Z",
     "end_time": "2023-08-11T03:17:49.876324Z"
    }
   }
  },
  {
   "cell_type": "markdown",
   "source": [
    "##### MLP 모델 Training 하기\n",
    "\n",
    "model.fit() 함수를 이용하여 모델 학습을 시작합니다."
   ],
   "metadata": {
    "collapsed": false
   }
  },
  {
   "cell_type": "code",
   "execution_count": 31,
   "outputs": [
    {
     "name": "stdout",
     "output_type": "stream",
     "text": [
      "Epoch 1/30\n",
      "48/48 [==============================] - 2s 26ms/step - loss: 13.9263 - categorical_accuracy: 0.7904 - val_loss: 1.3289 - val_categorical_accuracy: 0.9144\n",
      "Epoch 2/30\n",
      "48/48 [==============================] - 1s 23ms/step - loss: 0.8456 - categorical_accuracy: 0.9279 - val_loss: 0.7678 - val_categorical_accuracy: 0.9313\n",
      "Epoch 3/30\n",
      "48/48 [==============================] - 1s 23ms/step - loss: 0.3967 - categorical_accuracy: 0.9509 - val_loss: 0.6263 - val_categorical_accuracy: 0.9350\n",
      "Epoch 4/30\n",
      "48/48 [==============================] - 1s 25ms/step - loss: 0.2105 - categorical_accuracy: 0.9686 - val_loss: 0.5529 - val_categorical_accuracy: 0.9406\n",
      "Epoch 5/30\n",
      "48/48 [==============================] - 1s 23ms/step - loss: 0.1159 - categorical_accuracy: 0.9789 - val_loss: 0.5200 - val_categorical_accuracy: 0.9450\n",
      "Epoch 6/30\n",
      "48/48 [==============================] - 1s 23ms/step - loss: 0.0628 - categorical_accuracy: 0.9863 - val_loss: 0.4819 - val_categorical_accuracy: 0.9489\n",
      "Epoch 7/30\n",
      "48/48 [==============================] - 1s 22ms/step - loss: 0.0321 - categorical_accuracy: 0.9917 - val_loss: 0.4697 - val_categorical_accuracy: 0.9504\n",
      "Epoch 8/30\n",
      "48/48 [==============================] - 1s 22ms/step - loss: 0.0161 - categorical_accuracy: 0.9957 - val_loss: 0.4527 - val_categorical_accuracy: 0.9499\n",
      "Epoch 9/30\n",
      "48/48 [==============================] - 1s 22ms/step - loss: 0.0069 - categorical_accuracy: 0.9984 - val_loss: 0.4536 - val_categorical_accuracy: 0.9515\n",
      "Epoch 10/30\n",
      "48/48 [==============================] - 1s 23ms/step - loss: 0.0029 - categorical_accuracy: 0.9995 - val_loss: 0.4551 - val_categorical_accuracy: 0.9530\n",
      "Epoch 11/30\n",
      "48/48 [==============================] - 1s 23ms/step - loss: 0.0013 - categorical_accuracy: 0.9998 - val_loss: 0.4482 - val_categorical_accuracy: 0.9525\n",
      "Epoch 12/30\n",
      "48/48 [==============================] - 1s 23ms/step - loss: 6.0019e-04 - categorical_accuracy: 1.0000 - val_loss: 0.4481 - val_categorical_accuracy: 0.9535\n",
      "Epoch 13/30\n",
      "48/48 [==============================] - 1s 24ms/step - loss: 4.0373e-04 - categorical_accuracy: 1.0000 - val_loss: 0.4489 - val_categorical_accuracy: 0.9538\n",
      "Epoch 14/30\n",
      "48/48 [==============================] - 1s 22ms/step - loss: 3.3298e-04 - categorical_accuracy: 1.0000 - val_loss: 0.4484 - val_categorical_accuracy: 0.9535\n",
      "Epoch 15/30\n",
      "48/48 [==============================] - 1s 22ms/step - loss: 2.9643e-04 - categorical_accuracy: 1.0000 - val_loss: 0.4485 - val_categorical_accuracy: 0.9535\n",
      "Epoch 16/30\n",
      "48/48 [==============================] - 1s 23ms/step - loss: 2.6562e-04 - categorical_accuracy: 1.0000 - val_loss: 0.4488 - val_categorical_accuracy: 0.9532\n",
      "Epoch 17/30\n",
      "48/48 [==============================] - 1s 23ms/step - loss: 2.4499e-04 - categorical_accuracy: 1.0000 - val_loss: 0.4487 - val_categorical_accuracy: 0.9535\n",
      "Epoch 18/30\n",
      "48/48 [==============================] - 1s 22ms/step - loss: 2.2701e-04 - categorical_accuracy: 1.0000 - val_loss: 0.4487 - val_categorical_accuracy: 0.9533\n",
      "Epoch 19/30\n",
      "48/48 [==============================] - 1s 24ms/step - loss: 2.1109e-04 - categorical_accuracy: 1.0000 - val_loss: 0.4488 - val_categorical_accuracy: 0.9530\n",
      "Epoch 20/30\n",
      "48/48 [==============================] - 1s 23ms/step - loss: 1.9712e-04 - categorical_accuracy: 1.0000 - val_loss: 0.4489 - val_categorical_accuracy: 0.9533\n",
      "Epoch 21/30\n",
      "48/48 [==============================] - 1s 23ms/step - loss: 1.8530e-04 - categorical_accuracy: 1.0000 - val_loss: 0.4489 - val_categorical_accuracy: 0.9536\n",
      "Epoch 22/30\n",
      "48/48 [==============================] - 1s 23ms/step - loss: 1.7392e-04 - categorical_accuracy: 1.0000 - val_loss: 0.4492 - val_categorical_accuracy: 0.9534\n",
      "Epoch 23/30\n",
      "48/48 [==============================] - 1s 23ms/step - loss: 1.6491e-04 - categorical_accuracy: 1.0000 - val_loss: 0.4490 - val_categorical_accuracy: 0.9532\n",
      "Epoch 24/30\n",
      "48/48 [==============================] - 1s 25ms/step - loss: 1.5525e-04 - categorical_accuracy: 1.0000 - val_loss: 0.4491 - val_categorical_accuracy: 0.9537\n",
      "Epoch 25/30\n",
      "48/48 [==============================] - 1s 25ms/step - loss: 1.4719e-04 - categorical_accuracy: 1.0000 - val_loss: 0.4489 - val_categorical_accuracy: 0.9538\n",
      "Epoch 26/30\n",
      "48/48 [==============================] - 1s 24ms/step - loss: 1.3960e-04 - categorical_accuracy: 1.0000 - val_loss: 0.4492 - val_categorical_accuracy: 0.9537\n",
      "Epoch 27/30\n",
      "48/48 [==============================] - 1s 23ms/step - loss: 1.3304e-04 - categorical_accuracy: 1.0000 - val_loss: 0.4490 - val_categorical_accuracy: 0.9539\n",
      "Epoch 28/30\n",
      "48/48 [==============================] - 1s 22ms/step - loss: 1.2709e-04 - categorical_accuracy: 1.0000 - val_loss: 0.4489 - val_categorical_accuracy: 0.9541\n",
      "Epoch 29/30\n",
      "48/48 [==============================] - 1s 23ms/step - loss: 1.2069e-04 - categorical_accuracy: 1.0000 - val_loss: 0.4492 - val_categorical_accuracy: 0.9538\n",
      "Epoch 30/30\n",
      "48/48 [==============================] - 1s 22ms/step - loss: 1.1598e-04 - categorical_accuracy: 1.0000 - val_loss: 0.4488 - val_categorical_accuracy: 0.9541\n",
      "dict_keys(['loss', 'categorical_accuracy', 'val_loss', 'val_categorical_accuracy'])\n"
     ]
    }
   ],
   "source": [
    "# validation_data 옵션으로 테스트 데이터만 넣어주어서 검증 데이터 분류가 가능\n",
    "history = model.fit(X_train, Y_train, validation_split=0.2, epochs=30, batch_size=1000, verbose=1)\n",
    "print(history.history.keys())"
   ],
   "metadata": {
    "collapsed": false,
    "ExecuteTime": {
     "start_time": "2023-08-11T03:17:49.863918Z",
     "end_time": "2023-08-11T03:18:23.944261Z"
    }
   }
  },
  {
   "cell_type": "markdown",
   "source": [
    "training loss와 validation loss를 확인해봅시다."
   ],
   "metadata": {
    "collapsed": false
   }
  },
  {
   "cell_type": "code",
   "execution_count": 32,
   "outputs": [
    {
     "name": "stdout",
     "output_type": "stream",
     "text": [
      "[13.926298141479492, 0.8456292152404785, 0.39666256308555603, 0.21049295365810394, 0.11585571616888046, 0.06278938800096512, 0.032061491161584854, 0.016072174534201622, 0.006855943705886602, 0.002897518454119563, 0.0013192732585594058, 0.000600192928686738, 0.00040372839430347085, 0.00033297829213552177, 0.0002964312443509698, 0.00026561893173493445, 0.0002449920866638422, 0.00022700760746374726, 0.00021109018416609615, 0.00019711647473741323, 0.00018529836961533874, 0.00017391995061188936, 0.00016490774578414857, 0.0001552483154227957, 0.0001471856376156211, 0.00013960422074887902, 0.0001330393715761602, 0.00012708608119282871, 0.00012069345393683761, 0.0001159843523055315]\n"
     ]
    }
   ],
   "source": [
    "# Training loss 확인하기\n",
    "loss = history.history['loss']\n",
    "print(loss)"
   ],
   "metadata": {
    "collapsed": false,
    "ExecuteTime": {
     "start_time": "2023-08-11T03:18:23.945660Z",
     "end_time": "2023-08-11T03:18:23.951271Z"
    }
   }
  },
  {
   "cell_type": "code",
   "execution_count": 33,
   "outputs": [
    {
     "name": "stdout",
     "output_type": "stream",
     "text": [
      "[1.3288556337356567, 0.7677625417709351, 0.6262763142585754, 0.5529055595397949, 0.5199616551399231, 0.4819473326206207, 0.46973469853401184, 0.45266634225845337, 0.45355647802352905, 0.4551476240158081, 0.44820427894592285, 0.44806385040283203, 0.448874831199646, 0.44843941926956177, 0.44851407408714294, 0.4488042891025543, 0.44871363043785095, 0.44868049025535583, 0.44882532954216003, 0.44885680079460144, 0.44894394278526306, 0.44916754961013794, 0.44897907972335815, 0.4490697979927063, 0.44894739985466003, 0.4491713047027588, 0.448995977640152, 0.44888874888420105, 0.44923731684684753, 0.44884517788887024]\n"
     ]
    }
   ],
   "source": [
    "# Q. Validation loss를 확인해 보세요.\n",
    "val_loss = history.history['val_loss']\n",
    "print(val_loss)"
   ],
   "metadata": {
    "collapsed": false,
    "ExecuteTime": {
     "start_time": "2023-08-11T03:18:23.951599Z",
     "end_time": "2023-08-11T03:18:23.957764Z"
    }
   }
  },
  {
   "cell_type": "markdown",
   "source": [
    "##### 학습된 모델의 성능 확인하기\n",
    "\n",
    "model.evaluate() 함수에 test 데이터를 입력시켜서 모델의 정확도를 확인하고, 학습이 진행되면서 training loss와 test loss가 어떻게 변하는지 그래프를 그려서 확인해봅시다."
   ],
   "metadata": {
    "collapsed": false
   }
  },
  {
   "cell_type": "code",
   "execution_count": 34,
   "outputs": [
    {
     "name": "stdout",
     "output_type": "stream",
     "text": [
      "313/313 [==============================] - 1s 2ms/step - loss: 0.4627 - categorical_accuracy: 0.9515\n",
      "\n",
      " Test Accuracy: 0.9515\n"
     ]
    }
   ],
   "source": [
    "# Test 데이터를 통해서 정확도 확인하기\n",
    "print(\"\\n Test Accuracy: %.4f\" % (model.evaluate(X_test, Y_test)[1]))"
   ],
   "metadata": {
    "collapsed": false,
    "ExecuteTime": {
     "start_time": "2023-08-11T03:18:23.959754Z",
     "end_time": "2023-08-11T03:18:24.769059Z"
    }
   }
  },
  {
   "cell_type": "code",
   "execution_count": 35,
   "outputs": [
    {
     "data": {
      "text/plain": "<Figure size 640x480 with 1 Axes>",
      "image/png": "[encoded data removed]"
     },
     "metadata": {},
     "output_type": "display_data"
    }
   ],
   "source": [
    "# 그래프로 표현\n",
    "x_len = np.arange(len(val_loss))\n",
    "plt.plot(x_len, val_loss, marker='.', c=\"red\", label='validation loss')\n",
    "plt.plot(x_len, loss, marker='.', c=\"blue\", label='training loss')\n",
    "\n",
    "# 그래프에 그리드를 주고 레이블을 표시\n",
    "plt.legend(loc='upper right')\n",
    "# plt.axis([0, 20, 0, 0.35])\n",
    "plt.grid()\n",
    "plt.xlabel('epoch')\n",
    "plt.ylabel('loss')\n",
    "plt.show()"
   ],
   "metadata": {
    "collapsed": false,
    "ExecuteTime": {
     "start_time": "2023-08-11T03:18:24.806153Z",
     "end_time": "2023-08-11T03:18:24.944002Z"
    }
   }
  },
  {
   "cell_type": "markdown",
   "source": [
    "Training loss과 test loss가 모두 아주 낮은 것을 확인할 수 있습니다. 따라서 학습한 모델이 매우 좋은 예측 성능을 보일 것으로 예상할 수 있습니다."
   ],
   "metadata": {
    "collapsed": false
   }
  },
  {
   "cell_type": "markdown",
   "source": [
    "### 2-3. MLP 모델의 한계"
   ],
   "metadata": {
    "collapsed": false
   }
  },
  {
   "cell_type": "markdown",
   "source": [
    "### MLP 모델의 한계를 코드로 확인하기\n",
    "\n",
    "MLP 모델의 한계를 코드로 확인해 보겠습니다. 원본 데이터를 살짝 변형했을 때 MLP 구조가 이미지를 잘 인식하는지 실펴 보겠습니다.\n",
    "\n",
    "#### 원본 데이터를 변형해서 MLP 구조의 성능 테스트하기\n",
    "\n",
    "이번 스텝에서 사용할 OpenCV 라이브러리와 MNIST 데이터를 불러옵시다. 참고로 OpenCV 라이브러리는 이미지 데이터를 다루는 데에 매우 효과적인 도구들을 갖추고 있는 모듈입니다."
   ],
   "metadata": {
    "collapsed": false
   }
  },
  {
   "cell_type": "code",
   "execution_count": 36,
   "outputs": [],
   "source": [
    "# OpenCV 모듈 불러오기\n",
    "import cv2"
   ],
   "metadata": {
    "collapsed": false,
    "ExecuteTime": {
     "start_time": "2023-08-11T03:18:24.945221Z",
     "end_time": "2023-08-11T03:18:24.948755Z"
    }
   }
  },
  {
   "cell_type": "code",
   "execution_count": 38,
   "outputs": [],
   "source": [
    "# Q. 다시 한번 MNIST 데이터를 불러와 보세요.\n",
    "(X_train, Y_train), (X_test, Y_test) = tf.keras.datasets.mnist.load_data()"
   ],
   "metadata": {
    "collapsed": false,
    "ExecuteTime": {
     "start_time": "2023-08-11T03:18:52.229882Z",
     "end_time": "2023-08-11T03:18:52.501027Z"
    }
   }
  },
  {
   "cell_type": "markdown",
   "source": [
    "이전 스텝에서 확인했던 것처럼, 원본 MNIST 데이터는 다음과 같이 생겼습니다."
   ],
   "metadata": {
    "collapsed": false
   }
  },
  {
   "cell_type": "code",
   "execution_count": 39,
   "outputs": [
    {
     "name": "stdout",
     "output_type": "stream",
     "text": [
      "5\n"
     ]
    },
    {
     "data": {
      "text/plain": "<Figure size 640x480 with 1 Axes>",
      "image/png": "[encoded data removed]"
     },
     "metadata": {},
     "output_type": "display_data"
    }
   ],
   "source": [
    "# Q. MNIST 데이터가 어떻게 생겼는지 확인해 봅시다. (이전 스텝을 참고해서 코드를 작성해 보세요.)\n",
    "# MNIST 데이터를 시각화하기\n",
    "import matplotlib.pyplot as plt\n",
    "print(Y_train[0])\n",
    "plt.imshow(X_train[0], cmap='Greys') # 흑백 이미지로 확인\n",
    "plt.show()"
   ],
   "metadata": {
    "collapsed": false,
    "ExecuteTime": {
     "start_time": "2023-08-11T03:19:55.143798Z",
     "end_time": "2023-08-11T03:19:55.275263Z"
    }
   }
  },
  {
   "cell_type": "markdown",
   "source": [
    "이번에는 MNIST 데이터에 장난을 조금 쳐보겠습니다.\n",
    "OpenCV의 함수들을 이용해서 MNIST 이미지에 회전 변환과 이동 변환(선형 변환)을 적용합니다.\n",
    "\n",
    "선형 변환을 위해서 변환 매트릭스를 먼저 구하고, 이미지에 변환 매트릭스를 적용해 봅시다. 즉 원본 이미지에 선형 변환 매트릭스를 곱하여 원본 이미지를 변환하는 것입니다."
   ],
   "metadata": {
    "collapsed": false
   }
  },
  {
   "cell_type": "code",
   "execution_count": 40,
   "outputs": [],
   "source": [
    "# 이미지 회전 변환 메트릭스 구하기\n",
    "M= cv2.getRotationMatrix2D((20, 25), 20, 1)  ## 회전 변환 Matrix 생성\n",
    "\n",
    "# 이미지 이동 변환 메트릭스 구하기\n",
    "M[0, 2] = M[0, 2] + 3\n",
    "M[1, 2] = M[1, 2] + 3\n",
    "\n",
    "# 이미지 변환 메트릭스 적용\n",
    "test_image = cv2.warpAffine(X_train[5], M, (28, 28))  ## image에 matrix 곱"
   ],
   "metadata": {
    "collapsed": false,
    "ExecuteTime": {
     "start_time": "2023-08-11T03:20:28.094626Z",
     "end_time": "2023-08-11T03:20:28.127799Z"
    }
   }
  },
  {
   "cell_type": "markdown",
   "source": [
    "변환된 이미지는 다음과 같습니다."
   ],
   "metadata": {
    "collapsed": false
   }
  },
  {
   "cell_type": "code",
   "execution_count": 41,
   "outputs": [
    {
     "data": {
      "text/plain": "<matplotlib.image.AxesImage at 0x7fdb9bb29d50>"
     },
     "execution_count": 41,
     "metadata": {},
     "output_type": "execute_result"
    },
    {
     "data": {
      "text/plain": "<Figure size 640x480 with 1 Axes>",
      "image/png": "[encoded data removed]"
     },
     "metadata": {},
     "output_type": "display_data"
    }
   ],
   "source": [
    "plt.imshow(test_image, cmap='Greys')"
   ],
   "metadata": {
    "collapsed": false,
    "ExecuteTime": {
     "start_time": "2023-08-11T03:20:47.580391Z",
     "end_time": "2023-08-11T03:20:47.771019Z"
    }
   }
  },
  {
   "cell_type": "markdown",
   "source": [
    "MLP 모델은 변환된 이미지도 분류를 잘 할 수 있을까요?\n",
    "이전 스텝에서와 같이 이미지의 shape을 바꿔주고 모델에 넣어줍니다."
   ],
   "metadata": {
    "collapsed": false
   }
  },
  {
   "cell_type": "code",
   "execution_count": 42,
   "outputs": [],
   "source": [
    "# MLP의 input 데이터를 넣어주기 위해 1x784 형태로 reshape하고 normalization\n",
    "test_image_reshape = test_image.reshape(1, 784).astype('float64')"
   ],
   "metadata": {
    "collapsed": false,
    "ExecuteTime": {
     "start_time": "2023-08-11T03:21:06.724994Z",
     "end_time": "2023-08-11T03:21:06.760788Z"
    }
   }
  },
  {
   "cell_type": "code",
   "execution_count": 43,
   "outputs": [
    {
     "name": "stdout",
     "output_type": "stream",
     "text": [
      "1/1 [==============================] - 0s 81ms/step\n"
     ]
    }
   ],
   "source": [
    "Y_prediction = model.predict(test_image_reshape)"
   ],
   "metadata": {
    "collapsed": false,
    "ExecuteTime": {
     "start_time": "2023-08-11T03:22:05.040806Z",
     "end_time": "2023-08-11T03:22:05.169745Z"
    }
   }
  },
  {
   "cell_type": "code",
   "execution_count": 44,
   "outputs": [
    {
     "data": {
      "text/plain": "<Figure size 640x480 with 1 Axes>",
      "image/png": "[encoded data removed]"
     },
     "metadata": {},
     "output_type": "display_data"
    }
   ],
   "source": [
    "index = np.argmax(Y_prediction) # 10개의 class가 각 확률 값으로 나오기 때문에 가장 높은 값을 가진 인덱스를 추출\n",
    "value = Y_prediction[:, index]\n",
    "plt.imshow(test_image, cmap='Greys')\n",
    "plt.xlabel(\"prediction: \"+str(index)+\"  \" +str(value), fontsize=20)\n",
    "plt.show()"
   ],
   "metadata": {
    "collapsed": false,
    "ExecuteTime": {
     "start_time": "2023-08-11T03:22:20.674964Z",
     "end_time": "2023-08-11T03:22:20.804540Z"
    }
   }
  },
  {
   "cell_type": "markdown",
   "source": [
    "분명히 숫자 2를 나타낸 이미지였지만 간단한 변환을 적용했더니 모델은 데이터를 다른 숫자로 잘못 인식했습니다. 즉 MLP로 학습한 모델은 이미지 분류기로서는 robust classifier가 아니라는 것을 알 수 있습니다. MLP를 이용해서 이미지를 분류하는 데에는 뭔가 문제가 있는 것 같습니다.\n",
    "\n",
    "분명히 이전에 학습한 결과는 test loss가 매우 낮았으므로 분류 성능이 좋아야 하는데, 왜 이런 결과를 보이는 걸까요?"
   ],
   "metadata": {
    "collapsed": false
   }
  },
  {
   "cell_type": "markdown",
   "source": [
    "![](./img02/13.png)\n",
    "\n",
    "0-255 사이 값을 가진 데이터가 784개 존재. 가로 세로가 존재하는 2차원 데이터\n",
    "\n",
    "MLP 모델은 인풋구조가 1차원이라 2차원을 1차원으로 변경하는 작업 선행"
   ],
   "metadata": {
    "collapsed": false
   }
  },
  {
   "cell_type": "markdown",
   "source": [
    "![](./img02/14.png)\n",
    "\n",
    "1번째 row에 28개의 노드를 넣어줌\n",
    "\n",
    "총 28번째까지의 노드를 쭉 일렬로 세울수 있!"
   ],
   "metadata": {
    "collapsed": false
   }
  },
  {
   "cell_type": "markdown",
   "source": [
    "![](./img02/15.png)\n",
    "\n",
    "총 784개의 값이 1차원의 인풋노드에 들어감\n",
    "\n",
    "이미지는 2D, 정확히는 3D 데이터이므로 1D로 변경하는 과정에서 정보가 손실됨"
   ],
   "metadata": {
    "collapsed": false
   }
  },
  {
   "cell_type": "markdown",
   "source": [
    "![](./img02/16.png)\n",
    "\n",
    "![](./img02/17.png)\n",
    "\n",
    "고양이라고 판단한것은 2D였을때 데이터 구조안에 정보가 담겨있었기 때문\n",
    "\n",
    "상하좌우의 픽셀간 관계를 통해 그 의미를 찾는다\n",
    "\n",
    "2D에서 가지고 있던 정보가 사라짐 1D로 변경하면서 정보가 파괴\n",
    "\n",
    "2D애서 1D로 바꾸어 분석하는 것은 적절치 않음"
   ],
   "metadata": {
    "collapsed": false
   }
  },
  {
   "cell_type": "markdown",
   "source": [
    "![](./img02/18.png)\n",
    "\n",
    "MLP는 1D의 인풋구조를 가지고 있음\n",
    "\n",
    "1차원으로 바꾸면 당연히 정보가 깨지고 숨겨져 있던 패턴이 사라짐"
   ],
   "metadata": {
    "collapsed": false
   }
  },
  {
   "cell_type": "markdown",
   "source": [
    "Q. MNIST dataset을 가지고 MLP 모델에 적용해 보았습니다. MLP 모델에 데이터 셋을 적용하려면 data 구조를 어떻게 변경해야 하는지 설명해 보세요.\n",
    "\n",
    "MNIST dataset은 28 x 28 사이즈로 784 pixel의 2D 이미지입니다. 이를 MLP 모델에 적용하기 위해서는 2차원 데이터 1차원 구조로 변경시켜야 합니다.\n",
    "\n",
    "2D(Dimension)를 1D(Dimension)로 변경하는 법은 각각의 열의 값을 1차원의 값(28개의 노드)으로 만들어 줍니다. 1열부터 28열까지 동일한 과정을 진행하면 784개의 값이 MLP에 들어가게 됩니다."
   ],
   "metadata": {
    "collapsed": false
   }
  },
  {
   "cell_type": "markdown",
   "source": [
    "Q. 2차원의 이미지(고양이)를 1차원의 구조로 바꾸면 고양이라고 할 수 있을까요? 🐈❓\n",
    "\n",
    "하나의 픽셀의 의미는 주변 픽셀과의 관계를 통해서 결정되기 때문에 2차원 이미지를 1차원의 구조로 바꾸면 숨겨져 있던 패턴의 정보가 사라집니다. 따라서 1차원의 구조로 바꾼 것만을 보고는 고양이라고 이야기를 하기는 어렵게 됩니다. 🐈🚫"
   ],
   "metadata": {
    "collapsed": false
   }
  },
  {
   "cell_type": "markdown",
   "source": [
    "Q. 하나의 픽셀은 하나의 픽셀만을 가지고 정보와 의미를 파악할 수 있을까요?\n",
    "\n",
    "앞에 배운 것처럼 하나의 픽셀만을 가지고 정보와 의미를 파악할 수 없습니다. 픽셀의 정보와 의미를 파악하기 위해서는 주변(상하좌우) 픽셀과의 관계에 의해서 결정됩니다."
   ],
   "metadata": {
    "collapsed": false
   }
  },
  {
   "cell_type": "markdown",
   "source": [
    "![](./img02/19.png)"
   ],
   "metadata": {
    "collapsed": false
   }
  },
  {
   "cell_type": "markdown",
   "source": [
    "#### 종합퀴즈"
   ],
   "metadata": {
    "collapsed": false
   }
  },
  {
   "cell_type": "markdown",
   "source": [
    "Q. MLP 모델 구조의 핵심을 한 줄로 요약해 봅시다.\n",
    "\n",
    "MLP 모델 구조의 핵심은 데이터 안에 숨겨진 패턴을 Representation을 통해서 찾는 것입니다.\n",
    "\n",
    "GPT 답변\n",
    "MLP 모델 구조의 핵심은 여러 개의 은닉층(hidden layer)을 포함한 인공신경망(Artificial Neural Network)을 이용하여 입력 데이터로부터 특징을 추출하고, 학습하여 출력을 예측하는 것입니다."
   ],
   "metadata": {
    "collapsed": false
   }
  },
  {
   "cell_type": "markdown",
   "source": [
    "Q. MLP 모델로 이미지 분류를 하기 위해서는 2차원의 이미지를 1차원으로 변형해야 했습니다. 이때, 발생하는 문제점은 어떤 것인지 설명해 봅시다.\n",
    "\n",
    "이미지 차원을 변형하면, 이미지 데이터가 가진 정보를 잃게 됩니다. (아까 고양이 사진 기억나시죠? 😉)"
   ],
   "metadata": {
    "collapsed": false
   }
  },
  {
   "cell_type": "markdown",
   "source": [],
   "metadata": {
    "collapsed": false
   }
  },
  {
   "cell_type": "markdown",
   "source": [],
   "metadata": {
    "collapsed": false
   }
  },
  {
   "cell_type": "markdown",
   "source": [],
   "metadata": {
    "collapsed": false
   }
  },
  {
   "cell_type": "markdown",
   "source": [],
   "metadata": {
    "collapsed": false
   }
  },
  {
   "cell_type": "markdown",
   "source": [],
   "metadata": {
    "collapsed": false
   }
  },
  {
   "cell_type": "markdown",
   "source": [],
   "metadata": {
    "collapsed": false
   }
  },
  {
   "cell_type": "markdown",
   "source": [],
   "metadata": {
    "collapsed": false
   }
  },
  {
   "cell_type": "markdown",
   "source": [],
   "metadata": {
    "collapsed": false
   }
  },
  {
   "cell_type": "markdown",
   "source": [],
   "metadata": {
    "collapsed": false
   }
  }
 ],
 "metadata": {
  "kernelspec": {
   "display_name": "Python 3",
   "language": "python",
   "name": "python3"
  },
  "language_info": {
   "codemirror_mode": {
    "name": "ipython",
    "version": 2
   },
   "file_extension": ".py",
   "mimetype": "text/x-python",
   "name": "python",
   "nbconvert_exporter": "python",
   "pygments_lexer": "ipython2",
   "version": "2.7.6"
  }
 },
 "nbformat": 4,
 "nbformat_minor": 0
}
