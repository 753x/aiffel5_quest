{
 "cells": [
  {
   "cell_type": "markdown",
   "source": [
    "## 딥러닝으로 시작하는 컴퓨터 비전\n",
    "### 1. 컴퓨터 비전 태스크 “상상”해 보기"
   ],
   "metadata": {
    "collapsed": false
   }
  },
  {
   "cell_type": "markdown",
   "source": [
    "#### 1-1. 노드를 여행하는 히치하이커를 위한 안내서"
   ],
   "metadata": {
    "collapsed": false
   }
  },
  {
   "cell_type": "markdown",
   "source": [
    "'딥러닝으로 시작하는 컴퓨터 비전'을 모두 학습하면 할 수 있는 것은?\n",
    "프로젝트 1: Image Classification\n",
    "프로젝트 1에서는 VGG16 모델을 사용하여 개와 고양이 사진을 분류해 봅니다. 여러분들은 이 프로젝트에서 VGG16 모델을 직접 구현하고 성능을 확인해 볼 거에요\n",
    "\n",
    "![](https://d3s0tskafalll9.cloudfront.net/media/images/SeuKeuLinSyas_2023-03-30_150258.max-800x600.png)"
   ],
   "metadata": {
    "collapsed": false
   }
  },
  {
   "cell_type": "markdown",
   "source": [
    "모델의 정확도는 아래 이미지와 같이 정확도(Accuracy)와 손실(Loss) 그래프를 그려서 확인합니다. 예시로 주어진 코드의 성능이 그리 좋지 않기 때문에 여러분들은 콘텐츠에서 다룬 다양한 방법을 사용하여 모델의 성능을 높여보는 것까지 해보시게 될 거에요."
   ],
   "metadata": {
    "collapsed": false
   }
  },
  {
   "cell_type": "markdown",
   "source": [
    "![](https://d3s0tskafalll9.cloudfront.net/media/original_images/SeuKeuLinSyas_2023-03-30_150322.png)"
   ],
   "metadata": {
    "collapsed": false
   }
  },
  {
   "cell_type": "markdown",
   "source": [
    "프로젝트 2: Object Detection\n",
    "프로젝트 2에서는 오픈 소스로 공개된 모델을 사용하여 Object Detection을 해봅니다. 다양한 모델 중 우리는 Faster RCNN을 사용합니다.\n",
    "\n",
    "여러분들은 이 프로젝트에서 2가지 문제를 해결하셔야 합니다. 첫번째는 LMS에서 제공하는 이미지 외의 다른 이미지를 가져와서 Object Detection을 해보는 것이고, 두번째는 다양한 pre-trained model을 사용하여 결과를 테스트해보는 것입니다"
   ],
   "metadata": {
    "collapsed": false
   }
  },
  {
   "cell_type": "markdown",
   "source": [
    "![](https://d3s0tskafalll9.cloudfront.net/media/images/SeuKeuLinSyas_2023-03-30_150157.max-800x600.png)"
   ],
   "metadata": {
    "collapsed": false
   }
  },
  {
   "cell_type": "markdown",
   "source": [
    "콘텐츠 구성 및 학습 가이드\n",
    "이번에는 '딥러닝으로 시작하는 컴퓨터 비전'이 어떻게 구성되어 있는지와 어떻게 학습할지를 알아보겠습니다.\n",
    "\n",
    "콘텐츠 구성\n",
    "'딥러닝으로 시작하는 컴퓨터 비전'은 총 10개의 노드로 구성되어 있습니다. 1~9번 노드는 이론이고, 10번 노드는 프로젝트입니다.\n",
    "\n",
    "이론\n",
    "\n",
    "컴퓨터 비전 태스트 '상상'해 보기\n",
    "다층 퍼셉트론(Multi-Layer Perceptron) 구조 복습하기\n",
    "CNN 하나씩 이해하기 (1) 1-Channel Convolution\n",
    "CNN 하나씩 이해하기 (2) 3-Channel Convolution\n",
    "CNN 하나씩 이해하기 (3) Pooling\n",
    "심화된 CNN 구조\n",
    "Transfer Learning 이해하기\n",
    "Object Detection\n",
    "Segmentation\n",
    "프로젝트\n"
   ],
   "metadata": {
    "collapsed": false
   }
  },
  {
   "cell_type": "markdown",
   "source": [
    "#### 1-2. 들어가며"
   ],
   "metadata": {
    "collapsed": false
   }
  },
  {
   "cell_type": "markdown",
   "source": [
    "![](img01/01.png)"
   ],
   "metadata": {
    "collapsed": false
   }
  },
  {
   "cell_type": "markdown",
   "source": [
    "#### 학습 내용\n",
    "1. 이미지 \"데이터\" 이해하기\n",
    " - 인간이 이미지를 인식하는 방법과 컴퓨터가 이미지를 인식하는 방법을 알아보고, 차이점을 알아봅니다.\n",
    "2. 이미지 내의 정보 찾아보기\n",
    " - 데이터는 정보일까요? 이미지 내의 정보의 특징을 알아봅니다.\n",
    "3. 컴퓨터 비전의 다양한 태스크\n",
    " - 컴퓨터 비전의 대표적인 태스크인 Classification, Object Detection, Segmentation을 알아봅니다."
   ],
   "metadata": {
    "collapsed": false
   }
  },
  {
   "cell_type": "markdown",
   "source": [
    "#### 학습목표\n",
    "\n",
    "이미지 데이터가 가진 특징을 이해한다.\n",
    "\n",
    "각 컴퓨터 비전 태스크들의 목표와 차이점을 이해한다"
   ],
   "metadata": {
    "collapsed": false
   }
  },
  {
   "cell_type": "markdown",
   "source": [
    "### 1-3. 이미지 \"데이터\" 이해하기"
   ],
   "metadata": {
    "collapsed": false
   }
  },
  {
   "cell_type": "markdown",
   "source": [
    "![](img01/02.png)\n",
    "\n",
    "빛을 제공해주는 태양\n",
    "\n",
    "가시광선 안에는 RGB 세 가지 색상이 있습니다.\n",
    "\n",
    "반사된 빛의 요소 존재(input)\n",
    "\n",
    "반사된 빛이 눈에 들어오고 들어온 빛을 처리하는 세포가 존재함\n",
    "\n",
    "원추세포에는 RGB를 각각 처리하는 영역이 있음\n",
    "\n",
    "인풋으로 들어온 신호가 세포를 통해 전기 신호로 변형되며 이 신호는 뇌를 통해 빨간 사과라고 인식!"
   ],
   "metadata": {
    "collapsed": false
   }
  },
  {
   "cell_type": "markdown",
   "source": [
    "![](img01/03.png)\n",
    "가로 세로 2차원의 고양이 사진 존재\n",
    "\n",
    "사실은 3차원의 데이터를 가지고 있음(가로 세로 depth)\n",
    "\n",
    "RGB 3개의 채널을 가지고 있음\n",
    "\n",
    "3개의 채널을 통해 입력된 숫자 덩어리는 input으로 컴퓨터에게 전달됨\n",
    "\n",
    "연산장치를 통해 input을 프로세싱하여 고양이 사진을 output으로 출력"
   ],
   "metadata": {
    "collapsed": false
   }
  },
  {
   "cell_type": "markdown",
   "source": [
    "Q. 인간이 이미지를 인식하는 방법과 컴퓨터가 이미지를 인식하는 방법의 차이를 설명해 보세요.\n",
    "\n",
    "인간이 이미지를 인식할 때는 반사된 빛의 일부가 눈에 입력으로 들어오면 눈의 세포를 통해 빛의 신호가 전기 신호로 변환되어 뇌로 전달됩니다. 그 후 뇌에서 이미지가 출력됩니다.\n",
    "\n",
    "반면 컴퓨터는 이미지를 숫자로 인식합니다. 숫자가 입력으로 컴퓨터에 주어지면 컴퓨터의 연산 장치로 연산이 처리되고 결과를 출력합니다."
   ],
   "metadata": {
    "collapsed": false
   }
  },
  {
   "cell_type": "markdown",
   "source": [
    "#### 1-4. 이미지 내의 정보 찾아보기"
   ],
   "metadata": {
    "collapsed": false
   }
  },
  {
   "cell_type": "markdown",
   "source": [
    "![](img01/04.png)\n",
    "\n",
    "숫자덩어리 안에는 의미 정보 패턴을 가지고 있다"
   ],
   "metadata": {
    "collapsed": false
   }
  },
  {
   "cell_type": "markdown",
   "source": [
    "![](img01/05.png)"
   ],
   "metadata": {
    "collapsed": false
   }
  },
  {
   "cell_type": "markdown",
   "source": [],
   "metadata": {
    "collapsed": false
   }
  },
  {
   "cell_type": "markdown",
   "source": [],
   "metadata": {
    "collapsed": false
   }
  },
  {
   "cell_type": "markdown",
   "source": [],
   "metadata": {
    "collapsed": false
   }
  },
  {
   "cell_type": "markdown",
   "source": [],
   "metadata": {
    "collapsed": false
   }
  },
  {
   "cell_type": "markdown",
   "source": [],
   "metadata": {
    "collapsed": false
   }
  },
  {
   "cell_type": "markdown",
   "source": [],
   "metadata": {
    "collapsed": false
   }
  },
  {
   "cell_type": "markdown",
   "source": [],
   "metadata": {
    "collapsed": false
   }
  },
  {
   "cell_type": "markdown",
   "source": [],
   "metadata": {
    "collapsed": false
   }
  },
  {
   "cell_type": "markdown",
   "source": [],
   "metadata": {
    "collapsed": false
   }
  },
  {
   "cell_type": "markdown",
   "source": [],
   "metadata": {
    "collapsed": false
   }
  },
  {
   "cell_type": "markdown",
   "source": [],
   "metadata": {
    "collapsed": false
   }
  },
  {
   "cell_type": "markdown",
   "source": [],
   "metadata": {
    "collapsed": false
   }
  },
  {
   "cell_type": "markdown",
   "source": [],
   "metadata": {
    "collapsed": false
   }
  },
  {
   "cell_type": "markdown",
   "source": [],
   "metadata": {
    "collapsed": false
   }
  },
  {
   "cell_type": "markdown",
   "source": [],
   "metadata": {
    "collapsed": false
   }
  },
  {
   "cell_type": "markdown",
   "source": [],
   "metadata": {
    "collapsed": false
   }
  },
  {
   "cell_type": "markdown",
   "source": [],
   "metadata": {
    "collapsed": false
   }
  },
  {
   "cell_type": "markdown",
   "source": [],
   "metadata": {
    "collapsed": false
   }
  },
  {
   "cell_type": "markdown",
   "source": [],
   "metadata": {
    "collapsed": false
   }
  },
  {
   "cell_type": "markdown",
   "source": [],
   "metadata": {
    "collapsed": false
   }
  },
  {
   "cell_type": "markdown",
   "source": [],
   "metadata": {
    "collapsed": false
   }
  },
  {
   "cell_type": "markdown",
   "source": [],
   "metadata": {
    "collapsed": false
   }
  },
  {
   "cell_type": "markdown",
   "source": [],
   "metadata": {
    "collapsed": false
   }
  },
  {
   "cell_type": "markdown",
   "source": [],
   "metadata": {
    "collapsed": false
   }
  },
  {
   "cell_type": "markdown",
   "source": [],
   "metadata": {
    "collapsed": false
   }
  },
  {
   "cell_type": "markdown",
   "source": [],
   "metadata": {
    "collapsed": false
   }
  }
 ],
 "metadata": {
  "kernelspec": {
   "display_name": "Python 3",
   "language": "python",
   "name": "python3"
  },
  "language_info": {
   "codemirror_mode": {
    "name": "ipython",
    "version": 2
   },
   "file_extension": ".py",
   "mimetype": "text/x-python",
   "name": "python",
   "nbconvert_exporter": "python",
   "pygments_lexer": "ipython2",
   "version": "2.7.6"
  }
 },
 "nbformat": 4,
 "nbformat_minor": 0
}
