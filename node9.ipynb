{
 "cells": [
  {
   "cell_type": "markdown",
   "source": [
    "## 9. 클래스\n",
    "9-1 들어가며\n",
    "9-2 클래스와 객체\n",
    "1) 클래스와 객체의 관계 이해하기\n",
    "-클래스=신발설계도\n",
    "-객체=신발설계도로 만든 여러 신발, 색깔이나 사이즈라는 속성을 가짐"
   ],
   "metadata": {
    "collapsed": false
   }
  },
  {
   "cell_type": "markdown",
   "source": [
    "9-3 클래스 만들기\n",
    "1) 클래스 용어\n",
    "클래스(class) - 제품의 설계도\n",
    "\n",
    "객체(object) - 설계도를 통해 만들어진 제품\n",
    "\n",
    "속성(attribute) - 클래스 안의 변수\n",
    "\n",
    "메서드(method) - 클래스 안의 함수\n",
    "\n",
    "생성자(constructor) - 객체를 만들 때 실행되는 함수\n",
    "\n",
    "인스턴스(instance) - 메모리에 살아있는 객체\n",
    "\n",
    "** 인스턴스는 객체 안에 포함되어 있다"
   ],
   "metadata": {
    "collapsed": false
   }
  },
  {
   "cell_type": "markdown",
   "source": [
    "2) 클래스 만들기\n",
    "\n",
    "class 클래스이름:\n",
    "\n",
    "    def 메소드이름(self):\n",
    "\n",
    "        명령블록\n",
    "\n",
    "클래스 이름은 대부분 대문자로 시작,캐멀케이스\n",
    "\n",
    "메개변수는 꼭 self를 넣어야 함\n",
    "\n",
    "클래스 호출방법\n",
    "\n",
    "객체 = 클래스이름()\n",
    "\n",
    "객체.메소드이름()"
   ],
   "metadata": {
    "collapsed": false
   }
  },
  {
   "cell_type": "code",
   "execution_count": 2,
   "outputs": [
    {
     "name": "stdout",
     "output_type": "stream",
     "text": [
      "끝까지 화이팅\n"
     ]
    }
   ],
   "source": [
    "# 첫 클래스 만들기\n",
    "class Aiffel: # 클래스 이름은 대문자로 시작\n",
    "    def cheer(self):\n",
    "        print('끝까지 화이팅')\n",
    "# 객체를 만들고 메소드 돌려보기\n",
    "python = Aiffel()\n",
    "python.cheer()"
   ],
   "metadata": {
    "collapsed": false,
    "ExecuteTime": {
     "end_time": "2023-07-05T05:26:32.216293Z",
     "start_time": "2023-07-05T05:26:32.213434Z"
    }
   }
  },
  {
   "cell_type": "markdown",
   "source": [
    "생성자와 속성을 포함한 클래스\n",
    "생성자(__init__)란?\n",
    "\n",
    "클래스에 ()를 붙여서 객체를 만들때 호출되는 특별한 메소드\n",
    "\n",
    "__(밑줄 두개)가 붙은 메소드 : 매직 메소드\n",
    "\n",
    "생성자의 매개변수로는 자기 자신(self)와 속성값이 들어갈 수 있음"
   ],
   "metadata": {
    "collapsed": false
   }
  },
  {
   "cell_type": "code",
   "execution_count": null,
   "outputs": [],
   "source": [],
   "metadata": {
    "collapsed": false
   }
  }
 ],
 "metadata": {
  "kernelspec": {
   "display_name": "Python 3",
   "language": "python",
   "name": "python3"
  },
  "language_info": {
   "codemirror_mode": {
    "name": "ipython",
    "version": 2
   },
   "file_extension": ".py",
   "mimetype": "text/x-python",
   "name": "python",
   "nbconvert_exporter": "python",
   "pygments_lexer": "ipython2",
   "version": "2.7.6"
  }
 },
 "nbformat": 4,
 "nbformat_minor": 0
}
