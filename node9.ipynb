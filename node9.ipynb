{
 "cells": [
  {
   "cell_type": "markdown",
   "source": [
    "## 9. 클래스\n",
    "9-1 들어가며\n",
    "9-2 클래스와 객체\n",
    "1) 클래스와 객체의 관계 이해하기\n",
    "-클래스=신발설계도\n",
    "-객체=신발설계도로 만든 여러 신발, 색깔이나 사이즈라는 속성을 가짐"
   ],
   "metadata": {
    "collapsed": false
   }
  },
  {
   "cell_type": "markdown",
   "source": [
    "9-3 클래스 만들기\n",
    "1) 클래스 용어\n",
    "클래스(class) - 제품의 설계도\n",
    "\n",
    "객체(object) - 설계도를 통해 만들어진 제품\n",
    "\n",
    "속성(attribute) - 클래스 안의 변수\n",
    "\n",
    "메서드(method) - 클래스 안의 함수\n",
    "\n",
    "생성자(constructor) - 객체를 만들 때 실행되는 함수\n",
    "\n",
    "인스턴스(instance) - 메모리에 살아있는 객체\n",
    "\n",
    "** 인스턴스는 객체 안에 포함되어 있다"
   ],
   "metadata": {
    "collapsed": false
   }
  },
  {
   "cell_type": "markdown",
   "source": [
    "2) 클래스 만들기\n",
    "\n",
    "class 클래스이름:\n",
    "    def 메소드이름(self):\n",
    "        명령블록\n",
    "\n",
    "클래스 이름은 대부분 대문자로 시작,캐멀케이스\n",
    "\n",
    "메개변수는 꼭 self를 넣어야 함\n",
    "\n",
    "클래스 호출방법\n",
    "\n",
    "객체 = 클래스이름()\n",
    "\n",
    "객체.메소드이름()"
   ],
   "metadata": {
    "collapsed": false
   }
  },
  {
   "cell_type": "markdown",
   "source": [],
   "metadata": {
    "collapsed": false
   }
  }
 ],
 "metadata": {
  "kernelspec": {
   "display_name": "Python 3",
   "language": "python",
   "name": "python3"
  },
  "language_info": {
   "codemirror_mode": {
    "name": "ipython",
    "version": 2
   },
   "file_extension": ".py",
   "mimetype": "text/x-python",
   "name": "python",
   "nbconvert_exporter": "python",
   "pygments_lexer": "ipython2",
   "version": "2.7.6"
  }
 },
 "nbformat": 4,
 "nbformat_minor": 0
}
