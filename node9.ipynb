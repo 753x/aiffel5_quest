{
 "cells": [
  {
   "cell_type": "markdown",
   "source": [
    "## 9. 클래스\n",
    "9-1 들어가며\n",
    "9-2 클래스와 객체\n",
    "1) 클래스와 객체의 관계 이해하기\n",
    "-클래스=신발설계도\n",
    "-객체=신발설계도로 만든 여러 신발, 색깔이나 사이즈라는 속성을 가짐"
   ],
   "metadata": {
    "collapsed": false
   }
  },
  {
   "cell_type": "markdown",
   "source": [
    "9-3 클래스 만들기\n",
    "1) 클래스 용어\n",
    "클래스(class) - 제품의 설계도\n",
    "\n",
    "객체(object) - 설계도를 통해 만들어진 제품\n",
    "\n",
    "속성(attribute) - 클래스 안의 변수\n",
    "\n",
    "메서드(method) - 클래스 안의 함수\n",
    "\n",
    "생성자(constructor) - 객체를 만들 때 실행되는 함수\n",
    "\n",
    "인스턴스(instance) - 메모리에 살아있는 객체\n",
    "\n",
    "** 인스턴스는 객체 안에 포함되어 있다"
   ],
   "metadata": {
    "collapsed": false
   }
  },
  {
   "cell_type": "markdown",
   "source": [
    "2) 클래스 만들기\n",
    "\n",
    "class 클래스이름:\n",
    "\n",
    "    def 메소드이름(self):\n",
    "\n",
    "        명령블록\n",
    "\n",
    "클래스 이름은 대부분 대문자로 시작,캐멀케이스\n",
    "\n",
    "메개변수는 꼭 self를 넣어야 함\n",
    "\n",
    "클래스 호출방법\n",
    "\n",
    "객체 = 클래스이름()\n",
    "\n",
    "객체.메소드이름()"
   ],
   "metadata": {
    "collapsed": false
   }
  },
  {
   "cell_type": "code",
   "execution_count": 2,
   "outputs": [
    {
     "name": "stdout",
     "output_type": "stream",
     "text": [
      "끝까지 화이팅\n"
     ]
    }
   ],
   "source": [
    "# 첫 클래스 만들기\n",
    "class Aiffel: # 클래스 이름은 대문자로 시작\n",
    "    def cheer(self):\n",
    "        print('끝까지 화이팅')\n",
    "# 객체를 만들고 메소드 돌려보기\n",
    "python = Aiffel()\n",
    "python.cheer()"
   ],
   "metadata": {
    "collapsed": false,
    "ExecuteTime": {
     "end_time": "2023-07-05T05:26:32.216293Z",
     "start_time": "2023-07-05T05:26:32.213434Z"
    }
   }
  },
  {
   "cell_type": "markdown",
   "source": [
    "생성자와 속성을 포함한 클래스\n",
    "생성자(__init__)란?\n",
    "\n",
    "클래스에 ()를 붙여서 객체를 만들때 호출되는 특별한 메소드\n",
    "\n",
    "__(밑줄 두개)가 붙은 메소드 : 매직 메소드\n",
    "\n",
    "생성자의 매개변수로는 자기 자신(self)와 속성값이 들어갈 수 있음"
   ],
   "metadata": {
    "collapsed": false
   }
  },
  {
   "cell_type": "code",
   "execution_count": 6,
   "outputs": [],
   "source": [
    "class Aiffle:\n",
    "    def __init__(self, name):\n",
    "        self.name = name\n",
    "    def cheer(self):\n",
    "        print(f'{self.name} 끝까지 화이팅')"
   ],
   "metadata": {
    "collapsed": false,
    "ExecuteTime": {
     "end_time": "2023-07-05T05:35:17.636997Z",
     "start_time": "2023-07-05T05:35:17.634299Z"
    }
   }
  },
  {
   "cell_type": "code",
   "execution_count": 7,
   "outputs": [],
   "source": [
    "# 속성 이름을 바꿔도 동일한 프로세스를 가짐\n",
    "# self.name 을 self.new로 바꿔도 동일한 결과\n",
    "class Aiffle:\n",
    "    def __init__(self, name):\n",
    "        self.new = name\n",
    "    def cheer(self):\n",
    "        print(f'{self.new} 끝까지 화이팅')"
   ],
   "metadata": {
    "collapsed": false,
    "ExecuteTime": {
     "end_time": "2023-07-05T05:36:40.449004Z",
     "start_time": "2023-07-05T05:36:40.444196Z"
    }
   }
  },
  {
   "cell_type": "code",
   "execution_count": 8,
   "outputs": [],
   "source": [
    "# 생성자와 속성을 포함한 클래스를 호출했을 때 프로세스 이해하기"
   ],
   "metadata": {
    "collapsed": false,
    "ExecuteTime": {
     "end_time": "2023-07-05T05:37:00.541275Z",
     "start_time": "2023-07-05T05:37:00.531905Z"
    }
   }
  },
  {
   "cell_type": "code",
   "execution_count": 9,
   "outputs": [
    {
     "name": "stdout",
     "output_type": "stream",
     "text": [
      "파이썬 끝까지 화이팅\n"
     ]
    }
   ],
   "source": [
    "class Aiffel:\n",
    "    def __init__(self, name):\n",
    "        self.new = name #python.new = '파이썬'\n",
    "    def cheer(self):\n",
    "        print(f'{self.new} 끝까지 화이팅')\n",
    "python = Aiffel('파이썬') #python을 만들자 __init__이 실행됨. python이 self가 됨. 파이썬이 name이 됨.\n",
    "python.cheer() #"
   ],
   "metadata": {
    "collapsed": false,
    "ExecuteTime": {
     "end_time": "2023-07-05T05:38:01.162761Z",
     "start_time": "2023-07-05T05:38:01.157931Z"
    }
   }
  },
  {
   "cell_type": "markdown",
   "source": [
    "### self의 프로세스 이해하기(역할)\n",
    "### 객체 생성. 생성자가 자동으로 호출 self 대신 python이 들어감.name은 파이썬이 들어감\n",
    "클래스를 만드는 중간에 self 키워드가 자주 나왔습니다. self 이름 그대로 객체 자신을 가리키는 것입니다.\n",
    "1. 클래스의 동작 순서를 보면서 self가 어떻게 작동하는지 보겠습니다.  Aiffel() 클래스에 김인유를 넣은 객체인 python을 만듭니다.\n",
    "2. 그러면 자동으로 __init__ 생성자가 호출되면서 매개변수 self에 python 객체가 입력됩니다. 매개변수 name에는 김인유가 입력됩니다.\n",
    "3. 그 후 self.name이 python.name으로 완성된 뒤 이 속성이 python에 할당됩니다.python 객체의 cheer 메서드가 호출됩니다.\n",
    "4. 현재 객체인 python이 자동으로 매개변수 self에 들어옵니다.\n",
    "5. 그래서 cheer 메서드에서 print(f\"{self.new}, 끝까지 화이팅!\")을 출력할 수 있습니다.\n",
    "6. cheer 메서드의 결과값 김인유, 끝까지 화이팅!이 출력됩니다!"
   ],
   "metadata": {
    "collapsed": false
   }
  }
 ],
 "metadata": {
  "kernelspec": {
   "display_name": "Python 3",
   "language": "python",
   "name": "python3"
  },
  "language_info": {
   "codemirror_mode": {
    "name": "ipython",
    "version": 2
   },
   "file_extension": ".py",
   "mimetype": "text/x-python",
   "name": "python",
   "nbconvert_exporter": "python",
   "pygments_lexer": "ipython2",
   "version": "2.7.6"
  }
 },
 "nbformat": 4,
 "nbformat_minor": 0
}
