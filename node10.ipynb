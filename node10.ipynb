{
 "cells": [
  {
   "cell_type": "markdown",
   "source": [
    "##프로젝트\n",
    "\n",
    "10-2. 사각형 넓이 구하기\n",
    "\n",
    "직사각형(rectangle), 평행사변형(parallelogram), 사다리꼴(trapezoid)의 넓이를 모두 구하는 클래스 만들기"
   ],
   "metadata": {
    "collapsed": false
   }
  },
  {
   "cell_type": "code",
   "execution_count": null,
   "outputs": [],
   "source": [
    "class Square:\n",
    "    def __init__(self): #생성자__init__의 매개변수의 첫번째는 self 여야 합니다.\n",
    "        self.squre = int(input(\"넓이를 구하고 싶은 사각형의 숫자를 써주세요..\\n 1. 직사각형 2. 평행사변형 3. 사다리꼴 \\n >>>\"))\n",
    "        if self.squre == 1:\n",
    "            print(\"직사각형의 함수는 rect() 입니다.\") #Square 클래스의 rect() 메소드 추가\n",
    "        elif self.squre == 2:\n",
    "            print(\"평행사변형의 함수는 par() 입니다.\") #Square 클래스의 para() 메소드 추가\n",
    "        elif self.squre == 3:\n",
    "            print(\"사다리꼴의 함수는 trape() 입니다.\") #Square 클래스의 trape() 메소드 추가\n",
    "        else:\n",
    "            print(\"1,2,3 중에서 선택해주세요.\")\n",
    "\n",
    "    def rect(self):\n",
    "        width,vertical = map(int, input(\"가로와 세로의 길이를 입력하세요.예시 : 가로,세로\\n>>>\").split(\",\"))\n",
    "        area = width * vertical\n",
    "        result = '직사각형의 넓이는 :' + str(area)\n",
    "        return result\n",
    "    def par(self):\n",
    "        base,height = map(int, input(\"밑변과 높이의 길이를 입력하세요.예시 : 가로,세로\\n>>>\").split(\",\"))\n",
    "        area = base * height\n",
    "        result = '평행사변형의 넓이는 :' + str(area)\n",
    "        return result\n",
    "    def trape(self):\n",
    "        base,top_side,height = map(int, input(\"밑변과 윗변과 높이의 길이를 입력하세요.예시 : 가로,세로\\n>>>\").split(\",\"))\n",
    "        area = (base + top_side) * height / 2\n",
    "        result = '(등변)사다라꼴의 넓이는 :' + str(area)\n",
    "        return result\n",
    "a= Square()\n",
    "\n",
    "if a.squre == 1:\n",
    "    print(a.rect())\n",
    "elif a.squre == 2:\n",
    "    print(a.par())\n",
    "elif a.squre == 3:\n",
    "    print(a.trape())\n",
    "else:\n",
    "    print(\"1,2,3 중에서 선택해주세요.\")\n",
    "\n",
    "\n",
    "\n",
    "# a, b, c = \"모.두.연\".split(\".\")\n",
    "# split() 메소드는 문자열을 특정한 단위로 나누어 순서에 맞게 변수에 값을 할당한다.\n",
    "# map(적용시킬 함수, 적용할 값들)\n",
    "# map(function, iterable)"
   ],
   "metadata": {
    "collapsed": false
   }
  }
 ],
 "metadata": {
  "kernelspec": {
   "display_name": "Python 3",
   "language": "python",
   "name": "python3"
  },
  "language_info": {
   "codemirror_mode": {
    "name": "ipython",
    "version": 2
   },
   "file_extension": ".py",
   "mimetype": "text/x-python",
   "name": "python",
   "nbconvert_exporter": "python",
   "pygments_lexer": "ipython2",
   "version": "2.7.6"
  }
 },
 "nbformat": 4,
 "nbformat_minor": 0
}
