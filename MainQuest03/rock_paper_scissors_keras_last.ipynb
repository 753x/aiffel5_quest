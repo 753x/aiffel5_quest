{
 "cells": [
  {
   "cell_type": "markdown",
   "source": [
    "# 미니 프로젝트 : 가위바위보 분류기를 만들자\n",
    "\n",
    "모델 빌드 순서\n",
    "1. 이미지를 로드합니다.\n",
    "2. 이미지를 전처리합니다(리사이즈,픽셀별 정규화 등).\n",
    "3. 모델을 빌드합니다.\n",
    "4. 모델을 컴파일합니다(하이퍼파라미터 등 설정).\n",
    "5. 모델을 훈련시킵니다.\n",
    "6. 모델을 평가합니다(정확도 등).\n",
    "7. 예측을 수행합니다."
   ],
   "metadata": {
    "collapsed": false
   }
  },
  {
   "cell_type": "markdown",
   "source": [
    "## 라이브러리 버전을 확인해 봅니다\n",
    "- tensorflow와 keras의 버전을 확인해 주세요."
   ],
   "metadata": {
    "collapsed": false
   }
  },
  {
   "cell_type": "code",
   "execution_count": 37,
   "outputs": [
    {
     "name": "stdout",
     "output_type": "stream",
     "text": [
      "2.13.0\n",
      "1.23.5\n"
     ]
    }
   ],
   "source": [
    "import tensorflow as tf\n",
    "import numpy as np\n",
    "\n",
    "print(tf.__version__)\n",
    "print(np.__version__)"
   ],
   "metadata": {
    "collapsed": false,
    "ExecuteTime": {
     "end_time": "2023-08-04T07:40:22.446693Z",
     "start_time": "2023-08-04T07:40:22.415390Z"
    }
   }
  },
  {
   "cell_type": "markdown",
   "source": [
    "## 데이터 불러오기 + Resize 하기\n",
    "- 라이브러리 불러오기"
   ],
   "metadata": {
    "collapsed": false
   }
  },
  {
   "cell_type": "code",
   "execution_count": 38,
   "outputs": [
    {
     "name": "stdout",
     "output_type": "stream",
     "text": [
      "PIL 라이브러리 import 완료!\n"
     ]
    }
   ],
   "source": [
    "from PIL import Image\n",
    "import glob\n",
    "import os\n",
    "\n",
    "print(\"PIL 라이브러리 import 완료!\")"
   ],
   "metadata": {
    "collapsed": false,
    "ExecuteTime": {
     "end_time": "2023-08-04T07:40:22.491713Z",
     "start_time": "2023-08-04T07:40:22.421392Z"
    }
   }
  },
  {
   "cell_type": "markdown",
   "source": [
    "## 가위, 바위, 보 이미지 각 1600장씩 모두 4800장의 데이터를 준비\n",
    "- 가위, 바위, 보 이미지를 읽어들이고 사이즈를 변경합니다."
   ],
   "metadata": {
    "collapsed": false
   }
  },
  {
   "cell_type": "code",
   "execution_count": 39,
   "outputs": [
    {
     "name": "stdout",
     "output_type": "stream",
     "text": [
      "1600  images to be resized.\n"
     ]
    },
    {
     "name": "stderr",
     "output_type": "stream",
     "text": [
      "/var/folders/jd/qspsq8mn2db0y77ryp1w10_c0000gp/T/ipykernel_38508/1534809835.py:12: DeprecationWarning: ANTIALIAS is deprecated and will be removed in Pillow 10 (2023-07-01). Use LANCZOS or Resampling.LANCZOS instead.\n",
      "  new_img=old_img.resize(target_size,Image.ANTIALIAS)\n"
     ]
    },
    {
     "name": "stdout",
     "output_type": "stream",
     "text": [
      "1600  images resized.\n",
      "/Users/ralphpark/PycharmProjects/aiffel5_quest/MainQuest03/rock_scissor_paper/scissor\n",
      "가위 이미지 resize 완료!\n"
     ]
    }
   ],
   "source": [
    "def resize_images(img_path):\n",
    "\timages=glob.glob(img_path + \"/*.jpg\")\n",
    "\n",
    "\tprint(len(images), \" images to be resized.\")\n",
    "\n",
    "    # 파일마다 모두 28x28 사이즈로 바꾸어 저장합니다.\n",
    "\ttarget_size=(28,28)\n",
    "\tfor img in images:\n",
    "\t\told_img=Image.open(img)\n",
    "\t\tnew_img=old_img.resize(target_size,Image.ANTIALIAS)\n",
    "\t\tnew_img.save(img, \"JPEG\")\n",
    "\n",
    "\tprint(len(images), \" images resized.\")\n",
    "\n",
    "# 가위 이미지가 저장된 디렉토리 아래의 모든 jpg 파일을 읽어들여서 사이즈를 변경합니다.\n",
    "image_dir_path = os.getenv(\"HOME\") + \"/PycharmProjects/aiffel5_quest/MainQuest03/rock_scissor_paper/scissor\"\n",
    "resize_images(image_dir_path)\n",
    "print(image_dir_path)\n",
    "print(\"가위 이미지 resize 완료!\")"
   ],
   "metadata": {
    "collapsed": false,
    "ExecuteTime": {
     "end_time": "2023-08-04T07:40:23.428244Z",
     "start_time": "2023-08-04T07:40:22.427258Z"
    }
   }
  },
  {
   "cell_type": "code",
   "execution_count": 40,
   "outputs": [
    {
     "name": "stdout",
     "output_type": "stream",
     "text": [
      "1600  images to be resized.\n"
     ]
    },
    {
     "name": "stderr",
     "output_type": "stream",
     "text": [
      "/var/folders/jd/qspsq8mn2db0y77ryp1w10_c0000gp/T/ipykernel_38508/1534809835.py:12: DeprecationWarning: ANTIALIAS is deprecated and will be removed in Pillow 10 (2023-07-01). Use LANCZOS or Resampling.LANCZOS instead.\n",
      "  new_img=old_img.resize(target_size,Image.ANTIALIAS)\n"
     ]
    },
    {
     "name": "stdout",
     "output_type": "stream",
     "text": [
      "1600  images resized.\n"
     ]
    }
   ],
   "source": [
    "# 바위 이미지가 저장된 디렉토리 아래의 모든 jpg 파일을 읽어들여서 사이즈를 변경합니다.\n",
    "image_dir_path = os.getenv(\"HOME\") + \"/PycharmProjects/aiffel5_quest/MainQuest03/rock_scissor_paper/rock\"\n",
    "resize_images(image_dir_path)"
   ],
   "metadata": {
    "collapsed": false,
    "ExecuteTime": {
     "end_time": "2023-08-04T07:40:24.458257Z",
     "start_time": "2023-08-04T07:40:23.429518Z"
    }
   }
  },
  {
   "cell_type": "code",
   "execution_count": 41,
   "outputs": [
    {
     "name": "stdout",
     "output_type": "stream",
     "text": [
      "1600  images to be resized.\n"
     ]
    },
    {
     "name": "stderr",
     "output_type": "stream",
     "text": [
      "/var/folders/jd/qspsq8mn2db0y77ryp1w10_c0000gp/T/ipykernel_38508/1534809835.py:12: DeprecationWarning: ANTIALIAS is deprecated and will be removed in Pillow 10 (2023-07-01). Use LANCZOS or Resampling.LANCZOS instead.\n",
      "  new_img=old_img.resize(target_size,Image.ANTIALIAS)\n"
     ]
    },
    {
     "name": "stdout",
     "output_type": "stream",
     "text": [
      "1600  images resized.\n"
     ]
    }
   ],
   "source": [
    "# 보 이미지가 저장된 디렉토리 아래의 모든 jpg 파일을 읽어들여서 사이즈를 변경합니다.\n",
    "image_dir_path = os.getenv(\"HOME\") + \"/PycharmProjects/aiffel5_quest/MainQuest03/rock_scissor_paper/paper\"\n",
    "resize_images(image_dir_path)"
   ],
   "metadata": {
    "collapsed": false,
    "ExecuteTime": {
     "end_time": "2023-08-04T07:40:25.241795Z",
     "start_time": "2023-08-04T07:40:24.459474Z"
    }
   }
  },
  {
   "cell_type": "markdown",
   "source": [
    "## 가위, 바위, 보 데이터 로드 함수 구현\n",
    "- 가위바위보의 경우 3개의 클래스 즉, 가위: 0, 바위: 1, 보: 2 로 라벨링"
   ],
   "metadata": {
    "collapsed": false
   }
  },
  {
   "cell_type": "code",
   "execution_count": 42,
   "outputs": [
    {
     "name": "stdout",
     "output_type": "stream",
     "text": [
      "학습데이터(x_train)의 이미지 개수는 4800 입니다.\n",
      "x_train shape: (4800, 28, 28, 3)\n",
      "y_train shape: (4800,)\n"
     ]
    }
   ],
   "source": [
    "# 가위, 바위, 보 데이터를 읽을 수 있는 load_data() 함수\n",
    "\n",
    "import numpy as np\n",
    "import matplotlib.pyplot as plt\n",
    "\n",
    "def load_data(img_path, number_of_data=4800):  # 가위바위보 이미지 개수 총합에 주의하세요.\n",
    "    # 가위 : 0, 바위 : 1, 보 : 2\n",
    "    img_size=28\n",
    "    color=3\n",
    "    #이미지 데이터와 라벨(가위 : 0, 바위 : 1, 보 : 2) 데이터를 담을 행렬(matrix) 영역을 생성합니다.\n",
    "    imgs=np.zeros(number_of_data*img_size*img_size*color,dtype=np.int32).reshape(number_of_data,img_size,img_size,color)\n",
    "    labels=np.zeros(number_of_data,dtype=np.int32)\n",
    "\n",
    "    idx=0\n",
    "    for file in glob.iglob(img_path+'/scissor/*.jpg'):\n",
    "        img = np.array(Image.open(file),dtype=np.int32)\n",
    "        imgs[idx,:,:,:]=img    # 데이터 영역에 이미지 행렬을 복사\n",
    "        labels[idx]=0   # 가위 : 0\n",
    "        idx=idx+1\n",
    "\n",
    "    for file in glob.iglob(img_path+'/rock/*.jpg'):\n",
    "        img = np.array(Image.open(file),dtype=np.int32)\n",
    "        imgs[idx,:,:,:]=img    # 데이터 영역에 이미지 행렬을 복사\n",
    "        labels[idx]=1   # 바위 : 1\n",
    "        idx=idx+1\n",
    "\n",
    "    for file in glob.iglob(img_path+'/paper/*.jpg'):\n",
    "        img = np.array(Image.open(file),dtype=np.int32)\n",
    "        imgs[idx,:,:,:]=img    # 데이터 영역에 이미지 행렬을 복사\n",
    "        labels[idx]=2   # 보 : 2\n",
    "        idx=idx+1\n",
    "\n",
    "    print(\"학습데이터(x_train)의 이미지 개수는\", idx,\"입니다.\")\n",
    "    return imgs, labels\n",
    "\n",
    "image_dir_path = os.getenv(\"HOME\") + \"/PycharmProjects/aiffel5_quest/MainQuest03/rock_scissor_paper\"\n",
    "(x_train, y_train)=load_data(image_dir_path)\n",
    "x_train_norm = x_train/255.0   # 입력은 0~1 사이의 값으로 정규화\n",
    "\n",
    "print(\"x_train shape: {}\".format(x_train.shape))\n",
    "print(\"y_train shape: {}\".format(y_train.shape))"
   ],
   "metadata": {
    "collapsed": false,
    "ExecuteTime": {
     "end_time": "2023-08-04T07:40:26.107221Z",
     "start_time": "2023-08-04T07:40:25.249990Z"
    }
   }
  },
  {
   "cell_type": "markdown",
   "source": [
    "## 첫번째 이미지를 확인"
   ],
   "metadata": {
    "collapsed": false
   }
  },
  {
   "cell_type": "code",
   "execution_count": 43,
   "outputs": [
    {
     "name": "stdout",
     "output_type": "stream",
     "text": [
      "라벨:  0\n"
     ]
    },
    {
     "data": {
      "text/plain": "<Figure size 640x480 with 1 Axes>",
      "image/png": "[encoded data removed]"
     },
     "metadata": {},
     "output_type": "display_data"
    }
   ],
   "source": [
    "# 이미지 확인\n",
    "plt.imshow(x_train[0])\n",
    "print('라벨: ', y_train[0])"
   ],
   "metadata": {
    "collapsed": false,
    "ExecuteTime": {
     "end_time": "2023-08-04T07:40:26.217514Z",
     "start_time": "2023-08-04T07:40:26.107718Z"
    }
   }
  },
  {
   "cell_type": "markdown",
   "source": [
    "## 딥러닝 네트워크 설계하기"
   ],
   "metadata": {
    "collapsed": false
   }
  },
  {
   "cell_type": "code",
   "execution_count": 44,
   "outputs": [],
   "source": [
    "# tf.keras의 Sequential API를 이용하여 LeNet이라는 딥러닝 네트워크를 설계\n",
    "\n",
    "import tensorflow as tf\n",
    "from tensorflow import keras\n",
    "\n",
    "n_channel_1 = 48\n",
    "n_channel_2 = 96\n",
    "n_dense = 128\n",
    "n_train_epoch = 50\n",
    "\n",
    "model=keras.models.Sequential()\n",
    "model.add(keras.layers.Conv2D(n_channel_1, (3,3), activation='relu', input_shape=(28,28,3)))\n",
    "model.add(keras.layers.MaxPool2D(2,2))\n",
    "model.add(keras.layers.Conv2D(n_channel_2, (3,3), activation='relu'))\n",
    "model.add(keras.layers.MaxPooling2D((2,2)))\n",
    "model.add(keras.layers.Flatten())\n",
    "model.add(keras.layers.Dense(n_dense, activation='relu'))\n",
    "model.add(keras.layers.Dense(3, activation='softmax'))\n",
    "\n",
    "x_train_reshaped=x_train_norm.reshape( -1, 28, 28, 3)  # 데이터갯수에 -1을 쓰면 reshape시 자동계산됩니다."
   ],
   "metadata": {
    "collapsed": false,
    "ExecuteTime": {
     "end_time": "2023-08-04T07:40:26.284470Z",
     "start_time": "2023-08-04T07:40:26.220866Z"
    }
   }
  },
  {
   "cell_type": "code",
   "execution_count": 45,
   "outputs": [
    {
     "name": "stdout",
     "output_type": "stream",
     "text": [
      "Model: \"sequential_3\"\n",
      "_________________________________________________________________\n",
      " Layer (type)                Output Shape              Param #   \n",
      "=================================================================\n",
      " conv2d_6 (Conv2D)           (None, 26, 26, 48)        1344      \n",
      "                                                                 \n",
      " max_pooling2d_6 (MaxPoolin  (None, 13, 13, 48)        0         \n",
      " g2D)                                                            \n",
      "                                                                 \n",
      " conv2d_7 (Conv2D)           (None, 11, 11, 96)        41568     \n",
      "                                                                 \n",
      " max_pooling2d_7 (MaxPoolin  (None, 5, 5, 96)          0         \n",
      " g2D)                                                            \n",
      "                                                                 \n",
      " flatten_3 (Flatten)         (None, 2400)              0         \n",
      "                                                                 \n",
      " dense_6 (Dense)             (None, 128)               307328    \n",
      "                                                                 \n",
      " dense_7 (Dense)             (None, 3)                 387       \n",
      "                                                                 \n",
      "=================================================================\n",
      "Total params: 350627 (1.34 MB)\n",
      "Trainable params: 350627 (1.34 MB)\n",
      "Non-trainable params: 0 (0.00 Byte)\n",
      "_________________________________________________________________\n"
     ]
    }
   ],
   "source": [
    "model.summary()"
   ],
   "metadata": {
    "collapsed": false,
    "ExecuteTime": {
     "end_time": "2023-08-04T07:40:26.296040Z",
     "start_time": "2023-08-04T07:40:26.268148Z"
    }
   }
  },
  {
   "cell_type": "markdown",
   "source": [
    " ## 테스트용 데이터 이미지 리사이즈"
   ],
   "metadata": {
    "collapsed": false
   }
  },
  {
   "cell_type": "code",
   "execution_count": 46,
   "outputs": [
    {
     "name": "stdout",
     "output_type": "stream",
     "text": [
      "500  images to be resized.\n"
     ]
    },
    {
     "name": "stderr",
     "output_type": "stream",
     "text": [
      "/var/folders/jd/qspsq8mn2db0y77ryp1w10_c0000gp/T/ipykernel_38508/1534809835.py:12: DeprecationWarning: ANTIALIAS is deprecated and will be removed in Pillow 10 (2023-07-01). Use LANCZOS or Resampling.LANCZOS instead.\n",
      "  new_img=old_img.resize(target_size,Image.ANTIALIAS)\n"
     ]
    },
    {
     "name": "stdout",
     "output_type": "stream",
     "text": [
      "500  images resized.\n",
      "/Users/ralphpark/PycharmProjects/aiffel5_quest/MainQuest03/rock_scissor_paper/test/scissor\n",
      "test - 가위 이미지 resize 완료!\n",
      "500  images to be resized.\n",
      "500  images resized.\n",
      "/Users/ralphpark/PycharmProjects/aiffel5_quest/MainQuest03/rock_scissor_paper/test/rock\n",
      "test - 가위 이미지 resize 완료!\n",
      "500  images to be resized.\n",
      "500  images resized.\n",
      "/Users/ralphpark/PycharmProjects/aiffel5_quest/MainQuest03/rock_scissor_paper/test/paper\n",
      "test - 가위 이미지 resize 완료!\n"
     ]
    }
   ],
   "source": [
    "\n",
    "# test image resize\n",
    "\n",
    "# 가위 이미지가 저장된 디렉토리 아래의 모든 jpg 파일을 읽어들여서\n",
    "image_dir_path = os.getenv(\"HOME\") + \"/PycharmProjects/aiffel5_quest/MainQuest03/rock_scissor_paper/test/scissor\"\n",
    "resize_images(image_dir_path)\n",
    "print(image_dir_path)\n",
    "print(\"test - 가위 이미지 resize 완료!\")\n",
    "# 바위 이미지가 저장된 디렉토리 아래의 모든 jpg 파일을 읽어들여서\n",
    "image_dir_path = os.getenv(\"HOME\") + \"/PycharmProjects/aiffel5_quest/MainQuest03/rock_scissor_paper/test/rock\"\n",
    "resize_images(image_dir_path)\n",
    "print(image_dir_path)\n",
    "print(\"test - 가위 이미지 resize 완료!\")\n",
    "# 보 이미지가 저장된 디렉토리 아래의 모든 jpg 파일을 읽어들여서\n",
    "image_dir_path = os.getenv(\"HOME\") + \"/PycharmProjects/aiffel5_quest/MainQuest03/rock_scissor_paper/test/paper\"\n",
    "resize_images(image_dir_path)\n",
    "print(image_dir_path)\n",
    "print(\"test - 가위 이미지 resize 완료!\")\n"
   ],
   "metadata": {
    "collapsed": false,
    "ExecuteTime": {
     "end_time": "2023-08-04T07:40:26.976228Z",
     "start_time": "2023-08-04T07:40:26.286715Z"
    }
   }
  },
  {
   "cell_type": "markdown",
   "source": [
    "## 딥러닝 네트워크 학습시키기"
   ],
   "metadata": {
    "collapsed": false
   }
  },
  {
   "cell_type": "code",
   "execution_count": 47,
   "outputs": [
    {
     "name": "stdout",
     "output_type": "stream",
     "text": [
      "Epoch 1/10\n",
      "150/150 [==============================] - 3s 17ms/step - loss: 0.5308 - accuracy: 0.7906\n",
      "Epoch 2/10\n",
      "150/150 [==============================] - 3s 17ms/step - loss: 0.0953 - accuracy: 0.9731\n",
      "Epoch 3/10\n",
      "150/150 [==============================] - 2s 16ms/step - loss: 0.0224 - accuracy: 0.9962\n",
      "Epoch 4/10\n",
      "150/150 [==============================] - 2s 16ms/step - loss: 0.0106 - accuracy: 0.9990\n",
      "Epoch 5/10\n",
      "150/150 [==============================] - 2s 16ms/step - loss: 0.0032 - accuracy: 1.0000\n",
      "Epoch 6/10\n",
      "150/150 [==============================] - 2s 17ms/step - loss: 0.0015 - accuracy: 1.0000\n",
      "Epoch 7/10\n",
      "150/150 [==============================] - 2s 16ms/step - loss: 9.7139e-04 - accuracy: 1.0000\n",
      "Epoch 8/10\n",
      "150/150 [==============================] - 3s 17ms/step - loss: 0.0061 - accuracy: 0.9985\n",
      "Epoch 9/10\n",
      "150/150 [==============================] - 3s 17ms/step - loss: 9.8252e-04 - accuracy: 1.0000\n",
      "Epoch 10/10\n",
      "150/150 [==============================] - 3s 17ms/step - loss: 3.0160e-04 - accuracy: 1.0000\n"
     ]
    },
    {
     "data": {
      "text/plain": "<keras.src.callbacks.History at 0x7fb4496cd480>"
     },
     "execution_count": 47,
     "metadata": {},
     "output_type": "execute_result"
    }
   ],
   "source": [
    "\n",
    "# model을 학습시키는 코드를 직접 작성해 보세요.\n",
    "x_train_reshaped=x_train_norm.reshape( -1, 28, 28, 3)  # 데이터갯수에 -1을 쓰면 reshape시 자동계산됩니다.\n",
    "\n",
    "model.compile(optimizer='adam',\n",
    "             loss='sparse_categorical_crossentropy',\n",
    "             metrics=['accuracy'])\n",
    "\n",
    "model.fit(x_train_reshaped, y_train, epochs=10)"
   ],
   "metadata": {
    "collapsed": false,
    "ExecuteTime": {
     "end_time": "2023-08-04T07:40:52.275046Z",
     "start_time": "2023-08-04T07:40:26.977025Z"
    }
   }
  },
  {
   "cell_type": "markdown",
   "source": [
    "## test data 로드"
   ],
   "metadata": {
    "collapsed": false
   }
  },
  {
   "cell_type": "code",
   "execution_count": 48,
   "outputs": [
    {
     "name": "stdout",
     "output_type": "stream",
     "text": [
      "시험데이터(x_test)의 이미지 개수는 1500 입니다.\n",
      "x_test shape: (1500, 28, 28, 3)\n",
      "y_test shape: (1500,)\n",
      "Before Reshape - x_test_norm shape: (1500, 28, 28, 3)\n",
      "After Reshape - x_test_reshaped shape: (1500, 28, 28, 3)\n"
     ]
    }
   ],
   "source": [
    "def load_test_data(img_path, number_of_data=1500):  # 가위바위보 이미지 개수 총합에 주의하세요.\n",
    "    # 가위 : 0, 바위 : 1, 보 : 2\n",
    "    img_size=28\n",
    "    color=3\n",
    "    #이미지 데이터와 라벨(가위 : 0, 바위 : 1, 보 : 2) 데이터를 담을 행렬(matrix) 영역을 생성합니다.\n",
    "    imgs=np.zeros(number_of_data*img_size*img_size*color,dtype=np.int32).reshape(number_of_data,img_size,img_size,color)\n",
    "    labels=np.zeros(number_of_data,dtype=np.int32)\n",
    "\n",
    "    idx=0\n",
    "    for file in glob.iglob(img_path+'/scissor/*.jpg'):\n",
    "        img = np.array(Image.open(file),dtype=np.int32)\n",
    "        imgs[idx,:,:,:]=img    # 데이터 영역에 이미지 행렬을 복사\n",
    "        labels[idx]=0   # 가위 : 0\n",
    "        idx=idx+1\n",
    "\n",
    "    for file in glob.iglob(img_path+'/rock/*.jpg'):\n",
    "        img = np.array(Image.open(file),dtype=np.int32)\n",
    "        imgs[idx,:,:,:]=img    # 데이터 영역에 이미지 행렬을 복사\n",
    "        labels[idx]=1   # 바위 : 1\n",
    "        idx=idx+1\n",
    "\n",
    "    for file in glob.iglob(img_path+'/paper/*.jpg'):\n",
    "        img = np.array(Image.open(file),dtype=np.int32)\n",
    "        imgs[idx,:,:,:]=img    # 데이터 영역에 이미지 행렬을 복사\n",
    "        labels[idx]=2   # 보 : 2\n",
    "        idx=idx+1\n",
    "\n",
    "    print(\"시험데이터(x_test)의 이미지 개수는\", idx,\"입니다.\")\n",
    "    return imgs, labels\n",
    "\n",
    "image_dir_path = os.getenv(\"HOME\") + \"/PycharmProjects/aiffel5_quest/MainQuest03/rock_scissor_paper/test\"\n",
    "(x_test, y_test)=load_test_data(image_dir_path)\n",
    "x_test_norm = x_test/255.0   # 입력은 0~1 사이의 값으로 정규화\n",
    "\n",
    "print(\"x_test shape: {}\".format(x_test.shape))\n",
    "print(\"y_test shape: {}\".format(y_test.shape))\n",
    "# 우리가 만든 네트워크의 입력은 (데이터갯수, 이미지 크기 x, 이미지 크기 y, 채널수) 와 같은 형태를 가집니다. 이전 스텝에서 첫 번째 레이어에 input_shape=(28,28,1)로 지정했던 것을 기억하시나요?\n",
    "# 그런데 print(x_train.shape) 을 해보면, (60000, 28, 28) 로 채널수에 대한 정보가 없습니다. 따라서 (60000, 28, 28, 1) 로 만들어 주어야 합니다 (여기서 채널수 1은 흑백 이미지를 의미합니다. 컬러 이미지라면 R, G, B 세 가지 값이 있기 때문에 3이겠죠?).\n",
    "\n",
    "print(f\"Before Reshape - x_test_norm shape: {x_test_norm.shape}\")\n",
    "x_test_reshaped=x_test_norm.reshape( -1, 28, 28, 3)  # 데이터갯수에 -1을 쓰면 reshape시 자동계산됩니다.\n",
    "print(f\"After Reshape - x_test_reshaped shape: {x_test_reshaped.shape}\")"
   ],
   "metadata": {
    "collapsed": false,
    "ExecuteTime": {
     "end_time": "2023-08-04T07:40:52.502907Z",
     "start_time": "2023-08-04T07:40:52.279670Z"
    }
   }
  },
  {
   "cell_type": "markdown",
   "source": [
    "## test data로 모델 성능 평가"
   ],
   "metadata": {
    "collapsed": false
   }
  },
  {
   "cell_type": "code",
   "execution_count": 49,
   "outputs": [
    {
     "name": "stdout",
     "output_type": "stream",
     "text": [
      "Epoch 1/50\n",
      "150/150 [==============================] - 3s 17ms/step - loss: 0.0093 - accuracy: 0.9967\n",
      "Epoch 2/50\n",
      "150/150 [==============================] - 3s 17ms/step - loss: 2.2684e-04 - accuracy: 1.0000\n",
      "Epoch 3/50\n",
      "150/150 [==============================] - 2s 16ms/step - loss: 1.1147e-04 - accuracy: 1.0000\n",
      "Epoch 4/50\n",
      "150/150 [==============================] - 2s 17ms/step - loss: 7.7416e-05 - accuracy: 1.0000\n",
      "Epoch 5/50\n",
      "150/150 [==============================] - 2s 16ms/step - loss: 5.8574e-05 - accuracy: 1.0000\n",
      "Epoch 6/50\n",
      "150/150 [==============================] - 3s 17ms/step - loss: 4.5371e-05 - accuracy: 1.0000\n",
      "Epoch 7/50\n",
      "150/150 [==============================] - 2s 16ms/step - loss: 3.6686e-05 - accuracy: 1.0000\n",
      "Epoch 8/50\n",
      "150/150 [==============================] - 2s 16ms/step - loss: 3.3411e-05 - accuracy: 1.0000\n",
      "Epoch 9/50\n",
      "150/150 [==============================] - 2s 17ms/step - loss: 2.5394e-05 - accuracy: 1.0000\n",
      "Epoch 10/50\n",
      "150/150 [==============================] - 2s 15ms/step - loss: 2.1413e-05 - accuracy: 1.0000\n",
      "Epoch 11/50\n",
      "150/150 [==============================] - 2s 16ms/step - loss: 1.8090e-05 - accuracy: 1.0000\n",
      "Epoch 12/50\n",
      "150/150 [==============================] - 2s 15ms/step - loss: 1.5684e-05 - accuracy: 1.0000\n",
      "Epoch 13/50\n",
      "150/150 [==============================] - 2s 16ms/step - loss: 1.3663e-05 - accuracy: 1.0000\n",
      "Epoch 14/50\n",
      "150/150 [==============================] - 2s 15ms/step - loss: 1.1889e-05 - accuracy: 1.0000\n",
      "Epoch 15/50\n",
      "150/150 [==============================] - 2s 15ms/step - loss: 1.0910e-05 - accuracy: 1.0000\n",
      "Epoch 16/50\n",
      "150/150 [==============================] - 2s 16ms/step - loss: 9.2965e-06 - accuracy: 1.0000\n",
      "Epoch 17/50\n",
      "150/150 [==============================] - 2s 16ms/step - loss: 7.9747e-06 - accuracy: 1.0000\n",
      "Epoch 18/50\n",
      "150/150 [==============================] - 2s 16ms/step - loss: 7.3854e-06 - accuracy: 1.0000\n",
      "Epoch 19/50\n",
      "150/150 [==============================] - 2s 16ms/step - loss: 6.1285e-06 - accuracy: 1.0000\n",
      "Epoch 20/50\n",
      "150/150 [==============================] - 2s 16ms/step - loss: 5.5449e-06 - accuracy: 1.0000\n",
      "Epoch 21/50\n",
      "150/150 [==============================] - 2s 16ms/step - loss: 5.1194e-06 - accuracy: 1.0000\n",
      "Epoch 22/50\n",
      "150/150 [==============================] - 2s 16ms/step - loss: 4.4349e-06 - accuracy: 1.0000\n",
      "Epoch 23/50\n",
      "150/150 [==============================] - 2s 16ms/step - loss: 3.9832e-06 - accuracy: 1.0000\n",
      "Epoch 24/50\n",
      "150/150 [==============================] - 2s 16ms/step - loss: 3.6204e-06 - accuracy: 1.0000\n",
      "Epoch 25/50\n",
      "150/150 [==============================] - 2s 16ms/step - loss: 3.2956e-06 - accuracy: 1.0000\n",
      "Epoch 26/50\n",
      "150/150 [==============================] - 3s 17ms/step - loss: 2.9333e-06 - accuracy: 1.0000\n",
      "Epoch 27/50\n",
      "150/150 [==============================] - 3s 18ms/step - loss: 2.6847e-06 - accuracy: 1.0000\n",
      "Epoch 28/50\n",
      "150/150 [==============================] - 3s 18ms/step - loss: 2.3640e-06 - accuracy: 1.0000\n",
      "Epoch 29/50\n",
      "150/150 [==============================] - 3s 18ms/step - loss: 2.1254e-06 - accuracy: 1.0000\n",
      "Epoch 30/50\n",
      "150/150 [==============================] - 3s 18ms/step - loss: 1.9520e-06 - accuracy: 1.0000\n",
      "Epoch 31/50\n",
      "150/150 [==============================] - 3s 19ms/step - loss: 1.7324e-06 - accuracy: 1.0000\n",
      "Epoch 32/50\n",
      "150/150 [==============================] - 3s 18ms/step - loss: 1.5939e-06 - accuracy: 1.0000\n",
      "Epoch 33/50\n",
      "150/150 [==============================] - 3s 19ms/step - loss: 1.4797e-06 - accuracy: 1.0000\n",
      "Epoch 34/50\n",
      "150/150 [==============================] - 3s 18ms/step - loss: 1.2925e-06 - accuracy: 1.0000\n",
      "Epoch 35/50\n",
      "150/150 [==============================] - 3s 18ms/step - loss: 1.1906e-06 - accuracy: 1.0000\n",
      "Epoch 36/50\n",
      "150/150 [==============================] - 3s 18ms/step - loss: 1.0902e-06 - accuracy: 1.0000\n",
      "Epoch 37/50\n",
      "150/150 [==============================] - 3s 18ms/step - loss: 9.9578e-07 - accuracy: 1.0000\n",
      "Epoch 38/50\n",
      "150/150 [==============================] - 3s 17ms/step - loss: 9.6084e-07 - accuracy: 1.0000\n",
      "Epoch 39/50\n",
      "150/150 [==============================] - 3s 18ms/step - loss: 8.0840e-07 - accuracy: 1.0000\n",
      "Epoch 40/50\n",
      "150/150 [==============================] - 3s 18ms/step - loss: 7.6283e-07 - accuracy: 1.0000\n",
      "Epoch 41/50\n",
      "150/150 [==============================] - 3s 18ms/step - loss: 7.1915e-07 - accuracy: 1.0000\n",
      "Epoch 42/50\n",
      "150/150 [==============================] - 3s 18ms/step - loss: 6.1333e-07 - accuracy: 1.0000\n",
      "Epoch 43/50\n",
      "150/150 [==============================] - 3s 18ms/step - loss: 5.8432e-07 - accuracy: 1.0000\n",
      "Epoch 44/50\n",
      "150/150 [==============================] - 3s 18ms/step - loss: 5.2544e-07 - accuracy: 1.0000\n",
      "Epoch 45/50\n",
      "150/150 [==============================] - 3s 18ms/step - loss: 4.9499e-07 - accuracy: 1.0000\n",
      "Epoch 46/50\n",
      "150/150 [==============================] - 3s 18ms/step - loss: 4.3807e-07 - accuracy: 1.0000\n",
      "Epoch 47/50\n",
      "150/150 [==============================] - 3s 18ms/step - loss: 4.0454e-07 - accuracy: 1.0000\n",
      "Epoch 48/50\n",
      "150/150 [==============================] - 3s 18ms/step - loss: 3.5907e-07 - accuracy: 1.0000\n",
      "Epoch 49/50\n",
      "150/150 [==============================] - 3s 19ms/step - loss: 3.5323e-07 - accuracy: 1.0000\n",
      "Epoch 50/50\n",
      "150/150 [==============================] - 3s 18ms/step - loss: 3.0326e-07 - accuracy: 1.0000\n"
     ]
    },
    {
     "data": {
      "text/plain": "<keras.src.callbacks.History at 0x7fb438f60d90>"
     },
     "execution_count": 49,
     "metadata": {},
     "output_type": "execute_result"
    }
   ],
   "source": [
    "model.compile(optimizer='adam',\n",
    "             loss='sparse_categorical_crossentropy',\n",
    "             metrics=['accuracy'])\n",
    "\n",
    "model.fit(x_train_reshaped, y_train, epochs=n_train_epoch)"
   ],
   "metadata": {
    "collapsed": false,
    "ExecuteTime": {
     "end_time": "2023-08-04T07:43:00.749498Z",
     "start_time": "2023-08-04T07:40:52.505440Z"
    }
   }
  },
  {
   "cell_type": "markdown",
   "source": [
    "## 모델 성능 평가"
   ],
   "metadata": {
    "collapsed": false
   }
  },
  {
   "cell_type": "code",
   "execution_count": 50,
   "outputs": [
    {
     "name": "stdout",
     "output_type": "stream",
     "text": [
      "47/47 - 1s - loss: 0.4808 - accuracy: 0.9173 - 619ms/epoch - 13ms/step\n",
      "test_loss: 0.4808265268802643\n",
      "test_accuracy: 0.9173333048820496\n"
     ]
    }
   ],
   "source": [
    "\n",
    "test_loss, test_accuracy = model.evaluate(x_test_reshaped,y_test, verbose=2)\n",
    "print(f\"test_loss: {test_loss}\")\n",
    "print(f\"test_accuracy: {test_accuracy}\")"
   ],
   "metadata": {
    "collapsed": false,
    "ExecuteTime": {
     "end_time": "2023-08-04T07:43:01.401531Z",
     "start_time": "2023-08-04T07:43:00.748437Z"
    }
   }
  },
  {
   "cell_type": "markdown",
   "source": [
    "## 추론 결과와 실제 데이터 비교"
   ],
   "metadata": {
    "collapsed": false
   }
  },
  {
   "cell_type": "code",
   "execution_count": 51,
   "outputs": [
    {
     "name": "stdout",
     "output_type": "stream",
     "text": [
      "47/47 [==============================] - 0s 9ms/step\n",
      "model.predict() 결과 :  [0.9904694  0.00140158 0.00812913]\n",
      "model이 추론한 가장 가능성이 높은 결과 :  0\n",
      "실제 데이터의 라벨 :  0\n"
     ]
    },
    {
     "data": {
      "text/plain": "<Figure size 640x480 with 1 Axes>",
      "image/png": "[encoded data removed]"
     },
     "metadata": {},
     "output_type": "display_data"
    }
   ],
   "source": [
    "predicted_result = model.predict(x_test_reshaped)  # model이 추론한 확률값.\n",
    "predicted_labels = np.argmax(predicted_result, axis=1)\n",
    "\n",
    "idx=0  #1번째 x_test를 살펴보자.\n",
    "print('model.predict() 결과 : ', predicted_result[idx])\n",
    "print('model이 추론한 가장 가능성이 높은 결과 : ', predicted_labels[idx])\n",
    "print('실제 데이터의 라벨 : ', y_test[idx])\n",
    "plt.imshow(x_test[idx],cmap=plt.cm.binary)\n",
    "plt.show()"
   ],
   "metadata": {
    "collapsed": false,
    "ExecuteTime": {
     "end_time": "2023-08-04T07:43:02.152960Z",
     "start_time": "2023-08-04T07:43:01.406469Z"
    }
   }
  },
  {
   "cell_type": "code",
   "execution_count": 52,
   "outputs": [
    {
     "name": "stdout",
     "output_type": "stream",
     "text": [
      "model.predict() 결과 :  [0.9904694  0.00140158 0.00812913]\n",
      "model이 추론한 가장 가능성이 높은 결과 :  0\n",
      "실제 데이터의 라벨 :  0\n"
     ]
    },
    {
     "data": {
      "text/plain": "<Figure size 640x480 with 1 Axes>",
      "image/png": "[encoded data removed]"
     },
     "metadata": {},
     "output_type": "display_data"
    }
   ],
   "source": [
    "idx=0  #1번째 x_test를 살펴보자.\n",
    "print('model.predict() 결과 : ', predicted_result[idx])\n",
    "print('model이 추론한 가장 가능성이 높은 결과 : ', predicted_labels[idx])\n",
    "print('실제 데이터의 라벨 : ', y_train[idx])\n",
    "plt.imshow(x_train[idx],cmap=plt.cm.binary)\n",
    "plt.show()"
   ],
   "metadata": {
    "collapsed": false,
    "ExecuteTime": {
     "end_time": "2023-08-04T07:43:02.256874Z",
     "start_time": "2023-08-04T07:43:02.155326Z"
    }
   }
  },
  {
   "cell_type": "markdown",
   "source": [
    "## 잘못 예측한 값 확인"
   ],
   "metadata": {
    "collapsed": false
   }
  },
  {
   "cell_type": "code",
   "execution_count": 53,
   "outputs": [
    {
     "name": "stdout",
     "output_type": "stream",
     "text": [
      "47/47 [==============================] - 1s 11ms/step\n",
      "예측확률분포: [7.3500542e-04 9.9925995e-01 5.0856675e-06]\n",
      "라벨: 2, 예측결과: 1\n"
     ]
    },
    {
     "data": {
      "text/plain": "<Figure size 640x480 with 1 Axes>",
      "image/png": "[encoded data removed]"
     },
     "metadata": {},
     "output_type": "display_data"
    },
    {
     "name": "stdout",
     "output_type": "stream",
     "text": [
      "예측확률분포: [0.77751786 0.16879089 0.05369117]\n",
      "라벨: 2, 예측결과: 0\n"
     ]
    },
    {
     "data": {
      "text/plain": "<Figure size 640x480 with 1 Axes>",
      "image/png": "[encoded data removed]"
     },
     "metadata": {},
     "output_type": "display_data"
    },
    {
     "name": "stdout",
     "output_type": "stream",
     "text": [
      "예측확률분포: [9.9862331e-01 1.3358437e-03 4.0868665e-05]\n",
      "라벨: 2, 예측결과: 0\n"
     ]
    },
    {
     "data": {
      "text/plain": "<Figure size 640x480 with 1 Axes>",
      "image/png": "[encoded data removed]"
     },
     "metadata": {},
     "output_type": "display_data"
    },
    {
     "name": "stdout",
     "output_type": "stream",
     "text": [
      "예측확률분포: [0.00392676 0.0010078  0.9950654 ]\n",
      "라벨: 0, 예측결과: 2\n"
     ]
    },
    {
     "data": {
      "text/plain": "<Figure size 640x480 with 1 Axes>",
      "image/png": "[encoded data removed]"
     },
     "metadata": {},
     "output_type": "display_data"
    },
    {
     "name": "stdout",
     "output_type": "stream",
     "text": [
      "예측확률분포: [9.1463841e-09 9.9996907e-01 3.0886880e-05]\n",
      "라벨: 2, 예측결과: 1\n"
     ]
    },
    {
     "data": {
      "text/plain": "<Figure size 640x480 with 1 Axes>",
      "image/png": "[encoded data removed]"
     },
     "metadata": {},
     "output_type": "display_data"
    }
   ],
   "source": [
    "import random\n",
    "\n",
    "predicted_result = model.predict(x_test_reshaped)  # model이 추론한 확률값.\n",
    "predicted_labels = np.argmax(predicted_result, axis=1)\n",
    "wrong_predict_list=[]\n",
    "for i, _ in enumerate(predicted_labels):\n",
    "    # i번째 test_labels과 y_test이 다른 경우만 모아 봅시다.\n",
    "    if predicted_labels[i] != y_test[i]:\n",
    "        wrong_predict_list.append(i)\n",
    "\n",
    "# wrong_predict_list 에서 랜덤하게 5개만 뽑아봅시다.\n",
    "samples = random.choices(population=wrong_predict_list, k=5)\n",
    "\n",
    "for n in samples:\n",
    "    print(\"예측확률분포: \" + str(predicted_result[n]))\n",
    "    print(\"라벨: \" + str(y_test[n]) + \", 예측결과: \" + str(predicted_labels[n]))\n",
    "    plt.imshow(x_test[n], cmap=plt.cm.binary)\n",
    "    plt.show()"
   ],
   "metadata": {
    "collapsed": false,
    "ExecuteTime": {
     "end_time": "2023-08-04T07:43:03.295567Z",
     "start_time": "2023-08-04T07:43:02.259417Z"
    }
   }
  },
  {
   "cell_type": "code",
   "execution_count": 1,
   "outputs": [
    {
     "ename": "NameError",
     "evalue": "name 'np' is not defined",
     "output_type": "error",
     "traceback": [
      "\u001B[0;31m---------------------------------------------------------------------------\u001B[0m",
      "\u001B[0;31mNameError\u001B[0m                                 Traceback (most recent call last)",
      "Cell \u001B[0;32mIn[1], line 1\u001B[0m\n\u001B[0;32m----> 1\u001B[0m \u001B[38;5;28mprint\u001B[39m(\u001B[38;5;124m'\u001B[39m\u001B[38;5;124m최소값:\u001B[39m\u001B[38;5;124m'\u001B[39m,\u001B[43mnp\u001B[49m\u001B[38;5;241m.\u001B[39mmin(x_train), \u001B[38;5;124m'\u001B[39m\u001B[38;5;124m 최대값:\u001B[39m\u001B[38;5;124m'\u001B[39m,np\u001B[38;5;241m.\u001B[39mmax(x_train))\n",
      "\u001B[0;31mNameError\u001B[0m: name 'np' is not defined"
     ]
    }
   ],
   "source": [
    "print('최소값:',np.min(x_train), ' 최대값:',np.max(x_train))"
   ],
   "metadata": {
    "collapsed": false,
    "ExecuteTime": {
     "end_time": "2023-08-04T08:28:47.452100Z",
     "start_time": "2023-08-04T08:28:47.145739Z"
    }
   }
  },
  {
   "cell_type": "markdown",
   "source": [
    "## 정리\n",
    "\n",
    "이 코드는 rock, scissor, paper 게임 이미지를 분류하는 모델을 학습하고 성능을 평가하는 코드입니다.\n",
    "\n",
    "1. resize_images: 이미지 사이즈를 28x28로 조정합니다.\n",
    "2. load_data: 경로에서 rock, scissor, paper 이미지를 읽어 로드합니다. 읽은 이미지를 배열로 정리하여 반환합니다.\n",
    "3. 모델 학습을 위해 이미지 데이터를 정규화합니다.\n",
    "4. 모델 정의: 2개의 convolutional layer와 각각 max pooling layer, 2개의 fully connected layer로 정의됩니다.\n",
    "5. load_test_data: 테스트 데이터를 나눠 읽어옵니다.\n",
    "6. 모델 학습: 위에서 정의한 모델을 학습합니다.\n",
    "7. 성능 평가: 학습한 모델의 성능을 테스트 데이터로 평가합니다."
   ],
   "metadata": {
    "collapsed": false
   }
  }
 ],
 "metadata": {
  "kernelspec": {
   "display_name": "Python 3",
   "language": "python",
   "name": "python3"
  },
  "language_info": {
   "codemirror_mode": {
    "name": "ipython",
    "version": 2
   },
   "file_extension": ".py",
   "mimetype": "text/x-python",
   "name": "python",
   "nbconvert_exporter": "python",
   "pygments_lexer": "ipython2",
   "version": "2.7.6"
  }
 },
 "nbformat": 4,
 "nbformat_minor": 0
}
