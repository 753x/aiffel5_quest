{
 "cells": [
  {
   "cell_type": "markdown",
   "source": [
    "# 6. 클로저\n",
    "\n",
    "1. 변수의 범위\n",
    "1) 전역벼수와 지역변수\n",
    "함수를 포함하여 전체에서 접근할 수 있는 변수를 전역변수\n",
    "전역변수에 접근 할 수 있는 범위를 전역범위\n",
    "함수안에서 만든 변수는 지역변수\n",
    "지역변수를 접근할 수 있는 범위는 지역범위"
   ],
   "metadata": {
    "collapsed": false
   }
  },
  {
   "cell_type": "code",
   "execution_count": 8,
   "outputs": [
    {
     "name": "stdout",
     "output_type": "stream",
     "text": [
      "hi, aiffel\n",
      "aiffel\n"
     ]
    }
   ],
   "source": [
    "# 전역변수\n",
    "name = 'aiffel'\n",
    "def hi():\n",
    "    print(f'hi, {name}')\n",
    "hi()\n",
    "print(name)"
   ],
   "metadata": {
    "collapsed": false,
    "ExecuteTime": {
     "end_time": "2023-06-30T01:43:07.509963Z",
     "start_time": "2023-06-30T01:43:07.506425Z"
    }
   }
  },
  {
   "cell_type": "code",
   "execution_count": 10,
   "outputs": [
    {
     "name": "stdout",
     "output_type": "stream",
     "text": [
      "hi, aiffel\n",
      "aiffel\n"
     ]
    }
   ],
   "source": [
    "# 지역변수\n",
    "def h2():\n",
    "    name = 'aiffel'\n",
    "    print(f'hi, {name}')\n",
    "h2()\n",
    "print(name) # 지역변수는 함수밖에서 부르면 오류난다"
   ],
   "metadata": {
    "collapsed": false,
    "ExecuteTime": {
     "end_time": "2023-06-30T01:44:34.924242Z",
     "start_time": "2023-06-30T01:44:34.917503Z"
    }
   }
  },
  {
   "cell_type": "markdown",
   "source": [
    "# 2) 전역변수의 값 변경 (변수 범위 수정)\n",
    "global 키워드\n",
    " 전역변수를 함수안에서 수정하기\n",
    " 함수안에서 전역변수 만들기\n",
    "\n",
    "nonlocal 키워드\n",
    " 지역변수 불러오기\n",
    " nonlocal의 우선 순위"
   ],
   "metadata": {
    "collapsed": false
   }
  },
  {
   "cell_type": "code",
   "execution_count": 11,
   "outputs": [
    {
     "name": "stdout",
     "output_type": "stream",
     "text": [
      "hi, python\n",
      "python\n"
     ]
    }
   ],
   "source": [
    "#global 키워드\n",
    "name = 'aiffel' # 전역변수\n",
    "\n",
    "def hi4():\n",
    "    global name # 전역변수 name을 가져와서 수정 진행 global name = 'python' 이렇게 쓰면 오류남\n",
    "    name = 'python'\n",
    "    print(f'hi, {name}')\n",
    "hi4()\n",
    "print(name)"
   ],
   "metadata": {
    "collapsed": false,
    "ExecuteTime": {
     "end_time": "2023-06-30T02:13:51.365223Z",
     "start_time": "2023-06-30T02:13:51.359806Z"
    }
   }
  },
  {
   "cell_type": "code",
   "execution_count": 12,
   "outputs": [
    {
     "name": "stdout",
     "output_type": "stream",
     "text": [
      "hi, python\n",
      "python\n"
     ]
    }
   ],
   "source": [
    "#global 키워드 : 함수 안에서 전역변수 만들기\n",
    "def hey():\n",
    "    global name\n",
    "    name = 'python'\n",
    "    print(f'hi, {name}')\n",
    "hey()\n",
    "print(name)"
   ],
   "metadata": {
    "collapsed": false,
    "ExecuteTime": {
     "end_time": "2023-06-30T02:16:07.788365Z",
     "start_time": "2023-06-30T02:16:07.783503Z"
    }
   }
  },
  {
   "cell_type": "code",
   "execution_count": 14,
   "outputs": [
    {
     "name": "stdout",
     "output_type": "stream",
     "text": [
      "hello, 아이펠\n"
     ]
    }
   ],
   "source": [
    "#nonlocal 키워드 : 지역변수 불러오기\n",
    "def hello():\n",
    "    who = '인유'\n",
    "    def hello2():\n",
    "        nonlocal who\n",
    "        who = '아이펠'\n",
    "    hello2()\n",
    "    print(f'hello, {who}')\n",
    "hello()"
   ],
   "metadata": {
    "collapsed": false,
    "ExecuteTime": {
     "end_time": "2023-06-30T02:20:28.235589Z",
     "start_time": "2023-06-30T02:20:28.230656Z"
    }
   }
  },
  {
   "cell_type": "code",
   "execution_count": 16,
   "outputs": [
    {
     "name": "stdout",
     "output_type": "stream",
     "text": [
      "70\n",
      "70\n"
     ]
    }
   ],
   "source": [
    "#nonlocal 키워드 : nonlocal의 우선 순위\n",
    "#nonlocal 키워드는 가장 가까운 함수의 지역변수를 불러온다\n",
    "def A():\n",
    "    x = 10\n",
    "    y = 20\n",
    "    def B():\n",
    "        x = 30\n",
    "        def C():\n",
    "            nonlocal x #10을 바인딩 할지 20을 바인딩할지\n",
    "            nonlocal y #함수 하나를 건너 뛰어서 y 바인딩 가능\n",
    "            x = x + 40\n",
    "            y = y + 50\n",
    "            print(x)\n",
    "            print(y)\n",
    "        C()\n",
    "    B()\n",
    "A()"
   ],
   "metadata": {
    "collapsed": false,
    "ExecuteTime": {
     "end_time": "2023-06-30T02:22:54.489961Z",
     "start_time": "2023-06-30T02:22:54.487199Z"
    }
   }
  },
  {
   "cell_type": "markdown",
   "source": [
    "2. 클로저\n",
    "어떤 함수의 내부함수가 외부함수의 변수(*프리변수)를 참조할때, 외부 함수가 종료된 후에도 내부 함수가 외부 함수의 변수를 참조할 수 있도록 어딘가에 저장하는 함수를 의미\n",
    "** 프리변수 : 어떤 함수에서 사용되지만 그 함수 내부에서 선언되지 않은 변수를 의미\n",
    "\n",
    "클로저 함수는 아래 조건을 충족해야 함\n",
    "조건1. 어떤 함수의 내부 함수일것\n",
    "조건2. 그 내부 함수가 외부 함수의 변수를 참조할 것\n",
    "조건3. 외부 함수가 내부 함수를 리턴할\n",
    "def intro():\n",
    "    introduction = 'My hometown is `+home+'.'   # 외부함수\n",
    "    def my():\n",
    "        print(introduction)                     # 내부함수\n",
    "    return my                                   # 리턴값이 함수 자체\n",
    "\n",
    "클로저 : 자신을 둘러싼 스코프(네임스페이스)의 상태값을 기억하는 함수\n"
   ],
   "metadata": {
    "collapsed": false
   }
  },
  {
   "cell_type": "code",
   "execution_count": 20,
   "outputs": [
    {
     "name": "stdout",
     "output_type": "stream",
     "text": [
      "My hometown is Yeosu.\n"
     ]
    },
    {
     "data": {
      "text/plain": "'__class__'"
     },
     "execution_count": 20,
     "metadata": {},
     "output_type": "execute_result"
    }
   ],
   "source": [
    "def intro(home):\n",
    "#------------my 함수의 클로저 영역-------------------\n",
    "    introduction = 'My hometown is '+home+'.'\n",
    "    def my():\n",
    "        print(introduction)\n",
    "#------------my 함수의 클로저 영역-------------------\n",
    "    return my\n",
    "f = intro('Yeosu') #1\n",
    "del intro #2, 지워도 f는 살아있다\n",
    "f() #3"
   ],
   "metadata": {
    "collapsed": false,
    "ExecuteTime": {
     "end_time": "2023-06-30T03:40:32.969180Z",
     "start_time": "2023-06-30T03:40:32.964883Z"
    }
   }
  },
  {
   "cell_type": "code",
   "execution_count": 23,
   "outputs": [
    {
     "data": {
      "text/plain": "'__closure__'"
     },
     "execution_count": 23,
     "metadata": {},
     "output_type": "execute_result"
    }
   ],
   "source": [
    "dir(f)[4] # 클로저 영역에 저장된 변수 확인"
   ],
   "metadata": {
    "collapsed": false,
    "ExecuteTime": {
     "end_time": "2023-06-30T05:03:38.840602Z",
     "start_time": "2023-06-30T05:03:38.836543Z"
    }
   }
  },
  {
   "cell_type": "code",
   "execution_count": 24,
   "outputs": [
    {
     "data": {
      "text/plain": "tuple"
     },
     "execution_count": 24,
     "metadata": {},
     "output_type": "execute_result"
    }
   ],
   "source": [
    "type(f.__closure__)"
   ],
   "metadata": {
    "collapsed": false,
    "ExecuteTime": {
     "end_time": "2023-06-30T05:04:05.871582Z",
     "start_time": "2023-06-30T05:04:05.867543Z"
    }
   }
  },
  {
   "cell_type": "code",
   "execution_count": 21,
   "outputs": [
    {
     "data": {
      "text/plain": "'My hometown is Yeosu.'"
     },
     "execution_count": 21,
     "metadata": {},
     "output_type": "execute_result"
    }
   ],
   "source": [
    "f.__closure__[0].cell_contents # 클로저 영역에 저장된 값 확인"
   ],
   "metadata": {
    "collapsed": false,
    "ExecuteTime": {
     "end_time": "2023-06-30T03:40:50.370314Z",
     "start_time": "2023-06-30T03:40:50.365294Z"
    }
   }
  },
  {
   "cell_type": "code",
   "execution_count": 30,
   "outputs": [
    {
     "name": "stdout",
     "output_type": "stream",
     "text": [
      "My name is 인유. And I want to be a 데이터 분석가. \n"
     ]
    }
   ],
   "source": [
    "def intro(name):\n",
    "    introduction = 'My name is ' + name + '. '\n",
    "    def my(wish):\n",
    "        nonlocal introduction\n",
    "        introduction = introduction + 'And I want to be a ' + wish + '. '\n",
    "        print(introduction)\n",
    "    return my\n",
    "f = intro('인유')\n",
    "f('데이터 분석가')"
   ],
   "metadata": {
    "collapsed": false,
    "ExecuteTime": {
     "end_time": "2023-06-30T05:34:29.298550Z",
     "start_time": "2023-06-30T05:34:29.294458Z"
    }
   }
  },
  {
   "cell_type": "code",
   "execution_count": 41,
   "outputs": [
    {
     "name": "stdout",
     "output_type": "stream",
     "text": [
      "20\n",
      "50\n"
     ]
    }
   ],
   "source": [
    "def closure_counter():\n",
    "    count = 0\n",
    "    def counter(num):\n",
    "        nonlocal count\n",
    "        count = count + num\n",
    "        print(count)\n",
    "    return counter\n",
    "\n",
    "# 결과 확\n",
    "\n",
    "counter = closure_counter()\n",
    "counter(20)\n",
    "counter(30)"
   ],
   "metadata": {
    "collapsed": false,
    "ExecuteTime": {
     "end_time": "2023-06-30T05:49:22.452631Z",
     "start_time": "2023-06-30T05:49:22.442217Z"
    }
   }
  },
  {
   "cell_type": "code",
   "execution_count": null,
   "outputs": [],
   "source": [
    "#연습문제4\n",
    "def closure_str_checker():\n",
    "    # 문자열이 길면 알려주는 함수\n",
    "    def check_length(limit):\n",
    "        def length_func(string):\n",
    "            if len(string) > limit:\n",
    "                return f'길이는 {len(string)}개 입니다. 지정한 길이보다 길어요.'\n",
    "            else:\n",
    "                return \"길이가 적당합니다.\"\n",
    "        return length_func\n",
    "\n",
    "    def str_checker(string):\n",
    "        num_len = 20 # 길이를 설정합니다.\n",
    "        length = check_length(num_len)\n",
    "        if len(string) <= 0:\n",
    "            print('문자열의 길이가 0보다 작거나 같습니다.')\n",
    "        else:\n",
    "            print('문자열의 길이 :', len(string), length(string), sep='\\n')\n",
    "    return str_checker\n",
    "\n",
    "check = closure_str_checker()\n",
    "test_str = '화이팅. 아자 아자 화이팅!!!!!!!!' # 길이가 다른 문자열을 입력해보세요.\n",
    "check(test_str)"
   ],
   "metadata": {
    "collapsed": false
   }
  }
 ],
 "metadata": {
  "kernelspec": {
   "display_name": "Python 3",
   "language": "python",
   "name": "python3"
  },
  "language_info": {
   "codemirror_mode": {
    "name": "ipython",
    "version": 2
   },
   "file_extension": ".py",
   "mimetype": "text/x-python",
   "name": "python",
   "nbconvert_exporter": "python",
   "pygments_lexer": "ipython2",
   "version": "2.7.6"
  }
 },
 "nbformat": 4,
 "nbformat_minor": 0
}
