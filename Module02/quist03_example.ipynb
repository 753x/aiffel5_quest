{
 "cells": [
  {
   "cell_type": "code",
   "execution_count": 1,
   "metadata": {
    "collapsed": true,
    "ExecuteTime": {
     "end_time": "2023-06-29T03:43:45.133291Z",
     "start_time": "2023-06-29T03:43:33.547223Z"
    }
   },
   "outputs": [
    {
     "name": "stdout",
     "output_type": "stream",
     "text": [
      "Collecting ColabTurtle\r\n",
      "  Downloading ColabTurtle-2.1.0.tar.gz (6.8 kB)\r\n",
      "  Preparing metadata (setup.py) ... \u001B[?25ldone\r\n",
      "\u001B[?25hBuilding wheels for collected packages: ColabTurtle\r\n",
      "  Building wheel for ColabTurtle (setup.py) ... \u001B[?25ldone\r\n",
      "\u001B[?25h  Created wheel for ColabTurtle: filename=ColabTurtle-2.1.0-py3-none-any.whl size=7641 sha256=8bdee788f00fb331f3266813e11e7433c018fc17c51eb104857df8e5a32ec7a0\r\n",
      "  Stored in directory: /Users/ralphpark/Library/Caches/pip/wheels/64/45/a7/09104e7647ab1f65128305c09f51b96c034799f8f02bc5b648\r\n",
      "Successfully built ColabTurtle\r\n",
      "Installing collected packages: ColabTurtle\r\n",
      "Successfully installed ColabTurtle-2.1.0\r\n"
     ]
    },
    {
     "data": {
      "text/plain": "<IPython.core.display.HTML object>",
      "text/html": "\n      <svg width=\"800\" height=\"500\">\n        <rect width=\"100%\" height=\"100%\" fill=\"black\"/>\n        \n        <g visibility=visible transform=\"rotate(360,400,250) translate(382, 232)\">\n<path style=\" stroke:none;fill-rule:evenodd;fill:white;fill-opacity:1;\" d=\"M 18.214844 0.632812 C 16.109375 1.800781 15.011719 4.074219 15.074219 7.132812 L 15.085938 7.652344 L 14.785156 7.496094 C 13.476562 6.824219 11.957031 6.671875 10.40625 7.066406 C 8.46875 7.550781 6.515625 9.15625 4.394531 11.992188 C 3.0625 13.777344 2.679688 14.636719 3.042969 15.027344 L 3.15625 15.152344 L 3.519531 15.152344 C 4.238281 15.152344 4.828125 14.886719 8.1875 13.039062 C 9.386719 12.378906 10.371094 11.839844 10.378906 11.839844 C 10.386719 11.839844 10.355469 11.929688 10.304688 12.035156 C 9.832031 13.09375 9.257812 14.820312 8.96875 16.078125 C 7.914062 20.652344 8.617188 24.53125 11.070312 27.660156 C 11.351562 28.015625 11.363281 27.914062 10.972656 28.382812 C 8.925781 30.84375 7.945312 33.28125 8.238281 35.1875 C 8.289062 35.527344 8.28125 35.523438 8.917969 35.523438 C 10.941406 35.523438 13.074219 34.207031 15.136719 31.6875 C 15.359375 31.417969 15.328125 31.425781 15.5625 31.574219 C 16.292969 32.042969 18.023438 32.964844 18.175781 32.964844 C 18.335938 32.964844 19.941406 32.210938 20.828125 31.71875 C 20.996094 31.625 21.136719 31.554688 21.136719 31.558594 C 21.203125 31.664062 21.898438 32.414062 22.222656 32.730469 C 23.835938 34.300781 25.5625 35.132812 27.582031 35.300781 C 27.90625 35.328125 27.9375 35.308594 28.007812 34.984375 C 28.382812 33.242188 27.625 30.925781 25.863281 28.425781 L 25.542969 27.96875 L 25.699219 27.785156 C 28.945312 23.960938 29.132812 18.699219 26.257812 11.96875 L 26.207031 11.84375 L 27.945312 12.703125 C 31.53125 14.476562 32.316406 14.800781 33.03125 14.800781 C 33.976562 14.800781 33.78125 13.9375 32.472656 12.292969 C 28.519531 7.355469 25.394531 5.925781 21.921875 7.472656 L 21.558594 7.636719 L 21.578125 7.542969 C 21.699219 6.992188 21.761719 5.742188 21.699219 5.164062 C 21.496094 3.296875 20.664062 1.964844 19.003906 0.855469 C 18.480469 0.503906 18.457031 0.5 18.214844 0.632812\"/>\n</g>\n      </svg>\n    "
     },
     "metadata": {},
     "output_type": "display_data"
    },
    {
     "name": "stdout",
     "output_type": "stream",
     "text": [
      "미로 탐색 시작\n",
      "미로를 찾았습니다.\n",
      "지나간 길:\n",
      "[0, 1, 2, 2, 2]\n",
      "[2, 2, 2, 1, 2]\n",
      "[0, 1, 1, 0, 2]\n",
      "[0, 0, 1, 1, 2]\n",
      "[0, 0, 0, 1, 2]\n"
     ]
    }
   ],
   "source": [
    "!pip install ColabTurtle\n",
    "\n",
    "from ColabTurtle.Turtle import *\n",
    "\n",
    "# 미로 생성\n",
    "maze = [[0, 1, 0, 0, 0],\n",
    "        [0, 0, 0, 1, 0],\n",
    "        [0, 1, 1, 0, 0],\n",
    "        [0, 0, 1, 1, 0],\n",
    "        [0, 0, 0, 1, 0]]\n",
    "\n",
    "\n",
    "# 출구 도착 여부 확인\n",
    "def is_exit(x, y):\n",
    "    return x == 4 and y == 4\n",
    "\n",
    "# 미로 탐색 함수\n",
    "def explore_maze(x, y):\n",
    "    if x < 0 or y < 0 or x >= 5 or y >= 5:\n",
    "        return False\n",
    "\n",
    "    if maze[x][y] == 1 or maze[x][y] == 2:\n",
    "        return False\n",
    "\n",
    "    if is_exit(x, y):\n",
    "        return True\n",
    "\n",
    "    maze[x][y] = 2\n",
    "\n",
    "\n",
    "    if explore_maze(x + 1, y):\n",
    "        seth(0)\n",
    "        forward(20)\n",
    "        return True\n",
    "\n",
    "    if explore_maze(x - 1, y):\n",
    "        seth(180)\n",
    "        forward(20)\n",
    "        return True\n",
    "\n",
    "    if explore_maze(x, y + 1):\n",
    "        seth(90)\n",
    "        forward(20)\n",
    "        return True\n",
    "\n",
    "    if explore_maze(x, y - 1):\n",
    "        seth(270)\n",
    "        forward(20)\n",
    "        return True\n",
    "\n",
    "    maze[x][y] = 0\n",
    "    return False\n",
    "\n",
    "# 거북이 초기화\n",
    "initializeTurtle(initial_speed=10)\n",
    "speed(5)\n",
    "width(2)\n",
    "\n",
    "# 미로 탐색 및 지나간 길 출력\n",
    "def print_maze():\n",
    "    for row in maze:\n",
    "        print(row)\n",
    "\n",
    "print(\"미로 탐색 시작\")\n",
    "if explore_maze(0, 0):\n",
    "    print(\"미로를 찾았습니다.\")\n",
    "    maze[4][4] = 2\n",
    "    maze[0][0] = 0\n",
    "    print(\"지나간 길:\")\n",
    "    print_maze()\n",
    "else:\n",
    "    print(\"미로를 찾을 수 없습니다.\")\n",
    "\n"
   ]
  },
  {
   "cell_type": "code",
   "execution_count": null,
   "outputs": [],
   "source": [],
   "metadata": {
    "collapsed": false
   }
  }
 ],
 "metadata": {
  "kernelspec": {
   "display_name": "Python 3",
   "language": "python",
   "name": "python3"
  },
  "language_info": {
   "codemirror_mode": {
    "name": "ipython",
    "version": 2
   },
   "file_extension": ".py",
   "mimetype": "text/x-python",
   "name": "python",
   "nbconvert_exporter": "python",
   "pygments_lexer": "ipython2",
   "version": "2.7.6"
  }
 },
 "nbformat": 4,
 "nbformat_minor": 0
}
