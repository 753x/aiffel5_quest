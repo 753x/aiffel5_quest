{
 "cells": [
  {
   "cell_type": "markdown",
   "source": [
    "#7. 예외처리\n",
    "1)구문오류(SyntaxError)\n",
    "\n",
    "파이썬 문법에 맞지 않아서 프로그래밍 실행 전에 오류가 나는것\n",
    "\n",
    "EOL : Error on Line\n",
    "\n",
    "구문 오류는 오류난 문법을 수정해야 코드가 실행\n",
    "\n",
    "2)예외(Exception) 또는 런타임 오류(RuntimeError)\n",
    "\n",
    "예외 or 런타임 오류 : 프로그래밍 실행 후 나온 에러"
   ],
   "metadata": {
    "collapsed": false
   }
  },
  {
   "cell_type": "code",
   "execution_count": 2,
   "outputs": [
    {
     "ename": "NameError",
     "evalue": "name 'list_a' is not defined",
     "output_type": "error",
     "traceback": [
      "\u001B[0;31m---------------------------------------------------------------------------\u001B[0m",
      "\u001B[0;31mNameError\u001B[0m                                 Traceback (most recent call last)",
      "Cell \u001B[0;32mIn[2], line 1\u001B[0m\n\u001B[0;32m----> 1\u001B[0m \u001B[43mlist_a\u001B[49m[\u001B[38;5;241m0\u001B[39m]\n",
      "\u001B[0;31mNameError\u001B[0m: name 'list_a' is not defined"
     ]
    }
   ],
   "source": [
    "list_a[0]"
   ],
   "metadata": {
    "collapsed": false,
    "ExecuteTime": {
     "end_time": "2023-07-03T05:26:42.759280Z",
     "start_time": "2023-07-03T05:26:42.439876Z"
    }
   }
  },
  {
   "cell_type": "markdown",
   "source": [
    "이런 예외를 해결하는 모든 것을 예외처리(Exception Handling)이라고 한다.\n",
    "\n",
    "예외를 처리하는 방법은 두가지로 나뉜다.\n",
    "\n",
    "- 조건문 사용\n",
    "- try구문 사용"
   ],
   "metadata": {
    "collapsed": false
   }
  },
  {
   "cell_type": "markdown",
   "source": [
    "2. 예외처리\n",
    "\n",
    "1) 조건문\n",
    "- 조건문으로 예외를 처리하는 방법\n",
    "- 장점 : 속도가 빠름\n",
    "- 단점 : 예외가 발생활 상황을 예측하고 모두 조건문으로 처리해야 한다는 점\n",
    "2) try except 구문\n",
    "- 장점 : 예외가 발생한 상황을 미리 예측하지 않아도 된다.\n",
    "- 단점 : 속도가 느림"
   ],
   "metadata": {
    "collapsed": false
   }
  },
  {
   "cell_type": "code",
   "execution_count": 3,
   "outputs": [
    {
     "name": "stdout",
     "output_type": "stream",
     "text": [
      "입력한 숫자는 2.0입니다.\n"
     ]
    }
   ],
   "source": [
    "# try except 구문\n",
    "# 시도 할 코드\n",
    "try:\n",
    "    # 입력값을 예외걱정 없이 float 함수를 씌움\n",
    "    num = float(input(\"숫자를 입력하세요 : \"))\n",
    "    print(f'입력한 숫자는 {num}입니다.')\n",
    "# try 코드에서 예외가 발생했을때 실행 할 코드\n",
    "except:\n",
    "    print('숫자가 아닙니다.')"
   ],
   "metadata": {
    "collapsed": false,
    "ExecuteTime": {
     "end_time": "2023-07-03T06:46:07.985584Z",
     "start_time": "2023-07-03T06:46:03.624526Z"
    }
   }
  },
  {
   "cell_type": "markdown",
   "source": [
    "Try Except 구문은 pass 키워드(일단 프로그램 강제 종료를 막자)와 함께 사용할 수 있다."
   ],
   "metadata": {
    "collapsed": false
   }
  },
  {
   "cell_type": "code",
   "execution_count": 5,
   "outputs": [
    {
     "name": "stdout",
     "output_type": "stream",
     "text": [
      "프로그램 종료\n"
     ]
    }
   ],
   "source": [
    "try:\n",
    "    # 입력값을 예외걱정 없이 float 함수를 씌움\n",
    "    num = float(input(\"숫자를 입력하세요 : \"))\n",
    "    print(f'입력한 숫자는 {num}입니다.')\n",
    "# try 코드에서 예외가 발생했을때 실행 할 코드\n",
    "except:\n",
    "    pass\n",
    "print('프로그램 종료')"
   ],
   "metadata": {
    "collapsed": false,
    "ExecuteTime": {
     "end_time": "2023-07-03T06:47:55.055986Z",
     "start_time": "2023-07-03T06:47:52.144359Z"
    }
   }
  },
  {
   "cell_type": "markdown",
   "source": [
    "Try except else 구문\n",
    "try except 구문은 else 구문과 함께 사용할 수 있다.\n",
    "else 구문은 try 구문에서 예외가 발생하지 않았을 때 실행된다.\n",
    "예외 발생 가능성이 있는 코드만 try 구문에 넣고 나머지 코드는 else 구문에 넣어서 사용하면 된다.\n",
    "개발자의 스타일에 따라 else 구문은 선택사항"
   ],
   "metadata": {
    "collapsed": false
   }
  },
  {
   "cell_type": "code",
   "execution_count": 6,
   "outputs": [
    {
     "name": "stdout",
     "output_type": "stream",
     "text": [
      "숫자가 아닙니다.\n"
     ]
    }
   ],
   "source": [
    "try:\n",
    "    # 입력값을 예외걱정 없이 float 함수를 씌움\n",
    "    num = float(input(\"숫자를 입력하세요 : \"))\n",
    "except:\n",
    "    print('숫자가 아닙니다.')\n",
    "else:\n",
    "    print(f'입력한 숫자는 {num}입니다.')"
   ],
   "metadata": {
    "collapsed": false,
    "ExecuteTime": {
     "end_time": "2023-07-03T06:50:31.219040Z",
     "start_time": "2023-07-03T06:50:27.766507Z"
    }
   }
  },
  {
   "cell_type": "markdown",
   "source": [
    "Try except else finally 구문\n",
    "try 구문은 단독으로 쓰일 수 없고 적어도 except 구문이 혹은 finally랑 함께 사용해야 한다.\n",
    "finally 구문은 try 구문에서 예외 발생 여부와 상관없이 무조건 실행된다.\n",
    "finally 구문은 try 구문에서 사용한 리소스를 해제할 때 사용한다.\n",
    "else 구문은 except와 꼭 함께 쓰이면서 순서는 except 구문 뒤에 사용해야 한다"
   ],
   "metadata": {
    "collapsed": false
   }
  },
  {
   "cell_type": "markdown",
   "source": [
    "try:\n",
    "    예외가 발생할 수 있는 코드\n",
    "except:\n",
    "    예외가 발생했을 때 실행할 코드\n",
    "else:\n",
    "    예외가 발생하지 않았을 때 실행할 코드\n",
    "finally:\n",
    "    에외와 관계없이 무조건 실행되는 코드"
   ],
   "metadata": {
    "collapsed": false
   }
  },
  {
   "cell_type": "code",
   "execution_count": 8,
   "outputs": [
    {
     "name": "stdout",
     "output_type": "stream",
     "text": [
      "숫자가 아닙니다.\n",
      "프로그램 종료\n"
     ]
    }
   ],
   "source": [
    "# try except else finally 구문\n",
    "# 시도할 코드\n",
    "try:\n",
    "    # 입력값을 예외걱정 없이 float 함수를 씌움\n",
    "    num = float(input(\"숫자를 입력하세요 : \"))\n",
    "# try 코드에서 예외가 발생했을때 실행 할 코드\n",
    "except:\n",
    "    print('숫자가 아닙니다.')\n",
    "# try 코드에서 예외가 발생하지 않았을때 실행 할 코드\n",
    "else:\n",
    "    print(f'입력한 숫자는 {num}입니다.')\n",
    "#finally 구문 추가\n",
    "finally:\n",
    "    print('프로그램 종료')"
   ],
   "metadata": {
    "collapsed": false,
    "ExecuteTime": {
     "end_time": "2023-07-03T06:57:13.808746Z",
     "start_time": "2023-07-03T06:57:11.703380Z"
    }
   }
  },
  {
   "cell_type": "markdown",
   "source": [
    "raise 구문\n",
    "raise 구문은 예외를 강제로 발생시킬 때 사용한다.\n"
   ],
   "metadata": {
    "collapsed": false
   }
  },
  {
   "cell_type": "code",
   "execution_count": 9,
   "outputs": [
    {
     "ename": "Exception",
     "evalue": "예외가 발생했습니다.",
     "output_type": "error",
     "traceback": [
      "\u001B[0;31m---------------------------------------------------------------------------\u001B[0m",
      "\u001B[0;31mException\u001B[0m                                 Traceback (most recent call last)",
      "Cell \u001B[0;32mIn[9], line 2\u001B[0m\n\u001B[1;32m      1\u001B[0m \u001B[38;5;66;03m# raise 구문\u001B[39;00m\n\u001B[0;32m----> 2\u001B[0m \u001B[38;5;28;01mraise\u001B[39;00m \u001B[38;5;167;01mException\u001B[39;00m(\u001B[38;5;124m'\u001B[39m\u001B[38;5;124m예외가 발생했습니다.\u001B[39m\u001B[38;5;124m'\u001B[39m)\n",
      "\u001B[0;31mException\u001B[0m: 예외가 발생했습니다."
     ]
    }
   ],
   "source": [
    "# raise 구문\n",
    "raise Exception('예외가 발생했습니다.')"
   ],
   "metadata": {
    "collapsed": false,
    "ExecuteTime": {
     "end_time": "2023-07-03T06:57:59.550873Z",
     "start_time": "2023-07-03T06:57:59.544082Z"
    }
   }
  },
  {
   "cell_type": "markdown",
   "source": [
    "raise 구문\n",
    "\n",
    "자주뜨는 에로종류 9가지\n",
    "\n",
    "SyntaxError : 잘못된 문법\n",
    "\n",
    "NameError : 참조변수 없음\n",
    "\n",
    "ex)예를 들면 코드에서 변수 a를 출력하도록 했는데, 코드 상에서 a 선언한 적이 없을 때 발생하는 에러입니다.\n",
    "\n",
    "NameError: name 'a' is not defined 라고 뜨고, 이름이 정의되지 않았다는 뜻입니다.\n",
    "\n",
    "TypeError : 타입 안맞음\n",
    "ex)연산 등을 할 때 타입이 서로 맞지 않을 때 발생하는 에러입니다. 예를 들어 리스트와 문자열을 연결할 때 발생합니다. TypeError: can only concatenate list (not \"str\") to list 라고 해서 '리스트는 (문자열이 아닌) 리스트와 결합할 수 있습니다'라는 뜻을 의미합다.\n",
    "\n",
    "IndexError : 인덱스 범위 벗어남\n",
    "ex)리스트에 없는 원소를 호출할 경우 발생하는 에러입니다. IndexError: list index out of range 와 같이 범위를 벗어났다는 메시지가 뜹니다.\n",
    "\n",
    "ValueError : 참조값이 없음\n",
    "ex)리스트에 없는 요소를 지우려고 하면 애초에 그런 값이 없기 때문에 에러가 발생합니다. ValueError: list.remove(x): x not in list 와 같이 그런 값이 리스트에 포함되어 있지 않다는 메시지가 뜹니다.\n",
    "\n",
    "KeyError : 키 없음 오류(주로 딕셔너리 사용 시)\n",
    "ex)딕셔너리에 없는 키를 호출할 때 발생하는 에러입니다.\n",
    "이럴 땐 get 메소드를 활용하면 해결됩니다. print(mydict.get('Park'))라고 써보면 None이 출력됩니다. 키가 없을 경우 None값이 반환됩니다. 그 뒤에 키가 없을 때 반환할 값을 지정해놓아도 됩니다.\n",
    "print(mydict.get('Park', 'Not exist'))라고 써보면 Not exist가 출력됩니다\n",
    "\n",
    "ZeroDivisionError : 0으로 나눌 수 없음\n",
    "ex)파이썬에서 print(10 / 0)이라는 코드는 10 나누기 0 값을 출력한다는 의미입니다. 문법적으로는 에러가 없지만 막상 실행하면 런타임 시에 ZeroDivisionError: division by zero 라는 오류 메시지가 뜹니다.\n",
    "\n",
    "FileNotFoundError : 파일을 찾을 수 없음 오류\n",
    "ex)해당 경로에 파일이 없다면 FileNotFoundError: [Errno 2] No such file or directory: 'ex.txt' 라는 메시지가 뜹니다. 그런 파일이나 디렉토리(폴더)가 없다는 뜻입니다.\n",
    "\n",
    "ModuleNotFoundError : 모듈을 찾을 수 없음 오류\n",
    "\n",
    "AttributeError : 모듈, 클래스의 잘못된 속성 사용 오류\n",
    "ex)곧이어 배울 모듈과 클래스에서 나올 수 있는 오류로, 모듈에 없는 함수를 쓰려고 할 때 나옵니다.\n",
    "이미 모듈에 대해 알고 있는 분들을 위해 예시를 들어 설명해보면 import time으로 time 모듈을 활용하고자 할 때, time모듈에 없는 함수를 사용하면 에러가 발생합니다.\n",
    "AttributeError: module 'time' has no attribute 'month'와 같이 time 모듈은 month라는 속성이 없다고 친절하게 알려줍니다."
   ],
   "metadata": {
    "collapsed": false
   }
  },
  {
   "cell_type": "markdown",
   "source": [
    "* 예외 처리 전략\n",
    "EAFP(Easier to Ask for Forgiveness than Permission) : 용서를 구하는 것이 허락을 받기보다 쉽다. 미리 허락을 구하는 것보다 나중에 용서를 구하는 것이 쉽다는 뜻.\n",
    "일단 항상 예외가 발생하지 않을 것으로 가정하고 나름대로의 완벽한 코딩을 합니다.\n",
    "그래서 일단 수행(try)하고 예외가 발생하면 예외처리(except)하는 방식입니다.\n",
    "\n",
    "LBYL(Look Before You Leap) : 도약하기 전에 보라. 미리 허락을 구하는 것이 용서를 구하는 것보다 쉽다는 뜻. 누울자리를 보고 다리를 뻗으라는 뜻.\n",
    "어떤 코드를 실행하기 전에 에러가 발생할 수 있는 조건을 미리 다 따져보고 그걸 어떻게 처리할지 조건문(if) 스타일로 코딩하는 전략"
   ],
   "metadata": {
    "collapsed": false
   }
  },
  {
   "cell_type": "markdown",
   "source": [
    "## 조건문 실습"
   ],
   "metadata": {
    "collapsed": false
   }
  },
  {
   "cell_type": "markdown",
   "source": [
    "입력이 다양한 자료형을 염두해두고 코드를 짜야하니 input()을 감싸고 있는 int() 함수를 제거합니다. 그리고 int형이 아닌 자료형들을 조건문으로 걸러내야 합니다. 그런데 input() 함수는 들어온 값을 모두 문자열로 인식하기 때문에 문자열이 숫자인지를 확인하는 함수인 isdigit() 함수를 사용하면 됩니다.\n",
    "\n",
    "조건문에서 입력값이 정수일 때만 입력한 수를 출력하고, 아니라면 정수가 아닙니다.라는 말을 출력하게 합니다. 예외를 처리하기 위한 코드이니 이번에도 각자의 이름과 같이 정수가 아닌 문자열을 입력해보세요."
   ],
   "metadata": {
    "collapsed": false
   }
  },
  {
   "cell_type": "code",
   "execution_count": 2,
   "outputs": [
    {
     "name": "stdout",
     "output_type": "stream",
     "text": [
      "정수가 아닙니다.\n"
     ]
    }
   ],
   "source": [
    "# 실습문제\n",
    "# 정수가 아닌 값을 입력해서 예외 처리를 잘 하는지 확인해 보세요.\n",
    "num = input('정수를 입력하세요 : ')  # int() 함수 제거\n",
    "\n",
    "# 입력값이 정수일 때만\n",
    "# Q. 아래의 빈 코드를 채워보세요.\n",
    "if num.isdigit():\n",
    "    print(f'입력한 정수는 {num}입니다.')\n",
    "\n",
    "# 입력값이 정수가 아닐 때\n",
    "else:\n",
    "    print('정수가 아닙니다.')"
   ],
   "metadata": {
    "collapsed": false,
    "ExecuteTime": {
     "end_time": "2023-07-03T07:11:54.988317Z",
     "start_time": "2023-07-03T07:11:52.343763Z"
    }
   }
  },
  {
   "cell_type": "markdown",
   "source": [
    "음수도 정수인데도 정수로 인식하지 못하는 것을 확인하실 수 있을 것입니다.\n",
    "isdigit() 함수는 숫자(digit)만 판별하는 함수이므로 음수를 표시하는 -는 걸러내지 못합니다. 그래서 - 를 걸러줘야 합니다. 이때 lstrip() 함수를 사용합니다.\n",
    "'strip'은 '벗기다'라는 뜻을 가지고 있습니다. 그래서 lstrip은 left-strip, 즉 왼쪽을 벗겨낸다는 뜻입니다. 사용법은 간단합니다. lstrip() 함수 안에 벗기고 싶은 문자열을 넣으면 됩니다. 예시를 먼저 보겠습니다.\n",
    "lstrip('제거할 대상').isdigit()은 왼쪽에서 부터 제거할 대상을 지우고 나서 정수이면 True, 정수가 아니면 False를 뱉음."
   ],
   "metadata": {
    "collapsed": false
   }
  },
  {
   "cell_type": "code",
   "execution_count": 3,
   "outputs": [
    {
     "name": "stdout",
     "output_type": "stream",
     "text": [
      "1\n",
      "3\n",
      "5\n",
      "7\n",
      "9\n"
     ]
    }
   ],
   "source": [
    "# lstrip 함수의 예시\n",
    "ex = ['-1', '-3', '-5', '-7', '-9']\n",
    "\n",
    "for i in range(len(ex)):\n",
    "    print(ex[i].lstrip(\"-\"))"
   ],
   "metadata": {
    "collapsed": false,
    "ExecuteTime": {
     "end_time": "2023-07-03T07:33:02.361620Z",
     "start_time": "2023-07-03T07:33:02.337269Z"
    }
   }
  },
  {
   "cell_type": "code",
   "execution_count": null,
   "outputs": [],
   "source": [
    "# 실습문제\n",
    "#위와 같이 문자열 안에서 lstrip() 함수 안의 문자열을 벗겨냅니다. 이 함수를 사용해 음수를 걸러내기 위해 elif에 조건을 쓰겠습니다. 아래 코드에서 양의 정수 뿐만 아니라 음의 정수까지 넣어서 확인 해보세요.\n",
    "\n",
    "if  num.isdigit() and int(num) > 0:\n",
    "    print(f'입력한 정수는 {num}입니다.')\n",
    "\n",
    "# 입력값이 음의 정수일 때\n",
    "# Q. 아래의 빈 코드를 채워보세요.\n",
    "elif  num.lstrip(\"-\").isdigit() and int(num) < 0:\n",
    "    print(f'입력한 정수는 {num}입니다.')\n",
    "\n",
    "# 입력값이 정수가 아닐 때\n",
    "else:\n",
    "    print('정수가 아닙니다.')"
   ],
   "metadata": {
    "collapsed": false
   }
  },
  {
   "cell_type": "code",
   "execution_count": 5,
   "outputs": [
    {
     "name": "stdout",
     "output_type": "stream",
     "text": [
      "햄버거의 가격은 4900원 입니다.\n",
      "총 가격은 49000원 입니다.\n"
     ]
    }
   ],
   "source": [
    "#연습문제1\n",
    "# 실습퀴즈1. 예외처리 try - finally\n",
    "# 햄버거의 갯수만 입력 받는 프로그램을 작성해주세요!\n",
    "menu = input(\"메뉴를 입력해주세요!\")\n",
    "menu_count = int(input(\"갯수를 입력해주세요!\"))\n",
    "\n",
    "try:\n",
    "    if menu == \"햄버거\":\n",
    "        print(\"햄버거의 가격은 4900원 입니다.\")\n",
    "        print(\"총 가격은 \" + str(menu_count * 4900) + \"원 입니다.\")\n",
    "\n",
    "\n",
    "finally:\n",
    "    if menu != \"햄버거\":\n",
    "        raise Exception(\"햄버거만 입력해주세요!\")"
   ],
   "metadata": {
    "collapsed": false,
    "ExecuteTime": {
     "end_time": "2023-07-03T08:10:46.556275Z",
     "start_time": "2023-07-03T08:10:41.665908Z"
    }
   }
  },
  {
   "cell_type": "code",
   "execution_count": 6,
   "outputs": [
    {
     "name": "stdout",
     "output_type": "stream",
     "text": [
      "리스트에 8가 있습니다. 인덱스는 2입니다.\n",
      "리스트에 10000가(아) 없습니다.\n",
      "리스트에 a-z가-하가 있습니다. 인덱스는 5입니다.\n"
     ]
    }
   ],
   "source": [
    "#연습문제2\n",
    "#아래 결과 확인을 통해 리스트의 몇번째 인덱스에 원하는 요소가 포함되어 있는지 확인해봅시다.\n",
    "def list_finder(list, elt):\n",
    "    try:\n",
    "        idx = list.index(elt)\n",
    "        message = \"리스트에 {}가 있습니다. 인덱스는 {}입니다.\".format(elt, idx)\n",
    "        return message\n",
    "    except ValueError:\n",
    "        message2 = \"리스트에 {}가(아) 없습니다.\".format(elt)\n",
    "        return message2\n",
    "    except Exception as e:\n",
    "        return f'알 수 없는 오류가 발생했습니다.: {e}'\n",
    "\n",
    "# 결과 확인 함수\n",
    "print(list_finder([10, 9, 8], 8))\n",
    "print(list_finder([25, 7, 8], 10000))\n",
    "print(list_finder([100, 2, 15, 28, 0, \"a-z가-하\"], \"a-z가-하\"))"
   ],
   "metadata": {
    "collapsed": false,
    "ExecuteTime": {
     "end_time": "2023-07-03T08:11:24.375500Z",
     "start_time": "2023-07-03T08:11:24.371750Z"
    }
   }
  }
 ],
 "metadata": {
  "kernelspec": {
   "display_name": "Python 3",
   "language": "python",
   "name": "python3"
  },
  "language_info": {
   "codemirror_mode": {
    "name": "ipython",
    "version": 2
   },
   "file_extension": ".py",
   "mimetype": "text/x-python",
   "name": "python",
   "nbconvert_exporter": "python",
   "pygments_lexer": "ipython2",
   "version": "2.7.6"
  }
 },
 "nbformat": 4,
 "nbformat_minor": 0
}
