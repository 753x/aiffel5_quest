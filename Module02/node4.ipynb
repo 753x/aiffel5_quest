{
 "cells": [
  {
   "cell_type": "markdown",
   "source": [
    "#4. 이터레이터, 제너레이터, 데코레이터\n"
   ],
   "metadata": {
    "collapsed": false
   }
  },
  {
   "cell_type": "code",
   "execution_count": 31,
   "outputs": [
    {
     "data": {
      "text/plain": "<range_iterator at 0x7fd5206508a0>"
     },
     "execution_count": 31,
     "metadata": {},
     "output_type": "execute_result"
    }
   ],
   "source": [
    "#이터러블 객체\n",
    "range(0,11).__iter__()"
   ],
   "metadata": {
    "collapsed": false,
    "ExecuteTime": {
     "end_time": "2023-06-28T03:18:58.310723Z",
     "start_time": "2023-06-28T03:18:58.298849Z"
    }
   }
  },
  {
   "cell_type": "code",
   "execution_count": 33,
   "outputs": [
    {
     "data": {
      "text/plain": "4"
     },
     "execution_count": 33,
     "metadata": {},
     "output_type": "execute_result"
    }
   ],
   "source": [
    "#이터레이터 확인해보기\n",
    "range_iter = range(0,11).__iter__()\n",
    "range_iter.__next__()\n",
    "range_iter.__next__()\n",
    "range_iter.__next__()\n",
    "range_iter.__next__()\n",
    "range_iter.__next__()"
   ],
   "metadata": {
    "collapsed": false,
    "ExecuteTime": {
     "end_time": "2023-06-28T03:19:07.608909Z",
     "start_time": "2023-06-28T03:19:07.590691Z"
    }
   }
  },
  {
   "cell_type": "markdown",
   "source": [
    "이터러블(반복가능객체) --> __iter__() 붙이면 이터레이터가 되고 여기에 __next__()붙이면 값을 꺼낼 수 있다"
   ],
   "metadata": {
    "collapsed": false
   }
  },
  {
   "cell_type": "code",
   "execution_count": 15,
   "outputs": [
    {
     "ename": "AttributeError",
     "evalue": "'range' object has no attribute '__next__'",
     "output_type": "error",
     "traceback": [
      "\u001B[0;31m---------------------------------------------------------------------------\u001B[0m",
      "\u001B[0;31mAttributeError\u001B[0m                            Traceback (most recent call last)",
      "Cell \u001B[0;32mIn[15], line 2\u001B[0m\n\u001B[1;32m      1\u001B[0m \u001B[38;5;66;03m#이터러블은 넥스트로 갈 수 없다\u001B[39;00m\n\u001B[0;32m----> 2\u001B[0m \u001B[38;5;28;43mrange\u001B[39;49m\u001B[43m(\u001B[49m\u001B[38;5;241;43m1\u001B[39;49m\u001B[43m,\u001B[49m\u001B[38;5;241;43m11\u001B[39;49m\u001B[43m)\u001B[49m\u001B[38;5;241;43m.\u001B[39;49m\u001B[38;5;21;43m__next__\u001B[39;49m()\n",
      "\u001B[0;31mAttributeError\u001B[0m: 'range' object has no attribute '__next__'"
     ]
    }
   ],
   "source": [
    "#이터러블은 넥스트로 갈 수 없다\n",
    "range(1,11).__next__()"
   ],
   "metadata": {
    "collapsed": false,
    "ExecuteTime": {
     "end_time": "2023-06-28T01:53:43.569301Z",
     "start_time": "2023-06-28T01:53:43.272291Z"
    }
   }
  },
  {
   "cell_type": "markdown",
   "source": [
    " 2. 제너레이터\n",
    "1)누워서 제너레이터 이해하기 / 생성하기\n",
    "-->제너레이터를 사용하면 한번에 데이터를 모아서 처리하지 않기 때문에 큰 메모리를 사용하지 않고 규모가 있는 프로그램을 개발할 때 매우 중요한 요소\n",
    "a. 제너레이터 표현식\n",
    "(x for x in range(0,5+1))\n",
    "b. 튜플 컴프리헨션\n",
    "tuple(x for x in range(0,5+1))\n",
    "** 제너레이터 표현식과 튜플 컴프리헨션 차이점은 앞에 튜플이 붙느냐 안붙느냐로 구분됨\n",
    "c. 제네레이터 함수\n",
    "--> 함수 내에 yield 가 하나라도 있으면 제네레이터 함수"
   ],
   "metadata": {
    "collapsed": false
   }
  },
  {
   "cell_type": "code",
   "execution_count": 16,
   "outputs": [
    {
     "data": {
      "text/plain": "<generator object num_gen at 0x7fd5002cc190>"
     },
     "execution_count": 16,
     "metadata": {},
     "output_type": "execute_result"
    }
   ],
   "source": [
    "#제너레이터 함수 - yield\n",
    "def num_gen():\n",
    "    yield 1\n",
    "    yield 2\n",
    "    yield 3\n",
    "num_gen()"
   ],
   "metadata": {
    "collapsed": false,
    "ExecuteTime": {
     "end_time": "2023-06-28T02:29:20.367785Z",
     "start_time": "2023-06-28T02:29:20.362706Z"
    }
   }
  },
  {
   "cell_type": "code",
   "execution_count": 18,
   "outputs": [
    {
     "name": "stdout",
     "output_type": "stream",
     "text": [
      "1\n"
     ]
    }
   ],
   "source": [
    "print(next(num_gen())) #1예상"
   ],
   "metadata": {
    "collapsed": false,
    "ExecuteTime": {
     "end_time": "2023-06-28T02:32:12.520450Z",
     "start_time": "2023-06-28T02:32:12.516875Z"
    }
   }
  },
  {
   "cell_type": "markdown",
   "source": [
    "num_gen()은 호출할때마다 새롭게 제너레이터를 생성하기 때문에 예상과 다르게 나"
   ],
   "metadata": {
    "collapsed": false
   }
  },
  {
   "cell_type": "code",
   "execution_count": 19,
   "outputs": [
    {
     "name": "stdout",
     "output_type": "stream",
     "text": [
      "1\n",
      "1\n",
      "1\n"
     ]
    }
   ],
   "source": [
    "print(next(num_gen())) #1예상\n",
    "print(next(num_gen())) #2예상\n",
    "print(next(num_gen())) #3예상"
   ],
   "metadata": {
    "collapsed": false,
    "ExecuteTime": {
     "end_time": "2023-06-28T02:32:31.596290Z",
     "start_time": "2023-06-28T02:32:31.586961Z"
    }
   }
  },
  {
   "cell_type": "markdown",
   "source": [
    "생성한 제너레이터를 새로운 변수에 바인딩해주고 그 변수를 이용하면 우리가 만들었던 제너레이터를 계속 사용할 수 있음"
   ],
   "metadata": {
    "collapsed": false
   }
  },
  {
   "cell_type": "code",
   "execution_count": 20,
   "outputs": [
    {
     "name": "stdout",
     "output_type": "stream",
     "text": [
      "1\n",
      "2\n",
      "3\n"
     ]
    }
   ],
   "source": [
    "# 생성한 제너레이터를 새로운 변수에 바인딩\n",
    "g = num_gen()\n",
    "print(next(g))\n",
    "print(next(g))\n",
    "print(next(g))"
   ],
   "metadata": {
    "collapsed": false,
    "ExecuteTime": {
     "end_time": "2023-06-28T02:36:56.112467Z",
     "start_time": "2023-06-28T02:36:56.106745Z"
    }
   }
  },
  {
   "cell_type": "code",
   "execution_count": 24,
   "outputs": [
    {
     "name": "stdout",
     "output_type": "stream",
     "text": [
      "하나\n",
      "둘\n",
      "셋\n"
     ]
    }
   ],
   "source": [
    "def num_gene():\n",
    "    yield '하나'\n",
    "    yield '둘'\n",
    "    yield '셋'\n",
    "num_gene()\n",
    "ge=num_gene()\n",
    "print(next(ge))\n",
    "print(next(ge))\n",
    "print(next(ge))"
   ],
   "metadata": {
    "collapsed": false,
    "ExecuteTime": {
     "end_time": "2023-06-28T02:41:20.670698Z",
     "start_time": "2023-06-28T02:41:20.667397Z"
    }
   }
  },
  {
   "cell_type": "markdown",
   "source": [
    "2)이터러블 객체와 제너레이터 관계\n",
    "--> 이터러블 객체 : 값을 반복 할 수 있는 객체\n",
    "--> 이터레이터 : 값을 차례대로 꺼낼 수 있는 객체\n",
    "(이터러블은 for문을 넣으면 이터레이터가 됨)\n",
    "--> 제너레이터 : 이런 이터레이터를 만드는 함수\n",
    "--> 이터러블 객체와 제너레이터 관계\n",
    "  -이터레이터는 데이터를 재활용할 수 있다\n",
    "  -제너레이터는 재활용 할 수 없다"
   ],
   "metadata": {
    "collapsed": false
   }
  },
  {
   "cell_type": "code",
   "execution_count": 25,
   "outputs": [
    {
     "name": "stdout",
     "output_type": "stream",
     "text": [
      "0\n",
      "1\n",
      "2\n"
     ]
    }
   ],
   "source": [
    "#이터레이터에서 데이터 꺼내보기\n",
    "ite = [x for x in range(3)] #리스트는 이터러블\n",
    "#이터레이터 첫번째 호출\n",
    "for value in ite:\n",
    "    print(value)"
   ],
   "metadata": {
    "collapsed": false,
    "ExecuteTime": {
     "end_time": "2023-06-28T02:52:02.779698Z",
     "start_time": "2023-06-28T02:52:02.765060Z"
    }
   }
  },
  {
   "cell_type": "code",
   "execution_count": 26,
   "outputs": [
    {
     "name": "stdout",
     "output_type": "stream",
     "text": [
      "0\n",
      "1\n",
      "2\n"
     ]
    }
   ],
   "source": [
    "#이터레이터 두번째 호출\n",
    "for value in ite:\n",
    "    print(value)"
   ],
   "metadata": {
    "collapsed": false,
    "ExecuteTime": {
     "end_time": "2023-06-28T02:53:07.662265Z",
     "start_time": "2023-06-28T02:53:07.648129Z"
    }
   }
  },
  {
   "cell_type": "code",
   "execution_count": 27,
   "outputs": [
    {
     "name": "stdout",
     "output_type": "stream",
     "text": [
      "0\n",
      "1\n",
      "2\n"
     ]
    }
   ],
   "source": [
    "#제너레이터 데이터 꺼내보기\n",
    "gen = (x for x in range(3))\n",
    "#첫번째 제너레이터 호출\n",
    "for value in gen:\n",
    "    print(value)"
   ],
   "metadata": {
    "collapsed": false,
    "ExecuteTime": {
     "end_time": "2023-06-28T02:57:41.400433Z",
     "start_time": "2023-06-28T02:57:41.387447Z"
    }
   }
  },
  {
   "cell_type": "code",
   "execution_count": 30,
   "outputs": [],
   "source": [
    "#두번째 제너레이터 호출\n",
    "for value in gen:\n",
    "    print(value)"
   ],
   "metadata": {
    "collapsed": false,
    "ExecuteTime": {
     "end_time": "2023-06-28T02:58:00.534346Z",
     "start_time": "2023-06-28T02:58:00.521092Z"
    }
   }
  },
  {
   "cell_type": "markdown",
   "source": [
    "두번째 제너레이터는 돌려도 아무것도 나오지 않는다. 한번만 쓸 수 있다.\n",
    "\n",
    "제너레이터 바인딩 예시\n",
    "https://pythontutor.com/visualize.html#mode=display"
   ],
   "metadata": {
    "collapsed": false
   }
  },
  {
   "cell_type": "markdown",
   "source": [
    "3. 데코레이터\n",
    "1)데코레이터\n",
    "--> 반복해서 사용하는 구문을 데코레이터로 만들면 함수를 효율적으로 사용할 수 있다\n",
    "--> 함수를 수정하지 않고 데코레이터로 함수에 기능을 추가할 수 있다."
   ],
   "metadata": {
    "collapsed": false
   }
  },
  {
   "cell_type": "code",
   "execution_count": 34,
   "outputs": [
    {
     "name": "stdout",
     "output_type": "stream",
     "text": [
      "hi\n"
     ]
    }
   ],
   "source": [
    "def hi():\n",
    "    print('hi')\n",
    "hi()"
   ],
   "metadata": {
    "collapsed": false,
    "ExecuteTime": {
     "end_time": "2023-06-28T03:23:55.276257Z",
     "start_time": "2023-06-28T03:23:55.260963Z"
    }
   }
  },
  {
   "cell_type": "code",
   "execution_count": 50,
   "outputs": [
    {
     "name": "stdout",
     "output_type": "stream",
     "text": [
      "********************\n",
      "hi\n",
      "********************\n"
     ]
    }
   ],
   "source": [
    "def hi():\n",
    "    print('hi')\n",
    "\n",
    "def deco(fn):\n",
    "    def wrapper():\n",
    "        print('*'*20)\n",
    "        fn()\n",
    "        print('*'*20)\n",
    "    return wrapper\n",
    "deco_hey = deco(hi)\n",
    "deco_hey()"
   ],
   "metadata": {
    "collapsed": false,
    "ExecuteTime": {
     "end_time": "2023-06-28T03:48:17.123539Z",
     "start_time": "2023-06-28T03:48:17.117103Z"
    }
   }
  },
  {
   "cell_type": "code",
   "execution_count": 51,
   "outputs": [],
   "source": [
    "#보통은 deco_hey처럼 새로운 변수를 만들지 않고 기존의 hi  변수를 그대로 사용\n",
    "hi = deco(hi) #hi변수는 기능이 추가된 deco_hi 함수 객체를 바인등"
   ],
   "metadata": {
    "collapsed": false,
    "ExecuteTime": {
     "end_time": "2023-06-28T03:49:56.836435Z",
     "start_time": "2023-06-28T03:49:56.821170Z"
    }
   }
  },
  {
   "cell_type": "markdown",
   "source": [
    "2) 데코레이터(@) 만들어 보기\n",
    "--> @데코레이터 함수를 사용하면 바인딩 없이 데코레이터 함수를 사용할 수 있다."
   ],
   "metadata": {
    "collapsed": false
   }
  },
  {
   "cell_type": "code",
   "execution_count": 54,
   "outputs": [],
   "source": [
    "def deco(fn):\n",
    "    def wrapper():\n",
    "        print('*'*20)\n",
    "        fn()\n",
    "        print('*'*20)\n",
    "    return wrapper\n"
   ],
   "metadata": {
    "collapsed": false,
    "ExecuteTime": {
     "end_time": "2023-06-28T03:55:11.564560Z",
     "start_time": "2023-06-28T03:55:11.550727Z"
    }
   }
  },
  {
   "cell_type": "code",
   "execution_count": 55,
   "outputs": [],
   "source": [
    "@deco\n",
    "def hi2():\n",
    "    print('hi 2')"
   ],
   "metadata": {
    "collapsed": false,
    "ExecuteTime": {
     "end_time": "2023-06-28T03:55:24.860382Z",
     "start_time": "2023-06-28T03:55:24.846202Z"
    }
   }
  },
  {
   "cell_type": "code",
   "execution_count": 56,
   "outputs": [
    {
     "name": "stdout",
     "output_type": "stream",
     "text": [
      "********************\n",
      "hi 2\n",
      "********************\n"
     ]
    }
   ],
   "source": [
    "hi2()"
   ],
   "metadata": {
    "collapsed": false,
    "ExecuteTime": {
     "end_time": "2023-06-28T03:55:49.186300Z",
     "start_time": "2023-06-28T03:55:49.171840Z"
    }
   }
  },
  {
   "cell_type": "markdown",
   "source": [
    "데코레이터 참고 강좌\n",
    "https://dojang.io/mod/page/view.php?id=2427"
   ],
   "metadata": {
    "collapsed": false
   }
  }
 ],
 "metadata": {
  "kernelspec": {
   "display_name": "Python 3",
   "language": "python",
   "name": "python3"
  },
  "language_info": {
   "codemirror_mode": {
    "name": "ipython",
    "version": 2
   },
   "file_extension": ".py",
   "mimetype": "text/x-python",
   "name": "python",
   "nbconvert_exporter": "python",
   "pygments_lexer": "ipython2",
   "version": "2.7.6"
  }
 },
 "nbformat": 4,
 "nbformat_minor": 0
}
