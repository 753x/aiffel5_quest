{
 "cells": [
  {
   "cell_type": "markdown",
   "source": [
    "# 3. 리스트, 딕셔너리 다루기\n",
    "## 3-2 리스트를 다루는 여러가지 방법\n",
    "1) 다차원 리스트"
   ],
   "metadata": {
    "collapsed": false
   }
  },
  {
   "cell_type": "markdown",
   "source": [
    "2차원 리스트"
   ],
   "metadata": {
    "collapsed": false
   }
  },
  {
   "cell_type": "code",
   "execution_count": 1,
   "outputs": [],
   "source": [
    "list_tw = [[1,2],[\"ㄱ\",\"ㄴ\"],[\"a\",\"b\"]]"
   ],
   "metadata": {
    "collapsed": false,
    "ExecuteTime": {
     "end_time": "2023-06-27T06:14:08.823233Z",
     "start_time": "2023-06-27T06:14:08.819644Z"
    }
   }
  },
  {
   "cell_type": "markdown",
   "source": [
    "3행 1열 출력\n",
    "list_tw[2][0]\n",
    "'a'\n",
    "2행 2열 출력\n",
    "list_tw[1][1]\n",
    "'ㄴ'\n",
    "2차원 리스트의 len() 함수는 행의 길이를 나타냄\n",
    "2번행을 모두 출력\n",
    "list_tw[2]"
   ],
   "metadata": {
    "collapsed": false
   }
  },
  {
   "cell_type": "markdown",
   "source": [
    "3차원 리스트\n"
   ],
   "metadata": {
    "collapsed": false
   }
  },
  {
   "cell_type": "code",
   "execution_count": 18,
   "outputs": [
    {
     "data": {
      "text/plain": "'c'"
     },
     "execution_count": 18,
     "metadata": {},
     "output_type": "execute_result"
    }
   ],
   "source": [
    "list_th = [[[1,2,3],[4,5,6],[7,8,9],[10,11,12]],[[\"a\",\"b\",\"c\"],[\"d\",\"e\",\"f\"],[\"g\",\"h\",\"i\"],[\"j\",\"k\",\"l\"]]]\n",
    "\n",
    "list_th[0][0]"
   ],
   "metadata": {
    "collapsed": false,
    "ExecuteTime": {
     "end_time": "2023-06-27T07:24:37.232606Z",
     "start_time": "2023-06-27T07:24:37.228358Z"
    }
   }
  },
  {
   "cell_type": "markdown",
   "source": [
    "[1,2,3]이 나오도록 3차원 리스트를 인덱싱 하려면\n",
    "뎁스와 행의 인덱스가 0이고 열은 전체를 인덱싱 해야 해서 생략가능 함\n",
    "\n",
    "뎁스를 먼저 쓰고 그다음 행 열 순으로 인덱싱 한다\n",
    "\n",
    "list_th[0][0][:] --> [1,2,3]\n",
    "\n",
    "list_th[1][0][2] --> 'c'\n",
    "\n",
    "3차원 리스트 len함수 적용\n",
    "len(list_th)  --> 2 (뎁스 길이가 나옴, 첫번째 순서가 뎁스)"
   ],
   "metadata": {
    "collapsed": false
   }
  },
  {
   "cell_type": "markdown",
   "source": [
    "2) 리스트 함수"
   ],
   "metadata": {
    "collapsed": false
   }
  },
  {
   "cell_type": "markdown",
   "source": [
    "+min(), max()\n",
    "요소가 모두 숫자명일때"
   ],
   "metadata": {
    "collapsed": false
   }
  },
  {
   "cell_type": "code",
   "execution_count": 2,
   "outputs": [
    {
     "data": {
      "text/plain": "60"
     },
     "execution_count": 2,
     "metadata": {},
     "output_type": "execute_result"
    }
   ],
   "source": [
    "kims_age = [60,22,45,23,45,23,45]\n",
    "max(kims_age)"
   ],
   "metadata": {
    "collapsed": false,
    "ExecuteTime": {
     "end_time": "2023-06-27T06:50:39.531359Z",
     "start_time": "2023-06-27T06:50:39.514917Z"
    }
   }
  },
  {
   "cell_type": "code",
   "execution_count": 3,
   "outputs": [
    {
     "data": {
      "text/plain": "22"
     },
     "execution_count": 3,
     "metadata": {},
     "output_type": "execute_result"
    }
   ],
   "source": [
    "kims_age = [60,22,45,23,45,23,45]\n",
    "min(kims_age)"
   ],
   "metadata": {
    "collapsed": false,
    "ExecuteTime": {
     "end_time": "2023-06-27T06:51:24.590812Z",
     "start_time": "2023-06-27T06:51:24.583909Z"
    }
   }
  },
  {
   "cell_type": "markdown",
   "source": [
    "** 숫자열과 문자열이 섞여 있으면 min/max는 오류가 난다"
   ],
   "metadata": {
    "collapsed": false
   }
  },
  {
   "cell_type": "markdown",
   "source": [
    "요소에 문자만 있을때는 아스키코드로 결정한다.\n",
    "아스키코드를 문자열로 변환하는 함수는 chr()\n",
    "문자열을 아스키코드로 변환하는 함수는 ord()"
   ],
   "metadata": {
    "collapsed": false
   }
  },
  {
   "cell_type": "markdown",
   "source": [],
   "metadata": {
    "collapsed": false
   }
  },
  {
   "cell_type": "code",
   "execution_count": 43,
   "outputs": [
    {
     "data": {
      "text/plain": "[65, 73, 70, 70, 69, 76]"
     },
     "execution_count": 43,
     "metadata": {},
     "output_type": "execute_result"
    }
   ],
   "source": [
    "[ord(\"A\"),ord(\"I\"),ord(\"F\"),ord(\"F\"),ord(\"E\"),ord(\"L\")]"
   ],
   "metadata": {
    "collapsed": false,
    "ExecuteTime": {
     "start_time": "2023-06-28T03:31:28.808642Z",
     "end_time": "2023-06-28T03:31:28.816001Z"
    }
   }
  },
  {
   "cell_type": "code",
   "execution_count": 5,
   "outputs": [
    {
     "data": {
      "text/plain": "'크라바츠헬리아'"
     },
     "execution_count": 5,
     "metadata": {},
     "output_type": "execute_result"
    }
   ],
   "source": [
    "#문자열만 있을때 min/max 함수 사용 예시\n",
    "napoli_player = ['minjae','크라바츠헬리아','Osimhen', 'Anguissa']\n",
    "min(napoli_player)\n",
    "max(napoli_player)"
   ],
   "metadata": {
    "collapsed": false,
    "ExecuteTime": {
     "end_time": "2023-06-27T06:58:07.199206Z",
     "start_time": "2023-06-27T06:58:07.188239Z"
    }
   }
  },
  {
   "cell_type": "markdown",
   "source": [
    "+sum()\n",
    "리스트나 튜플의 숫자형 자료형을 모두 더하는 함수"
   ],
   "metadata": {
    "collapsed": false
   }
  },
  {
   "cell_type": "code",
   "execution_count": 7,
   "outputs": [
    {
     "name": "stdout",
     "output_type": "stream",
     "text": [
      "263\n"
     ]
    }
   ],
   "source": [
    "total_sum =0\n",
    "for i in kims_age:\n",
    "    total_sum += i\n",
    "print(total_sum)"
   ],
   "metadata": {
    "collapsed": false,
    "ExecuteTime": {
     "end_time": "2023-06-27T07:03:26.043527Z",
     "start_time": "2023-06-27T07:03:26.033417Z"
    }
   }
  },
  {
   "cell_type": "code",
   "execution_count": 8,
   "outputs": [
    {
     "data": {
      "text/plain": "263"
     },
     "execution_count": 8,
     "metadata": {},
     "output_type": "execute_result"
    }
   ],
   "source": [
    "sum(kims_age)"
   ],
   "metadata": {
    "collapsed": false,
    "ExecuteTime": {
     "end_time": "2023-06-27T07:04:56.956504Z",
     "start_time": "2023-06-27T07:04:56.938273Z"
    }
   }
  },
  {
   "cell_type": "markdown",
   "source": [
    "enumerate()\n",
    "리스트 원소에 순서값을 부여해주는 함수"
   ],
   "metadata": {
    "collapsed": false
   }
  },
  {
   "cell_type": "code",
   "execution_count": 9,
   "outputs": [
    {
     "name": "stdout",
     "output_type": "stream",
     "text": [
      "(0, 60)\n",
      "(1, 22)\n",
      "(2, 45)\n",
      "(3, 23)\n",
      "(4, 45)\n",
      "(5, 23)\n",
      "(6, 45)\n"
     ]
    }
   ],
   "source": [
    "for i in enumerate(kims_age):\n",
    "    print(i)"
   ],
   "metadata": {
    "collapsed": false,
    "ExecuteTime": {
     "end_time": "2023-06-27T07:06:52.224430Z",
     "start_time": "2023-06-27T07:06:52.203867Z"
    }
   }
  },
  {
   "cell_type": "markdown",
   "source": [
    "zip()\n",
    "여러개의 순회가능한 객체를 인자로 받고, 각 객체가 담고 있는 원소를 이터러블의 형태로 차례로 접근할 수 있는 반복자를 반환\n",
    "-->순회가능한 반복자를 반환한다."
   ],
   "metadata": {
    "collapsed": false
   }
  },
  {
   "cell_type": "code",
   "execution_count": 10,
   "outputs": [
    {
     "name": "stdout",
     "output_type": "stream",
     "text": [
      "(3, 'minjae')\n",
      "(77, '크라바츠헬리아')\n",
      "(9, 'Osimhen')\n",
      "(99, 'Anguissa')\n"
     ]
    }
   ],
   "source": [
    "napoli_num = [3,77,9,99]\n",
    "napoli_player = ['minjae','크라바츠헬리아','Osimhen', 'Anguissa']\n",
    "\n",
    "for i in zip(napoli_num,napoli_player):\n",
    "    print(i)"
   ],
   "metadata": {
    "collapsed": false,
    "ExecuteTime": {
     "end_time": "2023-06-27T07:09:47.597957Z",
     "start_time": "2023-06-27T07:09:47.567441Z"
    }
   }
  },
  {
   "cell_type": "code",
   "execution_count": 20,
   "outputs": [
    {
     "name": "stdout",
     "output_type": "stream",
     "text": [
      "[(3, 'minjae'), (77, '크라바츠헬리아'), (9, 'Osimhen'), (99, 'Anguissa')]\n"
     ]
    }
   ],
   "source": [
    "napoli_num = [3,77,9,99]\n",
    "napoli_player = ['minjae','크라바츠헬리아','Osimhen', 'Anguissa']\n",
    "check_zip = list(zip(napoli_num,napoli_player))\n",
    "print(check_zip)"
   ],
   "metadata": {
    "collapsed": false,
    "ExecuteTime": {
     "end_time": "2023-06-27T07:37:17.900267Z",
     "start_time": "2023-06-27T07:37:17.891948Z"
    }
   }
  },
  {
   "cell_type": "markdown",
   "source": [
    "묶어둔 데이터를 해제하려면 zip(*)을 활용하면 된다.\n",
    "위치인수에서 리스트 앞에 *를 붙이면 언패킹!"
   ],
   "metadata": {
    "collapsed": false
   }
  },
  {
   "cell_type": "code",
   "execution_count": 22,
   "outputs": [
    {
     "name": "stdout",
     "output_type": "stream",
     "text": [
      "(3, 77, 9, 99)\n",
      "('minjae', '크라바츠헬리아', 'Osimhen', 'Anguissa')\n"
     ]
    }
   ],
   "source": [
    "new_num,new_palyer = zip(*check_zip)\n",
    "print(new_num)\n",
    "print(new_palyer)"
   ],
   "metadata": {
    "collapsed": false,
    "ExecuteTime": {
     "end_time": "2023-06-27T07:42:21.215760Z",
     "start_time": "2023-06-27T07:42:21.197275Z"
    }
   }
  },
  {
   "cell_type": "markdown",
   "source": [
    "#3-3 딕셔너리를 다루는 여러가지 방법"
   ],
   "metadata": {
    "collapsed": false
   }
  },
  {
   "cell_type": "markdown",
   "source": [
    "1. 딕셔너리 함수\n",
    " 키-값 쌍 추가하가\n",
    "\n",
    "setdefault()\n",
    "딕셔너리.setdefault(key,value)\n",
    "-->키에 해당하는 값이 있을때 그 키값을 반환한다.\n",
    "-->키에 해당하는 값이 없을때 키와 키값을 딕셔너리에 추가한다.\n",
    "\n",
    "update()\n",
    "딕셔너리.update(iterable)"
   ],
   "metadata": {
    "collapsed": false
   }
  },
  {
   "cell_type": "code",
   "execution_count": 23,
   "outputs": [
    {
     "data": {
      "text/plain": "99"
     },
     "execution_count": 23,
     "metadata": {},
     "output_type": "execute_result"
    }
   ],
   "source": [
    "#딕셔너리에 이미 있는 키값\n",
    "dict_uni = {'a':97, 'b':98, 'c':99, 'd':100}\n",
    "dict_uni.setdefault(\"c\")"
   ],
   "metadata": {
    "collapsed": false,
    "ExecuteTime": {
     "end_time": "2023-06-27T07:51:09.177854Z",
     "start_time": "2023-06-27T07:51:09.151219Z"
    }
   }
  },
  {
   "cell_type": "code",
   "execution_count": 25,
   "outputs": [
    {
     "name": "stdout",
     "output_type": "stream",
     "text": [
      "{'a': 97, 'b': 98, 'c': 99, 'd': 100, 'e': None}\n"
     ]
    }
   ],
   "source": [
    "#딕셔너리에 없는 키값\n",
    "dict_uni = {'a':97, 'b':98, 'c':99, 'd':100}\n",
    "dict_uni.setdefault(\"e\")\n",
    "print(dict_uni)"
   ],
   "metadata": {
    "collapsed": false,
    "ExecuteTime": {
     "end_time": "2023-06-27T07:52:20.678119Z",
     "start_time": "2023-06-27T07:52:20.671349Z"
    }
   }
  },
  {
   "cell_type": "code",
   "execution_count": 33,
   "outputs": [
    {
     "name": "stdout",
     "output_type": "stream",
     "text": [
      "{'a': 97, 'b': 98, 'c': 99, 'd': 100}\n"
     ]
    }
   ],
   "source": [
    "#새로운 키 넣고 삭제하기\n",
    "dict_uni = {'a':97, 'b':98, 'c':99, 'd':100}\n",
    "dict_uni.setdefault(\"e\")\n",
    "del dict_uni['e']\n",
    "print(dict_uni)"
   ],
   "metadata": {
    "collapsed": false,
    "ExecuteTime": {
     "end_time": "2023-06-27T07:56:07.241326Z",
     "start_time": "2023-06-27T07:56:07.235459Z"
    }
   }
  },
  {
   "cell_type": "code",
   "execution_count": 35,
   "outputs": [
    {
     "name": "stdout",
     "output_type": "stream",
     "text": [
      "{'a': 97, 'b': 98, 'c': 99, 'd': 100, 'e': 101}\n"
     ]
    }
   ],
   "source": [
    "#새로운 키 추가하기\n",
    "dict_uni = {'a':97, 'b':98, 'c':99, 'd':100}\n",
    "dict_uni.setdefault(\"e\",101)\n",
    "print(dict_uni)"
   ],
   "metadata": {
    "collapsed": false,
    "ExecuteTime": {
     "end_time": "2023-06-27T08:04:24.768408Z",
     "start_time": "2023-06-27T08:04:24.762191Z"
    }
   }
  },
  {
   "cell_type": "markdown",
   "source": [
    "키-값 쌍추가하기 update()\n",
    "setdefaule는 키값만 있어도 추가가능\n",
    "update는 반드시 쌍으로 들어와야 가능"
   ],
   "metadata": {
    "collapsed": false
   }
  },
  {
   "cell_type": "code",
   "execution_count": 39,
   "outputs": [
    {
     "data": {
      "text/plain": "{'a': 97, 'b': 98, 'c': 99, 'd': 100, 'e': 101, 'f': 102}"
     },
     "execution_count": 39,
     "metadata": {},
     "output_type": "execute_result"
    }
   ],
   "source": [
    "dict_uni.update(f=102)\n",
    "dict_uni"
   ],
   "metadata": {
    "collapsed": false,
    "ExecuteTime": {
     "end_time": "2023-06-27T08:09:17.742975Z",
     "start_time": "2023-06-27T08:09:17.735964Z"
    }
   }
  },
  {
   "cell_type": "code",
   "execution_count": 40,
   "outputs": [
    {
     "ename": "TypeError",
     "evalue": "dict.setdefault() takes no keyword arguments",
     "output_type": "error",
     "traceback": [
      "\u001B[0;31m---------------------------------------------------------------------------\u001B[0m",
      "\u001B[0;31mTypeError\u001B[0m                                 Traceback (most recent call last)",
      "Cell \u001B[0;32mIn[40], line 1\u001B[0m\n\u001B[0;32m----> 1\u001B[0m \u001B[43mdict_uni\u001B[49m\u001B[38;5;241;43m.\u001B[39;49m\u001B[43msetdefault\u001B[49m\u001B[43m(\u001B[49m\u001B[43mf\u001B[49m\u001B[38;5;241;43m=\u001B[39;49m\u001B[38;5;241;43m102\u001B[39;49m\u001B[43m)\u001B[49m\n\u001B[1;32m      2\u001B[0m dict_uni\n",
      "\u001B[0;31mTypeError\u001B[0m: dict.setdefault() takes no keyword arguments"
     ]
    }
   ],
   "source": [
    "#셋디폴트에 f=102를 넣으면 오류가 난다\n",
    "dict_uni.setdefault(f=102)\n",
    "dict_uni"
   ],
   "metadata": {
    "collapsed": false,
    "ExecuteTime": {
     "end_time": "2023-06-27T08:10:09.069543Z",
     "start_time": "2023-06-27T08:10:09.053490Z"
    }
   }
  },
  {
   "cell_type": "markdown",
   "source": [
    "키-값 쌍 삭제하기 pop()"
   ],
   "metadata": {
    "collapsed": false
   }
  },
  {
   "cell_type": "code",
   "execution_count": 41,
   "outputs": [
    {
     "data": {
      "text/plain": "[60, 22, 45, 23, 45, 23, 45]"
     },
     "execution_count": 41,
     "metadata": {},
     "output_type": "execute_result"
    }
   ],
   "source": [
    "kims_age"
   ],
   "metadata": {
    "collapsed": false,
    "ExecuteTime": {
     "end_time": "2023-06-27T08:12:04.005596Z",
     "start_time": "2023-06-27T08:12:03.988987Z"
    }
   }
  },
  {
   "cell_type": "code",
   "execution_count": 43,
   "outputs": [
    {
     "data": {
      "text/plain": "23"
     },
     "execution_count": 43,
     "metadata": {},
     "output_type": "execute_result"
    }
   ],
   "source": [
    "#리스트에서는 가장 마지막 값을 출력 후 삭제한다.\n",
    "kims_age.pop()"
   ],
   "metadata": {
    "collapsed": false,
    "ExecuteTime": {
     "end_time": "2023-06-27T08:14:16.006203Z",
     "start_time": "2023-06-27T08:14:16.003908Z"
    }
   }
  },
  {
   "cell_type": "code",
   "execution_count": 44,
   "outputs": [
    {
     "data": {
      "text/plain": "[60, 22, 45, 23, 45]"
     },
     "execution_count": 44,
     "metadata": {},
     "output_type": "execute_result"
    }
   ],
   "source": [
    "kims_age"
   ],
   "metadata": {
    "collapsed": false,
    "ExecuteTime": {
     "end_time": "2023-06-27T08:14:23.251679Z",
     "start_time": "2023-06-27T08:14:23.236277Z"
    }
   }
  },
  {
   "cell_type": "code",
   "execution_count": 5,
   "outputs": [
    {
     "name": "stdout",
     "output_type": "stream",
     "text": [
      "55\n"
     ]
    }
   ],
   "source": [
    "# Q. pop() 함수만 사용해서 1부터 10까지의 합을 구해봅시다.\n",
    "\n",
    "nums = list(range(1, 11))  # [1, 2, ... , 10]\n",
    "result = 0  # 결과값 - 여기에 숫자를 계속 더해주세요!\n",
    "\n",
    "for i in range(10):\n",
    "    result += nums.pop()\n",
    "print(result)"
   ],
   "metadata": {
    "collapsed": false,
    "ExecuteTime": {
     "start_time": "2023-06-28T02:25:05.224419Z",
     "end_time": "2023-06-28T02:25:05.239046Z"
    }
   }
  },
  {
   "cell_type": "markdown",
   "source": [
    "딕셔너러에서는 마지막값 출력 후 삭제가 적용이 안된다.\n",
    "특정 키값을 넣어야 삭제가 가능하다"
   ],
   "metadata": {
    "collapsed": false
   }
  },
  {
   "cell_type": "code",
   "execution_count": 45,
   "outputs": [
    {
     "data": {
      "text/plain": "{'a': 97, 'b': 98, 'c': 99, 'd': 100, 'e': 101, 'f': 102}"
     },
     "execution_count": 45,
     "metadata": {},
     "output_type": "execute_result"
    }
   ],
   "source": [
    "dict_uni"
   ],
   "metadata": {
    "collapsed": false,
    "ExecuteTime": {
     "end_time": "2023-06-27T08:17:58.267109Z",
     "start_time": "2023-06-27T08:17:58.252340Z"
    }
   }
  },
  {
   "cell_type": "code",
   "execution_count": 54,
   "outputs": [
    {
     "data": {
      "text/plain": "{'a': 97, 'b': 98, 'c': 99, 'd': 100, 'e': 101, 'f': 103}"
     },
     "execution_count": 54,
     "metadata": {},
     "output_type": "execute_result"
    }
   ],
   "source": [
    "dict_uni.update(f=103)\n",
    "dict_uni"
   ],
   "metadata": {
    "collapsed": false,
    "ExecuteTime": {
     "end_time": "2023-06-27T08:20:15.517943Z",
     "start_time": "2023-06-27T08:20:15.510969Z"
    }
   }
  },
  {
   "cell_type": "code",
   "execution_count": 55,
   "outputs": [
    {
     "data": {
      "text/plain": "103"
     },
     "execution_count": 55,
     "metadata": {},
     "output_type": "execute_result"
    }
   ],
   "source": [
    "dict_uni.pop('f')"
   ],
   "metadata": {
    "collapsed": false,
    "ExecuteTime": {
     "end_time": "2023-06-27T08:20:36.705643Z",
     "start_time": "2023-06-27T08:20:36.687934Z"
    }
   }
  },
  {
   "cell_type": "code",
   "execution_count": 56,
   "outputs": [
    {
     "data": {
      "text/plain": "{'a': 97, 'b': 98, 'c': 99, 'd': 100, 'e': 101}"
     },
     "execution_count": 56,
     "metadata": {},
     "output_type": "execute_result"
    }
   ],
   "source": [
    "dict_uni"
   ],
   "metadata": {
    "collapsed": false,
    "ExecuteTime": {
     "end_time": "2023-06-27T08:20:50.263705Z",
     "start_time": "2023-06-27T08:20:50.240250Z"
    }
   }
  },
  {
   "cell_type": "markdown",
   "source": [
    "리스트에서  pop()처럼 딕셔너리에서 특정 key를 지정하지 않아도 마지막 value만 출력해주는 함수는 popitem()"
   ],
   "metadata": {
    "collapsed": false
   }
  },
  {
   "cell_type": "code",
   "execution_count": 3,
   "outputs": [
    {
     "data": {
      "text/plain": "('f', 102)"
     },
     "execution_count": 3,
     "metadata": {},
     "output_type": "execute_result"
    }
   ],
   "source": [
    "dict_uni  = {'a': 97, 'b': 98, 'c': 99, 'd': 100, 'e': 101, 'f': 102}\n",
    "dict_uni.popitem()"
   ],
   "metadata": {
    "collapsed": false,
    "ExecuteTime": {
     "start_time": "2023-06-28T02:15:10.285761Z",
     "end_time": "2023-06-28T02:15:10.299673Z"
    }
   }
  },
  {
   "cell_type": "code",
   "execution_count": 4,
   "outputs": [
    {
     "data": {
      "text/plain": "{'a': 97, 'b': 98, 'c': 99, 'd': 100, 'e': 101}"
     },
     "execution_count": 4,
     "metadata": {},
     "output_type": "execute_result"
    }
   ],
   "source": [
    "dict_uni"
   ],
   "metadata": {
    "collapsed": false,
    "ExecuteTime": {
     "start_time": "2023-06-28T02:15:35.489918Z",
     "end_time": "2023-06-28T02:15:35.506909Z"
    }
   }
  },
  {
   "cell_type": "markdown",
   "source": [
    "fromkeys()\n",
    "리스트나 튜플을 넣으면 자동으로 딕셔너리를 만들수 있는 함수\n",
    "dict.fromkeys(iterable, value)"
   ],
   "metadata": {
    "collapsed": false
   }
  },
  {
   "cell_type": "code",
   "execution_count": 2,
   "outputs": [
    {
     "data": {
      "text/plain": "{60: 'kor', 22: 'kor', 45: 'kor', 23: 'kor'}"
     },
     "execution_count": 2,
     "metadata": {},
     "output_type": "execute_result"
    }
   ],
   "source": [
    "kims_age = [60,22,45,23,45,23,45]\n",
    "kims_dict = dict.fromkeys(kims_age,\"kor\")\n",
    "kims_dict"
   ],
   "metadata": {
    "collapsed": false,
    "ExecuteTime": {
     "end_time": "2023-06-27T09:04:56.243692Z",
     "start_time": "2023-06-27T09:04:56.237007Z"
    }
   }
  },
  {
   "cell_type": "markdown",
   "source": [
    "in / not in\n",
    "요소가 들어있는지 확인하는 예약어"
   ],
   "metadata": {
    "collapsed": false
   }
  },
  {
   "cell_type": "code",
   "execution_count": 4,
   "outputs": [
    {
     "data": {
      "text/plain": "False"
     },
     "execution_count": 4,
     "metadata": {},
     "output_type": "execute_result"
    }
   ],
   "source": [
    "napoli_player = ['minjae','크라바츠헬리아','Osimhen', 'Anguissa']\n",
    "'Anguissa' not in napoli_player"
   ],
   "metadata": {
    "collapsed": false,
    "ExecuteTime": {
     "end_time": "2023-06-27T09:07:43.523468Z",
     "start_time": "2023-06-27T09:07:43.514334Z"
    }
   }
  },
  {
   "cell_type": "code",
   "execution_count": 6,
   "outputs": [
    {
     "data": {
      "text/plain": "True"
     },
     "execution_count": 6,
     "metadata": {},
     "output_type": "execute_result"
    }
   ],
   "source": [
    "#딕셔너리에서 in / not in 확인\n",
    "dict_uni = {'a':97, 'b':98, 'c':99, 'd':100}\n",
    "'a' in dict_uni"
   ],
   "metadata": {
    "collapsed": false,
    "ExecuteTime": {
     "end_time": "2023-06-27T09:09:39.959274Z",
     "start_time": "2023-06-27T09:09:39.953257Z"
    }
   }
  },
  {
   "cell_type": "code",
   "execution_count": 8,
   "outputs": [
    {
     "data": {
      "text/plain": "False"
     },
     "execution_count": 8,
     "metadata": {},
     "output_type": "execute_result"
    }
   ],
   "source": [
    "#value값은 확인이 불가능하디\n",
    "dict_uni = {'a':97, 'b':98, 'c':99, 'd':100}\n",
    "97 in dict_uni"
   ],
   "metadata": {
    "collapsed": false,
    "ExecuteTime": {
     "end_time": "2023-06-27T09:11:13.951546Z",
     "start_time": "2023-06-27T09:11:13.945235Z"
    }
   }
  },
  {
   "cell_type": "code",
   "execution_count": 10,
   "outputs": [
    {
     "data": {
      "text/plain": "True"
     },
     "execution_count": 10,
     "metadata": {},
     "output_type": "execute_result"
    }
   ],
   "source": [
    "#value값을 확인하고 싶으면 values()를 사용해야한다.\n",
    "dict_uni = {'a':97, 'b':98, 'c':99, 'd':100}\n",
    "97 in dict_uni.values()"
   ],
   "metadata": {
    "collapsed": false,
    "ExecuteTime": {
     "end_time": "2023-06-27T09:19:30.743394Z",
     "start_time": "2023-06-27T09:19:30.737145Z"
    }
   }
  },
  {
   "cell_type": "markdown",
   "source": [
    "in과 not in은 포함과 불포함을 가리는 예약어로 문자열이나 튜플에도 사용 가능"
   ],
   "metadata": {
    "collapsed": false
   }
  },
  {
   "cell_type": "code",
   "execution_count": 7,
   "outputs": [
    {
     "data": {
      "text/plain": "True"
     },
     "execution_count": 7,
     "metadata": {},
     "output_type": "execute_result"
    }
   ],
   "source": [
    "'Son HeungMin' in ('Kim MinJae', 'Son HeungMin', 'Lee GangIn')"
   ],
   "metadata": {
    "collapsed": false,
    "ExecuteTime": {
     "start_time": "2023-06-28T02:30:53.356402Z",
     "end_time": "2023-06-28T02:30:53.388964Z"
    }
   }
  },
  {
   "cell_type": "code",
   "execution_count": 8,
   "outputs": [
    {
     "data": {
      "text/plain": "False"
     },
     "execution_count": 8,
     "metadata": {},
     "output_type": "execute_result"
    }
   ],
   "source": [
    "'s' in 'football'"
   ],
   "metadata": {
    "collapsed": false,
    "ExecuteTime": {
     "start_time": "2023-06-28T02:31:17.874977Z",
     "end_time": "2023-06-28T02:31:17.906994Z"
    }
   }
  },
  {
   "cell_type": "code",
   "execution_count": 9,
   "outputs": [
    {
     "data": {
      "text/plain": "True"
     },
     "execution_count": 9,
     "metadata": {},
     "output_type": "execute_result"
    }
   ],
   "source": [
    "'잘' in '잘먹었습니다.'"
   ],
   "metadata": {
    "collapsed": false,
    "ExecuteTime": {
     "start_time": "2023-06-28T02:32:09.801720Z",
     "end_time": "2023-06-28T02:32:09.819567Z"
    }
   }
  },
  {
   "cell_type": "markdown",
   "source": [
    "# 3-4 컴프리헨션\n",
    "1)리스트컴프리헨션\n",
    "a. 반복문과 컴프리헨션 비교"
   ],
   "metadata": {
    "collapsed": false
   }
  },
  {
   "cell_type": "code",
   "execution_count": 14,
   "outputs": [
    {
     "data": {
      "text/plain": "[0, 2, 4, 6, 8, 10]"
     },
     "execution_count": 14,
     "metadata": {},
     "output_type": "execute_result"
    }
   ],
   "source": [
    "list_for = []\n",
    "for i in range(0,11,2):\n",
    "    list_for.append(i)\n",
    "list_for"
   ],
   "metadata": {
    "collapsed": false,
    "ExecuteTime": {
     "start_time": "2023-06-28T02:40:55.671453Z",
     "end_time": "2023-06-28T02:40:55.685861Z"
    }
   }
  },
  {
   "cell_type": "code",
   "execution_count": 15,
   "outputs": [
    {
     "data": {
      "text/plain": "[0, 2, 4, 6, 8, 10]"
     },
     "execution_count": 15,
     "metadata": {},
     "output_type": "execute_result"
    }
   ],
   "source": [
    "[i for i in range(0,11,2)]"
   ],
   "metadata": {
    "collapsed": false,
    "ExecuteTime": {
     "start_time": "2023-06-28T02:41:11.520745Z",
     "end_time": "2023-06-28T02:41:11.558452Z"
    }
   }
  },
  {
   "cell_type": "markdown",
   "source": [
    "b.반복문 안에 조건문 쓰기"
   ],
   "metadata": {
    "collapsed": false
   }
  },
  {
   "cell_type": "code",
   "execution_count": 16,
   "outputs": [
    {
     "data": {
      "text/plain": "[0, 2, 4, 6, 8, 10]"
     },
     "execution_count": 16,
     "metadata": {},
     "output_type": "execute_result"
    }
   ],
   "source": [
    "list_con=[]\n",
    "for i in range(0,11):\n",
    "    if i%2==0:\n",
    "        list_con.append(i)\n",
    "list_con"
   ],
   "metadata": {
    "collapsed": false,
    "ExecuteTime": {
     "start_time": "2023-06-28T02:43:24.480407Z",
     "end_time": "2023-06-28T02:43:24.521850Z"
    }
   }
  },
  {
   "cell_type": "code",
   "execution_count": 17,
   "outputs": [
    {
     "data": {
      "text/plain": "[0, 2, 4, 6, 8, 10]"
     },
     "execution_count": 17,
     "metadata": {},
     "output_type": "execute_result"
    }
   ],
   "source": [
    "[i for i in range(0,11) if i%2==0]"
   ],
   "metadata": {
    "collapsed": false,
    "ExecuteTime": {
     "start_time": "2023-06-28T02:43:55.808608Z",
     "end_time": "2023-06-28T02:43:55.846646Z"
    }
   }
  },
  {
   "cell_type": "markdown",
   "source": [
    "c. 중복표현과 컴프리헨션"
   ],
   "metadata": {
    "collapsed": false
   }
  },
  {
   "cell_type": "code",
   "execution_count": 18,
   "outputs": [
    {
     "data": {
      "text/plain": "[['아이스크림', '감자칩'],\n ['아이스크림', '팝콘'],\n ['아이스크림', '뿌셔뿌셔'],\n ['크림빵', '감자칩'],\n ['크림빵', '팝콘'],\n ['크림빵', '뿌셔뿌셔'],\n ['젤리', '감자칩'],\n ['젤리', '팝콘'],\n ['젤리', '뿌셔뿌셔']]"
     },
     "execution_count": 18,
     "metadata": {},
     "output_type": "execute_result"
    }
   ],
   "source": [
    "sweetie = ['아이스크림', '크림빵','젤리']\n",
    "savory = ['감자칩','팝콘','뿌셔뿌셔']\n",
    "[[x,y] for x in sweetie for y in savory]"
   ],
   "metadata": {
    "collapsed": false,
    "ExecuteTime": {
     "start_time": "2023-06-28T02:48:19.478251Z",
     "end_time": "2023-06-28T02:48:19.530950Z"
    }
   }
  },
  {
   "cell_type": "markdown",
   "source": [
    "2)딕셔너리 컴프리헨션 + set 컴프리헨션"
   ],
   "metadata": {
    "collapsed": false
   }
  },
  {
   "cell_type": "code",
   "execution_count": 19,
   "outputs": [
    {
     "data": {
      "text/plain": "{0, 2, 4, 6, 8, 10}"
     },
     "execution_count": 19,
     "metadata": {},
     "output_type": "execute_result"
    }
   ],
   "source": [
    "#set 컴프리헨션\n",
    "{x for x in range(0,11,2)}"
   ],
   "metadata": {
    "collapsed": false,
    "ExecuteTime": {
     "start_time": "2023-06-28T02:52:08.869864Z",
     "end_time": "2023-06-28T02:52:08.911779Z"
    }
   }
  },
  {
   "cell_type": "code",
   "execution_count": 20,
   "outputs": [
    {
     "data": {
      "text/plain": "set"
     },
     "execution_count": 20,
     "metadata": {},
     "output_type": "execute_result"
    }
   ],
   "source": [
    "type({x for x in range(0,11,2)}\n",
    ")"
   ],
   "metadata": {
    "collapsed": false,
    "ExecuteTime": {
     "start_time": "2023-06-28T02:52:30.161633Z",
     "end_time": "2023-06-28T02:52:30.205581Z"
    }
   }
  },
  {
   "cell_type": "code",
   "execution_count": 24,
   "outputs": [
    {
     "data": {
      "text/plain": "{3: 'minjae', 77: '크라바츠헬리아', 9: 'Osimhen', 99: 'Anguissa'}"
     },
     "execution_count": 24,
     "metadata": {},
     "output_type": "execute_result"
    }
   ],
   "source": [
    "#딕셔너리 컴프리헨션\n",
    "napoli_num = [3,77,9,99]\n",
    "napoli_player = ['minjae','크라바츠헬리아','Osimhen', 'Anguissa']\n",
    "{k:v for k,v in zip(napoli_num,napoli_player)}"
   ],
   "metadata": {
    "collapsed": false,
    "ExecuteTime": {
     "start_time": "2023-06-28T02:56:27.387619Z",
     "end_time": "2023-06-28T02:56:27.399821Z"
    }
   }
  },
  {
   "cell_type": "code",
   "execution_count": 25,
   "outputs": [
    {
     "data": {
      "text/plain": "{3: 'minjae', 9: 'Osimhen'}"
     },
     "execution_count": 25,
     "metadata": {},
     "output_type": "execute_result"
    }
   ],
   "source": [
    "#딕셔너리 컴프리헨션 with if문\n",
    "{k:v for k,v in zip(napoli_num, napoli_player) if k<50}"
   ],
   "metadata": {
    "collapsed": false,
    "ExecuteTime": {
     "start_time": "2023-06-28T02:57:53.177248Z",
     "end_time": "2023-06-28T02:57:53.221195Z"
    }
   }
  },
  {
   "cell_type": "code",
   "execution_count": 34,
   "outputs": [
    {
     "data": {
      "text/plain": "[0, 1, 4, 9, 16, 25, 36, 49, 64, 81]"
     },
     "execution_count": 34,
     "metadata": {},
     "output_type": "execute_result"
    }
   ],
   "source": [
    "# Q. 리스트 컴프리헨션을 사용하여 다음을 출력해보세요!\n",
    "# [0, 1, 4, 9, 16, ..., 81]\n",
    "[i**2 for i in range(0,10,1)]"
   ],
   "metadata": {
    "collapsed": false,
    "ExecuteTime": {
     "start_time": "2023-06-28T03:18:57.315836Z",
     "end_time": "2023-06-28T03:18:57.329191Z"
    }
   }
  },
  {
   "cell_type": "code",
   "execution_count": 36,
   "outputs": [
    {
     "data": {
      "text/plain": "2500"
     },
     "execution_count": 36,
     "metadata": {},
     "output_type": "execute_result"
    }
   ],
   "source": [
    "# Q. 리스트 컴프리헨션을 사용하여 1 이상 100 이하 홀수들의 합을 계산해보세요!\n",
    "sum([i for i in range(1,101,2)])"
   ],
   "metadata": {
    "collapsed": false,
    "ExecuteTime": {
     "start_time": "2023-06-28T03:21:42.046827Z",
     "end_time": "2023-06-28T03:21:42.058216Z"
    }
   }
  },
  {
   "cell_type": "code",
   "execution_count": 37,
   "outputs": [
    {
     "data": {
      "text/plain": "[6, 12, 18, 24]"
     },
     "execution_count": 37,
     "metadata": {},
     "output_type": "execute_result"
    }
   ],
   "source": [
    "# 2와 3의 공배수\n",
    "[x for x in range(1, 30) if x % 2 == 0 if x % 3 == 0]"
   ],
   "metadata": {
    "collapsed": false,
    "ExecuteTime": {
     "start_time": "2023-06-28T03:23:01.125856Z",
     "end_time": "2023-06-28T03:23:01.168085Z"
    }
   }
  },
  {
   "cell_type": "code",
   "execution_count": 38,
   "outputs": [
    {
     "data": {
      "text/plain": "[[1, 11],\n [2, 22],\n [3, 33],\n [4, 44],\n [5, 55],\n [6, 66],\n [7, 77],\n [8, 88],\n [9, 99]]"
     },
     "execution_count": 38,
     "metadata": {},
     "output_type": "execute_result"
    }
   ],
   "source": [
    "# Q. 리스트 컴프리헨션을 사용하여 다음을 출력해보세요!\n",
    "# [[1, 11], [2, 22], [3, 33], ..., [9, 99]]\n",
    "[[x,x*11] for x in range(1,10)]"
   ],
   "metadata": {
    "collapsed": false,
    "ExecuteTime": {
     "start_time": "2023-06-28T03:24:06.085658Z",
     "end_time": "2023-06-28T03:24:06.128820Z"
    }
   }
  },
  {
   "cell_type": "code",
   "execution_count": 39,
   "outputs": [
    {
     "name": "stdout",
     "output_type": "stream",
     "text": [
      "b는  b\n"
     ]
    }
   ],
   "source": [
    "# 실습퀴즈1. 리스트\n",
    "# list_tw에서 b를 출력해보세요.\n",
    "list_tw = [[1, 2], ['ㄱ', 'ㄴ'], ['a', 'b']]\n",
    "print(\"b는 \", list_tw[2][1])"
   ],
   "metadata": {
    "collapsed": false,
    "ExecuteTime": {
     "start_time": "2023-06-28T03:27:34.876194Z",
     "end_time": "2023-06-28T03:27:34.919828Z"
    }
   }
  },
  {
   "cell_type": "code",
   "execution_count": 41,
   "outputs": [
    {
     "name": "stdout",
     "output_type": "stream",
     "text": [
      "8은  8\n",
      "h는  h\n"
     ]
    }
   ],
   "source": [
    "# 실습퀴즈2. 리스트\n",
    "# list_th에서 8과 h를 출력해보세요.\n",
    "list_th = [[[1, 2, 3], [4, 5, 6], [7, 8, 9], [10, 11, 12]],\\\n",
    "           [['a', 'b', 'c'], ['d', 'e', 'f'], ['g', 'h', 'i'], ['j', 'k', 'l']]]\n",
    "\n",
    "print(\"8은 \", list_th[0][2][1])\n",
    "print(\"h는 \", list_th[1][2][1])"
   ],
   "metadata": {
    "collapsed": false,
    "ExecuteTime": {
     "start_time": "2023-06-28T03:28:54.410719Z",
     "end_time": "2023-06-28T03:28:54.423959Z"
    }
   }
  }
 ],
 "metadata": {
  "kernelspec": {
   "display_name": "Python 3",
   "language": "python",
   "name": "python3"
  },
  "language_info": {
   "codemirror_mode": {
    "name": "ipython",
    "version": 2
   },
   "file_extension": ".py",
   "mimetype": "text/x-python",
   "name": "python",
   "nbconvert_exporter": "python",
   "pygments_lexer": "ipython2",
   "version": "2.7.6"
  }
 },
 "nbformat": 4,
 "nbformat_minor": 0
}
