{
 "cells": [
  {
   "cell_type": "markdown",
   "source": [
    "# 5. 람다, 일급객체\n",
    "5-2 람다 - 함수를 한줄로 간단하게 정의\n",
    "5-3 일급객체 - 함수를 변수에 할당, 함수의 인자로 전달, 함수의 리턴값으로 리턴"
   ],
   "metadata": {
    "collapsed": false
   }
  },
  {
   "cell_type": "markdown",
   "source": [
    "1) 람다 표현식\n",
    "람다를 통해 코드 한줄만으로 익명의 함수를 만들 수 있음\n",
    "(lambda 매개변수 : 리턴값)(인수)\n",
    "\n",
    "람다를 포함한 식을 람다 표현식이라고 함\n",
    "--> 인수를 전달하는 코드를 쓸때 조금 더 효율적으로 작성할 수 있음\n",
    "람다 표현식으로 쓴 함수는 람다함수"
   ],
   "metadata": {
    "collapsed": false
   }
  },
  {
   "cell_type": "code",
   "execution_count": 1,
   "outputs": [
    {
     "name": "stdout",
     "output_type": "stream",
     "text": [
      "7\n"
     ]
    }
   ],
   "source": [
    "# 일반함수와 람다 함수 비교 - 일반함수\n",
    "def add_two(x):\n",
    "    return x+2\n",
    "print(add_two(5))"
   ],
   "metadata": {
    "collapsed": false,
    "ExecuteTime": {
     "end_time": "2023-06-29T06:38:04.365930Z",
     "start_time": "2023-06-29T06:38:04.360303Z"
    }
   }
  },
  {
   "cell_type": "code",
   "execution_count": 2,
   "outputs": [
    {
     "data": {
      "text/plain": "7"
     },
     "execution_count": 2,
     "metadata": {},
     "output_type": "execute_result"
    }
   ],
   "source": [
    "# 일반함수와 람다 함수 비교 - 람다함수\n",
    "(lambda x : x+2)(5)"
   ],
   "metadata": {
    "collapsed": false,
    "ExecuteTime": {
     "end_time": "2023-06-29T06:39:05.204578Z",
     "start_time": "2023-06-29T06:39:05.188124Z"
    }
   }
  },
  {
   "cell_type": "markdown",
   "source": [
    "람다 표현식 안에서는 변수를 만들 수 없음\n",
    "\n",
    "lambda x : y = 10; x+y 와 같이 y변수를 추가하는 방식은 불가능\n",
    "\n",
    "람다 표현식에서 바깥에 있는 변수 참조는 가능\n",
    "\n",
    "y = 나폴리\n",
    "(lambda x : x+y)(이탈리아) #인수를 x만 받기 때문에 x에 이탈리아 할당"
   ],
   "metadata": {
    "collapsed": false
   }
  },
  {
   "cell_type": "markdown",
   "source": [
    "2) 람다표현식을 인수로 사용하기\n",
    "\n",
    "람다함수는 기본적으로 익명\n",
    "--> 인수로 전달하는 코드를 쓸때 조금 더 효율적으로 작성 할 수 있음\n",
    "\n",
    "람다함수를 다른 함수의 인수로 사용하는 함수 3가지\n",
    "map(), filter(), reduce()"
   ],
   "metadata": {
    "collapsed": false
   }
  },
  {
   "cell_type": "markdown",
   "source": [
    "map() 함수\n",
    "리스트나 튜플에 어떤 특별한 처리를 할 때 사용하는 함수\n",
    "map(함수, 리스트 or 튜플)\n",
    "map(적용시킬 함수, 적용할 값들)"
   ],
   "metadata": {
    "collapsed": false
   }
  },
  {
   "cell_type": "code",
   "execution_count": 4,
   "outputs": [
    {
     "data": {
      "text/plain": "<map at 0x7f945059a4a0>"
     },
     "execution_count": 4,
     "metadata": {},
     "output_type": "execute_result"
    }
   ],
   "source": [
    "#일반함수\n",
    "def second(x):\n",
    "    return x*2\n",
    "two = [i for i in range(10)]\n",
    "map(second, two)"
   ],
   "metadata": {
    "collapsed": false,
    "ExecuteTime": {
     "end_time": "2023-06-29T06:49:47.815312Z",
     "start_time": "2023-06-29T06:49:47.811178Z"
    }
   }
  },
  {
   "cell_type": "code",
   "execution_count": 5,
   "outputs": [
    {
     "data": {
      "text/plain": "[0, 2, 4, 6, 8, 10, 12, 14, 16, 18]"
     },
     "execution_count": 5,
     "metadata": {},
     "output_type": "execute_result"
    }
   ],
   "source": [
    "# 파이썬 3부터 map()은 list 혹은 tuple 함수로 묶어야 리턴받을 수 있음\n",
    "list(map(second, two))"
   ],
   "metadata": {
    "collapsed": false,
    "ExecuteTime": {
     "end_time": "2023-06-29T07:04:12.258294Z",
     "start_time": "2023-06-29T07:04:12.253552Z"
    }
   }
  },
  {
   "cell_type": "code",
   "execution_count": 6,
   "outputs": [
    {
     "data": {
      "text/plain": "(0, 2, 4, 6, 8, 10, 12, 14, 16, 18)"
     },
     "execution_count": 6,
     "metadata": {},
     "output_type": "execute_result"
    }
   ],
   "source": [
    "tuple(map(second, two))"
   ],
   "metadata": {
    "collapsed": false,
    "ExecuteTime": {
     "end_time": "2023-06-29T07:04:32.580428Z",
     "start_time": "2023-06-29T07:04:32.575631Z"
    }
   }
  },
  {
   "cell_type": "code",
   "execution_count": 8,
   "outputs": [
    {
     "data": {
      "text/plain": "[0, 2, 4, 6, 8, 10, 12, 14, 16, 18]"
     },
     "execution_count": 8,
     "metadata": {},
     "output_type": "execute_result"
    }
   ],
   "source": [
    "#리스트\n",
    "two = [i for i in range(10)]\n",
    "#map + 람다 함수\n",
    "list(map(lambda x : x*2, two))"
   ],
   "metadata": {
    "collapsed": false,
    "ExecuteTime": {
     "end_time": "2023-06-29T07:23:40.657773Z",
     "start_time": "2023-06-29T07:23:40.652937Z"
    }
   }
  },
  {
   "cell_type": "markdown",
   "source": [
    "filter() 함수\n",
    "리스트에 들어있는 원소들을 함수에 적용시켜서 결과가 참인 값들로 새로운 리스틀 만듦\n",
    "filter(함수, 리스트 or 튜플)"
   ],
   "metadata": {
    "collapsed": false
   }
  },
  {
   "cell_type": "code",
   "execution_count": 9,
   "outputs": [
    {
     "data": {
      "text/plain": "[1, 3, 5, 7, 9]"
     },
     "execution_count": 9,
     "metadata": {},
     "output_type": "execute_result"
    }
   ],
   "source": [
    "#일반함수\n",
    "def odd(x):\n",
    "    if x % 2 == 1:\n",
    "        return x\n",
    "#리스트\n",
    "two = [i for i in range(10)]\n",
    "#filter + 일반함수\n",
    "list(filter(odd, two))"
   ],
   "metadata": {
    "collapsed": false,
    "ExecuteTime": {
     "end_time": "2023-06-29T07:26:24.471283Z",
     "start_time": "2023-06-29T07:26:24.466477Z"
    }
   }
  },
  {
   "cell_type": "code",
   "execution_count": 10,
   "outputs": [
    {
     "data": {
      "text/plain": "[1, 3, 5, 7, 9]"
     },
     "execution_count": 10,
     "metadata": {},
     "output_type": "execute_result"
    }
   ],
   "source": [
    "#filter + 람다함수\n",
    "list(filter(lambda x : x % 2 == 1, two))"
   ],
   "metadata": {
    "collapsed": false,
    "ExecuteTime": {
     "end_time": "2023-06-29T07:26:46.899381Z",
     "start_time": "2023-06-29T07:26:46.893758Z"
    }
   }
  },
  {
   "cell_type": "markdown",
   "source": [
    "reduce() 함수\n",
    "이전 결과와 누적해서 반환하는 함수\n",
    "reduce(함수, 이터러블객체)"
   ],
   "metadata": {
    "collapsed": false
   }
  },
  {
   "cell_type": "code",
   "execution_count": 11,
   "outputs": [
    {
     "data": {
      "text/plain": "15"
     },
     "execution_count": 11,
     "metadata": {},
     "output_type": "execute_result"
    }
   ],
   "source": [
    "# reduce+ 일반함수\n",
    "from functools import reduce\n",
    "#일반함수\n",
    "def f(x, y):\n",
    "    return x+y\n",
    "#리스트\n",
    "a = [1,2,3,4,5]\n",
    "#reduce(함수, 이터러블객체)\n",
    "reduce(f, a)"
   ],
   "metadata": {
    "collapsed": false,
    "ExecuteTime": {
     "end_time": "2023-06-29T07:38:31.811233Z",
     "start_time": "2023-06-29T07:38:31.794516Z"
    }
   }
  },
  {
   "cell_type": "code",
   "execution_count": 12,
   "outputs": [
    {
     "data": {
      "text/plain": "15"
     },
     "execution_count": 12,
     "metadata": {},
     "output_type": "execute_result"
    }
   ],
   "source": [
    "#reduce + 람다함수\n",
    "a = [1,2,3,4,5]\n",
    "reduce(lambda x,y : x+y, a)"
   ],
   "metadata": {
    "collapsed": false,
    "ExecuteTime": {
     "end_time": "2023-06-29T08:10:14.957699Z",
     "start_time": "2023-06-29T08:10:14.941948Z"
    }
   }
  },
  {
   "cell_type": "code",
   "execution_count": 13,
   "outputs": [
    {
     "data": {
      "text/plain": "5050"
     },
     "execution_count": 13,
     "metadata": {},
     "output_type": "execute_result"
    }
   ],
   "source": [
    "# Q. 리스트 컴프리헨션과 람다 표현식을 이용해 1부터 100까지의 합을 구하는 코드를 구현해보세요!\n",
    "reduce(lambda x,y : x+y, [i for i in range(1,101)])"
   ],
   "metadata": {
    "collapsed": false,
    "ExecuteTime": {
     "end_time": "2023-06-29T08:11:45.169426Z",
     "start_time": "2023-06-29T08:11:45.154539Z"
    }
   }
  },
  {
   "cell_type": "markdown",
   "source": [
    "2. 일급객체\n",
    "객체지향 프로그래밍에서 사용되는 개념 중 하나로 아래 조건을 만족하는 객체를 의미\n",
    " - 변수 혹은 데이터 구조(자료구조) 안에 그 객체를 담을 수 있다(할당할 수 있다)\n",
    "\n",
    " - 매개변수로 전달 할 수 이다.\n",
    "\n",
    " - 반환값(return value)으로 사용할 수 있다.\n",
    "\n",
    "(이미 알고 있는 int, float, str 등의 타입은 일급 객체로 사용 가능)\n",
    "\n",
    "파이썬에서는 함수도 일급객체이다."
   ],
   "metadata": {
    "collapsed": false
   }
  },
  {
   "cell_type": "markdown",
   "source": [
    " - 변수 혹은 데이터 구조(자료구조) 안에 그 객체를 담을 수 있다(할당할 수 있다)\n",
    "\n",
    "--> 함수를 변수에 할당할 수 있다.\n",
    "\n",
    "--> 함수를 리스트에 넣을 수 있다."
   ],
   "metadata": {
    "collapsed": false
   }
  },
  {
   "cell_type": "code",
   "execution_count": 14,
   "outputs": [
    {
     "name": "stdout",
     "output_type": "stream",
     "text": [
      "3\n"
     ]
    }
   ],
   "source": [
    "# 함수를 변수에 할당\n",
    "def add(a,b):\n",
    "    return a+b\n",
    "f1 = add\n",
    "print(f1(1,2))"
   ],
   "metadata": {
    "collapsed": false,
    "ExecuteTime": {
     "end_time": "2023-06-29T08:21:50.374049Z",
     "start_time": "2023-06-29T08:21:50.354570Z"
    }
   }
  },
  {
   "cell_type": "code",
   "execution_count": 15,
   "outputs": [
    {
     "name": "stdout",
     "output_type": "stream",
     "text": [
      "15\n",
      "5\n"
     ]
    }
   ],
   "source": [
    "# 함수를 리스트에 넣기\n",
    "def add(a,b):\n",
    "    return a+b\n",
    "def minus(a,b):\n",
    "    return a-b\n",
    "calc = [add, minus]\n",
    "for i in calc:\n",
    "    print(i(10,5))"
   ],
   "metadata": {
    "collapsed": false,
    "ExecuteTime": {
     "end_time": "2023-06-29T08:23:39.915870Z",
     "start_time": "2023-06-29T08:23:39.900086Z"
    }
   }
  },
  {
   "cell_type": "code",
   "execution_count": 16,
   "outputs": [
    {
     "data": {
      "text/plain": "[1, 3, 5, 7, 9]"
     },
     "execution_count": 16,
     "metadata": {},
     "output_type": "execute_result"
    }
   ],
   "source": [
    "# 함수를 매개변수로 전달 할 수 있다 (앞에서 배운 필터, 리듀스 맵 해당)\n",
    "def odd(x):\n",
    "    if x % 2 == 1:\n",
    "        return x\n",
    "two = [i for i in range(10)]\n",
    "list(filter(odd, two))"
   ],
   "metadata": {
    "collapsed": false,
    "ExecuteTime": {
     "end_time": "2023-06-29T08:45:25.704783Z",
     "start_time": "2023-06-29T08:45:25.688582Z"
    }
   }
  },
  {
   "cell_type": "code",
   "execution_count": 1,
   "outputs": [
    {
     "data": {
      "text/plain": "4"
     },
     "execution_count": 1,
     "metadata": {},
     "output_type": "execute_result"
    }
   ],
   "source": [
    "a,b = 3,1\n",
    "def add(x,y):\n",
    "    return x+y\n",
    "add(a,b)"
   ],
   "metadata": {
    "collapsed": false,
    "ExecuteTime": {
     "start_time": "2023-06-30T01:46:34.859103Z",
     "end_time": "2023-06-30T01:46:34.876059Z"
    }
   }
  },
  {
   "cell_type": "code",
   "execution_count": 17,
   "outputs": [
    {
     "name": "stdout",
     "output_type": "stream",
     "text": [
      "hello john\n"
     ]
    }
   ],
   "source": [
    "# 함수를 반환값으로 사용할 수 있다. 중첩함수 사용\n",
    "def hello(name):\n",
    "    def printer():\n",
    "        print(\"hello\", name)\n",
    "    return printer\n",
    "\n",
    "func = hello(\"john\")\n",
    "func()"
   ],
   "metadata": {
    "collapsed": false,
    "ExecuteTime": {
     "end_time": "2023-06-29T08:47:06.727684Z",
     "start_time": "2023-06-29T08:47:06.710039Z"
    }
   }
  },
  {
   "cell_type": "code",
   "execution_count": 2,
   "outputs": [
    {
     "data": {
      "text/plain": "3"
     },
     "execution_count": 2,
     "metadata": {},
     "output_type": "execute_result"
    }
   ],
   "source": [
    "def num():\n",
    "    return 3\n",
    "num()"
   ],
   "metadata": {
    "collapsed": false,
    "ExecuteTime": {
     "start_time": "2023-06-30T01:47:44.214758Z",
     "end_time": "2023-06-30T01:47:44.249990Z"
    }
   }
  },
  {
   "cell_type": "code",
   "execution_count": null,
   "outputs": [],
   "source": [],
   "metadata": {
    "collapsed": false
   }
  }
 ],
 "metadata": {
  "kernelspec": {
   "display_name": "Python 3",
   "language": "python",
   "name": "python3"
  },
  "language_info": {
   "codemirror_mode": {
    "name": "ipython",
    "version": 2
   },
   "file_extension": ".py",
   "mimetype": "text/x-python",
   "name": "python",
   "nbconvert_exporter": "python",
   "pygments_lexer": "ipython2",
   "version": "2.7.6"
  }
 },
 "nbformat": 4,
 "nbformat_minor": 0
}
