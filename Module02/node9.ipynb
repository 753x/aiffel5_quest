{
 "cells": [
  {
   "cell_type": "markdown",
   "source": [
    "## 9. 클래스\n",
    "9-1 들어가며\n",
    "9-2 클래스와 객체\n",
    "1) 클래스와 객체의 관계 이해하기\n",
    "-클래스=신발설계도\n",
    "-객체=신발설계도로 만든 여러 신발, 색깔이나 사이즈라는 속성을 가짐"
   ],
   "metadata": {
    "collapsed": false
   }
  },
  {
   "cell_type": "markdown",
   "source": [
    "9-3 클래스 만들기\n",
    "1) 클래스 용어\n",
    "클래스(class) - 제품의 설계도\n",
    "\n",
    "객체(object) - 설계도를 통해 만들어진 제품\n",
    "\n",
    "속성(attribute) - 클래스 안의 변수\n",
    "\n",
    "메서드(method) - 클래스 안의 함수\n",
    "\n",
    "생성자(constructor) - 객체를 만들 때 실행되는 함수\n",
    "\n",
    "인스턴스(instance) - 메모리에 살아있는 객체\n",
    "\n",
    "** 인스턴스는 객체 안에 포함되어 있다"
   ],
   "metadata": {
    "collapsed": false
   }
  },
  {
   "cell_type": "markdown",
   "source": [
    "2) 클래스 만들기\n",
    "\n",
    "class 클래스이름:\n",
    "\n",
    "    def 메소드이름(self):\n",
    "\n",
    "        명령블록\n",
    "\n",
    "클래스 이름은 대부분 대문자로 시작,캐멀케이스\n",
    "\n",
    "메개변수는 꼭 self를 넣어야 함\n",
    "\n",
    "클래스 호출방법\n",
    "\n",
    "객체 = 클래스이름()\n",
    "\n",
    "객체.메소드이름()"
   ],
   "metadata": {
    "collapsed": false
   }
  },
  {
   "cell_type": "code",
   "execution_count": 2,
   "outputs": [
    {
     "name": "stdout",
     "output_type": "stream",
     "text": [
      "끝까지 화이팅\n"
     ]
    }
   ],
   "source": [
    "# 첫 클래스 만들기\n",
    "class Aiffel: # 클래스 이름은 대문자로 시작\n",
    "    def cheer(self):\n",
    "        print('끝까지 화이팅')\n",
    "# 객체를 만들고 메소드 돌려보기\n",
    "python = Aiffel()\n",
    "python.cheer()"
   ],
   "metadata": {
    "collapsed": false,
    "ExecuteTime": {
     "end_time": "2023-07-05T05:26:32.216293Z",
     "start_time": "2023-07-05T05:26:32.213434Z"
    }
   }
  },
  {
   "cell_type": "markdown",
   "source": [
    "생성자와 속성을 포함한 클래스\n",
    "생성자(__init__)란?\n",
    "\n",
    "클래스에 ()를 붙여서 객체를 만들때 호출되는 특별한 메소드\n",
    "\n",
    "__(밑줄 두개)가 붙은 메소드 : 매직 메소드\n",
    "\n",
    "생성자의 매개변수로는 자기 자신(self)와 속성값이 들어갈 수 있음"
   ],
   "metadata": {
    "collapsed": false
   }
  },
  {
   "cell_type": "code",
   "execution_count": 6,
   "outputs": [],
   "source": [
    "class Aiffle:\n",
    "    def __init__(self, name):\n",
    "        self.name = name\n",
    "    def cheer(self):\n",
    "        print(f'{self.name} 끝까지 화이팅')"
   ],
   "metadata": {
    "collapsed": false,
    "ExecuteTime": {
     "end_time": "2023-07-05T05:35:17.636997Z",
     "start_time": "2023-07-05T05:35:17.634299Z"
    }
   }
  },
  {
   "cell_type": "code",
   "execution_count": 7,
   "outputs": [],
   "source": [
    "# 속성 이름을 바꿔도 동일한 프로세스를 가짐\n",
    "# self.name 을 self.new로 바꿔도 동일한 결과\n",
    "class Aiffle:\n",
    "    def __init__(self, name):\n",
    "        self.new = name\n",
    "    def cheer(self):\n",
    "        print(f'{self.new} 끝까지 화이팅')"
   ],
   "metadata": {
    "collapsed": false,
    "ExecuteTime": {
     "end_time": "2023-07-05T05:36:40.449004Z",
     "start_time": "2023-07-05T05:36:40.444196Z"
    }
   }
  },
  {
   "cell_type": "code",
   "execution_count": 8,
   "outputs": [],
   "source": [
    "# 생성자와 속성을 포함한 클래스를 호출했을 때 프로세스 이해하기"
   ],
   "metadata": {
    "collapsed": false,
    "ExecuteTime": {
     "end_time": "2023-07-05T05:37:00.541275Z",
     "start_time": "2023-07-05T05:37:00.531905Z"
    }
   }
  },
  {
   "cell_type": "code",
   "execution_count": 9,
   "outputs": [
    {
     "name": "stdout",
     "output_type": "stream",
     "text": [
      "파이썬 끝까지 화이팅\n"
     ]
    }
   ],
   "source": [
    "class Aiffel:\n",
    "    def __init__(self, name):\n",
    "        self.new = name #python.new = '파이썬'\n",
    "    def cheer(self):\n",
    "        print(f'{self.new} 끝까지 화이팅')\n",
    "python = Aiffel('파이썬') #python을 만들자 __init__이 실행됨. python이 self가 됨. 파이썬이 name이 됨.\n",
    "python.cheer() #"
   ],
   "metadata": {
    "collapsed": false,
    "ExecuteTime": {
     "end_time": "2023-07-05T05:38:01.162761Z",
     "start_time": "2023-07-05T05:38:01.157931Z"
    }
   }
  },
  {
   "cell_type": "markdown",
   "source": [
    "### self의 프로세스 이해하기(역할)\n",
    "### 객체 생성. 생성자가 자동으로 호출 self 대신 python이 들어감.name은 파이썬이 들어감\n",
    "클래스를 만드는 중간에 self 키워드가 자주 나왔습니다. self 이름 그대로 객체 자신을 가리키는 것입니다.\n",
    "1. 클래스의 동작 순서를 보면서 self가 어떻게 작동하는지 보겠습니다.  Aiffel() 클래스에 김인유를 넣은 객체인 python을 만듭니다.\n",
    "2. 그러면 자동으로 __init__ 생성자가 호출되면서 매개변수 self에 python 객체가 입력됩니다. 매개변수 name에는 김인유가 입력됩니다.\n",
    "3. 그 후 self.name이 python.name으로 완성된 뒤 이 속성이 python에 할당됩니다.python 객체의 cheer 메서드가 호출됩니다.\n",
    "4. 현재 객체인 python이 자동으로 매개변수 self에 들어옵니다.\n",
    "5. 그래서 cheer 메서드에서 print(f\"{self.new}, 끝까지 화이팅!\")을 출력할 수 있습니다.\n",
    "6. cheer 메서드의 결과값 김인유, 끝까지 화이팅!이 출력됩니다!"
   ],
   "metadata": {
    "collapsed": false
   }
  },
  {
   "cell_type": "markdown",
   "source": [
    "실습퀴즈1\n",
    "신발 브랜드 Python에서 신발 생산에 필요한 클래스를 구현하려고 합니다. Shoes 클래스를 아래 조건에 맞추어서 작성해주세요!\n",
    "\n",
    "신발의 종류, 사이즈, 색상을 입력받아서 객체를 생성합니다.\n",
    "객체를 생성할 때에는 Shoes([model], [size], [color])를 생성하였습니다.를 출력해주세요.\n",
    "__str__() 메서드를 만들어주세요.\n",
    "Shoes 클래스의 객체 s가 있을 때, print(s)의 결과는 <__main__.Shoes object at 0x7f76b049b7f0>와 같이 출력됩니다. 별로 가독성이 좋지는 않죠? 이때 __str__() 메서드가 있다면 __str__() 메서드의 리턴 값이 대신 출력됩니다. 객체의 메모리 주소 대신, 객체의 속성 값들이 출력되도록 만들어봅시다.\n",
    "print 함수의 결과가 Shoes([model], [size], [color]) 형태로 출력되도록 구현해주세요.\n",
    "신발 색상을 변경할 수 있는 color_change() 메서드를 만드세요.\n",
    "(* 위에서 [model], [size], [color] 부분에는 해당되는 속성 값이 출력되어야 합니다.)"
   ],
   "metadata": {
    "collapsed": false
   }
  },
  {
   "cell_type": "code",
   "execution_count": 10,
   "outputs": [
    {
     "name": "stdout",
     "output_type": "stream",
     "text": [
      "Shoes([모델: 나이키], [사이즈: 270], [색상: black]\n",
      "바뀐 색상: red\n",
      "Shoes([모델: 나이키], [사이즈: 270], [색상: red]\n",
      "바뀐 색상: blue\n",
      "Shoes([모델: 아디다스], [사이즈: 265], [색상: blue]\n",
      "Aiffel\n",
      "Aiffel\n",
      "3\n"
     ]
    }
   ],
   "source": [
    "# [Playground] 좋아하는 영화의 주인공 이름을 넣어서 Aiffel 클래스의 객체를 만들어보세요!\n",
    "# 실습퀴즈1. 클래스1\n",
    "# 신발 클래스를 아래 조건에 맞추어서 작성하세요.\n",
    "# print 함수의 결과가 Shoes([model], [size], [color]) 형태로 출력되도록 구현해주세요.\n",
    "\n",
    "class Shoes:\n",
    "    # 클래스 속성\n",
    "    brand = 'Python'\n",
    "    production_count = 0\n",
    "\n",
    "    def __init__(self, model, size, color):\n",
    "        self.model = model\n",
    "        self.size = size\n",
    "        self.color = color\n",
    "        Shoes.production_count += 1\n",
    "    def __str__(self):\n",
    "        return f'[모델: {self.model}], [사이즈: {self.size}], [색상: {self.color}]'\n",
    "\n",
    "\n",
    "    def color_change(self, new_color):\n",
    "        self.color = new_color\n",
    "        print(f'바뀐 색상: {self.color}')\n",
    "\n",
    "get_shoes = Shoes('나이키', 270, 'black')\n",
    "print(f'Shoes({get_shoes}')\n",
    "\n",
    "# 실습퀴즈2. 클래스2\n",
    "# sneakers, slippers 객체 생성 후 color_change() 메서드를 사용해 보고, 총 신발 개수를 출력해 보세요!\n",
    "\n",
    "# 신발 두 켤레를 생성합니다. 크기와 색상은 자유롭게 지정해주세요.\n",
    "sneakers = Shoes('나이키', 270, 'black')\n",
    "sneakers.color_change('red')\n",
    "print(f'Shoes({sneakers}')\n",
    "slippers = Shoes('아디다스', 265, 'white')\n",
    "slippers.color_change('blue')\n",
    "print(f'Shoes({slippers}')\n",
    "Shoes.brand = 'Aiffel'\n",
    "# sneakers와 slippers의 brand 속성을 출력해봅시다.\n",
    "print(sneakers.brand)\n",
    "print(slippers.brand)\n",
    "# 신발의 총 개수를 출력해봅시다.\n",
    "print(Shoes.production_count)"
   ],
   "metadata": {
    "collapsed": false,
    "ExecuteTime": {
     "end_time": "2023-07-05T08:15:44.582798Z",
     "start_time": "2023-07-05T08:15:44.566294Z"
    }
   }
  },
  {
   "cell_type": "code",
   "execution_count": null,
   "outputs": [],
   "source": [
    "# 실습퀴즈4. 클래스 3\n",
    "# 모두의연구소를 소개하는 클래스를 만들어 보세요.\n",
    "\n",
    "class Modulabs:\n",
    "    def __init__(self, name, value):\n",
    "        self.name = name\n",
    "        self.value = value\n",
    "\n",
    "    def describe(self):\n",
    "        return f\"{self.name}은 {self.value}.\"\n",
    "\n",
    "class FlippedSchool(Modulabs):\n",
    "    def __init__(self, name, value):\n",
    "        super().__init__(name, value)\n",
    "\n",
    "    def describe(self):\n",
    "        return f\"{super().describe()}\"\n",
    "\n",
    "class Aiffel(Modulabs):\n",
    "    def __init__(self, name, value):\n",
    "        super().__init__(name,value)\n",
    "\n",
    "    def describe(self):\n",
    "        return f\"{super().describe()}\"\n",
    "\n",
    "class Lab(Modulabs):\n",
    "    def __init__(self,name,value):\n",
    "        super().__init__(name,value)\n",
    "\n",
    "    def describe(self):\n",
    "        return f\"{super().describe()}\"\n",
    "\n",
    "class Modu:\n",
    "    def __init__(self, name, modulabs):\n",
    "        self.name = name\n",
    "        self.modulabs = modulabs\n",
    "\n",
    "    def describe(self):\n",
    "        modulabs_descriptions = [modulabs.describe() for modulabs in self.modulabs]\n",
    "        return f\"{self.name}에는 다음과 같은 프로그램들이 있습니다 :\\n\" + \"\\n\".join(modulabs_descriptions)\n",
    "\n",
    "    # 결과 확인\n",
    "modulabs1 = Modulabs(\"모두연\", \"지식을 공유하며 경험을 통해 배우는 열린 연구소\")\n",
    "modulabs2 = FlippedSchool(\"풀잎스쿨\", \"함께 성장하는 플립 러닝 기반 스터디 모임\")\n",
    "modulabs3 = Aiffel(\"아이펠\", \"함께 탐험하며 성장하는 AI 학교\")\n",
    "modulabs4 = Lab(\"LAB\", \"연구하며 논문도 쓸 수 있는 연구 모임\")\n",
    "\n",
    "modu = Modu(\"모두연\", [modulabs1, modulabs2, modulabs3, modulabs4])\n",
    "print(modu.describe())"
   ],
   "metadata": {
    "collapsed": false
   }
  }
 ],
 "metadata": {
  "kernelspec": {
   "display_name": "Python 3",
   "language": "python",
   "name": "python3"
  },
  "language_info": {
   "codemirror_mode": {
    "name": "ipython",
    "version": 2
   },
   "file_extension": ".py",
   "mimetype": "text/x-python",
   "name": "python",
   "nbconvert_exporter": "python",
   "pygments_lexer": "ipython2",
   "version": "2.7.6"
  }
 },
 "nbformat": 4,
 "nbformat_minor": 0
}
