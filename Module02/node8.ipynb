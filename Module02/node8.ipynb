{
 "cells": [
  {
   "cell_type": "markdown",
   "source": [
    "## 모듈, 패키지, 라이브러리\n",
    "\n",
    "1. import로 모듈 가져오기\n",
    "1)표준모듈(기본 내장 모듈)\n",
    "모듈(module).py 확장자의 파일을 뜻함\n",
    "이 파일안에 변수나 함수, 클래스 등을 저장할 수 있고 모듈 자체가 실행할 수 있는 코드일수 있다.\n",
    "\n",
    "패키지 : 이런 모듈 여러개를 묶은 것\n",
    "\n",
    "라이브러리 : 모듈과 패키지를 묶은 것\n",
    "\n",
    "정리 : 라이브러리>패키지>모듈>함수,변수,클래스\n",
    "\n",
    "표준모듈 : 파이썬에 기본적으로 내장되어 있는 모듈\n",
    "\n",
    "외부모듈 : 다른 사람들이 만들어서 공개한 모듈\n",
    "\n",
    "표준모듈 불러오기\n",
    "\n",
    "import 모듈명 (as 변경할 변수)\n",
    "\n",
    "import random as r\n",
    "\n",
    "모듈의 함수를 사용할때\n",
    "\n",
    "모듈명.함수명()"
   ],
   "metadata": {
    "collapsed": false
   }
  },
  {
   "cell_type": "code",
   "execution_count": 1,
   "outputs": [
    {
     "name": "stdout",
     "output_type": "stream",
     "text": [
      "0.5847347842167782\n",
      "0.05637874043507196\n",
      "0.26349129898228696\n",
      "0.011456161985448632\n",
      "0.4523049802032626\n"
     ]
    }
   ],
   "source": [
    "# random 모듈\n",
    "# random() : 0.0 <= x < 1.0 사이의 난수를 출력하는 random 모듈의 함수\n",
    "import random as r\n",
    "import time\n",
    "\n",
    "for i in range(5):\n",
    "    print(r.random())"
   ],
   "metadata": {
    "collapsed": false,
    "ExecuteTime": {
     "end_time": "2023-07-03T08:56:18.529143Z",
     "start_time": "2023-07-03T08:56:18.525264Z"
    }
   }
  },
  {
   "cell_type": "code",
   "execution_count": 2,
   "outputs": [
    {
     "name": "stdout",
     "output_type": "stream",
     "text": [
      "5\n",
      "4\n",
      "7\n",
      "9\n",
      "3\n"
     ]
    }
   ],
   "source": [
    "# randint(a,b) : a <= x <= b 사이의 정수 난수를 출력하는 random 모듈의 함수\n",
    "import random as r\n",
    "for i in range(5):\n",
    "    print(r.randint(1,10))"
   ],
   "metadata": {
    "collapsed": false,
    "ExecuteTime": {
     "end_time": "2023-07-03T08:56:43.011829Z",
     "start_time": "2023-07-03T08:56:43.005511Z"
    }
   }
  },
  {
   "cell_type": "markdown",
   "source": [
    "seed(a) 함수는 난수를 뽑아내는 알고리즘을 고정합니다. 이때 a는 시드값입니다. 이 시드값이 동일하면 언제, 어디서든 동일한 난수를 출력할 수 있습니다. 즉 여러분과 저의 출력값을 동일하게 뽑을 수도 있는 것이죠."
   ],
   "metadata": {
    "collapsed": false
   }
  },
  {
   "cell_type": "code",
   "execution_count": 2,
   "outputs": [
    {
     "name": "stdout",
     "output_type": "stream",
     "text": [
      "10\n",
      "1\n",
      "7\n",
      "8\n",
      "10\n"
     ]
    }
   ],
   "source": [
    "import random as r\n",
    "r.seed(10)  # 동일한 시드값을 넣으면 동일한 값이 출력됩니다.\n",
    "# Q. 빈 코드를 채워보세요.\n",
    "for i in range(5):\n",
    "    print(r.randint(1,10))"
   ],
   "metadata": {
    "collapsed": false,
    "ExecuteTime": {
     "start_time": "2023-07-04T00:36:04.159170Z",
     "end_time": "2023-07-04T00:36:04.167535Z"
    }
   }
  },
  {
   "cell_type": "code",
   "execution_count": 3,
   "outputs": [
    {
     "data": {
      "text/plain": "3.141592653589793"
     },
     "execution_count": 3,
     "metadata": {},
     "output_type": "execute_result"
    }
   ],
   "source": [
    "# math 모듈\n",
    "# math 모듈의 함수를 사용하기 위해서는 import math를 먼저 실행해야 한다.\n",
    "import math as m\n",
    "# 원주율\n",
    "m.pi"
   ],
   "metadata": {
    "collapsed": false,
    "ExecuteTime": {
     "end_time": "2023-07-03T08:58:04.437083Z",
     "start_time": "2023-07-03T08:58:04.419182Z"
    }
   }
  },
  {
   "cell_type": "code",
   "execution_count": 4,
   "outputs": [
    {
     "data": {
      "text/plain": "2.718281828459045"
     },
     "execution_count": 4,
     "metadata": {},
     "output_type": "execute_result"
    }
   ],
   "source": [
    "#자연상수\n",
    "m.e"
   ],
   "metadata": {
    "collapsed": false,
    "ExecuteTime": {
     "end_time": "2023-07-03T08:58:35.102929Z",
     "start_time": "2023-07-03T08:58:35.097122Z"
    }
   }
  },
  {
   "cell_type": "code",
   "execution_count": 5,
   "outputs": [
    {
     "data": {
      "text/plain": "8.0"
     },
     "execution_count": 5,
     "metadata": {},
     "output_type": "execute_result"
    }
   ],
   "source": [
    "# 제곱승 pow(n,x) n**x 제곱승 계산 함수\n",
    "m.pow(2,3)"
   ],
   "metadata": {
    "collapsed": false,
    "ExecuteTime": {
     "end_time": "2023-07-03T09:00:17.832312Z",
     "start_time": "2023-07-03T09:00:17.826393Z"
    }
   }
  },
  {
   "cell_type": "code",
   "execution_count": 6,
   "outputs": [
    {
     "data": {
      "text/plain": "2.0"
     },
     "execution_count": 6,
     "metadata": {},
     "output_type": "execute_result"
    }
   ],
   "source": [
    "# 제곱근 sqrt(n) n**0.5 제곱근 계산 함수\n",
    "m.sqrt(4)"
   ],
   "metadata": {
    "collapsed": false,
    "ExecuteTime": {
     "end_time": "2023-07-03T09:00:30.847278Z",
     "start_time": "2023-07-03T09:00:30.841934Z"
    }
   }
  },
  {
   "cell_type": "code",
   "execution_count": 7,
   "outputs": [
    {
     "data": {
      "text/plain": "120"
     },
     "execution_count": 7,
     "metadata": {},
     "output_type": "execute_result"
    }
   ],
   "source": [
    "# factorial(n) n! 계산 함수\n",
    "m.factorial(5)"
   ],
   "metadata": {
    "collapsed": false,
    "ExecuteTime": {
     "end_time": "2023-07-03T09:00:47.605380Z",
     "start_time": "2023-07-03T09:00:47.598216Z"
    }
   }
  },
  {
   "cell_type": "code",
   "execution_count": 8,
   "outputs": [
    {
     "data": {
      "text/plain": "4"
     },
     "execution_count": 8,
     "metadata": {},
     "output_type": "execute_result"
    }
   ],
   "source": [
    "#cile(n) 올림 함수 수직선에서 오른쪽으로 int형 출력\n",
    "m.ceil(3.14)"
   ],
   "metadata": {
    "collapsed": false,
    "ExecuteTime": {
     "end_time": "2023-07-03T09:02:30.519414Z",
     "start_time": "2023-07-03T09:02:30.509621Z"
    }
   }
  },
  {
   "cell_type": "code",
   "execution_count": 9,
   "outputs": [
    {
     "data": {
      "text/plain": "-3"
     },
     "execution_count": 9,
     "metadata": {},
     "output_type": "execute_result"
    }
   ],
   "source": [
    "#올림 #음수\n",
    "m.ceil(-3.14)"
   ],
   "metadata": {
    "collapsed": false,
    "ExecuteTime": {
     "end_time": "2023-07-03T09:02:50.583818Z",
     "start_time": "2023-07-03T09:02:50.578137Z"
    }
   }
  },
  {
   "cell_type": "code",
   "execution_count": 10,
   "outputs": [
    {
     "data": {
      "text/plain": "3"
     },
     "execution_count": 10,
     "metadata": {},
     "output_type": "execute_result"
    }
   ],
   "source": [
    "#floor(n) 내림 함수 수직선에서 왼쪽으로 int형 출력\n",
    "m.floor(3.14)"
   ],
   "metadata": {
    "collapsed": false,
    "ExecuteTime": {
     "end_time": "2023-07-03T09:03:57.015530Z",
     "start_time": "2023-07-03T09:03:57.006635Z"
    }
   }
  },
  {
   "cell_type": "code",
   "execution_count": 11,
   "outputs": [
    {
     "data": {
      "text/plain": "-4"
     },
     "execution_count": 11,
     "metadata": {},
     "output_type": "execute_result"
    }
   ],
   "source": [
    "#내림 #음수\n",
    "m.floor(-3.14)"
   ],
   "metadata": {
    "collapsed": false,
    "ExecuteTime": {
     "end_time": "2023-07-03T09:04:04.216166Z",
     "start_time": "2023-07-03T09:04:04.210503Z"
    }
   }
  },
  {
   "cell_type": "code",
   "execution_count": null,
   "outputs": [],
   "source": [
    "# round 함수는 math 모듈이 아니라서 m.round()로 작성하면 에러남\n",
    "# round()의 특징은 반올림할 자리의 수가 5일 때 앞자리가 짝수 숫자이면 내리고, 홀수이면 올림합니다. 특징을 고려해서 필요한 함수를 사용해 보세요."
   ],
   "metadata": {
    "collapsed": false
   }
  },
  {
   "cell_type": "code",
   "execution_count": 13,
   "outputs": [
    {
     "data": {
      "text/plain": "time.struct_time(tm_year=2023, tm_mon=7, tm_mday=3, tm_hour=18, tm_min=5, tm_sec=33, tm_wday=0, tm_yday=184, tm_isdst=0)"
     },
     "execution_count": 13,
     "metadata": {},
     "output_type": "execute_result"
    }
   ],
   "source": [
    "# time 모듈\n",
    "# time 모듈의 함수를 사용하기 위해서는 import time을 먼저 실행해야 한다.\n",
    "# 코드 실행 순간의 시간 정보 아홉가지를 튜플로 출력\n",
    "import time as t\n",
    "t.localtime()"
   ],
   "metadata": {
    "collapsed": false,
    "ExecuteTime": {
     "end_time": "2023-07-03T09:05:33.127517Z",
     "start_time": "2023-07-03T09:05:33.121959Z"
    }
   }
  },
  {
   "cell_type": "code",
   "execution_count": 14,
   "outputs": [
    {
     "data": {
      "text/plain": "2023"
     },
     "execution_count": 14,
     "metadata": {},
     "output_type": "execute_result"
    }
   ],
   "source": [
    "# 필요한 정보만 슬라이싱\n",
    "t.localtime()[0]"
   ],
   "metadata": {
    "collapsed": false,
    "ExecuteTime": {
     "end_time": "2023-07-03T09:06:48.202932Z",
     "start_time": "2023-07-03T09:06:48.167604Z"
    }
   }
  },
  {
   "cell_type": "markdown",
   "source": [
    "time 모듈에서 자주 쓰이는 함수 중에 sleep()을 소개하겠습니다. 이 함수는 일정한 시간 간격을 주기 위해 사용하는 함수입니다. 즉 sleep(a)를 쓰면 해당 코드에서 프로그램이 a초 지연됩니다. 코드를 직접 돌려보면서 확인하겠습니다."
   ],
   "metadata": {
    "collapsed": false
   }
  },
  {
   "cell_type": "code",
   "execution_count": 3,
   "outputs": [
    {
     "name": "stdout",
     "output_type": "stream",
     "text": [
      "5초를 세보세요\n",
      "5초가 지났습니다.\n"
     ]
    }
   ],
   "source": [
    "import time as t\n",
    "print('5초를 세보세요')\n",
    "t.sleep(5)\n",
    "print('5초가 지났습니다.')"
   ],
   "metadata": {
    "collapsed": false,
    "ExecuteTime": {
     "start_time": "2023-07-04T00:41:36.725357Z",
     "end_time": "2023-07-04T00:41:41.751422Z"
    }
   }
  },
  {
   "cell_type": "code",
   "execution_count": 15,
   "outputs": [
    {
     "data": {
      "text/plain": "True"
     },
     "execution_count": 15,
     "metadata": {},
     "output_type": "execute_result"
    }
   ],
   "source": [
    "#keyword 모듈\n",
    "#iskeyword() : 키워드인지 아닌지 판단하는 함수\n",
    "import keyword as k\n",
    "k.iskeyword('if')"
   ],
   "metadata": {
    "collapsed": false,
    "ExecuteTime": {
     "end_time": "2023-07-03T09:08:06.213233Z",
     "start_time": "2023-07-03T09:08:06.207911Z"
    }
   }
  },
  {
   "cell_type": "code",
   "execution_count": 3,
   "outputs": [
    {
     "data": {
      "text/plain": "['False',\n 'None',\n 'True',\n 'and',\n 'as',\n 'assert',\n 'async',\n 'await',\n 'break',\n 'class',\n 'continue',\n 'def',\n 'del',\n 'elif',\n 'else',\n 'except',\n 'finally',\n 'for',\n 'from',\n 'global',\n 'if',\n 'import',\n 'in',\n 'is',\n 'lambda',\n 'nonlocal',\n 'not',\n 'or',\n 'pass',\n 'raise',\n 'return',\n 'try',\n 'while',\n 'with',\n 'yield']"
     },
     "execution_count": 3,
     "metadata": {},
     "output_type": "execute_result"
    }
   ],
   "source": [
    "#keyword 모듈\n",
    "#예약어를 리스트로 출력하는 함수는 kwlist, 괄호가 붙지 않음\n",
    "import keyword as k\n",
    "k.kwlist"
   ],
   "metadata": {
    "collapsed": false,
    "ExecuteTime": {
     "end_time": "2023-07-04T06:36:01.176650Z",
     "start_time": "2023-07-04T06:36:01.139362Z"
    }
   }
  },
  {
   "cell_type": "markdown",
   "source": [
    "2)from import로 모듈 일부만 가져오기\n",
    "\n",
    "모듈 전체가 아니라 필요한 부분만 가져올 수 있다.\n",
    "\n",
    "from 모듈명 import 일부분\n",
    "\n",
    "모듈의 이름 없이 일부분이 단독으로 사용 가능하다.\n",
    "\n",
    "ex) from math import pi\n",
    "\n",
    "ex) from math import pow\n",
    "\n",
    "여러개를 가져올 수 있다.\n",
    "\n",
    "from 모듈명 import 일부분1, 일부분2, 일부분3\n",
    "\n",
    "모든 변수, 함수, 클래스를 가져오는 기능도 있다.\n"
   ],
   "metadata": {
    "collapsed": false
   }
  },
  {
   "cell_type": "code",
   "execution_count": 16,
   "outputs": [
    {
     "data": {
      "text/plain": "4"
     },
     "execution_count": 16,
     "metadata": {},
     "output_type": "execute_result"
    }
   ],
   "source": [
    "#모두 import, 모듈의 이름 없이 사용가능하다\n",
    "from math import *\n",
    "ceil(3.14)"
   ],
   "metadata": {
    "collapsed": false,
    "ExecuteTime": {
     "end_time": "2023-07-03T09:14:23.684852Z",
     "start_time": "2023-07-03T09:14:23.674537Z"
    }
   }
  },
  {
   "cell_type": "code",
   "execution_count": 17,
   "outputs": [
    {
     "data": {
      "text/plain": "4"
     },
     "execution_count": 17,
     "metadata": {},
     "output_type": "execute_result"
    }
   ],
   "source": [
    "#모듈만 import, 모듈의 이름을 써줘야 한다\n",
    "import math\n",
    "math.ceil(3.14)"
   ],
   "metadata": {
    "collapsed": false,
    "ExecuteTime": {
     "end_time": "2023-07-03T09:14:43.381319Z",
     "start_time": "2023-07-03T09:14:43.371850Z"
    }
   }
  },
  {
   "cell_type": "markdown",
   "source": [
    "3)import as로 모듈 이름 지정하기\n",
    "\n",
    "from 모듈 import 변수 as 별명\n",
    "\n",
    "from 모듈 import 함수 as 별명\n",
    "\n",
    "from 모듈 import 클래스 as 별명\n",
    "\n",
    "콤마로 구분해서 이름 지정을 각각 해줄 수 있다.\n",
    "\n",
    "from 모듈 import 변수 as 이름1, 함수 as 이름2, 클래스 as 이름3"
   ],
   "metadata": {
    "collapsed": false
   }
  },
  {
   "cell_type": "markdown",
   "source": [
    "2. import로 패키지 가져오기\n",
    "\n",
    "패키지도 import로 가져올 수 있다.\n",
    "\n",
    "import 패키지명\n",
    "\n",
    "import 패키지명.모듈명\n",
    "\n",
    "import 패키지명.모듈명1, 패키지명.모듈명2\n",
    "\n",
    "패키지.모듈.함수()\n",
    "\n",
    "패키지.모듈.변수\n",
    "\n",
    "패키지.모듈.클래스()"
   ],
   "metadata": {
    "collapsed": false
   }
  },
  {
   "cell_type": "code",
   "execution_count": 4,
   "outputs": [
    {
     "name": "stdout",
     "output_type": "stream",
     "text": [
      "join(): C:\\/file.py\n"
     ]
    }
   ],
   "source": [
    "# os 패키지 : 파이썬에서 os를 다루는 패키지, 파일 경로도 다룸\n",
    "import os.path\n",
    "new_path = os.path.join('C:\\\\','file.py') #패키지.모듈.함수()\n",
    "print(\"join(): \" + new_path)"
   ],
   "metadata": {
    "collapsed": false,
    "ExecuteTime": {
     "start_time": "2023-07-04T02:24:31.194877Z",
     "end_time": "2023-07-04T02:24:31.218048Z"
    }
   }
  },
  {
   "cell_type": "code",
   "execution_count": null,
   "outputs": [],
   "source": [
    "# as 키워드 사용 가능함\n",
    "import os.path as p\n",
    "new_path = p.join('C:\\\\','file.py') #패키지.모듈.함수()\n",
    "print(\"join(): \" + new_path)"
   ],
   "metadata": {
    "collapsed": false
   }
  },
  {
   "cell_type": "markdown",
   "source": [
    "3. 라이브러리와 프레임워크\n",
    "\n",
    "1) 라이브러리와 프레임워크\n",
    "\n",
    "라이브러리는 여러 패키지와 모듈을 모아둔 것\n",
    "\n",
    "-특정 기능에 대한 도구를 모아둔 집합\n",
    "\n",
    "-프로그래머가 어떠한 기능을 수행하기 위해서 도움을 주고 필요한 것을 제공해 주는 역할\n",
    "\n",
    "프레임워크는 뼈대나 기반 구조\n",
    "\n",
    "-프로그래밍을 진행할 때 필수적인 코드, 알고리즘 등과 같이 어느 정도의 구조를 제공\n"
   ],
   "metadata": {
    "collapsed": false
   }
  }
 ],
 "metadata": {
  "kernelspec": {
   "display_name": "Python 3",
   "language": "python",
   "name": "python3"
  },
  "language_info": {
   "codemirror_mode": {
    "name": "ipython",
    "version": 2
   },
   "file_extension": ".py",
   "mimetype": "text/x-python",
   "name": "python",
   "nbconvert_exporter": "python",
   "pygments_lexer": "ipython2",
   "version": "2.7.6"
  }
 },
 "nbformat": 4,
 "nbformat_minor": 0
}
