{
 "cells": [
  {
   "cell_type": "markdown",
   "source": [
    "# 밑바닥부터 시작하는 딥러닝\n",
    "\n",
    "# Deep Learning from Scratch\n"
   ],
   "metadata": {
    "collapsed": false
   }
  },
  {
   "cell_type": "markdown",
   "source": [
    "# 5 오차역전파법\n",
    "\n",
    "오차역전파법(backpropagation): 가중치 매개변수의 기울기를 효율적으로 계산\n",
    "\n",
    "오차를 역(반대 방향)으로 전파하는 방법(backward propagation of errors)\n",
    "\n",
    "가중치 매개변수의 기울기를 효과적으로 계산하는 방법\n",
    "1. 결과값을 손실함수로 변환한다.\n",
    "2. 손실함수의 기울기를 수치미분 한다\n",
    "3. 기울기가 0이 되는 지점까지 weight를 변화한다.\n",
    "\n",
    "수치 미분을 통하여 기울기를 구하는데 이는 단순하고 쉽지만 계산이 오래 걸리는 단점이 있다.\n",
    "따라서 가중치 매개변수의 기울기를 가장 효과적으로 구할 수 있는 오차역전파법을 사용한다.\n",
    "\n",
    "순전파 :  왼쪽에서 오른쪽\n",
    "역전파 :  오른쪽에서 왼쪽"
   ],
   "metadata": {
    "collapsed": false
   }
  },
  {
   "cell_type": "markdown",
   "source": [
    "## 5.1 계산 그래프\n",
    "\n",
    "계산 그래프(computational graph): 계산 과정을 그래프로 나타낸 것\n",
    "\n",
    "복수의 노드(node)와 에지(edge)로 표현됨.\n",
    "\n",
    "에지: 노드 사이의 직선"
   ],
   "metadata": {
    "collapsed": false
   }
  },
  {
   "cell_type": "markdown",
   "source": [
    "### 5.1.1 계산 그래프로 풀다\n",
    "\n",
    "계산 그래프를 이용한 문제풀이는 다음 흐름으로 진행\n",
    "\n",
    "* 계산 그래프를 구성한다.\n",
    "* 그래프에서 계산을 왼쪽에서 오른쪽으로 진행한다.\n",
    "\n",
    "순전파: 계산을 왼쪽에서 오른쪽으로 진행. 계산 그래프의 출발점부터 종착점으로의 전파."
   ],
   "metadata": {
    "collapsed": false
   }
  },
  {
   "cell_type": "markdown",
   "source": [
    "### 5.1.2 국소적 계산\n",
    "\n",
    "국소적: 자신과 직접 관련된 작은 범위\n",
    "\n",
    "국소적 계산: 자신과 관계된 정보만으로 다음 결과를 출력할 수 있음\n",
    "\n",
    "각 노드는 자신과 관련된 계산 외에는 아무 것도 신경 쓸게 없음\n",
    "\n",
    "복잡한 계산을 '단순하고 국소적 계산'으로 분할하고 계산 결과를 다음 노드로 전달\n",
    "\n",
    "복잡한 계산도 분해하면 단순한 계산으로 구성됨"
   ],
   "metadata": {
    "collapsed": false
   }
  },
  {
   "cell_type": "markdown",
   "source": [
    "### 5.1.3 왜 계산 그래프로 푸는가?\n",
    "\n",
    "계산 그래프의 이점 : 국소적 계산으로 문제를 단순화할 수 있음. 중간 계산 결과를 모두 보관 가능\n",
    "\n",
    "계산 그래프를 쓰는 가장 큰 이유는 역전파를 통해 '미분'을 효율적으로 계산할 수 있음\n",
    "\n",
    "중간까지 구한 미분 결과를 공유할 수 있어 다수의 미분을 효율적으로 계산할 수 있음"
   ],
   "metadata": {
    "collapsed": false
   }
  },
  {
   "cell_type": "markdown",
   "source": [
    "## 5.2 연쇄법칙\n",
    "\n",
    "'국소적 미분'을 전달하는 원리는 연쇄 법칙(chain rule)에 따른 것"
   ],
   "metadata": {
    "collapsed": false
   }
  }
 ],
 "metadata": {
  "kernelspec": {
   "display_name": "Python 3",
   "language": "python",
   "name": "python3"
  },
  "language_info": {
   "codemirror_mode": {
    "name": "ipython",
    "version": 2
   },
   "file_extension": ".py",
   "mimetype": "text/x-python",
   "name": "python",
   "nbconvert_exporter": "python",
   "pygments_lexer": "ipython2",
   "version": "2.7.6"
  }
 },
 "nbformat": 4,
 "nbformat_minor": 0
}
