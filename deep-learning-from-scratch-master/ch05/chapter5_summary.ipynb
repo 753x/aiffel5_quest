{
 "cells": [
  {
   "cell_type": "markdown",
   "source": [
    "# 밑바닥부터 시작하는 딥러닝\n",
    "\n",
    "# Deep Learning from Scratch\n"
   ],
   "metadata": {
    "collapsed": false
   }
  },
  {
   "cell_type": "markdown",
   "source": [
    "# 5 오차역전파법\n",
    "\n",
    "오차역전파법(backpropagation): 가중치 매개변수의 기울기를 효율적으로 계산\n",
    "\n",
    "오차를 역(반대 방향)으로 전파하는 방법(backward propagation of errors)\n",
    "\n",
    "가중치 매개변수의 기울기를 효과적으로 계산하는 방법\n",
    "1. 결과값을 손실함수로 변환한다.\n",
    "2. 손실함수의 기울기를 수치미분 한다\n",
    "3. 기울기가 0이 되는 지점까지 weight를 변화한다.\n",
    "\n",
    "수치 미분을 통하여 기울기를 구하는데 이는 단순하고 쉽지만 계산이 오래 걸리는 단점이 있다.\n",
    "따라서 가중치 매개변수의 기울기를 가장 효과적으로 구할 수 있는 오차역전파법을 사용한다.\n",
    "\n",
    "순전파 :  왼쪽에서 오른쪽\n",
    "역전파 :  오른쪽에서 왼쪽"
   ],
   "metadata": {
    "collapsed": false
   }
  },
  {
   "cell_type": "markdown",
   "source": [
    "## 5.1 계산 그래프\n",
    "\n",
    "계산 그래프(computational graph): 계산 과정을 그래프로 나타낸 것\n",
    "\n",
    "복수의 노드(node)와 에지(edge)로 표현됨.\n",
    "\n",
    "에지: 노드 사이의 직선"
   ],
   "metadata": {
    "collapsed": false
   }
  },
  {
   "cell_type": "markdown",
   "source": [
    "### 5.1.1 계산 그래프로 풀다\n",
    "\n",
    "계산 그래프를 이용한 문제풀이는 다음 흐름으로 진행\n",
    "\n",
    "* 계산 그래프를 구성한다.\n",
    "* 그래프에서 계산을 왼쪽에서 오른쪽으로 진행한다.\n",
    "\n",
    "순전파: 계산을 왼쪽에서 오른쪽으로 진행. 계산 그래프의 출발점부터 종착점으로의 전파."
   ],
   "metadata": {
    "collapsed": false
   }
  },
  {
   "cell_type": "markdown",
   "source": [
    "### 5.1.2 국소적 계산\n",
    "\n",
    "국소적: 자신과 직접 관련된 작은 범위\n",
    "\n",
    "국소적 계산: 자신과 관계된 정보만으로 다음 결과를 출력할 수 있음\n",
    "\n",
    "각 노드는 자신과 관련된 계산 외에는 아무 것도 신경 쓸게 없음\n",
    "\n",
    "복잡한 계산을 '단순하고 국소적 계산'으로 분할하고 계산 결과를 다음 노드로 전달\n",
    "\n",
    "복잡한 계산도 분해하면 단순한 계산으로 구성됨"
   ],
   "metadata": {
    "collapsed": false
   }
  },
  {
   "cell_type": "markdown",
   "source": [
    "### 5.1.3 왜 계산 그래프로 푸는가?\n",
    "\n",
    "계산 그래프의 이점 : 국소적 계산으로 문제를 단순화할 수 있음. 중간 계산 결과를 모두 보관 가능\n",
    "\n",
    "계산 그래프를 쓰는 가장 큰 이유는 역전파를 통해 '미분'을 효율적으로 계산할 수 있음\n",
    "\n",
    "중간까지 구한 미분 결과를 공유할 수 있어 다수의 미분을 효율적으로 계산할 수 있음\n",
    "\n",
    "![](./img/01.png)\n",
    "\n",
    "역전파는 오른쪽에서 왼쪽으로 미분값을 전달. 사과가 1원 오르면 최종금액은 2.2원 오른다."
   ],
   "metadata": {
    "collapsed": false
   }
  },
  {
   "cell_type": "markdown",
   "source": [
    "## 5.2 연쇄법칙\n",
    "\n",
    "'국소적 미분'을 전달하는 원리는 연쇄 법칙(chain rule)에 따른 것"
   ],
   "metadata": {
    "collapsed": false
   }
  },
  {
   "cell_type": "markdown",
   "source": [
    "### 5.2.1 계산 그래프의 역전파\n",
    "\n",
    "계산 그래프의 역전파: 순방향과는 반대 방향으로 국소적 미분을 곱한다.\n",
    "\n",
    "역전파의 계산 절차는 신호 E에 노드의 국소적 미분을 곱한 후 다음 노드로 전달\n",
    "\n",
    "역전파의 계산 순에 따르면 목표로 하는 미분 값을 효율적으로 구할 수 있음\n",
    "\n",
    "![](./img/02.png)\n",
    "\n",
    "여기서 말하는 국소적 미분은 순전파때의 y=f(x) 계산의 미분을 말하며 이는 x에 대한 y의 미분을 구한다는 뜻.\n",
    "\n",
    "y=x**2 의 미분은 dy/dx = 2x 이다. 이 국소적 미분을 상류에서 전달된 값(여기서는 E)에 곱하여 하류로 전달한다."
   ],
   "metadata": {
    "collapsed": false
   }
  },
  {
   "cell_type": "markdown",
   "source": [
    "### 5.2.2 연쇄법칙이란?\n",
    "\n",
    "합성 함수: 여러 함수로 구성된 함수\n",
    "\n",
    "예를 들어 z= (x+y)**2 은 z = t**2, t = x+y 의 합성 함수이다.\n",
    "\n",
    "#### 식 5.1\n",
    "\n",
    "\\begin{equation*}\n",
    "z = t^{2}\n",
    "\\end{equation*}\n",
    "\n",
    "\\begin{equation*}\n",
    "t = x + y\n",
    "\\end{equation*}\n",
    "\n",
    "연쇄법칙은 함성 함수의 미분에 대한 성질\n",
    "\n",
    "합성 함수의 미분은 합성 함수를 구성하는 각 함수의 미분의 곱으로 나타낼 수 있다.\n",
    "\n",
    "#### 식 5.2\n",
    "\n",
    "\\begin{equation*}\n",
    "\\frac{\\partial z}{\\partial x} = \\frac{\\partial z}{\\partial t} \\frac{\\partial t}{\\partial x}\n",
    "\\end{equation*}\n",
    "\n",
    "x에 대한 z의 미분은 t에 대한 z의 미분과 x에 대한 t의 미분의 곱으로 나타낼 수 있음\n",
    "\n",
    "∂t를 서로 지울 수 있음.\n",
    "\n",
    "\\begin{equation*}\n",
    "\\frac{\\partial z}{\\partial x} = \\frac{\\partial z}{} \\frac{}{\\partial x}\n",
    "\\end{equation*}\n",
    "\n",
    "#### 식 5.3\n",
    "\n",
    "식 5.1에 대한 국소적 미분(편미분)을 구함\n",
    "\n",
    "\\begin{equation*}\n",
    "\\frac{\\partial z}{\\partial t} = 2t\n",
    "\\end{equation*}\n",
    "\n",
    "\\begin{equation*}\n",
    "\\frac{\\partial t}{\\partial x} = 1\n",
    "\\end{equation*}\n",
    "\n",
    "최종적으로 구하고 싶은 x에 대한 z의 미분은 다음 두 미분을 곱해 계산\n",
    "\n",
    "#### 식 5.4\n",
    "\n",
    "\\begin{equation*}\n",
    "\\frac{\\partial z}{\\partial x} = \\frac{\\partial z}{\\partial t} \\frac{\\partial t}{\\partial x} = 2t · 1 = 2(x+y)\n",
    "\\end{equation*}"
   ],
   "metadata": {
    "collapsed": false
   }
  },
  {
   "cell_type": "markdown",
   "source": [
    "### 5.2.3 연쇄법칙과 계산 그래프\n",
    "\n",
    "![](./img/03.png)\n",
    "순전파와는 반대방향으로 국소적 미분을 곱하여 전달한다.\n",
    "\n",
    "계산 그래프의 역전파는 오른쪽에서 왼쪽으로 신호를 전파\n",
    "\n",
    "노드로 들어온 입력신호에 그 노드의 국소적 미분(편미분)을 곱한 후 다음 노드로 전달\n",
    "\n",
    "역전파가 하는 일은 연쇄 법칙의 원리와 같음.\n",
    "\n",
    "dz/dx = 2(x+y) 는 dz/dt = 2t, dt/dx = 1 의 곱으로 나타낼 수 있음\n",
    "\n",
    "![](./img/04.png)"
   ],
   "metadata": {
    "collapsed": false
   }
  },
  {
   "cell_type": "markdown",
   "source": [
    "## 5.3 역전파"
   ],
   "metadata": {
    "collapsed": false
   }
  },
  {
   "cell_type": "markdown",
   "source": [
    "### 5.3.1 덧셈 노드의 역전파\n",
    "\n",
    "z = x + y 의 미분. 다음은 해석적으로 계산\n",
    "\n",
    "#### 식 5.5\n",
    "\n",
    "\\begin{equation*}\n",
    "\\frac{\\partial z}{\\partial x} = 1\n",
    "\\end{equation*}\n",
    "\n",
    "\\begin{equation*}\n",
    "\\frac{\\partial z}{\\partial y} = 1\n",
    "\\end{equation*}\n",
    "\n",
    "![](./img/05.png)\n",
    "\n",
    "역전파때는 상류에서 전해진 미분(dL/dz)에 1을 곱하여 하류로 흘림. 덧셈 노드의 역전파는 1을 곱하기만 할 뿐 입력된 값을 그대로 다음 노드로 보내게 됨.\n",
    "\n",
    "![](./img/06.png)\n",
    "\n",
    "덧셈 노드의 역전파는 상류의 값을 흘려보내기만 할 뿐이므로 순전파 때의 입력 신호가 필요하지 않음\n",
    "\n",
    "예를 들어 10+5=15라는 계산이 있고 이때 역전파로 1.3이라는 값이 흘러왔다면 순전파 때의 입력 신호가 10이었든 5였든 상관없이 1.3을 곱해서 다음 노드로 보내기만 하면 됨.\n",
    "\n",
    "![](./img/07.png)"
   ],
   "metadata": {
    "collapsed": false
   }
  },
  {
   "cell_type": "markdown",
   "source": [
    "### 5.3.2 곱셈 노드의 역전파\n",
    "\n",
    "z = xy 의 미분\n",
    "\n",
    "#### 식 5.6\n",
    "\n",
    "\\begin{equation*}\n",
    "\\frac{\\partial z}{\\partial x} = y\n",
    "\\end{equation*}\n",
    "\n",
    "\\begin{equation*}\n",
    "\\frac{\\partial z}{\\partial y} = x\n",
    "\\end{equation*}\n",
    "\n",
    "![](./img/08.png)\n",
    "\n",
    "곱셈 노드의 역전파는 상류의 값에 순전파 때의 입력 신호들을 '서로 바꾼 값'을 곱해서 하류로 보냄\n",
    "\n",
    "순전파 때 x 였다면 역전파에서는 y. 순전파 때 y 였다면 역전파에서는 x로 바꿈\n",
    "\n",
    "![](./img/09.png)\n",
    "\n",
    "덧셈의 역전파에서는 상류값을 그대로 흘려보내서 순방향 입력신호의 값은 필요하지 않지만 곱셈의 역전파는 순방향 입력 신호의 값이 필요함. 그래서 곱셈 노드를 구현할 때는 순전파의 입력 신호르르 변수에 저장함"
   ],
   "metadata": {
    "collapsed": false
   }
  },
  {
   "cell_type": "markdown",
   "source": [
    "### 5.3.3 사과 쇼핑의 예\n",
    "\n",
    "사과의 개수, 소비세라는 세 변수 각각이 최종금액에 어떻게 영향을 주느냐를 풀고자 함\n",
    "\n",
    "![](./img/10.png)\n",
    "\n",
    "이는 사과가격에 대한 지불 금액의 미분, 사과 개수에 대한 지불금액의 미분, 소비세에 대한 지불금액의 미분을 구하는 것과 같음\n",
    "\n",
    "곱셈 노드의 역전파에서는 입력신호를 서로 바꾸어 하류로 흘림. 위 그림에서 사과 가격의 미분은 2.2, 사과 개수의 미분은 110 소비세의 미분은 200.\n",
    "\n",
    "소비세와 사과 가격이 같은 양만큼 오르면 최종 금액에는 소비세가 200의 크기로, 사과 가격의 2.2 크기로 영향을 준다고 해석할 수 있음.\n",
    "\n",
    "<퀴즈>\n",
    "\n",
    "![](./img/11.png)\n"
   ],
   "metadata": {
    "collapsed": false
   }
  },
  {
   "cell_type": "markdown",
   "source": [
    "## 5.4 단순한 계층 구현하기\n",
    "\n",
    "계산 그래프의 곱셈 노드를 'MultiLayer', 덧셈 노드를 'AddLayer'로 구현"
   ],
   "metadata": {
    "collapsed": false
   }
  },
  {
   "cell_type": "markdown",
   "source": [
    "### 5.4.1 곱셈 계층\n",
    "\n",
    "모든 계층은 forward() 순전파, backward() 역전파 라는 공통의 메서드(인터페이스)를 갖도록 수현\n",
    "\n",
    "곱셈 계층을 MultiLayer 클래스로 다음처럼 구현"
   ],
   "metadata": {
    "collapsed": false
   }
  },
  {
   "cell_type": "code",
   "execution_count": 7,
   "outputs": [],
   "source": [
    "class MulLayer:\n",
    "    def __init__(self): # 인스턴스 변수인 x,y 초기화. 순전파 시의 입력값 유지 목적\n",
    "        self.x = None\n",
    "        self.y = None\n",
    "\n",
    "    def forward(self, x, y): # 순전파\n",
    "        self.x = x\n",
    "        self.y = y\n",
    "        out = x * y #x와 y를 인수로 받고 두 값을 곱해서 반환\n",
    "\n",
    "        return out\n",
    "\n",
    "    def backward(self, dout): # 역전파, 상류에서 넘어온 미분 dout\n",
    "        dx = dout * self.y # x와 y를 바꾼다.\n",
    "        dy = dout * self.x\n",
    "\n",
    "        return dx, dy"
   ],
   "metadata": {
    "collapsed": false,
    "ExecuteTime": {
     "end_time": "2023-07-31T08:50:02.566606Z",
     "start_time": "2023-07-31T08:50:02.559555Z"
    }
   }
  },
  {
   "cell_type": "markdown",
   "source": [
    "해당 함수는 두 개의 입력 x와 y에 대한 곱셈 함수의 역전파(backward propagation)를 구현한 것입니다. 여기서 dout은 이 함수의 출력값에 대한 미분값이며, 즉 이 함수의 출력값(즉, self.x * self.y)이 다른 함수의 입력값으로 사용될 때 이 함수의 미분값(gradient)이 이 함수의 출력값에 대한 미분값으로 곱해져서 전달됩니다. 따라서, backward 함수의 인자로 전달된 dout값은 이전 층으로부터 전달된 gradient 값입니다."
   ],
   "metadata": {
    "collapsed": false
   }
  },
  {
   "cell_type": "markdown",
   "source": [
    "![](./img/12.png)"
   ],
   "metadata": {
    "collapsed": false
   }
  },
  {
   "cell_type": "code",
   "execution_count": 5,
   "outputs": [
    {
     "name": "stdout",
     "output_type": "stream",
     "text": [
      "220.00000000000003\n"
     ]
    }
   ],
   "source": [
    "#  MulLayer 클래스를 사용하여 다음과 같이 순전파 구현\n",
    "apple = 100\n",
    "apple_num = 2\n",
    "tax = 1.1\n",
    "\n",
    "# 계층들\n",
    "mul_apple_layer = MulLayer() # 사과 가격 * 사과 개수\n",
    "mul_tax_layer = MulLayer() # 사과 가격 * 사과 개수 * 소비세\n",
    "\n",
    "# 순전파\n",
    "apple_price = mul_apple_layer.forward(apple, apple_num) # 사과 가격 * 사과 개수\n",
    "price = mul_tax_layer.forward(apple_price, tax) # 사과 가격 * 사과 개수 * 소비세\n",
    "\n",
    "print(price) # 220"
   ],
   "metadata": {
    "collapsed": false,
    "ExecuteTime": {
     "end_time": "2023-07-31T08:47:21.085480Z",
     "start_time": "2023-07-31T08:47:21.062700Z"
    }
   }
  },
  {
   "cell_type": "code",
   "execution_count": 6,
   "outputs": [
    {
     "name": "stdout",
     "output_type": "stream",
     "text": [
      "2.2 110.00000000000001 200\n"
     ]
    }
   ],
   "source": [
    "# 각 변수에 대한 미분은 backward() 메서드를 호출하여 구함\n",
    "\n",
    "# 역전파\n",
    "dprice = 1\n",
    "dapple_price, dtax = mul_tax_layer.backward(dprice) # 사과 가격 * 사과 개수 * 소비세\n",
    "dapple, dapple_num = mul_apple_layer.backward(dapple_price) # 사과 가격 * 사과 개수\n",
    "\n",
    "print(dapple, dapple_num, dtax) # 2.2 110 200"
   ],
   "metadata": {
    "collapsed": false,
    "ExecuteTime": {
     "end_time": "2023-07-31T08:48:05.988514Z",
     "start_time": "2023-07-31T08:48:05.963840Z"
    }
   }
  },
  {
   "cell_type": "markdown",
   "source": [
    "backword() 호출 순서는 foward()때와 반대임. backward()가 받는 인수는 '순전파의 출력에 대한 미분'"
   ],
   "metadata": {
    "collapsed": false
   }
  },
  {
   "cell_type": "markdown",
   "source": [
    "### 5.4.2 덧셈 계층\n",
    "\n",
    "모든 계층은 forward() 순전파, backward() 역전파 라는 공통의 메서드(인터페이스)를 갖도록 수현\n",
    "\n",
    "덧셈 계층을 MultiLayer 클래스로 다음처럼 구현"
   ],
   "metadata": {
    "collapsed": false
   }
  },
  {
   "cell_type": "code",
   "execution_count": 8,
   "outputs": [],
   "source": [
    "class AddLayer:\n",
    "    def __init__(self):\n",
    "        pass\n",
    "\n",
    "    def forward(self, x, y):\n",
    "        out = x + y\n",
    "        return out\n",
    "\n",
    "    def backward(self, dout): # 역전파, 상류에서 넘어온 미분 dout\n",
    "        dx = dout * 1\n",
    "        dy = dout * 1\n",
    "        return dx, dy"
   ],
   "metadata": {
    "collapsed": false,
    "ExecuteTime": {
     "end_time": "2023-07-31T08:52:36.899489Z",
     "start_time": "2023-07-31T08:52:36.869588Z"
    }
   }
  },
  {
   "cell_type": "markdown",
   "source": [
    "\\__init\\__() : pass를 통해 아무 일도 하지 않음\n",
    "\n",
    "forward() : x와 y를 인수로 받고 두 값을 더해 반환\n",
    "\n",
    "backward() : 상류에서 넘어온 미분(dout)을 그대로 하류로 흘림\n",
    "\n",
    "![](./img/13.png)\n",
    "\n",
    "그림 5-17의 계산 그래프 파이썬 구현"
   ],
   "metadata": {
    "collapsed": false
   }
  },
  {
   "cell_type": "code",
   "execution_count": 10,
   "outputs": [
    {
     "name": "stdout",
     "output_type": "stream",
     "text": [
      "price: 715\n",
      "dApple: 2.2\n",
      "dApple_num: 110\n",
      "dOrange: 3.3000000000000003\n",
      "dOrange_num: 165\n",
      "dTax: 650\n"
     ]
    }
   ],
   "source": [
    "apple = 100\n",
    "apple_num = 2\n",
    "orange = 150\n",
    "orange_num = 3\n",
    "tax = 1.1\n",
    "\n",
    "# 계층들\n",
    "mul_apple_layer = MulLayer() # 사과 가격 * 사과 개수\n",
    "mul_orange_layer = MulLayer() # 오렌지 가격 * 오렌지 개수\n",
    "add_apple_orange_layer = AddLayer() # 사과 가격 * 사과 개수 + 오렌지 가격 * 오렌지 개수\n",
    "mul_tax_layer = MulLayer() # (사과 가격 * 사과 개수 + 오렌지 가격 * 오렌지 개수) * 소비세\n",
    "\n",
    "# 순전파\n",
    "apple_price = mul_apple_layer.forward(apple, apple_num) # 사과 가격 * 사과 개수\n",
    "orange_price = mul_orange_layer.forward(orange, orange_num) # 오렌지 가격 * 오렌지 개수\n",
    "all_price = add_apple_orange_layer.forward(apple_price, orange_price) # 사과 가격 * 사과 개수 + 오렌지 가격 * 오렌지 개수\n",
    "price = mul_tax_layer.forward(all_price, tax) # (사과 가격 * 사과 개수 + 오렌지 가격 * 오렌지 개수) * 소비세\n",
    "\n",
    "# 역전파\n",
    "dprice = 1\n",
    "dall_price, dtax = mul_tax_layer.backward(dprice) # (사과 가격 * 사과 개수 + 오렌지 가격 * 오렌지 개수) * 소비세\n",
    "dapple_price, dorange_price = add_apple_orange_layer.backward(dall_price) # 사과 가격 * 사과 개수 + 오렌지 가격 * 오렌지 개수\n",
    "dorange, dorange_num = mul_orange_layer.backward(dorange_price) # 오렌지 가격 * 오렌지 개수\n",
    "dapple, dapple_num = mul_apple_layer.backward(dapple_price) # 사과 가격 * 사과 개수\n",
    "\n",
    "print(\"price:\", int(price)) # 715\n",
    "print(\"dApple:\", dapple) # 2.2\n",
    "print(\"dApple_num:\", int(dapple_num)) # 110\n",
    "print(\"dOrange:\", dorange) # 3.3\n",
    "print(\"dOrange_num:\", int(dorange_num)) # 165\n",
    "print(\"dTax:\", dtax) # 650"
   ],
   "metadata": {
    "collapsed": false,
    "ExecuteTime": {
     "end_time": "2023-07-31T09:01:07.916023Z",
     "start_time": "2023-07-31T09:01:07.901176Z"
    }
   }
  },
  {
   "cell_type": "markdown",
   "source": [
    "## 5.5 활성화 함수 계층 구현하기\n",
    "\n",
    "활성화 함수인 ReLU와 Sigmoid 계층을 구현\n",
    "\n",
    "### 5.5.1 ReLU 계층\n",
    "\n",
    "#### 식 5.7 ReLU 식\n",
    "\n",
    "\\begin{equation*}\n",
    "y = x ( x > 0 )\n",
    "\\end{equation*}\n",
    "\n",
    "\\begin{equation*}\n",
    "y = 0 ( x <= 0 )\n",
    "\\end{equation*}\n",
    "\n",
    "#### 식 5.8 ReLU x에 대한 y 미분 식\n",
    "\n",
    "\\begin{equation*}\n",
    "\\frac{\\partial y}{\\partial x} = 1 ( x > 0 )\n",
    "\\end{equation*}\n",
    "\n",
    "\\begin{equation*}\n",
    "\\frac{\\partial y}{\\partial x} = 0 ( x <= 0 )\n",
    "\\end{equation*}\n",
    "\n",
    "순전파 때 입력인 x가 0보다 크면 역전파는 상류의 값을 그대로 하류로 흘림\n",
    "\n",
    "순전파 때 x가 0 이하면 역전파 때는 하류로 신호를 보내지 않음\n",
    "\n",
    "![](./img/14.png)\n",
    "\n",
    "ReLU 계층을 구현한 코드"
   ],
   "metadata": {
    "collapsed": false
   }
  },
  {
   "cell_type": "code",
   "execution_count": 11,
   "outputs": [],
   "source": [
    "class Relu:\n",
    "    def __init__(self):\n",
    "        self.mask = None # mask는 True/False로 구성된 넘파이 배열\n",
    "\n",
    "    def forward(self, x):\n",
    "        self.mask = (x <= 0) # x가 0 이하면 True, 0보다 크면 False\n",
    "        out = x.copy()\n",
    "        out[self.mask] = 0 # x가 0 이하면 0으로\n",
    "        return out\n",
    "\n",
    "    def backward(self, dout):\n",
    "        dout[self.mask] = 0 # x가 0 이하면 0으로\n",
    "        dx = dout\n",
    "        return dx"
   ],
   "metadata": {
    "collapsed": false,
    "ExecuteTime": {
     "end_time": "2023-07-31T09:07:56.194598Z",
     "start_time": "2023-07-31T09:07:56.164077Z"
    }
   }
  },
  {
   "cell_type": "markdown",
   "source": [
    "Relu 클래스는 mask 인스턴스 변수를 가짐\n",
    "\n",
    "mask는 순전파의 입력인 x의 원소 값이 0 이하인 인덱스는 True, 그 외(0보다 큰 원소)는 False로 유지"
   ],
   "metadata": {
    "collapsed": false
   }
  },
  {
   "cell_type": "code",
   "execution_count": 12,
   "outputs": [
    {
     "name": "stdout",
     "output_type": "stream",
     "text": [
      "[[ 1.  -0.5]\n",
      " [-2.   3. ]]\n"
     ]
    }
   ],
   "source": [
    "import numpy as np\n",
    "x = np.array( [[1.0, -0.5], [-2.0, 3.0]] )\n",
    "print(x)"
   ],
   "metadata": {
    "collapsed": false,
    "ExecuteTime": {
     "end_time": "2023-07-31T09:08:22.791512Z",
     "start_time": "2023-07-31T09:08:22.627284Z"
    }
   }
  },
  {
   "cell_type": "code",
   "execution_count": 13,
   "outputs": [
    {
     "name": "stdout",
     "output_type": "stream",
     "text": [
      "[[False  True]\n",
      " [ True False]]\n"
     ]
    }
   ],
   "source": [
    "mask = (x <= 0)\n",
    "print(mask)"
   ],
   "metadata": {
    "collapsed": false,
    "ExecuteTime": {
     "end_time": "2023-07-31T09:08:33.949397Z",
     "start_time": "2023-07-31T09:08:33.917893Z"
    }
   }
  },
  {
   "cell_type": "code",
   "execution_count": 14,
   "outputs": [
    {
     "name": "stdout",
     "output_type": "stream",
     "text": [
      "[[1. 0.]\n",
      " [0. 3.]]\n"
     ]
    }
   ],
   "source": [
    "out= x.copy()\n",
    "out[mask] = 0\n",
    "print(out)"
   ],
   "metadata": {
    "collapsed": false,
    "ExecuteTime": {
     "end_time": "2023-07-31T09:09:03.052102Z",
     "start_time": "2023-07-31T09:09:03.023781Z"
    }
   }
  },
  {
   "cell_type": "markdown",
   "source": [
    "순전파 때 입력값이 0이면 역전파 때 값은 0이 되어야 함. 그래서 역전파때는 순전파때 만들어둔 mask를 써서 mask 원소가 True인 곳에서 전파된 dout을 0으로 설정\n",
    "\n",
    "ReLU 계층은 전기 회로의 '스위치'에 비유\n",
    "\n",
    "순전파 때 전류가 흐르고 있으면 스위치를 ON, 흐르지 않으면 OFF\n",
    "\n",
    "역전파 때 스위치가 ON이라면 전류가 그대로 흐르고, OFF면 더 이상 흐르지 않음"
   ],
   "metadata": {
    "collapsed": false
   }
  },
  {
   "cell_type": "markdown",
   "source": [
    "### 5.5.2 Sigmoid 계층\n",
    "\n",
    "#### 식 5.9 시그모이드 함수\n",
    "\n",
    "\\begin{equation*}\n",
    "y = \\frac{1}{1 + exp(-x)}\n",
    "\\end{equation*}\n",
    "\n",
    "![](./img/15.png)\n",
    "\n",
    "**1단계** '/' 노드, y = 1 / x를 미분하면 다음식이 됨\n",
    "\n",
    "#### 식 5.10\n",
    "\n",
    "\\begin{equation*}\n",
    "\\frac{\\partial y}{\\partial x} = \\frac{1}{x^{2}}\n",
    "\\end{equation*}\n",
    "\n",
    "\\begin{equation*}\n",
    "= - y^{2}\n",
    "\\end{equation*}\n",
    "\n",
    "역전파 때는 상류의 예측값에 -y\\**2 을 곱해서 하류로 전달\n",
    "\n",
    "**2단계** 상류의 값을 여과 없이 하류로 보냄\n",
    "\n",
    "**3단계** y = exp(x) 연산을 수행\n",
    "\n",
    "#### 식 5.11\n",
    "\n",
    "\\begin{equation*}\n",
    "\\frac{\\partial y}{\\partial x} = exp(x)\n",
    "\\end{equation*}\n",
    "\n",
    "계산 그래프에서는 상류의 순전파 때의 출력(exp(-x))을 곱해 하류로 전파\n",
    "\n",
    "**4단계** y = exp(x) 연산을 수행\n",
    "\n",
    "'X' 노드, 순전파 때의 값을 서로 바꿔 곱함. 이 예에서는 -1을 곱함\n",
    "\n",
    "시그모이드 간소화버전\n",
    "\n",
    "노드를 그룹화하여 Sigmoid 계층의 세세한 내용을 노출하지 않고 입력과 출력에만 집중\n",
    "\n",
    "\\begin{equation*}\n",
    "\\frac{\\partial L}{\\partial y} y^{2} exp(-x) = \\frac{\\partial L}{\\partial y} \\frac{1} { (1+exp(-x))^{2}} exp(-x)\n",
    "\\end{equation*}\n",
    "\n",
    "\\begin{equation*}\n",
    "= \\frac{\\partial L}{\\partial y} \\frac{1} { 1+exp(-x)} \\frac{exp(-x)} {1+exp(-x)}\n",
    "\\end{equation*}\n",
    "\n",
    "\\begin{equation*}\n",
    "= \\frac{\\partial L}{\\partial y} y (1-y)\n",
    "\\end{equation*}\n",
    "\n",
    "Sigmoid 계층의 계산 그래프: 순전파의 출력 y만으로 역전파를 계산\n",
    "\n",
    "Sigmoid 계층을 파이썬으로 구현"
   ],
   "metadata": {
    "collapsed": false
   }
  }
 ],
 "metadata": {
  "kernelspec": {
   "display_name": "Python 3",
   "language": "python",
   "name": "python3"
  },
  "language_info": {
   "codemirror_mode": {
    "name": "ipython",
    "version": 2
   },
   "file_extension": ".py",
   "mimetype": "text/x-python",
   "name": "python",
   "nbconvert_exporter": "python",
   "pygments_lexer": "ipython2",
   "version": "2.7.6"
  }
 },
 "nbformat": 4,
 "nbformat_minor": 0
}
