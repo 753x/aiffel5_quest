{
 "cells": [
  {
   "cell_type": "markdown",
   "metadata": {},
   "source": [
    "# 밑바닥부터 시작하는 딥러닝\n",
    "\n",
    "# Deep Learning from Scratch\n",
    "\n",
    "## Github \n",
    "\n",
    "https://github.com/WegraLee/deep-learning-from-scratch\n",
    "\n",
    "## 목차\n",
    "\n",
    "http://nbviewer.jupyter.org/github/SDRLurker/deep-learning/blob/master/%EB%AA%A9%EC%B0%A8.ipynb"
   ]
  },
  {
   "cell_type": "markdown",
   "metadata": {},
   "source": [
    "# 3 신경망\n",
    "퍼셉트론 좋은 소식: 복잡한 함수도 표현가능\n",
    "\n",
    "퍼셉트론 나쁜 소식: 가중치를 설정하는 작업을 사람이 수동으로 함\n",
    "\n",
    "신경망은 이 나쁜 소식을 해결함."
   ]
  },
  {
   "cell_type": "markdown",
   "metadata": {},
   "source": [
    "## 3.1 퍼셉트론에서 신경망으로\n",
    "\n",
    "### 3.1.1 신경망의 예\n",
    "\n",
    "입력층, 은닉층, 출력층\n",
    "\n",
    "신경망의 예 그림"
   ]
  },
  {
   "cell_type": "code",
   "execution_count": 24,
   "metadata": {
    "collapsed": false,
    "ExecuteTime": {
     "end_time": "2023-07-27T07:28:58.530474Z",
     "start_time": "2023-07-27T07:28:58.527466Z"
    }
   },
   "outputs": [
    {
     "ename": "FileNotFoundError",
     "evalue": "[Errno 2] No such file or directory: 'neurons.png'",
     "output_type": "error",
     "traceback": [
      "\u001B[0;31m---------------------------------------------------------------------------\u001B[0m",
      "\u001B[0;31mFileNotFoundError\u001B[0m                         Traceback (most recent call last)",
      "Cell \u001B[0;32mIn[24], line 2\u001B[0m\n\u001B[1;32m      1\u001B[0m \u001B[38;5;28;01mfrom\u001B[39;00m \u001B[38;5;21;01mIPython\u001B[39;00m\u001B[38;5;21;01m.\u001B[39;00m\u001B[38;5;21;01mdisplay\u001B[39;00m \u001B[38;5;28;01mimport\u001B[39;00m Image, display\n\u001B[0;32m----> 2\u001B[0m display(\u001B[43mImage\u001B[49m\u001B[43m(\u001B[49m\u001B[43mfilename\u001B[49m\u001B[38;5;241;43m=\u001B[39;49m\u001B[38;5;124;43m'\u001B[39;49m\u001B[38;5;124;43mneurons.png\u001B[39;49m\u001B[38;5;124;43m'\u001B[39;49m\u001B[43m,\u001B[49m\u001B[43m \u001B[49m\u001B[43membed\u001B[49m\u001B[38;5;241;43m=\u001B[39;49m\u001B[38;5;28;43;01mTrue\u001B[39;49;00m\u001B[43m)\u001B[49m)\n",
      "File \u001B[0;32m~/anaconda3/lib/python3.10/site-packages/IPython/core/display.py:970\u001B[0m, in \u001B[0;36mImage.__init__\u001B[0;34m(self, data, url, filename, format, embed, width, height, retina, unconfined, metadata, alt)\u001B[0m\n\u001B[1;32m    968\u001B[0m \u001B[38;5;28mself\u001B[39m\u001B[38;5;241m.\u001B[39munconfined \u001B[38;5;241m=\u001B[39m unconfined\n\u001B[1;32m    969\u001B[0m \u001B[38;5;28mself\u001B[39m\u001B[38;5;241m.\u001B[39malt \u001B[38;5;241m=\u001B[39m alt\n\u001B[0;32m--> 970\u001B[0m \u001B[38;5;28;43msuper\u001B[39;49m\u001B[43m(\u001B[49m\u001B[43mImage\u001B[49m\u001B[43m,\u001B[49m\u001B[43m \u001B[49m\u001B[38;5;28;43mself\u001B[39;49m\u001B[43m)\u001B[49m\u001B[38;5;241;43m.\u001B[39;49m\u001B[38;5;21;43m__init__\u001B[39;49m\u001B[43m(\u001B[49m\u001B[43mdata\u001B[49m\u001B[38;5;241;43m=\u001B[39;49m\u001B[43mdata\u001B[49m\u001B[43m,\u001B[49m\u001B[43m \u001B[49m\u001B[43murl\u001B[49m\u001B[38;5;241;43m=\u001B[39;49m\u001B[43murl\u001B[49m\u001B[43m,\u001B[49m\u001B[43m \u001B[49m\u001B[43mfilename\u001B[49m\u001B[38;5;241;43m=\u001B[39;49m\u001B[43mfilename\u001B[49m\u001B[43m,\u001B[49m\n\u001B[1;32m    971\u001B[0m \u001B[43m        \u001B[49m\u001B[43mmetadata\u001B[49m\u001B[38;5;241;43m=\u001B[39;49m\u001B[43mmetadata\u001B[49m\u001B[43m)\u001B[49m\n\u001B[1;32m    973\u001B[0m \u001B[38;5;28;01mif\u001B[39;00m \u001B[38;5;28mself\u001B[39m\u001B[38;5;241m.\u001B[39mwidth \u001B[38;5;129;01mis\u001B[39;00m \u001B[38;5;28;01mNone\u001B[39;00m \u001B[38;5;129;01mand\u001B[39;00m \u001B[38;5;28mself\u001B[39m\u001B[38;5;241m.\u001B[39mmetadata\u001B[38;5;241m.\u001B[39mget(\u001B[38;5;124m'\u001B[39m\u001B[38;5;124mwidth\u001B[39m\u001B[38;5;124m'\u001B[39m, {}):\n\u001B[1;32m    974\u001B[0m     \u001B[38;5;28mself\u001B[39m\u001B[38;5;241m.\u001B[39mwidth \u001B[38;5;241m=\u001B[39m metadata[\u001B[38;5;124m'\u001B[39m\u001B[38;5;124mwidth\u001B[39m\u001B[38;5;124m'\u001B[39m]\n",
      "File \u001B[0;32m~/anaconda3/lib/python3.10/site-packages/IPython/core/display.py:327\u001B[0m, in \u001B[0;36mDisplayObject.__init__\u001B[0;34m(self, data, url, filename, metadata)\u001B[0m\n\u001B[1;32m    324\u001B[0m \u001B[38;5;28;01melif\u001B[39;00m \u001B[38;5;28mself\u001B[39m\u001B[38;5;241m.\u001B[39mmetadata \u001B[38;5;129;01mis\u001B[39;00m \u001B[38;5;28;01mNone\u001B[39;00m:\n\u001B[1;32m    325\u001B[0m     \u001B[38;5;28mself\u001B[39m\u001B[38;5;241m.\u001B[39mmetadata \u001B[38;5;241m=\u001B[39m {}\n\u001B[0;32m--> 327\u001B[0m \u001B[38;5;28;43mself\u001B[39;49m\u001B[38;5;241;43m.\u001B[39;49m\u001B[43mreload\u001B[49m\u001B[43m(\u001B[49m\u001B[43m)\u001B[49m\n\u001B[1;32m    328\u001B[0m \u001B[38;5;28mself\u001B[39m\u001B[38;5;241m.\u001B[39m_check_data()\n",
      "File \u001B[0;32m~/anaconda3/lib/python3.10/site-packages/IPython/core/display.py:1005\u001B[0m, in \u001B[0;36mImage.reload\u001B[0;34m(self)\u001B[0m\n\u001B[1;32m   1003\u001B[0m \u001B[38;5;124;03m\"\"\"Reload the raw data from file or URL.\"\"\"\u001B[39;00m\n\u001B[1;32m   1004\u001B[0m \u001B[38;5;28;01mif\u001B[39;00m \u001B[38;5;28mself\u001B[39m\u001B[38;5;241m.\u001B[39membed:\n\u001B[0;32m-> 1005\u001B[0m     \u001B[38;5;28;43msuper\u001B[39;49m\u001B[43m(\u001B[49m\u001B[43mImage\u001B[49m\u001B[43m,\u001B[49m\u001B[38;5;28;43mself\u001B[39;49m\u001B[43m)\u001B[49m\u001B[38;5;241;43m.\u001B[39;49m\u001B[43mreload\u001B[49m\u001B[43m(\u001B[49m\u001B[43m)\u001B[49m\n\u001B[1;32m   1006\u001B[0m     \u001B[38;5;28;01mif\u001B[39;00m \u001B[38;5;28mself\u001B[39m\u001B[38;5;241m.\u001B[39mretina:\n\u001B[1;32m   1007\u001B[0m         \u001B[38;5;28mself\u001B[39m\u001B[38;5;241m.\u001B[39m_retina_shape()\n",
      "File \u001B[0;32m~/anaconda3/lib/python3.10/site-packages/IPython/core/display.py:353\u001B[0m, in \u001B[0;36mDisplayObject.reload\u001B[0;34m(self)\u001B[0m\n\u001B[1;32m    351\u001B[0m \u001B[38;5;28;01mif\u001B[39;00m \u001B[38;5;28mself\u001B[39m\u001B[38;5;241m.\u001B[39mfilename \u001B[38;5;129;01mis\u001B[39;00m \u001B[38;5;129;01mnot\u001B[39;00m \u001B[38;5;28;01mNone\u001B[39;00m:\n\u001B[1;32m    352\u001B[0m     encoding \u001B[38;5;241m=\u001B[39m \u001B[38;5;28;01mNone\u001B[39;00m \u001B[38;5;28;01mif\u001B[39;00m \u001B[38;5;124m\"\u001B[39m\u001B[38;5;124mb\u001B[39m\u001B[38;5;124m\"\u001B[39m \u001B[38;5;129;01min\u001B[39;00m \u001B[38;5;28mself\u001B[39m\u001B[38;5;241m.\u001B[39m_read_flags \u001B[38;5;28;01melse\u001B[39;00m \u001B[38;5;124m\"\u001B[39m\u001B[38;5;124mutf-8\u001B[39m\u001B[38;5;124m\"\u001B[39m\n\u001B[0;32m--> 353\u001B[0m     \u001B[38;5;28;01mwith\u001B[39;00m \u001B[38;5;28;43mopen\u001B[39;49m\u001B[43m(\u001B[49m\u001B[38;5;28;43mself\u001B[39;49m\u001B[38;5;241;43m.\u001B[39;49m\u001B[43mfilename\u001B[49m\u001B[43m,\u001B[49m\u001B[43m \u001B[49m\u001B[38;5;28;43mself\u001B[39;49m\u001B[38;5;241;43m.\u001B[39;49m\u001B[43m_read_flags\u001B[49m\u001B[43m,\u001B[49m\u001B[43m \u001B[49m\u001B[43mencoding\u001B[49m\u001B[38;5;241;43m=\u001B[39;49m\u001B[43mencoding\u001B[49m\u001B[43m)\u001B[49m \u001B[38;5;28;01mas\u001B[39;00m f:\n\u001B[1;32m    354\u001B[0m         \u001B[38;5;28mself\u001B[39m\u001B[38;5;241m.\u001B[39mdata \u001B[38;5;241m=\u001B[39m f\u001B[38;5;241m.\u001B[39mread()\n\u001B[1;32m    355\u001B[0m \u001B[38;5;28;01melif\u001B[39;00m \u001B[38;5;28mself\u001B[39m\u001B[38;5;241m.\u001B[39murl \u001B[38;5;129;01mis\u001B[39;00m \u001B[38;5;129;01mnot\u001B[39;00m \u001B[38;5;28;01mNone\u001B[39;00m:\n\u001B[1;32m    356\u001B[0m     \u001B[38;5;66;03m# Deferred import\u001B[39;00m\n",
      "\u001B[0;31mFileNotFoundError\u001B[0m: [Errno 2] No such file or directory: 'neurons.png'"
     ]
    }
   ],
   "source": [
    "from IPython.display import Image, display\n",
    "display(Image(filename='neurons.png', embed=True))"
   ]
  },
  {
   "cell_type": "markdown",
   "metadata": {},
   "source": [
    "위의 그림은 3층으로 구성되지만 가중치를 갖는 층은 2개뿐이기 때문에 '2층 신경망'임.\n",
    "\n",
    "출처: http://happycontrol.tistory.com/entry/인공신경망1"
   ]
  },
  {
   "cell_type": "markdown",
   "metadata": {},
   "source": [
    "### 3.1.2 퍼셉트론 복습\n",
    "x1, x2 두 신호를 입력받아 y를 출력하는 퍼셉트론\n",
    "\\begin{equation*}\n",
    "y = 0 (b + w_1 x_1 + w_2 x_2 <= 0)\n",
    "\\end{equation*}\n",
    "\\begin{equation*}\n",
    "y = 1 (b + w_1 x_1 + w_2 x_2 > 0)\n",
    "\\end{equation*}\n",
    "\n",
    "편향: 뉴런이 얼마나 쉽게 활성화되느냐를 제어\n",
    "\n",
    "가중치: 신호의 영향력을 제어\n",
    "\n",
    "편향을 명시한 퍼셉트론(b = -1.5, w1 = 1, w2 = 1)"
   ]
  },
  {
   "cell_type": "code",
   "execution_count": null,
   "metadata": {
    "collapsed": false,
    "ExecuteTime": {
     "start_time": "2023-07-27T07:27:49.964800Z"
    }
   },
   "outputs": [],
   "source": [
    "display(Image(filename='perceptron.png', embed=True))"
   ]
  },
  {
   "cell_type": "markdown",
   "metadata": {},
   "source": [
    "\\begin{equation*}\n",
    "y = h(b + w_1 x_1 + w_2 x_2)\n",
    "\\end{equation*}\n",
    "입력신호의 총합이 h(x)를 거쳐 그 변환된 값이 y의 출력이 됨\n",
    "\n",
    "\\begin{equation*}\n",
    "h(x) = 0 (x <=0)\n",
    "\\end{equation*}\n",
    "\\begin{equation*}\n",
    "h(x) = 1 (x > 0)\n",
    "\\end{equation*}\n",
    "\n",
    "h(x) 함수는 입력이 0을 넘으면 1을 돌려주고 그렇지 않으면 0을 돌려줌"
   ]
  },
  {
   "cell_type": "markdown",
   "metadata": {
    "collapsed": true
   },
   "source": [
    "### 3.1.3 활성화 함수의 등장\n",
    "활성화 함수 h(x): 입력 신호의 총합을 출력 신호로 변환하는 함수. 활성화를 일으키는 지 정하는 역할.\n",
    "\n",
    "\\begin{equation*}\n",
    "a = b + w_1 x_1 + w_2 x_2\n",
    "\\end{equation*}\n",
    "가중치가 달린 입력 신호와 편향의 총합을 계산\n",
    "\n",
    "\\begin{equation*}\n",
    "y = h(a)\n",
    "\\end{equation*}\n",
    "a를 h(a) 함수에 넣어 y를 출력하는 흐름"
   ]
  },
  {
   "cell_type": "code",
   "execution_count": 3,
   "metadata": {
    "collapsed": true,
    "ExecuteTime": {
     "end_time": "2023-07-27T07:27:51.269852Z",
     "start_time": "2023-07-27T07:27:49.976613Z"
    }
   },
   "outputs": [],
   "source": [
    "# 그림 3-5!"
   ]
  },
  {
   "cell_type": "markdown",
   "metadata": {},
   "source": [
    "단순 퍼셉트론: 단층 네트워크에서 계단함수를 활성화 함수로 사용한 모델\n",
    "다층 퍼셉트론: 신경망(여러 층으로 구성되고 시그모이드 함수 등의 활성화 함수를 사용하는 네트워크)"
   ]
  },
  {
   "cell_type": "markdown",
   "metadata": {
    "ExecuteTime": {
     "end_time": "2023-07-27T07:56:39.907461Z",
     "start_time": "2023-07-27T07:56:38.726986Z"
    }
   },
   "source": [
    "## 3.2 활성화 함수\n",
    "계단 함수(step function): 임계값을 경계로 출력이 바뀜\n",
    "\n",
    "\"퍼셉트론에서는 활성화 함수로 계단 함수를 이용한다\" 라고 할 수 있음"
   ],
   "outputs": [],
   "execution_count": 11
  },
  {
   "cell_type": "markdown",
   "metadata": {},
   "source": [
    "### 3.2.1 시그모이드 함수\n",
    "시그모이드 식\n",
    "\\begin{equation*}\n",
    "h(x) = \\frac{1}{1 + exp(-x)} \n",
    "\\end{equation*}\n",
    "\n",
    "exp(-x)는 e<sup>-x</sup>, e는 자연상수로 2.7182...\n",
    "\n",
    "신경망에서는 활성화 함수로 시그모이드 함수를 이용하여 신호를 변환.\n",
    "\n",
    "변환된 신호를 다음 뉴런에 전달."
   ]
  },
  {
   "cell_type": "markdown",
   "metadata": {
    "ExecuteTime": {
     "end_time": "2023-07-27T07:56:40.478050Z",
     "start_time": "2023-07-27T07:56:38.744930Z"
    }
   },
   "source": [
    "### 3.2.2 계단 함수 구현하기\n",
    "계단 함수: 입력이 0을 넘으면 1을 출력, 그 외에는 0을 출력"
   ],
   "outputs": [],
   "execution_count": 12
  },
  {
   "cell_type": "code",
   "execution_count": 4,
   "metadata": {
    "collapsed": true,
    "ExecuteTime": {
     "end_time": "2023-07-27T07:27:51.274921Z",
     "start_time": "2023-07-27T07:27:50.019878Z"
    }
   },
   "outputs": [],
   "source": [
    "def step_function(x):\n",
    "    if x > 0:\n",
    "        return 1\n",
    "    else:\n",
    "        return 0"
   ]
  },
  {
   "cell_type": "markdown",
   "metadata": {
    "ExecuteTime": {
     "end_time": "2023-07-27T07:56:40.482651Z",
     "start_time": "2023-07-27T07:56:38.764047Z"
    }
   },
   "source": [
    "위 구현에서 인수 x는 실수(부동소수점)만 받아들임.\n",
    "\n",
    "넘파이 배열을 인수로 넣을 수 없음."
   ],
   "outputs": [
    {
     "data": {
      "text/plain": "array([-1.,  1.,  2.])"
     },
     "execution_count": 13,
     "metadata": {},
     "output_type": "execute_result"
    }
   ],
   "execution_count": 13
  },
  {
   "cell_type": "code",
   "execution_count": 14,
   "metadata": {
    "collapsed": true,
    "ExecuteTime": {
     "end_time": "2023-07-27T07:56:40.482903Z",
     "start_time": "2023-07-27T07:56:38.769501Z"
    }
   },
   "outputs": [
    {
     "data": {
      "text/plain": "array([False,  True,  True])"
     },
     "execution_count": 14,
     "metadata": {},
     "output_type": "execute_result"
    }
   ],
   "source": [
    "def step_function(x):\n",
    "    y = x > 0\n",
    "    return y.astype(np.int)"
   ]
  },
  {
   "cell_type": "markdown",
   "metadata": {},
   "source": [
    "위 구현은 넘파이의 트릭을 사용하여 구현. 넘파이 배열도 인수로 넣을 수 있음."
   ]
  },
  {
   "cell_type": "code",
   "execution_count": 15,
   "metadata": {
    "collapsed": false,
    "ExecuteTime": {
     "end_time": "2023-07-27T07:56:40.513061Z",
     "start_time": "2023-07-27T07:56:38.784910Z"
    }
   },
   "outputs": [
    {
     "name": "stderr",
     "output_type": "stream",
     "text": [
      "/var/folders/jd/qspsq8mn2db0y77ryp1w10_c0000gp/T/ipykernel_38687/1870009403.py:1: DeprecationWarning: `np.int` is a deprecated alias for the builtin `int`. To silence this warning, use `int` by itself. Doing this will not modify any behavior and is safe. When replacing `np.int`, you may wish to use e.g. `np.int64` or `np.int32` to specify the precision. If you wish to review your current use, check the release note link for additional information.\n",
      "Deprecated in NumPy 1.20; for more details and guidance: https://numpy.org/devdocs/release/1.20.0-notes.html#deprecations\n",
      "  y = y.astype(np.int)\n"
     ]
    },
    {
     "data": {
      "text/plain": "array([0, 1, 1])"
     },
     "execution_count": 15,
     "metadata": {},
     "output_type": "execute_result"
    }
   ],
   "source": [
    "import numpy as np\n",
    "x = np.array([-1.0, 1.0, 2.0])\n",
    "x"
   ]
  },
  {
   "cell_type": "code",
   "execution_count": 7,
   "metadata": {
    "collapsed": false,
    "ExecuteTime": {
     "end_time": "2023-07-27T07:27:51.390069Z",
     "start_time": "2023-07-27T07:27:50.130092Z"
    }
   },
   "outputs": [
    {
     "data": {
      "text/plain": "array([False,  True,  True])"
     },
     "execution_count": 7,
     "metadata": {},
     "output_type": "execute_result"
    }
   ],
   "source": [
    "y = x > 0\n",
    "y"
   ]
  },
  {
   "cell_type": "markdown",
   "metadata": {},
   "source": [
    "넘파이 배열에서 부등호 연산을 수행하면 원소 각각에 부등호 연산을 수행한 bool배열이 생성\n",
    "\n",
    "배열 x의 원소 각각이 0보다 크면 True, 0 이하면 False로 변환한 새로운 배열 y가 생성"
   ]
  },
  {
   "cell_type": "code",
   "execution_count": 16,
   "metadata": {
    "collapsed": false,
    "ExecuteTime": {
     "end_time": "2023-07-27T07:56:40.543666Z",
     "start_time": "2023-07-27T07:56:38.856984Z"
    }
   },
   "outputs": [
    {
     "name": "stderr",
     "output_type": "stream",
     "text": [
      "/var/folders/jd/qspsq8mn2db0y77ryp1w10_c0000gp/T/ipykernel_38687/2880218001.py:7: DeprecationWarning: `np.int` is a deprecated alias for the builtin `int`. To silence this warning, use `int` by itself. Doing this will not modify any behavior and is safe. When replacing `np.int`, you may wish to use e.g. `np.int64` or `np.int32` to specify the precision. If you wish to review your current use, check the release note link for additional information.\n",
      "Deprecated in NumPy 1.20; for more details and guidance: https://numpy.org/devdocs/release/1.20.0-notes.html#deprecations\n",
      "  return np.array(x > 0, dtype=np.int)\n"
     ]
    },
    {
     "data": {
      "text/plain": "<Figure size 640x480 with 1 Axes>",
      "image/png": "[encoded data removed]"
     },
     "metadata": {},
     "output_type": "display_data"
    }
   ],
   "source": [
    "y = y.astype(np.int)\n",
    "y"
   ]
  },
  {
   "cell_type": "markdown",
   "metadata": {},
   "source": [
    "astype() 메서드: 넘파이 배열의 자료형을 변환\n",
    "\n",
    "파이썬에서는 bool을 int로 변환하면 True는 1로, False는 0으로 변환"
   ]
  },
  {
   "cell_type": "markdown",
   "metadata": {
    "ExecuteTime": {
     "end_time": "2023-07-27T07:56:40.543839Z",
     "start_time": "2023-07-27T07:56:38.960096Z"
    }
   },
   "source": [
    "### 3.2.3 계단 함수의 그래프\n",
    "계단 함수: 입력이 0을 넘으면 1을 출력, 그 외에는 0을 출력"
   ],
   "outputs": [],
   "execution_count": 17
  },
  {
   "cell_type": "code",
   "execution_count": 9,
   "metadata": {
    "collapsed": false,
    "ExecuteTime": {
     "end_time": "2023-07-27T07:27:51.523130Z",
     "start_time": "2023-07-27T07:27:50.142741Z"
    }
   },
   "outputs": [
    {
     "name": "stderr",
     "output_type": "stream",
     "text": [
      "/var/folders/jd/qspsq8mn2db0y77ryp1w10_c0000gp/T/ipykernel_35276/372113304.py:7: DeprecationWarning: `np.int` is a deprecated alias for the builtin `int`. To silence this warning, use `int` by itself. Doing this will not modify any behavior and is safe. When replacing `np.int`, you may wish to use e.g. `np.int64` or `np.int32` to specify the precision. If you wish to review your current use, check the release note link for additional information.\n",
      "Deprecated in NumPy 1.20; for more details and guidance: https://numpy.org/devdocs/release/1.20.0-notes.html#deprecations\n",
      "  return np.array(x > 0, dtype=np.int)\n"
     ]
    },
    {
     "data": {
      "text/plain": "<Figure size 640x480 with 1 Axes>",
      "image/png": "[encoded data removed]"
     },
     "metadata": {},
     "output_type": "display_data"
    }
   ],
   "source": [
    "%matplotlib inline \n",
    "\n",
    "import numpy as np\n",
    "import matplotlib.pylab as plt\n",
    "\n",
    "def step_function(x):\n",
    "    return np.array(x > 0, dtype=np.int)\n",
    "\n",
    "x = np.arange(-5.0, 5.0, 0.1)\n",
    "y = step_function(x)\n",
    "plt.plot(x, y)\n",
    "plt.ylim(-0.1, 1.1) # y축의 범위 지정\n",
    "plt.show()"
   ]
  },
  {
   "cell_type": "markdown",
   "metadata": {
    "ExecuteTime": {
     "end_time": "2023-07-27T07:56:40.564031Z",
     "start_time": "2023-07-27T07:56:38.964430Z"
    }
   },
   "source": [
    "### 3.2.4 시그모이드 함수 구현하기"
   ],
   "outputs": [
    {
     "data": {
      "text/plain": "array([0.26894142, 0.73105858, 0.88079708])"
     },
     "execution_count": 18,
     "metadata": {},
     "output_type": "execute_result"
    }
   ],
   "execution_count": 18
  },
  {
   "cell_type": "code",
   "execution_count": 10,
   "metadata": {
    "collapsed": true,
    "ExecuteTime": {
     "end_time": "2023-07-27T07:27:51.523443Z",
     "start_time": "2023-07-27T07:27:50.839057Z"
    }
   },
   "outputs": [],
   "source": [
    "def sigmoid(x):\n",
    "    return 1 / (1 + np.exp(-x))"
   ]
  },
  {
   "cell_type": "markdown",
   "metadata": {
    "ExecuteTime": {
     "end_time": "2023-07-27T07:56:40.564343Z",
     "start_time": "2023-07-27T07:56:38.972970Z"
    }
   },
   "source": [
    "np.exp(-x)는 exp(-x) 수식에 해당. 인수 x가 넘파이 배열이어도 올바른 결과가 나옴"
   ],
   "outputs": [
    {
     "data": {
      "text/plain": "array([2., 3., 4.])"
     },
     "execution_count": 19,
     "metadata": {},
     "output_type": "execute_result"
    }
   ],
   "execution_count": 19
  },
  {
   "cell_type": "code",
   "execution_count": 20,
   "metadata": {
    "collapsed": false,
    "ExecuteTime": {
     "end_time": "2023-07-27T07:56:40.564543Z",
     "start_time": "2023-07-27T07:56:38.976079Z"
    }
   },
   "outputs": [
    {
     "data": {
      "text/plain": "array([1.        , 0.5       , 0.33333333])"
     },
     "execution_count": 20,
     "metadata": {},
     "output_type": "execute_result"
    }
   ],
   "source": [
    "x = np.array([-1.0, 1.0, 2.0])\n",
    "sigmoid(x)"
   ]
  },
  {
   "cell_type": "markdown",
   "metadata": {},
   "source": [
    "브로드캐스트: 넘파이 배열과 스칼라 값의 연산을 넘파이 배열의 원소 각각과 스칼라 값의 연산으로 바꿔 수행"
   ]
  },
  {
   "cell_type": "code",
   "execution_count": 12,
   "metadata": {
    "collapsed": false,
    "ExecuteTime": {
     "end_time": "2023-07-27T07:27:51.523956Z",
     "start_time": "2023-07-27T07:27:50.847552Z"
    }
   },
   "outputs": [
    {
     "data": {
      "text/plain": "array([2., 3., 4.])"
     },
     "execution_count": 12,
     "metadata": {},
     "output_type": "execute_result"
    }
   ],
   "source": [
    "t = np.array([1.0, 2.0, 3.0])\n",
    "1.0 + t"
   ]
  },
  {
   "cell_type": "code",
   "execution_count": 21,
   "metadata": {
    "collapsed": false,
    "ExecuteTime": {
     "end_time": "2023-07-27T07:56:40.596588Z",
     "start_time": "2023-07-27T07:56:38.980944Z"
    }
   },
   "outputs": [
    {
     "data": {
      "text/plain": "<Figure size 640x480 with 1 Axes>",
      "image/png": "[encoded data removed]"
     },
     "metadata": {},
     "output_type": "display_data"
    }
   ],
   "source": [
    "1.0 / t"
   ]
  },
  {
   "cell_type": "markdown",
   "metadata": {},
   "source": [
    "np.exp(-x)가 넘파이 배열을 반환하기 때문에 1 / 1 + np.exp(-x))도 넘파이 배열의 각 원소에 연산을 수행한 결과를 냄"
   ]
  },
  {
   "cell_type": "markdown",
   "metadata": {},
   "source": [
    "시그모이드 함수 그래프"
   ]
  },
  {
   "cell_type": "code",
   "execution_count": 22,
   "metadata": {
    "collapsed": false,
    "ExecuteTime": {
     "end_time": "2023-07-27T07:56:40.618609Z",
     "start_time": "2023-07-27T07:56:39.079734Z"
    }
   },
   "outputs": [
    {
     "name": "stderr",
     "output_type": "stream",
     "text": [
      "/var/folders/jd/qspsq8mn2db0y77ryp1w10_c0000gp/T/ipykernel_38687/2880218001.py:7: DeprecationWarning: `np.int` is a deprecated alias for the builtin `int`. To silence this warning, use `int` by itself. Doing this will not modify any behavior and is safe. When replacing `np.int`, you may wish to use e.g. `np.int64` or `np.int32` to specify the precision. If you wish to review your current use, check the release note link for additional information.\n",
      "Deprecated in NumPy 1.20; for more details and guidance: https://numpy.org/devdocs/release/1.20.0-notes.html#deprecations\n",
      "  return np.array(x > 0, dtype=np.int)\n"
     ]
    },
    {
     "data": {
      "text/plain": "<Figure size 640x480 with 1 Axes>",
      "image/png": "[encoded data removed]"
     },
     "metadata": {},
     "output_type": "display_data"
    }
   ],
   "source": [
    "x = np.arange(-5.0, 5.0, 0.1)\n",
    "y = sigmoid(x)\n",
    "plt.plot(x, y)\n",
    "plt.ylim(-0.1, 1.1) # y축의 범위 지정\n",
    "plt.show()"
   ]
  },
  {
   "cell_type": "markdown",
   "metadata": {},
   "source": [
    "시그모이드(sigmoid): 'S자 모양'이라는 뜻"
   ]
  },
  {
   "cell_type": "markdown",
   "metadata": {},
   "source": [
    "### 3.2.5 시그모이드 함수와 계단 함수 비교\n",
    "계단 함수(점선)와 시그모이드 함수(실선)"
   ]
  },
  {
   "cell_type": "code",
   "execution_count": 15,
   "metadata": {
    "collapsed": false,
    "ExecuteTime": {
     "end_time": "2023-07-27T07:27:51.525270Z",
     "start_time": "2023-07-27T07:27:50.954774Z"
    }
   },
   "outputs": [
    {
     "name": "stderr",
     "output_type": "stream",
     "text": [
      "/var/folders/jd/qspsq8mn2db0y77ryp1w10_c0000gp/T/ipykernel_35276/372113304.py:7: DeprecationWarning: `np.int` is a deprecated alias for the builtin `int`. To silence this warning, use `int` by itself. Doing this will not modify any behavior and is safe. When replacing `np.int`, you may wish to use e.g. `np.int64` or `np.int32` to specify the precision. If you wish to review your current use, check the release note link for additional information.\n",
      "Deprecated in NumPy 1.20; for more details and guidance: https://numpy.org/devdocs/release/1.20.0-notes.html#deprecations\n",
      "  return np.array(x > 0, dtype=np.int)\n"
     ]
    },
    {
     "data": {
      "text/plain": "<Figure size 640x480 with 1 Axes>",
      "image/png": "[encoded data removed]"
     },
     "metadata": {},
     "output_type": "display_data"
    }
   ],
   "source": [
    "x = np.arange(-5.0, 5.0, 0.1)\n",
    "y1 = sigmoid(x)\n",
    "y2 = step_function(x)\n",
    "\n",
    "plt.plot(x, y1, label=\"sigmoid\")\n",
    "plt.plot(x, y2, linestyle=\"--\", label=\"step_function\")\n",
    "plt.xlabel(\"X\") # x축 이름\n",
    "plt.ylabel(\"y\") # y축 이름\n",
    "plt.ylim(-0.1, 1.1)\n",
    "plt.show()"
   ]
  },
  {
   "cell_type": "markdown",
   "metadata": {
    "ExecuteTime": {
     "end_time": "2023-07-27T07:56:40.618771Z",
     "start_time": "2023-07-27T07:56:39.173511Z"
    }
   },
   "source": [
    "계단함수: 0과 1 하나만 돌려줌.\n",
    "\n",
    "시그모이드 함수: 연속적인 실수가 흐름.\n",
    "\n",
    "공통점: 입력이 작을 때는 출력은 0에 가깝고 커지면 출력이 1에 가까워짐. 출력은 0에서 1사이."
   ],
   "outputs": [],
   "execution_count": 23
  },
  {
   "cell_type": "markdown",
   "metadata": {},
   "source": [
    "### 3.2.6 비선형 함수\n",
    "계단 함수와 시그모이드 함수 모두 비선형 함수\n",
    "\n",
    "선형함수: 출력이 입력의 상수배만큼 변하는 함수. f(x) = ax + b\n",
    "\n",
    "비선형함수: 선형이 아닌 함수.\n",
    "\n",
    "선형함수의 문제는 '은닉층이 없는 네트워크'로 똑같은 기능을 할 수 있음.\n",
    "\n",
    "층을 쌓는 혜택을 얻고 싶다면 활성화 함수로 반드시 비선형함수를 사용해야 함."
   ]
  },
  {
   "cell_type": "markdown",
   "metadata": {
    "ExecuteTime": {
     "end_time": "2023-07-27T07:56:40.651333Z",
     "start_time": "2023-07-27T07:56:39.181881Z"
    }
   },
   "source": [
    "### 3.2.7 ReLU\n",
    "ReLU(Rectified Linear Unit): 입력이 0을 넘으면 그 입력 그대로 출력. 0 이하면 0을 출력하는 함수."
   ],
   "outputs": [
    {
     "data": {
      "text/plain": "<Figure size 640x480 with 1 Axes>",
      "image/png": "[encoded data removed]"
     },
     "metadata": {},
     "output_type": "display_data"
    }
   ],
   "execution_count": 24
  },
  {
   "cell_type": "code",
   "execution_count": 16,
   "metadata": {
    "collapsed": true,
    "ExecuteTime": {
     "end_time": "2023-07-27T07:27:51.525383Z",
     "start_time": "2023-07-27T07:27:51.045683Z"
    }
   },
   "outputs": [],
   "source": [
    "def relu(x):\n",
    "    return np.maximum(0, x)"
   ]
  },
  {
   "cell_type": "markdown",
   "metadata": {},
   "source": [
    "넘파이 maximum 함수: 두 입력 중 큰 값을 선택해 반환하는 함수\n",
    "\n",
    "ReLU 함수의 그래프"
   ]
  },
  {
   "cell_type": "code",
   "execution_count": 17,
   "metadata": {
    "collapsed": false,
    "ExecuteTime": {
     "end_time": "2023-07-27T07:27:51.525630Z",
     "start_time": "2023-07-27T07:27:51.051197Z"
    }
   },
   "outputs": [
    {
     "data": {
      "text/plain": "<Figure size 640x480 with 1 Axes>",
      "image/png": "[encoded data removed]"
     },
     "metadata": {},
     "output_type": "display_data"
    }
   ],
   "source": [
    "x = np.arange(-5.0, 5.0, 0.1)\n",
    "y = relu(x)\n",
    "plt.plot(x, y)\n",
    "plt.ylim(-1.1, 5.1) # y축의 범위 지정\n",
    "plt.show()"
   ]
  },
  {
   "cell_type": "markdown",
   "metadata": {
    "ExecuteTime": {
     "end_time": "2023-07-27T07:56:40.651568Z",
     "start_time": "2023-07-27T07:56:39.273780Z"
    }
   },
   "source": [
    "ReLU 함수 수식\n",
    "\\begin{equation*}\n",
    "h(x) = x ( x > 0) \n",
    "\\end{equation*}\n",
    "\\begin{equation*}\n",
    "h(x) = 0 ( x <= 0)\n",
    "\\end{equation*}"
   ],
   "outputs": [
    {
     "name": "stdout",
     "output_type": "stream",
     "text": [
      "[1 2 3 4]\n",
      "1\n",
      "(4,)\n",
      "4\n"
     ]
    }
   ],
   "execution_count": 25
  },
  {
   "cell_type": "markdown",
   "metadata": {
    "collapsed": true
   },
   "source": [
    "## 3.3 다차원 배열의 계산\n",
    "넘파이의 다차원 배열 계산 설명. 신경망 구현."
   ]
  },
  {
   "cell_type": "markdown",
   "metadata": {
    "ExecuteTime": {
     "end_time": "2023-07-27T07:56:40.651719Z",
     "start_time": "2023-07-27T07:56:39.276056Z"
    }
   },
   "source": [
    "## 3.3.1 다차원 배열\n",
    "N차원으로 나열하는 것. \n",
    "\n",
    "1차원의 예시"
   ],
   "outputs": [
    {
     "name": "stdout",
     "output_type": "stream",
     "text": [
      "[[1 2]\n",
      " [3 4]\n",
      " [5 6]]\n",
      "2\n",
      "(3, 2)\n"
     ]
    }
   ],
   "execution_count": 26
  },
  {
   "cell_type": "code",
   "execution_count": 18,
   "metadata": {
    "collapsed": false,
    "ExecuteTime": {
     "end_time": "2023-07-27T07:27:51.525861Z",
     "start_time": "2023-07-27T07:27:51.151481Z"
    }
   },
   "outputs": [
    {
     "name": "stdout",
     "output_type": "stream",
     "text": [
      "[1 2 3 4]\n",
      "1\n",
      "(4,)\n",
      "4\n"
     ]
    }
   ],
   "source": [
    "import numpy as np\n",
    "A = np.array([1, 2, 3, 4])\n",
    "print(A)\n",
    "print(np.ndim(A))\n",
    "print(A.shape)\n",
    "print(A.shape[0])"
   ]
  },
  {
   "cell_type": "markdown",
   "metadata": {},
   "source": [
    "np.ndim(): 배열의 차원 수\n",
    "\n",
    "shape: 배열의 형상\n",
    "\n",
    "2차원 배열 예시"
   ]
  },
  {
   "cell_type": "code",
   "execution_count": 27,
   "metadata": {
    "collapsed": false,
    "ExecuteTime": {
     "end_time": "2023-07-27T07:56:40.651825Z",
     "start_time": "2023-07-27T07:56:39.279747Z"
    }
   },
   "outputs": [],
   "source": [
    "B = np.array([[1, 2], [3, 4], [5, 6]])\n",
    "print(B)\n",
    "print(np.ndim(B))\n",
    "print(B.shape)"
   ]
  },
  {
   "cell_type": "markdown",
   "metadata": {},
   "source": [
    "처음 차원은 0번째 차원, 다음 차원은 1번째 차원에 대응\n",
    "\n",
    "행렬: 2차원 배열"
   ]
  },
  {
   "cell_type": "markdown",
   "metadata": {
    "ExecuteTime": {
     "end_time": "2023-07-27T07:56:40.654002Z",
     "start_time": "2023-07-27T07:56:39.283034Z"
    }
   },
   "source": [
    "## 3.3.2 행렬의 내적(행렬 곱)\n",
    "행렬의 내적 계산방법"
   ],
   "outputs": [
    {
     "name": "stdout",
     "output_type": "stream",
     "text": [
      "(2, 2)\n",
      "(2, 2)\n"
     ]
    },
    {
     "data": {
      "text/plain": "array([[19, 22],\n       [43, 50]])"
     },
     "execution_count": 28,
     "metadata": {},
     "output_type": "execute_result"
    }
   ],
   "execution_count": 28
  },
  {
   "cell_type": "code",
   "execution_count": 20,
   "metadata": {
    "collapsed": true,
    "ExecuteTime": {
     "end_time": "2023-07-27T07:27:51.526189Z",
     "start_time": "2023-07-27T07:27:51.162221Z"
    }
   },
   "outputs": [],
   "source": [
    "# 그림 3-11!"
   ]
  },
  {
   "cell_type": "markdown",
   "metadata": {
    "ExecuteTime": {
     "end_time": "2023-07-27T07:56:40.673838Z",
     "start_time": "2023-07-27T07:56:39.296562Z"
    }
   },
   "source": [
    "파이썬 구현 코드"
   ],
   "outputs": [
    {
     "name": "stdout",
     "output_type": "stream",
     "text": [
      "(2, 3)\n",
      "(3, 2)\n"
     ]
    },
    {
     "data": {
      "text/plain": "array([[22, 28],\n       [49, 64]])"
     },
     "execution_count": 29,
     "metadata": {},
     "output_type": "execute_result"
    }
   ],
   "execution_count": 29
  },
  {
   "cell_type": "code",
   "execution_count": 21,
   "metadata": {
    "collapsed": false,
    "ExecuteTime": {
     "end_time": "2023-07-27T07:27:51.526514Z",
     "start_time": "2023-07-27T07:27:51.167221Z"
    }
   },
   "outputs": [
    {
     "name": "stdout",
     "output_type": "stream",
     "text": [
      "(2, 2)\n",
      "(2, 2)\n"
     ]
    },
    {
     "data": {
      "text/plain": "array([[19, 22],\n       [43, 50]])"
     },
     "execution_count": 21,
     "metadata": {},
     "output_type": "execute_result"
    }
   ],
   "source": [
    "A = np.array([[1, 2], [3, 4]])\n",
    "print(A.shape)\n",
    "B = np.array([[5, 6], [7, 8]])\n",
    "print(B.shape)\n",
    "np.dot(A, B)"
   ]
  },
  {
   "cell_type": "markdown",
   "metadata": {
    "ExecuteTime": {
     "end_time": "2023-07-27T07:56:40.674219Z",
     "start_time": "2023-07-27T07:56:39.320861Z"
    }
   },
   "source": [
    "A와 B는 2 X 2 행렬. \n",
    "\n",
    "np.dot: 배열 2개를 인수로 받아 두 행렬의 내적을 반환.\n",
    "\n",
    "np.dot(A, B)와 np.dot(B, A)는 다른 값이 될 수 있음.\n",
    "\n",
    "2 X 3 행렬과 3 X 2 행렬의 곱 파이썬 구현 코드"
   ],
   "outputs": [
    {
     "name": "stdout",
     "output_type": "stream",
     "text": [
      "(2, 2)\n",
      "(2, 3)\n"
     ]
    },
    {
     "ename": "ValueError",
     "evalue": "shapes (2,3) and (2,2) not aligned: 3 (dim 1) != 2 (dim 0)",
     "output_type": "error",
     "traceback": [
      "\u001B[0;31m---------------------------------------------------------------------------\u001B[0m",
      "\u001B[0;31mValueError\u001B[0m                                Traceback (most recent call last)",
      "Cell \u001B[0;32mIn[30], line 4\u001B[0m\n\u001B[1;32m      2\u001B[0m \u001B[38;5;28mprint\u001B[39m(C\u001B[38;5;241m.\u001B[39mshape)\n\u001B[1;32m      3\u001B[0m \u001B[38;5;28mprint\u001B[39m(A\u001B[38;5;241m.\u001B[39mshape)\n\u001B[0;32m----> 4\u001B[0m \u001B[43mnp\u001B[49m\u001B[38;5;241;43m.\u001B[39;49m\u001B[43mdot\u001B[49m\u001B[43m(\u001B[49m\u001B[43mA\u001B[49m\u001B[43m,\u001B[49m\u001B[43m \u001B[49m\u001B[43mC\u001B[49m\u001B[43m)\u001B[49m\n",
      "File \u001B[0;32m<__array_function__ internals>:180\u001B[0m, in \u001B[0;36mdot\u001B[0;34m(*args, **kwargs)\u001B[0m\n",
      "\u001B[0;31mValueError\u001B[0m: shapes (2,3) and (2,2) not aligned: 3 (dim 1) != 2 (dim 0)"
     ]
    }
   ],
   "execution_count": 30
  },
  {
   "cell_type": "code",
   "execution_count": 22,
   "metadata": {
    "collapsed": false,
    "ExecuteTime": {
     "end_time": "2023-07-27T07:27:51.526799Z",
     "start_time": "2023-07-27T07:27:51.170815Z"
    }
   },
   "outputs": [
    {
     "name": "stdout",
     "output_type": "stream",
     "text": [
      "(2, 3)\n",
      "(3, 2)\n"
     ]
    },
    {
     "data": {
      "text/plain": "array([[22, 28],\n       [49, 64]])"
     },
     "execution_count": 22,
     "metadata": {},
     "output_type": "execute_result"
    }
   ],
   "source": [
    "A = np.array([[1, 2, 3], [4, 5, 6]])\n",
    "print(A.shape)\n",
    "B = np.array([[1, 2], [3, 4], [5, 6]])\n",
    "print(B.shape)\n",
    "np.dot(A, B)"
   ]
  },
  {
   "cell_type": "markdown",
   "metadata": {
    "ExecuteTime": {
     "start_time": "2023-07-27T07:56:39.324174Z"
    }
   },
   "source": [
    "행렬의 내적을 구할 때\n",
    "\n",
    "행렬 A의 1번째 차원의 원소 수(열 수)와 행렬 B의 0번째 차원의 원소 수(행 수)가 같아야 함.\n",
    "\n",
    "위의 예시는 둘 모두 원소가 3개라 같음.\n",
    "\n",
    "2 X 3 행렬 A와 2 X 2 행렬 C를 곱하면 다음처럼 오류 발생."
   ],
   "outputs": []
  },
  {
   "cell_type": "code",
   "execution_count": 23,
   "metadata": {
    "collapsed": false,
    "ExecuteTime": {
     "start_time": "2023-07-27T07:27:51.176406Z"
    }
   },
   "outputs": [
    {
     "name": "stdout",
     "output_type": "stream",
     "text": [
      "(2, 2)\n",
      "(2, 3)\n"
     ]
    },
    {
     "ename": "ValueError",
     "evalue": "shapes (2,3) and (2,2) not aligned: 3 (dim 1) != 2 (dim 0)",
     "output_type": "error",
     "traceback": [
      "\u001B[0;31m---------------------------------------------------------------------------\u001B[0m",
      "\u001B[0;31mValueError\u001B[0m                                Traceback (most recent call last)",
      "Cell \u001B[0;32mIn[23], line 4\u001B[0m\n\u001B[1;32m      2\u001B[0m \u001B[38;5;28mprint\u001B[39m(C\u001B[38;5;241m.\u001B[39mshape)\n\u001B[1;32m      3\u001B[0m \u001B[38;5;28mprint\u001B[39m(A\u001B[38;5;241m.\u001B[39mshape)\n\u001B[0;32m----> 4\u001B[0m \u001B[43mnp\u001B[49m\u001B[38;5;241;43m.\u001B[39;49m\u001B[43mdot\u001B[49m\u001B[43m(\u001B[49m\u001B[43mA\u001B[49m\u001B[43m,\u001B[49m\u001B[43m \u001B[49m\u001B[43mC\u001B[49m\u001B[43m)\u001B[49m\n",
      "File \u001B[0;32m<__array_function__ internals>:180\u001B[0m, in \u001B[0;36mdot\u001B[0;34m(*args, **kwargs)\u001B[0m\n",
      "\u001B[0;31mValueError\u001B[0m: shapes (2,3) and (2,2) not aligned: 3 (dim 1) != 2 (dim 0)"
     ]
    }
   ],
   "source": [
    "C = np.array([[1, 2], [3, 4]])\n",
    "print(C.shape)\n",
    "print(A.shape)\n",
    "np.dot(A, C)"
   ]
  },
  {
   "cell_type": "markdown",
   "metadata": {},
   "source": [
    "두 행렬의 대응하는 차원의 원소 수를 일치시켜야 함"
   ]
  },
  {
   "cell_type": "code",
   "execution_count": null,
   "metadata": {
    "collapsed": true,
    "ExecuteTime": {
     "start_time": "2023-07-27T07:56:39.326186Z"
    }
   },
   "outputs": [],
   "source": [
    "# 그림 3-12!"
   ]
  },
  {
   "cell_type": "markdown",
   "metadata": {
    "ExecuteTime": {
     "start_time": "2023-07-27T07:56:39.327731Z"
    }
   },
   "source": [
    "A와 B의 대응하는 차원의 원소 수가 같아야 함.\n",
    "\n",
    "계산 결과인 행렬 C의 형상은 행렬 A의 행수와 행렬 B의 열수가 됨."
   ],
   "outputs": []
  },
  {
   "cell_type": "markdown",
   "metadata": {},
   "source": [
    "A가 2차원 행렬이고 B가 1차원 배열일 때도 '대응하는 차원의 원소 수를 일치시켜라'는 원칙이 똑같이 적용됨."
   ]
  },
  {
   "cell_type": "code",
   "execution_count": null,
   "metadata": {
    "collapsed": true,
    "ExecuteTime": {
     "start_time": "2023-07-27T07:56:39.329498Z"
    }
   },
   "outputs": [],
   "source": [
    "# 그림 3-13!"
   ]
  },
  {
   "cell_type": "code",
   "execution_count": null,
   "metadata": {
    "collapsed": false,
    "ExecuteTime": {
     "start_time": "2023-07-27T07:27:51.194693Z"
    }
   },
   "outputs": [],
   "source": [
    "A = np.array([[1, 2], [3, 4], [5, 6]])\n",
    "print(A.shape)\n",
    "B = np.array([7, 8])\n",
    "print(B.shape)\n",
    "np.dot(A, B)"
   ]
  },
  {
   "cell_type": "markdown",
   "metadata": {
    "ExecuteTime": {
     "start_time": "2023-07-27T07:56:39.330648Z"
    }
   },
   "source": [
    "## 3.3.3 신경망의 내적\n",
    "행렬의 곲으로 신경망의 계산을 수행한다."
   ],
   "outputs": []
  },
  {
   "cell_type": "code",
   "execution_count": null,
   "metadata": {
    "collapsed": true,
    "ExecuteTime": {
     "start_time": "2023-07-27T07:27:51.197369Z"
    }
   },
   "outputs": [],
   "source": [
    "# 그림 3-14!"
   ]
  },
  {
   "cell_type": "markdown",
   "metadata": {},
   "source": [
    "X, W, Y의 형상을 주의깊게 확인\n",
    "\n",
    "X와 W의 대응하는 차원의 원소 수가 같아야 함"
   ]
  },
  {
   "cell_type": "code",
   "execution_count": 31,
   "metadata": {
    "collapsed": false,
    "ExecuteTime": {
     "end_time": "2023-07-27T07:56:40.676585Z",
     "start_time": "2023-07-27T07:56:39.341747Z"
    }
   },
   "outputs": [],
   "source": [
    "X = np.array([1, 2])\n",
    "print(X.shape)\n",
    "W = np.array([[1, 3, 5], [2, 4, 6]])\n",
    "print(W)\n",
    "print(W.shape)\n",
    "Y = np.dot(X, W)\n",
    "print(Y)"
   ]
  },
  {
   "cell_type": "markdown",
   "metadata": {},
   "source": [
    "행렬의 내적으로 한꺼번에 계산해주는 기능은 신경망을 구현할 때 매우 중요"
   ]
  },
  {
   "cell_type": "markdown",
   "metadata": {
    "ExecuteTime": {
     "end_time": "2023-07-27T07:56:40.678641Z",
     "start_time": "2023-07-27T07:56:39.357270Z"
    }
   },
   "source": [
    "## 3.4 3층 신경망 구현하기\n",
    "넘파이의 다차원 배열을 사용하여 신경망의 순방향 처리"
   ],
   "outputs": [],
   "execution_count": 32
  },
  {
   "cell_type": "code",
   "execution_count": null,
   "metadata": {
    "collapsed": true,
    "ExecuteTime": {
     "start_time": "2023-07-27T07:27:51.200705Z"
    }
   },
   "outputs": [],
   "source": [
    "# 그림 3-15!"
   ]
  },
  {
   "cell_type": "markdown",
   "metadata": {},
   "source": [
    "### 3.4.1 표기법 설명\n",
    "넘파이의 다차원 배열을 사용하여 신경망의 순방향 처리"
   ]
  },
  {
   "cell_type": "code",
   "execution_count": 33,
   "metadata": {
    "collapsed": true,
    "ExecuteTime": {
     "end_time": "2023-07-27T07:56:40.700256Z",
     "start_time": "2023-07-27T07:56:39.386439Z"
    }
   },
   "outputs": [],
   "source": [
    "# 그림 3-16!"
   ]
  },
  {
   "cell_type": "markdown",
   "metadata": {},
   "source": [
    "<sup>(1)</sup> : 1층의 가중치\n",
    "\n",
    "<sub>12</sub> : 다음 층 번호(1), 앞 층 번호(2)\n",
    "\n",
    "다른 자료에서는 이 순서를 반대로 표기하는 경우도 있음."
   ]
  },
  {
   "cell_type": "markdown",
   "metadata": {
    "ExecuteTime": {
     "end_time": "2023-07-27T07:56:40.705045Z",
     "start_time": "2023-07-27T07:56:39.402962Z"
    }
   },
   "source": [
    "### 3.4.2 표기법 설명"
   ],
   "outputs": [
    {
     "name": "stdout",
     "output_type": "stream",
     "text": [
      "(2, 3)\n",
      "(3, 2)\n",
      "(2,)\n"
     ]
    }
   ],
   "execution_count": 34
  },
  {
   "cell_type": "code",
   "execution_count": 35,
   "metadata": {
    "collapsed": true,
    "ExecuteTime": {
     "end_time": "2023-07-27T07:56:40.709404Z",
     "start_time": "2023-07-27T07:56:39.407237Z"
    }
   },
   "outputs": [],
   "source": [
    "# 그림 3-17!"
   ]
  },
  {
   "cell_type": "markdown",
   "metadata": {},
   "source": [
    "a<sub>1</sub><sup>(1)</sup> 의 수식\n",
    "\n",
    "\\begin{equation*}\n",
    "a^{(1)}_{1} = w^{(1)}_{11} + w^{(1)}_{12} + b^{(1)}_{1}\n",
    "\\end{equation*}\n",
    "\n",
    "행렬의 내적을 이용 1층의 '가중치 부분'을 다음 식처럼 간소화\n",
    "\n",
    "\\begin{equation*}\n",
    "A^{(1)} = XW^{(1)} + B^{(1)}\n",
    "\\end{equation*}\n",
    "\n",
    "행렬의 값\n",
    "\n",
    "\\begin{equation*}\n",
    "A^{(1)} = (a^{(1)}_{1} a^{(1)}_{2} a^{(1)}_{3}), X = (x_{1} x_{2}), B^{(1)} = (b^{(1)}_{1} b^{(1)}_{2} b^{(1)}_{3})\n",
    "\\end{equation*}\n",
    "\n",
    "\\begin{equation*}\n",
    "W^{(1)} = \\begin{vmatrix}\n",
    "\\mathbf{w^{(1)}_{11}} & \\mathbf{w^{(1)}_{21}} & \\mathbf{w^{(1)}_{31}} \\\\\n",
    "\\mathbf{w^{(1)}_{12}} & \\mathbf{w^{(1)}_{22}} & \\mathbf{w^{(1)}_{32}} \\\\\n",
    "\\end{vmatrix}\n",
    "\\end{equation*}\n"
   ]
  },
  {
   "cell_type": "code",
   "execution_count": 36,
   "metadata": {
    "collapsed": false,
    "ExecuteTime": {
     "end_time": "2023-07-27T07:56:40.741101Z",
     "start_time": "2023-07-27T07:56:39.418557Z"
    }
   },
   "outputs": [
    {
     "name": "stdout",
     "output_type": "stream",
     "text": [
      "[0.3 0.7 1.1]\n",
      "[0.57444252 0.66818777 0.75026011]\n"
     ]
    }
   ],
   "source": [
    "X = np.array([1.0, 0.5])\n",
    "W1 = np.array([[0.1, 0.3, 0.5], [0.2, 0.4, 0.6]])\n",
    "B1 = np.array([0.1, 0.2, 0.3])\n",
    "\n",
    "print(W1.shape) # (2, 3)\n",
    "print(B.shape)  # (2, 3)\n",
    "print(X.shape)  # (2,)\n",
    "\n",
    "A1 = np.dot(X, W1) + B1"
   ]
  },
  {
   "cell_type": "code",
   "execution_count": null,
   "metadata": {
    "collapsed": true,
    "ExecuteTime": {
     "start_time": "2023-07-27T07:27:51.207973Z"
    }
   },
   "outputs": [],
   "source": [
    "# 그림 3-18!"
   ]
  },
  {
   "cell_type": "markdown",
   "metadata": {
    "ExecuteTime": {
     "end_time": "2023-07-27T07:56:40.745269Z",
     "start_time": "2023-07-27T07:56:39.433686Z"
    }
   },
   "source": [
    "활성화 함수를 시그모이드를 사용.\n",
    "\n",
    "파이썬 구현 코드"
   ],
   "outputs": [],
   "execution_count": 37
  },
  {
   "cell_type": "code",
   "execution_count": 38,
   "metadata": {
    "collapsed": false,
    "ExecuteTime": {
     "end_time": "2023-07-27T07:56:40.745532Z",
     "start_time": "2023-07-27T07:56:39.438052Z"
    }
   },
   "outputs": [
    {
     "name": "stdout",
     "output_type": "stream",
     "text": [
      "(3,)\n",
      "(3, 2)\n",
      "(2,)\n"
     ]
    }
   ],
   "source": [
    "Z1 = sigmoid(A1)\n",
    "\n",
    "print(A1) # [0.3, 0.7, 1.1]\n",
    "print(Z1) # [0.57444252, 0.66818777, 0.75026011]"
   ]
  },
  {
   "cell_type": "markdown",
   "metadata": {
    "collapsed": true
   },
   "source": [
    "1층에서 2층으로의 신호 전달"
   ]
  },
  {
   "cell_type": "code",
   "execution_count": 39,
   "metadata": {
    "collapsed": true,
    "ExecuteTime": {
     "end_time": "2023-07-27T07:56:40.769067Z",
     "start_time": "2023-07-27T07:56:39.448943Z"
    }
   },
   "outputs": [],
   "source": [
    "# 그림 3-19!"
   ]
  },
  {
   "cell_type": "code",
   "execution_count": 40,
   "metadata": {
    "collapsed": false,
    "ExecuteTime": {
     "end_time": "2023-07-27T07:56:40.769344Z",
     "start_time": "2023-07-27T07:56:39.453780Z"
    }
   },
   "outputs": [],
   "source": [
    "W2 = np.array([[0.1, 0.4], [0.2, 0.5], [0.3, 0.6]])\n",
    "B2 = np.array([0.1, 0.2])\n",
    "\n",
    "print(Z1.shape) # (3,)\n",
    "print(W2.shape) # (3, 2)\n",
    "print(B2.shape) # (2,)\n",
    "\n",
    "A2 = np.dot(Z1, W2) + B2\n",
    "Z2 = sigmoid(A2)"
   ]
  },
  {
   "cell_type": "markdown",
   "metadata": {},
   "source": [
    "2층에서 출력층으로 신호 전달. 활성화 함수만 지금까지 은닉층과 다름. (항등 함수)\n",
    "\n",
    "2층에서 출력층으로의 신호 전달"
   ]
  },
  {
   "cell_type": "code",
   "execution_count": null,
   "metadata": {
    "collapsed": true,
    "ExecuteTime": {
     "start_time": "2023-07-27T07:27:51.214866Z"
    }
   },
   "outputs": [],
   "source": [
    "# 그림 3-20!"
   ]
  },
  {
   "cell_type": "code",
   "execution_count": 41,
   "metadata": {
    "collapsed": true,
    "ExecuteTime": {
     "end_time": "2023-07-27T07:56:40.771884Z",
     "start_time": "2023-07-27T07:56:39.482078Z"
    }
   },
   "outputs": [
    {
     "name": "stdout",
     "output_type": "stream",
     "text": [
      "[0.31682708 0.69627909]\n"
     ]
    }
   ],
   "source": [
    "def identity_function(x):\n",
    "    return x\n",
    "\n",
    "W3 = np.array([[0.1, 0.3], [0.2, 0.4]])\n",
    "B3 = np.array([0.1, 0.2])\n",
    "\n",
    "A3 = np.dot(Z2, W3) + B3\n",
    "Y = identity_function(A3) # 혹은 Y = A3"
   ]
  },
  {
   "cell_type": "markdown",
   "metadata": {},
   "source": [
    "항등 함수 identity_function 정의. 입력을 그대로 출력하는 함수.\n",
    "\n",
    "출력층의 활성화 함수를 다음처럼 표시하여 은닉층의 h()와는 다르게 표시.\n",
    "\n",
    "\\begin{equation*}\\sigma()\\end{equation*}\n",
    "\n",
    "출력층의 활성화 함수는 풀고자 하는 문제의 성질에 맞게 정함.\n",
    "\n",
    "회귀 => 항등함수\n",
    "\n",
    "2클래스 분류 => 시그모이드 함수\n",
    "\n",
    "다중 클래스 분류 => 소프트맥스 함수"
   ]
  },
  {
   "cell_type": "markdown",
   "metadata": {},
   "source": [
    "### 3.4.3 구현 정리\n",
    "가중치는 대문자, 편향, 중간결과는 소문자로 표기함."
   ]
  },
  {
   "cell_type": "code",
   "execution_count": null,
   "metadata": {
    "collapsed": false,
    "ExecuteTime": {
     "start_time": "2023-07-27T07:27:51.218938Z"
    }
   },
   "outputs": [],
   "source": [
    "def init_network():\n",
    "    network = {}\n",
    "    network['W1'] = np.array([[0.1, 0.3, 0.5], [0.2, 0.4, 0.6]])\n",
    "    network['b1'] = np.array([0.1, 0.2, 0.3])\n",
    "    network['W2'] = np.array([[0.1, 0.4], [0.2, 0.5], [0.3, 0.6]])\n",
    "    network['b2'] = np.array([0.1, 0.2])\n",
    "    network['W3'] = np.array([[0.1, 0.3], [0.2, 0.4]])\n",
    "    network['b3'] = np.array([0.1, 0.2])\n",
    "    \n",
    "    return network\n",
    "\n",
    "def forward(network, x):\n",
    "    W1, W2, W3 = network['W1'], network['W2'], network['W3']\n",
    "    b1, b2, b3 = network['b1'], network['b2'], network['b3']\n",
    "    \n",
    "    a1 = np.dot(x, W1) + b1\n",
    "    z1 = sigmoid(a1)\n",
    "    a2 = np.dot(z1, W2) + b2\n",
    "    z2 = sigmoid(a2)\n",
    "    a3 = np.dot(z2, W3) + b3\n",
    "    y = identity_function(a3)\n",
    "    \n",
    "    return y\n",
    "\n",
    "network = init_network()\n",
    "x = np.array([1.0, 0.5])\n",
    "y = forward(network, x)\n",
    "print(y) # [0.31682708 0.69627909]"
   ]
  },
  {
   "cell_type": "markdown",
   "metadata": {
    "ExecuteTime": {
     "end_time": "2023-07-27T07:56:40.793545Z",
     "start_time": "2023-07-27T07:56:39.523269Z"
    }
   },
   "source": [
    "init_network() : 가중치와 편향을 초기화하고 딕셔너리 변수인 network에 저장\n",
    "\n",
    "forward() : 입력 신호를 출력으로 변환하는 처리과정 모두 구현\n",
    "\n",
    "forward 의미는 신호가 순방향(입력에서 출력방향)으로 전달됨을 알림\n",
    "\n",
    "역방향(backward, 출력에서 입력 방향) 처리에 대해서도 살펴볼 계획"
   ],
   "outputs": [],
   "execution_count": 42
  },
  {
   "cell_type": "markdown",
   "metadata": {},
   "source": [
    "## 3.5 출력층 설계하기\n",
    "신경망은 분류, 회귀 모두 이용가능\n",
    "\n",
    "일반적으로 회귀에는 항등 함수, 분류에는 소프트맥스 함수를 사용.\n",
    "\n",
    "분류: 데이터가 어느 클래스(class)에 속하느냐는 문제\n",
    "\n",
    "회귀: 입력 데이터에서 (연속적인) 수치를 예측하는 문제\n",
    "\n",
    "<pre>\n",
    "19세기 후반 영국의 우생학자 골턴 경은 사람과 완두콩 등을 대상으로 그 키를 측정. 관찰 결과 키가 큰 부모의 자식은 부모보다 작고 작은 부모의 자식은 부모보다 큰, 즉 평균으로 회귀(regression)하는 경향을 발견. 그 사이에는 선형 관계가 있어 부모의 키로부터 자식의 키를 예측할 수 있고 그 예측 결과값이 연속적인 수치임.\n",
    "</pre>"
   ]
  },
  {
   "cell_type": "markdown",
   "metadata": {
    "ExecuteTime": {
     "end_time": "2023-07-27T07:56:40.795792Z",
     "start_time": "2023-07-27T07:56:39.538178Z"
    }
   },
   "source": [
    "### 3.5.1 항등 함수와 소프트맥스 함수 구현하기\n",
    "항등함수: 입력 그대로 출력"
   ],
   "outputs": [],
   "execution_count": 43
  },
  {
   "cell_type": "code",
   "execution_count": null,
   "metadata": {
    "collapsed": true,
    "ExecuteTime": {
     "start_time": "2023-07-27T07:27:51.220759Z"
    }
   },
   "outputs": [],
   "source": [
    "# 그림 3-21"
   ]
  },
  {
   "cell_type": "markdown",
   "metadata": {
    "ExecuteTime": {
     "end_time": "2023-07-27T07:56:40.800264Z",
     "start_time": "2023-07-27T07:56:39.555598Z"
    }
   },
   "source": [
    "소프트맥스 함수\n",
    "\n",
    "\\begin{equation*}\n",
    "y_{k} = \\frac{exp(a_{k})}{\\sum_{i=1}^{n} exp(a_{i})}\n",
    "\\end{equation*}\n",
    "\n",
    "exp(x)는 지수함수(exponential function)\n",
    "\n",
    "n은 출력층의 뉴런수. yk는 그중 k번째 출력임을 뜻함.\n",
    "\n",
    "소프트맥스의 분자는 입력 신호 ak의 지수 함수.\n",
    "\n",
    "분모는 모든 입력신호의 지수 함수의 합으로 구성.\n",
    "\n",
    "소프트 맥스의 출력은 모든 입력 신호로부터 화살표를 받음."
   ],
   "outputs": [
    {
     "name": "stdout",
     "output_type": "stream",
     "text": [
      "[ 1.34985881 18.17414537 54.59815003]\n",
      "74.1221542101633\n",
      "[0.01821127 0.24519181 0.73659691]\n"
     ]
    }
   ],
   "execution_count": 44
  },
  {
   "cell_type": "code",
   "execution_count": null,
   "metadata": {
    "collapsed": true,
    "ExecuteTime": {
     "start_time": "2023-07-27T07:27:51.222669Z"
    }
   },
   "outputs": [],
   "source": [
    "# 그림 3-22"
   ]
  },
  {
   "cell_type": "markdown",
   "metadata": {
    "ExecuteTime": {
     "end_time": "2023-07-27T07:56:40.802872Z",
     "start_time": "2023-07-27T07:56:39.570212Z"
    }
   },
   "source": [
    "소프트맥스 함수 구현"
   ],
   "outputs": [],
   "execution_count": 45
  },
  {
   "cell_type": "code",
   "execution_count": null,
   "metadata": {
    "collapsed": false,
    "ExecuteTime": {
     "start_time": "2023-07-27T07:27:51.224634Z"
    }
   },
   "outputs": [],
   "source": [
    "a = np.array([0.3, 2.9, 4.0])\n",
    "\n",
    "exp_a = np.exp(a) # 지수 함수\n",
    "print(exp_a)\n",
    "\n",
    "sum_exp_a = np.sum(exp_a) # 지수 함수의 합\n",
    "print(sum_exp_a)\n",
    "\n",
    "y = exp_a / sum_exp_a\n",
    "print(y)"
   ]
  },
  {
   "cell_type": "markdown",
   "metadata": {
    "ExecuteTime": {
     "end_time": "2023-07-27T07:56:40.838711Z",
     "start_time": "2023-07-27T07:56:39.586830Z"
    }
   },
   "source": [
    "소프트맥스 함수 정의"
   ],
   "outputs": [
    {
     "name": "stderr",
     "output_type": "stream",
     "text": [
      "/var/folders/jd/qspsq8mn2db0y77ryp1w10_c0000gp/T/ipykernel_38687/1874882965.py:2: RuntimeWarning: overflow encountered in exp\n",
      "  np.exp(a) / np.sum(np.exp(a)) # 소프트맥스 함수의 계산\n",
      "/var/folders/jd/qspsq8mn2db0y77ryp1w10_c0000gp/T/ipykernel_38687/1874882965.py:2: RuntimeWarning: invalid value encountered in divide\n",
      "  np.exp(a) / np.sum(np.exp(a)) # 소프트맥스 함수의 계산\n"
     ]
    },
    {
     "data": {
      "text/plain": "array([nan, nan, nan])"
     },
     "execution_count": 46,
     "metadata": {},
     "output_type": "execute_result"
    }
   ],
   "execution_count": 46
  },
  {
   "cell_type": "code",
   "execution_count": 47,
   "metadata": {
    "collapsed": true,
    "ExecuteTime": {
     "end_time": "2023-07-27T07:56:40.838977Z",
     "start_time": "2023-07-27T07:56:39.591957Z"
    }
   },
   "outputs": [
    {
     "data": {
      "text/plain": "array([  0, -10, -20])"
     },
     "execution_count": 47,
     "metadata": {},
     "output_type": "execute_result"
    }
   ],
   "source": [
    "def softmax(a):\n",
    "    exp_a = np.exp(a)\n",
    "    sum_exp_a = np.sum(exp_a)\n",
    "    y = exp_a / sum_exp_a\n",
    "    \n",
    "    return y"
   ]
  },
  {
   "cell_type": "markdown",
   "metadata": {
    "ExecuteTime": {
     "end_time": "2023-07-27T07:56:40.860696Z",
     "start_time": "2023-07-27T07:56:39.594810Z"
    }
   },
   "source": [
    "### 3.5.2 소프트맥스 함수 구현 시 주의점\n",
    "컴퓨터로 소프트맥스를 계산할 때 오버플로 문제 발생가능\n",
    "\n",
    "오버플로(Overflow) : 표현할 수 있는 수의 범위가 한정되어 너무 큰 값은 표현할 수 없음\n",
    "\n",
    "소프트맥스 함수 개선한 수식\n",
    "\n",
    "\\begin{equation*}\n",
    "y_{k} = \\frac{exp(a_{k})}{\\sum_{i=1}^{n} exp(a_{i})} = \\frac{C exp(a_{k})}{C \\sum_{i=1}^{n} exp(a_{i})}\n",
    "\\end{equation*}\n",
    "\n",
    "\\begin{equation*}\n",
    "= \\frac{exp(a_{k}+logC)}{\\sum_{i=1}^{n} exp(a_{i}+logC)}\n",
    "\\end{equation*}\n",
    "\n",
    "\\begin{equation*}\n",
    "= \\frac{exp(a_{k}+C')}{\\sum_{i=1}^{n} exp(a_{i}+C')}\n",
    "\\end{equation*}\n",
    "\n",
    "첫 번째 번형에서 C라는 임의의 정수를 분자와 분보 양쪽에 곱함\n",
    "\n",
    "C를 지수 함수 exp() 안으로 옮겨 logC로 만듬\n",
    "\n",
    "logC를 C'라는 새로운 기호로 바꿈\n",
    "\n",
    "소프트맥스의 지수 함수를 계산할 어떤 정수를 더해도 (혹은 빼도) 결과는 바뀌지 않음\n",
    "\n",
    "오버플로를 막을 목적으로는 입력 신호 중 최대값을 이용하는 것이 일반적\n",
    "\n",
    "오버플로 막는 예시"
   ],
   "outputs": [
    {
     "data": {
      "text/plain": "array([9.99954600e-01, 4.53978686e-05, 2.06106005e-09])"
     },
     "execution_count": 48,
     "metadata": {},
     "output_type": "execute_result"
    }
   ],
   "execution_count": 48
  },
  {
   "cell_type": "code",
   "execution_count": null,
   "metadata": {
    "collapsed": false,
    "ExecuteTime": {
     "start_time": "2023-07-27T07:27:51.228257Z"
    }
   },
   "outputs": [],
   "source": [
    "a = np.array([1010, 1000, 990])\n",
    "np.exp(a) / np.sum(np.exp(a)) # 소프트맥스 함수의 계산\n",
    "# array([ nan,  nan,  nan])   # 제대로 계산되지 않는다."
   ]
  },
  {
   "cell_type": "code",
   "execution_count": 49,
   "metadata": {
    "collapsed": false,
    "ExecuteTime": {
     "end_time": "2023-07-27T07:56:40.860860Z",
     "start_time": "2023-07-27T07:56:39.602132Z"
    }
   },
   "outputs": [],
   "source": [
    "c = np.max(a)\n",
    "a - c"
   ]
  },
  {
   "cell_type": "code",
   "execution_count": null,
   "metadata": {
    "collapsed": false,
    "ExecuteTime": {
     "start_time": "2023-07-27T07:27:51.231792Z"
    }
   },
   "outputs": [],
   "source": [
    "np.exp(a - c) / np.sum(np.exp(a - c))"
   ]
  },
  {
   "cell_type": "markdown",
   "metadata": {
    "ExecuteTime": {
     "end_time": "2023-07-27T07:56:40.863110Z",
     "start_time": "2023-07-27T07:56:39.618102Z"
    }
   },
   "source": [
    "소프트맥스 함수 다시 구현"
   ],
   "outputs": [
    {
     "name": "stdout",
     "output_type": "stream",
     "text": [
      "[0.01821127 0.24519181 0.73659691]\n"
     ]
    },
    {
     "data": {
      "text/plain": "1.0"
     },
     "execution_count": 50,
     "metadata": {},
     "output_type": "execute_result"
    }
   ],
   "execution_count": 50
  },
  {
   "cell_type": "code",
   "execution_count": null,
   "metadata": {
    "collapsed": true,
    "ExecuteTime": {
     "start_time": "2023-07-27T07:27:51.233356Z"
    }
   },
   "outputs": [],
   "source": [
    "def softmax(a):\n",
    "    c = np.max(a)\n",
    "    exp_a = np.exp(a-c) # 오버플로 대책\n",
    "    sum_exp_a = np.sum(exp_a)\n",
    "    y = exp_a / sum_exp_a\n",
    "    \n",
    "    return y"
   ]
  },
  {
   "cell_type": "markdown",
   "metadata": {},
   "source": [
    "### 3.5.3 소프트맥스 함수의 특징\n",
    "softmax() 함수를 사용하면 신경망의 출력은 다음과 같이 계산 가능"
   ]
  },
  {
   "cell_type": "code",
   "execution_count": 51,
   "metadata": {
    "collapsed": false,
    "ExecuteTime": {
     "end_time": "2023-07-27T07:56:40.870348Z",
     "start_time": "2023-07-27T07:56:39.646847Z"
    }
   },
   "outputs": [],
   "source": [
    "a = np.array([0.3, 2.9, 4.0])\n",
    "y = softmax(a)\n",
    "print(y)\n",
    "np.sum(y)"
   ]
  },
  {
   "cell_type": "markdown",
   "metadata": {},
   "source": [
    "소프트맥스 함수 출력의 총합은 1. 출력을 '확률'로 해석할 수 있음.\n",
    "\n",
    "y[0]의 확률 0.018(1.8%), y[1]의 확률 0.245(24.5%), y[2]의 확률 0.737(73.7%)로 해석가능\n",
    "\n",
    "\"2번째 원소의 확률이 가장 높으니, 답은 2번 클래스다\"\n",
    "\n",
    "소프트맥스 함수를 이용함으로써 문제를 확률적(통계적)으로 대응할 수 있게 됨\n",
    "\n",
    "소프트맥스를 적용해도 각 원소의 대소 관계는 변하지 않음\n",
    "\n",
    "이유: 단조 증가함수(a<=b일 때 f(a)<=f(b)가 성립하는 함수)이기 때문\n",
    "\n",
    "추론 단계에서는 출력층의 소프트맥스 함수를 생략하는 것이 일반적\n",
    "\n",
    "학습 시킬 때에는 출력층에서 소프트맥스 함수를 사용"
   ]
  },
  {
   "cell_type": "markdown",
   "metadata": {},
   "source": [
    "### 3.5.4 출력층의 뉴런 수 정하기\n",
    "분류에서는 분류하고 싶은 클래스 수로 설정하는 것이 일반적\n",
    "\n",
    "이미지를 숫자 0부터 9 중 하나로 분류하는 문제라면 출력층의 뉴런을 10개로 설정"
   ]
  },
  {
   "cell_type": "code",
   "execution_count": null,
   "metadata": {
    "collapsed": true,
    "ExecuteTime": {
     "start_time": "2023-07-27T07:27:51.236430Z"
    }
   },
   "outputs": [],
   "source": [
    "# 그림 3-23!"
   ]
  },
  {
   "cell_type": "markdown",
   "metadata": {
    "ExecuteTime": {
     "end_time": "2023-07-27T07:56:41.684007Z",
     "start_time": "2023-07-27T07:56:39.690297Z"
    }
   },
   "source": [
    "출력층 뉴런은 위에서부터 차례로 0, 1, ..., 9에 대응.\n",
    "\n",
    "이 신경망이 선택한 클래스는 y2, 입력 이미지를 숫자 '2'로 판단했음을 의미"
   ],
   "outputs": [
    {
     "name": "stdout",
     "output_type": "stream",
     "text": [
      "Downloading train-images-idx3-ubyte.gz ... \n",
      "Done\n",
      "Downloading train-labels-idx1-ubyte.gz ... \n",
      "Done\n",
      "Downloading t10k-images-idx3-ubyte.gz ... \n",
      "Done\n",
      "Downloading t10k-labels-idx1-ubyte.gz ... \n",
      "Done\n",
      "Converting train-images-idx3-ubyte.gz to NumPy Array ...\n",
      "Done\n",
      "Converting train-labels-idx1-ubyte.gz to NumPy Array ...\n",
      "Done\n",
      "Converting t10k-images-idx3-ubyte.gz to NumPy Array ...\n",
      "Done\n",
      "Converting t10k-labels-idx1-ubyte.gz to NumPy Array ...\n",
      "Done\n",
      "Creating pickle file ...\n",
      "Done!\n",
      "(60000, 784)\n",
      "(60000,)\n",
      "(10000, 784)\n",
      "(10000,)\n"
     ]
    }
   ],
   "execution_count": 52
  },
  {
   "cell_type": "markdown",
   "metadata": {},
   "source": [
    "## 3.6 손글씨 숫자 인식\n",
    "추론 과정: 신경망의 순전파(forward propagation)\n",
    "\n",
    "신경망 문제 해결 2단계\n",
    "\n",
    "학습단계: 훈련 데이터(학습 데이터)를 사용해 가중치 매개변수를 학습\n",
    "\n",
    "추론단계: 앞서 학습한 매개변수를 사용하여 입력 데이터를 분류"
   ]
  },
  {
   "cell_type": "markdown",
   "metadata": {},
   "source": [
    "### 3.6.1 MNIST 데이터셋\n",
    "MNIST: 손글씨 숫자 이미지 집합\n",
    "\n",
    "0부터 9까지의 숫자 이미지로 구성\n",
    "\n",
    "훈련 이미지가 60000장, 시험 이미지가 10000장 준비됨\n",
    "\n",
    "훈련 이미지로 모델을 학습. 시험 이미지들을 얼마나 정확하게 분류하는지를 평가함\n",
    "\n",
    "MNIST의 이미지 데이터는 28 X 28 크기의 회색조 이미지, 각 픽셀 값은 0~255. 각 이미지에는 실제 의미하는 숫자가 레이블로 붙어 있음."
   ],
   "outputs": [
    {
     "name": "stdout",
     "output_type": "stream",
     "text": [
      "5\n",
      "(784,)\n",
      "(28, 28)\n"
     ]
    },
    {
     "data": {
      "text/plain": "<Figure size 640x480 with 1 Axes>",
      "image/png": "[encoded data removed]"
     },
     "metadata": {},
     "output_type": "display_data"
    }
   ],
   "execution_count": 53
  },
  {
   "cell_type": "code",
   "execution_count": null,
   "metadata": {
    "collapsed": false,
    "ExecuteTime": {
     "start_time": "2023-07-27T07:27:51.237970Z"
    }
   },
   "outputs": [],
   "source": [
    "import sys, os\n",
    "sys.path.append(os.pardir) # 부모 디렉터리의 파일을 가져올 수 있도록 설정\n",
    "from dataset.mnist import load_mnist\n",
    "\n",
    "# 처음 한 번은 몇 분 정도 걸립니다.\n",
    "(x_train, t_train), (x_test, t_test) = load_mnist(flatten=True, normalize=False)\n",
    "\n",
    "# 각 데이터의 형상 출력\n",
    "print(x_train.shape) # (60000, 784)\n",
    "print(t_train.shape) # (60000,)\n",
    "print(x_test.shape)  # (10000, 784)\n",
    "print(t_test.shape)  # (10000,)"
   ]
  },
  {
   "cell_type": "markdown",
   "metadata": {},
   "source": [
    "부모 디렉터리의 파일을 가져오고 dataset/mnist.py의 lost_mnist함수를 import함\n",
    "\n",
    "load_mnist 함수로 데이터셋을 읽음\n",
    "\n",
    "최초 실행시 인터넷에 연결된 상태여야 함\n",
    "\n",
    "두 번째부터는 로컬에 저장된 pickle 파일을 읽기 때문에 순식간에 끝남.\n",
    "\n",
    "load_mnist 함수는 읽은 MNIST 데이터를 \"(훈련 이미지, 훈련 레이블), (시험 이미지, 시험 레이블)\" 형식으로 반환\n",
    "\n",
    "load_mnist 인수\n",
    "\n",
    "normalize 입력 이미지의 픽셀 값을 0.0~1.0 사이의 값으로 정규화할 지 결정\n",
    "\n",
    "flatten 1차원 배열로 할지 여부. False면 1X28X28의 3차원 배열, True면 784개의 원소로 이뤄진 1차원 배열로 저장\n",
    "\n",
    "one_hot_lable 원-핫 인코딩(one-hot encoding). 정답을 뜻하는 원소만 1이고 나머지는 모두 0인 배열.\n",
    "\n",
    "파이썬 pickle: 프로그램 실행 중에 특정 객체를 파일로 저장하는 기능. pickle 파일을 로드하면 실행 당시의 객체를 즉시 복원가능\n",
    "\n",
    "MNIST 이미지를 화면에 불러오기\n",
    "\n",
    "참고주소: http://qiita.com/Tatejimaru137/items/44646c9bb3799768fa81"
   ]
  },
  {
   "cell_type": "code",
   "execution_count": 54,
   "metadata": {
    "collapsed": false
   },
   "outputs": [],
   "source": [
    "%matplotlib inline\n",
    "import sys, os\n",
    "sys.path.append(os.pardir)\n",
    "import numpy as np\n",
    "from dataset.mnist import load_mnist\n",
    "from PIL import Image\n",
    "\n",
    "def img_show(img):\n",
    "    pil_img = Image.fromarray(np.uint8(img))\n",
    "    #pil_img.show()\n",
    "    plt.imshow(np.array(pil_img))\n",
    "    \n",
    "(x_train, t_train), (x_test, t_test) = load_mnist(flatten=True, normalize=False)\n",
    "\n",
    "img = x_train[0]\n",
    "label = t_train[0]\n",
    "\n",
    "print(label) # 5\n",
    "\n",
    "print(img.shape)          # (784,)\n",
    "img = img.reshape(28, 28) # 원래 이미지의 모양으로 변형\n",
    "print(img.shape)          # (28, 28)\n",
    "\n",
    "img_show(img)"
   ]
  },
  {
   "cell_type": "markdown",
   "metadata": {},
   "source": [
    "reshape() 메서드: 원하는 형상을 인수로 지정하면 넘파이 배열의 형상을 변환가능"
   ]
  },
  {
   "cell_type": "markdown",
   "metadata": {},
   "source": [
    "### 3.6.2 신경망의 추론 처리\n",
    "입력층 뉴런을 784개, 출력층 뉴런을 10개로 구성\n",
    "\n",
    "첫 번째 은닉층은 50개의 뉴런, 두 번째 은닉층은 100개의 뉴런을 배치"
   ],
   "outputs": [
    {
     "name": "stdout",
     "output_type": "stream",
     "text": [
      "Accuracy:0.9352\n"
     ]
    }
   ],
   "execution_count": 55
  },
  {
   "cell_type": "code",
   "execution_count": null,
   "metadata": {
    "collapsed": false,
    "ExecuteTime": {
     "start_time": "2023-07-27T07:27:51.240263Z"
    }
   },
   "outputs": [],
   "source": [
    "import pickle\n",
    "\n",
    "def get_data():\n",
    "    (x_train, t_train), (x_test, t_test) = load_mnist(normalize=True, flatten=True, one_hot_label = False)\n",
    "    return x_test, t_test\n",
    "\n",
    "def init_network():\n",
    "    with open(\"sample_weight.pkl\", 'rb') as f:\n",
    "        network = pickle.load(f)\n",
    "    \n",
    "    return network\n",
    "\n",
    "def predict(network, x):\n",
    "    W1, W2, W3 = network['W1'], network['W2'], network['W3']\n",
    "    b1, b2, b3 = network['b1'], network['b2'], network['b3']\n",
    "    \n",
    "    a1 = np.dot(x, W1) + b1\n",
    "    z1 = sigmoid(a1)\n",
    "    a2 = np.dot(z1, W2) + b2\n",
    "    z2 = sigmoid(a2)\n",
    "    a3 = np.dot(z2, W3) + b3\n",
    "    y = softmax(a3)\n",
    "    \n",
    "    return y"
   ]
  },
  {
   "cell_type": "markdown",
   "metadata": {},
   "source": [
    "init_network(): pickle 파일인 sample_weight.pkl에 저장된 '학습된 가중치 매개변수'를 읽음\n",
    "\n",
    "정확도(accuracy, 분류가 얼마나 올바른가) 평가"
   ]
  },
  {
   "cell_type": "code",
   "execution_count": 56,
   "metadata": {
    "collapsed": false
   },
   "outputs": [
    {
     "data": {
      "text/plain": "(10000, 784)"
     },
     "execution_count": 56,
     "metadata": {},
     "output_type": "execute_result"
    }
   ],
   "source": [
    "x, t = get_data()\n",
    "network = init_network()\n",
    "\n",
    "accuracy_cnt = 0\n",
    "for i in range(len(x)):\n",
    "    y = predict(network, x[i])\n",
    "    p = np.argmax(y) # 확률이 가장 높은 원소의 인덱스를 얻음\n",
    "    if p == t[i]:\n",
    "        accuracy_cnt += 1\n",
    "\n",
    "print(\"Accuracy:\" + str(float(accuracy_cnt) / len(x)))"
   ]
  },
  {
   "cell_type": "markdown",
   "metadata": {},
   "source": [
    "predict() : 각 레이블의 확률을 넘파이 배열로 반환\n",
    "    \n",
    "np.argmax() : 가장 큰(확률이 가장 높은) 원소의 인덱스를 구함 => 예측 결과\n",
    "\n",
    "신경망이 예측한 답변과 정답 레이블을 비교하여 맞힌 숫자(accuracy_cnt)를 세고, 전체 이미지 숫자로 나눠 정확도 계산\n",
    "\n",
    "normalize를 True로 설정. 각 픽셀의 값을 0.0~1.0 범위로 변환.\n",
    "\n",
    "정규화(normalize) : 데이터를 특정 범위로 변환하는 처리\n",
    "\n",
    "전처리(pre-processing) : 신경망의 입력 데이터에 특정 변환을 가하는 것\n",
    "\n",
    "전처리, 정규화 예시\n",
    "\n",
    "데이터 전체 평균과 표준편차를 이용하여 데이터들이 0을 중심으로 분포하도록 이동시킴\n",
    "\n",
    "데이터의 확산 범위를 제한하는 정규화를 수행\n",
    "\n",
    "전체 데이터를 균일하게 분포시키는 데이터 백색화(whitening)"
   ],
   "outputs": [
    {
     "data": {
      "text/plain": "(784,)"
     },
     "execution_count": 57,
     "metadata": {},
     "output_type": "execute_result"
    }
   ],
   "execution_count": 57
  },
  {
   "cell_type": "markdown",
   "metadata": {},
   "source": [
    "### 3.6.3 배치 처리\n",
    "각 층의 가충치 형상을 출력"
   ],
   "outputs": [
    {
     "data": {
      "text/plain": "(784, 50)"
     },
     "execution_count": 58,
     "metadata": {},
     "output_type": "execute_result"
    }
   ],
   "execution_count": 58
  },
  {
   "cell_type": "code",
   "execution_count": 59,
   "metadata": {
    "collapsed": false
   },
   "outputs": [
    {
     "data": {
      "text/plain": "(50, 100)"
     },
     "execution_count": 59,
     "metadata": {},
     "output_type": "execute_result"
    }
   ],
   "source": [
    "x, _ = get_data()\n",
    "network = init_network()\n",
    "W1, W2, W3 = network['W1'], network['W2'], network['W3']\n",
    "\n",
    "x.shape"
   ]
  },
  {
   "cell_type": "code",
   "execution_count": 60,
   "metadata": {
    "collapsed": false
   },
   "outputs": [
    {
     "data": {
      "text/plain": "(100, 10)"
     },
     "execution_count": 60,
     "metadata": {},
     "output_type": "execute_result"
    }
   ],
   "source": [
    "x[0].shape"
   ]
  },
  {
   "cell_type": "code",
   "execution_count": null,
   "metadata": {
    "collapsed": false,
    "ExecuteTime": {
     "start_time": "2023-07-27T07:27:51.244787Z"
    }
   },
   "outputs": [],
   "source": [
    "W1.shape"
   ]
  },
  {
   "cell_type": "code",
   "execution_count": 61,
   "metadata": {
    "collapsed": false
   },
   "outputs": [],
   "source": [
    "W2.shape"
   ]
  },
  {
   "cell_type": "code",
   "execution_count": null,
   "metadata": {
    "collapsed": false,
    "ExecuteTime": {
     "start_time": "2023-07-27T07:27:51.247075Z"
    }
   },
   "outputs": [],
   "source": [
    "W3.shape"
   ]
  },
  {
   "cell_type": "markdown",
   "metadata": {},
   "source": [
    "최종 결과는 원소가 10개인 1차원 배열 y가 출력됨"
   ],
   "outputs": [],
   "execution_count": 62
  },
  {
   "cell_type": "code",
   "execution_count": null,
   "metadata": {
    "collapsed": true,
    "ExecuteTime": {
     "start_time": "2023-07-27T07:27:51.248279Z"
    }
   },
   "outputs": [],
   "source": [
    "# 그림 3-26!"
   ]
  },
  {
   "cell_type": "markdown",
   "metadata": {},
   "source": [
    "위는 데이터를 1장만 입력했을 때의 처리 흐름"
   ],
   "outputs": [
    {
     "name": "stdout",
     "output_type": "stream",
     "text": [
      "Accuracy:0.9352\n"
     ]
    }
   ],
   "execution_count": 63
  },
  {
   "cell_type": "code",
   "execution_count": null,
   "metadata": {
    "collapsed": true,
    "ExecuteTime": {
     "start_time": "2023-07-27T07:27:51.249411Z"
    }
   },
   "outputs": [],
   "source": [
    "# 그림 3-27!"
   ]
  },
  {
   "cell_type": "markdown",
   "metadata": {},
   "source": [
    "입력 데이터 형상은 100 X 784, 출력 데이터 형상은 100 X 10\n",
    "\n",
    "100장 분량 입력 데이터의 결과가 한 번에 출력됨\n",
    "\n",
    "배치: 하나로 묶은 데이터\n",
    "\n",
    "배치처리 이점 : 이미지 1장당 처리 시간을 대폭 줄임\n",
    "\n",
    "* 수치 계산 라이브러리 대부분이 큰 배열을 효율적으로 계싼\n",
    "\n",
    "* 버스에 주는 부하를 줄임. (CPU, GPU로 순수 계산을 수행하는 비율이 높아짐)\n",
    "\n",
    "배치 처리 구현"
   ],
   "outputs": [
    {
     "data": {
      "text/plain": "[0, 1, 2, 3, 4, 5, 6, 7, 8, 9]"
     },
     "execution_count": 64,
     "metadata": {},
     "output_type": "execute_result"
    }
   ],
   "execution_count": 64
  },
  {
   "cell_type": "code",
   "execution_count": 65,
   "metadata": {
    "collapsed": false
   },
   "outputs": [
    {
     "data": {
      "text/plain": "[0, 3, 6, 9]"
     },
     "execution_count": 65,
     "metadata": {},
     "output_type": "execute_result"
    }
   ],
   "source": [
    "x, t = get_data()\n",
    "network = init_network()\n",
    "\n",
    "batch_size = 100 # 배치 크기\n",
    "accuracy_cnt = 0\n",
    "for i in range(0, len(x), batch_size):\n",
    "    x_batch = x[i:i+batch_size]\n",
    "    y_batch = predict(network, x_batch)\n",
    "    p = np.argmax(y_batch, axis=1)\n",
    "    accuracy_cnt += np.sum(p == t[i:i+batch_size])\n",
    "\n",
    "print(\"Accuracy:\" + str(float(accuracy_cnt) / len(x)))"
   ]
  },
  {
   "cell_type": "markdown",
   "metadata": {},
   "source": [
    "range(start, end, step) 처럼 인수를 3개 지정하면 start에서 end-1까지 step 간격으로 증가하는 리스트를 반환"
   ]
  },
  {
   "cell_type": "code",
   "execution_count": 66,
   "metadata": {
    "collapsed": false
   },
   "outputs": [
    {
     "data": {
      "text/plain": "array([1, 2, 1, 0])"
     },
     "execution_count": 66,
     "metadata": {},
     "output_type": "execute_result"
    }
   ],
   "source": [
    "list( range(0, 10) )"
   ]
  },
  {
   "cell_type": "code",
   "execution_count": null,
   "metadata": {
    "collapsed": false,
    "ExecuteTime": {
     "start_time": "2023-07-27T07:27:51.252843Z"
    }
   },
   "outputs": [],
   "source": [
    "list( range(0, 10, 3) )"
   ]
  },
  {
   "cell_type": "markdown",
   "metadata": {},
   "source": [
    "x[i:i+batch_n]은 입력 데이터 i번째부터 i+batch_n번째까지 데이터를 묶는다는 의미\n",
    "\n",
    "batch_size가 100이므로 x[0:100], x[100:200]와 같이 100장씩 묶어 꺼내게 됨\n",
    "\n",
    "argmax(): 최대값의 인덱스를 가져옴\n",
    "\n",
    "axis=1 인수를 추가. 100 X 10의 배열 중 1번째 차원을 구성하는 각 원소에서(1번째 차원을 축으로) 최대값의 인덱스를 검색\n",
    "\n",
    "argmax axis 예시"
   ],
   "outputs": [
    {
     "name": "stdout",
     "output_type": "stream",
     "text": [
      "[ True  True False  True]\n"
     ]
    },
    {
     "data": {
      "text/plain": "3"
     },
     "execution_count": 67,
     "metadata": {},
     "output_type": "execute_result"
    }
   ],
   "execution_count": 67
  },
  {
   "cell_type": "code",
   "execution_count": null,
   "metadata": {
    "collapsed": false,
    "ExecuteTime": {
     "start_time": "2023-07-27T07:27:51.254089Z"
    }
   },
   "outputs": [],
   "source": [
    "x = np.array([[0.1, 0.8, 0.1], [0.3, 0.1, 0.6], [0.2, 0.5, 0.3], [0.8, 0.1, 0.1]])\n",
    "y = np.argmax(x, axis=1)\n",
    "y"
   ]
  },
  {
   "cell_type": "markdown",
   "metadata": {},
   "source": [
    "배치 단위로 분류된 결과를 실제 답과 비교. == 연산자 사용\n",
    "\n",
    "넘파이 배열끼리 비교하여 True/False로 구성된 bool 배열을 만들고 True가 몇 개인지 셈.\n",
    "\n",
    "True 개수 세는 예제"
   ]
  },
  {
   "cell_type": "code",
   "execution_count": null,
   "metadata": {
    "collapsed": false,
    "ExecuteTime": {
     "start_time": "2023-07-27T07:27:51.255213Z"
    }
   },
   "outputs": [],
   "source": [
    "y = np.array([1, 2, 1, 0])\n",
    "t = np.array([1, 2, 0, 0])\n",
    "print(y==t)\n",
    "np.sum(y==t)"
   ]
  },
  {
   "cell_type": "markdown",
   "metadata": {},
   "source": [
    "## 3.7 정리\n",
    "신경망의 순전파를 살펴봄\n",
    "\n",
    "신경망에서는 매끄럽게 변화하는 시그모이드 함수를, 퍼셉트론에서는 갑자기 변화하는 계단함수를 활성화 함수로 사용\n",
    "\n",
    "이 차이가 중요함. 다음 장에서 설명"
   ]
  },
  {
   "cell_type": "markdown",
   "metadata": {},
   "source": [
    "이번 장에서 배운 내용\n",
    "\n",
    "신경망에서는 활성화 함수로 시그모이드, ReLU 함수 같은 매끄럽게 변화하는 함수를 이용\n",
    "\n",
    "넘파이의 다차원 배열을 잘 사용하면 신경망을 효율적으로 구현 가능\n",
    "\n",
    "기계학습 문제는 크게 회귀, 분류로 나눌 수 있음\n",
    "\n",
    "출력층의 활성화 함수로 회귀에서는 주로 항등 함수, 분류에서는 주로 소프트맥스 함수를 이용\n",
    "\n",
    "분류에서는 출력층의 뉴런 수로 분류하는 클래스 수와 같게 설정\n",
    "\n",
    "입력 데이터를 묶은 것을 배치. 추론 처리를 배치 단위로 진행하면 결과를 훨씬 빠르게 얻을 수 있음."
   ]
  }
 ],
 "metadata": {
  "anaconda-cloud": {},
  "kernelspec": {
   "name": "python3",
   "language": "python",
   "display_name": "Python 3 (ipykernel)"
  },
  "language_info": {
   "codemirror_mode": {
    "name": "ipython",
    "version": 3
   },
   "file_extension": ".py",
   "mimetype": "text/x-python",
   "name": "python",
   "nbconvert_exporter": "python",
   "pygments_lexer": "ipython3",
   "version": "3.5.2"
  }
 },
 "nbformat": 4,
 "nbformat_minor": 0
}
