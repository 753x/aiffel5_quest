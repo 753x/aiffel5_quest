{
 "cells": [
  {
   "cell_type": "markdown",
   "source": [
    "## 4. 사이킷런 활용하기"
   ],
   "metadata": {
    "collapsed": false
   }
  },
  {
   "cell_type": "markdown",
   "source": [
    "사이킷런(scikit-learn)\n",
    "\n",
    "파이썬을 활용한 머신러닝 도구\n",
    "\n",
    "데이터 분석(예측)을 위한 간단하고 효율적인 도구\n",
    "\n",
    "누구나 쉽게 다양한 상황에서 활용 가능\n",
    "\n",
    "오픈 소스"
   ],
   "metadata": {
    "collapsed": false
   }
  },
  {
   "cell_type": "markdown",
   "source": [
    "사이킷 런으로 할 수 있는 일\n",
    "\n",
    "분류(ex. 스팸메일 분류)\n",
    "\n",
    "회귀(ex. 주택 가격 예측)\n",
    "\n",
    "클러스터링(ex. 고객 분류)\n",
    "\n",
    "차원축소(ex. 변수(컬럼)의 수를 줄임)\n",
    "\n",
    "모델 선택(모델의 성능을 평가)\n",
    "\n",
    "전처리(데이터 가공/변환)"
   ],
   "metadata": {
    "collapsed": false
   }
  },
  {
   "cell_type": "code",
   "execution_count": 63,
   "outputs": [
    {
     "data": {
      "text/plain": "          메뉴     가격  호수     칼로리  할인율      할인가  원산지 살찔까요     고민\n0  [인기]아이펠치킨  16000  11  1200.0  0.5   8000.0  국내산   no  무조건먹자\n1        닭강정  15000  12  1500.0  0.2  12000.0  브라질  yes   먹지말자\n2       간장치킨  14000   9  1600.0  0.2  11200.0  국내산  yes   먹지말자\n3       마늘치킨  14000   9  1800.0  0.2  11200.0  국내산  yes   먹지말자\n4         파닭  14000  11  1300.0  0.2  11200.0  브라질  yes   먹지말자\n5     승일양념치킨  13000  10  1400.0  0.2  10400.0  국내산  yes   먹지말자\n6   양념반후라이드반  13000  10  1300.0  0.2  10400.0  국내산  yes   먹지말자\n7     황금후라이드  12000  10  1000.0  0.2   9600.0  국내산   no  무조건먹자\n8  [베스트]풀잎치킨   9900  10  1000.0  NaN      NaN  국내산   no  무조건먹자",
      "text/html": "<div>\n<style scoped>\n    .dataframe tbody tr th:only-of-type {\n        vertical-align: middle;\n    }\n\n    .dataframe tbody tr th {\n        vertical-align: top;\n    }\n\n    .dataframe thead th {\n        text-align: right;\n    }\n</style>\n<table border=\"1\" class=\"dataframe\">\n  <thead>\n    <tr style=\"text-align: right;\">\n      <th></th>\n      <th>메뉴</th>\n      <th>가격</th>\n      <th>호수</th>\n      <th>칼로리</th>\n      <th>할인율</th>\n      <th>할인가</th>\n      <th>원산지</th>\n      <th>살찔까요</th>\n      <th>고민</th>\n    </tr>\n  </thead>\n  <tbody>\n    <tr>\n      <th>0</th>\n      <td>[인기]아이펠치킨</td>\n      <td>16000</td>\n      <td>11</td>\n      <td>1200.0</td>\n      <td>0.5</td>\n      <td>8000.0</td>\n      <td>국내산</td>\n      <td>no</td>\n      <td>무조건먹자</td>\n    </tr>\n    <tr>\n      <th>1</th>\n      <td>닭강정</td>\n      <td>15000</td>\n      <td>12</td>\n      <td>1500.0</td>\n      <td>0.2</td>\n      <td>12000.0</td>\n      <td>브라질</td>\n      <td>yes</td>\n      <td>먹지말자</td>\n    </tr>\n    <tr>\n      <th>2</th>\n      <td>간장치킨</td>\n      <td>14000</td>\n      <td>9</td>\n      <td>1600.0</td>\n      <td>0.2</td>\n      <td>11200.0</td>\n      <td>국내산</td>\n      <td>yes</td>\n      <td>먹지말자</td>\n    </tr>\n    <tr>\n      <th>3</th>\n      <td>마늘치킨</td>\n      <td>14000</td>\n      <td>9</td>\n      <td>1800.0</td>\n      <td>0.2</td>\n      <td>11200.0</td>\n      <td>국내산</td>\n      <td>yes</td>\n      <td>먹지말자</td>\n    </tr>\n    <tr>\n      <th>4</th>\n      <td>파닭</td>\n      <td>14000</td>\n      <td>11</td>\n      <td>1300.0</td>\n      <td>0.2</td>\n      <td>11200.0</td>\n      <td>브라질</td>\n      <td>yes</td>\n      <td>먹지말자</td>\n    </tr>\n    <tr>\n      <th>5</th>\n      <td>승일양념치킨</td>\n      <td>13000</td>\n      <td>10</td>\n      <td>1400.0</td>\n      <td>0.2</td>\n      <td>10400.0</td>\n      <td>국내산</td>\n      <td>yes</td>\n      <td>먹지말자</td>\n    </tr>\n    <tr>\n      <th>6</th>\n      <td>양념반후라이드반</td>\n      <td>13000</td>\n      <td>10</td>\n      <td>1300.0</td>\n      <td>0.2</td>\n      <td>10400.0</td>\n      <td>국내산</td>\n      <td>yes</td>\n      <td>먹지말자</td>\n    </tr>\n    <tr>\n      <th>7</th>\n      <td>황금후라이드</td>\n      <td>12000</td>\n      <td>10</td>\n      <td>1000.0</td>\n      <td>0.2</td>\n      <td>9600.0</td>\n      <td>국내산</td>\n      <td>no</td>\n      <td>무조건먹자</td>\n    </tr>\n    <tr>\n      <th>8</th>\n      <td>[베스트]풀잎치킨</td>\n      <td>9900</td>\n      <td>10</td>\n      <td>1000.0</td>\n      <td>NaN</td>\n      <td>NaN</td>\n      <td>국내산</td>\n      <td>no</td>\n      <td>무조건먹자</td>\n    </tr>\n  </tbody>\n</table>\n</div>"
     },
     "execution_count": 63,
     "metadata": {},
     "output_type": "execute_result"
    }
   ],
   "source": [
    "import pandas as pd\n",
    "import numpy as np\n",
    "data = pd.DataFrame({\n",
    "    '메뉴': ['[인기]아이펠치킨','닭강정','간장치킨','마늘치킨','파닭','승일양념치킨','양념반후라이드반','황금후라이드','[베스트]풀잎치킨'],\n",
    "    '가격': [16000,15000,14000,14000,14000,13000,13000,12000,9900],\n",
    "    '호수' : [11,12,9,9,11,10,10,10,10],\n",
    "    '칼로리' : [1200.0,1500.0,1600.0,1800.0,1300.0,1400.0,1300.0,1000.0,1000.0],\n",
    "    '할인율' : [0.5,0.2,0.2,0.2,0.2,0.2,0.2,0.2,np.nan],\n",
    "    '할인가' : [8000.0,12000.0,11200.0,11200.0,11200.0,10400.0,10400.0,9600.0,np.nan],\n",
    "    '원산지' : ['국내산','브라질','국내산','국내산','브라질','국내산','국내산','국내산','국내산'],\n",
    "    '살찔까요' : ['no','yes','yes','yes','yes','yes','yes','no','no'],\n",
    "    '고민' : ['무조건먹자','먹지말자','먹지말자','먹지말자','먹지말자','먹지말자','먹지말자','무조건먹자','무조건먹자']\n",
    "})\n",
    "data.to_csv('final_modudak.csv', index=False)\n",
    "data"
   ],
   "metadata": {
    "collapsed": false,
    "ExecuteTime": {
     "end_time": "2023-07-11T07:35:23.801171Z",
     "start_time": "2023-07-11T07:35:23.662015Z"
    }
   }
  },
  {
   "cell_type": "code",
   "execution_count": 64,
   "outputs": [],
   "source": [
    "# 데이터 변경\n",
    "data.loc[2,'원산지'] = '미국'"
   ],
   "metadata": {
    "collapsed": false,
    "ExecuteTime": {
     "end_time": "2023-07-11T07:35:23.856957Z",
     "start_time": "2023-07-11T07:35:23.675306Z"
    }
   }
  },
  {
   "cell_type": "code",
   "execution_count": 65,
   "outputs": [
    {
     "data": {
      "text/plain": "      가격  호수     칼로리  원산지 살찔까요\n0  16000  11  1200.0  국내산   no\n1  15000  12  1500.0  브라질  yes\n2  14000   9  1600.0   미국  yes\n3  14000   9  1800.0  국내산  yes\n4  14000  11  1300.0  브라질  yes\n5  13000  10  1400.0  국내산  yes\n6  13000  10  1300.0  국내산  yes\n7  12000  10  1000.0  국내산   no\n8   9900  10  1000.0  국내산   no",
      "text/html": "<div>\n<style scoped>\n    .dataframe tbody tr th:only-of-type {\n        vertical-align: middle;\n    }\n\n    .dataframe tbody tr th {\n        vertical-align: top;\n    }\n\n    .dataframe thead th {\n        text-align: right;\n    }\n</style>\n<table border=\"1\" class=\"dataframe\">\n  <thead>\n    <tr style=\"text-align: right;\">\n      <th></th>\n      <th>가격</th>\n      <th>호수</th>\n      <th>칼로리</th>\n      <th>원산지</th>\n      <th>살찔까요</th>\n    </tr>\n  </thead>\n  <tbody>\n    <tr>\n      <th>0</th>\n      <td>16000</td>\n      <td>11</td>\n      <td>1200.0</td>\n      <td>국내산</td>\n      <td>no</td>\n    </tr>\n    <tr>\n      <th>1</th>\n      <td>15000</td>\n      <td>12</td>\n      <td>1500.0</td>\n      <td>브라질</td>\n      <td>yes</td>\n    </tr>\n    <tr>\n      <th>2</th>\n      <td>14000</td>\n      <td>9</td>\n      <td>1600.0</td>\n      <td>미국</td>\n      <td>yes</td>\n    </tr>\n    <tr>\n      <th>3</th>\n      <td>14000</td>\n      <td>9</td>\n      <td>1800.0</td>\n      <td>국내산</td>\n      <td>yes</td>\n    </tr>\n    <tr>\n      <th>4</th>\n      <td>14000</td>\n      <td>11</td>\n      <td>1300.0</td>\n      <td>브라질</td>\n      <td>yes</td>\n    </tr>\n    <tr>\n      <th>5</th>\n      <td>13000</td>\n      <td>10</td>\n      <td>1400.0</td>\n      <td>국내산</td>\n      <td>yes</td>\n    </tr>\n    <tr>\n      <th>6</th>\n      <td>13000</td>\n      <td>10</td>\n      <td>1300.0</td>\n      <td>국내산</td>\n      <td>yes</td>\n    </tr>\n    <tr>\n      <th>7</th>\n      <td>12000</td>\n      <td>10</td>\n      <td>1000.0</td>\n      <td>국내산</td>\n      <td>no</td>\n    </tr>\n    <tr>\n      <th>8</th>\n      <td>9900</td>\n      <td>10</td>\n      <td>1000.0</td>\n      <td>국내산</td>\n      <td>no</td>\n    </tr>\n  </tbody>\n</table>\n</div>"
     },
     "execution_count": 65,
     "metadata": {},
     "output_type": "execute_result"
    }
   ],
   "source": [
    "df = data[['가격','호수','칼로리','원산지','살찔까요']].copy()\n",
    "df"
   ],
   "metadata": {
    "collapsed": false,
    "ExecuteTime": {
     "end_time": "2023-07-11T07:35:23.857287Z",
     "start_time": "2023-07-11T07:35:23.686937Z"
    }
   }
  },
  {
   "cell_type": "code",
   "execution_count": 66,
   "outputs": [
    {
     "name": "stdout",
     "output_type": "stream",
     "text": [
      "<class 'pandas.core.frame.DataFrame'>\n",
      "RangeIndex: 9 entries, 0 to 8\n",
      "Data columns (total 5 columns):\n",
      " #   Column  Non-Null Count  Dtype  \n",
      "---  ------  --------------  -----  \n",
      " 0   가격      9 non-null      int64  \n",
      " 1   호수      9 non-null      int64  \n",
      " 2   칼로리     9 non-null      float64\n",
      " 3   원산지     9 non-null      object \n",
      " 4   살찔까요    9 non-null      object \n",
      "dtypes: float64(1), int64(2), object(2)\n",
      "memory usage: 488.0+ bytes\n"
     ]
    }
   ],
   "source": [
    "# 데이터 전처리 : 범주형 데이터\n",
    "\n",
    "# 레이블 인코딩\n",
    "\n",
    "# 원핫 인코딩\n",
    "\n",
    "#type 확인\n",
    "df.info()"
   ],
   "metadata": {
    "collapsed": false,
    "ExecuteTime": {
     "end_time": "2023-07-11T07:35:23.857570Z",
     "start_time": "2023-07-11T07:35:23.696802Z"
    }
   }
  },
  {
   "cell_type": "code",
   "execution_count": 67,
   "outputs": [
    {
     "data": {
      "text/plain": "array([0, 2, 1, 0, 2, 0, 0, 0, 0])"
     },
     "execution_count": 67,
     "metadata": {},
     "output_type": "execute_result"
    }
   ],
   "source": [
    "# 레이블 인코딩\n",
    "from sklearn.preprocessing import LabelEncoder\n",
    "le = LabelEncoder()\n",
    "le.fit(df['원산지'])\n",
    "le.transform(df['원산지'])"
   ],
   "metadata": {
    "collapsed": false,
    "ExecuteTime": {
     "end_time": "2023-07-11T07:35:23.857722Z",
     "start_time": "2023-07-11T07:35:23.703807Z"
    }
   }
  },
  {
   "cell_type": "code",
   "execution_count": 68,
   "outputs": [
    {
     "data": {
      "text/plain": "array([0, 2, 1, 0, 2, 0, 0, 0, 0])"
     },
     "execution_count": 68,
     "metadata": {},
     "output_type": "execute_result"
    }
   ],
   "source": [
    "#fit_transform\n",
    "le.fit_transform(df['원산지'])"
   ],
   "metadata": {
    "collapsed": false,
    "ExecuteTime": {
     "end_time": "2023-07-11T07:35:23.858157Z",
     "start_time": "2023-07-11T07:35:23.710140Z"
    }
   }
  },
  {
   "cell_type": "code",
   "execution_count": 69,
   "outputs": [
    {
     "data": {
      "text/plain": "      가격  호수     칼로리  원산지 살찔까요\n0  16000  11  1200.0    0   no\n1  15000  12  1500.0    2  yes\n2  14000   9  1600.0    1  yes\n3  14000   9  1800.0    0  yes\n4  14000  11  1300.0    2  yes\n5  13000  10  1400.0    0  yes\n6  13000  10  1300.0    0  yes\n7  12000  10  1000.0    0   no\n8   9900  10  1000.0    0   no",
      "text/html": "<div>\n<style scoped>\n    .dataframe tbody tr th:only-of-type {\n        vertical-align: middle;\n    }\n\n    .dataframe tbody tr th {\n        vertical-align: top;\n    }\n\n    .dataframe thead th {\n        text-align: right;\n    }\n</style>\n<table border=\"1\" class=\"dataframe\">\n  <thead>\n    <tr style=\"text-align: right;\">\n      <th></th>\n      <th>가격</th>\n      <th>호수</th>\n      <th>칼로리</th>\n      <th>원산지</th>\n      <th>살찔까요</th>\n    </tr>\n  </thead>\n  <tbody>\n    <tr>\n      <th>0</th>\n      <td>16000</td>\n      <td>11</td>\n      <td>1200.0</td>\n      <td>0</td>\n      <td>no</td>\n    </tr>\n    <tr>\n      <th>1</th>\n      <td>15000</td>\n      <td>12</td>\n      <td>1500.0</td>\n      <td>2</td>\n      <td>yes</td>\n    </tr>\n    <tr>\n      <th>2</th>\n      <td>14000</td>\n      <td>9</td>\n      <td>1600.0</td>\n      <td>1</td>\n      <td>yes</td>\n    </tr>\n    <tr>\n      <th>3</th>\n      <td>14000</td>\n      <td>9</td>\n      <td>1800.0</td>\n      <td>0</td>\n      <td>yes</td>\n    </tr>\n    <tr>\n      <th>4</th>\n      <td>14000</td>\n      <td>11</td>\n      <td>1300.0</td>\n      <td>2</td>\n      <td>yes</td>\n    </tr>\n    <tr>\n      <th>5</th>\n      <td>13000</td>\n      <td>10</td>\n      <td>1400.0</td>\n      <td>0</td>\n      <td>yes</td>\n    </tr>\n    <tr>\n      <th>6</th>\n      <td>13000</td>\n      <td>10</td>\n      <td>1300.0</td>\n      <td>0</td>\n      <td>yes</td>\n    </tr>\n    <tr>\n      <th>7</th>\n      <td>12000</td>\n      <td>10</td>\n      <td>1000.0</td>\n      <td>0</td>\n      <td>no</td>\n    </tr>\n    <tr>\n      <th>8</th>\n      <td>9900</td>\n      <td>10</td>\n      <td>1000.0</td>\n      <td>0</td>\n      <td>no</td>\n    </tr>\n  </tbody>\n</table>\n</div>"
     },
     "execution_count": 69,
     "metadata": {},
     "output_type": "execute_result"
    }
   ],
   "source": [
    "# 데이터 변환\n",
    "df['원산지'] = le.fit_transform(df['원산지'])\n",
    "df"
   ],
   "metadata": {
    "collapsed": false,
    "ExecuteTime": {
     "end_time": "2023-07-11T07:35:23.858399Z",
     "start_time": "2023-07-11T07:35:23.726222Z"
    }
   }
  },
  {
   "cell_type": "code",
   "execution_count": 70,
   "outputs": [
    {
     "data": {
      "text/plain": "      가격  호수     칼로리  원산지  살찔까요\n0  16000  11  1200.0    0     0\n1  15000  12  1500.0    2     1\n2  14000   9  1600.0    1     1\n3  14000   9  1800.0    0     1\n4  14000  11  1300.0    2     1\n5  13000  10  1400.0    0     1\n6  13000  10  1300.0    0     1\n7  12000  10  1000.0    0     0\n8   9900  10  1000.0    0     0",
      "text/html": "<div>\n<style scoped>\n    .dataframe tbody tr th:only-of-type {\n        vertical-align: middle;\n    }\n\n    .dataframe tbody tr th {\n        vertical-align: top;\n    }\n\n    .dataframe thead th {\n        text-align: right;\n    }\n</style>\n<table border=\"1\" class=\"dataframe\">\n  <thead>\n    <tr style=\"text-align: right;\">\n      <th></th>\n      <th>가격</th>\n      <th>호수</th>\n      <th>칼로리</th>\n      <th>원산지</th>\n      <th>살찔까요</th>\n    </tr>\n  </thead>\n  <tbody>\n    <tr>\n      <th>0</th>\n      <td>16000</td>\n      <td>11</td>\n      <td>1200.0</td>\n      <td>0</td>\n      <td>0</td>\n    </tr>\n    <tr>\n      <th>1</th>\n      <td>15000</td>\n      <td>12</td>\n      <td>1500.0</td>\n      <td>2</td>\n      <td>1</td>\n    </tr>\n    <tr>\n      <th>2</th>\n      <td>14000</td>\n      <td>9</td>\n      <td>1600.0</td>\n      <td>1</td>\n      <td>1</td>\n    </tr>\n    <tr>\n      <th>3</th>\n      <td>14000</td>\n      <td>9</td>\n      <td>1800.0</td>\n      <td>0</td>\n      <td>1</td>\n    </tr>\n    <tr>\n      <th>4</th>\n      <td>14000</td>\n      <td>11</td>\n      <td>1300.0</td>\n      <td>2</td>\n      <td>1</td>\n    </tr>\n    <tr>\n      <th>5</th>\n      <td>13000</td>\n      <td>10</td>\n      <td>1400.0</td>\n      <td>0</td>\n      <td>1</td>\n    </tr>\n    <tr>\n      <th>6</th>\n      <td>13000</td>\n      <td>10</td>\n      <td>1300.0</td>\n      <td>0</td>\n      <td>1</td>\n    </tr>\n    <tr>\n      <th>7</th>\n      <td>12000</td>\n      <td>10</td>\n      <td>1000.0</td>\n      <td>0</td>\n      <td>0</td>\n    </tr>\n    <tr>\n      <th>8</th>\n      <td>9900</td>\n      <td>10</td>\n      <td>1000.0</td>\n      <td>0</td>\n      <td>0</td>\n    </tr>\n  </tbody>\n</table>\n</div>"
     },
     "execution_count": 70,
     "metadata": {},
     "output_type": "execute_result"
    }
   ],
   "source": [
    "# '살찔까요' 라벨 인코딩\n",
    "df['살찔까요'] = le.fit_transform(df['살찔까요'])\n",
    "df"
   ],
   "metadata": {
    "collapsed": false,
    "ExecuteTime": {
     "end_time": "2023-07-11T07:35:23.858601Z",
     "start_time": "2023-07-11T07:35:23.747779Z"
    }
   }
  },
  {
   "cell_type": "code",
   "execution_count": 71,
   "outputs": [],
   "source": [
    "# 레이블 인코딩(심화) - 여러개 컬럼 한번에 인코딩\n",
    "#활용할 데이터 선택"
   ],
   "metadata": {
    "collapsed": false,
    "ExecuteTime": {
     "end_time": "2023-07-11T07:35:23.858891Z",
     "start_time": "2023-07-11T07:35:23.758337Z"
    }
   }
  },
  {
   "cell_type": "code",
   "execution_count": 72,
   "outputs": [
    {
     "data": {
      "text/plain": "      가격  호수     칼로리  원산지 살찔까요\n0  16000  11  1200.0  국내산   no\n1  15000  12  1500.0  브라질  yes\n2  14000   9  1600.0   미국  yes\n3  14000   9  1800.0  국내산  yes\n4  14000  11  1300.0  브라질  yes\n5  13000  10  1400.0  국내산  yes\n6  13000  10  1300.0  국내산  yes\n7  12000  10  1000.0  국내산   no\n8   9900  10  1000.0  국내산   no",
      "text/html": "<div>\n<style scoped>\n    .dataframe tbody tr th:only-of-type {\n        vertical-align: middle;\n    }\n\n    .dataframe tbody tr th {\n        vertical-align: top;\n    }\n\n    .dataframe thead th {\n        text-align: right;\n    }\n</style>\n<table border=\"1\" class=\"dataframe\">\n  <thead>\n    <tr style=\"text-align: right;\">\n      <th></th>\n      <th>가격</th>\n      <th>호수</th>\n      <th>칼로리</th>\n      <th>원산지</th>\n      <th>살찔까요</th>\n    </tr>\n  </thead>\n  <tbody>\n    <tr>\n      <th>0</th>\n      <td>16000</td>\n      <td>11</td>\n      <td>1200.0</td>\n      <td>국내산</td>\n      <td>no</td>\n    </tr>\n    <tr>\n      <th>1</th>\n      <td>15000</td>\n      <td>12</td>\n      <td>1500.0</td>\n      <td>브라질</td>\n      <td>yes</td>\n    </tr>\n    <tr>\n      <th>2</th>\n      <td>14000</td>\n      <td>9</td>\n      <td>1600.0</td>\n      <td>미국</td>\n      <td>yes</td>\n    </tr>\n    <tr>\n      <th>3</th>\n      <td>14000</td>\n      <td>9</td>\n      <td>1800.0</td>\n      <td>국내산</td>\n      <td>yes</td>\n    </tr>\n    <tr>\n      <th>4</th>\n      <td>14000</td>\n      <td>11</td>\n      <td>1300.0</td>\n      <td>브라질</td>\n      <td>yes</td>\n    </tr>\n    <tr>\n      <th>5</th>\n      <td>13000</td>\n      <td>10</td>\n      <td>1400.0</td>\n      <td>국내산</td>\n      <td>yes</td>\n    </tr>\n    <tr>\n      <th>6</th>\n      <td>13000</td>\n      <td>10</td>\n      <td>1300.0</td>\n      <td>국내산</td>\n      <td>yes</td>\n    </tr>\n    <tr>\n      <th>7</th>\n      <td>12000</td>\n      <td>10</td>\n      <td>1000.0</td>\n      <td>국내산</td>\n      <td>no</td>\n    </tr>\n    <tr>\n      <th>8</th>\n      <td>9900</td>\n      <td>10</td>\n      <td>1000.0</td>\n      <td>국내산</td>\n      <td>no</td>\n    </tr>\n  </tbody>\n</table>\n</div>"
     },
     "execution_count": 72,
     "metadata": {},
     "output_type": "execute_result"
    }
   ],
   "source": [
    "df = data[['가격','호수','칼로리','원산지','살찔까요']].copy()\n",
    "df"
   ],
   "metadata": {
    "collapsed": false,
    "ExecuteTime": {
     "end_time": "2023-07-11T07:35:23.859137Z",
     "start_time": "2023-07-11T07:35:23.770497Z"
    }
   }
  },
  {
   "cell_type": "code",
   "execution_count": 73,
   "outputs": [],
   "source": [
    "# object 타입의 컬럼만 선택[원산지, 살찔까요]\n",
    "# cols = ['원산지','살찔까요']\n",
    "cols = df.select_dtypes(include='object').columns"
   ],
   "metadata": {
    "collapsed": false,
    "ExecuteTime": {
     "end_time": "2023-07-11T07:35:23.859210Z",
     "start_time": "2023-07-11T07:35:23.776615Z"
    }
   }
  },
  {
   "cell_type": "code",
   "execution_count": 74,
   "outputs": [],
   "source": [
    "# 한번에 레이블 인코딩\n",
    "from sklearn.preprocessing import LabelEncoder\n",
    "for col in cols:\n",
    "    le = LabelEncoder()\n",
    "    df[col] = le.fit_transform(df[col])\n"
   ],
   "metadata": {
    "collapsed": false,
    "ExecuteTime": {
     "end_time": "2023-07-11T07:35:23.859318Z",
     "start_time": "2023-07-11T07:35:23.779681Z"
    }
   }
  },
  {
   "cell_type": "code",
   "execution_count": 75,
   "outputs": [
    {
     "data": {
      "text/plain": "      가격  호수     칼로리  원산지  살찔까요\n0  16000  11  1200.0    0     0\n1  15000  12  1500.0    2     1\n2  14000   9  1600.0    1     1\n3  14000   9  1800.0    0     1\n4  14000  11  1300.0    2     1\n5  13000  10  1400.0    0     1\n6  13000  10  1300.0    0     1\n7  12000  10  1000.0    0     0\n8   9900  10  1000.0    0     0",
      "text/html": "<div>\n<style scoped>\n    .dataframe tbody tr th:only-of-type {\n        vertical-align: middle;\n    }\n\n    .dataframe tbody tr th {\n        vertical-align: top;\n    }\n\n    .dataframe thead th {\n        text-align: right;\n    }\n</style>\n<table border=\"1\" class=\"dataframe\">\n  <thead>\n    <tr style=\"text-align: right;\">\n      <th></th>\n      <th>가격</th>\n      <th>호수</th>\n      <th>칼로리</th>\n      <th>원산지</th>\n      <th>살찔까요</th>\n    </tr>\n  </thead>\n  <tbody>\n    <tr>\n      <th>0</th>\n      <td>16000</td>\n      <td>11</td>\n      <td>1200.0</td>\n      <td>0</td>\n      <td>0</td>\n    </tr>\n    <tr>\n      <th>1</th>\n      <td>15000</td>\n      <td>12</td>\n      <td>1500.0</td>\n      <td>2</td>\n      <td>1</td>\n    </tr>\n    <tr>\n      <th>2</th>\n      <td>14000</td>\n      <td>9</td>\n      <td>1600.0</td>\n      <td>1</td>\n      <td>1</td>\n    </tr>\n    <tr>\n      <th>3</th>\n      <td>14000</td>\n      <td>9</td>\n      <td>1800.0</td>\n      <td>0</td>\n      <td>1</td>\n    </tr>\n    <tr>\n      <th>4</th>\n      <td>14000</td>\n      <td>11</td>\n      <td>1300.0</td>\n      <td>2</td>\n      <td>1</td>\n    </tr>\n    <tr>\n      <th>5</th>\n      <td>13000</td>\n      <td>10</td>\n      <td>1400.0</td>\n      <td>0</td>\n      <td>1</td>\n    </tr>\n    <tr>\n      <th>6</th>\n      <td>13000</td>\n      <td>10</td>\n      <td>1300.0</td>\n      <td>0</td>\n      <td>1</td>\n    </tr>\n    <tr>\n      <th>7</th>\n      <td>12000</td>\n      <td>10</td>\n      <td>1000.0</td>\n      <td>0</td>\n      <td>0</td>\n    </tr>\n    <tr>\n      <th>8</th>\n      <td>9900</td>\n      <td>10</td>\n      <td>1000.0</td>\n      <td>0</td>\n      <td>0</td>\n    </tr>\n  </tbody>\n</table>\n</div>"
     },
     "execution_count": 75,
     "metadata": {},
     "output_type": "execute_result"
    }
   ],
   "source": [
    "#인코딩 결과 확인\n",
    "df"
   ],
   "metadata": {
    "collapsed": false,
    "ExecuteTime": {
     "end_time": "2023-07-11T07:35:23.859433Z",
     "start_time": "2023-07-11T07:35:23.784466Z"
    }
   }
  },
  {
   "cell_type": "code",
   "execution_count": 76,
   "outputs": [],
   "source": [
    "#원핫인코딩"
   ],
   "metadata": {
    "collapsed": false,
    "ExecuteTime": {
     "end_time": "2023-07-11T07:35:23.859501Z",
     "start_time": "2023-07-11T07:35:23.796597Z"
    }
   }
  },
  {
   "cell_type": "code",
   "execution_count": 77,
   "outputs": [
    {
     "data": {
      "text/plain": "      가격  호수     칼로리  원산지 살찔까요\n0  16000  11  1200.0  국내산   no\n1  15000  12  1500.0  브라질  yes\n2  14000   9  1600.0   미국  yes\n3  14000   9  1800.0  국내산  yes\n4  14000  11  1300.0  브라질  yes\n5  13000  10  1400.0  국내산  yes\n6  13000  10  1300.0  국내산  yes\n7  12000  10  1000.0  국내산   no\n8   9900  10  1000.0  국내산   no",
      "text/html": "<div>\n<style scoped>\n    .dataframe tbody tr th:only-of-type {\n        vertical-align: middle;\n    }\n\n    .dataframe tbody tr th {\n        vertical-align: top;\n    }\n\n    .dataframe thead th {\n        text-align: right;\n    }\n</style>\n<table border=\"1\" class=\"dataframe\">\n  <thead>\n    <tr style=\"text-align: right;\">\n      <th></th>\n      <th>가격</th>\n      <th>호수</th>\n      <th>칼로리</th>\n      <th>원산지</th>\n      <th>살찔까요</th>\n    </tr>\n  </thead>\n  <tbody>\n    <tr>\n      <th>0</th>\n      <td>16000</td>\n      <td>11</td>\n      <td>1200.0</td>\n      <td>국내산</td>\n      <td>no</td>\n    </tr>\n    <tr>\n      <th>1</th>\n      <td>15000</td>\n      <td>12</td>\n      <td>1500.0</td>\n      <td>브라질</td>\n      <td>yes</td>\n    </tr>\n    <tr>\n      <th>2</th>\n      <td>14000</td>\n      <td>9</td>\n      <td>1600.0</td>\n      <td>미국</td>\n      <td>yes</td>\n    </tr>\n    <tr>\n      <th>3</th>\n      <td>14000</td>\n      <td>9</td>\n      <td>1800.0</td>\n      <td>국내산</td>\n      <td>yes</td>\n    </tr>\n    <tr>\n      <th>4</th>\n      <td>14000</td>\n      <td>11</td>\n      <td>1300.0</td>\n      <td>브라질</td>\n      <td>yes</td>\n    </tr>\n    <tr>\n      <th>5</th>\n      <td>13000</td>\n      <td>10</td>\n      <td>1400.0</td>\n      <td>국내산</td>\n      <td>yes</td>\n    </tr>\n    <tr>\n      <th>6</th>\n      <td>13000</td>\n      <td>10</td>\n      <td>1300.0</td>\n      <td>국내산</td>\n      <td>yes</td>\n    </tr>\n    <tr>\n      <th>7</th>\n      <td>12000</td>\n      <td>10</td>\n      <td>1000.0</td>\n      <td>국내산</td>\n      <td>no</td>\n    </tr>\n    <tr>\n      <th>8</th>\n      <td>9900</td>\n      <td>10</td>\n      <td>1000.0</td>\n      <td>국내산</td>\n      <td>no</td>\n    </tr>\n  </tbody>\n</table>\n</div>"
     },
     "execution_count": 77,
     "metadata": {},
     "output_type": "execute_result"
    }
   ],
   "source": [
    "# 활용할 데이터 선택\n",
    "df = data[['가격','호수','칼로리','원산지','살찔까요']].copy()\n",
    "df"
   ],
   "metadata": {
    "collapsed": false,
    "ExecuteTime": {
     "end_time": "2023-07-11T07:35:23.876037Z",
     "start_time": "2023-07-11T07:35:23.798270Z"
    }
   }
  },
  {
   "cell_type": "code",
   "execution_count": 78,
   "outputs": [
    {
     "name": "stderr",
     "output_type": "stream",
     "text": [
      "/Users/ralphpark/anaconda3/lib/python3.10/site-packages/sklearn/preprocessing/_encoders.py:828: FutureWarning: `sparse` was renamed to `sparse_output` in version 1.2 and will be removed in 1.4. `sparse_output` is ignored unless you leave `sparse` to its default value.\n",
      "  warnings.warn(\n"
     ]
    }
   ],
   "source": [
    "#원핫인코딩\n",
    "from sklearn.preprocessing import OneHotEncoder\n",
    "ohe = OneHotEncoder(sparse=False) #sparse=False : 희소행렬이 아닌 넘파이 배열로 반환\n",
    "cat = ohe.fit_transform(df[['원산지']]) #대괄호 2번 해야 데이터프레임 형태호 반환"
   ],
   "metadata": {
    "collapsed": false,
    "ExecuteTime": {
     "end_time": "2023-07-11T07:35:23.876669Z",
     "start_time": "2023-07-11T07:35:23.808254Z"
    }
   }
  },
  {
   "cell_type": "code",
   "execution_count": 79,
   "outputs": [
    {
     "data": {
      "text/plain": "array([[1., 0., 0.],\n       [0., 0., 1.],\n       [0., 1., 0.],\n       [1., 0., 0.],\n       [0., 0., 1.],\n       [1., 0., 0.],\n       [1., 0., 0.],\n       [1., 0., 0.],\n       [1., 0., 0.]])"
     },
     "execution_count": 79,
     "metadata": {},
     "output_type": "execute_result"
    }
   ],
   "source": [
    "#원핫인코딩 결과 확인\n",
    "cat"
   ],
   "metadata": {
    "collapsed": false,
    "ExecuteTime": {
     "end_time": "2023-07-11T07:35:23.876903Z",
     "start_time": "2023-07-11T07:35:23.814161Z"
    }
   }
  },
  {
   "cell_type": "code",
   "execution_count": 80,
   "outputs": [
    {
     "data": {
      "text/plain": "[array(['국내산', '미국', '브라질'], dtype=object)]"
     },
     "execution_count": 80,
     "metadata": {},
     "output_type": "execute_result"
    }
   ],
   "source": [
    "#카테코리\n",
    "ohe.categories_"
   ],
   "metadata": {
    "collapsed": false,
    "ExecuteTime": {
     "end_time": "2023-07-11T07:35:23.877062Z",
     "start_time": "2023-07-11T07:35:23.821744Z"
    }
   }
  },
  {
   "cell_type": "code",
   "execution_count": 81,
   "outputs": [
    {
     "data": {
      "text/plain": "array(['원산지_국내산', '원산지_미국', '원산지_브라질'], dtype=object)"
     },
     "execution_count": 81,
     "metadata": {},
     "output_type": "execute_result"
    }
   ],
   "source": [
    "#피처(컬럼)이름과 카테고리 , 원래 카테고리 이름 활용\n",
    "ohe.get_feature_names_out()"
   ],
   "metadata": {
    "collapsed": false,
    "ExecuteTime": {
     "end_time": "2023-07-11T07:35:23.877242Z",
     "start_time": "2023-07-11T07:35:23.824300Z"
    }
   }
  },
  {
   "cell_type": "code",
   "execution_count": 82,
   "outputs": [
    {
     "data": {
      "text/plain": "   원산지_국내산  원산지_미국  원산지_브라질\n0      1.0     0.0      0.0\n1      0.0     0.0      1.0\n2      0.0     1.0      0.0\n3      1.0     0.0      0.0\n4      0.0     0.0      1.0\n5      1.0     0.0      0.0\n6      1.0     0.0      0.0\n7      1.0     0.0      0.0\n8      1.0     0.0      0.0",
      "text/html": "<div>\n<style scoped>\n    .dataframe tbody tr th:only-of-type {\n        vertical-align: middle;\n    }\n\n    .dataframe tbody tr th {\n        vertical-align: top;\n    }\n\n    .dataframe thead th {\n        text-align: right;\n    }\n</style>\n<table border=\"1\" class=\"dataframe\">\n  <thead>\n    <tr style=\"text-align: right;\">\n      <th></th>\n      <th>원산지_국내산</th>\n      <th>원산지_미국</th>\n      <th>원산지_브라질</th>\n    </tr>\n  </thead>\n  <tbody>\n    <tr>\n      <th>0</th>\n      <td>1.0</td>\n      <td>0.0</td>\n      <td>0.0</td>\n    </tr>\n    <tr>\n      <th>1</th>\n      <td>0.0</td>\n      <td>0.0</td>\n      <td>1.0</td>\n    </tr>\n    <tr>\n      <th>2</th>\n      <td>0.0</td>\n      <td>1.0</td>\n      <td>0.0</td>\n    </tr>\n    <tr>\n      <th>3</th>\n      <td>1.0</td>\n      <td>0.0</td>\n      <td>0.0</td>\n    </tr>\n    <tr>\n      <th>4</th>\n      <td>0.0</td>\n      <td>0.0</td>\n      <td>1.0</td>\n    </tr>\n    <tr>\n      <th>5</th>\n      <td>1.0</td>\n      <td>0.0</td>\n      <td>0.0</td>\n    </tr>\n    <tr>\n      <th>6</th>\n      <td>1.0</td>\n      <td>0.0</td>\n      <td>0.0</td>\n    </tr>\n    <tr>\n      <th>7</th>\n      <td>1.0</td>\n      <td>0.0</td>\n      <td>0.0</td>\n    </tr>\n    <tr>\n      <th>8</th>\n      <td>1.0</td>\n      <td>0.0</td>\n      <td>0.0</td>\n    </tr>\n  </tbody>\n</table>\n</div>"
     },
     "execution_count": 82,
     "metadata": {},
     "output_type": "execute_result"
    }
   ],
   "source": [
    "#원핫인코딩 결과를 데이터프레임으로 변환\n",
    "df_cat = pd.DataFrame(cat, columns=ohe.get_feature_names_out())\n",
    "df_cat"
   ],
   "metadata": {
    "collapsed": false,
    "ExecuteTime": {
     "end_time": "2023-07-11T07:35:23.877407Z",
     "start_time": "2023-07-11T07:35:23.834542Z"
    }
   }
  },
  {
   "cell_type": "code",
   "execution_count": 83,
   "outputs": [
    {
     "data": {
      "text/plain": "      가격  호수     칼로리  원산지 살찔까요  원산지_국내산  원산지_미국  원산지_브라질\n0  16000  11  1200.0  국내산   no      1.0     0.0      0.0\n1  15000  12  1500.0  브라질  yes      0.0     0.0      1.0\n2  14000   9  1600.0   미국  yes      0.0     1.0      0.0\n3  14000   9  1800.0  국내산  yes      1.0     0.0      0.0\n4  14000  11  1300.0  브라질  yes      0.0     0.0      1.0\n5  13000  10  1400.0  국내산  yes      1.0     0.0      0.0\n6  13000  10  1300.0  국내산  yes      1.0     0.0      0.0\n7  12000  10  1000.0  국내산   no      1.0     0.0      0.0\n8   9900  10  1000.0  국내산   no      1.0     0.0      0.0",
      "text/html": "<div>\n<style scoped>\n    .dataframe tbody tr th:only-of-type {\n        vertical-align: middle;\n    }\n\n    .dataframe tbody tr th {\n        vertical-align: top;\n    }\n\n    .dataframe thead th {\n        text-align: right;\n    }\n</style>\n<table border=\"1\" class=\"dataframe\">\n  <thead>\n    <tr style=\"text-align: right;\">\n      <th></th>\n      <th>가격</th>\n      <th>호수</th>\n      <th>칼로리</th>\n      <th>원산지</th>\n      <th>살찔까요</th>\n      <th>원산지_국내산</th>\n      <th>원산지_미국</th>\n      <th>원산지_브라질</th>\n    </tr>\n  </thead>\n  <tbody>\n    <tr>\n      <th>0</th>\n      <td>16000</td>\n      <td>11</td>\n      <td>1200.0</td>\n      <td>국내산</td>\n      <td>no</td>\n      <td>1.0</td>\n      <td>0.0</td>\n      <td>0.0</td>\n    </tr>\n    <tr>\n      <th>1</th>\n      <td>15000</td>\n      <td>12</td>\n      <td>1500.0</td>\n      <td>브라질</td>\n      <td>yes</td>\n      <td>0.0</td>\n      <td>0.0</td>\n      <td>1.0</td>\n    </tr>\n    <tr>\n      <th>2</th>\n      <td>14000</td>\n      <td>9</td>\n      <td>1600.0</td>\n      <td>미국</td>\n      <td>yes</td>\n      <td>0.0</td>\n      <td>1.0</td>\n      <td>0.0</td>\n    </tr>\n    <tr>\n      <th>3</th>\n      <td>14000</td>\n      <td>9</td>\n      <td>1800.0</td>\n      <td>국내산</td>\n      <td>yes</td>\n      <td>1.0</td>\n      <td>0.0</td>\n      <td>0.0</td>\n    </tr>\n    <tr>\n      <th>4</th>\n      <td>14000</td>\n      <td>11</td>\n      <td>1300.0</td>\n      <td>브라질</td>\n      <td>yes</td>\n      <td>0.0</td>\n      <td>0.0</td>\n      <td>1.0</td>\n    </tr>\n    <tr>\n      <th>5</th>\n      <td>13000</td>\n      <td>10</td>\n      <td>1400.0</td>\n      <td>국내산</td>\n      <td>yes</td>\n      <td>1.0</td>\n      <td>0.0</td>\n      <td>0.0</td>\n    </tr>\n    <tr>\n      <th>6</th>\n      <td>13000</td>\n      <td>10</td>\n      <td>1300.0</td>\n      <td>국내산</td>\n      <td>yes</td>\n      <td>1.0</td>\n      <td>0.0</td>\n      <td>0.0</td>\n    </tr>\n    <tr>\n      <th>7</th>\n      <td>12000</td>\n      <td>10</td>\n      <td>1000.0</td>\n      <td>국내산</td>\n      <td>no</td>\n      <td>1.0</td>\n      <td>0.0</td>\n      <td>0.0</td>\n    </tr>\n    <tr>\n      <th>8</th>\n      <td>9900</td>\n      <td>10</td>\n      <td>1000.0</td>\n      <td>국내산</td>\n      <td>no</td>\n      <td>1.0</td>\n      <td>0.0</td>\n      <td>0.0</td>\n    </tr>\n  </tbody>\n</table>\n</div>"
     },
     "execution_count": 83,
     "metadata": {},
     "output_type": "execute_result"
    }
   ],
   "source": [
    "# 데이터 프레임 합치기\n",
    "df = pd.concat([df,df_cat], axis=1)\n",
    "df"
   ],
   "metadata": {
    "collapsed": false,
    "ExecuteTime": {
     "end_time": "2023-07-11T07:35:23.877534Z",
     "start_time": "2023-07-11T07:35:23.837285Z"
    }
   }
  },
  {
   "cell_type": "code",
   "execution_count": 84,
   "outputs": [
    {
     "data": {
      "text/plain": "      가격  호수     칼로리 살찔까요  원산지_국내산  원산지_미국  원산지_브라질\n0  16000  11  1200.0   no      1.0     0.0      0.0\n1  15000  12  1500.0  yes      0.0     0.0      1.0\n2  14000   9  1600.0  yes      0.0     1.0      0.0\n3  14000   9  1800.0  yes      1.0     0.0      0.0\n4  14000  11  1300.0  yes      0.0     0.0      1.0\n5  13000  10  1400.0  yes      1.0     0.0      0.0\n6  13000  10  1300.0  yes      1.0     0.0      0.0\n7  12000  10  1000.0   no      1.0     0.0      0.0\n8   9900  10  1000.0   no      1.0     0.0      0.0",
      "text/html": "<div>\n<style scoped>\n    .dataframe tbody tr th:only-of-type {\n        vertical-align: middle;\n    }\n\n    .dataframe tbody tr th {\n        vertical-align: top;\n    }\n\n    .dataframe thead th {\n        text-align: right;\n    }\n</style>\n<table border=\"1\" class=\"dataframe\">\n  <thead>\n    <tr style=\"text-align: right;\">\n      <th></th>\n      <th>가격</th>\n      <th>호수</th>\n      <th>칼로리</th>\n      <th>살찔까요</th>\n      <th>원산지_국내산</th>\n      <th>원산지_미국</th>\n      <th>원산지_브라질</th>\n    </tr>\n  </thead>\n  <tbody>\n    <tr>\n      <th>0</th>\n      <td>16000</td>\n      <td>11</td>\n      <td>1200.0</td>\n      <td>no</td>\n      <td>1.0</td>\n      <td>0.0</td>\n      <td>0.0</td>\n    </tr>\n    <tr>\n      <th>1</th>\n      <td>15000</td>\n      <td>12</td>\n      <td>1500.0</td>\n      <td>yes</td>\n      <td>0.0</td>\n      <td>0.0</td>\n      <td>1.0</td>\n    </tr>\n    <tr>\n      <th>2</th>\n      <td>14000</td>\n      <td>9</td>\n      <td>1600.0</td>\n      <td>yes</td>\n      <td>0.0</td>\n      <td>1.0</td>\n      <td>0.0</td>\n    </tr>\n    <tr>\n      <th>3</th>\n      <td>14000</td>\n      <td>9</td>\n      <td>1800.0</td>\n      <td>yes</td>\n      <td>1.0</td>\n      <td>0.0</td>\n      <td>0.0</td>\n    </tr>\n    <tr>\n      <th>4</th>\n      <td>14000</td>\n      <td>11</td>\n      <td>1300.0</td>\n      <td>yes</td>\n      <td>0.0</td>\n      <td>0.0</td>\n      <td>1.0</td>\n    </tr>\n    <tr>\n      <th>5</th>\n      <td>13000</td>\n      <td>10</td>\n      <td>1400.0</td>\n      <td>yes</td>\n      <td>1.0</td>\n      <td>0.0</td>\n      <td>0.0</td>\n    </tr>\n    <tr>\n      <th>6</th>\n      <td>13000</td>\n      <td>10</td>\n      <td>1300.0</td>\n      <td>yes</td>\n      <td>1.0</td>\n      <td>0.0</td>\n      <td>0.0</td>\n    </tr>\n    <tr>\n      <th>7</th>\n      <td>12000</td>\n      <td>10</td>\n      <td>1000.0</td>\n      <td>no</td>\n      <td>1.0</td>\n      <td>0.0</td>\n      <td>0.0</td>\n    </tr>\n    <tr>\n      <th>8</th>\n      <td>9900</td>\n      <td>10</td>\n      <td>1000.0</td>\n      <td>no</td>\n      <td>1.0</td>\n      <td>0.0</td>\n      <td>0.0</td>\n    </tr>\n  </tbody>\n</table>\n</div>"
     },
     "execution_count": 84,
     "metadata": {},
     "output_type": "execute_result"
    }
   ],
   "source": [
    "# 기존 컬럼 삭제\n",
    "df = df.drop(['원산지'], axis=1)\n",
    "df"
   ],
   "metadata": {
    "collapsed": false,
    "ExecuteTime": {
     "end_time": "2023-07-11T07:35:23.895848Z",
     "start_time": "2023-07-11T07:35:23.858676Z"
    }
   }
  },
  {
   "cell_type": "code",
   "execution_count": 85,
   "outputs": [
    {
     "data": {
      "text/plain": "      가격  호수     칼로리  원산지 살찔까요\n0  16000  11  1200.0  국내산   no\n1  15000  12  1500.0  브라질  yes\n2  14000   9  1600.0   미국  yes\n3  14000   9  1800.0  국내산  yes\n4  14000  11  1300.0  브라질  yes\n5  13000  10  1400.0  국내산  yes\n6  13000  10  1300.0  국내산  yes\n7  12000  10  1000.0  국내산   no\n8   9900  10  1000.0  국내산   no",
      "text/html": "<div>\n<style scoped>\n    .dataframe tbody tr th:only-of-type {\n        vertical-align: middle;\n    }\n\n    .dataframe tbody tr th {\n        vertical-align: top;\n    }\n\n    .dataframe thead th {\n        text-align: right;\n    }\n</style>\n<table border=\"1\" class=\"dataframe\">\n  <thead>\n    <tr style=\"text-align: right;\">\n      <th></th>\n      <th>가격</th>\n      <th>호수</th>\n      <th>칼로리</th>\n      <th>원산지</th>\n      <th>살찔까요</th>\n    </tr>\n  </thead>\n  <tbody>\n    <tr>\n      <th>0</th>\n      <td>16000</td>\n      <td>11</td>\n      <td>1200.0</td>\n      <td>국내산</td>\n      <td>no</td>\n    </tr>\n    <tr>\n      <th>1</th>\n      <td>15000</td>\n      <td>12</td>\n      <td>1500.0</td>\n      <td>브라질</td>\n      <td>yes</td>\n    </tr>\n    <tr>\n      <th>2</th>\n      <td>14000</td>\n      <td>9</td>\n      <td>1600.0</td>\n      <td>미국</td>\n      <td>yes</td>\n    </tr>\n    <tr>\n      <th>3</th>\n      <td>14000</td>\n      <td>9</td>\n      <td>1800.0</td>\n      <td>국내산</td>\n      <td>yes</td>\n    </tr>\n    <tr>\n      <th>4</th>\n      <td>14000</td>\n      <td>11</td>\n      <td>1300.0</td>\n      <td>브라질</td>\n      <td>yes</td>\n    </tr>\n    <tr>\n      <th>5</th>\n      <td>13000</td>\n      <td>10</td>\n      <td>1400.0</td>\n      <td>국내산</td>\n      <td>yes</td>\n    </tr>\n    <tr>\n      <th>6</th>\n      <td>13000</td>\n      <td>10</td>\n      <td>1300.0</td>\n      <td>국내산</td>\n      <td>yes</td>\n    </tr>\n    <tr>\n      <th>7</th>\n      <td>12000</td>\n      <td>10</td>\n      <td>1000.0</td>\n      <td>국내산</td>\n      <td>no</td>\n    </tr>\n    <tr>\n      <th>8</th>\n      <td>9900</td>\n      <td>10</td>\n      <td>1000.0</td>\n      <td>국내산</td>\n      <td>no</td>\n    </tr>\n  </tbody>\n</table>\n</div>"
     },
     "execution_count": 85,
     "metadata": {},
     "output_type": "execute_result"
    }
   ],
   "source": [
    "# 원핫 인코딩 (심화) - 여러개 컬럼 한번에 인코딩\n",
    "\n",
    "# 활용할 데이터 선택\n",
    "df = data[['가격','호수','칼로리','원산지','살찔까요']].copy()\n",
    "df"
   ],
   "metadata": {
    "collapsed": false,
    "ExecuteTime": {
     "end_time": "2023-07-11T07:37:02.195192Z",
     "start_time": "2023-07-11T07:37:02.171454Z"
    }
   }
  },
  {
   "cell_type": "code",
   "execution_count": 86,
   "outputs": [
    {
     "name": "stderr",
     "output_type": "stream",
     "text": [
      "/Users/ralphpark/anaconda3/lib/python3.10/site-packages/sklearn/preprocessing/_encoders.py:828: FutureWarning: `sparse` was renamed to `sparse_output` in version 1.2 and will be removed in 1.4. `sparse_output` is ignored unless you leave `sparse` to its default value.\n",
      "  warnings.warn(\n"
     ]
    },
    {
     "data": {
      "text/plain": "   원산지_국내산  원산지_미국  원산지_브라질  살찔까요_no  살찔까요_yes\n0      1.0     0.0      0.0      1.0       0.0\n1      0.0     0.0      1.0      0.0       1.0\n2      0.0     1.0      0.0      0.0       1.0\n3      1.0     0.0      0.0      0.0       1.0\n4      0.0     0.0      1.0      0.0       1.0\n5      1.0     0.0      0.0      0.0       1.0\n6      1.0     0.0      0.0      0.0       1.0\n7      1.0     0.0      0.0      1.0       0.0\n8      1.0     0.0      0.0      1.0       0.0",
      "text/html": "<div>\n<style scoped>\n    .dataframe tbody tr th:only-of-type {\n        vertical-align: middle;\n    }\n\n    .dataframe tbody tr th {\n        vertical-align: top;\n    }\n\n    .dataframe thead th {\n        text-align: right;\n    }\n</style>\n<table border=\"1\" class=\"dataframe\">\n  <thead>\n    <tr style=\"text-align: right;\">\n      <th></th>\n      <th>원산지_국내산</th>\n      <th>원산지_미국</th>\n      <th>원산지_브라질</th>\n      <th>살찔까요_no</th>\n      <th>살찔까요_yes</th>\n    </tr>\n  </thead>\n  <tbody>\n    <tr>\n      <th>0</th>\n      <td>1.0</td>\n      <td>0.0</td>\n      <td>0.0</td>\n      <td>1.0</td>\n      <td>0.0</td>\n    </tr>\n    <tr>\n      <th>1</th>\n      <td>0.0</td>\n      <td>0.0</td>\n      <td>1.0</td>\n      <td>0.0</td>\n      <td>1.0</td>\n    </tr>\n    <tr>\n      <th>2</th>\n      <td>0.0</td>\n      <td>1.0</td>\n      <td>0.0</td>\n      <td>0.0</td>\n      <td>1.0</td>\n    </tr>\n    <tr>\n      <th>3</th>\n      <td>1.0</td>\n      <td>0.0</td>\n      <td>0.0</td>\n      <td>0.0</td>\n      <td>1.0</td>\n    </tr>\n    <tr>\n      <th>4</th>\n      <td>0.0</td>\n      <td>0.0</td>\n      <td>1.0</td>\n      <td>0.0</td>\n      <td>1.0</td>\n    </tr>\n    <tr>\n      <th>5</th>\n      <td>1.0</td>\n      <td>0.0</td>\n      <td>0.0</td>\n      <td>0.0</td>\n      <td>1.0</td>\n    </tr>\n    <tr>\n      <th>6</th>\n      <td>1.0</td>\n      <td>0.0</td>\n      <td>0.0</td>\n      <td>0.0</td>\n      <td>1.0</td>\n    </tr>\n    <tr>\n      <th>7</th>\n      <td>1.0</td>\n      <td>0.0</td>\n      <td>0.0</td>\n      <td>1.0</td>\n      <td>0.0</td>\n    </tr>\n    <tr>\n      <th>8</th>\n      <td>1.0</td>\n      <td>0.0</td>\n      <td>0.0</td>\n      <td>1.0</td>\n      <td>0.0</td>\n    </tr>\n  </tbody>\n</table>\n</div>"
     },
     "execution_count": 86,
     "metadata": {},
     "output_type": "execute_result"
    }
   ],
   "source": [
    "# 원핫인코딩\n",
    "from sklearn.preprocessing import OneHotEncoder\n",
    "cols = df.select_dtypes(include='object').columns\n",
    "ohe = OneHotEncoder(sparse=False)\n",
    "cat = ohe.fit_transform(df[cols])\n",
    "df_cat = pd.DataFrame(cat, columns=ohe.get_feature_names_out())\n",
    "df_cat"
   ],
   "metadata": {
    "collapsed": false,
    "ExecuteTime": {
     "end_time": "2023-07-11T07:39:07.785342Z",
     "start_time": "2023-07-11T07:39:07.773065Z"
    }
   }
  },
  {
   "cell_type": "code",
   "execution_count": 87,
   "outputs": [],
   "source": [
    "# 데이터 프레임 합치기\n",
    "df = pd.concat([df,df_cat], axis=1)"
   ],
   "metadata": {
    "collapsed": false,
    "ExecuteTime": {
     "end_time": "2023-07-11T08:30:53.405391Z",
     "start_time": "2023-07-11T08:30:53.390125Z"
    }
   }
  },
  {
   "cell_type": "code",
   "execution_count": 88,
   "outputs": [
    {
     "data": {
      "text/plain": "      가격  호수     칼로리  원산지 살찔까요  원산지_국내산  원산지_미국  원산지_브라질  살찔까요_no  살찔까요_yes\n0  16000  11  1200.0  국내산   no      1.0     0.0      0.0      1.0       0.0\n1  15000  12  1500.0  브라질  yes      0.0     0.0      1.0      0.0       1.0\n2  14000   9  1600.0   미국  yes      0.0     1.0      0.0      0.0       1.0\n3  14000   9  1800.0  국내산  yes      1.0     0.0      0.0      0.0       1.0\n4  14000  11  1300.0  브라질  yes      0.0     0.0      1.0      0.0       1.0",
      "text/html": "<div>\n<style scoped>\n    .dataframe tbody tr th:only-of-type {\n        vertical-align: middle;\n    }\n\n    .dataframe tbody tr th {\n        vertical-align: top;\n    }\n\n    .dataframe thead th {\n        text-align: right;\n    }\n</style>\n<table border=\"1\" class=\"dataframe\">\n  <thead>\n    <tr style=\"text-align: right;\">\n      <th></th>\n      <th>가격</th>\n      <th>호수</th>\n      <th>칼로리</th>\n      <th>원산지</th>\n      <th>살찔까요</th>\n      <th>원산지_국내산</th>\n      <th>원산지_미국</th>\n      <th>원산지_브라질</th>\n      <th>살찔까요_no</th>\n      <th>살찔까요_yes</th>\n    </tr>\n  </thead>\n  <tbody>\n    <tr>\n      <th>0</th>\n      <td>16000</td>\n      <td>11</td>\n      <td>1200.0</td>\n      <td>국내산</td>\n      <td>no</td>\n      <td>1.0</td>\n      <td>0.0</td>\n      <td>0.0</td>\n      <td>1.0</td>\n      <td>0.0</td>\n    </tr>\n    <tr>\n      <th>1</th>\n      <td>15000</td>\n      <td>12</td>\n      <td>1500.0</td>\n      <td>브라질</td>\n      <td>yes</td>\n      <td>0.0</td>\n      <td>0.0</td>\n      <td>1.0</td>\n      <td>0.0</td>\n      <td>1.0</td>\n    </tr>\n    <tr>\n      <th>2</th>\n      <td>14000</td>\n      <td>9</td>\n      <td>1600.0</td>\n      <td>미국</td>\n      <td>yes</td>\n      <td>0.0</td>\n      <td>1.0</td>\n      <td>0.0</td>\n      <td>0.0</td>\n      <td>1.0</td>\n    </tr>\n    <tr>\n      <th>3</th>\n      <td>14000</td>\n      <td>9</td>\n      <td>1800.0</td>\n      <td>국내산</td>\n      <td>yes</td>\n      <td>1.0</td>\n      <td>0.0</td>\n      <td>0.0</td>\n      <td>0.0</td>\n      <td>1.0</td>\n    </tr>\n    <tr>\n      <th>4</th>\n      <td>14000</td>\n      <td>11</td>\n      <td>1300.0</td>\n      <td>브라질</td>\n      <td>yes</td>\n      <td>0.0</td>\n      <td>0.0</td>\n      <td>1.0</td>\n      <td>0.0</td>\n      <td>1.0</td>\n    </tr>\n  </tbody>\n</table>\n</div>"
     },
     "execution_count": 88,
     "metadata": {},
     "output_type": "execute_result"
    }
   ],
   "source": [
    "df.head()"
   ],
   "metadata": {
    "collapsed": false,
    "ExecuteTime": {
     "end_time": "2023-07-11T08:31:00.032488Z",
     "start_time": "2023-07-11T08:31:00.015954Z"
    }
   }
  },
  {
   "cell_type": "code",
   "execution_count": 89,
   "outputs": [],
   "source": [
    "# 기존 컬럼 삭제\n",
    "df = df.drop(cols, axis=1)"
   ],
   "metadata": {
    "collapsed": false,
    "ExecuteTime": {
     "end_time": "2023-07-11T08:31:35.219638Z",
     "start_time": "2023-07-11T08:31:35.196509Z"
    }
   }
  },
  {
   "cell_type": "code",
   "execution_count": 90,
   "outputs": [
    {
     "data": {
      "text/plain": "      가격  호수     칼로리  원산지_국내산  원산지_미국  원산지_브라질  살찔까요_no  살찔까요_yes\n0  16000  11  1200.0      1.0     0.0      0.0      1.0       0.0\n1  15000  12  1500.0      0.0     0.0      1.0      0.0       1.0\n2  14000   9  1600.0      0.0     1.0      0.0      0.0       1.0\n3  14000   9  1800.0      1.0     0.0      0.0      0.0       1.0\n4  14000  11  1300.0      0.0     0.0      1.0      0.0       1.0",
      "text/html": "<div>\n<style scoped>\n    .dataframe tbody tr th:only-of-type {\n        vertical-align: middle;\n    }\n\n    .dataframe tbody tr th {\n        vertical-align: top;\n    }\n\n    .dataframe thead th {\n        text-align: right;\n    }\n</style>\n<table border=\"1\" class=\"dataframe\">\n  <thead>\n    <tr style=\"text-align: right;\">\n      <th></th>\n      <th>가격</th>\n      <th>호수</th>\n      <th>칼로리</th>\n      <th>원산지_국내산</th>\n      <th>원산지_미국</th>\n      <th>원산지_브라질</th>\n      <th>살찔까요_no</th>\n      <th>살찔까요_yes</th>\n    </tr>\n  </thead>\n  <tbody>\n    <tr>\n      <th>0</th>\n      <td>16000</td>\n      <td>11</td>\n      <td>1200.0</td>\n      <td>1.0</td>\n      <td>0.0</td>\n      <td>0.0</td>\n      <td>1.0</td>\n      <td>0.0</td>\n    </tr>\n    <tr>\n      <th>1</th>\n      <td>15000</td>\n      <td>12</td>\n      <td>1500.0</td>\n      <td>0.0</td>\n      <td>0.0</td>\n      <td>1.0</td>\n      <td>0.0</td>\n      <td>1.0</td>\n    </tr>\n    <tr>\n      <th>2</th>\n      <td>14000</td>\n      <td>9</td>\n      <td>1600.0</td>\n      <td>0.0</td>\n      <td>1.0</td>\n      <td>0.0</td>\n      <td>0.0</td>\n      <td>1.0</td>\n    </tr>\n    <tr>\n      <th>3</th>\n      <td>14000</td>\n      <td>9</td>\n      <td>1800.0</td>\n      <td>1.0</td>\n      <td>0.0</td>\n      <td>0.0</td>\n      <td>0.0</td>\n      <td>1.0</td>\n    </tr>\n    <tr>\n      <th>4</th>\n      <td>14000</td>\n      <td>11</td>\n      <td>1300.0</td>\n      <td>0.0</td>\n      <td>0.0</td>\n      <td>1.0</td>\n      <td>0.0</td>\n      <td>1.0</td>\n    </tr>\n  </tbody>\n</table>\n</div>"
     },
     "execution_count": 90,
     "metadata": {},
     "output_type": "execute_result"
    }
   ],
   "source": [
    "df.head()"
   ],
   "metadata": {
    "collapsed": false,
    "ExecuteTime": {
     "end_time": "2023-07-11T08:31:41.937385Z",
     "start_time": "2023-07-11T08:31:41.920905Z"
    }
   }
  },
  {
   "cell_type": "code",
   "execution_count": 91,
   "outputs": [],
   "source": [
    "#[tip] 원핫인코딩 : 판다스 활용"
   ],
   "metadata": {
    "collapsed": false,
    "ExecuteTime": {
     "end_time": "2023-07-11T08:32:19.707695Z",
     "start_time": "2023-07-11T08:32:19.668312Z"
    }
   }
  },
  {
   "cell_type": "code",
   "execution_count": 92,
   "outputs": [
    {
     "data": {
      "text/plain": "      가격  호수     칼로리  원산지 살찔까요\n0  16000  11  1200.0  국내산   no\n1  15000  12  1500.0  브라질  yes\n2  14000   9  1600.0   미국  yes\n3  14000   9  1800.0  국내산  yes\n4  14000  11  1300.0  브라질  yes\n5  13000  10  1400.0  국내산  yes\n6  13000  10  1300.0  국내산  yes\n7  12000  10  1000.0  국내산   no\n8   9900  10  1000.0  국내산   no",
      "text/html": "<div>\n<style scoped>\n    .dataframe tbody tr th:only-of-type {\n        vertical-align: middle;\n    }\n\n    .dataframe tbody tr th {\n        vertical-align: top;\n    }\n\n    .dataframe thead th {\n        text-align: right;\n    }\n</style>\n<table border=\"1\" class=\"dataframe\">\n  <thead>\n    <tr style=\"text-align: right;\">\n      <th></th>\n      <th>가격</th>\n      <th>호수</th>\n      <th>칼로리</th>\n      <th>원산지</th>\n      <th>살찔까요</th>\n    </tr>\n  </thead>\n  <tbody>\n    <tr>\n      <th>0</th>\n      <td>16000</td>\n      <td>11</td>\n      <td>1200.0</td>\n      <td>국내산</td>\n      <td>no</td>\n    </tr>\n    <tr>\n      <th>1</th>\n      <td>15000</td>\n      <td>12</td>\n      <td>1500.0</td>\n      <td>브라질</td>\n      <td>yes</td>\n    </tr>\n    <tr>\n      <th>2</th>\n      <td>14000</td>\n      <td>9</td>\n      <td>1600.0</td>\n      <td>미국</td>\n      <td>yes</td>\n    </tr>\n    <tr>\n      <th>3</th>\n      <td>14000</td>\n      <td>9</td>\n      <td>1800.0</td>\n      <td>국내산</td>\n      <td>yes</td>\n    </tr>\n    <tr>\n      <th>4</th>\n      <td>14000</td>\n      <td>11</td>\n      <td>1300.0</td>\n      <td>브라질</td>\n      <td>yes</td>\n    </tr>\n    <tr>\n      <th>5</th>\n      <td>13000</td>\n      <td>10</td>\n      <td>1400.0</td>\n      <td>국내산</td>\n      <td>yes</td>\n    </tr>\n    <tr>\n      <th>6</th>\n      <td>13000</td>\n      <td>10</td>\n      <td>1300.0</td>\n      <td>국내산</td>\n      <td>yes</td>\n    </tr>\n    <tr>\n      <th>7</th>\n      <td>12000</td>\n      <td>10</td>\n      <td>1000.0</td>\n      <td>국내산</td>\n      <td>no</td>\n    </tr>\n    <tr>\n      <th>8</th>\n      <td>9900</td>\n      <td>10</td>\n      <td>1000.0</td>\n      <td>국내산</td>\n      <td>no</td>\n    </tr>\n  </tbody>\n</table>\n</div>"
     },
     "execution_count": 92,
     "metadata": {},
     "output_type": "execute_result"
    }
   ],
   "source": [
    "# 활용할 데이터 선택\n",
    "df = data[['가격','호수','칼로리','원산지','살찔까요']].copy()\n",
    "df"
   ],
   "metadata": {
    "collapsed": false,
    "ExecuteTime": {
     "end_time": "2023-07-11T08:32:26.695333Z",
     "start_time": "2023-07-11T08:32:26.676908Z"
    }
   }
  },
  {
   "cell_type": "code",
   "execution_count": 93,
   "outputs": [],
   "source": [
    "# 판다스 원핫인코딩 - 판다스로 하는게 가장 간단하다\n",
    "df = pd.get_dummies(df)"
   ],
   "metadata": {
    "collapsed": false,
    "ExecuteTime": {
     "end_time": "2023-07-11T08:33:18.211267Z",
     "start_time": "2023-07-11T08:33:18.188829Z"
    }
   }
  },
  {
   "cell_type": "code",
   "execution_count": 94,
   "outputs": [
    {
     "data": {
      "text/plain": "      가격  호수     칼로리  원산지_국내산  원산지_미국  원산지_브라질  살찔까요_no  살찔까요_yes\n0  16000  11  1200.0        1       0        0        1         0\n1  15000  12  1500.0        0       0        1        0         1\n2  14000   9  1600.0        0       1        0        0         1\n3  14000   9  1800.0        1       0        0        0         1\n4  14000  11  1300.0        0       0        1        0         1\n5  13000  10  1400.0        1       0        0        0         1\n6  13000  10  1300.0        1       0        0        0         1\n7  12000  10  1000.0        1       0        0        1         0\n8   9900  10  1000.0        1       0        0        1         0",
      "text/html": "<div>\n<style scoped>\n    .dataframe tbody tr th:only-of-type {\n        vertical-align: middle;\n    }\n\n    .dataframe tbody tr th {\n        vertical-align: top;\n    }\n\n    .dataframe thead th {\n        text-align: right;\n    }\n</style>\n<table border=\"1\" class=\"dataframe\">\n  <thead>\n    <tr style=\"text-align: right;\">\n      <th></th>\n      <th>가격</th>\n      <th>호수</th>\n      <th>칼로리</th>\n      <th>원산지_국내산</th>\n      <th>원산지_미국</th>\n      <th>원산지_브라질</th>\n      <th>살찔까요_no</th>\n      <th>살찔까요_yes</th>\n    </tr>\n  </thead>\n  <tbody>\n    <tr>\n      <th>0</th>\n      <td>16000</td>\n      <td>11</td>\n      <td>1200.0</td>\n      <td>1</td>\n      <td>0</td>\n      <td>0</td>\n      <td>1</td>\n      <td>0</td>\n    </tr>\n    <tr>\n      <th>1</th>\n      <td>15000</td>\n      <td>12</td>\n      <td>1500.0</td>\n      <td>0</td>\n      <td>0</td>\n      <td>1</td>\n      <td>0</td>\n      <td>1</td>\n    </tr>\n    <tr>\n      <th>2</th>\n      <td>14000</td>\n      <td>9</td>\n      <td>1600.0</td>\n      <td>0</td>\n      <td>1</td>\n      <td>0</td>\n      <td>0</td>\n      <td>1</td>\n    </tr>\n    <tr>\n      <th>3</th>\n      <td>14000</td>\n      <td>9</td>\n      <td>1800.0</td>\n      <td>1</td>\n      <td>0</td>\n      <td>0</td>\n      <td>0</td>\n      <td>1</td>\n    </tr>\n    <tr>\n      <th>4</th>\n      <td>14000</td>\n      <td>11</td>\n      <td>1300.0</td>\n      <td>0</td>\n      <td>0</td>\n      <td>1</td>\n      <td>0</td>\n      <td>1</td>\n    </tr>\n    <tr>\n      <th>5</th>\n      <td>13000</td>\n      <td>10</td>\n      <td>1400.0</td>\n      <td>1</td>\n      <td>0</td>\n      <td>0</td>\n      <td>0</td>\n      <td>1</td>\n    </tr>\n    <tr>\n      <th>6</th>\n      <td>13000</td>\n      <td>10</td>\n      <td>1300.0</td>\n      <td>1</td>\n      <td>0</td>\n      <td>0</td>\n      <td>0</td>\n      <td>1</td>\n    </tr>\n    <tr>\n      <th>7</th>\n      <td>12000</td>\n      <td>10</td>\n      <td>1000.0</td>\n      <td>1</td>\n      <td>0</td>\n      <td>0</td>\n      <td>1</td>\n      <td>0</td>\n    </tr>\n    <tr>\n      <th>8</th>\n      <td>9900</td>\n      <td>10</td>\n      <td>1000.0</td>\n      <td>1</td>\n      <td>0</td>\n      <td>0</td>\n      <td>1</td>\n      <td>0</td>\n    </tr>\n  </tbody>\n</table>\n</div>"
     },
     "execution_count": 94,
     "metadata": {},
     "output_type": "execute_result"
    }
   ],
   "source": [
    "df"
   ],
   "metadata": {
    "collapsed": false,
    "ExecuteTime": {
     "end_time": "2023-07-11T08:33:20.577638Z",
     "start_time": "2023-07-11T08:33:20.555835Z"
    }
   }
  },
  {
   "cell_type": "markdown",
   "source": [
    "# 데이터 전처리 : 수치형 데이터\n",
    "\n",
    "표준화\n",
    "\n",
    "정규화(min-max)"
   ],
   "metadata": {
    "collapsed": false
   }
  },
  {
   "cell_type": "markdown",
   "source": [
    "표준화(standardScaler)\n",
    "\n",
    "- 평균이 0과 분산이 1인 정규분포로 변환\n",
    "\n",
    "- 16000(가격), 11(호수) 등을 그대로 적어도 되지만 머신러닝을 실행하면 데이터 표준화에 따라 결과 및 속도가 달라질 수 있다."
   ],
   "metadata": {
    "collapsed": false
   }
  },
  {
   "cell_type": "code",
   "execution_count": 99,
   "outputs": [
    {
     "data": {
      "text/plain": "      가격  호수     칼로리  원산지_국내산  원산지_미국  원산지_브라질  살찔까요_no  살찔까요_yes\n0  16000  11  1200.0        1       0        0        1         0\n1  15000  12  1500.0        0       0        1        0         1\n2  14000   9  1600.0        0       1        0        0         1\n3  14000   9  1800.0        1       0        0        0         1\n4  14000  11  1300.0        0       0        1        0         1",
      "text/html": "<div>\n<style scoped>\n    .dataframe tbody tr th:only-of-type {\n        vertical-align: middle;\n    }\n\n    .dataframe tbody tr th {\n        vertical-align: top;\n    }\n\n    .dataframe thead th {\n        text-align: right;\n    }\n</style>\n<table border=\"1\" class=\"dataframe\">\n  <thead>\n    <tr style=\"text-align: right;\">\n      <th></th>\n      <th>가격</th>\n      <th>호수</th>\n      <th>칼로리</th>\n      <th>원산지_국내산</th>\n      <th>원산지_미국</th>\n      <th>원산지_브라질</th>\n      <th>살찔까요_no</th>\n      <th>살찔까요_yes</th>\n    </tr>\n  </thead>\n  <tbody>\n    <tr>\n      <th>0</th>\n      <td>16000</td>\n      <td>11</td>\n      <td>1200.0</td>\n      <td>1</td>\n      <td>0</td>\n      <td>0</td>\n      <td>1</td>\n      <td>0</td>\n    </tr>\n    <tr>\n      <th>1</th>\n      <td>15000</td>\n      <td>12</td>\n      <td>1500.0</td>\n      <td>0</td>\n      <td>0</td>\n      <td>1</td>\n      <td>0</td>\n      <td>1</td>\n    </tr>\n    <tr>\n      <th>2</th>\n      <td>14000</td>\n      <td>9</td>\n      <td>1600.0</td>\n      <td>0</td>\n      <td>1</td>\n      <td>0</td>\n      <td>0</td>\n      <td>1</td>\n    </tr>\n    <tr>\n      <th>3</th>\n      <td>14000</td>\n      <td>9</td>\n      <td>1800.0</td>\n      <td>1</td>\n      <td>0</td>\n      <td>0</td>\n      <td>0</td>\n      <td>1</td>\n    </tr>\n    <tr>\n      <th>4</th>\n      <td>14000</td>\n      <td>11</td>\n      <td>1300.0</td>\n      <td>0</td>\n      <td>0</td>\n      <td>1</td>\n      <td>0</td>\n      <td>1</td>\n    </tr>\n  </tbody>\n</table>\n</div>"
     },
     "execution_count": 99,
     "metadata": {},
     "output_type": "execute_result"
    }
   ],
   "source": [
    "# 원핫인코딩 된 데이터\n",
    "df.head()"
   ],
   "metadata": {
    "collapsed": false,
    "ExecuteTime": {
     "end_time": "2023-07-11T09:05:16.914161Z",
     "start_time": "2023-07-11T09:05:16.908431Z"
    }
   }
  },
  {
   "cell_type": "code",
   "execution_count": 100,
   "outputs": [
    {
     "data": {
      "text/plain": "array([[ 1.54246993],\n       [ 0.94150762],\n       [ 0.34054531],\n       [ 0.34054531],\n       [ 0.34054531],\n       [-0.260417  ],\n       [-0.260417  ],\n       [-0.86137931],\n       [-2.12340016]])"
     },
     "execution_count": 100,
     "metadata": {},
     "output_type": "execute_result"
    }
   ],
   "source": [
    "# StandardScaler\n",
    "from sklearn.preprocessing import StandardScaler\n",
    "scaler = StandardScaler()\n",
    "scaler.fit_transform(df[['가격']])"
   ],
   "metadata": {
    "collapsed": false,
    "ExecuteTime": {
     "end_time": "2023-07-11T09:06:14.959454Z",
     "start_time": "2023-07-11T09:06:14.946713Z"
    }
   }
  },
  {
   "cell_type": "code",
   "execution_count": 104,
   "outputs": [
    {
     "data": {
      "text/plain": "         가격        호수       칼로리  원산지_국내산  원산지_미국  원산지_브라질  살찔까요_no  살찔까요_yes\n0  1.542470  0.848875 -0.577920        1       0        0        1         0\n1  0.941508  1.940285  0.622376        0       0        1        0         1\n2  0.340545 -1.333946  1.022475        0       1        0        0         1\n3  0.340545 -1.333946  1.822672        1       0        0        0         1\n4  0.340545  0.848875 -0.177822        0       0        1        0         1\n5 -0.260417 -0.242536  0.222277        1       0        0        0         1\n6 -0.260417 -0.242536 -0.177822        1       0        0        0         1\n7 -0.861379 -0.242536 -1.378118        1       0        0        1         0\n8 -2.123400 -0.242536 -1.378118        1       0        0        1         0",
      "text/html": "<div>\n<style scoped>\n    .dataframe tbody tr th:only-of-type {\n        vertical-align: middle;\n    }\n\n    .dataframe tbody tr th {\n        vertical-align: top;\n    }\n\n    .dataframe thead th {\n        text-align: right;\n    }\n</style>\n<table border=\"1\" class=\"dataframe\">\n  <thead>\n    <tr style=\"text-align: right;\">\n      <th></th>\n      <th>가격</th>\n      <th>호수</th>\n      <th>칼로리</th>\n      <th>원산지_국내산</th>\n      <th>원산지_미국</th>\n      <th>원산지_브라질</th>\n      <th>살찔까요_no</th>\n      <th>살찔까요_yes</th>\n    </tr>\n  </thead>\n  <tbody>\n    <tr>\n      <th>0</th>\n      <td>1.542470</td>\n      <td>0.848875</td>\n      <td>-0.577920</td>\n      <td>1</td>\n      <td>0</td>\n      <td>0</td>\n      <td>1</td>\n      <td>0</td>\n    </tr>\n    <tr>\n      <th>1</th>\n      <td>0.941508</td>\n      <td>1.940285</td>\n      <td>0.622376</td>\n      <td>0</td>\n      <td>0</td>\n      <td>1</td>\n      <td>0</td>\n      <td>1</td>\n    </tr>\n    <tr>\n      <th>2</th>\n      <td>0.340545</td>\n      <td>-1.333946</td>\n      <td>1.022475</td>\n      <td>0</td>\n      <td>1</td>\n      <td>0</td>\n      <td>0</td>\n      <td>1</td>\n    </tr>\n    <tr>\n      <th>3</th>\n      <td>0.340545</td>\n      <td>-1.333946</td>\n      <td>1.822672</td>\n      <td>1</td>\n      <td>0</td>\n      <td>0</td>\n      <td>0</td>\n      <td>1</td>\n    </tr>\n    <tr>\n      <th>4</th>\n      <td>0.340545</td>\n      <td>0.848875</td>\n      <td>-0.177822</td>\n      <td>0</td>\n      <td>0</td>\n      <td>1</td>\n      <td>0</td>\n      <td>1</td>\n    </tr>\n    <tr>\n      <th>5</th>\n      <td>-0.260417</td>\n      <td>-0.242536</td>\n      <td>0.222277</td>\n      <td>1</td>\n      <td>0</td>\n      <td>0</td>\n      <td>0</td>\n      <td>1</td>\n    </tr>\n    <tr>\n      <th>6</th>\n      <td>-0.260417</td>\n      <td>-0.242536</td>\n      <td>-0.177822</td>\n      <td>1</td>\n      <td>0</td>\n      <td>0</td>\n      <td>0</td>\n      <td>1</td>\n    </tr>\n    <tr>\n      <th>7</th>\n      <td>-0.861379</td>\n      <td>-0.242536</td>\n      <td>-1.378118</td>\n      <td>1</td>\n      <td>0</td>\n      <td>0</td>\n      <td>1</td>\n      <td>0</td>\n    </tr>\n    <tr>\n      <th>8</th>\n      <td>-2.123400</td>\n      <td>-0.242536</td>\n      <td>-1.378118</td>\n      <td>1</td>\n      <td>0</td>\n      <td>0</td>\n      <td>1</td>\n      <td>0</td>\n    </tr>\n  </tbody>\n</table>\n</div>"
     },
     "execution_count": 104,
     "metadata": {},
     "output_type": "execute_result"
    }
   ],
   "source": [
    "# StandardScaler 여러 변수에 적용\n",
    "cols = ['가격','호수','칼로리']\n",
    "df[cols] = scaler.fit_transform(df[cols])\n",
    "df"
   ],
   "metadata": {
    "collapsed": false,
    "ExecuteTime": {
     "end_time": "2023-07-11T09:11:15.235401Z",
     "start_time": "2023-07-11T09:11:15.229012Z"
    }
   }
  },
  {
   "cell_type": "markdown",
   "source": [
    "민맥스(MinMaxScaler)\n",
    "\n",
    "-0~1 사이의 값으로 변환(데이터 사이즈 축소)"
   ],
   "metadata": {
    "collapsed": false
   }
  },
  {
   "cell_type": "code",
   "execution_count": 105,
   "outputs": [
    {
     "data": {
      "text/plain": "         가격        호수    칼로리  원산지_국내산  원산지_미국  원산지_브라질  살찔까요_no  살찔까요_yes\n0  1.000000  0.666667  0.250        1       0        0        1         0\n1  0.836066  1.000000  0.625        0       0        1        0         1\n2  0.672131  0.000000  0.750        0       1        0        0         1\n3  0.672131  0.000000  1.000        1       0        0        0         1\n4  0.672131  0.666667  0.375        0       0        1        0         1\n5  0.508197  0.333333  0.500        1       0        0        0         1\n6  0.508197  0.333333  0.375        1       0        0        0         1\n7  0.344262  0.333333  0.000        1       0        0        1         0\n8  0.000000  0.333333  0.000        1       0        0        1         0",
      "text/html": "<div>\n<style scoped>\n    .dataframe tbody tr th:only-of-type {\n        vertical-align: middle;\n    }\n\n    .dataframe tbody tr th {\n        vertical-align: top;\n    }\n\n    .dataframe thead th {\n        text-align: right;\n    }\n</style>\n<table border=\"1\" class=\"dataframe\">\n  <thead>\n    <tr style=\"text-align: right;\">\n      <th></th>\n      <th>가격</th>\n      <th>호수</th>\n      <th>칼로리</th>\n      <th>원산지_국내산</th>\n      <th>원산지_미국</th>\n      <th>원산지_브라질</th>\n      <th>살찔까요_no</th>\n      <th>살찔까요_yes</th>\n    </tr>\n  </thead>\n  <tbody>\n    <tr>\n      <th>0</th>\n      <td>1.000000</td>\n      <td>0.666667</td>\n      <td>0.250</td>\n      <td>1</td>\n      <td>0</td>\n      <td>0</td>\n      <td>1</td>\n      <td>0</td>\n    </tr>\n    <tr>\n      <th>1</th>\n      <td>0.836066</td>\n      <td>1.000000</td>\n      <td>0.625</td>\n      <td>0</td>\n      <td>0</td>\n      <td>1</td>\n      <td>0</td>\n      <td>1</td>\n    </tr>\n    <tr>\n      <th>2</th>\n      <td>0.672131</td>\n      <td>0.000000</td>\n      <td>0.750</td>\n      <td>0</td>\n      <td>1</td>\n      <td>0</td>\n      <td>0</td>\n      <td>1</td>\n    </tr>\n    <tr>\n      <th>3</th>\n      <td>0.672131</td>\n      <td>0.000000</td>\n      <td>1.000</td>\n      <td>1</td>\n      <td>0</td>\n      <td>0</td>\n      <td>0</td>\n      <td>1</td>\n    </tr>\n    <tr>\n      <th>4</th>\n      <td>0.672131</td>\n      <td>0.666667</td>\n      <td>0.375</td>\n      <td>0</td>\n      <td>0</td>\n      <td>1</td>\n      <td>0</td>\n      <td>1</td>\n    </tr>\n    <tr>\n      <th>5</th>\n      <td>0.508197</td>\n      <td>0.333333</td>\n      <td>0.500</td>\n      <td>1</td>\n      <td>0</td>\n      <td>0</td>\n      <td>0</td>\n      <td>1</td>\n    </tr>\n    <tr>\n      <th>6</th>\n      <td>0.508197</td>\n      <td>0.333333</td>\n      <td>0.375</td>\n      <td>1</td>\n      <td>0</td>\n      <td>0</td>\n      <td>0</td>\n      <td>1</td>\n    </tr>\n    <tr>\n      <th>7</th>\n      <td>0.344262</td>\n      <td>0.333333</td>\n      <td>0.000</td>\n      <td>1</td>\n      <td>0</td>\n      <td>0</td>\n      <td>1</td>\n      <td>0</td>\n    </tr>\n    <tr>\n      <th>8</th>\n      <td>0.000000</td>\n      <td>0.333333</td>\n      <td>0.000</td>\n      <td>1</td>\n      <td>0</td>\n      <td>0</td>\n      <td>1</td>\n      <td>0</td>\n    </tr>\n  </tbody>\n</table>\n</div>"
     },
     "execution_count": 105,
     "metadata": {},
     "output_type": "execute_result"
    }
   ],
   "source": [
    "# MinMaxScaler\n",
    "from sklearn.preprocessing import MinMaxScaler\n",
    "scaler = MinMaxScaler()\n",
    "cols = ['가격','호수','칼로리']\n",
    "df[cols] = scaler.fit_transform(df[cols])\n",
    "df"
   ],
   "metadata": {
    "collapsed": false,
    "ExecuteTime": {
     "end_time": "2023-07-11T09:12:40.082578Z",
     "start_time": "2023-07-11T09:12:40.063851Z"
    }
   }
  },
  {
   "cell_type": "code",
   "execution_count": 106,
   "outputs": [
    {
     "data": {
      "text/plain": "         가격        호수       칼로리  원산지_국내산  원산지_미국  원산지_브라질  살찔까요_no  살찔까요_yes\n0  1.542470  0.848875 -0.577920        1       0        0        1         0\n1  0.941508  1.940285  0.622376        0       0        1        0         1\n2  0.340545 -1.333946  1.022475        0       1        0        0         1\n3  0.340545 -1.333946  1.822672        1       0        0        0         1\n4  0.340545  0.848875 -0.177822        0       0        1        0         1\n5 -0.260417 -0.242536  0.222277        1       0        0        0         1\n6 -0.260417 -0.242536 -0.177822        1       0        0        0         1\n7 -0.861379 -0.242536 -1.378118        1       0        0        1         0\n8 -2.123400 -0.242536 -1.378118        1       0        0        1         0",
      "text/html": "<div>\n<style scoped>\n    .dataframe tbody tr th:only-of-type {\n        vertical-align: middle;\n    }\n\n    .dataframe tbody tr th {\n        vertical-align: top;\n    }\n\n    .dataframe thead th {\n        text-align: right;\n    }\n</style>\n<table border=\"1\" class=\"dataframe\">\n  <thead>\n    <tr style=\"text-align: right;\">\n      <th></th>\n      <th>가격</th>\n      <th>호수</th>\n      <th>칼로리</th>\n      <th>원산지_국내산</th>\n      <th>원산지_미국</th>\n      <th>원산지_브라질</th>\n      <th>살찔까요_no</th>\n      <th>살찔까요_yes</th>\n    </tr>\n  </thead>\n  <tbody>\n    <tr>\n      <th>0</th>\n      <td>1.542470</td>\n      <td>0.848875</td>\n      <td>-0.577920</td>\n      <td>1</td>\n      <td>0</td>\n      <td>0</td>\n      <td>1</td>\n      <td>0</td>\n    </tr>\n    <tr>\n      <th>1</th>\n      <td>0.941508</td>\n      <td>1.940285</td>\n      <td>0.622376</td>\n      <td>0</td>\n      <td>0</td>\n      <td>1</td>\n      <td>0</td>\n      <td>1</td>\n    </tr>\n    <tr>\n      <th>2</th>\n      <td>0.340545</td>\n      <td>-1.333946</td>\n      <td>1.022475</td>\n      <td>0</td>\n      <td>1</td>\n      <td>0</td>\n      <td>0</td>\n      <td>1</td>\n    </tr>\n    <tr>\n      <th>3</th>\n      <td>0.340545</td>\n      <td>-1.333946</td>\n      <td>1.822672</td>\n      <td>1</td>\n      <td>0</td>\n      <td>0</td>\n      <td>0</td>\n      <td>1</td>\n    </tr>\n    <tr>\n      <th>4</th>\n      <td>0.340545</td>\n      <td>0.848875</td>\n      <td>-0.177822</td>\n      <td>0</td>\n      <td>0</td>\n      <td>1</td>\n      <td>0</td>\n      <td>1</td>\n    </tr>\n    <tr>\n      <th>5</th>\n      <td>-0.260417</td>\n      <td>-0.242536</td>\n      <td>0.222277</td>\n      <td>1</td>\n      <td>0</td>\n      <td>0</td>\n      <td>0</td>\n      <td>1</td>\n    </tr>\n    <tr>\n      <th>6</th>\n      <td>-0.260417</td>\n      <td>-0.242536</td>\n      <td>-0.177822</td>\n      <td>1</td>\n      <td>0</td>\n      <td>0</td>\n      <td>0</td>\n      <td>1</td>\n    </tr>\n    <tr>\n      <th>7</th>\n      <td>-0.861379</td>\n      <td>-0.242536</td>\n      <td>-1.378118</td>\n      <td>1</td>\n      <td>0</td>\n      <td>0</td>\n      <td>1</td>\n      <td>0</td>\n    </tr>\n    <tr>\n      <th>8</th>\n      <td>-2.123400</td>\n      <td>-0.242536</td>\n      <td>-1.378118</td>\n      <td>1</td>\n      <td>0</td>\n      <td>0</td>\n      <td>1</td>\n      <td>0</td>\n    </tr>\n  </tbody>\n</table>\n</div>"
     },
     "execution_count": 106,
     "metadata": {},
     "output_type": "execute_result"
    }
   ],
   "source": [
    "# Q. 다음 df 변수에서 수치형 데이터 컬럼('가격', '호수', '칼로리')을 모두 표준화해주세요.\n",
    "df = data[['가격', '호수', '칼로리', '원산지', '살찔까요']].copy()\n",
    "df = pd.get_dummies(df)\n",
    "cols = ['가격', '호수', '칼로리']\n",
    "scaler = StandardScaler()\n",
    "df[cols] = scaler.fit_transform(df[cols])\n",
    "df"
   ],
   "metadata": {
    "collapsed": false,
    "ExecuteTime": {
     "end_time": "2023-07-11T09:15:47.696972Z",
     "start_time": "2023-07-11T09:15:47.671697Z"
    }
   }
  },
  {
   "cell_type": "code",
   "execution_count": null,
   "outputs": [],
   "source": [],
   "metadata": {
    "collapsed": false
   }
  }
 ],
 "metadata": {
  "kernelspec": {
   "display_name": "Python 3",
   "language": "python",
   "name": "python3"
  },
  "language_info": {
   "codemirror_mode": {
    "name": "ipython",
    "version": 2
   },
   "file_extension": ".py",
   "mimetype": "text/x-python",
   "name": "python",
   "nbconvert_exporter": "python",
   "pygments_lexer": "ipython2",
   "version": "2.7.6"
  }
 },
 "nbformat": 4,
 "nbformat_minor": 0
}
