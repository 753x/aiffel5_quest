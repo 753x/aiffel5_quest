{
 "cells": [
  {
   "cell_type": "markdown",
   "source": [
    "## 4. 사이킷런 활용하기"
   ],
   "metadata": {
    "collapsed": false
   }
  },
  {
   "cell_type": "markdown",
   "source": [
    "사이킷런(scikit-learn)\n",
    "\n",
    "파이썬을 활용한 머신러닝 도구\n",
    "\n",
    "데이터 분석(예측)을 위한 간단하고 효율적인 도구\n",
    "\n",
    "누구나 쉽게 다양한 상황에서 활용 가능\n",
    "\n",
    "오픈 소스"
   ],
   "metadata": {
    "collapsed": false
   }
  },
  {
   "cell_type": "markdown",
   "source": [
    "사이킷 런으로 할 수 있는 일\n",
    "\n",
    "분류(ex. 스팸메일 분류)\n",
    "\n",
    "회귀(ex. 주택 가격 예측)\n",
    "\n",
    "클러스터링(ex. 고객 분류)\n",
    "\n",
    "차원축소(ex. 변수(컬럼)의 수를 줄임)\n",
    "\n",
    "모델 선택(모델의 성능을 평가)\n",
    "\n",
    "전처리(데이터 가공/변환)"
   ],
   "metadata": {
    "collapsed": false
   }
  },
  {
   "cell_type": "code",
   "execution_count": 63,
   "outputs": [
    {
     "data": {
      "text/plain": "          메뉴     가격  호수     칼로리  할인율      할인가  원산지 살찔까요     고민\n0  [인기]아이펠치킨  16000  11  1200.0  0.5   8000.0  국내산   no  무조건먹자\n1        닭강정  15000  12  1500.0  0.2  12000.0  브라질  yes   먹지말자\n2       간장치킨  14000   9  1600.0  0.2  11200.0  국내산  yes   먹지말자\n3       마늘치킨  14000   9  1800.0  0.2  11200.0  국내산  yes   먹지말자\n4         파닭  14000  11  1300.0  0.2  11200.0  브라질  yes   먹지말자\n5     승일양념치킨  13000  10  1400.0  0.2  10400.0  국내산  yes   먹지말자\n6   양념반후라이드반  13000  10  1300.0  0.2  10400.0  국내산  yes   먹지말자\n7     황금후라이드  12000  10  1000.0  0.2   9600.0  국내산   no  무조건먹자\n8  [베스트]풀잎치킨   9900  10  1000.0  NaN      NaN  국내산   no  무조건먹자",
      "text/html": "<div>\n<style scoped>\n    .dataframe tbody tr th:only-of-type {\n        vertical-align: middle;\n    }\n\n    .dataframe tbody tr th {\n        vertical-align: top;\n    }\n\n    .dataframe thead th {\n        text-align: right;\n    }\n</style>\n<table border=\"1\" class=\"dataframe\">\n  <thead>\n    <tr style=\"text-align: right;\">\n      <th></th>\n      <th>메뉴</th>\n      <th>가격</th>\n      <th>호수</th>\n      <th>칼로리</th>\n      <th>할인율</th>\n      <th>할인가</th>\n      <th>원산지</th>\n      <th>살찔까요</th>\n      <th>고민</th>\n    </tr>\n  </thead>\n  <tbody>\n    <tr>\n      <th>0</th>\n      <td>[인기]아이펠치킨</td>\n      <td>16000</td>\n      <td>11</td>\n      <td>1200.0</td>\n      <td>0.5</td>\n      <td>8000.0</td>\n      <td>국내산</td>\n      <td>no</td>\n      <td>무조건먹자</td>\n    </tr>\n    <tr>\n      <th>1</th>\n      <td>닭강정</td>\n      <td>15000</td>\n      <td>12</td>\n      <td>1500.0</td>\n      <td>0.2</td>\n      <td>12000.0</td>\n      <td>브라질</td>\n      <td>yes</td>\n      <td>먹지말자</td>\n    </tr>\n    <tr>\n      <th>2</th>\n      <td>간장치킨</td>\n      <td>14000</td>\n      <td>9</td>\n      <td>1600.0</td>\n      <td>0.2</td>\n      <td>11200.0</td>\n      <td>국내산</td>\n      <td>yes</td>\n      <td>먹지말자</td>\n    </tr>\n    <tr>\n      <th>3</th>\n      <td>마늘치킨</td>\n      <td>14000</td>\n      <td>9</td>\n      <td>1800.0</td>\n      <td>0.2</td>\n      <td>11200.0</td>\n      <td>국내산</td>\n      <td>yes</td>\n      <td>먹지말자</td>\n    </tr>\n    <tr>\n      <th>4</th>\n      <td>파닭</td>\n      <td>14000</td>\n      <td>11</td>\n      <td>1300.0</td>\n      <td>0.2</td>\n      <td>11200.0</td>\n      <td>브라질</td>\n      <td>yes</td>\n      <td>먹지말자</td>\n    </tr>\n    <tr>\n      <th>5</th>\n      <td>승일양념치킨</td>\n      <td>13000</td>\n      <td>10</td>\n      <td>1400.0</td>\n      <td>0.2</td>\n      <td>10400.0</td>\n      <td>국내산</td>\n      <td>yes</td>\n      <td>먹지말자</td>\n    </tr>\n    <tr>\n      <th>6</th>\n      <td>양념반후라이드반</td>\n      <td>13000</td>\n      <td>10</td>\n      <td>1300.0</td>\n      <td>0.2</td>\n      <td>10400.0</td>\n      <td>국내산</td>\n      <td>yes</td>\n      <td>먹지말자</td>\n    </tr>\n    <tr>\n      <th>7</th>\n      <td>황금후라이드</td>\n      <td>12000</td>\n      <td>10</td>\n      <td>1000.0</td>\n      <td>0.2</td>\n      <td>9600.0</td>\n      <td>국내산</td>\n      <td>no</td>\n      <td>무조건먹자</td>\n    </tr>\n    <tr>\n      <th>8</th>\n      <td>[베스트]풀잎치킨</td>\n      <td>9900</td>\n      <td>10</td>\n      <td>1000.0</td>\n      <td>NaN</td>\n      <td>NaN</td>\n      <td>국내산</td>\n      <td>no</td>\n      <td>무조건먹자</td>\n    </tr>\n  </tbody>\n</table>\n</div>"
     },
     "execution_count": 63,
     "metadata": {},
     "output_type": "execute_result"
    }
   ],
   "source": [
    "import pandas as pd\n",
    "import numpy as np\n",
    "data = pd.DataFrame({\n",
    "    '메뉴': ['[인기]아이펠치킨','닭강정','간장치킨','마늘치킨','파닭','승일양념치킨','양념반후라이드반','황금후라이드','[베스트]풀잎치킨'],\n",
    "    '가격': [16000,15000,14000,14000,14000,13000,13000,12000,9900],\n",
    "    '호수' : [11,12,9,9,11,10,10,10,10],\n",
    "    '칼로리' : [1200.0,1500.0,1600.0,1800.0,1300.0,1400.0,1300.0,1000.0,1000.0],\n",
    "    '할인율' : [0.5,0.2,0.2,0.2,0.2,0.2,0.2,0.2,np.nan],\n",
    "    '할인가' : [8000.0,12000.0,11200.0,11200.0,11200.0,10400.0,10400.0,9600.0,np.nan],\n",
    "    '원산지' : ['국내산','브라질','국내산','국내산','브라질','국내산','국내산','국내산','국내산'],\n",
    "    '살찔까요' : ['no','yes','yes','yes','yes','yes','yes','no','no'],\n",
    "    '고민' : ['무조건먹자','먹지말자','먹지말자','먹지말자','먹지말자','먹지말자','먹지말자','무조건먹자','무조건먹자']\n",
    "})\n",
    "data.to_csv('final_modudak.csv', index=False)\n",
    "data"
   ],
   "metadata": {
    "collapsed": false,
    "ExecuteTime": {
     "end_time": "2023-07-11T07:35:23.801171Z",
     "start_time": "2023-07-11T07:35:23.662015Z"
    }
   }
  },
  {
   "cell_type": "code",
   "execution_count": 64,
   "outputs": [],
   "source": [
    "# 데이터 변경\n",
    "data.loc[2,'원산지'] = '미국'"
   ],
   "metadata": {
    "collapsed": false,
    "ExecuteTime": {
     "end_time": "2023-07-11T07:35:23.856957Z",
     "start_time": "2023-07-11T07:35:23.675306Z"
    }
   }
  },
  {
   "cell_type": "code",
   "execution_count": 65,
   "outputs": [
    {
     "data": {
      "text/plain": "      가격  호수     칼로리  원산지 살찔까요\n0  16000  11  1200.0  국내산   no\n1  15000  12  1500.0  브라질  yes\n2  14000   9  1600.0   미국  yes\n3  14000   9  1800.0  국내산  yes\n4  14000  11  1300.0  브라질  yes\n5  13000  10  1400.0  국내산  yes\n6  13000  10  1300.0  국내산  yes\n7  12000  10  1000.0  국내산   no\n8   9900  10  1000.0  국내산   no",
      "text/html": "<div>\n<style scoped>\n    .dataframe tbody tr th:only-of-type {\n        vertical-align: middle;\n    }\n\n    .dataframe tbody tr th {\n        vertical-align: top;\n    }\n\n    .dataframe thead th {\n        text-align: right;\n    }\n</style>\n<table border=\"1\" class=\"dataframe\">\n  <thead>\n    <tr style=\"text-align: right;\">\n      <th></th>\n      <th>가격</th>\n      <th>호수</th>\n      <th>칼로리</th>\n      <th>원산지</th>\n      <th>살찔까요</th>\n    </tr>\n  </thead>\n  <tbody>\n    <tr>\n      <th>0</th>\n      <td>16000</td>\n      <td>11</td>\n      <td>1200.0</td>\n      <td>국내산</td>\n      <td>no</td>\n    </tr>\n    <tr>\n      <th>1</th>\n      <td>15000</td>\n      <td>12</td>\n      <td>1500.0</td>\n      <td>브라질</td>\n      <td>yes</td>\n    </tr>\n    <tr>\n      <th>2</th>\n      <td>14000</td>\n      <td>9</td>\n      <td>1600.0</td>\n      <td>미국</td>\n      <td>yes</td>\n    </tr>\n    <tr>\n      <th>3</th>\n      <td>14000</td>\n      <td>9</td>\n      <td>1800.0</td>\n      <td>국내산</td>\n      <td>yes</td>\n    </tr>\n    <tr>\n      <th>4</th>\n      <td>14000</td>\n      <td>11</td>\n      <td>1300.0</td>\n      <td>브라질</td>\n      <td>yes</td>\n    </tr>\n    <tr>\n      <th>5</th>\n      <td>13000</td>\n      <td>10</td>\n      <td>1400.0</td>\n      <td>국내산</td>\n      <td>yes</td>\n    </tr>\n    <tr>\n      <th>6</th>\n      <td>13000</td>\n      <td>10</td>\n      <td>1300.0</td>\n      <td>국내산</td>\n      <td>yes</td>\n    </tr>\n    <tr>\n      <th>7</th>\n      <td>12000</td>\n      <td>10</td>\n      <td>1000.0</td>\n      <td>국내산</td>\n      <td>no</td>\n    </tr>\n    <tr>\n      <th>8</th>\n      <td>9900</td>\n      <td>10</td>\n      <td>1000.0</td>\n      <td>국내산</td>\n      <td>no</td>\n    </tr>\n  </tbody>\n</table>\n</div>"
     },
     "execution_count": 65,
     "metadata": {},
     "output_type": "execute_result"
    }
   ],
   "source": [
    "df = data[['가격','호수','칼로리','원산지','살찔까요']].copy()\n",
    "df"
   ],
   "metadata": {
    "collapsed": false,
    "ExecuteTime": {
     "end_time": "2023-07-11T07:35:23.857287Z",
     "start_time": "2023-07-11T07:35:23.686937Z"
    }
   }
  },
  {
   "cell_type": "code",
   "execution_count": 66,
   "outputs": [
    {
     "name": "stdout",
     "output_type": "stream",
     "text": [
      "<class 'pandas.core.frame.DataFrame'>\n",
      "RangeIndex: 9 entries, 0 to 8\n",
      "Data columns (total 5 columns):\n",
      " #   Column  Non-Null Count  Dtype  \n",
      "---  ------  --------------  -----  \n",
      " 0   가격      9 non-null      int64  \n",
      " 1   호수      9 non-null      int64  \n",
      " 2   칼로리     9 non-null      float64\n",
      " 3   원산지     9 non-null      object \n",
      " 4   살찔까요    9 non-null      object \n",
      "dtypes: float64(1), int64(2), object(2)\n",
      "memory usage: 488.0+ bytes\n"
     ]
    }
   ],
   "source": [
    "# 데이터 전처리 : 범주형 데이터\n",
    "\n",
    "# 레이블 인코딩\n",
    "\n",
    "# 원핫 인코딩\n",
    "\n",
    "#type 확인\n",
    "df.info()"
   ],
   "metadata": {
    "collapsed": false,
    "ExecuteTime": {
     "end_time": "2023-07-11T07:35:23.857570Z",
     "start_time": "2023-07-11T07:35:23.696802Z"
    }
   }
  },
  {
   "cell_type": "code",
   "execution_count": 67,
   "outputs": [
    {
     "data": {
      "text/plain": "array([0, 2, 1, 0, 2, 0, 0, 0, 0])"
     },
     "execution_count": 67,
     "metadata": {},
     "output_type": "execute_result"
    }
   ],
   "source": [
    "# 레이블 인코딩\n",
    "from sklearn.preprocessing import LabelEncoder\n",
    "le = LabelEncoder()\n",
    "le.fit(df['원산지'])\n",
    "le.transform(df['원산지'])"
   ],
   "metadata": {
    "collapsed": false,
    "ExecuteTime": {
     "end_time": "2023-07-11T07:35:23.857722Z",
     "start_time": "2023-07-11T07:35:23.703807Z"
    }
   }
  },
  {
   "cell_type": "code",
   "execution_count": 68,
   "outputs": [
    {
     "data": {
      "text/plain": "array([0, 2, 1, 0, 2, 0, 0, 0, 0])"
     },
     "execution_count": 68,
     "metadata": {},
     "output_type": "execute_result"
    }
   ],
   "source": [
    "#fit_transform\n",
    "le.fit_transform(df['원산지'])"
   ],
   "metadata": {
    "collapsed": false,
    "ExecuteTime": {
     "end_time": "2023-07-11T07:35:23.858157Z",
     "start_time": "2023-07-11T07:35:23.710140Z"
    }
   }
  },
  {
   "cell_type": "code",
   "execution_count": 69,
   "outputs": [
    {
     "data": {
      "text/plain": "      가격  호수     칼로리  원산지 살찔까요\n0  16000  11  1200.0    0   no\n1  15000  12  1500.0    2  yes\n2  14000   9  1600.0    1  yes\n3  14000   9  1800.0    0  yes\n4  14000  11  1300.0    2  yes\n5  13000  10  1400.0    0  yes\n6  13000  10  1300.0    0  yes\n7  12000  10  1000.0    0   no\n8   9900  10  1000.0    0   no",
      "text/html": "<div>\n<style scoped>\n    .dataframe tbody tr th:only-of-type {\n        vertical-align: middle;\n    }\n\n    .dataframe tbody tr th {\n        vertical-align: top;\n    }\n\n    .dataframe thead th {\n        text-align: right;\n    }\n</style>\n<table border=\"1\" class=\"dataframe\">\n  <thead>\n    <tr style=\"text-align: right;\">\n      <th></th>\n      <th>가격</th>\n      <th>호수</th>\n      <th>칼로리</th>\n      <th>원산지</th>\n      <th>살찔까요</th>\n    </tr>\n  </thead>\n  <tbody>\n    <tr>\n      <th>0</th>\n      <td>16000</td>\n      <td>11</td>\n      <td>1200.0</td>\n      <td>0</td>\n      <td>no</td>\n    </tr>\n    <tr>\n      <th>1</th>\n      <td>15000</td>\n      <td>12</td>\n      <td>1500.0</td>\n      <td>2</td>\n      <td>yes</td>\n    </tr>\n    <tr>\n      <th>2</th>\n      <td>14000</td>\n      <td>9</td>\n      <td>1600.0</td>\n      <td>1</td>\n      <td>yes</td>\n    </tr>\n    <tr>\n      <th>3</th>\n      <td>14000</td>\n      <td>9</td>\n      <td>1800.0</td>\n      <td>0</td>\n      <td>yes</td>\n    </tr>\n    <tr>\n      <th>4</th>\n      <td>14000</td>\n      <td>11</td>\n      <td>1300.0</td>\n      <td>2</td>\n      <td>yes</td>\n    </tr>\n    <tr>\n      <th>5</th>\n      <td>13000</td>\n      <td>10</td>\n      <td>1400.0</td>\n      <td>0</td>\n      <td>yes</td>\n    </tr>\n    <tr>\n      <th>6</th>\n      <td>13000</td>\n      <td>10</td>\n      <td>1300.0</td>\n      <td>0</td>\n      <td>yes</td>\n    </tr>\n    <tr>\n      <th>7</th>\n      <td>12000</td>\n      <td>10</td>\n      <td>1000.0</td>\n      <td>0</td>\n      <td>no</td>\n    </tr>\n    <tr>\n      <th>8</th>\n      <td>9900</td>\n      <td>10</td>\n      <td>1000.0</td>\n      <td>0</td>\n      <td>no</td>\n    </tr>\n  </tbody>\n</table>\n</div>"
     },
     "execution_count": 69,
     "metadata": {},
     "output_type": "execute_result"
    }
   ],
   "source": [
    "# 데이터 변환\n",
    "df['원산지'] = le.fit_transform(df['원산지'])\n",
    "df"
   ],
   "metadata": {
    "collapsed": false,
    "ExecuteTime": {
     "end_time": "2023-07-11T07:35:23.858399Z",
     "start_time": "2023-07-11T07:35:23.726222Z"
    }
   }
  },
  {
   "cell_type": "code",
   "execution_count": 70,
   "outputs": [
    {
     "data": {
      "text/plain": "      가격  호수     칼로리  원산지  살찔까요\n0  16000  11  1200.0    0     0\n1  15000  12  1500.0    2     1\n2  14000   9  1600.0    1     1\n3  14000   9  1800.0    0     1\n4  14000  11  1300.0    2     1\n5  13000  10  1400.0    0     1\n6  13000  10  1300.0    0     1\n7  12000  10  1000.0    0     0\n8   9900  10  1000.0    0     0",
      "text/html": "<div>\n<style scoped>\n    .dataframe tbody tr th:only-of-type {\n        vertical-align: middle;\n    }\n\n    .dataframe tbody tr th {\n        vertical-align: top;\n    }\n\n    .dataframe thead th {\n        text-align: right;\n    }\n</style>\n<table border=\"1\" class=\"dataframe\">\n  <thead>\n    <tr style=\"text-align: right;\">\n      <th></th>\n      <th>가격</th>\n      <th>호수</th>\n      <th>칼로리</th>\n      <th>원산지</th>\n      <th>살찔까요</th>\n    </tr>\n  </thead>\n  <tbody>\n    <tr>\n      <th>0</th>\n      <td>16000</td>\n      <td>11</td>\n      <td>1200.0</td>\n      <td>0</td>\n      <td>0</td>\n    </tr>\n    <tr>\n      <th>1</th>\n      <td>15000</td>\n      <td>12</td>\n      <td>1500.0</td>\n      <td>2</td>\n      <td>1</td>\n    </tr>\n    <tr>\n      <th>2</th>\n      <td>14000</td>\n      <td>9</td>\n      <td>1600.0</td>\n      <td>1</td>\n      <td>1</td>\n    </tr>\n    <tr>\n      <th>3</th>\n      <td>14000</td>\n      <td>9</td>\n      <td>1800.0</td>\n      <td>0</td>\n      <td>1</td>\n    </tr>\n    <tr>\n      <th>4</th>\n      <td>14000</td>\n      <td>11</td>\n      <td>1300.0</td>\n      <td>2</td>\n      <td>1</td>\n    </tr>\n    <tr>\n      <th>5</th>\n      <td>13000</td>\n      <td>10</td>\n      <td>1400.0</td>\n      <td>0</td>\n      <td>1</td>\n    </tr>\n    <tr>\n      <th>6</th>\n      <td>13000</td>\n      <td>10</td>\n      <td>1300.0</td>\n      <td>0</td>\n      <td>1</td>\n    </tr>\n    <tr>\n      <th>7</th>\n      <td>12000</td>\n      <td>10</td>\n      <td>1000.0</td>\n      <td>0</td>\n      <td>0</td>\n    </tr>\n    <tr>\n      <th>8</th>\n      <td>9900</td>\n      <td>10</td>\n      <td>1000.0</td>\n      <td>0</td>\n      <td>0</td>\n    </tr>\n  </tbody>\n</table>\n</div>"
     },
     "execution_count": 70,
     "metadata": {},
     "output_type": "execute_result"
    }
   ],
   "source": [
    "# '살찔까요' 라벨 인코딩\n",
    "df['살찔까요'] = le.fit_transform(df['살찔까요'])\n",
    "df"
   ],
   "metadata": {
    "collapsed": false,
    "ExecuteTime": {
     "end_time": "2023-07-11T07:35:23.858601Z",
     "start_time": "2023-07-11T07:35:23.747779Z"
    }
   }
  },
  {
   "cell_type": "code",
   "execution_count": 71,
   "outputs": [],
   "source": [
    "# 레이블 인코딩(심화) - 여러개 컬럼 한번에 인코딩\n",
    "#활용할 데이터 선택"
   ],
   "metadata": {
    "collapsed": false,
    "ExecuteTime": {
     "end_time": "2023-07-11T07:35:23.858891Z",
     "start_time": "2023-07-11T07:35:23.758337Z"
    }
   }
  },
  {
   "cell_type": "code",
   "execution_count": 72,
   "outputs": [
    {
     "data": {
      "text/plain": "      가격  호수     칼로리  원산지 살찔까요\n0  16000  11  1200.0  국내산   no\n1  15000  12  1500.0  브라질  yes\n2  14000   9  1600.0   미국  yes\n3  14000   9  1800.0  국내산  yes\n4  14000  11  1300.0  브라질  yes\n5  13000  10  1400.0  국내산  yes\n6  13000  10  1300.0  국내산  yes\n7  12000  10  1000.0  국내산   no\n8   9900  10  1000.0  국내산   no",
      "text/html": "<div>\n<style scoped>\n    .dataframe tbody tr th:only-of-type {\n        vertical-align: middle;\n    }\n\n    .dataframe tbody tr th {\n        vertical-align: top;\n    }\n\n    .dataframe thead th {\n        text-align: right;\n    }\n</style>\n<table border=\"1\" class=\"dataframe\">\n  <thead>\n    <tr style=\"text-align: right;\">\n      <th></th>\n      <th>가격</th>\n      <th>호수</th>\n      <th>칼로리</th>\n      <th>원산지</th>\n      <th>살찔까요</th>\n    </tr>\n  </thead>\n  <tbody>\n    <tr>\n      <th>0</th>\n      <td>16000</td>\n      <td>11</td>\n      <td>1200.0</td>\n      <td>국내산</td>\n      <td>no</td>\n    </tr>\n    <tr>\n      <th>1</th>\n      <td>15000</td>\n      <td>12</td>\n      <td>1500.0</td>\n      <td>브라질</td>\n      <td>yes</td>\n    </tr>\n    <tr>\n      <th>2</th>\n      <td>14000</td>\n      <td>9</td>\n      <td>1600.0</td>\n      <td>미국</td>\n      <td>yes</td>\n    </tr>\n    <tr>\n      <th>3</th>\n      <td>14000</td>\n      <td>9</td>\n      <td>1800.0</td>\n      <td>국내산</td>\n      <td>yes</td>\n    </tr>\n    <tr>\n      <th>4</th>\n      <td>14000</td>\n      <td>11</td>\n      <td>1300.0</td>\n      <td>브라질</td>\n      <td>yes</td>\n    </tr>\n    <tr>\n      <th>5</th>\n      <td>13000</td>\n      <td>10</td>\n      <td>1400.0</td>\n      <td>국내산</td>\n      <td>yes</td>\n    </tr>\n    <tr>\n      <th>6</th>\n      <td>13000</td>\n      <td>10</td>\n      <td>1300.0</td>\n      <td>국내산</td>\n      <td>yes</td>\n    </tr>\n    <tr>\n      <th>7</th>\n      <td>12000</td>\n      <td>10</td>\n      <td>1000.0</td>\n      <td>국내산</td>\n      <td>no</td>\n    </tr>\n    <tr>\n      <th>8</th>\n      <td>9900</td>\n      <td>10</td>\n      <td>1000.0</td>\n      <td>국내산</td>\n      <td>no</td>\n    </tr>\n  </tbody>\n</table>\n</div>"
     },
     "execution_count": 72,
     "metadata": {},
     "output_type": "execute_result"
    }
   ],
   "source": [
    "df = data[['가격','호수','칼로리','원산지','살찔까요']].copy()\n",
    "df"
   ],
   "metadata": {
    "collapsed": false,
    "ExecuteTime": {
     "end_time": "2023-07-11T07:35:23.859137Z",
     "start_time": "2023-07-11T07:35:23.770497Z"
    }
   }
  },
  {
   "cell_type": "code",
   "execution_count": 73,
   "outputs": [],
   "source": [
    "# object 타입의 컬럼만 선택[원산지, 살찔까요]\n",
    "# cols = ['원산지','살찔까요']\n",
    "cols = df.select_dtypes(include='object').columns"
   ],
   "metadata": {
    "collapsed": false,
    "ExecuteTime": {
     "end_time": "2023-07-11T07:35:23.859210Z",
     "start_time": "2023-07-11T07:35:23.776615Z"
    }
   }
  },
  {
   "cell_type": "code",
   "execution_count": 74,
   "outputs": [],
   "source": [
    "# 한번에 레이블 인코딩\n",
    "from sklearn.preprocessing import LabelEncoder\n",
    "for col in cols:\n",
    "    le = LabelEncoder()\n",
    "    df[col] = le.fit_transform(df[col])\n"
   ],
   "metadata": {
    "collapsed": false,
    "ExecuteTime": {
     "end_time": "2023-07-11T07:35:23.859318Z",
     "start_time": "2023-07-11T07:35:23.779681Z"
    }
   }
  },
  {
   "cell_type": "code",
   "execution_count": 75,
   "outputs": [
    {
     "data": {
      "text/plain": "      가격  호수     칼로리  원산지  살찔까요\n0  16000  11  1200.0    0     0\n1  15000  12  1500.0    2     1\n2  14000   9  1600.0    1     1\n3  14000   9  1800.0    0     1\n4  14000  11  1300.0    2     1\n5  13000  10  1400.0    0     1\n6  13000  10  1300.0    0     1\n7  12000  10  1000.0    0     0\n8   9900  10  1000.0    0     0",
      "text/html": "<div>\n<style scoped>\n    .dataframe tbody tr th:only-of-type {\n        vertical-align: middle;\n    }\n\n    .dataframe tbody tr th {\n        vertical-align: top;\n    }\n\n    .dataframe thead th {\n        text-align: right;\n    }\n</style>\n<table border=\"1\" class=\"dataframe\">\n  <thead>\n    <tr style=\"text-align: right;\">\n      <th></th>\n      <th>가격</th>\n      <th>호수</th>\n      <th>칼로리</th>\n      <th>원산지</th>\n      <th>살찔까요</th>\n    </tr>\n  </thead>\n  <tbody>\n    <tr>\n      <th>0</th>\n      <td>16000</td>\n      <td>11</td>\n      <td>1200.0</td>\n      <td>0</td>\n      <td>0</td>\n    </tr>\n    <tr>\n      <th>1</th>\n      <td>15000</td>\n      <td>12</td>\n      <td>1500.0</td>\n      <td>2</td>\n      <td>1</td>\n    </tr>\n    <tr>\n      <th>2</th>\n      <td>14000</td>\n      <td>9</td>\n      <td>1600.0</td>\n      <td>1</td>\n      <td>1</td>\n    </tr>\n    <tr>\n      <th>3</th>\n      <td>14000</td>\n      <td>9</td>\n      <td>1800.0</td>\n      <td>0</td>\n      <td>1</td>\n    </tr>\n    <tr>\n      <th>4</th>\n      <td>14000</td>\n      <td>11</td>\n      <td>1300.0</td>\n      <td>2</td>\n      <td>1</td>\n    </tr>\n    <tr>\n      <th>5</th>\n      <td>13000</td>\n      <td>10</td>\n      <td>1400.0</td>\n      <td>0</td>\n      <td>1</td>\n    </tr>\n    <tr>\n      <th>6</th>\n      <td>13000</td>\n      <td>10</td>\n      <td>1300.0</td>\n      <td>0</td>\n      <td>1</td>\n    </tr>\n    <tr>\n      <th>7</th>\n      <td>12000</td>\n      <td>10</td>\n      <td>1000.0</td>\n      <td>0</td>\n      <td>0</td>\n    </tr>\n    <tr>\n      <th>8</th>\n      <td>9900</td>\n      <td>10</td>\n      <td>1000.0</td>\n      <td>0</td>\n      <td>0</td>\n    </tr>\n  </tbody>\n</table>\n</div>"
     },
     "execution_count": 75,
     "metadata": {},
     "output_type": "execute_result"
    }
   ],
   "source": [
    "#인코딩 결과 확인\n",
    "df"
   ],
   "metadata": {
    "collapsed": false,
    "ExecuteTime": {
     "end_time": "2023-07-11T07:35:23.859433Z",
     "start_time": "2023-07-11T07:35:23.784466Z"
    }
   }
  },
  {
   "cell_type": "code",
   "execution_count": 76,
   "outputs": [],
   "source": [
    "#원핫인코딩"
   ],
   "metadata": {
    "collapsed": false,
    "ExecuteTime": {
     "end_time": "2023-07-11T07:35:23.859501Z",
     "start_time": "2023-07-11T07:35:23.796597Z"
    }
   }
  },
  {
   "cell_type": "code",
   "execution_count": 77,
   "outputs": [
    {
     "data": {
      "text/plain": "      가격  호수     칼로리  원산지 살찔까요\n0  16000  11  1200.0  국내산   no\n1  15000  12  1500.0  브라질  yes\n2  14000   9  1600.0   미국  yes\n3  14000   9  1800.0  국내산  yes\n4  14000  11  1300.0  브라질  yes\n5  13000  10  1400.0  국내산  yes\n6  13000  10  1300.0  국내산  yes\n7  12000  10  1000.0  국내산   no\n8   9900  10  1000.0  국내산   no",
      "text/html": "<div>\n<style scoped>\n    .dataframe tbody tr th:only-of-type {\n        vertical-align: middle;\n    }\n\n    .dataframe tbody tr th {\n        vertical-align: top;\n    }\n\n    .dataframe thead th {\n        text-align: right;\n    }\n</style>\n<table border=\"1\" class=\"dataframe\">\n  <thead>\n    <tr style=\"text-align: right;\">\n      <th></th>\n      <th>가격</th>\n      <th>호수</th>\n      <th>칼로리</th>\n      <th>원산지</th>\n      <th>살찔까요</th>\n    </tr>\n  </thead>\n  <tbody>\n    <tr>\n      <th>0</th>\n      <td>16000</td>\n      <td>11</td>\n      <td>1200.0</td>\n      <td>국내산</td>\n      <td>no</td>\n    </tr>\n    <tr>\n      <th>1</th>\n      <td>15000</td>\n      <td>12</td>\n      <td>1500.0</td>\n      <td>브라질</td>\n      <td>yes</td>\n    </tr>\n    <tr>\n      <th>2</th>\n      <td>14000</td>\n      <td>9</td>\n      <td>1600.0</td>\n      <td>미국</td>\n      <td>yes</td>\n    </tr>\n    <tr>\n      <th>3</th>\n      <td>14000</td>\n      <td>9</td>\n      <td>1800.0</td>\n      <td>국내산</td>\n      <td>yes</td>\n    </tr>\n    <tr>\n      <th>4</th>\n      <td>14000</td>\n      <td>11</td>\n      <td>1300.0</td>\n      <td>브라질</td>\n      <td>yes</td>\n    </tr>\n    <tr>\n      <th>5</th>\n      <td>13000</td>\n      <td>10</td>\n      <td>1400.0</td>\n      <td>국내산</td>\n      <td>yes</td>\n    </tr>\n    <tr>\n      <th>6</th>\n      <td>13000</td>\n      <td>10</td>\n      <td>1300.0</td>\n      <td>국내산</td>\n      <td>yes</td>\n    </tr>\n    <tr>\n      <th>7</th>\n      <td>12000</td>\n      <td>10</td>\n      <td>1000.0</td>\n      <td>국내산</td>\n      <td>no</td>\n    </tr>\n    <tr>\n      <th>8</th>\n      <td>9900</td>\n      <td>10</td>\n      <td>1000.0</td>\n      <td>국내산</td>\n      <td>no</td>\n    </tr>\n  </tbody>\n</table>\n</div>"
     },
     "execution_count": 77,
     "metadata": {},
     "output_type": "execute_result"
    }
   ],
   "source": [
    "# 활용할 데이터 선택\n",
    "df = data[['가격','호수','칼로리','원산지','살찔까요']].copy()\n",
    "df"
   ],
   "metadata": {
    "collapsed": false,
    "ExecuteTime": {
     "end_time": "2023-07-11T07:35:23.876037Z",
     "start_time": "2023-07-11T07:35:23.798270Z"
    }
   }
  },
  {
   "cell_type": "code",
   "execution_count": 78,
   "outputs": [
    {
     "name": "stderr",
     "output_type": "stream",
     "text": [
      "/Users/ralphpark/anaconda3/lib/python3.10/site-packages/sklearn/preprocessing/_encoders.py:828: FutureWarning: `sparse` was renamed to `sparse_output` in version 1.2 and will be removed in 1.4. `sparse_output` is ignored unless you leave `sparse` to its default value.\n",
      "  warnings.warn(\n"
     ]
    }
   ],
   "source": [
    "#원핫인코딩\n",
    "from sklearn.preprocessing import OneHotEncoder\n",
    "ohe = OneHotEncoder(sparse=False) #sparse=False : 희소행렬이 아닌 넘파이 배열로 반환\n",
    "cat = ohe.fit_transform(df[['원산지']]) #대괄호 2번 해야 데이터프레임 형태호 반환"
   ],
   "metadata": {
    "collapsed": false,
    "ExecuteTime": {
     "end_time": "2023-07-11T07:35:23.876669Z",
     "start_time": "2023-07-11T07:35:23.808254Z"
    }
   }
  },
  {
   "cell_type": "code",
   "execution_count": 79,
   "outputs": [
    {
     "data": {
      "text/plain": "array([[1., 0., 0.],\n       [0., 0., 1.],\n       [0., 1., 0.],\n       [1., 0., 0.],\n       [0., 0., 1.],\n       [1., 0., 0.],\n       [1., 0., 0.],\n       [1., 0., 0.],\n       [1., 0., 0.]])"
     },
     "execution_count": 79,
     "metadata": {},
     "output_type": "execute_result"
    }
   ],
   "source": [
    "#원핫인코딩 결과 확인\n",
    "cat"
   ],
   "metadata": {
    "collapsed": false,
    "ExecuteTime": {
     "end_time": "2023-07-11T07:35:23.876903Z",
     "start_time": "2023-07-11T07:35:23.814161Z"
    }
   }
  },
  {
   "cell_type": "code",
   "execution_count": 80,
   "outputs": [
    {
     "data": {
      "text/plain": "[array(['국내산', '미국', '브라질'], dtype=object)]"
     },
     "execution_count": 80,
     "metadata": {},
     "output_type": "execute_result"
    }
   ],
   "source": [
    "#카테코리\n",
    "ohe.categories_"
   ],
   "metadata": {
    "collapsed": false,
    "ExecuteTime": {
     "end_time": "2023-07-11T07:35:23.877062Z",
     "start_time": "2023-07-11T07:35:23.821744Z"
    }
   }
  },
  {
   "cell_type": "code",
   "execution_count": 81,
   "outputs": [
    {
     "data": {
      "text/plain": "array(['원산지_국내산', '원산지_미국', '원산지_브라질'], dtype=object)"
     },
     "execution_count": 81,
     "metadata": {},
     "output_type": "execute_result"
    }
   ],
   "source": [
    "#피처(컬럼)이름과 카테고리 , 원래 카테고리 이름 활용\n",
    "ohe.get_feature_names_out()"
   ],
   "metadata": {
    "collapsed": false,
    "ExecuteTime": {
     "end_time": "2023-07-11T07:35:23.877242Z",
     "start_time": "2023-07-11T07:35:23.824300Z"
    }
   }
  },
  {
   "cell_type": "code",
   "execution_count": 82,
   "outputs": [
    {
     "data": {
      "text/plain": "   원산지_국내산  원산지_미국  원산지_브라질\n0      1.0     0.0      0.0\n1      0.0     0.0      1.0\n2      0.0     1.0      0.0\n3      1.0     0.0      0.0\n4      0.0     0.0      1.0\n5      1.0     0.0      0.0\n6      1.0     0.0      0.0\n7      1.0     0.0      0.0\n8      1.0     0.0      0.0",
      "text/html": "<div>\n<style scoped>\n    .dataframe tbody tr th:only-of-type {\n        vertical-align: middle;\n    }\n\n    .dataframe tbody tr th {\n        vertical-align: top;\n    }\n\n    .dataframe thead th {\n        text-align: right;\n    }\n</style>\n<table border=\"1\" class=\"dataframe\">\n  <thead>\n    <tr style=\"text-align: right;\">\n      <th></th>\n      <th>원산지_국내산</th>\n      <th>원산지_미국</th>\n      <th>원산지_브라질</th>\n    </tr>\n  </thead>\n  <tbody>\n    <tr>\n      <th>0</th>\n      <td>1.0</td>\n      <td>0.0</td>\n      <td>0.0</td>\n    </tr>\n    <tr>\n      <th>1</th>\n      <td>0.0</td>\n      <td>0.0</td>\n      <td>1.0</td>\n    </tr>\n    <tr>\n      <th>2</th>\n      <td>0.0</td>\n      <td>1.0</td>\n      <td>0.0</td>\n    </tr>\n    <tr>\n      <th>3</th>\n      <td>1.0</td>\n      <td>0.0</td>\n      <td>0.0</td>\n    </tr>\n    <tr>\n      <th>4</th>\n      <td>0.0</td>\n      <td>0.0</td>\n      <td>1.0</td>\n    </tr>\n    <tr>\n      <th>5</th>\n      <td>1.0</td>\n      <td>0.0</td>\n      <td>0.0</td>\n    </tr>\n    <tr>\n      <th>6</th>\n      <td>1.0</td>\n      <td>0.0</td>\n      <td>0.0</td>\n    </tr>\n    <tr>\n      <th>7</th>\n      <td>1.0</td>\n      <td>0.0</td>\n      <td>0.0</td>\n    </tr>\n    <tr>\n      <th>8</th>\n      <td>1.0</td>\n      <td>0.0</td>\n      <td>0.0</td>\n    </tr>\n  </tbody>\n</table>\n</div>"
     },
     "execution_count": 82,
     "metadata": {},
     "output_type": "execute_result"
    }
   ],
   "source": [
    "#원핫인코딩 결과를 데이터프레임으로 변환\n",
    "df_cat = pd.DataFrame(cat, columns=ohe.get_feature_names_out())\n",
    "df_cat"
   ],
   "metadata": {
    "collapsed": false,
    "ExecuteTime": {
     "end_time": "2023-07-11T07:35:23.877407Z",
     "start_time": "2023-07-11T07:35:23.834542Z"
    }
   }
  },
  {
   "cell_type": "code",
   "execution_count": 83,
   "outputs": [
    {
     "data": {
      "text/plain": "      가격  호수     칼로리  원산지 살찔까요  원산지_국내산  원산지_미국  원산지_브라질\n0  16000  11  1200.0  국내산   no      1.0     0.0      0.0\n1  15000  12  1500.0  브라질  yes      0.0     0.0      1.0\n2  14000   9  1600.0   미국  yes      0.0     1.0      0.0\n3  14000   9  1800.0  국내산  yes      1.0     0.0      0.0\n4  14000  11  1300.0  브라질  yes      0.0     0.0      1.0\n5  13000  10  1400.0  국내산  yes      1.0     0.0      0.0\n6  13000  10  1300.0  국내산  yes      1.0     0.0      0.0\n7  12000  10  1000.0  국내산   no      1.0     0.0      0.0\n8   9900  10  1000.0  국내산   no      1.0     0.0      0.0",
      "text/html": "<div>\n<style scoped>\n    .dataframe tbody tr th:only-of-type {\n        vertical-align: middle;\n    }\n\n    .dataframe tbody tr th {\n        vertical-align: top;\n    }\n\n    .dataframe thead th {\n        text-align: right;\n    }\n</style>\n<table border=\"1\" class=\"dataframe\">\n  <thead>\n    <tr style=\"text-align: right;\">\n      <th></th>\n      <th>가격</th>\n      <th>호수</th>\n      <th>칼로리</th>\n      <th>원산지</th>\n      <th>살찔까요</th>\n      <th>원산지_국내산</th>\n      <th>원산지_미국</th>\n      <th>원산지_브라질</th>\n    </tr>\n  </thead>\n  <tbody>\n    <tr>\n      <th>0</th>\n      <td>16000</td>\n      <td>11</td>\n      <td>1200.0</td>\n      <td>국내산</td>\n      <td>no</td>\n      <td>1.0</td>\n      <td>0.0</td>\n      <td>0.0</td>\n    </tr>\n    <tr>\n      <th>1</th>\n      <td>15000</td>\n      <td>12</td>\n      <td>1500.0</td>\n      <td>브라질</td>\n      <td>yes</td>\n      <td>0.0</td>\n      <td>0.0</td>\n      <td>1.0</td>\n    </tr>\n    <tr>\n      <th>2</th>\n      <td>14000</td>\n      <td>9</td>\n      <td>1600.0</td>\n      <td>미국</td>\n      <td>yes</td>\n      <td>0.0</td>\n      <td>1.0</td>\n      <td>0.0</td>\n    </tr>\n    <tr>\n      <th>3</th>\n      <td>14000</td>\n      <td>9</td>\n      <td>1800.0</td>\n      <td>국내산</td>\n      <td>yes</td>\n      <td>1.0</td>\n      <td>0.0</td>\n      <td>0.0</td>\n    </tr>\n    <tr>\n      <th>4</th>\n      <td>14000</td>\n      <td>11</td>\n      <td>1300.0</td>\n      <td>브라질</td>\n      <td>yes</td>\n      <td>0.0</td>\n      <td>0.0</td>\n      <td>1.0</td>\n    </tr>\n    <tr>\n      <th>5</th>\n      <td>13000</td>\n      <td>10</td>\n      <td>1400.0</td>\n      <td>국내산</td>\n      <td>yes</td>\n      <td>1.0</td>\n      <td>0.0</td>\n      <td>0.0</td>\n    </tr>\n    <tr>\n      <th>6</th>\n      <td>13000</td>\n      <td>10</td>\n      <td>1300.0</td>\n      <td>국내산</td>\n      <td>yes</td>\n      <td>1.0</td>\n      <td>0.0</td>\n      <td>0.0</td>\n    </tr>\n    <tr>\n      <th>7</th>\n      <td>12000</td>\n      <td>10</td>\n      <td>1000.0</td>\n      <td>국내산</td>\n      <td>no</td>\n      <td>1.0</td>\n      <td>0.0</td>\n      <td>0.0</td>\n    </tr>\n    <tr>\n      <th>8</th>\n      <td>9900</td>\n      <td>10</td>\n      <td>1000.0</td>\n      <td>국내산</td>\n      <td>no</td>\n      <td>1.0</td>\n      <td>0.0</td>\n      <td>0.0</td>\n    </tr>\n  </tbody>\n</table>\n</div>"
     },
     "execution_count": 83,
     "metadata": {},
     "output_type": "execute_result"
    }
   ],
   "source": [
    "# 데이터 프레임 합치기\n",
    "df = pd.concat([df,df_cat], axis=1)\n",
    "df"
   ],
   "metadata": {
    "collapsed": false,
    "ExecuteTime": {
     "end_time": "2023-07-11T07:35:23.877534Z",
     "start_time": "2023-07-11T07:35:23.837285Z"
    }
   }
  },
  {
   "cell_type": "code",
   "execution_count": 84,
   "outputs": [
    {
     "data": {
      "text/plain": "      가격  호수     칼로리 살찔까요  원산지_국내산  원산지_미국  원산지_브라질\n0  16000  11  1200.0   no      1.0     0.0      0.0\n1  15000  12  1500.0  yes      0.0     0.0      1.0\n2  14000   9  1600.0  yes      0.0     1.0      0.0\n3  14000   9  1800.0  yes      1.0     0.0      0.0\n4  14000  11  1300.0  yes      0.0     0.0      1.0\n5  13000  10  1400.0  yes      1.0     0.0      0.0\n6  13000  10  1300.0  yes      1.0     0.0      0.0\n7  12000  10  1000.0   no      1.0     0.0      0.0\n8   9900  10  1000.0   no      1.0     0.0      0.0",
      "text/html": "<div>\n<style scoped>\n    .dataframe tbody tr th:only-of-type {\n        vertical-align: middle;\n    }\n\n    .dataframe tbody tr th {\n        vertical-align: top;\n    }\n\n    .dataframe thead th {\n        text-align: right;\n    }\n</style>\n<table border=\"1\" class=\"dataframe\">\n  <thead>\n    <tr style=\"text-align: right;\">\n      <th></th>\n      <th>가격</th>\n      <th>호수</th>\n      <th>칼로리</th>\n      <th>살찔까요</th>\n      <th>원산지_국내산</th>\n      <th>원산지_미국</th>\n      <th>원산지_브라질</th>\n    </tr>\n  </thead>\n  <tbody>\n    <tr>\n      <th>0</th>\n      <td>16000</td>\n      <td>11</td>\n      <td>1200.0</td>\n      <td>no</td>\n      <td>1.0</td>\n      <td>0.0</td>\n      <td>0.0</td>\n    </tr>\n    <tr>\n      <th>1</th>\n      <td>15000</td>\n      <td>12</td>\n      <td>1500.0</td>\n      <td>yes</td>\n      <td>0.0</td>\n      <td>0.0</td>\n      <td>1.0</td>\n    </tr>\n    <tr>\n      <th>2</th>\n      <td>14000</td>\n      <td>9</td>\n      <td>1600.0</td>\n      <td>yes</td>\n      <td>0.0</td>\n      <td>1.0</td>\n      <td>0.0</td>\n    </tr>\n    <tr>\n      <th>3</th>\n      <td>14000</td>\n      <td>9</td>\n      <td>1800.0</td>\n      <td>yes</td>\n      <td>1.0</td>\n      <td>0.0</td>\n      <td>0.0</td>\n    </tr>\n    <tr>\n      <th>4</th>\n      <td>14000</td>\n      <td>11</td>\n      <td>1300.0</td>\n      <td>yes</td>\n      <td>0.0</td>\n      <td>0.0</td>\n      <td>1.0</td>\n    </tr>\n    <tr>\n      <th>5</th>\n      <td>13000</td>\n      <td>10</td>\n      <td>1400.0</td>\n      <td>yes</td>\n      <td>1.0</td>\n      <td>0.0</td>\n      <td>0.0</td>\n    </tr>\n    <tr>\n      <th>6</th>\n      <td>13000</td>\n      <td>10</td>\n      <td>1300.0</td>\n      <td>yes</td>\n      <td>1.0</td>\n      <td>0.0</td>\n      <td>0.0</td>\n    </tr>\n    <tr>\n      <th>7</th>\n      <td>12000</td>\n      <td>10</td>\n      <td>1000.0</td>\n      <td>no</td>\n      <td>1.0</td>\n      <td>0.0</td>\n      <td>0.0</td>\n    </tr>\n    <tr>\n      <th>8</th>\n      <td>9900</td>\n      <td>10</td>\n      <td>1000.0</td>\n      <td>no</td>\n      <td>1.0</td>\n      <td>0.0</td>\n      <td>0.0</td>\n    </tr>\n  </tbody>\n</table>\n</div>"
     },
     "execution_count": 84,
     "metadata": {},
     "output_type": "execute_result"
    }
   ],
   "source": [
    "# 기존 컬럼 삭제\n",
    "df = df.drop(['원산지'], axis=1)\n",
    "df"
   ],
   "metadata": {
    "collapsed": false,
    "ExecuteTime": {
     "end_time": "2023-07-11T07:35:23.895848Z",
     "start_time": "2023-07-11T07:35:23.858676Z"
    }
   }
  },
  {
   "cell_type": "code",
   "execution_count": 85,
   "outputs": [
    {
     "data": {
      "text/plain": "      가격  호수     칼로리  원산지 살찔까요\n0  16000  11  1200.0  국내산   no\n1  15000  12  1500.0  브라질  yes\n2  14000   9  1600.0   미국  yes\n3  14000   9  1800.0  국내산  yes\n4  14000  11  1300.0  브라질  yes\n5  13000  10  1400.0  국내산  yes\n6  13000  10  1300.0  국내산  yes\n7  12000  10  1000.0  국내산   no\n8   9900  10  1000.0  국내산   no",
      "text/html": "<div>\n<style scoped>\n    .dataframe tbody tr th:only-of-type {\n        vertical-align: middle;\n    }\n\n    .dataframe tbody tr th {\n        vertical-align: top;\n    }\n\n    .dataframe thead th {\n        text-align: right;\n    }\n</style>\n<table border=\"1\" class=\"dataframe\">\n  <thead>\n    <tr style=\"text-align: right;\">\n      <th></th>\n      <th>가격</th>\n      <th>호수</th>\n      <th>칼로리</th>\n      <th>원산지</th>\n      <th>살찔까요</th>\n    </tr>\n  </thead>\n  <tbody>\n    <tr>\n      <th>0</th>\n      <td>16000</td>\n      <td>11</td>\n      <td>1200.0</td>\n      <td>국내산</td>\n      <td>no</td>\n    </tr>\n    <tr>\n      <th>1</th>\n      <td>15000</td>\n      <td>12</td>\n      <td>1500.0</td>\n      <td>브라질</td>\n      <td>yes</td>\n    </tr>\n    <tr>\n      <th>2</th>\n      <td>14000</td>\n      <td>9</td>\n      <td>1600.0</td>\n      <td>미국</td>\n      <td>yes</td>\n    </tr>\n    <tr>\n      <th>3</th>\n      <td>14000</td>\n      <td>9</td>\n      <td>1800.0</td>\n      <td>국내산</td>\n      <td>yes</td>\n    </tr>\n    <tr>\n      <th>4</th>\n      <td>14000</td>\n      <td>11</td>\n      <td>1300.0</td>\n      <td>브라질</td>\n      <td>yes</td>\n    </tr>\n    <tr>\n      <th>5</th>\n      <td>13000</td>\n      <td>10</td>\n      <td>1400.0</td>\n      <td>국내산</td>\n      <td>yes</td>\n    </tr>\n    <tr>\n      <th>6</th>\n      <td>13000</td>\n      <td>10</td>\n      <td>1300.0</td>\n      <td>국내산</td>\n      <td>yes</td>\n    </tr>\n    <tr>\n      <th>7</th>\n      <td>12000</td>\n      <td>10</td>\n      <td>1000.0</td>\n      <td>국내산</td>\n      <td>no</td>\n    </tr>\n    <tr>\n      <th>8</th>\n      <td>9900</td>\n      <td>10</td>\n      <td>1000.0</td>\n      <td>국내산</td>\n      <td>no</td>\n    </tr>\n  </tbody>\n</table>\n</div>"
     },
     "execution_count": 85,
     "metadata": {},
     "output_type": "execute_result"
    }
   ],
   "source": [
    "# 원핫 인코딩 (심화) - 여러개 컬럼 한번에 인코딩\n",
    "\n",
    "# 활용할 데이터 선택\n",
    "df = data[['가격','호수','칼로리','원산지','살찔까요']].copy()\n",
    "df"
   ],
   "metadata": {
    "collapsed": false,
    "ExecuteTime": {
     "end_time": "2023-07-11T07:37:02.195192Z",
     "start_time": "2023-07-11T07:37:02.171454Z"
    }
   }
  },
  {
   "cell_type": "code",
   "execution_count": 86,
   "outputs": [
    {
     "name": "stderr",
     "output_type": "stream",
     "text": [
      "/Users/ralphpark/anaconda3/lib/python3.10/site-packages/sklearn/preprocessing/_encoders.py:828: FutureWarning: `sparse` was renamed to `sparse_output` in version 1.2 and will be removed in 1.4. `sparse_output` is ignored unless you leave `sparse` to its default value.\n",
      "  warnings.warn(\n"
     ]
    },
    {
     "data": {
      "text/plain": "   원산지_국내산  원산지_미국  원산지_브라질  살찔까요_no  살찔까요_yes\n0      1.0     0.0      0.0      1.0       0.0\n1      0.0     0.0      1.0      0.0       1.0\n2      0.0     1.0      0.0      0.0       1.0\n3      1.0     0.0      0.0      0.0       1.0\n4      0.0     0.0      1.0      0.0       1.0\n5      1.0     0.0      0.0      0.0       1.0\n6      1.0     0.0      0.0      0.0       1.0\n7      1.0     0.0      0.0      1.0       0.0\n8      1.0     0.0      0.0      1.0       0.0",
      "text/html": "<div>\n<style scoped>\n    .dataframe tbody tr th:only-of-type {\n        vertical-align: middle;\n    }\n\n    .dataframe tbody tr th {\n        vertical-align: top;\n    }\n\n    .dataframe thead th {\n        text-align: right;\n    }\n</style>\n<table border=\"1\" class=\"dataframe\">\n  <thead>\n    <tr style=\"text-align: right;\">\n      <th></th>\n      <th>원산지_국내산</th>\n      <th>원산지_미국</th>\n      <th>원산지_브라질</th>\n      <th>살찔까요_no</th>\n      <th>살찔까요_yes</th>\n    </tr>\n  </thead>\n  <tbody>\n    <tr>\n      <th>0</th>\n      <td>1.0</td>\n      <td>0.0</td>\n      <td>0.0</td>\n      <td>1.0</td>\n      <td>0.0</td>\n    </tr>\n    <tr>\n      <th>1</th>\n      <td>0.0</td>\n      <td>0.0</td>\n      <td>1.0</td>\n      <td>0.0</td>\n      <td>1.0</td>\n    </tr>\n    <tr>\n      <th>2</th>\n      <td>0.0</td>\n      <td>1.0</td>\n      <td>0.0</td>\n      <td>0.0</td>\n      <td>1.0</td>\n    </tr>\n    <tr>\n      <th>3</th>\n      <td>1.0</td>\n      <td>0.0</td>\n      <td>0.0</td>\n      <td>0.0</td>\n      <td>1.0</td>\n    </tr>\n    <tr>\n      <th>4</th>\n      <td>0.0</td>\n      <td>0.0</td>\n      <td>1.0</td>\n      <td>0.0</td>\n      <td>1.0</td>\n    </tr>\n    <tr>\n      <th>5</th>\n      <td>1.0</td>\n      <td>0.0</td>\n      <td>0.0</td>\n      <td>0.0</td>\n      <td>1.0</td>\n    </tr>\n    <tr>\n      <th>6</th>\n      <td>1.0</td>\n      <td>0.0</td>\n      <td>0.0</td>\n      <td>0.0</td>\n      <td>1.0</td>\n    </tr>\n    <tr>\n      <th>7</th>\n      <td>1.0</td>\n      <td>0.0</td>\n      <td>0.0</td>\n      <td>1.0</td>\n      <td>0.0</td>\n    </tr>\n    <tr>\n      <th>8</th>\n      <td>1.0</td>\n      <td>0.0</td>\n      <td>0.0</td>\n      <td>1.0</td>\n      <td>0.0</td>\n    </tr>\n  </tbody>\n</table>\n</div>"
     },
     "execution_count": 86,
     "metadata": {},
     "output_type": "execute_result"
    }
   ],
   "source": [
    "# 원핫인코딩\n",
    "from sklearn.preprocessing import OneHotEncoder\n",
    "cols = df.select_dtypes(include='object').columns\n",
    "ohe = OneHotEncoder(sparse=False)\n",
    "cat = ohe.fit_transform(df[cols])\n",
    "df_cat = pd.DataFrame(cat, columns=ohe.get_feature_names_out())\n",
    "df_cat"
   ],
   "metadata": {
    "collapsed": false,
    "ExecuteTime": {
     "end_time": "2023-07-11T07:39:07.785342Z",
     "start_time": "2023-07-11T07:39:07.773065Z"
    }
   }
  },
  {
   "cell_type": "code",
   "execution_count": 87,
   "outputs": [],
   "source": [
    "# 데이터 프레임 합치기\n",
    "df = pd.concat([df,df_cat], axis=1)"
   ],
   "metadata": {
    "collapsed": false,
    "ExecuteTime": {
     "end_time": "2023-07-11T08:30:53.405391Z",
     "start_time": "2023-07-11T08:30:53.390125Z"
    }
   }
  },
  {
   "cell_type": "code",
   "execution_count": 88,
   "outputs": [
    {
     "data": {
      "text/plain": "      가격  호수     칼로리  원산지 살찔까요  원산지_국내산  원산지_미국  원산지_브라질  살찔까요_no  살찔까요_yes\n0  16000  11  1200.0  국내산   no      1.0     0.0      0.0      1.0       0.0\n1  15000  12  1500.0  브라질  yes      0.0     0.0      1.0      0.0       1.0\n2  14000   9  1600.0   미국  yes      0.0     1.0      0.0      0.0       1.0\n3  14000   9  1800.0  국내산  yes      1.0     0.0      0.0      0.0       1.0\n4  14000  11  1300.0  브라질  yes      0.0     0.0      1.0      0.0       1.0",
      "text/html": "<div>\n<style scoped>\n    .dataframe tbody tr th:only-of-type {\n        vertical-align: middle;\n    }\n\n    .dataframe tbody tr th {\n        vertical-align: top;\n    }\n\n    .dataframe thead th {\n        text-align: right;\n    }\n</style>\n<table border=\"1\" class=\"dataframe\">\n  <thead>\n    <tr style=\"text-align: right;\">\n      <th></th>\n      <th>가격</th>\n      <th>호수</th>\n      <th>칼로리</th>\n      <th>원산지</th>\n      <th>살찔까요</th>\n      <th>원산지_국내산</th>\n      <th>원산지_미국</th>\n      <th>원산지_브라질</th>\n      <th>살찔까요_no</th>\n      <th>살찔까요_yes</th>\n    </tr>\n  </thead>\n  <tbody>\n    <tr>\n      <th>0</th>\n      <td>16000</td>\n      <td>11</td>\n      <td>1200.0</td>\n      <td>국내산</td>\n      <td>no</td>\n      <td>1.0</td>\n      <td>0.0</td>\n      <td>0.0</td>\n      <td>1.0</td>\n      <td>0.0</td>\n    </tr>\n    <tr>\n      <th>1</th>\n      <td>15000</td>\n      <td>12</td>\n      <td>1500.0</td>\n      <td>브라질</td>\n      <td>yes</td>\n      <td>0.0</td>\n      <td>0.0</td>\n      <td>1.0</td>\n      <td>0.0</td>\n      <td>1.0</td>\n    </tr>\n    <tr>\n      <th>2</th>\n      <td>14000</td>\n      <td>9</td>\n      <td>1600.0</td>\n      <td>미국</td>\n      <td>yes</td>\n      <td>0.0</td>\n      <td>1.0</td>\n      <td>0.0</td>\n      <td>0.0</td>\n      <td>1.0</td>\n    </tr>\n    <tr>\n      <th>3</th>\n      <td>14000</td>\n      <td>9</td>\n      <td>1800.0</td>\n      <td>국내산</td>\n      <td>yes</td>\n      <td>1.0</td>\n      <td>0.0</td>\n      <td>0.0</td>\n      <td>0.0</td>\n      <td>1.0</td>\n    </tr>\n    <tr>\n      <th>4</th>\n      <td>14000</td>\n      <td>11</td>\n      <td>1300.0</td>\n      <td>브라질</td>\n      <td>yes</td>\n      <td>0.0</td>\n      <td>0.0</td>\n      <td>1.0</td>\n      <td>0.0</td>\n      <td>1.0</td>\n    </tr>\n  </tbody>\n</table>\n</div>"
     },
     "execution_count": 88,
     "metadata": {},
     "output_type": "execute_result"
    }
   ],
   "source": [
    "df.head()"
   ],
   "metadata": {
    "collapsed": false,
    "ExecuteTime": {
     "end_time": "2023-07-11T08:31:00.032488Z",
     "start_time": "2023-07-11T08:31:00.015954Z"
    }
   }
  },
  {
   "cell_type": "code",
   "execution_count": 89,
   "outputs": [],
   "source": [
    "# 기존 컬럼 삭제\n",
    "df = df.drop(cols, axis=1)"
   ],
   "metadata": {
    "collapsed": false,
    "ExecuteTime": {
     "end_time": "2023-07-11T08:31:35.219638Z",
     "start_time": "2023-07-11T08:31:35.196509Z"
    }
   }
  },
  {
   "cell_type": "code",
   "execution_count": 90,
   "outputs": [
    {
     "data": {
      "text/plain": "      가격  호수     칼로리  원산지_국내산  원산지_미국  원산지_브라질  살찔까요_no  살찔까요_yes\n0  16000  11  1200.0      1.0     0.0      0.0      1.0       0.0\n1  15000  12  1500.0      0.0     0.0      1.0      0.0       1.0\n2  14000   9  1600.0      0.0     1.0      0.0      0.0       1.0\n3  14000   9  1800.0      1.0     0.0      0.0      0.0       1.0\n4  14000  11  1300.0      0.0     0.0      1.0      0.0       1.0",
      "text/html": "<div>\n<style scoped>\n    .dataframe tbody tr th:only-of-type {\n        vertical-align: middle;\n    }\n\n    .dataframe tbody tr th {\n        vertical-align: top;\n    }\n\n    .dataframe thead th {\n        text-align: right;\n    }\n</style>\n<table border=\"1\" class=\"dataframe\">\n  <thead>\n    <tr style=\"text-align: right;\">\n      <th></th>\n      <th>가격</th>\n      <th>호수</th>\n      <th>칼로리</th>\n      <th>원산지_국내산</th>\n      <th>원산지_미국</th>\n      <th>원산지_브라질</th>\n      <th>살찔까요_no</th>\n      <th>살찔까요_yes</th>\n    </tr>\n  </thead>\n  <tbody>\n    <tr>\n      <th>0</th>\n      <td>16000</td>\n      <td>11</td>\n      <td>1200.0</td>\n      <td>1.0</td>\n      <td>0.0</td>\n      <td>0.0</td>\n      <td>1.0</td>\n      <td>0.0</td>\n    </tr>\n    <tr>\n      <th>1</th>\n      <td>15000</td>\n      <td>12</td>\n      <td>1500.0</td>\n      <td>0.0</td>\n      <td>0.0</td>\n      <td>1.0</td>\n      <td>0.0</td>\n      <td>1.0</td>\n    </tr>\n    <tr>\n      <th>2</th>\n      <td>14000</td>\n      <td>9</td>\n      <td>1600.0</td>\n      <td>0.0</td>\n      <td>1.0</td>\n      <td>0.0</td>\n      <td>0.0</td>\n      <td>1.0</td>\n    </tr>\n    <tr>\n      <th>3</th>\n      <td>14000</td>\n      <td>9</td>\n      <td>1800.0</td>\n      <td>1.0</td>\n      <td>0.0</td>\n      <td>0.0</td>\n      <td>0.0</td>\n      <td>1.0</td>\n    </tr>\n    <tr>\n      <th>4</th>\n      <td>14000</td>\n      <td>11</td>\n      <td>1300.0</td>\n      <td>0.0</td>\n      <td>0.0</td>\n      <td>1.0</td>\n      <td>0.0</td>\n      <td>1.0</td>\n    </tr>\n  </tbody>\n</table>\n</div>"
     },
     "execution_count": 90,
     "metadata": {},
     "output_type": "execute_result"
    }
   ],
   "source": [
    "df.head()"
   ],
   "metadata": {
    "collapsed": false,
    "ExecuteTime": {
     "end_time": "2023-07-11T08:31:41.937385Z",
     "start_time": "2023-07-11T08:31:41.920905Z"
    }
   }
  },
  {
   "cell_type": "code",
   "execution_count": 91,
   "outputs": [],
   "source": [
    "#[tip] 원핫인코딩 : 판다스 활용"
   ],
   "metadata": {
    "collapsed": false,
    "ExecuteTime": {
     "end_time": "2023-07-11T08:32:19.707695Z",
     "start_time": "2023-07-11T08:32:19.668312Z"
    }
   }
  },
  {
   "cell_type": "code",
   "execution_count": 92,
   "outputs": [
    {
     "data": {
      "text/plain": "      가격  호수     칼로리  원산지 살찔까요\n0  16000  11  1200.0  국내산   no\n1  15000  12  1500.0  브라질  yes\n2  14000   9  1600.0   미국  yes\n3  14000   9  1800.0  국내산  yes\n4  14000  11  1300.0  브라질  yes\n5  13000  10  1400.0  국내산  yes\n6  13000  10  1300.0  국내산  yes\n7  12000  10  1000.0  국내산   no\n8   9900  10  1000.0  국내산   no",
      "text/html": "<div>\n<style scoped>\n    .dataframe tbody tr th:only-of-type {\n        vertical-align: middle;\n    }\n\n    .dataframe tbody tr th {\n        vertical-align: top;\n    }\n\n    .dataframe thead th {\n        text-align: right;\n    }\n</style>\n<table border=\"1\" class=\"dataframe\">\n  <thead>\n    <tr style=\"text-align: right;\">\n      <th></th>\n      <th>가격</th>\n      <th>호수</th>\n      <th>칼로리</th>\n      <th>원산지</th>\n      <th>살찔까요</th>\n    </tr>\n  </thead>\n  <tbody>\n    <tr>\n      <th>0</th>\n      <td>16000</td>\n      <td>11</td>\n      <td>1200.0</td>\n      <td>국내산</td>\n      <td>no</td>\n    </tr>\n    <tr>\n      <th>1</th>\n      <td>15000</td>\n      <td>12</td>\n      <td>1500.0</td>\n      <td>브라질</td>\n      <td>yes</td>\n    </tr>\n    <tr>\n      <th>2</th>\n      <td>14000</td>\n      <td>9</td>\n      <td>1600.0</td>\n      <td>미국</td>\n      <td>yes</td>\n    </tr>\n    <tr>\n      <th>3</th>\n      <td>14000</td>\n      <td>9</td>\n      <td>1800.0</td>\n      <td>국내산</td>\n      <td>yes</td>\n    </tr>\n    <tr>\n      <th>4</th>\n      <td>14000</td>\n      <td>11</td>\n      <td>1300.0</td>\n      <td>브라질</td>\n      <td>yes</td>\n    </tr>\n    <tr>\n      <th>5</th>\n      <td>13000</td>\n      <td>10</td>\n      <td>1400.0</td>\n      <td>국내산</td>\n      <td>yes</td>\n    </tr>\n    <tr>\n      <th>6</th>\n      <td>13000</td>\n      <td>10</td>\n      <td>1300.0</td>\n      <td>국내산</td>\n      <td>yes</td>\n    </tr>\n    <tr>\n      <th>7</th>\n      <td>12000</td>\n      <td>10</td>\n      <td>1000.0</td>\n      <td>국내산</td>\n      <td>no</td>\n    </tr>\n    <tr>\n      <th>8</th>\n      <td>9900</td>\n      <td>10</td>\n      <td>1000.0</td>\n      <td>국내산</td>\n      <td>no</td>\n    </tr>\n  </tbody>\n</table>\n</div>"
     },
     "execution_count": 92,
     "metadata": {},
     "output_type": "execute_result"
    }
   ],
   "source": [
    "# 활용할 데이터 선택\n",
    "df = data[['가격','호수','칼로리','원산지','살찔까요']].copy()\n",
    "df"
   ],
   "metadata": {
    "collapsed": false,
    "ExecuteTime": {
     "end_time": "2023-07-11T08:32:26.695333Z",
     "start_time": "2023-07-11T08:32:26.676908Z"
    }
   }
  },
  {
   "cell_type": "code",
   "execution_count": 93,
   "outputs": [],
   "source": [
    "# 판다스 원핫인코딩 - 판다스로 하는게 가장 간단하다\n",
    "df = pd.get_dummies(df)"
   ],
   "metadata": {
    "collapsed": false,
    "ExecuteTime": {
     "end_time": "2023-07-11T08:33:18.211267Z",
     "start_time": "2023-07-11T08:33:18.188829Z"
    }
   }
  },
  {
   "cell_type": "code",
   "execution_count": 94,
   "outputs": [
    {
     "data": {
      "text/plain": "      가격  호수     칼로리  원산지_국내산  원산지_미국  원산지_브라질  살찔까요_no  살찔까요_yes\n0  16000  11  1200.0        1       0        0        1         0\n1  15000  12  1500.0        0       0        1        0         1\n2  14000   9  1600.0        0       1        0        0         1\n3  14000   9  1800.0        1       0        0        0         1\n4  14000  11  1300.0        0       0        1        0         1\n5  13000  10  1400.0        1       0        0        0         1\n6  13000  10  1300.0        1       0        0        0         1\n7  12000  10  1000.0        1       0        0        1         0\n8   9900  10  1000.0        1       0        0        1         0",
      "text/html": "<div>\n<style scoped>\n    .dataframe tbody tr th:only-of-type {\n        vertical-align: middle;\n    }\n\n    .dataframe tbody tr th {\n        vertical-align: top;\n    }\n\n    .dataframe thead th {\n        text-align: right;\n    }\n</style>\n<table border=\"1\" class=\"dataframe\">\n  <thead>\n    <tr style=\"text-align: right;\">\n      <th></th>\n      <th>가격</th>\n      <th>호수</th>\n      <th>칼로리</th>\n      <th>원산지_국내산</th>\n      <th>원산지_미국</th>\n      <th>원산지_브라질</th>\n      <th>살찔까요_no</th>\n      <th>살찔까요_yes</th>\n    </tr>\n  </thead>\n  <tbody>\n    <tr>\n      <th>0</th>\n      <td>16000</td>\n      <td>11</td>\n      <td>1200.0</td>\n      <td>1</td>\n      <td>0</td>\n      <td>0</td>\n      <td>1</td>\n      <td>0</td>\n    </tr>\n    <tr>\n      <th>1</th>\n      <td>15000</td>\n      <td>12</td>\n      <td>1500.0</td>\n      <td>0</td>\n      <td>0</td>\n      <td>1</td>\n      <td>0</td>\n      <td>1</td>\n    </tr>\n    <tr>\n      <th>2</th>\n      <td>14000</td>\n      <td>9</td>\n      <td>1600.0</td>\n      <td>0</td>\n      <td>1</td>\n      <td>0</td>\n      <td>0</td>\n      <td>1</td>\n    </tr>\n    <tr>\n      <th>3</th>\n      <td>14000</td>\n      <td>9</td>\n      <td>1800.0</td>\n      <td>1</td>\n      <td>0</td>\n      <td>0</td>\n      <td>0</td>\n      <td>1</td>\n    </tr>\n    <tr>\n      <th>4</th>\n      <td>14000</td>\n      <td>11</td>\n      <td>1300.0</td>\n      <td>0</td>\n      <td>0</td>\n      <td>1</td>\n      <td>0</td>\n      <td>1</td>\n    </tr>\n    <tr>\n      <th>5</th>\n      <td>13000</td>\n      <td>10</td>\n      <td>1400.0</td>\n      <td>1</td>\n      <td>0</td>\n      <td>0</td>\n      <td>0</td>\n      <td>1</td>\n    </tr>\n    <tr>\n      <th>6</th>\n      <td>13000</td>\n      <td>10</td>\n      <td>1300.0</td>\n      <td>1</td>\n      <td>0</td>\n      <td>0</td>\n      <td>0</td>\n      <td>1</td>\n    </tr>\n    <tr>\n      <th>7</th>\n      <td>12000</td>\n      <td>10</td>\n      <td>1000.0</td>\n      <td>1</td>\n      <td>0</td>\n      <td>0</td>\n      <td>1</td>\n      <td>0</td>\n    </tr>\n    <tr>\n      <th>8</th>\n      <td>9900</td>\n      <td>10</td>\n      <td>1000.0</td>\n      <td>1</td>\n      <td>0</td>\n      <td>0</td>\n      <td>1</td>\n      <td>0</td>\n    </tr>\n  </tbody>\n</table>\n</div>"
     },
     "execution_count": 94,
     "metadata": {},
     "output_type": "execute_result"
    }
   ],
   "source": [
    "df"
   ],
   "metadata": {
    "collapsed": false,
    "ExecuteTime": {
     "end_time": "2023-07-11T08:33:20.577638Z",
     "start_time": "2023-07-11T08:33:20.555835Z"
    }
   }
  },
  {
   "cell_type": "markdown",
   "source": [
    "# 데이터 전처리 : 수치형 데이터\n",
    "\n",
    "표준화\n",
    "\n",
    "정규화(min-max)"
   ],
   "metadata": {
    "collapsed": false
   }
  },
  {
   "cell_type": "markdown",
   "source": [
    "표준화(standardScaler)\n",
    "\n",
    "- 평균이 0과 분산이 1인 정규분포로 변환\n",
    "\n",
    "- 16000(가격), 11(호수) 등을 그대로 적어도 되지만 머신러닝을 실행하면 데이터 표준화에 따라 결과 및 속도가 달라질 수 있다."
   ],
   "metadata": {
    "collapsed": false
   }
  },
  {
   "cell_type": "code",
   "execution_count": 99,
   "outputs": [
    {
     "data": {
      "text/plain": "      가격  호수     칼로리  원산지_국내산  원산지_미국  원산지_브라질  살찔까요_no  살찔까요_yes\n0  16000  11  1200.0        1       0        0        1         0\n1  15000  12  1500.0        0       0        1        0         1\n2  14000   9  1600.0        0       1        0        0         1\n3  14000   9  1800.0        1       0        0        0         1\n4  14000  11  1300.0        0       0        1        0         1",
      "text/html": "<div>\n<style scoped>\n    .dataframe tbody tr th:only-of-type {\n        vertical-align: middle;\n    }\n\n    .dataframe tbody tr th {\n        vertical-align: top;\n    }\n\n    .dataframe thead th {\n        text-align: right;\n    }\n</style>\n<table border=\"1\" class=\"dataframe\">\n  <thead>\n    <tr style=\"text-align: right;\">\n      <th></th>\n      <th>가격</th>\n      <th>호수</th>\n      <th>칼로리</th>\n      <th>원산지_국내산</th>\n      <th>원산지_미국</th>\n      <th>원산지_브라질</th>\n      <th>살찔까요_no</th>\n      <th>살찔까요_yes</th>\n    </tr>\n  </thead>\n  <tbody>\n    <tr>\n      <th>0</th>\n      <td>16000</td>\n      <td>11</td>\n      <td>1200.0</td>\n      <td>1</td>\n      <td>0</td>\n      <td>0</td>\n      <td>1</td>\n      <td>0</td>\n    </tr>\n    <tr>\n      <th>1</th>\n      <td>15000</td>\n      <td>12</td>\n      <td>1500.0</td>\n      <td>0</td>\n      <td>0</td>\n      <td>1</td>\n      <td>0</td>\n      <td>1</td>\n    </tr>\n    <tr>\n      <th>2</th>\n      <td>14000</td>\n      <td>9</td>\n      <td>1600.0</td>\n      <td>0</td>\n      <td>1</td>\n      <td>0</td>\n      <td>0</td>\n      <td>1</td>\n    </tr>\n    <tr>\n      <th>3</th>\n      <td>14000</td>\n      <td>9</td>\n      <td>1800.0</td>\n      <td>1</td>\n      <td>0</td>\n      <td>0</td>\n      <td>0</td>\n      <td>1</td>\n    </tr>\n    <tr>\n      <th>4</th>\n      <td>14000</td>\n      <td>11</td>\n      <td>1300.0</td>\n      <td>0</td>\n      <td>0</td>\n      <td>1</td>\n      <td>0</td>\n      <td>1</td>\n    </tr>\n  </tbody>\n</table>\n</div>"
     },
     "execution_count": 99,
     "metadata": {},
     "output_type": "execute_result"
    }
   ],
   "source": [
    "# 원핫인코딩 된 데이터\n",
    "df.head()"
   ],
   "metadata": {
    "collapsed": false,
    "ExecuteTime": {
     "end_time": "2023-07-11T09:05:16.914161Z",
     "start_time": "2023-07-11T09:05:16.908431Z"
    }
   }
  },
  {
   "cell_type": "code",
   "execution_count": 100,
   "outputs": [
    {
     "data": {
      "text/plain": "array([[ 1.54246993],\n       [ 0.94150762],\n       [ 0.34054531],\n       [ 0.34054531],\n       [ 0.34054531],\n       [-0.260417  ],\n       [-0.260417  ],\n       [-0.86137931],\n       [-2.12340016]])"
     },
     "execution_count": 100,
     "metadata": {},
     "output_type": "execute_result"
    }
   ],
   "source": [
    "# StandardScaler\n",
    "from sklearn.preprocessing import StandardScaler\n",
    "scaler = StandardScaler()\n",
    "scaler.fit_transform(df[['가격']])"
   ],
   "metadata": {
    "collapsed": false,
    "ExecuteTime": {
     "end_time": "2023-07-11T09:06:14.959454Z",
     "start_time": "2023-07-11T09:06:14.946713Z"
    }
   }
  },
  {
   "cell_type": "code",
   "execution_count": 104,
   "outputs": [
    {
     "data": {
      "text/plain": "         가격        호수       칼로리  원산지_국내산  원산지_미국  원산지_브라질  살찔까요_no  살찔까요_yes\n0  1.542470  0.848875 -0.577920        1       0        0        1         0\n1  0.941508  1.940285  0.622376        0       0        1        0         1\n2  0.340545 -1.333946  1.022475        0       1        0        0         1\n3  0.340545 -1.333946  1.822672        1       0        0        0         1\n4  0.340545  0.848875 -0.177822        0       0        1        0         1\n5 -0.260417 -0.242536  0.222277        1       0        0        0         1\n6 -0.260417 -0.242536 -0.177822        1       0        0        0         1\n7 -0.861379 -0.242536 -1.378118        1       0        0        1         0\n8 -2.123400 -0.242536 -1.378118        1       0        0        1         0",
      "text/html": "<div>\n<style scoped>\n    .dataframe tbody tr th:only-of-type {\n        vertical-align: middle;\n    }\n\n    .dataframe tbody tr th {\n        vertical-align: top;\n    }\n\n    .dataframe thead th {\n        text-align: right;\n    }\n</style>\n<table border=\"1\" class=\"dataframe\">\n  <thead>\n    <tr style=\"text-align: right;\">\n      <th></th>\n      <th>가격</th>\n      <th>호수</th>\n      <th>칼로리</th>\n      <th>원산지_국내산</th>\n      <th>원산지_미국</th>\n      <th>원산지_브라질</th>\n      <th>살찔까요_no</th>\n      <th>살찔까요_yes</th>\n    </tr>\n  </thead>\n  <tbody>\n    <tr>\n      <th>0</th>\n      <td>1.542470</td>\n      <td>0.848875</td>\n      <td>-0.577920</td>\n      <td>1</td>\n      <td>0</td>\n      <td>0</td>\n      <td>1</td>\n      <td>0</td>\n    </tr>\n    <tr>\n      <th>1</th>\n      <td>0.941508</td>\n      <td>1.940285</td>\n      <td>0.622376</td>\n      <td>0</td>\n      <td>0</td>\n      <td>1</td>\n      <td>0</td>\n      <td>1</td>\n    </tr>\n    <tr>\n      <th>2</th>\n      <td>0.340545</td>\n      <td>-1.333946</td>\n      <td>1.022475</td>\n      <td>0</td>\n      <td>1</td>\n      <td>0</td>\n      <td>0</td>\n      <td>1</td>\n    </tr>\n    <tr>\n      <th>3</th>\n      <td>0.340545</td>\n      <td>-1.333946</td>\n      <td>1.822672</td>\n      <td>1</td>\n      <td>0</td>\n      <td>0</td>\n      <td>0</td>\n      <td>1</td>\n    </tr>\n    <tr>\n      <th>4</th>\n      <td>0.340545</td>\n      <td>0.848875</td>\n      <td>-0.177822</td>\n      <td>0</td>\n      <td>0</td>\n      <td>1</td>\n      <td>0</td>\n      <td>1</td>\n    </tr>\n    <tr>\n      <th>5</th>\n      <td>-0.260417</td>\n      <td>-0.242536</td>\n      <td>0.222277</td>\n      <td>1</td>\n      <td>0</td>\n      <td>0</td>\n      <td>0</td>\n      <td>1</td>\n    </tr>\n    <tr>\n      <th>6</th>\n      <td>-0.260417</td>\n      <td>-0.242536</td>\n      <td>-0.177822</td>\n      <td>1</td>\n      <td>0</td>\n      <td>0</td>\n      <td>0</td>\n      <td>1</td>\n    </tr>\n    <tr>\n      <th>7</th>\n      <td>-0.861379</td>\n      <td>-0.242536</td>\n      <td>-1.378118</td>\n      <td>1</td>\n      <td>0</td>\n      <td>0</td>\n      <td>1</td>\n      <td>0</td>\n    </tr>\n    <tr>\n      <th>8</th>\n      <td>-2.123400</td>\n      <td>-0.242536</td>\n      <td>-1.378118</td>\n      <td>1</td>\n      <td>0</td>\n      <td>0</td>\n      <td>1</td>\n      <td>0</td>\n    </tr>\n  </tbody>\n</table>\n</div>"
     },
     "execution_count": 104,
     "metadata": {},
     "output_type": "execute_result"
    }
   ],
   "source": [
    "# StandardScaler 여러 변수에 적용\n",
    "cols = ['가격','호수','칼로리']\n",
    "df[cols] = scaler.fit_transform(df[cols])\n",
    "df"
   ],
   "metadata": {
    "collapsed": false,
    "ExecuteTime": {
     "end_time": "2023-07-11T09:11:15.235401Z",
     "start_time": "2023-07-11T09:11:15.229012Z"
    }
   }
  },
  {
   "cell_type": "markdown",
   "source": [
    "민맥스(MinMaxScaler)\n",
    "\n",
    "-0~1 사이의 값으로 변환(데이터 사이즈 축소)"
   ],
   "metadata": {
    "collapsed": false
   }
  },
  {
   "cell_type": "code",
   "execution_count": 105,
   "outputs": [
    {
     "data": {
      "text/plain": "         가격        호수    칼로리  원산지_국내산  원산지_미국  원산지_브라질  살찔까요_no  살찔까요_yes\n0  1.000000  0.666667  0.250        1       0        0        1         0\n1  0.836066  1.000000  0.625        0       0        1        0         1\n2  0.672131  0.000000  0.750        0       1        0        0         1\n3  0.672131  0.000000  1.000        1       0        0        0         1\n4  0.672131  0.666667  0.375        0       0        1        0         1\n5  0.508197  0.333333  0.500        1       0        0        0         1\n6  0.508197  0.333333  0.375        1       0        0        0         1\n7  0.344262  0.333333  0.000        1       0        0        1         0\n8  0.000000  0.333333  0.000        1       0        0        1         0",
      "text/html": "<div>\n<style scoped>\n    .dataframe tbody tr th:only-of-type {\n        vertical-align: middle;\n    }\n\n    .dataframe tbody tr th {\n        vertical-align: top;\n    }\n\n    .dataframe thead th {\n        text-align: right;\n    }\n</style>\n<table border=\"1\" class=\"dataframe\">\n  <thead>\n    <tr style=\"text-align: right;\">\n      <th></th>\n      <th>가격</th>\n      <th>호수</th>\n      <th>칼로리</th>\n      <th>원산지_국내산</th>\n      <th>원산지_미국</th>\n      <th>원산지_브라질</th>\n      <th>살찔까요_no</th>\n      <th>살찔까요_yes</th>\n    </tr>\n  </thead>\n  <tbody>\n    <tr>\n      <th>0</th>\n      <td>1.000000</td>\n      <td>0.666667</td>\n      <td>0.250</td>\n      <td>1</td>\n      <td>0</td>\n      <td>0</td>\n      <td>1</td>\n      <td>0</td>\n    </tr>\n    <tr>\n      <th>1</th>\n      <td>0.836066</td>\n      <td>1.000000</td>\n      <td>0.625</td>\n      <td>0</td>\n      <td>0</td>\n      <td>1</td>\n      <td>0</td>\n      <td>1</td>\n    </tr>\n    <tr>\n      <th>2</th>\n      <td>0.672131</td>\n      <td>0.000000</td>\n      <td>0.750</td>\n      <td>0</td>\n      <td>1</td>\n      <td>0</td>\n      <td>0</td>\n      <td>1</td>\n    </tr>\n    <tr>\n      <th>3</th>\n      <td>0.672131</td>\n      <td>0.000000</td>\n      <td>1.000</td>\n      <td>1</td>\n      <td>0</td>\n      <td>0</td>\n      <td>0</td>\n      <td>1</td>\n    </tr>\n    <tr>\n      <th>4</th>\n      <td>0.672131</td>\n      <td>0.666667</td>\n      <td>0.375</td>\n      <td>0</td>\n      <td>0</td>\n      <td>1</td>\n      <td>0</td>\n      <td>1</td>\n    </tr>\n    <tr>\n      <th>5</th>\n      <td>0.508197</td>\n      <td>0.333333</td>\n      <td>0.500</td>\n      <td>1</td>\n      <td>0</td>\n      <td>0</td>\n      <td>0</td>\n      <td>1</td>\n    </tr>\n    <tr>\n      <th>6</th>\n      <td>0.508197</td>\n      <td>0.333333</td>\n      <td>0.375</td>\n      <td>1</td>\n      <td>0</td>\n      <td>0</td>\n      <td>0</td>\n      <td>1</td>\n    </tr>\n    <tr>\n      <th>7</th>\n      <td>0.344262</td>\n      <td>0.333333</td>\n      <td>0.000</td>\n      <td>1</td>\n      <td>0</td>\n      <td>0</td>\n      <td>1</td>\n      <td>0</td>\n    </tr>\n    <tr>\n      <th>8</th>\n      <td>0.000000</td>\n      <td>0.333333</td>\n      <td>0.000</td>\n      <td>1</td>\n      <td>0</td>\n      <td>0</td>\n      <td>1</td>\n      <td>0</td>\n    </tr>\n  </tbody>\n</table>\n</div>"
     },
     "execution_count": 105,
     "metadata": {},
     "output_type": "execute_result"
    }
   ],
   "source": [
    "# MinMaxScaler\n",
    "from sklearn.preprocessing import MinMaxScaler\n",
    "scaler = MinMaxScaler()\n",
    "cols = ['가격','호수','칼로리']\n",
    "df[cols] = scaler.fit_transform(df[cols])\n",
    "df"
   ],
   "metadata": {
    "collapsed": false,
    "ExecuteTime": {
     "end_time": "2023-07-11T09:12:40.082578Z",
     "start_time": "2023-07-11T09:12:40.063851Z"
    }
   }
  },
  {
   "cell_type": "code",
   "execution_count": 106,
   "outputs": [
    {
     "data": {
      "text/plain": "         가격        호수       칼로리  원산지_국내산  원산지_미국  원산지_브라질  살찔까요_no  살찔까요_yes\n0  1.542470  0.848875 -0.577920        1       0        0        1         0\n1  0.941508  1.940285  0.622376        0       0        1        0         1\n2  0.340545 -1.333946  1.022475        0       1        0        0         1\n3  0.340545 -1.333946  1.822672        1       0        0        0         1\n4  0.340545  0.848875 -0.177822        0       0        1        0         1\n5 -0.260417 -0.242536  0.222277        1       0        0        0         1\n6 -0.260417 -0.242536 -0.177822        1       0        0        0         1\n7 -0.861379 -0.242536 -1.378118        1       0        0        1         0\n8 -2.123400 -0.242536 -1.378118        1       0        0        1         0",
      "text/html": "<div>\n<style scoped>\n    .dataframe tbody tr th:only-of-type {\n        vertical-align: middle;\n    }\n\n    .dataframe tbody tr th {\n        vertical-align: top;\n    }\n\n    .dataframe thead th {\n        text-align: right;\n    }\n</style>\n<table border=\"1\" class=\"dataframe\">\n  <thead>\n    <tr style=\"text-align: right;\">\n      <th></th>\n      <th>가격</th>\n      <th>호수</th>\n      <th>칼로리</th>\n      <th>원산지_국내산</th>\n      <th>원산지_미국</th>\n      <th>원산지_브라질</th>\n      <th>살찔까요_no</th>\n      <th>살찔까요_yes</th>\n    </tr>\n  </thead>\n  <tbody>\n    <tr>\n      <th>0</th>\n      <td>1.542470</td>\n      <td>0.848875</td>\n      <td>-0.577920</td>\n      <td>1</td>\n      <td>0</td>\n      <td>0</td>\n      <td>1</td>\n      <td>0</td>\n    </tr>\n    <tr>\n      <th>1</th>\n      <td>0.941508</td>\n      <td>1.940285</td>\n      <td>0.622376</td>\n      <td>0</td>\n      <td>0</td>\n      <td>1</td>\n      <td>0</td>\n      <td>1</td>\n    </tr>\n    <tr>\n      <th>2</th>\n      <td>0.340545</td>\n      <td>-1.333946</td>\n      <td>1.022475</td>\n      <td>0</td>\n      <td>1</td>\n      <td>0</td>\n      <td>0</td>\n      <td>1</td>\n    </tr>\n    <tr>\n      <th>3</th>\n      <td>0.340545</td>\n      <td>-1.333946</td>\n      <td>1.822672</td>\n      <td>1</td>\n      <td>0</td>\n      <td>0</td>\n      <td>0</td>\n      <td>1</td>\n    </tr>\n    <tr>\n      <th>4</th>\n      <td>0.340545</td>\n      <td>0.848875</td>\n      <td>-0.177822</td>\n      <td>0</td>\n      <td>0</td>\n      <td>1</td>\n      <td>0</td>\n      <td>1</td>\n    </tr>\n    <tr>\n      <th>5</th>\n      <td>-0.260417</td>\n      <td>-0.242536</td>\n      <td>0.222277</td>\n      <td>1</td>\n      <td>0</td>\n      <td>0</td>\n      <td>0</td>\n      <td>1</td>\n    </tr>\n    <tr>\n      <th>6</th>\n      <td>-0.260417</td>\n      <td>-0.242536</td>\n      <td>-0.177822</td>\n      <td>1</td>\n      <td>0</td>\n      <td>0</td>\n      <td>0</td>\n      <td>1</td>\n    </tr>\n    <tr>\n      <th>7</th>\n      <td>-0.861379</td>\n      <td>-0.242536</td>\n      <td>-1.378118</td>\n      <td>1</td>\n      <td>0</td>\n      <td>0</td>\n      <td>1</td>\n      <td>0</td>\n    </tr>\n    <tr>\n      <th>8</th>\n      <td>-2.123400</td>\n      <td>-0.242536</td>\n      <td>-1.378118</td>\n      <td>1</td>\n      <td>0</td>\n      <td>0</td>\n      <td>1</td>\n      <td>0</td>\n    </tr>\n  </tbody>\n</table>\n</div>"
     },
     "execution_count": 106,
     "metadata": {},
     "output_type": "execute_result"
    }
   ],
   "source": [
    "# Q. 다음 df 변수에서 수치형 데이터 컬럼('가격', '호수', '칼로리')을 모두 표준화해주세요.\n",
    "df = data[['가격', '호수', '칼로리', '원산지', '살찔까요']].copy()\n",
    "df = pd.get_dummies(df)\n",
    "cols = ['가격', '호수', '칼로리']\n",
    "scaler = StandardScaler()\n",
    "df[cols] = scaler.fit_transform(df[cols])\n",
    "df"
   ],
   "metadata": {
    "collapsed": false,
    "ExecuteTime": {
     "end_time": "2023-07-11T09:15:47.696972Z",
     "start_time": "2023-07-11T09:15:47.671697Z"
    }
   }
  },
  {
   "cell_type": "markdown",
   "source": [
    "사이킷런에서 제공하는 데이터 셋\n",
    "\n",
    "유방암 데이터"
   ],
   "metadata": {
    "collapsed": false
   }
  },
  {
   "cell_type": "code",
   "execution_count": 1,
   "outputs": [
    {
     "data": {
      "text/plain": "{'data': array([[1.799e+01, 1.038e+01, 1.228e+02, ..., 2.654e-01, 4.601e-01,\n         1.189e-01],\n        [2.057e+01, 1.777e+01, 1.329e+02, ..., 1.860e-01, 2.750e-01,\n         8.902e-02],\n        [1.969e+01, 2.125e+01, 1.300e+02, ..., 2.430e-01, 3.613e-01,\n         8.758e-02],\n        ...,\n        [1.660e+01, 2.808e+01, 1.083e+02, ..., 1.418e-01, 2.218e-01,\n         7.820e-02],\n        [2.060e+01, 2.933e+01, 1.401e+02, ..., 2.650e-01, 4.087e-01,\n         1.240e-01],\n        [7.760e+00, 2.454e+01, 4.792e+01, ..., 0.000e+00, 2.871e-01,\n         7.039e-02]]),\n 'target': array([0, 0, 0, 0, 0, 0, 0, 0, 0, 0, 0, 0, 0, 0, 0, 0, 0, 0, 0, 1, 1, 1,\n        0, 0, 0, 0, 0, 0, 0, 0, 0, 0, 0, 0, 0, 0, 0, 1, 0, 0, 0, 0, 0, 0,\n        0, 0, 1, 0, 1, 1, 1, 1, 1, 0, 0, 1, 0, 0, 1, 1, 1, 1, 0, 1, 0, 0,\n        1, 1, 1, 1, 0, 1, 0, 0, 1, 0, 1, 0, 0, 1, 1, 1, 0, 0, 1, 0, 0, 0,\n        1, 1, 1, 0, 1, 1, 0, 0, 1, 1, 1, 0, 0, 1, 1, 1, 1, 0, 1, 1, 0, 1,\n        1, 1, 1, 1, 1, 1, 1, 0, 0, 0, 1, 0, 0, 1, 1, 1, 0, 0, 1, 0, 1, 0,\n        0, 1, 0, 0, 1, 1, 0, 1, 1, 0, 1, 1, 1, 1, 0, 1, 1, 1, 1, 1, 1, 1,\n        1, 1, 0, 1, 1, 1, 1, 0, 0, 1, 0, 1, 1, 0, 0, 1, 1, 0, 0, 1, 1, 1,\n        1, 0, 1, 1, 0, 0, 0, 1, 0, 1, 0, 1, 1, 1, 0, 1, 1, 0, 0, 1, 0, 0,\n        0, 0, 1, 0, 0, 0, 1, 0, 1, 0, 1, 1, 0, 1, 0, 0, 0, 0, 1, 1, 0, 0,\n        1, 1, 1, 0, 1, 1, 1, 1, 1, 0, 0, 1, 1, 0, 1, 1, 0, 0, 1, 0, 1, 1,\n        1, 1, 0, 1, 1, 1, 1, 1, 0, 1, 0, 0, 0, 0, 0, 0, 0, 0, 0, 0, 0, 0,\n        0, 0, 1, 1, 1, 1, 1, 1, 0, 1, 0, 1, 1, 0, 1, 1, 0, 1, 0, 0, 1, 1,\n        1, 1, 1, 1, 1, 1, 1, 1, 1, 1, 1, 0, 1, 1, 0, 1, 0, 1, 1, 1, 1, 1,\n        1, 1, 1, 1, 1, 1, 1, 1, 1, 0, 1, 1, 1, 0, 1, 0, 1, 1, 1, 1, 0, 0,\n        0, 1, 1, 1, 1, 0, 1, 0, 1, 0, 1, 1, 1, 0, 1, 1, 1, 1, 1, 1, 1, 0,\n        0, 0, 1, 1, 1, 1, 1, 1, 1, 1, 1, 1, 1, 0, 0, 1, 0, 0, 0, 1, 0, 0,\n        1, 1, 1, 1, 1, 0, 1, 1, 1, 1, 1, 0, 1, 1, 1, 0, 1, 1, 0, 0, 1, 1,\n        1, 1, 1, 1, 0, 1, 1, 1, 1, 1, 1, 1, 0, 1, 1, 1, 1, 1, 0, 1, 1, 0,\n        1, 1, 1, 1, 1, 1, 1, 1, 1, 1, 1, 1, 0, 1, 0, 0, 1, 0, 1, 1, 1, 1,\n        1, 0, 1, 1, 0, 1, 0, 1, 1, 0, 1, 0, 1, 1, 1, 1, 1, 1, 1, 1, 0, 0,\n        1, 1, 1, 1, 1, 1, 0, 1, 1, 1, 1, 1, 1, 1, 1, 1, 1, 0, 1, 1, 1, 1,\n        1, 1, 1, 0, 1, 0, 1, 1, 0, 1, 1, 1, 1, 1, 0, 0, 1, 0, 1, 0, 1, 1,\n        1, 1, 1, 0, 1, 1, 0, 1, 0, 1, 0, 0, 1, 1, 1, 0, 1, 1, 1, 1, 1, 1,\n        1, 1, 1, 1, 1, 0, 1, 0, 0, 1, 1, 1, 1, 1, 1, 1, 1, 1, 1, 1, 1, 1,\n        1, 1, 1, 1, 1, 1, 1, 1, 1, 1, 1, 1, 0, 0, 0, 0, 0, 0, 1]),\n 'frame': None,\n 'target_names': array(['malignant', 'benign'], dtype='<U9'),\n 'DESCR': '.. _breast_cancer_dataset:\\n\\nBreast cancer wisconsin (diagnostic) dataset\\n--------------------------------------------\\n\\n**Data Set Characteristics:**\\n\\n    :Number of Instances: 569\\n\\n    :Number of Attributes: 30 numeric, predictive attributes and the class\\n\\n    :Attribute Information:\\n        - radius (mean of distances from center to points on the perimeter)\\n        - texture (standard deviation of gray-scale values)\\n        - perimeter\\n        - area\\n        - smoothness (local variation in radius lengths)\\n        - compactness (perimeter^2 / area - 1.0)\\n        - concavity (severity of concave portions of the contour)\\n        - concave points (number of concave portions of the contour)\\n        - symmetry\\n        - fractal dimension (\"coastline approximation\" - 1)\\n\\n        The mean, standard error, and \"worst\" or largest (mean of the three\\n        worst/largest values) of these features were computed for each image,\\n        resulting in 30 features.  For instance, field 0 is Mean Radius, field\\n        10 is Radius SE, field 20 is Worst Radius.\\n\\n        - class:\\n                - WDBC-Malignant\\n                - WDBC-Benign\\n\\n    :Summary Statistics:\\n\\n    ===================================== ====== ======\\n                                           Min    Max\\n    ===================================== ====== ======\\n    radius (mean):                        6.981  28.11\\n    texture (mean):                       9.71   39.28\\n    perimeter (mean):                     43.79  188.5\\n    area (mean):                          143.5  2501.0\\n    smoothness (mean):                    0.053  0.163\\n    compactness (mean):                   0.019  0.345\\n    concavity (mean):                     0.0    0.427\\n    concave points (mean):                0.0    0.201\\n    symmetry (mean):                      0.106  0.304\\n    fractal dimension (mean):             0.05   0.097\\n    radius (standard error):              0.112  2.873\\n    texture (standard error):             0.36   4.885\\n    perimeter (standard error):           0.757  21.98\\n    area (standard error):                6.802  542.2\\n    smoothness (standard error):          0.002  0.031\\n    compactness (standard error):         0.002  0.135\\n    concavity (standard error):           0.0    0.396\\n    concave points (standard error):      0.0    0.053\\n    symmetry (standard error):            0.008  0.079\\n    fractal dimension (standard error):   0.001  0.03\\n    radius (worst):                       7.93   36.04\\n    texture (worst):                      12.02  49.54\\n    perimeter (worst):                    50.41  251.2\\n    area (worst):                         185.2  4254.0\\n    smoothness (worst):                   0.071  0.223\\n    compactness (worst):                  0.027  1.058\\n    concavity (worst):                    0.0    1.252\\n    concave points (worst):               0.0    0.291\\n    symmetry (worst):                     0.156  0.664\\n    fractal dimension (worst):            0.055  0.208\\n    ===================================== ====== ======\\n\\n    :Missing Attribute Values: None\\n\\n    :Class Distribution: 212 - Malignant, 357 - Benign\\n\\n    :Creator:  Dr. William H. Wolberg, W. Nick Street, Olvi L. Mangasarian\\n\\n    :Donor: Nick Street\\n\\n    :Date: November, 1995\\n\\nThis is a copy of UCI ML Breast Cancer Wisconsin (Diagnostic) datasets.\\nhttps://goo.gl/U2Uwz2\\n\\nFeatures are computed from a digitized image of a fine needle\\naspirate (FNA) of a breast mass.  They describe\\ncharacteristics of the cell nuclei present in the image.\\n\\nSeparating plane described above was obtained using\\nMultisurface Method-Tree (MSM-T) [K. P. Bennett, \"Decision Tree\\nConstruction Via Linear Programming.\" Proceedings of the 4th\\nMidwest Artificial Intelligence and Cognitive Science Society,\\npp. 97-101, 1992], a classification method which uses linear\\nprogramming to construct a decision tree.  Relevant features\\nwere selected using an exhaustive search in the space of 1-4\\nfeatures and 1-3 separating planes.\\n\\nThe actual linear program used to obtain the separating plane\\nin the 3-dimensional space is that described in:\\n[K. P. Bennett and O. L. Mangasarian: \"Robust Linear\\nProgramming Discrimination of Two Linearly Inseparable Sets\",\\nOptimization Methods and Software 1, 1992, 23-34].\\n\\nThis database is also available through the UW CS ftp server:\\n\\nftp ftp.cs.wisc.edu\\ncd math-prog/cpo-dataset/machine-learn/WDBC/\\n\\n.. topic:: References\\n\\n   - W.N. Street, W.H. Wolberg and O.L. Mangasarian. Nuclear feature extraction \\n     for breast tumor diagnosis. IS&T/SPIE 1993 International Symposium on \\n     Electronic Imaging: Science and Technology, volume 1905, pages 861-870,\\n     San Jose, CA, 1993.\\n   - O.L. Mangasarian, W.N. Street and W.H. Wolberg. Breast cancer diagnosis and \\n     prognosis via linear programming. Operations Research, 43(4), pages 570-577, \\n     July-August 1995.\\n   - W.H. Wolberg, W.N. Street, and O.L. Mangasarian. Machine learning techniques\\n     to diagnose breast cancer from fine-needle aspirates. Cancer Letters 77 (1994) \\n     163-171.',\n 'feature_names': array(['mean radius', 'mean texture', 'mean perimeter', 'mean area',\n        'mean smoothness', 'mean compactness', 'mean concavity',\n        'mean concave points', 'mean symmetry', 'mean fractal dimension',\n        'radius error', 'texture error', 'perimeter error', 'area error',\n        'smoothness error', 'compactness error', 'concavity error',\n        'concave points error', 'symmetry error',\n        'fractal dimension error', 'worst radius', 'worst texture',\n        'worst perimeter', 'worst area', 'worst smoothness',\n        'worst compactness', 'worst concavity', 'worst concave points',\n        'worst symmetry', 'worst fractal dimension'], dtype='<U23'),\n 'filename': 'breast_cancer.csv',\n 'data_module': 'sklearn.datasets.data'}"
     },
     "execution_count": 1,
     "metadata": {},
     "output_type": "execute_result"
    }
   ],
   "source": [
    "# 사이킷런 데이터 불러오기\n",
    "from sklearn.datasets import load_breast_cancer\n",
    "dataset = load_breast_cancer()\n",
    "dataset"
   ],
   "metadata": {
    "collapsed": false,
    "ExecuteTime": {
     "start_time": "2023-07-12T01:34:08.812027Z",
     "end_time": "2023-07-12T01:34:12.564051Z"
    }
   }
  },
  {
   "cell_type": "code",
   "execution_count": 2,
   "outputs": [
    {
     "data": {
      "text/plain": "array(['mean radius', 'mean texture', 'mean perimeter', 'mean area',\n       'mean smoothness', 'mean compactness', 'mean concavity',\n       'mean concave points', 'mean symmetry', 'mean fractal dimension',\n       'radius error', 'texture error', 'perimeter error', 'area error',\n       'smoothness error', 'compactness error', 'concavity error',\n       'concave points error', 'symmetry error',\n       'fractal dimension error', 'worst radius', 'worst texture',\n       'worst perimeter', 'worst area', 'worst smoothness',\n       'worst compactness', 'worst concavity', 'worst concave points',\n       'worst symmetry', 'worst fractal dimension'], dtype='<U23')"
     },
     "execution_count": 2,
     "metadata": {},
     "output_type": "execute_result"
    }
   ],
   "source": [
    "# 피처 이름 확인\n",
    "dataset.feature_names"
   ],
   "metadata": {
    "collapsed": false,
    "ExecuteTime": {
     "start_time": "2023-07-12T01:34:35.004826Z",
     "end_time": "2023-07-12T01:34:35.038014Z"
    }
   }
  },
  {
   "cell_type": "code",
   "execution_count": 3,
   "outputs": [
    {
     "data": {
      "text/plain": "array([0, 0, 0, 0, 0, 0, 0, 0, 0, 0, 0, 0, 0, 0, 0, 0, 0, 0, 0, 1, 1, 1,\n       0, 0, 0, 0, 0, 0, 0, 0, 0, 0, 0, 0, 0, 0, 0, 1, 0, 0, 0, 0, 0, 0,\n       0, 0, 1, 0, 1, 1, 1, 1, 1, 0, 0, 1, 0, 0, 1, 1, 1, 1, 0, 1, 0, 0,\n       1, 1, 1, 1, 0, 1, 0, 0, 1, 0, 1, 0, 0, 1, 1, 1, 0, 0, 1, 0, 0, 0,\n       1, 1, 1, 0, 1, 1, 0, 0, 1, 1, 1, 0, 0, 1, 1, 1, 1, 0, 1, 1, 0, 1,\n       1, 1, 1, 1, 1, 1, 1, 0, 0, 0, 1, 0, 0, 1, 1, 1, 0, 0, 1, 0, 1, 0,\n       0, 1, 0, 0, 1, 1, 0, 1, 1, 0, 1, 1, 1, 1, 0, 1, 1, 1, 1, 1, 1, 1,\n       1, 1, 0, 1, 1, 1, 1, 0, 0, 1, 0, 1, 1, 0, 0, 1, 1, 0, 0, 1, 1, 1,\n       1, 0, 1, 1, 0, 0, 0, 1, 0, 1, 0, 1, 1, 1, 0, 1, 1, 0, 0, 1, 0, 0,\n       0, 0, 1, 0, 0, 0, 1, 0, 1, 0, 1, 1, 0, 1, 0, 0, 0, 0, 1, 1, 0, 0,\n       1, 1, 1, 0, 1, 1, 1, 1, 1, 0, 0, 1, 1, 0, 1, 1, 0, 0, 1, 0, 1, 1,\n       1, 1, 0, 1, 1, 1, 1, 1, 0, 1, 0, 0, 0, 0, 0, 0, 0, 0, 0, 0, 0, 0,\n       0, 0, 1, 1, 1, 1, 1, 1, 0, 1, 0, 1, 1, 0, 1, 1, 0, 1, 0, 0, 1, 1,\n       1, 1, 1, 1, 1, 1, 1, 1, 1, 1, 1, 0, 1, 1, 0, 1, 0, 1, 1, 1, 1, 1,\n       1, 1, 1, 1, 1, 1, 1, 1, 1, 0, 1, 1, 1, 0, 1, 0, 1, 1, 1, 1, 0, 0,\n       0, 1, 1, 1, 1, 0, 1, 0, 1, 0, 1, 1, 1, 0, 1, 1, 1, 1, 1, 1, 1, 0,\n       0, 0, 1, 1, 1, 1, 1, 1, 1, 1, 1, 1, 1, 0, 0, 1, 0, 0, 0, 1, 0, 0,\n       1, 1, 1, 1, 1, 0, 1, 1, 1, 1, 1, 0, 1, 1, 1, 0, 1, 1, 0, 0, 1, 1,\n       1, 1, 1, 1, 0, 1, 1, 1, 1, 1, 1, 1, 0, 1, 1, 1, 1, 1, 0, 1, 1, 0,\n       1, 1, 1, 1, 1, 1, 1, 1, 1, 1, 1, 1, 0, 1, 0, 0, 1, 0, 1, 1, 1, 1,\n       1, 0, 1, 1, 0, 1, 0, 1, 1, 0, 1, 0, 1, 1, 1, 1, 1, 1, 1, 1, 0, 0,\n       1, 1, 1, 1, 1, 1, 0, 1, 1, 1, 1, 1, 1, 1, 1, 1, 1, 0, 1, 1, 1, 1,\n       1, 1, 1, 0, 1, 0, 1, 1, 0, 1, 1, 1, 1, 1, 0, 0, 1, 0, 1, 0, 1, 1,\n       1, 1, 1, 0, 1, 1, 0, 1, 0, 1, 0, 0, 1, 1, 1, 0, 1, 1, 1, 1, 1, 1,\n       1, 1, 1, 1, 1, 0, 1, 0, 0, 1, 1, 1, 1, 1, 1, 1, 1, 1, 1, 1, 1, 1,\n       1, 1, 1, 1, 1, 1, 1, 1, 1, 1, 1, 1, 0, 0, 0, 0, 0, 0, 1])"
     },
     "execution_count": 3,
     "metadata": {},
     "output_type": "execute_result"
    }
   ],
   "source": [
    "# 타겟 확인\n",
    "dataset.target"
   ],
   "metadata": {
    "collapsed": false,
    "ExecuteTime": {
     "start_time": "2023-07-12T01:35:01.645741Z",
     "end_time": "2023-07-12T01:35:01.681164Z"
    }
   }
  },
  {
   "cell_type": "code",
   "execution_count": 4,
   "outputs": [
    {
     "data": {
      "text/plain": "array([[1.799e+01, 1.038e+01, 1.228e+02, 1.001e+03, 1.184e-01, 2.776e-01,\n        3.001e-01, 1.471e-01, 2.419e-01, 7.871e-02, 1.095e+00, 9.053e-01,\n        8.589e+00, 1.534e+02, 6.399e-03, 4.904e-02, 5.373e-02, 1.587e-02,\n        3.003e-02, 6.193e-03, 2.538e+01, 1.733e+01, 1.846e+02, 2.019e+03,\n        1.622e-01, 6.656e-01, 7.119e-01, 2.654e-01, 4.601e-01, 1.189e-01],\n       [2.057e+01, 1.777e+01, 1.329e+02, 1.326e+03, 8.474e-02, 7.864e-02,\n        8.690e-02, 7.017e-02, 1.812e-01, 5.667e-02, 5.435e-01, 7.339e-01,\n        3.398e+00, 7.408e+01, 5.225e-03, 1.308e-02, 1.860e-02, 1.340e-02,\n        1.389e-02, 3.532e-03, 2.499e+01, 2.341e+01, 1.588e+02, 1.956e+03,\n        1.238e-01, 1.866e-01, 2.416e-01, 1.860e-01, 2.750e-01, 8.902e-02],\n       [1.969e+01, 2.125e+01, 1.300e+02, 1.203e+03, 1.096e-01, 1.599e-01,\n        1.974e-01, 1.279e-01, 2.069e-01, 5.999e-02, 7.456e-01, 7.869e-01,\n        4.585e+00, 9.403e+01, 6.150e-03, 4.006e-02, 3.832e-02, 2.058e-02,\n        2.250e-02, 4.571e-03, 2.357e+01, 2.553e+01, 1.525e+02, 1.709e+03,\n        1.444e-01, 4.245e-01, 4.504e-01, 2.430e-01, 3.613e-01, 8.758e-02]])"
     },
     "execution_count": 4,
     "metadata": {},
     "output_type": "execute_result"
    }
   ],
   "source": [
    "# 데이터 확인\n",
    "dataset.data[:3]"
   ],
   "metadata": {
    "collapsed": false,
    "ExecuteTime": {
     "start_time": "2023-07-12T01:35:24.942931Z",
     "end_time": "2023-07-12T01:35:24.976893Z"
    }
   }
  },
  {
   "cell_type": "code",
   "execution_count": 6,
   "outputs": [
    {
     "data": {
      "text/plain": "     mean radius  mean texture  mean perimeter  mean area  mean smoothness  \\\n0          17.99         10.38          122.80     1001.0          0.11840   \n1          20.57         17.77          132.90     1326.0          0.08474   \n2          19.69         21.25          130.00     1203.0          0.10960   \n3          11.42         20.38           77.58      386.1          0.14250   \n4          20.29         14.34          135.10     1297.0          0.10030   \n..           ...           ...             ...        ...              ...   \n564        21.56         22.39          142.00     1479.0          0.11100   \n565        20.13         28.25          131.20     1261.0          0.09780   \n566        16.60         28.08          108.30      858.1          0.08455   \n567        20.60         29.33          140.10     1265.0          0.11780   \n568         7.76         24.54           47.92      181.0          0.05263   \n\n     mean compactness  mean concavity  mean concave points  mean symmetry  \\\n0             0.27760         0.30010              0.14710         0.2419   \n1             0.07864         0.08690              0.07017         0.1812   \n2             0.15990         0.19740              0.12790         0.2069   \n3             0.28390         0.24140              0.10520         0.2597   \n4             0.13280         0.19800              0.10430         0.1809   \n..                ...             ...                  ...            ...   \n564           0.11590         0.24390              0.13890         0.1726   \n565           0.10340         0.14400              0.09791         0.1752   \n566           0.10230         0.09251              0.05302         0.1590   \n567           0.27700         0.35140              0.15200         0.2397   \n568           0.04362         0.00000              0.00000         0.1587   \n\n     mean fractal dimension  ...  worst radius  worst texture  \\\n0                   0.07871  ...        25.380          17.33   \n1                   0.05667  ...        24.990          23.41   \n2                   0.05999  ...        23.570          25.53   \n3                   0.09744  ...        14.910          26.50   \n4                   0.05883  ...        22.540          16.67   \n..                      ...  ...           ...            ...   \n564                 0.05623  ...        25.450          26.40   \n565                 0.05533  ...        23.690          38.25   \n566                 0.05648  ...        18.980          34.12   \n567                 0.07016  ...        25.740          39.42   \n568                 0.05884  ...         9.456          30.37   \n\n     worst perimeter  worst area  worst smoothness  worst compactness  \\\n0             184.60      2019.0           0.16220            0.66560   \n1             158.80      1956.0           0.12380            0.18660   \n2             152.50      1709.0           0.14440            0.42450   \n3              98.87       567.7           0.20980            0.86630   \n4             152.20      1575.0           0.13740            0.20500   \n..               ...         ...               ...                ...   \n564           166.10      2027.0           0.14100            0.21130   \n565           155.00      1731.0           0.11660            0.19220   \n566           126.70      1124.0           0.11390            0.30940   \n567           184.60      1821.0           0.16500            0.86810   \n568            59.16       268.6           0.08996            0.06444   \n\n     worst concavity  worst concave points  worst symmetry  \\\n0             0.7119                0.2654          0.4601   \n1             0.2416                0.1860          0.2750   \n2             0.4504                0.2430          0.3613   \n3             0.6869                0.2575          0.6638   \n4             0.4000                0.1625          0.2364   \n..               ...                   ...             ...   \n564           0.4107                0.2216          0.2060   \n565           0.3215                0.1628          0.2572   \n566           0.3403                0.1418          0.2218   \n567           0.9387                0.2650          0.4087   \n568           0.0000                0.0000          0.2871   \n\n     worst fractal dimension  \n0                    0.11890  \n1                    0.08902  \n2                    0.08758  \n3                    0.17300  \n4                    0.07678  \n..                       ...  \n564                  0.07115  \n565                  0.06637  \n566                  0.07820  \n567                  0.12400  \n568                  0.07039  \n\n[569 rows x 30 columns]",
      "text/html": "<div>\n<style scoped>\n    .dataframe tbody tr th:only-of-type {\n        vertical-align: middle;\n    }\n\n    .dataframe tbody tr th {\n        vertical-align: top;\n    }\n\n    .dataframe thead th {\n        text-align: right;\n    }\n</style>\n<table border=\"1\" class=\"dataframe\">\n  <thead>\n    <tr style=\"text-align: right;\">\n      <th></th>\n      <th>mean radius</th>\n      <th>mean texture</th>\n      <th>mean perimeter</th>\n      <th>mean area</th>\n      <th>mean smoothness</th>\n      <th>mean compactness</th>\n      <th>mean concavity</th>\n      <th>mean concave points</th>\n      <th>mean symmetry</th>\n      <th>mean fractal dimension</th>\n      <th>...</th>\n      <th>worst radius</th>\n      <th>worst texture</th>\n      <th>worst perimeter</th>\n      <th>worst area</th>\n      <th>worst smoothness</th>\n      <th>worst compactness</th>\n      <th>worst concavity</th>\n      <th>worst concave points</th>\n      <th>worst symmetry</th>\n      <th>worst fractal dimension</th>\n    </tr>\n  </thead>\n  <tbody>\n    <tr>\n      <th>0</th>\n      <td>17.99</td>\n      <td>10.38</td>\n      <td>122.80</td>\n      <td>1001.0</td>\n      <td>0.11840</td>\n      <td>0.27760</td>\n      <td>0.30010</td>\n      <td>0.14710</td>\n      <td>0.2419</td>\n      <td>0.07871</td>\n      <td>...</td>\n      <td>25.380</td>\n      <td>17.33</td>\n      <td>184.60</td>\n      <td>2019.0</td>\n      <td>0.16220</td>\n      <td>0.66560</td>\n      <td>0.7119</td>\n      <td>0.2654</td>\n      <td>0.4601</td>\n      <td>0.11890</td>\n    </tr>\n    <tr>\n      <th>1</th>\n      <td>20.57</td>\n      <td>17.77</td>\n      <td>132.90</td>\n      <td>1326.0</td>\n      <td>0.08474</td>\n      <td>0.07864</td>\n      <td>0.08690</td>\n      <td>0.07017</td>\n      <td>0.1812</td>\n      <td>0.05667</td>\n      <td>...</td>\n      <td>24.990</td>\n      <td>23.41</td>\n      <td>158.80</td>\n      <td>1956.0</td>\n      <td>0.12380</td>\n      <td>0.18660</td>\n      <td>0.2416</td>\n      <td>0.1860</td>\n      <td>0.2750</td>\n      <td>0.08902</td>\n    </tr>\n    <tr>\n      <th>2</th>\n      <td>19.69</td>\n      <td>21.25</td>\n      <td>130.00</td>\n      <td>1203.0</td>\n      <td>0.10960</td>\n      <td>0.15990</td>\n      <td>0.19740</td>\n      <td>0.12790</td>\n      <td>0.2069</td>\n      <td>0.05999</td>\n      <td>...</td>\n      <td>23.570</td>\n      <td>25.53</td>\n      <td>152.50</td>\n      <td>1709.0</td>\n      <td>0.14440</td>\n      <td>0.42450</td>\n      <td>0.4504</td>\n      <td>0.2430</td>\n      <td>0.3613</td>\n      <td>0.08758</td>\n    </tr>\n    <tr>\n      <th>3</th>\n      <td>11.42</td>\n      <td>20.38</td>\n      <td>77.58</td>\n      <td>386.1</td>\n      <td>0.14250</td>\n      <td>0.28390</td>\n      <td>0.24140</td>\n      <td>0.10520</td>\n      <td>0.2597</td>\n      <td>0.09744</td>\n      <td>...</td>\n      <td>14.910</td>\n      <td>26.50</td>\n      <td>98.87</td>\n      <td>567.7</td>\n      <td>0.20980</td>\n      <td>0.86630</td>\n      <td>0.6869</td>\n      <td>0.2575</td>\n      <td>0.6638</td>\n      <td>0.17300</td>\n    </tr>\n    <tr>\n      <th>4</th>\n      <td>20.29</td>\n      <td>14.34</td>\n      <td>135.10</td>\n      <td>1297.0</td>\n      <td>0.10030</td>\n      <td>0.13280</td>\n      <td>0.19800</td>\n      <td>0.10430</td>\n      <td>0.1809</td>\n      <td>0.05883</td>\n      <td>...</td>\n      <td>22.540</td>\n      <td>16.67</td>\n      <td>152.20</td>\n      <td>1575.0</td>\n      <td>0.13740</td>\n      <td>0.20500</td>\n      <td>0.4000</td>\n      <td>0.1625</td>\n      <td>0.2364</td>\n      <td>0.07678</td>\n    </tr>\n    <tr>\n      <th>...</th>\n      <td>...</td>\n      <td>...</td>\n      <td>...</td>\n      <td>...</td>\n      <td>...</td>\n      <td>...</td>\n      <td>...</td>\n      <td>...</td>\n      <td>...</td>\n      <td>...</td>\n      <td>...</td>\n      <td>...</td>\n      <td>...</td>\n      <td>...</td>\n      <td>...</td>\n      <td>...</td>\n      <td>...</td>\n      <td>...</td>\n      <td>...</td>\n      <td>...</td>\n      <td>...</td>\n    </tr>\n    <tr>\n      <th>564</th>\n      <td>21.56</td>\n      <td>22.39</td>\n      <td>142.00</td>\n      <td>1479.0</td>\n      <td>0.11100</td>\n      <td>0.11590</td>\n      <td>0.24390</td>\n      <td>0.13890</td>\n      <td>0.1726</td>\n      <td>0.05623</td>\n      <td>...</td>\n      <td>25.450</td>\n      <td>26.40</td>\n      <td>166.10</td>\n      <td>2027.0</td>\n      <td>0.14100</td>\n      <td>0.21130</td>\n      <td>0.4107</td>\n      <td>0.2216</td>\n      <td>0.2060</td>\n      <td>0.07115</td>\n    </tr>\n    <tr>\n      <th>565</th>\n      <td>20.13</td>\n      <td>28.25</td>\n      <td>131.20</td>\n      <td>1261.0</td>\n      <td>0.09780</td>\n      <td>0.10340</td>\n      <td>0.14400</td>\n      <td>0.09791</td>\n      <td>0.1752</td>\n      <td>0.05533</td>\n      <td>...</td>\n      <td>23.690</td>\n      <td>38.25</td>\n      <td>155.00</td>\n      <td>1731.0</td>\n      <td>0.11660</td>\n      <td>0.19220</td>\n      <td>0.3215</td>\n      <td>0.1628</td>\n      <td>0.2572</td>\n      <td>0.06637</td>\n    </tr>\n    <tr>\n      <th>566</th>\n      <td>16.60</td>\n      <td>28.08</td>\n      <td>108.30</td>\n      <td>858.1</td>\n      <td>0.08455</td>\n      <td>0.10230</td>\n      <td>0.09251</td>\n      <td>0.05302</td>\n      <td>0.1590</td>\n      <td>0.05648</td>\n      <td>...</td>\n      <td>18.980</td>\n      <td>34.12</td>\n      <td>126.70</td>\n      <td>1124.0</td>\n      <td>0.11390</td>\n      <td>0.30940</td>\n      <td>0.3403</td>\n      <td>0.1418</td>\n      <td>0.2218</td>\n      <td>0.07820</td>\n    </tr>\n    <tr>\n      <th>567</th>\n      <td>20.60</td>\n      <td>29.33</td>\n      <td>140.10</td>\n      <td>1265.0</td>\n      <td>0.11780</td>\n      <td>0.27700</td>\n      <td>0.35140</td>\n      <td>0.15200</td>\n      <td>0.2397</td>\n      <td>0.07016</td>\n      <td>...</td>\n      <td>25.740</td>\n      <td>39.42</td>\n      <td>184.60</td>\n      <td>1821.0</td>\n      <td>0.16500</td>\n      <td>0.86810</td>\n      <td>0.9387</td>\n      <td>0.2650</td>\n      <td>0.4087</td>\n      <td>0.12400</td>\n    </tr>\n    <tr>\n      <th>568</th>\n      <td>7.76</td>\n      <td>24.54</td>\n      <td>47.92</td>\n      <td>181.0</td>\n      <td>0.05263</td>\n      <td>0.04362</td>\n      <td>0.00000</td>\n      <td>0.00000</td>\n      <td>0.1587</td>\n      <td>0.05884</td>\n      <td>...</td>\n      <td>9.456</td>\n      <td>30.37</td>\n      <td>59.16</td>\n      <td>268.6</td>\n      <td>0.08996</td>\n      <td>0.06444</td>\n      <td>0.0000</td>\n      <td>0.0000</td>\n      <td>0.2871</td>\n      <td>0.07039</td>\n    </tr>\n  </tbody>\n</table>\n<p>569 rows × 30 columns</p>\n</div>"
     },
     "execution_count": 6,
     "metadata": {},
     "output_type": "execute_result"
    }
   ],
   "source": [
    "# 데이터 프레임으로 변환\n",
    "cancer_df = pd.DataFrame(data = dataset.data, columns=dataset.feature_names)\n",
    "cancer_df"
   ],
   "metadata": {
    "collapsed": false,
    "ExecuteTime": {
     "start_time": "2023-07-12T01:37:03.487474Z",
     "end_time": "2023-07-12T01:37:03.501684Z"
    }
   }
  },
  {
   "cell_type": "code",
   "execution_count": 7,
   "outputs": [
    {
     "data": {
      "text/plain": "     mean radius  mean texture  mean perimeter  mean area  mean smoothness  \\\n0          17.99         10.38          122.80     1001.0          0.11840   \n1          20.57         17.77          132.90     1326.0          0.08474   \n2          19.69         21.25          130.00     1203.0          0.10960   \n3          11.42         20.38           77.58      386.1          0.14250   \n4          20.29         14.34          135.10     1297.0          0.10030   \n..           ...           ...             ...        ...              ...   \n564        21.56         22.39          142.00     1479.0          0.11100   \n565        20.13         28.25          131.20     1261.0          0.09780   \n566        16.60         28.08          108.30      858.1          0.08455   \n567        20.60         29.33          140.10     1265.0          0.11780   \n568         7.76         24.54           47.92      181.0          0.05263   \n\n     mean compactness  mean concavity  mean concave points  mean symmetry  \\\n0             0.27760         0.30010              0.14710         0.2419   \n1             0.07864         0.08690              0.07017         0.1812   \n2             0.15990         0.19740              0.12790         0.2069   \n3             0.28390         0.24140              0.10520         0.2597   \n4             0.13280         0.19800              0.10430         0.1809   \n..                ...             ...                  ...            ...   \n564           0.11590         0.24390              0.13890         0.1726   \n565           0.10340         0.14400              0.09791         0.1752   \n566           0.10230         0.09251              0.05302         0.1590   \n567           0.27700         0.35140              0.15200         0.2397   \n568           0.04362         0.00000              0.00000         0.1587   \n\n     mean fractal dimension  ...  worst texture  worst perimeter  worst area  \\\n0                   0.07871  ...          17.33           184.60      2019.0   \n1                   0.05667  ...          23.41           158.80      1956.0   \n2                   0.05999  ...          25.53           152.50      1709.0   \n3                   0.09744  ...          26.50            98.87       567.7   \n4                   0.05883  ...          16.67           152.20      1575.0   \n..                      ...  ...            ...              ...         ...   \n564                 0.05623  ...          26.40           166.10      2027.0   \n565                 0.05533  ...          38.25           155.00      1731.0   \n566                 0.05648  ...          34.12           126.70      1124.0   \n567                 0.07016  ...          39.42           184.60      1821.0   \n568                 0.05884  ...          30.37            59.16       268.6   \n\n     worst smoothness  worst compactness  worst concavity  \\\n0             0.16220            0.66560           0.7119   \n1             0.12380            0.18660           0.2416   \n2             0.14440            0.42450           0.4504   \n3             0.20980            0.86630           0.6869   \n4             0.13740            0.20500           0.4000   \n..                ...                ...              ...   \n564           0.14100            0.21130           0.4107   \n565           0.11660            0.19220           0.3215   \n566           0.11390            0.30940           0.3403   \n567           0.16500            0.86810           0.9387   \n568           0.08996            0.06444           0.0000   \n\n     worst concave points  worst symmetry  worst fractal dimension  target  \n0                  0.2654          0.4601                  0.11890       0  \n1                  0.1860          0.2750                  0.08902       0  \n2                  0.2430          0.3613                  0.08758       0  \n3                  0.2575          0.6638                  0.17300       0  \n4                  0.1625          0.2364                  0.07678       0  \n..                    ...             ...                      ...     ...  \n564                0.2216          0.2060                  0.07115       0  \n565                0.1628          0.2572                  0.06637       0  \n566                0.1418          0.2218                  0.07820       0  \n567                0.2650          0.4087                  0.12400       0  \n568                0.0000          0.2871                  0.07039       1  \n\n[569 rows x 31 columns]",
      "text/html": "<div>\n<style scoped>\n    .dataframe tbody tr th:only-of-type {\n        vertical-align: middle;\n    }\n\n    .dataframe tbody tr th {\n        vertical-align: top;\n    }\n\n    .dataframe thead th {\n        text-align: right;\n    }\n</style>\n<table border=\"1\" class=\"dataframe\">\n  <thead>\n    <tr style=\"text-align: right;\">\n      <th></th>\n      <th>mean radius</th>\n      <th>mean texture</th>\n      <th>mean perimeter</th>\n      <th>mean area</th>\n      <th>mean smoothness</th>\n      <th>mean compactness</th>\n      <th>mean concavity</th>\n      <th>mean concave points</th>\n      <th>mean symmetry</th>\n      <th>mean fractal dimension</th>\n      <th>...</th>\n      <th>worst texture</th>\n      <th>worst perimeter</th>\n      <th>worst area</th>\n      <th>worst smoothness</th>\n      <th>worst compactness</th>\n      <th>worst concavity</th>\n      <th>worst concave points</th>\n      <th>worst symmetry</th>\n      <th>worst fractal dimension</th>\n      <th>target</th>\n    </tr>\n  </thead>\n  <tbody>\n    <tr>\n      <th>0</th>\n      <td>17.99</td>\n      <td>10.38</td>\n      <td>122.80</td>\n      <td>1001.0</td>\n      <td>0.11840</td>\n      <td>0.27760</td>\n      <td>0.30010</td>\n      <td>0.14710</td>\n      <td>0.2419</td>\n      <td>0.07871</td>\n      <td>...</td>\n      <td>17.33</td>\n      <td>184.60</td>\n      <td>2019.0</td>\n      <td>0.16220</td>\n      <td>0.66560</td>\n      <td>0.7119</td>\n      <td>0.2654</td>\n      <td>0.4601</td>\n      <td>0.11890</td>\n      <td>0</td>\n    </tr>\n    <tr>\n      <th>1</th>\n      <td>20.57</td>\n      <td>17.77</td>\n      <td>132.90</td>\n      <td>1326.0</td>\n      <td>0.08474</td>\n      <td>0.07864</td>\n      <td>0.08690</td>\n      <td>0.07017</td>\n      <td>0.1812</td>\n      <td>0.05667</td>\n      <td>...</td>\n      <td>23.41</td>\n      <td>158.80</td>\n      <td>1956.0</td>\n      <td>0.12380</td>\n      <td>0.18660</td>\n      <td>0.2416</td>\n      <td>0.1860</td>\n      <td>0.2750</td>\n      <td>0.08902</td>\n      <td>0</td>\n    </tr>\n    <tr>\n      <th>2</th>\n      <td>19.69</td>\n      <td>21.25</td>\n      <td>130.00</td>\n      <td>1203.0</td>\n      <td>0.10960</td>\n      <td>0.15990</td>\n      <td>0.19740</td>\n      <td>0.12790</td>\n      <td>0.2069</td>\n      <td>0.05999</td>\n      <td>...</td>\n      <td>25.53</td>\n      <td>152.50</td>\n      <td>1709.0</td>\n      <td>0.14440</td>\n      <td>0.42450</td>\n      <td>0.4504</td>\n      <td>0.2430</td>\n      <td>0.3613</td>\n      <td>0.08758</td>\n      <td>0</td>\n    </tr>\n    <tr>\n      <th>3</th>\n      <td>11.42</td>\n      <td>20.38</td>\n      <td>77.58</td>\n      <td>386.1</td>\n      <td>0.14250</td>\n      <td>0.28390</td>\n      <td>0.24140</td>\n      <td>0.10520</td>\n      <td>0.2597</td>\n      <td>0.09744</td>\n      <td>...</td>\n      <td>26.50</td>\n      <td>98.87</td>\n      <td>567.7</td>\n      <td>0.20980</td>\n      <td>0.86630</td>\n      <td>0.6869</td>\n      <td>0.2575</td>\n      <td>0.6638</td>\n      <td>0.17300</td>\n      <td>0</td>\n    </tr>\n    <tr>\n      <th>4</th>\n      <td>20.29</td>\n      <td>14.34</td>\n      <td>135.10</td>\n      <td>1297.0</td>\n      <td>0.10030</td>\n      <td>0.13280</td>\n      <td>0.19800</td>\n      <td>0.10430</td>\n      <td>0.1809</td>\n      <td>0.05883</td>\n      <td>...</td>\n      <td>16.67</td>\n      <td>152.20</td>\n      <td>1575.0</td>\n      <td>0.13740</td>\n      <td>0.20500</td>\n      <td>0.4000</td>\n      <td>0.1625</td>\n      <td>0.2364</td>\n      <td>0.07678</td>\n      <td>0</td>\n    </tr>\n    <tr>\n      <th>...</th>\n      <td>...</td>\n      <td>...</td>\n      <td>...</td>\n      <td>...</td>\n      <td>...</td>\n      <td>...</td>\n      <td>...</td>\n      <td>...</td>\n      <td>...</td>\n      <td>...</td>\n      <td>...</td>\n      <td>...</td>\n      <td>...</td>\n      <td>...</td>\n      <td>...</td>\n      <td>...</td>\n      <td>...</td>\n      <td>...</td>\n      <td>...</td>\n      <td>...</td>\n      <td>...</td>\n    </tr>\n    <tr>\n      <th>564</th>\n      <td>21.56</td>\n      <td>22.39</td>\n      <td>142.00</td>\n      <td>1479.0</td>\n      <td>0.11100</td>\n      <td>0.11590</td>\n      <td>0.24390</td>\n      <td>0.13890</td>\n      <td>0.1726</td>\n      <td>0.05623</td>\n      <td>...</td>\n      <td>26.40</td>\n      <td>166.10</td>\n      <td>2027.0</td>\n      <td>0.14100</td>\n      <td>0.21130</td>\n      <td>0.4107</td>\n      <td>0.2216</td>\n      <td>0.2060</td>\n      <td>0.07115</td>\n      <td>0</td>\n    </tr>\n    <tr>\n      <th>565</th>\n      <td>20.13</td>\n      <td>28.25</td>\n      <td>131.20</td>\n      <td>1261.0</td>\n      <td>0.09780</td>\n      <td>0.10340</td>\n      <td>0.14400</td>\n      <td>0.09791</td>\n      <td>0.1752</td>\n      <td>0.05533</td>\n      <td>...</td>\n      <td>38.25</td>\n      <td>155.00</td>\n      <td>1731.0</td>\n      <td>0.11660</td>\n      <td>0.19220</td>\n      <td>0.3215</td>\n      <td>0.1628</td>\n      <td>0.2572</td>\n      <td>0.06637</td>\n      <td>0</td>\n    </tr>\n    <tr>\n      <th>566</th>\n      <td>16.60</td>\n      <td>28.08</td>\n      <td>108.30</td>\n      <td>858.1</td>\n      <td>0.08455</td>\n      <td>0.10230</td>\n      <td>0.09251</td>\n      <td>0.05302</td>\n      <td>0.1590</td>\n      <td>0.05648</td>\n      <td>...</td>\n      <td>34.12</td>\n      <td>126.70</td>\n      <td>1124.0</td>\n      <td>0.11390</td>\n      <td>0.30940</td>\n      <td>0.3403</td>\n      <td>0.1418</td>\n      <td>0.2218</td>\n      <td>0.07820</td>\n      <td>0</td>\n    </tr>\n    <tr>\n      <th>567</th>\n      <td>20.60</td>\n      <td>29.33</td>\n      <td>140.10</td>\n      <td>1265.0</td>\n      <td>0.11780</td>\n      <td>0.27700</td>\n      <td>0.35140</td>\n      <td>0.15200</td>\n      <td>0.2397</td>\n      <td>0.07016</td>\n      <td>...</td>\n      <td>39.42</td>\n      <td>184.60</td>\n      <td>1821.0</td>\n      <td>0.16500</td>\n      <td>0.86810</td>\n      <td>0.9387</td>\n      <td>0.2650</td>\n      <td>0.4087</td>\n      <td>0.12400</td>\n      <td>0</td>\n    </tr>\n    <tr>\n      <th>568</th>\n      <td>7.76</td>\n      <td>24.54</td>\n      <td>47.92</td>\n      <td>181.0</td>\n      <td>0.05263</td>\n      <td>0.04362</td>\n      <td>0.00000</td>\n      <td>0.00000</td>\n      <td>0.1587</td>\n      <td>0.05884</td>\n      <td>...</td>\n      <td>30.37</td>\n      <td>59.16</td>\n      <td>268.6</td>\n      <td>0.08996</td>\n      <td>0.06444</td>\n      <td>0.0000</td>\n      <td>0.0000</td>\n      <td>0.2871</td>\n      <td>0.07039</td>\n      <td>1</td>\n    </tr>\n  </tbody>\n</table>\n<p>569 rows × 31 columns</p>\n</div>"
     },
     "execution_count": 7,
     "metadata": {},
     "output_type": "execute_result"
    }
   ],
   "source": [
    "# 타겟 추가하기\n",
    "cancer_df['target'] = dataset.target\n",
    "cancer_df"
   ],
   "metadata": {
    "collapsed": false,
    "ExecuteTime": {
     "start_time": "2023-07-12T01:37:25.223889Z",
     "end_time": "2023-07-12T01:37:25.247929Z"
    }
   }
  },
  {
   "cell_type": "code",
   "execution_count": 8,
   "outputs": [
    {
     "data": {
      "text/plain": "['clear_data_home',\n 'dump_svmlight_file',\n 'fetch_20newsgroups',\n 'fetch_20newsgroups_vectorized',\n 'fetch_lfw_pairs',\n 'fetch_lfw_people',\n 'fetch_olivetti_faces',\n 'fetch_species_distributions',\n 'fetch_california_housing',\n 'fetch_covtype',\n 'fetch_rcv1',\n 'fetch_kddcup99',\n 'fetch_openml',\n 'get_data_home',\n 'load_diabetes',\n 'load_digits',\n 'load_files',\n 'load_iris',\n 'load_breast_cancer',\n 'load_linnerud',\n 'load_sample_image',\n 'load_sample_images',\n 'load_svmlight_file',\n 'load_svmlight_files',\n 'load_wine',\n 'make_biclusters',\n 'make_blobs',\n 'make_circles',\n 'make_classification',\n 'make_checkerboard',\n 'make_friedman1',\n 'make_friedman2',\n 'make_friedman3',\n 'make_gaussian_quantiles',\n 'make_hastie_10_2',\n 'make_low_rank_matrix',\n 'make_moons',\n 'make_multilabel_classification',\n 'make_regression',\n 'make_s_curve',\n 'make_sparse_coded_signal',\n 'make_sparse_spd_matrix',\n 'make_sparse_uncorrelated',\n 'make_spd_matrix',\n 'make_swiss_roll']"
     },
     "execution_count": 8,
     "metadata": {},
     "output_type": "execute_result"
    }
   ],
   "source": [
    "# 데이터셋 확인(load_*)\n",
    "import sklearn.datasets\n",
    "sklearn.datasets.__all__"
   ],
   "metadata": {
    "collapsed": false,
    "ExecuteTime": {
     "start_time": "2023-07-12T01:38:33.434708Z",
     "end_time": "2023-07-12T01:38:33.534082Z"
    }
   }
  },
  {
   "cell_type": "code",
   "execution_count": 9,
   "outputs": [
    {
     "data": {
      "text/plain": "{'data': array([[ 0.03807591,  0.05068012,  0.06169621, ..., -0.00259226,\n          0.01990749, -0.01764613],\n        [-0.00188202, -0.04464164, -0.05147406, ..., -0.03949338,\n         -0.06833155, -0.09220405],\n        [ 0.08529891,  0.05068012,  0.04445121, ..., -0.00259226,\n          0.00286131, -0.02593034],\n        ...,\n        [ 0.04170844,  0.05068012, -0.01590626, ..., -0.01107952,\n         -0.04688253,  0.01549073],\n        [-0.04547248, -0.04464164,  0.03906215, ...,  0.02655962,\n          0.04452873, -0.02593034],\n        [-0.04547248, -0.04464164, -0.0730303 , ..., -0.03949338,\n         -0.00422151,  0.00306441]]),\n 'target': array([151.,  75., 141., 206., 135.,  97., 138.,  63., 110., 310., 101.,\n         69., 179., 185., 118., 171., 166., 144.,  97., 168.,  68.,  49.,\n         68., 245., 184., 202., 137.,  85., 131., 283., 129.,  59., 341.,\n         87.,  65., 102., 265., 276., 252.,  90., 100.,  55.,  61.,  92.,\n        259.,  53., 190., 142.,  75., 142., 155., 225.,  59., 104., 182.,\n        128.,  52.,  37., 170., 170.,  61., 144.,  52., 128.,  71., 163.,\n        150.,  97., 160., 178.,  48., 270., 202., 111.,  85.,  42., 170.,\n        200., 252., 113., 143.,  51.,  52., 210.,  65., 141.,  55., 134.,\n         42., 111.,  98., 164.,  48.,  96.,  90., 162., 150., 279.,  92.,\n         83., 128., 102., 302., 198.,  95.,  53., 134., 144., 232.,  81.,\n        104.,  59., 246., 297., 258., 229., 275., 281., 179., 200., 200.,\n        173., 180.,  84., 121., 161.,  99., 109., 115., 268., 274., 158.,\n        107.,  83., 103., 272.,  85., 280., 336., 281., 118., 317., 235.,\n         60., 174., 259., 178., 128.,  96., 126., 288.,  88., 292.,  71.,\n        197., 186.,  25.,  84.,  96., 195.,  53., 217., 172., 131., 214.,\n         59.,  70., 220., 268., 152.,  47.,  74., 295., 101., 151., 127.,\n        237., 225.,  81., 151., 107.,  64., 138., 185., 265., 101., 137.,\n        143., 141.,  79., 292., 178.,  91., 116.,  86., 122.,  72., 129.,\n        142.,  90., 158.,  39., 196., 222., 277.,  99., 196., 202., 155.,\n         77., 191.,  70.,  73.,  49.,  65., 263., 248., 296., 214., 185.,\n         78.,  93., 252., 150.,  77., 208.,  77., 108., 160.,  53., 220.,\n        154., 259.,  90., 246., 124.,  67.,  72., 257., 262., 275., 177.,\n         71.,  47., 187., 125.,  78.,  51., 258., 215., 303., 243.,  91.,\n        150., 310., 153., 346.,  63.,  89.,  50.,  39., 103., 308., 116.,\n        145.,  74.,  45., 115., 264.,  87., 202., 127., 182., 241.,  66.,\n         94., 283.,  64., 102., 200., 265.,  94., 230., 181., 156., 233.,\n         60., 219.,  80.,  68., 332., 248.,  84., 200.,  55.,  85.,  89.,\n         31., 129.,  83., 275.,  65., 198., 236., 253., 124.,  44., 172.,\n        114., 142., 109., 180., 144., 163., 147.,  97., 220., 190., 109.,\n        191., 122., 230., 242., 248., 249., 192., 131., 237.,  78., 135.,\n        244., 199., 270., 164.,  72.,  96., 306.,  91., 214.,  95., 216.,\n        263., 178., 113., 200., 139., 139.,  88., 148.,  88., 243.,  71.,\n         77., 109., 272.,  60.,  54., 221.,  90., 311., 281., 182., 321.,\n         58., 262., 206., 233., 242., 123., 167.,  63., 197.,  71., 168.,\n        140., 217., 121., 235., 245.,  40.,  52., 104., 132.,  88.,  69.,\n        219.,  72., 201., 110.,  51., 277.,  63., 118.,  69., 273., 258.,\n         43., 198., 242., 232., 175.,  93., 168., 275., 293., 281.,  72.,\n        140., 189., 181., 209., 136., 261., 113., 131., 174., 257.,  55.,\n         84.,  42., 146., 212., 233.,  91., 111., 152., 120.,  67., 310.,\n         94., 183.,  66., 173.,  72.,  49.,  64.,  48., 178., 104., 132.,\n        220.,  57.]),\n 'frame': None,\n 'DESCR': '.. _diabetes_dataset:\\n\\nDiabetes dataset\\n----------------\\n\\nTen baseline variables, age, sex, body mass index, average blood\\npressure, and six blood serum measurements were obtained for each of n =\\n442 diabetes patients, as well as the response of interest, a\\nquantitative measure of disease progression one year after baseline.\\n\\n**Data Set Characteristics:**\\n\\n  :Number of Instances: 442\\n\\n  :Number of Attributes: First 10 columns are numeric predictive values\\n\\n  :Target: Column 11 is a quantitative measure of disease progression one year after baseline\\n\\n  :Attribute Information:\\n      - age     age in years\\n      - sex\\n      - bmi     body mass index\\n      - bp      average blood pressure\\n      - s1      tc, total serum cholesterol\\n      - s2      ldl, low-density lipoproteins\\n      - s3      hdl, high-density lipoproteins\\n      - s4      tch, total cholesterol / HDL\\n      - s5      ltg, possibly log of serum triglycerides level\\n      - s6      glu, blood sugar level\\n\\nNote: Each of these 10 feature variables have been mean centered and scaled by the standard deviation times the square root of `n_samples` (i.e. the sum of squares of each column totals 1).\\n\\nSource URL:\\nhttps://www4.stat.ncsu.edu/~boos/var.select/diabetes.html\\n\\nFor more information see:\\nBradley Efron, Trevor Hastie, Iain Johnstone and Robert Tibshirani (2004) \"Least Angle Regression,\" Annals of Statistics (with discussion), 407-499.\\n(https://web.stanford.edu/~hastie/Papers/LARS/LeastAngle_2002.pdf)\\n',\n 'feature_names': ['age',\n  'sex',\n  'bmi',\n  'bp',\n  's1',\n  's2',\n  's3',\n  's4',\n  's5',\n  's6'],\n 'data_filename': 'diabetes_data_raw.csv.gz',\n 'target_filename': 'diabetes_target.csv.gz',\n 'data_module': 'sklearn.datasets.data'}"
     },
     "execution_count": 9,
     "metadata": {},
     "output_type": "execute_result"
    }
   ],
   "source": [
    "# 당뇨병 데이터셋\n",
    "# 당뇨병 데이터셋 불러오기\n",
    "from sklearn.datasets import load_diabetes\n",
    "dataset = load_diabetes()\n",
    "dataset"
   ],
   "metadata": {
    "collapsed": false,
    "ExecuteTime": {
     "start_time": "2023-07-12T01:40:43.038994Z",
     "end_time": "2023-07-12T01:40:43.115901Z"
    }
   }
  },
  {
   "cell_type": "code",
   "execution_count": 11,
   "outputs": [
    {
     "data": {
      "text/plain": "['age', 'sex', 'bmi', 'bp', 's1', 's2', 's3', 's4', 's5', 's6']"
     },
     "execution_count": 11,
     "metadata": {},
     "output_type": "execute_result"
    }
   ],
   "source": [
    "# 피처 이름 확인\n",
    "dataset.feature_names"
   ],
   "metadata": {
    "collapsed": false,
    "ExecuteTime": {
     "start_time": "2023-07-12T01:41:12.258665Z",
     "end_time": "2023-07-12T01:41:12.264755Z"
    }
   }
  },
  {
   "cell_type": "code",
   "execution_count": 12,
   "outputs": [
    {
     "data": {
      "text/plain": "array([151.,  75., 141., 206., 135.,  97., 138.,  63., 110., 310., 101.,\n        69., 179., 185., 118., 171., 166., 144.,  97., 168.,  68.,  49.,\n        68., 245., 184., 202., 137.,  85., 131., 283., 129.,  59., 341.,\n        87.,  65., 102., 265., 276., 252.,  90., 100.,  55.,  61.,  92.,\n       259.,  53., 190., 142.,  75., 142., 155., 225.,  59., 104., 182.,\n       128.,  52.,  37., 170., 170.,  61., 144.,  52., 128.,  71., 163.,\n       150.,  97., 160., 178.,  48., 270., 202., 111.,  85.,  42., 170.,\n       200., 252., 113., 143.,  51.,  52., 210.,  65., 141.,  55., 134.,\n        42., 111.,  98., 164.,  48.,  96.,  90., 162., 150., 279.,  92.,\n        83., 128., 102., 302., 198.,  95.,  53., 134., 144., 232.,  81.,\n       104.,  59., 246., 297., 258., 229., 275., 281., 179., 200., 200.,\n       173., 180.,  84., 121., 161.,  99., 109., 115., 268., 274., 158.,\n       107.,  83., 103., 272.,  85., 280., 336., 281., 118., 317., 235.,\n        60., 174., 259., 178., 128.,  96., 126., 288.,  88., 292.,  71.,\n       197., 186.,  25.,  84.,  96., 195.,  53., 217., 172., 131., 214.,\n        59.,  70., 220., 268., 152.,  47.,  74., 295., 101., 151., 127.,\n       237., 225.,  81., 151., 107.,  64., 138., 185., 265., 101., 137.,\n       143., 141.,  79., 292., 178.,  91., 116.,  86., 122.,  72., 129.,\n       142.,  90., 158.,  39., 196., 222., 277.,  99., 196., 202., 155.,\n        77., 191.,  70.,  73.,  49.,  65., 263., 248., 296., 214., 185.,\n        78.,  93., 252., 150.,  77., 208.,  77., 108., 160.,  53., 220.,\n       154., 259.,  90., 246., 124.,  67.,  72., 257., 262., 275., 177.,\n        71.,  47., 187., 125.,  78.,  51., 258., 215., 303., 243.,  91.,\n       150., 310., 153., 346.,  63.,  89.,  50.,  39., 103., 308., 116.,\n       145.,  74.,  45., 115., 264.,  87., 202., 127., 182., 241.,  66.,\n        94., 283.,  64., 102., 200., 265.,  94., 230., 181., 156., 233.,\n        60., 219.,  80.,  68., 332., 248.,  84., 200.,  55.,  85.,  89.,\n        31., 129.,  83., 275.,  65., 198., 236., 253., 124.,  44., 172.,\n       114., 142., 109., 180., 144., 163., 147.,  97., 220., 190., 109.,\n       191., 122., 230., 242., 248., 249., 192., 131., 237.,  78., 135.,\n       244., 199., 270., 164.,  72.,  96., 306.,  91., 214.,  95., 216.,\n       263., 178., 113., 200., 139., 139.,  88., 148.,  88., 243.,  71.,\n        77., 109., 272.,  60.,  54., 221.,  90., 311., 281., 182., 321.,\n        58., 262., 206., 233., 242., 123., 167.,  63., 197.,  71., 168.,\n       140., 217., 121., 235., 245.,  40.,  52., 104., 132.,  88.,  69.,\n       219.,  72., 201., 110.,  51., 277.,  63., 118.,  69., 273., 258.,\n        43., 198., 242., 232., 175.,  93., 168., 275., 293., 281.,  72.,\n       140., 189., 181., 209., 136., 261., 113., 131., 174., 257.,  55.,\n        84.,  42., 146., 212., 233.,  91., 111., 152., 120.,  67., 310.,\n        94., 183.,  66., 173.,  72.,  49.,  64.,  48., 178., 104., 132.,\n       220.,  57.])"
     },
     "execution_count": 12,
     "metadata": {},
     "output_type": "execute_result"
    }
   ],
   "source": [
    "# 타겟 확인\n",
    "dataset.target"
   ],
   "metadata": {
    "collapsed": false,
    "ExecuteTime": {
     "start_time": "2023-07-12T01:41:27.707217Z",
     "end_time": "2023-07-12T01:41:27.736911Z"
    }
   }
  },
  {
   "cell_type": "code",
   "execution_count": 13,
   "outputs": [
    {
     "data": {
      "text/plain": "array([[ 0.03807591,  0.05068012,  0.06169621,  0.02187239, -0.0442235 ,\n        -0.03482076, -0.04340085, -0.00259226,  0.01990749, -0.01764613],\n       [-0.00188202, -0.04464164, -0.05147406, -0.02632753, -0.00844872,\n        -0.01916334,  0.07441156, -0.03949338, -0.06833155, -0.09220405],\n       [ 0.08529891,  0.05068012,  0.04445121, -0.00567042, -0.04559945,\n        -0.03419447, -0.03235593, -0.00259226,  0.00286131, -0.02593034]])"
     },
     "execution_count": 13,
     "metadata": {},
     "output_type": "execute_result"
    }
   ],
   "source": [
    "# 데이터 확인\n",
    "dataset.data[:3]"
   ],
   "metadata": {
    "collapsed": false,
    "ExecuteTime": {
     "start_time": "2023-07-12T01:41:37.288380Z",
     "end_time": "2023-07-12T01:41:37.325815Z"
    }
   }
  },
  {
   "cell_type": "code",
   "execution_count": 15,
   "outputs": [
    {
     "data": {
      "text/plain": "          age       sex       bmi        bp        s1        s2        s3  \\\n0    0.038076  0.050680  0.061696  0.021872 -0.044223 -0.034821 -0.043401   \n1   -0.001882 -0.044642 -0.051474 -0.026328 -0.008449 -0.019163  0.074412   \n2    0.085299  0.050680  0.044451 -0.005670 -0.045599 -0.034194 -0.032356   \n3   -0.089063 -0.044642 -0.011595 -0.036656  0.012191  0.024991 -0.036038   \n4    0.005383 -0.044642 -0.036385  0.021872  0.003935  0.015596  0.008142   \n..        ...       ...       ...       ...       ...       ...       ...   \n437  0.041708  0.050680  0.019662  0.059744 -0.005697 -0.002566 -0.028674   \n438 -0.005515  0.050680 -0.015906 -0.067642  0.049341  0.079165 -0.028674   \n439  0.041708  0.050680 -0.015906  0.017293 -0.037344 -0.013840 -0.024993   \n440 -0.045472 -0.044642  0.039062  0.001215  0.016318  0.015283 -0.028674   \n441 -0.045472 -0.044642 -0.073030 -0.081413  0.083740  0.027809  0.173816   \n\n           s4        s5        s6  \n0   -0.002592  0.019907 -0.017646  \n1   -0.039493 -0.068332 -0.092204  \n2   -0.002592  0.002861 -0.025930  \n3    0.034309  0.022688 -0.009362  \n4   -0.002592 -0.031988 -0.046641  \n..        ...       ...       ...  \n437 -0.002592  0.031193  0.007207  \n438  0.034309 -0.018114  0.044485  \n439 -0.011080 -0.046883  0.015491  \n440  0.026560  0.044529 -0.025930  \n441 -0.039493 -0.004222  0.003064  \n\n[442 rows x 10 columns]",
      "text/html": "<div>\n<style scoped>\n    .dataframe tbody tr th:only-of-type {\n        vertical-align: middle;\n    }\n\n    .dataframe tbody tr th {\n        vertical-align: top;\n    }\n\n    .dataframe thead th {\n        text-align: right;\n    }\n</style>\n<table border=\"1\" class=\"dataframe\">\n  <thead>\n    <tr style=\"text-align: right;\">\n      <th></th>\n      <th>age</th>\n      <th>sex</th>\n      <th>bmi</th>\n      <th>bp</th>\n      <th>s1</th>\n      <th>s2</th>\n      <th>s3</th>\n      <th>s4</th>\n      <th>s5</th>\n      <th>s6</th>\n    </tr>\n  </thead>\n  <tbody>\n    <tr>\n      <th>0</th>\n      <td>0.038076</td>\n      <td>0.050680</td>\n      <td>0.061696</td>\n      <td>0.021872</td>\n      <td>-0.044223</td>\n      <td>-0.034821</td>\n      <td>-0.043401</td>\n      <td>-0.002592</td>\n      <td>0.019907</td>\n      <td>-0.017646</td>\n    </tr>\n    <tr>\n      <th>1</th>\n      <td>-0.001882</td>\n      <td>-0.044642</td>\n      <td>-0.051474</td>\n      <td>-0.026328</td>\n      <td>-0.008449</td>\n      <td>-0.019163</td>\n      <td>0.074412</td>\n      <td>-0.039493</td>\n      <td>-0.068332</td>\n      <td>-0.092204</td>\n    </tr>\n    <tr>\n      <th>2</th>\n      <td>0.085299</td>\n      <td>0.050680</td>\n      <td>0.044451</td>\n      <td>-0.005670</td>\n      <td>-0.045599</td>\n      <td>-0.034194</td>\n      <td>-0.032356</td>\n      <td>-0.002592</td>\n      <td>0.002861</td>\n      <td>-0.025930</td>\n    </tr>\n    <tr>\n      <th>3</th>\n      <td>-0.089063</td>\n      <td>-0.044642</td>\n      <td>-0.011595</td>\n      <td>-0.036656</td>\n      <td>0.012191</td>\n      <td>0.024991</td>\n      <td>-0.036038</td>\n      <td>0.034309</td>\n      <td>0.022688</td>\n      <td>-0.009362</td>\n    </tr>\n    <tr>\n      <th>4</th>\n      <td>0.005383</td>\n      <td>-0.044642</td>\n      <td>-0.036385</td>\n      <td>0.021872</td>\n      <td>0.003935</td>\n      <td>0.015596</td>\n      <td>0.008142</td>\n      <td>-0.002592</td>\n      <td>-0.031988</td>\n      <td>-0.046641</td>\n    </tr>\n    <tr>\n      <th>...</th>\n      <td>...</td>\n      <td>...</td>\n      <td>...</td>\n      <td>...</td>\n      <td>...</td>\n      <td>...</td>\n      <td>...</td>\n      <td>...</td>\n      <td>...</td>\n      <td>...</td>\n    </tr>\n    <tr>\n      <th>437</th>\n      <td>0.041708</td>\n      <td>0.050680</td>\n      <td>0.019662</td>\n      <td>0.059744</td>\n      <td>-0.005697</td>\n      <td>-0.002566</td>\n      <td>-0.028674</td>\n      <td>-0.002592</td>\n      <td>0.031193</td>\n      <td>0.007207</td>\n    </tr>\n    <tr>\n      <th>438</th>\n      <td>-0.005515</td>\n      <td>0.050680</td>\n      <td>-0.015906</td>\n      <td>-0.067642</td>\n      <td>0.049341</td>\n      <td>0.079165</td>\n      <td>-0.028674</td>\n      <td>0.034309</td>\n      <td>-0.018114</td>\n      <td>0.044485</td>\n    </tr>\n    <tr>\n      <th>439</th>\n      <td>0.041708</td>\n      <td>0.050680</td>\n      <td>-0.015906</td>\n      <td>0.017293</td>\n      <td>-0.037344</td>\n      <td>-0.013840</td>\n      <td>-0.024993</td>\n      <td>-0.011080</td>\n      <td>-0.046883</td>\n      <td>0.015491</td>\n    </tr>\n    <tr>\n      <th>440</th>\n      <td>-0.045472</td>\n      <td>-0.044642</td>\n      <td>0.039062</td>\n      <td>0.001215</td>\n      <td>0.016318</td>\n      <td>0.015283</td>\n      <td>-0.028674</td>\n      <td>0.026560</td>\n      <td>0.044529</td>\n      <td>-0.025930</td>\n    </tr>\n    <tr>\n      <th>441</th>\n      <td>-0.045472</td>\n      <td>-0.044642</td>\n      <td>-0.073030</td>\n      <td>-0.081413</td>\n      <td>0.083740</td>\n      <td>0.027809</td>\n      <td>0.173816</td>\n      <td>-0.039493</td>\n      <td>-0.004222</td>\n      <td>0.003064</td>\n    </tr>\n  </tbody>\n</table>\n<p>442 rows × 10 columns</p>\n</div>"
     },
     "execution_count": 15,
     "metadata": {},
     "output_type": "execute_result"
    }
   ],
   "source": [
    "# 데이터 프레임으로 변환\n",
    "diabetes_df = pd.DataFrame(data = dataset.data, columns=dataset.feature_names)\n",
    "diabetes_df"
   ],
   "metadata": {
    "collapsed": false,
    "ExecuteTime": {
     "start_time": "2023-07-12T01:42:03.931026Z",
     "end_time": "2023-07-12T01:42:03.942975Z"
    }
   }
  },
  {
   "cell_type": "code",
   "execution_count": 16,
   "outputs": [
    {
     "data": {
      "text/plain": "          age       sex       bmi        bp        s1        s2        s3  \\\n0    0.038076  0.050680  0.061696  0.021872 -0.044223 -0.034821 -0.043401   \n1   -0.001882 -0.044642 -0.051474 -0.026328 -0.008449 -0.019163  0.074412   \n2    0.085299  0.050680  0.044451 -0.005670 -0.045599 -0.034194 -0.032356   \n3   -0.089063 -0.044642 -0.011595 -0.036656  0.012191  0.024991 -0.036038   \n4    0.005383 -0.044642 -0.036385  0.021872  0.003935  0.015596  0.008142   \n..        ...       ...       ...       ...       ...       ...       ...   \n437  0.041708  0.050680  0.019662  0.059744 -0.005697 -0.002566 -0.028674   \n438 -0.005515  0.050680 -0.015906 -0.067642  0.049341  0.079165 -0.028674   \n439  0.041708  0.050680 -0.015906  0.017293 -0.037344 -0.013840 -0.024993   \n440 -0.045472 -0.044642  0.039062  0.001215  0.016318  0.015283 -0.028674   \n441 -0.045472 -0.044642 -0.073030 -0.081413  0.083740  0.027809  0.173816   \n\n           s4        s5        s6  target  \n0   -0.002592  0.019907 -0.017646   151.0  \n1   -0.039493 -0.068332 -0.092204    75.0  \n2   -0.002592  0.002861 -0.025930   141.0  \n3    0.034309  0.022688 -0.009362   206.0  \n4   -0.002592 -0.031988 -0.046641   135.0  \n..        ...       ...       ...     ...  \n437 -0.002592  0.031193  0.007207   178.0  \n438  0.034309 -0.018114  0.044485   104.0  \n439 -0.011080 -0.046883  0.015491   132.0  \n440  0.026560  0.044529 -0.025930   220.0  \n441 -0.039493 -0.004222  0.003064    57.0  \n\n[442 rows x 11 columns]",
      "text/html": "<div>\n<style scoped>\n    .dataframe tbody tr th:only-of-type {\n        vertical-align: middle;\n    }\n\n    .dataframe tbody tr th {\n        vertical-align: top;\n    }\n\n    .dataframe thead th {\n        text-align: right;\n    }\n</style>\n<table border=\"1\" class=\"dataframe\">\n  <thead>\n    <tr style=\"text-align: right;\">\n      <th></th>\n      <th>age</th>\n      <th>sex</th>\n      <th>bmi</th>\n      <th>bp</th>\n      <th>s1</th>\n      <th>s2</th>\n      <th>s3</th>\n      <th>s4</th>\n      <th>s5</th>\n      <th>s6</th>\n      <th>target</th>\n    </tr>\n  </thead>\n  <tbody>\n    <tr>\n      <th>0</th>\n      <td>0.038076</td>\n      <td>0.050680</td>\n      <td>0.061696</td>\n      <td>0.021872</td>\n      <td>-0.044223</td>\n      <td>-0.034821</td>\n      <td>-0.043401</td>\n      <td>-0.002592</td>\n      <td>0.019907</td>\n      <td>-0.017646</td>\n      <td>151.0</td>\n    </tr>\n    <tr>\n      <th>1</th>\n      <td>-0.001882</td>\n      <td>-0.044642</td>\n      <td>-0.051474</td>\n      <td>-0.026328</td>\n      <td>-0.008449</td>\n      <td>-0.019163</td>\n      <td>0.074412</td>\n      <td>-0.039493</td>\n      <td>-0.068332</td>\n      <td>-0.092204</td>\n      <td>75.0</td>\n    </tr>\n    <tr>\n      <th>2</th>\n      <td>0.085299</td>\n      <td>0.050680</td>\n      <td>0.044451</td>\n      <td>-0.005670</td>\n      <td>-0.045599</td>\n      <td>-0.034194</td>\n      <td>-0.032356</td>\n      <td>-0.002592</td>\n      <td>0.002861</td>\n      <td>-0.025930</td>\n      <td>141.0</td>\n    </tr>\n    <tr>\n      <th>3</th>\n      <td>-0.089063</td>\n      <td>-0.044642</td>\n      <td>-0.011595</td>\n      <td>-0.036656</td>\n      <td>0.012191</td>\n      <td>0.024991</td>\n      <td>-0.036038</td>\n      <td>0.034309</td>\n      <td>0.022688</td>\n      <td>-0.009362</td>\n      <td>206.0</td>\n    </tr>\n    <tr>\n      <th>4</th>\n      <td>0.005383</td>\n      <td>-0.044642</td>\n      <td>-0.036385</td>\n      <td>0.021872</td>\n      <td>0.003935</td>\n      <td>0.015596</td>\n      <td>0.008142</td>\n      <td>-0.002592</td>\n      <td>-0.031988</td>\n      <td>-0.046641</td>\n      <td>135.0</td>\n    </tr>\n    <tr>\n      <th>...</th>\n      <td>...</td>\n      <td>...</td>\n      <td>...</td>\n      <td>...</td>\n      <td>...</td>\n      <td>...</td>\n      <td>...</td>\n      <td>...</td>\n      <td>...</td>\n      <td>...</td>\n      <td>...</td>\n    </tr>\n    <tr>\n      <th>437</th>\n      <td>0.041708</td>\n      <td>0.050680</td>\n      <td>0.019662</td>\n      <td>0.059744</td>\n      <td>-0.005697</td>\n      <td>-0.002566</td>\n      <td>-0.028674</td>\n      <td>-0.002592</td>\n      <td>0.031193</td>\n      <td>0.007207</td>\n      <td>178.0</td>\n    </tr>\n    <tr>\n      <th>438</th>\n      <td>-0.005515</td>\n      <td>0.050680</td>\n      <td>-0.015906</td>\n      <td>-0.067642</td>\n      <td>0.049341</td>\n      <td>0.079165</td>\n      <td>-0.028674</td>\n      <td>0.034309</td>\n      <td>-0.018114</td>\n      <td>0.044485</td>\n      <td>104.0</td>\n    </tr>\n    <tr>\n      <th>439</th>\n      <td>0.041708</td>\n      <td>0.050680</td>\n      <td>-0.015906</td>\n      <td>0.017293</td>\n      <td>-0.037344</td>\n      <td>-0.013840</td>\n      <td>-0.024993</td>\n      <td>-0.011080</td>\n      <td>-0.046883</td>\n      <td>0.015491</td>\n      <td>132.0</td>\n    </tr>\n    <tr>\n      <th>440</th>\n      <td>-0.045472</td>\n      <td>-0.044642</td>\n      <td>0.039062</td>\n      <td>0.001215</td>\n      <td>0.016318</td>\n      <td>0.015283</td>\n      <td>-0.028674</td>\n      <td>0.026560</td>\n      <td>0.044529</td>\n      <td>-0.025930</td>\n      <td>220.0</td>\n    </tr>\n    <tr>\n      <th>441</th>\n      <td>-0.045472</td>\n      <td>-0.044642</td>\n      <td>-0.073030</td>\n      <td>-0.081413</td>\n      <td>0.083740</td>\n      <td>0.027809</td>\n      <td>0.173816</td>\n      <td>-0.039493</td>\n      <td>-0.004222</td>\n      <td>0.003064</td>\n      <td>57.0</td>\n    </tr>\n  </tbody>\n</table>\n<p>442 rows × 11 columns</p>\n</div>"
     },
     "execution_count": 16,
     "metadata": {},
     "output_type": "execute_result"
    }
   ],
   "source": [
    "# 타겟 추가하기\n",
    "diabetes_df['target'] = dataset.target\n",
    "diabetes_df"
   ],
   "metadata": {
    "collapsed": false,
    "ExecuteTime": {
     "start_time": "2023-07-12T01:44:06.098555Z",
     "end_time": "2023-07-12T01:44:06.152881Z"
    }
   }
  },
  {
   "cell_type": "markdown",
   "source": [
    "머신러닝 : 분류\n",
    "\n",
    "검증데이터 분리"
   ],
   "metadata": {
    "collapsed": false
   }
  },
  {
   "cell_type": "code",
   "execution_count": 29,
   "outputs": [],
   "source": [
    "# 검증데이터 분리\n",
    "from sklearn.model_selection import train_test_split\n",
    "X_train, X_test, y_train, y_test = train_test_split(cancer_df.drop('target', axis=1),cancer_df['target'], test_size=0.3, random_state=1004) # random_state는 매번 같은 곳에서 분리하는 역할.그래야 모델도 평가가 가능함"
   ],
   "metadata": {
    "collapsed": false,
    "ExecuteTime": {
     "start_time": "2023-07-12T02:12:40.434076Z",
     "end_time": "2023-07-12T02:12:40.439194Z"
    }
   }
  },
  {
   "cell_type": "markdown",
   "source": [
    "수업에서 설명한 데이터 분리 예시\n",
    "\n",
    "총 4개의 데이터가 나온다\n",
    "\n",
    "\n",
    "        학습_비율(7)    테스트_비율(3)\n",
    "\n",
    "데이터(X)  x_train()    x_test()\n",
    "\n",
    "타겟(y)   y_train()    y_test()\n"
   ],
   "metadata": {
    "collapsed": false
   }
  },
  {
   "cell_type": "code",
   "execution_count": 30,
   "outputs": [
    {
     "data": {
      "text/plain": "     mean radius  mean texture  mean perimeter  mean area  mean smoothness  \\\n350       11.660         17.07           73.70      421.0          0.07561   \n384       13.280         13.72           85.79      541.8          0.08363   \n7         13.710         20.83           90.20      577.9          0.11890   \n557        9.423         27.88           59.26      271.3          0.08123   \n49        13.490         22.30           86.91      561.0          0.08752   \n\n     mean compactness  mean concavity  mean concave points  mean symmetry  \\\n350           0.03630        0.008306              0.01162         0.1671   \n384           0.08575        0.050770              0.02864         0.1617   \n7             0.16450        0.093660              0.05985         0.2196   \n557           0.04971        0.000000              0.00000         0.1742   \n49            0.07698        0.047510              0.03384         0.1809   \n\n     mean fractal dimension  ...  worst radius  worst texture  \\\n350                 0.05731  ...         13.28          19.74   \n384                 0.05594  ...         14.24          17.37   \n7                   0.07451  ...         17.06          28.14   \n557                 0.06059  ...         10.49          34.24   \n49                  0.05718  ...         15.15          31.82   \n\n     worst perimeter  worst area  worst smoothness  worst compactness  \\\n350            83.61       542.5           0.09958            0.06476   \n384            96.59       623.7           0.11660            0.26850   \n7             110.60       897.0           0.16540            0.36820   \n557            66.50       330.6           0.10730            0.07158   \n49             99.00       698.8           0.11620            0.17110   \n\n     worst concavity  worst concave points  worst symmetry  \\\n350          0.03046               0.04262          0.2731   \n384          0.28660               0.09173          0.2736   \n7            0.26780               0.15560          0.3196   \n557          0.00000               0.00000          0.2475   \n49           0.22820               0.12820          0.2871   \n\n     worst fractal dimension  \n350                  0.06825  \n384                  0.07320  \n7                    0.11510  \n557                  0.06969  \n49                   0.06917  \n\n[5 rows x 30 columns]",
      "text/html": "<div>\n<style scoped>\n    .dataframe tbody tr th:only-of-type {\n        vertical-align: middle;\n    }\n\n    .dataframe tbody tr th {\n        vertical-align: top;\n    }\n\n    .dataframe thead th {\n        text-align: right;\n    }\n</style>\n<table border=\"1\" class=\"dataframe\">\n  <thead>\n    <tr style=\"text-align: right;\">\n      <th></th>\n      <th>mean radius</th>\n      <th>mean texture</th>\n      <th>mean perimeter</th>\n      <th>mean area</th>\n      <th>mean smoothness</th>\n      <th>mean compactness</th>\n      <th>mean concavity</th>\n      <th>mean concave points</th>\n      <th>mean symmetry</th>\n      <th>mean fractal dimension</th>\n      <th>...</th>\n      <th>worst radius</th>\n      <th>worst texture</th>\n      <th>worst perimeter</th>\n      <th>worst area</th>\n      <th>worst smoothness</th>\n      <th>worst compactness</th>\n      <th>worst concavity</th>\n      <th>worst concave points</th>\n      <th>worst symmetry</th>\n      <th>worst fractal dimension</th>\n    </tr>\n  </thead>\n  <tbody>\n    <tr>\n      <th>350</th>\n      <td>11.660</td>\n      <td>17.07</td>\n      <td>73.70</td>\n      <td>421.0</td>\n      <td>0.07561</td>\n      <td>0.03630</td>\n      <td>0.008306</td>\n      <td>0.01162</td>\n      <td>0.1671</td>\n      <td>0.05731</td>\n      <td>...</td>\n      <td>13.28</td>\n      <td>19.74</td>\n      <td>83.61</td>\n      <td>542.5</td>\n      <td>0.09958</td>\n      <td>0.06476</td>\n      <td>0.03046</td>\n      <td>0.04262</td>\n      <td>0.2731</td>\n      <td>0.06825</td>\n    </tr>\n    <tr>\n      <th>384</th>\n      <td>13.280</td>\n      <td>13.72</td>\n      <td>85.79</td>\n      <td>541.8</td>\n      <td>0.08363</td>\n      <td>0.08575</td>\n      <td>0.050770</td>\n      <td>0.02864</td>\n      <td>0.1617</td>\n      <td>0.05594</td>\n      <td>...</td>\n      <td>14.24</td>\n      <td>17.37</td>\n      <td>96.59</td>\n      <td>623.7</td>\n      <td>0.11660</td>\n      <td>0.26850</td>\n      <td>0.28660</td>\n      <td>0.09173</td>\n      <td>0.2736</td>\n      <td>0.07320</td>\n    </tr>\n    <tr>\n      <th>7</th>\n      <td>13.710</td>\n      <td>20.83</td>\n      <td>90.20</td>\n      <td>577.9</td>\n      <td>0.11890</td>\n      <td>0.16450</td>\n      <td>0.093660</td>\n      <td>0.05985</td>\n      <td>0.2196</td>\n      <td>0.07451</td>\n      <td>...</td>\n      <td>17.06</td>\n      <td>28.14</td>\n      <td>110.60</td>\n      <td>897.0</td>\n      <td>0.16540</td>\n      <td>0.36820</td>\n      <td>0.26780</td>\n      <td>0.15560</td>\n      <td>0.3196</td>\n      <td>0.11510</td>\n    </tr>\n    <tr>\n      <th>557</th>\n      <td>9.423</td>\n      <td>27.88</td>\n      <td>59.26</td>\n      <td>271.3</td>\n      <td>0.08123</td>\n      <td>0.04971</td>\n      <td>0.000000</td>\n      <td>0.00000</td>\n      <td>0.1742</td>\n      <td>0.06059</td>\n      <td>...</td>\n      <td>10.49</td>\n      <td>34.24</td>\n      <td>66.50</td>\n      <td>330.6</td>\n      <td>0.10730</td>\n      <td>0.07158</td>\n      <td>0.00000</td>\n      <td>0.00000</td>\n      <td>0.2475</td>\n      <td>0.06969</td>\n    </tr>\n    <tr>\n      <th>49</th>\n      <td>13.490</td>\n      <td>22.30</td>\n      <td>86.91</td>\n      <td>561.0</td>\n      <td>0.08752</td>\n      <td>0.07698</td>\n      <td>0.047510</td>\n      <td>0.03384</td>\n      <td>0.1809</td>\n      <td>0.05718</td>\n      <td>...</td>\n      <td>15.15</td>\n      <td>31.82</td>\n      <td>99.00</td>\n      <td>698.8</td>\n      <td>0.11620</td>\n      <td>0.17110</td>\n      <td>0.22820</td>\n      <td>0.12820</td>\n      <td>0.2871</td>\n      <td>0.06917</td>\n    </tr>\n  </tbody>\n</table>\n<p>5 rows × 30 columns</p>\n</div>"
     },
     "execution_count": 30,
     "metadata": {},
     "output_type": "execute_result"
    }
   ],
   "source": [
    "# train 데이터 확인(X)\n",
    "X_train.head()"
   ],
   "metadata": {
    "collapsed": false,
    "ExecuteTime": {
     "start_time": "2023-07-12T02:12:43.072379Z",
     "end_time": "2023-07-12T02:12:43.089895Z"
    }
   }
  },
  {
   "cell_type": "code",
   "execution_count": 31,
   "outputs": [
    {
     "data": {
      "text/plain": "350    1\n384    1\n7      0\n557    1\n49     1\nName: target, dtype: int64"
     },
     "execution_count": 31,
     "metadata": {},
     "output_type": "execute_result"
    }
   ],
   "source": [
    "# 학습 데이터 확인(y)\n",
    "y_train.head()"
   ],
   "metadata": {
    "collapsed": false,
    "ExecuteTime": {
     "start_time": "2023-07-12T02:13:13.029645Z",
     "end_time": "2023-07-12T02:13:13.039439Z"
    }
   }
  },
  {
   "cell_type": "code",
   "execution_count": 32,
   "outputs": [
    {
     "data": {
      "text/plain": "((398, 30), (171, 30), (398,), (171,))"
     },
     "execution_count": 32,
     "metadata": {},
     "output_type": "execute_result"
    }
   ],
   "source": [
    "# 데이터 크기\n",
    "X_train.shape, X_test.shape, y_train.shape, y_test.shape"
   ],
   "metadata": {
    "collapsed": false,
    "ExecuteTime": {
     "start_time": "2023-07-12T02:13:31.388331Z",
     "end_time": "2023-07-12T02:13:31.406346Z"
    }
   }
  },
  {
   "cell_type": "markdown",
   "source": [
    "의사결정 나무(Descision Tree)"
   ],
   "metadata": {
    "collapsed": false
   }
  },
  {
   "cell_type": "code",
   "execution_count": 38,
   "outputs": [
    {
     "data": {
      "text/plain": "array([1, 0, 1, 1, 0, 0, 0, 1, 0, 1, 1, 1, 0, 1, 1, 1, 1, 1, 0, 1, 1, 0,\n       1, 0, 1, 0, 1, 1, 0, 1, 1, 1, 0, 0, 1, 0, 1, 0, 0, 0, 1, 0, 1, 0,\n       1, 1, 0, 0, 0, 0, 1, 1, 1, 0, 0, 0, 1, 1, 1, 0, 1, 0, 1, 0, 1, 0,\n       1, 1, 1, 0, 1, 1, 1, 0, 1, 1, 0, 1, 0, 0, 0, 1, 1, 0, 1, 0, 0, 1,\n       1, 0, 1, 0, 1, 0, 0, 0, 1, 1, 1, 1, 0, 1, 1, 0, 0, 1, 1, 1, 1, 1,\n       1, 0, 0, 1, 0, 0, 1, 1, 0, 1, 0, 1, 1, 0, 0, 0, 0, 1, 0, 1, 1, 1,\n       1, 0, 1, 1, 1, 1, 0, 1, 0, 1, 0, 0, 0, 0, 1, 1, 0, 0, 0, 0, 0, 1,\n       1, 1, 0, 1, 1, 1, 0, 1, 1, 1, 1, 1, 1, 1, 1, 1, 0])"
     },
     "execution_count": 38,
     "metadata": {},
     "output_type": "execute_result"
    }
   ],
   "source": [
    "# 머신러닝(분류)\n",
    "from sklearn.tree import DecisionTreeClassifier\n",
    "# 모델선택\n",
    "model = DecisionTreeClassifier()\n",
    "# 학습\n",
    "model.fit(X_train,y_train)\n",
    "# 예측\n",
    "pred = model.predict(X_test)\n",
    "pred"
   ],
   "metadata": {
    "collapsed": false,
    "ExecuteTime": {
     "start_time": "2023-07-12T02:18:12.377971Z",
     "end_time": "2023-07-12T02:18:12.406685Z"
    }
   }
  },
  {
   "cell_type": "markdown",
   "source": [
    "평가(accuarcy)"
   ],
   "metadata": {
    "collapsed": false
   }
  },
  {
   "cell_type": "code",
   "execution_count": 37,
   "outputs": [
    {
     "data": {
      "text/plain": "0.8947368421052632"
     },
     "execution_count": 37,
     "metadata": {},
     "output_type": "execute_result"
    }
   ],
   "source": [
    "# 정확도 accuarcy_score(실제값, 예측값)\n",
    "from sklearn.metrics import accuracy_score\n",
    "accuracy_score(y_test, pred)"
   ],
   "metadata": {
    "collapsed": false,
    "ExecuteTime": {
     "start_time": "2023-07-12T02:17:48.704924Z",
     "end_time": "2023-07-12T02:17:48.711868Z"
    }
   }
  },
  {
   "cell_type": "markdown",
   "source": [
    "머신러닝: 회귀"
   ],
   "metadata": {
    "collapsed": false
   }
  },
  {
   "cell_type": "code",
   "execution_count": 39,
   "outputs": [],
   "source": [
    "# 검증데이터 분리\n",
    "from sklearn.model_selection import train_test_split\n",
    "X_train, X_test, y_train, y_test = train_test_split(diabetes_df.drop('target', axis=1),diabetes_df['target'], test_size=0.3, random_state=1004)"
   ],
   "metadata": {
    "collapsed": false,
    "ExecuteTime": {
     "start_time": "2023-07-12T02:19:51.864921Z",
     "end_time": "2023-07-12T02:19:51.872523Z"
    }
   }
  },
  {
   "cell_type": "code",
   "execution_count": 40,
   "outputs": [
    {
     "data": {
      "text/plain": "          age       sex       bmi        bp        s1        s2        s3  \\\n232  0.012648  0.050680  0.000261 -0.011420  0.039710  0.057245 -0.039719   \n81   0.012648  0.050680 -0.022373 -0.029770  0.010815  0.028435 -0.021311   \n227  0.067136  0.050680 -0.029918  0.057437 -0.000193 -0.015719  0.074412   \n334 -0.060003  0.050680 -0.047163 -0.022885 -0.071743 -0.057681 -0.006584   \n83  -0.038207 -0.044642  0.009961 -0.046985 -0.059359 -0.052983 -0.010266   \n\n           s4        s5        s6  \n232  0.056081  0.024055  0.032059  \n81   0.034309 -0.006081 -0.001078  \n227 -0.050564 -0.038460  0.007207  \n334 -0.039493 -0.062917 -0.054925  \n83  -0.039493 -0.015999 -0.042499  ",
      "text/html": "<div>\n<style scoped>\n    .dataframe tbody tr th:only-of-type {\n        vertical-align: middle;\n    }\n\n    .dataframe tbody tr th {\n        vertical-align: top;\n    }\n\n    .dataframe thead th {\n        text-align: right;\n    }\n</style>\n<table border=\"1\" class=\"dataframe\">\n  <thead>\n    <tr style=\"text-align: right;\">\n      <th></th>\n      <th>age</th>\n      <th>sex</th>\n      <th>bmi</th>\n      <th>bp</th>\n      <th>s1</th>\n      <th>s2</th>\n      <th>s3</th>\n      <th>s4</th>\n      <th>s5</th>\n      <th>s6</th>\n    </tr>\n  </thead>\n  <tbody>\n    <tr>\n      <th>232</th>\n      <td>0.012648</td>\n      <td>0.050680</td>\n      <td>0.000261</td>\n      <td>-0.011420</td>\n      <td>0.039710</td>\n      <td>0.057245</td>\n      <td>-0.039719</td>\n      <td>0.056081</td>\n      <td>0.024055</td>\n      <td>0.032059</td>\n    </tr>\n    <tr>\n      <th>81</th>\n      <td>0.012648</td>\n      <td>0.050680</td>\n      <td>-0.022373</td>\n      <td>-0.029770</td>\n      <td>0.010815</td>\n      <td>0.028435</td>\n      <td>-0.021311</td>\n      <td>0.034309</td>\n      <td>-0.006081</td>\n      <td>-0.001078</td>\n    </tr>\n    <tr>\n      <th>227</th>\n      <td>0.067136</td>\n      <td>0.050680</td>\n      <td>-0.029918</td>\n      <td>0.057437</td>\n      <td>-0.000193</td>\n      <td>-0.015719</td>\n      <td>0.074412</td>\n      <td>-0.050564</td>\n      <td>-0.038460</td>\n      <td>0.007207</td>\n    </tr>\n    <tr>\n      <th>334</th>\n      <td>-0.060003</td>\n      <td>0.050680</td>\n      <td>-0.047163</td>\n      <td>-0.022885</td>\n      <td>-0.071743</td>\n      <td>-0.057681</td>\n      <td>-0.006584</td>\n      <td>-0.039493</td>\n      <td>-0.062917</td>\n      <td>-0.054925</td>\n    </tr>\n    <tr>\n      <th>83</th>\n      <td>-0.038207</td>\n      <td>-0.044642</td>\n      <td>0.009961</td>\n      <td>-0.046985</td>\n      <td>-0.059359</td>\n      <td>-0.052983</td>\n      <td>-0.010266</td>\n      <td>-0.039493</td>\n      <td>-0.015999</td>\n      <td>-0.042499</td>\n    </tr>\n  </tbody>\n</table>\n</div>"
     },
     "execution_count": 40,
     "metadata": {},
     "output_type": "execute_result"
    }
   ],
   "source": [
    "# train 데이터 확인(X)\n",
    "X_train.head()"
   ],
   "metadata": {
    "collapsed": false,
    "ExecuteTime": {
     "start_time": "2023-07-12T02:19:59.409368Z",
     "end_time": "2023-07-12T02:19:59.418945Z"
    }
   }
  },
  {
   "cell_type": "code",
   "execution_count": 42,
   "outputs": [
    {
     "data": {
      "text/plain": "232    259.0\n81      51.0\n227    108.0\n334     72.0\n83     210.0\nName: target, dtype: float64"
     },
     "execution_count": 42,
     "metadata": {},
     "output_type": "execute_result"
    }
   ],
   "source": [
    "# 학습 데이터 확인(y)\n",
    "y_train.head()"
   ],
   "metadata": {
    "collapsed": false,
    "ExecuteTime": {
     "start_time": "2023-07-12T02:20:16.441637Z",
     "end_time": "2023-07-12T02:20:16.466749Z"
    }
   }
  },
  {
   "cell_type": "code",
   "execution_count": 43,
   "outputs": [
    {
     "data": {
      "text/plain": "((309, 10), (133, 10), (309,), (133,))"
     },
     "execution_count": 43,
     "metadata": {},
     "output_type": "execute_result"
    }
   ],
   "source": [
    "# 데이터 크기\n",
    "X_train.shape, X_test.shape, y_train.shape, y_test.shape"
   ],
   "metadata": {
    "collapsed": false,
    "ExecuteTime": {
     "start_time": "2023-07-12T02:20:33.691712Z",
     "end_time": "2023-07-12T02:20:33.700709Z"
    }
   }
  },
  {
   "cell_type": "markdown",
   "source": [
    "선형회귀(Linear Regression)"
   ],
   "metadata": {
    "collapsed": false
   }
  },
  {
   "cell_type": "code",
   "execution_count": 44,
   "outputs": [
    {
     "data": {
      "text/plain": "array([128.42468606, 135.08774266, 154.78504343, 106.09306564,\n       149.54478558, 165.32708009, 140.29166154, 167.9600165 ,\n        69.44851384, 189.42811434, 144.98692247, 150.10700196,\n       211.15983244, 108.59257071, 160.3856331 , 154.09855476,\n       198.78116874, 101.16062264, 165.82852734, 196.03659567,\n       147.16472505, 108.25668788, 207.27889551, 127.53191954,\n       181.85997027, 228.49975565,  86.59589481, 155.35081963,\n       182.49593133, 182.96390209, 207.63119699, 199.81134435,\n       157.35809543,  61.82465786,  88.11634158,  95.75033061,\n       134.03120864,  85.95903914, 177.69650387, 249.40014721,\n       171.77206628, 204.71572412, 239.12149428,  89.24927278,\n       244.20385113, 180.36498587, 161.10608699, 119.14846149,\n       102.81815844, 153.35400825, 129.06743815, 208.80206598,\n       107.93927973, 138.81355171, 166.04217088,  86.04455248,\n       181.03094575, 117.97907348,  79.04947426, 127.20387612,\n       194.05986421, 205.13463546, 233.84790901,  48.53871542,\n       191.91330758, 126.17301722, 177.02687066, 145.4773665 ,\n       142.43917722, 194.62775034, 121.36891561, 225.55242146,\n       168.48807064,  88.14214752,  98.85877558,  75.1711283 ,\n       244.27688759, 208.59789713, 163.92910281,  80.9058474 ,\n       139.22234542, 183.73654227, 137.95481081, 119.40546543,\n        87.86450559, 250.18732129, 133.89367128, 212.50828106,\n       120.29112558, 188.09109508, 152.86043121, 208.53459919,\n        93.50827475,  85.73981048, 112.98211117,  94.02452059,\n       223.20824961, 124.37667641, 174.15276515, 206.9341477 ,\n       109.03619979, 144.70485557,  83.62517483, 238.13216429,\n       286.53698954, 135.49245966, 276.01107655, 117.56301055,\n        85.55750781, 129.58770331, 106.44179834, 227.45717974,\n       168.73559373, 104.04570771, 217.34657102, 161.55027088,\n       226.95727237, 175.34674548, 145.94192866, 219.72261067,\n        77.58172232, 126.38894167, 101.14367744, 173.50631434,\n       137.35842139, 154.04979133, 146.58531953,  95.31923676,\n       129.15889947, 117.11424948, 181.74918487,  68.73089256,\n       175.84653715])"
     },
     "execution_count": 44,
     "metadata": {},
     "output_type": "execute_result"
    }
   ],
   "source": [
    "# 머신러닝(회귀)\n",
    "from sklearn.linear_model import LinearRegression\n",
    "# 모델선택\n",
    "model = LinearRegression()\n",
    "# 학습\n",
    "model.fit(X_train,y_train)\n",
    "# 예측\n",
    "pred = model.predict(X_test)\n",
    "pred"
   ],
   "metadata": {
    "collapsed": false,
    "ExecuteTime": {
     "start_time": "2023-07-12T02:21:21.184099Z",
     "end_time": "2023-07-12T02:21:21.202983Z"
    }
   }
  },
  {
   "cell_type": "markdown",
   "source": [
    "평가(mean_squared_error)"
   ],
   "metadata": {
    "collapsed": false
   }
  },
  {
   "cell_type": "code",
   "execution_count": 46,
   "outputs": [
    {
     "data": {
      "text/plain": "3229.454787929743"
     },
     "execution_count": 46,
     "metadata": {},
     "output_type": "execute_result"
    }
   ],
   "source": [
    "# 정확도 mean_squared_error(실제값, 예측값)\n",
    "from sklearn.metrics import mean_squared_error\n",
    "mean_squared_error(y_test, pred)\n",
    "# 결과값이 낮으면 낮을수록 좋다"
   ],
   "metadata": {
    "collapsed": false,
    "ExecuteTime": {
     "start_time": "2023-07-12T02:23:57.015893Z",
     "end_time": "2023-07-12T02:23:57.040676Z"
    }
   }
  },
  {
   "cell_type": "markdown",
   "source": [
    "공식문서 소개\n",
    "\n",
    "바로가기 : https://scikit-learn.org/stable/\n",
    "\n",
    "튜토리얼을 통해 어떻게 확인하는지 알수 있다."
   ],
   "metadata": {
    "collapsed": false
   }
  },
  {
   "cell_type": "code",
   "execution_count": 47,
   "outputs": [
    {
     "data": {
      "text/plain": "     실제값      예측값\n0  16000  12750.0\n6  13000  12812.5\n8   9900  12000.0",
      "text/html": "<div>\n<style scoped>\n    .dataframe tbody tr th:only-of-type {\n        vertical-align: middle;\n    }\n\n    .dataframe tbody tr th {\n        vertical-align: top;\n    }\n\n    .dataframe thead th {\n        text-align: right;\n    }\n</style>\n<table border=\"1\" class=\"dataframe\">\n  <thead>\n    <tr style=\"text-align: right;\">\n      <th></th>\n      <th>실제값</th>\n      <th>예측값</th>\n    </tr>\n  </thead>\n  <tbody>\n    <tr>\n      <th>0</th>\n      <td>16000</td>\n      <td>12750.0</td>\n    </tr>\n    <tr>\n      <th>6</th>\n      <td>13000</td>\n      <td>12812.5</td>\n    </tr>\n    <tr>\n      <th>8</th>\n      <td>9900</td>\n      <td>12000.0</td>\n    </tr>\n  </tbody>\n</table>\n</div>"
     },
     "execution_count": 47,
     "metadata": {},
     "output_type": "execute_result"
    }
   ],
   "source": [
    "# 종합퀴즈\n",
    "# Q. 처음 만들었던 'final_modudak.csv' 데이터로 치킨 가격 예측을 하는 회귀 모델을 만들어보겠습니다.\n",
    "# 빈칸을 채워주세요.\n",
    "\n",
    "# 데이터 로드\n",
    "data = pd.read_csv('final_modudak.csv')\n",
    "\n",
    "# 모델에 사용할 칼럼 지정\n",
    "df = data[['가격', '호수', '칼로리', '원산지', '살찔까요']].copy()\n",
    "\n",
    "# 원핫인코딩\n",
    "df = pd.get_dummies(df)\n",
    "\n",
    "# test데이터 분리\n",
    "from sklearn.model_selection import train_test_split\n",
    "X_train, X_test, y_train, y_test = train_test_split(\n",
    "    df.drop('가격', axis=1), df['가격'], test_size=0.3, random_state=1004)\n",
    "\n",
    "# 머신러닝(회귀)\n",
    "# 원하는 모델 라이브러리를 불러오세요.\n",
    "from sklearn.linear_model import LinearRegression\n",
    "\n",
    "# 원하는 모델을 선택해 보세요.\n",
    "model = LinearRegression()\n",
    "\n",
    "# 학습\n",
    "model.fit(X_train,y_train)\n",
    "\n",
    "# 예측\n",
    "pred = model.predict(X_test)\n",
    "\n",
    "# test데이터의 실제값과 예측값 비교\n",
    "pd.DataFrame({'실제값' : y_test, '예측값' : pred})"
   ],
   "metadata": {
    "collapsed": false,
    "ExecuteTime": {
     "start_time": "2023-07-12T02:30:33.986217Z",
     "end_time": "2023-07-12T02:30:34.056896Z"
    }
   }
  },
  {
   "cell_type": "code",
   "execution_count": 48,
   "outputs": [
    {
     "data": {
      "text/plain": "5002552.083333338"
     },
     "execution_count": 48,
     "metadata": {},
     "output_type": "execute_result"
    }
   ],
   "source": [
    "# Q. 위에서 만든 모델의 평가지표를 확인해보세요.\n",
    "# 평가지표 : mean_squared_error\n",
    "from sklearn.metrics import mean_squared_error\n",
    "mean_squared_error(y_test, pred)\n"
   ],
   "metadata": {
    "collapsed": false,
    "ExecuteTime": {
     "start_time": "2023-07-12T02:30:59.607800Z",
     "end_time": "2023-07-12T02:30:59.660688Z"
    }
   }
  },
  {
   "cell_type": "code",
   "execution_count": null,
   "outputs": [],
   "source": [],
   "metadata": {
    "collapsed": false
   }
  }
 ],
 "metadata": {
  "kernelspec": {
   "display_name": "Python 3",
   "language": "python",
   "name": "python3"
  },
  "language_info": {
   "codemirror_mode": {
    "name": "ipython",
    "version": 2
   },
   "file_extension": ".py",
   "mimetype": "text/x-python",
   "name": "python",
   "nbconvert_exporter": "python",
   "pygments_lexer": "ipython2",
   "version": "2.7.6"
  }
 },
 "nbformat": 4,
 "nbformat_minor": 0
}
