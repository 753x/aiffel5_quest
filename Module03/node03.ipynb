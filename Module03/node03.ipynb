{
 "cells": [
  {
   "cell_type": "markdown",
   "source": [
    "## 데이터 핸들링2\n",
    "\n",
    "3-2 데이터 불러오기 / 만들기"
   ],
   "metadata": {
    "collapsed": false
   }
  },
  {
   "cell_type": "code",
   "execution_count": 163,
   "metadata": {
    "collapsed": true,
    "ExecuteTime": {
     "end_time": "2023-07-11T06:07:25.997607Z",
     "start_time": "2023-07-11T06:07:25.062517Z"
    }
   },
   "outputs": [
    {
     "data": {
      "text/plain": "  Unnamed: 0         메뉴     가격   호수     칼로리  할인율      할인가  원산지\n0          0     황금후라이드  12000  10호  1000.0  0.2   9600.0  국내산\n1          1     승일양념치킨  13000  10호  1400.0  0.2  10400.0  NaN\n2          2       간장치킨  14000   9호  1600.0  0.2  11200.0  NaN\n3          3       마늘치킨  14000   9호  1800.0  0.2  11200.0  NaN\n4          4         파닭  14000  11호  1300.0  0.2  11200.0  브라질\n5          5        닭강정  15000  12호  1500.0  0.2  12000.0  브라질\n6          6   양념반후라이드반  13000  10호  1300.0  0.2  10400.0  NaN\n7        new  [인기]아이펠치킨  16000  11호  1200.0  0.5   8000.0  국내산\n8         10  [베스트]풀잎치킨   9900  10호     NaN  NaN      NaN  NaN",
      "text/html": "<div>\n<style scoped>\n    .dataframe tbody tr th:only-of-type {\n        vertical-align: middle;\n    }\n\n    .dataframe tbody tr th {\n        vertical-align: top;\n    }\n\n    .dataframe thead th {\n        text-align: right;\n    }\n</style>\n<table border=\"1\" class=\"dataframe\">\n  <thead>\n    <tr style=\"text-align: right;\">\n      <th></th>\n      <th>Unnamed: 0</th>\n      <th>메뉴</th>\n      <th>가격</th>\n      <th>호수</th>\n      <th>칼로리</th>\n      <th>할인율</th>\n      <th>할인가</th>\n      <th>원산지</th>\n    </tr>\n  </thead>\n  <tbody>\n    <tr>\n      <th>0</th>\n      <td>0</td>\n      <td>황금후라이드</td>\n      <td>12000</td>\n      <td>10호</td>\n      <td>1000.0</td>\n      <td>0.2</td>\n      <td>9600.0</td>\n      <td>국내산</td>\n    </tr>\n    <tr>\n      <th>1</th>\n      <td>1</td>\n      <td>승일양념치킨</td>\n      <td>13000</td>\n      <td>10호</td>\n      <td>1400.0</td>\n      <td>0.2</td>\n      <td>10400.0</td>\n      <td>NaN</td>\n    </tr>\n    <tr>\n      <th>2</th>\n      <td>2</td>\n      <td>간장치킨</td>\n      <td>14000</td>\n      <td>9호</td>\n      <td>1600.0</td>\n      <td>0.2</td>\n      <td>11200.0</td>\n      <td>NaN</td>\n    </tr>\n    <tr>\n      <th>3</th>\n      <td>3</td>\n      <td>마늘치킨</td>\n      <td>14000</td>\n      <td>9호</td>\n      <td>1800.0</td>\n      <td>0.2</td>\n      <td>11200.0</td>\n      <td>NaN</td>\n    </tr>\n    <tr>\n      <th>4</th>\n      <td>4</td>\n      <td>파닭</td>\n      <td>14000</td>\n      <td>11호</td>\n      <td>1300.0</td>\n      <td>0.2</td>\n      <td>11200.0</td>\n      <td>브라질</td>\n    </tr>\n    <tr>\n      <th>5</th>\n      <td>5</td>\n      <td>닭강정</td>\n      <td>15000</td>\n      <td>12호</td>\n      <td>1500.0</td>\n      <td>0.2</td>\n      <td>12000.0</td>\n      <td>브라질</td>\n    </tr>\n    <tr>\n      <th>6</th>\n      <td>6</td>\n      <td>양념반후라이드반</td>\n      <td>13000</td>\n      <td>10호</td>\n      <td>1300.0</td>\n      <td>0.2</td>\n      <td>10400.0</td>\n      <td>NaN</td>\n    </tr>\n    <tr>\n      <th>7</th>\n      <td>new</td>\n      <td>[인기]아이펠치킨</td>\n      <td>16000</td>\n      <td>11호</td>\n      <td>1200.0</td>\n      <td>0.5</td>\n      <td>8000.0</td>\n      <td>국내산</td>\n    </tr>\n    <tr>\n      <th>8</th>\n      <td>10</td>\n      <td>[베스트]풀잎치킨</td>\n      <td>9900</td>\n      <td>10호</td>\n      <td>NaN</td>\n      <td>NaN</td>\n      <td>NaN</td>\n      <td>NaN</td>\n    </tr>\n  </tbody>\n</table>\n</div>"
     },
     "execution_count": 163,
     "metadata": {},
     "output_type": "execute_result"
    }
   ],
   "source": [
    "import pandas as pd\n",
    "import numpy as np\n",
    "df = pd.DataFrame({\n",
    "    'Unnamed: 0': [0,1,2,3,4,5,6,'new',10],\n",
    "    '메뉴': ['황금후라이드','승일양념치킨','간장치킨','마늘치킨','파닭','닭강정','양념반후라이드반','[인기]아이펠치킨','[베스트]풀잎치킨'],\n",
    "    '가격': [12000,13000,14000,14000,14000,15000,13000,16000,9900],\n",
    "    '호수' : ['10호','10호','9호','9호','11호','12호','10호','11호','10호'],\n",
    "    '칼로리' : [1000.0,1400.0,1600.0,1800.0,1300.0,1500.0,1300.0,1200.0,np.nan],\n",
    "    '할인율' : [0.2,0.2,0.2,0.2,0.2,0.2,0.2,0.5,np.nan],\n",
    "    '할인가' : [9600.0,10400.0,11200.0,11200.0,11200.0,12000.0,10400.0,8000.0,np.nan],\n",
    "    '원산지' : ['국내산',np.nan,np.nan,np.nan,'브라질','브라질',np.nan,'국내산',np.nan]\n",
    "})\n",
    "df.to_csv('new_modudak.csv', index=False)\n",
    "df"
   ]
  },
  {
   "cell_type": "code",
   "execution_count": 164,
   "outputs": [
    {
     "data": {
      "text/plain": "                   메뉴     가격   호수     칼로리  할인율      할인가  원산지\nUnnamed: 0                                                  \n0              황금후라이드  12000  10호  1000.0  0.2   9600.0  국내산\n1              승일양념치킨  13000  10호  1400.0  0.2  10400.0  NaN\n2                간장치킨  14000   9호  1600.0  0.2  11200.0  NaN\n3                마늘치킨  14000   9호  1800.0  0.2  11200.0  NaN\n4                  파닭  14000  11호  1300.0  0.2  11200.0  브라질\n5                 닭강정  15000  12호  1500.0  0.2  12000.0  브라질\n6            양념반후라이드반  13000  10호  1300.0  0.2  10400.0  NaN\nnew         [인기]아이펠치킨  16000  11호  1200.0  0.5   8000.0  국내산\n10          [베스트]풀잎치킨   9900  10호     NaN  NaN      NaN  NaN",
      "text/html": "<div>\n<style scoped>\n    .dataframe tbody tr th:only-of-type {\n        vertical-align: middle;\n    }\n\n    .dataframe tbody tr th {\n        vertical-align: top;\n    }\n\n    .dataframe thead th {\n        text-align: right;\n    }\n</style>\n<table border=\"1\" class=\"dataframe\">\n  <thead>\n    <tr style=\"text-align: right;\">\n      <th></th>\n      <th>메뉴</th>\n      <th>가격</th>\n      <th>호수</th>\n      <th>칼로리</th>\n      <th>할인율</th>\n      <th>할인가</th>\n      <th>원산지</th>\n    </tr>\n    <tr>\n      <th>Unnamed: 0</th>\n      <th></th>\n      <th></th>\n      <th></th>\n      <th></th>\n      <th></th>\n      <th></th>\n      <th></th>\n    </tr>\n  </thead>\n  <tbody>\n    <tr>\n      <th>0</th>\n      <td>황금후라이드</td>\n      <td>12000</td>\n      <td>10호</td>\n      <td>1000.0</td>\n      <td>0.2</td>\n      <td>9600.0</td>\n      <td>국내산</td>\n    </tr>\n    <tr>\n      <th>1</th>\n      <td>승일양념치킨</td>\n      <td>13000</td>\n      <td>10호</td>\n      <td>1400.0</td>\n      <td>0.2</td>\n      <td>10400.0</td>\n      <td>NaN</td>\n    </tr>\n    <tr>\n      <th>2</th>\n      <td>간장치킨</td>\n      <td>14000</td>\n      <td>9호</td>\n      <td>1600.0</td>\n      <td>0.2</td>\n      <td>11200.0</td>\n      <td>NaN</td>\n    </tr>\n    <tr>\n      <th>3</th>\n      <td>마늘치킨</td>\n      <td>14000</td>\n      <td>9호</td>\n      <td>1800.0</td>\n      <td>0.2</td>\n      <td>11200.0</td>\n      <td>NaN</td>\n    </tr>\n    <tr>\n      <th>4</th>\n      <td>파닭</td>\n      <td>14000</td>\n      <td>11호</td>\n      <td>1300.0</td>\n      <td>0.2</td>\n      <td>11200.0</td>\n      <td>브라질</td>\n    </tr>\n    <tr>\n      <th>5</th>\n      <td>닭강정</td>\n      <td>15000</td>\n      <td>12호</td>\n      <td>1500.0</td>\n      <td>0.2</td>\n      <td>12000.0</td>\n      <td>브라질</td>\n    </tr>\n    <tr>\n      <th>6</th>\n      <td>양념반후라이드반</td>\n      <td>13000</td>\n      <td>10호</td>\n      <td>1300.0</td>\n      <td>0.2</td>\n      <td>10400.0</td>\n      <td>NaN</td>\n    </tr>\n    <tr>\n      <th>new</th>\n      <td>[인기]아이펠치킨</td>\n      <td>16000</td>\n      <td>11호</td>\n      <td>1200.0</td>\n      <td>0.5</td>\n      <td>8000.0</td>\n      <td>국내산</td>\n    </tr>\n    <tr>\n      <th>10</th>\n      <td>[베스트]풀잎치킨</td>\n      <td>9900</td>\n      <td>10호</td>\n      <td>NaN</td>\n      <td>NaN</td>\n      <td>NaN</td>\n      <td>NaN</td>\n    </tr>\n  </tbody>\n</table>\n</div>"
     },
     "execution_count": 164,
     "metadata": {},
     "output_type": "execute_result"
    }
   ],
   "source": [
    "#데이터 불러오기(인덱스 값 지정, index_col)\n",
    "pd.read_csv('new_modudak.csv', index_col='Unnamed: 0')"
   ],
   "metadata": {
    "collapsed": false,
    "ExecuteTime": {
     "end_time": "2023-07-11T06:07:25.997859Z",
     "start_time": "2023-07-11T06:07:25.065717Z"
    }
   }
  },
  {
   "cell_type": "code",
   "execution_count": 165,
   "outputs": [
    {
     "data": {
      "text/plain": "  Unnamed: 0         메뉴     가격   호수     칼로리  할인율      할인가  원산지\n0          0     황금후라이드  12000  10호  1000.0  0.2   9600.0  국내산\n1          1     승일양념치킨  13000  10호  1400.0  0.2  10400.0  NaN\n2          2       간장치킨  14000   9호  1600.0  0.2  11200.0  NaN\n3          3       마늘치킨  14000   9호  1800.0  0.2  11200.0  NaN\n4          4         파닭  14000  11호  1300.0  0.2  11200.0  브라질\n5          5        닭강정  15000  12호  1500.0  0.2  12000.0  브라질\n6          6   양념반후라이드반  13000  10호  1300.0  0.2  10400.0  NaN\n7        new  [인기]아이펠치킨  16000  11호  1200.0  0.5   8000.0  국내산\n8         10  [베스트]풀잎치킨   9900  10호     NaN  NaN      NaN  NaN",
      "text/html": "<div>\n<style scoped>\n    .dataframe tbody tr th:only-of-type {\n        vertical-align: middle;\n    }\n\n    .dataframe tbody tr th {\n        vertical-align: top;\n    }\n\n    .dataframe thead th {\n        text-align: right;\n    }\n</style>\n<table border=\"1\" class=\"dataframe\">\n  <thead>\n    <tr style=\"text-align: right;\">\n      <th></th>\n      <th>Unnamed: 0</th>\n      <th>메뉴</th>\n      <th>가격</th>\n      <th>호수</th>\n      <th>칼로리</th>\n      <th>할인율</th>\n      <th>할인가</th>\n      <th>원산지</th>\n    </tr>\n  </thead>\n  <tbody>\n    <tr>\n      <th>0</th>\n      <td>0</td>\n      <td>황금후라이드</td>\n      <td>12000</td>\n      <td>10호</td>\n      <td>1000.0</td>\n      <td>0.2</td>\n      <td>9600.0</td>\n      <td>국내산</td>\n    </tr>\n    <tr>\n      <th>1</th>\n      <td>1</td>\n      <td>승일양념치킨</td>\n      <td>13000</td>\n      <td>10호</td>\n      <td>1400.0</td>\n      <td>0.2</td>\n      <td>10400.0</td>\n      <td>NaN</td>\n    </tr>\n    <tr>\n      <th>2</th>\n      <td>2</td>\n      <td>간장치킨</td>\n      <td>14000</td>\n      <td>9호</td>\n      <td>1600.0</td>\n      <td>0.2</td>\n      <td>11200.0</td>\n      <td>NaN</td>\n    </tr>\n    <tr>\n      <th>3</th>\n      <td>3</td>\n      <td>마늘치킨</td>\n      <td>14000</td>\n      <td>9호</td>\n      <td>1800.0</td>\n      <td>0.2</td>\n      <td>11200.0</td>\n      <td>NaN</td>\n    </tr>\n    <tr>\n      <th>4</th>\n      <td>4</td>\n      <td>파닭</td>\n      <td>14000</td>\n      <td>11호</td>\n      <td>1300.0</td>\n      <td>0.2</td>\n      <td>11200.0</td>\n      <td>브라질</td>\n    </tr>\n    <tr>\n      <th>5</th>\n      <td>5</td>\n      <td>닭강정</td>\n      <td>15000</td>\n      <td>12호</td>\n      <td>1500.0</td>\n      <td>0.2</td>\n      <td>12000.0</td>\n      <td>브라질</td>\n    </tr>\n    <tr>\n      <th>6</th>\n      <td>6</td>\n      <td>양념반후라이드반</td>\n      <td>13000</td>\n      <td>10호</td>\n      <td>1300.0</td>\n      <td>0.2</td>\n      <td>10400.0</td>\n      <td>NaN</td>\n    </tr>\n    <tr>\n      <th>7</th>\n      <td>new</td>\n      <td>[인기]아이펠치킨</td>\n      <td>16000</td>\n      <td>11호</td>\n      <td>1200.0</td>\n      <td>0.5</td>\n      <td>8000.0</td>\n      <td>국내산</td>\n    </tr>\n    <tr>\n      <th>8</th>\n      <td>10</td>\n      <td>[베스트]풀잎치킨</td>\n      <td>9900</td>\n      <td>10호</td>\n      <td>NaN</td>\n      <td>NaN</td>\n      <td>NaN</td>\n      <td>NaN</td>\n    </tr>\n  </tbody>\n</table>\n</div>"
     },
     "execution_count": 165,
     "metadata": {},
     "output_type": "execute_result"
    }
   ],
   "source": [
    "# 데이터 삭제\n",
    "\n",
    "# 컬럼 삭제\n",
    "\n",
    "#[tip] 데이터 프레임 복사\n",
    "df2 = df.copy()\n",
    "df2"
   ],
   "metadata": {
    "collapsed": false,
    "ExecuteTime": {
     "end_time": "2023-07-11T06:07:25.998029Z",
     "start_time": "2023-07-11T06:07:25.083405Z"
    }
   }
  },
  {
   "cell_type": "code",
   "execution_count": 166,
   "outputs": [
    {
     "data": {
      "text/plain": "          메뉴     가격   호수     칼로리  할인율      할인가  원산지\n0     황금후라이드  12000  10호  1000.0  0.2   9600.0  국내산\n1     승일양념치킨  13000  10호  1400.0  0.2  10400.0  NaN\n2       간장치킨  14000   9호  1600.0  0.2  11200.0  NaN\n3       마늘치킨  14000   9호  1800.0  0.2  11200.0  NaN\n4         파닭  14000  11호  1300.0  0.2  11200.0  브라질\n5        닭강정  15000  12호  1500.0  0.2  12000.0  브라질\n6   양념반후라이드반  13000  10호  1300.0  0.2  10400.0  NaN\n7  [인기]아이펠치킨  16000  11호  1200.0  0.5   8000.0  국내산\n8  [베스트]풀잎치킨   9900  10호     NaN  NaN      NaN  NaN",
      "text/html": "<div>\n<style scoped>\n    .dataframe tbody tr th:only-of-type {\n        vertical-align: middle;\n    }\n\n    .dataframe tbody tr th {\n        vertical-align: top;\n    }\n\n    .dataframe thead th {\n        text-align: right;\n    }\n</style>\n<table border=\"1\" class=\"dataframe\">\n  <thead>\n    <tr style=\"text-align: right;\">\n      <th></th>\n      <th>메뉴</th>\n      <th>가격</th>\n      <th>호수</th>\n      <th>칼로리</th>\n      <th>할인율</th>\n      <th>할인가</th>\n      <th>원산지</th>\n    </tr>\n  </thead>\n  <tbody>\n    <tr>\n      <th>0</th>\n      <td>황금후라이드</td>\n      <td>12000</td>\n      <td>10호</td>\n      <td>1000.0</td>\n      <td>0.2</td>\n      <td>9600.0</td>\n      <td>국내산</td>\n    </tr>\n    <tr>\n      <th>1</th>\n      <td>승일양념치킨</td>\n      <td>13000</td>\n      <td>10호</td>\n      <td>1400.0</td>\n      <td>0.2</td>\n      <td>10400.0</td>\n      <td>NaN</td>\n    </tr>\n    <tr>\n      <th>2</th>\n      <td>간장치킨</td>\n      <td>14000</td>\n      <td>9호</td>\n      <td>1600.0</td>\n      <td>0.2</td>\n      <td>11200.0</td>\n      <td>NaN</td>\n    </tr>\n    <tr>\n      <th>3</th>\n      <td>마늘치킨</td>\n      <td>14000</td>\n      <td>9호</td>\n      <td>1800.0</td>\n      <td>0.2</td>\n      <td>11200.0</td>\n      <td>NaN</td>\n    </tr>\n    <tr>\n      <th>4</th>\n      <td>파닭</td>\n      <td>14000</td>\n      <td>11호</td>\n      <td>1300.0</td>\n      <td>0.2</td>\n      <td>11200.0</td>\n      <td>브라질</td>\n    </tr>\n    <tr>\n      <th>5</th>\n      <td>닭강정</td>\n      <td>15000</td>\n      <td>12호</td>\n      <td>1500.0</td>\n      <td>0.2</td>\n      <td>12000.0</td>\n      <td>브라질</td>\n    </tr>\n    <tr>\n      <th>6</th>\n      <td>양념반후라이드반</td>\n      <td>13000</td>\n      <td>10호</td>\n      <td>1300.0</td>\n      <td>0.2</td>\n      <td>10400.0</td>\n      <td>NaN</td>\n    </tr>\n    <tr>\n      <th>7</th>\n      <td>[인기]아이펠치킨</td>\n      <td>16000</td>\n      <td>11호</td>\n      <td>1200.0</td>\n      <td>0.5</td>\n      <td>8000.0</td>\n      <td>국내산</td>\n    </tr>\n    <tr>\n      <th>8</th>\n      <td>[베스트]풀잎치킨</td>\n      <td>9900</td>\n      <td>10호</td>\n      <td>NaN</td>\n      <td>NaN</td>\n      <td>NaN</td>\n      <td>NaN</td>\n    </tr>\n  </tbody>\n</table>\n</div>"
     },
     "execution_count": 166,
     "metadata": {},
     "output_type": "execute_result"
    }
   ],
   "source": [
    "# 데이터 삭제(컬럼(열 : Unnamed: 0) 삭제),drop(axis=1)\n",
    "# axis=1 : 컬럼(열) 삭제 / axis=0 : 로우(행) 삭제\n",
    "df2 = df2.drop('Unnamed: 0', axis=1)\n",
    "df2"
   ],
   "metadata": {
    "collapsed": false,
    "ExecuteTime": {
     "end_time": "2023-07-11T06:07:25.998172Z",
     "start_time": "2023-07-11T06:07:25.086236Z"
    }
   }
  },
  {
   "cell_type": "code",
   "execution_count": 167,
   "outputs": [
    {
     "data": {
      "text/plain": "          메뉴     가격   호수     칼로리  할인율      할인가  원산지\n0     황금후라이드  12000  10호  1000.0  0.2   9600.0  국내산\n1     승일양념치킨  13000  10호  1400.0  0.2  10400.0  NaN\n2       간장치킨  14000   9호  1600.0  0.2  11200.0  NaN\n3       마늘치킨  14000   9호  1800.0  0.2  11200.0  NaN\n4         파닭  14000  11호  1300.0  0.2  11200.0  브라질\n5        닭강정  15000  12호  1500.0  0.2  12000.0  브라질\n6   양념반후라이드반  13000  10호  1300.0  0.2  10400.0  NaN\n7  [인기]아이펠치킨  16000  11호  1200.0  0.5   8000.0  국내산\n8  [베스트]풀잎치킨   9900  10호     NaN  NaN      NaN  NaN",
      "text/html": "<div>\n<style scoped>\n    .dataframe tbody tr th:only-of-type {\n        vertical-align: middle;\n    }\n\n    .dataframe tbody tr th {\n        vertical-align: top;\n    }\n\n    .dataframe thead th {\n        text-align: right;\n    }\n</style>\n<table border=\"1\" class=\"dataframe\">\n  <thead>\n    <tr style=\"text-align: right;\">\n      <th></th>\n      <th>메뉴</th>\n      <th>가격</th>\n      <th>호수</th>\n      <th>칼로리</th>\n      <th>할인율</th>\n      <th>할인가</th>\n      <th>원산지</th>\n    </tr>\n  </thead>\n  <tbody>\n    <tr>\n      <th>0</th>\n      <td>황금후라이드</td>\n      <td>12000</td>\n      <td>10호</td>\n      <td>1000.0</td>\n      <td>0.2</td>\n      <td>9600.0</td>\n      <td>국내산</td>\n    </tr>\n    <tr>\n      <th>1</th>\n      <td>승일양념치킨</td>\n      <td>13000</td>\n      <td>10호</td>\n      <td>1400.0</td>\n      <td>0.2</td>\n      <td>10400.0</td>\n      <td>NaN</td>\n    </tr>\n    <tr>\n      <th>2</th>\n      <td>간장치킨</td>\n      <td>14000</td>\n      <td>9호</td>\n      <td>1600.0</td>\n      <td>0.2</td>\n      <td>11200.0</td>\n      <td>NaN</td>\n    </tr>\n    <tr>\n      <th>3</th>\n      <td>마늘치킨</td>\n      <td>14000</td>\n      <td>9호</td>\n      <td>1800.0</td>\n      <td>0.2</td>\n      <td>11200.0</td>\n      <td>NaN</td>\n    </tr>\n    <tr>\n      <th>4</th>\n      <td>파닭</td>\n      <td>14000</td>\n      <td>11호</td>\n      <td>1300.0</td>\n      <td>0.2</td>\n      <td>11200.0</td>\n      <td>브라질</td>\n    </tr>\n    <tr>\n      <th>5</th>\n      <td>닭강정</td>\n      <td>15000</td>\n      <td>12호</td>\n      <td>1500.0</td>\n      <td>0.2</td>\n      <td>12000.0</td>\n      <td>브라질</td>\n    </tr>\n    <tr>\n      <th>6</th>\n      <td>양념반후라이드반</td>\n      <td>13000</td>\n      <td>10호</td>\n      <td>1300.0</td>\n      <td>0.2</td>\n      <td>10400.0</td>\n      <td>NaN</td>\n    </tr>\n    <tr>\n      <th>7</th>\n      <td>[인기]아이펠치킨</td>\n      <td>16000</td>\n      <td>11호</td>\n      <td>1200.0</td>\n      <td>0.5</td>\n      <td>8000.0</td>\n      <td>국내산</td>\n    </tr>\n    <tr>\n      <th>8</th>\n      <td>[베스트]풀잎치킨</td>\n      <td>9900</td>\n      <td>10호</td>\n      <td>NaN</td>\n      <td>NaN</td>\n      <td>NaN</td>\n      <td>NaN</td>\n    </tr>\n  </tbody>\n</table>\n</div>"
     },
     "execution_count": 167,
     "metadata": {},
     "output_type": "execute_result"
    }
   ],
   "source": [
    "# 데이터 삭제(컬럼:Unnamed: 0) drop(columns=[])\n",
    "df2 = df.copy()\n",
    "df2 = df2.drop(columns=['Unnamed: 0',])\n",
    "df2"
   ],
   "metadata": {
    "collapsed": false,
    "ExecuteTime": {
     "end_time": "2023-07-11T06:07:25.998307Z",
     "start_time": "2023-07-11T06:07:25.104007Z"
    }
   }
  },
  {
   "cell_type": "code",
   "execution_count": 168,
   "outputs": [
    {
     "data": {
      "text/plain": "  Unnamed: 0         메뉴     가격   호수     칼로리  할인율      할인가  원산지\n0          0     황금후라이드  12000  10호  1000.0  0.2   9600.0  국내산\n1          1     승일양념치킨  13000  10호  1400.0  0.2  10400.0  NaN\n2          2       간장치킨  14000   9호  1600.0  0.2  11200.0  NaN\n3          3       마늘치킨  14000   9호  1800.0  0.2  11200.0  NaN\n4          4         파닭  14000  11호  1300.0  0.2  11200.0  브라질\n5          5        닭강정  15000  12호  1500.0  0.2  12000.0  브라질\n6          6   양념반후라이드반  13000  10호  1300.0  0.2  10400.0  NaN\n7        new  [인기]아이펠치킨  16000  11호  1200.0  0.5   8000.0  국내산\n8         10  [베스트]풀잎치킨   9900  10호     NaN  NaN      NaN  NaN",
      "text/html": "<div>\n<style scoped>\n    .dataframe tbody tr th:only-of-type {\n        vertical-align: middle;\n    }\n\n    .dataframe tbody tr th {\n        vertical-align: top;\n    }\n\n    .dataframe thead th {\n        text-align: right;\n    }\n</style>\n<table border=\"1\" class=\"dataframe\">\n  <thead>\n    <tr style=\"text-align: right;\">\n      <th></th>\n      <th>Unnamed: 0</th>\n      <th>메뉴</th>\n      <th>가격</th>\n      <th>호수</th>\n      <th>칼로리</th>\n      <th>할인율</th>\n      <th>할인가</th>\n      <th>원산지</th>\n    </tr>\n  </thead>\n  <tbody>\n    <tr>\n      <th>0</th>\n      <td>0</td>\n      <td>황금후라이드</td>\n      <td>12000</td>\n      <td>10호</td>\n      <td>1000.0</td>\n      <td>0.2</td>\n      <td>9600.0</td>\n      <td>국내산</td>\n    </tr>\n    <tr>\n      <th>1</th>\n      <td>1</td>\n      <td>승일양념치킨</td>\n      <td>13000</td>\n      <td>10호</td>\n      <td>1400.0</td>\n      <td>0.2</td>\n      <td>10400.0</td>\n      <td>NaN</td>\n    </tr>\n    <tr>\n      <th>2</th>\n      <td>2</td>\n      <td>간장치킨</td>\n      <td>14000</td>\n      <td>9호</td>\n      <td>1600.0</td>\n      <td>0.2</td>\n      <td>11200.0</td>\n      <td>NaN</td>\n    </tr>\n    <tr>\n      <th>3</th>\n      <td>3</td>\n      <td>마늘치킨</td>\n      <td>14000</td>\n      <td>9호</td>\n      <td>1800.0</td>\n      <td>0.2</td>\n      <td>11200.0</td>\n      <td>NaN</td>\n    </tr>\n    <tr>\n      <th>4</th>\n      <td>4</td>\n      <td>파닭</td>\n      <td>14000</td>\n      <td>11호</td>\n      <td>1300.0</td>\n      <td>0.2</td>\n      <td>11200.0</td>\n      <td>브라질</td>\n    </tr>\n    <tr>\n      <th>5</th>\n      <td>5</td>\n      <td>닭강정</td>\n      <td>15000</td>\n      <td>12호</td>\n      <td>1500.0</td>\n      <td>0.2</td>\n      <td>12000.0</td>\n      <td>브라질</td>\n    </tr>\n    <tr>\n      <th>6</th>\n      <td>6</td>\n      <td>양념반후라이드반</td>\n      <td>13000</td>\n      <td>10호</td>\n      <td>1300.0</td>\n      <td>0.2</td>\n      <td>10400.0</td>\n      <td>NaN</td>\n    </tr>\n    <tr>\n      <th>7</th>\n      <td>new</td>\n      <td>[인기]아이펠치킨</td>\n      <td>16000</td>\n      <td>11호</td>\n      <td>1200.0</td>\n      <td>0.5</td>\n      <td>8000.0</td>\n      <td>국내산</td>\n    </tr>\n    <tr>\n      <th>8</th>\n      <td>10</td>\n      <td>[베스트]풀잎치킨</td>\n      <td>9900</td>\n      <td>10호</td>\n      <td>NaN</td>\n      <td>NaN</td>\n      <td>NaN</td>\n      <td>NaN</td>\n    </tr>\n  </tbody>\n</table>\n</div>"
     },
     "execution_count": 168,
     "metadata": {},
     "output_type": "execute_result"
    }
   ],
   "source": [
    "# 데이터 복사(data -> df)\n",
    "data = df.copy()\n",
    "data"
   ],
   "metadata": {
    "collapsed": false,
    "ExecuteTime": {
     "end_time": "2023-07-11T06:07:25.998440Z",
     "start_time": "2023-07-11T06:07:25.115130Z"
    }
   }
  },
  {
   "cell_type": "code",
   "execution_count": 169,
   "outputs": [
    {
     "data": {
      "text/plain": "  Unnamed: 0         메뉴     가격   호수     칼로리  할인율      할인가  원산지\n0          0     황금후라이드  12000  10호  1000.0  0.2   9600.0  국내산\n1          1     승일양념치킨  13000  10호  1400.0  0.2  10400.0  NaN\n2          2       간장치킨  14000   9호  1600.0  0.2  11200.0  NaN\n3          3       마늘치킨  14000   9호  1800.0  0.2  11200.0  NaN\n5          5        닭강정  15000  12호  1500.0  0.2  12000.0  브라질\n6          6   양념반후라이드반  13000  10호  1300.0  0.2  10400.0  NaN\n7        new  [인기]아이펠치킨  16000  11호  1200.0  0.5   8000.0  국내산\n8         10  [베스트]풀잎치킨   9900  10호     NaN  NaN      NaN  NaN",
      "text/html": "<div>\n<style scoped>\n    .dataframe tbody tr th:only-of-type {\n        vertical-align: middle;\n    }\n\n    .dataframe tbody tr th {\n        vertical-align: top;\n    }\n\n    .dataframe thead th {\n        text-align: right;\n    }\n</style>\n<table border=\"1\" class=\"dataframe\">\n  <thead>\n    <tr style=\"text-align: right;\">\n      <th></th>\n      <th>Unnamed: 0</th>\n      <th>메뉴</th>\n      <th>가격</th>\n      <th>호수</th>\n      <th>칼로리</th>\n      <th>할인율</th>\n      <th>할인가</th>\n      <th>원산지</th>\n    </tr>\n  </thead>\n  <tbody>\n    <tr>\n      <th>0</th>\n      <td>0</td>\n      <td>황금후라이드</td>\n      <td>12000</td>\n      <td>10호</td>\n      <td>1000.0</td>\n      <td>0.2</td>\n      <td>9600.0</td>\n      <td>국내산</td>\n    </tr>\n    <tr>\n      <th>1</th>\n      <td>1</td>\n      <td>승일양념치킨</td>\n      <td>13000</td>\n      <td>10호</td>\n      <td>1400.0</td>\n      <td>0.2</td>\n      <td>10400.0</td>\n      <td>NaN</td>\n    </tr>\n    <tr>\n      <th>2</th>\n      <td>2</td>\n      <td>간장치킨</td>\n      <td>14000</td>\n      <td>9호</td>\n      <td>1600.0</td>\n      <td>0.2</td>\n      <td>11200.0</td>\n      <td>NaN</td>\n    </tr>\n    <tr>\n      <th>3</th>\n      <td>3</td>\n      <td>마늘치킨</td>\n      <td>14000</td>\n      <td>9호</td>\n      <td>1800.0</td>\n      <td>0.2</td>\n      <td>11200.0</td>\n      <td>NaN</td>\n    </tr>\n    <tr>\n      <th>5</th>\n      <td>5</td>\n      <td>닭강정</td>\n      <td>15000</td>\n      <td>12호</td>\n      <td>1500.0</td>\n      <td>0.2</td>\n      <td>12000.0</td>\n      <td>브라질</td>\n    </tr>\n    <tr>\n      <th>6</th>\n      <td>6</td>\n      <td>양념반후라이드반</td>\n      <td>13000</td>\n      <td>10호</td>\n      <td>1300.0</td>\n      <td>0.2</td>\n      <td>10400.0</td>\n      <td>NaN</td>\n    </tr>\n    <tr>\n      <th>7</th>\n      <td>new</td>\n      <td>[인기]아이펠치킨</td>\n      <td>16000</td>\n      <td>11호</td>\n      <td>1200.0</td>\n      <td>0.5</td>\n      <td>8000.0</td>\n      <td>국내산</td>\n    </tr>\n    <tr>\n      <th>8</th>\n      <td>10</td>\n      <td>[베스트]풀잎치킨</td>\n      <td>9900</td>\n      <td>10호</td>\n      <td>NaN</td>\n      <td>NaN</td>\n      <td>NaN</td>\n      <td>NaN</td>\n    </tr>\n  </tbody>\n</table>\n</div>"
     },
     "execution_count": 169,
     "metadata": {},
     "output_type": "execute_result"
    }
   ],
   "source": [
    "# 데이터 삭제(로우(행) 삭제, 파닭), drop(axis=0)\n",
    "data = data.drop(4, axis=0)\n",
    "data"
   ],
   "metadata": {
    "collapsed": false,
    "ExecuteTime": {
     "end_time": "2023-07-11T06:07:25.998689Z",
     "start_time": "2023-07-11T06:07:25.117861Z"
    }
   }
  },
  {
   "cell_type": "code",
   "execution_count": 170,
   "outputs": [
    {
     "data": {
      "text/plain": "  Unnamed: 0         메뉴     가격   호수     칼로리  할인율      할인가  원산지\n0          0     황금후라이드  12000  10호  1000.0  0.2   9600.0  국내산\n1          1     승일양념치킨  13000  10호  1400.0  0.2  10400.0  NaN\n2          2       간장치킨  14000   9호  1600.0  0.2  11200.0  NaN\n3          3       마늘치킨  14000   9호  1800.0  0.2  11200.0  NaN\n5          5        닭강정  15000  12호  1500.0  0.2  12000.0  브라질\n7        new  [인기]아이펠치킨  16000  11호  1200.0  0.5   8000.0  국내산\n8         10  [베스트]풀잎치킨   9900  10호     NaN  NaN      NaN  NaN",
      "text/html": "<div>\n<style scoped>\n    .dataframe tbody tr th:only-of-type {\n        vertical-align: middle;\n    }\n\n    .dataframe tbody tr th {\n        vertical-align: top;\n    }\n\n    .dataframe thead th {\n        text-align: right;\n    }\n</style>\n<table border=\"1\" class=\"dataframe\">\n  <thead>\n    <tr style=\"text-align: right;\">\n      <th></th>\n      <th>Unnamed: 0</th>\n      <th>메뉴</th>\n      <th>가격</th>\n      <th>호수</th>\n      <th>칼로리</th>\n      <th>할인율</th>\n      <th>할인가</th>\n      <th>원산지</th>\n    </tr>\n  </thead>\n  <tbody>\n    <tr>\n      <th>0</th>\n      <td>0</td>\n      <td>황금후라이드</td>\n      <td>12000</td>\n      <td>10호</td>\n      <td>1000.0</td>\n      <td>0.2</td>\n      <td>9600.0</td>\n      <td>국내산</td>\n    </tr>\n    <tr>\n      <th>1</th>\n      <td>1</td>\n      <td>승일양념치킨</td>\n      <td>13000</td>\n      <td>10호</td>\n      <td>1400.0</td>\n      <td>0.2</td>\n      <td>10400.0</td>\n      <td>NaN</td>\n    </tr>\n    <tr>\n      <th>2</th>\n      <td>2</td>\n      <td>간장치킨</td>\n      <td>14000</td>\n      <td>9호</td>\n      <td>1600.0</td>\n      <td>0.2</td>\n      <td>11200.0</td>\n      <td>NaN</td>\n    </tr>\n    <tr>\n      <th>3</th>\n      <td>3</td>\n      <td>마늘치킨</td>\n      <td>14000</td>\n      <td>9호</td>\n      <td>1800.0</td>\n      <td>0.2</td>\n      <td>11200.0</td>\n      <td>NaN</td>\n    </tr>\n    <tr>\n      <th>5</th>\n      <td>5</td>\n      <td>닭강정</td>\n      <td>15000</td>\n      <td>12호</td>\n      <td>1500.0</td>\n      <td>0.2</td>\n      <td>12000.0</td>\n      <td>브라질</td>\n    </tr>\n    <tr>\n      <th>7</th>\n      <td>new</td>\n      <td>[인기]아이펠치킨</td>\n      <td>16000</td>\n      <td>11호</td>\n      <td>1200.0</td>\n      <td>0.5</td>\n      <td>8000.0</td>\n      <td>국내산</td>\n    </tr>\n    <tr>\n      <th>8</th>\n      <td>10</td>\n      <td>[베스트]풀잎치킨</td>\n      <td>9900</td>\n      <td>10호</td>\n      <td>NaN</td>\n      <td>NaN</td>\n      <td>NaN</td>\n      <td>NaN</td>\n    </tr>\n  </tbody>\n</table>\n</div>"
     },
     "execution_count": 170,
     "metadata": {},
     "output_type": "execute_result"
    }
   ],
   "source": [
    "# 데이터 삭제(로우(행) 삭제, 양념반후라이드반), inplace=True)\n",
    "data.drop(6, axis=0, inplace=True) # inplace=True : 원본 데이터에 적용, 대입없이 바로 삭제 가능(data = 의 형식 불필요)\n",
    "data"
   ],
   "metadata": {
    "collapsed": false,
    "ExecuteTime": {
     "end_time": "2023-07-11T06:07:25.998895Z",
     "start_time": "2023-07-11T06:07:25.127923Z"
    }
   }
  },
  {
   "cell_type": "code",
   "execution_count": 171,
   "outputs": [],
   "source": [
    "#행삭제 (조건:가격>=14000)\n",
    "# cond = data['가격'] >= 14000\n",
    "# data.drop(data[cond].index, axis=0, inplace=True)\n",
    "# data"
   ],
   "metadata": {
    "collapsed": false,
    "ExecuteTime": {
     "end_time": "2023-07-11T06:07:25.998983Z",
     "start_time": "2023-07-11T06:07:25.141072Z"
    }
   }
  },
  {
   "cell_type": "code",
   "execution_count": 172,
   "outputs": [
    {
     "data": {
      "text/plain": "Int64Index([2, 3, 5, 7], dtype='int64')"
     },
     "execution_count": 172,
     "metadata": {},
     "output_type": "execute_result"
    }
   ],
   "source": [
    "# 행삭제(조건:가격>=14000)\n",
    "cond = data['가격'] >= 14000\n",
    "# 몇번 인덱스가 해당하는지 확인\n",
    "data[cond].index"
   ],
   "metadata": {
    "collapsed": false,
    "ExecuteTime": {
     "end_time": "2023-07-11T06:07:25.999117Z",
     "start_time": "2023-07-11T06:07:25.148185Z"
    }
   }
  },
  {
   "cell_type": "code",
   "execution_count": 173,
   "outputs": [
    {
     "data": {
      "text/plain": "  Unnamed: 0         메뉴     가격   호수     칼로리  할인율      할인가  원산지\n0          0     황금후라이드  12000  10호  1000.0  0.2   9600.0  국내산\n1          1     승일양념치킨  13000  10호  1400.0  0.2  10400.0  NaN\n8         10  [베스트]풀잎치킨   9900  10호     NaN  NaN      NaN  NaN",
      "text/html": "<div>\n<style scoped>\n    .dataframe tbody tr th:only-of-type {\n        vertical-align: middle;\n    }\n\n    .dataframe tbody tr th {\n        vertical-align: top;\n    }\n\n    .dataframe thead th {\n        text-align: right;\n    }\n</style>\n<table border=\"1\" class=\"dataframe\">\n  <thead>\n    <tr style=\"text-align: right;\">\n      <th></th>\n      <th>Unnamed: 0</th>\n      <th>메뉴</th>\n      <th>가격</th>\n      <th>호수</th>\n      <th>칼로리</th>\n      <th>할인율</th>\n      <th>할인가</th>\n      <th>원산지</th>\n    </tr>\n  </thead>\n  <tbody>\n    <tr>\n      <th>0</th>\n      <td>0</td>\n      <td>황금후라이드</td>\n      <td>12000</td>\n      <td>10호</td>\n      <td>1000.0</td>\n      <td>0.2</td>\n      <td>9600.0</td>\n      <td>국내산</td>\n    </tr>\n    <tr>\n      <th>1</th>\n      <td>1</td>\n      <td>승일양념치킨</td>\n      <td>13000</td>\n      <td>10호</td>\n      <td>1400.0</td>\n      <td>0.2</td>\n      <td>10400.0</td>\n      <td>NaN</td>\n    </tr>\n    <tr>\n      <th>8</th>\n      <td>10</td>\n      <td>[베스트]풀잎치킨</td>\n      <td>9900</td>\n      <td>10호</td>\n      <td>NaN</td>\n      <td>NaN</td>\n      <td>NaN</td>\n      <td>NaN</td>\n    </tr>\n  </tbody>\n</table>\n</div>"
     },
     "execution_count": 173,
     "metadata": {},
     "output_type": "execute_result"
    }
   ],
   "source": [
    "#행삭제(해당인덱스 명)\n",
    "data.drop(data[cond].index, axis=0, inplace=True)\n",
    "data"
   ],
   "metadata": {
    "collapsed": false,
    "ExecuteTime": {
     "end_time": "2023-07-11T06:07:25.999346Z",
     "start_time": "2023-07-11T06:07:25.163113Z"
    }
   }
  },
  {
   "cell_type": "code",
   "execution_count": 174,
   "outputs": [
    {
     "data": {
      "text/plain": "          메뉴     가격   호수     칼로리  할인율      할인가  원산지\n0     황금후라이드  12000  10호  1000.0  0.2   9600.0  국내산\n1     승일양념치킨  13000  10호  1400.0  0.2  10400.0  NaN\n8  [베스트]풀잎치킨   9900  10호     NaN  NaN      NaN  NaN",
      "text/html": "<div>\n<style scoped>\n    .dataframe tbody tr th:only-of-type {\n        vertical-align: middle;\n    }\n\n    .dataframe tbody tr th {\n        vertical-align: top;\n    }\n\n    .dataframe thead th {\n        text-align: right;\n    }\n</style>\n<table border=\"1\" class=\"dataframe\">\n  <thead>\n    <tr style=\"text-align: right;\">\n      <th></th>\n      <th>메뉴</th>\n      <th>가격</th>\n      <th>호수</th>\n      <th>칼로리</th>\n      <th>할인율</th>\n      <th>할인가</th>\n      <th>원산지</th>\n    </tr>\n  </thead>\n  <tbody>\n    <tr>\n      <th>0</th>\n      <td>황금후라이드</td>\n      <td>12000</td>\n      <td>10호</td>\n      <td>1000.0</td>\n      <td>0.2</td>\n      <td>9600.0</td>\n      <td>국내산</td>\n    </tr>\n    <tr>\n      <th>1</th>\n      <td>승일양념치킨</td>\n      <td>13000</td>\n      <td>10호</td>\n      <td>1400.0</td>\n      <td>0.2</td>\n      <td>10400.0</td>\n      <td>NaN</td>\n    </tr>\n    <tr>\n      <th>8</th>\n      <td>[베스트]풀잎치킨</td>\n      <td>9900</td>\n      <td>10호</td>\n      <td>NaN</td>\n      <td>NaN</td>\n      <td>NaN</td>\n      <td>NaN</td>\n    </tr>\n  </tbody>\n</table>\n</div>"
     },
     "execution_count": 174,
     "metadata": {},
     "output_type": "execute_result"
    }
   ],
   "source": [
    "data = data.drop('Unnamed: 0', axis=1)\n",
    "data"
   ],
   "metadata": {
    "collapsed": false,
    "ExecuteTime": {
     "end_time": "2023-07-11T06:07:25.999495Z",
     "start_time": "2023-07-11T06:07:25.174406Z"
    }
   }
  },
  {
   "cell_type": "code",
   "execution_count": 175,
   "outputs": [
    {
     "data": {
      "text/plain": "  Unnamed: 0         메뉴     가격   호수     칼로리  할인율      할인가  원산지\n0          0     황금후라이드  12000  10호  1000.0  0.2   9600.0  국내산\n1          1     승일양념치킨  13000  10호  1400.0  0.2  10400.0  NaN\n2          2       간장치킨  14000   9호  1600.0  0.2  11200.0  NaN\n3          3       마늘치킨  14000   9호  1800.0  0.2  11200.0  NaN\n4          4         파닭  14000  11호  1300.0  0.2  11200.0  브라질\n5          5        닭강정  15000  12호  1500.0  0.2  12000.0  브라질\n6          6   양념반후라이드반  13000  10호  1300.0  0.2  10400.0  NaN\n7        new  [인기]아이펠치킨  16000  11호  1200.0  0.5   8000.0  국내산\n8         10  [베스트]풀잎치킨   9900  10호     NaN  NaN      NaN  NaN",
      "text/html": "<div>\n<style scoped>\n    .dataframe tbody tr th:only-of-type {\n        vertical-align: middle;\n    }\n\n    .dataframe tbody tr th {\n        vertical-align: top;\n    }\n\n    .dataframe thead th {\n        text-align: right;\n    }\n</style>\n<table border=\"1\" class=\"dataframe\">\n  <thead>\n    <tr style=\"text-align: right;\">\n      <th></th>\n      <th>Unnamed: 0</th>\n      <th>메뉴</th>\n      <th>가격</th>\n      <th>호수</th>\n      <th>칼로리</th>\n      <th>할인율</th>\n      <th>할인가</th>\n      <th>원산지</th>\n    </tr>\n  </thead>\n  <tbody>\n    <tr>\n      <th>0</th>\n      <td>0</td>\n      <td>황금후라이드</td>\n      <td>12000</td>\n      <td>10호</td>\n      <td>1000.0</td>\n      <td>0.2</td>\n      <td>9600.0</td>\n      <td>국내산</td>\n    </tr>\n    <tr>\n      <th>1</th>\n      <td>1</td>\n      <td>승일양념치킨</td>\n      <td>13000</td>\n      <td>10호</td>\n      <td>1400.0</td>\n      <td>0.2</td>\n      <td>10400.0</td>\n      <td>NaN</td>\n    </tr>\n    <tr>\n      <th>2</th>\n      <td>2</td>\n      <td>간장치킨</td>\n      <td>14000</td>\n      <td>9호</td>\n      <td>1600.0</td>\n      <td>0.2</td>\n      <td>11200.0</td>\n      <td>NaN</td>\n    </tr>\n    <tr>\n      <th>3</th>\n      <td>3</td>\n      <td>마늘치킨</td>\n      <td>14000</td>\n      <td>9호</td>\n      <td>1800.0</td>\n      <td>0.2</td>\n      <td>11200.0</td>\n      <td>NaN</td>\n    </tr>\n    <tr>\n      <th>4</th>\n      <td>4</td>\n      <td>파닭</td>\n      <td>14000</td>\n      <td>11호</td>\n      <td>1300.0</td>\n      <td>0.2</td>\n      <td>11200.0</td>\n      <td>브라질</td>\n    </tr>\n    <tr>\n      <th>5</th>\n      <td>5</td>\n      <td>닭강정</td>\n      <td>15000</td>\n      <td>12호</td>\n      <td>1500.0</td>\n      <td>0.2</td>\n      <td>12000.0</td>\n      <td>브라질</td>\n    </tr>\n    <tr>\n      <th>6</th>\n      <td>6</td>\n      <td>양념반후라이드반</td>\n      <td>13000</td>\n      <td>10호</td>\n      <td>1300.0</td>\n      <td>0.2</td>\n      <td>10400.0</td>\n      <td>NaN</td>\n    </tr>\n    <tr>\n      <th>7</th>\n      <td>new</td>\n      <td>[인기]아이펠치킨</td>\n      <td>16000</td>\n      <td>11호</td>\n      <td>1200.0</td>\n      <td>0.5</td>\n      <td>8000.0</td>\n      <td>국내산</td>\n    </tr>\n    <tr>\n      <th>8</th>\n      <td>10</td>\n      <td>[베스트]풀잎치킨</td>\n      <td>9900</td>\n      <td>10호</td>\n      <td>NaN</td>\n      <td>NaN</td>\n      <td>NaN</td>\n      <td>NaN</td>\n    </tr>\n  </tbody>\n</table>\n</div>"
     },
     "execution_count": 175,
     "metadata": {},
     "output_type": "execute_result"
    }
   ],
   "source": [
    "#결측치 처리\n",
    "\n",
    "#결측치 삭제\n",
    "\n",
    "#데이터 프레임 복사\n",
    "data = df.copy()\n",
    "data"
   ],
   "metadata": {
    "collapsed": false,
    "ExecuteTime": {
     "end_time": "2023-07-11T06:07:25.999644Z",
     "start_time": "2023-07-11T06:07:25.187215Z"
    }
   }
  },
  {
   "cell_type": "code",
   "execution_count": 176,
   "outputs": [
    {
     "data": {
      "text/plain": "  Unnamed: 0         메뉴     가격   호수     칼로리  할인율      할인가  원산지\n0          0     황금후라이드  12000  10호  1000.0  0.2   9600.0  국내산\n4          4         파닭  14000  11호  1300.0  0.2  11200.0  브라질\n5          5        닭강정  15000  12호  1500.0  0.2  12000.0  브라질\n7        new  [인기]아이펠치킨  16000  11호  1200.0  0.5   8000.0  국내산",
      "text/html": "<div>\n<style scoped>\n    .dataframe tbody tr th:only-of-type {\n        vertical-align: middle;\n    }\n\n    .dataframe tbody tr th {\n        vertical-align: top;\n    }\n\n    .dataframe thead th {\n        text-align: right;\n    }\n</style>\n<table border=\"1\" class=\"dataframe\">\n  <thead>\n    <tr style=\"text-align: right;\">\n      <th></th>\n      <th>Unnamed: 0</th>\n      <th>메뉴</th>\n      <th>가격</th>\n      <th>호수</th>\n      <th>칼로리</th>\n      <th>할인율</th>\n      <th>할인가</th>\n      <th>원산지</th>\n    </tr>\n  </thead>\n  <tbody>\n    <tr>\n      <th>0</th>\n      <td>0</td>\n      <td>황금후라이드</td>\n      <td>12000</td>\n      <td>10호</td>\n      <td>1000.0</td>\n      <td>0.2</td>\n      <td>9600.0</td>\n      <td>국내산</td>\n    </tr>\n    <tr>\n      <th>4</th>\n      <td>4</td>\n      <td>파닭</td>\n      <td>14000</td>\n      <td>11호</td>\n      <td>1300.0</td>\n      <td>0.2</td>\n      <td>11200.0</td>\n      <td>브라질</td>\n    </tr>\n    <tr>\n      <th>5</th>\n      <td>5</td>\n      <td>닭강정</td>\n      <td>15000</td>\n      <td>12호</td>\n      <td>1500.0</td>\n      <td>0.2</td>\n      <td>12000.0</td>\n      <td>브라질</td>\n    </tr>\n    <tr>\n      <th>7</th>\n      <td>new</td>\n      <td>[인기]아이펠치킨</td>\n      <td>16000</td>\n      <td>11호</td>\n      <td>1200.0</td>\n      <td>0.5</td>\n      <td>8000.0</td>\n      <td>국내산</td>\n    </tr>\n  </tbody>\n</table>\n</div>"
     },
     "execution_count": 176,
     "metadata": {},
     "output_type": "execute_result"
    }
   ],
   "source": [
    "#결측치가 있는 모든 행 삭제\n",
    "data.dropna(axis=0)"
   ],
   "metadata": {
    "collapsed": false,
    "ExecuteTime": {
     "end_time": "2023-07-11T06:07:25.999784Z",
     "start_time": "2023-07-11T06:07:25.199694Z"
    }
   }
  },
  {
   "cell_type": "code",
   "execution_count": 177,
   "outputs": [
    {
     "data": {
      "text/plain": "  Unnamed: 0         메뉴     가격   호수\n0          0     황금후라이드  12000  10호\n1          1     승일양념치킨  13000  10호\n2          2       간장치킨  14000   9호\n3          3       마늘치킨  14000   9호\n4          4         파닭  14000  11호\n5          5        닭강정  15000  12호\n6          6   양념반후라이드반  13000  10호\n7        new  [인기]아이펠치킨  16000  11호\n8         10  [베스트]풀잎치킨   9900  10호",
      "text/html": "<div>\n<style scoped>\n    .dataframe tbody tr th:only-of-type {\n        vertical-align: middle;\n    }\n\n    .dataframe tbody tr th {\n        vertical-align: top;\n    }\n\n    .dataframe thead th {\n        text-align: right;\n    }\n</style>\n<table border=\"1\" class=\"dataframe\">\n  <thead>\n    <tr style=\"text-align: right;\">\n      <th></th>\n      <th>Unnamed: 0</th>\n      <th>메뉴</th>\n      <th>가격</th>\n      <th>호수</th>\n    </tr>\n  </thead>\n  <tbody>\n    <tr>\n      <th>0</th>\n      <td>0</td>\n      <td>황금후라이드</td>\n      <td>12000</td>\n      <td>10호</td>\n    </tr>\n    <tr>\n      <th>1</th>\n      <td>1</td>\n      <td>승일양념치킨</td>\n      <td>13000</td>\n      <td>10호</td>\n    </tr>\n    <tr>\n      <th>2</th>\n      <td>2</td>\n      <td>간장치킨</td>\n      <td>14000</td>\n      <td>9호</td>\n    </tr>\n    <tr>\n      <th>3</th>\n      <td>3</td>\n      <td>마늘치킨</td>\n      <td>14000</td>\n      <td>9호</td>\n    </tr>\n    <tr>\n      <th>4</th>\n      <td>4</td>\n      <td>파닭</td>\n      <td>14000</td>\n      <td>11호</td>\n    </tr>\n    <tr>\n      <th>5</th>\n      <td>5</td>\n      <td>닭강정</td>\n      <td>15000</td>\n      <td>12호</td>\n    </tr>\n    <tr>\n      <th>6</th>\n      <td>6</td>\n      <td>양념반후라이드반</td>\n      <td>13000</td>\n      <td>10호</td>\n    </tr>\n    <tr>\n      <th>7</th>\n      <td>new</td>\n      <td>[인기]아이펠치킨</td>\n      <td>16000</td>\n      <td>11호</td>\n    </tr>\n    <tr>\n      <th>8</th>\n      <td>10</td>\n      <td>[베스트]풀잎치킨</td>\n      <td>9900</td>\n      <td>10호</td>\n    </tr>\n  </tbody>\n</table>\n</div>"
     },
     "execution_count": 177,
     "metadata": {},
     "output_type": "execute_result"
    }
   ],
   "source": [
    "#결측치가 있는 모든 열 삭제\n",
    "data.dropna(axis=1)"
   ],
   "metadata": {
    "collapsed": false,
    "ExecuteTime": {
     "end_time": "2023-07-11T06:07:25.999922Z",
     "start_time": "2023-07-11T06:07:25.209337Z"
    }
   }
  },
  {
   "cell_type": "code",
   "execution_count": 178,
   "outputs": [
    {
     "data": {
      "text/plain": "          메뉴     가격   호수     칼로리  할인율      할인가  원산지\n0     황금후라이드  12000  10호  1000.0  0.2   9600.0  국내산\n1     승일양념치킨  13000  10호  1400.0  0.2  10400.0  NaN\n2       간장치킨  14000   9호  1600.0  0.2  11200.0  NaN\n3       마늘치킨  14000   9호  1800.0  0.2  11200.0  NaN\n4         파닭  14000  11호  1300.0  0.2  11200.0  브라질\n5        닭강정  15000  12호  1500.0  0.2  12000.0  브라질\n6   양념반후라이드반  13000  10호  1300.0  0.2  10400.0  NaN\n7  [인기]아이펠치킨  16000  11호  1200.0  0.5   8000.0  국내산\n8  [베스트]풀잎치킨   9900  10호     NaN  NaN      NaN  NaN",
      "text/html": "<div>\n<style scoped>\n    .dataframe tbody tr th:only-of-type {\n        vertical-align: middle;\n    }\n\n    .dataframe tbody tr th {\n        vertical-align: top;\n    }\n\n    .dataframe thead th {\n        text-align: right;\n    }\n</style>\n<table border=\"1\" class=\"dataframe\">\n  <thead>\n    <tr style=\"text-align: right;\">\n      <th></th>\n      <th>메뉴</th>\n      <th>가격</th>\n      <th>호수</th>\n      <th>칼로리</th>\n      <th>할인율</th>\n      <th>할인가</th>\n      <th>원산지</th>\n    </tr>\n  </thead>\n  <tbody>\n    <tr>\n      <th>0</th>\n      <td>황금후라이드</td>\n      <td>12000</td>\n      <td>10호</td>\n      <td>1000.0</td>\n      <td>0.2</td>\n      <td>9600.0</td>\n      <td>국내산</td>\n    </tr>\n    <tr>\n      <th>1</th>\n      <td>승일양념치킨</td>\n      <td>13000</td>\n      <td>10호</td>\n      <td>1400.0</td>\n      <td>0.2</td>\n      <td>10400.0</td>\n      <td>NaN</td>\n    </tr>\n    <tr>\n      <th>2</th>\n      <td>간장치킨</td>\n      <td>14000</td>\n      <td>9호</td>\n      <td>1600.0</td>\n      <td>0.2</td>\n      <td>11200.0</td>\n      <td>NaN</td>\n    </tr>\n    <tr>\n      <th>3</th>\n      <td>마늘치킨</td>\n      <td>14000</td>\n      <td>9호</td>\n      <td>1800.0</td>\n      <td>0.2</td>\n      <td>11200.0</td>\n      <td>NaN</td>\n    </tr>\n    <tr>\n      <th>4</th>\n      <td>파닭</td>\n      <td>14000</td>\n      <td>11호</td>\n      <td>1300.0</td>\n      <td>0.2</td>\n      <td>11200.0</td>\n      <td>브라질</td>\n    </tr>\n    <tr>\n      <th>5</th>\n      <td>닭강정</td>\n      <td>15000</td>\n      <td>12호</td>\n      <td>1500.0</td>\n      <td>0.2</td>\n      <td>12000.0</td>\n      <td>브라질</td>\n    </tr>\n    <tr>\n      <th>6</th>\n      <td>양념반후라이드반</td>\n      <td>13000</td>\n      <td>10호</td>\n      <td>1300.0</td>\n      <td>0.2</td>\n      <td>10400.0</td>\n      <td>NaN</td>\n    </tr>\n    <tr>\n      <th>7</th>\n      <td>[인기]아이펠치킨</td>\n      <td>16000</td>\n      <td>11호</td>\n      <td>1200.0</td>\n      <td>0.5</td>\n      <td>8000.0</td>\n      <td>국내산</td>\n    </tr>\n    <tr>\n      <th>8</th>\n      <td>[베스트]풀잎치킨</td>\n      <td>9900</td>\n      <td>10호</td>\n      <td>NaN</td>\n      <td>NaN</td>\n      <td>NaN</td>\n      <td>NaN</td>\n    </tr>\n  </tbody>\n</table>\n</div>"
     },
     "execution_count": 178,
     "metadata": {},
     "output_type": "execute_result"
    }
   ],
   "source": [
    "df = pd.DataFrame({\n",
    "    'Unnamed: 0': [0,1,2,3,4,5,6,'new',10],\n",
    "    '메뉴': ['황금후라이드','승일양념치킨','간장치킨','마늘치킨','파닭','닭강정','양념반후라이드반','[인기]아이펠치킨','[베스트]풀잎치킨'],\n",
    "    '가격': [12000,13000,14000,14000,14000,15000,13000,16000,9900],\n",
    "    '호수' : ['10호','10호','9호','9호','11호','12호','10호','11호','10호'],\n",
    "    '칼로리' : [1000.0,1400.0,1600.0,1800.0,1300.0,1500.0,1300.0,1200.0,np.nan],\n",
    "    '할인율' : [0.2,0.2,0.2,0.2,0.2,0.2,0.2,0.5,np.nan],\n",
    "    '할인가' : [9600.0,10400.0,11200.0,11200.0,11200.0,12000.0,10400.0,8000.0,np.nan],\n",
    "    '원산지' : ['국내산',np.nan,np.nan,np.nan,'브라질','브라질',np.nan,'국내산',np.nan]\n",
    "})\n",
    "df.to_csv('new_modudak.csv', index=False)\n",
    "df.drop('Unnamed: 0', axis=1, inplace=True)\n",
    "df"
   ],
   "metadata": {
    "collapsed": false,
    "ExecuteTime": {
     "end_time": "2023-07-11T06:07:26.000058Z",
     "start_time": "2023-07-11T06:07:25.211954Z"
    }
   }
  },
  {
   "cell_type": "code",
   "execution_count": 179,
   "outputs": [
    {
     "data": {
      "text/plain": "메뉴     0\n가격     0\n호수     0\n칼로리    1\n할인율    1\n할인가    1\n원산지    5\ndtype: int64"
     },
     "execution_count": 179,
     "metadata": {},
     "output_type": "execute_result"
    }
   ],
   "source": [
    "#결측치 채우기\n",
    "\n",
    "#컴럼별 결측치 확인\n",
    "df.isnull().sum()\n"
   ],
   "metadata": {
    "collapsed": false,
    "ExecuteTime": {
     "end_time": "2023-07-11T06:07:26.000227Z",
     "start_time": "2023-07-11T06:07:25.228003Z"
    }
   }
  },
  {
   "cell_type": "code",
   "execution_count": 180,
   "outputs": [
    {
     "data": {
      "text/plain": "0     국내산\n1    알수없음\n2    알수없음\n3    알수없음\n4     브라질\n5     브라질\n6    알수없음\n7     국내산\n8    알수없음\nName: 원산지, dtype: object"
     },
     "execution_count": 180,
     "metadata": {},
     "output_type": "execute_result"
    }
   ],
   "source": [
    "#결측값 채우기\n",
    "# '원산지'->'알수없음'으로 채우기\n",
    "df['원산지'].fillna('알수없음')"
   ],
   "metadata": {
    "collapsed": false,
    "ExecuteTime": {
     "end_time": "2023-07-11T06:07:26.000377Z",
     "start_time": "2023-07-11T06:07:25.235649Z"
    }
   }
  },
  {
   "cell_type": "code",
   "execution_count": 181,
   "outputs": [
    {
     "data": {
      "text/plain": "0    국내산\n1    국내산\n2    국내산\n3    국내산\n4    브라질\n5    브라질\n6    국내산\n7    국내산\n8    국내산\nName: 원산지, dtype: object"
     },
     "execution_count": 181,
     "metadata": {},
     "output_type": "execute_result"
    }
   ],
   "source": [
    "# '원산지' 최반값으로 채우기\n",
    "df['원산지'].fillna('국내산') # 국내산이 최빈값이므로 국내산으로 눈으로 세서 채웠고 나중에 내장함수 이용해서 다시 스터디 예정"
   ],
   "metadata": {
    "collapsed": false,
    "ExecuteTime": {
     "end_time": "2023-07-11T06:07:26.000523Z",
     "start_time": "2023-07-11T06:07:25.241390Z"
    }
   }
  },
  {
   "cell_type": "code",
   "execution_count": 182,
   "outputs": [
    {
     "data": {
      "text/plain": "          메뉴     가격   호수     칼로리  할인율      할인가  원산지\n0     황금후라이드  12000  10호  1000.0  0.2   9600.0  국내산\n1     승일양념치킨  13000  10호  1400.0  0.2  10400.0  국내산\n2       간장치킨  14000   9호  1600.0  0.2  11200.0  국내산\n3       마늘치킨  14000   9호  1800.0  0.2  11200.0  국내산\n4         파닭  14000  11호  1300.0  0.2  11200.0  브라질\n5        닭강정  15000  12호  1500.0  0.2  12000.0  브라질\n6   양념반후라이드반  13000  10호  1300.0  0.2  10400.0  국내산\n7  [인기]아이펠치킨  16000  11호  1200.0  0.5   8000.0  국내산\n8  [베스트]풀잎치킨   9900  10호     NaN  NaN      NaN  국내산",
      "text/html": "<div>\n<style scoped>\n    .dataframe tbody tr th:only-of-type {\n        vertical-align: middle;\n    }\n\n    .dataframe tbody tr th {\n        vertical-align: top;\n    }\n\n    .dataframe thead th {\n        text-align: right;\n    }\n</style>\n<table border=\"1\" class=\"dataframe\">\n  <thead>\n    <tr style=\"text-align: right;\">\n      <th></th>\n      <th>메뉴</th>\n      <th>가격</th>\n      <th>호수</th>\n      <th>칼로리</th>\n      <th>할인율</th>\n      <th>할인가</th>\n      <th>원산지</th>\n    </tr>\n  </thead>\n  <tbody>\n    <tr>\n      <th>0</th>\n      <td>황금후라이드</td>\n      <td>12000</td>\n      <td>10호</td>\n      <td>1000.0</td>\n      <td>0.2</td>\n      <td>9600.0</td>\n      <td>국내산</td>\n    </tr>\n    <tr>\n      <th>1</th>\n      <td>승일양념치킨</td>\n      <td>13000</td>\n      <td>10호</td>\n      <td>1400.0</td>\n      <td>0.2</td>\n      <td>10400.0</td>\n      <td>국내산</td>\n    </tr>\n    <tr>\n      <th>2</th>\n      <td>간장치킨</td>\n      <td>14000</td>\n      <td>9호</td>\n      <td>1600.0</td>\n      <td>0.2</td>\n      <td>11200.0</td>\n      <td>국내산</td>\n    </tr>\n    <tr>\n      <th>3</th>\n      <td>마늘치킨</td>\n      <td>14000</td>\n      <td>9호</td>\n      <td>1800.0</td>\n      <td>0.2</td>\n      <td>11200.0</td>\n      <td>국내산</td>\n    </tr>\n    <tr>\n      <th>4</th>\n      <td>파닭</td>\n      <td>14000</td>\n      <td>11호</td>\n      <td>1300.0</td>\n      <td>0.2</td>\n      <td>11200.0</td>\n      <td>브라질</td>\n    </tr>\n    <tr>\n      <th>5</th>\n      <td>닭강정</td>\n      <td>15000</td>\n      <td>12호</td>\n      <td>1500.0</td>\n      <td>0.2</td>\n      <td>12000.0</td>\n      <td>브라질</td>\n    </tr>\n    <tr>\n      <th>6</th>\n      <td>양념반후라이드반</td>\n      <td>13000</td>\n      <td>10호</td>\n      <td>1300.0</td>\n      <td>0.2</td>\n      <td>10400.0</td>\n      <td>국내산</td>\n    </tr>\n    <tr>\n      <th>7</th>\n      <td>[인기]아이펠치킨</td>\n      <td>16000</td>\n      <td>11호</td>\n      <td>1200.0</td>\n      <td>0.5</td>\n      <td>8000.0</td>\n      <td>국내산</td>\n    </tr>\n    <tr>\n      <th>8</th>\n      <td>[베스트]풀잎치킨</td>\n      <td>9900</td>\n      <td>10호</td>\n      <td>NaN</td>\n      <td>NaN</td>\n      <td>NaN</td>\n      <td>국내산</td>\n    </tr>\n  </tbody>\n</table>\n</div>"
     },
     "execution_count": 182,
     "metadata": {},
     "output_type": "execute_result"
    }
   ],
   "source": [
    "# '원산지' 채우기 실행\n",
    "df['원산지'] = df['원산지'].fillna('국내산')\n",
    "df"
   ],
   "metadata": {
    "collapsed": false,
    "ExecuteTime": {
     "end_time": "2023-07-11T06:07:26.000679Z",
     "start_time": "2023-07-11T06:07:25.244032Z"
    }
   }
  },
  {
   "cell_type": "code",
   "execution_count": 183,
   "outputs": [
    {
     "data": {
      "text/plain": "0    1000.0\n1    1400.0\n2    1600.0\n3    1800.0\n4    1300.0\n5    1500.0\n6    1300.0\n7    1200.0\n8     900.0\nName: 칼로리, dtype: float64"
     },
     "execution_count": 183,
     "metadata": {},
     "output_type": "execute_result"
    }
   ],
   "source": [
    "#'칼로리' 컬럼 결측치는 900으로 결측치 채우기\n",
    "df['칼로리'].fillna(900)"
   ],
   "metadata": {
    "collapsed": false,
    "ExecuteTime": {
     "end_time": "2023-07-11T06:07:26.000823Z",
     "start_time": "2023-07-11T06:07:25.255770Z"
    }
   }
  },
  {
   "cell_type": "code",
   "execution_count": 184,
   "outputs": [
    {
     "data": {
      "text/plain": "0    1000.0\n1    1400.0\n2    1600.0\n3    1800.0\n4    1300.0\n5    1500.0\n6    1300.0\n7    1200.0\n8    1000.0\nName: 칼로리, dtype: float64"
     },
     "execution_count": 184,
     "metadata": {},
     "output_type": "execute_result"
    }
   ],
   "source": [
    "# '칼로리' 컬럼 결측치는 최소값 결측치 채움\n",
    "df['칼로리'].fillna(df['칼로리'].min())"
   ],
   "metadata": {
    "collapsed": false,
    "ExecuteTime": {
     "end_time": "2023-07-11T06:07:26.001043Z",
     "start_time": "2023-07-11T06:07:25.258280Z"
    }
   }
  },
  {
   "cell_type": "code",
   "execution_count": 185,
   "outputs": [
    {
     "data": {
      "text/plain": "          메뉴     가격   호수     칼로리  할인율      할인가  원산지\n0     황금후라이드  12000  10호  1000.0  0.2   9600.0  국내산\n1     승일양념치킨  13000  10호  1400.0  0.2  10400.0  국내산\n2       간장치킨  14000   9호  1600.0  0.2  11200.0  국내산\n3       마늘치킨  14000   9호  1800.0  0.2  11200.0  국내산\n4         파닭  14000  11호  1300.0  0.2  11200.0  브라질\n5        닭강정  15000  12호  1500.0  0.2  12000.0  브라질\n6   양념반후라이드반  13000  10호  1300.0  0.2  10400.0  국내산\n7  [인기]아이펠치킨  16000  11호  1200.0  0.5   8000.0  국내산\n8  [베스트]풀잎치킨   9900  10호  1000.0  NaN      NaN  국내산",
      "text/html": "<div>\n<style scoped>\n    .dataframe tbody tr th:only-of-type {\n        vertical-align: middle;\n    }\n\n    .dataframe tbody tr th {\n        vertical-align: top;\n    }\n\n    .dataframe thead th {\n        text-align: right;\n    }\n</style>\n<table border=\"1\" class=\"dataframe\">\n  <thead>\n    <tr style=\"text-align: right;\">\n      <th></th>\n      <th>메뉴</th>\n      <th>가격</th>\n      <th>호수</th>\n      <th>칼로리</th>\n      <th>할인율</th>\n      <th>할인가</th>\n      <th>원산지</th>\n    </tr>\n  </thead>\n  <tbody>\n    <tr>\n      <th>0</th>\n      <td>황금후라이드</td>\n      <td>12000</td>\n      <td>10호</td>\n      <td>1000.0</td>\n      <td>0.2</td>\n      <td>9600.0</td>\n      <td>국내산</td>\n    </tr>\n    <tr>\n      <th>1</th>\n      <td>승일양념치킨</td>\n      <td>13000</td>\n      <td>10호</td>\n      <td>1400.0</td>\n      <td>0.2</td>\n      <td>10400.0</td>\n      <td>국내산</td>\n    </tr>\n    <tr>\n      <th>2</th>\n      <td>간장치킨</td>\n      <td>14000</td>\n      <td>9호</td>\n      <td>1600.0</td>\n      <td>0.2</td>\n      <td>11200.0</td>\n      <td>국내산</td>\n    </tr>\n    <tr>\n      <th>3</th>\n      <td>마늘치킨</td>\n      <td>14000</td>\n      <td>9호</td>\n      <td>1800.0</td>\n      <td>0.2</td>\n      <td>11200.0</td>\n      <td>국내산</td>\n    </tr>\n    <tr>\n      <th>4</th>\n      <td>파닭</td>\n      <td>14000</td>\n      <td>11호</td>\n      <td>1300.0</td>\n      <td>0.2</td>\n      <td>11200.0</td>\n      <td>브라질</td>\n    </tr>\n    <tr>\n      <th>5</th>\n      <td>닭강정</td>\n      <td>15000</td>\n      <td>12호</td>\n      <td>1500.0</td>\n      <td>0.2</td>\n      <td>12000.0</td>\n      <td>브라질</td>\n    </tr>\n    <tr>\n      <th>6</th>\n      <td>양념반후라이드반</td>\n      <td>13000</td>\n      <td>10호</td>\n      <td>1300.0</td>\n      <td>0.2</td>\n      <td>10400.0</td>\n      <td>국내산</td>\n    </tr>\n    <tr>\n      <th>7</th>\n      <td>[인기]아이펠치킨</td>\n      <td>16000</td>\n      <td>11호</td>\n      <td>1200.0</td>\n      <td>0.5</td>\n      <td>8000.0</td>\n      <td>국내산</td>\n    </tr>\n    <tr>\n      <th>8</th>\n      <td>[베스트]풀잎치킨</td>\n      <td>9900</td>\n      <td>10호</td>\n      <td>1000.0</td>\n      <td>NaN</td>\n      <td>NaN</td>\n      <td>국내산</td>\n    </tr>\n  </tbody>\n</table>\n</div>"
     },
     "execution_count": 185,
     "metadata": {},
     "output_type": "execute_result"
    }
   ],
   "source": [
    "#칼로리 채우기 실행\n",
    "# 반드시 df['칼로리'] = <- 이렇게 해야 적용됨\n",
    "df['칼로리'] = df['칼로리'].fillna(df['칼로리'].min())\n",
    "df"
   ],
   "metadata": {
    "collapsed": false,
    "ExecuteTime": {
     "end_time": "2023-07-11T06:07:26.001244Z",
     "start_time": "2023-07-11T06:07:25.271691Z"
    }
   }
  },
  {
   "cell_type": "code",
   "execution_count": 186,
   "outputs": [
    {
     "data": {
      "text/plain": "          메뉴     가격   호수     칼로리  할인율      할인가  원산지\n0     황금후라이드  12000  10호  1000.0  0.2   9600.0  국내산\n1     승일양념치킨  13000  10호  1400.0  0.2  10400.0  국내산\n2       간장치킨  14000   9호  1600.0  0.2  11200.0  국내산\n3       마늘치킨  14000   9호  1800.0  0.2  11200.0  국내산\n4         파닭  14000  11호  1300.0  0.2  11200.0  브라질\n5        닭강정  15000  12호  1500.0  0.2  12000.0  브라질\n6   양념반후라이드반  13000  10호  1300.0  0.2  10400.0  국내산\n7  [인기]아이펠치킨  16000  11호  1200.0  0.5   8000.0  국내산\n8  [베스트]풀잎치킨   9900  10호  1000.0  NaN      NaN  국내산",
      "text/html": "<div>\n<style scoped>\n    .dataframe tbody tr th:only-of-type {\n        vertical-align: middle;\n    }\n\n    .dataframe tbody tr th {\n        vertical-align: top;\n    }\n\n    .dataframe thead th {\n        text-align: right;\n    }\n</style>\n<table border=\"1\" class=\"dataframe\">\n  <thead>\n    <tr style=\"text-align: right;\">\n      <th></th>\n      <th>메뉴</th>\n      <th>가격</th>\n      <th>호수</th>\n      <th>칼로리</th>\n      <th>할인율</th>\n      <th>할인가</th>\n      <th>원산지</th>\n    </tr>\n  </thead>\n  <tbody>\n    <tr>\n      <th>0</th>\n      <td>황금후라이드</td>\n      <td>12000</td>\n      <td>10호</td>\n      <td>1000.0</td>\n      <td>0.2</td>\n      <td>9600.0</td>\n      <td>국내산</td>\n    </tr>\n    <tr>\n      <th>1</th>\n      <td>승일양념치킨</td>\n      <td>13000</td>\n      <td>10호</td>\n      <td>1400.0</td>\n      <td>0.2</td>\n      <td>10400.0</td>\n      <td>국내산</td>\n    </tr>\n    <tr>\n      <th>2</th>\n      <td>간장치킨</td>\n      <td>14000</td>\n      <td>9호</td>\n      <td>1600.0</td>\n      <td>0.2</td>\n      <td>11200.0</td>\n      <td>국내산</td>\n    </tr>\n    <tr>\n      <th>3</th>\n      <td>마늘치킨</td>\n      <td>14000</td>\n      <td>9호</td>\n      <td>1800.0</td>\n      <td>0.2</td>\n      <td>11200.0</td>\n      <td>국내산</td>\n    </tr>\n    <tr>\n      <th>4</th>\n      <td>파닭</td>\n      <td>14000</td>\n      <td>11호</td>\n      <td>1300.0</td>\n      <td>0.2</td>\n      <td>11200.0</td>\n      <td>브라질</td>\n    </tr>\n    <tr>\n      <th>5</th>\n      <td>닭강정</td>\n      <td>15000</td>\n      <td>12호</td>\n      <td>1500.0</td>\n      <td>0.2</td>\n      <td>12000.0</td>\n      <td>브라질</td>\n    </tr>\n    <tr>\n      <th>6</th>\n      <td>양념반후라이드반</td>\n      <td>13000</td>\n      <td>10호</td>\n      <td>1300.0</td>\n      <td>0.2</td>\n      <td>10400.0</td>\n      <td>국내산</td>\n    </tr>\n    <tr>\n      <th>7</th>\n      <td>[인기]아이펠치킨</td>\n      <td>16000</td>\n      <td>11호</td>\n      <td>1200.0</td>\n      <td>0.5</td>\n      <td>8000.0</td>\n      <td>국내산</td>\n    </tr>\n    <tr>\n      <th>8</th>\n      <td>[베스트]풀잎치킨</td>\n      <td>9900</td>\n      <td>10호</td>\n      <td>1000.0</td>\n      <td>NaN</td>\n      <td>NaN</td>\n      <td>국내산</td>\n    </tr>\n  </tbody>\n</table>\n</div>"
     },
     "execution_count": 186,
     "metadata": {},
     "output_type": "execute_result"
    }
   ],
   "source": [
    "#정렬\n",
    "\n",
    "# 데이터 확인\n",
    "df"
   ],
   "metadata": {
    "collapsed": false,
    "ExecuteTime": {
     "end_time": "2023-07-11T06:07:26.001406Z",
     "start_time": "2023-07-11T06:07:25.275427Z"
    }
   }
  },
  {
   "cell_type": "code",
   "execution_count": 187,
   "outputs": [
    {
     "data": {
      "text/plain": "          메뉴     가격   호수     칼로리  할인율      할인가  원산지\n8  [베스트]풀잎치킨   9900  10호  1000.0  NaN      NaN  국내산\n7  [인기]아이펠치킨  16000  11호  1200.0  0.5   8000.0  국내산\n6   양념반후라이드반  13000  10호  1300.0  0.2  10400.0  국내산\n5        닭강정  15000  12호  1500.0  0.2  12000.0  브라질\n4         파닭  14000  11호  1300.0  0.2  11200.0  브라질\n3       마늘치킨  14000   9호  1800.0  0.2  11200.0  국내산\n2       간장치킨  14000   9호  1600.0  0.2  11200.0  국내산\n1     승일양념치킨  13000  10호  1400.0  0.2  10400.0  국내산\n0     황금후라이드  12000  10호  1000.0  0.2   9600.0  국내산",
      "text/html": "<div>\n<style scoped>\n    .dataframe tbody tr th:only-of-type {\n        vertical-align: middle;\n    }\n\n    .dataframe tbody tr th {\n        vertical-align: top;\n    }\n\n    .dataframe thead th {\n        text-align: right;\n    }\n</style>\n<table border=\"1\" class=\"dataframe\">\n  <thead>\n    <tr style=\"text-align: right;\">\n      <th></th>\n      <th>메뉴</th>\n      <th>가격</th>\n      <th>호수</th>\n      <th>칼로리</th>\n      <th>할인율</th>\n      <th>할인가</th>\n      <th>원산지</th>\n    </tr>\n  </thead>\n  <tbody>\n    <tr>\n      <th>8</th>\n      <td>[베스트]풀잎치킨</td>\n      <td>9900</td>\n      <td>10호</td>\n      <td>1000.0</td>\n      <td>NaN</td>\n      <td>NaN</td>\n      <td>국내산</td>\n    </tr>\n    <tr>\n      <th>7</th>\n      <td>[인기]아이펠치킨</td>\n      <td>16000</td>\n      <td>11호</td>\n      <td>1200.0</td>\n      <td>0.5</td>\n      <td>8000.0</td>\n      <td>국내산</td>\n    </tr>\n    <tr>\n      <th>6</th>\n      <td>양념반후라이드반</td>\n      <td>13000</td>\n      <td>10호</td>\n      <td>1300.0</td>\n      <td>0.2</td>\n      <td>10400.0</td>\n      <td>국내산</td>\n    </tr>\n    <tr>\n      <th>5</th>\n      <td>닭강정</td>\n      <td>15000</td>\n      <td>12호</td>\n      <td>1500.0</td>\n      <td>0.2</td>\n      <td>12000.0</td>\n      <td>브라질</td>\n    </tr>\n    <tr>\n      <th>4</th>\n      <td>파닭</td>\n      <td>14000</td>\n      <td>11호</td>\n      <td>1300.0</td>\n      <td>0.2</td>\n      <td>11200.0</td>\n      <td>브라질</td>\n    </tr>\n    <tr>\n      <th>3</th>\n      <td>마늘치킨</td>\n      <td>14000</td>\n      <td>9호</td>\n      <td>1800.0</td>\n      <td>0.2</td>\n      <td>11200.0</td>\n      <td>국내산</td>\n    </tr>\n    <tr>\n      <th>2</th>\n      <td>간장치킨</td>\n      <td>14000</td>\n      <td>9호</td>\n      <td>1600.0</td>\n      <td>0.2</td>\n      <td>11200.0</td>\n      <td>국내산</td>\n    </tr>\n    <tr>\n      <th>1</th>\n      <td>승일양념치킨</td>\n      <td>13000</td>\n      <td>10호</td>\n      <td>1400.0</td>\n      <td>0.2</td>\n      <td>10400.0</td>\n      <td>국내산</td>\n    </tr>\n    <tr>\n      <th>0</th>\n      <td>황금후라이드</td>\n      <td>12000</td>\n      <td>10호</td>\n      <td>1000.0</td>\n      <td>0.2</td>\n      <td>9600.0</td>\n      <td>국내산</td>\n    </tr>\n  </tbody>\n</table>\n</div>"
     },
     "execution_count": 187,
     "metadata": {},
     "output_type": "execute_result"
    }
   ],
   "source": [
    "#인덱스 기준(기본값 ascending=True) # 오름차순\n",
    "df.sort_index(ascending=False) # 내림차순"
   ],
   "metadata": {
    "collapsed": false,
    "ExecuteTime": {
     "end_time": "2023-07-11T06:07:26.001557Z",
     "start_time": "2023-07-11T06:07:25.284783Z"
    }
   }
  },
  {
   "cell_type": "code",
   "execution_count": 188,
   "outputs": [
    {
     "data": {
      "text/plain": "          메뉴     가격   호수     칼로리  할인율      할인가  원산지\n7  [인기]아이펠치킨  16000  11호  1200.0  0.5   8000.0  국내산\n5        닭강정  15000  12호  1500.0  0.2  12000.0  브라질\n2       간장치킨  14000   9호  1600.0  0.2  11200.0  국내산\n3       마늘치킨  14000   9호  1800.0  0.2  11200.0  국내산\n4         파닭  14000  11호  1300.0  0.2  11200.0  브라질\n1     승일양념치킨  13000  10호  1400.0  0.2  10400.0  국내산\n6   양념반후라이드반  13000  10호  1300.0  0.2  10400.0  국내산\n0     황금후라이드  12000  10호  1000.0  0.2   9600.0  국내산\n8  [베스트]풀잎치킨   9900  10호  1000.0  NaN      NaN  국내산",
      "text/html": "<div>\n<style scoped>\n    .dataframe tbody tr th:only-of-type {\n        vertical-align: middle;\n    }\n\n    .dataframe tbody tr th {\n        vertical-align: top;\n    }\n\n    .dataframe thead th {\n        text-align: right;\n    }\n</style>\n<table border=\"1\" class=\"dataframe\">\n  <thead>\n    <tr style=\"text-align: right;\">\n      <th></th>\n      <th>메뉴</th>\n      <th>가격</th>\n      <th>호수</th>\n      <th>칼로리</th>\n      <th>할인율</th>\n      <th>할인가</th>\n      <th>원산지</th>\n    </tr>\n  </thead>\n  <tbody>\n    <tr>\n      <th>7</th>\n      <td>[인기]아이펠치킨</td>\n      <td>16000</td>\n      <td>11호</td>\n      <td>1200.0</td>\n      <td>0.5</td>\n      <td>8000.0</td>\n      <td>국내산</td>\n    </tr>\n    <tr>\n      <th>5</th>\n      <td>닭강정</td>\n      <td>15000</td>\n      <td>12호</td>\n      <td>1500.0</td>\n      <td>0.2</td>\n      <td>12000.0</td>\n      <td>브라질</td>\n    </tr>\n    <tr>\n      <th>2</th>\n      <td>간장치킨</td>\n      <td>14000</td>\n      <td>9호</td>\n      <td>1600.0</td>\n      <td>0.2</td>\n      <td>11200.0</td>\n      <td>국내산</td>\n    </tr>\n    <tr>\n      <th>3</th>\n      <td>마늘치킨</td>\n      <td>14000</td>\n      <td>9호</td>\n      <td>1800.0</td>\n      <td>0.2</td>\n      <td>11200.0</td>\n      <td>국내산</td>\n    </tr>\n    <tr>\n      <th>4</th>\n      <td>파닭</td>\n      <td>14000</td>\n      <td>11호</td>\n      <td>1300.0</td>\n      <td>0.2</td>\n      <td>11200.0</td>\n      <td>브라질</td>\n    </tr>\n    <tr>\n      <th>1</th>\n      <td>승일양념치킨</td>\n      <td>13000</td>\n      <td>10호</td>\n      <td>1400.0</td>\n      <td>0.2</td>\n      <td>10400.0</td>\n      <td>국내산</td>\n    </tr>\n    <tr>\n      <th>6</th>\n      <td>양념반후라이드반</td>\n      <td>13000</td>\n      <td>10호</td>\n      <td>1300.0</td>\n      <td>0.2</td>\n      <td>10400.0</td>\n      <td>국내산</td>\n    </tr>\n    <tr>\n      <th>0</th>\n      <td>황금후라이드</td>\n      <td>12000</td>\n      <td>10호</td>\n      <td>1000.0</td>\n      <td>0.2</td>\n      <td>9600.0</td>\n      <td>국내산</td>\n    </tr>\n    <tr>\n      <th>8</th>\n      <td>[베스트]풀잎치킨</td>\n      <td>9900</td>\n      <td>10호</td>\n      <td>1000.0</td>\n      <td>NaN</td>\n      <td>NaN</td>\n      <td>국내산</td>\n    </tr>\n  </tbody>\n</table>\n</div>"
     },
     "execution_count": 188,
     "metadata": {},
     "output_type": "execute_result"
    }
   ],
   "source": [
    "#가격 기준(ascending=True) # 오름차순\n",
    "#메뉴 기준 정렬\n",
    "df.sort_values(by='가격', ascending=False) # 내림차순"
   ],
   "metadata": {
    "collapsed": false,
    "ExecuteTime": {
     "end_time": "2023-07-11T06:07:26.001731Z",
     "start_time": "2023-07-11T06:07:25.301464Z"
    }
   }
  },
  {
   "cell_type": "code",
   "execution_count": 189,
   "outputs": [
    {
     "data": {
      "text/plain": "          메뉴     가격   호수     칼로리  할인율      할인가  원산지\n7  [인기]아이펠치킨  16000  11호  1200.0  0.5   8000.0  국내산\n5        닭강정  15000  12호  1500.0  0.2  12000.0  브라질\n2       간장치킨  14000   9호  1600.0  0.2  11200.0  국내산\n3       마늘치킨  14000   9호  1800.0  0.2  11200.0  국내산\n4         파닭  14000  11호  1300.0  0.2  11200.0  브라질\n1     승일양념치킨  13000  10호  1400.0  0.2  10400.0  국내산\n6   양념반후라이드반  13000  10호  1300.0  0.2  10400.0  국내산\n0     황금후라이드  12000  10호  1000.0  0.2   9600.0  국내산\n8  [베스트]풀잎치킨   9900  10호  1000.0  NaN      NaN  국내산",
      "text/html": "<div>\n<style scoped>\n    .dataframe tbody tr th:only-of-type {\n        vertical-align: middle;\n    }\n\n    .dataframe tbody tr th {\n        vertical-align: top;\n    }\n\n    .dataframe thead th {\n        text-align: right;\n    }\n</style>\n<table border=\"1\" class=\"dataframe\">\n  <thead>\n    <tr style=\"text-align: right;\">\n      <th></th>\n      <th>메뉴</th>\n      <th>가격</th>\n      <th>호수</th>\n      <th>칼로리</th>\n      <th>할인율</th>\n      <th>할인가</th>\n      <th>원산지</th>\n    </tr>\n  </thead>\n  <tbody>\n    <tr>\n      <th>7</th>\n      <td>[인기]아이펠치킨</td>\n      <td>16000</td>\n      <td>11호</td>\n      <td>1200.0</td>\n      <td>0.5</td>\n      <td>8000.0</td>\n      <td>국내산</td>\n    </tr>\n    <tr>\n      <th>5</th>\n      <td>닭강정</td>\n      <td>15000</td>\n      <td>12호</td>\n      <td>1500.0</td>\n      <td>0.2</td>\n      <td>12000.0</td>\n      <td>브라질</td>\n    </tr>\n    <tr>\n      <th>2</th>\n      <td>간장치킨</td>\n      <td>14000</td>\n      <td>9호</td>\n      <td>1600.0</td>\n      <td>0.2</td>\n      <td>11200.0</td>\n      <td>국내산</td>\n    </tr>\n    <tr>\n      <th>3</th>\n      <td>마늘치킨</td>\n      <td>14000</td>\n      <td>9호</td>\n      <td>1800.0</td>\n      <td>0.2</td>\n      <td>11200.0</td>\n      <td>국내산</td>\n    </tr>\n    <tr>\n      <th>4</th>\n      <td>파닭</td>\n      <td>14000</td>\n      <td>11호</td>\n      <td>1300.0</td>\n      <td>0.2</td>\n      <td>11200.0</td>\n      <td>브라질</td>\n    </tr>\n    <tr>\n      <th>1</th>\n      <td>승일양념치킨</td>\n      <td>13000</td>\n      <td>10호</td>\n      <td>1400.0</td>\n      <td>0.2</td>\n      <td>10400.0</td>\n      <td>국내산</td>\n    </tr>\n    <tr>\n      <th>6</th>\n      <td>양념반후라이드반</td>\n      <td>13000</td>\n      <td>10호</td>\n      <td>1300.0</td>\n      <td>0.2</td>\n      <td>10400.0</td>\n      <td>국내산</td>\n    </tr>\n    <tr>\n      <th>0</th>\n      <td>황금후라이드</td>\n      <td>12000</td>\n      <td>10호</td>\n      <td>1000.0</td>\n      <td>0.2</td>\n      <td>9600.0</td>\n      <td>국내산</td>\n    </tr>\n    <tr>\n      <th>8</th>\n      <td>[베스트]풀잎치킨</td>\n      <td>9900</td>\n      <td>10호</td>\n      <td>1000.0</td>\n      <td>NaN</td>\n      <td>NaN</td>\n      <td>국내산</td>\n    </tr>\n  </tbody>\n</table>\n</div>"
     },
     "execution_count": 189,
     "metadata": {},
     "output_type": "execute_result"
    }
   ],
   "source": [
    "# 가격과 메뉴 기준 정렬\n",
    "df = df.sort_values(['가격','메뉴'], ascending=[False,True]) # 내림차순\n",
    "df"
   ],
   "metadata": {
    "collapsed": false,
    "ExecuteTime": {
     "end_time": "2023-07-11T06:07:26.001878Z",
     "start_time": "2023-07-11T06:07:25.313850Z"
    }
   }
  },
  {
   "cell_type": "code",
   "execution_count": 190,
   "outputs": [
    {
     "data": {
      "text/plain": "          메뉴     가격   호수     칼로리  할인율      할인가  원산지\n0  [인기]아이펠치킨  16000  11호  1200.0  0.5   8000.0  국내산\n1        닭강정  15000  12호  1500.0  0.2  12000.0  브라질\n2       간장치킨  14000   9호  1600.0  0.2  11200.0  국내산\n3       마늘치킨  14000   9호  1800.0  0.2  11200.0  국내산\n4         파닭  14000  11호  1300.0  0.2  11200.0  브라질\n5     승일양념치킨  13000  10호  1400.0  0.2  10400.0  국내산\n6   양념반후라이드반  13000  10호  1300.0  0.2  10400.0  국내산\n7     황금후라이드  12000  10호  1000.0  0.2   9600.0  국내산\n8  [베스트]풀잎치킨   9900  10호  1000.0  NaN      NaN  국내산",
      "text/html": "<div>\n<style scoped>\n    .dataframe tbody tr th:only-of-type {\n        vertical-align: middle;\n    }\n\n    .dataframe tbody tr th {\n        vertical-align: top;\n    }\n\n    .dataframe thead th {\n        text-align: right;\n    }\n</style>\n<table border=\"1\" class=\"dataframe\">\n  <thead>\n    <tr style=\"text-align: right;\">\n      <th></th>\n      <th>메뉴</th>\n      <th>가격</th>\n      <th>호수</th>\n      <th>칼로리</th>\n      <th>할인율</th>\n      <th>할인가</th>\n      <th>원산지</th>\n    </tr>\n  </thead>\n  <tbody>\n    <tr>\n      <th>0</th>\n      <td>[인기]아이펠치킨</td>\n      <td>16000</td>\n      <td>11호</td>\n      <td>1200.0</td>\n      <td>0.5</td>\n      <td>8000.0</td>\n      <td>국내산</td>\n    </tr>\n    <tr>\n      <th>1</th>\n      <td>닭강정</td>\n      <td>15000</td>\n      <td>12호</td>\n      <td>1500.0</td>\n      <td>0.2</td>\n      <td>12000.0</td>\n      <td>브라질</td>\n    </tr>\n    <tr>\n      <th>2</th>\n      <td>간장치킨</td>\n      <td>14000</td>\n      <td>9호</td>\n      <td>1600.0</td>\n      <td>0.2</td>\n      <td>11200.0</td>\n      <td>국내산</td>\n    </tr>\n    <tr>\n      <th>3</th>\n      <td>마늘치킨</td>\n      <td>14000</td>\n      <td>9호</td>\n      <td>1800.0</td>\n      <td>0.2</td>\n      <td>11200.0</td>\n      <td>국내산</td>\n    </tr>\n    <tr>\n      <th>4</th>\n      <td>파닭</td>\n      <td>14000</td>\n      <td>11호</td>\n      <td>1300.0</td>\n      <td>0.2</td>\n      <td>11200.0</td>\n      <td>브라질</td>\n    </tr>\n    <tr>\n      <th>5</th>\n      <td>승일양념치킨</td>\n      <td>13000</td>\n      <td>10호</td>\n      <td>1400.0</td>\n      <td>0.2</td>\n      <td>10400.0</td>\n      <td>국내산</td>\n    </tr>\n    <tr>\n      <th>6</th>\n      <td>양념반후라이드반</td>\n      <td>13000</td>\n      <td>10호</td>\n      <td>1300.0</td>\n      <td>0.2</td>\n      <td>10400.0</td>\n      <td>국내산</td>\n    </tr>\n    <tr>\n      <th>7</th>\n      <td>황금후라이드</td>\n      <td>12000</td>\n      <td>10호</td>\n      <td>1000.0</td>\n      <td>0.2</td>\n      <td>9600.0</td>\n      <td>국내산</td>\n    </tr>\n    <tr>\n      <th>8</th>\n      <td>[베스트]풀잎치킨</td>\n      <td>9900</td>\n      <td>10호</td>\n      <td>1000.0</td>\n      <td>NaN</td>\n      <td>NaN</td>\n      <td>국내산</td>\n    </tr>\n  </tbody>\n</table>\n</div>"
     },
     "execution_count": 190,
     "metadata": {},
     "output_type": "execute_result"
    }
   ],
   "source": [
    "# 인덱스 새로 만들기 drop=True <- 기존 인덱스 삭제\n",
    "df = df.reset_index(drop=True)\n",
    "df"
   ],
   "metadata": {
    "collapsed": false,
    "ExecuteTime": {
     "end_time": "2023-07-11T06:07:26.002058Z",
     "start_time": "2023-07-11T06:07:25.318975Z"
    }
   }
  },
  {
   "cell_type": "code",
   "execution_count": 191,
   "outputs": [
    {
     "data": {
      "text/plain": "          메뉴     가격   호수     칼로리  할인율      할인가  원산지\n0  [인기]아이펠치킨  16000  11호  1200.0  0.5   8000.0  국내산\n1        닭강정  15000  12호  1500.0  0.2  12000.0  브라질\n2       간장치킨  14000   9호  1600.0  0.2  11200.0  국내산\n3       마늘치킨  14000   9호  1800.0  0.2  11200.0  국내산\n4         파닭  14000  11호  1300.0  0.2  11200.0  브라질\n5     승일양념치킨  13000  10호  1400.0  0.2  10400.0  국내산\n6   양념반후라이드반  13000  10호  1300.0  0.2  10400.0  국내산\n7     황금후라이드  12000  10호  1000.0  0.2   9600.0  국내산\n8  [베스트]풀잎치킨   9900  10호  1000.0  NaN      NaN  국내산",
      "text/html": "<div>\n<style scoped>\n    .dataframe tbody tr th:only-of-type {\n        vertical-align: middle;\n    }\n\n    .dataframe tbody tr th {\n        vertical-align: top;\n    }\n\n    .dataframe thead th {\n        text-align: right;\n    }\n</style>\n<table border=\"1\" class=\"dataframe\">\n  <thead>\n    <tr style=\"text-align: right;\">\n      <th></th>\n      <th>메뉴</th>\n      <th>가격</th>\n      <th>호수</th>\n      <th>칼로리</th>\n      <th>할인율</th>\n      <th>할인가</th>\n      <th>원산지</th>\n    </tr>\n  </thead>\n  <tbody>\n    <tr>\n      <th>0</th>\n      <td>[인기]아이펠치킨</td>\n      <td>16000</td>\n      <td>11호</td>\n      <td>1200.0</td>\n      <td>0.5</td>\n      <td>8000.0</td>\n      <td>국내산</td>\n    </tr>\n    <tr>\n      <th>1</th>\n      <td>닭강정</td>\n      <td>15000</td>\n      <td>12호</td>\n      <td>1500.0</td>\n      <td>0.2</td>\n      <td>12000.0</td>\n      <td>브라질</td>\n    </tr>\n    <tr>\n      <th>2</th>\n      <td>간장치킨</td>\n      <td>14000</td>\n      <td>9호</td>\n      <td>1600.0</td>\n      <td>0.2</td>\n      <td>11200.0</td>\n      <td>국내산</td>\n    </tr>\n    <tr>\n      <th>3</th>\n      <td>마늘치킨</td>\n      <td>14000</td>\n      <td>9호</td>\n      <td>1800.0</td>\n      <td>0.2</td>\n      <td>11200.0</td>\n      <td>국내산</td>\n    </tr>\n    <tr>\n      <th>4</th>\n      <td>파닭</td>\n      <td>14000</td>\n      <td>11호</td>\n      <td>1300.0</td>\n      <td>0.2</td>\n      <td>11200.0</td>\n      <td>브라질</td>\n    </tr>\n    <tr>\n      <th>5</th>\n      <td>승일양념치킨</td>\n      <td>13000</td>\n      <td>10호</td>\n      <td>1400.0</td>\n      <td>0.2</td>\n      <td>10400.0</td>\n      <td>국내산</td>\n    </tr>\n    <tr>\n      <th>6</th>\n      <td>양념반후라이드반</td>\n      <td>13000</td>\n      <td>10호</td>\n      <td>1300.0</td>\n      <td>0.2</td>\n      <td>10400.0</td>\n      <td>국내산</td>\n    </tr>\n    <tr>\n      <th>7</th>\n      <td>황금후라이드</td>\n      <td>12000</td>\n      <td>10호</td>\n      <td>1000.0</td>\n      <td>0.2</td>\n      <td>9600.0</td>\n      <td>국내산</td>\n    </tr>\n    <tr>\n      <th>8</th>\n      <td>[베스트]풀잎치킨</td>\n      <td>9900</td>\n      <td>10호</td>\n      <td>1000.0</td>\n      <td>NaN</td>\n      <td>NaN</td>\n      <td>국내산</td>\n    </tr>\n  </tbody>\n</table>\n</div>"
     },
     "execution_count": 191,
     "metadata": {},
     "output_type": "execute_result"
    }
   ],
   "source": [
    "# 자료형 변환\n",
    "\n",
    "# 데이터 확인\n",
    "df"
   ],
   "metadata": {
    "collapsed": false,
    "ExecuteTime": {
     "end_time": "2023-07-11T06:07:26.009408Z",
     "start_time": "2023-07-11T06:07:25.328340Z"
    }
   }
  },
  {
   "cell_type": "code",
   "execution_count": 192,
   "outputs": [
    {
     "name": "stdout",
     "output_type": "stream",
     "text": [
      "<class 'pandas.core.frame.DataFrame'>\n",
      "RangeIndex: 9 entries, 0 to 8\n",
      "Data columns (total 7 columns):\n",
      " #   Column  Non-Null Count  Dtype  \n",
      "---  ------  --------------  -----  \n",
      " 0   메뉴      9 non-null      object \n",
      " 1   가격      9 non-null      int64  \n",
      " 2   호수      9 non-null      object \n",
      " 3   칼로리     9 non-null      float64\n",
      " 4   할인율     8 non-null      float64\n",
      " 5   할인가     8 non-null      float64\n",
      " 6   원산지     9 non-null      object \n",
      "dtypes: float64(3), int64(1), object(3)\n",
      "memory usage: 632.0+ bytes\n"
     ]
    }
   ],
   "source": [
    "# type 확인\n",
    "df.info()"
   ],
   "metadata": {
    "collapsed": false,
    "ExecuteTime": {
     "end_time": "2023-07-11T06:07:26.009643Z",
     "start_time": "2023-07-11T06:07:25.340022Z"
    }
   }
  },
  {
   "cell_type": "code",
   "execution_count": 193,
   "outputs": [
    {
     "data": {
      "text/plain": "          메뉴     가격  호수     칼로리  할인율      할인가  원산지\n0  [인기]아이펠치킨  16000  11  1200.0  0.5   8000.0  국내산\n1        닭강정  15000  12  1500.0  0.2  12000.0  브라질\n2       간장치킨  14000   9  1600.0  0.2  11200.0  국내산\n3       마늘치킨  14000   9  1800.0  0.2  11200.0  국내산\n4         파닭  14000  11  1300.0  0.2  11200.0  브라질\n5     승일양념치킨  13000  10  1400.0  0.2  10400.0  국내산\n6   양념반후라이드반  13000  10  1300.0  0.2  10400.0  국내산\n7     황금후라이드  12000  10  1000.0  0.2   9600.0  국내산\n8  [베스트]풀잎치킨   9900  10  1000.0  NaN      NaN  국내산",
      "text/html": "<div>\n<style scoped>\n    .dataframe tbody tr th:only-of-type {\n        vertical-align: middle;\n    }\n\n    .dataframe tbody tr th {\n        vertical-align: top;\n    }\n\n    .dataframe thead th {\n        text-align: right;\n    }\n</style>\n<table border=\"1\" class=\"dataframe\">\n  <thead>\n    <tr style=\"text-align: right;\">\n      <th></th>\n      <th>메뉴</th>\n      <th>가격</th>\n      <th>호수</th>\n      <th>칼로리</th>\n      <th>할인율</th>\n      <th>할인가</th>\n      <th>원산지</th>\n    </tr>\n  </thead>\n  <tbody>\n    <tr>\n      <th>0</th>\n      <td>[인기]아이펠치킨</td>\n      <td>16000</td>\n      <td>11</td>\n      <td>1200.0</td>\n      <td>0.5</td>\n      <td>8000.0</td>\n      <td>국내산</td>\n    </tr>\n    <tr>\n      <th>1</th>\n      <td>닭강정</td>\n      <td>15000</td>\n      <td>12</td>\n      <td>1500.0</td>\n      <td>0.2</td>\n      <td>12000.0</td>\n      <td>브라질</td>\n    </tr>\n    <tr>\n      <th>2</th>\n      <td>간장치킨</td>\n      <td>14000</td>\n      <td>9</td>\n      <td>1600.0</td>\n      <td>0.2</td>\n      <td>11200.0</td>\n      <td>국내산</td>\n    </tr>\n    <tr>\n      <th>3</th>\n      <td>마늘치킨</td>\n      <td>14000</td>\n      <td>9</td>\n      <td>1800.0</td>\n      <td>0.2</td>\n      <td>11200.0</td>\n      <td>국내산</td>\n    </tr>\n    <tr>\n      <th>4</th>\n      <td>파닭</td>\n      <td>14000</td>\n      <td>11</td>\n      <td>1300.0</td>\n      <td>0.2</td>\n      <td>11200.0</td>\n      <td>브라질</td>\n    </tr>\n    <tr>\n      <th>5</th>\n      <td>승일양념치킨</td>\n      <td>13000</td>\n      <td>10</td>\n      <td>1400.0</td>\n      <td>0.2</td>\n      <td>10400.0</td>\n      <td>국내산</td>\n    </tr>\n    <tr>\n      <th>6</th>\n      <td>양념반후라이드반</td>\n      <td>13000</td>\n      <td>10</td>\n      <td>1300.0</td>\n      <td>0.2</td>\n      <td>10400.0</td>\n      <td>국내산</td>\n    </tr>\n    <tr>\n      <th>7</th>\n      <td>황금후라이드</td>\n      <td>12000</td>\n      <td>10</td>\n      <td>1000.0</td>\n      <td>0.2</td>\n      <td>9600.0</td>\n      <td>국내산</td>\n    </tr>\n    <tr>\n      <th>8</th>\n      <td>[베스트]풀잎치킨</td>\n      <td>9900</td>\n      <td>10</td>\n      <td>1000.0</td>\n      <td>NaN</td>\n      <td>NaN</td>\n      <td>국내산</td>\n    </tr>\n  </tbody>\n</table>\n</div>"
     },
     "execution_count": 193,
     "metadata": {},
     "output_type": "execute_result"
    }
   ],
   "source": [
    "# 호 단어 삭제(str, replace 활용)\n",
    "df['호수'] = df['호수'].str.replace('호','')\n",
    "df"
   ],
   "metadata": {
    "collapsed": false,
    "ExecuteTime": {
     "end_time": "2023-07-11T06:07:26.009853Z",
     "start_time": "2023-07-11T06:07:25.360494Z"
    }
   }
  },
  {
   "cell_type": "code",
   "execution_count": 194,
   "outputs": [
    {
     "data": {
      "text/plain": "          메뉴     가격  호수     칼로리  할인율      할인가  원산지\n0  [인기]아이펠치킨  16000  11  1200.0  0.5   8000.0  국내산\n1        닭강정  15000  12  1500.0  0.2  12000.0  브라질\n2       간장치킨  14000   9  1600.0  0.2  11200.0  국내산\n3       마늘치킨  14000   9  1800.0  0.2  11200.0  국내산\n4         파닭  14000  11  1300.0  0.2  11200.0  브라질\n5     승일양념치킨  13000  10  1400.0  0.2  10400.0  국내산\n6   양념반후라이드반  13000  10  1300.0  0.2  10400.0  국내산\n7     황금후라이드  12000  10  1000.0  0.2   9600.0  국내산\n8  [베스트]풀잎치킨   9900  10  1000.0  NaN      NaN  국내산",
      "text/html": "<div>\n<style scoped>\n    .dataframe tbody tr th:only-of-type {\n        vertical-align: middle;\n    }\n\n    .dataframe tbody tr th {\n        vertical-align: top;\n    }\n\n    .dataframe thead th {\n        text-align: right;\n    }\n</style>\n<table border=\"1\" class=\"dataframe\">\n  <thead>\n    <tr style=\"text-align: right;\">\n      <th></th>\n      <th>메뉴</th>\n      <th>가격</th>\n      <th>호수</th>\n      <th>칼로리</th>\n      <th>할인율</th>\n      <th>할인가</th>\n      <th>원산지</th>\n    </tr>\n  </thead>\n  <tbody>\n    <tr>\n      <th>0</th>\n      <td>[인기]아이펠치킨</td>\n      <td>16000</td>\n      <td>11</td>\n      <td>1200.0</td>\n      <td>0.5</td>\n      <td>8000.0</td>\n      <td>국내산</td>\n    </tr>\n    <tr>\n      <th>1</th>\n      <td>닭강정</td>\n      <td>15000</td>\n      <td>12</td>\n      <td>1500.0</td>\n      <td>0.2</td>\n      <td>12000.0</td>\n      <td>브라질</td>\n    </tr>\n    <tr>\n      <th>2</th>\n      <td>간장치킨</td>\n      <td>14000</td>\n      <td>9</td>\n      <td>1600.0</td>\n      <td>0.2</td>\n      <td>11200.0</td>\n      <td>국내산</td>\n    </tr>\n    <tr>\n      <th>3</th>\n      <td>마늘치킨</td>\n      <td>14000</td>\n      <td>9</td>\n      <td>1800.0</td>\n      <td>0.2</td>\n      <td>11200.0</td>\n      <td>국내산</td>\n    </tr>\n    <tr>\n      <th>4</th>\n      <td>파닭</td>\n      <td>14000</td>\n      <td>11</td>\n      <td>1300.0</td>\n      <td>0.2</td>\n      <td>11200.0</td>\n      <td>브라질</td>\n    </tr>\n    <tr>\n      <th>5</th>\n      <td>승일양념치킨</td>\n      <td>13000</td>\n      <td>10</td>\n      <td>1400.0</td>\n      <td>0.2</td>\n      <td>10400.0</td>\n      <td>국내산</td>\n    </tr>\n    <tr>\n      <th>6</th>\n      <td>양념반후라이드반</td>\n      <td>13000</td>\n      <td>10</td>\n      <td>1300.0</td>\n      <td>0.2</td>\n      <td>10400.0</td>\n      <td>국내산</td>\n    </tr>\n    <tr>\n      <th>7</th>\n      <td>황금후라이드</td>\n      <td>12000</td>\n      <td>10</td>\n      <td>1000.0</td>\n      <td>0.2</td>\n      <td>9600.0</td>\n      <td>국내산</td>\n    </tr>\n    <tr>\n      <th>8</th>\n      <td>[베스트]풀잎치킨</td>\n      <td>9900</td>\n      <td>10</td>\n      <td>1000.0</td>\n      <td>NaN</td>\n      <td>NaN</td>\n      <td>국내산</td>\n    </tr>\n  </tbody>\n</table>\n</div>"
     },
     "execution_count": 194,
     "metadata": {},
     "output_type": "execute_result"
    }
   ],
   "source": [
    "# 자료형 변환 / astype('자료형') / object -> int\n",
    "df['호수'] = df['호수'].astype('int')\n",
    "df"
   ],
   "metadata": {
    "collapsed": false,
    "ExecuteTime": {
     "end_time": "2023-07-11T06:07:26.010024Z",
     "start_time": "2023-07-11T06:07:25.375029Z"
    }
   }
  },
  {
   "cell_type": "code",
   "execution_count": 195,
   "outputs": [
    {
     "name": "stdout",
     "output_type": "stream",
     "text": [
      "<class 'pandas.core.frame.DataFrame'>\n",
      "RangeIndex: 9 entries, 0 to 8\n",
      "Data columns (total 7 columns):\n",
      " #   Column  Non-Null Count  Dtype  \n",
      "---  ------  --------------  -----  \n",
      " 0   메뉴      9 non-null      object \n",
      " 1   가격      9 non-null      int64  \n",
      " 2   호수      9 non-null      int64  \n",
      " 3   칼로리     9 non-null      float64\n",
      " 4   할인율     8 non-null      float64\n",
      " 5   할인가     8 non-null      float64\n",
      " 6   원산지     9 non-null      object \n",
      "dtypes: float64(3), int64(2), object(2)\n",
      "memory usage: 632.0+ bytes\n"
     ]
    }
   ],
   "source": [
    "# 자료형 확인\n",
    "df.info()\n"
   ],
   "metadata": {
    "collapsed": false,
    "ExecuteTime": {
     "end_time": "2023-07-11T06:07:26.010154Z",
     "start_time": "2023-07-11T06:07:25.384925Z"
    }
   }
  },
  {
   "cell_type": "code",
   "execution_count": 196,
   "outputs": [
    {
     "data": {
      "text/plain": "10.222222222222221"
     },
     "execution_count": 196,
     "metadata": {},
     "output_type": "execute_result"
    }
   ],
   "source": [
    "# 호수 평균\n",
    "df['호수'].mean()"
   ],
   "metadata": {
    "collapsed": false,
    "ExecuteTime": {
     "end_time": "2023-07-11T06:07:26.010286Z",
     "start_time": "2023-07-11T06:07:25.388537Z"
    }
   }
  },
  {
   "cell_type": "code",
   "execution_count": 197,
   "outputs": [
    {
     "data": {
      "text/plain": "0.9718253158075499"
     },
     "execution_count": 197,
     "metadata": {},
     "output_type": "execute_result"
    }
   ],
   "source": [
    "# df 변수의 데이터의 '호수' 칼럼 값들의 표준편차를 구하세요.\n",
    "# 힌트 : 영상에서의 mean() 대신 std() 함수를 사용해보세요.\n",
    "df['호수'].std()"
   ],
   "metadata": {
    "collapsed": false,
    "ExecuteTime": {
     "end_time": "2023-07-11T06:07:26.010435Z",
     "start_time": "2023-07-11T06:07:25.392837Z"
    }
   }
  },
  {
   "cell_type": "code",
   "execution_count": 198,
   "outputs": [
    {
     "data": {
      "text/plain": "          메뉴     가격  호수     칼로리  할인율      할인가  원산지\n0  [인기]아이펠치킨  16000  11  1200.0  0.5   8000.0  국내산\n1        닭강정  15000  12  1500.0  0.2  12000.0  브라질\n2       간장치킨  14000   9  1600.0  0.2  11200.0  국내산\n3       마늘치킨  14000   9  1800.0  0.2  11200.0  국내산\n4         파닭  14000  11  1300.0  0.2  11200.0  브라질\n5     승일양념치킨  13000  10  1400.0  0.2  10400.0  국내산\n6   양념반후라이드반  13000  10  1300.0  0.2  10400.0  국내산\n7     황금후라이드  12000  10  1000.0  0.2   9600.0  국내산\n8  [베스트]풀잎치킨   9900  10  1000.0  NaN      NaN  국내산",
      "text/html": "<div>\n<style scoped>\n    .dataframe tbody tr th:only-of-type {\n        vertical-align: middle;\n    }\n\n    .dataframe tbody tr th {\n        vertical-align: top;\n    }\n\n    .dataframe thead th {\n        text-align: right;\n    }\n</style>\n<table border=\"1\" class=\"dataframe\">\n  <thead>\n    <tr style=\"text-align: right;\">\n      <th></th>\n      <th>메뉴</th>\n      <th>가격</th>\n      <th>호수</th>\n      <th>칼로리</th>\n      <th>할인율</th>\n      <th>할인가</th>\n      <th>원산지</th>\n    </tr>\n  </thead>\n  <tbody>\n    <tr>\n      <th>0</th>\n      <td>[인기]아이펠치킨</td>\n      <td>16000</td>\n      <td>11</td>\n      <td>1200.0</td>\n      <td>0.5</td>\n      <td>8000.0</td>\n      <td>국내산</td>\n    </tr>\n    <tr>\n      <th>1</th>\n      <td>닭강정</td>\n      <td>15000</td>\n      <td>12</td>\n      <td>1500.0</td>\n      <td>0.2</td>\n      <td>12000.0</td>\n      <td>브라질</td>\n    </tr>\n    <tr>\n      <th>2</th>\n      <td>간장치킨</td>\n      <td>14000</td>\n      <td>9</td>\n      <td>1600.0</td>\n      <td>0.2</td>\n      <td>11200.0</td>\n      <td>국내산</td>\n    </tr>\n    <tr>\n      <th>3</th>\n      <td>마늘치킨</td>\n      <td>14000</td>\n      <td>9</td>\n      <td>1800.0</td>\n      <td>0.2</td>\n      <td>11200.0</td>\n      <td>국내산</td>\n    </tr>\n    <tr>\n      <th>4</th>\n      <td>파닭</td>\n      <td>14000</td>\n      <td>11</td>\n      <td>1300.0</td>\n      <td>0.2</td>\n      <td>11200.0</td>\n      <td>브라질</td>\n    </tr>\n    <tr>\n      <th>5</th>\n      <td>승일양념치킨</td>\n      <td>13000</td>\n      <td>10</td>\n      <td>1400.0</td>\n      <td>0.2</td>\n      <td>10400.0</td>\n      <td>국내산</td>\n    </tr>\n    <tr>\n      <th>6</th>\n      <td>양념반후라이드반</td>\n      <td>13000</td>\n      <td>10</td>\n      <td>1300.0</td>\n      <td>0.2</td>\n      <td>10400.0</td>\n      <td>국내산</td>\n    </tr>\n    <tr>\n      <th>7</th>\n      <td>황금후라이드</td>\n      <td>12000</td>\n      <td>10</td>\n      <td>1000.0</td>\n      <td>0.2</td>\n      <td>9600.0</td>\n      <td>국내산</td>\n    </tr>\n    <tr>\n      <th>8</th>\n      <td>[베스트]풀잎치킨</td>\n      <td>9900</td>\n      <td>10</td>\n      <td>1000.0</td>\n      <td>NaN</td>\n      <td>NaN</td>\n      <td>국내산</td>\n    </tr>\n  </tbody>\n</table>\n</div>"
     },
     "execution_count": 198,
     "metadata": {},
     "output_type": "execute_result"
    }
   ],
   "source": [
    "# 데이터 탐색\n",
    "df"
   ],
   "metadata": {
    "collapsed": false,
    "ExecuteTime": {
     "end_time": "2023-07-11T06:07:26.010570Z",
     "start_time": "2023-07-11T06:07:25.395413Z"
    }
   }
  },
  {
   "cell_type": "code",
   "execution_count": 199,
   "outputs": [
    {
     "data": {
      "text/plain": "(9, 7)"
     },
     "execution_count": 199,
     "metadata": {},
     "output_type": "execute_result"
    }
   ],
   "source": [
    "#데이터 프레임의 크기(행,열) 확인\n",
    "df.shape"
   ],
   "metadata": {
    "collapsed": false,
    "ExecuteTime": {
     "end_time": "2023-07-11T06:07:26.010702Z",
     "start_time": "2023-07-11T06:07:25.406238Z"
    }
   }
  },
  {
   "cell_type": "code",
   "execution_count": 200,
   "outputs": [
    {
     "data": {
      "text/plain": "          메뉴     가격  호수     칼로리  할인율      할인가  원산지\n0  [인기]아이펠치킨  16000  11  1200.0  0.5   8000.0  국내산\n1        닭강정  15000  12  1500.0  0.2  12000.0  브라질\n2       간장치킨  14000   9  1600.0  0.2  11200.0  국내산\n3       마늘치킨  14000   9  1800.0  0.2  11200.0  국내산\n4         파닭  14000  11  1300.0  0.2  11200.0  브라질",
      "text/html": "<div>\n<style scoped>\n    .dataframe tbody tr th:only-of-type {\n        vertical-align: middle;\n    }\n\n    .dataframe tbody tr th {\n        vertical-align: top;\n    }\n\n    .dataframe thead th {\n        text-align: right;\n    }\n</style>\n<table border=\"1\" class=\"dataframe\">\n  <thead>\n    <tr style=\"text-align: right;\">\n      <th></th>\n      <th>메뉴</th>\n      <th>가격</th>\n      <th>호수</th>\n      <th>칼로리</th>\n      <th>할인율</th>\n      <th>할인가</th>\n      <th>원산지</th>\n    </tr>\n  </thead>\n  <tbody>\n    <tr>\n      <th>0</th>\n      <td>[인기]아이펠치킨</td>\n      <td>16000</td>\n      <td>11</td>\n      <td>1200.0</td>\n      <td>0.5</td>\n      <td>8000.0</td>\n      <td>국내산</td>\n    </tr>\n    <tr>\n      <th>1</th>\n      <td>닭강정</td>\n      <td>15000</td>\n      <td>12</td>\n      <td>1500.0</td>\n      <td>0.2</td>\n      <td>12000.0</td>\n      <td>브라질</td>\n    </tr>\n    <tr>\n      <th>2</th>\n      <td>간장치킨</td>\n      <td>14000</td>\n      <td>9</td>\n      <td>1600.0</td>\n      <td>0.2</td>\n      <td>11200.0</td>\n      <td>국내산</td>\n    </tr>\n    <tr>\n      <th>3</th>\n      <td>마늘치킨</td>\n      <td>14000</td>\n      <td>9</td>\n      <td>1800.0</td>\n      <td>0.2</td>\n      <td>11200.0</td>\n      <td>국내산</td>\n    </tr>\n    <tr>\n      <th>4</th>\n      <td>파닭</td>\n      <td>14000</td>\n      <td>11</td>\n      <td>1300.0</td>\n      <td>0.2</td>\n      <td>11200.0</td>\n      <td>브라질</td>\n    </tr>\n  </tbody>\n</table>\n</div>"
     },
     "execution_count": 200,
     "metadata": {},
     "output_type": "execute_result"
    }
   ],
   "source": [
    "#테이터 샘플 확인(head)\n",
    "df.head()"
   ],
   "metadata": {
    "collapsed": false,
    "ExecuteTime": {
     "end_time": "2023-07-11T06:07:26.010841Z",
     "start_time": "2023-07-11T06:07:25.409367Z"
    }
   }
  },
  {
   "cell_type": "code",
   "execution_count": 201,
   "outputs": [
    {
     "name": "stdout",
     "output_type": "stream",
     "text": [
      "<class 'pandas.core.frame.DataFrame'>\n",
      "RangeIndex: 9 entries, 0 to 8\n",
      "Data columns (total 7 columns):\n",
      " #   Column  Non-Null Count  Dtype  \n",
      "---  ------  --------------  -----  \n",
      " 0   메뉴      9 non-null      object \n",
      " 1   가격      9 non-null      int64  \n",
      " 2   호수      9 non-null      int64  \n",
      " 3   칼로리     9 non-null      float64\n",
      " 4   할인율     8 non-null      float64\n",
      " 5   할인가     8 non-null      float64\n",
      " 6   원산지     9 non-null      object \n",
      "dtypes: float64(3), int64(2), object(2)\n",
      "memory usage: 632.0+ bytes\n"
     ]
    }
   ],
   "source": [
    "#컬럼 형태(type) 확인\n",
    "df.info()"
   ],
   "metadata": {
    "collapsed": false,
    "ExecuteTime": {
     "end_time": "2023-07-11T06:07:26.010968Z",
     "start_time": "2023-07-11T06:07:25.422995Z"
    }
   }
  },
  {
   "cell_type": "code",
   "execution_count": 202,
   "outputs": [
    {
     "data": {
      "text/plain": "                 가격         호수          칼로리       할인율           할인가\ncount      9.000000   9.000000     9.000000  8.000000      8.000000\nmean   13433.333333  10.222222  1344.444444  0.237500  10500.000000\nstd     1764.936259   0.971825   265.099562  0.106066   1242.118007\nmin     9900.000000   9.000000  1000.000000  0.200000   8000.000000\n25%    13000.000000  10.000000  1200.000000  0.200000  10200.000000\n50%    14000.000000  10.000000  1300.000000  0.200000  10800.000000\n75%    14000.000000  11.000000  1500.000000  0.200000  11200.000000\nmax    16000.000000  12.000000  1800.000000  0.500000  12000.000000",
      "text/html": "<div>\n<style scoped>\n    .dataframe tbody tr th:only-of-type {\n        vertical-align: middle;\n    }\n\n    .dataframe tbody tr th {\n        vertical-align: top;\n    }\n\n    .dataframe thead th {\n        text-align: right;\n    }\n</style>\n<table border=\"1\" class=\"dataframe\">\n  <thead>\n    <tr style=\"text-align: right;\">\n      <th></th>\n      <th>가격</th>\n      <th>호수</th>\n      <th>칼로리</th>\n      <th>할인율</th>\n      <th>할인가</th>\n    </tr>\n  </thead>\n  <tbody>\n    <tr>\n      <th>count</th>\n      <td>9.000000</td>\n      <td>9.000000</td>\n      <td>9.000000</td>\n      <td>8.000000</td>\n      <td>8.000000</td>\n    </tr>\n    <tr>\n      <th>mean</th>\n      <td>13433.333333</td>\n      <td>10.222222</td>\n      <td>1344.444444</td>\n      <td>0.237500</td>\n      <td>10500.000000</td>\n    </tr>\n    <tr>\n      <th>std</th>\n      <td>1764.936259</td>\n      <td>0.971825</td>\n      <td>265.099562</td>\n      <td>0.106066</td>\n      <td>1242.118007</td>\n    </tr>\n    <tr>\n      <th>min</th>\n      <td>9900.000000</td>\n      <td>9.000000</td>\n      <td>1000.000000</td>\n      <td>0.200000</td>\n      <td>8000.000000</td>\n    </tr>\n    <tr>\n      <th>25%</th>\n      <td>13000.000000</td>\n      <td>10.000000</td>\n      <td>1200.000000</td>\n      <td>0.200000</td>\n      <td>10200.000000</td>\n    </tr>\n    <tr>\n      <th>50%</th>\n      <td>14000.000000</td>\n      <td>10.000000</td>\n      <td>1300.000000</td>\n      <td>0.200000</td>\n      <td>10800.000000</td>\n    </tr>\n    <tr>\n      <th>75%</th>\n      <td>14000.000000</td>\n      <td>11.000000</td>\n      <td>1500.000000</td>\n      <td>0.200000</td>\n      <td>11200.000000</td>\n    </tr>\n    <tr>\n      <th>max</th>\n      <td>16000.000000</td>\n      <td>12.000000</td>\n      <td>1800.000000</td>\n      <td>0.500000</td>\n      <td>12000.000000</td>\n    </tr>\n  </tbody>\n</table>\n</div>"
     },
     "execution_count": 202,
     "metadata": {},
     "output_type": "execute_result"
    }
   ],
   "source": [
    "#기초 통계\n",
    "df.describe()"
   ],
   "metadata": {
    "collapsed": false,
    "ExecuteTime": {
     "end_time": "2023-07-11T06:07:26.011111Z",
     "start_time": "2023-07-11T06:07:25.425564Z"
    }
   }
  },
  {
   "cell_type": "code",
   "execution_count": 203,
   "outputs": [
    {
     "data": {
      "text/plain": "               메뉴  원산지\ncount           9    9\nunique          9    2\ntop     [인기]아이펠치킨  국내산\nfreq            1    7",
      "text/html": "<div>\n<style scoped>\n    .dataframe tbody tr th:only-of-type {\n        vertical-align: middle;\n    }\n\n    .dataframe tbody tr th {\n        vertical-align: top;\n    }\n\n    .dataframe thead th {\n        text-align: right;\n    }\n</style>\n<table border=\"1\" class=\"dataframe\">\n  <thead>\n    <tr style=\"text-align: right;\">\n      <th></th>\n      <th>메뉴</th>\n      <th>원산지</th>\n    </tr>\n  </thead>\n  <tbody>\n    <tr>\n      <th>count</th>\n      <td>9</td>\n      <td>9</td>\n    </tr>\n    <tr>\n      <th>unique</th>\n      <td>9</td>\n      <td>2</td>\n    </tr>\n    <tr>\n      <th>top</th>\n      <td>[인기]아이펠치킨</td>\n      <td>국내산</td>\n    </tr>\n    <tr>\n      <th>freq</th>\n      <td>1</td>\n      <td>7</td>\n    </tr>\n  </tbody>\n</table>\n</div>"
     },
     "execution_count": 203,
     "metadata": {},
     "output_type": "execute_result"
    }
   ],
   "source": [
    "#기초 통계 (object)\n",
    "df.describe(include='object') #unique : 중복 제거한 값의 개수 / top : 가장 윗값 / freq : 최빈값의 빈도수"
   ],
   "metadata": {
    "collapsed": false,
    "ExecuteTime": {
     "end_time": "2023-07-11T06:07:26.011268Z",
     "start_time": "2023-07-11T06:07:25.455943Z"
    }
   }
  },
  {
   "cell_type": "code",
   "execution_count": 204,
   "outputs": [
    {
     "name": "stderr",
     "output_type": "stream",
     "text": [
      "/var/folders/jd/qspsq8mn2db0y77ryp1w10_c0000gp/T/ipykernel_16475/3204274577.py:2: FutureWarning: The default value of numeric_only in DataFrame.corr is deprecated. In a future version, it will default to False. Select only valid columns or specify the value of numeric_only to silence this warning.\n",
      "  df.corr()\n"
     ]
    },
    {
     "data": {
      "text/plain": "           가격        호수       칼로리       할인율       할인가\n가격   1.000000  0.374104  0.522744  0.688875 -0.138409\n호수   0.374104  1.000000 -0.285724  0.292770 -0.022222\n칼로리  0.522744 -0.285724  1.000000 -0.306122  0.636659\n할인율  0.688875  0.292770 -0.306122  1.000000 -0.813250\n할인가 -0.138409 -0.022222  0.636659 -0.813250  1.000000",
      "text/html": "<div>\n<style scoped>\n    .dataframe tbody tr th:only-of-type {\n        vertical-align: middle;\n    }\n\n    .dataframe tbody tr th {\n        vertical-align: top;\n    }\n\n    .dataframe thead th {\n        text-align: right;\n    }\n</style>\n<table border=\"1\" class=\"dataframe\">\n  <thead>\n    <tr style=\"text-align: right;\">\n      <th></th>\n      <th>가격</th>\n      <th>호수</th>\n      <th>칼로리</th>\n      <th>할인율</th>\n      <th>할인가</th>\n    </tr>\n  </thead>\n  <tbody>\n    <tr>\n      <th>가격</th>\n      <td>1.000000</td>\n      <td>0.374104</td>\n      <td>0.522744</td>\n      <td>0.688875</td>\n      <td>-0.138409</td>\n    </tr>\n    <tr>\n      <th>호수</th>\n      <td>0.374104</td>\n      <td>1.000000</td>\n      <td>-0.285724</td>\n      <td>0.292770</td>\n      <td>-0.022222</td>\n    </tr>\n    <tr>\n      <th>칼로리</th>\n      <td>0.522744</td>\n      <td>-0.285724</td>\n      <td>1.000000</td>\n      <td>-0.306122</td>\n      <td>0.636659</td>\n    </tr>\n    <tr>\n      <th>할인율</th>\n      <td>0.688875</td>\n      <td>0.292770</td>\n      <td>-0.306122</td>\n      <td>1.000000</td>\n      <td>-0.813250</td>\n    </tr>\n    <tr>\n      <th>할인가</th>\n      <td>-0.138409</td>\n      <td>-0.022222</td>\n      <td>0.636659</td>\n      <td>-0.813250</td>\n      <td>1.000000</td>\n    </tr>\n  </tbody>\n</table>\n</div>"
     },
     "execution_count": 204,
     "metadata": {},
     "output_type": "execute_result"
    }
   ],
   "source": [
    "# 상관 관계\n",
    "df.corr()"
   ],
   "metadata": {
    "collapsed": false,
    "ExecuteTime": {
     "end_time": "2023-07-11T06:07:26.011586Z",
     "start_time": "2023-07-11T06:07:25.458497Z"
    }
   }
  },
  {
   "cell_type": "code",
   "execution_count": 205,
   "outputs": [
    {
     "data": {
      "text/plain": "메뉴     9\n가격     6\n호수     4\n칼로리    7\n할인율    2\n할인가    5\n원산지    2\ndtype: int64"
     },
     "execution_count": 205,
     "metadata": {},
     "output_type": "execute_result"
    }
   ],
   "source": [
    "#항목 종류 수\n",
    "df.nunique()"
   ],
   "metadata": {
    "collapsed": false,
    "ExecuteTime": {
     "end_time": "2023-07-11T06:07:26.011754Z",
     "start_time": "2023-07-11T06:07:25.475901Z"
    }
   }
  },
  {
   "cell_type": "code",
   "execution_count": 206,
   "outputs": [
    {
     "data": {
      "text/plain": "array([11, 12,  9, 10])"
     },
     "execution_count": 206,
     "metadata": {},
     "output_type": "execute_result"
    }
   ],
   "source": [
    "#항목 종류\n",
    "df['호수'].unique()"
   ],
   "metadata": {
    "collapsed": false,
    "ExecuteTime": {
     "end_time": "2023-07-11T06:07:26.011912Z",
     "start_time": "2023-07-11T06:07:25.490939Z"
    }
   }
  },
  {
   "cell_type": "code",
   "execution_count": 207,
   "outputs": [
    {
     "data": {
      "text/plain": "10    4\n11    2\n9     2\n12    1\nName: 호수, dtype: int64"
     },
     "execution_count": 207,
     "metadata": {},
     "output_type": "execute_result"
    }
   ],
   "source": [
    "#항목 종류별 개수\n",
    "df['호수'].value_counts()"
   ],
   "metadata": {
    "collapsed": false,
    "ExecuteTime": {
     "end_time": "2023-07-11T06:07:26.012115Z",
     "start_time": "2023-07-11T06:07:25.504984Z"
    }
   }
  },
  {
   "cell_type": "code",
   "execution_count": 208,
   "outputs": [
    {
     "data": {
      "text/plain": "          메뉴     가격  호수     칼로리  할인율      할인가  원산지\n0  [인기]아이펠치킨  16000  11  1200.0  0.5   8000.0  국내산\n1        닭강정  15000  12  1500.0  0.2  12000.0  브라질\n2       간장치킨  14000   9  1600.0  0.2  11200.0  국내산\n3       마늘치킨  14000   9  1800.0  0.2  11200.0  국내산\n4         파닭  14000  11  1300.0  0.2  11200.0  브라질\n5     승일양념치킨  13000  10  1400.0  0.2  10400.0  국내산\n6   양념반후라이드반  13000  10  1300.0  0.2  10400.0  국내산\n7     황금후라이드  12000  10  1000.0  0.2   9600.0  국내산\n8  [베스트]풀잎치킨   9900  10  1000.0  NaN      NaN  국내산",
      "text/html": "<div>\n<style scoped>\n    .dataframe tbody tr th:only-of-type {\n        vertical-align: middle;\n    }\n\n    .dataframe tbody tr th {\n        vertical-align: top;\n    }\n\n    .dataframe thead th {\n        text-align: right;\n    }\n</style>\n<table border=\"1\" class=\"dataframe\">\n  <thead>\n    <tr style=\"text-align: right;\">\n      <th></th>\n      <th>메뉴</th>\n      <th>가격</th>\n      <th>호수</th>\n      <th>칼로리</th>\n      <th>할인율</th>\n      <th>할인가</th>\n      <th>원산지</th>\n    </tr>\n  </thead>\n  <tbody>\n    <tr>\n      <th>0</th>\n      <td>[인기]아이펠치킨</td>\n      <td>16000</td>\n      <td>11</td>\n      <td>1200.0</td>\n      <td>0.5</td>\n      <td>8000.0</td>\n      <td>국내산</td>\n    </tr>\n    <tr>\n      <th>1</th>\n      <td>닭강정</td>\n      <td>15000</td>\n      <td>12</td>\n      <td>1500.0</td>\n      <td>0.2</td>\n      <td>12000.0</td>\n      <td>브라질</td>\n    </tr>\n    <tr>\n      <th>2</th>\n      <td>간장치킨</td>\n      <td>14000</td>\n      <td>9</td>\n      <td>1600.0</td>\n      <td>0.2</td>\n      <td>11200.0</td>\n      <td>국내산</td>\n    </tr>\n    <tr>\n      <th>3</th>\n      <td>마늘치킨</td>\n      <td>14000</td>\n      <td>9</td>\n      <td>1800.0</td>\n      <td>0.2</td>\n      <td>11200.0</td>\n      <td>국내산</td>\n    </tr>\n    <tr>\n      <th>4</th>\n      <td>파닭</td>\n      <td>14000</td>\n      <td>11</td>\n      <td>1300.0</td>\n      <td>0.2</td>\n      <td>11200.0</td>\n      <td>브라질</td>\n    </tr>\n    <tr>\n      <th>5</th>\n      <td>승일양념치킨</td>\n      <td>13000</td>\n      <td>10</td>\n      <td>1400.0</td>\n      <td>0.2</td>\n      <td>10400.0</td>\n      <td>국내산</td>\n    </tr>\n    <tr>\n      <th>6</th>\n      <td>양념반후라이드반</td>\n      <td>13000</td>\n      <td>10</td>\n      <td>1300.0</td>\n      <td>0.2</td>\n      <td>10400.0</td>\n      <td>국내산</td>\n    </tr>\n    <tr>\n      <th>7</th>\n      <td>황금후라이드</td>\n      <td>12000</td>\n      <td>10</td>\n      <td>1000.0</td>\n      <td>0.2</td>\n      <td>9600.0</td>\n      <td>국내산</td>\n    </tr>\n    <tr>\n      <th>8</th>\n      <td>[베스트]풀잎치킨</td>\n      <td>9900</td>\n      <td>10</td>\n      <td>1000.0</td>\n      <td>NaN</td>\n      <td>NaN</td>\n      <td>국내산</td>\n    </tr>\n  </tbody>\n</table>\n</div>"
     },
     "execution_count": 208,
     "metadata": {},
     "output_type": "execute_result"
    }
   ],
   "source": [
    "# Q. 다음 df 변수의 데이터에서 '가격'의 3분위 수(75%)를 구하고,\n",
    "# '호수'의 종류 수를 구하세요.\n",
    "# 힌트 : describe(), nunique()를 사용해보세요.\n",
    "df\n"
   ],
   "metadata": {
    "collapsed": false,
    "ExecuteTime": {
     "end_time": "2023-07-11T06:07:26.012275Z",
     "start_time": "2023-07-11T06:07:25.515905Z"
    }
   }
  },
  {
   "cell_type": "code",
   "execution_count": 209,
   "outputs": [
    {
     "name": "stdout",
     "output_type": "stream",
     "text": [
      "가격의 3분위수는 14000원입니다.\n",
      "'호수' 열의 종류는 4개 입니다.\n"
     ]
    }
   ],
   "source": [
    "\n",
    "# Q. 다음 df 변수의 데이터에서 '가격'의 3분위 수(75%)를 구하고,\n",
    "# '호수'의 종류 수를 구하세요.\n",
    "# 힌트 : describe(), nunique()를 사용해보세요.\n",
    "df = pd.read_csv('new_modudak.csv')\n",
    "df\n",
    "q3 = df['가격'].describe()['75%']\n",
    "print(f\"가격의 3분위수는 {q3:.0f}원입니다.\")\n",
    "\n",
    "# nunique()를 사용하여 '호수' 열의 종류 구하기\n",
    "hoosu_num = df['호수'].nunique()\n",
    "print(f\"'호수' 열의 종류는 {hoosu_num}개 입니다.\")\n"
   ],
   "metadata": {
    "collapsed": false,
    "ExecuteTime": {
     "end_time": "2023-07-11T06:07:26.012409Z",
     "start_time": "2023-07-11T06:07:25.518960Z"
    }
   }
  },
  {
   "cell_type": "code",
   "execution_count": 210,
   "outputs": [],
   "source": [
    "#내장함수"
   ],
   "metadata": {
    "collapsed": false,
    "ExecuteTime": {
     "end_time": "2023-07-11T06:07:26.012490Z",
     "start_time": "2023-07-11T06:07:25.527269Z"
    }
   }
  },
  {
   "cell_type": "code",
   "execution_count": 211,
   "outputs": [
    {
     "data": {
      "text/plain": "  Unnamed: 0         메뉴     가격   호수     칼로리  할인율      할인가  원산지\n0          0     황금후라이드  12000  10호  1000.0  0.2   9600.0  국내산\n1          1     승일양념치킨  13000  10호  1400.0  0.2  10400.0  NaN\n2          2       간장치킨  14000   9호  1600.0  0.2  11200.0  NaN\n3          3       마늘치킨  14000   9호  1800.0  0.2  11200.0  NaN\n4          4         파닭  14000  11호  1300.0  0.2  11200.0  브라질\n5          5        닭강정  15000  12호  1500.0  0.2  12000.0  브라질\n6          6   양념반후라이드반  13000  10호  1300.0  0.2  10400.0  NaN\n7        new  [인기]아이펠치킨  16000  11호  1200.0  0.5   8000.0  국내산\n8         10  [베스트]풀잎치킨   9900  10호     NaN  NaN      NaN  NaN",
      "text/html": "<div>\n<style scoped>\n    .dataframe tbody tr th:only-of-type {\n        vertical-align: middle;\n    }\n\n    .dataframe tbody tr th {\n        vertical-align: top;\n    }\n\n    .dataframe thead th {\n        text-align: right;\n    }\n</style>\n<table border=\"1\" class=\"dataframe\">\n  <thead>\n    <tr style=\"text-align: right;\">\n      <th></th>\n      <th>Unnamed: 0</th>\n      <th>메뉴</th>\n      <th>가격</th>\n      <th>호수</th>\n      <th>칼로리</th>\n      <th>할인율</th>\n      <th>할인가</th>\n      <th>원산지</th>\n    </tr>\n  </thead>\n  <tbody>\n    <tr>\n      <th>0</th>\n      <td>0</td>\n      <td>황금후라이드</td>\n      <td>12000</td>\n      <td>10호</td>\n      <td>1000.0</td>\n      <td>0.2</td>\n      <td>9600.0</td>\n      <td>국내산</td>\n    </tr>\n    <tr>\n      <th>1</th>\n      <td>1</td>\n      <td>승일양념치킨</td>\n      <td>13000</td>\n      <td>10호</td>\n      <td>1400.0</td>\n      <td>0.2</td>\n      <td>10400.0</td>\n      <td>NaN</td>\n    </tr>\n    <tr>\n      <th>2</th>\n      <td>2</td>\n      <td>간장치킨</td>\n      <td>14000</td>\n      <td>9호</td>\n      <td>1600.0</td>\n      <td>0.2</td>\n      <td>11200.0</td>\n      <td>NaN</td>\n    </tr>\n    <tr>\n      <th>3</th>\n      <td>3</td>\n      <td>마늘치킨</td>\n      <td>14000</td>\n      <td>9호</td>\n      <td>1800.0</td>\n      <td>0.2</td>\n      <td>11200.0</td>\n      <td>NaN</td>\n    </tr>\n    <tr>\n      <th>4</th>\n      <td>4</td>\n      <td>파닭</td>\n      <td>14000</td>\n      <td>11호</td>\n      <td>1300.0</td>\n      <td>0.2</td>\n      <td>11200.0</td>\n      <td>브라질</td>\n    </tr>\n    <tr>\n      <th>5</th>\n      <td>5</td>\n      <td>닭강정</td>\n      <td>15000</td>\n      <td>12호</td>\n      <td>1500.0</td>\n      <td>0.2</td>\n      <td>12000.0</td>\n      <td>브라질</td>\n    </tr>\n    <tr>\n      <th>6</th>\n      <td>6</td>\n      <td>양념반후라이드반</td>\n      <td>13000</td>\n      <td>10호</td>\n      <td>1300.0</td>\n      <td>0.2</td>\n      <td>10400.0</td>\n      <td>NaN</td>\n    </tr>\n    <tr>\n      <th>7</th>\n      <td>new</td>\n      <td>[인기]아이펠치킨</td>\n      <td>16000</td>\n      <td>11호</td>\n      <td>1200.0</td>\n      <td>0.5</td>\n      <td>8000.0</td>\n      <td>국내산</td>\n    </tr>\n    <tr>\n      <th>8</th>\n      <td>10</td>\n      <td>[베스트]풀잎치킨</td>\n      <td>9900</td>\n      <td>10호</td>\n      <td>NaN</td>\n      <td>NaN</td>\n      <td>NaN</td>\n      <td>NaN</td>\n    </tr>\n  </tbody>\n</table>\n</div>"
     },
     "execution_count": 211,
     "metadata": {},
     "output_type": "execute_result"
    }
   ],
   "source": [
    "# 데이터 확인\n",
    "df"
   ],
   "metadata": {
    "collapsed": false,
    "ExecuteTime": {
     "end_time": "2023-07-11T06:07:26.012632Z",
     "start_time": "2023-07-11T06:07:25.537558Z"
    }
   }
  },
  {
   "cell_type": "code",
   "execution_count": 212,
   "outputs": [
    {
     "data": {
      "text/plain": "Unnamed: 0    9\n메뉴            9\n가격            9\n호수            9\n칼로리           8\n할인율           8\n할인가           8\n원산지           4\ndtype: int64"
     },
     "execution_count": 212,
     "metadata": {},
     "output_type": "execute_result"
    }
   ],
   "source": [
    "# 카운트(컬럼) 기본값 axis=0\n",
    "df.count()"
   ],
   "metadata": {
    "collapsed": false,
    "ExecuteTime": {
     "end_time": "2023-07-11T06:07:26.012854Z",
     "start_time": "2023-07-11T06:07:25.542498Z"
    }
   }
  },
  {
   "cell_type": "code",
   "execution_count": 213,
   "outputs": [
    {
     "data": {
      "text/plain": "0    8\n1    7\n2    7\n3    7\n4    8\n5    8\n6    7\n7    8\n8    4\ndtype: int64"
     },
     "execution_count": 213,
     "metadata": {},
     "output_type": "execute_result"
    }
   ],
   "source": [
    "# 카운트(행) axis=1\n",
    "df.count(axis=1)"
   ],
   "metadata": {
    "collapsed": false,
    "ExecuteTime": {
     "end_time": "2023-07-11T06:07:26.013043Z",
     "start_time": "2023-07-11T06:07:25.546410Z"
    }
   }
  },
  {
   "cell_type": "code",
   "execution_count": 214,
   "outputs": [
    {
     "data": {
      "text/plain": "9"
     },
     "execution_count": 214,
     "metadata": {},
     "output_type": "execute_result"
    }
   ],
   "source": [
    "#[tip] 데이터 수 len(),shape[0]\n",
    "len(df)\n",
    "df.shape[0]"
   ],
   "metadata": {
    "collapsed": false,
    "ExecuteTime": {
     "end_time": "2023-07-11T06:07:26.013198Z",
     "start_time": "2023-07-11T06:07:25.552732Z"
    }
   }
  },
  {
   "cell_type": "code",
   "execution_count": 215,
   "outputs": [
    {
     "data": {
      "text/plain": "16000"
     },
     "execution_count": 215,
     "metadata": {},
     "output_type": "execute_result"
    }
   ],
   "source": [
    "#최대값\n",
    "df['가격'].max()"
   ],
   "metadata": {
    "collapsed": false,
    "ExecuteTime": {
     "end_time": "2023-07-11T06:07:26.013336Z",
     "start_time": "2023-07-11T06:07:25.556572Z"
    }
   }
  },
  {
   "cell_type": "code",
   "execution_count": 216,
   "outputs": [
    {
     "data": {
      "text/plain": "9900"
     },
     "execution_count": 216,
     "metadata": {},
     "output_type": "execute_result"
    }
   ],
   "source": [
    "#최소값\n",
    "df['가격'].min()"
   ],
   "metadata": {
    "collapsed": false,
    "ExecuteTime": {
     "end_time": "2023-07-11T06:07:26.013504Z",
     "start_time": "2023-07-11T06:07:25.560775Z"
    }
   }
  },
  {
   "cell_type": "code",
   "execution_count": 217,
   "outputs": [
    {
     "data": {
      "text/plain": "13433.333333333334"
     },
     "execution_count": 217,
     "metadata": {},
     "output_type": "execute_result"
    }
   ],
   "source": [
    "#평균값\n",
    "df['가격'].mean()"
   ],
   "metadata": {
    "collapsed": false,
    "ExecuteTime": {
     "end_time": "2023-07-11T06:07:26.013630Z",
     "start_time": "2023-07-11T06:07:25.567591Z"
    }
   }
  },
  {
   "cell_type": "code",
   "execution_count": 218,
   "outputs": [
    {
     "data": {
      "text/plain": "14000.0"
     },
     "execution_count": 218,
     "metadata": {},
     "output_type": "execute_result"
    }
   ],
   "source": [
    "#중간값\n",
    "df['가격'].median()"
   ],
   "metadata": {
    "collapsed": false,
    "ExecuteTime": {
     "end_time": "2023-07-11T06:07:26.013774Z",
     "start_time": "2023-07-11T06:07:25.572970Z"
    }
   }
  },
  {
   "cell_type": "code",
   "execution_count": 219,
   "outputs": [
    {
     "data": {
      "text/plain": "120900"
     },
     "execution_count": 219,
     "metadata": {},
     "output_type": "execute_result"
    }
   ],
   "source": [
    "#합계\n",
    "df['가격'].sum()"
   ],
   "metadata": {
    "collapsed": false,
    "ExecuteTime": {
     "end_time": "2023-07-11T06:07:26.013901Z",
     "start_time": "2023-07-11T06:07:25.577885Z"
    }
   }
  },
  {
   "cell_type": "code",
   "execution_count": 220,
   "outputs": [
    {
     "data": {
      "text/plain": "1764.936259472279"
     },
     "execution_count": 220,
     "metadata": {},
     "output_type": "execute_result"
    }
   ],
   "source": [
    "#표준편차\n",
    "df['가격'].std()"
   ],
   "metadata": {
    "collapsed": false,
    "ExecuteTime": {
     "end_time": "2023-07-11T06:07:26.014029Z",
     "start_time": "2023-07-11T06:07:25.582800Z"
    }
   }
  },
  {
   "cell_type": "code",
   "execution_count": 221,
   "outputs": [
    {
     "data": {
      "text/plain": "3115000.0"
     },
     "execution_count": 221,
     "metadata": {},
     "output_type": "execute_result"
    }
   ],
   "source": [
    "#분산\n",
    "df['가격'].var()"
   ],
   "metadata": {
    "collapsed": false,
    "ExecuteTime": {
     "end_time": "2023-07-11T06:07:26.014155Z",
     "start_time": "2023-07-11T06:07:25.587454Z"
    }
   }
  },
  {
   "cell_type": "code",
   "execution_count": 222,
   "outputs": [
    {
     "data": {
      "text/plain": "                 가격          칼로리       할인율           할인가\ncount      9.000000     8.000000  8.000000      8.000000\nmean   13433.333333  1387.500000  0.237500  10500.000000\nstd     1764.936259   247.487373  0.106066   1242.118007\nmin     9900.000000  1000.000000  0.200000   8000.000000\n25%    13000.000000  1275.000000  0.200000  10200.000000\n50%    14000.000000  1350.000000  0.200000  10800.000000\n75%    14000.000000  1525.000000  0.200000  11200.000000\nmax    16000.000000  1800.000000  0.500000  12000.000000",
      "text/html": "<div>\n<style scoped>\n    .dataframe tbody tr th:only-of-type {\n        vertical-align: middle;\n    }\n\n    .dataframe tbody tr th {\n        vertical-align: top;\n    }\n\n    .dataframe thead th {\n        text-align: right;\n    }\n</style>\n<table border=\"1\" class=\"dataframe\">\n  <thead>\n    <tr style=\"text-align: right;\">\n      <th></th>\n      <th>가격</th>\n      <th>칼로리</th>\n      <th>할인율</th>\n      <th>할인가</th>\n    </tr>\n  </thead>\n  <tbody>\n    <tr>\n      <th>count</th>\n      <td>9.000000</td>\n      <td>8.000000</td>\n      <td>8.000000</td>\n      <td>8.000000</td>\n    </tr>\n    <tr>\n      <th>mean</th>\n      <td>13433.333333</td>\n      <td>1387.500000</td>\n      <td>0.237500</td>\n      <td>10500.000000</td>\n    </tr>\n    <tr>\n      <th>std</th>\n      <td>1764.936259</td>\n      <td>247.487373</td>\n      <td>0.106066</td>\n      <td>1242.118007</td>\n    </tr>\n    <tr>\n      <th>min</th>\n      <td>9900.000000</td>\n      <td>1000.000000</td>\n      <td>0.200000</td>\n      <td>8000.000000</td>\n    </tr>\n    <tr>\n      <th>25%</th>\n      <td>13000.000000</td>\n      <td>1275.000000</td>\n      <td>0.200000</td>\n      <td>10200.000000</td>\n    </tr>\n    <tr>\n      <th>50%</th>\n      <td>14000.000000</td>\n      <td>1350.000000</td>\n      <td>0.200000</td>\n      <td>10800.000000</td>\n    </tr>\n    <tr>\n      <th>75%</th>\n      <td>14000.000000</td>\n      <td>1525.000000</td>\n      <td>0.200000</td>\n      <td>11200.000000</td>\n    </tr>\n    <tr>\n      <th>max</th>\n      <td>16000.000000</td>\n      <td>1800.000000</td>\n      <td>0.500000</td>\n      <td>12000.000000</td>\n    </tr>\n  </tbody>\n</table>\n</div>"
     },
     "execution_count": 222,
     "metadata": {},
     "output_type": "execute_result"
    }
   ],
   "source": [
    "#백분위수\n",
    "df.describe()"
   ],
   "metadata": {
    "collapsed": false,
    "ExecuteTime": {
     "end_time": "2023-07-11T06:07:26.014313Z",
     "start_time": "2023-07-11T06:07:25.590022Z"
    }
   }
  },
  {
   "cell_type": "code",
   "execution_count": 223,
   "outputs": [
    {
     "data": {
      "text/plain": "13000.0"
     },
     "execution_count": 223,
     "metadata": {},
     "output_type": "execute_result"
    }
   ],
   "source": [
    "# 하위 25% 값\n",
    "df['가격'].quantile(0.25)"
   ],
   "metadata": {
    "collapsed": false,
    "ExecuteTime": {
     "end_time": "2023-07-11T06:07:26.014458Z",
     "start_time": "2023-07-11T06:07:25.605811Z"
    }
   }
  },
  {
   "cell_type": "code",
   "execution_count": 224,
   "outputs": [
    {
     "data": {
      "text/plain": "14000.0"
     },
     "execution_count": 224,
     "metadata": {},
     "output_type": "execute_result"
    }
   ],
   "source": [
    "# 상위 25% 값\n",
    "df['가격'].quantile(0.75)"
   ],
   "metadata": {
    "collapsed": false,
    "ExecuteTime": {
     "end_time": "2023-07-11T06:07:26.014590Z",
     "start_time": "2023-07-11T06:07:25.609875Z"
    }
   }
  },
  {
   "cell_type": "code",
   "execution_count": 225,
   "outputs": [
    {
     "data": {
      "text/plain": "  Unnamed: 0         메뉴     가격   호수     칼로리  할인율     할인가  원산지\n0          0     황금후라이드  12000  10호  1000.0  0.2  9600.0  국내산\n8         10  [베스트]풀잎치킨   9900  10호     NaN  NaN     NaN  NaN",
      "text/html": "<div>\n<style scoped>\n    .dataframe tbody tr th:only-of-type {\n        vertical-align: middle;\n    }\n\n    .dataframe tbody tr th {\n        vertical-align: top;\n    }\n\n    .dataframe thead th {\n        text-align: right;\n    }\n</style>\n<table border=\"1\" class=\"dataframe\">\n  <thead>\n    <tr style=\"text-align: right;\">\n      <th></th>\n      <th>Unnamed: 0</th>\n      <th>메뉴</th>\n      <th>가격</th>\n      <th>호수</th>\n      <th>칼로리</th>\n      <th>할인율</th>\n      <th>할인가</th>\n      <th>원산지</th>\n    </tr>\n  </thead>\n  <tbody>\n    <tr>\n      <th>0</th>\n      <td>0</td>\n      <td>황금후라이드</td>\n      <td>12000</td>\n      <td>10호</td>\n      <td>1000.0</td>\n      <td>0.2</td>\n      <td>9600.0</td>\n      <td>국내산</td>\n    </tr>\n    <tr>\n      <th>8</th>\n      <td>10</td>\n      <td>[베스트]풀잎치킨</td>\n      <td>9900</td>\n      <td>10호</td>\n      <td>NaN</td>\n      <td>NaN</td>\n      <td>NaN</td>\n      <td>NaN</td>\n    </tr>\n  </tbody>\n</table>\n</div>"
     },
     "execution_count": 225,
     "metadata": {},
     "output_type": "execute_result"
    }
   ],
   "source": [
    "# 하위 25% 보다 작은 데이터 값\n",
    "cond = df['가격'].quantile(0.25) > df['가격']\n",
    "df[cond]"
   ],
   "metadata": {
    "collapsed": false,
    "ExecuteTime": {
     "end_time": "2023-07-11T06:07:26.014735Z",
     "start_time": "2023-07-11T06:07:25.619784Z"
    }
   }
  },
  {
   "cell_type": "code",
   "execution_count": 226,
   "outputs": [
    {
     "data": {
      "text/plain": "  Unnamed: 0         메뉴     가격   호수     칼로리  할인율      할인가  원산지\n5          5        닭강정  15000  12호  1500.0  0.2  12000.0  브라질\n7        new  [인기]아이펠치킨  16000  11호  1200.0  0.5   8000.0  국내산",
      "text/html": "<div>\n<style scoped>\n    .dataframe tbody tr th:only-of-type {\n        vertical-align: middle;\n    }\n\n    .dataframe tbody tr th {\n        vertical-align: top;\n    }\n\n    .dataframe thead th {\n        text-align: right;\n    }\n</style>\n<table border=\"1\" class=\"dataframe\">\n  <thead>\n    <tr style=\"text-align: right;\">\n      <th></th>\n      <th>Unnamed: 0</th>\n      <th>메뉴</th>\n      <th>가격</th>\n      <th>호수</th>\n      <th>칼로리</th>\n      <th>할인율</th>\n      <th>할인가</th>\n      <th>원산지</th>\n    </tr>\n  </thead>\n  <tbody>\n    <tr>\n      <th>5</th>\n      <td>5</td>\n      <td>닭강정</td>\n      <td>15000</td>\n      <td>12호</td>\n      <td>1500.0</td>\n      <td>0.2</td>\n      <td>12000.0</td>\n      <td>브라질</td>\n    </tr>\n    <tr>\n      <th>7</th>\n      <td>new</td>\n      <td>[인기]아이펠치킨</td>\n      <td>16000</td>\n      <td>11호</td>\n      <td>1200.0</td>\n      <td>0.5</td>\n      <td>8000.0</td>\n      <td>국내산</td>\n    </tr>\n  </tbody>\n</table>\n</div>"
     },
     "execution_count": 226,
     "metadata": {},
     "output_type": "execute_result"
    }
   ],
   "source": [
    "# 상위 25% 보다 큰 데이터 값\n",
    "cond = df['가격'].quantile(0.75) < df['가격']\n",
    "df[cond]"
   ],
   "metadata": {
    "collapsed": false,
    "ExecuteTime": {
     "end_time": "2023-07-11T06:07:26.014992Z",
     "start_time": "2023-07-11T06:07:25.626776Z"
    }
   }
  },
  {
   "cell_type": "code",
   "execution_count": 227,
   "outputs": [
    {
     "data": {
      "text/plain": "'국내산'"
     },
     "execution_count": 227,
     "metadata": {},
     "output_type": "execute_result"
    }
   ],
   "source": [
    "# 최빈값 구하기\n",
    "df['원산지'].mode()[0]"
   ],
   "metadata": {
    "collapsed": false,
    "ExecuteTime": {
     "end_time": "2023-07-11T06:07:26.015302Z",
     "start_time": "2023-07-11T06:07:25.637461Z"
    }
   }
  },
  {
   "cell_type": "code",
   "execution_count": 228,
   "outputs": [
    {
     "data": {
      "text/plain": "                 0        1        2        3        4        5         6  \\\nUnnamed: 0       0        1        2        3        4        5         6   \n메뉴          황금후라이드   승일양념치킨     간장치킨     마늘치킨       파닭      닭강정  양념반후라이드반   \n가격           12000    13000    14000    14000    14000    15000     13000   \n호수             10호      10호       9호       9호      11호      12호       10호   \n칼로리         1000.0   1400.0   1600.0   1800.0   1300.0   1500.0    1300.0   \n할인율            0.2      0.2      0.2      0.2      0.2      0.2       0.2   \n할인가         9600.0  10400.0  11200.0  11200.0  11200.0  12000.0   10400.0   \n원산지            국내산      NaN      NaN      NaN      브라질      브라질       NaN   \n\n                    7          8  \nUnnamed: 0        new         10  \n메뉴          [인기]아이펠치킨  [베스트]풀잎치킨  \n가격              16000       9900  \n호수                11호        10호  \n칼로리            1200.0        NaN  \n할인율               0.5        NaN  \n할인가            8000.0        NaN  \n원산지               국내산        NaN  ",
      "text/html": "<div>\n<style scoped>\n    .dataframe tbody tr th:only-of-type {\n        vertical-align: middle;\n    }\n\n    .dataframe tbody tr th {\n        vertical-align: top;\n    }\n\n    .dataframe thead th {\n        text-align: right;\n    }\n</style>\n<table border=\"1\" class=\"dataframe\">\n  <thead>\n    <tr style=\"text-align: right;\">\n      <th></th>\n      <th>0</th>\n      <th>1</th>\n      <th>2</th>\n      <th>3</th>\n      <th>4</th>\n      <th>5</th>\n      <th>6</th>\n      <th>7</th>\n      <th>8</th>\n    </tr>\n  </thead>\n  <tbody>\n    <tr>\n      <th>Unnamed: 0</th>\n      <td>0</td>\n      <td>1</td>\n      <td>2</td>\n      <td>3</td>\n      <td>4</td>\n      <td>5</td>\n      <td>6</td>\n      <td>new</td>\n      <td>10</td>\n    </tr>\n    <tr>\n      <th>메뉴</th>\n      <td>황금후라이드</td>\n      <td>승일양념치킨</td>\n      <td>간장치킨</td>\n      <td>마늘치킨</td>\n      <td>파닭</td>\n      <td>닭강정</td>\n      <td>양념반후라이드반</td>\n      <td>[인기]아이펠치킨</td>\n      <td>[베스트]풀잎치킨</td>\n    </tr>\n    <tr>\n      <th>가격</th>\n      <td>12000</td>\n      <td>13000</td>\n      <td>14000</td>\n      <td>14000</td>\n      <td>14000</td>\n      <td>15000</td>\n      <td>13000</td>\n      <td>16000</td>\n      <td>9900</td>\n    </tr>\n    <tr>\n      <th>호수</th>\n      <td>10호</td>\n      <td>10호</td>\n      <td>9호</td>\n      <td>9호</td>\n      <td>11호</td>\n      <td>12호</td>\n      <td>10호</td>\n      <td>11호</td>\n      <td>10호</td>\n    </tr>\n    <tr>\n      <th>칼로리</th>\n      <td>1000.0</td>\n      <td>1400.0</td>\n      <td>1600.0</td>\n      <td>1800.0</td>\n      <td>1300.0</td>\n      <td>1500.0</td>\n      <td>1300.0</td>\n      <td>1200.0</td>\n      <td>NaN</td>\n    </tr>\n    <tr>\n      <th>할인율</th>\n      <td>0.2</td>\n      <td>0.2</td>\n      <td>0.2</td>\n      <td>0.2</td>\n      <td>0.2</td>\n      <td>0.2</td>\n      <td>0.2</td>\n      <td>0.5</td>\n      <td>NaN</td>\n    </tr>\n    <tr>\n      <th>할인가</th>\n      <td>9600.0</td>\n      <td>10400.0</td>\n      <td>11200.0</td>\n      <td>11200.0</td>\n      <td>11200.0</td>\n      <td>12000.0</td>\n      <td>10400.0</td>\n      <td>8000.0</td>\n      <td>NaN</td>\n    </tr>\n    <tr>\n      <th>원산지</th>\n      <td>국내산</td>\n      <td>NaN</td>\n      <td>NaN</td>\n      <td>NaN</td>\n      <td>브라질</td>\n      <td>브라질</td>\n      <td>NaN</td>\n      <td>국내산</td>\n      <td>NaN</td>\n    </tr>\n  </tbody>\n</table>\n</div>"
     },
     "execution_count": 228,
     "metadata": {},
     "output_type": "execute_result"
    }
   ],
   "source": [
    "# 행과 열 바꾸기(transpose)\n",
    "df.T"
   ],
   "metadata": {
    "collapsed": false,
    "ExecuteTime": {
     "end_time": "2023-07-11T06:07:26.015541Z",
     "start_time": "2023-07-11T06:07:25.648862Z"
    }
   }
  },
  {
   "cell_type": "code",
   "execution_count": 229,
   "outputs": [],
   "source": [
    "# 그룹핑"
   ],
   "metadata": {
    "collapsed": false,
    "ExecuteTime": {
     "end_time": "2023-07-11T06:07:26.015703Z",
     "start_time": "2023-07-11T06:07:25.651662Z"
    }
   }
  },
  {
   "cell_type": "code",
   "execution_count": 230,
   "outputs": [
    {
     "name": "stderr",
     "output_type": "stream",
     "text": [
      "/var/folders/jd/qspsq8mn2db0y77ryp1w10_c0000gp/T/ipykernel_16475/3062215196.py:2: FutureWarning: The default value of numeric_only in DataFrameGroupBy.mean is deprecated. In a future version, numeric_only will default to False. Either specify numeric_only or select only columns which should be valid for the function.\n",
      "  df.groupby('원산지').mean()\n"
     ]
    },
    {
     "data": {
      "text/plain": "          가격     칼로리   할인율      할인가\n원산지                                \n국내산  14000.0  1100.0  0.35   8800.0\n브라질  14500.0  1400.0  0.20  11600.0",
      "text/html": "<div>\n<style scoped>\n    .dataframe tbody tr th:only-of-type {\n        vertical-align: middle;\n    }\n\n    .dataframe tbody tr th {\n        vertical-align: top;\n    }\n\n    .dataframe thead th {\n        text-align: right;\n    }\n</style>\n<table border=\"1\" class=\"dataframe\">\n  <thead>\n    <tr style=\"text-align: right;\">\n      <th></th>\n      <th>가격</th>\n      <th>칼로리</th>\n      <th>할인율</th>\n      <th>할인가</th>\n    </tr>\n    <tr>\n      <th>원산지</th>\n      <th></th>\n      <th></th>\n      <th></th>\n      <th></th>\n    </tr>\n  </thead>\n  <tbody>\n    <tr>\n      <th>국내산</th>\n      <td>14000.0</td>\n      <td>1100.0</td>\n      <td>0.35</td>\n      <td>8800.0</td>\n    </tr>\n    <tr>\n      <th>브라질</th>\n      <td>14500.0</td>\n      <td>1400.0</td>\n      <td>0.20</td>\n      <td>11600.0</td>\n    </tr>\n  </tbody>\n</table>\n</div>"
     },
     "execution_count": 230,
     "metadata": {},
     "output_type": "execute_result"
    }
   ],
   "source": [
    "# 원산지 기준, 평균\n",
    "df.groupby('원산지').mean()"
   ],
   "metadata": {
    "collapsed": false,
    "ExecuteTime": {
     "end_time": "2023-07-11T06:07:26.015974Z",
     "start_time": "2023-07-11T06:07:25.654820Z"
    }
   }
  },
  {
   "cell_type": "code",
   "execution_count": 231,
   "outputs": [
    {
     "name": "stderr",
     "output_type": "stream",
     "text": [
      "/var/folders/jd/qspsq8mn2db0y77ryp1w10_c0000gp/T/ipykernel_16475/1004756624.py:2: FutureWarning: The default value of numeric_only in DataFrameGroupBy.mean is deprecated. In a future version, numeric_only will default to False. Either specify numeric_only or select only columns which should be valid for the function.\n",
      "  df.groupby(['원산지','할인율']).mean()\n"
     ]
    },
    {
     "data": {
      "text/plain": "              가격     칼로리      할인가\n원산지 할인율                          \n국내산 0.2  12000.0  1000.0   9600.0\n    0.5  16000.0  1200.0   8000.0\n브라질 0.2  14500.0  1400.0  11600.0",
      "text/html": "<div>\n<style scoped>\n    .dataframe tbody tr th:only-of-type {\n        vertical-align: middle;\n    }\n\n    .dataframe tbody tr th {\n        vertical-align: top;\n    }\n\n    .dataframe thead th {\n        text-align: right;\n    }\n</style>\n<table border=\"1\" class=\"dataframe\">\n  <thead>\n    <tr style=\"text-align: right;\">\n      <th></th>\n      <th></th>\n      <th>가격</th>\n      <th>칼로리</th>\n      <th>할인가</th>\n    </tr>\n    <tr>\n      <th>원산지</th>\n      <th>할인율</th>\n      <th></th>\n      <th></th>\n      <th></th>\n    </tr>\n  </thead>\n  <tbody>\n    <tr>\n      <th rowspan=\"2\" valign=\"top\">국내산</th>\n      <th>0.2</th>\n      <td>12000.0</td>\n      <td>1000.0</td>\n      <td>9600.0</td>\n    </tr>\n    <tr>\n      <th>0.5</th>\n      <td>16000.0</td>\n      <td>1200.0</td>\n      <td>8000.0</td>\n    </tr>\n    <tr>\n      <th>브라질</th>\n      <th>0.2</th>\n      <td>14500.0</td>\n      <td>1400.0</td>\n      <td>11600.0</td>\n    </tr>\n  </tbody>\n</table>\n</div>"
     },
     "execution_count": 231,
     "metadata": {},
     "output_type": "execute_result"
    }
   ],
   "source": [
    "#원산지와 할인율 기준, 평균\n",
    "df.groupby(['원산지','할인율']).mean()"
   ],
   "metadata": {
    "collapsed": false,
    "ExecuteTime": {
     "end_time": "2023-07-11T06:07:26.016330Z",
     "start_time": "2023-07-11T06:07:25.665983Z"
    }
   }
  },
  {
   "cell_type": "code",
   "execution_count": 232,
   "outputs": [
    {
     "data": {
      "text/plain": "원산지  할인율\n국내산  0.2    12000.0\n     0.5    16000.0\n브라질  0.2    14500.0\nName: 가격, dtype: float64"
     },
     "execution_count": 232,
     "metadata": {},
     "output_type": "execute_result"
    }
   ],
   "source": [
    "# 원산지와 할인율 기준, 가격 평균 -> 시리즈 형태\n",
    "df.groupby(['원산지','할인율'])['가격'].mean()"
   ],
   "metadata": {
    "collapsed": false,
    "ExecuteTime": {
     "end_time": "2023-07-11T06:07:26.016633Z",
     "start_time": "2023-07-11T06:07:25.689024Z"
    }
   }
  },
  {
   "cell_type": "code",
   "execution_count": 233,
   "outputs": [
    {
     "data": {
      "text/plain": "              가격\n원산지 할인율         \n국내산 0.2  12000.0\n    0.5  16000.0\n브라질 0.2  14500.0",
      "text/html": "<div>\n<style scoped>\n    .dataframe tbody tr th:only-of-type {\n        vertical-align: middle;\n    }\n\n    .dataframe tbody tr th {\n        vertical-align: top;\n    }\n\n    .dataframe thead th {\n        text-align: right;\n    }\n</style>\n<table border=\"1\" class=\"dataframe\">\n  <thead>\n    <tr style=\"text-align: right;\">\n      <th></th>\n      <th></th>\n      <th>가격</th>\n    </tr>\n    <tr>\n      <th>원산지</th>\n      <th>할인율</th>\n      <th></th>\n    </tr>\n  </thead>\n  <tbody>\n    <tr>\n      <th rowspan=\"2\" valign=\"top\">국내산</th>\n      <th>0.2</th>\n      <td>12000.0</td>\n    </tr>\n    <tr>\n      <th>0.5</th>\n      <td>16000.0</td>\n    </tr>\n    <tr>\n      <th>브라질</th>\n      <th>0.2</th>\n      <td>14500.0</td>\n    </tr>\n  </tbody>\n</table>\n</div>"
     },
     "execution_count": 233,
     "metadata": {},
     "output_type": "execute_result"
    }
   ],
   "source": [
    "# 원산지와 할인율 기준, 가격 평균 -> 데이터프레임 형태1\n",
    "pd.DataFrame(df.groupby(['원산지','할인율'])['가격'].mean())"
   ],
   "metadata": {
    "collapsed": false,
    "ExecuteTime": {
     "end_time": "2023-07-11T06:07:26.016949Z",
     "start_time": "2023-07-11T06:07:25.698733Z"
    }
   }
  },
  {
   "cell_type": "code",
   "execution_count": 234,
   "outputs": [
    {
     "data": {
      "text/plain": "              가격\n원산지 할인율         \n국내산 0.2  12000.0\n    0.5  16000.0\n브라질 0.2  14500.0",
      "text/html": "<div>\n<style scoped>\n    .dataframe tbody tr th:only-of-type {\n        vertical-align: middle;\n    }\n\n    .dataframe tbody tr th {\n        vertical-align: top;\n    }\n\n    .dataframe thead th {\n        text-align: right;\n    }\n</style>\n<table border=\"1\" class=\"dataframe\">\n  <thead>\n    <tr style=\"text-align: right;\">\n      <th></th>\n      <th></th>\n      <th>가격</th>\n    </tr>\n    <tr>\n      <th>원산지</th>\n      <th>할인율</th>\n      <th></th>\n    </tr>\n  </thead>\n  <tbody>\n    <tr>\n      <th rowspan=\"2\" valign=\"top\">국내산</th>\n      <th>0.2</th>\n      <td>12000.0</td>\n    </tr>\n    <tr>\n      <th>0.5</th>\n      <td>16000.0</td>\n    </tr>\n    <tr>\n      <th>브라질</th>\n      <th>0.2</th>\n      <td>14500.0</td>\n    </tr>\n  </tbody>\n</table>\n</div>"
     },
     "execution_count": 234,
     "metadata": {},
     "output_type": "execute_result"
    }
   ],
   "source": [
    "# 원산지와 할인율 기준, 가격 평균 -> 데이터프레임 형태2\n",
    "df.groupby(['원산지','할인율'])[['가격']].mean()\n",
    "# 가격에 []를 두번 씌우면 데이터프레임 형태로 나옴"
   ],
   "metadata": {
    "collapsed": false,
    "ExecuteTime": {
     "end_time": "2023-07-11T06:07:26.017181Z",
     "start_time": "2023-07-11T06:07:25.709282Z"
    }
   }
  },
  {
   "cell_type": "code",
   "execution_count": 235,
   "outputs": [
    {
     "data": {
      "text/plain": "        Unnamed: 0         메뉴     가격   호수     칼로리      할인가\n원산지 할인율                                                   \n국내산 0.2          0     황금후라이드  12000  10호  1000.0   9600.0\n    0.5        new  [인기]아이펠치킨  16000  11호  1200.0   8000.0\n브라질 0.2          5         파닭  15000  12호  1500.0  12000.0",
      "text/html": "<div>\n<style scoped>\n    .dataframe tbody tr th:only-of-type {\n        vertical-align: middle;\n    }\n\n    .dataframe tbody tr th {\n        vertical-align: top;\n    }\n\n    .dataframe thead th {\n        text-align: right;\n    }\n</style>\n<table border=\"1\" class=\"dataframe\">\n  <thead>\n    <tr style=\"text-align: right;\">\n      <th></th>\n      <th></th>\n      <th>Unnamed: 0</th>\n      <th>메뉴</th>\n      <th>가격</th>\n      <th>호수</th>\n      <th>칼로리</th>\n      <th>할인가</th>\n    </tr>\n    <tr>\n      <th>원산지</th>\n      <th>할인율</th>\n      <th></th>\n      <th></th>\n      <th></th>\n      <th></th>\n      <th></th>\n      <th></th>\n    </tr>\n  </thead>\n  <tbody>\n    <tr>\n      <th rowspan=\"2\" valign=\"top\">국내산</th>\n      <th>0.2</th>\n      <td>0</td>\n      <td>황금후라이드</td>\n      <td>12000</td>\n      <td>10호</td>\n      <td>1000.0</td>\n      <td>9600.0</td>\n    </tr>\n    <tr>\n      <th>0.5</th>\n      <td>new</td>\n      <td>[인기]아이펠치킨</td>\n      <td>16000</td>\n      <td>11호</td>\n      <td>1200.0</td>\n      <td>8000.0</td>\n    </tr>\n    <tr>\n      <th>브라질</th>\n      <th>0.2</th>\n      <td>5</td>\n      <td>파닭</td>\n      <td>15000</td>\n      <td>12호</td>\n      <td>1500.0</td>\n      <td>12000.0</td>\n    </tr>\n  </tbody>\n</table>\n</div>"
     },
     "execution_count": 235,
     "metadata": {},
     "output_type": "execute_result"
    }
   ],
   "source": [
    "# 원산지와 할인율 기준, 최대값\n",
    "df.groupby(['원산지','할인율']).max()"
   ],
   "metadata": {
    "collapsed": false,
    "ExecuteTime": {
     "end_time": "2023-07-11T06:07:26.017468Z",
     "start_time": "2023-07-11T06:07:25.720683Z"
    }
   }
  },
  {
   "cell_type": "code",
   "execution_count": 236,
   "outputs": [
    {
     "data": {
      "text/plain": "   원산지  할인율 Unnamed: 0         메뉴     가격   호수     칼로리      할인가\n0  국내산  0.2          0     황금후라이드  12000  10호  1000.0   9600.0\n1  국내산  0.5        new  [인기]아이펠치킨  16000  11호  1200.0   8000.0\n2  브라질  0.2          5         파닭  15000  12호  1500.0  12000.0",
      "text/html": "<div>\n<style scoped>\n    .dataframe tbody tr th:only-of-type {\n        vertical-align: middle;\n    }\n\n    .dataframe tbody tr th {\n        vertical-align: top;\n    }\n\n    .dataframe thead th {\n        text-align: right;\n    }\n</style>\n<table border=\"1\" class=\"dataframe\">\n  <thead>\n    <tr style=\"text-align: right;\">\n      <th></th>\n      <th>원산지</th>\n      <th>할인율</th>\n      <th>Unnamed: 0</th>\n      <th>메뉴</th>\n      <th>가격</th>\n      <th>호수</th>\n      <th>칼로리</th>\n      <th>할인가</th>\n    </tr>\n  </thead>\n  <tbody>\n    <tr>\n      <th>0</th>\n      <td>국내산</td>\n      <td>0.2</td>\n      <td>0</td>\n      <td>황금후라이드</td>\n      <td>12000</td>\n      <td>10호</td>\n      <td>1000.0</td>\n      <td>9600.0</td>\n    </tr>\n    <tr>\n      <th>1</th>\n      <td>국내산</td>\n      <td>0.5</td>\n      <td>new</td>\n      <td>[인기]아이펠치킨</td>\n      <td>16000</td>\n      <td>11호</td>\n      <td>1200.0</td>\n      <td>8000.0</td>\n    </tr>\n    <tr>\n      <th>2</th>\n      <td>브라질</td>\n      <td>0.2</td>\n      <td>5</td>\n      <td>파닭</td>\n      <td>15000</td>\n      <td>12호</td>\n      <td>1500.0</td>\n      <td>12000.0</td>\n    </tr>\n  </tbody>\n</table>\n</div>"
     },
     "execution_count": 236,
     "metadata": {},
     "output_type": "execute_result"
    }
   ],
   "source": [
    "#1개 인덱스 형태로 리셋\n",
    "df.groupby(['원산지','할인율']).max().reset_index()"
   ],
   "metadata": {
    "collapsed": false,
    "ExecuteTime": {
     "end_time": "2023-07-11T06:07:26.017829Z",
     "start_time": "2023-07-11T06:07:25.723221Z"
    }
   }
  },
  {
   "cell_type": "code",
   "execution_count": 237,
   "outputs": [
    {
     "data": {
      "text/plain": "          가격          칼로리   할인율           할인가\n호수                                           \n10호  11975.0  1233.333333  0.20  10133.333333\n11호  15000.0  1250.000000  0.35   9600.000000\n12호  15000.0  1500.000000  0.20  12000.000000\n9호   14000.0  1700.000000  0.20  11200.000000",
      "text/html": "<div>\n<style scoped>\n    .dataframe tbody tr th:only-of-type {\n        vertical-align: middle;\n    }\n\n    .dataframe tbody tr th {\n        vertical-align: top;\n    }\n\n    .dataframe thead th {\n        text-align: right;\n    }\n</style>\n<table border=\"1\" class=\"dataframe\">\n  <thead>\n    <tr style=\"text-align: right;\">\n      <th></th>\n      <th>가격</th>\n      <th>칼로리</th>\n      <th>할인율</th>\n      <th>할인가</th>\n    </tr>\n    <tr>\n      <th>호수</th>\n      <th></th>\n      <th></th>\n      <th></th>\n      <th></th>\n    </tr>\n  </thead>\n  <tbody>\n    <tr>\n      <th>10호</th>\n      <td>11975.0</td>\n      <td>1233.333333</td>\n      <td>0.20</td>\n      <td>10133.333333</td>\n    </tr>\n    <tr>\n      <th>11호</th>\n      <td>15000.0</td>\n      <td>1250.000000</td>\n      <td>0.35</td>\n      <td>9600.000000</td>\n    </tr>\n    <tr>\n      <th>12호</th>\n      <td>15000.0</td>\n      <td>1500.000000</td>\n      <td>0.20</td>\n      <td>12000.000000</td>\n    </tr>\n    <tr>\n      <th>9호</th>\n      <td>14000.0</td>\n      <td>1700.000000</td>\n      <td>0.20</td>\n      <td>11200.000000</td>\n    </tr>\n  </tbody>\n</table>\n</div>"
     },
     "execution_count": 237,
     "metadata": {},
     "output_type": "execute_result"
    }
   ],
   "source": [
    "# Q. 다음 df 변수의 데이터에서 '호수'를 기준으로 가격, 칼로리, 할인율, 할인가의 평균을 뽑아주세요.\n",
    "df = pd.read_csv('new_modudak.csv')\n",
    "df\n",
    "df.groupby('호수')[['가격','칼로리','할인율','할인가']].mean()"
   ],
   "metadata": {
    "collapsed": false,
    "ExecuteTime": {
     "end_time": "2023-07-11T06:07:26.019081Z",
     "start_time": "2023-07-11T06:07:25.738438Z"
    }
   }
  },
  {
   "cell_type": "code",
   "execution_count": 238,
   "outputs": [],
   "source": [
    "# apply 함수"
   ],
   "metadata": {
    "collapsed": false,
    "ExecuteTime": {
     "end_time": "2023-07-11T06:07:26.019279Z",
     "start_time": "2023-07-11T06:07:25.748382Z"
    }
   }
  },
  {
   "cell_type": "code",
   "execution_count": 239,
   "outputs": [
    {
     "data": {
      "text/plain": "  Unnamed: 0         메뉴     가격   호수     칼로리  할인율      할인가  원산지\n0          0     황금후라이드  12000  10호  1000.0  0.2   9600.0  국내산\n1          1     승일양념치킨  13000  10호  1400.0  0.2  10400.0  NaN\n2          2       간장치킨  14000   9호  1600.0  0.2  11200.0  NaN\n3          3       마늘치킨  14000   9호  1800.0  0.2  11200.0  NaN\n4          4         파닭  14000  11호  1300.0  0.2  11200.0  브라질\n5          5        닭강정  15000  12호  1500.0  0.2  12000.0  브라질\n6          6   양념반후라이드반  13000  10호  1300.0  0.2  10400.0  NaN\n7        new  [인기]아이펠치킨  16000  11호  1200.0  0.5   8000.0  국내산\n8         10  [베스트]풀잎치킨   9900  10호     NaN  NaN      NaN  NaN",
      "text/html": "<div>\n<style scoped>\n    .dataframe tbody tr th:only-of-type {\n        vertical-align: middle;\n    }\n\n    .dataframe tbody tr th {\n        vertical-align: top;\n    }\n\n    .dataframe thead th {\n        text-align: right;\n    }\n</style>\n<table border=\"1\" class=\"dataframe\">\n  <thead>\n    <tr style=\"text-align: right;\">\n      <th></th>\n      <th>Unnamed: 0</th>\n      <th>메뉴</th>\n      <th>가격</th>\n      <th>호수</th>\n      <th>칼로리</th>\n      <th>할인율</th>\n      <th>할인가</th>\n      <th>원산지</th>\n    </tr>\n  </thead>\n  <tbody>\n    <tr>\n      <th>0</th>\n      <td>0</td>\n      <td>황금후라이드</td>\n      <td>12000</td>\n      <td>10호</td>\n      <td>1000.0</td>\n      <td>0.2</td>\n      <td>9600.0</td>\n      <td>국내산</td>\n    </tr>\n    <tr>\n      <th>1</th>\n      <td>1</td>\n      <td>승일양념치킨</td>\n      <td>13000</td>\n      <td>10호</td>\n      <td>1400.0</td>\n      <td>0.2</td>\n      <td>10400.0</td>\n      <td>NaN</td>\n    </tr>\n    <tr>\n      <th>2</th>\n      <td>2</td>\n      <td>간장치킨</td>\n      <td>14000</td>\n      <td>9호</td>\n      <td>1600.0</td>\n      <td>0.2</td>\n      <td>11200.0</td>\n      <td>NaN</td>\n    </tr>\n    <tr>\n      <th>3</th>\n      <td>3</td>\n      <td>마늘치킨</td>\n      <td>14000</td>\n      <td>9호</td>\n      <td>1800.0</td>\n      <td>0.2</td>\n      <td>11200.0</td>\n      <td>NaN</td>\n    </tr>\n    <tr>\n      <th>4</th>\n      <td>4</td>\n      <td>파닭</td>\n      <td>14000</td>\n      <td>11호</td>\n      <td>1300.0</td>\n      <td>0.2</td>\n      <td>11200.0</td>\n      <td>브라질</td>\n    </tr>\n    <tr>\n      <th>5</th>\n      <td>5</td>\n      <td>닭강정</td>\n      <td>15000</td>\n      <td>12호</td>\n      <td>1500.0</td>\n      <td>0.2</td>\n      <td>12000.0</td>\n      <td>브라질</td>\n    </tr>\n    <tr>\n      <th>6</th>\n      <td>6</td>\n      <td>양념반후라이드반</td>\n      <td>13000</td>\n      <td>10호</td>\n      <td>1300.0</td>\n      <td>0.2</td>\n      <td>10400.0</td>\n      <td>NaN</td>\n    </tr>\n    <tr>\n      <th>7</th>\n      <td>new</td>\n      <td>[인기]아이펠치킨</td>\n      <td>16000</td>\n      <td>11호</td>\n      <td>1200.0</td>\n      <td>0.5</td>\n      <td>8000.0</td>\n      <td>국내산</td>\n    </tr>\n    <tr>\n      <th>8</th>\n      <td>10</td>\n      <td>[베스트]풀잎치킨</td>\n      <td>9900</td>\n      <td>10호</td>\n      <td>NaN</td>\n      <td>NaN</td>\n      <td>NaN</td>\n      <td>NaN</td>\n    </tr>\n  </tbody>\n</table>\n</div>"
     },
     "execution_count": 239,
     "metadata": {},
     "output_type": "execute_result"
    }
   ],
   "source": [
    "# 데이터 확인\n",
    "df"
   ],
   "metadata": {
    "collapsed": false,
    "ExecuteTime": {
     "end_time": "2023-07-11T06:07:26.019529Z",
     "start_time": "2023-07-11T06:07:25.757106Z"
    }
   }
  },
  {
   "cell_type": "code",
   "execution_count": 240,
   "outputs": [
    {
     "data": {
      "text/plain": "0    1300보다 작음\n1     1300보다 큼\n2     1300보다 큼\n3     1300보다 큼\n4    1300보다 작음\n5     1300보다 큼\n6    1300보다 작음\n7    1300보다 작음\n8    1300보다 작음\nName: 칼로리, dtype: object"
     },
     "execution_count": 240,
     "metadata": {},
     "output_type": "execute_result"
    }
   ],
   "source": [
    "# apply 예시(칼로리가 1300 보다 큰 값과 작은 값)\n",
    "def calory(x):\n",
    "    if x > 1300:\n",
    "        return '1300보다 큼'\n",
    "    else:\n",
    "        return '1300보다 작음'\n",
    "df['칼로리'].apply(calory)"
   ],
   "metadata": {
    "collapsed": false,
    "ExecuteTime": {
     "end_time": "2023-07-11T06:07:26.019741Z",
     "start_time": "2023-07-11T06:07:25.759600Z"
    }
   }
  },
  {
   "cell_type": "code",
   "execution_count": 241,
   "outputs": [
    {
     "data": {
      "text/plain": "  Unnamed: 0         메뉴     가격   호수     칼로리  할인율      할인가  원산지       살찔까요\n0          0     황금후라이드  12000  10호  1000.0  0.2   9600.0  국내산  1300보다 작음\n1          1     승일양념치킨  13000  10호  1400.0  0.2  10400.0  NaN   1300보다 큼\n2          2       간장치킨  14000   9호  1600.0  0.2  11200.0  NaN   1300보다 큼\n3          3       마늘치킨  14000   9호  1800.0  0.2  11200.0  NaN   1300보다 큼\n4          4         파닭  14000  11호  1300.0  0.2  11200.0  브라질  1300보다 작음\n5          5        닭강정  15000  12호  1500.0  0.2  12000.0  브라질   1300보다 큼\n6          6   양념반후라이드반  13000  10호  1300.0  0.2  10400.0  NaN  1300보다 작음\n7        new  [인기]아이펠치킨  16000  11호  1200.0  0.5   8000.0  국내산  1300보다 작음\n8         10  [베스트]풀잎치킨   9900  10호     NaN  NaN      NaN  NaN  1300보다 작음",
      "text/html": "<div>\n<style scoped>\n    .dataframe tbody tr th:only-of-type {\n        vertical-align: middle;\n    }\n\n    .dataframe tbody tr th {\n        vertical-align: top;\n    }\n\n    .dataframe thead th {\n        text-align: right;\n    }\n</style>\n<table border=\"1\" class=\"dataframe\">\n  <thead>\n    <tr style=\"text-align: right;\">\n      <th></th>\n      <th>Unnamed: 0</th>\n      <th>메뉴</th>\n      <th>가격</th>\n      <th>호수</th>\n      <th>칼로리</th>\n      <th>할인율</th>\n      <th>할인가</th>\n      <th>원산지</th>\n      <th>살찔까요</th>\n    </tr>\n  </thead>\n  <tbody>\n    <tr>\n      <th>0</th>\n      <td>0</td>\n      <td>황금후라이드</td>\n      <td>12000</td>\n      <td>10호</td>\n      <td>1000.0</td>\n      <td>0.2</td>\n      <td>9600.0</td>\n      <td>국내산</td>\n      <td>1300보다 작음</td>\n    </tr>\n    <tr>\n      <th>1</th>\n      <td>1</td>\n      <td>승일양념치킨</td>\n      <td>13000</td>\n      <td>10호</td>\n      <td>1400.0</td>\n      <td>0.2</td>\n      <td>10400.0</td>\n      <td>NaN</td>\n      <td>1300보다 큼</td>\n    </tr>\n    <tr>\n      <th>2</th>\n      <td>2</td>\n      <td>간장치킨</td>\n      <td>14000</td>\n      <td>9호</td>\n      <td>1600.0</td>\n      <td>0.2</td>\n      <td>11200.0</td>\n      <td>NaN</td>\n      <td>1300보다 큼</td>\n    </tr>\n    <tr>\n      <th>3</th>\n      <td>3</td>\n      <td>마늘치킨</td>\n      <td>14000</td>\n      <td>9호</td>\n      <td>1800.0</td>\n      <td>0.2</td>\n      <td>11200.0</td>\n      <td>NaN</td>\n      <td>1300보다 큼</td>\n    </tr>\n    <tr>\n      <th>4</th>\n      <td>4</td>\n      <td>파닭</td>\n      <td>14000</td>\n      <td>11호</td>\n      <td>1300.0</td>\n      <td>0.2</td>\n      <td>11200.0</td>\n      <td>브라질</td>\n      <td>1300보다 작음</td>\n    </tr>\n    <tr>\n      <th>5</th>\n      <td>5</td>\n      <td>닭강정</td>\n      <td>15000</td>\n      <td>12호</td>\n      <td>1500.0</td>\n      <td>0.2</td>\n      <td>12000.0</td>\n      <td>브라질</td>\n      <td>1300보다 큼</td>\n    </tr>\n    <tr>\n      <th>6</th>\n      <td>6</td>\n      <td>양념반후라이드반</td>\n      <td>13000</td>\n      <td>10호</td>\n      <td>1300.0</td>\n      <td>0.2</td>\n      <td>10400.0</td>\n      <td>NaN</td>\n      <td>1300보다 작음</td>\n    </tr>\n    <tr>\n      <th>7</th>\n      <td>new</td>\n      <td>[인기]아이펠치킨</td>\n      <td>16000</td>\n      <td>11호</td>\n      <td>1200.0</td>\n      <td>0.5</td>\n      <td>8000.0</td>\n      <td>국내산</td>\n      <td>1300보다 작음</td>\n    </tr>\n    <tr>\n      <th>8</th>\n      <td>10</td>\n      <td>[베스트]풀잎치킨</td>\n      <td>9900</td>\n      <td>10호</td>\n      <td>NaN</td>\n      <td>NaN</td>\n      <td>NaN</td>\n      <td>NaN</td>\n      <td>1300보다 작음</td>\n    </tr>\n  </tbody>\n</table>\n</div>"
     },
     "execution_count": 241,
     "metadata": {},
     "output_type": "execute_result"
    }
   ],
   "source": [
    "# apply 적용해서 새로운 컬럼 생성(칼로리 컬럼 활용)\n",
    "df['살찔까요'] = df['칼로리'].apply(calory)\n",
    "df"
   ],
   "metadata": {
    "collapsed": false,
    "ExecuteTime": {
     "end_time": "2023-07-11T06:07:26.020003Z",
     "start_time": "2023-07-11T06:07:25.765583Z"
    }
   }
  },
  {
   "cell_type": "code",
   "execution_count": 242,
   "outputs": [
    {
     "data": {
      "text/plain": "  Unnamed: 0         메뉴     가격   호수     칼로리  할인율      할인가  원산지       살찔까요  \\\n0          0     황금후라이드  12000  10호  1000.0  0.2   9600.0  국내산  1300보다 작음   \n1          1     승일양념치킨  13000  10호  1400.0  0.2  10400.0  NaN   1300보다 큼   \n2          2       간장치킨  14000   9호  1600.0  0.2  11200.0  NaN   1300보다 큼   \n3          3       마늘치킨  14000   9호  1800.0  0.2  11200.0  NaN   1300보다 큼   \n4          4         파닭  14000  11호  1300.0  0.2  11200.0  브라질  1300보다 작음   \n5          5        닭강정  15000  12호  1500.0  0.2  12000.0  브라질   1300보다 큼   \n6          6   양념반후라이드반  13000  10호  1300.0  0.2  10400.0  NaN  1300보다 작음   \n7        new  [인기]아이펠치킨  16000  11호  1200.0  0.5   8000.0  국내산  1300보다 작음   \n8         10  [베스트]풀잎치킨   9900  10호     NaN  NaN      NaN  NaN  1300보다 작음   \n\n       고민  \n0  무조건 먹자  \n1    먹지말자  \n2    먹지말자  \n3    먹지말자  \n4  무조건 먹자  \n5    먹지말자  \n6  무조건 먹자  \n7  무조건 먹자  \n8  무조건 먹자  ",
      "text/html": "<div>\n<style scoped>\n    .dataframe tbody tr th:only-of-type {\n        vertical-align: middle;\n    }\n\n    .dataframe tbody tr th {\n        vertical-align: top;\n    }\n\n    .dataframe thead th {\n        text-align: right;\n    }\n</style>\n<table border=\"1\" class=\"dataframe\">\n  <thead>\n    <tr style=\"text-align: right;\">\n      <th></th>\n      <th>Unnamed: 0</th>\n      <th>메뉴</th>\n      <th>가격</th>\n      <th>호수</th>\n      <th>칼로리</th>\n      <th>할인율</th>\n      <th>할인가</th>\n      <th>원산지</th>\n      <th>살찔까요</th>\n      <th>고민</th>\n    </tr>\n  </thead>\n  <tbody>\n    <tr>\n      <th>0</th>\n      <td>0</td>\n      <td>황금후라이드</td>\n      <td>12000</td>\n      <td>10호</td>\n      <td>1000.0</td>\n      <td>0.2</td>\n      <td>9600.0</td>\n      <td>국내산</td>\n      <td>1300보다 작음</td>\n      <td>무조건 먹자</td>\n    </tr>\n    <tr>\n      <th>1</th>\n      <td>1</td>\n      <td>승일양념치킨</td>\n      <td>13000</td>\n      <td>10호</td>\n      <td>1400.0</td>\n      <td>0.2</td>\n      <td>10400.0</td>\n      <td>NaN</td>\n      <td>1300보다 큼</td>\n      <td>먹지말자</td>\n    </tr>\n    <tr>\n      <th>2</th>\n      <td>2</td>\n      <td>간장치킨</td>\n      <td>14000</td>\n      <td>9호</td>\n      <td>1600.0</td>\n      <td>0.2</td>\n      <td>11200.0</td>\n      <td>NaN</td>\n      <td>1300보다 큼</td>\n      <td>먹지말자</td>\n    </tr>\n    <tr>\n      <th>3</th>\n      <td>3</td>\n      <td>마늘치킨</td>\n      <td>14000</td>\n      <td>9호</td>\n      <td>1800.0</td>\n      <td>0.2</td>\n      <td>11200.0</td>\n      <td>NaN</td>\n      <td>1300보다 큼</td>\n      <td>먹지말자</td>\n    </tr>\n    <tr>\n      <th>4</th>\n      <td>4</td>\n      <td>파닭</td>\n      <td>14000</td>\n      <td>11호</td>\n      <td>1300.0</td>\n      <td>0.2</td>\n      <td>11200.0</td>\n      <td>브라질</td>\n      <td>1300보다 작음</td>\n      <td>무조건 먹자</td>\n    </tr>\n    <tr>\n      <th>5</th>\n      <td>5</td>\n      <td>닭강정</td>\n      <td>15000</td>\n      <td>12호</td>\n      <td>1500.0</td>\n      <td>0.2</td>\n      <td>12000.0</td>\n      <td>브라질</td>\n      <td>1300보다 큼</td>\n      <td>먹지말자</td>\n    </tr>\n    <tr>\n      <th>6</th>\n      <td>6</td>\n      <td>양념반후라이드반</td>\n      <td>13000</td>\n      <td>10호</td>\n      <td>1300.0</td>\n      <td>0.2</td>\n      <td>10400.0</td>\n      <td>NaN</td>\n      <td>1300보다 작음</td>\n      <td>무조건 먹자</td>\n    </tr>\n    <tr>\n      <th>7</th>\n      <td>new</td>\n      <td>[인기]아이펠치킨</td>\n      <td>16000</td>\n      <td>11호</td>\n      <td>1200.0</td>\n      <td>0.5</td>\n      <td>8000.0</td>\n      <td>국내산</td>\n      <td>1300보다 작음</td>\n      <td>무조건 먹자</td>\n    </tr>\n    <tr>\n      <th>8</th>\n      <td>10</td>\n      <td>[베스트]풀잎치킨</td>\n      <td>9900</td>\n      <td>10호</td>\n      <td>NaN</td>\n      <td>NaN</td>\n      <td>NaN</td>\n      <td>NaN</td>\n      <td>1300보다 작음</td>\n      <td>무조건 먹자</td>\n    </tr>\n  </tbody>\n</table>\n</div>"
     },
     "execution_count": 242,
     "metadata": {},
     "output_type": "execute_result"
    }
   ],
   "source": [
    "# lambda 함수, apply 활용\n",
    "df['고민']=df['칼로리'].apply(lambda x: '먹지말자' if x > 1300 else '무조건 먹자')\n",
    "df"
   ],
   "metadata": {
    "collapsed": false,
    "ExecuteTime": {
     "end_time": "2023-07-11T06:07:26.020229Z",
     "start_time": "2023-07-11T06:07:25.776876Z"
    }
   }
  },
  {
   "cell_type": "code",
   "execution_count": 243,
   "outputs": [],
   "source": [
    "# df 저장(final_modudak.csv)\n",
    "df.to_csv('final_modudak.csv',index=False)"
   ],
   "metadata": {
    "collapsed": false,
    "ExecuteTime": {
     "end_time": "2023-07-11T06:07:26.020366Z",
     "start_time": "2023-07-11T06:07:25.789346Z"
    }
   }
  },
  {
   "cell_type": "code",
   "execution_count": 244,
   "outputs": [
    {
     "data": {
      "text/plain": "  Unnamed: 0         메뉴     가격   호수     칼로리  할인율      할인가  원산지       살찔까요  \\\n0          0     황금후라이드  12000  10호  1000.0  0.2   9600.0  국내산  1300보다 작음   \n1          1     승일양념치킨  13000  10호  1400.0  0.2  10400.0  NaN   1300보다 큼   \n2          2       간장치킨  14000   9호  1600.0  0.2  11200.0  NaN   1300보다 큼   \n3          3       마늘치킨  14000   9호  1800.0  0.2  11200.0  NaN   1300보다 큼   \n4          4         파닭  14000  11호  1300.0  0.2  11200.0  브라질  1300보다 작음   \n5          5        닭강정  15000  12호  1500.0  0.2  12000.0  브라질   1300보다 큼   \n6          6   양념반후라이드반  13000  10호  1300.0  0.2  10400.0  NaN  1300보다 작음   \n7        new  [인기]아이펠치킨  16000  11호  1200.0  0.5   8000.0  국내산  1300보다 작음   \n8         10  [베스트]풀잎치킨   9900  10호     NaN  NaN      NaN  NaN  1300보다 작음   \n\n       고민  \n0  무조건 먹자  \n1    먹지말자  \n2    먹지말자  \n3    먹지말자  \n4  무조건 먹자  \n5    먹지말자  \n6  무조건 먹자  \n7  무조건 먹자  \n8  무조건 먹자  ",
      "text/html": "<div>\n<style scoped>\n    .dataframe tbody tr th:only-of-type {\n        vertical-align: middle;\n    }\n\n    .dataframe tbody tr th {\n        vertical-align: top;\n    }\n\n    .dataframe thead th {\n        text-align: right;\n    }\n</style>\n<table border=\"1\" class=\"dataframe\">\n  <thead>\n    <tr style=\"text-align: right;\">\n      <th></th>\n      <th>Unnamed: 0</th>\n      <th>메뉴</th>\n      <th>가격</th>\n      <th>호수</th>\n      <th>칼로리</th>\n      <th>할인율</th>\n      <th>할인가</th>\n      <th>원산지</th>\n      <th>살찔까요</th>\n      <th>고민</th>\n    </tr>\n  </thead>\n  <tbody>\n    <tr>\n      <th>0</th>\n      <td>0</td>\n      <td>황금후라이드</td>\n      <td>12000</td>\n      <td>10호</td>\n      <td>1000.0</td>\n      <td>0.2</td>\n      <td>9600.0</td>\n      <td>국내산</td>\n      <td>1300보다 작음</td>\n      <td>무조건 먹자</td>\n    </tr>\n    <tr>\n      <th>1</th>\n      <td>1</td>\n      <td>승일양념치킨</td>\n      <td>13000</td>\n      <td>10호</td>\n      <td>1400.0</td>\n      <td>0.2</td>\n      <td>10400.0</td>\n      <td>NaN</td>\n      <td>1300보다 큼</td>\n      <td>먹지말자</td>\n    </tr>\n    <tr>\n      <th>2</th>\n      <td>2</td>\n      <td>간장치킨</td>\n      <td>14000</td>\n      <td>9호</td>\n      <td>1600.0</td>\n      <td>0.2</td>\n      <td>11200.0</td>\n      <td>NaN</td>\n      <td>1300보다 큼</td>\n      <td>먹지말자</td>\n    </tr>\n    <tr>\n      <th>3</th>\n      <td>3</td>\n      <td>마늘치킨</td>\n      <td>14000</td>\n      <td>9호</td>\n      <td>1800.0</td>\n      <td>0.2</td>\n      <td>11200.0</td>\n      <td>NaN</td>\n      <td>1300보다 큼</td>\n      <td>먹지말자</td>\n    </tr>\n    <tr>\n      <th>4</th>\n      <td>4</td>\n      <td>파닭</td>\n      <td>14000</td>\n      <td>11호</td>\n      <td>1300.0</td>\n      <td>0.2</td>\n      <td>11200.0</td>\n      <td>브라질</td>\n      <td>1300보다 작음</td>\n      <td>무조건 먹자</td>\n    </tr>\n    <tr>\n      <th>5</th>\n      <td>5</td>\n      <td>닭강정</td>\n      <td>15000</td>\n      <td>12호</td>\n      <td>1500.0</td>\n      <td>0.2</td>\n      <td>12000.0</td>\n      <td>브라질</td>\n      <td>1300보다 큼</td>\n      <td>먹지말자</td>\n    </tr>\n    <tr>\n      <th>6</th>\n      <td>6</td>\n      <td>양념반후라이드반</td>\n      <td>13000</td>\n      <td>10호</td>\n      <td>1300.0</td>\n      <td>0.2</td>\n      <td>10400.0</td>\n      <td>NaN</td>\n      <td>1300보다 작음</td>\n      <td>무조건 먹자</td>\n    </tr>\n    <tr>\n      <th>7</th>\n      <td>new</td>\n      <td>[인기]아이펠치킨</td>\n      <td>16000</td>\n      <td>11호</td>\n      <td>1200.0</td>\n      <td>0.5</td>\n      <td>8000.0</td>\n      <td>국내산</td>\n      <td>1300보다 작음</td>\n      <td>무조건 먹자</td>\n    </tr>\n    <tr>\n      <th>8</th>\n      <td>10</td>\n      <td>[베스트]풀잎치킨</td>\n      <td>9900</td>\n      <td>10호</td>\n      <td>NaN</td>\n      <td>NaN</td>\n      <td>NaN</td>\n      <td>NaN</td>\n      <td>1300보다 작음</td>\n      <td>무조건 먹자</td>\n    </tr>\n  </tbody>\n</table>\n</div>"
     },
     "execution_count": 244,
     "metadata": {},
     "output_type": "execute_result"
    }
   ],
   "source": [
    "pd.read_csv('final_modudak.csv')"
   ],
   "metadata": {
    "collapsed": false,
    "ExecuteTime": {
     "end_time": "2023-07-11T06:07:26.020620Z",
     "start_time": "2023-07-11T06:07:25.792871Z"
    }
   }
  },
  {
   "cell_type": "code",
   "execution_count": 246,
   "outputs": [
    {
     "data": {
      "text/plain": "  Unnamed: 0           메뉴     가격   호수     칼로리  할인율      할인가  원산지       살찔까요  \\\n0          0     황금후라이드❤️  12000  10호  1000.0  0.2   9600.0  국내산  1300보다 작음   \n1          1     승일양념치킨❤️  13000  10호  1400.0  0.2  10400.0  NaN   1300보다 큼   \n2          2       간장치킨❤️  14000   9호  1600.0  0.2  11200.0  NaN   1300보다 큼   \n3          3       마늘치킨❤️  14000   9호  1800.0  0.2  11200.0  NaN   1300보다 큼   \n4          4         파닭❤️  14000  11호  1300.0  0.2  11200.0  브라질  1300보다 작음   \n5          5        닭강정❤️  15000  12호  1500.0  0.2  12000.0  브라질   1300보다 큼   \n6          6   양념반후라이드반❤️  13000  10호  1300.0  0.2  10400.0  NaN  1300보다 작음   \n7        new  [인기]아이펠치킨❤️  16000  11호  1200.0  0.5   8000.0  국내산  1300보다 작음   \n8         10  [베스트]풀잎치킨❤️   9900  10호     NaN  NaN      NaN  NaN  1300보다 작음   \n\n       고민  \n0  무조건 먹자  \n1    먹지말자  \n2    먹지말자  \n3    먹지말자  \n4  무조건 먹자  \n5    먹지말자  \n6  무조건 먹자  \n7  무조건 먹자  \n8  무조건 먹자  ",
      "text/html": "<div>\n<style scoped>\n    .dataframe tbody tr th:only-of-type {\n        vertical-align: middle;\n    }\n\n    .dataframe tbody tr th {\n        vertical-align: top;\n    }\n\n    .dataframe thead th {\n        text-align: right;\n    }\n</style>\n<table border=\"1\" class=\"dataframe\">\n  <thead>\n    <tr style=\"text-align: right;\">\n      <th></th>\n      <th>Unnamed: 0</th>\n      <th>메뉴</th>\n      <th>가격</th>\n      <th>호수</th>\n      <th>칼로리</th>\n      <th>할인율</th>\n      <th>할인가</th>\n      <th>원산지</th>\n      <th>살찔까요</th>\n      <th>고민</th>\n    </tr>\n  </thead>\n  <tbody>\n    <tr>\n      <th>0</th>\n      <td>0</td>\n      <td>황금후라이드❤️</td>\n      <td>12000</td>\n      <td>10호</td>\n      <td>1000.0</td>\n      <td>0.2</td>\n      <td>9600.0</td>\n      <td>국내산</td>\n      <td>1300보다 작음</td>\n      <td>무조건 먹자</td>\n    </tr>\n    <tr>\n      <th>1</th>\n      <td>1</td>\n      <td>승일양념치킨❤️</td>\n      <td>13000</td>\n      <td>10호</td>\n      <td>1400.0</td>\n      <td>0.2</td>\n      <td>10400.0</td>\n      <td>NaN</td>\n      <td>1300보다 큼</td>\n      <td>먹지말자</td>\n    </tr>\n    <tr>\n      <th>2</th>\n      <td>2</td>\n      <td>간장치킨❤️</td>\n      <td>14000</td>\n      <td>9호</td>\n      <td>1600.0</td>\n      <td>0.2</td>\n      <td>11200.0</td>\n      <td>NaN</td>\n      <td>1300보다 큼</td>\n      <td>먹지말자</td>\n    </tr>\n    <tr>\n      <th>3</th>\n      <td>3</td>\n      <td>마늘치킨❤️</td>\n      <td>14000</td>\n      <td>9호</td>\n      <td>1800.0</td>\n      <td>0.2</td>\n      <td>11200.0</td>\n      <td>NaN</td>\n      <td>1300보다 큼</td>\n      <td>먹지말자</td>\n    </tr>\n    <tr>\n      <th>4</th>\n      <td>4</td>\n      <td>파닭❤️</td>\n      <td>14000</td>\n      <td>11호</td>\n      <td>1300.0</td>\n      <td>0.2</td>\n      <td>11200.0</td>\n      <td>브라질</td>\n      <td>1300보다 작음</td>\n      <td>무조건 먹자</td>\n    </tr>\n    <tr>\n      <th>5</th>\n      <td>5</td>\n      <td>닭강정❤️</td>\n      <td>15000</td>\n      <td>12호</td>\n      <td>1500.0</td>\n      <td>0.2</td>\n      <td>12000.0</td>\n      <td>브라질</td>\n      <td>1300보다 큼</td>\n      <td>먹지말자</td>\n    </tr>\n    <tr>\n      <th>6</th>\n      <td>6</td>\n      <td>양념반후라이드반❤️</td>\n      <td>13000</td>\n      <td>10호</td>\n      <td>1300.0</td>\n      <td>0.2</td>\n      <td>10400.0</td>\n      <td>NaN</td>\n      <td>1300보다 작음</td>\n      <td>무조건 먹자</td>\n    </tr>\n    <tr>\n      <th>7</th>\n      <td>new</td>\n      <td>[인기]아이펠치킨❤️</td>\n      <td>16000</td>\n      <td>11호</td>\n      <td>1200.0</td>\n      <td>0.5</td>\n      <td>8000.0</td>\n      <td>국내산</td>\n      <td>1300보다 작음</td>\n      <td>무조건 먹자</td>\n    </tr>\n    <tr>\n      <th>8</th>\n      <td>10</td>\n      <td>[베스트]풀잎치킨❤️</td>\n      <td>9900</td>\n      <td>10호</td>\n      <td>NaN</td>\n      <td>NaN</td>\n      <td>NaN</td>\n      <td>NaN</td>\n      <td>1300보다 작음</td>\n      <td>무조건 먹자</td>\n    </tr>\n  </tbody>\n</table>\n</div>"
     },
     "execution_count": 246,
     "metadata": {},
     "output_type": "execute_result"
    }
   ],
   "source": [
    "# Q. 다음 df 변수의 데이터에서 각 메뉴의 이름에 '❤️'를 붙여주세요.\n",
    "# ex. 황금후라이드 -> 황금후라이드❤️\n",
    "# apply와 lambda를 활용해주세요.\n",
    "df['메뉴'] =  df['메뉴'].apply(lambda x: x+'❤️')\n",
    "df"
   ],
   "metadata": {
    "collapsed": false,
    "ExecuteTime": {
     "end_time": "2023-07-11T06:08:00.046733Z",
     "start_time": "2023-07-11T06:08:00.022313Z"
    }
   }
  },
  {
   "cell_type": "code",
   "execution_count": 247,
   "outputs": [
    {
     "data": {
      "text/plain": "  Unnamed: 0         메뉴     가격  호수     칼로리  할인율      할인가  원산지   가성비\n0          0     황금후라이드  12000  10  1000.0  0.2   9600.0  국내산  Good\n1          1     승일양념치킨  13000  10  1400.0  0.2  10400.0  NaN   Bad\n2          2       간장치킨  14000   9  1600.0  0.2  11200.0  NaN   Bad\n3          3       마늘치킨  14000   9  1800.0  0.2  11200.0  NaN   Bad\n4          4         파닭  14000  11  1300.0  0.2  11200.0  브라질   Bad\n5          5        닭강정  15000  12  1500.0  0.2  12000.0  브라질   Bad\n6          6   양념반후라이드반  13000  10  1300.0  0.2  10400.0  NaN   Bad\n7        new  [인기]아이펠치킨  16000  11  1200.0  0.5   8000.0  국내산   Bad\n8         10  [베스트]풀잎치킨   9900  10     NaN  NaN      NaN  NaN  Good",
      "text/html": "<div>\n<style scoped>\n    .dataframe tbody tr th:only-of-type {\n        vertical-align: middle;\n    }\n\n    .dataframe tbody tr th {\n        vertical-align: top;\n    }\n\n    .dataframe thead th {\n        text-align: right;\n    }\n</style>\n<table border=\"1\" class=\"dataframe\">\n  <thead>\n    <tr style=\"text-align: right;\">\n      <th></th>\n      <th>Unnamed: 0</th>\n      <th>메뉴</th>\n      <th>가격</th>\n      <th>호수</th>\n      <th>칼로리</th>\n      <th>할인율</th>\n      <th>할인가</th>\n      <th>원산지</th>\n      <th>가성비</th>\n    </tr>\n  </thead>\n  <tbody>\n    <tr>\n      <th>0</th>\n      <td>0</td>\n      <td>황금후라이드</td>\n      <td>12000</td>\n      <td>10</td>\n      <td>1000.0</td>\n      <td>0.2</td>\n      <td>9600.0</td>\n      <td>국내산</td>\n      <td>Good</td>\n    </tr>\n    <tr>\n      <th>1</th>\n      <td>1</td>\n      <td>승일양념치킨</td>\n      <td>13000</td>\n      <td>10</td>\n      <td>1400.0</td>\n      <td>0.2</td>\n      <td>10400.0</td>\n      <td>NaN</td>\n      <td>Bad</td>\n    </tr>\n    <tr>\n      <th>2</th>\n      <td>2</td>\n      <td>간장치킨</td>\n      <td>14000</td>\n      <td>9</td>\n      <td>1600.0</td>\n      <td>0.2</td>\n      <td>11200.0</td>\n      <td>NaN</td>\n      <td>Bad</td>\n    </tr>\n    <tr>\n      <th>3</th>\n      <td>3</td>\n      <td>마늘치킨</td>\n      <td>14000</td>\n      <td>9</td>\n      <td>1800.0</td>\n      <td>0.2</td>\n      <td>11200.0</td>\n      <td>NaN</td>\n      <td>Bad</td>\n    </tr>\n    <tr>\n      <th>4</th>\n      <td>4</td>\n      <td>파닭</td>\n      <td>14000</td>\n      <td>11</td>\n      <td>1300.0</td>\n      <td>0.2</td>\n      <td>11200.0</td>\n      <td>브라질</td>\n      <td>Bad</td>\n    </tr>\n    <tr>\n      <th>5</th>\n      <td>5</td>\n      <td>닭강정</td>\n      <td>15000</td>\n      <td>12</td>\n      <td>1500.0</td>\n      <td>0.2</td>\n      <td>12000.0</td>\n      <td>브라질</td>\n      <td>Bad</td>\n    </tr>\n    <tr>\n      <th>6</th>\n      <td>6</td>\n      <td>양념반후라이드반</td>\n      <td>13000</td>\n      <td>10</td>\n      <td>1300.0</td>\n      <td>0.2</td>\n      <td>10400.0</td>\n      <td>NaN</td>\n      <td>Bad</td>\n    </tr>\n    <tr>\n      <th>7</th>\n      <td>new</td>\n      <td>[인기]아이펠치킨</td>\n      <td>16000</td>\n      <td>11</td>\n      <td>1200.0</td>\n      <td>0.5</td>\n      <td>8000.0</td>\n      <td>국내산</td>\n      <td>Bad</td>\n    </tr>\n    <tr>\n      <th>8</th>\n      <td>10</td>\n      <td>[베스트]풀잎치킨</td>\n      <td>9900</td>\n      <td>10</td>\n      <td>NaN</td>\n      <td>NaN</td>\n      <td>NaN</td>\n      <td>NaN</td>\n      <td>Good</td>\n    </tr>\n  </tbody>\n</table>\n</div>"
     },
     "execution_count": 247,
     "metadata": {},
     "output_type": "execute_result"
    }
   ],
   "source": [
    "# Q. 다음 df 변수의 데이터에서 '가성비'라는 칼럼을 만들고,\n",
    "# '호수' / '가격' 의 값이 0.0008을 넘으면 '가성비' 칼럼 값을 'Good' 아니면 'Bad'로 넣어주세요.\n",
    "# 힌트 : astype(), apply, lambda를 활용합니다.\n",
    "df = pd.read_csv('new_modudak.csv')\n",
    "df['호수'] = df['호수'].str.replace('호','')\n",
    "df['호수'] = df['호수'].astype('int')\n",
    "df['가성비'] = (df['호수'] / df['가격']).apply(lambda x: 'Good' if x>0.0008 else 'Bad')\n",
    "df"
   ],
   "metadata": {
    "collapsed": false,
    "ExecuteTime": {
     "end_time": "2023-07-11T06:46:10.592607Z",
     "start_time": "2023-07-11T06:46:10.514834Z"
    }
   }
  }
 ],
 "metadata": {
  "kernelspec": {
   "display_name": "Python 3",
   "language": "python",
   "name": "python3"
  },
  "language_info": {
   "codemirror_mode": {
    "name": "ipython",
    "version": 2
   },
   "file_extension": ".py",
   "mimetype": "text/x-python",
   "name": "python",
   "nbconvert_exporter": "python",
   "pygments_lexer": "ipython2",
   "version": "2.7.6"
  }
 },
 "nbformat": 4,
 "nbformat_minor": 0
}
