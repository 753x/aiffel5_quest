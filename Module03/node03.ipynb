{
 "cells": [
  {
   "cell_type": "markdown",
   "source": [
    "## 데이터 핸들링2\n",
    "\n",
    "3-2 데이터 불러오기 / 만들기"
   ],
   "metadata": {
    "collapsed": false
   }
  },
  {
   "cell_type": "code",
   "execution_count": 3,
   "metadata": {
    "collapsed": true,
    "ExecuteTime": {
     "end_time": "2023-07-11T03:02:42.417178Z",
     "start_time": "2023-07-11T03:02:42.045838Z"
    }
   },
   "outputs": [
    {
     "data": {
      "text/plain": "  Unnamed: 0         메뉴     가격   호수     칼로리  할인율      할인가  원산지\n0          0     황금후라이드  12000  10호  1000.0  0.2   9600.0  국내산\n1          1     승일양념치킨  13000  10호  1400.0  0.2  10400.0  NaN\n2          2       간장치킨  14000   9호  1600.0  0.2  11200.0  NaN\n3          3       마늘치킨  14000   9호  1800.0  0.2  11200.0  NaN\n4          4         파닭  14000  11호  1300.0  0.2  11200.0  브라질\n5          5        닭강정  15000  12호  1500.0  0.2  12000.0  브라질\n6          6   양념반후라이드반  13000  10호  1300.0  0.2  10400.0  NaN\n7        new  [인기]아이펠치킨  16000  11호  1200.0  0.5   8000.0  국내산\n8         10  [베스트]풀잎치킨   9900  10호     NaN  NaN      NaN  NaN",
      "text/html": "<div>\n<style scoped>\n    .dataframe tbody tr th:only-of-type {\n        vertical-align: middle;\n    }\n\n    .dataframe tbody tr th {\n        vertical-align: top;\n    }\n\n    .dataframe thead th {\n        text-align: right;\n    }\n</style>\n<table border=\"1\" class=\"dataframe\">\n  <thead>\n    <tr style=\"text-align: right;\">\n      <th></th>\n      <th>Unnamed: 0</th>\n      <th>메뉴</th>\n      <th>가격</th>\n      <th>호수</th>\n      <th>칼로리</th>\n      <th>할인율</th>\n      <th>할인가</th>\n      <th>원산지</th>\n    </tr>\n  </thead>\n  <tbody>\n    <tr>\n      <th>0</th>\n      <td>0</td>\n      <td>황금후라이드</td>\n      <td>12000</td>\n      <td>10호</td>\n      <td>1000.0</td>\n      <td>0.2</td>\n      <td>9600.0</td>\n      <td>국내산</td>\n    </tr>\n    <tr>\n      <th>1</th>\n      <td>1</td>\n      <td>승일양념치킨</td>\n      <td>13000</td>\n      <td>10호</td>\n      <td>1400.0</td>\n      <td>0.2</td>\n      <td>10400.0</td>\n      <td>NaN</td>\n    </tr>\n    <tr>\n      <th>2</th>\n      <td>2</td>\n      <td>간장치킨</td>\n      <td>14000</td>\n      <td>9호</td>\n      <td>1600.0</td>\n      <td>0.2</td>\n      <td>11200.0</td>\n      <td>NaN</td>\n    </tr>\n    <tr>\n      <th>3</th>\n      <td>3</td>\n      <td>마늘치킨</td>\n      <td>14000</td>\n      <td>9호</td>\n      <td>1800.0</td>\n      <td>0.2</td>\n      <td>11200.0</td>\n      <td>NaN</td>\n    </tr>\n    <tr>\n      <th>4</th>\n      <td>4</td>\n      <td>파닭</td>\n      <td>14000</td>\n      <td>11호</td>\n      <td>1300.0</td>\n      <td>0.2</td>\n      <td>11200.0</td>\n      <td>브라질</td>\n    </tr>\n    <tr>\n      <th>5</th>\n      <td>5</td>\n      <td>닭강정</td>\n      <td>15000</td>\n      <td>12호</td>\n      <td>1500.0</td>\n      <td>0.2</td>\n      <td>12000.0</td>\n      <td>브라질</td>\n    </tr>\n    <tr>\n      <th>6</th>\n      <td>6</td>\n      <td>양념반후라이드반</td>\n      <td>13000</td>\n      <td>10호</td>\n      <td>1300.0</td>\n      <td>0.2</td>\n      <td>10400.0</td>\n      <td>NaN</td>\n    </tr>\n    <tr>\n      <th>7</th>\n      <td>new</td>\n      <td>[인기]아이펠치킨</td>\n      <td>16000</td>\n      <td>11호</td>\n      <td>1200.0</td>\n      <td>0.5</td>\n      <td>8000.0</td>\n      <td>국내산</td>\n    </tr>\n    <tr>\n      <th>8</th>\n      <td>10</td>\n      <td>[베스트]풀잎치킨</td>\n      <td>9900</td>\n      <td>10호</td>\n      <td>NaN</td>\n      <td>NaN</td>\n      <td>NaN</td>\n      <td>NaN</td>\n    </tr>\n  </tbody>\n</table>\n</div>"
     },
     "execution_count": 3,
     "metadata": {},
     "output_type": "execute_result"
    }
   ],
   "source": [
    "import pandas as pd\n",
    "import numpy as np\n",
    "df = pd.DataFrame({\n",
    "    'Unnamed: 0': [0,1,2,3,4,5,6,'new',10],\n",
    "    '메뉴': ['황금후라이드','승일양념치킨','간장치킨','마늘치킨','파닭','닭강정','양념반후라이드반','[인기]아이펠치킨','[베스트]풀잎치킨'],\n",
    "    '가격': [12000,13000,14000,14000,14000,15000,13000,16000,9900],\n",
    "    '호수' : ['10호','10호','9호','9호','11호','12호','10호','11호','10호'],\n",
    "    '칼로리' : [1000.0,1400.0,1600.0,1800.0,1300.0,1500.0,1300.0,1200.0,np.nan],\n",
    "    '할인율' : [0.2,0.2,0.2,0.2,0.2,0.2,0.2,0.5,np.nan],\n",
    "    '할인가' : [9600.0,10400.0,11200.0,11200.0,11200.0,12000.0,10400.0,8000.0,np.nan],\n",
    "    '원산지' : ['국내산',np.nan,np.nan,np.nan,'브라질','브라질',np.nan,'국내산',np.nan]\n",
    "})\n",
    "df.to_csv('new_modudak.csv', index=False)\n",
    "df"
   ]
  },
  {
   "cell_type": "code",
   "execution_count": 4,
   "outputs": [
    {
     "data": {
      "text/plain": "                   메뉴     가격   호수     칼로리  할인율      할인가  원산지\nUnnamed: 0                                                  \n0              황금후라이드  12000  10호  1000.0  0.2   9600.0  국내산\n1              승일양념치킨  13000  10호  1400.0  0.2  10400.0  NaN\n2                간장치킨  14000   9호  1600.0  0.2  11200.0  NaN\n3                마늘치킨  14000   9호  1800.0  0.2  11200.0  NaN\n4                  파닭  14000  11호  1300.0  0.2  11200.0  브라질\n5                 닭강정  15000  12호  1500.0  0.2  12000.0  브라질\n6            양념반후라이드반  13000  10호  1300.0  0.2  10400.0  NaN\nnew         [인기]아이펠치킨  16000  11호  1200.0  0.5   8000.0  국내산\n10          [베스트]풀잎치킨   9900  10호     NaN  NaN      NaN  NaN",
      "text/html": "<div>\n<style scoped>\n    .dataframe tbody tr th:only-of-type {\n        vertical-align: middle;\n    }\n\n    .dataframe tbody tr th {\n        vertical-align: top;\n    }\n\n    .dataframe thead th {\n        text-align: right;\n    }\n</style>\n<table border=\"1\" class=\"dataframe\">\n  <thead>\n    <tr style=\"text-align: right;\">\n      <th></th>\n      <th>메뉴</th>\n      <th>가격</th>\n      <th>호수</th>\n      <th>칼로리</th>\n      <th>할인율</th>\n      <th>할인가</th>\n      <th>원산지</th>\n    </tr>\n    <tr>\n      <th>Unnamed: 0</th>\n      <th></th>\n      <th></th>\n      <th></th>\n      <th></th>\n      <th></th>\n      <th></th>\n      <th></th>\n    </tr>\n  </thead>\n  <tbody>\n    <tr>\n      <th>0</th>\n      <td>황금후라이드</td>\n      <td>12000</td>\n      <td>10호</td>\n      <td>1000.0</td>\n      <td>0.2</td>\n      <td>9600.0</td>\n      <td>국내산</td>\n    </tr>\n    <tr>\n      <th>1</th>\n      <td>승일양념치킨</td>\n      <td>13000</td>\n      <td>10호</td>\n      <td>1400.0</td>\n      <td>0.2</td>\n      <td>10400.0</td>\n      <td>NaN</td>\n    </tr>\n    <tr>\n      <th>2</th>\n      <td>간장치킨</td>\n      <td>14000</td>\n      <td>9호</td>\n      <td>1600.0</td>\n      <td>0.2</td>\n      <td>11200.0</td>\n      <td>NaN</td>\n    </tr>\n    <tr>\n      <th>3</th>\n      <td>마늘치킨</td>\n      <td>14000</td>\n      <td>9호</td>\n      <td>1800.0</td>\n      <td>0.2</td>\n      <td>11200.0</td>\n      <td>NaN</td>\n    </tr>\n    <tr>\n      <th>4</th>\n      <td>파닭</td>\n      <td>14000</td>\n      <td>11호</td>\n      <td>1300.0</td>\n      <td>0.2</td>\n      <td>11200.0</td>\n      <td>브라질</td>\n    </tr>\n    <tr>\n      <th>5</th>\n      <td>닭강정</td>\n      <td>15000</td>\n      <td>12호</td>\n      <td>1500.0</td>\n      <td>0.2</td>\n      <td>12000.0</td>\n      <td>브라질</td>\n    </tr>\n    <tr>\n      <th>6</th>\n      <td>양념반후라이드반</td>\n      <td>13000</td>\n      <td>10호</td>\n      <td>1300.0</td>\n      <td>0.2</td>\n      <td>10400.0</td>\n      <td>NaN</td>\n    </tr>\n    <tr>\n      <th>new</th>\n      <td>[인기]아이펠치킨</td>\n      <td>16000</td>\n      <td>11호</td>\n      <td>1200.0</td>\n      <td>0.5</td>\n      <td>8000.0</td>\n      <td>국내산</td>\n    </tr>\n    <tr>\n      <th>10</th>\n      <td>[베스트]풀잎치킨</td>\n      <td>9900</td>\n      <td>10호</td>\n      <td>NaN</td>\n      <td>NaN</td>\n      <td>NaN</td>\n      <td>NaN</td>\n    </tr>\n  </tbody>\n</table>\n</div>"
     },
     "execution_count": 4,
     "metadata": {},
     "output_type": "execute_result"
    }
   ],
   "source": [
    "#데이터 불러오기(인덱스 값 지정, index_col)\n",
    "pd.read_csv('new_modudak.csv', index_col='Unnamed: 0')"
   ],
   "metadata": {
    "collapsed": false,
    "ExecuteTime": {
     "end_time": "2023-07-11T03:02:42.417883Z",
     "start_time": "2023-07-11T03:02:42.407439Z"
    }
   }
  },
  {
   "cell_type": "code",
   "execution_count": 5,
   "outputs": [
    {
     "data": {
      "text/plain": "  Unnamed: 0         메뉴     가격   호수     칼로리  할인율      할인가  원산지\n0          0     황금후라이드  12000  10호  1000.0  0.2   9600.0  국내산\n1          1     승일양념치킨  13000  10호  1400.0  0.2  10400.0  NaN\n2          2       간장치킨  14000   9호  1600.0  0.2  11200.0  NaN\n3          3       마늘치킨  14000   9호  1800.0  0.2  11200.0  NaN\n4          4         파닭  14000  11호  1300.0  0.2  11200.0  브라질\n5          5        닭강정  15000  12호  1500.0  0.2  12000.0  브라질\n6          6   양념반후라이드반  13000  10호  1300.0  0.2  10400.0  NaN\n7        new  [인기]아이펠치킨  16000  11호  1200.0  0.5   8000.0  국내산\n8         10  [베스트]풀잎치킨   9900  10호     NaN  NaN      NaN  NaN",
      "text/html": "<div>\n<style scoped>\n    .dataframe tbody tr th:only-of-type {\n        vertical-align: middle;\n    }\n\n    .dataframe tbody tr th {\n        vertical-align: top;\n    }\n\n    .dataframe thead th {\n        text-align: right;\n    }\n</style>\n<table border=\"1\" class=\"dataframe\">\n  <thead>\n    <tr style=\"text-align: right;\">\n      <th></th>\n      <th>Unnamed: 0</th>\n      <th>메뉴</th>\n      <th>가격</th>\n      <th>호수</th>\n      <th>칼로리</th>\n      <th>할인율</th>\n      <th>할인가</th>\n      <th>원산지</th>\n    </tr>\n  </thead>\n  <tbody>\n    <tr>\n      <th>0</th>\n      <td>0</td>\n      <td>황금후라이드</td>\n      <td>12000</td>\n      <td>10호</td>\n      <td>1000.0</td>\n      <td>0.2</td>\n      <td>9600.0</td>\n      <td>국내산</td>\n    </tr>\n    <tr>\n      <th>1</th>\n      <td>1</td>\n      <td>승일양념치킨</td>\n      <td>13000</td>\n      <td>10호</td>\n      <td>1400.0</td>\n      <td>0.2</td>\n      <td>10400.0</td>\n      <td>NaN</td>\n    </tr>\n    <tr>\n      <th>2</th>\n      <td>2</td>\n      <td>간장치킨</td>\n      <td>14000</td>\n      <td>9호</td>\n      <td>1600.0</td>\n      <td>0.2</td>\n      <td>11200.0</td>\n      <td>NaN</td>\n    </tr>\n    <tr>\n      <th>3</th>\n      <td>3</td>\n      <td>마늘치킨</td>\n      <td>14000</td>\n      <td>9호</td>\n      <td>1800.0</td>\n      <td>0.2</td>\n      <td>11200.0</td>\n      <td>NaN</td>\n    </tr>\n    <tr>\n      <th>4</th>\n      <td>4</td>\n      <td>파닭</td>\n      <td>14000</td>\n      <td>11호</td>\n      <td>1300.0</td>\n      <td>0.2</td>\n      <td>11200.0</td>\n      <td>브라질</td>\n    </tr>\n    <tr>\n      <th>5</th>\n      <td>5</td>\n      <td>닭강정</td>\n      <td>15000</td>\n      <td>12호</td>\n      <td>1500.0</td>\n      <td>0.2</td>\n      <td>12000.0</td>\n      <td>브라질</td>\n    </tr>\n    <tr>\n      <th>6</th>\n      <td>6</td>\n      <td>양념반후라이드반</td>\n      <td>13000</td>\n      <td>10호</td>\n      <td>1300.0</td>\n      <td>0.2</td>\n      <td>10400.0</td>\n      <td>NaN</td>\n    </tr>\n    <tr>\n      <th>7</th>\n      <td>new</td>\n      <td>[인기]아이펠치킨</td>\n      <td>16000</td>\n      <td>11호</td>\n      <td>1200.0</td>\n      <td>0.5</td>\n      <td>8000.0</td>\n      <td>국내산</td>\n    </tr>\n    <tr>\n      <th>8</th>\n      <td>10</td>\n      <td>[베스트]풀잎치킨</td>\n      <td>9900</td>\n      <td>10호</td>\n      <td>NaN</td>\n      <td>NaN</td>\n      <td>NaN</td>\n      <td>NaN</td>\n    </tr>\n  </tbody>\n</table>\n</div>"
     },
     "execution_count": 5,
     "metadata": {},
     "output_type": "execute_result"
    }
   ],
   "source": [
    "# 데이터 삭제\n",
    "\n",
    "# 컬럼 삭제\n",
    "\n",
    "#[tip] 데이터 프레임 복사\n",
    "df2 = df.copy()\n",
    "df2"
   ],
   "metadata": {
    "collapsed": false,
    "ExecuteTime": {
     "end_time": "2023-07-11T03:02:42.431344Z",
     "start_time": "2023-07-11T03:02:42.425363Z"
    }
   }
  },
  {
   "cell_type": "code",
   "execution_count": 6,
   "outputs": [
    {
     "data": {
      "text/plain": "          메뉴     가격   호수     칼로리  할인율      할인가  원산지\n0     황금후라이드  12000  10호  1000.0  0.2   9600.0  국내산\n1     승일양념치킨  13000  10호  1400.0  0.2  10400.0  NaN\n2       간장치킨  14000   9호  1600.0  0.2  11200.0  NaN\n3       마늘치킨  14000   9호  1800.0  0.2  11200.0  NaN\n4         파닭  14000  11호  1300.0  0.2  11200.0  브라질\n5        닭강정  15000  12호  1500.0  0.2  12000.0  브라질\n6   양념반후라이드반  13000  10호  1300.0  0.2  10400.0  NaN\n7  [인기]아이펠치킨  16000  11호  1200.0  0.5   8000.0  국내산\n8  [베스트]풀잎치킨   9900  10호     NaN  NaN      NaN  NaN",
      "text/html": "<div>\n<style scoped>\n    .dataframe tbody tr th:only-of-type {\n        vertical-align: middle;\n    }\n\n    .dataframe tbody tr th {\n        vertical-align: top;\n    }\n\n    .dataframe thead th {\n        text-align: right;\n    }\n</style>\n<table border=\"1\" class=\"dataframe\">\n  <thead>\n    <tr style=\"text-align: right;\">\n      <th></th>\n      <th>메뉴</th>\n      <th>가격</th>\n      <th>호수</th>\n      <th>칼로리</th>\n      <th>할인율</th>\n      <th>할인가</th>\n      <th>원산지</th>\n    </tr>\n  </thead>\n  <tbody>\n    <tr>\n      <th>0</th>\n      <td>황금후라이드</td>\n      <td>12000</td>\n      <td>10호</td>\n      <td>1000.0</td>\n      <td>0.2</td>\n      <td>9600.0</td>\n      <td>국내산</td>\n    </tr>\n    <tr>\n      <th>1</th>\n      <td>승일양념치킨</td>\n      <td>13000</td>\n      <td>10호</td>\n      <td>1400.0</td>\n      <td>0.2</td>\n      <td>10400.0</td>\n      <td>NaN</td>\n    </tr>\n    <tr>\n      <th>2</th>\n      <td>간장치킨</td>\n      <td>14000</td>\n      <td>9호</td>\n      <td>1600.0</td>\n      <td>0.2</td>\n      <td>11200.0</td>\n      <td>NaN</td>\n    </tr>\n    <tr>\n      <th>3</th>\n      <td>마늘치킨</td>\n      <td>14000</td>\n      <td>9호</td>\n      <td>1800.0</td>\n      <td>0.2</td>\n      <td>11200.0</td>\n      <td>NaN</td>\n    </tr>\n    <tr>\n      <th>4</th>\n      <td>파닭</td>\n      <td>14000</td>\n      <td>11호</td>\n      <td>1300.0</td>\n      <td>0.2</td>\n      <td>11200.0</td>\n      <td>브라질</td>\n    </tr>\n    <tr>\n      <th>5</th>\n      <td>닭강정</td>\n      <td>15000</td>\n      <td>12호</td>\n      <td>1500.0</td>\n      <td>0.2</td>\n      <td>12000.0</td>\n      <td>브라질</td>\n    </tr>\n    <tr>\n      <th>6</th>\n      <td>양념반후라이드반</td>\n      <td>13000</td>\n      <td>10호</td>\n      <td>1300.0</td>\n      <td>0.2</td>\n      <td>10400.0</td>\n      <td>NaN</td>\n    </tr>\n    <tr>\n      <th>7</th>\n      <td>[인기]아이펠치킨</td>\n      <td>16000</td>\n      <td>11호</td>\n      <td>1200.0</td>\n      <td>0.5</td>\n      <td>8000.0</td>\n      <td>국내산</td>\n    </tr>\n    <tr>\n      <th>8</th>\n      <td>[베스트]풀잎치킨</td>\n      <td>9900</td>\n      <td>10호</td>\n      <td>NaN</td>\n      <td>NaN</td>\n      <td>NaN</td>\n      <td>NaN</td>\n    </tr>\n  </tbody>\n</table>\n</div>"
     },
     "execution_count": 6,
     "metadata": {},
     "output_type": "execute_result"
    }
   ],
   "source": [
    "# 데이터 삭제(컬럼(열 : Unnamed: 0) 삭제),drop(axis=1)\n",
    "# axis=1 : 컬럼(열) 삭제 / axis=0 : 로우(행) 삭제\n",
    "df2 = df2.drop('Unnamed: 0', axis=1)\n",
    "df2"
   ],
   "metadata": {
    "collapsed": false,
    "ExecuteTime": {
     "end_time": "2023-07-11T03:02:42.440508Z",
     "start_time": "2023-07-11T03:02:42.435978Z"
    }
   }
  },
  {
   "cell_type": "code",
   "execution_count": 7,
   "outputs": [
    {
     "data": {
      "text/plain": "          메뉴     가격   호수     칼로리  할인율      할인가  원산지\n0     황금후라이드  12000  10호  1000.0  0.2   9600.0  국내산\n1     승일양념치킨  13000  10호  1400.0  0.2  10400.0  NaN\n2       간장치킨  14000   9호  1600.0  0.2  11200.0  NaN\n3       마늘치킨  14000   9호  1800.0  0.2  11200.0  NaN\n4         파닭  14000  11호  1300.0  0.2  11200.0  브라질\n5        닭강정  15000  12호  1500.0  0.2  12000.0  브라질\n6   양념반후라이드반  13000  10호  1300.0  0.2  10400.0  NaN\n7  [인기]아이펠치킨  16000  11호  1200.0  0.5   8000.0  국내산\n8  [베스트]풀잎치킨   9900  10호     NaN  NaN      NaN  NaN",
      "text/html": "<div>\n<style scoped>\n    .dataframe tbody tr th:only-of-type {\n        vertical-align: middle;\n    }\n\n    .dataframe tbody tr th {\n        vertical-align: top;\n    }\n\n    .dataframe thead th {\n        text-align: right;\n    }\n</style>\n<table border=\"1\" class=\"dataframe\">\n  <thead>\n    <tr style=\"text-align: right;\">\n      <th></th>\n      <th>메뉴</th>\n      <th>가격</th>\n      <th>호수</th>\n      <th>칼로리</th>\n      <th>할인율</th>\n      <th>할인가</th>\n      <th>원산지</th>\n    </tr>\n  </thead>\n  <tbody>\n    <tr>\n      <th>0</th>\n      <td>황금후라이드</td>\n      <td>12000</td>\n      <td>10호</td>\n      <td>1000.0</td>\n      <td>0.2</td>\n      <td>9600.0</td>\n      <td>국내산</td>\n    </tr>\n    <tr>\n      <th>1</th>\n      <td>승일양념치킨</td>\n      <td>13000</td>\n      <td>10호</td>\n      <td>1400.0</td>\n      <td>0.2</td>\n      <td>10400.0</td>\n      <td>NaN</td>\n    </tr>\n    <tr>\n      <th>2</th>\n      <td>간장치킨</td>\n      <td>14000</td>\n      <td>9호</td>\n      <td>1600.0</td>\n      <td>0.2</td>\n      <td>11200.0</td>\n      <td>NaN</td>\n    </tr>\n    <tr>\n      <th>3</th>\n      <td>마늘치킨</td>\n      <td>14000</td>\n      <td>9호</td>\n      <td>1800.0</td>\n      <td>0.2</td>\n      <td>11200.0</td>\n      <td>NaN</td>\n    </tr>\n    <tr>\n      <th>4</th>\n      <td>파닭</td>\n      <td>14000</td>\n      <td>11호</td>\n      <td>1300.0</td>\n      <td>0.2</td>\n      <td>11200.0</td>\n      <td>브라질</td>\n    </tr>\n    <tr>\n      <th>5</th>\n      <td>닭강정</td>\n      <td>15000</td>\n      <td>12호</td>\n      <td>1500.0</td>\n      <td>0.2</td>\n      <td>12000.0</td>\n      <td>브라질</td>\n    </tr>\n    <tr>\n      <th>6</th>\n      <td>양념반후라이드반</td>\n      <td>13000</td>\n      <td>10호</td>\n      <td>1300.0</td>\n      <td>0.2</td>\n      <td>10400.0</td>\n      <td>NaN</td>\n    </tr>\n    <tr>\n      <th>7</th>\n      <td>[인기]아이펠치킨</td>\n      <td>16000</td>\n      <td>11호</td>\n      <td>1200.0</td>\n      <td>0.5</td>\n      <td>8000.0</td>\n      <td>국내산</td>\n    </tr>\n    <tr>\n      <th>8</th>\n      <td>[베스트]풀잎치킨</td>\n      <td>9900</td>\n      <td>10호</td>\n      <td>NaN</td>\n      <td>NaN</td>\n      <td>NaN</td>\n      <td>NaN</td>\n    </tr>\n  </tbody>\n</table>\n</div>"
     },
     "execution_count": 7,
     "metadata": {},
     "output_type": "execute_result"
    }
   ],
   "source": [
    "# 데이터 삭제(컬럼:Unnamed: 0) drop(columns=[])\n",
    "df2 = df.copy()\n",
    "df2 = df2.drop(columns=['Unnamed: 0',])\n",
    "df2"
   ],
   "metadata": {
    "collapsed": false,
    "ExecuteTime": {
     "end_time": "2023-07-11T03:02:42.535942Z",
     "start_time": "2023-07-11T03:02:42.449489Z"
    }
   }
  },
  {
   "cell_type": "code",
   "execution_count": 8,
   "outputs": [
    {
     "data": {
      "text/plain": "  Unnamed: 0         메뉴     가격   호수     칼로리  할인율      할인가  원산지\n0          0     황금후라이드  12000  10호  1000.0  0.2   9600.0  국내산\n1          1     승일양념치킨  13000  10호  1400.0  0.2  10400.0  NaN\n2          2       간장치킨  14000   9호  1600.0  0.2  11200.0  NaN\n3          3       마늘치킨  14000   9호  1800.0  0.2  11200.0  NaN\n4          4         파닭  14000  11호  1300.0  0.2  11200.0  브라질\n5          5        닭강정  15000  12호  1500.0  0.2  12000.0  브라질\n6          6   양념반후라이드반  13000  10호  1300.0  0.2  10400.0  NaN\n7        new  [인기]아이펠치킨  16000  11호  1200.0  0.5   8000.0  국내산\n8         10  [베스트]풀잎치킨   9900  10호     NaN  NaN      NaN  NaN",
      "text/html": "<div>\n<style scoped>\n    .dataframe tbody tr th:only-of-type {\n        vertical-align: middle;\n    }\n\n    .dataframe tbody tr th {\n        vertical-align: top;\n    }\n\n    .dataframe thead th {\n        text-align: right;\n    }\n</style>\n<table border=\"1\" class=\"dataframe\">\n  <thead>\n    <tr style=\"text-align: right;\">\n      <th></th>\n      <th>Unnamed: 0</th>\n      <th>메뉴</th>\n      <th>가격</th>\n      <th>호수</th>\n      <th>칼로리</th>\n      <th>할인율</th>\n      <th>할인가</th>\n      <th>원산지</th>\n    </tr>\n  </thead>\n  <tbody>\n    <tr>\n      <th>0</th>\n      <td>0</td>\n      <td>황금후라이드</td>\n      <td>12000</td>\n      <td>10호</td>\n      <td>1000.0</td>\n      <td>0.2</td>\n      <td>9600.0</td>\n      <td>국내산</td>\n    </tr>\n    <tr>\n      <th>1</th>\n      <td>1</td>\n      <td>승일양념치킨</td>\n      <td>13000</td>\n      <td>10호</td>\n      <td>1400.0</td>\n      <td>0.2</td>\n      <td>10400.0</td>\n      <td>NaN</td>\n    </tr>\n    <tr>\n      <th>2</th>\n      <td>2</td>\n      <td>간장치킨</td>\n      <td>14000</td>\n      <td>9호</td>\n      <td>1600.0</td>\n      <td>0.2</td>\n      <td>11200.0</td>\n      <td>NaN</td>\n    </tr>\n    <tr>\n      <th>3</th>\n      <td>3</td>\n      <td>마늘치킨</td>\n      <td>14000</td>\n      <td>9호</td>\n      <td>1800.0</td>\n      <td>0.2</td>\n      <td>11200.0</td>\n      <td>NaN</td>\n    </tr>\n    <tr>\n      <th>4</th>\n      <td>4</td>\n      <td>파닭</td>\n      <td>14000</td>\n      <td>11호</td>\n      <td>1300.0</td>\n      <td>0.2</td>\n      <td>11200.0</td>\n      <td>브라질</td>\n    </tr>\n    <tr>\n      <th>5</th>\n      <td>5</td>\n      <td>닭강정</td>\n      <td>15000</td>\n      <td>12호</td>\n      <td>1500.0</td>\n      <td>0.2</td>\n      <td>12000.0</td>\n      <td>브라질</td>\n    </tr>\n    <tr>\n      <th>6</th>\n      <td>6</td>\n      <td>양념반후라이드반</td>\n      <td>13000</td>\n      <td>10호</td>\n      <td>1300.0</td>\n      <td>0.2</td>\n      <td>10400.0</td>\n      <td>NaN</td>\n    </tr>\n    <tr>\n      <th>7</th>\n      <td>new</td>\n      <td>[인기]아이펠치킨</td>\n      <td>16000</td>\n      <td>11호</td>\n      <td>1200.0</td>\n      <td>0.5</td>\n      <td>8000.0</td>\n      <td>국내산</td>\n    </tr>\n    <tr>\n      <th>8</th>\n      <td>10</td>\n      <td>[베스트]풀잎치킨</td>\n      <td>9900</td>\n      <td>10호</td>\n      <td>NaN</td>\n      <td>NaN</td>\n      <td>NaN</td>\n      <td>NaN</td>\n    </tr>\n  </tbody>\n</table>\n</div>"
     },
     "execution_count": 8,
     "metadata": {},
     "output_type": "execute_result"
    }
   ],
   "source": [
    "# 데이터 복사(data -> df)\n",
    "data = df.copy()\n",
    "data"
   ],
   "metadata": {
    "collapsed": false,
    "ExecuteTime": {
     "end_time": "2023-07-11T03:02:42.582969Z",
     "start_time": "2023-07-11T03:02:42.460227Z"
    }
   }
  },
  {
   "cell_type": "code",
   "execution_count": 9,
   "outputs": [
    {
     "data": {
      "text/plain": "  Unnamed: 0         메뉴     가격   호수     칼로리  할인율      할인가  원산지\n0          0     황금후라이드  12000  10호  1000.0  0.2   9600.0  국내산\n1          1     승일양념치킨  13000  10호  1400.0  0.2  10400.0  NaN\n2          2       간장치킨  14000   9호  1600.0  0.2  11200.0  NaN\n3          3       마늘치킨  14000   9호  1800.0  0.2  11200.0  NaN\n5          5        닭강정  15000  12호  1500.0  0.2  12000.0  브라질\n6          6   양념반후라이드반  13000  10호  1300.0  0.2  10400.0  NaN\n7        new  [인기]아이펠치킨  16000  11호  1200.0  0.5   8000.0  국내산\n8         10  [베스트]풀잎치킨   9900  10호     NaN  NaN      NaN  NaN",
      "text/html": "<div>\n<style scoped>\n    .dataframe tbody tr th:only-of-type {\n        vertical-align: middle;\n    }\n\n    .dataframe tbody tr th {\n        vertical-align: top;\n    }\n\n    .dataframe thead th {\n        text-align: right;\n    }\n</style>\n<table border=\"1\" class=\"dataframe\">\n  <thead>\n    <tr style=\"text-align: right;\">\n      <th></th>\n      <th>Unnamed: 0</th>\n      <th>메뉴</th>\n      <th>가격</th>\n      <th>호수</th>\n      <th>칼로리</th>\n      <th>할인율</th>\n      <th>할인가</th>\n      <th>원산지</th>\n    </tr>\n  </thead>\n  <tbody>\n    <tr>\n      <th>0</th>\n      <td>0</td>\n      <td>황금후라이드</td>\n      <td>12000</td>\n      <td>10호</td>\n      <td>1000.0</td>\n      <td>0.2</td>\n      <td>9600.0</td>\n      <td>국내산</td>\n    </tr>\n    <tr>\n      <th>1</th>\n      <td>1</td>\n      <td>승일양념치킨</td>\n      <td>13000</td>\n      <td>10호</td>\n      <td>1400.0</td>\n      <td>0.2</td>\n      <td>10400.0</td>\n      <td>NaN</td>\n    </tr>\n    <tr>\n      <th>2</th>\n      <td>2</td>\n      <td>간장치킨</td>\n      <td>14000</td>\n      <td>9호</td>\n      <td>1600.0</td>\n      <td>0.2</td>\n      <td>11200.0</td>\n      <td>NaN</td>\n    </tr>\n    <tr>\n      <th>3</th>\n      <td>3</td>\n      <td>마늘치킨</td>\n      <td>14000</td>\n      <td>9호</td>\n      <td>1800.0</td>\n      <td>0.2</td>\n      <td>11200.0</td>\n      <td>NaN</td>\n    </tr>\n    <tr>\n      <th>5</th>\n      <td>5</td>\n      <td>닭강정</td>\n      <td>15000</td>\n      <td>12호</td>\n      <td>1500.0</td>\n      <td>0.2</td>\n      <td>12000.0</td>\n      <td>브라질</td>\n    </tr>\n    <tr>\n      <th>6</th>\n      <td>6</td>\n      <td>양념반후라이드반</td>\n      <td>13000</td>\n      <td>10호</td>\n      <td>1300.0</td>\n      <td>0.2</td>\n      <td>10400.0</td>\n      <td>NaN</td>\n    </tr>\n    <tr>\n      <th>7</th>\n      <td>new</td>\n      <td>[인기]아이펠치킨</td>\n      <td>16000</td>\n      <td>11호</td>\n      <td>1200.0</td>\n      <td>0.5</td>\n      <td>8000.0</td>\n      <td>국내산</td>\n    </tr>\n    <tr>\n      <th>8</th>\n      <td>10</td>\n      <td>[베스트]풀잎치킨</td>\n      <td>9900</td>\n      <td>10호</td>\n      <td>NaN</td>\n      <td>NaN</td>\n      <td>NaN</td>\n      <td>NaN</td>\n    </tr>\n  </tbody>\n</table>\n</div>"
     },
     "execution_count": 9,
     "metadata": {},
     "output_type": "execute_result"
    }
   ],
   "source": [
    "# 데이터 삭제(로우(행) 삭제, 파닭), drop(axis=0)\n",
    "data = data.drop(4, axis=0)\n",
    "data"
   ],
   "metadata": {
    "collapsed": false,
    "ExecuteTime": {
     "end_time": "2023-07-11T03:02:42.615952Z",
     "start_time": "2023-07-11T03:02:42.470848Z"
    }
   }
  },
  {
   "cell_type": "code",
   "execution_count": 10,
   "outputs": [
    {
     "data": {
      "text/plain": "  Unnamed: 0         메뉴     가격   호수     칼로리  할인율      할인가  원산지\n0          0     황금후라이드  12000  10호  1000.0  0.2   9600.0  국내산\n1          1     승일양념치킨  13000  10호  1400.0  0.2  10400.0  NaN\n2          2       간장치킨  14000   9호  1600.0  0.2  11200.0  NaN\n3          3       마늘치킨  14000   9호  1800.0  0.2  11200.0  NaN\n5          5        닭강정  15000  12호  1500.0  0.2  12000.0  브라질\n7        new  [인기]아이펠치킨  16000  11호  1200.0  0.5   8000.0  국내산\n8         10  [베스트]풀잎치킨   9900  10호     NaN  NaN      NaN  NaN",
      "text/html": "<div>\n<style scoped>\n    .dataframe tbody tr th:only-of-type {\n        vertical-align: middle;\n    }\n\n    .dataframe tbody tr th {\n        vertical-align: top;\n    }\n\n    .dataframe thead th {\n        text-align: right;\n    }\n</style>\n<table border=\"1\" class=\"dataframe\">\n  <thead>\n    <tr style=\"text-align: right;\">\n      <th></th>\n      <th>Unnamed: 0</th>\n      <th>메뉴</th>\n      <th>가격</th>\n      <th>호수</th>\n      <th>칼로리</th>\n      <th>할인율</th>\n      <th>할인가</th>\n      <th>원산지</th>\n    </tr>\n  </thead>\n  <tbody>\n    <tr>\n      <th>0</th>\n      <td>0</td>\n      <td>황금후라이드</td>\n      <td>12000</td>\n      <td>10호</td>\n      <td>1000.0</td>\n      <td>0.2</td>\n      <td>9600.0</td>\n      <td>국내산</td>\n    </tr>\n    <tr>\n      <th>1</th>\n      <td>1</td>\n      <td>승일양념치킨</td>\n      <td>13000</td>\n      <td>10호</td>\n      <td>1400.0</td>\n      <td>0.2</td>\n      <td>10400.0</td>\n      <td>NaN</td>\n    </tr>\n    <tr>\n      <th>2</th>\n      <td>2</td>\n      <td>간장치킨</td>\n      <td>14000</td>\n      <td>9호</td>\n      <td>1600.0</td>\n      <td>0.2</td>\n      <td>11200.0</td>\n      <td>NaN</td>\n    </tr>\n    <tr>\n      <th>3</th>\n      <td>3</td>\n      <td>마늘치킨</td>\n      <td>14000</td>\n      <td>9호</td>\n      <td>1800.0</td>\n      <td>0.2</td>\n      <td>11200.0</td>\n      <td>NaN</td>\n    </tr>\n    <tr>\n      <th>5</th>\n      <td>5</td>\n      <td>닭강정</td>\n      <td>15000</td>\n      <td>12호</td>\n      <td>1500.0</td>\n      <td>0.2</td>\n      <td>12000.0</td>\n      <td>브라질</td>\n    </tr>\n    <tr>\n      <th>7</th>\n      <td>new</td>\n      <td>[인기]아이펠치킨</td>\n      <td>16000</td>\n      <td>11호</td>\n      <td>1200.0</td>\n      <td>0.5</td>\n      <td>8000.0</td>\n      <td>국내산</td>\n    </tr>\n    <tr>\n      <th>8</th>\n      <td>10</td>\n      <td>[베스트]풀잎치킨</td>\n      <td>9900</td>\n      <td>10호</td>\n      <td>NaN</td>\n      <td>NaN</td>\n      <td>NaN</td>\n      <td>NaN</td>\n    </tr>\n  </tbody>\n</table>\n</div>"
     },
     "execution_count": 10,
     "metadata": {},
     "output_type": "execute_result"
    }
   ],
   "source": [
    "# 데이터 삭제(로우(행) 삭제, 양념반후라이드반), inplace=True)\n",
    "data.drop(6, axis=0, inplace=True) # inplace=True : 원본 데이터에 적용, 대입없이 바로 삭제 가능(data = 의 형식 불필요)\n",
    "data"
   ],
   "metadata": {
    "collapsed": false,
    "ExecuteTime": {
     "end_time": "2023-07-11T03:02:42.628129Z",
     "start_time": "2023-07-11T03:02:42.473484Z"
    }
   }
  },
  {
   "cell_type": "code",
   "execution_count": 11,
   "outputs": [],
   "source": [
    "#행삭제 (조건:가격>=14000)\n",
    "# cond = data['가격'] >= 14000\n",
    "# data.drop(data[cond].index, axis=0, inplace=True)\n",
    "# data"
   ],
   "metadata": {
    "collapsed": false,
    "ExecuteTime": {
     "end_time": "2023-07-11T03:02:42.628490Z",
     "start_time": "2023-07-11T03:02:42.487272Z"
    }
   }
  },
  {
   "cell_type": "code",
   "execution_count": 12,
   "outputs": [
    {
     "data": {
      "text/plain": "Int64Index([2, 3, 5, 7], dtype='int64')"
     },
     "execution_count": 12,
     "metadata": {},
     "output_type": "execute_result"
    }
   ],
   "source": [
    "# 행삭제(조건:가격>=14000)\n",
    "cond = data['가격'] >= 14000\n",
    "# 몇번 인덱스가 해당하는지 확인\n",
    "data[cond].index"
   ],
   "metadata": {
    "collapsed": false,
    "ExecuteTime": {
     "end_time": "2023-07-11T03:02:42.659399Z",
     "start_time": "2023-07-11T03:02:42.493600Z"
    }
   }
  },
  {
   "cell_type": "code",
   "execution_count": 13,
   "outputs": [
    {
     "data": {
      "text/plain": "  Unnamed: 0         메뉴     가격   호수     칼로리  할인율      할인가  원산지\n0          0     황금후라이드  12000  10호  1000.0  0.2   9600.0  국내산\n1          1     승일양념치킨  13000  10호  1400.0  0.2  10400.0  NaN\n8         10  [베스트]풀잎치킨   9900  10호     NaN  NaN      NaN  NaN",
      "text/html": "<div>\n<style scoped>\n    .dataframe tbody tr th:only-of-type {\n        vertical-align: middle;\n    }\n\n    .dataframe tbody tr th {\n        vertical-align: top;\n    }\n\n    .dataframe thead th {\n        text-align: right;\n    }\n</style>\n<table border=\"1\" class=\"dataframe\">\n  <thead>\n    <tr style=\"text-align: right;\">\n      <th></th>\n      <th>Unnamed: 0</th>\n      <th>메뉴</th>\n      <th>가격</th>\n      <th>호수</th>\n      <th>칼로리</th>\n      <th>할인율</th>\n      <th>할인가</th>\n      <th>원산지</th>\n    </tr>\n  </thead>\n  <tbody>\n    <tr>\n      <th>0</th>\n      <td>0</td>\n      <td>황금후라이드</td>\n      <td>12000</td>\n      <td>10호</td>\n      <td>1000.0</td>\n      <td>0.2</td>\n      <td>9600.0</td>\n      <td>국내산</td>\n    </tr>\n    <tr>\n      <th>1</th>\n      <td>1</td>\n      <td>승일양념치킨</td>\n      <td>13000</td>\n      <td>10호</td>\n      <td>1400.0</td>\n      <td>0.2</td>\n      <td>10400.0</td>\n      <td>NaN</td>\n    </tr>\n    <tr>\n      <th>8</th>\n      <td>10</td>\n      <td>[베스트]풀잎치킨</td>\n      <td>9900</td>\n      <td>10호</td>\n      <td>NaN</td>\n      <td>NaN</td>\n      <td>NaN</td>\n      <td>NaN</td>\n    </tr>\n  </tbody>\n</table>\n</div>"
     },
     "execution_count": 13,
     "metadata": {},
     "output_type": "execute_result"
    }
   ],
   "source": [
    "#행삭제(해당인덱스 명)\n",
    "data.drop(data[cond].index, axis=0, inplace=True)\n",
    "data"
   ],
   "metadata": {
    "collapsed": false,
    "ExecuteTime": {
     "end_time": "2023-07-11T03:02:42.659795Z",
     "start_time": "2023-07-11T03:02:42.498043Z"
    }
   }
  },
  {
   "cell_type": "code",
   "execution_count": 14,
   "outputs": [
    {
     "data": {
      "text/plain": "          메뉴     가격   호수     칼로리  할인율      할인가  원산지\n0     황금후라이드  12000  10호  1000.0  0.2   9600.0  국내산\n1     승일양념치킨  13000  10호  1400.0  0.2  10400.0  NaN\n8  [베스트]풀잎치킨   9900  10호     NaN  NaN      NaN  NaN",
      "text/html": "<div>\n<style scoped>\n    .dataframe tbody tr th:only-of-type {\n        vertical-align: middle;\n    }\n\n    .dataframe tbody tr th {\n        vertical-align: top;\n    }\n\n    .dataframe thead th {\n        text-align: right;\n    }\n</style>\n<table border=\"1\" class=\"dataframe\">\n  <thead>\n    <tr style=\"text-align: right;\">\n      <th></th>\n      <th>메뉴</th>\n      <th>가격</th>\n      <th>호수</th>\n      <th>칼로리</th>\n      <th>할인율</th>\n      <th>할인가</th>\n      <th>원산지</th>\n    </tr>\n  </thead>\n  <tbody>\n    <tr>\n      <th>0</th>\n      <td>황금후라이드</td>\n      <td>12000</td>\n      <td>10호</td>\n      <td>1000.0</td>\n      <td>0.2</td>\n      <td>9600.0</td>\n      <td>국내산</td>\n    </tr>\n    <tr>\n      <th>1</th>\n      <td>승일양념치킨</td>\n      <td>13000</td>\n      <td>10호</td>\n      <td>1400.0</td>\n      <td>0.2</td>\n      <td>10400.0</td>\n      <td>NaN</td>\n    </tr>\n    <tr>\n      <th>8</th>\n      <td>[베스트]풀잎치킨</td>\n      <td>9900</td>\n      <td>10호</td>\n      <td>NaN</td>\n      <td>NaN</td>\n      <td>NaN</td>\n      <td>NaN</td>\n    </tr>\n  </tbody>\n</table>\n</div>"
     },
     "execution_count": 14,
     "metadata": {},
     "output_type": "execute_result"
    }
   ],
   "source": [
    "data = data.drop('Unnamed: 0', axis=1)\n",
    "data"
   ],
   "metadata": {
    "collapsed": false,
    "ExecuteTime": {
     "end_time": "2023-07-11T03:02:42.670337Z",
     "start_time": "2023-07-11T03:02:42.513402Z"
    }
   }
  },
  {
   "cell_type": "code",
   "execution_count": 15,
   "outputs": [
    {
     "data": {
      "text/plain": "  Unnamed: 0         메뉴     가격   호수     칼로리  할인율      할인가  원산지\n0          0     황금후라이드  12000  10호  1000.0  0.2   9600.0  국내산\n1          1     승일양념치킨  13000  10호  1400.0  0.2  10400.0  NaN\n2          2       간장치킨  14000   9호  1600.0  0.2  11200.0  NaN\n3          3       마늘치킨  14000   9호  1800.0  0.2  11200.0  NaN\n4          4         파닭  14000  11호  1300.0  0.2  11200.0  브라질\n5          5        닭강정  15000  12호  1500.0  0.2  12000.0  브라질\n6          6   양념반후라이드반  13000  10호  1300.0  0.2  10400.0  NaN\n7        new  [인기]아이펠치킨  16000  11호  1200.0  0.5   8000.0  국내산\n8         10  [베스트]풀잎치킨   9900  10호     NaN  NaN      NaN  NaN",
      "text/html": "<div>\n<style scoped>\n    .dataframe tbody tr th:only-of-type {\n        vertical-align: middle;\n    }\n\n    .dataframe tbody tr th {\n        vertical-align: top;\n    }\n\n    .dataframe thead th {\n        text-align: right;\n    }\n</style>\n<table border=\"1\" class=\"dataframe\">\n  <thead>\n    <tr style=\"text-align: right;\">\n      <th></th>\n      <th>Unnamed: 0</th>\n      <th>메뉴</th>\n      <th>가격</th>\n      <th>호수</th>\n      <th>칼로리</th>\n      <th>할인율</th>\n      <th>할인가</th>\n      <th>원산지</th>\n    </tr>\n  </thead>\n  <tbody>\n    <tr>\n      <th>0</th>\n      <td>0</td>\n      <td>황금후라이드</td>\n      <td>12000</td>\n      <td>10호</td>\n      <td>1000.0</td>\n      <td>0.2</td>\n      <td>9600.0</td>\n      <td>국내산</td>\n    </tr>\n    <tr>\n      <th>1</th>\n      <td>1</td>\n      <td>승일양념치킨</td>\n      <td>13000</td>\n      <td>10호</td>\n      <td>1400.0</td>\n      <td>0.2</td>\n      <td>10400.0</td>\n      <td>NaN</td>\n    </tr>\n    <tr>\n      <th>2</th>\n      <td>2</td>\n      <td>간장치킨</td>\n      <td>14000</td>\n      <td>9호</td>\n      <td>1600.0</td>\n      <td>0.2</td>\n      <td>11200.0</td>\n      <td>NaN</td>\n    </tr>\n    <tr>\n      <th>3</th>\n      <td>3</td>\n      <td>마늘치킨</td>\n      <td>14000</td>\n      <td>9호</td>\n      <td>1800.0</td>\n      <td>0.2</td>\n      <td>11200.0</td>\n      <td>NaN</td>\n    </tr>\n    <tr>\n      <th>4</th>\n      <td>4</td>\n      <td>파닭</td>\n      <td>14000</td>\n      <td>11호</td>\n      <td>1300.0</td>\n      <td>0.2</td>\n      <td>11200.0</td>\n      <td>브라질</td>\n    </tr>\n    <tr>\n      <th>5</th>\n      <td>5</td>\n      <td>닭강정</td>\n      <td>15000</td>\n      <td>12호</td>\n      <td>1500.0</td>\n      <td>0.2</td>\n      <td>12000.0</td>\n      <td>브라질</td>\n    </tr>\n    <tr>\n      <th>6</th>\n      <td>6</td>\n      <td>양념반후라이드반</td>\n      <td>13000</td>\n      <td>10호</td>\n      <td>1300.0</td>\n      <td>0.2</td>\n      <td>10400.0</td>\n      <td>NaN</td>\n    </tr>\n    <tr>\n      <th>7</th>\n      <td>new</td>\n      <td>[인기]아이펠치킨</td>\n      <td>16000</td>\n      <td>11호</td>\n      <td>1200.0</td>\n      <td>0.5</td>\n      <td>8000.0</td>\n      <td>국내산</td>\n    </tr>\n    <tr>\n      <th>8</th>\n      <td>10</td>\n      <td>[베스트]풀잎치킨</td>\n      <td>9900</td>\n      <td>10호</td>\n      <td>NaN</td>\n      <td>NaN</td>\n      <td>NaN</td>\n      <td>NaN</td>\n    </tr>\n  </tbody>\n</table>\n</div>"
     },
     "execution_count": 15,
     "metadata": {},
     "output_type": "execute_result"
    }
   ],
   "source": [
    "#결측치 처리\n",
    "\n",
    "#결측치 삭제\n",
    "\n",
    "#데이터 프레임 복사\n",
    "data = df.copy()\n",
    "data"
   ],
   "metadata": {
    "collapsed": false,
    "ExecuteTime": {
     "end_time": "2023-07-11T03:02:42.696935Z",
     "start_time": "2023-07-11T03:02:42.532764Z"
    }
   }
  },
  {
   "cell_type": "code",
   "execution_count": 16,
   "outputs": [
    {
     "data": {
      "text/plain": "  Unnamed: 0         메뉴     가격   호수     칼로리  할인율      할인가  원산지\n0          0     황금후라이드  12000  10호  1000.0  0.2   9600.0  국내산\n4          4         파닭  14000  11호  1300.0  0.2  11200.0  브라질\n5          5        닭강정  15000  12호  1500.0  0.2  12000.0  브라질\n7        new  [인기]아이펠치킨  16000  11호  1200.0  0.5   8000.0  국내산",
      "text/html": "<div>\n<style scoped>\n    .dataframe tbody tr th:only-of-type {\n        vertical-align: middle;\n    }\n\n    .dataframe tbody tr th {\n        vertical-align: top;\n    }\n\n    .dataframe thead th {\n        text-align: right;\n    }\n</style>\n<table border=\"1\" class=\"dataframe\">\n  <thead>\n    <tr style=\"text-align: right;\">\n      <th></th>\n      <th>Unnamed: 0</th>\n      <th>메뉴</th>\n      <th>가격</th>\n      <th>호수</th>\n      <th>칼로리</th>\n      <th>할인율</th>\n      <th>할인가</th>\n      <th>원산지</th>\n    </tr>\n  </thead>\n  <tbody>\n    <tr>\n      <th>0</th>\n      <td>0</td>\n      <td>황금후라이드</td>\n      <td>12000</td>\n      <td>10호</td>\n      <td>1000.0</td>\n      <td>0.2</td>\n      <td>9600.0</td>\n      <td>국내산</td>\n    </tr>\n    <tr>\n      <th>4</th>\n      <td>4</td>\n      <td>파닭</td>\n      <td>14000</td>\n      <td>11호</td>\n      <td>1300.0</td>\n      <td>0.2</td>\n      <td>11200.0</td>\n      <td>브라질</td>\n    </tr>\n    <tr>\n      <th>5</th>\n      <td>5</td>\n      <td>닭강정</td>\n      <td>15000</td>\n      <td>12호</td>\n      <td>1500.0</td>\n      <td>0.2</td>\n      <td>12000.0</td>\n      <td>브라질</td>\n    </tr>\n    <tr>\n      <th>7</th>\n      <td>new</td>\n      <td>[인기]아이펠치킨</td>\n      <td>16000</td>\n      <td>11호</td>\n      <td>1200.0</td>\n      <td>0.5</td>\n      <td>8000.0</td>\n      <td>국내산</td>\n    </tr>\n  </tbody>\n</table>\n</div>"
     },
     "execution_count": 16,
     "metadata": {},
     "output_type": "execute_result"
    }
   ],
   "source": [
    "#결측치가 있는 모든 행 삭제\n",
    "data.dropna(axis=0)"
   ],
   "metadata": {
    "collapsed": false,
    "ExecuteTime": {
     "end_time": "2023-07-11T03:02:42.742115Z",
     "start_time": "2023-07-11T03:02:42.548935Z"
    }
   }
  },
  {
   "cell_type": "code",
   "execution_count": 17,
   "outputs": [
    {
     "data": {
      "text/plain": "  Unnamed: 0         메뉴     가격   호수\n0          0     황금후라이드  12000  10호\n1          1     승일양념치킨  13000  10호\n2          2       간장치킨  14000   9호\n3          3       마늘치킨  14000   9호\n4          4         파닭  14000  11호\n5          5        닭강정  15000  12호\n6          6   양념반후라이드반  13000  10호\n7        new  [인기]아이펠치킨  16000  11호\n8         10  [베스트]풀잎치킨   9900  10호",
      "text/html": "<div>\n<style scoped>\n    .dataframe tbody tr th:only-of-type {\n        vertical-align: middle;\n    }\n\n    .dataframe tbody tr th {\n        vertical-align: top;\n    }\n\n    .dataframe thead th {\n        text-align: right;\n    }\n</style>\n<table border=\"1\" class=\"dataframe\">\n  <thead>\n    <tr style=\"text-align: right;\">\n      <th></th>\n      <th>Unnamed: 0</th>\n      <th>메뉴</th>\n      <th>가격</th>\n      <th>호수</th>\n    </tr>\n  </thead>\n  <tbody>\n    <tr>\n      <th>0</th>\n      <td>0</td>\n      <td>황금후라이드</td>\n      <td>12000</td>\n      <td>10호</td>\n    </tr>\n    <tr>\n      <th>1</th>\n      <td>1</td>\n      <td>승일양념치킨</td>\n      <td>13000</td>\n      <td>10호</td>\n    </tr>\n    <tr>\n      <th>2</th>\n      <td>2</td>\n      <td>간장치킨</td>\n      <td>14000</td>\n      <td>9호</td>\n    </tr>\n    <tr>\n      <th>3</th>\n      <td>3</td>\n      <td>마늘치킨</td>\n      <td>14000</td>\n      <td>9호</td>\n    </tr>\n    <tr>\n      <th>4</th>\n      <td>4</td>\n      <td>파닭</td>\n      <td>14000</td>\n      <td>11호</td>\n    </tr>\n    <tr>\n      <th>5</th>\n      <td>5</td>\n      <td>닭강정</td>\n      <td>15000</td>\n      <td>12호</td>\n    </tr>\n    <tr>\n      <th>6</th>\n      <td>6</td>\n      <td>양념반후라이드반</td>\n      <td>13000</td>\n      <td>10호</td>\n    </tr>\n    <tr>\n      <th>7</th>\n      <td>new</td>\n      <td>[인기]아이펠치킨</td>\n      <td>16000</td>\n      <td>11호</td>\n    </tr>\n    <tr>\n      <th>8</th>\n      <td>10</td>\n      <td>[베스트]풀잎치킨</td>\n      <td>9900</td>\n      <td>10호</td>\n    </tr>\n  </tbody>\n</table>\n</div>"
     },
     "execution_count": 17,
     "metadata": {},
     "output_type": "execute_result"
    }
   ],
   "source": [
    "#결측치가 있는 모든 열 삭제\n",
    "data.dropna(axis=1)"
   ],
   "metadata": {
    "collapsed": false,
    "ExecuteTime": {
     "end_time": "2023-07-11T03:02:42.786776Z",
     "start_time": "2023-07-11T03:02:42.559023Z"
    }
   }
  },
  {
   "cell_type": "code",
   "execution_count": 39,
   "outputs": [
    {
     "data": {
      "text/plain": "          메뉴     가격   호수     칼로리  할인율      할인가  원산지\n0     황금후라이드  12000  10호  1000.0  0.2   9600.0  국내산\n1     승일양념치킨  13000  10호  1400.0  0.2  10400.0  NaN\n2       간장치킨  14000   9호  1600.0  0.2  11200.0  NaN\n3       마늘치킨  14000   9호  1800.0  0.2  11200.0  NaN\n4         파닭  14000  11호  1300.0  0.2  11200.0  브라질\n5        닭강정  15000  12호  1500.0  0.2  12000.0  브라질\n6   양념반후라이드반  13000  10호  1300.0  0.2  10400.0  NaN\n7  [인기]아이펠치킨  16000  11호  1200.0  0.5   8000.0  국내산\n8  [베스트]풀잎치킨   9900  10호     NaN  NaN      NaN  NaN",
      "text/html": "<div>\n<style scoped>\n    .dataframe tbody tr th:only-of-type {\n        vertical-align: middle;\n    }\n\n    .dataframe tbody tr th {\n        vertical-align: top;\n    }\n\n    .dataframe thead th {\n        text-align: right;\n    }\n</style>\n<table border=\"1\" class=\"dataframe\">\n  <thead>\n    <tr style=\"text-align: right;\">\n      <th></th>\n      <th>메뉴</th>\n      <th>가격</th>\n      <th>호수</th>\n      <th>칼로리</th>\n      <th>할인율</th>\n      <th>할인가</th>\n      <th>원산지</th>\n    </tr>\n  </thead>\n  <tbody>\n    <tr>\n      <th>0</th>\n      <td>황금후라이드</td>\n      <td>12000</td>\n      <td>10호</td>\n      <td>1000.0</td>\n      <td>0.2</td>\n      <td>9600.0</td>\n      <td>국내산</td>\n    </tr>\n    <tr>\n      <th>1</th>\n      <td>승일양념치킨</td>\n      <td>13000</td>\n      <td>10호</td>\n      <td>1400.0</td>\n      <td>0.2</td>\n      <td>10400.0</td>\n      <td>NaN</td>\n    </tr>\n    <tr>\n      <th>2</th>\n      <td>간장치킨</td>\n      <td>14000</td>\n      <td>9호</td>\n      <td>1600.0</td>\n      <td>0.2</td>\n      <td>11200.0</td>\n      <td>NaN</td>\n    </tr>\n    <tr>\n      <th>3</th>\n      <td>마늘치킨</td>\n      <td>14000</td>\n      <td>9호</td>\n      <td>1800.0</td>\n      <td>0.2</td>\n      <td>11200.0</td>\n      <td>NaN</td>\n    </tr>\n    <tr>\n      <th>4</th>\n      <td>파닭</td>\n      <td>14000</td>\n      <td>11호</td>\n      <td>1300.0</td>\n      <td>0.2</td>\n      <td>11200.0</td>\n      <td>브라질</td>\n    </tr>\n    <tr>\n      <th>5</th>\n      <td>닭강정</td>\n      <td>15000</td>\n      <td>12호</td>\n      <td>1500.0</td>\n      <td>0.2</td>\n      <td>12000.0</td>\n      <td>브라질</td>\n    </tr>\n    <tr>\n      <th>6</th>\n      <td>양념반후라이드반</td>\n      <td>13000</td>\n      <td>10호</td>\n      <td>1300.0</td>\n      <td>0.2</td>\n      <td>10400.0</td>\n      <td>NaN</td>\n    </tr>\n    <tr>\n      <th>7</th>\n      <td>[인기]아이펠치킨</td>\n      <td>16000</td>\n      <td>11호</td>\n      <td>1200.0</td>\n      <td>0.5</td>\n      <td>8000.0</td>\n      <td>국내산</td>\n    </tr>\n    <tr>\n      <th>8</th>\n      <td>[베스트]풀잎치킨</td>\n      <td>9900</td>\n      <td>10호</td>\n      <td>NaN</td>\n      <td>NaN</td>\n      <td>NaN</td>\n      <td>NaN</td>\n    </tr>\n  </tbody>\n</table>\n</div>"
     },
     "execution_count": 39,
     "metadata": {},
     "output_type": "execute_result"
    }
   ],
   "source": [
    "df = pd.DataFrame({\n",
    "    'Unnamed: 0': [0,1,2,3,4,5,6,'new',10],\n",
    "    '메뉴': ['황금후라이드','승일양념치킨','간장치킨','마늘치킨','파닭','닭강정','양념반후라이드반','[인기]아이펠치킨','[베스트]풀잎치킨'],\n",
    "    '가격': [12000,13000,14000,14000,14000,15000,13000,16000,9900],\n",
    "    '호수' : ['10호','10호','9호','9호','11호','12호','10호','11호','10호'],\n",
    "    '칼로리' : [1000.0,1400.0,1600.0,1800.0,1300.0,1500.0,1300.0,1200.0,np.nan],\n",
    "    '할인율' : [0.2,0.2,0.2,0.2,0.2,0.2,0.2,0.5,np.nan],\n",
    "    '할인가' : [9600.0,10400.0,11200.0,11200.0,11200.0,12000.0,10400.0,8000.0,np.nan],\n",
    "    '원산지' : ['국내산',np.nan,np.nan,np.nan,'브라질','브라질',np.nan,'국내산',np.nan]\n",
    "})\n",
    "df.to_csv('new_modudak.csv', index=False)\n",
    "df.drop('Unnamed: 0', axis=1, inplace=True)\n",
    "df"
   ],
   "metadata": {
    "collapsed": false,
    "ExecuteTime": {
     "end_time": "2023-07-11T03:08:01.236957Z",
     "start_time": "2023-07-11T03:08:01.225713Z"
    }
   }
  },
  {
   "cell_type": "code",
   "execution_count": 40,
   "outputs": [
    {
     "data": {
      "text/plain": "메뉴     0\n가격     0\n호수     0\n칼로리    1\n할인율    1\n할인가    1\n원산지    5\ndtype: int64"
     },
     "execution_count": 40,
     "metadata": {},
     "output_type": "execute_result"
    }
   ],
   "source": [
    "#결측치 채우기\n",
    "\n",
    "#컴럼별 결측치 확인\n",
    "df.isnull().sum()\n"
   ],
   "metadata": {
    "collapsed": false,
    "ExecuteTime": {
     "end_time": "2023-07-11T03:08:04.658278Z",
     "start_time": "2023-07-11T03:08:04.648945Z"
    }
   }
  },
  {
   "cell_type": "code",
   "execution_count": 44,
   "outputs": [
    {
     "data": {
      "text/plain": "0     국내산\n1    알수없음\n2    알수없음\n3    알수없음\n4     브라질\n5     브라질\n6    알수없음\n7     국내산\n8    알수없음\nName: 원산지, dtype: object"
     },
     "execution_count": 44,
     "metadata": {},
     "output_type": "execute_result"
    }
   ],
   "source": [
    "#결측값 채우기\n",
    "# '원산지'->'알수없음'으로 채우기\n",
    "df['원산지'].fillna('알수없음')"
   ],
   "metadata": {
    "collapsed": false,
    "ExecuteTime": {
     "end_time": "2023-07-11T03:09:04.177457Z",
     "start_time": "2023-07-11T03:09:04.173105Z"
    }
   }
  },
  {
   "cell_type": "code",
   "execution_count": 45,
   "outputs": [
    {
     "data": {
      "text/plain": "0    국내산\n1    국내산\n2    국내산\n3    국내산\n4    브라질\n5    브라질\n6    국내산\n7    국내산\n8    국내산\nName: 원산지, dtype: object"
     },
     "execution_count": 45,
     "metadata": {},
     "output_type": "execute_result"
    }
   ],
   "source": [
    "# '원산지' 최반값으로 채우기\n",
    "df['원산지'].fillna('국내산') # 국내산이 최빈값이므로 국내산으로 눈으로 세서 채웠고 나중에 내장함수 이용해서 다시 스터디 예정"
   ],
   "metadata": {
    "collapsed": false,
    "ExecuteTime": {
     "end_time": "2023-07-11T03:09:06.443829Z",
     "start_time": "2023-07-11T03:09:06.438185Z"
    }
   }
  },
  {
   "cell_type": "code",
   "execution_count": 47,
   "outputs": [
    {
     "data": {
      "text/plain": "          메뉴     가격   호수     칼로리  할인율      할인가  원산지\n0     황금후라이드  12000  10호  1000.0  0.2   9600.0  국내산\n1     승일양념치킨  13000  10호  1400.0  0.2  10400.0  국내산\n2       간장치킨  14000   9호  1600.0  0.2  11200.0  국내산\n3       마늘치킨  14000   9호  1800.0  0.2  11200.0  국내산\n4         파닭  14000  11호  1300.0  0.2  11200.0  브라질\n5        닭강정  15000  12호  1500.0  0.2  12000.0  브라질\n6   양념반후라이드반  13000  10호  1300.0  0.2  10400.0  국내산\n7  [인기]아이펠치킨  16000  11호  1200.0  0.5   8000.0  국내산\n8  [베스트]풀잎치킨   9900  10호     NaN  NaN      NaN  국내산",
      "text/html": "<div>\n<style scoped>\n    .dataframe tbody tr th:only-of-type {\n        vertical-align: middle;\n    }\n\n    .dataframe tbody tr th {\n        vertical-align: top;\n    }\n\n    .dataframe thead th {\n        text-align: right;\n    }\n</style>\n<table border=\"1\" class=\"dataframe\">\n  <thead>\n    <tr style=\"text-align: right;\">\n      <th></th>\n      <th>메뉴</th>\n      <th>가격</th>\n      <th>호수</th>\n      <th>칼로리</th>\n      <th>할인율</th>\n      <th>할인가</th>\n      <th>원산지</th>\n    </tr>\n  </thead>\n  <tbody>\n    <tr>\n      <th>0</th>\n      <td>황금후라이드</td>\n      <td>12000</td>\n      <td>10호</td>\n      <td>1000.0</td>\n      <td>0.2</td>\n      <td>9600.0</td>\n      <td>국내산</td>\n    </tr>\n    <tr>\n      <th>1</th>\n      <td>승일양념치킨</td>\n      <td>13000</td>\n      <td>10호</td>\n      <td>1400.0</td>\n      <td>0.2</td>\n      <td>10400.0</td>\n      <td>국내산</td>\n    </tr>\n    <tr>\n      <th>2</th>\n      <td>간장치킨</td>\n      <td>14000</td>\n      <td>9호</td>\n      <td>1600.0</td>\n      <td>0.2</td>\n      <td>11200.0</td>\n      <td>국내산</td>\n    </tr>\n    <tr>\n      <th>3</th>\n      <td>마늘치킨</td>\n      <td>14000</td>\n      <td>9호</td>\n      <td>1800.0</td>\n      <td>0.2</td>\n      <td>11200.0</td>\n      <td>국내산</td>\n    </tr>\n    <tr>\n      <th>4</th>\n      <td>파닭</td>\n      <td>14000</td>\n      <td>11호</td>\n      <td>1300.0</td>\n      <td>0.2</td>\n      <td>11200.0</td>\n      <td>브라질</td>\n    </tr>\n    <tr>\n      <th>5</th>\n      <td>닭강정</td>\n      <td>15000</td>\n      <td>12호</td>\n      <td>1500.0</td>\n      <td>0.2</td>\n      <td>12000.0</td>\n      <td>브라질</td>\n    </tr>\n    <tr>\n      <th>6</th>\n      <td>양념반후라이드반</td>\n      <td>13000</td>\n      <td>10호</td>\n      <td>1300.0</td>\n      <td>0.2</td>\n      <td>10400.0</td>\n      <td>국내산</td>\n    </tr>\n    <tr>\n      <th>7</th>\n      <td>[인기]아이펠치킨</td>\n      <td>16000</td>\n      <td>11호</td>\n      <td>1200.0</td>\n      <td>0.5</td>\n      <td>8000.0</td>\n      <td>국내산</td>\n    </tr>\n    <tr>\n      <th>8</th>\n      <td>[베스트]풀잎치킨</td>\n      <td>9900</td>\n      <td>10호</td>\n      <td>NaN</td>\n      <td>NaN</td>\n      <td>NaN</td>\n      <td>국내산</td>\n    </tr>\n  </tbody>\n</table>\n</div>"
     },
     "execution_count": 47,
     "metadata": {},
     "output_type": "execute_result"
    }
   ],
   "source": [
    "# '원산지' 채우기 실행\n",
    "df['원산지'] = df['원산지'].fillna('국내산')\n",
    "df"
   ],
   "metadata": {
    "collapsed": false,
    "ExecuteTime": {
     "end_time": "2023-07-11T03:09:48.344989Z",
     "start_time": "2023-07-11T03:09:48.340475Z"
    }
   }
  },
  {
   "cell_type": "code",
   "execution_count": 48,
   "outputs": [
    {
     "data": {
      "text/plain": "0    1000.0\n1    1400.0\n2    1600.0\n3    1800.0\n4    1300.0\n5    1500.0\n6    1300.0\n7    1200.0\n8     900.0\nName: 칼로리, dtype: float64"
     },
     "execution_count": 48,
     "metadata": {},
     "output_type": "execute_result"
    }
   ],
   "source": [
    "#'칼로리' 컬럼 결측치는 900으로 결측치 채우기\n",
    "df['칼로리'].fillna(900)"
   ],
   "metadata": {
    "collapsed": false,
    "ExecuteTime": {
     "end_time": "2023-07-11T03:10:17.260555Z",
     "start_time": "2023-07-11T03:10:17.250771Z"
    }
   }
  },
  {
   "cell_type": "code",
   "execution_count": 49,
   "outputs": [
    {
     "data": {
      "text/plain": "0    1000.0\n1    1400.0\n2    1600.0\n3    1800.0\n4    1300.0\n5    1500.0\n6    1300.0\n7    1200.0\n8    1000.0\nName: 칼로리, dtype: float64"
     },
     "execution_count": 49,
     "metadata": {},
     "output_type": "execute_result"
    }
   ],
   "source": [
    "# '칼로리' 컬럼 결측치는 최소값 결측치 채움\n",
    "df['칼로리'].fillna(df['칼로리'].min())"
   ],
   "metadata": {
    "collapsed": false,
    "ExecuteTime": {
     "end_time": "2023-07-11T03:10:29.358521Z",
     "start_time": "2023-07-11T03:10:29.352366Z"
    }
   }
  },
  {
   "cell_type": "code",
   "execution_count": 51,
   "outputs": [
    {
     "data": {
      "text/plain": "          메뉴     가격   호수     칼로리  할인율      할인가  원산지\n0     황금후라이드  12000  10호  1000.0  0.2   9600.0  국내산\n1     승일양념치킨  13000  10호  1400.0  0.2  10400.0  국내산\n2       간장치킨  14000   9호  1600.0  0.2  11200.0  국내산\n3       마늘치킨  14000   9호  1800.0  0.2  11200.0  국내산\n4         파닭  14000  11호  1300.0  0.2  11200.0  브라질\n5        닭강정  15000  12호  1500.0  0.2  12000.0  브라질\n6   양념반후라이드반  13000  10호  1300.0  0.2  10400.0  국내산\n7  [인기]아이펠치킨  16000  11호  1200.0  0.5   8000.0  국내산\n8  [베스트]풀잎치킨   9900  10호  1000.0  NaN      NaN  국내산",
      "text/html": "<div>\n<style scoped>\n    .dataframe tbody tr th:only-of-type {\n        vertical-align: middle;\n    }\n\n    .dataframe tbody tr th {\n        vertical-align: top;\n    }\n\n    .dataframe thead th {\n        text-align: right;\n    }\n</style>\n<table border=\"1\" class=\"dataframe\">\n  <thead>\n    <tr style=\"text-align: right;\">\n      <th></th>\n      <th>메뉴</th>\n      <th>가격</th>\n      <th>호수</th>\n      <th>칼로리</th>\n      <th>할인율</th>\n      <th>할인가</th>\n      <th>원산지</th>\n    </tr>\n  </thead>\n  <tbody>\n    <tr>\n      <th>0</th>\n      <td>황금후라이드</td>\n      <td>12000</td>\n      <td>10호</td>\n      <td>1000.0</td>\n      <td>0.2</td>\n      <td>9600.0</td>\n      <td>국내산</td>\n    </tr>\n    <tr>\n      <th>1</th>\n      <td>승일양념치킨</td>\n      <td>13000</td>\n      <td>10호</td>\n      <td>1400.0</td>\n      <td>0.2</td>\n      <td>10400.0</td>\n      <td>국내산</td>\n    </tr>\n    <tr>\n      <th>2</th>\n      <td>간장치킨</td>\n      <td>14000</td>\n      <td>9호</td>\n      <td>1600.0</td>\n      <td>0.2</td>\n      <td>11200.0</td>\n      <td>국내산</td>\n    </tr>\n    <tr>\n      <th>3</th>\n      <td>마늘치킨</td>\n      <td>14000</td>\n      <td>9호</td>\n      <td>1800.0</td>\n      <td>0.2</td>\n      <td>11200.0</td>\n      <td>국내산</td>\n    </tr>\n    <tr>\n      <th>4</th>\n      <td>파닭</td>\n      <td>14000</td>\n      <td>11호</td>\n      <td>1300.0</td>\n      <td>0.2</td>\n      <td>11200.0</td>\n      <td>브라질</td>\n    </tr>\n    <tr>\n      <th>5</th>\n      <td>닭강정</td>\n      <td>15000</td>\n      <td>12호</td>\n      <td>1500.0</td>\n      <td>0.2</td>\n      <td>12000.0</td>\n      <td>브라질</td>\n    </tr>\n    <tr>\n      <th>6</th>\n      <td>양념반후라이드반</td>\n      <td>13000</td>\n      <td>10호</td>\n      <td>1300.0</td>\n      <td>0.2</td>\n      <td>10400.0</td>\n      <td>국내산</td>\n    </tr>\n    <tr>\n      <th>7</th>\n      <td>[인기]아이펠치킨</td>\n      <td>16000</td>\n      <td>11호</td>\n      <td>1200.0</td>\n      <td>0.5</td>\n      <td>8000.0</td>\n      <td>국내산</td>\n    </tr>\n    <tr>\n      <th>8</th>\n      <td>[베스트]풀잎치킨</td>\n      <td>9900</td>\n      <td>10호</td>\n      <td>1000.0</td>\n      <td>NaN</td>\n      <td>NaN</td>\n      <td>국내산</td>\n    </tr>\n  </tbody>\n</table>\n</div>"
     },
     "execution_count": 51,
     "metadata": {},
     "output_type": "execute_result"
    }
   ],
   "source": [
    "#칼로리 채우기 실행\n",
    "# 반드시 df['칼로리'] = <- 이렇게 해야 적용됨\n",
    "df['칼로리'] = df['칼로리'].fillna(df['칼로리'].min())\n",
    "df"
   ],
   "metadata": {
    "collapsed": false,
    "ExecuteTime": {
     "end_time": "2023-07-11T03:10:52.839055Z",
     "start_time": "2023-07-11T03:10:52.832985Z"
    }
   }
  },
  {
   "cell_type": "code",
   "execution_count": 56,
   "outputs": [
    {
     "data": {
      "text/plain": "          메뉴     가격   호수     칼로리  할인율      할인가  원산지\n0     황금후라이드  12000  10호  1000.0  0.2   9600.0  국내산\n1     승일양념치킨  13000  10호  1400.0  0.2  10400.0  국내산\n2       간장치킨  14000   9호  1600.0  0.2  11200.0  국내산\n3       마늘치킨  14000   9호  1800.0  0.2  11200.0  국내산\n4         파닭  14000  11호  1300.0  0.2  11200.0  브라질\n5        닭강정  15000  12호  1500.0  0.2  12000.0  브라질\n6   양념반후라이드반  13000  10호  1300.0  0.2  10400.0  국내산\n7  [인기]아이펠치킨  16000  11호  1200.0  0.5   8000.0  국내산\n8  [베스트]풀잎치킨   9900  10호  1000.0  NaN      NaN  국내산",
      "text/html": "<div>\n<style scoped>\n    .dataframe tbody tr th:only-of-type {\n        vertical-align: middle;\n    }\n\n    .dataframe tbody tr th {\n        vertical-align: top;\n    }\n\n    .dataframe thead th {\n        text-align: right;\n    }\n</style>\n<table border=\"1\" class=\"dataframe\">\n  <thead>\n    <tr style=\"text-align: right;\">\n      <th></th>\n      <th>메뉴</th>\n      <th>가격</th>\n      <th>호수</th>\n      <th>칼로리</th>\n      <th>할인율</th>\n      <th>할인가</th>\n      <th>원산지</th>\n    </tr>\n  </thead>\n  <tbody>\n    <tr>\n      <th>0</th>\n      <td>황금후라이드</td>\n      <td>12000</td>\n      <td>10호</td>\n      <td>1000.0</td>\n      <td>0.2</td>\n      <td>9600.0</td>\n      <td>국내산</td>\n    </tr>\n    <tr>\n      <th>1</th>\n      <td>승일양념치킨</td>\n      <td>13000</td>\n      <td>10호</td>\n      <td>1400.0</td>\n      <td>0.2</td>\n      <td>10400.0</td>\n      <td>국내산</td>\n    </tr>\n    <tr>\n      <th>2</th>\n      <td>간장치킨</td>\n      <td>14000</td>\n      <td>9호</td>\n      <td>1600.0</td>\n      <td>0.2</td>\n      <td>11200.0</td>\n      <td>국내산</td>\n    </tr>\n    <tr>\n      <th>3</th>\n      <td>마늘치킨</td>\n      <td>14000</td>\n      <td>9호</td>\n      <td>1800.0</td>\n      <td>0.2</td>\n      <td>11200.0</td>\n      <td>국내산</td>\n    </tr>\n    <tr>\n      <th>4</th>\n      <td>파닭</td>\n      <td>14000</td>\n      <td>11호</td>\n      <td>1300.0</td>\n      <td>0.2</td>\n      <td>11200.0</td>\n      <td>브라질</td>\n    </tr>\n    <tr>\n      <th>5</th>\n      <td>닭강정</td>\n      <td>15000</td>\n      <td>12호</td>\n      <td>1500.0</td>\n      <td>0.2</td>\n      <td>12000.0</td>\n      <td>브라질</td>\n    </tr>\n    <tr>\n      <th>6</th>\n      <td>양념반후라이드반</td>\n      <td>13000</td>\n      <td>10호</td>\n      <td>1300.0</td>\n      <td>0.2</td>\n      <td>10400.0</td>\n      <td>국내산</td>\n    </tr>\n    <tr>\n      <th>7</th>\n      <td>[인기]아이펠치킨</td>\n      <td>16000</td>\n      <td>11호</td>\n      <td>1200.0</td>\n      <td>0.5</td>\n      <td>8000.0</td>\n      <td>국내산</td>\n    </tr>\n    <tr>\n      <th>8</th>\n      <td>[베스트]풀잎치킨</td>\n      <td>9900</td>\n      <td>10호</td>\n      <td>1000.0</td>\n      <td>NaN</td>\n      <td>NaN</td>\n      <td>국내산</td>\n    </tr>\n  </tbody>\n</table>\n</div>"
     },
     "execution_count": 56,
     "metadata": {},
     "output_type": "execute_result"
    }
   ],
   "source": [
    "#정렬\n",
    "\n",
    "# 데이터 확인\n",
    "df"
   ],
   "metadata": {
    "collapsed": false,
    "ExecuteTime": {
     "end_time": "2023-07-11T03:19:18.581566Z",
     "start_time": "2023-07-11T03:19:18.576666Z"
    }
   }
  },
  {
   "cell_type": "code",
   "execution_count": 59,
   "outputs": [
    {
     "data": {
      "text/plain": "          메뉴     가격   호수     칼로리  할인율      할인가  원산지\n8  [베스트]풀잎치킨   9900  10호  1000.0  NaN      NaN  국내산\n7  [인기]아이펠치킨  16000  11호  1200.0  0.5   8000.0  국내산\n6   양념반후라이드반  13000  10호  1300.0  0.2  10400.0  국내산\n5        닭강정  15000  12호  1500.0  0.2  12000.0  브라질\n4         파닭  14000  11호  1300.0  0.2  11200.0  브라질\n3       마늘치킨  14000   9호  1800.0  0.2  11200.0  국내산\n2       간장치킨  14000   9호  1600.0  0.2  11200.0  국내산\n1     승일양념치킨  13000  10호  1400.0  0.2  10400.0  국내산\n0     황금후라이드  12000  10호  1000.0  0.2   9600.0  국내산",
      "text/html": "<div>\n<style scoped>\n    .dataframe tbody tr th:only-of-type {\n        vertical-align: middle;\n    }\n\n    .dataframe tbody tr th {\n        vertical-align: top;\n    }\n\n    .dataframe thead th {\n        text-align: right;\n    }\n</style>\n<table border=\"1\" class=\"dataframe\">\n  <thead>\n    <tr style=\"text-align: right;\">\n      <th></th>\n      <th>메뉴</th>\n      <th>가격</th>\n      <th>호수</th>\n      <th>칼로리</th>\n      <th>할인율</th>\n      <th>할인가</th>\n      <th>원산지</th>\n    </tr>\n  </thead>\n  <tbody>\n    <tr>\n      <th>8</th>\n      <td>[베스트]풀잎치킨</td>\n      <td>9900</td>\n      <td>10호</td>\n      <td>1000.0</td>\n      <td>NaN</td>\n      <td>NaN</td>\n      <td>국내산</td>\n    </tr>\n    <tr>\n      <th>7</th>\n      <td>[인기]아이펠치킨</td>\n      <td>16000</td>\n      <td>11호</td>\n      <td>1200.0</td>\n      <td>0.5</td>\n      <td>8000.0</td>\n      <td>국내산</td>\n    </tr>\n    <tr>\n      <th>6</th>\n      <td>양념반후라이드반</td>\n      <td>13000</td>\n      <td>10호</td>\n      <td>1300.0</td>\n      <td>0.2</td>\n      <td>10400.0</td>\n      <td>국내산</td>\n    </tr>\n    <tr>\n      <th>5</th>\n      <td>닭강정</td>\n      <td>15000</td>\n      <td>12호</td>\n      <td>1500.0</td>\n      <td>0.2</td>\n      <td>12000.0</td>\n      <td>브라질</td>\n    </tr>\n    <tr>\n      <th>4</th>\n      <td>파닭</td>\n      <td>14000</td>\n      <td>11호</td>\n      <td>1300.0</td>\n      <td>0.2</td>\n      <td>11200.0</td>\n      <td>브라질</td>\n    </tr>\n    <tr>\n      <th>3</th>\n      <td>마늘치킨</td>\n      <td>14000</td>\n      <td>9호</td>\n      <td>1800.0</td>\n      <td>0.2</td>\n      <td>11200.0</td>\n      <td>국내산</td>\n    </tr>\n    <tr>\n      <th>2</th>\n      <td>간장치킨</td>\n      <td>14000</td>\n      <td>9호</td>\n      <td>1600.0</td>\n      <td>0.2</td>\n      <td>11200.0</td>\n      <td>국내산</td>\n    </tr>\n    <tr>\n      <th>1</th>\n      <td>승일양념치킨</td>\n      <td>13000</td>\n      <td>10호</td>\n      <td>1400.0</td>\n      <td>0.2</td>\n      <td>10400.0</td>\n      <td>국내산</td>\n    </tr>\n    <tr>\n      <th>0</th>\n      <td>황금후라이드</td>\n      <td>12000</td>\n      <td>10호</td>\n      <td>1000.0</td>\n      <td>0.2</td>\n      <td>9600.0</td>\n      <td>국내산</td>\n    </tr>\n  </tbody>\n</table>\n</div>"
     },
     "execution_count": 59,
     "metadata": {},
     "output_type": "execute_result"
    }
   ],
   "source": [
    "#인덱스 기준(기본값 ascending=True) # 오름차순\n",
    "df.sort_index(ascending=False) # 내림차순"
   ],
   "metadata": {
    "collapsed": false,
    "ExecuteTime": {
     "end_time": "2023-07-11T03:20:18.591759Z",
     "start_time": "2023-07-11T03:20:18.587634Z"
    }
   }
  },
  {
   "cell_type": "code",
   "execution_count": 61,
   "outputs": [
    {
     "data": {
      "text/plain": "          메뉴     가격   호수     칼로리  할인율      할인가  원산지\n7  [인기]아이펠치킨  16000  11호  1200.0  0.5   8000.0  국내산\n5        닭강정  15000  12호  1500.0  0.2  12000.0  브라질\n2       간장치킨  14000   9호  1600.0  0.2  11200.0  국내산\n3       마늘치킨  14000   9호  1800.0  0.2  11200.0  국내산\n4         파닭  14000  11호  1300.0  0.2  11200.0  브라질\n1     승일양념치킨  13000  10호  1400.0  0.2  10400.0  국내산\n6   양념반후라이드반  13000  10호  1300.0  0.2  10400.0  국내산\n0     황금후라이드  12000  10호  1000.0  0.2   9600.0  국내산\n8  [베스트]풀잎치킨   9900  10호  1000.0  NaN      NaN  국내산",
      "text/html": "<div>\n<style scoped>\n    .dataframe tbody tr th:only-of-type {\n        vertical-align: middle;\n    }\n\n    .dataframe tbody tr th {\n        vertical-align: top;\n    }\n\n    .dataframe thead th {\n        text-align: right;\n    }\n</style>\n<table border=\"1\" class=\"dataframe\">\n  <thead>\n    <tr style=\"text-align: right;\">\n      <th></th>\n      <th>메뉴</th>\n      <th>가격</th>\n      <th>호수</th>\n      <th>칼로리</th>\n      <th>할인율</th>\n      <th>할인가</th>\n      <th>원산지</th>\n    </tr>\n  </thead>\n  <tbody>\n    <tr>\n      <th>7</th>\n      <td>[인기]아이펠치킨</td>\n      <td>16000</td>\n      <td>11호</td>\n      <td>1200.0</td>\n      <td>0.5</td>\n      <td>8000.0</td>\n      <td>국내산</td>\n    </tr>\n    <tr>\n      <th>5</th>\n      <td>닭강정</td>\n      <td>15000</td>\n      <td>12호</td>\n      <td>1500.0</td>\n      <td>0.2</td>\n      <td>12000.0</td>\n      <td>브라질</td>\n    </tr>\n    <tr>\n      <th>2</th>\n      <td>간장치킨</td>\n      <td>14000</td>\n      <td>9호</td>\n      <td>1600.0</td>\n      <td>0.2</td>\n      <td>11200.0</td>\n      <td>국내산</td>\n    </tr>\n    <tr>\n      <th>3</th>\n      <td>마늘치킨</td>\n      <td>14000</td>\n      <td>9호</td>\n      <td>1800.0</td>\n      <td>0.2</td>\n      <td>11200.0</td>\n      <td>국내산</td>\n    </tr>\n    <tr>\n      <th>4</th>\n      <td>파닭</td>\n      <td>14000</td>\n      <td>11호</td>\n      <td>1300.0</td>\n      <td>0.2</td>\n      <td>11200.0</td>\n      <td>브라질</td>\n    </tr>\n    <tr>\n      <th>1</th>\n      <td>승일양념치킨</td>\n      <td>13000</td>\n      <td>10호</td>\n      <td>1400.0</td>\n      <td>0.2</td>\n      <td>10400.0</td>\n      <td>국내산</td>\n    </tr>\n    <tr>\n      <th>6</th>\n      <td>양념반후라이드반</td>\n      <td>13000</td>\n      <td>10호</td>\n      <td>1300.0</td>\n      <td>0.2</td>\n      <td>10400.0</td>\n      <td>국내산</td>\n    </tr>\n    <tr>\n      <th>0</th>\n      <td>황금후라이드</td>\n      <td>12000</td>\n      <td>10호</td>\n      <td>1000.0</td>\n      <td>0.2</td>\n      <td>9600.0</td>\n      <td>국내산</td>\n    </tr>\n    <tr>\n      <th>8</th>\n      <td>[베스트]풀잎치킨</td>\n      <td>9900</td>\n      <td>10호</td>\n      <td>1000.0</td>\n      <td>NaN</td>\n      <td>NaN</td>\n      <td>국내산</td>\n    </tr>\n  </tbody>\n</table>\n</div>"
     },
     "execution_count": 61,
     "metadata": {},
     "output_type": "execute_result"
    }
   ],
   "source": [
    "#가격 기준(ascending=True) # 오름차순\n",
    "#메뉴 기준 정렬\n",
    "df.sort_values(by='가격', ascending=False) # 내림차순"
   ],
   "metadata": {
    "collapsed": false,
    "ExecuteTime": {
     "end_time": "2023-07-11T03:21:09.601921Z",
     "start_time": "2023-07-11T03:21:09.596210Z"
    }
   }
  },
  {
   "cell_type": "code",
   "execution_count": 63,
   "outputs": [
    {
     "data": {
      "text/plain": "          메뉴     가격   호수     칼로리  할인율      할인가  원산지\n7  [인기]아이펠치킨  16000  11호  1200.0  0.5   8000.0  국내산\n5        닭강정  15000  12호  1500.0  0.2  12000.0  브라질\n2       간장치킨  14000   9호  1600.0  0.2  11200.0  국내산\n3       마늘치킨  14000   9호  1800.0  0.2  11200.0  국내산\n4         파닭  14000  11호  1300.0  0.2  11200.0  브라질\n1     승일양념치킨  13000  10호  1400.0  0.2  10400.0  국내산\n6   양념반후라이드반  13000  10호  1300.0  0.2  10400.0  국내산\n0     황금후라이드  12000  10호  1000.0  0.2   9600.0  국내산\n8  [베스트]풀잎치킨   9900  10호  1000.0  NaN      NaN  국내산",
      "text/html": "<div>\n<style scoped>\n    .dataframe tbody tr th:only-of-type {\n        vertical-align: middle;\n    }\n\n    .dataframe tbody tr th {\n        vertical-align: top;\n    }\n\n    .dataframe thead th {\n        text-align: right;\n    }\n</style>\n<table border=\"1\" class=\"dataframe\">\n  <thead>\n    <tr style=\"text-align: right;\">\n      <th></th>\n      <th>메뉴</th>\n      <th>가격</th>\n      <th>호수</th>\n      <th>칼로리</th>\n      <th>할인율</th>\n      <th>할인가</th>\n      <th>원산지</th>\n    </tr>\n  </thead>\n  <tbody>\n    <tr>\n      <th>7</th>\n      <td>[인기]아이펠치킨</td>\n      <td>16000</td>\n      <td>11호</td>\n      <td>1200.0</td>\n      <td>0.5</td>\n      <td>8000.0</td>\n      <td>국내산</td>\n    </tr>\n    <tr>\n      <th>5</th>\n      <td>닭강정</td>\n      <td>15000</td>\n      <td>12호</td>\n      <td>1500.0</td>\n      <td>0.2</td>\n      <td>12000.0</td>\n      <td>브라질</td>\n    </tr>\n    <tr>\n      <th>2</th>\n      <td>간장치킨</td>\n      <td>14000</td>\n      <td>9호</td>\n      <td>1600.0</td>\n      <td>0.2</td>\n      <td>11200.0</td>\n      <td>국내산</td>\n    </tr>\n    <tr>\n      <th>3</th>\n      <td>마늘치킨</td>\n      <td>14000</td>\n      <td>9호</td>\n      <td>1800.0</td>\n      <td>0.2</td>\n      <td>11200.0</td>\n      <td>국내산</td>\n    </tr>\n    <tr>\n      <th>4</th>\n      <td>파닭</td>\n      <td>14000</td>\n      <td>11호</td>\n      <td>1300.0</td>\n      <td>0.2</td>\n      <td>11200.0</td>\n      <td>브라질</td>\n    </tr>\n    <tr>\n      <th>1</th>\n      <td>승일양념치킨</td>\n      <td>13000</td>\n      <td>10호</td>\n      <td>1400.0</td>\n      <td>0.2</td>\n      <td>10400.0</td>\n      <td>국내산</td>\n    </tr>\n    <tr>\n      <th>6</th>\n      <td>양념반후라이드반</td>\n      <td>13000</td>\n      <td>10호</td>\n      <td>1300.0</td>\n      <td>0.2</td>\n      <td>10400.0</td>\n      <td>국내산</td>\n    </tr>\n    <tr>\n      <th>0</th>\n      <td>황금후라이드</td>\n      <td>12000</td>\n      <td>10호</td>\n      <td>1000.0</td>\n      <td>0.2</td>\n      <td>9600.0</td>\n      <td>국내산</td>\n    </tr>\n    <tr>\n      <th>8</th>\n      <td>[베스트]풀잎치킨</td>\n      <td>9900</td>\n      <td>10호</td>\n      <td>1000.0</td>\n      <td>NaN</td>\n      <td>NaN</td>\n      <td>국내산</td>\n    </tr>\n  </tbody>\n</table>\n</div>"
     },
     "execution_count": 63,
     "metadata": {},
     "output_type": "execute_result"
    }
   ],
   "source": [
    "# 가격과 메뉴 기준 정렬\n",
    "df = df.sort_values(['가격','메뉴'], ascending=[False,True]) # 내림차순\n",
    "df"
   ],
   "metadata": {
    "collapsed": false,
    "ExecuteTime": {
     "end_time": "2023-07-11T03:23:45.347522Z",
     "start_time": "2023-07-11T03:23:45.344577Z"
    }
   }
  },
  {
   "cell_type": "code",
   "execution_count": 65,
   "outputs": [
    {
     "data": {
      "text/plain": "          메뉴     가격   호수     칼로리  할인율      할인가  원산지\n0  [인기]아이펠치킨  16000  11호  1200.0  0.5   8000.0  국내산\n1        닭강정  15000  12호  1500.0  0.2  12000.0  브라질\n2       간장치킨  14000   9호  1600.0  0.2  11200.0  국내산\n3       마늘치킨  14000   9호  1800.0  0.2  11200.0  국내산\n4         파닭  14000  11호  1300.0  0.2  11200.0  브라질\n5     승일양념치킨  13000  10호  1400.0  0.2  10400.0  국내산\n6   양념반후라이드반  13000  10호  1300.0  0.2  10400.0  국내산\n7     황금후라이드  12000  10호  1000.0  0.2   9600.0  국내산\n8  [베스트]풀잎치킨   9900  10호  1000.0  NaN      NaN  국내산",
      "text/html": "<div>\n<style scoped>\n    .dataframe tbody tr th:only-of-type {\n        vertical-align: middle;\n    }\n\n    .dataframe tbody tr th {\n        vertical-align: top;\n    }\n\n    .dataframe thead th {\n        text-align: right;\n    }\n</style>\n<table border=\"1\" class=\"dataframe\">\n  <thead>\n    <tr style=\"text-align: right;\">\n      <th></th>\n      <th>메뉴</th>\n      <th>가격</th>\n      <th>호수</th>\n      <th>칼로리</th>\n      <th>할인율</th>\n      <th>할인가</th>\n      <th>원산지</th>\n    </tr>\n  </thead>\n  <tbody>\n    <tr>\n      <th>0</th>\n      <td>[인기]아이펠치킨</td>\n      <td>16000</td>\n      <td>11호</td>\n      <td>1200.0</td>\n      <td>0.5</td>\n      <td>8000.0</td>\n      <td>국내산</td>\n    </tr>\n    <tr>\n      <th>1</th>\n      <td>닭강정</td>\n      <td>15000</td>\n      <td>12호</td>\n      <td>1500.0</td>\n      <td>0.2</td>\n      <td>12000.0</td>\n      <td>브라질</td>\n    </tr>\n    <tr>\n      <th>2</th>\n      <td>간장치킨</td>\n      <td>14000</td>\n      <td>9호</td>\n      <td>1600.0</td>\n      <td>0.2</td>\n      <td>11200.0</td>\n      <td>국내산</td>\n    </tr>\n    <tr>\n      <th>3</th>\n      <td>마늘치킨</td>\n      <td>14000</td>\n      <td>9호</td>\n      <td>1800.0</td>\n      <td>0.2</td>\n      <td>11200.0</td>\n      <td>국내산</td>\n    </tr>\n    <tr>\n      <th>4</th>\n      <td>파닭</td>\n      <td>14000</td>\n      <td>11호</td>\n      <td>1300.0</td>\n      <td>0.2</td>\n      <td>11200.0</td>\n      <td>브라질</td>\n    </tr>\n    <tr>\n      <th>5</th>\n      <td>승일양념치킨</td>\n      <td>13000</td>\n      <td>10호</td>\n      <td>1400.0</td>\n      <td>0.2</td>\n      <td>10400.0</td>\n      <td>국내산</td>\n    </tr>\n    <tr>\n      <th>6</th>\n      <td>양념반후라이드반</td>\n      <td>13000</td>\n      <td>10호</td>\n      <td>1300.0</td>\n      <td>0.2</td>\n      <td>10400.0</td>\n      <td>국내산</td>\n    </tr>\n    <tr>\n      <th>7</th>\n      <td>황금후라이드</td>\n      <td>12000</td>\n      <td>10호</td>\n      <td>1000.0</td>\n      <td>0.2</td>\n      <td>9600.0</td>\n      <td>국내산</td>\n    </tr>\n    <tr>\n      <th>8</th>\n      <td>[베스트]풀잎치킨</td>\n      <td>9900</td>\n      <td>10호</td>\n      <td>1000.0</td>\n      <td>NaN</td>\n      <td>NaN</td>\n      <td>국내산</td>\n    </tr>\n  </tbody>\n</table>\n</div>"
     },
     "execution_count": 65,
     "metadata": {},
     "output_type": "execute_result"
    }
   ],
   "source": [
    "# 인덱스 새로 만들기 drop=True <- 기존 인덱스 삭제\n",
    "df = df.reset_index(drop=True)\n",
    "df"
   ],
   "metadata": {
    "collapsed": false,
    "ExecuteTime": {
     "end_time": "2023-07-11T03:24:27.069593Z",
     "start_time": "2023-07-11T03:24:27.060894Z"
    }
   }
  },
  {
   "cell_type": "code",
   "execution_count": 66,
   "outputs": [
    {
     "data": {
      "text/plain": "          메뉴     가격   호수     칼로리  할인율      할인가  원산지\n0  [인기]아이펠치킨  16000  11호  1200.0  0.5   8000.0  국내산\n1        닭강정  15000  12호  1500.0  0.2  12000.0  브라질\n2       간장치킨  14000   9호  1600.0  0.2  11200.0  국내산\n3       마늘치킨  14000   9호  1800.0  0.2  11200.0  국내산\n4         파닭  14000  11호  1300.0  0.2  11200.0  브라질\n5     승일양념치킨  13000  10호  1400.0  0.2  10400.0  국내산\n6   양념반후라이드반  13000  10호  1300.0  0.2  10400.0  국내산\n7     황금후라이드  12000  10호  1000.0  0.2   9600.0  국내산\n8  [베스트]풀잎치킨   9900  10호  1000.0  NaN      NaN  국내산",
      "text/html": "<div>\n<style scoped>\n    .dataframe tbody tr th:only-of-type {\n        vertical-align: middle;\n    }\n\n    .dataframe tbody tr th {\n        vertical-align: top;\n    }\n\n    .dataframe thead th {\n        text-align: right;\n    }\n</style>\n<table border=\"1\" class=\"dataframe\">\n  <thead>\n    <tr style=\"text-align: right;\">\n      <th></th>\n      <th>메뉴</th>\n      <th>가격</th>\n      <th>호수</th>\n      <th>칼로리</th>\n      <th>할인율</th>\n      <th>할인가</th>\n      <th>원산지</th>\n    </tr>\n  </thead>\n  <tbody>\n    <tr>\n      <th>0</th>\n      <td>[인기]아이펠치킨</td>\n      <td>16000</td>\n      <td>11호</td>\n      <td>1200.0</td>\n      <td>0.5</td>\n      <td>8000.0</td>\n      <td>국내산</td>\n    </tr>\n    <tr>\n      <th>1</th>\n      <td>닭강정</td>\n      <td>15000</td>\n      <td>12호</td>\n      <td>1500.0</td>\n      <td>0.2</td>\n      <td>12000.0</td>\n      <td>브라질</td>\n    </tr>\n    <tr>\n      <th>2</th>\n      <td>간장치킨</td>\n      <td>14000</td>\n      <td>9호</td>\n      <td>1600.0</td>\n      <td>0.2</td>\n      <td>11200.0</td>\n      <td>국내산</td>\n    </tr>\n    <tr>\n      <th>3</th>\n      <td>마늘치킨</td>\n      <td>14000</td>\n      <td>9호</td>\n      <td>1800.0</td>\n      <td>0.2</td>\n      <td>11200.0</td>\n      <td>국내산</td>\n    </tr>\n    <tr>\n      <th>4</th>\n      <td>파닭</td>\n      <td>14000</td>\n      <td>11호</td>\n      <td>1300.0</td>\n      <td>0.2</td>\n      <td>11200.0</td>\n      <td>브라질</td>\n    </tr>\n    <tr>\n      <th>5</th>\n      <td>승일양념치킨</td>\n      <td>13000</td>\n      <td>10호</td>\n      <td>1400.0</td>\n      <td>0.2</td>\n      <td>10400.0</td>\n      <td>국내산</td>\n    </tr>\n    <tr>\n      <th>6</th>\n      <td>양념반후라이드반</td>\n      <td>13000</td>\n      <td>10호</td>\n      <td>1300.0</td>\n      <td>0.2</td>\n      <td>10400.0</td>\n      <td>국내산</td>\n    </tr>\n    <tr>\n      <th>7</th>\n      <td>황금후라이드</td>\n      <td>12000</td>\n      <td>10호</td>\n      <td>1000.0</td>\n      <td>0.2</td>\n      <td>9600.0</td>\n      <td>국내산</td>\n    </tr>\n    <tr>\n      <th>8</th>\n      <td>[베스트]풀잎치킨</td>\n      <td>9900</td>\n      <td>10호</td>\n      <td>1000.0</td>\n      <td>NaN</td>\n      <td>NaN</td>\n      <td>국내산</td>\n    </tr>\n  </tbody>\n</table>\n</div>"
     },
     "execution_count": 66,
     "metadata": {},
     "output_type": "execute_result"
    }
   ],
   "source": [
    "# 자료형 변환\n",
    "\n",
    "# 데이터 확인\n",
    "df"
   ],
   "metadata": {
    "collapsed": false,
    "ExecuteTime": {
     "end_time": "2023-07-11T03:27:02.026361Z",
     "start_time": "2023-07-11T03:27:02.010574Z"
    }
   }
  },
  {
   "cell_type": "code",
   "execution_count": 71,
   "outputs": [
    {
     "name": "stdout",
     "output_type": "stream",
     "text": [
      "<class 'pandas.core.frame.DataFrame'>\n",
      "RangeIndex: 9 entries, 0 to 8\n",
      "Data columns (total 7 columns):\n",
      " #   Column  Non-Null Count  Dtype  \n",
      "---  ------  --------------  -----  \n",
      " 0   메뉴      9 non-null      object \n",
      " 1   가격      9 non-null      int64  \n",
      " 2   호수      9 non-null      object \n",
      " 3   칼로리     9 non-null      float64\n",
      " 4   할인율     8 non-null      float64\n",
      " 5   할인가     8 non-null      float64\n",
      " 6   원산지     9 non-null      object \n",
      "dtypes: float64(3), int64(1), object(3)\n",
      "memory usage: 632.0+ bytes\n"
     ]
    }
   ],
   "source": [
    "# type 확인\n",
    "df.info()"
   ],
   "metadata": {
    "collapsed": false,
    "ExecuteTime": {
     "end_time": "2023-07-11T03:29:22.738207Z",
     "start_time": "2023-07-11T03:29:22.735474Z"
    }
   }
  },
  {
   "cell_type": "code",
   "execution_count": 75,
   "outputs": [
    {
     "data": {
      "text/plain": "          메뉴     가격  호수     칼로리  할인율      할인가  원산지\n0  [인기]아이펠치킨  16000  11  1200.0  0.5   8000.0  국내산\n1        닭강정  15000  12  1500.0  0.2  12000.0  브라질\n2       간장치킨  14000   9  1600.0  0.2  11200.0  국내산\n3       마늘치킨  14000   9  1800.0  0.2  11200.0  국내산\n4         파닭  14000  11  1300.0  0.2  11200.0  브라질\n5     승일양념치킨  13000  10  1400.0  0.2  10400.0  국내산\n6   양념반후라이드반  13000  10  1300.0  0.2  10400.0  국내산\n7     황금후라이드  12000  10  1000.0  0.2   9600.0  국내산\n8  [베스트]풀잎치킨   9900  10  1000.0  NaN      NaN  국내산",
      "text/html": "<div>\n<style scoped>\n    .dataframe tbody tr th:only-of-type {\n        vertical-align: middle;\n    }\n\n    .dataframe tbody tr th {\n        vertical-align: top;\n    }\n\n    .dataframe thead th {\n        text-align: right;\n    }\n</style>\n<table border=\"1\" class=\"dataframe\">\n  <thead>\n    <tr style=\"text-align: right;\">\n      <th></th>\n      <th>메뉴</th>\n      <th>가격</th>\n      <th>호수</th>\n      <th>칼로리</th>\n      <th>할인율</th>\n      <th>할인가</th>\n      <th>원산지</th>\n    </tr>\n  </thead>\n  <tbody>\n    <tr>\n      <th>0</th>\n      <td>[인기]아이펠치킨</td>\n      <td>16000</td>\n      <td>11</td>\n      <td>1200.0</td>\n      <td>0.5</td>\n      <td>8000.0</td>\n      <td>국내산</td>\n    </tr>\n    <tr>\n      <th>1</th>\n      <td>닭강정</td>\n      <td>15000</td>\n      <td>12</td>\n      <td>1500.0</td>\n      <td>0.2</td>\n      <td>12000.0</td>\n      <td>브라질</td>\n    </tr>\n    <tr>\n      <th>2</th>\n      <td>간장치킨</td>\n      <td>14000</td>\n      <td>9</td>\n      <td>1600.0</td>\n      <td>0.2</td>\n      <td>11200.0</td>\n      <td>국내산</td>\n    </tr>\n    <tr>\n      <th>3</th>\n      <td>마늘치킨</td>\n      <td>14000</td>\n      <td>9</td>\n      <td>1800.0</td>\n      <td>0.2</td>\n      <td>11200.0</td>\n      <td>국내산</td>\n    </tr>\n    <tr>\n      <th>4</th>\n      <td>파닭</td>\n      <td>14000</td>\n      <td>11</td>\n      <td>1300.0</td>\n      <td>0.2</td>\n      <td>11200.0</td>\n      <td>브라질</td>\n    </tr>\n    <tr>\n      <th>5</th>\n      <td>승일양념치킨</td>\n      <td>13000</td>\n      <td>10</td>\n      <td>1400.0</td>\n      <td>0.2</td>\n      <td>10400.0</td>\n      <td>국내산</td>\n    </tr>\n    <tr>\n      <th>6</th>\n      <td>양념반후라이드반</td>\n      <td>13000</td>\n      <td>10</td>\n      <td>1300.0</td>\n      <td>0.2</td>\n      <td>10400.0</td>\n      <td>국내산</td>\n    </tr>\n    <tr>\n      <th>7</th>\n      <td>황금후라이드</td>\n      <td>12000</td>\n      <td>10</td>\n      <td>1000.0</td>\n      <td>0.2</td>\n      <td>9600.0</td>\n      <td>국내산</td>\n    </tr>\n    <tr>\n      <th>8</th>\n      <td>[베스트]풀잎치킨</td>\n      <td>9900</td>\n      <td>10</td>\n      <td>1000.0</td>\n      <td>NaN</td>\n      <td>NaN</td>\n      <td>국내산</td>\n    </tr>\n  </tbody>\n</table>\n</div>"
     },
     "execution_count": 75,
     "metadata": {},
     "output_type": "execute_result"
    }
   ],
   "source": [
    "# 호 단어 삭제(str, replace 활용)\n",
    "df['호수'] = df['호수'].str.replace('호','')\n",
    "df"
   ],
   "metadata": {
    "collapsed": false,
    "ExecuteTime": {
     "end_time": "2023-07-11T03:30:46.547101Z",
     "start_time": "2023-07-11T03:30:46.543693Z"
    }
   }
  },
  {
   "cell_type": "code",
   "execution_count": 76,
   "outputs": [
    {
     "data": {
      "text/plain": "          메뉴     가격  호수     칼로리  할인율      할인가  원산지\n0  [인기]아이펠치킨  16000  11  1200.0  0.5   8000.0  국내산\n1        닭강정  15000  12  1500.0  0.2  12000.0  브라질\n2       간장치킨  14000   9  1600.0  0.2  11200.0  국내산\n3       마늘치킨  14000   9  1800.0  0.2  11200.0  국내산\n4         파닭  14000  11  1300.0  0.2  11200.0  브라질\n5     승일양념치킨  13000  10  1400.0  0.2  10400.0  국내산\n6   양념반후라이드반  13000  10  1300.0  0.2  10400.0  국내산\n7     황금후라이드  12000  10  1000.0  0.2   9600.0  국내산\n8  [베스트]풀잎치킨   9900  10  1000.0  NaN      NaN  국내산",
      "text/html": "<div>\n<style scoped>\n    .dataframe tbody tr th:only-of-type {\n        vertical-align: middle;\n    }\n\n    .dataframe tbody tr th {\n        vertical-align: top;\n    }\n\n    .dataframe thead th {\n        text-align: right;\n    }\n</style>\n<table border=\"1\" class=\"dataframe\">\n  <thead>\n    <tr style=\"text-align: right;\">\n      <th></th>\n      <th>메뉴</th>\n      <th>가격</th>\n      <th>호수</th>\n      <th>칼로리</th>\n      <th>할인율</th>\n      <th>할인가</th>\n      <th>원산지</th>\n    </tr>\n  </thead>\n  <tbody>\n    <tr>\n      <th>0</th>\n      <td>[인기]아이펠치킨</td>\n      <td>16000</td>\n      <td>11</td>\n      <td>1200.0</td>\n      <td>0.5</td>\n      <td>8000.0</td>\n      <td>국내산</td>\n    </tr>\n    <tr>\n      <th>1</th>\n      <td>닭강정</td>\n      <td>15000</td>\n      <td>12</td>\n      <td>1500.0</td>\n      <td>0.2</td>\n      <td>12000.0</td>\n      <td>브라질</td>\n    </tr>\n    <tr>\n      <th>2</th>\n      <td>간장치킨</td>\n      <td>14000</td>\n      <td>9</td>\n      <td>1600.0</td>\n      <td>0.2</td>\n      <td>11200.0</td>\n      <td>국내산</td>\n    </tr>\n    <tr>\n      <th>3</th>\n      <td>마늘치킨</td>\n      <td>14000</td>\n      <td>9</td>\n      <td>1800.0</td>\n      <td>0.2</td>\n      <td>11200.0</td>\n      <td>국내산</td>\n    </tr>\n    <tr>\n      <th>4</th>\n      <td>파닭</td>\n      <td>14000</td>\n      <td>11</td>\n      <td>1300.0</td>\n      <td>0.2</td>\n      <td>11200.0</td>\n      <td>브라질</td>\n    </tr>\n    <tr>\n      <th>5</th>\n      <td>승일양념치킨</td>\n      <td>13000</td>\n      <td>10</td>\n      <td>1400.0</td>\n      <td>0.2</td>\n      <td>10400.0</td>\n      <td>국내산</td>\n    </tr>\n    <tr>\n      <th>6</th>\n      <td>양념반후라이드반</td>\n      <td>13000</td>\n      <td>10</td>\n      <td>1300.0</td>\n      <td>0.2</td>\n      <td>10400.0</td>\n      <td>국내산</td>\n    </tr>\n    <tr>\n      <th>7</th>\n      <td>황금후라이드</td>\n      <td>12000</td>\n      <td>10</td>\n      <td>1000.0</td>\n      <td>0.2</td>\n      <td>9600.0</td>\n      <td>국내산</td>\n    </tr>\n    <tr>\n      <th>8</th>\n      <td>[베스트]풀잎치킨</td>\n      <td>9900</td>\n      <td>10</td>\n      <td>1000.0</td>\n      <td>NaN</td>\n      <td>NaN</td>\n      <td>국내산</td>\n    </tr>\n  </tbody>\n</table>\n</div>"
     },
     "execution_count": 76,
     "metadata": {},
     "output_type": "execute_result"
    }
   ],
   "source": [
    "# 자료형 변환 / astype('자료형') / object -> int\n",
    "df['호수'] = df['호수'].astype('int')\n",
    "df"
   ],
   "metadata": {
    "collapsed": false,
    "ExecuteTime": {
     "end_time": "2023-07-11T03:31:01.884030Z",
     "start_time": "2023-07-11T03:31:01.879081Z"
    }
   }
  },
  {
   "cell_type": "code",
   "execution_count": 77,
   "outputs": [
    {
     "name": "stdout",
     "output_type": "stream",
     "text": [
      "<class 'pandas.core.frame.DataFrame'>\n",
      "RangeIndex: 9 entries, 0 to 8\n",
      "Data columns (total 7 columns):\n",
      " #   Column  Non-Null Count  Dtype  \n",
      "---  ------  --------------  -----  \n",
      " 0   메뉴      9 non-null      object \n",
      " 1   가격      9 non-null      int64  \n",
      " 2   호수      9 non-null      int64  \n",
      " 3   칼로리     9 non-null      float64\n",
      " 4   할인율     8 non-null      float64\n",
      " 5   할인가     8 non-null      float64\n",
      " 6   원산지     9 non-null      object \n",
      "dtypes: float64(3), int64(2), object(2)\n",
      "memory usage: 632.0+ bytes\n"
     ]
    }
   ],
   "source": [
    "# 자료형 확인\n",
    "df.info()\n"
   ],
   "metadata": {
    "collapsed": false,
    "ExecuteTime": {
     "end_time": "2023-07-11T03:31:14.333410Z",
     "start_time": "2023-07-11T03:31:14.317996Z"
    }
   }
  },
  {
   "cell_type": "code",
   "execution_count": 78,
   "outputs": [
    {
     "data": {
      "text/plain": "10.222222222222221"
     },
     "execution_count": 78,
     "metadata": {},
     "output_type": "execute_result"
    }
   ],
   "source": [
    "# 호수 평균\n",
    "df['호수'].mean()"
   ],
   "metadata": {
    "collapsed": false,
    "ExecuteTime": {
     "end_time": "2023-07-11T03:31:48.402816Z",
     "start_time": "2023-07-11T03:31:48.386965Z"
    }
   }
  },
  {
   "cell_type": "code",
   "execution_count": 79,
   "outputs": [
    {
     "data": {
      "text/plain": "0.9718253158075499"
     },
     "execution_count": 79,
     "metadata": {},
     "output_type": "execute_result"
    }
   ],
   "source": [
    "# df 변수의 데이터의 '호수' 칼럼 값들의 표준편차를 구하세요.\n",
    "# 힌트 : 영상에서의 mean() 대신 std() 함수를 사용해보세요.\n",
    "df['호수'].std()"
   ],
   "metadata": {
    "collapsed": false,
    "ExecuteTime": {
     "end_time": "2023-07-11T03:35:54.836053Z",
     "start_time": "2023-07-11T03:35:54.822933Z"
    }
   }
  },
  {
   "cell_type": "code",
   "execution_count": 88,
   "outputs": [
    {
     "data": {
      "text/plain": "          메뉴     가격  호수     칼로리  할인율      할인가  원산지\n0  [인기]아이펠치킨  16000  11  1200.0  0.5   8000.0  국내산\n1        닭강정  15000  12  1500.0  0.2  12000.0  브라질\n2       간장치킨  14000   9  1600.0  0.2  11200.0  국내산\n3       마늘치킨  14000   9  1800.0  0.2  11200.0  국내산\n4         파닭  14000  11  1300.0  0.2  11200.0  브라질\n5     승일양념치킨  13000  10  1400.0  0.2  10400.0  국내산\n6   양념반후라이드반  13000  10  1300.0  0.2  10400.0  국내산\n7     황금후라이드  12000  10  1000.0  0.2   9600.0  국내산\n8  [베스트]풀잎치킨   9900  10  1000.0  NaN      NaN  국내산",
      "text/html": "<div>\n<style scoped>\n    .dataframe tbody tr th:only-of-type {\n        vertical-align: middle;\n    }\n\n    .dataframe tbody tr th {\n        vertical-align: top;\n    }\n\n    .dataframe thead th {\n        text-align: right;\n    }\n</style>\n<table border=\"1\" class=\"dataframe\">\n  <thead>\n    <tr style=\"text-align: right;\">\n      <th></th>\n      <th>메뉴</th>\n      <th>가격</th>\n      <th>호수</th>\n      <th>칼로리</th>\n      <th>할인율</th>\n      <th>할인가</th>\n      <th>원산지</th>\n    </tr>\n  </thead>\n  <tbody>\n    <tr>\n      <th>0</th>\n      <td>[인기]아이펠치킨</td>\n      <td>16000</td>\n      <td>11</td>\n      <td>1200.0</td>\n      <td>0.5</td>\n      <td>8000.0</td>\n      <td>국내산</td>\n    </tr>\n    <tr>\n      <th>1</th>\n      <td>닭강정</td>\n      <td>15000</td>\n      <td>12</td>\n      <td>1500.0</td>\n      <td>0.2</td>\n      <td>12000.0</td>\n      <td>브라질</td>\n    </tr>\n    <tr>\n      <th>2</th>\n      <td>간장치킨</td>\n      <td>14000</td>\n      <td>9</td>\n      <td>1600.0</td>\n      <td>0.2</td>\n      <td>11200.0</td>\n      <td>국내산</td>\n    </tr>\n    <tr>\n      <th>3</th>\n      <td>마늘치킨</td>\n      <td>14000</td>\n      <td>9</td>\n      <td>1800.0</td>\n      <td>0.2</td>\n      <td>11200.0</td>\n      <td>국내산</td>\n    </tr>\n    <tr>\n      <th>4</th>\n      <td>파닭</td>\n      <td>14000</td>\n      <td>11</td>\n      <td>1300.0</td>\n      <td>0.2</td>\n      <td>11200.0</td>\n      <td>브라질</td>\n    </tr>\n    <tr>\n      <th>5</th>\n      <td>승일양념치킨</td>\n      <td>13000</td>\n      <td>10</td>\n      <td>1400.0</td>\n      <td>0.2</td>\n      <td>10400.0</td>\n      <td>국내산</td>\n    </tr>\n    <tr>\n      <th>6</th>\n      <td>양념반후라이드반</td>\n      <td>13000</td>\n      <td>10</td>\n      <td>1300.0</td>\n      <td>0.2</td>\n      <td>10400.0</td>\n      <td>국내산</td>\n    </tr>\n    <tr>\n      <th>7</th>\n      <td>황금후라이드</td>\n      <td>12000</td>\n      <td>10</td>\n      <td>1000.0</td>\n      <td>0.2</td>\n      <td>9600.0</td>\n      <td>국내산</td>\n    </tr>\n    <tr>\n      <th>8</th>\n      <td>[베스트]풀잎치킨</td>\n      <td>9900</td>\n      <td>10</td>\n      <td>1000.0</td>\n      <td>NaN</td>\n      <td>NaN</td>\n      <td>국내산</td>\n    </tr>\n  </tbody>\n</table>\n</div>"
     },
     "execution_count": 88,
     "metadata": {},
     "output_type": "execute_result"
    }
   ],
   "source": [
    "# 데이터 탐색\n",
    "df"
   ],
   "metadata": {
    "collapsed": false,
    "ExecuteTime": {
     "end_time": "2023-07-11T03:38:26.985732Z",
     "start_time": "2023-07-11T03:38:26.982409Z"
    }
   }
  },
  {
   "cell_type": "code",
   "execution_count": 89,
   "outputs": [
    {
     "data": {
      "text/plain": "(9, 7)"
     },
     "execution_count": 89,
     "metadata": {},
     "output_type": "execute_result"
    }
   ],
   "source": [
    "#데이터 프레임의 크기(행,열) 확인\n",
    "df.shape"
   ],
   "metadata": {
    "collapsed": false,
    "ExecuteTime": {
     "end_time": "2023-07-11T03:38:41.786398Z",
     "start_time": "2023-07-11T03:38:41.782426Z"
    }
   }
  },
  {
   "cell_type": "code",
   "execution_count": 90,
   "outputs": [
    {
     "data": {
      "text/plain": "          메뉴     가격  호수     칼로리  할인율      할인가  원산지\n0  [인기]아이펠치킨  16000  11  1200.0  0.5   8000.0  국내산\n1        닭강정  15000  12  1500.0  0.2  12000.0  브라질\n2       간장치킨  14000   9  1600.0  0.2  11200.0  국내산\n3       마늘치킨  14000   9  1800.0  0.2  11200.0  국내산\n4         파닭  14000  11  1300.0  0.2  11200.0  브라질",
      "text/html": "<div>\n<style scoped>\n    .dataframe tbody tr th:only-of-type {\n        vertical-align: middle;\n    }\n\n    .dataframe tbody tr th {\n        vertical-align: top;\n    }\n\n    .dataframe thead th {\n        text-align: right;\n    }\n</style>\n<table border=\"1\" class=\"dataframe\">\n  <thead>\n    <tr style=\"text-align: right;\">\n      <th></th>\n      <th>메뉴</th>\n      <th>가격</th>\n      <th>호수</th>\n      <th>칼로리</th>\n      <th>할인율</th>\n      <th>할인가</th>\n      <th>원산지</th>\n    </tr>\n  </thead>\n  <tbody>\n    <tr>\n      <th>0</th>\n      <td>[인기]아이펠치킨</td>\n      <td>16000</td>\n      <td>11</td>\n      <td>1200.0</td>\n      <td>0.5</td>\n      <td>8000.0</td>\n      <td>국내산</td>\n    </tr>\n    <tr>\n      <th>1</th>\n      <td>닭강정</td>\n      <td>15000</td>\n      <td>12</td>\n      <td>1500.0</td>\n      <td>0.2</td>\n      <td>12000.0</td>\n      <td>브라질</td>\n    </tr>\n    <tr>\n      <th>2</th>\n      <td>간장치킨</td>\n      <td>14000</td>\n      <td>9</td>\n      <td>1600.0</td>\n      <td>0.2</td>\n      <td>11200.0</td>\n      <td>국내산</td>\n    </tr>\n    <tr>\n      <th>3</th>\n      <td>마늘치킨</td>\n      <td>14000</td>\n      <td>9</td>\n      <td>1800.0</td>\n      <td>0.2</td>\n      <td>11200.0</td>\n      <td>국내산</td>\n    </tr>\n    <tr>\n      <th>4</th>\n      <td>파닭</td>\n      <td>14000</td>\n      <td>11</td>\n      <td>1300.0</td>\n      <td>0.2</td>\n      <td>11200.0</td>\n      <td>브라질</td>\n    </tr>\n  </tbody>\n</table>\n</div>"
     },
     "execution_count": 90,
     "metadata": {},
     "output_type": "execute_result"
    }
   ],
   "source": [
    "#테이터 샘플 확인(head)\n",
    "df.head()"
   ],
   "metadata": {
    "collapsed": false,
    "ExecuteTime": {
     "end_time": "2023-07-11T03:39:01.740742Z",
     "start_time": "2023-07-11T03:39:01.733444Z"
    }
   }
  },
  {
   "cell_type": "code",
   "execution_count": 91,
   "outputs": [
    {
     "name": "stdout",
     "output_type": "stream",
     "text": [
      "<class 'pandas.core.frame.DataFrame'>\n",
      "RangeIndex: 9 entries, 0 to 8\n",
      "Data columns (total 7 columns):\n",
      " #   Column  Non-Null Count  Dtype  \n",
      "---  ------  --------------  -----  \n",
      " 0   메뉴      9 non-null      object \n",
      " 1   가격      9 non-null      int64  \n",
      " 2   호수      9 non-null      int64  \n",
      " 3   칼로리     9 non-null      float64\n",
      " 4   할인율     8 non-null      float64\n",
      " 5   할인가     8 non-null      float64\n",
      " 6   원산지     9 non-null      object \n",
      "dtypes: float64(3), int64(2), object(2)\n",
      "memory usage: 632.0+ bytes\n"
     ]
    }
   ],
   "source": [
    "#컬럼 형태(type) 확인\n",
    "df.info()"
   ],
   "metadata": {
    "collapsed": false,
    "ExecuteTime": {
     "end_time": "2023-07-11T03:39:14.290757Z",
     "start_time": "2023-07-11T03:39:14.281287Z"
    }
   }
  },
  {
   "cell_type": "code",
   "execution_count": 92,
   "outputs": [
    {
     "data": {
      "text/plain": "                 가격         호수          칼로리       할인율           할인가\ncount      9.000000   9.000000     9.000000  8.000000      8.000000\nmean   13433.333333  10.222222  1344.444444  0.237500  10500.000000\nstd     1764.936259   0.971825   265.099562  0.106066   1242.118007\nmin     9900.000000   9.000000  1000.000000  0.200000   8000.000000\n25%    13000.000000  10.000000  1200.000000  0.200000  10200.000000\n50%    14000.000000  10.000000  1300.000000  0.200000  10800.000000\n75%    14000.000000  11.000000  1500.000000  0.200000  11200.000000\nmax    16000.000000  12.000000  1800.000000  0.500000  12000.000000",
      "text/html": "<div>\n<style scoped>\n    .dataframe tbody tr th:only-of-type {\n        vertical-align: middle;\n    }\n\n    .dataframe tbody tr th {\n        vertical-align: top;\n    }\n\n    .dataframe thead th {\n        text-align: right;\n    }\n</style>\n<table border=\"1\" class=\"dataframe\">\n  <thead>\n    <tr style=\"text-align: right;\">\n      <th></th>\n      <th>가격</th>\n      <th>호수</th>\n      <th>칼로리</th>\n      <th>할인율</th>\n      <th>할인가</th>\n    </tr>\n  </thead>\n  <tbody>\n    <tr>\n      <th>count</th>\n      <td>9.000000</td>\n      <td>9.000000</td>\n      <td>9.000000</td>\n      <td>8.000000</td>\n      <td>8.000000</td>\n    </tr>\n    <tr>\n      <th>mean</th>\n      <td>13433.333333</td>\n      <td>10.222222</td>\n      <td>1344.444444</td>\n      <td>0.237500</td>\n      <td>10500.000000</td>\n    </tr>\n    <tr>\n      <th>std</th>\n      <td>1764.936259</td>\n      <td>0.971825</td>\n      <td>265.099562</td>\n      <td>0.106066</td>\n      <td>1242.118007</td>\n    </tr>\n    <tr>\n      <th>min</th>\n      <td>9900.000000</td>\n      <td>9.000000</td>\n      <td>1000.000000</td>\n      <td>0.200000</td>\n      <td>8000.000000</td>\n    </tr>\n    <tr>\n      <th>25%</th>\n      <td>13000.000000</td>\n      <td>10.000000</td>\n      <td>1200.000000</td>\n      <td>0.200000</td>\n      <td>10200.000000</td>\n    </tr>\n    <tr>\n      <th>50%</th>\n      <td>14000.000000</td>\n      <td>10.000000</td>\n      <td>1300.000000</td>\n      <td>0.200000</td>\n      <td>10800.000000</td>\n    </tr>\n    <tr>\n      <th>75%</th>\n      <td>14000.000000</td>\n      <td>11.000000</td>\n      <td>1500.000000</td>\n      <td>0.200000</td>\n      <td>11200.000000</td>\n    </tr>\n    <tr>\n      <th>max</th>\n      <td>16000.000000</td>\n      <td>12.000000</td>\n      <td>1800.000000</td>\n      <td>0.500000</td>\n      <td>12000.000000</td>\n    </tr>\n  </tbody>\n</table>\n</div>"
     },
     "execution_count": 92,
     "metadata": {},
     "output_type": "execute_result"
    }
   ],
   "source": [
    "#기초 통계\n",
    "df.describe()"
   ],
   "metadata": {
    "collapsed": false,
    "ExecuteTime": {
     "end_time": "2023-07-11T03:39:26.868101Z",
     "start_time": "2023-07-11T03:39:26.842680Z"
    }
   }
  },
  {
   "cell_type": "code",
   "execution_count": 93,
   "outputs": [
    {
     "data": {
      "text/plain": "               메뉴  원산지\ncount           9    9\nunique          9    2\ntop     [인기]아이펠치킨  국내산\nfreq            1    7",
      "text/html": "<div>\n<style scoped>\n    .dataframe tbody tr th:only-of-type {\n        vertical-align: middle;\n    }\n\n    .dataframe tbody tr th {\n        vertical-align: top;\n    }\n\n    .dataframe thead th {\n        text-align: right;\n    }\n</style>\n<table border=\"1\" class=\"dataframe\">\n  <thead>\n    <tr style=\"text-align: right;\">\n      <th></th>\n      <th>메뉴</th>\n      <th>원산지</th>\n    </tr>\n  </thead>\n  <tbody>\n    <tr>\n      <th>count</th>\n      <td>9</td>\n      <td>9</td>\n    </tr>\n    <tr>\n      <th>unique</th>\n      <td>9</td>\n      <td>2</td>\n    </tr>\n    <tr>\n      <th>top</th>\n      <td>[인기]아이펠치킨</td>\n      <td>국내산</td>\n    </tr>\n    <tr>\n      <th>freq</th>\n      <td>1</td>\n      <td>7</td>\n    </tr>\n  </tbody>\n</table>\n</div>"
     },
     "execution_count": 93,
     "metadata": {},
     "output_type": "execute_result"
    }
   ],
   "source": [
    "#기초 통계 (object)\n",
    "df.describe(include='object') #unique : 중복 제거한 값의 개수 / top : 가장 윗값 / freq : 최빈값의 빈도수"
   ],
   "metadata": {
    "collapsed": false,
    "ExecuteTime": {
     "end_time": "2023-07-11T03:39:50.035709Z",
     "start_time": "2023-07-11T03:39:50.030043Z"
    }
   }
  },
  {
   "cell_type": "code",
   "execution_count": 94,
   "outputs": [
    {
     "name": "stderr",
     "output_type": "stream",
     "text": [
      "/var/folders/jd/qspsq8mn2db0y77ryp1w10_c0000gp/T/ipykernel_16475/3204274577.py:2: FutureWarning: The default value of numeric_only in DataFrame.corr is deprecated. In a future version, it will default to False. Select only valid columns or specify the value of numeric_only to silence this warning.\n",
      "  df.corr()\n"
     ]
    },
    {
     "data": {
      "text/plain": "           가격        호수       칼로리       할인율       할인가\n가격   1.000000  0.374104  0.522744  0.688875 -0.138409\n호수   0.374104  1.000000 -0.285724  0.292770 -0.022222\n칼로리  0.522744 -0.285724  1.000000 -0.306122  0.636659\n할인율  0.688875  0.292770 -0.306122  1.000000 -0.813250\n할인가 -0.138409 -0.022222  0.636659 -0.813250  1.000000",
      "text/html": "<div>\n<style scoped>\n    .dataframe tbody tr th:only-of-type {\n        vertical-align: middle;\n    }\n\n    .dataframe tbody tr th {\n        vertical-align: top;\n    }\n\n    .dataframe thead th {\n        text-align: right;\n    }\n</style>\n<table border=\"1\" class=\"dataframe\">\n  <thead>\n    <tr style=\"text-align: right;\">\n      <th></th>\n      <th>가격</th>\n      <th>호수</th>\n      <th>칼로리</th>\n      <th>할인율</th>\n      <th>할인가</th>\n    </tr>\n  </thead>\n  <tbody>\n    <tr>\n      <th>가격</th>\n      <td>1.000000</td>\n      <td>0.374104</td>\n      <td>0.522744</td>\n      <td>0.688875</td>\n      <td>-0.138409</td>\n    </tr>\n    <tr>\n      <th>호수</th>\n      <td>0.374104</td>\n      <td>1.000000</td>\n      <td>-0.285724</td>\n      <td>0.292770</td>\n      <td>-0.022222</td>\n    </tr>\n    <tr>\n      <th>칼로리</th>\n      <td>0.522744</td>\n      <td>-0.285724</td>\n      <td>1.000000</td>\n      <td>-0.306122</td>\n      <td>0.636659</td>\n    </tr>\n    <tr>\n      <th>할인율</th>\n      <td>0.688875</td>\n      <td>0.292770</td>\n      <td>-0.306122</td>\n      <td>1.000000</td>\n      <td>-0.813250</td>\n    </tr>\n    <tr>\n      <th>할인가</th>\n      <td>-0.138409</td>\n      <td>-0.022222</td>\n      <td>0.636659</td>\n      <td>-0.813250</td>\n      <td>1.000000</td>\n    </tr>\n  </tbody>\n</table>\n</div>"
     },
     "execution_count": 94,
     "metadata": {},
     "output_type": "execute_result"
    }
   ],
   "source": [
    "# 상관 관계\n",
    "df.corr()"
   ],
   "metadata": {
    "collapsed": false,
    "ExecuteTime": {
     "end_time": "2023-07-11T03:41:03.603839Z",
     "start_time": "2023-07-11T03:41:03.592754Z"
    }
   }
  },
  {
   "cell_type": "code",
   "execution_count": 95,
   "outputs": [
    {
     "data": {
      "text/plain": "메뉴     9\n가격     6\n호수     4\n칼로리    7\n할인율    2\n할인가    5\n원산지    2\ndtype: int64"
     },
     "execution_count": 95,
     "metadata": {},
     "output_type": "execute_result"
    }
   ],
   "source": [
    "#항목 종류 수\n",
    "df.nunique()"
   ],
   "metadata": {
    "collapsed": false,
    "ExecuteTime": {
     "end_time": "2023-07-11T03:41:21.342806Z",
     "start_time": "2023-07-11T03:41:21.333051Z"
    }
   }
  },
  {
   "cell_type": "code",
   "execution_count": 96,
   "outputs": [
    {
     "data": {
      "text/plain": "array([11, 12,  9, 10])"
     },
     "execution_count": 96,
     "metadata": {},
     "output_type": "execute_result"
    }
   ],
   "source": [
    "#항목 종류\n",
    "df['호수'].unique()"
   ],
   "metadata": {
    "collapsed": false,
    "ExecuteTime": {
     "end_time": "2023-07-11T03:41:42.538316Z",
     "start_time": "2023-07-11T03:41:42.513110Z"
    }
   }
  },
  {
   "cell_type": "code",
   "execution_count": 97,
   "outputs": [
    {
     "data": {
      "text/plain": "10    4\n11    2\n9     2\n12    1\nName: 호수, dtype: int64"
     },
     "execution_count": 97,
     "metadata": {},
     "output_type": "execute_result"
    }
   ],
   "source": [
    "#항목 종류별 개수\n",
    "df['호수'].value_counts()"
   ],
   "metadata": {
    "collapsed": false,
    "ExecuteTime": {
     "end_time": "2023-07-11T03:42:11.531727Z",
     "start_time": "2023-07-11T03:42:11.494545Z"
    }
   }
  },
  {
   "cell_type": "code",
   "execution_count": 98,
   "outputs": [
    {
     "data": {
      "text/plain": "          메뉴     가격  호수     칼로리  할인율      할인가  원산지\n0  [인기]아이펠치킨  16000  11  1200.0  0.5   8000.0  국내산\n1        닭강정  15000  12  1500.0  0.2  12000.0  브라질\n2       간장치킨  14000   9  1600.0  0.2  11200.0  국내산\n3       마늘치킨  14000   9  1800.0  0.2  11200.0  국내산\n4         파닭  14000  11  1300.0  0.2  11200.0  브라질\n5     승일양념치킨  13000  10  1400.0  0.2  10400.0  국내산\n6   양념반후라이드반  13000  10  1300.0  0.2  10400.0  국내산\n7     황금후라이드  12000  10  1000.0  0.2   9600.0  국내산\n8  [베스트]풀잎치킨   9900  10  1000.0  NaN      NaN  국내산",
      "text/html": "<div>\n<style scoped>\n    .dataframe tbody tr th:only-of-type {\n        vertical-align: middle;\n    }\n\n    .dataframe tbody tr th {\n        vertical-align: top;\n    }\n\n    .dataframe thead th {\n        text-align: right;\n    }\n</style>\n<table border=\"1\" class=\"dataframe\">\n  <thead>\n    <tr style=\"text-align: right;\">\n      <th></th>\n      <th>메뉴</th>\n      <th>가격</th>\n      <th>호수</th>\n      <th>칼로리</th>\n      <th>할인율</th>\n      <th>할인가</th>\n      <th>원산지</th>\n    </tr>\n  </thead>\n  <tbody>\n    <tr>\n      <th>0</th>\n      <td>[인기]아이펠치킨</td>\n      <td>16000</td>\n      <td>11</td>\n      <td>1200.0</td>\n      <td>0.5</td>\n      <td>8000.0</td>\n      <td>국내산</td>\n    </tr>\n    <tr>\n      <th>1</th>\n      <td>닭강정</td>\n      <td>15000</td>\n      <td>12</td>\n      <td>1500.0</td>\n      <td>0.2</td>\n      <td>12000.0</td>\n      <td>브라질</td>\n    </tr>\n    <tr>\n      <th>2</th>\n      <td>간장치킨</td>\n      <td>14000</td>\n      <td>9</td>\n      <td>1600.0</td>\n      <td>0.2</td>\n      <td>11200.0</td>\n      <td>국내산</td>\n    </tr>\n    <tr>\n      <th>3</th>\n      <td>마늘치킨</td>\n      <td>14000</td>\n      <td>9</td>\n      <td>1800.0</td>\n      <td>0.2</td>\n      <td>11200.0</td>\n      <td>국내산</td>\n    </tr>\n    <tr>\n      <th>4</th>\n      <td>파닭</td>\n      <td>14000</td>\n      <td>11</td>\n      <td>1300.0</td>\n      <td>0.2</td>\n      <td>11200.0</td>\n      <td>브라질</td>\n    </tr>\n    <tr>\n      <th>5</th>\n      <td>승일양념치킨</td>\n      <td>13000</td>\n      <td>10</td>\n      <td>1400.0</td>\n      <td>0.2</td>\n      <td>10400.0</td>\n      <td>국내산</td>\n    </tr>\n    <tr>\n      <th>6</th>\n      <td>양념반후라이드반</td>\n      <td>13000</td>\n      <td>10</td>\n      <td>1300.0</td>\n      <td>0.2</td>\n      <td>10400.0</td>\n      <td>국내산</td>\n    </tr>\n    <tr>\n      <th>7</th>\n      <td>황금후라이드</td>\n      <td>12000</td>\n      <td>10</td>\n      <td>1000.0</td>\n      <td>0.2</td>\n      <td>9600.0</td>\n      <td>국내산</td>\n    </tr>\n    <tr>\n      <th>8</th>\n      <td>[베스트]풀잎치킨</td>\n      <td>9900</td>\n      <td>10</td>\n      <td>1000.0</td>\n      <td>NaN</td>\n      <td>NaN</td>\n      <td>국내산</td>\n    </tr>\n  </tbody>\n</table>\n</div>"
     },
     "execution_count": 98,
     "metadata": {},
     "output_type": "execute_result"
    }
   ],
   "source": [
    "# Q. 다음 df 변수의 데이터에서 '가격'의 3분위 수(75%)를 구하고,\n",
    "# '호수'의 종류 수를 구하세요.\n",
    "# 힌트 : describe(), nunique()를 사용해보세요.\n",
    "df\n"
   ],
   "metadata": {
    "collapsed": false,
    "ExecuteTime": {
     "end_time": "2023-07-11T05:02:59.155509Z",
     "start_time": "2023-07-11T05:02:59.125675Z"
    }
   }
  },
  {
   "cell_type": "code",
   "execution_count": null,
   "outputs": [],
   "source": [
    "\n",
    "# Q. 다음 df 변수의 데이터에서 '가격'의 3분위 수(75%)를 구하고,\n",
    "# '호수'의 종류 수를 구하세요.\n",
    "# 힌트 : describe(), nunique()를 사용해보세요.\n",
    "df = pd.read_csv('new_modudak.csv')\n",
    "df\n",
    "q3 = df['가격'].describe()['75%']\n",
    "print(f\"가격의 3분위수는 {q3:.0f}원입니다.\")\n",
    "\n",
    "# nunique()를 사용하여 '호수' 열의 종류 구하기\n",
    "hoosu_num = df['호수'].nunique()\n",
    "print(f\"'호수' 열의 종류는 {hoosu_num}개 입니다.\")\n"
   ],
   "metadata": {
    "collapsed": false
   }
  },
  {
   "cell_type": "code",
   "execution_count": 99,
   "outputs": [],
   "source": [
    "#내장함수"
   ],
   "metadata": {
    "collapsed": false,
    "ExecuteTime": {
     "end_time": "2023-07-11T05:28:48.965673Z",
     "start_time": "2023-07-11T05:28:48.926249Z"
    }
   }
  },
  {
   "cell_type": "code",
   "execution_count": 100,
   "outputs": [
    {
     "data": {
      "text/plain": "          메뉴     가격  호수     칼로리  할인율      할인가  원산지\n0  [인기]아이펠치킨  16000  11  1200.0  0.5   8000.0  국내산\n1        닭강정  15000  12  1500.0  0.2  12000.0  브라질\n2       간장치킨  14000   9  1600.0  0.2  11200.0  국내산\n3       마늘치킨  14000   9  1800.0  0.2  11200.0  국내산\n4         파닭  14000  11  1300.0  0.2  11200.0  브라질\n5     승일양념치킨  13000  10  1400.0  0.2  10400.0  국내산\n6   양념반후라이드반  13000  10  1300.0  0.2  10400.0  국내산\n7     황금후라이드  12000  10  1000.0  0.2   9600.0  국내산\n8  [베스트]풀잎치킨   9900  10  1000.0  NaN      NaN  국내산",
      "text/html": "<div>\n<style scoped>\n    .dataframe tbody tr th:only-of-type {\n        vertical-align: middle;\n    }\n\n    .dataframe tbody tr th {\n        vertical-align: top;\n    }\n\n    .dataframe thead th {\n        text-align: right;\n    }\n</style>\n<table border=\"1\" class=\"dataframe\">\n  <thead>\n    <tr style=\"text-align: right;\">\n      <th></th>\n      <th>메뉴</th>\n      <th>가격</th>\n      <th>호수</th>\n      <th>칼로리</th>\n      <th>할인율</th>\n      <th>할인가</th>\n      <th>원산지</th>\n    </tr>\n  </thead>\n  <tbody>\n    <tr>\n      <th>0</th>\n      <td>[인기]아이펠치킨</td>\n      <td>16000</td>\n      <td>11</td>\n      <td>1200.0</td>\n      <td>0.5</td>\n      <td>8000.0</td>\n      <td>국내산</td>\n    </tr>\n    <tr>\n      <th>1</th>\n      <td>닭강정</td>\n      <td>15000</td>\n      <td>12</td>\n      <td>1500.0</td>\n      <td>0.2</td>\n      <td>12000.0</td>\n      <td>브라질</td>\n    </tr>\n    <tr>\n      <th>2</th>\n      <td>간장치킨</td>\n      <td>14000</td>\n      <td>9</td>\n      <td>1600.0</td>\n      <td>0.2</td>\n      <td>11200.0</td>\n      <td>국내산</td>\n    </tr>\n    <tr>\n      <th>3</th>\n      <td>마늘치킨</td>\n      <td>14000</td>\n      <td>9</td>\n      <td>1800.0</td>\n      <td>0.2</td>\n      <td>11200.0</td>\n      <td>국내산</td>\n    </tr>\n    <tr>\n      <th>4</th>\n      <td>파닭</td>\n      <td>14000</td>\n      <td>11</td>\n      <td>1300.0</td>\n      <td>0.2</td>\n      <td>11200.0</td>\n      <td>브라질</td>\n    </tr>\n    <tr>\n      <th>5</th>\n      <td>승일양념치킨</td>\n      <td>13000</td>\n      <td>10</td>\n      <td>1400.0</td>\n      <td>0.2</td>\n      <td>10400.0</td>\n      <td>국내산</td>\n    </tr>\n    <tr>\n      <th>6</th>\n      <td>양념반후라이드반</td>\n      <td>13000</td>\n      <td>10</td>\n      <td>1300.0</td>\n      <td>0.2</td>\n      <td>10400.0</td>\n      <td>국내산</td>\n    </tr>\n    <tr>\n      <th>7</th>\n      <td>황금후라이드</td>\n      <td>12000</td>\n      <td>10</td>\n      <td>1000.0</td>\n      <td>0.2</td>\n      <td>9600.0</td>\n      <td>국내산</td>\n    </tr>\n    <tr>\n      <th>8</th>\n      <td>[베스트]풀잎치킨</td>\n      <td>9900</td>\n      <td>10</td>\n      <td>1000.0</td>\n      <td>NaN</td>\n      <td>NaN</td>\n      <td>국내산</td>\n    </tr>\n  </tbody>\n</table>\n</div>"
     },
     "execution_count": 100,
     "metadata": {},
     "output_type": "execute_result"
    }
   ],
   "source": [
    "# 데이터 확인\n",
    "df"
   ],
   "metadata": {
    "collapsed": false,
    "ExecuteTime": {
     "end_time": "2023-07-11T05:28:59.165717Z",
     "start_time": "2023-07-11T05:28:59.128380Z"
    }
   }
  },
  {
   "cell_type": "code",
   "execution_count": 101,
   "outputs": [
    {
     "data": {
      "text/plain": "메뉴     9\n가격     9\n호수     9\n칼로리    9\n할인율    8\n할인가    8\n원산지    9\ndtype: int64"
     },
     "execution_count": 101,
     "metadata": {},
     "output_type": "execute_result"
    }
   ],
   "source": [
    "# 카운트(컬럼) 기본값 axis=0\n",
    "df.count()"
   ],
   "metadata": {
    "collapsed": false,
    "ExecuteTime": {
     "end_time": "2023-07-11T05:29:15.867292Z",
     "start_time": "2023-07-11T05:29:15.844874Z"
    }
   }
  },
  {
   "cell_type": "code",
   "execution_count": 102,
   "outputs": [
    {
     "data": {
      "text/plain": "0    7\n1    7\n2    7\n3    7\n4    7\n5    7\n6    7\n7    7\n8    5\ndtype: int64"
     },
     "execution_count": 102,
     "metadata": {},
     "output_type": "execute_result"
    }
   ],
   "source": [
    "# 카운트(행) axis=1\n",
    "df.count(axis=1)"
   ],
   "metadata": {
    "collapsed": false,
    "ExecuteTime": {
     "end_time": "2023-07-11T05:30:04.916507Z",
     "start_time": "2023-07-11T05:30:04.893099Z"
    }
   }
  },
  {
   "cell_type": "code",
   "execution_count": 103,
   "outputs": [
    {
     "data": {
      "text/plain": "9"
     },
     "execution_count": 103,
     "metadata": {},
     "output_type": "execute_result"
    }
   ],
   "source": [
    "#[tip] 데이터 수 len(),shape[0]\n",
    "len(df)\n",
    "df.shape[0]"
   ],
   "metadata": {
    "collapsed": false,
    "ExecuteTime": {
     "end_time": "2023-07-11T05:30:54.258645Z",
     "start_time": "2023-07-11T05:30:54.238696Z"
    }
   }
  },
  {
   "cell_type": "code",
   "execution_count": 104,
   "outputs": [
    {
     "data": {
      "text/plain": "16000"
     },
     "execution_count": 104,
     "metadata": {},
     "output_type": "execute_result"
    }
   ],
   "source": [
    "#최대값\n",
    "df['가격'].max()"
   ],
   "metadata": {
    "collapsed": false,
    "ExecuteTime": {
     "end_time": "2023-07-11T05:31:16.087671Z",
     "start_time": "2023-07-11T05:31:16.062535Z"
    }
   }
  },
  {
   "cell_type": "code",
   "execution_count": 105,
   "outputs": [
    {
     "data": {
      "text/plain": "9900"
     },
     "execution_count": 105,
     "metadata": {},
     "output_type": "execute_result"
    }
   ],
   "source": [
    "#최소값\n",
    "df['가격'].min()"
   ],
   "metadata": {
    "collapsed": false,
    "ExecuteTime": {
     "end_time": "2023-07-11T05:31:21.619584Z",
     "start_time": "2023-07-11T05:31:21.588607Z"
    }
   }
  },
  {
   "cell_type": "code",
   "execution_count": 106,
   "outputs": [
    {
     "data": {
      "text/plain": "13433.333333333334"
     },
     "execution_count": 106,
     "metadata": {},
     "output_type": "execute_result"
    }
   ],
   "source": [
    "#평균값\n",
    "df['가격'].mean()"
   ],
   "metadata": {
    "collapsed": false,
    "ExecuteTime": {
     "end_time": "2023-07-11T05:31:28.208076Z",
     "start_time": "2023-07-11T05:31:28.188602Z"
    }
   }
  },
  {
   "cell_type": "code",
   "execution_count": 107,
   "outputs": [
    {
     "data": {
      "text/plain": "14000.0"
     },
     "execution_count": 107,
     "metadata": {},
     "output_type": "execute_result"
    }
   ],
   "source": [
    "#중간값\n",
    "df['가격'].median()"
   ],
   "metadata": {
    "collapsed": false,
    "ExecuteTime": {
     "end_time": "2023-07-11T05:31:36.299108Z",
     "start_time": "2023-07-11T05:31:36.282043Z"
    }
   }
  },
  {
   "cell_type": "code",
   "execution_count": 108,
   "outputs": [
    {
     "data": {
      "text/plain": "120900"
     },
     "execution_count": 108,
     "metadata": {},
     "output_type": "execute_result"
    }
   ],
   "source": [
    "#합계\n",
    "df['가격'].sum()"
   ],
   "metadata": {
    "collapsed": false,
    "ExecuteTime": {
     "end_time": "2023-07-11T05:31:47.251737Z",
     "start_time": "2023-07-11T05:31:47.222981Z"
    }
   }
  },
  {
   "cell_type": "code",
   "execution_count": 109,
   "outputs": [
    {
     "data": {
      "text/plain": "1764.936259472279"
     },
     "execution_count": 109,
     "metadata": {},
     "output_type": "execute_result"
    }
   ],
   "source": [
    "#표준편차\n",
    "df['가격'].std()"
   ],
   "metadata": {
    "collapsed": false,
    "ExecuteTime": {
     "end_time": "2023-07-11T05:31:57.491718Z",
     "start_time": "2023-07-11T05:31:57.453636Z"
    }
   }
  },
  {
   "cell_type": "code",
   "execution_count": 110,
   "outputs": [
    {
     "data": {
      "text/plain": "3115000.0"
     },
     "execution_count": 110,
     "metadata": {},
     "output_type": "execute_result"
    }
   ],
   "source": [
    "#분산\n",
    "df['가격'].var()"
   ],
   "metadata": {
    "collapsed": false,
    "ExecuteTime": {
     "end_time": "2023-07-11T05:32:03.551106Z",
     "start_time": "2023-07-11T05:32:03.532209Z"
    }
   }
  },
  {
   "cell_type": "code",
   "execution_count": 113,
   "outputs": [
    {
     "data": {
      "text/plain": "                 가격         호수          칼로리       할인율           할인가\ncount      9.000000   9.000000     9.000000  8.000000      8.000000\nmean   13433.333333  10.222222  1344.444444  0.237500  10500.000000\nstd     1764.936259   0.971825   265.099562  0.106066   1242.118007\nmin     9900.000000   9.000000  1000.000000  0.200000   8000.000000\n25%    13000.000000  10.000000  1200.000000  0.200000  10200.000000\n50%    14000.000000  10.000000  1300.000000  0.200000  10800.000000\n75%    14000.000000  11.000000  1500.000000  0.200000  11200.000000\nmax    16000.000000  12.000000  1800.000000  0.500000  12000.000000",
      "text/html": "<div>\n<style scoped>\n    .dataframe tbody tr th:only-of-type {\n        vertical-align: middle;\n    }\n\n    .dataframe tbody tr th {\n        vertical-align: top;\n    }\n\n    .dataframe thead th {\n        text-align: right;\n    }\n</style>\n<table border=\"1\" class=\"dataframe\">\n  <thead>\n    <tr style=\"text-align: right;\">\n      <th></th>\n      <th>가격</th>\n      <th>호수</th>\n      <th>칼로리</th>\n      <th>할인율</th>\n      <th>할인가</th>\n    </tr>\n  </thead>\n  <tbody>\n    <tr>\n      <th>count</th>\n      <td>9.000000</td>\n      <td>9.000000</td>\n      <td>9.000000</td>\n      <td>8.000000</td>\n      <td>8.000000</td>\n    </tr>\n    <tr>\n      <th>mean</th>\n      <td>13433.333333</td>\n      <td>10.222222</td>\n      <td>1344.444444</td>\n      <td>0.237500</td>\n      <td>10500.000000</td>\n    </tr>\n    <tr>\n      <th>std</th>\n      <td>1764.936259</td>\n      <td>0.971825</td>\n      <td>265.099562</td>\n      <td>0.106066</td>\n      <td>1242.118007</td>\n    </tr>\n    <tr>\n      <th>min</th>\n      <td>9900.000000</td>\n      <td>9.000000</td>\n      <td>1000.000000</td>\n      <td>0.200000</td>\n      <td>8000.000000</td>\n    </tr>\n    <tr>\n      <th>25%</th>\n      <td>13000.000000</td>\n      <td>10.000000</td>\n      <td>1200.000000</td>\n      <td>0.200000</td>\n      <td>10200.000000</td>\n    </tr>\n    <tr>\n      <th>50%</th>\n      <td>14000.000000</td>\n      <td>10.000000</td>\n      <td>1300.000000</td>\n      <td>0.200000</td>\n      <td>10800.000000</td>\n    </tr>\n    <tr>\n      <th>75%</th>\n      <td>14000.000000</td>\n      <td>11.000000</td>\n      <td>1500.000000</td>\n      <td>0.200000</td>\n      <td>11200.000000</td>\n    </tr>\n    <tr>\n      <th>max</th>\n      <td>16000.000000</td>\n      <td>12.000000</td>\n      <td>1800.000000</td>\n      <td>0.500000</td>\n      <td>12000.000000</td>\n    </tr>\n  </tbody>\n</table>\n</div>"
     },
     "execution_count": 113,
     "metadata": {},
     "output_type": "execute_result"
    }
   ],
   "source": [
    "#백분위수\n",
    "df.describe()"
   ],
   "metadata": {
    "collapsed": false,
    "ExecuteTime": {
     "end_time": "2023-07-11T05:33:38.201505Z",
     "start_time": "2023-07-11T05:33:38.187939Z"
    }
   }
  },
  {
   "cell_type": "code",
   "execution_count": 114,
   "outputs": [
    {
     "data": {
      "text/plain": "13000.0"
     },
     "execution_count": 114,
     "metadata": {},
     "output_type": "execute_result"
    }
   ],
   "source": [
    "# 하위 25% 값\n",
    "df['가격'].quantile(0.25)"
   ],
   "metadata": {
    "collapsed": false,
    "ExecuteTime": {
     "end_time": "2023-07-11T05:34:03.157319Z",
     "start_time": "2023-07-11T05:34:03.138088Z"
    }
   }
  },
  {
   "cell_type": "code",
   "execution_count": 115,
   "outputs": [
    {
     "data": {
      "text/plain": "14000.0"
     },
     "execution_count": 115,
     "metadata": {},
     "output_type": "execute_result"
    }
   ],
   "source": [
    "# 상위 25% 값\n",
    "df['가격'].quantile(0.75)"
   ],
   "metadata": {
    "collapsed": false,
    "ExecuteTime": {
     "end_time": "2023-07-11T05:34:11.584905Z",
     "start_time": "2023-07-11T05:34:11.563638Z"
    }
   }
  },
  {
   "cell_type": "code",
   "execution_count": 116,
   "outputs": [
    {
     "data": {
      "text/plain": "          메뉴     가격  호수     칼로리  할인율     할인가  원산지\n7     황금후라이드  12000  10  1000.0  0.2  9600.0  국내산\n8  [베스트]풀잎치킨   9900  10  1000.0  NaN     NaN  국내산",
      "text/html": "<div>\n<style scoped>\n    .dataframe tbody tr th:only-of-type {\n        vertical-align: middle;\n    }\n\n    .dataframe tbody tr th {\n        vertical-align: top;\n    }\n\n    .dataframe thead th {\n        text-align: right;\n    }\n</style>\n<table border=\"1\" class=\"dataframe\">\n  <thead>\n    <tr style=\"text-align: right;\">\n      <th></th>\n      <th>메뉴</th>\n      <th>가격</th>\n      <th>호수</th>\n      <th>칼로리</th>\n      <th>할인율</th>\n      <th>할인가</th>\n      <th>원산지</th>\n    </tr>\n  </thead>\n  <tbody>\n    <tr>\n      <th>7</th>\n      <td>황금후라이드</td>\n      <td>12000</td>\n      <td>10</td>\n      <td>1000.0</td>\n      <td>0.2</td>\n      <td>9600.0</td>\n      <td>국내산</td>\n    </tr>\n    <tr>\n      <th>8</th>\n      <td>[베스트]풀잎치킨</td>\n      <td>9900</td>\n      <td>10</td>\n      <td>1000.0</td>\n      <td>NaN</td>\n      <td>NaN</td>\n      <td>국내산</td>\n    </tr>\n  </tbody>\n</table>\n</div>"
     },
     "execution_count": 116,
     "metadata": {},
     "output_type": "execute_result"
    }
   ],
   "source": [
    "# 하위 25% 보다 작은 데이터 값\n",
    "cond = df['가격'].quantile(0.25) > df['가격']\n",
    "df[cond]"
   ],
   "metadata": {
    "collapsed": false,
    "ExecuteTime": {
     "end_time": "2023-07-11T05:34:58.913057Z",
     "start_time": "2023-07-11T05:34:58.867102Z"
    }
   }
  },
  {
   "cell_type": "code",
   "execution_count": 117,
   "outputs": [
    {
     "data": {
      "text/plain": "          메뉴     가격  호수     칼로리  할인율      할인가  원산지\n0  [인기]아이펠치킨  16000  11  1200.0  0.5   8000.0  국내산\n1        닭강정  15000  12  1500.0  0.2  12000.0  브라질",
      "text/html": "<div>\n<style scoped>\n    .dataframe tbody tr th:only-of-type {\n        vertical-align: middle;\n    }\n\n    .dataframe tbody tr th {\n        vertical-align: top;\n    }\n\n    .dataframe thead th {\n        text-align: right;\n    }\n</style>\n<table border=\"1\" class=\"dataframe\">\n  <thead>\n    <tr style=\"text-align: right;\">\n      <th></th>\n      <th>메뉴</th>\n      <th>가격</th>\n      <th>호수</th>\n      <th>칼로리</th>\n      <th>할인율</th>\n      <th>할인가</th>\n      <th>원산지</th>\n    </tr>\n  </thead>\n  <tbody>\n    <tr>\n      <th>0</th>\n      <td>[인기]아이펠치킨</td>\n      <td>16000</td>\n      <td>11</td>\n      <td>1200.0</td>\n      <td>0.5</td>\n      <td>8000.0</td>\n      <td>국내산</td>\n    </tr>\n    <tr>\n      <th>1</th>\n      <td>닭강정</td>\n      <td>15000</td>\n      <td>12</td>\n      <td>1500.0</td>\n      <td>0.2</td>\n      <td>12000.0</td>\n      <td>브라질</td>\n    </tr>\n  </tbody>\n</table>\n</div>"
     },
     "execution_count": 117,
     "metadata": {},
     "output_type": "execute_result"
    }
   ],
   "source": [
    "# 상위 25% 보다 큰 데이터 값\n",
    "cond = df['가격'].quantile(0.75) < df['가격']\n",
    "df[cond]"
   ],
   "metadata": {
    "collapsed": false,
    "ExecuteTime": {
     "end_time": "2023-07-11T05:35:16.984652Z",
     "start_time": "2023-07-11T05:35:16.956883Z"
    }
   }
  },
  {
   "cell_type": "code",
   "execution_count": 118,
   "outputs": [
    {
     "data": {
      "text/plain": "'국내산'"
     },
     "execution_count": 118,
     "metadata": {},
     "output_type": "execute_result"
    }
   ],
   "source": [
    "# 최빈값 구하기\n",
    "df['원산지'].mode()[0]"
   ],
   "metadata": {
    "collapsed": false,
    "ExecuteTime": {
     "end_time": "2023-07-11T05:35:53.762446Z",
     "start_time": "2023-07-11T05:35:53.720361Z"
    }
   }
  },
  {
   "cell_type": "code",
   "execution_count": 119,
   "outputs": [
    {
     "data": {
      "text/plain": "             0        1        2        3        4        5         6       7  \\\n메뉴   [인기]아이펠치킨      닭강정     간장치킨     마늘치킨       파닭   승일양념치킨  양념반후라이드반  황금후라이드   \n가격       16000    15000    14000    14000    14000    13000     13000   12000   \n호수          11       12        9        9       11       10        10      10   \n칼로리     1200.0   1500.0   1600.0   1800.0   1300.0   1400.0    1300.0  1000.0   \n할인율        0.5      0.2      0.2      0.2      0.2      0.2       0.2     0.2   \n할인가     8000.0  12000.0  11200.0  11200.0  11200.0  10400.0   10400.0  9600.0   \n원산지        국내산      브라질      국내산      국내산      브라질      국내산       국내산     국내산   \n\n             8  \n메뉴   [베스트]풀잎치킨  \n가격        9900  \n호수          10  \n칼로리     1000.0  \n할인율        NaN  \n할인가        NaN  \n원산지        국내산  ",
      "text/html": "<div>\n<style scoped>\n    .dataframe tbody tr th:only-of-type {\n        vertical-align: middle;\n    }\n\n    .dataframe tbody tr th {\n        vertical-align: top;\n    }\n\n    .dataframe thead th {\n        text-align: right;\n    }\n</style>\n<table border=\"1\" class=\"dataframe\">\n  <thead>\n    <tr style=\"text-align: right;\">\n      <th></th>\n      <th>0</th>\n      <th>1</th>\n      <th>2</th>\n      <th>3</th>\n      <th>4</th>\n      <th>5</th>\n      <th>6</th>\n      <th>7</th>\n      <th>8</th>\n    </tr>\n  </thead>\n  <tbody>\n    <tr>\n      <th>메뉴</th>\n      <td>[인기]아이펠치킨</td>\n      <td>닭강정</td>\n      <td>간장치킨</td>\n      <td>마늘치킨</td>\n      <td>파닭</td>\n      <td>승일양념치킨</td>\n      <td>양념반후라이드반</td>\n      <td>황금후라이드</td>\n      <td>[베스트]풀잎치킨</td>\n    </tr>\n    <tr>\n      <th>가격</th>\n      <td>16000</td>\n      <td>15000</td>\n      <td>14000</td>\n      <td>14000</td>\n      <td>14000</td>\n      <td>13000</td>\n      <td>13000</td>\n      <td>12000</td>\n      <td>9900</td>\n    </tr>\n    <tr>\n      <th>호수</th>\n      <td>11</td>\n      <td>12</td>\n      <td>9</td>\n      <td>9</td>\n      <td>11</td>\n      <td>10</td>\n      <td>10</td>\n      <td>10</td>\n      <td>10</td>\n    </tr>\n    <tr>\n      <th>칼로리</th>\n      <td>1200.0</td>\n      <td>1500.0</td>\n      <td>1600.0</td>\n      <td>1800.0</td>\n      <td>1300.0</td>\n      <td>1400.0</td>\n      <td>1300.0</td>\n      <td>1000.0</td>\n      <td>1000.0</td>\n    </tr>\n    <tr>\n      <th>할인율</th>\n      <td>0.5</td>\n      <td>0.2</td>\n      <td>0.2</td>\n      <td>0.2</td>\n      <td>0.2</td>\n      <td>0.2</td>\n      <td>0.2</td>\n      <td>0.2</td>\n      <td>NaN</td>\n    </tr>\n    <tr>\n      <th>할인가</th>\n      <td>8000.0</td>\n      <td>12000.0</td>\n      <td>11200.0</td>\n      <td>11200.0</td>\n      <td>11200.0</td>\n      <td>10400.0</td>\n      <td>10400.0</td>\n      <td>9600.0</td>\n      <td>NaN</td>\n    </tr>\n    <tr>\n      <th>원산지</th>\n      <td>국내산</td>\n      <td>브라질</td>\n      <td>국내산</td>\n      <td>국내산</td>\n      <td>브라질</td>\n      <td>국내산</td>\n      <td>국내산</td>\n      <td>국내산</td>\n      <td>국내산</td>\n    </tr>\n  </tbody>\n</table>\n</div>"
     },
     "execution_count": 119,
     "metadata": {},
     "output_type": "execute_result"
    }
   ],
   "source": [
    "# 행과 열 바꾸기(transpose)\n",
    "df.T"
   ],
   "metadata": {
    "collapsed": false,
    "ExecuteTime": {
     "end_time": "2023-07-11T05:36:13.008071Z",
     "start_time": "2023-07-11T05:36:12.973629Z"
    }
   }
  },
  {
   "cell_type": "code",
   "execution_count": 120,
   "outputs": [],
   "source": [
    "# 그룹핑"
   ],
   "metadata": {
    "collapsed": false,
    "ExecuteTime": {
     "end_time": "2023-07-11T05:39:24.970886Z",
     "start_time": "2023-07-11T05:39:24.926495Z"
    }
   }
  },
  {
   "cell_type": "code",
   "execution_count": 128,
   "outputs": [
    {
     "name": "stderr",
     "output_type": "stream",
     "text": [
      "/var/folders/jd/qspsq8mn2db0y77ryp1w10_c0000gp/T/ipykernel_16475/3062215196.py:2: FutureWarning: The default value of numeric_only in DataFrameGroupBy.mean is deprecated. In a future version, numeric_only will default to False. Either specify numeric_only or select only columns which should be valid for the function.\n",
      "  df.groupby('원산지').mean()\n"
     ]
    },
    {
     "data": {
      "text/plain": "               가격         호수          칼로리   할인율           할인가\n원산지                                                          \n국내산  13128.571429   9.857143  1328.571429  0.25  10133.333333\n브라질  14500.000000  11.500000  1400.000000  0.20  11600.000000",
      "text/html": "<div>\n<style scoped>\n    .dataframe tbody tr th:only-of-type {\n        vertical-align: middle;\n    }\n\n    .dataframe tbody tr th {\n        vertical-align: top;\n    }\n\n    .dataframe thead th {\n        text-align: right;\n    }\n</style>\n<table border=\"1\" class=\"dataframe\">\n  <thead>\n    <tr style=\"text-align: right;\">\n      <th></th>\n      <th>가격</th>\n      <th>호수</th>\n      <th>칼로리</th>\n      <th>할인율</th>\n      <th>할인가</th>\n    </tr>\n    <tr>\n      <th>원산지</th>\n      <th></th>\n      <th></th>\n      <th></th>\n      <th></th>\n      <th></th>\n    </tr>\n  </thead>\n  <tbody>\n    <tr>\n      <th>국내산</th>\n      <td>13128.571429</td>\n      <td>9.857143</td>\n      <td>1328.571429</td>\n      <td>0.25</td>\n      <td>10133.333333</td>\n    </tr>\n    <tr>\n      <th>브라질</th>\n      <td>14500.000000</td>\n      <td>11.500000</td>\n      <td>1400.000000</td>\n      <td>0.20</td>\n      <td>11600.000000</td>\n    </tr>\n  </tbody>\n</table>\n</div>"
     },
     "execution_count": 128,
     "metadata": {},
     "output_type": "execute_result"
    }
   ],
   "source": [
    "# 원산지 기준, 평균\n",
    "df.groupby('원산지').mean()"
   ],
   "metadata": {
    "collapsed": false,
    "ExecuteTime": {
     "end_time": "2023-07-11T05:41:25.982967Z",
     "start_time": "2023-07-11T05:41:25.966877Z"
    }
   }
  },
  {
   "cell_type": "code",
   "execution_count": 129,
   "outputs": [
    {
     "name": "stderr",
     "output_type": "stream",
     "text": [
      "/var/folders/jd/qspsq8mn2db0y77ryp1w10_c0000gp/T/ipykernel_16475/1004756624.py:2: FutureWarning: The default value of numeric_only in DataFrameGroupBy.mean is deprecated. In a future version, numeric_only will default to False. Either specify numeric_only or select only columns which should be valid for the function.\n",
      "  df.groupby(['원산지','할인율']).mean()\n"
     ]
    },
    {
     "data": {
      "text/plain": "              가격    호수     칼로리      할인가\n원산지 할인율                                \n국내산 0.2  13200.0   9.6  1420.0  10560.0\n    0.5  16000.0  11.0  1200.0   8000.0\n브라질 0.2  14500.0  11.5  1400.0  11600.0",
      "text/html": "<div>\n<style scoped>\n    .dataframe tbody tr th:only-of-type {\n        vertical-align: middle;\n    }\n\n    .dataframe tbody tr th {\n        vertical-align: top;\n    }\n\n    .dataframe thead th {\n        text-align: right;\n    }\n</style>\n<table border=\"1\" class=\"dataframe\">\n  <thead>\n    <tr style=\"text-align: right;\">\n      <th></th>\n      <th></th>\n      <th>가격</th>\n      <th>호수</th>\n      <th>칼로리</th>\n      <th>할인가</th>\n    </tr>\n    <tr>\n      <th>원산지</th>\n      <th>할인율</th>\n      <th></th>\n      <th></th>\n      <th></th>\n      <th></th>\n    </tr>\n  </thead>\n  <tbody>\n    <tr>\n      <th rowspan=\"2\" valign=\"top\">국내산</th>\n      <th>0.2</th>\n      <td>13200.0</td>\n      <td>9.6</td>\n      <td>1420.0</td>\n      <td>10560.0</td>\n    </tr>\n    <tr>\n      <th>0.5</th>\n      <td>16000.0</td>\n      <td>11.0</td>\n      <td>1200.0</td>\n      <td>8000.0</td>\n    </tr>\n    <tr>\n      <th>브라질</th>\n      <th>0.2</th>\n      <td>14500.0</td>\n      <td>11.5</td>\n      <td>1400.0</td>\n      <td>11600.0</td>\n    </tr>\n  </tbody>\n</table>\n</div>"
     },
     "execution_count": 129,
     "metadata": {},
     "output_type": "execute_result"
    }
   ],
   "source": [
    "#원산지와 할인율 기준, 평균\n",
    "df.groupby(['원산지','할인율']).mean()"
   ],
   "metadata": {
    "collapsed": false,
    "ExecuteTime": {
     "end_time": "2023-07-11T05:41:45.608001Z",
     "start_time": "2023-07-11T05:41:45.568480Z"
    }
   }
  },
  {
   "cell_type": "code",
   "execution_count": 130,
   "outputs": [
    {
     "data": {
      "text/plain": "원산지  할인율\n국내산  0.2    13200.0\n     0.5    16000.0\n브라질  0.2    14500.0\nName: 가격, dtype: float64"
     },
     "execution_count": 130,
     "metadata": {},
     "output_type": "execute_result"
    }
   ],
   "source": [
    "# 원산지와 할인율 기준, 가격 평균 -> 시리즈 형태\n",
    "df.groupby(['원산지','할인율'])['가격'].mean()"
   ],
   "metadata": {
    "collapsed": false,
    "ExecuteTime": {
     "end_time": "2023-07-11T05:42:12.026164Z",
     "start_time": "2023-07-11T05:42:12.020847Z"
    }
   }
  },
  {
   "cell_type": "code",
   "execution_count": 131,
   "outputs": [
    {
     "data": {
      "text/plain": "              가격\n원산지 할인율         \n국내산 0.2  13200.0\n    0.5  16000.0\n브라질 0.2  14500.0",
      "text/html": "<div>\n<style scoped>\n    .dataframe tbody tr th:only-of-type {\n        vertical-align: middle;\n    }\n\n    .dataframe tbody tr th {\n        vertical-align: top;\n    }\n\n    .dataframe thead th {\n        text-align: right;\n    }\n</style>\n<table border=\"1\" class=\"dataframe\">\n  <thead>\n    <tr style=\"text-align: right;\">\n      <th></th>\n      <th></th>\n      <th>가격</th>\n    </tr>\n    <tr>\n      <th>원산지</th>\n      <th>할인율</th>\n      <th></th>\n    </tr>\n  </thead>\n  <tbody>\n    <tr>\n      <th rowspan=\"2\" valign=\"top\">국내산</th>\n      <th>0.2</th>\n      <td>13200.0</td>\n    </tr>\n    <tr>\n      <th>0.5</th>\n      <td>16000.0</td>\n    </tr>\n    <tr>\n      <th>브라질</th>\n      <th>0.2</th>\n      <td>14500.0</td>\n    </tr>\n  </tbody>\n</table>\n</div>"
     },
     "execution_count": 131,
     "metadata": {},
     "output_type": "execute_result"
    }
   ],
   "source": [
    "# 원산지와 할인율 기준, 가격 평균 -> 데이터프레임 형태1\n",
    "pd.DataFrame(df.groupby(['원산지','할인율'])['가격'].mean())"
   ],
   "metadata": {
    "collapsed": false,
    "ExecuteTime": {
     "end_time": "2023-07-11T05:43:46.543735Z",
     "start_time": "2023-07-11T05:43:46.539463Z"
    }
   }
  },
  {
   "cell_type": "code",
   "execution_count": 133,
   "outputs": [
    {
     "data": {
      "text/plain": "              가격\n원산지 할인율         \n국내산 0.2  13200.0\n    0.5  16000.0\n브라질 0.2  14500.0",
      "text/html": "<div>\n<style scoped>\n    .dataframe tbody tr th:only-of-type {\n        vertical-align: middle;\n    }\n\n    .dataframe tbody tr th {\n        vertical-align: top;\n    }\n\n    .dataframe thead th {\n        text-align: right;\n    }\n</style>\n<table border=\"1\" class=\"dataframe\">\n  <thead>\n    <tr style=\"text-align: right;\">\n      <th></th>\n      <th></th>\n      <th>가격</th>\n    </tr>\n    <tr>\n      <th>원산지</th>\n      <th>할인율</th>\n      <th></th>\n    </tr>\n  </thead>\n  <tbody>\n    <tr>\n      <th rowspan=\"2\" valign=\"top\">국내산</th>\n      <th>0.2</th>\n      <td>13200.0</td>\n    </tr>\n    <tr>\n      <th>0.5</th>\n      <td>16000.0</td>\n    </tr>\n    <tr>\n      <th>브라질</th>\n      <th>0.2</th>\n      <td>14500.0</td>\n    </tr>\n  </tbody>\n</table>\n</div>"
     },
     "execution_count": 133,
     "metadata": {},
     "output_type": "execute_result"
    }
   ],
   "source": [
    "# 원산지와 할인율 기준, 가격 평균 -> 데이터프레임 형태2\n",
    "df.groupby(['원산지','할인율'])[['가격']].mean()\n",
    "# 가격에 []를 두번 씌우면 데이터프레임 형태로 나옴"
   ],
   "metadata": {
    "collapsed": false,
    "ExecuteTime": {
     "end_time": "2023-07-11T05:44:55.568419Z",
     "start_time": "2023-07-11T05:44:55.551260Z"
    }
   }
  },
  {
   "cell_type": "code",
   "execution_count": 132,
   "outputs": [
    {
     "data": {
      "text/plain": "                메뉴     가격  호수     칼로리      할인가\n원산지 할인율                                       \n국내산 0.2     황금후라이드  14000  10  1800.0  11200.0\n    0.5  [인기]아이펠치킨  16000  11  1200.0   8000.0\n브라질 0.2         파닭  15000  12  1500.0  12000.0",
      "text/html": "<div>\n<style scoped>\n    .dataframe tbody tr th:only-of-type {\n        vertical-align: middle;\n    }\n\n    .dataframe tbody tr th {\n        vertical-align: top;\n    }\n\n    .dataframe thead th {\n        text-align: right;\n    }\n</style>\n<table border=\"1\" class=\"dataframe\">\n  <thead>\n    <tr style=\"text-align: right;\">\n      <th></th>\n      <th></th>\n      <th>메뉴</th>\n      <th>가격</th>\n      <th>호수</th>\n      <th>칼로리</th>\n      <th>할인가</th>\n    </tr>\n    <tr>\n      <th>원산지</th>\n      <th>할인율</th>\n      <th></th>\n      <th></th>\n      <th></th>\n      <th></th>\n      <th></th>\n    </tr>\n  </thead>\n  <tbody>\n    <tr>\n      <th rowspan=\"2\" valign=\"top\">국내산</th>\n      <th>0.2</th>\n      <td>황금후라이드</td>\n      <td>14000</td>\n      <td>10</td>\n      <td>1800.0</td>\n      <td>11200.0</td>\n    </tr>\n    <tr>\n      <th>0.5</th>\n      <td>[인기]아이펠치킨</td>\n      <td>16000</td>\n      <td>11</td>\n      <td>1200.0</td>\n      <td>8000.0</td>\n    </tr>\n    <tr>\n      <th>브라질</th>\n      <th>0.2</th>\n      <td>파닭</td>\n      <td>15000</td>\n      <td>12</td>\n      <td>1500.0</td>\n      <td>12000.0</td>\n    </tr>\n  </tbody>\n</table>\n</div>"
     },
     "execution_count": 132,
     "metadata": {},
     "output_type": "execute_result"
    }
   ],
   "source": [
    "# 원산지와 할인율 기준, 최대값\n",
    "df.groupby(['원산지','할인율']).max()"
   ],
   "metadata": {
    "collapsed": false,
    "ExecuteTime": {
     "end_time": "2023-07-11T05:44:49.602759Z",
     "start_time": "2023-07-11T05:44:49.571955Z"
    }
   }
  },
  {
   "cell_type": "code",
   "execution_count": 134,
   "outputs": [
    {
     "data": {
      "text/plain": "   원산지  할인율         메뉴     가격  호수     칼로리      할인가\n0  국내산  0.2     황금후라이드  14000  10  1800.0  11200.0\n1  국내산  0.5  [인기]아이펠치킨  16000  11  1200.0   8000.0\n2  브라질  0.2         파닭  15000  12  1500.0  12000.0",
      "text/html": "<div>\n<style scoped>\n    .dataframe tbody tr th:only-of-type {\n        vertical-align: middle;\n    }\n\n    .dataframe tbody tr th {\n        vertical-align: top;\n    }\n\n    .dataframe thead th {\n        text-align: right;\n    }\n</style>\n<table border=\"1\" class=\"dataframe\">\n  <thead>\n    <tr style=\"text-align: right;\">\n      <th></th>\n      <th>원산지</th>\n      <th>할인율</th>\n      <th>메뉴</th>\n      <th>가격</th>\n      <th>호수</th>\n      <th>칼로리</th>\n      <th>할인가</th>\n    </tr>\n  </thead>\n  <tbody>\n    <tr>\n      <th>0</th>\n      <td>국내산</td>\n      <td>0.2</td>\n      <td>황금후라이드</td>\n      <td>14000</td>\n      <td>10</td>\n      <td>1800.0</td>\n      <td>11200.0</td>\n    </tr>\n    <tr>\n      <th>1</th>\n      <td>국내산</td>\n      <td>0.5</td>\n      <td>[인기]아이펠치킨</td>\n      <td>16000</td>\n      <td>11</td>\n      <td>1200.0</td>\n      <td>8000.0</td>\n    </tr>\n    <tr>\n      <th>2</th>\n      <td>브라질</td>\n      <td>0.2</td>\n      <td>파닭</td>\n      <td>15000</td>\n      <td>12</td>\n      <td>1500.0</td>\n      <td>12000.0</td>\n    </tr>\n  </tbody>\n</table>\n</div>"
     },
     "execution_count": 134,
     "metadata": {},
     "output_type": "execute_result"
    }
   ],
   "source": [
    "#1개 인덱스 형태로 리셋\n",
    "df.groupby(['원산지','할인율']).max().reset_index()"
   ],
   "metadata": {
    "collapsed": false,
    "ExecuteTime": {
     "end_time": "2023-07-11T05:45:45.792956Z",
     "start_time": "2023-07-11T05:45:45.741736Z"
    }
   }
  },
  {
   "cell_type": "code",
   "execution_count": null,
   "outputs": [],
   "source": [],
   "metadata": {
    "collapsed": false
   }
  }
 ],
 "metadata": {
  "kernelspec": {
   "display_name": "Python 3",
   "language": "python",
   "name": "python3"
  },
  "language_info": {
   "codemirror_mode": {
    "name": "ipython",
    "version": 2
   },
   "file_extension": ".py",
   "mimetype": "text/x-python",
   "name": "python",
   "nbconvert_exporter": "python",
   "pygments_lexer": "ipython2",
   "version": "2.7.6"
  }
 },
 "nbformat": 4,
 "nbformat_minor": 0
}
