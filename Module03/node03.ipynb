{
 "cells": [
  {
   "cell_type": "markdown",
   "source": [
    "## 데이터 핸들링2\n",
    "\n",
    "3-2 데이터 불러오기 / 만들기"
   ],
   "metadata": {
    "collapsed": false
   }
  },
  {
   "cell_type": "code",
   "execution_count": 16,
   "metadata": {
    "collapsed": true,
    "ExecuteTime": {
     "end_time": "2023-07-11T01:59:49.251413Z",
     "start_time": "2023-07-11T01:59:49.219648Z"
    }
   },
   "outputs": [
    {
     "data": {
      "text/plain": "  Unnamed: 0         메뉴     가격   호수     칼로리  할인율      할인가  원산지\n0          0     황금후라이드  12000  10호  1000.0  0.2   9600.0  국내산\n1          1     승일양념치킨  13000  10호  1400.0  0.2  10400.0  NaN\n2          2       간장치킨  14000   9호  1600.0  0.2  11200.0  NaN\n3          3       마늘치킨  14000   9호  1800.0  0.2  11200.0  NaN\n4          4         파닭  14000  11호  1300.0  0.2  11200.0  브라질\n5          5        닭강정  15000  12호  1500.0  0.2  12000.0  브라질\n6          6   양념반후라이드반  13000  10호  1300.0  0.2  10400.0  NaN\n7        new  [인기]아이펠치킨  16000  11호  1200.0  0.5   8000.0  국내산\n8         10  [베스트]풀잎치킨   9900  10호     NaN  NaN      NaN  NaN",
      "text/html": "<div>\n<style scoped>\n    .dataframe tbody tr th:only-of-type {\n        vertical-align: middle;\n    }\n\n    .dataframe tbody tr th {\n        vertical-align: top;\n    }\n\n    .dataframe thead th {\n        text-align: right;\n    }\n</style>\n<table border=\"1\" class=\"dataframe\">\n  <thead>\n    <tr style=\"text-align: right;\">\n      <th></th>\n      <th>Unnamed: 0</th>\n      <th>메뉴</th>\n      <th>가격</th>\n      <th>호수</th>\n      <th>칼로리</th>\n      <th>할인율</th>\n      <th>할인가</th>\n      <th>원산지</th>\n    </tr>\n  </thead>\n  <tbody>\n    <tr>\n      <th>0</th>\n      <td>0</td>\n      <td>황금후라이드</td>\n      <td>12000</td>\n      <td>10호</td>\n      <td>1000.0</td>\n      <td>0.2</td>\n      <td>9600.0</td>\n      <td>국내산</td>\n    </tr>\n    <tr>\n      <th>1</th>\n      <td>1</td>\n      <td>승일양념치킨</td>\n      <td>13000</td>\n      <td>10호</td>\n      <td>1400.0</td>\n      <td>0.2</td>\n      <td>10400.0</td>\n      <td>NaN</td>\n    </tr>\n    <tr>\n      <th>2</th>\n      <td>2</td>\n      <td>간장치킨</td>\n      <td>14000</td>\n      <td>9호</td>\n      <td>1600.0</td>\n      <td>0.2</td>\n      <td>11200.0</td>\n      <td>NaN</td>\n    </tr>\n    <tr>\n      <th>3</th>\n      <td>3</td>\n      <td>마늘치킨</td>\n      <td>14000</td>\n      <td>9호</td>\n      <td>1800.0</td>\n      <td>0.2</td>\n      <td>11200.0</td>\n      <td>NaN</td>\n    </tr>\n    <tr>\n      <th>4</th>\n      <td>4</td>\n      <td>파닭</td>\n      <td>14000</td>\n      <td>11호</td>\n      <td>1300.0</td>\n      <td>0.2</td>\n      <td>11200.0</td>\n      <td>브라질</td>\n    </tr>\n    <tr>\n      <th>5</th>\n      <td>5</td>\n      <td>닭강정</td>\n      <td>15000</td>\n      <td>12호</td>\n      <td>1500.0</td>\n      <td>0.2</td>\n      <td>12000.0</td>\n      <td>브라질</td>\n    </tr>\n    <tr>\n      <th>6</th>\n      <td>6</td>\n      <td>양념반후라이드반</td>\n      <td>13000</td>\n      <td>10호</td>\n      <td>1300.0</td>\n      <td>0.2</td>\n      <td>10400.0</td>\n      <td>NaN</td>\n    </tr>\n    <tr>\n      <th>7</th>\n      <td>new</td>\n      <td>[인기]아이펠치킨</td>\n      <td>16000</td>\n      <td>11호</td>\n      <td>1200.0</td>\n      <td>0.5</td>\n      <td>8000.0</td>\n      <td>국내산</td>\n    </tr>\n    <tr>\n      <th>8</th>\n      <td>10</td>\n      <td>[베스트]풀잎치킨</td>\n      <td>9900</td>\n      <td>10호</td>\n      <td>NaN</td>\n      <td>NaN</td>\n      <td>NaN</td>\n      <td>NaN</td>\n    </tr>\n  </tbody>\n</table>\n</div>"
     },
     "execution_count": 16,
     "metadata": {},
     "output_type": "execute_result"
    }
   ],
   "source": [
    "import pandas as pd\n",
    "import numpy as np\n",
    "df = pd.DataFrame({\n",
    "    'Unnamed: 0': [0,1,2,3,4,5,6,'new',10],\n",
    "    '메뉴': ['황금후라이드','승일양념치킨','간장치킨','마늘치킨','파닭','닭강정','양념반후라이드반','[인기]아이펠치킨','[베스트]풀잎치킨'],\n",
    "    '가격': [12000,13000,14000,14000,14000,15000,13000,16000,9900],\n",
    "    '호수' : ['10호','10호','9호','9호','11호','12호','10호','11호','10호'],\n",
    "    '칼로리' : [1000.0,1400.0,1600.0,1800.0,1300.0,1500.0,1300.0,1200.0,np.nan],\n",
    "    '할인율' : [0.2,0.2,0.2,0.2,0.2,0.2,0.2,0.5,np.nan],\n",
    "    '할인가' : [9600.0,10400.0,11200.0,11200.0,11200.0,12000.0,10400.0,8000.0,np.nan],\n",
    "    '원산지' : ['국내산',np.nan,np.nan,np.nan,'브라질','브라질',np.nan,'국내산',np.nan]\n",
    "})\n",
    "df.to_csv('new_modudak.csv', index=False)\n",
    "df"
   ]
  },
  {
   "cell_type": "code",
   "execution_count": 17,
   "outputs": [
    {
     "data": {
      "text/plain": "                   메뉴     가격   호수     칼로리  할인율      할인가  원산지\nUnnamed: 0                                                  \n0              황금후라이드  12000  10호  1000.0  0.2   9600.0  국내산\n1              승일양념치킨  13000  10호  1400.0  0.2  10400.0  NaN\n2                간장치킨  14000   9호  1600.0  0.2  11200.0  NaN\n3                마늘치킨  14000   9호  1800.0  0.2  11200.0  NaN\n4                  파닭  14000  11호  1300.0  0.2  11200.0  브라질\n5                 닭강정  15000  12호  1500.0  0.2  12000.0  브라질\n6            양념반후라이드반  13000  10호  1300.0  0.2  10400.0  NaN\nnew         [인기]아이펠치킨  16000  11호  1200.0  0.5   8000.0  국내산\n10          [베스트]풀잎치킨   9900  10호     NaN  NaN      NaN  NaN",
      "text/html": "<div>\n<style scoped>\n    .dataframe tbody tr th:only-of-type {\n        vertical-align: middle;\n    }\n\n    .dataframe tbody tr th {\n        vertical-align: top;\n    }\n\n    .dataframe thead th {\n        text-align: right;\n    }\n</style>\n<table border=\"1\" class=\"dataframe\">\n  <thead>\n    <tr style=\"text-align: right;\">\n      <th></th>\n      <th>메뉴</th>\n      <th>가격</th>\n      <th>호수</th>\n      <th>칼로리</th>\n      <th>할인율</th>\n      <th>할인가</th>\n      <th>원산지</th>\n    </tr>\n    <tr>\n      <th>Unnamed: 0</th>\n      <th></th>\n      <th></th>\n      <th></th>\n      <th></th>\n      <th></th>\n      <th></th>\n      <th></th>\n    </tr>\n  </thead>\n  <tbody>\n    <tr>\n      <th>0</th>\n      <td>황금후라이드</td>\n      <td>12000</td>\n      <td>10호</td>\n      <td>1000.0</td>\n      <td>0.2</td>\n      <td>9600.0</td>\n      <td>국내산</td>\n    </tr>\n    <tr>\n      <th>1</th>\n      <td>승일양념치킨</td>\n      <td>13000</td>\n      <td>10호</td>\n      <td>1400.0</td>\n      <td>0.2</td>\n      <td>10400.0</td>\n      <td>NaN</td>\n    </tr>\n    <tr>\n      <th>2</th>\n      <td>간장치킨</td>\n      <td>14000</td>\n      <td>9호</td>\n      <td>1600.0</td>\n      <td>0.2</td>\n      <td>11200.0</td>\n      <td>NaN</td>\n    </tr>\n    <tr>\n      <th>3</th>\n      <td>마늘치킨</td>\n      <td>14000</td>\n      <td>9호</td>\n      <td>1800.0</td>\n      <td>0.2</td>\n      <td>11200.0</td>\n      <td>NaN</td>\n    </tr>\n    <tr>\n      <th>4</th>\n      <td>파닭</td>\n      <td>14000</td>\n      <td>11호</td>\n      <td>1300.0</td>\n      <td>0.2</td>\n      <td>11200.0</td>\n      <td>브라질</td>\n    </tr>\n    <tr>\n      <th>5</th>\n      <td>닭강정</td>\n      <td>15000</td>\n      <td>12호</td>\n      <td>1500.0</td>\n      <td>0.2</td>\n      <td>12000.0</td>\n      <td>브라질</td>\n    </tr>\n    <tr>\n      <th>6</th>\n      <td>양념반후라이드반</td>\n      <td>13000</td>\n      <td>10호</td>\n      <td>1300.0</td>\n      <td>0.2</td>\n      <td>10400.0</td>\n      <td>NaN</td>\n    </tr>\n    <tr>\n      <th>new</th>\n      <td>[인기]아이펠치킨</td>\n      <td>16000</td>\n      <td>11호</td>\n      <td>1200.0</td>\n      <td>0.5</td>\n      <td>8000.0</td>\n      <td>국내산</td>\n    </tr>\n    <tr>\n      <th>10</th>\n      <td>[베스트]풀잎치킨</td>\n      <td>9900</td>\n      <td>10호</td>\n      <td>NaN</td>\n      <td>NaN</td>\n      <td>NaN</td>\n      <td>NaN</td>\n    </tr>\n  </tbody>\n</table>\n</div>"
     },
     "execution_count": 17,
     "metadata": {},
     "output_type": "execute_result"
    }
   ],
   "source": [
    "#데이터 불러오기(인덱스 값 지정, index_col)\n",
    "pd.read_csv('new_modudak.csv', index_col='Unnamed: 0')"
   ],
   "metadata": {
    "collapsed": false,
    "ExecuteTime": {
     "end_time": "2023-07-11T01:59:49.288730Z",
     "start_time": "2023-07-11T01:59:49.232411Z"
    }
   }
  },
  {
   "cell_type": "code",
   "execution_count": 18,
   "outputs": [
    {
     "data": {
      "text/plain": "  Unnamed: 0         메뉴     가격   호수     칼로리  할인율      할인가  원산지\n0          0     황금후라이드  12000  10호  1000.0  0.2   9600.0  국내산\n1          1     승일양념치킨  13000  10호  1400.0  0.2  10400.0  NaN\n2          2       간장치킨  14000   9호  1600.0  0.2  11200.0  NaN\n3          3       마늘치킨  14000   9호  1800.0  0.2  11200.0  NaN\n4          4         파닭  14000  11호  1300.0  0.2  11200.0  브라질\n5          5        닭강정  15000  12호  1500.0  0.2  12000.0  브라질\n6          6   양념반후라이드반  13000  10호  1300.0  0.2  10400.0  NaN\n7        new  [인기]아이펠치킨  16000  11호  1200.0  0.5   8000.0  국내산\n8         10  [베스트]풀잎치킨   9900  10호     NaN  NaN      NaN  NaN",
      "text/html": "<div>\n<style scoped>\n    .dataframe tbody tr th:only-of-type {\n        vertical-align: middle;\n    }\n\n    .dataframe tbody tr th {\n        vertical-align: top;\n    }\n\n    .dataframe thead th {\n        text-align: right;\n    }\n</style>\n<table border=\"1\" class=\"dataframe\">\n  <thead>\n    <tr style=\"text-align: right;\">\n      <th></th>\n      <th>Unnamed: 0</th>\n      <th>메뉴</th>\n      <th>가격</th>\n      <th>호수</th>\n      <th>칼로리</th>\n      <th>할인율</th>\n      <th>할인가</th>\n      <th>원산지</th>\n    </tr>\n  </thead>\n  <tbody>\n    <tr>\n      <th>0</th>\n      <td>0</td>\n      <td>황금후라이드</td>\n      <td>12000</td>\n      <td>10호</td>\n      <td>1000.0</td>\n      <td>0.2</td>\n      <td>9600.0</td>\n      <td>국내산</td>\n    </tr>\n    <tr>\n      <th>1</th>\n      <td>1</td>\n      <td>승일양념치킨</td>\n      <td>13000</td>\n      <td>10호</td>\n      <td>1400.0</td>\n      <td>0.2</td>\n      <td>10400.0</td>\n      <td>NaN</td>\n    </tr>\n    <tr>\n      <th>2</th>\n      <td>2</td>\n      <td>간장치킨</td>\n      <td>14000</td>\n      <td>9호</td>\n      <td>1600.0</td>\n      <td>0.2</td>\n      <td>11200.0</td>\n      <td>NaN</td>\n    </tr>\n    <tr>\n      <th>3</th>\n      <td>3</td>\n      <td>마늘치킨</td>\n      <td>14000</td>\n      <td>9호</td>\n      <td>1800.0</td>\n      <td>0.2</td>\n      <td>11200.0</td>\n      <td>NaN</td>\n    </tr>\n    <tr>\n      <th>4</th>\n      <td>4</td>\n      <td>파닭</td>\n      <td>14000</td>\n      <td>11호</td>\n      <td>1300.0</td>\n      <td>0.2</td>\n      <td>11200.0</td>\n      <td>브라질</td>\n    </tr>\n    <tr>\n      <th>5</th>\n      <td>5</td>\n      <td>닭강정</td>\n      <td>15000</td>\n      <td>12호</td>\n      <td>1500.0</td>\n      <td>0.2</td>\n      <td>12000.0</td>\n      <td>브라질</td>\n    </tr>\n    <tr>\n      <th>6</th>\n      <td>6</td>\n      <td>양념반후라이드반</td>\n      <td>13000</td>\n      <td>10호</td>\n      <td>1300.0</td>\n      <td>0.2</td>\n      <td>10400.0</td>\n      <td>NaN</td>\n    </tr>\n    <tr>\n      <th>7</th>\n      <td>new</td>\n      <td>[인기]아이펠치킨</td>\n      <td>16000</td>\n      <td>11호</td>\n      <td>1200.0</td>\n      <td>0.5</td>\n      <td>8000.0</td>\n      <td>국내산</td>\n    </tr>\n    <tr>\n      <th>8</th>\n      <td>10</td>\n      <td>[베스트]풀잎치킨</td>\n      <td>9900</td>\n      <td>10호</td>\n      <td>NaN</td>\n      <td>NaN</td>\n      <td>NaN</td>\n      <td>NaN</td>\n    </tr>\n  </tbody>\n</table>\n</div>"
     },
     "execution_count": 18,
     "metadata": {},
     "output_type": "execute_result"
    }
   ],
   "source": [
    "# 데이터 삭제\n",
    "\n",
    "# 컬럼 삭제\n",
    "\n",
    "#[tip] 데이터 프레임 복사\n",
    "df2 = df.copy()\n",
    "df2"
   ],
   "metadata": {
    "collapsed": false,
    "ExecuteTime": {
     "end_time": "2023-07-11T01:59:49.289089Z",
     "start_time": "2023-07-11T01:59:49.241768Z"
    }
   }
  },
  {
   "cell_type": "code",
   "execution_count": 19,
   "outputs": [
    {
     "data": {
      "text/plain": "          메뉴     가격   호수     칼로리  할인율      할인가  원산지\n0     황금후라이드  12000  10호  1000.0  0.2   9600.0  국내산\n1     승일양념치킨  13000  10호  1400.0  0.2  10400.0  NaN\n2       간장치킨  14000   9호  1600.0  0.2  11200.0  NaN\n3       마늘치킨  14000   9호  1800.0  0.2  11200.0  NaN\n4         파닭  14000  11호  1300.0  0.2  11200.0  브라질\n5        닭강정  15000  12호  1500.0  0.2  12000.0  브라질\n6   양념반후라이드반  13000  10호  1300.0  0.2  10400.0  NaN\n7  [인기]아이펠치킨  16000  11호  1200.0  0.5   8000.0  국내산\n8  [베스트]풀잎치킨   9900  10호     NaN  NaN      NaN  NaN",
      "text/html": "<div>\n<style scoped>\n    .dataframe tbody tr th:only-of-type {\n        vertical-align: middle;\n    }\n\n    .dataframe tbody tr th {\n        vertical-align: top;\n    }\n\n    .dataframe thead th {\n        text-align: right;\n    }\n</style>\n<table border=\"1\" class=\"dataframe\">\n  <thead>\n    <tr style=\"text-align: right;\">\n      <th></th>\n      <th>메뉴</th>\n      <th>가격</th>\n      <th>호수</th>\n      <th>칼로리</th>\n      <th>할인율</th>\n      <th>할인가</th>\n      <th>원산지</th>\n    </tr>\n  </thead>\n  <tbody>\n    <tr>\n      <th>0</th>\n      <td>황금후라이드</td>\n      <td>12000</td>\n      <td>10호</td>\n      <td>1000.0</td>\n      <td>0.2</td>\n      <td>9600.0</td>\n      <td>국내산</td>\n    </tr>\n    <tr>\n      <th>1</th>\n      <td>승일양념치킨</td>\n      <td>13000</td>\n      <td>10호</td>\n      <td>1400.0</td>\n      <td>0.2</td>\n      <td>10400.0</td>\n      <td>NaN</td>\n    </tr>\n    <tr>\n      <th>2</th>\n      <td>간장치킨</td>\n      <td>14000</td>\n      <td>9호</td>\n      <td>1600.0</td>\n      <td>0.2</td>\n      <td>11200.0</td>\n      <td>NaN</td>\n    </tr>\n    <tr>\n      <th>3</th>\n      <td>마늘치킨</td>\n      <td>14000</td>\n      <td>9호</td>\n      <td>1800.0</td>\n      <td>0.2</td>\n      <td>11200.0</td>\n      <td>NaN</td>\n    </tr>\n    <tr>\n      <th>4</th>\n      <td>파닭</td>\n      <td>14000</td>\n      <td>11호</td>\n      <td>1300.0</td>\n      <td>0.2</td>\n      <td>11200.0</td>\n      <td>브라질</td>\n    </tr>\n    <tr>\n      <th>5</th>\n      <td>닭강정</td>\n      <td>15000</td>\n      <td>12호</td>\n      <td>1500.0</td>\n      <td>0.2</td>\n      <td>12000.0</td>\n      <td>브라질</td>\n    </tr>\n    <tr>\n      <th>6</th>\n      <td>양념반후라이드반</td>\n      <td>13000</td>\n      <td>10호</td>\n      <td>1300.0</td>\n      <td>0.2</td>\n      <td>10400.0</td>\n      <td>NaN</td>\n    </tr>\n    <tr>\n      <th>7</th>\n      <td>[인기]아이펠치킨</td>\n      <td>16000</td>\n      <td>11호</td>\n      <td>1200.0</td>\n      <td>0.5</td>\n      <td>8000.0</td>\n      <td>국내산</td>\n    </tr>\n    <tr>\n      <th>8</th>\n      <td>[베스트]풀잎치킨</td>\n      <td>9900</td>\n      <td>10호</td>\n      <td>NaN</td>\n      <td>NaN</td>\n      <td>NaN</td>\n      <td>NaN</td>\n    </tr>\n  </tbody>\n</table>\n</div>"
     },
     "execution_count": 19,
     "metadata": {},
     "output_type": "execute_result"
    }
   ],
   "source": [
    "# 데이터 삭제(컬럼(열 : Unnamed: 0) 삭제),drop(axis=1)\n",
    "# axis=1 : 컬럼(열) 삭제 / axis=0 : 로우(행) 삭제\n",
    "df2 = df2.drop('Unnamed: 0', axis=1)\n",
    "df2"
   ],
   "metadata": {
    "collapsed": false,
    "ExecuteTime": {
     "end_time": "2023-07-11T01:59:49.307860Z",
     "start_time": "2023-07-11T01:59:49.252515Z"
    }
   }
  },
  {
   "cell_type": "code",
   "execution_count": 20,
   "outputs": [
    {
     "data": {
      "text/plain": "          메뉴     가격   호수     칼로리  할인율      할인가  원산지\n0     황금후라이드  12000  10호  1000.0  0.2   9600.0  국내산\n1     승일양념치킨  13000  10호  1400.0  0.2  10400.0  NaN\n2       간장치킨  14000   9호  1600.0  0.2  11200.0  NaN\n3       마늘치킨  14000   9호  1800.0  0.2  11200.0  NaN\n4         파닭  14000  11호  1300.0  0.2  11200.0  브라질\n5        닭강정  15000  12호  1500.0  0.2  12000.0  브라질\n6   양념반후라이드반  13000  10호  1300.0  0.2  10400.0  NaN\n7  [인기]아이펠치킨  16000  11호  1200.0  0.5   8000.0  국내산\n8  [베스트]풀잎치킨   9900  10호     NaN  NaN      NaN  NaN",
      "text/html": "<div>\n<style scoped>\n    .dataframe tbody tr th:only-of-type {\n        vertical-align: middle;\n    }\n\n    .dataframe tbody tr th {\n        vertical-align: top;\n    }\n\n    .dataframe thead th {\n        text-align: right;\n    }\n</style>\n<table border=\"1\" class=\"dataframe\">\n  <thead>\n    <tr style=\"text-align: right;\">\n      <th></th>\n      <th>메뉴</th>\n      <th>가격</th>\n      <th>호수</th>\n      <th>칼로리</th>\n      <th>할인율</th>\n      <th>할인가</th>\n      <th>원산지</th>\n    </tr>\n  </thead>\n  <tbody>\n    <tr>\n      <th>0</th>\n      <td>황금후라이드</td>\n      <td>12000</td>\n      <td>10호</td>\n      <td>1000.0</td>\n      <td>0.2</td>\n      <td>9600.0</td>\n      <td>국내산</td>\n    </tr>\n    <tr>\n      <th>1</th>\n      <td>승일양념치킨</td>\n      <td>13000</td>\n      <td>10호</td>\n      <td>1400.0</td>\n      <td>0.2</td>\n      <td>10400.0</td>\n      <td>NaN</td>\n    </tr>\n    <tr>\n      <th>2</th>\n      <td>간장치킨</td>\n      <td>14000</td>\n      <td>9호</td>\n      <td>1600.0</td>\n      <td>0.2</td>\n      <td>11200.0</td>\n      <td>NaN</td>\n    </tr>\n    <tr>\n      <th>3</th>\n      <td>마늘치킨</td>\n      <td>14000</td>\n      <td>9호</td>\n      <td>1800.0</td>\n      <td>0.2</td>\n      <td>11200.0</td>\n      <td>NaN</td>\n    </tr>\n    <tr>\n      <th>4</th>\n      <td>파닭</td>\n      <td>14000</td>\n      <td>11호</td>\n      <td>1300.0</td>\n      <td>0.2</td>\n      <td>11200.0</td>\n      <td>브라질</td>\n    </tr>\n    <tr>\n      <th>5</th>\n      <td>닭강정</td>\n      <td>15000</td>\n      <td>12호</td>\n      <td>1500.0</td>\n      <td>0.2</td>\n      <td>12000.0</td>\n      <td>브라질</td>\n    </tr>\n    <tr>\n      <th>6</th>\n      <td>양념반후라이드반</td>\n      <td>13000</td>\n      <td>10호</td>\n      <td>1300.0</td>\n      <td>0.2</td>\n      <td>10400.0</td>\n      <td>NaN</td>\n    </tr>\n    <tr>\n      <th>7</th>\n      <td>[인기]아이펠치킨</td>\n      <td>16000</td>\n      <td>11호</td>\n      <td>1200.0</td>\n      <td>0.5</td>\n      <td>8000.0</td>\n      <td>국내산</td>\n    </tr>\n    <tr>\n      <th>8</th>\n      <td>[베스트]풀잎치킨</td>\n      <td>9900</td>\n      <td>10호</td>\n      <td>NaN</td>\n      <td>NaN</td>\n      <td>NaN</td>\n      <td>NaN</td>\n    </tr>\n  </tbody>\n</table>\n</div>"
     },
     "execution_count": 20,
     "metadata": {},
     "output_type": "execute_result"
    }
   ],
   "source": [
    "# 데이터 삭제(컬럼:Unnamed: 0) drop(columns=[])\n",
    "df2 = df.copy()\n",
    "df2 = df2.drop(columns=['Unnamed: 0',])\n",
    "df2"
   ],
   "metadata": {
    "collapsed": false,
    "ExecuteTime": {
     "end_time": "2023-07-11T01:59:49.308272Z",
     "start_time": "2023-07-11T01:59:49.271394Z"
    }
   }
  },
  {
   "cell_type": "code",
   "execution_count": 21,
   "outputs": [
    {
     "data": {
      "text/plain": "  Unnamed: 0         메뉴     가격   호수     칼로리  할인율      할인가  원산지\n0          0     황금후라이드  12000  10호  1000.0  0.2   9600.0  국내산\n1          1     승일양념치킨  13000  10호  1400.0  0.2  10400.0  NaN\n2          2       간장치킨  14000   9호  1600.0  0.2  11200.0  NaN\n3          3       마늘치킨  14000   9호  1800.0  0.2  11200.0  NaN\n4          4         파닭  14000  11호  1300.0  0.2  11200.0  브라질\n5          5        닭강정  15000  12호  1500.0  0.2  12000.0  브라질\n6          6   양념반후라이드반  13000  10호  1300.0  0.2  10400.0  NaN\n7        new  [인기]아이펠치킨  16000  11호  1200.0  0.5   8000.0  국내산\n8         10  [베스트]풀잎치킨   9900  10호     NaN  NaN      NaN  NaN",
      "text/html": "<div>\n<style scoped>\n    .dataframe tbody tr th:only-of-type {\n        vertical-align: middle;\n    }\n\n    .dataframe tbody tr th {\n        vertical-align: top;\n    }\n\n    .dataframe thead th {\n        text-align: right;\n    }\n</style>\n<table border=\"1\" class=\"dataframe\">\n  <thead>\n    <tr style=\"text-align: right;\">\n      <th></th>\n      <th>Unnamed: 0</th>\n      <th>메뉴</th>\n      <th>가격</th>\n      <th>호수</th>\n      <th>칼로리</th>\n      <th>할인율</th>\n      <th>할인가</th>\n      <th>원산지</th>\n    </tr>\n  </thead>\n  <tbody>\n    <tr>\n      <th>0</th>\n      <td>0</td>\n      <td>황금후라이드</td>\n      <td>12000</td>\n      <td>10호</td>\n      <td>1000.0</td>\n      <td>0.2</td>\n      <td>9600.0</td>\n      <td>국내산</td>\n    </tr>\n    <tr>\n      <th>1</th>\n      <td>1</td>\n      <td>승일양념치킨</td>\n      <td>13000</td>\n      <td>10호</td>\n      <td>1400.0</td>\n      <td>0.2</td>\n      <td>10400.0</td>\n      <td>NaN</td>\n    </tr>\n    <tr>\n      <th>2</th>\n      <td>2</td>\n      <td>간장치킨</td>\n      <td>14000</td>\n      <td>9호</td>\n      <td>1600.0</td>\n      <td>0.2</td>\n      <td>11200.0</td>\n      <td>NaN</td>\n    </tr>\n    <tr>\n      <th>3</th>\n      <td>3</td>\n      <td>마늘치킨</td>\n      <td>14000</td>\n      <td>9호</td>\n      <td>1800.0</td>\n      <td>0.2</td>\n      <td>11200.0</td>\n      <td>NaN</td>\n    </tr>\n    <tr>\n      <th>4</th>\n      <td>4</td>\n      <td>파닭</td>\n      <td>14000</td>\n      <td>11호</td>\n      <td>1300.0</td>\n      <td>0.2</td>\n      <td>11200.0</td>\n      <td>브라질</td>\n    </tr>\n    <tr>\n      <th>5</th>\n      <td>5</td>\n      <td>닭강정</td>\n      <td>15000</td>\n      <td>12호</td>\n      <td>1500.0</td>\n      <td>0.2</td>\n      <td>12000.0</td>\n      <td>브라질</td>\n    </tr>\n    <tr>\n      <th>6</th>\n      <td>6</td>\n      <td>양념반후라이드반</td>\n      <td>13000</td>\n      <td>10호</td>\n      <td>1300.0</td>\n      <td>0.2</td>\n      <td>10400.0</td>\n      <td>NaN</td>\n    </tr>\n    <tr>\n      <th>7</th>\n      <td>new</td>\n      <td>[인기]아이펠치킨</td>\n      <td>16000</td>\n      <td>11호</td>\n      <td>1200.0</td>\n      <td>0.5</td>\n      <td>8000.0</td>\n      <td>국내산</td>\n    </tr>\n    <tr>\n      <th>8</th>\n      <td>10</td>\n      <td>[베스트]풀잎치킨</td>\n      <td>9900</td>\n      <td>10호</td>\n      <td>NaN</td>\n      <td>NaN</td>\n      <td>NaN</td>\n      <td>NaN</td>\n    </tr>\n  </tbody>\n</table>\n</div>"
     },
     "execution_count": 21,
     "metadata": {},
     "output_type": "execute_result"
    }
   ],
   "source": [
    "# 데이터 복사(data -> df)\n",
    "data = df.copy()\n",
    "data"
   ],
   "metadata": {
    "collapsed": false,
    "ExecuteTime": {
     "end_time": "2023-07-11T01:59:49.308767Z",
     "start_time": "2023-07-11T01:59:49.274358Z"
    }
   }
  },
  {
   "cell_type": "code",
   "execution_count": 22,
   "outputs": [
    {
     "data": {
      "text/plain": "  Unnamed: 0         메뉴     가격   호수     칼로리  할인율      할인가  원산지\n0          0     황금후라이드  12000  10호  1000.0  0.2   9600.0  국내산\n1          1     승일양념치킨  13000  10호  1400.0  0.2  10400.0  NaN\n2          2       간장치킨  14000   9호  1600.0  0.2  11200.0  NaN\n3          3       마늘치킨  14000   9호  1800.0  0.2  11200.0  NaN\n5          5        닭강정  15000  12호  1500.0  0.2  12000.0  브라질\n6          6   양념반후라이드반  13000  10호  1300.0  0.2  10400.0  NaN\n7        new  [인기]아이펠치킨  16000  11호  1200.0  0.5   8000.0  국내산\n8         10  [베스트]풀잎치킨   9900  10호     NaN  NaN      NaN  NaN",
      "text/html": "<div>\n<style scoped>\n    .dataframe tbody tr th:only-of-type {\n        vertical-align: middle;\n    }\n\n    .dataframe tbody tr th {\n        vertical-align: top;\n    }\n\n    .dataframe thead th {\n        text-align: right;\n    }\n</style>\n<table border=\"1\" class=\"dataframe\">\n  <thead>\n    <tr style=\"text-align: right;\">\n      <th></th>\n      <th>Unnamed: 0</th>\n      <th>메뉴</th>\n      <th>가격</th>\n      <th>호수</th>\n      <th>칼로리</th>\n      <th>할인율</th>\n      <th>할인가</th>\n      <th>원산지</th>\n    </tr>\n  </thead>\n  <tbody>\n    <tr>\n      <th>0</th>\n      <td>0</td>\n      <td>황금후라이드</td>\n      <td>12000</td>\n      <td>10호</td>\n      <td>1000.0</td>\n      <td>0.2</td>\n      <td>9600.0</td>\n      <td>국내산</td>\n    </tr>\n    <tr>\n      <th>1</th>\n      <td>1</td>\n      <td>승일양념치킨</td>\n      <td>13000</td>\n      <td>10호</td>\n      <td>1400.0</td>\n      <td>0.2</td>\n      <td>10400.0</td>\n      <td>NaN</td>\n    </tr>\n    <tr>\n      <th>2</th>\n      <td>2</td>\n      <td>간장치킨</td>\n      <td>14000</td>\n      <td>9호</td>\n      <td>1600.0</td>\n      <td>0.2</td>\n      <td>11200.0</td>\n      <td>NaN</td>\n    </tr>\n    <tr>\n      <th>3</th>\n      <td>3</td>\n      <td>마늘치킨</td>\n      <td>14000</td>\n      <td>9호</td>\n      <td>1800.0</td>\n      <td>0.2</td>\n      <td>11200.0</td>\n      <td>NaN</td>\n    </tr>\n    <tr>\n      <th>5</th>\n      <td>5</td>\n      <td>닭강정</td>\n      <td>15000</td>\n      <td>12호</td>\n      <td>1500.0</td>\n      <td>0.2</td>\n      <td>12000.0</td>\n      <td>브라질</td>\n    </tr>\n    <tr>\n      <th>6</th>\n      <td>6</td>\n      <td>양념반후라이드반</td>\n      <td>13000</td>\n      <td>10호</td>\n      <td>1300.0</td>\n      <td>0.2</td>\n      <td>10400.0</td>\n      <td>NaN</td>\n    </tr>\n    <tr>\n      <th>7</th>\n      <td>new</td>\n      <td>[인기]아이펠치킨</td>\n      <td>16000</td>\n      <td>11호</td>\n      <td>1200.0</td>\n      <td>0.5</td>\n      <td>8000.0</td>\n      <td>국내산</td>\n    </tr>\n    <tr>\n      <th>8</th>\n      <td>10</td>\n      <td>[베스트]풀잎치킨</td>\n      <td>9900</td>\n      <td>10호</td>\n      <td>NaN</td>\n      <td>NaN</td>\n      <td>NaN</td>\n      <td>NaN</td>\n    </tr>\n  </tbody>\n</table>\n</div>"
     },
     "execution_count": 22,
     "metadata": {},
     "output_type": "execute_result"
    }
   ],
   "source": [
    "# 데이터 삭제(로우(행) 삭제, 파닭), drop(axis=0)\n",
    "data = data.drop(4, axis=0)\n",
    "data"
   ],
   "metadata": {
    "collapsed": false,
    "ExecuteTime": {
     "end_time": "2023-07-11T01:59:49.357243Z",
     "start_time": "2023-07-11T01:59:49.297385Z"
    }
   }
  },
  {
   "cell_type": "code",
   "execution_count": 23,
   "outputs": [
    {
     "data": {
      "text/plain": "  Unnamed: 0         메뉴     가격   호수     칼로리  할인율      할인가  원산지\n0          0     황금후라이드  12000  10호  1000.0  0.2   9600.0  국내산\n1          1     승일양념치킨  13000  10호  1400.0  0.2  10400.0  NaN\n2          2       간장치킨  14000   9호  1600.0  0.2  11200.0  NaN\n3          3       마늘치킨  14000   9호  1800.0  0.2  11200.0  NaN\n5          5        닭강정  15000  12호  1500.0  0.2  12000.0  브라질\n7        new  [인기]아이펠치킨  16000  11호  1200.0  0.5   8000.0  국내산\n8         10  [베스트]풀잎치킨   9900  10호     NaN  NaN      NaN  NaN",
      "text/html": "<div>\n<style scoped>\n    .dataframe tbody tr th:only-of-type {\n        vertical-align: middle;\n    }\n\n    .dataframe tbody tr th {\n        vertical-align: top;\n    }\n\n    .dataframe thead th {\n        text-align: right;\n    }\n</style>\n<table border=\"1\" class=\"dataframe\">\n  <thead>\n    <tr style=\"text-align: right;\">\n      <th></th>\n      <th>Unnamed: 0</th>\n      <th>메뉴</th>\n      <th>가격</th>\n      <th>호수</th>\n      <th>칼로리</th>\n      <th>할인율</th>\n      <th>할인가</th>\n      <th>원산지</th>\n    </tr>\n  </thead>\n  <tbody>\n    <tr>\n      <th>0</th>\n      <td>0</td>\n      <td>황금후라이드</td>\n      <td>12000</td>\n      <td>10호</td>\n      <td>1000.0</td>\n      <td>0.2</td>\n      <td>9600.0</td>\n      <td>국내산</td>\n    </tr>\n    <tr>\n      <th>1</th>\n      <td>1</td>\n      <td>승일양념치킨</td>\n      <td>13000</td>\n      <td>10호</td>\n      <td>1400.0</td>\n      <td>0.2</td>\n      <td>10400.0</td>\n      <td>NaN</td>\n    </tr>\n    <tr>\n      <th>2</th>\n      <td>2</td>\n      <td>간장치킨</td>\n      <td>14000</td>\n      <td>9호</td>\n      <td>1600.0</td>\n      <td>0.2</td>\n      <td>11200.0</td>\n      <td>NaN</td>\n    </tr>\n    <tr>\n      <th>3</th>\n      <td>3</td>\n      <td>마늘치킨</td>\n      <td>14000</td>\n      <td>9호</td>\n      <td>1800.0</td>\n      <td>0.2</td>\n      <td>11200.0</td>\n      <td>NaN</td>\n    </tr>\n    <tr>\n      <th>5</th>\n      <td>5</td>\n      <td>닭강정</td>\n      <td>15000</td>\n      <td>12호</td>\n      <td>1500.0</td>\n      <td>0.2</td>\n      <td>12000.0</td>\n      <td>브라질</td>\n    </tr>\n    <tr>\n      <th>7</th>\n      <td>new</td>\n      <td>[인기]아이펠치킨</td>\n      <td>16000</td>\n      <td>11호</td>\n      <td>1200.0</td>\n      <td>0.5</td>\n      <td>8000.0</td>\n      <td>국내산</td>\n    </tr>\n    <tr>\n      <th>8</th>\n      <td>10</td>\n      <td>[베스트]풀잎치킨</td>\n      <td>9900</td>\n      <td>10호</td>\n      <td>NaN</td>\n      <td>NaN</td>\n      <td>NaN</td>\n      <td>NaN</td>\n    </tr>\n  </tbody>\n</table>\n</div>"
     },
     "execution_count": 23,
     "metadata": {},
     "output_type": "execute_result"
    }
   ],
   "source": [
    "# 데이터 삭제(로우(행) 삭제, 양념반후라이드반), inplace=True)\n",
    "data.drop(6, axis=0, inplace=True) # inplace=True : 원본 데이터에 적용, 대입없이 바로 삭제 가능(data = 의 형식 불필요)\n",
    "data"
   ],
   "metadata": {
    "collapsed": false,
    "ExecuteTime": {
     "end_time": "2023-07-11T01:59:49.378416Z",
     "start_time": "2023-07-11T01:59:49.302260Z"
    }
   }
  },
  {
   "cell_type": "code",
   "execution_count": 24,
   "outputs": [],
   "source": [
    "#행삭제 (조건:가격>=14000)\n",
    "# cond = data['가격'] >= 14000\n",
    "# data.drop(data[cond].index, axis=0, inplace=True)\n",
    "# data"
   ],
   "metadata": {
    "collapsed": false,
    "ExecuteTime": {
     "end_time": "2023-07-11T01:59:49.378651Z",
     "start_time": "2023-07-11T01:59:49.313500Z"
    }
   }
  },
  {
   "cell_type": "code",
   "execution_count": 25,
   "outputs": [
    {
     "data": {
      "text/plain": "Int64Index([2, 3, 5, 7], dtype='int64')"
     },
     "execution_count": 25,
     "metadata": {},
     "output_type": "execute_result"
    }
   ],
   "source": [
    "# 행삭제(조건:가격>=14000)\n",
    "cond = data['가격'] >= 14000\n",
    "# 몇번 인덱스가 해당하는지 확인\n",
    "data[cond].index"
   ],
   "metadata": {
    "collapsed": false,
    "ExecuteTime": {
     "end_time": "2023-07-11T01:59:49.378925Z",
     "start_time": "2023-07-11T01:59:49.318383Z"
    }
   }
  },
  {
   "cell_type": "code",
   "execution_count": 28,
   "outputs": [
    {
     "name": "stderr",
     "output_type": "stream",
     "text": [
      "/var/folders/jd/qspsq8mn2db0y77ryp1w10_c0000gp/T/ipykernel_7867/3723913949.py:2: UserWarning: Boolean Series key will be reindexed to match DataFrame index.\n",
      "  data.drop(data[cond].index, axis=0, inplace=True)\n"
     ]
    },
    {
     "data": {
      "text/plain": "  Unnamed: 0         메뉴     가격   호수     칼로리  할인율      할인가  원산지\n0          0     황금후라이드  12000  10호  1000.0  0.2   9600.0  국내산\n1          1     승일양념치킨  13000  10호  1400.0  0.2  10400.0  NaN\n8         10  [베스트]풀잎치킨   9900  10호     NaN  NaN      NaN  NaN",
      "text/html": "<div>\n<style scoped>\n    .dataframe tbody tr th:only-of-type {\n        vertical-align: middle;\n    }\n\n    .dataframe tbody tr th {\n        vertical-align: top;\n    }\n\n    .dataframe thead th {\n        text-align: right;\n    }\n</style>\n<table border=\"1\" class=\"dataframe\">\n  <thead>\n    <tr style=\"text-align: right;\">\n      <th></th>\n      <th>Unnamed: 0</th>\n      <th>메뉴</th>\n      <th>가격</th>\n      <th>호수</th>\n      <th>칼로리</th>\n      <th>할인율</th>\n      <th>할인가</th>\n      <th>원산지</th>\n    </tr>\n  </thead>\n  <tbody>\n    <tr>\n      <th>0</th>\n      <td>0</td>\n      <td>황금후라이드</td>\n      <td>12000</td>\n      <td>10호</td>\n      <td>1000.0</td>\n      <td>0.2</td>\n      <td>9600.0</td>\n      <td>국내산</td>\n    </tr>\n    <tr>\n      <th>1</th>\n      <td>1</td>\n      <td>승일양념치킨</td>\n      <td>13000</td>\n      <td>10호</td>\n      <td>1400.0</td>\n      <td>0.2</td>\n      <td>10400.0</td>\n      <td>NaN</td>\n    </tr>\n    <tr>\n      <th>8</th>\n      <td>10</td>\n      <td>[베스트]풀잎치킨</td>\n      <td>9900</td>\n      <td>10호</td>\n      <td>NaN</td>\n      <td>NaN</td>\n      <td>NaN</td>\n      <td>NaN</td>\n    </tr>\n  </tbody>\n</table>\n</div>"
     },
     "execution_count": 28,
     "metadata": {},
     "output_type": "execute_result"
    }
   ],
   "source": [
    "#행삭제(해당인덱스 명)\n",
    "data.drop(data[cond].index, axis=0, inplace=True)\n",
    "data"
   ],
   "metadata": {
    "collapsed": false,
    "ExecuteTime": {
     "end_time": "2023-07-11T02:00:20.017824Z",
     "start_time": "2023-07-11T02:00:20.010056Z"
    }
   }
  },
  {
   "cell_type": "code",
   "execution_count": 31,
   "outputs": [
    {
     "data": {
      "text/plain": "          메뉴     가격   호수     칼로리  할인율      할인가  원산지\n0     황금후라이드  12000  10호  1000.0  0.2   9600.0  국내산\n1     승일양념치킨  13000  10호  1400.0  0.2  10400.0  NaN\n8  [베스트]풀잎치킨   9900  10호     NaN  NaN      NaN  NaN",
      "text/html": "<div>\n<style scoped>\n    .dataframe tbody tr th:only-of-type {\n        vertical-align: middle;\n    }\n\n    .dataframe tbody tr th {\n        vertical-align: top;\n    }\n\n    .dataframe thead th {\n        text-align: right;\n    }\n</style>\n<table border=\"1\" class=\"dataframe\">\n  <thead>\n    <tr style=\"text-align: right;\">\n      <th></th>\n      <th>메뉴</th>\n      <th>가격</th>\n      <th>호수</th>\n      <th>칼로리</th>\n      <th>할인율</th>\n      <th>할인가</th>\n      <th>원산지</th>\n    </tr>\n  </thead>\n  <tbody>\n    <tr>\n      <th>0</th>\n      <td>황금후라이드</td>\n      <td>12000</td>\n      <td>10호</td>\n      <td>1000.0</td>\n      <td>0.2</td>\n      <td>9600.0</td>\n      <td>국내산</td>\n    </tr>\n    <tr>\n      <th>1</th>\n      <td>승일양념치킨</td>\n      <td>13000</td>\n      <td>10호</td>\n      <td>1400.0</td>\n      <td>0.2</td>\n      <td>10400.0</td>\n      <td>NaN</td>\n    </tr>\n    <tr>\n      <th>8</th>\n      <td>[베스트]풀잎치킨</td>\n      <td>9900</td>\n      <td>10호</td>\n      <td>NaN</td>\n      <td>NaN</td>\n      <td>NaN</td>\n      <td>NaN</td>\n    </tr>\n  </tbody>\n</table>\n</div>"
     },
     "execution_count": 31,
     "metadata": {},
     "output_type": "execute_result"
    }
   ],
   "source": [
    "data = data.drop('Unnamed: 0', axis=1)\n",
    "data"
   ],
   "metadata": {
    "collapsed": false,
    "ExecuteTime": {
     "end_time": "2023-07-11T02:02:05.857920Z",
     "start_time": "2023-07-11T02:02:05.854645Z"
    }
   }
  },
  {
   "cell_type": "code",
   "execution_count": 41,
   "outputs": [
    {
     "data": {
      "text/plain": "  Unnamed: 0         메뉴     가격   호수     칼로리  할인율      할인가  원산지\n0          0     황금후라이드  12000  10호  1000.0  0.2   9600.0  국내산\n1          1     승일양념치킨  13000  10호  1400.0  0.2  10400.0  NaN\n2          2       간장치킨  14000   9호  1600.0  0.2  11200.0  NaN\n3          3       마늘치킨  14000   9호  1800.0  0.2  11200.0  NaN\n4          4         파닭  14000  11호  1300.0  0.2  11200.0  브라질\n5          5        닭강정  15000  12호  1500.0  0.2  12000.0  브라질\n6          6   양념반후라이드반  13000  10호  1300.0  0.2  10400.0  NaN\n7        new  [인기]아이펠치킨  16000  11호  1200.0  0.5   8000.0  국내산\n8         10  [베스트]풀잎치킨   9900  10호     NaN  NaN      NaN  NaN",
      "text/html": "<div>\n<style scoped>\n    .dataframe tbody tr th:only-of-type {\n        vertical-align: middle;\n    }\n\n    .dataframe tbody tr th {\n        vertical-align: top;\n    }\n\n    .dataframe thead th {\n        text-align: right;\n    }\n</style>\n<table border=\"1\" class=\"dataframe\">\n  <thead>\n    <tr style=\"text-align: right;\">\n      <th></th>\n      <th>Unnamed: 0</th>\n      <th>메뉴</th>\n      <th>가격</th>\n      <th>호수</th>\n      <th>칼로리</th>\n      <th>할인율</th>\n      <th>할인가</th>\n      <th>원산지</th>\n    </tr>\n  </thead>\n  <tbody>\n    <tr>\n      <th>0</th>\n      <td>0</td>\n      <td>황금후라이드</td>\n      <td>12000</td>\n      <td>10호</td>\n      <td>1000.0</td>\n      <td>0.2</td>\n      <td>9600.0</td>\n      <td>국내산</td>\n    </tr>\n    <tr>\n      <th>1</th>\n      <td>1</td>\n      <td>승일양념치킨</td>\n      <td>13000</td>\n      <td>10호</td>\n      <td>1400.0</td>\n      <td>0.2</td>\n      <td>10400.0</td>\n      <td>NaN</td>\n    </tr>\n    <tr>\n      <th>2</th>\n      <td>2</td>\n      <td>간장치킨</td>\n      <td>14000</td>\n      <td>9호</td>\n      <td>1600.0</td>\n      <td>0.2</td>\n      <td>11200.0</td>\n      <td>NaN</td>\n    </tr>\n    <tr>\n      <th>3</th>\n      <td>3</td>\n      <td>마늘치킨</td>\n      <td>14000</td>\n      <td>9호</td>\n      <td>1800.0</td>\n      <td>0.2</td>\n      <td>11200.0</td>\n      <td>NaN</td>\n    </tr>\n    <tr>\n      <th>4</th>\n      <td>4</td>\n      <td>파닭</td>\n      <td>14000</td>\n      <td>11호</td>\n      <td>1300.0</td>\n      <td>0.2</td>\n      <td>11200.0</td>\n      <td>브라질</td>\n    </tr>\n    <tr>\n      <th>5</th>\n      <td>5</td>\n      <td>닭강정</td>\n      <td>15000</td>\n      <td>12호</td>\n      <td>1500.0</td>\n      <td>0.2</td>\n      <td>12000.0</td>\n      <td>브라질</td>\n    </tr>\n    <tr>\n      <th>6</th>\n      <td>6</td>\n      <td>양념반후라이드반</td>\n      <td>13000</td>\n      <td>10호</td>\n      <td>1300.0</td>\n      <td>0.2</td>\n      <td>10400.0</td>\n      <td>NaN</td>\n    </tr>\n    <tr>\n      <th>7</th>\n      <td>new</td>\n      <td>[인기]아이펠치킨</td>\n      <td>16000</td>\n      <td>11호</td>\n      <td>1200.0</td>\n      <td>0.5</td>\n      <td>8000.0</td>\n      <td>국내산</td>\n    </tr>\n    <tr>\n      <th>8</th>\n      <td>10</td>\n      <td>[베스트]풀잎치킨</td>\n      <td>9900</td>\n      <td>10호</td>\n      <td>NaN</td>\n      <td>NaN</td>\n      <td>NaN</td>\n      <td>NaN</td>\n    </tr>\n  </tbody>\n</table>\n</div>"
     },
     "execution_count": 41,
     "metadata": {},
     "output_type": "execute_result"
    }
   ],
   "source": [
    "#결측치 처리\n",
    "\n",
    "#결측치 삭제\n",
    "\n",
    "#데이터 프레임 복사\n",
    "data = df.copy()\n",
    "data"
   ],
   "metadata": {
    "collapsed": false,
    "ExecuteTime": {
     "end_time": "2023-07-11T02:43:38.596750Z",
     "start_time": "2023-07-11T02:43:38.586840Z"
    }
   }
  },
  {
   "cell_type": "code",
   "execution_count": 44,
   "outputs": [
    {
     "data": {
      "text/plain": "  Unnamed: 0         메뉴     가격   호수     칼로리  할인율      할인가  원산지\n0          0     황금후라이드  12000  10호  1000.0  0.2   9600.0  국내산\n4          4         파닭  14000  11호  1300.0  0.2  11200.0  브라질\n5          5        닭강정  15000  12호  1500.0  0.2  12000.0  브라질\n7        new  [인기]아이펠치킨  16000  11호  1200.0  0.5   8000.0  국내산",
      "text/html": "<div>\n<style scoped>\n    .dataframe tbody tr th:only-of-type {\n        vertical-align: middle;\n    }\n\n    .dataframe tbody tr th {\n        vertical-align: top;\n    }\n\n    .dataframe thead th {\n        text-align: right;\n    }\n</style>\n<table border=\"1\" class=\"dataframe\">\n  <thead>\n    <tr style=\"text-align: right;\">\n      <th></th>\n      <th>Unnamed: 0</th>\n      <th>메뉴</th>\n      <th>가격</th>\n      <th>호수</th>\n      <th>칼로리</th>\n      <th>할인율</th>\n      <th>할인가</th>\n      <th>원산지</th>\n    </tr>\n  </thead>\n  <tbody>\n    <tr>\n      <th>0</th>\n      <td>0</td>\n      <td>황금후라이드</td>\n      <td>12000</td>\n      <td>10호</td>\n      <td>1000.0</td>\n      <td>0.2</td>\n      <td>9600.0</td>\n      <td>국내산</td>\n    </tr>\n    <tr>\n      <th>4</th>\n      <td>4</td>\n      <td>파닭</td>\n      <td>14000</td>\n      <td>11호</td>\n      <td>1300.0</td>\n      <td>0.2</td>\n      <td>11200.0</td>\n      <td>브라질</td>\n    </tr>\n    <tr>\n      <th>5</th>\n      <td>5</td>\n      <td>닭강정</td>\n      <td>15000</td>\n      <td>12호</td>\n      <td>1500.0</td>\n      <td>0.2</td>\n      <td>12000.0</td>\n      <td>브라질</td>\n    </tr>\n    <tr>\n      <th>7</th>\n      <td>new</td>\n      <td>[인기]아이펠치킨</td>\n      <td>16000</td>\n      <td>11호</td>\n      <td>1200.0</td>\n      <td>0.5</td>\n      <td>8000.0</td>\n      <td>국내산</td>\n    </tr>\n  </tbody>\n</table>\n</div>"
     },
     "execution_count": 44,
     "metadata": {},
     "output_type": "execute_result"
    }
   ],
   "source": [
    "#결측치가 있는 모든 행 삭제\n",
    "data.dropna(axis=0)"
   ],
   "metadata": {
    "collapsed": false,
    "ExecuteTime": {
     "end_time": "2023-07-11T02:44:08.039053Z",
     "start_time": "2023-07-11T02:44:08.035269Z"
    }
   }
  },
  {
   "cell_type": "code",
   "execution_count": 45,
   "outputs": [
    {
     "data": {
      "text/plain": "  Unnamed: 0         메뉴     가격   호수\n0          0     황금후라이드  12000  10호\n1          1     승일양념치킨  13000  10호\n2          2       간장치킨  14000   9호\n3          3       마늘치킨  14000   9호\n4          4         파닭  14000  11호\n5          5        닭강정  15000  12호\n6          6   양념반후라이드반  13000  10호\n7        new  [인기]아이펠치킨  16000  11호\n8         10  [베스트]풀잎치킨   9900  10호",
      "text/html": "<div>\n<style scoped>\n    .dataframe tbody tr th:only-of-type {\n        vertical-align: middle;\n    }\n\n    .dataframe tbody tr th {\n        vertical-align: top;\n    }\n\n    .dataframe thead th {\n        text-align: right;\n    }\n</style>\n<table border=\"1\" class=\"dataframe\">\n  <thead>\n    <tr style=\"text-align: right;\">\n      <th></th>\n      <th>Unnamed: 0</th>\n      <th>메뉴</th>\n      <th>가격</th>\n      <th>호수</th>\n    </tr>\n  </thead>\n  <tbody>\n    <tr>\n      <th>0</th>\n      <td>0</td>\n      <td>황금후라이드</td>\n      <td>12000</td>\n      <td>10호</td>\n    </tr>\n    <tr>\n      <th>1</th>\n      <td>1</td>\n      <td>승일양념치킨</td>\n      <td>13000</td>\n      <td>10호</td>\n    </tr>\n    <tr>\n      <th>2</th>\n      <td>2</td>\n      <td>간장치킨</td>\n      <td>14000</td>\n      <td>9호</td>\n    </tr>\n    <tr>\n      <th>3</th>\n      <td>3</td>\n      <td>마늘치킨</td>\n      <td>14000</td>\n      <td>9호</td>\n    </tr>\n    <tr>\n      <th>4</th>\n      <td>4</td>\n      <td>파닭</td>\n      <td>14000</td>\n      <td>11호</td>\n    </tr>\n    <tr>\n      <th>5</th>\n      <td>5</td>\n      <td>닭강정</td>\n      <td>15000</td>\n      <td>12호</td>\n    </tr>\n    <tr>\n      <th>6</th>\n      <td>6</td>\n      <td>양념반후라이드반</td>\n      <td>13000</td>\n      <td>10호</td>\n    </tr>\n    <tr>\n      <th>7</th>\n      <td>new</td>\n      <td>[인기]아이펠치킨</td>\n      <td>16000</td>\n      <td>11호</td>\n    </tr>\n    <tr>\n      <th>8</th>\n      <td>10</td>\n      <td>[베스트]풀잎치킨</td>\n      <td>9900</td>\n      <td>10호</td>\n    </tr>\n  </tbody>\n</table>\n</div>"
     },
     "execution_count": 45,
     "metadata": {},
     "output_type": "execute_result"
    }
   ],
   "source": [
    "#결측치가 있는 모든 열 삭제\n",
    "data.dropna(axis=1)"
   ],
   "metadata": {
    "collapsed": false,
    "ExecuteTime": {
     "end_time": "2023-07-11T02:44:13.832911Z",
     "start_time": "2023-07-11T02:44:13.826776Z"
    }
   }
  },
  {
   "cell_type": "code",
   "execution_count": 46,
   "outputs": [],
   "source": [
    "#결측치 채우기\n",
    "\n",
    "#컴럼별 결측치 확인\n",
    "data.isnull().sum()\n"
   ],
   "metadata": {
    "collapsed": false,
    "ExecuteTime": {
     "end_time": "2023-07-11T02:44:47.015215Z",
     "start_time": "2023-07-11T02:44:46.999855Z"
    }
   }
  },
  {
   "cell_type": "code",
   "execution_count": 47,
   "outputs": [],
   "source": [
    "#결측값 채우기\n",
    "# '원산지'->'알수없음'으로 채우기\n",
    "data['원산지'].fillna('알수없음', inplace=True)"
   ],
   "metadata": {
    "collapsed": false,
    "ExecuteTime": {
     "end_time": "2023-07-11T02:45:27.672700Z",
     "start_time": "2023-07-11T02:45:27.666800Z"
    }
   }
  },
  {
   "cell_type": "code",
   "execution_count": 48,
   "outputs": [],
   "source": [
    "# '원산지' 최반값으로 채우기"
   ],
   "metadata": {
    "collapsed": false,
    "ExecuteTime": {
     "end_time": "2023-07-11T02:45:39.919445Z",
     "start_time": "2023-07-11T02:45:39.903309Z"
    }
   }
  },
  {
   "cell_type": "code",
   "execution_count": 49,
   "outputs": [],
   "source": [
    "# '원산지' 채우기 실행"
   ],
   "metadata": {
    "collapsed": false,
    "ExecuteTime": {
     "end_time": "2023-07-11T02:45:51.726409Z",
     "start_time": "2023-07-11T02:45:51.720351Z"
    }
   }
  },
  {
   "cell_type": "code",
   "execution_count": 50,
   "outputs": [],
   "source": [
    "#'칼로리' 컬럼 결측치는 900으로 결측치 채우기"
   ],
   "metadata": {
    "collapsed": false,
    "ExecuteTime": {
     "end_time": "2023-07-11T02:46:08.568432Z",
     "start_time": "2023-07-11T02:46:08.556167Z"
    }
   }
  },
  {
   "cell_type": "code",
   "execution_count": 51,
   "outputs": [],
   "source": [
    "# '칼로리' 컬럼 결측치는 최소값 결측치 채움"
   ],
   "metadata": {
    "collapsed": false,
    "ExecuteTime": {
     "end_time": "2023-07-11T02:46:31.253439Z",
     "start_time": "2023-07-11T02:46:31.235890Z"
    }
   }
  },
  {
   "cell_type": "code",
   "execution_count": null,
   "outputs": [],
   "source": [
    "#칼로리 채우기 실행"
   ],
   "metadata": {
    "collapsed": false
   }
  }
 ],
 "metadata": {
  "kernelspec": {
   "display_name": "Python 3",
   "language": "python",
   "name": "python3"
  },
  "language_info": {
   "codemirror_mode": {
    "name": "ipython",
    "version": 2
   },
   "file_extension": ".py",
   "mimetype": "text/x-python",
   "name": "python",
   "nbconvert_exporter": "python",
   "pygments_lexer": "ipython2",
   "version": "2.7.6"
  }
 },
 "nbformat": 4,
 "nbformat_minor": 0
}
