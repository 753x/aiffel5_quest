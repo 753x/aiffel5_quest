{
 "cells": [
  {
   "cell_type": "markdown",
   "source": [
    "# 9. 이미지 분류\n",
    "\n",
    "## 1. 딥러닝\n",
    "\n",
    "![](./de_01.png)\n",
    "- 출력의 경우 이진분류인지 다중분류인지에 따라 결과가 달라짐\n",
    "\n",
    "- 예측값과 실제값을 손실함수를 통해서 오차를 측정하고 경사하강법과 같은 최적화 알고리즘을 최적의 가중치를 찾고 역전파를 통해 각 레이어마다 가중치를 업데이트해나가면서 반복하는것이 딥러닝의 학습 과정\n",
    "\n",
    "![](./de_02.png)\n",
    "\n",
    "딥러닝은 오버피팅이 자주 발생함. 학습을 하면 할수록 오차가 줄어듬.\n",
    "\n",
    "train data는 학습을하면 할수록 줄어드는데 이것은 이 데이터에 최적화되게 모델이 만들어지고 있다\n",
    "\n",
    "validation은 어느 구간이 되면 validation 오차가 늘어나는데 이부분 부터 오차가 늘어나는 부분이 오버피팅이 발생하는 부분. 딥러닝에서는 이부분을 잘 찾아 내어 종료를 잘 해주어야 함\n",
    "\n",
    "![](./de_03.png)\n",
    "\n"
   ],
   "metadata": {
    "collapsed": false
   }
  },
  {
   "cell_type": "markdown",
   "source": [
    "## 2. 이미지 분류\n",
    "\n",
    "![](./de_04.png)\n",
    "\n",
    "![](./de_05.png)\n",
    "\n",
    "![](./de_06.png)\n",
    "\n",
    "- 시퀀셜 모델은 착착 쌓아서 만든다. flatten은 인풋이 들어왔을때 데이터의 출력을 펼쳐주는 역할\n",
    "\n",
    "![](./de_07.png)\n",
    "\n",
    "- Dense 케라스의 Dense 클래스는 뉴런의 입력과 출력을 연결해주는 역할을 합니다. 예를 들어 입력 뉴런이 128(완전 전개 레이어), 출력 뉴런이 8개라면 총 연결선은 128 x 10 = 1280개 입니다. 각 연결선은 가중치(weight) 를 포함하고 있는데 뉴런의 시냅스처럼 입력 값에 대한 연결 강도와 같습니다.\n",
    "\n",
    "가중치가 높을 수록 입력값이 출력값에 미치는 영향이 커지고, 낮을 수록 영향이 작아집니다. 성별을 판단하는 문제에서, 뉴런의 출력값이 성별이고, 입력값이 머리길이, 키, 혈액형 등이라고 할 때, 머리길이의 가중치가 높고, 키의 가중치는 중간, 혈액형의 가중치는 가장 낮을 것입니다. 딥러닝 학습과정에서는 이러한 가중치들을 계속 조정을 하며 최적값을 찾아나갑니다.\n",
    "\n",
    "Sequential Activation의 종류  - hidden layer(중간)에는 relu를 사용하는것이 일반적\n",
    "\n",
    "- softmax : 다중 클래스 분류 문제에서 출력층에 주로 사용되는 활성화 함수. 출력값들을 0~1 사이의 값으로 만들어주고, 모든 출력값들의 합이 1이 되도록 만들어줍니다. 이 특성으로 인해 출력값들을 확률로 해석할 수 있습니다. (가장 높은 확률값을 선택하게 됨)\n",
    "- sigmoid : 이진 분류 문제에서 출력층에 주로 사용되는 활성화 함수. 출력값을 0~1 사이의 값으로 만들어주고, 0.5를 기준으로 0과 1로 분류할 수 있습니다.\n",
    "- relu : 은닉층에 주로 사용되는 활성화 함수. 입력값이 0보다 작으면 0으로, 0보다 크면 입력값을 그대로 출력합니다.\n",
    "- tanh : 은닉층에 주로 사용되는 활성화 함수. sigmoid와 비슷하지만, 출력값의 범위가 -1 ~ 1 입니다.\n",
    "- linear : 입력값을 그대로 출력합니다.\n",
    "- softmax, sigmoid, tanh는 비선형 함수입니다. 비선형 함수를 사용하지 않으면 딥러닝 층을 여러개 쌓는 의미가 없어지기 때문에, 딥러닝에서는 주로 비선형 함수를 사용합니다.합이 1인 확률로 변환해줌\n",
    "- linear는 선형 함수입니다. 선형 함수는 딥러닝 층을 여러개 쌓는 의미가 없습니다. 따라서, 딥러닝에서는 주로 비선형 함수를 사용합니다.\n",
    "\n",
    "![](./de_08.png)\n",
    "\n",
    "- 옵티마이저는 adam을 많이 쓴다.\n",
    "\n",
    "- 다중분류 모델에서는 sparse_categorical_crossentropy를 사용한다. 이진분류 모델에서는 binary_crossentropy를 사용한다.\n",
    "\n",
    "- metrics는 평가지표를 의미한다. accuracy를 많이 사용한다.\n",
    "\n",
    "![](./de_09.png)\n",
    "\n",
    "- 컴파일이 끝나고 나면 모델을 학습함.\n",
    "\n",
    "- epochs는 학습을 몇번 할지를 의미한다. batch_size는 한번에 몇개의 데이터를 학습할지를 의미한다."
   ],
   "metadata": {
    "collapsed": false
   }
  },
  {
   "cell_type": "code",
   "execution_count": 2,
   "outputs": [
    {
     "name": "stderr",
     "output_type": "stream",
     "text": [
      "2023-07-20 15:27:23.247672: I tensorflow/core/platform/cpu_feature_guard.cc:182] This TensorFlow binary is optimized to use available CPU instructions in performance-critical operations.\n",
      "To enable the following instructions: AVX2 FMA, in other operations, rebuild TensorFlow with the appropriate compiler flags.\n"
     ]
    }
   ],
   "source": [
    "#mnist 데이터를 이용한 이미지 분류\n",
    "#라이브러리 불러오기\n",
    "import tensorflow as tf\n",
    "import matplotlib.pyplot as plt"
   ],
   "metadata": {
    "collapsed": false,
    "ExecuteTime": {
     "end_time": "2023-07-20T06:27:25.755702Z",
     "start_time": "2023-07-20T06:27:21.898874Z"
    }
   }
  },
  {
   "cell_type": "code",
   "execution_count": 3,
   "outputs": [
    {
     "data": {
      "text/plain": "'2.13.0'"
     },
     "execution_count": 3,
     "metadata": {},
     "output_type": "execute_result"
    }
   ],
   "source": [
    "#version 확인\n",
    "tf.__version__"
   ],
   "metadata": {
    "collapsed": false,
    "ExecuteTime": {
     "end_time": "2023-07-20T06:27:25.765154Z",
     "start_time": "2023-07-20T06:27:25.759826Z"
    }
   }
  },
  {
   "cell_type": "code",
   "execution_count": 4,
   "outputs": [],
   "source": [
    "#mnist 데이터셋 불러오기\n",
    "mnist = tf.keras.datasets.mnist\n",
    "(x_train, y_train), (x_test, y_test) = mnist.load_data()"
   ],
   "metadata": {
    "collapsed": false,
    "ExecuteTime": {
     "end_time": "2023-07-20T06:27:25.983879Z",
     "start_time": "2023-07-20T06:27:25.766689Z"
    }
   }
  },
  {
   "cell_type": "code",
   "execution_count": 5,
   "outputs": [
    {
     "data": {
      "text/plain": "((60000, 28, 28), (60000,), (10000, 28, 28), (10000,))"
     },
     "execution_count": 5,
     "metadata": {},
     "output_type": "execute_result"
    }
   ],
   "source": [
    "#데이터 크기\n",
    "x_train.shape, y_train.shape, x_test.shape, y_test.shape"
   ],
   "metadata": {
    "collapsed": false,
    "ExecuteTime": {
     "end_time": "2023-07-20T06:27:25.987434Z",
     "start_time": "2023-07-20T06:27:25.984711Z"
    }
   }
  },
  {
   "cell_type": "code",
   "execution_count": 6,
   "outputs": [
    {
     "name": "stdout",
     "output_type": "stream",
     "text": [
      "[[  0   0   0   0   0   0   0   0   0   0   0   0   0   0   0   0   0   0   0   0   0   0   0   0   0   0   0   0]\n",
      " [  0   0   0   0   0   0   0   0   0   0   0   0   0   0   0   0   0   0   0   0   0   0   0   0   0   0   0   0]\n",
      " [  0   0   0   0   0   0   0   0   0   0   0   0   0   0   0   0   0   0   0   0   0   0   0   0   0   0   0   0]\n",
      " [  0   0   0   0   0   0   0   0   0   0   0   0   0   0   0   0   0   0   0   0   0   0   0   0   0   0   0   0]\n",
      " [  0   0   0   0   0   0   0   0   0   0   0   0   0   0   0   0   0   0   0   0   0   0   0   0   0   0   0   0]\n",
      " [  0   0   0   0   0   0   0   0   0   0   0   0   3  18  18  18 126 136 175  26 166 255 247 127   0   0   0   0]\n",
      " [  0   0   0   0   0   0   0   0  30  36  94 154 170 253 253 253 253 253 225 172 253 242 195  64   0   0   0   0]\n",
      " [  0   0   0   0   0   0   0  49 238 253 253 253 253 253 253 253 253 251  93  82  82  56  39   0   0   0   0   0]\n",
      " [  0   0   0   0   0   0   0  18 219 253 253 253 253 253 198 182 247 241   0   0   0   0   0   0   0   0   0   0]\n",
      " [  0   0   0   0   0   0   0   0  80 156 107 253 253 205  11   0  43 154   0   0   0   0   0   0   0   0   0   0]\n",
      " [  0   0   0   0   0   0   0   0   0  14   1 154 253  90   0   0   0   0   0   0   0   0   0   0   0   0   0   0]\n",
      " [  0   0   0   0   0   0   0   0   0   0   0 139 253 190   2   0   0   0   0   0   0   0   0   0   0   0   0   0]\n",
      " [  0   0   0   0   0   0   0   0   0   0   0  11 190 253  70   0   0   0   0   0   0   0   0   0   0   0   0   0]\n",
      " [  0   0   0   0   0   0   0   0   0   0   0   0  35 241 225 160 108   1   0   0   0   0   0   0   0   0   0   0]\n",
      " [  0   0   0   0   0   0   0   0   0   0   0   0   0  81 240 253 253 119  25   0   0   0   0   0   0   0   0   0]\n",
      " [  0   0   0   0   0   0   0   0   0   0   0   0   0   0  45 186 253 253 150  27   0   0   0   0   0   0   0   0]\n",
      " [  0   0   0   0   0   0   0   0   0   0   0   0   0   0   0  16  93 252 253 187   0   0   0   0   0   0   0   0]\n",
      " [  0   0   0   0   0   0   0   0   0   0   0   0   0   0   0   0   0 249 253 249  64   0   0   0   0   0   0   0]\n",
      " [  0   0   0   0   0   0   0   0   0   0   0   0   0   0  46 130 183 253 253 207   2   0   0   0   0   0   0   0]\n",
      " [  0   0   0   0   0   0   0   0   0   0   0   0  39 148 229 253 253 253 250 182   0   0   0   0   0   0   0   0]\n",
      " [  0   0   0   0   0   0   0   0   0   0  24 114 221 253 253 253 253 201  78   0   0   0   0   0   0   0   0   0]\n",
      " [  0   0   0   0   0   0   0   0  23  66 213 253 253 253 253 198  81   2   0   0   0   0   0   0   0   0   0   0]\n",
      " [  0   0   0   0   0   0  18 171 219 253 253 253 253 195  80   9   0   0   0   0   0   0   0   0   0   0   0   0]\n",
      " [  0   0   0   0  55 172 226 253 253 253 253 244 133  11   0   0   0   0   0   0   0   0   0   0   0   0   0   0]\n",
      " [  0   0   0   0 136 253 253 253 212 135 132  16   0   0   0   0   0   0   0   0   0   0   0   0   0   0   0   0]\n",
      " [  0   0   0   0   0   0   0   0   0   0   0   0   0   0   0   0   0   0   0   0   0   0   0   0   0   0   0   0]\n",
      " [  0   0   0   0   0   0   0   0   0   0   0   0   0   0   0   0   0   0   0   0   0   0   0   0   0   0   0   0]\n",
      " [  0   0   0   0   0   0   0   0   0   0   0   0   0   0   0   0   0   0   0   0   0   0   0   0   0   0   0   0]]\n"
     ]
    }
   ],
   "source": [
    "#데이터 확인\n",
    "import numpy as np\n",
    "np.set_printoptions(linewidth=120)\n",
    "print(x_train[0])"
   ],
   "metadata": {
    "collapsed": false,
    "ExecuteTime": {
     "end_time": "2023-07-20T06:27:25.997713Z",
     "start_time": "2023-07-20T06:27:25.989783Z"
    }
   }
  },
  {
   "cell_type": "code",
   "execution_count": 7,
   "outputs": [
    {
     "data": {
      "text/plain": "<matplotlib.image.AxesImage at 0x7fc7f1755870>"
     },
     "execution_count": 7,
     "metadata": {},
     "output_type": "execute_result"
    },
    {
     "data": {
      "text/plain": "<Figure size 640x480 with 1 Axes>",
      "image/png": "[encoded data removed]"
     },
     "metadata": {},
     "output_type": "display_data"
    }
   ],
   "source": [
    "#데이터 확인 (이미지)\n",
    "plt.imshow(x_train[0], cmap='gray')"
   ],
   "metadata": {
    "collapsed": false,
    "ExecuteTime": {
     "end_time": "2023-07-20T06:27:26.138998Z",
     "start_time": "2023-07-20T06:27:25.995172Z"
    }
   }
  },
  {
   "cell_type": "code",
   "execution_count": 8,
   "outputs": [
    {
     "data": {
      "text/plain": "5"
     },
     "execution_count": 8,
     "metadata": {},
     "output_type": "execute_result"
    }
   ],
   "source": [
    "y_train[0]"
   ],
   "metadata": {
    "collapsed": false,
    "ExecuteTime": {
     "end_time": "2023-07-20T06:27:26.143482Z",
     "start_time": "2023-07-20T06:27:26.137629Z"
    }
   }
  },
  {
   "cell_type": "code",
   "execution_count": 9,
   "outputs": [],
   "source": [
    "# 모델\n",
    "from tensorflow.keras.models import Sequential\n",
    "from tensorflow.keras.layers import Dense, Flatten\n",
    "\n",
    "model = Sequential([\n",
    "    Flatten(input_shape=(28, 28)),\n",
    "    Dense(256, activation='relu'),\n",
    "    Dense(10, activation='softmax')\n",
    "])"
   ],
   "metadata": {
    "collapsed": false,
    "ExecuteTime": {
     "end_time": "2023-07-20T06:27:26.210399Z",
     "start_time": "2023-07-20T06:27:26.142445Z"
    }
   }
  },
  {
   "cell_type": "code",
   "execution_count": 10,
   "outputs": [
    {
     "name": "stdout",
     "output_type": "stream",
     "text": [
      "Model: \"sequential\"\n",
      "_________________________________________________________________\n",
      " Layer (type)                Output Shape              Param #   \n",
      "=================================================================\n",
      " flatten (Flatten)           (None, 784)               0         \n",
      "                                                                 \n",
      " dense (Dense)               (None, 256)               200960    \n",
      "                                                                 \n",
      " dense_1 (Dense)             (None, 10)                2570      \n",
      "                                                                 \n",
      "=================================================================\n",
      "Total params: 203530 (795.04 KB)\n",
      "Trainable params: 203530 (795.04 KB)\n",
      "Non-trainable params: 0 (0.00 Byte)\n",
      "_________________________________________________________________\n"
     ]
    }
   ],
   "source": [
    "#모델 요약\n",
    "model.summary()"
   ],
   "metadata": {
    "collapsed": false,
    "ExecuteTime": {
     "end_time": "2023-07-20T06:27:26.220058Z",
     "start_time": "2023-07-20T06:27:26.200939Z"
    }
   }
  },
  {
   "cell_type": "code",
   "execution_count": 11,
   "outputs": [],
   "source": [
    "#모델 컴파일\n",
    "model.compile(optimizer='adam',\n",
    "              loss='sparse_categorical_crossentropy',\n",
    "              metrics=['accuracy'])"
   ],
   "metadata": {
    "collapsed": false,
    "ExecuteTime": {
     "end_time": "2023-07-20T06:27:26.228293Z",
     "start_time": "2023-07-20T06:27:26.216155Z"
    }
   }
  },
  {
   "cell_type": "code",
   "execution_count": 12,
   "outputs": [
    {
     "name": "stdout",
     "output_type": "stream",
     "text": [
      "Epoch 1/5\n",
      "1875/1875 [==============================] - 5s 2ms/step - loss: 2.3880 - accuracy: 0.8900\n",
      "Epoch 2/5\n",
      "1875/1875 [==============================] - 4s 2ms/step - loss: 0.3239 - accuracy: 0.9281\n",
      "Epoch 3/5\n",
      "1875/1875 [==============================] - 4s 2ms/step - loss: 0.2622 - accuracy: 0.9375\n",
      "Epoch 4/5\n",
      "1875/1875 [==============================] - 4s 2ms/step - loss: 0.2389 - accuracy: 0.9448\n",
      "Epoch 5/5\n",
      "1875/1875 [==============================] - 4s 2ms/step - loss: 0.2263 - accuracy: 0.9481\n"
     ]
    }
   ],
   "source": [
    "#모델 학습\n",
    "history = model.fit(x_train, y_train, epochs=5)\n",
    "# 총 60000개의 데이터를 5번 학습. epoch 당 1875개의 데이터를 학습하는 이유는 batch_size가 32이기 때문입니다. 60000 / 32 = 1875"
   ],
   "metadata": {
    "collapsed": false,
    "ExecuteTime": {
     "end_time": "2023-07-20T06:27:47.728252Z",
     "start_time": "2023-07-20T06:27:26.229247Z"
    }
   }
  },
  {
   "cell_type": "code",
   "execution_count": 13,
   "outputs": [
    {
     "data": {
      "text/plain": "<matplotlib.legend.Legend at 0x7fc7e270b7c0>"
     },
     "execution_count": 13,
     "metadata": {},
     "output_type": "execute_result"
    },
    {
     "data": {
      "text/plain": "<Figure size 640x480 with 1 Axes>",
      "image/png": "[encoded data removed]"
     },
     "metadata": {},
     "output_type": "display_data"
    }
   ],
   "source": [
    "#학습정확도(epoch에 따른 accuracy변화)\n",
    "plt.plot(history.history['accuracy'], label='accuracy')\n",
    "plt.xlabel('epoch')\n",
    "plt.ylabel('accuracy')\n",
    "plt.legend()"
   ],
   "metadata": {
    "collapsed": false,
    "ExecuteTime": {
     "end_time": "2023-07-20T06:27:47.878610Z",
     "start_time": "2023-07-20T06:27:47.726014Z"
    }
   }
  },
  {
   "cell_type": "code",
   "execution_count": 14,
   "outputs": [
    {
     "data": {
      "text/plain": "<matplotlib.legend.Legend at 0x7fc7d2956fe0>"
     },
     "execution_count": 14,
     "metadata": {},
     "output_type": "execute_result"
    },
    {
     "data": {
      "text/plain": "<Figure size 640x480 with 1 Axes>",
      "image/png": "[encoded data removed]"
     },
     "metadata": {},
     "output_type": "display_data"
    }
   ],
   "source": [
    "#loss\n",
    "plt.plot(history.history['loss'], label='accuracy')\n",
    "plt.xlabel('epoch')\n",
    "plt.ylabel('loss')\n",
    "plt.legend()"
   ],
   "metadata": {
    "collapsed": false,
    "ExecuteTime": {
     "end_time": "2023-07-20T06:27:48.023552Z",
     "start_time": "2023-07-20T06:27:47.883879Z"
    }
   }
  },
  {
   "cell_type": "markdown",
   "source": [
    "fashion_mnist 데이터를 이용한 이미지 분류"
   ],
   "metadata": {
    "collapsed": false
   }
  },
  {
   "cell_type": "code",
   "execution_count": 15,
   "outputs": [],
   "source": [
    "#라이브러리 불러오기\n",
    "import tensorflow as tf\n",
    "import matplotlib.pyplot as plt\n",
    "import numpy as np"
   ],
   "metadata": {
    "collapsed": false,
    "ExecuteTime": {
     "end_time": "2023-07-20T06:27:48.037215Z",
     "start_time": "2023-07-20T06:27:48.028122Z"
    }
   }
  },
  {
   "cell_type": "code",
   "execution_count": 16,
   "outputs": [],
   "source": [
    "#데이터 불러오기\n",
    "fashion_mnist = tf.keras.datasets.fashion_mnist\n",
    "(x_train, y_train), (x_test, y_test) = fashion_mnist.load_data()"
   ],
   "metadata": {
    "collapsed": false,
    "ExecuteTime": {
     "end_time": "2023-07-20T06:27:48.287327Z",
     "start_time": "2023-07-20T06:27:48.032148Z"
    }
   }
  },
  {
   "cell_type": "code",
   "execution_count": 17,
   "outputs": [],
   "source": [
    "#정규화(0~1사이의 값으로 만들어줌), 모델 성능 향상됨\n",
    "x_train, x_test = x_train / 255.0, x_test / 255.0"
   ],
   "metadata": {
    "collapsed": false,
    "ExecuteTime": {
     "end_time": "2023-07-20T06:27:48.506449Z",
     "start_time": "2023-07-20T06:27:48.288562Z"
    }
   }
  },
  {
   "cell_type": "code",
   "execution_count": 18,
   "outputs": [
    {
     "data": {
      "text/plain": "<matplotlib.image.AxesImage at 0x7fc7c8b9d1b0>"
     },
     "execution_count": 18,
     "metadata": {},
     "output_type": "execute_result"
    },
    {
     "data": {
      "text/plain": "<Figure size 640x480 with 1 Axes>",
      "image/png": "[encoded data removed]"
     },
     "metadata": {},
     "output_type": "display_data"
    }
   ],
   "source": [
    "#데이터 확인(이미지)\n",
    "plt.imshow(x_train[0], cmap='gray')"
   ],
   "metadata": {
    "collapsed": false,
    "ExecuteTime": {
     "end_time": "2023-07-20T06:27:48.634791Z",
     "start_time": "2023-07-20T06:27:48.511953Z"
    }
   }
  },
  {
   "cell_type": "code",
   "execution_count": 19,
   "outputs": [
    {
     "data": {
      "text/plain": "9"
     },
     "execution_count": 19,
     "metadata": {},
     "output_type": "execute_result"
    }
   ],
   "source": [
    "y_train[0]"
   ],
   "metadata": {
    "collapsed": false,
    "ExecuteTime": {
     "end_time": "2023-07-20T06:27:48.638525Z",
     "start_time": "2023-07-20T06:27:48.635966Z"
    }
   }
  },
  {
   "cell_type": "code",
   "execution_count": 20,
   "outputs": [
    {
     "name": "stdout",
     "output_type": "stream",
     "text": [
      "Ankle boot\n"
     ]
    }
   ],
   "source": [
    "#9라고 나온 결과값이 어떤물건인지 lable 확인\n",
    "class_names = ['T-shirt/top', 'Trouser', 'Pullover', 'Dress', 'Coat',\n",
    "               'Sandal', 'Shirt', 'Sneaker', 'Bag', 'Ankle boot']\n",
    "print(class_names[y_train[0]])"
   ],
   "metadata": {
    "collapsed": false,
    "ExecuteTime": {
     "end_time": "2023-07-20T06:27:48.657986Z",
     "start_time": "2023-07-20T06:27:48.640420Z"
    }
   }
  },
  {
   "cell_type": "code",
   "execution_count": 21,
   "outputs": [
    {
     "name": "stdout",
     "output_type": "stream",
     "text": [
      "T-shirt/top\n"
     ]
    },
    {
     "data": {
      "text/plain": "<matplotlib.image.AxesImage at 0x7fc7c8c11360>"
     },
     "execution_count": 21,
     "metadata": {},
     "output_type": "execute_result"
    },
    {
     "data": {
      "text/plain": "<Figure size 640x480 with 1 Axes>",
      "image/png": "[encoded data removed]"
     },
     "metadata": {},
     "output_type": "display_data"
    }
   ],
   "source": [
    "#데이터 확인(이미지,레이블)\n",
    "print(class_names[y_train[1]])\n",
    "plt.imshow(x_train[1], cmap='gray')"
   ],
   "metadata": {
    "collapsed": false,
    "ExecuteTime": {
     "end_time": "2023-07-20T06:27:48.793687Z",
     "start_time": "2023-07-20T06:27:48.655605Z"
    }
   }
  },
  {
   "cell_type": "code",
   "execution_count": 22,
   "outputs": [],
   "source": [
    "#모델(시퀀셜모델, Drop 추가 - 랜덤으로 생략, % 설정 가능)\n",
    "from tensorflow.keras.models import Sequential\n",
    "from tensorflow.keras.layers import Dense, Flatten, Dropout\n",
    "\n",
    "model = Sequential([\n",
    "    Flatten(input_shape=(28, 28)),\n",
    "    Dense(128, activation='relu'),\n",
    "    Dropout(0.2),\n",
    "    Dense(10, activation='softmax')\n",
    "])\n",
    "#컴파일\n",
    "model.compile(optimizer='adam',\n",
    "              loss='sparse_categorical_crossentropy',\n",
    "              metrics=['accuracy'])"
   ],
   "metadata": {
    "collapsed": false,
    "ExecuteTime": {
     "end_time": "2023-07-20T06:27:48.837189Z",
     "start_time": "2023-07-20T06:27:48.795777Z"
    }
   }
  },
  {
   "cell_type": "code",
   "execution_count": 23,
   "outputs": [
    {
     "name": "stdout",
     "output_type": "stream",
     "text": [
      "Epoch 1/5\n",
      "1500/1500 [==============================] - 3s 2ms/step - loss: 0.5533 - accuracy: 0.8061 - val_loss: 0.4599 - val_accuracy: 0.8287\n",
      "Epoch 2/5\n",
      "1500/1500 [==============================] - 3s 2ms/step - loss: 0.4115 - accuracy: 0.8522 - val_loss: 0.3849 - val_accuracy: 0.8617\n",
      "Epoch 3/5\n",
      "1500/1500 [==============================] - 3s 2ms/step - loss: 0.3719 - accuracy: 0.8646 - val_loss: 0.3589 - val_accuracy: 0.8680\n",
      "Epoch 4/5\n",
      "1500/1500 [==============================] - 3s 2ms/step - loss: 0.3527 - accuracy: 0.8701 - val_loss: 0.3430 - val_accuracy: 0.8777\n",
      "Epoch 5/5\n",
      "1500/1500 [==============================] - 3s 2ms/step - loss: 0.3337 - accuracy: 0.8775 - val_loss: 0.3389 - val_accuracy: 0.8814\n"
     ]
    }
   ],
   "source": [
    "#학습 case1. validation_split을 통해서 알아서 20%를 검증데이터로 사용\n",
    "history = model.fit(x_train, y_train,validation_split=0.2 , epochs=5)"
   ],
   "metadata": {
    "collapsed": false,
    "ExecuteTime": {
     "end_time": "2023-07-20T06:28:04.197556Z",
     "start_time": "2023-07-20T06:27:48.820590Z"
    }
   }
  },
  {
   "cell_type": "code",
   "execution_count": 24,
   "outputs": [
    {
     "name": "stdout",
     "output_type": "stream",
     "text": [
      "Epoch 1/10\n",
      "1875/1875 [==============================] - 4s 2ms/step - loss: 0.3318 - accuracy: 0.8779 - val_loss: 0.3506 - val_accuracy: 0.8723\n",
      "Epoch 2/10\n",
      "1875/1875 [==============================] - 4s 2ms/step - loss: 0.3204 - accuracy: 0.8817 - val_loss: 0.3601 - val_accuracy: 0.8699\n",
      "Epoch 3/10\n",
      "1875/1875 [==============================] - 4s 2ms/step - loss: 0.3079 - accuracy: 0.8860 - val_loss: 0.3549 - val_accuracy: 0.8728\n",
      "Epoch 4/10\n",
      "1875/1875 [==============================] - 4s 2ms/step - loss: 0.2996 - accuracy: 0.8888 - val_loss: 0.3535 - val_accuracy: 0.8789\n",
      "Epoch 5/10\n",
      "1875/1875 [==============================] - 4s 2ms/step - loss: 0.2934 - accuracy: 0.8898 - val_loss: 0.3323 - val_accuracy: 0.8795\n",
      "Epoch 6/10\n",
      "1875/1875 [==============================] - 3s 2ms/step - loss: 0.2840 - accuracy: 0.8940 - val_loss: 0.3387 - val_accuracy: 0.8803\n",
      "Epoch 7/10\n",
      "1875/1875 [==============================] - 3s 2ms/step - loss: 0.2747 - accuracy: 0.8970 - val_loss: 0.3339 - val_accuracy: 0.8784\n",
      "Epoch 8/10\n",
      "1875/1875 [==============================] - 4s 2ms/step - loss: 0.2723 - accuracy: 0.8986 - val_loss: 0.3341 - val_accuracy: 0.8797\n",
      "Epoch 9/10\n",
      "1875/1875 [==============================] - 4s 2ms/step - loss: 0.2673 - accuracy: 0.8999 - val_loss: 0.3298 - val_accuracy: 0.8856\n",
      "Epoch 10/10\n",
      "1875/1875 [==============================] - 4s 2ms/step - loss: 0.2591 - accuracy: 0.9030 - val_loss: 0.3475 - val_accuracy: 0.8779\n"
     ]
    }
   ],
   "source": [
    "#학습 case2. validation_data를 지정해서 사용\n",
    "history = model.fit(x_train, y_train,validation_data=(x_test, y_test) , epochs=10)"
   ],
   "metadata": {
    "collapsed": false,
    "ExecuteTime": {
     "end_time": "2023-07-20T06:28:43.933901Z",
     "start_time": "2023-07-20T06:28:04.197880Z"
    }
   }
  },
  {
   "cell_type": "code",
   "execution_count": 25,
   "outputs": [
    {
     "data": {
      "text/plain": "<matplotlib.legend.Legend at 0x7fc7d2b6f5e0>"
     },
     "execution_count": 25,
     "metadata": {},
     "output_type": "execute_result"
    },
    {
     "data": {
      "text/plain": "<Figure size 640x480 with 1 Axes>",
      "image/png": "[encoded data removed]"
     },
     "metadata": {},
     "output_type": "display_data"
    }
   ],
   "source": [
    "#학습정확도\n",
    "plt.plot(history.history['accuracy'], label='accuracy')\n",
    "plt.plot(history.history['val_accuracy'], label='val_accuracy')\n",
    "plt.xlabel('epoch')\n",
    "plt.ylabel('accuracy')\n",
    "plt.legend()"
   ],
   "metadata": {
    "collapsed": false,
    "ExecuteTime": {
     "end_time": "2023-07-20T06:28:44.128262Z",
     "start_time": "2023-07-20T06:28:43.937457Z"
    }
   }
  },
  {
   "cell_type": "code",
   "execution_count": 26,
   "outputs": [
    {
     "data": {
      "text/plain": "<matplotlib.legend.Legend at 0x7fc7c112bf10>"
     },
     "execution_count": 26,
     "metadata": {},
     "output_type": "execute_result"
    },
    {
     "data": {
      "text/plain": "<Figure size 640x480 with 1 Axes>",
      "image/png": "[encoded data removed]"
     },
     "metadata": {},
     "output_type": "display_data"
    }
   ],
   "source": [
    "#loss\n",
    "plt.plot(history.history['loss'], label='loss')\n",
    "plt.plot(history.history['val_loss'], label='val_loss')\n",
    "plt.xlabel('epoch')\n",
    "plt.ylabel('loss')\n",
    "plt.legend()"
   ],
   "metadata": {
    "collapsed": false,
    "ExecuteTime": {
     "end_time": "2023-07-20T06:28:44.277574Z",
     "start_time": "2023-07-20T06:28:44.136617Z"
    }
   }
  },
  {
   "cell_type": "code",
   "execution_count": 27,
   "outputs": [
    {
     "name": "stdout",
     "output_type": "stream",
     "text": [
      "313/313 [==============================] - 0s 880us/step\n"
     ]
    },
    {
     "data": {
      "text/plain": "array([9.0222528e-07, 3.3613937e-19, 9.9505049e-01, 4.7034912e-18, 4.8958790e-03, 2.7409085e-17, 5.2803098e-05,\n       3.0848190e-22, 3.3979906e-14, 3.6884185e-19], dtype=float32)"
     },
     "execution_count": 27,
     "metadata": {},
     "output_type": "execute_result"
    }
   ],
   "source": [
    "#예측 - 1번째 결과 확률값중 10개중 가장 큰것을 찾아야 함\n",
    "pred = model.predict(x_test)\n",
    "pred[1]"
   ],
   "metadata": {
    "collapsed": false,
    "ExecuteTime": {
     "end_time": "2023-07-20T06:28:44.767961Z",
     "start_time": "2023-07-20T06:28:44.278608Z"
    }
   }
  },
  {
   "cell_type": "code",
   "execution_count": 28,
   "outputs": [
    {
     "data": {
      "text/plain": "2"
     },
     "execution_count": 28,
     "metadata": {},
     "output_type": "execute_result"
    }
   ],
   "source": [
    "# 가장 높은 값 찾기(np.argmax()는 가장 큰 값의 인덱스를 찾아줌)\n",
    "np.argmax(pred[1])"
   ],
   "metadata": {
    "collapsed": false,
    "ExecuteTime": {
     "end_time": "2023-07-20T06:28:44.772771Z",
     "start_time": "2023-07-20T06:28:44.769526Z"
    }
   }
  },
  {
   "cell_type": "code",
   "execution_count": 29,
   "outputs": [
    {
     "data": {
      "text/plain": "'Pullover'"
     },
     "execution_count": 29,
     "metadata": {},
     "output_type": "execute_result"
    }
   ],
   "source": [
    "#예측값 확인\n",
    "class_names[np.argmax(pred[1])]"
   ],
   "metadata": {
    "collapsed": false,
    "ExecuteTime": {
     "end_time": "2023-07-20T06:28:44.778298Z",
     "start_time": "2023-07-20T06:28:44.772953Z"
    }
   }
  },
  {
   "cell_type": "code",
   "execution_count": 30,
   "outputs": [
    {
     "data": {
      "text/plain": "<matplotlib.image.AxesImage at 0x7fc7c11cd360>"
     },
     "execution_count": 30,
     "metadata": {},
     "output_type": "execute_result"
    },
    {
     "data": {
      "text/plain": "<Figure size 640x480 with 1 Axes>",
      "image/png": "[encoded data removed]"
     },
     "metadata": {},
     "output_type": "display_data"
    }
   ],
   "source": [
    "#이미지 확인\n",
    "plt.imshow(x_test[1], cmap='gray')"
   ],
   "metadata": {
    "collapsed": false,
    "ExecuteTime": {
     "end_time": "2023-07-20T06:28:44.918833Z",
     "start_time": "2023-07-20T06:28:44.782964Z"
    }
   }
  },
  {
   "cell_type": "markdown",
   "source": [
    "## 03. CNN(Convolutional Neural Network)을 활용한 이미지 분류\n",
    "\n",
    "![](./de_10.png)\n",
    "\n",
    "![](./de_11.png)\n",
    "\n",
    "![](./de_12.png)\n",
    "\n",
    "![](./de_13.png)\n",
    "\n",
    "이미지와 필터의 연산을 통해서 데이터를 새롭게 구성함. 커널(필터)에 따라 데이터가 변경됨\n",
    "\n",
    "풀링레이어 중 맥스 풀링은 가장 큰 값만 뽑아서 데이터를 구성함. 특징을 추출한 피처맵 구성"
   ],
   "metadata": {
    "collapsed": false
   }
  },
  {
   "cell_type": "code",
   "execution_count": 31,
   "outputs": [],
   "source": [
    "#라이브러리 불러오기\n",
    "import tensorflow as tf\n",
    "import matplotlib.pyplot as plt\n",
    "import numpy as np\n",
    "from tensorflow.keras.models import Sequential\n",
    "from tensorflow.keras.layers import Dense, Flatten, Dropout, Conv2D, MaxPooling2D"
   ],
   "metadata": {
    "collapsed": false,
    "ExecuteTime": {
     "end_time": "2023-07-20T06:28:44.922883Z",
     "start_time": "2023-07-20T06:28:44.920899Z"
    }
   }
  },
  {
   "cell_type": "code",
   "execution_count": 32,
   "outputs": [],
   "source": [
    "#데이터 불러오기\n",
    "mnist = tf.keras.datasets.fashion_mnist\n",
    "(x_train, y_train), (x_test, y_test) = mnist.load_data()"
   ],
   "metadata": {
    "collapsed": false,
    "ExecuteTime": {
     "end_time": "2023-07-20T06:28:45.181446Z",
     "start_time": "2023-07-20T06:28:44.924923Z"
    }
   }
  },
  {
   "cell_type": "code",
   "execution_count": 33,
   "outputs": [],
   "source": [
    "#shape 변경\n",
    "x_train = x_train.reshape(60000, 28, 28, 1)\n",
    "x_test = x_test.reshape(10000,28,28,1)"
   ],
   "metadata": {
    "collapsed": false,
    "ExecuteTime": {
     "end_time": "2023-07-20T06:28:45.184812Z",
     "start_time": "2023-07-20T06:28:45.183219Z"
    }
   }
  },
  {
   "cell_type": "code",
   "execution_count": 34,
   "outputs": [],
   "source": [
    "#정규화(0~1사이의 값으로 만들어줌), 모델 성능 향상됨\n",
    "x_train, x_test = x_train / 255.0, x_test / 255.0"
   ],
   "metadata": {
    "collapsed": false,
    "ExecuteTime": {
     "end_time": "2023-07-20T06:28:45.264277Z",
     "start_time": "2023-07-20T06:28:45.186453Z"
    }
   }
  },
  {
   "cell_type": "code",
   "execution_count": 35,
   "outputs": [],
   "source": [
    "#모델\n",
    "model = Sequential([\n",
    "    Conv2D(32, (3,3), activation='relu', input_shape=(28,28,1)),\n",
    "    MaxPooling2D((2,2)),\n",
    "    Conv2D(64, (3,3), activation='relu'),\n",
    "    MaxPooling2D((2,2)),\n",
    "    Flatten(),\n",
    "    Dense(64, activation='relu'),\n",
    "    Dense(10, activation='softmax')\n",
    "])\n",
    "# 컴파일\n",
    "model.compile(optimizer='adam',\n",
    "              loss='sparse_categorical_crossentropy',\n",
    "              metrics=['accuracy'])"
   ],
   "metadata": {
    "collapsed": false,
    "ExecuteTime": {
     "end_time": "2023-07-20T06:28:45.329509Z",
     "start_time": "2023-07-20T06:28:45.264445Z"
    }
   }
  },
  {
   "cell_type": "code",
   "execution_count": 36,
   "outputs": [
    {
     "name": "stdout",
     "output_type": "stream",
     "text": [
      "Model: \"sequential_2\"\n",
      "_________________________________________________________________\n",
      " Layer (type)                Output Shape              Param #   \n",
      "=================================================================\n",
      " conv2d (Conv2D)             (None, 26, 26, 32)        320       \n",
      "                                                                 \n",
      " max_pooling2d (MaxPooling2  (None, 13, 13, 32)        0         \n",
      " D)                                                              \n",
      "                                                                 \n",
      " conv2d_1 (Conv2D)           (None, 11, 11, 64)        18496     \n",
      "                                                                 \n",
      " max_pooling2d_1 (MaxPoolin  (None, 5, 5, 64)          0         \n",
      " g2D)                                                            \n",
      "                                                                 \n",
      " flatten_2 (Flatten)         (None, 1600)              0         \n",
      "                                                                 \n",
      " dense_4 (Dense)             (None, 64)                102464    \n",
      "                                                                 \n",
      " dense_5 (Dense)             (None, 10)                650       \n",
      "                                                                 \n",
      "=================================================================\n",
      "Total params: 121930 (476.29 KB)\n",
      "Trainable params: 121930 (476.29 KB)\n",
      "Non-trainable params: 0 (0.00 Byte)\n",
      "_________________________________________________________________\n"
     ]
    }
   ],
   "source": [
    "model.summary()"
   ],
   "metadata": {
    "collapsed": false,
    "ExecuteTime": {
     "end_time": "2023-07-20T06:28:45.348502Z",
     "start_time": "2023-07-20T06:28:45.331404Z"
    }
   }
  },
  {
   "cell_type": "code",
   "execution_count": 37,
   "outputs": [
    {
     "name": "stdout",
     "output_type": "stream",
     "text": [
      "Epoch 1/10\n",
      "1875/1875 [==============================] - 29s 15ms/step - loss: 0.4635 - accuracy: 0.8336 - val_loss: 0.3592 - val_accuracy: 0.8721\n",
      "Epoch 2/10\n",
      "1875/1875 [==============================] - 35s 19ms/step - loss: 0.3139 - accuracy: 0.8856 - val_loss: 0.3059 - val_accuracy: 0.8913\n",
      "Epoch 3/10\n",
      "1875/1875 [==============================] - 36s 19ms/step - loss: 0.2691 - accuracy: 0.9022 - val_loss: 0.2884 - val_accuracy: 0.8938\n",
      "Epoch 4/10\n",
      "1875/1875 [==============================] - 35s 18ms/step - loss: 0.2358 - accuracy: 0.9122 - val_loss: 0.2730 - val_accuracy: 0.9018\n",
      "Epoch 5/10\n",
      "1875/1875 [==============================] - 40s 22ms/step - loss: 0.2123 - accuracy: 0.9218 - val_loss: 0.2718 - val_accuracy: 0.9016\n",
      "Epoch 6/10\n",
      "1875/1875 [==============================] - 38s 20ms/step - loss: 0.1906 - accuracy: 0.9287 - val_loss: 0.2594 - val_accuracy: 0.9071\n",
      "Epoch 7/10\n",
      "1875/1875 [==============================] - 34s 18ms/step - loss: 0.1724 - accuracy: 0.9355 - val_loss: 0.2759 - val_accuracy: 0.9039\n",
      "Epoch 8/10\n",
      "1875/1875 [==============================] - 37s 20ms/step - loss: 0.1565 - accuracy: 0.9412 - val_loss: 0.2853 - val_accuracy: 0.9086\n",
      "Epoch 9/10\n",
      "1875/1875 [==============================] - 35s 19ms/step - loss: 0.1412 - accuracy: 0.9479 - val_loss: 0.3127 - val_accuracy: 0.9004\n",
      "Epoch 10/10\n",
      "1875/1875 [==============================] - 33s 18ms/step - loss: 0.1282 - accuracy: 0.9510 - val_loss: 0.2963 - val_accuracy: 0.9029\n"
     ]
    }
   ],
   "source": [
    "#학습\n",
    "history = model.fit(x_train, y_train, validation_data = (x_test, y_test), epochs=10)"
   ],
   "metadata": {
    "collapsed": false,
    "ExecuteTime": {
     "end_time": "2023-07-20T06:34:37.112775Z",
     "start_time": "2023-07-20T06:28:45.354447Z"
    }
   }
  },
  {
   "cell_type": "code",
   "execution_count": 38,
   "outputs": [
    {
     "data": {
      "text/plain": "<matplotlib.legend.Legend at 0x7fc801010be0>"
     },
     "execution_count": 38,
     "metadata": {},
     "output_type": "execute_result"
    },
    {
     "data": {
      "text/plain": "<Figure size 640x480 with 1 Axes>",
      "image/png": "[encoded data removed]"
     },
     "metadata": {},
     "output_type": "display_data"
    }
   ],
   "source": [
    "#학습정확도\n",
    "plt.plot(history.history['accuracy'], label='accuracy')\n",
    "plt.plot(history.history['val_accuracy'], label='val_accuracy')\n",
    "plt.xlabel('epoch')\n",
    "plt.ylabel('accuracy')\n",
    "plt.legend()"
   ],
   "metadata": {
    "collapsed": false,
    "ExecuteTime": {
     "end_time": "2023-07-20T06:34:37.259916Z",
     "start_time": "2023-07-20T06:34:37.112975Z"
    }
   }
  },
  {
   "cell_type": "code",
   "execution_count": 38,
   "outputs": [],
   "source": [],
   "metadata": {
    "collapsed": false,
    "ExecuteTime": {
     "end_time": "2023-07-20T06:34:37.262927Z",
     "start_time": "2023-07-20T06:34:37.260629Z"
    }
   }
  }
 ],
 "metadata": {
  "kernelspec": {
   "display_name": "Python 3",
   "language": "python",
   "name": "python3"
  },
  "language_info": {
   "codemirror_mode": {
    "name": "ipython",
    "version": 2
   },
   "file_extension": ".py",
   "mimetype": "text/x-python",
   "name": "python",
   "nbconvert_exporter": "python",
   "pygments_lexer": "ipython2",
   "version": "2.7.6"
  }
 },
 "nbformat": 4,
 "nbformat_minor": 0
}
