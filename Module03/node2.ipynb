{
 "cells": [
  {
   "cell_type": "markdown",
   "source": [
    "## 데이터핸들링 1\n",
    "\n",
    "판다스를 활용한 데이터 핸들링"
   ],
   "metadata": {
    "collapsed": false
   }
  },
  {
   "cell_type": "markdown",
   "source": [
    "판다스\n",
    "\n",
    "판다스는 파이썬을 기반으로 쉽고 강력한 데이터 분석 도구\n",
    "\n",
    "판다스를 시작할 때는 판다스 라이브러리를 불러오고, 판다스의 별칭은 pd로 일반적으로 사용됨"
   ],
   "metadata": {
    "collapsed": false
   }
  },
  {
   "cell_type": "markdown",
   "source": [
    "라이브러리 불러오기"
   ],
   "metadata": {
    "collapsed": false
   }
  },
  {
   "cell_type": "code",
   "execution_count": 1,
   "outputs": [],
   "source": [
    "#판다스 라이브러리\n",
    "import pandas as pd"
   ],
   "metadata": {
    "collapsed": false,
    "ExecuteTime": {
     "end_time": "2023-07-10T06:02:32.629591Z",
     "start_time": "2023-07-10T06:02:32.307137Z"
    }
   }
  },
  {
   "cell_type": "markdown",
   "source": [
    "데이터 프레임과 시리즈\n",
    "\n",
    "데이터 프레임은은 행과 열이 있는 표 형태 구조, 시리즈 : 하나의 열(컬럼)"
   ],
   "metadata": {
    "collapsed": false
   }
  },
  {
   "cell_type": "code",
   "execution_count": 4,
   "outputs": [
    {
     "data": {
      "text/plain": "0         후라이트\n1         양념치킨\n2    양념반 후라이드반\ndtype: object"
     },
     "execution_count": 4,
     "metadata": {},
     "output_type": "execute_result"
    }
   ],
   "source": [
    "#시리즈 만들기(문자열) 메뉴 : 후라이트, 양념치킨, 양념반 후라이드반\n",
    "menu_list = ['후라이트', '양념치킨', '양념반 후라이드반']\n",
    "menu = pd.Series(menu_list)\n",
    "menu"
   ],
   "metadata": {
    "collapsed": false,
    "ExecuteTime": {
     "end_time": "2023-07-10T06:05:40.510346Z",
     "start_time": "2023-07-10T06:05:40.504615Z"
    }
   }
  },
  {
   "cell_type": "code",
   "execution_count": 5,
   "outputs": [
    {
     "data": {
      "text/plain": "0    12000\n1    13000\n2    15000\ndtype: int64"
     },
     "execution_count": 5,
     "metadata": {},
     "output_type": "execute_result"
    }
   ],
   "source": [
    "#시리즈 만들기(숫자) 12000,13000,15000\n",
    "p_list = [12000,13000,15000]\n",
    "price = pd.Series(p_list)\n",
    "price"
   ],
   "metadata": {
    "collapsed": false,
    "ExecuteTime": {
     "end_time": "2023-07-10T06:05:48.671522Z",
     "start_time": "2023-07-10T06:05:48.667751Z"
    }
   }
  },
  {
   "cell_type": "code",
   "execution_count": 6,
   "outputs": [
    {
     "data": {
      "text/plain": "pandas.core.series.Series"
     },
     "execution_count": 6,
     "metadata": {},
     "output_type": "execute_result"
    }
   ],
   "source": [
    "type(price)"
   ],
   "metadata": {
    "collapsed": false,
    "ExecuteTime": {
     "end_time": "2023-07-10T06:06:06.413711Z",
     "start_time": "2023-07-10T06:06:06.409872Z"
    }
   }
  },
  {
   "cell_type": "code",
   "execution_count": 15,
   "outputs": [],
   "source": [
    "#데이터 프레임 만들기(시리즈 > 데이터 프레임)\n",
    "m = pd.DataFrame({'메뉴':menu, '가격':price})"
   ],
   "metadata": {
    "collapsed": false,
    "ExecuteTime": {
     "end_time": "2023-07-10T06:12:15.342700Z",
     "start_time": "2023-07-10T06:12:15.337647Z"
    }
   }
  },
  {
   "cell_type": "code",
   "execution_count": 11,
   "outputs": [
    {
     "data": {
      "text/plain": "pandas.core.frame.DataFrame"
     },
     "execution_count": 11,
     "metadata": {},
     "output_type": "execute_result"
    }
   ],
   "source": [
    "#데이터 프레임 타입 확인\n",
    "type(m)"
   ],
   "metadata": {
    "collapsed": false,
    "ExecuteTime": {
     "end_time": "2023-07-10T06:07:41.673197Z",
     "start_time": "2023-07-10T06:07:41.667365Z"
    }
   }
  },
  {
   "cell_type": "code",
   "execution_count": 14,
   "outputs": [
    {
     "data": {
      "text/plain": "          메뉴     가격  호수\n0       후라이트  12000  10\n1       양념치킨  13000   9\n2  양념반 후라이드반  15000   8",
      "text/html": "<div>\n<style scoped>\n    .dataframe tbody tr th:only-of-type {\n        vertical-align: middle;\n    }\n\n    .dataframe tbody tr th {\n        vertical-align: top;\n    }\n\n    .dataframe thead th {\n        text-align: right;\n    }\n</style>\n<table border=\"1\" class=\"dataframe\">\n  <thead>\n    <tr style=\"text-align: right;\">\n      <th></th>\n      <th>메뉴</th>\n      <th>가격</th>\n      <th>호수</th>\n    </tr>\n  </thead>\n  <tbody>\n    <tr>\n      <th>0</th>\n      <td>후라이트</td>\n      <td>12000</td>\n      <td>10</td>\n    </tr>\n    <tr>\n      <th>1</th>\n      <td>양념치킨</td>\n      <td>13000</td>\n      <td>9</td>\n    </tr>\n    <tr>\n      <th>2</th>\n      <td>양념반 후라이드반</td>\n      <td>15000</td>\n      <td>8</td>\n    </tr>\n  </tbody>\n</table>\n</div>"
     },
     "execution_count": 14,
     "metadata": {},
     "output_type": "execute_result"
    }
   ],
   "source": [
    "#데이터 프레임 만들기 pd.DataFrame({'칼럼명':데이터})\n",
    "data = {'메뉴':['후라이트', '양념치킨', '양념반 후라이드반'], '가격':[12000,13000,15000],'호수':[10,9,8]}\n",
    "df = pd.DataFrame(data)\n",
    "df"
   ],
   "metadata": {
    "collapsed": false,
    "ExecuteTime": {
     "end_time": "2023-07-10T06:10:24.002046Z",
     "start_time": "2023-07-10T06:10:23.994657Z"
    }
   }
  },
  {
   "cell_type": "markdown",
   "source": [
    "데이터 불러오기 및 저장"
   ],
   "metadata": {
    "collapsed": false
   }
  },
  {
   "cell_type": "code",
   "execution_count": 21,
   "outputs": [],
   "source": [
    "#데이터 생성:csv 파일(data.csv)생성\n",
    "import pandas as pd\n",
    "data = {'메뉴':['후라이드', '양념치킨', '간장치킨','마늘치킨','파닭','닭강정','양반후반'], '가격':[12000,13000,14000,14000,14000,15000,13000],'호수':['10호','9호','8호','7호','6호','5호','4호'],'칼로리':[100,200,300,400,500,600,700]}\n",
    "data = pd.DataFrame(data)\n",
    "data.to_csv('modudak.csv', index=False)"
   ],
   "metadata": {
    "collapsed": false,
    "ExecuteTime": {
     "end_time": "2023-07-10T07:26:31.598749Z",
     "start_time": "2023-07-10T07:26:31.594042Z"
    }
   }
  },
  {
   "cell_type": "code",
   "execution_count": 23,
   "outputs": [
    {
     "data": {
      "text/plain": "     메뉴     가격   호수  칼로리\n0  후라이드  12000  10호  100\n1  양념치킨  13000   9호  200\n2  간장치킨  14000   8호  300\n3  마늘치킨  14000   7호  400\n4    파닭  14000   6호  500\n5   닭강정  15000   5호  600\n6  양반후반  13000   4호  700",
      "text/html": "<div>\n<style scoped>\n    .dataframe tbody tr th:only-of-type {\n        vertical-align: middle;\n    }\n\n    .dataframe tbody tr th {\n        vertical-align: top;\n    }\n\n    .dataframe thead th {\n        text-align: right;\n    }\n</style>\n<table border=\"1\" class=\"dataframe\">\n  <thead>\n    <tr style=\"text-align: right;\">\n      <th></th>\n      <th>메뉴</th>\n      <th>가격</th>\n      <th>호수</th>\n      <th>칼로리</th>\n    </tr>\n  </thead>\n  <tbody>\n    <tr>\n      <th>0</th>\n      <td>후라이드</td>\n      <td>12000</td>\n      <td>10호</td>\n      <td>100</td>\n    </tr>\n    <tr>\n      <th>1</th>\n      <td>양념치킨</td>\n      <td>13000</td>\n      <td>9호</td>\n      <td>200</td>\n    </tr>\n    <tr>\n      <th>2</th>\n      <td>간장치킨</td>\n      <td>14000</td>\n      <td>8호</td>\n      <td>300</td>\n    </tr>\n    <tr>\n      <th>3</th>\n      <td>마늘치킨</td>\n      <td>14000</td>\n      <td>7호</td>\n      <td>400</td>\n    </tr>\n    <tr>\n      <th>4</th>\n      <td>파닭</td>\n      <td>14000</td>\n      <td>6호</td>\n      <td>500</td>\n    </tr>\n    <tr>\n      <th>5</th>\n      <td>닭강정</td>\n      <td>15000</td>\n      <td>5호</td>\n      <td>600</td>\n    </tr>\n    <tr>\n      <th>6</th>\n      <td>양반후반</td>\n      <td>13000</td>\n      <td>4호</td>\n      <td>700</td>\n    </tr>\n  </tbody>\n</table>\n</div>"
     },
     "execution_count": 23,
     "metadata": {},
     "output_type": "execute_result"
    }
   ],
   "source": [
    "#데이터 불러오기\n",
    "pd.read_csv('modudak.csv')"
   ],
   "metadata": {
    "collapsed": false,
    "ExecuteTime": {
     "end_time": "2023-07-10T07:26:54.414690Z",
     "start_time": "2023-07-10T07:26:54.402699Z"
    }
   }
  },
  {
   "cell_type": "code",
   "execution_count": 24,
   "outputs": [],
   "source": [
    "#데이터 불러와서 변수에 담기\n",
    "df= pd.read_csv('modudak.csv')"
   ],
   "metadata": {
    "collapsed": false,
    "ExecuteTime": {
     "end_time": "2023-07-10T07:27:20.255898Z",
     "start_time": "2023-07-10T07:27:20.240814Z"
    }
   }
  },
  {
   "cell_type": "code",
   "execution_count": 25,
   "outputs": [
    {
     "data": {
      "text/plain": "     메뉴     가격   호수  칼로리\n0  후라이드  12000  10호  100\n1  양념치킨  13000   9호  200\n2  간장치킨  14000   8호  300\n3  마늘치킨  14000   7호  400\n4    파닭  14000   6호  500",
      "text/html": "<div>\n<style scoped>\n    .dataframe tbody tr th:only-of-type {\n        vertical-align: middle;\n    }\n\n    .dataframe tbody tr th {\n        vertical-align: top;\n    }\n\n    .dataframe thead th {\n        text-align: right;\n    }\n</style>\n<table border=\"1\" class=\"dataframe\">\n  <thead>\n    <tr style=\"text-align: right;\">\n      <th></th>\n      <th>메뉴</th>\n      <th>가격</th>\n      <th>호수</th>\n      <th>칼로리</th>\n    </tr>\n  </thead>\n  <tbody>\n    <tr>\n      <th>0</th>\n      <td>후라이드</td>\n      <td>12000</td>\n      <td>10호</td>\n      <td>100</td>\n    </tr>\n    <tr>\n      <th>1</th>\n      <td>양념치킨</td>\n      <td>13000</td>\n      <td>9호</td>\n      <td>200</td>\n    </tr>\n    <tr>\n      <th>2</th>\n      <td>간장치킨</td>\n      <td>14000</td>\n      <td>8호</td>\n      <td>300</td>\n    </tr>\n    <tr>\n      <th>3</th>\n      <td>마늘치킨</td>\n      <td>14000</td>\n      <td>7호</td>\n      <td>400</td>\n    </tr>\n    <tr>\n      <th>4</th>\n      <td>파닭</td>\n      <td>14000</td>\n      <td>6호</td>\n      <td>500</td>\n    </tr>\n  </tbody>\n</table>\n</div>"
     },
     "execution_count": 25,
     "metadata": {},
     "output_type": "execute_result"
    }
   ],
   "source": [
    "# 데이터 샘플 확인 : 앞에서 부터 n개(기본5개)\n",
    "df.head()"
   ],
   "metadata": {
    "collapsed": false,
    "ExecuteTime": {
     "end_time": "2023-07-10T07:27:46.165630Z",
     "start_time": "2023-07-10T07:27:46.153413Z"
    }
   }
  },
  {
   "cell_type": "code",
   "execution_count": 26,
   "outputs": [
    {
     "data": {
      "text/plain": "     메뉴     가격  호수  칼로리\n2  간장치킨  14000  8호  300\n3  마늘치킨  14000  7호  400\n4    파닭  14000  6호  500\n5   닭강정  15000  5호  600\n6  양반후반  13000  4호  700",
      "text/html": "<div>\n<style scoped>\n    .dataframe tbody tr th:only-of-type {\n        vertical-align: middle;\n    }\n\n    .dataframe tbody tr th {\n        vertical-align: top;\n    }\n\n    .dataframe thead th {\n        text-align: right;\n    }\n</style>\n<table border=\"1\" class=\"dataframe\">\n  <thead>\n    <tr style=\"text-align: right;\">\n      <th></th>\n      <th>메뉴</th>\n      <th>가격</th>\n      <th>호수</th>\n      <th>칼로리</th>\n    </tr>\n  </thead>\n  <tbody>\n    <tr>\n      <th>2</th>\n      <td>간장치킨</td>\n      <td>14000</td>\n      <td>8호</td>\n      <td>300</td>\n    </tr>\n    <tr>\n      <th>3</th>\n      <td>마늘치킨</td>\n      <td>14000</td>\n      <td>7호</td>\n      <td>400</td>\n    </tr>\n    <tr>\n      <th>4</th>\n      <td>파닭</td>\n      <td>14000</td>\n      <td>6호</td>\n      <td>500</td>\n    </tr>\n    <tr>\n      <th>5</th>\n      <td>닭강정</td>\n      <td>15000</td>\n      <td>5호</td>\n      <td>600</td>\n    </tr>\n    <tr>\n      <th>6</th>\n      <td>양반후반</td>\n      <td>13000</td>\n      <td>4호</td>\n      <td>700</td>\n    </tr>\n  </tbody>\n</table>\n</div>"
     },
     "execution_count": 26,
     "metadata": {},
     "output_type": "execute_result"
    }
   ],
   "source": [
    "# 데이터 샘플 확인 : 뒤에서 부터 n개(기본5개)\n",
    "df.tail()"
   ],
   "metadata": {
    "collapsed": false,
    "ExecuteTime": {
     "end_time": "2023-07-10T07:27:54.638473Z",
     "start_time": "2023-07-10T07:27:54.623886Z"
    }
   }
  },
  {
   "cell_type": "code",
   "execution_count": 27,
   "outputs": [
    {
     "data": {
      "text/plain": "     메뉴     가격  호수  칼로리\n5   닭강정  15000  5호  600\n6  양반후반  13000  4호  700",
      "text/html": "<div>\n<style scoped>\n    .dataframe tbody tr th:only-of-type {\n        vertical-align: middle;\n    }\n\n    .dataframe tbody tr th {\n        vertical-align: top;\n    }\n\n    .dataframe thead th {\n        text-align: right;\n    }\n</style>\n<table border=\"1\" class=\"dataframe\">\n  <thead>\n    <tr style=\"text-align: right;\">\n      <th></th>\n      <th>메뉴</th>\n      <th>가격</th>\n      <th>호수</th>\n      <th>칼로리</th>\n    </tr>\n  </thead>\n  <tbody>\n    <tr>\n      <th>5</th>\n      <td>닭강정</td>\n      <td>15000</td>\n      <td>5호</td>\n      <td>600</td>\n    </tr>\n    <tr>\n      <th>6</th>\n      <td>양반후반</td>\n      <td>13000</td>\n      <td>4호</td>\n      <td>700</td>\n    </tr>\n  </tbody>\n</table>\n</div>"
     },
     "execution_count": 27,
     "metadata": {},
     "output_type": "execute_result"
    }
   ],
   "source": [
    "#데이터 샘플 확인 : 뒤에서 부터 2개\n",
    "df.tail(2)"
   ],
   "metadata": {
    "collapsed": false,
    "ExecuteTime": {
     "end_time": "2023-07-10T07:29:00.419174Z",
     "start_time": "2023-07-10T07:29:00.392250Z"
    }
   }
  },
  {
   "cell_type": "code",
   "execution_count": 31,
   "outputs": [],
   "source": [
    "#csv 파일로 저장하기\n",
    "df.to_csv('test.csv', index=False)"
   ],
   "metadata": {
    "collapsed": false,
    "ExecuteTime": {
     "end_time": "2023-07-10T07:30:18.521775Z",
     "start_time": "2023-07-10T07:30:18.514571Z"
    }
   }
  },
  {
   "cell_type": "code",
   "execution_count": 32,
   "outputs": [
    {
     "data": {
      "text/plain": "     메뉴     가격   호수  칼로리\n0  후라이드  12000  10호  100\n1  양념치킨  13000   9호  200\n2  간장치킨  14000   8호  300\n3  마늘치킨  14000   7호  400\n4    파닭  14000   6호  500\n5   닭강정  15000   5호  600\n6  양반후반  13000   4호  700",
      "text/html": "<div>\n<style scoped>\n    .dataframe tbody tr th:only-of-type {\n        vertical-align: middle;\n    }\n\n    .dataframe tbody tr th {\n        vertical-align: top;\n    }\n\n    .dataframe thead th {\n        text-align: right;\n    }\n</style>\n<table border=\"1\" class=\"dataframe\">\n  <thead>\n    <tr style=\"text-align: right;\">\n      <th></th>\n      <th>메뉴</th>\n      <th>가격</th>\n      <th>호수</th>\n      <th>칼로리</th>\n    </tr>\n  </thead>\n  <tbody>\n    <tr>\n      <th>0</th>\n      <td>후라이드</td>\n      <td>12000</td>\n      <td>10호</td>\n      <td>100</td>\n    </tr>\n    <tr>\n      <th>1</th>\n      <td>양념치킨</td>\n      <td>13000</td>\n      <td>9호</td>\n      <td>200</td>\n    </tr>\n    <tr>\n      <th>2</th>\n      <td>간장치킨</td>\n      <td>14000</td>\n      <td>8호</td>\n      <td>300</td>\n    </tr>\n    <tr>\n      <th>3</th>\n      <td>마늘치킨</td>\n      <td>14000</td>\n      <td>7호</td>\n      <td>400</td>\n    </tr>\n    <tr>\n      <th>4</th>\n      <td>파닭</td>\n      <td>14000</td>\n      <td>6호</td>\n      <td>500</td>\n    </tr>\n    <tr>\n      <th>5</th>\n      <td>닭강정</td>\n      <td>15000</td>\n      <td>5호</td>\n      <td>600</td>\n    </tr>\n    <tr>\n      <th>6</th>\n      <td>양반후반</td>\n      <td>13000</td>\n      <td>4호</td>\n      <td>700</td>\n    </tr>\n  </tbody>\n</table>\n</div>"
     },
     "execution_count": 32,
     "metadata": {},
     "output_type": "execute_result"
    }
   ],
   "source": [
    "# 저장된 csv 확인\n",
    "pd.read_csv('test.csv')"
   ],
   "metadata": {
    "collapsed": false,
    "ExecuteTime": {
     "end_time": "2023-07-10T07:30:19.579953Z",
     "start_time": "2023-07-10T07:30:19.569938Z"
    }
   }
  },
  {
   "cell_type": "code",
   "execution_count": 33,
   "outputs": [
    {
     "data": {
      "text/plain": "pandas.core.frame.DataFrame"
     },
     "execution_count": 33,
     "metadata": {},
     "output_type": "execute_result"
    }
   ],
   "source": [
    "#csv 파일을 저장한 변수의 type은 무엇일까요?\n",
    "type(df)"
   ],
   "metadata": {
    "collapsed": false,
    "ExecuteTime": {
     "end_time": "2023-07-10T07:31:26.328748Z",
     "start_time": "2023-07-10T07:31:26.323098Z"
    }
   }
  },
  {
   "cell_type": "markdown",
   "source": [
    "데이터 선택하기"
   ],
   "metadata": {
    "collapsed": false
   }
  },
  {
   "cell_type": "code",
   "execution_count": 34,
   "outputs": [
    {
     "data": {
      "text/plain": "0    후라이드\n1    양념치킨\n2    간장치킨\n3    마늘치킨\n4      파닭\n5     닭강정\n6    양반후반\nName: 메뉴, dtype: object"
     },
     "execution_count": 34,
     "metadata": {},
     "output_type": "execute_result"
    }
   ],
   "source": [
    "#열 (column) 선택하기\n",
    "# 시리즈 선택(메뉴)\n",
    "df['메뉴']"
   ],
   "metadata": {
    "collapsed": false,
    "ExecuteTime": {
     "end_time": "2023-07-10T07:32:49.183450Z",
     "start_time": "2023-07-10T07:32:49.178347Z"
    }
   }
  },
  {
   "cell_type": "code",
   "execution_count": 35,
   "outputs": [
    {
     "data": {
      "text/plain": "     메뉴     가격\n0  후라이드  12000\n1  양념치킨  13000\n2  간장치킨  14000\n3  마늘치킨  14000\n4    파닭  14000\n5   닭강정  15000\n6  양반후반  13000",
      "text/html": "<div>\n<style scoped>\n    .dataframe tbody tr th:only-of-type {\n        vertical-align: middle;\n    }\n\n    .dataframe tbody tr th {\n        vertical-align: top;\n    }\n\n    .dataframe thead th {\n        text-align: right;\n    }\n</style>\n<table border=\"1\" class=\"dataframe\">\n  <thead>\n    <tr style=\"text-align: right;\">\n      <th></th>\n      <th>메뉴</th>\n      <th>가격</th>\n    </tr>\n  </thead>\n  <tbody>\n    <tr>\n      <th>0</th>\n      <td>후라이드</td>\n      <td>12000</td>\n    </tr>\n    <tr>\n      <th>1</th>\n      <td>양념치킨</td>\n      <td>13000</td>\n    </tr>\n    <tr>\n      <th>2</th>\n      <td>간장치킨</td>\n      <td>14000</td>\n    </tr>\n    <tr>\n      <th>3</th>\n      <td>마늘치킨</td>\n      <td>14000</td>\n    </tr>\n    <tr>\n      <th>4</th>\n      <td>파닭</td>\n      <td>14000</td>\n    </tr>\n    <tr>\n      <th>5</th>\n      <td>닭강정</td>\n      <td>15000</td>\n    </tr>\n    <tr>\n      <th>6</th>\n      <td>양반후반</td>\n      <td>13000</td>\n    </tr>\n  </tbody>\n</table>\n</div>"
     },
     "execution_count": 35,
     "metadata": {},
     "output_type": "execute_result"
    }
   ],
   "source": [
    "#데이터 프레임 선택(메뉴,가격)\n",
    "df[['메뉴','가격']] # 시리즈 2개는 대괄호 2번 필요"
   ],
   "metadata": {
    "collapsed": false,
    "ExecuteTime": {
     "end_time": "2023-07-10T07:32:56.040072Z",
     "start_time": "2023-07-10T07:32:56.034766Z"
    }
   }
  },
  {
   "cell_type": "code",
   "execution_count": 39,
   "outputs": [
    {
     "data": {
      "text/plain": "pandas.core.frame.DataFrame"
     },
     "execution_count": 39,
     "metadata": {},
     "output_type": "execute_result"
    }
   ],
   "source": [
    "#type 확인\n",
    "type(df[['메뉴','가격']])"
   ],
   "metadata": {
    "collapsed": false,
    "ExecuteTime": {
     "end_time": "2023-07-10T07:35:13.165737Z",
     "start_time": "2023-07-10T07:35:13.160533Z"
    }
   }
  },
  {
   "cell_type": "code",
   "execution_count": 41,
   "outputs": [
    {
     "data": {
      "text/plain": "0    False\n1    False\n2    False\n3    False\n4    False\n5     True\n6    False\nName: 가격, dtype: bool"
     },
     "execution_count": 41,
     "metadata": {},
     "output_type": "execute_result"
    }
   ],
   "source": [
    "#행(row) 선택하기\n",
    "#14000원 보다 큰 가격\n",
    "df['가격']>14000"
   ],
   "metadata": {
    "collapsed": false,
    "ExecuteTime": {
     "end_time": "2023-07-10T07:36:24.516063Z",
     "start_time": "2023-07-10T07:36:24.509382Z"
    }
   }
  },
  {
   "cell_type": "code",
   "execution_count": 42,
   "outputs": [
    {
     "data": {
      "text/plain": "    메뉴     가격  호수  칼로리\n5  닭강정  15000  5호  600",
      "text/html": "<div>\n<style scoped>\n    .dataframe tbody tr th:only-of-type {\n        vertical-align: middle;\n    }\n\n    .dataframe tbody tr th {\n        vertical-align: top;\n    }\n\n    .dataframe thead th {\n        text-align: right;\n    }\n</style>\n<table border=\"1\" class=\"dataframe\">\n  <thead>\n    <tr style=\"text-align: right;\">\n      <th></th>\n      <th>메뉴</th>\n      <th>가격</th>\n      <th>호수</th>\n      <th>칼로리</th>\n    </tr>\n  </thead>\n  <tbody>\n    <tr>\n      <th>5</th>\n      <td>닭강정</td>\n      <td>15000</td>\n      <td>5호</td>\n      <td>600</td>\n    </tr>\n  </tbody>\n</table>\n</div>"
     },
     "execution_count": 42,
     "metadata": {},
     "output_type": "execute_result"
    }
   ],
   "source": [
    "# 14000원보다 큰 가격 데이터 선택\n",
    "cond = df['가격']>14000\n",
    "df[cond]"
   ],
   "metadata": {
    "collapsed": false,
    "ExecuteTime": {
     "end_time": "2023-07-10T07:36:56.552044Z",
     "start_time": "2023-07-10T07:36:56.545515Z"
    }
   }
  },
  {
   "cell_type": "code",
   "execution_count": 44,
   "outputs": [
    {
     "data": {
      "text/plain": "    메뉴     가격  호수  칼로리\n5  닭강정  15000  5호  600",
      "text/html": "<div>\n<style scoped>\n    .dataframe tbody tr th:only-of-type {\n        vertical-align: middle;\n    }\n\n    .dataframe tbody tr th {\n        vertical-align: top;\n    }\n\n    .dataframe thead th {\n        text-align: right;\n    }\n</style>\n<table border=\"1\" class=\"dataframe\">\n  <thead>\n    <tr style=\"text-align: right;\">\n      <th></th>\n      <th>메뉴</th>\n      <th>가격</th>\n      <th>호수</th>\n      <th>칼로리</th>\n    </tr>\n  </thead>\n  <tbody>\n    <tr>\n      <th>5</th>\n      <td>닭강정</td>\n      <td>15000</td>\n      <td>5호</td>\n      <td>600</td>\n    </tr>\n  </tbody>\n</table>\n</div>"
     },
     "execution_count": 44,
     "metadata": {},
     "output_type": "execute_result"
    }
   ],
   "source": [
    "# 조건 2개 이상일때(AND)\n",
    "cond1 = df['가격']>14000\n",
    "cond2 = df['호수']=='5호'\n",
    "df[cond1 & cond2]"
   ],
   "metadata": {
    "collapsed": false,
    "ExecuteTime": {
     "end_time": "2023-07-10T07:38:09.273618Z",
     "start_time": "2023-07-10T07:38:09.269400Z"
    }
   }
  },
  {
   "cell_type": "code",
   "execution_count": 45,
   "outputs": [
    {
     "data": {
      "text/plain": "    메뉴     가격  호수  칼로리\n5  닭강정  15000  5호  600",
      "text/html": "<div>\n<style scoped>\n    .dataframe tbody tr th:only-of-type {\n        vertical-align: middle;\n    }\n\n    .dataframe tbody tr th {\n        vertical-align: top;\n    }\n\n    .dataframe thead th {\n        text-align: right;\n    }\n</style>\n<table border=\"1\" class=\"dataframe\">\n  <thead>\n    <tr style=\"text-align: right;\">\n      <th></th>\n      <th>메뉴</th>\n      <th>가격</th>\n      <th>호수</th>\n      <th>칼로리</th>\n    </tr>\n  </thead>\n  <tbody>\n    <tr>\n      <th>5</th>\n      <td>닭강정</td>\n      <td>15000</td>\n      <td>5호</td>\n      <td>600</td>\n    </tr>\n  </tbody>\n</table>\n</div>"
     },
     "execution_count": 45,
     "metadata": {},
     "output_type": "execute_result"
    }
   ],
   "source": [
    "# 조건 2개 이상일때(OR)\n",
    "cond1 = df['가격']>14000\n",
    "cond2 = df['호수']=='5호'\n",
    "df[cond1 | cond2]"
   ],
   "metadata": {
    "collapsed": false,
    "ExecuteTime": {
     "end_time": "2023-07-10T07:38:33.207824Z",
     "start_time": "2023-07-10T07:38:33.183877Z"
    }
   }
  },
  {
   "cell_type": "code",
   "execution_count": 46,
   "outputs": [
    {
     "data": {
      "text/plain": "    메뉴     가격  호수  칼로리\n4   파닭  14000  6호  500\n5  닭강정  15000  5호  600",
      "text/html": "<div>\n<style scoped>\n    .dataframe tbody tr th:only-of-type {\n        vertical-align: middle;\n    }\n\n    .dataframe tbody tr th {\n        vertical-align: top;\n    }\n\n    .dataframe thead th {\n        text-align: right;\n    }\n</style>\n<table border=\"1\" class=\"dataframe\">\n  <thead>\n    <tr style=\"text-align: right;\">\n      <th></th>\n      <th>메뉴</th>\n      <th>가격</th>\n      <th>호수</th>\n      <th>칼로리</th>\n    </tr>\n  </thead>\n  <tbody>\n    <tr>\n      <th>4</th>\n      <td>파닭</td>\n      <td>14000</td>\n      <td>6호</td>\n      <td>500</td>\n    </tr>\n    <tr>\n      <th>5</th>\n      <td>닭강정</td>\n      <td>15000</td>\n      <td>5호</td>\n      <td>600</td>\n    </tr>\n  </tbody>\n</table>\n</div>"
     },
     "execution_count": 46,
     "metadata": {},
     "output_type": "execute_result"
    }
   ],
   "source": [
    "# isin() : 조건 여러개일때\n",
    "cond = df['호수'].isin(['5호','6호'])\n",
    "df[cond]\n"
   ],
   "metadata": {
    "collapsed": false,
    "ExecuteTime": {
     "end_time": "2023-07-10T07:39:18.112446Z",
     "start_time": "2023-07-10T07:39:18.095504Z"
    }
   }
  },
  {
   "cell_type": "markdown",
   "source": [
    "인덱싱 / 슬라이싱"
   ],
   "metadata": {
    "collapsed": false
   }
  },
  {
   "cell_type": "code",
   "execution_count": 47,
   "outputs": [
    {
     "data": {
      "text/plain": "     메뉴     가격   호수  칼로리\n0  후라이드  12000  10호  100\n1  양념치킨  13000   9호  200\n2  간장치킨  14000   8호  300\n3  마늘치킨  14000   7호  400\n4    파닭  14000   6호  500\n5   닭강정  15000   5호  600\n6  양반후반  13000   4호  700",
      "text/html": "<div>\n<style scoped>\n    .dataframe tbody tr th:only-of-type {\n        vertical-align: middle;\n    }\n\n    .dataframe tbody tr th {\n        vertical-align: top;\n    }\n\n    .dataframe thead th {\n        text-align: right;\n    }\n</style>\n<table border=\"1\" class=\"dataframe\">\n  <thead>\n    <tr style=\"text-align: right;\">\n      <th></th>\n      <th>메뉴</th>\n      <th>가격</th>\n      <th>호수</th>\n      <th>칼로리</th>\n    </tr>\n  </thead>\n  <tbody>\n    <tr>\n      <th>0</th>\n      <td>후라이드</td>\n      <td>12000</td>\n      <td>10호</td>\n      <td>100</td>\n    </tr>\n    <tr>\n      <th>1</th>\n      <td>양념치킨</td>\n      <td>13000</td>\n      <td>9호</td>\n      <td>200</td>\n    </tr>\n    <tr>\n      <th>2</th>\n      <td>간장치킨</td>\n      <td>14000</td>\n      <td>8호</td>\n      <td>300</td>\n    </tr>\n    <tr>\n      <th>3</th>\n      <td>마늘치킨</td>\n      <td>14000</td>\n      <td>7호</td>\n      <td>400</td>\n    </tr>\n    <tr>\n      <th>4</th>\n      <td>파닭</td>\n      <td>14000</td>\n      <td>6호</td>\n      <td>500</td>\n    </tr>\n    <tr>\n      <th>5</th>\n      <td>닭강정</td>\n      <td>15000</td>\n      <td>5호</td>\n      <td>600</td>\n    </tr>\n    <tr>\n      <th>6</th>\n      <td>양반후반</td>\n      <td>13000</td>\n      <td>4호</td>\n      <td>700</td>\n    </tr>\n  </tbody>\n</table>\n</div>"
     },
     "execution_count": 47,
     "metadata": {},
     "output_type": "execute_result"
    }
   ],
   "source": [
    "# 데이터 불러오기\n",
    "df = pd.read_csv('modudak.csv')\n",
    "df"
   ],
   "metadata": {
    "collapsed": false,
    "ExecuteTime": {
     "end_time": "2023-07-10T07:42:44.982813Z",
     "start_time": "2023-07-10T07:42:44.975204Z"
    }
   }
  },
  {
   "cell_type": "code",
   "execution_count": 49,
   "outputs": [
    {
     "data": {
      "text/plain": "         메뉴     가격   호수  칼로리\nindex                       \na      후라이드  12000  10호  100\nb      양념치킨  13000   9호  200\nc      간장치킨  14000   8호  300\nd      마늘치킨  14000   7호  400\ne        파닭  14000   6호  500\nf       닭강정  15000   5호  600\ng      양반후반  13000   4호  700",
      "text/html": "<div>\n<style scoped>\n    .dataframe tbody tr th:only-of-type {\n        vertical-align: middle;\n    }\n\n    .dataframe tbody tr th {\n        vertical-align: top;\n    }\n\n    .dataframe thead th {\n        text-align: right;\n    }\n</style>\n<table border=\"1\" class=\"dataframe\">\n  <thead>\n    <tr style=\"text-align: right;\">\n      <th></th>\n      <th>메뉴</th>\n      <th>가격</th>\n      <th>호수</th>\n      <th>칼로리</th>\n    </tr>\n    <tr>\n      <th>index</th>\n      <th></th>\n      <th></th>\n      <th></th>\n      <th></th>\n    </tr>\n  </thead>\n  <tbody>\n    <tr>\n      <th>a</th>\n      <td>후라이드</td>\n      <td>12000</td>\n      <td>10호</td>\n      <td>100</td>\n    </tr>\n    <tr>\n      <th>b</th>\n      <td>양념치킨</td>\n      <td>13000</td>\n      <td>9호</td>\n      <td>200</td>\n    </tr>\n    <tr>\n      <th>c</th>\n      <td>간장치킨</td>\n      <td>14000</td>\n      <td>8호</td>\n      <td>300</td>\n    </tr>\n    <tr>\n      <th>d</th>\n      <td>마늘치킨</td>\n      <td>14000</td>\n      <td>7호</td>\n      <td>400</td>\n    </tr>\n    <tr>\n      <th>e</th>\n      <td>파닭</td>\n      <td>14000</td>\n      <td>6호</td>\n      <td>500</td>\n    </tr>\n    <tr>\n      <th>f</th>\n      <td>닭강정</td>\n      <td>15000</td>\n      <td>5호</td>\n      <td>600</td>\n    </tr>\n    <tr>\n      <th>g</th>\n      <td>양반후반</td>\n      <td>13000</td>\n      <td>4호</td>\n      <td>700</td>\n    </tr>\n  </tbody>\n</table>\n</div>"
     },
     "execution_count": 49,
     "metadata": {},
     "output_type": "execute_result"
    }
   ],
   "source": [
    "# 인덱스명 임의 변경\n",
    "df['index'] = ['a','b','c','d','e','f','g']\n",
    "df = df.set_index(keys=['index'])\n",
    "df"
   ],
   "metadata": {
    "collapsed": false,
    "ExecuteTime": {
     "end_time": "2023-07-10T07:44:18.774271Z",
     "start_time": "2023-07-10T07:44:18.769381Z"
    }
   }
  },
  {
   "cell_type": "markdown",
   "source": [
    "loc\n",
    "\n",
    "인덱스 이름으로 데이터 선택\n",
    "\n",
    "인덱스명(범위), 컬럼명(범위)"
   ],
   "metadata": {
    "collapsed": false
   }
  },
  {
   "cell_type": "code",
   "execution_count": 50,
   "outputs": [
    {
     "data": {
      "text/plain": "메뉴      후라이드\n가격     12000\n호수       10호\n칼로리      100\nName: a, dtype: object"
     },
     "execution_count": 50,
     "metadata": {},
     "output_type": "execute_result"
    }
   ],
   "source": [
    "#인덱싱(행전체)\n",
    "#후라이드\n",
    "df.loc['a']"
   ],
   "metadata": {
    "collapsed": false,
    "ExecuteTime": {
     "end_time": "2023-07-10T07:45:21.237917Z",
     "start_time": "2023-07-10T07:45:21.204387Z"
    }
   }
  },
  {
   "cell_type": "code",
   "execution_count": 51,
   "outputs": [
    {
     "data": {
      "text/plain": "index\na    12000\nb    13000\nc    14000\nd    14000\ne    14000\nf    15000\ng    13000\nName: 가격, dtype: int64"
     },
     "execution_count": 51,
     "metadata": {},
     "output_type": "execute_result"
    }
   ],
   "source": [
    "#슬라이싱(컬럼전체)\n",
    "#가격\n",
    "df.loc[:,'가격']"
   ],
   "metadata": {
    "collapsed": false,
    "ExecuteTime": {
     "end_time": "2023-07-10T07:45:59.958143Z",
     "start_time": "2023-07-10T07:45:59.923234Z"
    }
   }
  },
  {
   "cell_type": "code",
   "execution_count": 52,
   "outputs": [
    {
     "data": {
      "text/plain": "         메뉴     가격  호수  칼로리\nindex                      \nb      양념치킨  13000  9호  200\nc      간장치킨  14000  8호  300\nd      마늘치킨  14000  7호  400\ne        파닭  14000  6호  500\nf       닭강정  15000  5호  600\ng      양반후반  13000  4호  700",
      "text/html": "<div>\n<style scoped>\n    .dataframe tbody tr th:only-of-type {\n        vertical-align: middle;\n    }\n\n    .dataframe tbody tr th {\n        vertical-align: top;\n    }\n\n    .dataframe thead th {\n        text-align: right;\n    }\n</style>\n<table border=\"1\" class=\"dataframe\">\n  <thead>\n    <tr style=\"text-align: right;\">\n      <th></th>\n      <th>메뉴</th>\n      <th>가격</th>\n      <th>호수</th>\n      <th>칼로리</th>\n    </tr>\n    <tr>\n      <th>index</th>\n      <th></th>\n      <th></th>\n      <th></th>\n      <th></th>\n    </tr>\n  </thead>\n  <tbody>\n    <tr>\n      <th>b</th>\n      <td>양념치킨</td>\n      <td>13000</td>\n      <td>9호</td>\n      <td>200</td>\n    </tr>\n    <tr>\n      <th>c</th>\n      <td>간장치킨</td>\n      <td>14000</td>\n      <td>8호</td>\n      <td>300</td>\n    </tr>\n    <tr>\n      <th>d</th>\n      <td>마늘치킨</td>\n      <td>14000</td>\n      <td>7호</td>\n      <td>400</td>\n    </tr>\n    <tr>\n      <th>e</th>\n      <td>파닭</td>\n      <td>14000</td>\n      <td>6호</td>\n      <td>500</td>\n    </tr>\n    <tr>\n      <th>f</th>\n      <td>닭강정</td>\n      <td>15000</td>\n      <td>5호</td>\n      <td>600</td>\n    </tr>\n    <tr>\n      <th>g</th>\n      <td>양반후반</td>\n      <td>13000</td>\n      <td>4호</td>\n      <td>700</td>\n    </tr>\n  </tbody>\n</table>\n</div>"
     },
     "execution_count": 52,
     "metadata": {},
     "output_type": "execute_result"
    }
   ],
   "source": [
    "#슬라이싱(컬럼전체)\n",
    "#양념치킨 가격\n",
    "df.loc['b':'가격']"
   ],
   "metadata": {
    "collapsed": false,
    "ExecuteTime": {
     "end_time": "2023-07-10T07:46:36.904066Z",
     "start_time": "2023-07-10T07:46:36.888157Z"
    }
   }
  },
  {
   "cell_type": "code",
   "execution_count": 54,
   "outputs": [
    {
     "data": {
      "text/plain": "메뉴     간장치킨\n가격    14000\nName: c, dtype: object"
     },
     "execution_count": 54,
     "metadata": {},
     "output_type": "execute_result"
    }
   ],
   "source": [
    "#슬라이싱\n",
    "#간장치킨 메뉴와 가격\n",
    "df.loc['c','메뉴':'가격']"
   ],
   "metadata": {
    "collapsed": false,
    "ExecuteTime": {
     "end_time": "2023-07-10T07:47:50.573600Z",
     "start_time": "2023-07-10T07:47:50.564616Z"
    }
   }
  },
  {
   "cell_type": "code",
   "execution_count": 55,
   "outputs": [
    {
     "data": {
      "text/plain": "메뉴      간장치킨\n가격     14000\n호수        8호\n칼로리      300\nName: c, dtype: object"
     },
     "execution_count": 55,
     "metadata": {},
     "output_type": "execute_result"
    }
   ],
   "source": [
    "#슬라이싱\n",
    "#간장치킨 메뉴와 칼로리\n",
    "df.loc['c','메뉴':'칼로리']"
   ],
   "metadata": {
    "collapsed": false,
    "ExecuteTime": {
     "end_time": "2023-07-10T07:48:29.119489Z",
     "start_time": "2023-07-10T07:48:29.083295Z"
    }
   }
  },
  {
   "cell_type": "code",
   "execution_count": 56,
   "outputs": [
    {
     "data": {
      "text/plain": "메뉴     간장치킨\n칼로리     300\nName: c, dtype: object"
     },
     "execution_count": 56,
     "metadata": {},
     "output_type": "execute_result"
    }
   ],
   "source": [
    "#슬라이싱\n",
    "#간장치킨 메뉴와 칼로리만 출력\n",
    "df.loc['c',['메뉴','칼로리']]"
   ],
   "metadata": {
    "collapsed": false,
    "ExecuteTime": {
     "end_time": "2023-07-10T07:48:56.792201Z",
     "start_time": "2023-07-10T07:48:56.781713Z"
    }
   }
  },
  {
   "cell_type": "code",
   "execution_count": 57,
   "outputs": [
    {
     "data": {
      "text/plain": "         메뉴     가격\nindex             \nb      양념치킨  13000\nc      간장치킨  14000\nd      마늘치킨  14000",
      "text/html": "<div>\n<style scoped>\n    .dataframe tbody tr th:only-of-type {\n        vertical-align: middle;\n    }\n\n    .dataframe tbody tr th {\n        vertical-align: top;\n    }\n\n    .dataframe thead th {\n        text-align: right;\n    }\n</style>\n<table border=\"1\" class=\"dataframe\">\n  <thead>\n    <tr style=\"text-align: right;\">\n      <th></th>\n      <th>메뉴</th>\n      <th>가격</th>\n    </tr>\n    <tr>\n      <th>index</th>\n      <th></th>\n      <th></th>\n    </tr>\n  </thead>\n  <tbody>\n    <tr>\n      <th>b</th>\n      <td>양념치킨</td>\n      <td>13000</td>\n    </tr>\n    <tr>\n      <th>c</th>\n      <td>간장치킨</td>\n      <td>14000</td>\n    </tr>\n    <tr>\n      <th>d</th>\n      <td>마늘치킨</td>\n      <td>14000</td>\n    </tr>\n  </tbody>\n</table>\n</div>"
     },
     "execution_count": 57,
     "metadata": {},
     "output_type": "execute_result"
    }
   ],
   "source": [
    "#슬라이싱\n",
    "#양념치킨에서 마늘치킨까지 메뉴와 가격\n",
    "df.loc['b':'d','메뉴':'가격']"
   ],
   "metadata": {
    "collapsed": false,
    "ExecuteTime": {
     "end_time": "2023-07-10T07:49:37.530752Z",
     "start_time": "2023-07-10T07:49:37.497096Z"
    }
   }
  },
  {
   "cell_type": "markdown",
   "source": [
    "iloc\n",
    "\n",
    "인덱스 번호로 데이터 선택"
   ],
   "metadata": {
    "collapsed": false
   }
  },
  {
   "cell_type": "code",
   "execution_count": 58,
   "outputs": [
    {
     "data": {
      "text/plain": "         메뉴     가격   호수  칼로리\nindex                       \na      후라이드  12000  10호  100\nb      양념치킨  13000   9호  200\nc      간장치킨  14000   8호  300\nd      마늘치킨  14000   7호  400\ne        파닭  14000   6호  500\nf       닭강정  15000   5호  600\ng      양반후반  13000   4호  700",
      "text/html": "<div>\n<style scoped>\n    .dataframe tbody tr th:only-of-type {\n        vertical-align: middle;\n    }\n\n    .dataframe tbody tr th {\n        vertical-align: top;\n    }\n\n    .dataframe thead th {\n        text-align: right;\n    }\n</style>\n<table border=\"1\" class=\"dataframe\">\n  <thead>\n    <tr style=\"text-align: right;\">\n      <th></th>\n      <th>메뉴</th>\n      <th>가격</th>\n      <th>호수</th>\n      <th>칼로리</th>\n    </tr>\n    <tr>\n      <th>index</th>\n      <th></th>\n      <th></th>\n      <th></th>\n      <th></th>\n    </tr>\n  </thead>\n  <tbody>\n    <tr>\n      <th>a</th>\n      <td>후라이드</td>\n      <td>12000</td>\n      <td>10호</td>\n      <td>100</td>\n    </tr>\n    <tr>\n      <th>b</th>\n      <td>양념치킨</td>\n      <td>13000</td>\n      <td>9호</td>\n      <td>200</td>\n    </tr>\n    <tr>\n      <th>c</th>\n      <td>간장치킨</td>\n      <td>14000</td>\n      <td>8호</td>\n      <td>300</td>\n    </tr>\n    <tr>\n      <th>d</th>\n      <td>마늘치킨</td>\n      <td>14000</td>\n      <td>7호</td>\n      <td>400</td>\n    </tr>\n    <tr>\n      <th>e</th>\n      <td>파닭</td>\n      <td>14000</td>\n      <td>6호</td>\n      <td>500</td>\n    </tr>\n    <tr>\n      <th>f</th>\n      <td>닭강정</td>\n      <td>15000</td>\n      <td>5호</td>\n      <td>600</td>\n    </tr>\n    <tr>\n      <th>g</th>\n      <td>양반후반</td>\n      <td>13000</td>\n      <td>4호</td>\n      <td>700</td>\n    </tr>\n  </tbody>\n</table>\n</div>"
     },
     "execution_count": 58,
     "metadata": {},
     "output_type": "execute_result"
    }
   ],
   "source": [
    "#데이터 확인\n",
    "df"
   ],
   "metadata": {
    "collapsed": false,
    "ExecuteTime": {
     "end_time": "2023-07-10T07:50:40.595651Z",
     "start_time": "2023-07-10T07:50:40.579096Z"
    }
   }
  },
  {
   "cell_type": "code",
   "execution_count": 59,
   "outputs": [
    {
     "data": {
      "text/plain": "메뉴      후라이드\n가격     12000\n호수       10호\n칼로리      100\nName: a, dtype: object"
     },
     "execution_count": 59,
     "metadata": {},
     "output_type": "execute_result"
    }
   ],
   "source": [
    "#인덱싱(행전체)\n",
    "#후라이드\n",
    "df.iloc[0]"
   ],
   "metadata": {
    "collapsed": false,
    "ExecuteTime": {
     "end_time": "2023-07-10T07:51:00.316893Z",
     "start_time": "2023-07-10T07:51:00.286437Z"
    }
   }
  },
  {
   "cell_type": "code",
   "execution_count": 62,
   "outputs": [
    {
     "data": {
      "text/plain": "index\na    12000\nb    13000\nc    14000\nd    14000\ne    14000\nf    15000\ng    13000\nName: 가격, dtype: int64"
     },
     "execution_count": 62,
     "metadata": {},
     "output_type": "execute_result"
    }
   ],
   "source": [
    "#슬라이싱(컬럼전체)\n",
    "#가격\n",
    "df.iloc[:,1]"
   ],
   "metadata": {
    "collapsed": false,
    "ExecuteTime": {
     "end_time": "2023-07-10T07:51:45.066496Z",
     "start_time": "2023-07-10T07:51:45.057201Z"
    }
   }
  },
  {
   "cell_type": "code",
   "execution_count": 63,
   "outputs": [
    {
     "data": {
      "text/plain": "메뉴     간장치킨\n가격    14000\nName: c, dtype: object"
     },
     "execution_count": 63,
     "metadata": {},
     "output_type": "execute_result"
    }
   ],
   "source": [
    "#슬라이싱(컬럼전체)\n",
    "#간장치킨 메뉴와 가격\n",
    "df.iloc[2,0:2] #iloc의 경우 범위의 끝은 포함하지 않음"
   ],
   "metadata": {
    "collapsed": false,
    "ExecuteTime": {
     "end_time": "2023-07-10T07:52:51.760236Z",
     "start_time": "2023-07-10T07:52:51.729572Z"
    }
   }
  },
  {
   "cell_type": "code",
   "execution_count": 66,
   "outputs": [
    {
     "data": {
      "text/plain": "         메뉴     가격  호수\nindex                 \nb      양념치킨  13000  9호\nc      간장치킨  14000  8호",
      "text/html": "<div>\n<style scoped>\n    .dataframe tbody tr th:only-of-type {\n        vertical-align: middle;\n    }\n\n    .dataframe tbody tr th {\n        vertical-align: top;\n    }\n\n    .dataframe thead th {\n        text-align: right;\n    }\n</style>\n<table border=\"1\" class=\"dataframe\">\n  <thead>\n    <tr style=\"text-align: right;\">\n      <th></th>\n      <th>메뉴</th>\n      <th>가격</th>\n      <th>호수</th>\n    </tr>\n    <tr>\n      <th>index</th>\n      <th></th>\n      <th></th>\n      <th></th>\n    </tr>\n  </thead>\n  <tbody>\n    <tr>\n      <th>b</th>\n      <td>양념치킨</td>\n      <td>13000</td>\n      <td>9호</td>\n    </tr>\n    <tr>\n      <th>c</th>\n      <td>간장치킨</td>\n      <td>14000</td>\n      <td>8호</td>\n    </tr>\n  </tbody>\n</table>\n</div>"
     },
     "execution_count": 66,
     "metadata": {},
     "output_type": "execute_result"
    }
   ],
   "source": [
    "#슬라이싱(양념치킨과 간장치킨의 데이터)\n",
    "df.iloc[1:3,0:3]"
   ],
   "metadata": {
    "collapsed": false,
    "ExecuteTime": {
     "end_time": "2023-07-10T07:53:52.148799Z",
     "start_time": "2023-07-10T07:53:52.139794Z"
    }
   }
  },
  {
   "cell_type": "markdown",
   "source": [
    "인덱스 다루기"
   ],
   "metadata": {
    "collapsed": false
   }
  },
  {
   "cell_type": "code",
   "execution_count": 67,
   "outputs": [
    {
     "data": {
      "text/plain": "     메뉴     가격   호수  칼로리\n0  후라이드  12000  10호  100\n1  양념치킨  13000   9호  200\n2  간장치킨  14000   8호  300\n3  마늘치킨  14000   7호  400\n4    파닭  14000   6호  500\n5   닭강정  15000   5호  600\n6  양반후반  13000   4호  700",
      "text/html": "<div>\n<style scoped>\n    .dataframe tbody tr th:only-of-type {\n        vertical-align: middle;\n    }\n\n    .dataframe tbody tr th {\n        vertical-align: top;\n    }\n\n    .dataframe thead th {\n        text-align: right;\n    }\n</style>\n<table border=\"1\" class=\"dataframe\">\n  <thead>\n    <tr style=\"text-align: right;\">\n      <th></th>\n      <th>메뉴</th>\n      <th>가격</th>\n      <th>호수</th>\n      <th>칼로리</th>\n    </tr>\n  </thead>\n  <tbody>\n    <tr>\n      <th>0</th>\n      <td>후라이드</td>\n      <td>12000</td>\n      <td>10호</td>\n      <td>100</td>\n    </tr>\n    <tr>\n      <th>1</th>\n      <td>양념치킨</td>\n      <td>13000</td>\n      <td>9호</td>\n      <td>200</td>\n    </tr>\n    <tr>\n      <th>2</th>\n      <td>간장치킨</td>\n      <td>14000</td>\n      <td>8호</td>\n      <td>300</td>\n    </tr>\n    <tr>\n      <th>3</th>\n      <td>마늘치킨</td>\n      <td>14000</td>\n      <td>7호</td>\n      <td>400</td>\n    </tr>\n    <tr>\n      <th>4</th>\n      <td>파닭</td>\n      <td>14000</td>\n      <td>6호</td>\n      <td>500</td>\n    </tr>\n    <tr>\n      <th>5</th>\n      <td>닭강정</td>\n      <td>15000</td>\n      <td>5호</td>\n      <td>600</td>\n    </tr>\n    <tr>\n      <th>6</th>\n      <td>양반후반</td>\n      <td>13000</td>\n      <td>4호</td>\n      <td>700</td>\n    </tr>\n  </tbody>\n</table>\n</div>"
     },
     "execution_count": 67,
     "metadata": {},
     "output_type": "execute_result"
    }
   ],
   "source": [
    "#데이터 불러오기\n",
    "df = pd.read_csv('modudak.csv')\n",
    "df"
   ],
   "metadata": {
    "collapsed": false,
    "ExecuteTime": {
     "end_time": "2023-07-10T07:54:52.263775Z",
     "start_time": "2023-07-10T07:54:52.226818Z"
    }
   }
  },
  {
   "cell_type": "code",
   "execution_count": 102,
   "outputs": [
    {
     "data": {
      "text/plain": "         가격   호수  칼로리\n메뉴                   \n후라이드  12000  10호  100\n양념치킨  13000   9호  200\n간장치킨  14000   8호  300\n마늘치킨  14000   7호  400\n파닭    14000   6호  500\n닭강정   15000   5호  600\n양반후반  13000   4호  700",
      "text/html": "<div>\n<style scoped>\n    .dataframe tbody tr th:only-of-type {\n        vertical-align: middle;\n    }\n\n    .dataframe tbody tr th {\n        vertical-align: top;\n    }\n\n    .dataframe thead th {\n        text-align: right;\n    }\n</style>\n<table border=\"1\" class=\"dataframe\">\n  <thead>\n    <tr style=\"text-align: right;\">\n      <th></th>\n      <th>가격</th>\n      <th>호수</th>\n      <th>칼로리</th>\n    </tr>\n    <tr>\n      <th>메뉴</th>\n      <th></th>\n      <th></th>\n      <th></th>\n    </tr>\n  </thead>\n  <tbody>\n    <tr>\n      <th>후라이드</th>\n      <td>12000</td>\n      <td>10호</td>\n      <td>100</td>\n    </tr>\n    <tr>\n      <th>양념치킨</th>\n      <td>13000</td>\n      <td>9호</td>\n      <td>200</td>\n    </tr>\n    <tr>\n      <th>간장치킨</th>\n      <td>14000</td>\n      <td>8호</td>\n      <td>300</td>\n    </tr>\n    <tr>\n      <th>마늘치킨</th>\n      <td>14000</td>\n      <td>7호</td>\n      <td>400</td>\n    </tr>\n    <tr>\n      <th>파닭</th>\n      <td>14000</td>\n      <td>6호</td>\n      <td>500</td>\n    </tr>\n    <tr>\n      <th>닭강정</th>\n      <td>15000</td>\n      <td>5호</td>\n      <td>600</td>\n    </tr>\n    <tr>\n      <th>양반후반</th>\n      <td>13000</td>\n      <td>4호</td>\n      <td>700</td>\n    </tr>\n  </tbody>\n</table>\n</div>"
     },
     "execution_count": 102,
     "metadata": {},
     "output_type": "execute_result"
    }
   ],
   "source": [
    "#인덱스명 임의 변경\n",
    "#set_index() : 인덱스명 변경\n",
    "df = pd.DataFrame(data)\n",
    "df.to_csv('modudak.csv', index=False)\n",
    "\n",
    "df = df.set_index(keys=['메뉴'])\n",
    "df"
   ],
   "metadata": {
    "collapsed": false,
    "ExecuteTime": {
     "end_time": "2023-07-10T08:12:13.556953Z",
     "start_time": "2023-07-10T08:12:13.542896Z"
    }
   }
  },
  {
   "cell_type": "code",
   "execution_count": 103,
   "outputs": [
    {
     "data": {
      "text/plain": "      호수  칼로리\n메뉴           \n양념치킨  9호  200\n간장치킨  8호  300\n마늘치킨  7호  400",
      "text/html": "<div>\n<style scoped>\n    .dataframe tbody tr th:only-of-type {\n        vertical-align: middle;\n    }\n\n    .dataframe tbody tr th {\n        vertical-align: top;\n    }\n\n    .dataframe thead th {\n        text-align: right;\n    }\n</style>\n<table border=\"1\" class=\"dataframe\">\n  <thead>\n    <tr style=\"text-align: right;\">\n      <th></th>\n      <th>호수</th>\n      <th>칼로리</th>\n    </tr>\n    <tr>\n      <th>메뉴</th>\n      <th></th>\n      <th></th>\n    </tr>\n  </thead>\n  <tbody>\n    <tr>\n      <th>양념치킨</th>\n      <td>9호</td>\n      <td>200</td>\n    </tr>\n    <tr>\n      <th>간장치킨</th>\n      <td>8호</td>\n      <td>300</td>\n    </tr>\n    <tr>\n      <th>마늘치킨</th>\n      <td>7호</td>\n      <td>400</td>\n    </tr>\n  </tbody>\n</table>\n</div>"
     },
     "execution_count": 103,
     "metadata": {},
     "output_type": "execute_result"
    }
   ],
   "source": [
    "#loc를 이용한 인덱스명 변경\n",
    "# 양념치킨에서 마늘치킨까지 호수에서 칼로리까지\n",
    "df.loc['양념치킨':'마늘치킨','호수':'칼로리']"
   ],
   "metadata": {
    "collapsed": false,
    "ExecuteTime": {
     "end_time": "2023-07-10T08:12:15.169871Z",
     "start_time": "2023-07-10T08:12:15.157772Z"
    }
   }
  },
  {
   "cell_type": "code",
   "execution_count": 104,
   "outputs": [
    {
     "data": {
      "text/plain": "      호수  칼로리\n메뉴           \n양념치킨  9호  200\n간장치킨  8호  300\n마늘치킨  7호  400",
      "text/html": "<div>\n<style scoped>\n    .dataframe tbody tr th:only-of-type {\n        vertical-align: middle;\n    }\n\n    .dataframe tbody tr th {\n        vertical-align: top;\n    }\n\n    .dataframe thead th {\n        text-align: right;\n    }\n</style>\n<table border=\"1\" class=\"dataframe\">\n  <thead>\n    <tr style=\"text-align: right;\">\n      <th></th>\n      <th>호수</th>\n      <th>칼로리</th>\n    </tr>\n    <tr>\n      <th>메뉴</th>\n      <th></th>\n      <th></th>\n    </tr>\n  </thead>\n  <tbody>\n    <tr>\n      <th>양념치킨</th>\n      <td>9호</td>\n      <td>200</td>\n    </tr>\n    <tr>\n      <th>간장치킨</th>\n      <td>8호</td>\n      <td>300</td>\n    </tr>\n    <tr>\n      <th>마늘치킨</th>\n      <td>7호</td>\n      <td>400</td>\n    </tr>\n  </tbody>\n</table>\n</div>"
     },
     "execution_count": 104,
     "metadata": {},
     "output_type": "execute_result"
    }
   ],
   "source": [
    "#iloc를 이용한 인덱스명 변경\n",
    "# 양념치킨에서 마늘치킨까지 호수에서 칼로리까지\n",
    "df.iloc[1:4,1:]"
   ],
   "metadata": {
    "collapsed": false,
    "ExecuteTime": {
     "end_time": "2023-07-10T08:12:16.425868Z",
     "start_time": "2023-07-10T08:12:16.413787Z"
    }
   }
  },
  {
   "cell_type": "code",
   "execution_count": 105,
   "outputs": [
    {
     "data": {
      "text/plain": "     메뉴     가격   호수  칼로리\n0  후라이드  12000  10호  100\n1  양념치킨  13000   9호  200\n2  간장치킨  14000   8호  300\n3  마늘치킨  14000   7호  400\n4    파닭  14000   6호  500\n5   닭강정  15000   5호  600\n6  양반후반  13000   4호  700",
      "text/html": "<div>\n<style scoped>\n    .dataframe tbody tr th:only-of-type {\n        vertical-align: middle;\n    }\n\n    .dataframe tbody tr th {\n        vertical-align: top;\n    }\n\n    .dataframe thead th {\n        text-align: right;\n    }\n</style>\n<table border=\"1\" class=\"dataframe\">\n  <thead>\n    <tr style=\"text-align: right;\">\n      <th></th>\n      <th>메뉴</th>\n      <th>가격</th>\n      <th>호수</th>\n      <th>칼로리</th>\n    </tr>\n  </thead>\n  <tbody>\n    <tr>\n      <th>0</th>\n      <td>후라이드</td>\n      <td>12000</td>\n      <td>10호</td>\n      <td>100</td>\n    </tr>\n    <tr>\n      <th>1</th>\n      <td>양념치킨</td>\n      <td>13000</td>\n      <td>9호</td>\n      <td>200</td>\n    </tr>\n    <tr>\n      <th>2</th>\n      <td>간장치킨</td>\n      <td>14000</td>\n      <td>8호</td>\n      <td>300</td>\n    </tr>\n    <tr>\n      <th>3</th>\n      <td>마늘치킨</td>\n      <td>14000</td>\n      <td>7호</td>\n      <td>400</td>\n    </tr>\n    <tr>\n      <th>4</th>\n      <td>파닭</td>\n      <td>14000</td>\n      <td>6호</td>\n      <td>500</td>\n    </tr>\n    <tr>\n      <th>5</th>\n      <td>닭강정</td>\n      <td>15000</td>\n      <td>5호</td>\n      <td>600</td>\n    </tr>\n    <tr>\n      <th>6</th>\n      <td>양반후반</td>\n      <td>13000</td>\n      <td>4호</td>\n      <td>700</td>\n    </tr>\n  </tbody>\n</table>\n</div>"
     },
     "execution_count": 105,
     "metadata": {},
     "output_type": "execute_result"
    }
   ],
   "source": [
    "# reset_index() : 인덱스 초기화(기본값 : drop=False)\n",
    "df = df.reset_index()\n",
    "df"
   ],
   "metadata": {
    "collapsed": false,
    "ExecuteTime": {
     "end_time": "2023-07-10T08:12:17.831622Z",
     "start_time": "2023-07-10T08:12:17.823664Z"
    }
   }
  },
  {
   "cell_type": "code",
   "execution_count": null,
   "outputs": [],
   "source": [],
   "metadata": {
    "collapsed": false
   }
  }
 ],
 "metadata": {
  "kernelspec": {
   "display_name": "Python 3",
   "language": "python",
   "name": "python3"
  },
  "language_info": {
   "codemirror_mode": {
    "name": "ipython",
    "version": 2
   },
   "file_extension": ".py",
   "mimetype": "text/x-python",
   "name": "python",
   "nbconvert_exporter": "python",
   "pygments_lexer": "ipython2",
   "version": "2.7.6"
  }
 },
 "nbformat": 4,
 "nbformat_minor": 0
}
