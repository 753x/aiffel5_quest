{
 "cells": [
  {
   "cell_type": "markdown",
   "source": [
    "## 데이터핸들링 1\n",
    "\n",
    "판다스를 활용한 데이터 핸들링"
   ],
   "metadata": {
    "collapsed": false
   }
  },
  {
   "cell_type": "markdown",
   "source": [
    "판다스\n",
    "\n",
    "판다스는 파이썬을 기반으로 쉽고 강력한 데이터 분석 도구\n",
    "\n",
    "판다스를 시작할 때는 판다스 라이브러리를 불러오고, 판다스의 별칭은 pd로 일반적으로 사용됨"
   ],
   "metadata": {
    "collapsed": false
   }
  },
  {
   "cell_type": "markdown",
   "source": [
    "라이브러리 불러오기"
   ],
   "metadata": {
    "collapsed": false
   }
  },
  {
   "cell_type": "code",
   "execution_count": 1,
   "outputs": [],
   "source": [
    "#판다스 라이브러리\n",
    "import pandas as pd"
   ],
   "metadata": {
    "collapsed": false,
    "ExecuteTime": {
     "end_time": "2023-07-10T06:02:32.629591Z",
     "start_time": "2023-07-10T06:02:32.307137Z"
    }
   }
  },
  {
   "cell_type": "markdown",
   "source": [
    "데이터 프레임과 시리즈\n",
    "\n",
    "데이터 프레임은은 행과 열이 있는 표 형태 구조, 시리즈 : 하나의 열(컬럼)"
   ],
   "metadata": {
    "collapsed": false
   }
  },
  {
   "cell_type": "code",
   "execution_count": 4,
   "outputs": [
    {
     "data": {
      "text/plain": "0         후라이트\n1         양념치킨\n2    양념반 후라이드반\ndtype: object"
     },
     "execution_count": 4,
     "metadata": {},
     "output_type": "execute_result"
    }
   ],
   "source": [
    "#시리즈 만들기(문자열) 메뉴 : 후라이트, 양념치킨, 양념반 후라이드반\n",
    "menu_list = ['후라이트', '양념치킨', '양념반 후라이드반']\n",
    "menu = pd.Series(menu_list)\n",
    "menu"
   ],
   "metadata": {
    "collapsed": false,
    "ExecuteTime": {
     "end_time": "2023-07-10T06:05:40.510346Z",
     "start_time": "2023-07-10T06:05:40.504615Z"
    }
   }
  },
  {
   "cell_type": "code",
   "execution_count": 5,
   "outputs": [
    {
     "data": {
      "text/plain": "0    12000\n1    13000\n2    15000\ndtype: int64"
     },
     "execution_count": 5,
     "metadata": {},
     "output_type": "execute_result"
    }
   ],
   "source": [
    "#시리즈 만들기(숫자) 12000,13000,15000\n",
    "p_list = [12000,13000,15000]\n",
    "price = pd.Series(p_list)\n",
    "price"
   ],
   "metadata": {
    "collapsed": false,
    "ExecuteTime": {
     "end_time": "2023-07-10T06:05:48.671522Z",
     "start_time": "2023-07-10T06:05:48.667751Z"
    }
   }
  },
  {
   "cell_type": "code",
   "execution_count": 6,
   "outputs": [
    {
     "data": {
      "text/plain": "pandas.core.series.Series"
     },
     "execution_count": 6,
     "metadata": {},
     "output_type": "execute_result"
    }
   ],
   "source": [
    "type(price)"
   ],
   "metadata": {
    "collapsed": false,
    "ExecuteTime": {
     "end_time": "2023-07-10T06:06:06.413711Z",
     "start_time": "2023-07-10T06:06:06.409872Z"
    }
   }
  },
  {
   "cell_type": "code",
   "execution_count": 10,
   "outputs": [],
   "source": [
    "#데이터 프레임 만들기(시리즈 > 데이터 프레임)\n",
    "m = pd.DataFrame({'메뉴':menu, '가격':price})"
   ],
   "metadata": {
    "collapsed": false,
    "ExecuteTime": {
     "end_time": "2023-07-10T06:07:39.297746Z",
     "start_time": "2023-07-10T06:07:39.293930Z"
    }
   }
  },
  {
   "cell_type": "code",
   "execution_count": 11,
   "outputs": [
    {
     "data": {
      "text/plain": "pandas.core.frame.DataFrame"
     },
     "execution_count": 11,
     "metadata": {},
     "output_type": "execute_result"
    }
   ],
   "source": [
    "#데이터 프레임 타입 확인\n",
    "type(m)"
   ],
   "metadata": {
    "collapsed": false,
    "ExecuteTime": {
     "end_time": "2023-07-10T06:07:41.673197Z",
     "start_time": "2023-07-10T06:07:41.667365Z"
    }
   }
  },
  {
   "cell_type": "code",
   "execution_count": 14,
   "outputs": [
    {
     "data": {
      "text/plain": "          메뉴     가격  호수\n0       후라이트  12000  10\n1       양념치킨  13000   9\n2  양념반 후라이드반  15000   8",
      "text/html": "<div>\n<style scoped>\n    .dataframe tbody tr th:only-of-type {\n        vertical-align: middle;\n    }\n\n    .dataframe tbody tr th {\n        vertical-align: top;\n    }\n\n    .dataframe thead th {\n        text-align: right;\n    }\n</style>\n<table border=\"1\" class=\"dataframe\">\n  <thead>\n    <tr style=\"text-align: right;\">\n      <th></th>\n      <th>메뉴</th>\n      <th>가격</th>\n      <th>호수</th>\n    </tr>\n  </thead>\n  <tbody>\n    <tr>\n      <th>0</th>\n      <td>후라이트</td>\n      <td>12000</td>\n      <td>10</td>\n    </tr>\n    <tr>\n      <th>1</th>\n      <td>양념치킨</td>\n      <td>13000</td>\n      <td>9</td>\n    </tr>\n    <tr>\n      <th>2</th>\n      <td>양념반 후라이드반</td>\n      <td>15000</td>\n      <td>8</td>\n    </tr>\n  </tbody>\n</table>\n</div>"
     },
     "execution_count": 14,
     "metadata": {},
     "output_type": "execute_result"
    }
   ],
   "source": [
    "#데이터 프레임 만들기 pd.DataFrame({'칼럼명':데이터})\n",
    "data = {'메뉴':['후라이트', '양념치킨', '양념반 후라이드반'], '가격':[12000,13000,15000],'호수':[10,9,8]}\n",
    "df = pd.DataFrame(data)\n",
    "df"
   ],
   "metadata": {
    "collapsed": false,
    "ExecuteTime": {
     "end_time": "2023-07-10T06:10:24.002046Z",
     "start_time": "2023-07-10T06:10:23.994657Z"
    }
   }
  },
  {
   "cell_type": "code",
   "execution_count": null,
   "outputs": [],
   "source": [],
   "metadata": {
    "collapsed": false
   }
  }
 ],
 "metadata": {
  "kernelspec": {
   "display_name": "Python 3",
   "language": "python",
   "name": "python3"
  },
  "language_info": {
   "codemirror_mode": {
    "name": "ipython",
    "version": 2
   },
   "file_extension": ".py",
   "mimetype": "text/x-python",
   "name": "python",
   "nbconvert_exporter": "python",
   "pygments_lexer": "ipython2",
   "version": "2.7.6"
  }
 },
 "nbformat": 4,
 "nbformat_minor": 0
}
