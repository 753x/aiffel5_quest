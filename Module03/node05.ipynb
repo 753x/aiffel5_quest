{
 "cells": [
  {
   "cell_type": "markdown",
   "source": [
    "## 지도학습(분류)\n",
    "\n",
    "1. 의사 결정 나무\n",
    "\n",
    "-지도학습 알고리즘(분류, 회귀)\n",
    "\n",
    "-직관적인 알고리즘(이해 쉬움)\n",
    "\n",
    "-과대적합(overfitting)이 발생하기 쉬운 알고리즘(트리 깊이 제한 필요)\n",
    "\n",
    "-정보이득(information gain)이 최대가 되는 특성을 나누는 기준(불순도를 측정하는 기준)은 '지니'와 '엔트로피'가 사용됨\n",
    "\n",
    "-데이터가 한 종류만 있다면 엔트로피/지니 불순도는 0에 가까움. 서로 다른 데이터의 비율에 비슷하면 1에 가까움\n",
    "\n",
    "-정보이득(information gain)이 최대(1-불순도)가 되는 특성을 기준으로 데이터를 나눔\n",
    "\n",
    "![](./img_7.png)\n",
    "\n"
   ],
   "metadata": {
    "collapsed": false
   }
  },
  {
   "cell_type": "code",
   "execution_count": 13,
   "outputs": [],
   "source": [
    "# 의사 결정 나무(Decision Tree) 분류 모델 실습\n",
    "\n",
    "# 라이브러리 불러오기\n",
    "import pandas as pd\n",
    "from sklearn.model_selection import train_test_split\n",
    "from sklearn.metrics import accuracy_score"
   ],
   "metadata": {
    "collapsed": false,
    "ExecuteTime": {
     "end_time": "2023-07-13T04:46:00.890087Z",
     "start_time": "2023-07-13T04:46:00.833779Z"
    }
   }
  },
  {
   "cell_type": "code",
   "execution_count": 14,
   "outputs": [
    {
     "data": {
      "text/plain": "((284, 30), (285, 30), (284,), (285,))"
     },
     "execution_count": 14,
     "metadata": {},
     "output_type": "execute_result"
    }
   ],
   "source": [
    "# 데이터 불러오기\n",
    "from sklearn.datasets import load_breast_cancer\n",
    "def make_dataset():\n",
    "    iris = load_breast_cancer()\n",
    "    df = pd.DataFrame(iris.data, columns=iris.feature_names)\n",
    "    df['target'] = iris.target\n",
    "    X_train, X_test, y_train, y_test = train_test_split(df.drop('target',axis=1), df['target'], test_size=0.5, random_state=1004)\n",
    "    return X_train, X_test, y_train, y_test\n",
    "X_train, X_test, y_train, y_test = make_dataset()\n",
    "X_train.shape, X_test.shape, y_train.shape, y_test.shape"
   ],
   "metadata": {
    "collapsed": false,
    "ExecuteTime": {
     "end_time": "2023-07-13T04:46:00.900783Z",
     "start_time": "2023-07-13T04:46:00.839170Z"
    }
   }
  },
  {
   "cell_type": "code",
   "execution_count": 15,
   "outputs": [
    {
     "data": {
      "text/plain": "1    190\n0     94\nName: target, dtype: int64"
     },
     "execution_count": 15,
     "metadata": {},
     "output_type": "execute_result"
    }
   ],
   "source": [
    "# 타겟 확인\n",
    "y_train.value_counts()"
   ],
   "metadata": {
    "collapsed": false,
    "ExecuteTime": {
     "end_time": "2023-07-13T04:46:00.941866Z",
     "start_time": "2023-07-13T04:46:00.849905Z"
    }
   }
  },
  {
   "cell_type": "code",
   "execution_count": 16,
   "outputs": [
    {
     "data": {
      "text/plain": "0.9263157894736842"
     },
     "execution_count": 16,
     "metadata": {},
     "output_type": "execute_result"
    }
   ],
   "source": [
    "# 의사결정나무\n",
    "from sklearn.tree import DecisionTreeClassifier\n",
    "model = DecisionTreeClassifier(random_state=0)\n",
    "model.fit(X_train, y_train)\n",
    "pred = model.predict(X_test)\n",
    "accuracy_score(y_test, pred) #실제값과 예측값을 넣어준다"
   ],
   "metadata": {
    "collapsed": false,
    "ExecuteTime": {
     "end_time": "2023-07-13T04:46:00.943699Z",
     "start_time": "2023-07-13T04:46:00.855192Z"
    }
   }
  },
  {
   "cell_type": "markdown",
   "source": [
    "### 의사결정나무 하이퍼파라미터\n",
    "\n",
    "- criterion(기본값 gini) : 불순도 측정 지표( 또는 엔트로피 불순도 entropy)\n",
    "\n",
    "- max_depth(기본값 None) : 최대 한도 깊이(과대적합 방지)\n",
    "\n",
    "- max_leaf_nodes(기본값 None) : 최대 리프 노드 개수(과대적합 방지)\n",
    "\n",
    "- min_samples_split(기본값 2) : 자식 노드를 갖기 위한 최소한의 데이터 수\n",
    "\n",
    "- min_samples_leaf(기본값 1) : 리프 노드가 되기 위한 최소 샘플 수"
   ],
   "metadata": {
    "collapsed": false
   }
  },
  {
   "cell_type": "code",
   "execution_count": 17,
   "outputs": [
    {
     "data": {
      "text/plain": "0.9228070175438596"
     },
     "execution_count": 17,
     "metadata": {},
     "output_type": "execute_result"
    }
   ],
   "source": [
    "\n",
    "\n",
    "# 의사결정나무 하이퍼파라미터\n",
    "\n",
    "from sklearn.tree import DecisionTreeClassifier\n",
    "model = DecisionTreeClassifier(\n",
    "    criterion='entropy' ,\n",
    "    max_depth=6,\n",
    "    min_samples_split=2,\n",
    "    min_samples_leaf=2,\n",
    "    random_state=0) #max_depth를 5이상으로 설정하면 값 변경이 없다.(데이터 특성 상)\n",
    "model.fit(X_train, y_train)\n",
    "pred = model.predict(X_test)\n",
    "accuracy_score(y_test, pred)"
   ],
   "metadata": {
    "collapsed": false,
    "ExecuteTime": {
     "end_time": "2023-07-13T04:46:00.944963Z",
     "start_time": "2023-07-13T04:46:00.870143Z"
    }
   }
  },
  {
   "cell_type": "markdown",
   "source": [
    "2. 랜덤 포레스트\n",
    "\n",
    "-지도학습 알고리즘(분류,회귀)\n",
    "\n",
    "-의사결정나무의 앙상블\n",
    "\n",
    "-여러개의 의사결정 트리로 구성\n",
    "\n",
    "-성능이 좋음(과대적합 방지)\n",
    "\n",
    "-부트스트랩 샘플링(데이터셋 중복 허용)\n",
    "\n",
    "- 최종 다수결 투표\n",
    "\n",
    "- 앙상블\n",
    "\n",
    "  -> 배깅 : 같은 알고리즘으로 여러 모델을 만들어 분류함(랜덤포레스트)\n",
    "  -> 부스팅 : 학습과 예측을 하면서 가중치 반영\n",
    "\n",
    "![](./img_8.png)\n"
   ],
   "metadata": {
    "collapsed": false
   }
  },
  {
   "cell_type": "code",
   "execution_count": 18,
   "outputs": [
    {
     "data": {
      "text/plain": "0.9438596491228071"
     },
     "execution_count": 18,
     "metadata": {},
     "output_type": "execute_result"
    }
   ],
   "source": [
    "# 랜덤 포레스트(Random Forest) 분류 모델 실습\n",
    "from sklearn.ensemble import RandomForestClassifier\n",
    "model = RandomForestClassifier(random_state=0)\n",
    "model.fit(X_train, y_train)\n",
    "pred = model.predict(X_test)\n",
    "accuracy_score(y_test, pred)"
   ],
   "metadata": {
    "collapsed": false,
    "ExecuteTime": {
     "end_time": "2023-07-13T04:46:01.025469Z",
     "start_time": "2023-07-13T04:46:00.879294Z"
    }
   }
  },
  {
   "cell_type": "markdown",
   "source": [
    "### 랜덤 포레스트 하이퍼파라미터\n",
    "\n",
    "- n_estimators(기본값 100) : 트리 개수\n",
    "\n",
    "- criterion(기본값 gini) : 불순도 측정 지표( 또는 엔트로피 불순도 entropy)\n",
    "\n",
    "- max_depth(기본값 None) : 최대 한도 깊이(과대적합 방지)\n",
    "\n",
    "- min_samples_split(기본값 2) : 자식 노드를 갖기 위한 최소한의 데이터 수\n",
    "\n",
    "- min_samples_leaf(기본값 1) : 리프 노드가 되기 위한 최소 샘플 수\n",
    "\n",
    "- max_leaf_nodes(기본값 None) : 최대 리프 노드 개수(과대적합 방지)\n",
    "- n_jobs(기본값 None) : 병렬 처리 코어 수(-1은 전체 코어 사용)\n",
    "- random_state(기본값 None) : 랜덤 시드 값"
   ],
   "metadata": {
    "collapsed": false
   }
  },
  {
   "cell_type": "code",
   "execution_count": 19,
   "outputs": [
    {
     "data": {
      "text/plain": "0.9473684210526315"
     },
     "execution_count": 19,
     "metadata": {},
     "output_type": "execute_result"
    }
   ],
   "source": [
    "# 랜덤 포레스트(Random Forest) 하이퍼파라미터\n",
    "from sklearn.ensemble import RandomForestClassifier\n",
    "model = RandomForestClassifier(n_estimators=200,random_state=0, max_depth=5)\n",
    "model.fit(X_train, y_train)\n",
    "pred = model.predict(X_test)\n",
    "accuracy_score(y_test, pred)\n",
    "\n",
    "#0.9473684210526315 max_depth=3"
   ],
   "metadata": {
    "collapsed": false,
    "ExecuteTime": {
     "end_time": "2023-07-13T04:46:01.278162Z",
     "start_time": "2023-07-13T04:46:01.026586Z"
    }
   }
  },
  {
   "cell_type": "markdown",
   "source": [
    "3. xgboost\n",
    "\n",
    "-eXtreme Gradient Boosting(익스트림 그레디언트 부스팅)\n",
    "\n",
    "-부스팅(앙상블) 기반의 알고리즘\n",
    "\n",
    "-트리 앙상블 중 성능이 좋은 알고리즘\n",
    "\n",
    "-캐글(글로벌 AI 경진대회) 뛰어난 성능을 보이면서 인가기 높아짐"
   ],
   "metadata": {
    "collapsed": false
   }
  },
  {
   "cell_type": "code",
   "execution_count": 20,
   "outputs": [
    {
     "data": {
      "text/plain": "0.9508771929824561"
     },
     "execution_count": 20,
     "metadata": {},
     "output_type": "execute_result"
    }
   ],
   "source": [
    "# XGBoost 분류 모델 실습\n",
    "from xgboost import XGBClassifier\n",
    "model = XGBClassifier(random_state=0, eval_metric='logloss')\n",
    "model.fit(X_train, y_train)\n",
    "pred = model.predict(X_test)\n",
    "accuracy_score(y_test, pred)\n"
   ],
   "metadata": {
    "collapsed": false,
    "ExecuteTime": {
     "end_time": "2023-07-13T04:46:01.341411Z",
     "start_time": "2023-07-13T04:46:01.279576Z"
    }
   }
  },
  {
   "cell_type": "markdown",
   "source": [
    "### XGBoost 하이퍼파라미터\n",
    "\n",
    "-booster(기본값 gbtree) : 부스팅 알고리즘(또는 dart, gblinear)\n",
    "\n",
    "- objective(기본값 binary:logistic) : 목적 함수(이진 분류: 이항 로지스틱, 다중 분류: multi:softmax)\n",
    "\n",
    "-max_depth(기본값 6) : 최대 한도 깊이\n",
    "\n",
    "- learning_rate(기본값 0.3) : 학습률\n",
    "\n",
    "![](./nLMzr.png)\n",
    "\n",
    "- n_estimators(기본값 100) : 트리 개수  #learning_rate와 반비례, 러닝레이트를 낮추면 n_estimators를 높여야함\n",
    "\n",
    "- subsample(기본값 1) : 훈련 샘플 개수의 비율\n",
    "\n",
    "- colsample_bytree(기본값 1) : 트리 생성에 필요한 피처(열) 개수의 비율(특성 개수의 비율)\n",
    "\n",
    "- n_jobs(기본값 None) : 병렬 처리 코어 수(-1은 전체 코어 사용)"
   ],
   "metadata": {
    "collapsed": false
   }
  },
  {
   "cell_type": "code",
   "execution_count": 21,
   "outputs": [
    {
     "data": {
      "text/plain": "0.9649122807017544"
     },
     "execution_count": 21,
     "metadata": {},
     "output_type": "execute_result"
    }
   ],
   "source": [
    "# XGBoost 하이퍼파라미터\n",
    "model = XGBClassifier(random_state=0,\n",
    "                      eval_metric='logloss',\n",
    "                      booster='gbtree',\n",
    "                      objective='binary:logistic',\n",
    "                      max_depth=5,\n",
    "                      learning_rate=0.05,\n",
    "                      n_estimators=500,\n",
    "                      subsample=1,\n",
    "                      colsample_bytree=1,\n",
    "                      n_jobs=-1)\n",
    "model.fit(X_train, y_train)\n",
    "pred = model.predict(X_test)\n",
    "accuracy_score(y_test, pred)\n",
    "\n",
    "#0.9614035087719298"
   ],
   "metadata": {
    "collapsed": false,
    "ExecuteTime": {
     "end_time": "2023-07-13T04:46:01.566769Z",
     "start_time": "2023-07-13T04:46:01.340958Z"
    }
   }
  },
  {
   "cell_type": "markdown",
   "source": [
    "# 조기종료\n"
   ],
   "metadata": {
    "collapsed": false
   }
  },
  {
   "cell_type": "code",
   "execution_count": 22,
   "outputs": [
    {
     "name": "stdout",
     "output_type": "stream",
     "text": [
      "[0]\tvalidation_0-logloss:0.65391\n",
      "[1]\tvalidation_0-logloss:0.61861\n",
      "[2]\tvalidation_0-logloss:0.58697\n",
      "[3]\tvalidation_0-logloss:0.55756\n",
      "[4]\tvalidation_0-logloss:0.53038\n",
      "[5]\tvalidation_0-logloss:0.50611\n",
      "[6]\tvalidation_0-logloss:0.48363\n",
      "[7]\tvalidation_0-logloss:0.46304\n",
      "[8]\tvalidation_0-logloss:0.44332\n",
      "[9]\tvalidation_0-logloss:0.42512\n",
      "[10]\tvalidation_0-logloss:0.40821\n",
      "[11]\tvalidation_0-logloss:0.39260\n",
      "[12]\tvalidation_0-logloss:0.37838\n",
      "[13]\tvalidation_0-logloss:0.36512\n",
      "[14]\tvalidation_0-logloss:0.35276\n",
      "[15]\tvalidation_0-logloss:0.34090\n",
      "[16]\tvalidation_0-logloss:0.33018\n",
      "[17]\tvalidation_0-logloss:0.31967\n",
      "[18]\tvalidation_0-logloss:0.30997\n",
      "[19]\tvalidation_0-logloss:0.30105\n",
      "[20]\tvalidation_0-logloss:0.29259\n",
      "[21]\tvalidation_0-logloss:0.28478\n",
      "[22]\tvalidation_0-logloss:0.27725\n",
      "[23]\tvalidation_0-logloss:0.27027\n",
      "[24]\tvalidation_0-logloss:0.26358\n",
      "[25]\tvalidation_0-logloss:0.25755\n",
      "[26]\tvalidation_0-logloss:0.25139\n",
      "[27]\tvalidation_0-logloss:0.24593\n",
      "[28]\tvalidation_0-logloss:0.24103\n",
      "[29]\tvalidation_0-logloss:0.23648\n",
      "[30]\tvalidation_0-logloss:0.23197\n",
      "[31]\tvalidation_0-logloss:0.22778\n",
      "[32]\tvalidation_0-logloss:0.22354\n",
      "[33]\tvalidation_0-logloss:0.21985\n",
      "[34]\tvalidation_0-logloss:0.21678\n",
      "[35]\tvalidation_0-logloss:0.21353\n",
      "[36]\tvalidation_0-logloss:0.21061\n",
      "[37]\tvalidation_0-logloss:0.20800\n",
      "[38]\tvalidation_0-logloss:0.20558\n",
      "[39]\tvalidation_0-logloss:0.20268\n",
      "[40]\tvalidation_0-logloss:0.20042\n",
      "[41]\tvalidation_0-logloss:0.19771\n",
      "[42]\tvalidation_0-logloss:0.19510\n",
      "[43]\tvalidation_0-logloss:0.19354\n",
      "[44]\tvalidation_0-logloss:0.19128\n",
      "[45]\tvalidation_0-logloss:0.18976\n",
      "[46]\tvalidation_0-logloss:0.18854\n",
      "[47]\tvalidation_0-logloss:0.18668\n",
      "[48]\tvalidation_0-logloss:0.18535\n",
      "[49]\tvalidation_0-logloss:0.18346\n",
      "[50]\tvalidation_0-logloss:0.18234\n",
      "[51]\tvalidation_0-logloss:0.18057\n",
      "[52]\tvalidation_0-logloss:0.17897\n",
      "[53]\tvalidation_0-logloss:0.17815\n",
      "[54]\tvalidation_0-logloss:0.17703\n",
      "[55]\tvalidation_0-logloss:0.17564\n",
      "[56]\tvalidation_0-logloss:0.17445\n",
      "[57]\tvalidation_0-logloss:0.17335\n",
      "[58]\tvalidation_0-logloss:0.17179\n",
      "[59]\tvalidation_0-logloss:0.17106\n",
      "[60]\tvalidation_0-logloss:0.17022\n",
      "[61]\tvalidation_0-logloss:0.16983\n",
      "[62]\tvalidation_0-logloss:0.16899\n",
      "[63]\tvalidation_0-logloss:0.16851\n",
      "[64]\tvalidation_0-logloss:0.16776\n",
      "[65]\tvalidation_0-logloss:0.16681\n",
      "[66]\tvalidation_0-logloss:0.16665\n",
      "[67]\tvalidation_0-logloss:0.16632\n",
      "[68]\tvalidation_0-logloss:0.16533\n",
      "[69]\tvalidation_0-logloss:0.16539\n",
      "[70]\tvalidation_0-logloss:0.16520\n",
      "[71]\tvalidation_0-logloss:0.16446\n",
      "[72]\tvalidation_0-logloss:0.16443\n",
      "[73]\tvalidation_0-logloss:0.16449\n",
      "[74]\tvalidation_0-logloss:0.16469\n",
      "[75]\tvalidation_0-logloss:0.16493\n",
      "[76]\tvalidation_0-logloss:0.16526\n",
      "[77]\tvalidation_0-logloss:0.16542\n",
      "[78]\tvalidation_0-logloss:0.16545\n",
      "[79]\tvalidation_0-logloss:0.16448\n",
      "[80]\tvalidation_0-logloss:0.16470\n",
      "[81]\tvalidation_0-logloss:0.16494\n",
      "[82]\tvalidation_0-logloss:0.16506\n"
     ]
    },
    {
     "name": "stderr",
     "output_type": "stream",
     "text": [
      "/Users/ralphpark/anaconda3/lib/python3.10/site-packages/xgboost/sklearn.py:835: UserWarning: `early_stopping_rounds` in `fit` method is deprecated for better compatibility with scikit-learn, use `early_stopping_rounds` in constructor or`set_params` instead.\n",
      "  warnings.warn(\n"
     ]
    },
    {
     "data": {
      "text/plain": "0.9473684210526315"
     },
     "execution_count": 22,
     "metadata": {},
     "output_type": "execute_result"
    }
   ],
   "source": [
    "model = XGBClassifier(random_state=0,\n",
    "                      eval_metric='logloss',\n",
    "                      learning_rate=0.05,\n",
    "                      n_estimators=500)\n",
    "eval_set = [(X_test, y_test)]\n",
    "model.fit(X_train, y_train, eval_set=eval_set, early_stopping_rounds=10)\n",
    "#early_stopping_rounds=10 : 10번의 반복동안 성능이 향상되지 않으면 학습을 종료\n",
    "pred = model.predict(X_test)\n",
    "accuracy_score(y_test, pred)"
   ],
   "metadata": {
    "collapsed": false,
    "ExecuteTime": {
     "end_time": "2023-07-13T04:46:01.758798Z",
     "start_time": "2023-07-13T04:46:01.568623Z"
    }
   }
  },
  {
   "cell_type": "markdown",
   "source": [
    "4. 교차검증\n",
    "![](./img_9.png)\n",
    "k를 5로 두었을때  데이터를 5개로 나누고 1개를 검증용으로 나머지 4개를 학습용으로 사용하여 5번 반복\n",
    "\n",
    "첫번째는 5번 데이터 두번째는 4번째 데이터....이런식으로 해서 각각 모든 데이터를 훈련용으로도 쓰고 검증용으로도 써서 평균을 내서 교차 검증을 통해 모델 성능을 확인"
   ],
   "metadata": {
    "collapsed": false
   }
  },
  {
   "cell_type": "code",
   "execution_count": 34,
   "outputs": [
    {
     "name": "stdout",
     "output_type": "stream",
     "text": [
      "0.8771929824561403\n",
      "0.9122807017543859\n",
      "0.9473684210526315\n",
      "0.9385964912280702\n",
      "0.8407079646017699\n"
     ]
    }
   ],
   "source": [
    "#KFold 교차검증\n",
    "# 일반적으로 많이 쓰는 검증 방법\n",
    "import pandas as pd\n",
    "import numpy as np\n",
    "from sklearn.model_selection import train_test_split\n",
    "from sklearn.metrics import accuracy_score\n",
    "from sklearn.datasets import load_breast_cancer\n",
    "data = load_breast_cancer()\n",
    "X = pd.DataFrame(data.data, columns=data.feature_names)\n",
    "y = data.target\n",
    "\n",
    "\n",
    "from sklearn.model_selection import KFold\n",
    "model = DecisionTreeClassifier(random_state=0)\n",
    "kfold = KFold(n_splits=5)\n",
    "for train_idx, test_idx in kfold.split(X):\n",
    "    X_train, X_test = X.iloc[train_idx], X.iloc[test_idx]\n",
    "    y_train, y_test = y[train_idx], y[test_idx]\n",
    "    model.fit(X_train, y_train)\n",
    "    pred = model.predict(X_test)\n",
    "    print(accuracy_score(y_test, pred))\n"
   ],
   "metadata": {
    "collapsed": false,
    "ExecuteTime": {
     "end_time": "2023-07-13T05:55:21.810267Z",
     "start_time": "2023-07-13T05:55:21.766138Z"
    }
   }
  },
  {
   "cell_type": "markdown",
   "source": [
    "### Stratified KFold 교차검증\n",
    "\n",
    "-불균형한 분포도를 가진  데이터가  한쪽으로 치우치는 것을 방지"
   ],
   "metadata": {
    "collapsed": false
   }
  },
  {
   "cell_type": "code",
   "execution_count": 37,
   "outputs": [
    {
     "name": "stdout",
     "output_type": "stream",
     "text": [
      "0.9035087719298246\n",
      "0.9210526315789473\n",
      "0.9122807017543859\n",
      "0.9473684210526315\n",
      "0.9026548672566371\n"
     ]
    }
   ],
   "source": [
    "# Stratified KFold 교차검증\n",
    "from sklearn.model_selection import StratifiedKFold\n",
    "model = DecisionTreeClassifier(random_state=0)\n",
    "kfold = StratifiedKFold(n_splits=5)\n",
    "for train_idx, test_idx in kfold.split(X,y): #y 데이터 확인하고 스플릿\n",
    "    X_train, X_test = X.iloc[train_idx], X.iloc[test_idx]\n",
    "    y_train, y_test = y[train_idx], y[test_idx]\n",
    "    model.fit(X_train, y_train)\n",
    "    pred = model.predict(X_test)\n",
    "    print(accuracy_score(y_test, pred))"
   ],
   "metadata": {
    "collapsed": false,
    "ExecuteTime": {
     "end_time": "2023-07-13T05:59:23.041500Z",
     "start_time": "2023-07-13T05:59:22.992320Z"
    }
   }
  },
  {
   "cell_type": "markdown",
   "source": [
    "### 사이킷런 교차검증\n",
    "\n",
    "사이킷런 내부 API를 통해 fit(학습),predict(예측),evaluate(평가)를 한번에 수행"
   ],
   "metadata": {
    "collapsed": false
   }
  },
  {
   "cell_type": "code",
   "execution_count": 38,
   "outputs": [
    {
     "data": {
      "text/plain": "array([0.88947368, 0.94210526, 0.86243386])"
     },
     "execution_count": 38,
     "metadata": {},
     "output_type": "execute_result"
    }
   ],
   "source": [
    "# 사이킷런 교차검증\n",
    "from sklearn.model_selection import cross_val_score\n",
    "scores = cross_val_score(model, X, y, scoring='accuracy', cv=3)\n",
    "scores"
   ],
   "metadata": {
    "collapsed": false,
    "ExecuteTime": {
     "end_time": "2023-07-13T06:01:30.658013Z",
     "start_time": "2023-07-13T06:01:30.630015Z"
    }
   }
  },
  {
   "cell_type": "code",
   "execution_count": 39,
   "outputs": [
    {
     "data": {
      "text/plain": "0.8980042699340944"
     },
     "execution_count": 39,
     "metadata": {},
     "output_type": "execute_result"
    }
   ],
   "source": [
    "# 평균점수\n",
    "scores.mean()"
   ],
   "metadata": {
    "collapsed": false,
    "ExecuteTime": {
     "end_time": "2023-07-13T06:01:53.247050Z",
     "start_time": "2023-07-13T06:01:53.229775Z"
    }
   }
  },
  {
   "cell_type": "code",
   "execution_count": 40,
   "outputs": [
    {
     "data": {
      "text/plain": "array([0.90350877, 0.92105263, 0.9122807 , 0.94736842, 0.90265487])"
     },
     "execution_count": 40,
     "metadata": {},
     "output_type": "execute_result"
    }
   ],
   "source": [
    "#교차 검증 Stratified KFold\n",
    "kfold = StratifiedKFold(n_splits=5)\n",
    "scores = cross_val_score(model, X, y, cv=kfold)\n",
    "scores"
   ],
   "metadata": {
    "collapsed": false,
    "ExecuteTime": {
     "end_time": "2023-07-13T06:04:32.322945Z",
     "start_time": "2023-07-13T06:04:32.286590Z"
    }
   }
  },
  {
   "cell_type": "code",
   "execution_count": 41,
   "outputs": [
    {
     "data": {
      "text/plain": "0.9173730787144851"
     },
     "execution_count": 41,
     "metadata": {},
     "output_type": "execute_result"
    }
   ],
   "source": [
    "# 평균점수\n",
    "scores.mean()"
   ],
   "metadata": {
    "collapsed": false,
    "ExecuteTime": {
     "end_time": "2023-07-13T06:05:15.857245Z",
     "start_time": "2023-07-13T06:05:15.827416Z"
    }
   }
  },
  {
   "cell_type": "markdown",
   "source": [
    "### 평가(분류)\n",
    "\n",
    "정확도 Accuracy : 실젯값과 예측값이 일치 비율\n",
    "\n",
    "정밀도 Precision : 양성이라고 예측한 값 중 실제 양성인 값(암이라고 예측한 값 중 실제 암일 확률)\n",
    "\n",
    "재현율 Recall : 실제 양성인 값 중 양성이라고 예측한 값(실제 암인 값 중 예측도 암인 확률)\n",
    "\n",
    "F1 Score : 정밀도와 재현율의 조화평균\n",
    "\n",
    "ROC-AUC\n",
    "\n",
    "-ROC : 참 양성 비율(True Positive Rate)에 대한 거짓 양성 비율(False Positive Rate)의 곡선\n",
    "\n",
    "-AUC : ROC 곡선 아래 면적으로 완벽하게 분류가 되면 AUC가 1임\n",
    "\n",
    "![](./img_10.png)\n",
    "\n",
    "- 파란선이 좋고 주황선이 좋지 못함"
   ],
   "metadata": {
    "collapsed": false
   }
  },
  {
   "cell_type": "code",
   "execution_count": 42,
   "outputs": [
    {
     "data": {
      "text/plain": "0.9026548672566371"
     },
     "execution_count": 42,
     "metadata": {},
     "output_type": "execute_result"
    }
   ],
   "source": [
    "# 정확도\n",
    "from sklearn.metrics import accuracy_score\n",
    "accuracy_score(y_test, pred)"
   ],
   "metadata": {
    "collapsed": false,
    "ExecuteTime": {
     "end_time": "2023-07-13T06:16:33.770935Z",
     "start_time": "2023-07-13T06:16:33.754528Z"
    }
   }
  },
  {
   "cell_type": "code",
   "execution_count": 43,
   "outputs": [
    {
     "data": {
      "text/plain": "0.9545454545454546"
     },
     "execution_count": 43,
     "metadata": {},
     "output_type": "execute_result"
    }
   ],
   "source": [
    "# 정밀도\n",
    "from sklearn.metrics import precision_score\n",
    "precision_score(y_test, pred)"
   ],
   "metadata": {
    "collapsed": false,
    "ExecuteTime": {
     "end_time": "2023-07-13T06:16:47.503787Z",
     "start_time": "2023-07-13T06:16:47.476243Z"
    }
   }
  },
  {
   "cell_type": "code",
   "execution_count": 44,
   "outputs": [
    {
     "data": {
      "text/plain": "0.8873239436619719"
     },
     "execution_count": 44,
     "metadata": {},
     "output_type": "execute_result"
    }
   ],
   "source": [
    "# 재현율\n",
    "from sklearn.metrics import recall_score\n",
    "recall_score(y_test, pred)"
   ],
   "metadata": {
    "collapsed": false,
    "ExecuteTime": {
     "end_time": "2023-07-13T06:16:54.297872Z",
     "start_time": "2023-07-13T06:16:54.280980Z"
    }
   }
  },
  {
   "cell_type": "code",
   "execution_count": 45,
   "outputs": [
    {
     "data": {
      "text/plain": "0.9197080291970803"
     },
     "execution_count": 45,
     "metadata": {},
     "output_type": "execute_result"
    }
   ],
   "source": [
    "# F1 Score\n",
    "from sklearn.metrics import f1_score\n",
    "f1_score(y_test, pred)"
   ],
   "metadata": {
    "collapsed": false,
    "ExecuteTime": {
     "end_time": "2023-07-13T06:17:07.085557Z",
     "start_time": "2023-07-13T06:17:07.071856Z"
    }
   }
  },
  {
   "cell_type": "code",
   "execution_count": 46,
   "outputs": [
    {
     "data": {
      "text/plain": "0.9079476861167003"
     },
     "execution_count": 46,
     "metadata": {},
     "output_type": "execute_result"
    }
   ],
   "source": [
    "# ROC-AUC\n",
    "from sklearn.metrics import roc_auc_score\n",
    "roc_auc_score(y_test, pred)"
   ],
   "metadata": {
    "collapsed": false,
    "ExecuteTime": {
     "end_time": "2023-07-13T06:17:15.264338Z",
     "start_time": "2023-07-13T06:17:15.249958Z"
    }
   }
  },
  {
   "cell_type": "code",
   "execution_count": 50,
   "outputs": [
    {
     "data": {
      "text/plain": "0.999664654594232"
     },
     "execution_count": 50,
     "metadata": {},
     "output_type": "execute_result"
    }
   ],
   "source": [
    "# ROC-AUC\n",
    "from sklearn.metrics import roc_auc_score\n",
    "model = XGBClassifier(random_state=0,\n",
    "                        eval_metric='logloss')\n",
    "model.fit(X_train, y_train)\n",
    "pred = model.predict_proba(X_test)\n",
    "pred\n",
    "roc_auc_score(y_test, pred[:,1])"
   ],
   "metadata": {
    "collapsed": false,
    "ExecuteTime": {
     "end_time": "2023-07-13T06:23:25.237807Z",
     "start_time": "2023-07-13T06:23:25.140183Z"
    }
   }
  },
  {
   "cell_type": "markdown",
   "source": [
    "# 실습문제\n",
    "![](./img_11.png)\n",
    " 위 표의 TN, FP, FN, TP를 활용해하여 정확도(accuracy), 정밀도(precision), 재현율(recall), F1 점수를 정의해주세요.\n",
    " TN, FP, FN, TP는 각각 진짜 음성(True Negative), 거짓 양성(False Positive), 거짓 음성(False Negative), 진짜 양성(True Positive)을 의미합니다. 이러한 지표를 활용하여 정확도, 정밀도, 재현율, F1 점수를 다음과 같이 정의할 수 있습니다.\n",
    "\n",
    "정확도 (Accuracy): 전체 예측 결과 중 정답의 비율을 나타냅니다. 전체 양성과 음성 개수 중 올바르게 예측된 것의 비율로 계산됩니다.\n",
    "Accuracy = (TN + TP) / (TN + FP + FN + TP)\n",
    "\n",
    "정밀도 (Precision): 양성으로 예측된 결과 중 실제로 양성인 것의 비율을 나타냅니다. 모델이 얼마나 많은 거짓 양성을 줄이는지 평가하기 위해 사용됩니다.\n",
    "Precision = TP / (TP + FP)\n",
    "\n",
    "재현율 (Recall): 실제 양성인 결과 중 양성으로 예측된 것의 비율을 나타냅니다. 놓치지 않고 실제\n",
    "로 양성인 것을 얼마나 찾아내는지 평가하기 위해 사용됩니다. 민감도(Sensitivity) 또는 참 긍정률(True Positive Rate)라고도 불립니다.\n",
    "Recall = TP / (TP + FN)\n",
    "\n",
    "F1 점수 (F1 Score): 정밀도와 재현율의 조화 평균을 나타냅니다. 불균형 데이터셋에서 모델 성능을 평가할 때 사용되며, 모델의 성능을 단일 값으로 요약할 수 있습니다.\n",
    "F1 Score = 2 * ((Precision * Recall) / (Precision + Recall))\n",
    "\n",
    "이러한 지표들은 모델의 성능을 평가하고 비교하는 데 유용합니다. 각 지표는 모델의 특성을 다양한 측면에서 반영하므로, 모델 선택 및 최적화 과정에서 참고하여 사용하면 좋습니다."
   ],
   "metadata": {
    "collapsed": false
   }
  },
  {
   "cell_type": "code",
   "execution_count": null,
   "outputs": [],
   "source": [],
   "metadata": {
    "collapsed": false
   }
  }
 ],
 "metadata": {
  "kernelspec": {
   "display_name": "Python 3",
   "language": "python",
   "name": "python3"
  },
  "language_info": {
   "codemirror_mode": {
    "name": "ipython",
    "version": 2
   },
   "file_extension": ".py",
   "mimetype": "text/x-python",
   "name": "python",
   "nbconvert_exporter": "python",
   "pygments_lexer": "ipython2",
   "version": "2.7.6"
  }
 },
 "nbformat": 4,
 "nbformat_minor": 0
}
