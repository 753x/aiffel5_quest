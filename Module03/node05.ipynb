{
 "cells": [
  {
   "cell_type": "markdown",
   "source": [
    "## 지도학습(분류)\n",
    "\n",
    "1. 의사 결정 나무\n",
    "\n",
    "-지도학습 알고리즘(분류, 회귀)\n",
    "\n",
    "-직관적인 알고리즘(이해 쉬움)\n",
    "\n",
    "-과대적합(overfitting)이 발생하기 쉬운 알고리즘(트리 깊이 제한 필요)\n",
    "\n",
    "-정보이득(information gain)이 최대가 되는 특성을 나누는 기준(불순도를 측정하는 기준)은 '지니'와 '엔트로피'가 사용됨\n",
    "\n",
    "-데이터가 한 종류만 있다면 엔트로피/지니 불순도는 0에 가까움. 서로 다른 데이터의 비율에 비슷하면 1에 가까움\n",
    "\n",
    "-정보이득(information gain)이 최대(1-불순도)가 되는 특성을 기준으로 데이터를 나눔\n",
    "\n",
    "![](./img_7.png)\n",
    "\n"
   ],
   "metadata": {
    "collapsed": false
   }
  },
  {
   "cell_type": "code",
   "execution_count": 5,
   "outputs": [],
   "source": [
    "# 의사 결정 나무(Decision Tree) 분류 모델 실습\n",
    "\n",
    "# 라이브러리 불러오기\n",
    "import pandas as pd\n",
    "from sklearn.model_selection import train_test_split\n",
    "from sklearn.metrics import accuracy_score"
   ],
   "metadata": {
    "collapsed": false,
    "ExecuteTime": {
     "end_time": "2023-07-13T02:22:42.898054Z",
     "start_time": "2023-07-13T02:22:42.861285Z"
    }
   }
  },
  {
   "cell_type": "code",
   "execution_count": 6,
   "outputs": [
    {
     "data": {
      "text/plain": "((284, 30), (285, 30), (284,), (285,))"
     },
     "execution_count": 6,
     "metadata": {},
     "output_type": "execute_result"
    }
   ],
   "source": [
    "# 데이터 불러오기\n",
    "from sklearn.datasets import load_breast_cancer\n",
    "def make_dataset():\n",
    "    iris = load_breast_cancer()\n",
    "    df = pd.DataFrame(iris.data, columns=iris.feature_names)\n",
    "    df['target'] = iris.target\n",
    "    X_train, X_test, y_train, y_test = train_test_split(df.drop('target',axis=1), df['target'], test_size=0.5, random_state=1004)\n",
    "    return X_train, X_test, y_train, y_test\n",
    "X_train, X_test, y_train, y_test = make_dataset()\n",
    "X_train.shape, X_test.shape, y_train.shape, y_test.shape"
   ],
   "metadata": {
    "collapsed": false,
    "ExecuteTime": {
     "end_time": "2023-07-13T02:22:42.957257Z",
     "start_time": "2023-07-13T02:22:42.866826Z"
    }
   }
  },
  {
   "cell_type": "code",
   "execution_count": 7,
   "outputs": [
    {
     "data": {
      "text/plain": "1    190\n0     94\nName: target, dtype: int64"
     },
     "execution_count": 7,
     "metadata": {},
     "output_type": "execute_result"
    }
   ],
   "source": [
    "# 타겟 확인\n",
    "y_train.value_counts()"
   ],
   "metadata": {
    "collapsed": false,
    "ExecuteTime": {
     "end_time": "2023-07-13T02:22:42.958115Z",
     "start_time": "2023-07-13T02:22:42.915536Z"
    }
   }
  },
  {
   "cell_type": "code",
   "execution_count": 8,
   "outputs": [
    {
     "data": {
      "text/plain": "0.9263157894736842"
     },
     "execution_count": 8,
     "metadata": {},
     "output_type": "execute_result"
    }
   ],
   "source": [
    "# 의사결정나무\n",
    "from sklearn.tree import DecisionTreeClassifier\n",
    "model = DecisionTreeClassifier(random_state=0)\n",
    "model.fit(X_train, y_train)\n",
    "pred = model.predict(X_test)\n",
    "accuracy_score(y_test, pred) #실제값과 예측값을 넣어준다"
   ],
   "metadata": {
    "collapsed": false,
    "ExecuteTime": {
     "end_time": "2023-07-13T02:22:43.008879Z",
     "start_time": "2023-07-13T02:22:42.922597Z"
    }
   }
  },
  {
   "cell_type": "markdown",
   "source": [
    "### 의사결정나무 하이퍼파라미터\n",
    "\n",
    "- criterion(기본값 gini) : 불순도 측정 지표( 또는 엔트로피 불순도 entropy)\n",
    "\n",
    "- max_depth(기본값 None) : 최대 한도 깊이(과대적합 방지)\n",
    "\n",
    "- max_leaf_nodes(기본값 None) : 최대 리프 노드 개수(과대적합 방지)\n",
    "\n",
    "- min_samples_split(기본값 2) : 자식 노드를 갖기 위한 최소한의 데이터 수\n",
    "\n",
    "- min_samples_leaf(기본값 1) : 리프 노드가 되기 위한 최소 샘플 수"
   ],
   "metadata": {
    "collapsed": false
   }
  },
  {
   "cell_type": "code",
   "execution_count": 9,
   "outputs": [
    {
     "data": {
      "text/plain": "0.9228070175438596"
     },
     "execution_count": 9,
     "metadata": {},
     "output_type": "execute_result"
    }
   ],
   "source": [
    "\n",
    "\n",
    "# 의사결정나무 하이퍼파라미터\n",
    "\n",
    "from sklearn.tree import DecisionTreeClassifier\n",
    "model = DecisionTreeClassifier(\n",
    "    criterion='entropy' ,\n",
    "    max_depth=6,\n",
    "    min_samples_split=2,\n",
    "    min_samples_leaf=2,\n",
    "    random_state=0) #max_depth를 5이상으로 설정하면 값 변경이 없다.(데이터 특성 상)\n",
    "model.fit(X_train, y_train)\n",
    "pred = model.predict(X_test)\n",
    "accuracy_score(y_test, pred)"
   ],
   "metadata": {
    "collapsed": false,
    "ExecuteTime": {
     "end_time": "2023-07-13T02:22:43.018930Z",
     "start_time": "2023-07-13T02:22:43.009273Z"
    }
   }
  },
  {
   "cell_type": "markdown",
   "source": [
    "2. 랜덤 포레스트\n",
    "\n",
    "-지도학습 알고리즘(분류,회귀)\n",
    "\n",
    "-의사결정나무의 앙상블\n",
    "\n",
    "-여러개의 의사결정 트리로 구성\n",
    "\n",
    "-성능이 좋음(과대적합 방지)\n",
    "\n",
    "-부트스트랩 샘플링(데이터셋 중복 허용)\n",
    "\n",
    "- 최종 다수결 투표\n",
    "\n",
    "- 앙상블\n",
    "\n",
    "  -> 배깅 : 같은 알고리즘으로 여러 모델을 만들어 분류함(랜덤포레스트)\n",
    "  -> 부스팅 : 학습과 예측을 하면서 가중치 반영\n",
    "\n",
    "![](./img_8.png)\n"
   ],
   "metadata": {
    "collapsed": false
   }
  },
  {
   "cell_type": "code",
   "execution_count": 10,
   "outputs": [
    {
     "data": {
      "text/plain": "0.9438596491228071"
     },
     "execution_count": 10,
     "metadata": {},
     "output_type": "execute_result"
    }
   ],
   "source": [
    "# 랜덤 포레스트(Random Forest) 분류 모델 실습\n",
    "from sklearn.ensemble import RandomForestClassifier\n",
    "model = RandomForestClassifier(random_state=0)\n",
    "model.fit(X_train, y_train)\n",
    "pred = model.predict(X_test)\n",
    "accuracy_score(y_test, pred)"
   ],
   "metadata": {
    "collapsed": false,
    "ExecuteTime": {
     "end_time": "2023-07-13T02:22:43.187512Z",
     "start_time": "2023-07-13T02:22:43.019254Z"
    }
   }
  },
  {
   "cell_type": "markdown",
   "source": [
    "### 랜덤 포레스트 하이퍼파라미터\n",
    "\n",
    "- n_estimators(기본값 100) : 트리 개수\n",
    "\n",
    "- criterion(기본값 gini) : 불순도 측정 지표( 또는 엔트로피 불순도 entropy)\n",
    "\n",
    "- max_depth(기본값 None) : 최대 한도 깊이(과대적합 방지)\n",
    "\n",
    "- min_samples_split(기본값 2) : 자식 노드를 갖기 위한 최소한의 데이터 수\n",
    "\n",
    "- min_samples_leaf(기본값 1) : 리프 노드가 되기 위한 최소 샘플 수\n",
    "\n",
    "- max_leaf_nodes(기본값 None) : 최대 리프 노드 개수(과대적합 방지)\n",
    "- n_jobs(기본값 None) : 병렬 처리 코어 수(-1은 전체 코어 사용)\n",
    "- random_state(기본값 None) : 랜덤 시드 값"
   ],
   "metadata": {
    "collapsed": false
   }
  },
  {
   "cell_type": "code",
   "execution_count": 11,
   "outputs": [
    {
     "data": {
      "text/plain": "0.9473684210526315"
     },
     "execution_count": 11,
     "metadata": {},
     "output_type": "execute_result"
    }
   ],
   "source": [
    "# 랜덤 포레스트(Random Forest) 하이퍼파라미터\n",
    "from sklearn.ensemble import RandomForestClassifier\n",
    "model = RandomForestClassifier(n_estimators=200,random_state=0, max_depth=5)\n",
    "model.fit(X_train, y_train)\n",
    "pred = model.predict(X_test)\n",
    "accuracy_score(y_test, pred)\n",
    "\n",
    "#0.9473684210526315 max_depth=3"
   ],
   "metadata": {
    "collapsed": false,
    "ExecuteTime": {
     "end_time": "2023-07-13T02:22:43.478775Z",
     "start_time": "2023-07-13T02:22:43.190516Z"
    }
   }
  },
  {
   "cell_type": "markdown",
   "source": [
    "3. xgboost\n",
    "\n",
    "-eXtreme Gradient Boosting(익스트림 그레디언트 부스팅)\n",
    "\n",
    "-부스팅(앙상블) 기반의 알고리즘\n",
    "\n",
    "-트리 앙상블 중 성능이 좋은 알고리즘\n",
    "\n",
    "-캐글(글로벌 AI 경진대회) 뛰어난 성능을 보이면서 인가기 높아짐"
   ],
   "metadata": {
    "collapsed": false
   }
  },
  {
   "cell_type": "code",
   "execution_count": 14,
   "outputs": [
    {
     "data": {
      "text/plain": "0.9508771929824561"
     },
     "execution_count": 14,
     "metadata": {},
     "output_type": "execute_result"
    }
   ],
   "source": [
    "# XGBoost 분류 모델 실습\n",
    "from xgboost import XGBClassifier\n",
    "model = XGBClassifier(random_state=0, eval_metric='logloss')\n",
    "model.fit(X_train, y_train)\n",
    "pred = model.predict(X_test)\n",
    "accuracy_score(y_test, pred)\n"
   ],
   "metadata": {
    "collapsed": false,
    "ExecuteTime": {
     "end_time": "2023-07-13T02:23:56.883578Z",
     "start_time": "2023-07-13T02:23:56.797753Z"
    }
   }
  },
  {
   "cell_type": "markdown",
   "source": [
    "### XGBoost 하이퍼파라미터\n",
    "\n",
    "-booster(기본값 gbtree) : 부스팅 알고리즘(또는 dart, gblinear)\n",
    "\n",
    "- objective(기본값 binary:logistic) : 목적 함수(이진 분류: 이항 로지스틱, 다중 분류: multi:softmax)\n",
    "\n",
    "-max_depth(기본값 6) : 최대 한도 깊이\n",
    "\n",
    "- learning_rate(기본값 0.3) : 학습률\n",
    "\n",
    "![](./nLMzr.png)\n",
    "\n",
    "- n_estimators(기본값 100) : 트리 개수  #learning_rate와 반비례, 러닝레이트를 낮추면 n_estimators를 높여야함\n",
    "\n",
    "- subsample(기본값 1) : 훈련 샘플 개수의 비율\n",
    "\n",
    "- colsample_bytree(기본값 1) : 트리 생성에 필요한 피처(열) 개수의 비율(특성 개수의 비율)\n",
    "\n",
    "- n_jobs(기본값 None) : 병렬 처리 코어 수(-1은 전체 코어 사용)"
   ],
   "metadata": {
    "collapsed": false
   }
  },
  {
   "cell_type": "code",
   "execution_count": 24,
   "outputs": [
    {
     "data": {
      "text/plain": "0.9649122807017544"
     },
     "execution_count": 24,
     "metadata": {},
     "output_type": "execute_result"
    }
   ],
   "source": [
    "# XGBoost 하이퍼파라미터\n",
    "model = XGBClassifier(random_state=0,\n",
    "                      eval_metric='logloss',\n",
    "                      booster='gbtree',\n",
    "                      objective='binary:logistic',\n",
    "                      max_depth=5,\n",
    "                      learning_rate=0.05,\n",
    "                      n_estimators=500,\n",
    "                      subsample=1,\n",
    "                      colsample_bytree=1,\n",
    "                      n_jobs=-1)\n",
    "model.fit(X_train, y_train)\n",
    "pred = model.predict(X_test)\n",
    "accuracy_score(y_test, pred)\n",
    "\n",
    "#0.9614035087719298"
   ],
   "metadata": {
    "collapsed": false,
    "ExecuteTime": {
     "end_time": "2023-07-13T02:50:59.247119Z",
     "start_time": "2023-07-13T02:50:58.967259Z"
    }
   }
  },
  {
   "cell_type": "markdown",
   "source": [
    "# 조기종료\n"
   ],
   "metadata": {
    "collapsed": false
   }
  },
  {
   "cell_type": "code",
   "execution_count": 25,
   "outputs": [
    {
     "name": "stdout",
     "output_type": "stream",
     "text": [
      "[0]\tvalidation_0-logloss:0.65391\n",
      "[1]\tvalidation_0-logloss:0.61861\n",
      "[2]\tvalidation_0-logloss:0.58697\n",
      "[3]\tvalidation_0-logloss:0.55756\n",
      "[4]\tvalidation_0-logloss:0.53038\n",
      "[5]\tvalidation_0-logloss:0.50611\n",
      "[6]\tvalidation_0-logloss:0.48363\n",
      "[7]\tvalidation_0-logloss:0.46304\n",
      "[8]\tvalidation_0-logloss:0.44332\n",
      "[9]\tvalidation_0-logloss:0.42512\n",
      "[10]\tvalidation_0-logloss:0.40821\n",
      "[11]\tvalidation_0-logloss:0.39260\n",
      "[12]\tvalidation_0-logloss:0.37838\n",
      "[13]\tvalidation_0-logloss:0.36512\n",
      "[14]\tvalidation_0-logloss:0.35276\n",
      "[15]\tvalidation_0-logloss:0.34090\n",
      "[16]\tvalidation_0-logloss:0.33018\n",
      "[17]\tvalidation_0-logloss:0.31967\n",
      "[18]\tvalidation_0-logloss:0.30997\n",
      "[19]\tvalidation_0-logloss:0.30105\n",
      "[20]\tvalidation_0-logloss:0.29259\n",
      "[21]\tvalidation_0-logloss:0.28478\n",
      "[22]\tvalidation_0-logloss:0.27725\n",
      "[23]\tvalidation_0-logloss:0.27027\n",
      "[24]\tvalidation_0-logloss:0.26358\n",
      "[25]\tvalidation_0-logloss:0.25755\n",
      "[26]\tvalidation_0-logloss:0.25139\n",
      "[27]\tvalidation_0-logloss:0.24593\n",
      "[28]\tvalidation_0-logloss:0.24103\n",
      "[29]\tvalidation_0-logloss:0.23648\n",
      "[30]\tvalidation_0-logloss:0.23197\n",
      "[31]\tvalidation_0-logloss:0.22778\n",
      "[32]\tvalidation_0-logloss:0.22354\n",
      "[33]\tvalidation_0-logloss:0.21985\n",
      "[34]\tvalidation_0-logloss:0.21678\n",
      "[35]\tvalidation_0-logloss:0.21353\n"
     ]
    },
    {
     "name": "stderr",
     "output_type": "stream",
     "text": [
      "/Users/ralphpark/anaconda3/lib/python3.10/site-packages/xgboost/sklearn.py:835: UserWarning: `early_stopping_rounds` in `fit` method is deprecated for better compatibility with scikit-learn, use `early_stopping_rounds` in constructor or`set_params` instead.\n",
      "  warnings.warn(\n"
     ]
    },
    {
     "name": "stdout",
     "output_type": "stream",
     "text": [
      "[36]\tvalidation_0-logloss:0.21061\n",
      "[37]\tvalidation_0-logloss:0.20800\n",
      "[38]\tvalidation_0-logloss:0.20558\n",
      "[39]\tvalidation_0-logloss:0.20268\n",
      "[40]\tvalidation_0-logloss:0.20042\n",
      "[41]\tvalidation_0-logloss:0.19771\n",
      "[42]\tvalidation_0-logloss:0.19510\n",
      "[43]\tvalidation_0-logloss:0.19354\n",
      "[44]\tvalidation_0-logloss:0.19128\n",
      "[45]\tvalidation_0-logloss:0.18976\n",
      "[46]\tvalidation_0-logloss:0.18854\n",
      "[47]\tvalidation_0-logloss:0.18668\n",
      "[48]\tvalidation_0-logloss:0.18535\n",
      "[49]\tvalidation_0-logloss:0.18346\n",
      "[50]\tvalidation_0-logloss:0.18234\n",
      "[51]\tvalidation_0-logloss:0.18057\n",
      "[52]\tvalidation_0-logloss:0.17897\n",
      "[53]\tvalidation_0-logloss:0.17815\n",
      "[54]\tvalidation_0-logloss:0.17703\n",
      "[55]\tvalidation_0-logloss:0.17564\n",
      "[56]\tvalidation_0-logloss:0.17445\n",
      "[57]\tvalidation_0-logloss:0.17335\n",
      "[58]\tvalidation_0-logloss:0.17179\n",
      "[59]\tvalidation_0-logloss:0.17106\n",
      "[60]\tvalidation_0-logloss:0.17022\n",
      "[61]\tvalidation_0-logloss:0.16983\n",
      "[62]\tvalidation_0-logloss:0.16899\n",
      "[63]\tvalidation_0-logloss:0.16851\n",
      "[64]\tvalidation_0-logloss:0.16776\n",
      "[65]\tvalidation_0-logloss:0.16681\n",
      "[66]\tvalidation_0-logloss:0.16665\n",
      "[67]\tvalidation_0-logloss:0.16632\n",
      "[68]\tvalidation_0-logloss:0.16533\n",
      "[69]\tvalidation_0-logloss:0.16539\n",
      "[70]\tvalidation_0-logloss:0.16520\n",
      "[71]\tvalidation_0-logloss:0.16446\n",
      "[72]\tvalidation_0-logloss:0.16443\n",
      "[73]\tvalidation_0-logloss:0.16449\n",
      "[74]\tvalidation_0-logloss:0.16469\n",
      "[75]\tvalidation_0-logloss:0.16493\n",
      "[76]\tvalidation_0-logloss:0.16526\n",
      "[77]\tvalidation_0-logloss:0.16542\n",
      "[78]\tvalidation_0-logloss:0.16545\n",
      "[79]\tvalidation_0-logloss:0.16448\n",
      "[80]\tvalidation_0-logloss:0.16470\n",
      "[81]\tvalidation_0-logloss:0.16494\n",
      "[82]\tvalidation_0-logloss:0.16506\n"
     ]
    },
    {
     "data": {
      "text/plain": "0.9473684210526315"
     },
     "execution_count": 25,
     "metadata": {},
     "output_type": "execute_result"
    }
   ],
   "source": [
    "model = XGBClassifier(random_state=0,\n",
    "                      eval_metric='logloss',\n",
    "                      learning_rate=0.05,\n",
    "                      n_estimators=500)\n",
    "eval_set = [(X_test, y_test)]\n",
    "model.fit(X_train, y_train, eval_set=eval_set, early_stopping_rounds=10)\n",
    "#early_stopping_rounds=10 : 10번의 반복동안 성능이 향상되지 않으면 학습을 종료\n",
    "pred = model.predict(X_test)\n",
    "accuracy_score(y_test, pred)"
   ],
   "metadata": {
    "collapsed": false,
    "ExecuteTime": {
     "end_time": "2023-07-13T02:57:27.453339Z",
     "start_time": "2023-07-13T02:57:27.047764Z"
    }
   }
  },
  {
   "cell_type": "markdown",
   "source": [
    "4. 교차검증\n",
    "![](./img_9.png)\n",
    "k를 5로 두었을때  데이터를 5개로 나누고 1개를 검증용으로 나머지 4개를 학습용으로 사용하여 5번 반복\n",
    "\n",
    "첫번째는 5번 데이터 두번째는 4번째 데이터....이런식으로 해서 각각 모든 데이터를 훈련용으로도 쓰고 검증용으로도 써서 평균을 내서 교차 검증을 통해 모델 성능을 확인"
   ],
   "metadata": {
    "collapsed": false
   }
  },
  {
   "cell_type": "code",
   "execution_count": null,
   "outputs": [],
   "source": [
    "#KFold 교차검증\n",
    "# 일반적으로 많이 쓰는 검증 방법"
   ],
   "metadata": {
    "collapsed": false
   }
  }
 ],
 "metadata": {
  "kernelspec": {
   "display_name": "Python 3",
   "language": "python",
   "name": "python3"
  },
  "language_info": {
   "codemirror_mode": {
    "name": "ipython",
    "version": 2
   },
   "file_extension": ".py",
   "mimetype": "text/x-python",
   "name": "python",
   "nbconvert_exporter": "python",
   "pygments_lexer": "ipython2",
   "version": "2.7.6"
  }
 },
 "nbformat": 4,
 "nbformat_minor": 0
}
