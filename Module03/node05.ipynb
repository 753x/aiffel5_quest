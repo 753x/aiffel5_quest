{
 "cells": [
  {
   "cell_type": "markdown",
   "source": [
    "## 지도학습(분류)\n",
    "\n",
    "1. 의사 결정 나무\n",
    "\n",
    "-지도학습 알고리즘(분류, 회귀)\n",
    "\n",
    "-직관적인 알고리즘(이해 쉬움)\n",
    "\n",
    "-과대적합(overfitting)이 발생하기 쉬운 알고리즘(트리 깊이 제한 필요)\n",
    "\n",
    "-정보이득(information gain)이 최대가 되는 특성을 나누는 기준(불순도를 측정하는 기준)은 '지니'와 '엔트로피'가 사용됨\n",
    "\n",
    "-데이터가 한 종류만 있다면 엔트로피/지니 불순도는 0에 가까움. 서로 다른 데이터의 비율에 비슷하면 1에 가까움\n",
    "\n",
    "-정보이득(information gain)이 최대(1-불순도)가 되는 특성을 기준으로 데이터를 나눔\n",
    "\n",
    "![](./img_7.png)\n"
   ],
   "metadata": {
    "collapsed": false
   }
  }
 ],
 "metadata": {
  "kernelspec": {
   "display_name": "Python 3",
   "language": "python",
   "name": "python3"
  },
  "language_info": {
   "codemirror_mode": {
    "name": "ipython",
    "version": 2
   },
   "file_extension": ".py",
   "mimetype": "text/x-python",
   "name": "python",
   "nbconvert_exporter": "python",
   "pygments_lexer": "ipython2",
   "version": "2.7.6"
  }
 },
 "nbformat": 4,
 "nbformat_minor": 0
}
