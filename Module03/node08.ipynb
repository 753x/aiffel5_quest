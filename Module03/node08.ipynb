{
 "cells": [
  {
   "cell_type": "markdown",
   "source": [
    "#8. 자연어 처리\n",
    "\n",
    "1. 자연어 처리 기초\n",
    "![](./na_02.png)\n",
    "* 형태소 : 의미를 가지는 요소로서는 더 이상 분석할 수 없는 가장 작은 말의 단위\n",
    "\n",
    "문자를 숫자로 바꾸는 것이 자연어 처리의 기본이다.\n",
    "\n",
    "어휘사전 구축 후 새로운 문장이 들어왔을때 사전에 있는것과 매칭한다. AI, 함께, 하며의 3단어만 1로 변경되고 나머지는 0이다.\n",
    "\n",
    "CountVectorizer : 각 문장에서 단어 출현 횟수를 카운팅하는 방법(BOW,Bag of Words)\n",
    "\n",
    "TfidfVectorizer : TF-IDF 방법으로 단어의 가중치를 조정하는 방법, 다른 문서보다 특정 문서에 자주 나타나는 단어에 높은 가중치를 주는 방법"
   ],
   "metadata": {
    "collapsed": false
   }
  },
  {
   "cell_type": "markdown",
   "source": [
    "## 자연어 처리\n",
    "\n",
    "-NLP(Natural Language Processing) : 자연어 처리\n",
    "\n",
    "-사람이 사용하는 언어를 처리하고 해석\n",
    "\n",
    "## 자연어 처리 기초\n",
    "\n",
    "### 형태소 분석기\n",
    "\n",
    "-konlpy : 한국어 처리를 위한 형태소 분석기\n",
    "\n",
    "-형태소 : 의미를 가지는 가장 작은 말의 단위"
   ],
   "metadata": {
    "collapsed": false
   }
  },
  {
   "cell_type": "markdown",
   "source": [
    "warnings.filterwarnings('ignore')는 프로그램에서 발생할 수 있는 경고 메시지를 무시하도록 하는 명령입니다. 이 명령을 사용하면 경고 메시지를 볼 필요 없이 오류 메시지만 볼 수 있기 때문에 코드의 디버깅이 쉬워집니다. 하지만 경고 메시지는 다양한 원인을 가지므로 프로그램에서 발생한 문제를 진단하거나 수정하는데 도움을 줍니다. 따라서, 경고 메시지가 의미 있는 정보를 가지고 있을 때는 filterwarnings을 사용하지 않는 것이 좋습니다."
   ],
   "metadata": {
    "collapsed": false
   }
  },
  {
   "cell_type": "code",
   "execution_count": 90,
   "outputs": [],
   "source": [
    "# 라이브러리 불러오기\n",
    "import pandas as pd\n",
    "import warnings\n",
    "warnings.filterwarnings('ignore')\n"
   ],
   "metadata": {
    "collapsed": false,
    "ExecuteTime": {
     "end_time": "2023-07-17T07:52:18.754529Z",
     "start_time": "2023-07-17T07:52:18.635160Z"
    }
   }
  },
  {
   "cell_type": "code",
   "execution_count": 91,
   "outputs": [
    {
     "name": "stdout",
     "output_type": "stream",
     "text": [
      "Requirement already satisfied: konlpy in /Users/ralphpark/anaconda3/lib/python3.10/site-packages (0.6.0)\r\n",
      "Requirement already satisfied: JPype1>=0.7.0 in /Users/ralphpark/anaconda3/lib/python3.10/site-packages (from konlpy) (1.4.1)\r\n",
      "Requirement already satisfied: numpy>=1.6 in /Users/ralphpark/anaconda3/lib/python3.10/site-packages (from konlpy) (1.23.5)\r\n",
      "Requirement already satisfied: lxml>=4.1.0 in /Users/ralphpark/anaconda3/lib/python3.10/site-packages (from konlpy) (4.9.1)\r\n",
      "Requirement already satisfied: packaging in /Users/ralphpark/anaconda3/lib/python3.10/site-packages (from JPype1>=0.7.0->konlpy) (22.0)\r\n"
     ]
    }
   ],
   "source": [
    "#konlpy 설치\n",
    "!pip install konlpy"
   ],
   "metadata": {
    "collapsed": false,
    "ExecuteTime": {
     "end_time": "2023-07-17T07:52:22.346782Z",
     "start_time": "2023-07-17T07:52:18.638223Z"
    }
   }
  },
  {
   "cell_type": "code",
   "execution_count": 92,
   "outputs": [],
   "source": [
    "#라이브러리 불러오기(okt)\n",
    "import konlpy\n",
    "from konlpy.tag import Okt\n",
    "tokenizer = Okt()"
   ],
   "metadata": {
    "collapsed": false,
    "ExecuteTime": {
     "end_time": "2023-07-17T07:52:22.356543Z",
     "start_time": "2023-07-17T07:52:22.351321Z"
    }
   }
  },
  {
   "cell_type": "code",
   "execution_count": 93,
   "outputs": [
    {
     "name": "stdout",
     "output_type": "stream",
     "text": [
      "['함께', '탐험', '하며', '성장하는', 'AI', '학교', 'AIFFEL']\n"
     ]
    }
   ],
   "source": [
    "#토큰화(형태소 단위)\n",
    "text = \"함께 탐험하며 성장하는 AI학교 AIFFEL\"\n",
    "print(tokenizer.morphs(text))"
   ],
   "metadata": {
    "collapsed": false,
    "ExecuteTime": {
     "end_time": "2023-07-17T07:52:22.396332Z",
     "start_time": "2023-07-17T07:52:22.359877Z"
    }
   }
  },
  {
   "cell_type": "code",
   "execution_count": 94,
   "outputs": [
    {
     "data": {
      "text/plain": "['탐험', '학교']"
     },
     "execution_count": 94,
     "metadata": {},
     "output_type": "execute_result"
    }
   ],
   "source": [
    "#토근화(명사만 추출)\n",
    "tokenizer.nouns(text)"
   ],
   "metadata": {
    "collapsed": false,
    "ExecuteTime": {
     "end_time": "2023-07-17T07:52:22.402428Z",
     "start_time": "2023-07-17T07:52:22.374023Z"
    }
   }
  },
  {
   "cell_type": "code",
   "execution_count": 95,
   "outputs": [
    {
     "data": {
      "text/plain": "[('함께', 'Adverb'),\n ('탐험', 'Noun'),\n ('하며', 'Verb'),\n ('성장하는', 'Adjective'),\n ('AI', 'Alpha'),\n ('학교', 'Noun'),\n ('AIFFEL', 'Alpha')]"
     },
     "execution_count": 95,
     "metadata": {},
     "output_type": "execute_result"
    }
   ],
   "source": [
    "#토큰화(품사 태깅)\n",
    "tokenizer.pos(text)"
   ],
   "metadata": {
    "collapsed": false,
    "ExecuteTime": {
     "end_time": "2023-07-17T07:52:22.402711Z",
     "start_time": "2023-07-17T07:52:22.385754Z"
    }
   }
  },
  {
   "cell_type": "code",
   "execution_count": 96,
   "outputs": [],
   "source": [
    "#CountVectorizer : 각 문장에서 단어 출현 횟수를 카운팅하는 방법(BOW,Bag of Words)\n",
    "from sklearn.feature_extraction.text import CountVectorizer\n",
    "vect = CountVectorizer()\n"
   ],
   "metadata": {
    "collapsed": false,
    "ExecuteTime": {
     "end_time": "2023-07-17T07:52:22.402783Z",
     "start_time": "2023-07-17T07:52:22.396653Z"
    }
   }
  },
  {
   "cell_type": "code",
   "execution_count": 97,
   "outputs": [],
   "source": [
    "# 단어 토큰화(Okt)\n",
    "words = tokenizer.morphs(text)"
   ],
   "metadata": {
    "collapsed": false,
    "ExecuteTime": {
     "end_time": "2023-07-17T07:52:22.420097Z",
     "start_time": "2023-07-17T07:52:22.399923Z"
    }
   }
  },
  {
   "cell_type": "code",
   "execution_count": 98,
   "outputs": [
    {
     "data": {
      "text/plain": "CountVectorizer()",
      "text/html": "<style>#sk-container-id-3 {color: black;background-color: white;}#sk-container-id-3 pre{padding: 0;}#sk-container-id-3 div.sk-toggleable {background-color: white;}#sk-container-id-3 label.sk-toggleable__label {cursor: pointer;display: block;width: 100%;margin-bottom: 0;padding: 0.3em;box-sizing: border-box;text-align: center;}#sk-container-id-3 label.sk-toggleable__label-arrow:before {content: \"▸\";float: left;margin-right: 0.25em;color: #696969;}#sk-container-id-3 label.sk-toggleable__label-arrow:hover:before {color: black;}#sk-container-id-3 div.sk-estimator:hover label.sk-toggleable__label-arrow:before {color: black;}#sk-container-id-3 div.sk-toggleable__content {max-height: 0;max-width: 0;overflow: hidden;text-align: left;background-color: #f0f8ff;}#sk-container-id-3 div.sk-toggleable__content pre {margin: 0.2em;color: black;border-radius: 0.25em;background-color: #f0f8ff;}#sk-container-id-3 input.sk-toggleable__control:checked~div.sk-toggleable__content {max-height: 200px;max-width: 100%;overflow: auto;}#sk-container-id-3 input.sk-toggleable__control:checked~label.sk-toggleable__label-arrow:before {content: \"▾\";}#sk-container-id-3 div.sk-estimator input.sk-toggleable__control:checked~label.sk-toggleable__label {background-color: #d4ebff;}#sk-container-id-3 div.sk-label input.sk-toggleable__control:checked~label.sk-toggleable__label {background-color: #d4ebff;}#sk-container-id-3 input.sk-hidden--visually {border: 0;clip: rect(1px 1px 1px 1px);clip: rect(1px, 1px, 1px, 1px);height: 1px;margin: -1px;overflow: hidden;padding: 0;position: absolute;width: 1px;}#sk-container-id-3 div.sk-estimator {font-family: monospace;background-color: #f0f8ff;border: 1px dotted black;border-radius: 0.25em;box-sizing: border-box;margin-bottom: 0.5em;}#sk-container-id-3 div.sk-estimator:hover {background-color: #d4ebff;}#sk-container-id-3 div.sk-parallel-item::after {content: \"\";width: 100%;border-bottom: 1px solid gray;flex-grow: 1;}#sk-container-id-3 div.sk-label:hover label.sk-toggleable__label {background-color: #d4ebff;}#sk-container-id-3 div.sk-serial::before {content: \"\";position: absolute;border-left: 1px solid gray;box-sizing: border-box;top: 0;bottom: 0;left: 50%;z-index: 0;}#sk-container-id-3 div.sk-serial {display: flex;flex-direction: column;align-items: center;background-color: white;padding-right: 0.2em;padding-left: 0.2em;position: relative;}#sk-container-id-3 div.sk-item {position: relative;z-index: 1;}#sk-container-id-3 div.sk-parallel {display: flex;align-items: stretch;justify-content: center;background-color: white;position: relative;}#sk-container-id-3 div.sk-item::before, #sk-container-id-3 div.sk-parallel-item::before {content: \"\";position: absolute;border-left: 1px solid gray;box-sizing: border-box;top: 0;bottom: 0;left: 50%;z-index: -1;}#sk-container-id-3 div.sk-parallel-item {display: flex;flex-direction: column;z-index: 1;position: relative;background-color: white;}#sk-container-id-3 div.sk-parallel-item:first-child::after {align-self: flex-end;width: 50%;}#sk-container-id-3 div.sk-parallel-item:last-child::after {align-self: flex-start;width: 50%;}#sk-container-id-3 div.sk-parallel-item:only-child::after {width: 0;}#sk-container-id-3 div.sk-dashed-wrapped {border: 1px dashed gray;margin: 0 0.4em 0.5em 0.4em;box-sizing: border-box;padding-bottom: 0.4em;background-color: white;}#sk-container-id-3 div.sk-label label {font-family: monospace;font-weight: bold;display: inline-block;line-height: 1.2em;}#sk-container-id-3 div.sk-label-container {text-align: center;}#sk-container-id-3 div.sk-container {/* jupyter's `normalize.less` sets `[hidden] { display: none; }` but bootstrap.min.css set `[hidden] { display: none !important; }` so we also need the `!important` here to be able to override the default hidden behavior on the sphinx rendered scikit-learn.org. See: https://github.com/scikit-learn/scikit-learn/issues/21755 */display: inline-block !important;position: relative;}#sk-container-id-3 div.sk-text-repr-fallback {display: none;}</style><div id=\"sk-container-id-3\" class=\"sk-top-container\"><div class=\"sk-text-repr-fallback\"><pre>CountVectorizer()</pre><b>In a Jupyter environment, please rerun this cell to show the HTML representation or trust the notebook. <br />On GitHub, the HTML representation is unable to render, please try loading this page with nbviewer.org.</b></div><div class=\"sk-container\" hidden><div class=\"sk-item\"><div class=\"sk-estimator sk-toggleable\"><input class=\"sk-toggleable__control sk-hidden--visually\" id=\"sk-estimator-id-3\" type=\"checkbox\" checked><label for=\"sk-estimator-id-3\" class=\"sk-toggleable__label sk-toggleable__label-arrow\">CountVectorizer</label><div class=\"sk-toggleable__content\"><pre>CountVectorizer()</pre></div></div></div></div></div>"
     },
     "execution_count": 98,
     "metadata": {},
     "output_type": "execute_result"
    }
   ],
   "source": [
    "# 데이터 학습 - 어휘사전 만들기\n",
    "vect.fit(words)"
   ],
   "metadata": {
    "collapsed": false,
    "ExecuteTime": {
     "end_time": "2023-07-17T07:52:22.420424Z",
     "start_time": "2023-07-17T07:52:22.415923Z"
    }
   }
  },
  {
   "cell_type": "code",
   "execution_count": 99,
   "outputs": [
    {
     "data": {
      "text/plain": "array(['ai', 'aiffel', '성장하는', '탐험', '하며', '학교', '함께'], dtype=object)"
     },
     "execution_count": 99,
     "metadata": {},
     "output_type": "execute_result"
    }
   ],
   "source": [
    "#학습된 어휘\n",
    "vect.get_feature_names_out()"
   ],
   "metadata": {
    "collapsed": false,
    "ExecuteTime": {
     "end_time": "2023-07-17T07:52:22.524366Z",
     "start_time": "2023-07-17T07:52:22.423948Z"
    }
   }
  },
  {
   "cell_type": "code",
   "execution_count": 100,
   "outputs": [
    {
     "data": {
      "text/plain": "{'함께': 6, '탐험': 3, '하며': 4, '성장하는': 2, 'ai': 0, '학교': 5, 'aiffel': 1}"
     },
     "execution_count": 100,
     "metadata": {},
     "output_type": "execute_result"
    }
   ],
   "source": [
    "# 단어사전\n",
    "vect.vocabulary_"
   ],
   "metadata": {
    "collapsed": false,
    "ExecuteTime": {
     "end_time": "2023-07-17T07:52:22.526099Z",
     "start_time": "2023-07-17T07:52:22.433484Z"
    }
   }
  },
  {
   "cell_type": "code",
   "execution_count": 101,
   "outputs": [
    {
     "data": {
      "text/plain": "7"
     },
     "execution_count": 101,
     "metadata": {},
     "output_type": "execute_result"
    }
   ],
   "source": [
    "# 단어사전 크기\n",
    "len(vect.vocabulary_)"
   ],
   "metadata": {
    "collapsed": false,
    "ExecuteTime": {
     "end_time": "2023-07-17T07:52:22.526727Z",
     "start_time": "2023-07-17T07:52:22.443334Z"
    }
   }
  },
  {
   "cell_type": "code",
   "execution_count": 102,
   "outputs": [],
   "source": [
    "# 인코딩\n",
    "df_t = vect.transform(words)"
   ],
   "metadata": {
    "collapsed": false,
    "ExecuteTime": {
     "end_time": "2023-07-17T07:52:22.527011Z",
     "start_time": "2023-07-17T07:52:22.450681Z"
    }
   }
  },
  {
   "cell_type": "code",
   "execution_count": 103,
   "outputs": [
    {
     "data": {
      "text/plain": "array([[0, 0, 0, 0, 0, 0, 1],\n       [0, 0, 0, 1, 0, 0, 0],\n       [0, 0, 0, 0, 1, 0, 0],\n       [0, 0, 1, 0, 0, 0, 0],\n       [1, 0, 0, 0, 0, 0, 0],\n       [0, 0, 0, 0, 0, 1, 0],\n       [0, 1, 0, 0, 0, 0, 0]])"
     },
     "execution_count": 103,
     "metadata": {},
     "output_type": "execute_result"
    }
   ],
   "source": [
    "#인코딩된 데이터 Matrix\n",
    "df_t.toarray()"
   ],
   "metadata": {
    "collapsed": false,
    "ExecuteTime": {
     "end_time": "2023-07-17T07:52:22.711602Z",
     "start_time": "2023-07-17T07:52:22.708098Z"
    }
   }
  },
  {
   "cell_type": "code",
   "execution_count": 104,
   "outputs": [
    {
     "data": {
      "text/plain": "   ai  aiffel  성장하는  탐험  하며  학교  함께\n0   0       0     0   0   0   0   1\n1   0       0     0   1   0   0   0\n2   0       0     0   0   1   0   0\n3   0       0     1   0   0   0   0\n4   1       0     0   0   0   0   0\n5   0       0     0   0   0   1   0\n6   0       1     0   0   0   0   0",
      "text/html": "<div>\n<style scoped>\n    .dataframe tbody tr th:only-of-type {\n        vertical-align: middle;\n    }\n\n    .dataframe tbody tr th {\n        vertical-align: top;\n    }\n\n    .dataframe thead th {\n        text-align: right;\n    }\n</style>\n<table border=\"1\" class=\"dataframe\">\n  <thead>\n    <tr style=\"text-align: right;\">\n      <th></th>\n      <th>ai</th>\n      <th>aiffel</th>\n      <th>성장하는</th>\n      <th>탐험</th>\n      <th>하며</th>\n      <th>학교</th>\n      <th>함께</th>\n    </tr>\n  </thead>\n  <tbody>\n    <tr>\n      <th>0</th>\n      <td>0</td>\n      <td>0</td>\n      <td>0</td>\n      <td>0</td>\n      <td>0</td>\n      <td>0</td>\n      <td>1</td>\n    </tr>\n    <tr>\n      <th>1</th>\n      <td>0</td>\n      <td>0</td>\n      <td>0</td>\n      <td>1</td>\n      <td>0</td>\n      <td>0</td>\n      <td>0</td>\n    </tr>\n    <tr>\n      <th>2</th>\n      <td>0</td>\n      <td>0</td>\n      <td>0</td>\n      <td>0</td>\n      <td>1</td>\n      <td>0</td>\n      <td>0</td>\n    </tr>\n    <tr>\n      <th>3</th>\n      <td>0</td>\n      <td>0</td>\n      <td>1</td>\n      <td>0</td>\n      <td>0</td>\n      <td>0</td>\n      <td>0</td>\n    </tr>\n    <tr>\n      <th>4</th>\n      <td>1</td>\n      <td>0</td>\n      <td>0</td>\n      <td>0</td>\n      <td>0</td>\n      <td>0</td>\n      <td>0</td>\n    </tr>\n    <tr>\n      <th>5</th>\n      <td>0</td>\n      <td>0</td>\n      <td>0</td>\n      <td>0</td>\n      <td>0</td>\n      <td>1</td>\n      <td>0</td>\n    </tr>\n    <tr>\n      <th>6</th>\n      <td>0</td>\n      <td>1</td>\n      <td>0</td>\n      <td>0</td>\n      <td>0</td>\n      <td>0</td>\n      <td>0</td>\n    </tr>\n  </tbody>\n</table>\n</div>"
     },
     "execution_count": 104,
     "metadata": {},
     "output_type": "execute_result"
    }
   ],
   "source": [
    "# 어휘와 피처(데이터 프레임)\n",
    "pd.DataFrame(df_t.toarray(), columns=vect.get_feature_names_out())"
   ],
   "metadata": {
    "collapsed": false,
    "ExecuteTime": {
     "end_time": "2023-07-17T07:52:22.718082Z",
     "start_time": "2023-07-17T07:52:22.710671Z"
    }
   }
  },
  {
   "cell_type": "code",
   "execution_count": 105,
   "outputs": [],
   "source": [
    "# test - 새로운 변수가 들어왔을때\n",
    "test = \"AI와 공부하며 함께 성장해요\""
   ],
   "metadata": {
    "collapsed": false,
    "ExecuteTime": {
     "end_time": "2023-07-17T07:52:22.721380Z",
     "start_time": "2023-07-17T07:52:22.719688Z"
    }
   }
  },
  {
   "cell_type": "code",
   "execution_count": 106,
   "outputs": [
    {
     "data": {
      "text/plain": "['AI', '와', '공부', '하며', '함께', '성장해요']"
     },
     "execution_count": 106,
     "metadata": {},
     "output_type": "execute_result"
    }
   ],
   "source": [
    "# 토큰화\n",
    "words_test = tokenizer.morphs(test)\n",
    "words_test"
   ],
   "metadata": {
    "collapsed": false,
    "ExecuteTime": {
     "end_time": "2023-07-17T07:52:22.729342Z",
     "start_time": "2023-07-17T07:52:22.722913Z"
    }
   }
  },
  {
   "cell_type": "code",
   "execution_count": 107,
   "outputs": [
    {
     "data": {
      "text/plain": "array([[1, 0, 0, 0, 0, 0, 0],\n       [0, 0, 0, 0, 0, 0, 0],\n       [0, 0, 0, 0, 0, 0, 0],\n       [0, 0, 0, 0, 1, 0, 0],\n       [0, 0, 0, 0, 0, 0, 1],\n       [0, 0, 0, 0, 0, 0, 0]])"
     },
     "execution_count": 107,
     "metadata": {},
     "output_type": "execute_result"
    }
   ],
   "source": [
    "# fit은 안해도 되고 transform만 해도 된다.\n",
    "# 인코딩 된 데이터 Matrix\n",
    "df_test = vect.transform(words_test)\n",
    "df_test.toarray()"
   ],
   "metadata": {
    "collapsed": false,
    "ExecuteTime": {
     "end_time": "2023-07-17T07:52:22.752078Z",
     "start_time": "2023-07-17T07:52:22.731364Z"
    }
   }
  },
  {
   "cell_type": "code",
   "execution_count": 108,
   "outputs": [
    {
     "data": {
      "text/plain": "   ai  aiffel  성장하는  탐험  하며  학교  함께\n0   1       0     0   0   0   0   0\n1   0       0     0   0   0   0   0\n2   0       0     0   0   0   0   0\n3   0       0     0   0   1   0   0\n4   0       0     0   0   0   0   1\n5   0       0     0   0   0   0   0",
      "text/html": "<div>\n<style scoped>\n    .dataframe tbody tr th:only-of-type {\n        vertical-align: middle;\n    }\n\n    .dataframe tbody tr th {\n        vertical-align: top;\n    }\n\n    .dataframe thead th {\n        text-align: right;\n    }\n</style>\n<table border=\"1\" class=\"dataframe\">\n  <thead>\n    <tr style=\"text-align: right;\">\n      <th></th>\n      <th>ai</th>\n      <th>aiffel</th>\n      <th>성장하는</th>\n      <th>탐험</th>\n      <th>하며</th>\n      <th>학교</th>\n      <th>함께</th>\n    </tr>\n  </thead>\n  <tbody>\n    <tr>\n      <th>0</th>\n      <td>1</td>\n      <td>0</td>\n      <td>0</td>\n      <td>0</td>\n      <td>0</td>\n      <td>0</td>\n      <td>0</td>\n    </tr>\n    <tr>\n      <th>1</th>\n      <td>0</td>\n      <td>0</td>\n      <td>0</td>\n      <td>0</td>\n      <td>0</td>\n      <td>0</td>\n      <td>0</td>\n    </tr>\n    <tr>\n      <th>2</th>\n      <td>0</td>\n      <td>0</td>\n      <td>0</td>\n      <td>0</td>\n      <td>0</td>\n      <td>0</td>\n      <td>0</td>\n    </tr>\n    <tr>\n      <th>3</th>\n      <td>0</td>\n      <td>0</td>\n      <td>0</td>\n      <td>0</td>\n      <td>1</td>\n      <td>0</td>\n      <td>0</td>\n    </tr>\n    <tr>\n      <th>4</th>\n      <td>0</td>\n      <td>0</td>\n      <td>0</td>\n      <td>0</td>\n      <td>0</td>\n      <td>0</td>\n      <td>1</td>\n    </tr>\n    <tr>\n      <th>5</th>\n      <td>0</td>\n      <td>0</td>\n      <td>0</td>\n      <td>0</td>\n      <td>0</td>\n      <td>0</td>\n      <td>0</td>\n    </tr>\n  </tbody>\n</table>\n</div>"
     },
     "execution_count": 108,
     "metadata": {},
     "output_type": "execute_result"
    }
   ],
   "source": [
    "# 어휘와 피처(데이터 프레임)\n",
    "pd.DataFrame(df_test.toarray(), columns=vect.get_feature_names_out())"
   ],
   "metadata": {
    "collapsed": false,
    "ExecuteTime": {
     "end_time": "2023-07-17T07:52:22.753600Z",
     "start_time": "2023-07-17T07:52:22.739334Z"
    }
   }
  },
  {
   "cell_type": "code",
   "execution_count": 109,
   "outputs": [],
   "source": [
    "#TfidfVectorizer : TF-IDF 방법으로 단어의 가중치를 조정하는 방법, 다른 문서보다 특정 문서에 자주 나타나는 단어에 높은 가중치를 주는 방법\n",
    "from sklearn.feature_extraction.text import TfidfVectorizer"
   ],
   "metadata": {
    "collapsed": false,
    "ExecuteTime": {
     "end_time": "2023-07-17T07:52:22.772979Z",
     "start_time": "2023-07-17T07:52:22.743279Z"
    }
   }
  },
  {
   "cell_type": "code",
   "execution_count": 110,
   "outputs": [
    {
     "data": {
      "text/plain": "{'함께': 6, '탐험': 3, '하며': 4, '성장하는': 2, 'ai': 0, '학교': 5, 'aiffel': 1}"
     },
     "execution_count": 110,
     "metadata": {},
     "output_type": "execute_result"
    }
   ],
   "source": [
    "# tf-idf 활용 어휘 사전 구축\n",
    "vect = TfidfVectorizer()\n",
    "words = tokenizer.morphs(text)\n",
    "vect.fit(words)\n",
    "vect.vocabulary_"
   ],
   "metadata": {
    "collapsed": false,
    "ExecuteTime": {
     "end_time": "2023-07-17T07:52:22.773331Z",
     "start_time": "2023-07-17T07:52:22.747030Z"
    }
   }
  },
  {
   "cell_type": "code",
   "execution_count": 111,
   "outputs": [
    {
     "data": {
      "text/plain": "array([[0., 0., 0., 0., 0., 0., 1.],\n       [0., 0., 0., 1., 0., 0., 0.],\n       [0., 0., 0., 0., 1., 0., 0.],\n       [0., 0., 1., 0., 0., 0., 0.],\n       [1., 0., 0., 0., 0., 0., 0.],\n       [0., 0., 0., 0., 0., 1., 0.],\n       [0., 1., 0., 0., 0., 0., 0.]])"
     },
     "execution_count": 111,
     "metadata": {},
     "output_type": "execute_result"
    }
   ],
   "source": [
    "# tf-idf 인코딩된 데이터 Matrix\n",
    "df_t = vect.transform(words).toarray()\n",
    "df_t"
   ],
   "metadata": {
    "collapsed": false,
    "ExecuteTime": {
     "end_time": "2023-07-17T07:52:22.789323Z",
     "start_time": "2023-07-17T07:52:22.753134Z"
    }
   }
  },
  {
   "cell_type": "markdown",
   "source": [
    "실습문제\n",
    "\n",
    "문자열을 컴퓨터가 인식할 수 있도록 수치 벡터로 만드는 대표적인 방법으로 CountVectorizer와 TfidfVectorizer가 있는데요. 이 둘의 차이점은 무엇인가요?\n",
    "\n",
    "CountVectorizer는 단어의 빈도수를 기준으로 수치 벡터를 만들고, TfidfVectorizer는 TF-IDF라는 방법을 사용해 단어의 빈도수와 역 문서 빈도수를 모두 고려해 수치 벡터를 만듭니다.\n",
    "\n",
    "CountVectorizer와 TfidfVectorizer는 모두 문서 집합에서 문자열을 수치 벡터로 변환하는 방법입니다. 두 방법의 차이점은 아래와 같습니다:\n",
    "\n",
    "1. CountVectorizer: 이 방법은 문서의 단어의 출현 빈도를 나타내는 정수값을 가지는 벡터로 변환합니다. 각 단어가 문서에서 몇 번 출현했는지를 카운트하고 결과를 벡터로 표현합니다. 그러나 이 방법은 단어의 중요성 차이를 구분하지 못하는 단점이 있습니다.\n",
    "\n",
    "2. TfidfVectorizer: 이 방법은 Term Frequency-Inverse Document Frequency(TF-IDF)라는 가중치를 사용하여 문서의 단어 벡터를 나타냅니다. TF-IDF는 단어의 중요성을 고려하기 때문에 CountVectorizer와 달리 문서에서 지닌 중요성에 따라 단어의 가중치가 달라집니다. 공통적으로 많이 사용되는 단어는 가중치가 낮고, 특정 문서에서만 중요하게 사용되는 단어는 가중치가 높아집니다.\n",
    "\n",
    "결론적으로, 두 방법은 모두 문서의 단어를 수치 벡터로 변환하는 방법인데 CountVectorizer는 단어의 출현 빈도를 이용한 방식이고, TfidfVectorizer는 단어의 중요성을 고려한 방식입니다. 문서의 특성에 따라 적절한 방법을 선택할 수 있습니다.\n",
    "\n",
    "예시답안\n",
    "\n",
    "CountVectorizer는 문서에서 단어의 출현 빈도를 기반으로 각 단어를 수치화하고, TfidfVectorizer는 문서에서 단어의 상대적인 중요도를 고려하여 각 단어를 수치화합니다. 즉, TfidfVectorizer는 문서에 자주 출현하지만 다른 문서에서는 그렇지 않은 단어에 대해 높은 가중치를 부여합니다.\n"
   ],
   "metadata": {
    "collapsed": false
   }
  },
  {
   "cell_type": "markdown",
   "source": [
    "2. 감성분석\n",
    "\n",
    "![](./na_03.png)\n"
   ],
   "metadata": {
    "collapsed": false
   }
  },
  {
   "cell_type": "code",
   "execution_count": 112,
   "outputs": [],
   "source": [
    "# 데이터 불러오기\n",
    "# 라이브러리 불러오기\n",
    "import pandas as pd"
   ],
   "metadata": {
    "collapsed": false,
    "ExecuteTime": {
     "end_time": "2023-07-17T07:52:22.789535Z",
     "start_time": "2023-07-17T07:52:22.759658Z"
    }
   }
  },
  {
   "cell_type": "code",
   "execution_count": 113,
   "outputs": [
    {
     "data": {
      "text/plain": "         id                                           document  label\n0   9976970                                아 더빙.. 진짜 짜증나네요 목소리      0\n1   3819312                  흠...포스터보고 초딩영화줄....오버연기조차 가볍지 않구나      1\n2  10265843                                  너무재밓었다그래서보는것을추천한다      0\n3   9045019                      교도소 이야기구먼 ..솔직히 재미는 없다..평점 조정      0\n4   6483659  사이몬페그의 익살스런 연기가 돋보였던 영화!스파이더맨에서 늙어보이기만 했던 커스틴 ...      1",
      "text/html": "<div>\n<style scoped>\n    .dataframe tbody tr th:only-of-type {\n        vertical-align: middle;\n    }\n\n    .dataframe tbody tr th {\n        vertical-align: top;\n    }\n\n    .dataframe thead th {\n        text-align: right;\n    }\n</style>\n<table border=\"1\" class=\"dataframe\">\n  <thead>\n    <tr style=\"text-align: right;\">\n      <th></th>\n      <th>id</th>\n      <th>document</th>\n      <th>label</th>\n    </tr>\n  </thead>\n  <tbody>\n    <tr>\n      <th>0</th>\n      <td>9976970</td>\n      <td>아 더빙.. 진짜 짜증나네요 목소리</td>\n      <td>0</td>\n    </tr>\n    <tr>\n      <th>1</th>\n      <td>3819312</td>\n      <td>흠...포스터보고 초딩영화줄....오버연기조차 가볍지 않구나</td>\n      <td>1</td>\n    </tr>\n    <tr>\n      <th>2</th>\n      <td>10265843</td>\n      <td>너무재밓었다그래서보는것을추천한다</td>\n      <td>0</td>\n    </tr>\n    <tr>\n      <th>3</th>\n      <td>9045019</td>\n      <td>교도소 이야기구먼 ..솔직히 재미는 없다..평점 조정</td>\n      <td>0</td>\n    </tr>\n    <tr>\n      <th>4</th>\n      <td>6483659</td>\n      <td>사이몬페그의 익살스런 연기가 돋보였던 영화!스파이더맨에서 늙어보이기만 했던 커스틴 ...</td>\n      <td>1</td>\n    </tr>\n  </tbody>\n</table>\n</div>"
     },
     "execution_count": 113,
     "metadata": {},
     "output_type": "execute_result"
    }
   ],
   "source": [
    "# 데이터 불러오기\n",
    "df = pd.read_csv(\"ratings_train.txt\", sep=\"\\t\") # sep=\"\\t\" : 탭으로 구분\n",
    "df.head()"
   ],
   "metadata": {
    "collapsed": false,
    "ExecuteTime": {
     "end_time": "2023-07-17T07:52:23.039988Z",
     "start_time": "2023-07-17T07:52:22.765722Z"
    }
   }
  },
  {
   "cell_type": "markdown",
   "source": [
    "EDA 및 데이터 전처리"
   ],
   "metadata": {
    "collapsed": false
   }
  },
  {
   "cell_type": "code",
   "execution_count": 114,
   "outputs": [
    {
     "data": {
      "text/plain": "(150000, 3)"
     },
     "execution_count": 114,
     "metadata": {},
     "output_type": "execute_result"
    }
   ],
   "source": [
    "# 데이터 크기\n",
    "df.shape"
   ],
   "metadata": {
    "collapsed": false,
    "ExecuteTime": {
     "end_time": "2023-07-17T07:52:23.043895Z",
     "start_time": "2023-07-17T07:52:23.039347Z"
    }
   }
  },
  {
   "cell_type": "code",
   "execution_count": 115,
   "outputs": [
    {
     "data": {
      "text/plain": "0    75173\n1    74827\nName: label, dtype: int64"
     },
     "execution_count": 115,
     "metadata": {},
     "output_type": "execute_result"
    }
   ],
   "source": [
    "# 타겟 확인\n",
    "df.label.value_counts() #긍정이 0, 부정이 1"
   ],
   "metadata": {
    "collapsed": false,
    "ExecuteTime": {
     "end_time": "2023-07-17T07:52:23.050276Z",
     "start_time": "2023-07-17T07:52:23.047210Z"
    }
   }
  },
  {
   "cell_type": "code",
   "execution_count": 116,
   "outputs": [
    {
     "data": {
      "text/plain": "id          0\ndocument    5\nlabel       0\ndtype: int64"
     },
     "execution_count": 116,
     "metadata": {},
     "output_type": "execute_result"
    }
   ],
   "source": [
    "# 결측치\n",
    "df.isnull().sum()"
   ],
   "metadata": {
    "collapsed": false,
    "ExecuteTime": {
     "end_time": "2023-07-17T07:52:23.115781Z",
     "start_time": "2023-07-17T07:52:23.050088Z"
    }
   }
  },
  {
   "cell_type": "code",
   "execution_count": 120,
   "outputs": [
    {
     "name": "stdout",
     "output_type": "stream",
     "text": [
      "(150000, 3)\n",
      "(149995, 3)\n"
     ]
    }
   ],
   "source": [
    "# 결측치 삭제\n",
    "print(df.shape)\n",
    "df.dropna(how='any', inplace=True)\n",
    "print(df.shape)"
   ],
   "metadata": {
    "collapsed": false,
    "ExecuteTime": {
     "end_time": "2023-07-17T07:55:32.710799Z",
     "start_time": "2023-07-17T07:55:32.680005Z"
    }
   }
  },
  {
   "cell_type": "code",
   "execution_count": 121,
   "outputs": [
    {
     "data": {
      "text/plain": "         id                                           document  label  len\n0   9976970                                아 더빙.. 진짜 짜증나네요 목소리      0   19\n1   3819312                  흠...포스터보고 초딩영화줄....오버연기조차 가볍지 않구나      1   33\n2  10265843                                  너무재밓었다그래서보는것을추천한다      0   17\n3   9045019                      교도소 이야기구먼 ..솔직히 재미는 없다..평점 조정      0   29\n4   6483659  사이몬페그의 익살스런 연기가 돋보였던 영화!스파이더맨에서 늙어보이기만 했던 커스틴 ...      1   61",
      "text/html": "<div>\n<style scoped>\n    .dataframe tbody tr th:only-of-type {\n        vertical-align: middle;\n    }\n\n    .dataframe tbody tr th {\n        vertical-align: top;\n    }\n\n    .dataframe thead th {\n        text-align: right;\n    }\n</style>\n<table border=\"1\" class=\"dataframe\">\n  <thead>\n    <tr style=\"text-align: right;\">\n      <th></th>\n      <th>id</th>\n      <th>document</th>\n      <th>label</th>\n      <th>len</th>\n    </tr>\n  </thead>\n  <tbody>\n    <tr>\n      <th>0</th>\n      <td>9976970</td>\n      <td>아 더빙.. 진짜 짜증나네요 목소리</td>\n      <td>0</td>\n      <td>19</td>\n    </tr>\n    <tr>\n      <th>1</th>\n      <td>3819312</td>\n      <td>흠...포스터보고 초딩영화줄....오버연기조차 가볍지 않구나</td>\n      <td>1</td>\n      <td>33</td>\n    </tr>\n    <tr>\n      <th>2</th>\n      <td>10265843</td>\n      <td>너무재밓었다그래서보는것을추천한다</td>\n      <td>0</td>\n      <td>17</td>\n    </tr>\n    <tr>\n      <th>3</th>\n      <td>9045019</td>\n      <td>교도소 이야기구먼 ..솔직히 재미는 없다..평점 조정</td>\n      <td>0</td>\n      <td>29</td>\n    </tr>\n    <tr>\n      <th>4</th>\n      <td>6483659</td>\n      <td>사이몬페그의 익살스런 연기가 돋보였던 영화!스파이더맨에서 늙어보이기만 했던 커스틴 ...</td>\n      <td>1</td>\n      <td>61</td>\n    </tr>\n  </tbody>\n</table>\n</div>"
     },
     "execution_count": 121,
     "metadata": {},
     "output_type": "execute_result"
    }
   ],
   "source": [
    "#피처 엔지니어링(문장의 길이)\n",
    "df['len'] = df['document'].apply(len)\n",
    "df.head()"
   ],
   "metadata": {
    "collapsed": false,
    "ExecuteTime": {
     "end_time": "2023-07-17T07:55:57.402989Z",
     "start_time": "2023-07-17T07:55:57.397067Z"
    }
   }
  },
  {
   "cell_type": "code",
   "execution_count": 122,
   "outputs": [
    {
     "data": {
      "text/plain": "<Axes: ylabel='Frequency'>"
     },
     "execution_count": 122,
     "metadata": {},
     "output_type": "execute_result"
    },
    {
     "data": {
      "text/plain": "<Figure size 640x480 with 1 Axes>",
      "image/png": "[encoded data removed]"
     },
     "metadata": {},
     "output_type": "display_data"
    }
   ],
   "source": [
    "# len 시각화(label==0)\n",
    "import matplotlib.pyplot as plt\n",
    "df[df['label']==0]['len'].plot(kind='hist')"
   ],
   "metadata": {
    "collapsed": false,
    "ExecuteTime": {
     "end_time": "2023-07-17T07:57:31.205224Z",
     "start_time": "2023-07-17T07:57:30.426Z"
    }
   }
  },
  {
   "cell_type": "code",
   "execution_count": 123,
   "outputs": [
    {
     "data": {
      "text/plain": "<Axes: ylabel='Frequency'>"
     },
     "execution_count": 123,
     "metadata": {},
     "output_type": "execute_result"
    },
    {
     "data": {
      "text/plain": "<Figure size 640x480 with 1 Axes>",
      "image/png": "[encoded data removed]"
     },
     "metadata": {},
     "output_type": "display_data"
    }
   ],
   "source": [
    "# len 시각화(label==1)\n",
    "df[df['label']==1]['len'].plot(kind='hist')"
   ],
   "metadata": {
    "collapsed": false,
    "ExecuteTime": {
     "end_time": "2023-07-17T07:57:53.766260Z",
     "start_time": "2023-07-17T07:57:53.546017Z"
    }
   }
  },
  {
   "cell_type": "code",
   "execution_count": 124,
   "outputs": [
    {
     "data": {
      "text/plain": "(1000, 4)"
     },
     "execution_count": 124,
     "metadata": {},
     "output_type": "execute_result"
    }
   ],
   "source": [
    "# 데이터 샘플링 df[:1000]\n",
    "df = df[:1000]\n",
    "df.shape"
   ],
   "metadata": {
    "collapsed": false,
    "ExecuteTime": {
     "end_time": "2023-07-17T07:58:35.227565Z",
     "start_time": "2023-07-17T07:58:35.209405Z"
    }
   }
  },
  {
   "cell_type": "code",
   "execution_count": 125,
   "outputs": [],
   "source": [
    "# 토근화\n",
    "vect = CountVectorizer(tokenizer=tokenizer.morphs)\n",
    "vectors = vect.fit_transform(df['document'])"
   ],
   "metadata": {
    "collapsed": false,
    "ExecuteTime": {
     "end_time": "2023-07-17T07:59:49.702521Z",
     "start_time": "2023-07-17T07:59:46.906760Z"
    }
   }
  },
  {
   "cell_type": "code",
   "execution_count": 126,
   "outputs": [],
   "source": [
    "# 머신러닝 -> 교차검증(f1)\n",
    "from sklearn.model_selection import cross_val_score\n",
    "from sklearn.ensemble import RandomForestClassifier\n"
   ],
   "metadata": {
    "collapsed": false,
    "ExecuteTime": {
     "end_time": "2023-07-17T08:00:34.248720Z",
     "start_time": "2023-07-17T08:00:34.070233Z"
    }
   }
  },
  {
   "cell_type": "code",
   "execution_count": 127,
   "outputs": [
    {
     "data": {
      "text/plain": "0.6669623686333664"
     },
     "execution_count": 127,
     "metadata": {},
     "output_type": "execute_result"
    }
   ],
   "source": [
    "model = RandomForestClassifier(random_state=2002)\n",
    "cross_val_score(model, vectors, df['label'], cv=5, scoring='f1').mean()"
   ],
   "metadata": {
    "collapsed": false,
    "ExecuteTime": {
     "end_time": "2023-07-17T08:01:42.164695Z",
     "start_time": "2023-07-17T08:01:39.348396Z"
    }
   }
  },
  {
   "cell_type": "markdown",
   "source": [
    "3. 자연어 전처리\n",
    "\n",
    "-어휘사전 구축\n",
    "\n",
    "  -> 00% 이상 나타나는 단어 무시 (ex. 50% or 70%)\n",
    "\n",
    "  -> 최소 N개의 문장에만 나타나는 단어만 유지(ex. 2 or 3)\n",
    "\n",
    "- 불용어(stopwords) 제거\n",
    "\n",
    "  -> 불용어: 문장의 의미를 분석하는 데 있어 큰 도움이 되지 않는 단어\n",
    "\n",
    "  -> ex. 조사, 접미사, 접속사, 대명사 등\n",
    "\n",
    "  -> 을, 는, 이, 가, 여기, 저기\n",
    "\n",
    "- 띄어쓰기\n",
    "\n",
    "- 반복되는 글자 정리 (ex . ㅋㅋㅋ)\n",
    "\n",
    "- 맞춤법 검사\n"
   ],
   "metadata": {
    "collapsed": false
   }
  },
  {
   "cell_type": "code",
   "execution_count": 129,
   "outputs": [
    {
     "data": {
      "text/plain": "0.6515209357468857"
     },
     "execution_count": 129,
     "metadata": {},
     "output_type": "execute_result"
    }
   ],
   "source": [
    "#자연어 전처리\n",
    "#어휘 사전 구축\n",
    "\n",
    "\n",
    "# 토큰화(max_df) N개보다 큰 단어수 무시 (10개)\n",
    "vect = CountVectorizer(tokenizer=tokenizer.morphs, max_df=10)\n",
    "vectors = vect.fit_transform(df['document'])\n",
    "model = RandomForestClassifier(random_state=2002)\n",
    "cross_val_score(model, vectors, df['label'], cv=5, scoring='f1').mean()"
   ],
   "metadata": {
    "collapsed": false,
    "ExecuteTime": {
     "end_time": "2023-07-17T08:24:51.740812Z",
     "start_time": "2023-07-17T08:24:46.201041Z"
    }
   }
  },
  {
   "cell_type": "code",
   "execution_count": 131,
   "outputs": [
    {
     "data": {
      "text/plain": "0.6813583059174431"
     },
     "execution_count": 131,
     "metadata": {},
     "output_type": "execute_result"
    }
   ],
   "source": [
    "# 토큰화(min_df) N개보다 작은 단어수 무시 (2개)\n",
    "vect = CountVectorizer(tokenizer=tokenizer.morphs, min_df=2)\n",
    "vectors = vect.fit_transform(df['document'])\n",
    "model = RandomForestClassifier(random_state=2002)\n",
    "cross_val_score(model, vectors, df['label'], cv=5, scoring='f1').mean()\n"
   ],
   "metadata": {
    "collapsed": false,
    "ExecuteTime": {
     "end_time": "2023-07-17T08:25:19.014629Z",
     "start_time": "2023-07-17T08:25:15.860453Z"
    }
   }
  },
  {
   "cell_type": "code",
   "execution_count": 132,
   "outputs": [
    {
     "data": {
      "text/plain": "{'함께': 5, '탐방': 3, '성장하는': 2, 'ai': 0, '학교': 4, 'aiffel': 1}"
     },
     "execution_count": 132,
     "metadata": {},
     "output_type": "execute_result"
    }
   ],
   "source": [
    "# 불용어\n",
    "# stopwords\n",
    "text = '함께 탐방하며 성장하는 AI 학교 AIFFEL'\n",
    "stop_words = ['하며', 'AI']\n",
    "vect = CountVectorizer(stop_words=stop_words)\n",
    "words = tokenizer.morphs(text)\n",
    "vect.fit(words)\n",
    "vect.vocabulary_\n"
   ],
   "metadata": {
    "collapsed": false,
    "ExecuteTime": {
     "end_time": "2023-07-17T08:27:38.881855Z",
     "start_time": "2023-07-17T08:27:38.849141Z"
    }
   }
  },
  {
   "cell_type": "code",
   "execution_count": 135,
   "outputs": [
    {
     "name": "stdout",
     "output_type": "stream",
     "text": [
      "Collecting tensorflow\r\n",
      "  Downloading tensorflow-2.13.0-cp310-cp310-macosx_10_15_x86_64.whl (216.2 MB)\r\n",
      "\u001B[2K     \u001B[90m━━━━━━━━━━━━━━━━━━━━━━━━━━━━━━━━━━━━━━\u001B[0m \u001B[32m216.2/216.2 MB\u001B[0m \u001B[31m10.6 MB/s\u001B[0m eta \u001B[36m0:00:00\u001B[0m00:01\u001B[0m00:01\u001B[0m\r\n",
      "\u001B[?25hCollecting keras<2.14,>=2.13.1\r\n",
      "  Downloading keras-2.13.1-py3-none-any.whl (1.7 MB)\r\n",
      "\u001B[2K     \u001B[90m━━━━━━━━━━━━━━━━━━━━━━━━━━━━━━━━━━━━━━━━\u001B[0m \u001B[32m1.7/1.7 MB\u001B[0m \u001B[31m29.3 MB/s\u001B[0m eta \u001B[36m0:00:00\u001B[0m00:01\u001B[0m\r\n",
      "\u001B[?25hCollecting grpcio<2.0,>=1.24.3\r\n",
      "  Downloading grpcio-1.56.0.tar.gz (24.3 MB)\r\n",
      "\u001B[2K     \u001B[90m━━━━━━━━━━━━━━━━━━━━━━━━━━━━━━━━━━━━━━━━\u001B[0m \u001B[32m24.3/24.3 MB\u001B[0m \u001B[31m20.8 MB/s\u001B[0m eta \u001B[36m0:00:00\u001B[0m00:01\u001B[0m00:01\u001B[0m\r\n",
      "\u001B[?25h  Preparing metadata (setup.py) ... \u001B[?25ldone\r\n",
      "\u001B[?25hRequirement already satisfied: packaging in /Users/ralphpark/anaconda3/lib/python3.10/site-packages (from tensorflow) (22.0)\r\n",
      "Collecting libclang>=13.0.0\r\n",
      "  Downloading libclang-16.0.6-py2.py3-none-macosx_10_9_x86_64.whl (24.5 MB)\r\n",
      "\u001B[2K     \u001B[90m━━━━━━━━━━━━━━━━━━━━━━━━━━━━━━━━━━━━━━━━\u001B[0m \u001B[32m24.5/24.5 MB\u001B[0m \u001B[31m30.7 MB/s\u001B[0m eta \u001B[36m0:00:00\u001B[0m00:01\u001B[0m00:01\u001B[0m\r\n",
      "\u001B[?25hCollecting typing-extensions<4.6.0,>=3.6.6\r\n",
      "  Downloading typing_extensions-4.5.0-py3-none-any.whl (27 kB)\r\n",
      "Requirement already satisfied: wrapt>=1.11.0 in /Users/ralphpark/anaconda3/lib/python3.10/site-packages (from tensorflow) (1.14.1)\r\n",
      "Collecting tensorflow-estimator<2.14,>=2.13.0\r\n",
      "  Downloading tensorflow_estimator-2.13.0-py2.py3-none-any.whl (440 kB)\r\n",
      "\u001B[2K     \u001B[90m━━━━━━━━━━━━━━━━━━━━━━━━━━━━━━━━━━━━━━\u001B[0m \u001B[32m440.8/440.8 kB\u001B[0m \u001B[31m17.2 MB/s\u001B[0m eta \u001B[36m0:00:00\u001B[0m\r\n",
      "\u001B[?25hCollecting tensorboard<2.14,>=2.13\r\n",
      "  Downloading tensorboard-2.13.0-py3-none-any.whl (5.6 MB)\r\n",
      "\u001B[2K     \u001B[90m━━━━━━━━━━━━━━━━━━━━━━━━━━━━━━━━━━━━━━━━\u001B[0m \u001B[32m5.6/5.6 MB\u001B[0m \u001B[31m16.9 MB/s\u001B[0m eta \u001B[36m0:00:00\u001B[0m00:01\u001B[0m00:01\u001B[0m\r\n",
      "\u001B[?25hRequirement already satisfied: numpy<=1.24.3,>=1.22 in /Users/ralphpark/anaconda3/lib/python3.10/site-packages (from tensorflow) (1.23.5)\r\n",
      "Collecting opt-einsum>=2.3.2\r\n",
      "  Downloading opt_einsum-3.3.0-py3-none-any.whl (65 kB)\r\n",
      "\u001B[2K     \u001B[90m━━━━━━━━━━━━━━━━━━━━━━━━━━━━━━━━━━━━━━━━\u001B[0m \u001B[32m65.5/65.5 kB\u001B[0m \u001B[31m2.0 MB/s\u001B[0m eta \u001B[36m0:00:00\u001B[0m\r\n",
      "\u001B[?25hCollecting tensorflow-io-gcs-filesystem>=0.23.1\r\n",
      "  Downloading tensorflow_io_gcs_filesystem-0.32.0-cp310-cp310-macosx_10_14_x86_64.whl (1.7 MB)\r\n",
      "\u001B[2K     \u001B[90m━━━━━━━━━━━━━━━━━━━━━━━━━━━━━━━━━━━━━━━━\u001B[0m \u001B[32m1.7/1.7 MB\u001B[0m \u001B[31m20.3 MB/s\u001B[0m eta \u001B[36m0:00:00\u001B[0m00:01\u001B[0m00:01\u001B[0m\r\n",
      "\u001B[?25hCollecting termcolor>=1.1.0\r\n",
      "  Downloading termcolor-2.3.0-py3-none-any.whl (6.9 kB)\r\n",
      "Collecting flatbuffers>=23.1.21\r\n",
      "  Downloading flatbuffers-23.5.26-py2.py3-none-any.whl (26 kB)\r\n",
      "Collecting google-pasta>=0.1.1\r\n",
      "  Downloading google_pasta-0.2.0-py3-none-any.whl (57 kB)\r\n",
      "\u001B[2K     \u001B[90m━━━━━━━━━━━━━━━━━━━━━━━━━━━━━━━━━━━━━━━━\u001B[0m \u001B[32m57.5/57.5 kB\u001B[0m \u001B[31m2.4 MB/s\u001B[0m eta \u001B[36m0:00:00\u001B[0m\r\n",
      "\u001B[?25hRequirement already satisfied: setuptools in /Users/ralphpark/anaconda3/lib/python3.10/site-packages (from tensorflow) (65.6.3)\r\n",
      "Collecting astunparse>=1.6.0\r\n",
      "  Downloading astunparse-1.6.3-py2.py3-none-any.whl (12 kB)\r\n",
      "Collecting gast<=0.4.0,>=0.2.1\r\n",
      "  Downloading gast-0.4.0-py3-none-any.whl (9.8 kB)\r\n",
      "Requirement already satisfied: h5py>=2.9.0 in /Users/ralphpark/anaconda3/lib/python3.10/site-packages (from tensorflow) (3.7.0)\r\n",
      "Requirement already satisfied: six>=1.12.0 in /Users/ralphpark/anaconda3/lib/python3.10/site-packages (from tensorflow) (1.16.0)\r\n",
      "Collecting absl-py>=1.0.0\r\n",
      "  Downloading absl_py-1.4.0-py3-none-any.whl (126 kB)\r\n",
      "\u001B[2K     \u001B[90m━━━━━━━━━━━━━━━━━━━━━━━━━━━━━━━━━━━━━━━\u001B[0m \u001B[32m126.5/126.5 kB\u001B[0m \u001B[31m5.1 MB/s\u001B[0m eta \u001B[36m0:00:00\u001B[0m\r\n",
      "\u001B[?25hRequirement already satisfied: protobuf!=4.21.0,!=4.21.1,!=4.21.2,!=4.21.3,!=4.21.4,!=4.21.5,<5.0.0dev,>=3.20.3 in /Users/ralphpark/anaconda3/lib/python3.10/site-packages (from tensorflow) (4.23.4)\r\n",
      "Requirement already satisfied: wheel<1.0,>=0.23.0 in /Users/ralphpark/anaconda3/lib/python3.10/site-packages (from astunparse>=1.6.0->tensorflow) (0.38.4)\r\n",
      "Collecting tensorboard-data-server<0.8.0,>=0.7.0\r\n",
      "  Downloading tensorboard_data_server-0.7.1-py3-none-macosx_10_9_x86_64.whl (4.8 MB)\r\n",
      "\u001B[2K     \u001B[90m━━━━━━━━━━━━━━━━━━━━━━━━━━━━━━━━━━━━━━━━\u001B[0m \u001B[32m4.8/4.8 MB\u001B[0m \u001B[31m10.3 MB/s\u001B[0m eta \u001B[36m0:00:00\u001B[0ma \u001B[36m0:00:01\u001B[0m\r\n",
      "\u001B[?25hRequirement already satisfied: werkzeug>=1.0.1 in /Users/ralphpark/anaconda3/lib/python3.10/site-packages (from tensorboard<2.14,>=2.13->tensorflow) (2.2.2)\r\n",
      "Collecting google-auth-oauthlib<1.1,>=0.5\r\n",
      "  Downloading google_auth_oauthlib-1.0.0-py2.py3-none-any.whl (18 kB)\r\n",
      "Requirement already satisfied: google-auth<3,>=1.6.3 in /Users/ralphpark/anaconda3/lib/python3.10/site-packages (from tensorboard<2.14,>=2.13->tensorflow) (2.22.0)\r\n",
      "Requirement already satisfied: markdown>=2.6.8 in /Users/ralphpark/anaconda3/lib/python3.10/site-packages (from tensorboard<2.14,>=2.13->tensorflow) (3.3.7)\r\n",
      "Requirement already satisfied: requests<3,>=2.21.0 in /Users/ralphpark/anaconda3/lib/python3.10/site-packages (from tensorboard<2.14,>=2.13->tensorflow) (2.31.0)\r\n",
      "Requirement already satisfied: pyasn1-modules>=0.2.1 in /Users/ralphpark/anaconda3/lib/python3.10/site-packages (from google-auth<3,>=1.6.3->tensorboard<2.14,>=2.13->tensorflow) (0.2.8)\r\n",
      "Requirement already satisfied: urllib3<2.0 in /Users/ralphpark/anaconda3/lib/python3.10/site-packages (from google-auth<3,>=1.6.3->tensorboard<2.14,>=2.13->tensorflow) (1.26.14)\r\n",
      "Requirement already satisfied: rsa<5,>=3.1.4 in /Users/ralphpark/anaconda3/lib/python3.10/site-packages (from google-auth<3,>=1.6.3->tensorboard<2.14,>=2.13->tensorflow) (4.9)\r\n",
      "Requirement already satisfied: cachetools<6.0,>=2.0.0 in /Users/ralphpark/anaconda3/lib/python3.10/site-packages (from google-auth<3,>=1.6.3->tensorboard<2.14,>=2.13->tensorflow) (5.3.1)\r\n",
      "Collecting requests-oauthlib>=0.7.0\r\n",
      "  Downloading requests_oauthlib-1.3.1-py2.py3-none-any.whl (23 kB)\r\n",
      "Requirement already satisfied: charset-normalizer<4,>=2 in /Users/ralphpark/anaconda3/lib/python3.10/site-packages (from requests<3,>=2.21.0->tensorboard<2.14,>=2.13->tensorflow) (3.2.0)\r\n",
      "Requirement already satisfied: certifi>=2017.4.17 in /Users/ralphpark/anaconda3/lib/python3.10/site-packages (from requests<3,>=2.21.0->tensorboard<2.14,>=2.13->tensorflow) (2022.12.7)\r\n",
      "Requirement already satisfied: idna<4,>=2.5 in /Users/ralphpark/anaconda3/lib/python3.10/site-packages (from requests<3,>=2.21.0->tensorboard<2.14,>=2.13->tensorflow) (3.4)\r\n",
      "Requirement already satisfied: MarkupSafe>=2.1.1 in /Users/ralphpark/anaconda3/lib/python3.10/site-packages (from werkzeug>=1.0.1->tensorboard<2.14,>=2.13->tensorflow) (2.1.1)\r\n",
      "Requirement already satisfied: pyasn1<0.5.0,>=0.4.6 in /Users/ralphpark/anaconda3/lib/python3.10/site-packages (from pyasn1-modules>=0.2.1->google-auth<3,>=1.6.3->tensorboard<2.14,>=2.13->tensorflow) (0.4.8)\r\n",
      "Collecting oauthlib>=3.0.0\r\n",
      "  Downloading oauthlib-3.2.2-py3-none-any.whl (151 kB)\r\n",
      "\u001B[2K     \u001B[90m━━━━━━━━━━━━━━━━━━━━━━━━━━━━━━━━━━━━━━━\u001B[0m \u001B[32m151.7/151.7 kB\u001B[0m \u001B[31m6.5 MB/s\u001B[0m eta \u001B[36m0:00:00\u001B[0m\r\n",
      "\u001B[?25hBuilding wheels for collected packages: grpcio\r\n",
      "  Building wheel for grpcio (setup.py) ... \u001B[?25ldone\r\n",
      "\u001B[?25h  Created wheel for grpcio: filename=grpcio-1.56.0-cp310-cp310-macosx_10_10_x86_64.whl size=4178703 sha256=5013d4fd1ca8cd8f66c5eff0bb89550150597491b498b0df41c9dd2b85a9b4b3\r\n",
      "  Stored in directory: /Users/ralphpark/Library/Caches/pip/wheels/37/93/8d/ca4c0170149f22c7fe7367292efa76cc5c056cdeec8a4cb347\r\n",
      "Successfully built grpcio\r\n",
      "Installing collected packages: libclang, flatbuffers, typing-extensions, termcolor, tensorflow-io-gcs-filesystem, tensorflow-estimator, tensorboard-data-server, opt-einsum, oauthlib, keras, grpcio, google-pasta, gast, astunparse, absl-py, requests-oauthlib, google-auth-oauthlib, tensorboard, tensorflow\r\n",
      "  Attempting uninstall: typing-extensions\r\n",
      "    Found existing installation: typing_extensions 4.7.1\r\n",
      "    Uninstalling typing_extensions-4.7.1:\r\n",
      "      Successfully uninstalled typing_extensions-4.7.1\r\n",
      "Successfully installed absl-py-1.4.0 astunparse-1.6.3 flatbuffers-23.5.26 gast-0.4.0 google-auth-oauthlib-1.0.0 google-pasta-0.2.0 grpcio-1.56.0 keras-2.13.1 libclang-16.0.6 oauthlib-3.2.2 opt-einsum-3.3.0 requests-oauthlib-1.3.1 tensorboard-2.13.0 tensorboard-data-server-0.7.1 tensorflow-2.13.0 tensorflow-estimator-2.13.0 tensorflow-io-gcs-filesystem-0.32.0 termcolor-2.3.0 typing-extensions-4.5.0\r\n"
     ]
    }
   ],
   "source": [
    "# 텐서 플로우 설치\n",
    "!pip install tensorflow"
   ],
   "metadata": {
    "collapsed": false,
    "ExecuteTime": {
     "end_time": "2023-07-17T08:36:32.990665Z",
     "start_time": "2023-07-17T08:32:49.107682Z"
    }
   }
  },
  {
   "cell_type": "code",
   "execution_count": 133,
   "outputs": [
    {
     "name": "stdout",
     "output_type": "stream",
     "text": [
      "Collecting git+https://github.com/haven-jeon/PyKoSpacing.git\r\n",
      "  Cloning https://github.com/haven-jeon/PyKoSpacing.git to /private/var/folders/jd/qspsq8mn2db0y77ryp1w10_c0000gp/T/pip-req-build-p08wvccr\r\n",
      "  Running command git clone --filter=blob:none --quiet https://github.com/haven-jeon/PyKoSpacing.git /private/var/folders/jd/qspsq8mn2db0y77ryp1w10_c0000gp/T/pip-req-build-p08wvccr\r\n",
      "  Resolved https://github.com/haven-jeon/PyKoSpacing.git to commit 5bb0b3e8f62c1936a430745297821a9ecd78beb1\r\n",
      "  Preparing metadata (setup.py) ... \u001B[?25ldone\r\n",
      "\u001B[?25hBuilding wheels for collected packages: pykospacing\r\n",
      "  Building wheel for pykospacing (setup.py) ... \u001B[?25ldone\r\n",
      "\u001B[?25h  Created wheel for pykospacing: filename=pykospacing-0.5-py3-none-any.whl size=2268656 sha256=f4864fdab8d7bead66ad39d72654addbde5b728593ec34a83976bea38d280d4d\r\n",
      "  Stored in directory: /private/var/folders/jd/qspsq8mn2db0y77ryp1w10_c0000gp/T/pip-ephem-wheel-cache-nb4ok6us/wheels/76/b3/33/dda14886ee76b8e53eb05580a14dfcf9145e9eb9d282c53f28\r\n",
      "Successfully built pykospacing\r\n",
      "Installing collected packages: pykospacing\r\n",
      "Successfully installed pykospacing-0.5\r\n"
     ]
    }
   ],
   "source": [
    "# 띄어쓰기\n",
    "# spacing 설치\n",
    "!pip install git+https://github.com/haven-jeon/PyKoSpacing.git\n"
   ],
   "metadata": {
    "collapsed": false,
    "ExecuteTime": {
     "end_time": "2023-07-17T08:29:41.064090Z",
     "start_time": "2023-07-17T08:29:33.579590Z"
    }
   }
  },
  {
   "cell_type": "code",
   "execution_count": 136,
   "outputs": [
    {
     "data": {
      "text/plain": "'함께 탐험하며 성장하는 AI 학교 AIFFEL'"
     },
     "execution_count": 136,
     "metadata": {},
     "output_type": "execute_result"
    }
   ],
   "source": [
    "# 띄어쓰기\n",
    "\n",
    "from pykospacing import Spacing\n",
    "spacing = Spacing()\n",
    "text = '함께탐험하며성장하는AI학교AIFFEL'\n",
    "spacing(text)\n"
   ],
   "metadata": {
    "collapsed": false,
    "ExecuteTime": {
     "end_time": "2023-07-17T08:37:09.727639Z",
     "start_time": "2023-07-17T08:36:40.839283Z"
    }
   }
  },
  {
   "cell_type": "markdown",
   "source": [
    "반복되는 글자 정리\n",
    "\n",
    "더 자세히 : https://github.com/lovit/soynlp"
   ],
   "metadata": {
    "collapsed": false
   }
  },
  {
   "cell_type": "code",
   "execution_count": 137,
   "outputs": [
    {
     "name": "stdout",
     "output_type": "stream",
     "text": [
      "Collecting soynlp\r\n",
      "  Downloading soynlp-0.0.493-py3-none-any.whl (416 kB)\r\n",
      "\u001B[2K     \u001B[90m━━━━━━━━━━━━━━━━━━━━━━━━━━━━━━━━━━━━━━━\u001B[0m \u001B[32m416.8/416.8 kB\u001B[0m \u001B[31m9.5 MB/s\u001B[0m eta \u001B[36m0:00:00\u001B[0m00:01\u001B[0m\r\n",
      "\u001B[?25hRequirement already satisfied: scipy>=1.1.0 in /Users/ralphpark/anaconda3/lib/python3.10/site-packages (from soynlp) (1.10.0)\r\n",
      "Requirement already satisfied: numpy>=1.12.1 in /Users/ralphpark/anaconda3/lib/python3.10/site-packages (from soynlp) (1.23.5)\r\n",
      "Requirement already satisfied: scikit-learn>=0.20.0 in /Users/ralphpark/anaconda3/lib/python3.10/site-packages (from soynlp) (1.2.1)\r\n",
      "Requirement already satisfied: psutil>=5.0.1 in /Users/ralphpark/anaconda3/lib/python3.10/site-packages (from soynlp) (5.9.0)\r\n",
      "Requirement already satisfied: threadpoolctl>=2.0.0 in /Users/ralphpark/anaconda3/lib/python3.10/site-packages (from scikit-learn>=0.20.0->soynlp) (2.2.0)\r\n",
      "Requirement already satisfied: joblib>=1.1.1 in /Users/ralphpark/anaconda3/lib/python3.10/site-packages (from scikit-learn>=0.20.0->soynlp) (1.1.1)\r\n",
      "Installing collected packages: soynlp\r\n",
      "Successfully installed soynlp-0.0.493\r\n"
     ]
    }
   ],
   "source": [
    "# soynlp 설치\n",
    "!pip install soynlp"
   ],
   "metadata": {
    "collapsed": false,
    "ExecuteTime": {
     "end_time": "2023-07-17T08:41:12.266249Z",
     "start_time": "2023-07-17T08:41:07.461334Z"
    }
   }
  },
  {
   "cell_type": "code",
   "execution_count": 140,
   "outputs": [
    {
     "data": {
      "text/plain": "'하하하ㅋㅋㅋ호호호'"
     },
     "execution_count": 140,
     "metadata": {},
     "output_type": "execute_result"
    }
   ],
   "source": [
    "# 댓글 데이터에 등장하는 반복되는 이모티콘의 정리\n",
    "from soynlp.normalizer import *\n",
    "emoticon_normalize('하하하하ㅋㅋㅋㅋㅋㅋㅋㅋㅋㅋ호호호호호호호호호호', num_repeats=3)"
   ],
   "metadata": {
    "collapsed": false,
    "ExecuteTime": {
     "end_time": "2023-07-17T08:49:34.695197Z",
     "start_time": "2023-07-17T08:49:34.690717Z"
    }
   }
  },
  {
   "cell_type": "markdown",
   "source": [
    "맞춤법 검사\n",
    "\n",
    "- 더 자세히 : https://github.com/ssut/py-hanspell"
   ],
   "metadata": {
    "collapsed": false
   }
  },
  {
   "cell_type": "code",
   "execution_count": 141,
   "outputs": [
    {
     "name": "stdout",
     "output_type": "stream",
     "text": [
      "Collecting git+https://github.com/ssut/py-hanspell.git\r\n",
      "  Cloning https://github.com/ssut/py-hanspell.git to /private/var/folders/jd/qspsq8mn2db0y77ryp1w10_c0000gp/T/pip-req-build-exksazdo\r\n",
      "  Running command git clone --filter=blob:none --quiet https://github.com/ssut/py-hanspell.git /private/var/folders/jd/qspsq8mn2db0y77ryp1w10_c0000gp/T/pip-req-build-exksazdo\r\n",
      "  Resolved https://github.com/ssut/py-hanspell.git to commit fdc6ca50c19f1c85971437a072d89d4e5ce024b8\r\n",
      "  Preparing metadata (setup.py) ... \u001B[?25ldone\r\n",
      "\u001B[?25hRequirement already satisfied: requests in /Users/ralphpark/anaconda3/lib/python3.10/site-packages (from py-hanspell==1.1) (2.31.0)\r\n",
      "Requirement already satisfied: urllib3<3,>=1.21.1 in /Users/ralphpark/anaconda3/lib/python3.10/site-packages (from requests->py-hanspell==1.1) (1.26.14)\r\n",
      "Requirement already satisfied: charset-normalizer<4,>=2 in /Users/ralphpark/anaconda3/lib/python3.10/site-packages (from requests->py-hanspell==1.1) (3.2.0)\r\n",
      "Requirement already satisfied: certifi>=2017.4.17 in /Users/ralphpark/anaconda3/lib/python3.10/site-packages (from requests->py-hanspell==1.1) (2022.12.7)\r\n",
      "Requirement already satisfied: idna<4,>=2.5 in /Users/ralphpark/anaconda3/lib/python3.10/site-packages (from requests->py-hanspell==1.1) (3.4)\r\n",
      "Building wheels for collected packages: py-hanspell\r\n",
      "  Building wheel for py-hanspell (setup.py) ... \u001B[?25ldone\r\n",
      "\u001B[?25h  Created wheel for py-hanspell: filename=py_hanspell-1.1-py3-none-any.whl size=4809 sha256=05be951755e8c1659ffe915c17570c9d871f1fe28f74e05bc38696467dcdae23\r\n",
      "  Stored in directory: /private/var/folders/jd/qspsq8mn2db0y77ryp1w10_c0000gp/T/pip-ephem-wheel-cache-1w65ys2a/wheels/2e/43/cc/753c9e1d91affb9ea40e186cea5654fb9231deb454da6724e5\r\n",
      "Successfully built py-hanspell\r\n",
      "Installing collected packages: py-hanspell\r\n",
      "Successfully installed py-hanspell-1.1\r\n"
     ]
    }
   ],
   "source": [
    "# hanspell 설치\n",
    "!pip install git+https://github.com/ssut/py-hanspell.git"
   ],
   "metadata": {
    "collapsed": false,
    "ExecuteTime": {
     "end_time": "2023-07-17T08:51:18.198666Z",
     "start_time": "2023-07-17T08:51:11.509856Z"
    }
   }
  },
  {
   "cell_type": "code",
   "execution_count": 142,
   "outputs": [],
   "source": [
    "# 맞춤법 검사\n",
    "from hanspell import spell_checker\n",
    "text = '맞춤법 틀리면외 않되?'"
   ],
   "metadata": {
    "collapsed": false,
    "ExecuteTime": {
     "end_time": "2023-07-17T08:51:36.481645Z",
     "start_time": "2023-07-17T08:51:36.462383Z"
    }
   }
  },
  {
   "cell_type": "code",
   "execution_count": 146,
   "outputs": [],
   "source": [
    "# 수정된 문장\n",
    "result = spell_checker.check(text)"
   ],
   "metadata": {
    "collapsed": false,
    "ExecuteTime": {
     "end_time": "2023-07-17T08:52:38.640403Z",
     "start_time": "2023-07-17T08:52:38.606370Z"
    }
   }
  },
  {
   "cell_type": "code",
   "execution_count": 147,
   "outputs": [
    {
     "data": {
      "text/plain": "'맞춤법 틀리면 왜 안돼?'"
     },
     "execution_count": 147,
     "metadata": {},
     "output_type": "execute_result"
    }
   ],
   "source": [
    "# 라이브러리에 없는 고유명사나 신조어는 다른 방법을 고려해야 한다.\n",
    "result.checked"
   ],
   "metadata": {
    "collapsed": false,
    "ExecuteTime": {
     "end_time": "2023-07-17T08:52:39.406718Z",
     "start_time": "2023-07-17T08:52:39.400900Z"
    }
   }
  },
  {
   "cell_type": "code",
   "execution_count": 157,
   "outputs": [
    {
     "name": "stdout",
     "output_type": "stream",
     "text": [
      "10개보다 큰 단어 수 무시하기 : 0.6300776326538058\n",
      "15개보다 큰 단어 수 무시하기 : 0.6397803806582216\n",
      "20개보다 큰 단어 수 무시하기 : 0.6817517114020853\n"
     ]
    }
   ],
   "source": [
    "#종합퀴즈\n",
    "# Q. 다음은 영화 리뷰 데이터를 전처리하고 머신러닝 모델을 돌리는 코드입니다.\n",
    "# 아래 코드를 수정하여 토큰화(max_df) 10,15,20개보다 큰 단어 수 무시하기를 각각 설정하고,\n",
    "# 바로 아래 코드 블럭의 모델을 돌려 결과 값을 비교해보세요.\n",
    "\n",
    "import pandas as pd\n",
    "from sklearn.feature_extraction.text import CountVectorizer\n",
    "import konlpy\n",
    "from konlpy.tag import Okt\n",
    "\n",
    "# 데이터 로드\n",
    "df = pd.read_csv(\"https://raw.githubusercontent.com/e9t/nsmc/master/ratings_train.txt\", sep=\"\\t\")\n",
    "# 결측치 삭제\n",
    "df = df.dropna()\n",
    "# 피처 엔지니어링 (문장의 길이)\n",
    "df['len'] = df['document'].apply(len)\n",
    "# 데이터 샘플링\n",
    "df = df[:1000]\n",
    "# 토큰화\n",
    "tokenizer = Okt()\n",
    "# 머신러닝 모델 작동 확인\n",
    "from sklearn.ensemble import RandomForestClassifier\n",
    "from sklearn.model_selection import cross_val_score\n",
    "# 토큰화(max_df) 10개보다 큰 단어 수 무시하기\n",
    "vect_10 = CountVectorizer(tokenizer=tokenizer.morphs, max_df=10)\n",
    "vectors_10 = vect_10.fit_transform(df['document'])\n",
    "# 토큰화(max_df) 15개보다 큰 단어 수 무시하기\n",
    "vect_15 = CountVectorizer(tokenizer=tokenizer.morphs, max_df=15)\n",
    "vectors_15 = vect_15.fit_transform(df['document'])\n",
    "# 토큰화(max_df) 20개보다 큰 단어 수 무시하기\n",
    "vect_20 = CountVectorizer(tokenizer=tokenizer.morphs, max_df=20)\n",
    "vectors_20 = vect_20.fit_transform(df['document'])\n",
    "# 모델 돌리기(10개)\n",
    "model = RandomForestClassifier(random_state=2022)\n",
    "cvs_10 = cross_val_score(model, vectors_10, df['label'], scoring='f1', cv=5).mean()\n",
    "# 모델 돌리기(15개)\n",
    "model = RandomForestClassifier(random_state=2022)\n",
    "cvs_15 = cross_val_score(model, vectors_15, df['label'], scoring='f1', cv=5).mean()\n",
    "# 모델 돌리기(20개)\n",
    "model = RandomForestClassifier(random_state=2022)\n",
    "cvs_20 = cross_val_score(model, vectors_20, df['label'], scoring='f1', cv=5).mean()\n",
    "\n",
    "# Q. 결과값을 비교해 보세요.\n",
    "print(f'10개보다 큰 단어 수 무시하기 : {cvs_10}\\n'\n",
    "      f'15개보다 큰 단어 수 무시하기 : {cvs_15}\\n'\n",
    "      f'20개보다 큰 단어 수 무시하기 : {cvs_20}')"
   ],
   "metadata": {
    "collapsed": false,
    "ExecuteTime": {
     "end_time": "2023-07-17T09:14:58.693186Z",
     "start_time": "2023-07-17T09:14:39.132077Z"
    }
   }
  },
  {
   "cell_type": "code",
   "execution_count": 152,
   "outputs": [],
   "source": [],
   "metadata": {
    "collapsed": false,
    "ExecuteTime": {
     "end_time": "2023-07-17T09:10:58.564077Z",
     "start_time": "2023-07-17T09:10:58.533757Z"
    }
   }
  },
  {
   "cell_type": "code",
   "execution_count": null,
   "outputs": [],
   "source": [],
   "metadata": {
    "collapsed": false
   }
  }
 ],
 "metadata": {
  "kernelspec": {
   "display_name": "Python 3",
   "language": "python",
   "name": "python3"
  },
  "language_info": {
   "codemirror_mode": {
    "name": "ipython",
    "version": 2
   },
   "file_extension": ".py",
   "mimetype": "text/x-python",
   "name": "python",
   "nbconvert_exporter": "python",
   "pygments_lexer": "ipython2",
   "version": "2.7.6"
  }
 },
 "nbformat": 4,
 "nbformat_minor": 0
}
