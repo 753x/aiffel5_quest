{
 "cells": [
  {
   "cell_type": "markdown",
   "source": [
    "#8. 자연어 처리\n",
    "\n",
    "1. 자연어 처리 기초\n",
    "![](./na_02.png)\n",
    "* 형태소 : 의미를 가지는 요소로서는 더 이상 분석할 수 없는 가장 작은 말의 단위\n",
    "\n",
    "문자를 숫자로 바꾸는 것이 자연어 처리의 기본이다.Word embeding, 간단히 말해서 텍스트를 숫자로 표현하는 것이다. 중요한 것은 같은 문자라고 하더라도 다른 수치로 표현할 수 있도 단어를 사전을 통해 매핑해서 벡터로 만드는 것이다. 예를 들면  Hi my name is NLP라는 문장이 있으면 [Hi,my,name,is,NLP]로 분류하고 OneHot Encoding을 통해 0또는 1로 나타낸다.\n",
    "\n",
    "어휘사전 구축 후 새로운 문장이 들어왔을때 사전에 있는것과 매칭한다. AI, 함께, 하며의 3단어만 1로 변경되고 나머지는 0이다.\n",
    "\n",
    "CountVectorizer : 각 문장에서 단어 출현 횟수를 카운팅하는 방법(BOW,Bag of Words)\n",
    "\n",
    "**CountVectorizer는 sklearn의 feature extraction에서 제공하는 클래스로, 텍스트 데이터를 단어 level로 벡터화하는 작업을 수행합니다. 주로 문서 분류, 텍스트 분석 등에 사용됩니다. 이 클래스는 단어들의 count를 세고, 이를 이용해 각 문서를 벡터 형태로 변환합니다. 이 클래스는 다음과 같은 기능을 제공합니다.\n",
    "단어 토큰화: 텍스트 데이터를 단어 단위로 자르는 작업을 수행합니다.\n",
    "단어 빈도수 계산: 각 문서에 있는 각 단어의 빈도를 계산하여 카운트합니다.\n",
    "인코딩: 단어들을 벡터 형태로 변환합니다.\n",
    "예를 들어, [\"I like NLP and I will study NLP\"]라는 문장이 있을 때, CountVectorizer는 이를 다음과 같은 형태의 벡터로 변환합니다. [I, like, NLP, and, will, study] -> [1, 1, 2, 1, 1, 1] 위와 같이 단어의 빈도수를 측정하여 벡터로 변환합니다. 이렇게 벡터화된 데이터는 머신러닝 알고리즘의 입력값으로 사용될 수 있습니다.\n",
    "\n",
    "**BOW(Bag of Words)는 문서 내의 단어들의 출현 빈도(frequency)를 수치화하여 벡터로 나타내는 방법입니다. 텍스트 처리의 기본적인 방법 중 하나로, 문서를 특정한 단위로 분할하여 단어의 출현 빈도를 계산합니다. 예를 들면, \"I love Korea! Korea is beautiful country!\" 라는 문장이 있다면, 문장 내 단어 \"I\", \"love\", \"Korea\", \"is\", \"beautiful\", \"country\" 등등과 같은 단어들을 뽑아내어 출현 빈도를 새로운 벡터로 표현합니다. 이렇게 만들어진 벡터는 각각의 단어들이 문서 내에서 얼마나 많이 출현하였는지를 나타내는 빈도수를 포함하며, 이를 바탕으로 문장이나 문서들 간 유사성을 계산할 수 있게 됩니다. BOW는 자연어 처리 분야에서 매우 중요한 전처리 기법 중 하나입니다.\n",
    "\n",
    "TfidfVectorizer : TF-IDF 방법으로 단어의 가중치를 조정하는 방법, 다른 문서보다 특정 문서에 자주 나타나는 단어에 높은 가중치를 주는 방법\n",
    "\n",
    "**TfidfVectorizer는 문서의 주요 내용을 추출하는 자연어 처리 기술 중 하나입니다. TfidfVectorizer는 토큰화, 정규화, 빈도수 측정 등의 과정을 통해 문서에 대한 feature vector를 만들기 때문에, 문서 분석, 분류, 정보 검색과 같은 분야에서 많이 활용됩니다. TfidfVectorizer에서 \"Tfidf\"란 Term Frequency-Inverse Document Frequency의 약자로, 각 단어의 빈도수와 전체 문서에서의 빈도수에 따른 가중치를 반영하는 값입니다. 즉, 각 단어의 빈도수가 높을수록 해당 단어는 중요한 단어라는 것을 나타내는 반면, 전체 문서에서의 빈도수가 많을수록 해당 단어는 중요하지 않은 단어라는 것을 나타냅니다. 이를 기반으로, TfidfVectorizer는 각 문서에 대한 feature vector를 생성하는데, 각 feature(단어)들은 문서의 주요 내용을 나타내는 중요한 단어에 가중치를 더 부여하게 됩니다. TfidfVectorizer는 머신러닝 분류 모델의 feature로 사용되는 등, 다양한 분야에서 활용됩니다. 하지만, TfidfVectorizer는 단어 간의 순서를 고려하지 않기 때문에 순서에 따라 대화에서 의미는 달라질 수 있는 자연어 분야에는 적합하지 않을 수 있습니다."
   ],
   "metadata": {
    "collapsed": false
   }
  },
  {
   "cell_type": "markdown",
   "source": [
    "## 자연어 처리\n",
    "\n",
    "-NLP(Natural Language Processing) : 자연어 처리\n",
    "\n",
    "-사람이 사용하는 언어를 처리하고 해석\n",
    "\n",
    "## 자연어 처리 기초\n",
    "\n",
    "### 형태소 분석기\n",
    "\n",
    "-konlpy : 한국어 처리를 위한 형태소 분석기\n",
    "\n",
    "-형태소 : 의미를 가지는 가장 작은 말의 단위"
   ],
   "metadata": {
    "collapsed": false
   }
  },
  {
   "cell_type": "markdown",
   "source": [
    "warnings.filterwarnings('ignore')는 프로그램에서 발생할 수 있는 경고 메시지를 무시하도록 하는 명령입니다. 이 명령을 사용하면 경고 메시지를 볼 필요 없이 오류 메시지만 볼 수 있기 때문에 코드의 디버깅이 쉬워집니다. 하지만 경고 메시지는 다양한 원인을 가지므로 프로그램에서 발생한 문제를 진단하거나 수정하는데 도움을 줍니다. 따라서, 경고 메시지가 의미 있는 정보를 가지고 있을 때는 filterwarnings을 사용하지 않는 것이 좋습니다."
   ],
   "metadata": {
    "collapsed": false
   }
  },
  {
   "cell_type": "code",
   "execution_count": 51,
   "outputs": [],
   "source": [
    "# 라이브러리 불러오기\n",
    "import pandas as pd\n",
    "import warnings\n",
    "warnings.filterwarnings('ignore')\n"
   ],
   "metadata": {
    "collapsed": false,
    "ExecuteTime": {
     "end_time": "2023-07-17T18:28:54.929747Z",
     "start_time": "2023-07-17T18:28:54.793434Z"
    }
   }
  },
  {
   "cell_type": "code",
   "execution_count": 52,
   "outputs": [
    {
     "name": "stdout",
     "output_type": "stream",
     "text": [
      "Requirement already satisfied: konlpy in /Users/ralphpark/anaconda3/lib/python3.10/site-packages (0.6.0)\r\n",
      "Requirement already satisfied: lxml>=4.1.0 in /Users/ralphpark/anaconda3/lib/python3.10/site-packages (from konlpy) (4.9.1)\r\n",
      "Requirement already satisfied: JPype1>=0.7.0 in /Users/ralphpark/anaconda3/lib/python3.10/site-packages (from konlpy) (1.4.1)\r\n",
      "Requirement already satisfied: numpy>=1.6 in /Users/ralphpark/anaconda3/lib/python3.10/site-packages (from konlpy) (1.23.5)\r\n",
      "Requirement already satisfied: packaging in /Users/ralphpark/anaconda3/lib/python3.10/site-packages (from JPype1>=0.7.0->konlpy) (22.0)\r\n"
     ]
    }
   ],
   "source": [
    "#konlpy 설치\n",
    "!pip install konlpy"
   ],
   "metadata": {
    "collapsed": false,
    "ExecuteTime": {
     "end_time": "2023-07-17T18:28:58.792643Z",
     "start_time": "2023-07-17T18:28:54.801566Z"
    }
   }
  },
  {
   "cell_type": "code",
   "execution_count": 53,
   "outputs": [],
   "source": [
    "#라이브러리 불러오기(okt)\n",
    "import konlpy\n",
    "from konlpy.tag import Okt\n",
    "tokenizer = Okt()"
   ],
   "metadata": {
    "collapsed": false,
    "ExecuteTime": {
     "end_time": "2023-07-17T18:28:58.799484Z",
     "start_time": "2023-07-17T18:28:58.795341Z"
    }
   }
  },
  {
   "cell_type": "code",
   "execution_count": 54,
   "outputs": [
    {
     "name": "stdout",
     "output_type": "stream",
     "text": [
      "['함께', '탐험', '하며', '성장하는', 'AI', '학교', 'AIFFEL']\n"
     ]
    }
   ],
   "source": [
    "#토큰화(형태소 단위)\n",
    "text = \"함께 탐험하며 성장하는 AI학교 AIFFEL\"\n",
    "print(tokenizer.morphs(text))"
   ],
   "metadata": {
    "collapsed": false,
    "ExecuteTime": {
     "end_time": "2023-07-17T18:28:58.812562Z",
     "start_time": "2023-07-17T18:28:58.801667Z"
    }
   }
  },
  {
   "cell_type": "code",
   "execution_count": 55,
   "outputs": [
    {
     "data": {
      "text/plain": "['탐험', '학교']"
     },
     "execution_count": 55,
     "metadata": {},
     "output_type": "execute_result"
    }
   ],
   "source": [
    "#토근화(명사만 추출)\n",
    "tokenizer.nouns(text)"
   ],
   "metadata": {
    "collapsed": false,
    "ExecuteTime": {
     "end_time": "2023-07-17T18:28:58.852738Z",
     "start_time": "2023-07-17T18:28:58.809404Z"
    }
   }
  },
  {
   "cell_type": "code",
   "execution_count": 56,
   "outputs": [
    {
     "data": {
      "text/plain": "[('함께', 'Adverb'),\n ('탐험', 'Noun'),\n ('하며', 'Verb'),\n ('성장하는', 'Adjective'),\n ('AI', 'Alpha'),\n ('학교', 'Noun'),\n ('AIFFEL', 'Alpha')]"
     },
     "execution_count": 56,
     "metadata": {},
     "output_type": "execute_result"
    }
   ],
   "source": [
    "#토큰화(품사 태깅)\n",
    "tokenizer.pos(text)"
   ],
   "metadata": {
    "collapsed": false,
    "ExecuteTime": {
     "end_time": "2023-07-17T18:28:58.857818Z",
     "start_time": "2023-07-17T18:28:58.813865Z"
    }
   }
  },
  {
   "cell_type": "code",
   "execution_count": 57,
   "outputs": [],
   "source": [
    "#CountVectorizer : 각 문장에서 단어 출현 횟수를 카운팅하는 방법(BOW,Bag of Words)\n",
    "from sklearn.feature_extraction.text import CountVectorizer\n",
    "vect = CountVectorizer()\n"
   ],
   "metadata": {
    "collapsed": false,
    "ExecuteTime": {
     "end_time": "2023-07-17T18:28:58.858207Z",
     "start_time": "2023-07-17T18:28:58.822267Z"
    }
   }
  },
  {
   "cell_type": "markdown",
   "source": [
    "Morphs는 형태소 분석기에서 제공하는 기능 중 하나로, 입력된 문장에서 형태소 단위로 토큰화하여 출력해줍니다. 형태소란, 의미가 있는 가장 작은 말의 단위를 의미합니다. 예를 들어, \"가볍게 달리는\" 이라는 문장에서는 \"가볍게\", \"달리는\" 등의 형태소로 나뉘어집니다. Morphs 기능을 사용하면 이러한 형태소를 분석하여 문장을 적절한 단어로 토큰화할 수 있습니다. 이를 통해 문장을 더욱 자세하게 분석하고 이해할 수 있습니다."
   ],
   "metadata": {
    "collapsed": false
   }
  },
  {
   "cell_type": "code",
   "execution_count": 58,
   "outputs": [],
   "source": [
    "# 단어 토큰화(Okt)\n",
    "words = tokenizer.morphs(text)"
   ],
   "metadata": {
    "collapsed": false,
    "ExecuteTime": {
     "end_time": "2023-07-17T18:28:58.858427Z",
     "start_time": "2023-07-17T18:28:58.826217Z"
    }
   }
  },
  {
   "cell_type": "code",
   "execution_count": 59,
   "outputs": [
    {
     "data": {
      "text/plain": "CountVectorizer()",
      "text/html": "<style>#sk-container-id-2 {color: black;background-color: white;}#sk-container-id-2 pre{padding: 0;}#sk-container-id-2 div.sk-toggleable {background-color: white;}#sk-container-id-2 label.sk-toggleable__label {cursor: pointer;display: block;width: 100%;margin-bottom: 0;padding: 0.3em;box-sizing: border-box;text-align: center;}#sk-container-id-2 label.sk-toggleable__label-arrow:before {content: \"▸\";float: left;margin-right: 0.25em;color: #696969;}#sk-container-id-2 label.sk-toggleable__label-arrow:hover:before {color: black;}#sk-container-id-2 div.sk-estimator:hover label.sk-toggleable__label-arrow:before {color: black;}#sk-container-id-2 div.sk-toggleable__content {max-height: 0;max-width: 0;overflow: hidden;text-align: left;background-color: #f0f8ff;}#sk-container-id-2 div.sk-toggleable__content pre {margin: 0.2em;color: black;border-radius: 0.25em;background-color: #f0f8ff;}#sk-container-id-2 input.sk-toggleable__control:checked~div.sk-toggleable__content {max-height: 200px;max-width: 100%;overflow: auto;}#sk-container-id-2 input.sk-toggleable__control:checked~label.sk-toggleable__label-arrow:before {content: \"▾\";}#sk-container-id-2 div.sk-estimator input.sk-toggleable__control:checked~label.sk-toggleable__label {background-color: #d4ebff;}#sk-container-id-2 div.sk-label input.sk-toggleable__control:checked~label.sk-toggleable__label {background-color: #d4ebff;}#sk-container-id-2 input.sk-hidden--visually {border: 0;clip: rect(1px 1px 1px 1px);clip: rect(1px, 1px, 1px, 1px);height: 1px;margin: -1px;overflow: hidden;padding: 0;position: absolute;width: 1px;}#sk-container-id-2 div.sk-estimator {font-family: monospace;background-color: #f0f8ff;border: 1px dotted black;border-radius: 0.25em;box-sizing: border-box;margin-bottom: 0.5em;}#sk-container-id-2 div.sk-estimator:hover {background-color: #d4ebff;}#sk-container-id-2 div.sk-parallel-item::after {content: \"\";width: 100%;border-bottom: 1px solid gray;flex-grow: 1;}#sk-container-id-2 div.sk-label:hover label.sk-toggleable__label {background-color: #d4ebff;}#sk-container-id-2 div.sk-serial::before {content: \"\";position: absolute;border-left: 1px solid gray;box-sizing: border-box;top: 0;bottom: 0;left: 50%;z-index: 0;}#sk-container-id-2 div.sk-serial {display: flex;flex-direction: column;align-items: center;background-color: white;padding-right: 0.2em;padding-left: 0.2em;position: relative;}#sk-container-id-2 div.sk-item {position: relative;z-index: 1;}#sk-container-id-2 div.sk-parallel {display: flex;align-items: stretch;justify-content: center;background-color: white;position: relative;}#sk-container-id-2 div.sk-item::before, #sk-container-id-2 div.sk-parallel-item::before {content: \"\";position: absolute;border-left: 1px solid gray;box-sizing: border-box;top: 0;bottom: 0;left: 50%;z-index: -1;}#sk-container-id-2 div.sk-parallel-item {display: flex;flex-direction: column;z-index: 1;position: relative;background-color: white;}#sk-container-id-2 div.sk-parallel-item:first-child::after {align-self: flex-end;width: 50%;}#sk-container-id-2 div.sk-parallel-item:last-child::after {align-self: flex-start;width: 50%;}#sk-container-id-2 div.sk-parallel-item:only-child::after {width: 0;}#sk-container-id-2 div.sk-dashed-wrapped {border: 1px dashed gray;margin: 0 0.4em 0.5em 0.4em;box-sizing: border-box;padding-bottom: 0.4em;background-color: white;}#sk-container-id-2 div.sk-label label {font-family: monospace;font-weight: bold;display: inline-block;line-height: 1.2em;}#sk-container-id-2 div.sk-label-container {text-align: center;}#sk-container-id-2 div.sk-container {/* jupyter's `normalize.less` sets `[hidden] { display: none; }` but bootstrap.min.css set `[hidden] { display: none !important; }` so we also need the `!important` here to be able to override the default hidden behavior on the sphinx rendered scikit-learn.org. See: https://github.com/scikit-learn/scikit-learn/issues/21755 */display: inline-block !important;position: relative;}#sk-container-id-2 div.sk-text-repr-fallback {display: none;}</style><div id=\"sk-container-id-2\" class=\"sk-top-container\"><div class=\"sk-text-repr-fallback\"><pre>CountVectorizer()</pre><b>In a Jupyter environment, please rerun this cell to show the HTML representation or trust the notebook. <br />On GitHub, the HTML representation is unable to render, please try loading this page with nbviewer.org.</b></div><div class=\"sk-container\" hidden><div class=\"sk-item\"><div class=\"sk-estimator sk-toggleable\"><input class=\"sk-toggleable__control sk-hidden--visually\" id=\"sk-estimator-id-2\" type=\"checkbox\" checked><label for=\"sk-estimator-id-2\" class=\"sk-toggleable__label sk-toggleable__label-arrow\">CountVectorizer</label><div class=\"sk-toggleable__content\"><pre>CountVectorizer()</pre></div></div></div></div></div>"
     },
     "execution_count": 59,
     "metadata": {},
     "output_type": "execute_result"
    }
   ],
   "source": [
    "# 데이터 학습 - 어휘사전 만들기\n",
    "vect.fit(words)"
   ],
   "metadata": {
    "collapsed": false,
    "ExecuteTime": {
     "end_time": "2023-07-17T18:28:58.858650Z",
     "start_time": "2023-07-17T18:28:58.834062Z"
    }
   }
  },
  {
   "cell_type": "code",
   "execution_count": 60,
   "outputs": [
    {
     "data": {
      "text/plain": "array(['ai', 'aiffel', '성장하는', '탐험', '하며', '학교', '함께'], dtype=object)"
     },
     "execution_count": 60,
     "metadata": {},
     "output_type": "execute_result"
    }
   ],
   "source": [
    "#학습된 어휘\n",
    "vect.get_feature_names_out()"
   ],
   "metadata": {
    "collapsed": false,
    "ExecuteTime": {
     "end_time": "2023-07-17T18:28:58.858812Z",
     "start_time": "2023-07-17T18:28:58.839642Z"
    }
   }
  },
  {
   "cell_type": "code",
   "execution_count": 61,
   "outputs": [
    {
     "data": {
      "text/plain": "{'함께': 6, '탐험': 3, '하며': 4, '성장하는': 2, 'ai': 0, '학교': 5, 'aiffel': 1}"
     },
     "execution_count": 61,
     "metadata": {},
     "output_type": "execute_result"
    }
   ],
   "source": [
    "# 단어사전\n",
    "vect.vocabulary_"
   ],
   "metadata": {
    "collapsed": false,
    "ExecuteTime": {
     "end_time": "2023-07-17T18:28:58.858946Z",
     "start_time": "2023-07-17T18:28:58.852905Z"
    }
   }
  },
  {
   "cell_type": "code",
   "execution_count": 62,
   "outputs": [
    {
     "data": {
      "text/plain": "7"
     },
     "execution_count": 62,
     "metadata": {},
     "output_type": "execute_result"
    }
   ],
   "source": [
    "# 단어사전 크기\n",
    "len(vect.vocabulary_)"
   ],
   "metadata": {
    "collapsed": false,
    "ExecuteTime": {
     "end_time": "2023-07-17T18:28:58.859062Z",
     "start_time": "2023-07-17T18:28:58.853168Z"
    }
   }
  },
  {
   "cell_type": "code",
   "execution_count": 63,
   "outputs": [],
   "source": [
    "# 인코딩\n",
    "df_t = vect.transform(words)"
   ],
   "metadata": {
    "collapsed": false,
    "ExecuteTime": {
     "end_time": "2023-07-17T18:28:58.859129Z",
     "start_time": "2023-07-17T18:28:58.853611Z"
    }
   }
  },
  {
   "cell_type": "code",
   "execution_count": 64,
   "outputs": [
    {
     "data": {
      "text/plain": "array([[0, 0, 0, 0, 0, 0, 1],\n       [0, 0, 0, 1, 0, 0, 0],\n       [0, 0, 0, 0, 1, 0, 0],\n       [0, 0, 1, 0, 0, 0, 0],\n       [1, 0, 0, 0, 0, 0, 0],\n       [0, 0, 0, 0, 0, 1, 0],\n       [0, 1, 0, 0, 0, 0, 0]])"
     },
     "execution_count": 64,
     "metadata": {},
     "output_type": "execute_result"
    }
   ],
   "source": [
    "#인코딩된 데이터 Matrix\n",
    "df_t.toarray()"
   ],
   "metadata": {
    "collapsed": false,
    "ExecuteTime": {
     "end_time": "2023-07-17T18:28:58.873848Z",
     "start_time": "2023-07-17T18:28:58.861606Z"
    }
   }
  },
  {
   "cell_type": "code",
   "execution_count": 65,
   "outputs": [
    {
     "data": {
      "text/plain": "   ai  aiffel  성장하는  탐험  하며  학교  함께\n0   0       0     0   0   0   0   1\n1   0       0     0   1   0   0   0\n2   0       0     0   0   1   0   0\n3   0       0     1   0   0   0   0\n4   1       0     0   0   0   0   0\n5   0       0     0   0   0   1   0\n6   0       1     0   0   0   0   0",
      "text/html": "<div>\n<style scoped>\n    .dataframe tbody tr th:only-of-type {\n        vertical-align: middle;\n    }\n\n    .dataframe tbody tr th {\n        vertical-align: top;\n    }\n\n    .dataframe thead th {\n        text-align: right;\n    }\n</style>\n<table border=\"1\" class=\"dataframe\">\n  <thead>\n    <tr style=\"text-align: right;\">\n      <th></th>\n      <th>ai</th>\n      <th>aiffel</th>\n      <th>성장하는</th>\n      <th>탐험</th>\n      <th>하며</th>\n      <th>학교</th>\n      <th>함께</th>\n    </tr>\n  </thead>\n  <tbody>\n    <tr>\n      <th>0</th>\n      <td>0</td>\n      <td>0</td>\n      <td>0</td>\n      <td>0</td>\n      <td>0</td>\n      <td>0</td>\n      <td>1</td>\n    </tr>\n    <tr>\n      <th>1</th>\n      <td>0</td>\n      <td>0</td>\n      <td>0</td>\n      <td>1</td>\n      <td>0</td>\n      <td>0</td>\n      <td>0</td>\n    </tr>\n    <tr>\n      <th>2</th>\n      <td>0</td>\n      <td>0</td>\n      <td>0</td>\n      <td>0</td>\n      <td>1</td>\n      <td>0</td>\n      <td>0</td>\n    </tr>\n    <tr>\n      <th>3</th>\n      <td>0</td>\n      <td>0</td>\n      <td>1</td>\n      <td>0</td>\n      <td>0</td>\n      <td>0</td>\n      <td>0</td>\n    </tr>\n    <tr>\n      <th>4</th>\n      <td>1</td>\n      <td>0</td>\n      <td>0</td>\n      <td>0</td>\n      <td>0</td>\n      <td>0</td>\n      <td>0</td>\n    </tr>\n    <tr>\n      <th>5</th>\n      <td>0</td>\n      <td>0</td>\n      <td>0</td>\n      <td>0</td>\n      <td>0</td>\n      <td>1</td>\n      <td>0</td>\n    </tr>\n    <tr>\n      <th>6</th>\n      <td>0</td>\n      <td>1</td>\n      <td>0</td>\n      <td>0</td>\n      <td>0</td>\n      <td>0</td>\n      <td>0</td>\n    </tr>\n  </tbody>\n</table>\n</div>"
     },
     "execution_count": 65,
     "metadata": {},
     "output_type": "execute_result"
    }
   ],
   "source": [
    "# 어휘와 피처(데이터 프레임)\n",
    "pd.DataFrame(df_t.toarray(), columns=vect.get_feature_names_out())"
   ],
   "metadata": {
    "collapsed": false,
    "ExecuteTime": {
     "end_time": "2023-07-17T18:28:58.948973Z",
     "start_time": "2023-07-17T18:28:58.864775Z"
    }
   }
  },
  {
   "cell_type": "code",
   "execution_count": 66,
   "outputs": [],
   "source": [
    "# test - 새로운 변수가 들어왔을때\n",
    "test = \"AI와 공부하며 함께 성장해요\""
   ],
   "metadata": {
    "collapsed": false,
    "ExecuteTime": {
     "end_time": "2023-07-17T18:28:58.949649Z",
     "start_time": "2023-07-17T18:28:58.874643Z"
    }
   }
  },
  {
   "cell_type": "code",
   "execution_count": 67,
   "outputs": [
    {
     "data": {
      "text/plain": "['AI', '와', '공부', '하며', '함께', '성장해요']"
     },
     "execution_count": 67,
     "metadata": {},
     "output_type": "execute_result"
    }
   ],
   "source": [
    "# 토큰화\n",
    "words_test = tokenizer.morphs(test)\n",
    "words_test"
   ],
   "metadata": {
    "collapsed": false,
    "ExecuteTime": {
     "end_time": "2023-07-17T18:28:58.950240Z",
     "start_time": "2023-07-17T18:28:58.879Z"
    }
   }
  },
  {
   "cell_type": "code",
   "execution_count": 68,
   "outputs": [
    {
     "data": {
      "text/plain": "array([[1, 0, 0, 0, 0, 0, 0],\n       [0, 0, 0, 0, 0, 0, 0],\n       [0, 0, 0, 0, 0, 0, 0],\n       [0, 0, 0, 0, 1, 0, 0],\n       [0, 0, 0, 0, 0, 0, 1],\n       [0, 0, 0, 0, 0, 0, 0]])"
     },
     "execution_count": 68,
     "metadata": {},
     "output_type": "execute_result"
    }
   ],
   "source": [
    "# fit은 안해도 되고 transform만 해도 된다.\n",
    "# 인코딩 된 데이터 Matrix\n",
    "df_test = vect.transform(words_test)\n",
    "df_test.toarray()"
   ],
   "metadata": {
    "collapsed": false,
    "ExecuteTime": {
     "end_time": "2023-07-17T18:28:58.950541Z",
     "start_time": "2023-07-17T18:28:58.883897Z"
    }
   }
  },
  {
   "cell_type": "code",
   "execution_count": 69,
   "outputs": [
    {
     "data": {
      "text/plain": "   ai  aiffel  성장하는  탐험  하며  학교  함께\n0   1       0     0   0   0   0   0\n1   0       0     0   0   0   0   0\n2   0       0     0   0   0   0   0\n3   0       0     0   0   1   0   0\n4   0       0     0   0   0   0   1\n5   0       0     0   0   0   0   0",
      "text/html": "<div>\n<style scoped>\n    .dataframe tbody tr th:only-of-type {\n        vertical-align: middle;\n    }\n\n    .dataframe tbody tr th {\n        vertical-align: top;\n    }\n\n    .dataframe thead th {\n        text-align: right;\n    }\n</style>\n<table border=\"1\" class=\"dataframe\">\n  <thead>\n    <tr style=\"text-align: right;\">\n      <th></th>\n      <th>ai</th>\n      <th>aiffel</th>\n      <th>성장하는</th>\n      <th>탐험</th>\n      <th>하며</th>\n      <th>학교</th>\n      <th>함께</th>\n    </tr>\n  </thead>\n  <tbody>\n    <tr>\n      <th>0</th>\n      <td>1</td>\n      <td>0</td>\n      <td>0</td>\n      <td>0</td>\n      <td>0</td>\n      <td>0</td>\n      <td>0</td>\n    </tr>\n    <tr>\n      <th>1</th>\n      <td>0</td>\n      <td>0</td>\n      <td>0</td>\n      <td>0</td>\n      <td>0</td>\n      <td>0</td>\n      <td>0</td>\n    </tr>\n    <tr>\n      <th>2</th>\n      <td>0</td>\n      <td>0</td>\n      <td>0</td>\n      <td>0</td>\n      <td>0</td>\n      <td>0</td>\n      <td>0</td>\n    </tr>\n    <tr>\n      <th>3</th>\n      <td>0</td>\n      <td>0</td>\n      <td>0</td>\n      <td>0</td>\n      <td>1</td>\n      <td>0</td>\n      <td>0</td>\n    </tr>\n    <tr>\n      <th>4</th>\n      <td>0</td>\n      <td>0</td>\n      <td>0</td>\n      <td>0</td>\n      <td>0</td>\n      <td>0</td>\n      <td>1</td>\n    </tr>\n    <tr>\n      <th>5</th>\n      <td>0</td>\n      <td>0</td>\n      <td>0</td>\n      <td>0</td>\n      <td>0</td>\n      <td>0</td>\n      <td>0</td>\n    </tr>\n  </tbody>\n</table>\n</div>"
     },
     "execution_count": 69,
     "metadata": {},
     "output_type": "execute_result"
    }
   ],
   "source": [
    "# 어휘와 피처(데이터 프레임)\n",
    "pd.DataFrame(df_test.toarray(), columns=vect.get_feature_names_out())"
   ],
   "metadata": {
    "collapsed": false,
    "ExecuteTime": {
     "end_time": "2023-07-17T18:28:58.950955Z",
     "start_time": "2023-07-17T18:28:58.893299Z"
    }
   }
  },
  {
   "cell_type": "code",
   "execution_count": 70,
   "outputs": [],
   "source": [
    "#TfidfVectorizer : TF-IDF 방법으로 단어의 가중치를 조정하는 방법,\n",
    "# 다른 문서보다 특정 문서에 자주 나타나는 단어에 높은 가중치를 주는 방법\n",
    "from sklearn.feature_extraction.text import TfidfVectorizer"
   ],
   "metadata": {
    "collapsed": false,
    "ExecuteTime": {
     "end_time": "2023-07-17T18:28:58.951065Z",
     "start_time": "2023-07-17T18:28:58.899536Z"
    }
   }
  },
  {
   "cell_type": "code",
   "execution_count": 71,
   "outputs": [
    {
     "data": {
      "text/plain": "{'함께': 6, '탐험': 3, '하며': 4, '성장하는': 2, 'ai': 0, '학교': 5, 'aiffel': 1}"
     },
     "execution_count": 71,
     "metadata": {},
     "output_type": "execute_result"
    }
   ],
   "source": [
    "# tf-idf 활용 어휘 사전 구축\n",
    "vect = TfidfVectorizer()\n",
    "words = tokenizer.morphs(text)\n",
    "vect.fit(words) #fit은 학습\n",
    "vect.vocabulary_"
   ],
   "metadata": {
    "collapsed": false,
    "ExecuteTime": {
     "end_time": "2023-07-17T18:28:58.979683Z",
     "start_time": "2023-07-17T18:28:58.917032Z"
    }
   }
  },
  {
   "cell_type": "code",
   "execution_count": 72,
   "outputs": [
    {
     "data": {
      "text/plain": "array([[0., 0., 0., 0., 0., 0., 1.],\n       [0., 0., 0., 1., 0., 0., 0.],\n       [0., 0., 0., 0., 1., 0., 0.],\n       [0., 0., 1., 0., 0., 0., 0.],\n       [1., 0., 0., 0., 0., 0., 0.],\n       [0., 0., 0., 0., 0., 1., 0.],\n       [0., 1., 0., 0., 0., 0., 0.]])"
     },
     "execution_count": 72,
     "metadata": {},
     "output_type": "execute_result"
    }
   ],
   "source": [
    "# tf-idf 인코딩된 데이터 Matrix\n",
    "df_t = vect.transform(words).toarray()\n",
    "df_t"
   ],
   "metadata": {
    "collapsed": false,
    "ExecuteTime": {
     "end_time": "2023-07-17T18:28:58.979952Z",
     "start_time": "2023-07-17T18:28:58.931936Z"
    }
   }
  },
  {
   "cell_type": "markdown",
   "source": [
    "실습문제\n",
    "\n",
    "문자열을 컴퓨터가 인식할 수 있도록 수치 벡터로 만드는 대표적인 방법으로 CountVectorizer와 TfidfVectorizer가 있는데요. 이 둘의 차이점은 무엇인가요?\n",
    "\n",
    "CountVectorizer는 단어의 빈도수를 기준으로 수치 벡터를 만들고, TfidfVectorizer는 TF-IDF라는 방법을 사용해 단어의 빈도수와 역 문서 빈도수를 모두 고려해 수치 벡터를 만듭니다.\n",
    "\n",
    "CountVectorizer와 TfidfVectorizer는 모두 문서 집합에서 문자열을 수치 벡터로 변환하는 방법입니다. 두 방법의 차이점은 아래와 같습니다:\n",
    "\n",
    "1. CountVectorizer: 이 방법은 문서의 단어의 출현 빈도를 나타내는 정수값을 가지는 벡터로 변환합니다. 각 단어가 문서에서 몇 번 출현했는지를 카운트하고 결과를 벡터로 표현합니다. 그러나 이 방법은 단어의 중요성 차이를 구분하지 못하는 단점이 있습니다.\n",
    "\n",
    "2. TfidfVectorizer: 이 방법은 Term Frequency-Inverse Document Frequency(TF-IDF)라는 가중치를 사용하여 문서의 단어 벡터를 나타냅니다. TF-IDF는 단어의 중요성을 고려하기 때문에 CountVectorizer와 달리 문서에서 지닌 중요성에 따라 단어의 가중치가 달라집니다. 공통적으로 많이 사용되는 단어는 가중치가 낮고, 특정 문서에서만 중요하게 사용되는 단어는 가중치가 높아집니다.\n",
    "\n",
    "결론적으로, 두 방법은 모두 문서의 단어를 수치 벡터로 변환하는 방법인데 CountVectorizer는 단어의 출현 빈도를 이용한 방식이고, TfidfVectorizer는 단어의 중요성을 고려한 방식입니다. 문서의 특성에 따라 적절한 방법을 선택할 수 있습니다.\n",
    "\n",
    "예시답안\n",
    "\n",
    "CountVectorizer는 문서에서 단어의 출현 빈도를 기반으로 각 단어를 수치화하고, TfidfVectorizer는 문서에서 단어의 상대적인 중요도를 고려하여 각 단어를 수치화합니다. 즉, TfidfVectorizer는 문서에 자주 출현하지만 다른 문서에서는 그렇지 않은 단어에 대해 높은 가중치를 부여합니다.\n"
   ],
   "metadata": {
    "collapsed": false
   }
  },
  {
   "cell_type": "markdown",
   "source": [
    "2. 감성분석\n",
    "\n",
    "![](./na_03.png)\n",
    "\n",
    "https://wikidocs.net/44249\n",
    "\n"
   ],
   "metadata": {
    "collapsed": false
   }
  },
  {
   "cell_type": "code",
   "execution_count": 73,
   "outputs": [],
   "source": [
    "# 데이터 불러오기\n",
    "# 라이브러리 불러오기\n",
    "import pandas as pd"
   ],
   "metadata": {
    "collapsed": false,
    "ExecuteTime": {
     "end_time": "2023-07-17T18:28:58.980068Z",
     "start_time": "2023-07-17T18:28:58.939456Z"
    }
   }
  },
  {
   "cell_type": "code",
   "execution_count": 74,
   "outputs": [
    {
     "data": {
      "text/plain": "         id                                           document  label\n0   9976970                                아 더빙.. 진짜 짜증나네요 목소리      0\n1   3819312                  흠...포스터보고 초딩영화줄....오버연기조차 가볍지 않구나      1\n2  10265843                                  너무재밓었다그래서보는것을추천한다      0\n3   9045019                      교도소 이야기구먼 ..솔직히 재미는 없다..평점 조정      0\n4   6483659  사이몬페그의 익살스런 연기가 돋보였던 영화!스파이더맨에서 늙어보이기만 했던 커스틴 ...      1",
      "text/html": "<div>\n<style scoped>\n    .dataframe tbody tr th:only-of-type {\n        vertical-align: middle;\n    }\n\n    .dataframe tbody tr th {\n        vertical-align: top;\n    }\n\n    .dataframe thead th {\n        text-align: right;\n    }\n</style>\n<table border=\"1\" class=\"dataframe\">\n  <thead>\n    <tr style=\"text-align: right;\">\n      <th></th>\n      <th>id</th>\n      <th>document</th>\n      <th>label</th>\n    </tr>\n  </thead>\n  <tbody>\n    <tr>\n      <th>0</th>\n      <td>9976970</td>\n      <td>아 더빙.. 진짜 짜증나네요 목소리</td>\n      <td>0</td>\n    </tr>\n    <tr>\n      <th>1</th>\n      <td>3819312</td>\n      <td>흠...포스터보고 초딩영화줄....오버연기조차 가볍지 않구나</td>\n      <td>1</td>\n    </tr>\n    <tr>\n      <th>2</th>\n      <td>10265843</td>\n      <td>너무재밓었다그래서보는것을추천한다</td>\n      <td>0</td>\n    </tr>\n    <tr>\n      <th>3</th>\n      <td>9045019</td>\n      <td>교도소 이야기구먼 ..솔직히 재미는 없다..평점 조정</td>\n      <td>0</td>\n    </tr>\n    <tr>\n      <th>4</th>\n      <td>6483659</td>\n      <td>사이몬페그의 익살스런 연기가 돋보였던 영화!스파이더맨에서 늙어보이기만 했던 커스틴 ...</td>\n      <td>1</td>\n    </tr>\n  </tbody>\n</table>\n</div>"
     },
     "execution_count": 74,
     "metadata": {},
     "output_type": "execute_result"
    }
   ],
   "source": [
    "# 데이터 불러오기\n",
    "df = pd.read_csv(\"ratings_train.txt\", sep=\"\\t\") # sep=\"\\t\" : 탭으로 구분\n",
    "df.head()"
   ],
   "metadata": {
    "collapsed": false,
    "ExecuteTime": {
     "end_time": "2023-07-17T18:28:59.254953Z",
     "start_time": "2023-07-17T18:28:58.945975Z"
    }
   }
  },
  {
   "cell_type": "markdown",
   "source": [
    "EDA 및 데이터 전처리"
   ],
   "metadata": {
    "collapsed": false
   }
  },
  {
   "cell_type": "code",
   "execution_count": 75,
   "outputs": [
    {
     "data": {
      "text/plain": "(150000, 3)"
     },
     "execution_count": 75,
     "metadata": {},
     "output_type": "execute_result"
    }
   ],
   "source": [
    "# 데이터 크기\n",
    "df.shape"
   ],
   "metadata": {
    "collapsed": false,
    "ExecuteTime": {
     "end_time": "2023-07-17T18:28:59.265407Z",
     "start_time": "2023-07-17T18:28:59.251864Z"
    }
   }
  },
  {
   "cell_type": "code",
   "execution_count": 76,
   "outputs": [
    {
     "data": {
      "text/plain": "0    75173\n1    74827\nName: label, dtype: int64"
     },
     "execution_count": 76,
     "metadata": {},
     "output_type": "execute_result"
    }
   ],
   "source": [
    "# 타겟 확인\n",
    "df.label.value_counts() #긍정이 0, 부정이 1"
   ],
   "metadata": {
    "collapsed": false,
    "ExecuteTime": {
     "end_time": "2023-07-17T18:28:59.265874Z",
     "start_time": "2023-07-17T18:28:59.260628Z"
    }
   }
  },
  {
   "cell_type": "code",
   "execution_count": 77,
   "outputs": [
    {
     "data": {
      "text/plain": "id          0\ndocument    5\nlabel       0\ndtype: int64"
     },
     "execution_count": 77,
     "metadata": {},
     "output_type": "execute_result"
    }
   ],
   "source": [
    "# 결측치\n",
    "df.isnull().sum()"
   ],
   "metadata": {
    "collapsed": false,
    "ExecuteTime": {
     "end_time": "2023-07-17T18:28:59.363426Z",
     "start_time": "2023-07-17T18:28:59.298751Z"
    }
   }
  },
  {
   "cell_type": "code",
   "execution_count": 78,
   "outputs": [
    {
     "name": "stdout",
     "output_type": "stream",
     "text": [
      "(150000, 3)\n",
      "(149995, 3)\n"
     ]
    }
   ],
   "source": [
    "# 결측치 삭제\n",
    "print(df.shape)\n",
    "df.dropna(how='any', inplace=True)\n",
    "print(df.shape)"
   ],
   "metadata": {
    "collapsed": false,
    "ExecuteTime": {
     "end_time": "2023-07-17T18:28:59.398399Z",
     "start_time": "2023-07-17T18:28:59.324069Z"
    }
   }
  },
  {
   "cell_type": "code",
   "execution_count": 79,
   "outputs": [
    {
     "data": {
      "text/plain": "         id                                           document  label  len\n0   9976970                                아 더빙.. 진짜 짜증나네요 목소리      0   19\n1   3819312                  흠...포스터보고 초딩영화줄....오버연기조차 가볍지 않구나      1   33\n2  10265843                                  너무재밓었다그래서보는것을추천한다      0   17\n3   9045019                      교도소 이야기구먼 ..솔직히 재미는 없다..평점 조정      0   29\n4   6483659  사이몬페그의 익살스런 연기가 돋보였던 영화!스파이더맨에서 늙어보이기만 했던 커스틴 ...      1   61",
      "text/html": "<div>\n<style scoped>\n    .dataframe tbody tr th:only-of-type {\n        vertical-align: middle;\n    }\n\n    .dataframe tbody tr th {\n        vertical-align: top;\n    }\n\n    .dataframe thead th {\n        text-align: right;\n    }\n</style>\n<table border=\"1\" class=\"dataframe\">\n  <thead>\n    <tr style=\"text-align: right;\">\n      <th></th>\n      <th>id</th>\n      <th>document</th>\n      <th>label</th>\n      <th>len</th>\n    </tr>\n  </thead>\n  <tbody>\n    <tr>\n      <th>0</th>\n      <td>9976970</td>\n      <td>아 더빙.. 진짜 짜증나네요 목소리</td>\n      <td>0</td>\n      <td>19</td>\n    </tr>\n    <tr>\n      <th>1</th>\n      <td>3819312</td>\n      <td>흠...포스터보고 초딩영화줄....오버연기조차 가볍지 않구나</td>\n      <td>1</td>\n      <td>33</td>\n    </tr>\n    <tr>\n      <th>2</th>\n      <td>10265843</td>\n      <td>너무재밓었다그래서보는것을추천한다</td>\n      <td>0</td>\n      <td>17</td>\n    </tr>\n    <tr>\n      <th>3</th>\n      <td>9045019</td>\n      <td>교도소 이야기구먼 ..솔직히 재미는 없다..평점 조정</td>\n      <td>0</td>\n      <td>29</td>\n    </tr>\n    <tr>\n      <th>4</th>\n      <td>6483659</td>\n      <td>사이몬페그의 익살스런 연기가 돋보였던 영화!스파이더맨에서 늙어보이기만 했던 커스틴 ...</td>\n      <td>1</td>\n      <td>61</td>\n    </tr>\n  </tbody>\n</table>\n</div>"
     },
     "execution_count": 79,
     "metadata": {},
     "output_type": "execute_result"
    }
   ],
   "source": [
    "#피처 엔지니어링(문장의 길이)\n",
    "df['len'] = df['document'].apply(len)\n",
    "df.head()"
   ],
   "metadata": {
    "collapsed": false,
    "ExecuteTime": {
     "end_time": "2023-07-17T18:28:59.466846Z",
     "start_time": "2023-07-17T18:28:59.351496Z"
    }
   }
  },
  {
   "cell_type": "code",
   "execution_count": 80,
   "outputs": [
    {
     "data": {
      "text/plain": "<Axes: ylabel='Frequency'>"
     },
     "execution_count": 80,
     "metadata": {},
     "output_type": "execute_result"
    },
    {
     "data": {
      "text/plain": "<Figure size 640x480 with 1 Axes>",
      "image/png": "[encoded data removed]"
     },
     "metadata": {},
     "output_type": "display_data"
    }
   ],
   "source": [
    "# len 시각화(label==0)\n",
    "import matplotlib.pyplot as plt\n",
    "df[df['label']==0]['len'].plot(kind='hist')"
   ],
   "metadata": {
    "collapsed": false,
    "ExecuteTime": {
     "end_time": "2023-07-17T18:28:59.840285Z",
     "start_time": "2023-07-17T18:28:59.388447Z"
    }
   }
  },
  {
   "cell_type": "code",
   "execution_count": 81,
   "outputs": [
    {
     "data": {
      "text/plain": "<Axes: ylabel='Frequency'>"
     },
     "execution_count": 81,
     "metadata": {},
     "output_type": "execute_result"
    },
    {
     "data": {
      "text/plain": "<Figure size 640x480 with 1 Axes>",
      "image/png": "[encoded data removed]"
     },
     "metadata": {},
     "output_type": "display_data"
    }
   ],
   "source": [
    "# len 시각화(label==1)\n",
    "df[df['label']==1]['len'].plot(kind='hist')"
   ],
   "metadata": {
    "collapsed": false,
    "ExecuteTime": {
     "end_time": "2023-07-17T18:29:00.062105Z",
     "start_time": "2023-07-17T18:28:59.849106Z"
    }
   }
  },
  {
   "cell_type": "code",
   "execution_count": 82,
   "outputs": [
    {
     "data": {
      "text/plain": "(1000, 4)"
     },
     "execution_count": 82,
     "metadata": {},
     "output_type": "execute_result"
    }
   ],
   "source": [
    "# 데이터 샘플링 df[:1000]\n",
    "df = df[:1000]\n",
    "df.shape"
   ],
   "metadata": {
    "collapsed": false,
    "ExecuteTime": {
     "end_time": "2023-07-17T18:29:00.066037Z",
     "start_time": "2023-07-17T18:29:00.041218Z"
    }
   }
  },
  {
   "cell_type": "code",
   "execution_count": 83,
   "outputs": [],
   "source": [
    "# 토근화\n",
    "vect = CountVectorizer(tokenizer=tokenizer.morphs) #형태소 분석된 것을 가지고 어휘사전을 만든다\n",
    "vectors = vect.fit_transform(df['document'])"
   ],
   "metadata": {
    "collapsed": false,
    "ExecuteTime": {
     "end_time": "2023-07-17T18:29:02.530016Z",
     "start_time": "2023-07-17T18:29:00.047728Z"
    }
   }
  },
  {
   "cell_type": "code",
   "execution_count": 84,
   "outputs": [],
   "source": [
    "# 머신러닝 -> 교차검증(f1)\n",
    "from sklearn.model_selection import cross_val_score\n",
    "from sklearn.ensemble import RandomForestClassifier\n"
   ],
   "metadata": {
    "collapsed": false,
    "ExecuteTime": {
     "end_time": "2023-07-17T18:29:03.153208Z",
     "start_time": "2023-07-17T18:29:02.530173Z"
    }
   }
  },
  {
   "cell_type": "code",
   "execution_count": 85,
   "outputs": [
    {
     "data": {
      "text/plain": "0.6634352457852256"
     },
     "execution_count": 85,
     "metadata": {},
     "output_type": "execute_result"
    }
   ],
   "source": [
    "model = RandomForestClassifier(random_state=2022)\n",
    "cross_val_score(model, vectors, df['label'], cv=5, scoring='f1').mean()"
   ],
   "metadata": {
    "collapsed": false,
    "ExecuteTime": {
     "end_time": "2023-07-17T18:29:05.503115Z",
     "start_time": "2023-07-17T18:29:02.530416Z"
    }
   }
  },
  {
   "cell_type": "markdown",
   "source": [
    "3. 자연어 전처리\n",
    "\n",
    "- 어휘사전 구축\n",
    "\n",
    "  -> 00% 이상 나타나는 단어 무시 (ex. 50% or 70%)\n",
    "\n",
    "  -> 최소 N개의 문장에만 나타나는 단어만 유지(ex. 2 or 3)\n",
    "\n",
    "- 불용어(stopwords) 제거\n",
    "\n",
    "  -> 불용어: 문장의 의미를 분석하는 데 있어 큰 도움이 되지 않는 단어\n",
    "\n",
    "  -> ex. 조사, 접미사, 접속사, 대명사 등\n",
    "\n",
    "  -> 을, 는, 이, 가, 여기, 저기\n",
    "\n",
    "- 띄어쓰기를 하는 방법\n",
    "\n",
    "- 반복되는 글자 정리 (ex . ㅋㅋㅋ)하는 라이브러리 소개  (ex. soynlp)\n",
    "\n",
    "- 맞춤법 검사 방법\n"
   ],
   "metadata": {
    "collapsed": false
   }
  },
  {
   "cell_type": "code",
   "execution_count": 88,
   "outputs": [
    {
     "data": {
      "text/plain": "0.658"
     },
     "execution_count": 88,
     "metadata": {},
     "output_type": "execute_result"
    }
   ],
   "source": [
    "#자연어 전처리\n",
    "#어휘 사전 구축\n",
    "\n",
    "\n",
    "# 토큰화(max_df) N개보다 큰 단어수 무시 (10개)\n",
    "vect = CountVectorizer(tokenizer=tokenizer.morphs, max_df=10)\n",
    "vectors = vect.fit_transform(df['document'])\n",
    "model = RandomForestClassifier(random_state=2002)\n",
    "cross_val_score(model, vectors, df['label'], cv=5, scoring='accuracy').mean()"
   ],
   "metadata": {
    "collapsed": false,
    "ExecuteTime": {
     "end_time": "2023-07-17T18:29:51.453786Z",
     "start_time": "2023-07-17T18:29:45.384412Z"
    }
   }
  },
  {
   "cell_type": "code",
   "execution_count": 89,
   "outputs": [
    {
     "data": {
      "text/plain": "0.6813583059174431"
     },
     "execution_count": 89,
     "metadata": {},
     "output_type": "execute_result"
    }
   ],
   "source": [
    "# 토큰화(min_df) N개보다 작은 단어수 무시 (2개)\n",
    "vect = CountVectorizer(tokenizer=tokenizer.morphs, min_df=2)\n",
    "vectors = vect.fit_transform(df['document'])\n",
    "model = RandomForestClassifier(random_state=2002)\n",
    "cross_val_score(model, vectors, df['label'], cv=5, scoring='f1').mean()\n"
   ],
   "metadata": {
    "collapsed": false,
    "ExecuteTime": {
     "end_time": "2023-07-17T18:30:25.160643Z",
     "start_time": "2023-07-17T18:30:21.137998Z"
    }
   }
  },
  {
   "cell_type": "code",
   "execution_count": 90,
   "outputs": [
    {
     "data": {
      "text/plain": "{'함께': 5, '탐방': 3, '성장하는': 2, 'ai': 0, '학교': 4, 'aiffel': 1}"
     },
     "execution_count": 90,
     "metadata": {},
     "output_type": "execute_result"
    }
   ],
   "source": [
    "# 불용어 : 필요없는 단어 정리\n",
    "# stopwords\n",
    "text = '함께 탐방하며 성장하는 AI 학교 AIFFEL'\n",
    "stop_words = ['하며', 'AI']\n",
    "vect = CountVectorizer(stop_words=stop_words)\n",
    "words = tokenizer.morphs(text)\n",
    "vect.fit(words)\n",
    "vect.vocabulary_\n"
   ],
   "metadata": {
    "collapsed": false,
    "ExecuteTime": {
     "end_time": "2023-07-17T18:32:10.245812Z",
     "start_time": "2023-07-17T18:32:10.232334Z"
    }
   }
  },
  {
   "cell_type": "code",
   "execution_count": null,
   "outputs": [],
   "source": [
    "# 텐서 플로우 설치\n",
    "!pip install tensorflow"
   ],
   "metadata": {
    "collapsed": false
   }
  },
  {
   "cell_type": "code",
   "execution_count": null,
   "outputs": [],
   "source": [
    "# 띄어쓰기 자동\n",
    "# spacing 설치\n",
    "!pip install git+https://github.com/haven-jeon/PyKoSpacing.git\n"
   ],
   "metadata": {
    "collapsed": false
   }
  },
  {
   "cell_type": "code",
   "execution_count": 91,
   "outputs": [
    {
     "data": {
      "text/plain": "'함께 탐험하며 성장하는 AI 학교 AIFFEL'"
     },
     "execution_count": 91,
     "metadata": {},
     "output_type": "execute_result"
    }
   ],
   "source": [
    "# 띄어쓰기\n",
    "\n",
    "from pykospacing import Spacing\n",
    "spacing = Spacing()\n",
    "text = '함께탐험하며성장하는AI학교AIFFEL'\n",
    "spacing(text)\n"
   ],
   "metadata": {
    "collapsed": false,
    "ExecuteTime": {
     "end_time": "2023-07-17T18:33:33.505113Z",
     "start_time": "2023-07-17T18:33:33.450518Z"
    }
   }
  },
  {
   "cell_type": "markdown",
   "source": [
    "반복되는 글자 정리\n",
    "\n",
    "더 자세히 : https://github.com/lovit/soynlp"
   ],
   "metadata": {
    "collapsed": false
   }
  },
  {
   "cell_type": "code",
   "execution_count": null,
   "outputs": [],
   "source": [
    "# soynlp 설치\n",
    "!pip install soynlp"
   ],
   "metadata": {
    "collapsed": false
   }
  },
  {
   "cell_type": "code",
   "execution_count": 92,
   "outputs": [
    {
     "data": {
      "text/plain": "'하하하ㅋㅋㅋ호호호'"
     },
     "execution_count": 92,
     "metadata": {},
     "output_type": "execute_result"
    }
   ],
   "source": [
    "# 댓글 데이터에 등장하는 반복되는 이모티콘의 정리\n",
    "from soynlp.normalizer import *\n",
    "emoticon_normalize('하하하하ㅋㅋㅋㅋㅋㅋㅋㅋㅋㅋ호호호호호호호호호호', num_repeats=3)"
   ],
   "metadata": {
    "collapsed": false,
    "ExecuteTime": {
     "end_time": "2023-07-17T18:33:59.337024Z",
     "start_time": "2023-07-17T18:33:59.326506Z"
    }
   }
  },
  {
   "cell_type": "markdown",
   "source": [
    "맞춤법 검사\n",
    "\n",
    "- 더 자세히 : https://github.com/ssut/py-hanspell"
   ],
   "metadata": {
    "collapsed": false
   }
  },
  {
   "cell_type": "code",
   "execution_count": null,
   "outputs": [],
   "source": [
    "# hanspell 설치\n",
    "!pip install git+https://github.com/ssut/py-hanspell.git"
   ],
   "metadata": {
    "collapsed": false
   }
  },
  {
   "cell_type": "code",
   "execution_count": 93,
   "outputs": [],
   "source": [
    "# 맞춤법 검사\n",
    "from hanspell import spell_checker\n",
    "text = '맞춤법 틀리면외 않되?'"
   ],
   "metadata": {
    "collapsed": false,
    "ExecuteTime": {
     "end_time": "2023-07-17T18:34:04.747312Z",
     "start_time": "2023-07-17T18:34:04.741617Z"
    }
   }
  },
  {
   "cell_type": "code",
   "execution_count": 98,
   "outputs": [],
   "source": [
    "# 수정된 문장\n",
    "result = spell_checker.check(text)"
   ],
   "metadata": {
    "collapsed": false,
    "ExecuteTime": {
     "end_time": "2023-07-17T18:36:12.698456Z",
     "start_time": "2023-07-17T18:36:12.657017Z"
    }
   }
  },
  {
   "cell_type": "code",
   "execution_count": 97,
   "outputs": [
    {
     "data": {
      "text/plain": "'맞춤법 틀리면 외 안돼?'"
     },
     "execution_count": 97,
     "metadata": {},
     "output_type": "execute_result"
    }
   ],
   "source": [
    "# 라이브러리에 없는 고유명사나 신조어는 다른 방법을 고려해야 한다.\n",
    "result.checked"
   ],
   "metadata": {
    "collapsed": false,
    "ExecuteTime": {
     "end_time": "2023-07-17T18:36:08.602104Z",
     "start_time": "2023-07-17T18:36:08.597611Z"
    }
   }
  },
  {
   "cell_type": "code",
   "execution_count": 96,
   "outputs": [
    {
     "name": "stdout",
     "output_type": "stream",
     "text": [
      "10개보다 큰 단어 수 무시하기 : 0.6300776326538058\n",
      "15개보다 큰 단어 수 무시하기 : 0.6397803806582216\n",
      "20개보다 큰 단어 수 무시하기 : 0.6817517114020853\n"
     ]
    }
   ],
   "source": [
    "#종합퀴즈\n",
    "# Q. 다음은 영화 리뷰 데이터를 전처리하고 머신러닝 모델을 돌리는 코드입니다.\n",
    "# 아래 코드를 수정하여 토큰화(max_df) 10,15,20개보다 큰 단어 수 무시하기를 각각 설정하고,\n",
    "# 바로 아래 코드 블럭의 모델을 돌려 결과 값을 비교해보세요.\n",
    "\n",
    "import pandas as pd\n",
    "from sklearn.feature_extraction.text import CountVectorizer\n",
    "import konlpy\n",
    "from konlpy.tag import Okt\n",
    "\n",
    "# 데이터 로드\n",
    "df = pd.read_csv(\"https://raw.githubusercontent.com/e9t/nsmc/master/ratings_train.txt\", sep=\"\\t\")\n",
    "# 결측치 삭제\n",
    "df = df.dropna()\n",
    "# 피처 엔지니어링 (문장의 길이)\n",
    "df['len'] = df['document'].apply(len)\n",
    "# 데이터 샘플링\n",
    "df = df[:1000]\n",
    "# 토큰화\n",
    "tokenizer = Okt()\n",
    "# 머신러닝 모델 작동 확인\n",
    "from sklearn.ensemble import RandomForestClassifier\n",
    "from sklearn.model_selection import cross_val_score\n",
    "# 토큰화(max_df) 10개보다 큰 단어 수 무시하기\n",
    "vect_10 = CountVectorizer(tokenizer=tokenizer.morphs, max_df=10)\n",
    "vectors_10 = vect_10.fit_transform(df['document'])\n",
    "# 토큰화(max_df) 15개보다 큰 단어 수 무시하기\n",
    "vect_15 = CountVectorizer(tokenizer=tokenizer.morphs, max_df=15)\n",
    "vectors_15 = vect_15.fit_transform(df['document'])\n",
    "# 토큰화(max_df) 20개보다 큰 단어 수 무시하기\n",
    "vect_20 = CountVectorizer(tokenizer=tokenizer.morphs, max_df=20)\n",
    "vectors_20 = vect_20.fit_transform(df['document'])\n",
    "# 모델 돌리기(10개)\n",
    "model = RandomForestClassifier(random_state=2022)\n",
    "cvs_10 = cross_val_score(model, vectors_10, df['label'], scoring='f1', cv=5).mean()\n",
    "# 모델 돌리기(15개)\n",
    "model = RandomForestClassifier(random_state=2022)\n",
    "cvs_15 = cross_val_score(model, vectors_15, df['label'], scoring='f1', cv=5).mean()\n",
    "# 모델 돌리기(20개)\n",
    "model = RandomForestClassifier(random_state=2022)\n",
    "cvs_20 = cross_val_score(model, vectors_20, df['label'], scoring='f1', cv=5).mean()\n",
    "\n",
    "# Q. 결과값을 비교해 보세요.\n",
    "print(f'10개보다 큰 단어 수 무시하기 : {cvs_10}\\n'\n",
    "      f'15개보다 큰 단어 수 무시하기 : {cvs_15}\\n'\n",
    "      f'20개보다 큰 단어 수 무시하기 : {cvs_20}')"
   ],
   "metadata": {
    "collapsed": false,
    "ExecuteTime": {
     "end_time": "2023-07-17T18:34:26.832765Z",
     "start_time": "2023-07-17T18:34:07.759711Z"
    }
   }
  },
  {
   "cell_type": "code",
   "execution_count": null,
   "outputs": [],
   "source": [],
   "metadata": {
    "collapsed": false
   }
  },
  {
   "cell_type": "code",
   "execution_count": null,
   "outputs": [],
   "source": [],
   "metadata": {
    "collapsed": false
   }
  }
 ],
 "metadata": {
  "kernelspec": {
   "display_name": "Python 3",
   "language": "python",
   "name": "python3"
  },
  "language_info": {
   "codemirror_mode": {
    "name": "ipython",
    "version": 2
   },
   "file_extension": ".py",
   "mimetype": "text/x-python",
   "name": "python",
   "nbconvert_exporter": "python",
   "pygments_lexer": "ipython2",
   "version": "2.7.6"
  }
 },
 "nbformat": 4,
 "nbformat_minor": 0
}
