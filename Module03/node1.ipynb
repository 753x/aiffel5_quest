{
 "cells": [
  {
   "cell_type": "markdown",
   "source": [
    "1. 머신러닝이란? / 종류\n",
    "\n",
    "-지도학습은 레이블이 있다. 분류, 회귀\n",
    "\n",
    "분류는 이진분류, 다중분류가 있다.\n",
    "\n",
    "회귀는 연속된 숫자값을 예측한다. 집값, 수요 등등\n",
    "\n",
    "-비지도 학습은 레이블이 없지만 데이터를 통해 규칙을 찾는다. 군집을 통해 규칙을 확인. 군집화, 차원축소\n",
    "\n",
    "차원축소는 정말 많은 컬럼들을 축약해서 나타내는 형태\n",
    "\n",
    "-강화학습은 알파고, 환경을 통해 보상을 받아서 학습을 한다.\n",
    "\n",
    "2. 머신러닝이란2\n",
    "\n",
    "기존 룰베이스에 따라 규칙과 결과를 만들었다면\n",
    "\n",
    "데이터 및 해답을 머신러닝에 넣으면 규칙이 만들어지고 새로운 데이터가 오면 기존에 전문가의 규칙을 썼다면 머신러닝에서는 데이터를 통해 규칙을 만들어서 새로운 데이터를 예측한다.\n",
    "\n",
    "3. 과소적합 / 과대적합\n",
    "\n",
    "![](https://github.com/ralphpark/aiffel5_quest/blob/912201b7fb0be412e2d7866f296654accc24820b/Module03/%EC%8A%A4%ED%81%AC%EB%A6%B0%EC%83%B7%202023-07-10%20%EC%98%A4%EC%A0%84%2011.45.47.png)\n",
    "과소적합(Underfitting)은 모델이 학습 데이터와 테스트 데이터에서 모두 낮은 성능을 보이며, 데이터의 패턴을 충분히 학습하지 못한 상태를 의미합니다. 과대적합(Overfitting)은 모델이 학습 데이터에 지나치게 적응해 테스트 데이터에서 낮은 성능을 보이는 상태로, 일반화 능력이 떨어지는 현상을 의미합니다.\n"
   ],
   "metadata": {
    "collapsed": false
   }
  },
  {
   "cell_type": "markdown",
   "source": [],
   "metadata": {
    "collapsed": false
   }
  }
 ],
 "metadata": {
  "kernelspec": {
   "display_name": "Python 3",
   "language": "python",
   "name": "python3"
  },
  "language_info": {
   "codemirror_mode": {
    "name": "ipython",
    "version": 2
   },
   "file_extension": ".py",
   "mimetype": "text/x-python",
   "name": "python",
   "nbconvert_exporter": "python",
   "pygments_lexer": "ipython2",
   "version": "2.7.6"
  }
 },
 "nbformat": 4,
 "nbformat_minor": 0
}
