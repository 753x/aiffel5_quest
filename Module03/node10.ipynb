{
 "cells": [
  {
   "cell_type": "markdown",
   "source": [
    "# 10. 머신러닝 프로젝트\n",
    "\n",
    "Airbnb(New York City)\n",
    "- https://www.kaggle.com/dgomonov/new-york-city-airbnb-open-data\n",
    "\n",
    "미국 NYC Airbnb 목록(2019)\n",
    "\n",
    "프로젝트 목적: 가격 예측(price)\n",
    "\n",
    "제공 데이터(3개): train.csv, test.csv, y_test(최종 채점용)\n",
    "\n",
    "평가 방식: MSE (평균제곱오차/ 실제 값과 예측 값 차이 ->제곱해 평균)\n",
    "\n",
    "<참고> : 6. 지도학습(회귀) 노드의 6-8. 평가(회귀) 스텝에서 복습하실 수 있습니다.\n",
    "\n",
    "데이터 출처 바로가기 / License CC0: Public Domain\n"
   ],
   "metadata": {
    "collapsed": false
   }
  },
  {
   "cell_type": "code",
   "execution_count": 79,
   "outputs": [],
   "source": [
    "# 1. Baseline\n",
    "# 라이브러리\n",
    "import pandas as pd"
   ],
   "metadata": {
    "collapsed": false,
    "ExecuteTime": {
     "end_time": "2023-07-19T09:15:07.901296Z",
     "start_time": "2023-07-19T09:15:07.837249Z"
    }
   }
  },
  {
   "cell_type": "code",
   "execution_count": 80,
   "outputs": [],
   "source": [
    "# 데이터 불러오기\n",
    "train = pd.read_csv('train.csv')\n",
    "test = pd.read_csv('test1.csv')"
   ],
   "metadata": {
    "collapsed": false,
    "ExecuteTime": {
     "end_time": "2023-07-19T09:15:07.999449Z",
     "start_time": "2023-07-19T09:15:07.853850Z"
    }
   }
  },
  {
   "cell_type": "code",
   "execution_count": 81,
   "outputs": [
    {
     "data": {
      "text/plain": "((39116, 16), (9779, 15))"
     },
     "execution_count": 81,
     "metadata": {},
     "output_type": "execute_result"
    }
   ],
   "source": [
    "#2.2. EDA(탐색적 데이터 분석)\n",
    "# 데이터 크기\n",
    "train.shape, test.shape"
   ],
   "metadata": {
    "collapsed": false,
    "ExecuteTime": {
     "end_time": "2023-07-19T09:15:08.005600Z",
     "start_time": "2023-07-19T09:15:07.998045Z"
    }
   }
  },
  {
   "cell_type": "code",
   "execution_count": 82,
   "outputs": [
    {
     "data": {
      "text/plain": "         id                                            name   host_id  \\\n0  14963583          Room in South Harlem near Central Park  94219511   \n1   9458704  Large 1BR Apartment, near Times Sq (2nd Floor)  49015331   \n\n  host_name neighbourhood_group   neighbourhood  latitude  longitude  \\\n0    Gilles           Manhattan          Harlem  40.80167  -73.95781   \n1     Iradj           Manhattan  Hell's Kitchen  40.76037  -73.99016   \n\n         room_type  price  minimum_nights  number_of_reviews last_review  \\\n0     Private room     70               3                  3  2019-01-01   \n1  Entire home/apt    240               2                 64  2019-06-30   \n\n   reviews_per_month  calculated_host_listings_count  availability_365  \n0               0.09                               2                 0  \n1               1.68                               2               262  ",
      "text/html": "<div>\n<style scoped>\n    .dataframe tbody tr th:only-of-type {\n        vertical-align: middle;\n    }\n\n    .dataframe tbody tr th {\n        vertical-align: top;\n    }\n\n    .dataframe thead th {\n        text-align: right;\n    }\n</style>\n<table border=\"1\" class=\"dataframe\">\n  <thead>\n    <tr style=\"text-align: right;\">\n      <th></th>\n      <th>id</th>\n      <th>name</th>\n      <th>host_id</th>\n      <th>host_name</th>\n      <th>neighbourhood_group</th>\n      <th>neighbourhood</th>\n      <th>latitude</th>\n      <th>longitude</th>\n      <th>room_type</th>\n      <th>price</th>\n      <th>minimum_nights</th>\n      <th>number_of_reviews</th>\n      <th>last_review</th>\n      <th>reviews_per_month</th>\n      <th>calculated_host_listings_count</th>\n      <th>availability_365</th>\n    </tr>\n  </thead>\n  <tbody>\n    <tr>\n      <th>0</th>\n      <td>14963583</td>\n      <td>Room in South Harlem near Central Park</td>\n      <td>94219511</td>\n      <td>Gilles</td>\n      <td>Manhattan</td>\n      <td>Harlem</td>\n      <td>40.80167</td>\n      <td>-73.95781</td>\n      <td>Private room</td>\n      <td>70</td>\n      <td>3</td>\n      <td>3</td>\n      <td>2019-01-01</td>\n      <td>0.09</td>\n      <td>2</td>\n      <td>0</td>\n    </tr>\n    <tr>\n      <th>1</th>\n      <td>9458704</td>\n      <td>Large 1BR Apartment, near Times Sq (2nd Floor)</td>\n      <td>49015331</td>\n      <td>Iradj</td>\n      <td>Manhattan</td>\n      <td>Hell's Kitchen</td>\n      <td>40.76037</td>\n      <td>-73.99016</td>\n      <td>Entire home/apt</td>\n      <td>240</td>\n      <td>2</td>\n      <td>64</td>\n      <td>2019-06-30</td>\n      <td>1.68</td>\n      <td>2</td>\n      <td>262</td>\n    </tr>\n  </tbody>\n</table>\n</div>"
     },
     "metadata": {},
     "output_type": "display_data"
    },
    {
     "data": {
      "text/plain": "         id                                               name   host_id  \\\n0  30913224  Cozy and Sunny Room Williamsburg, Luxury Building  33771081   \n1    971247                   Sunny Artist Live/Work Apartment   5308961   \n\n  host_name neighbourhood_group    neighbourhood  latitude  longitude  \\\n0      Rémy            Brooklyn     Williamsburg  40.70959  -73.94652   \n1     Larry           Manhattan  Upper West Side  40.79368  -73.96487   \n\n         room_type  minimum_nights  number_of_reviews last_review  \\\n0     Private room               3                  2  2019-05-08   \n1  Entire home/apt               3                159  2019-07-03   \n\n   reviews_per_month  calculated_host_listings_count  availability_365  \n0               0.31                               1                 0  \n1               2.09                               1               244  ",
      "text/html": "<div>\n<style scoped>\n    .dataframe tbody tr th:only-of-type {\n        vertical-align: middle;\n    }\n\n    .dataframe tbody tr th {\n        vertical-align: top;\n    }\n\n    .dataframe thead th {\n        text-align: right;\n    }\n</style>\n<table border=\"1\" class=\"dataframe\">\n  <thead>\n    <tr style=\"text-align: right;\">\n      <th></th>\n      <th>id</th>\n      <th>name</th>\n      <th>host_id</th>\n      <th>host_name</th>\n      <th>neighbourhood_group</th>\n      <th>neighbourhood</th>\n      <th>latitude</th>\n      <th>longitude</th>\n      <th>room_type</th>\n      <th>minimum_nights</th>\n      <th>number_of_reviews</th>\n      <th>last_review</th>\n      <th>reviews_per_month</th>\n      <th>calculated_host_listings_count</th>\n      <th>availability_365</th>\n    </tr>\n  </thead>\n  <tbody>\n    <tr>\n      <th>0</th>\n      <td>30913224</td>\n      <td>Cozy and Sunny Room Williamsburg, Luxury Building</td>\n      <td>33771081</td>\n      <td>Rémy</td>\n      <td>Brooklyn</td>\n      <td>Williamsburg</td>\n      <td>40.70959</td>\n      <td>-73.94652</td>\n      <td>Private room</td>\n      <td>3</td>\n      <td>2</td>\n      <td>2019-05-08</td>\n      <td>0.31</td>\n      <td>1</td>\n      <td>0</td>\n    </tr>\n    <tr>\n      <th>1</th>\n      <td>971247</td>\n      <td>Sunny Artist Live/Work Apartment</td>\n      <td>5308961</td>\n      <td>Larry</td>\n      <td>Manhattan</td>\n      <td>Upper West Side</td>\n      <td>40.79368</td>\n      <td>-73.96487</td>\n      <td>Entire home/apt</td>\n      <td>3</td>\n      <td>159</td>\n      <td>2019-07-03</td>\n      <td>2.09</td>\n      <td>1</td>\n      <td>244</td>\n    </tr>\n  </tbody>\n</table>\n</div>"
     },
     "metadata": {},
     "output_type": "display_data"
    }
   ],
   "source": [
    "# 데이터 샘플\n",
    "display(train.head(2))\n",
    "display(test.head(2))"
   ],
   "metadata": {
    "collapsed": false,
    "ExecuteTime": {
     "end_time": "2023-07-19T09:15:08.062312Z",
     "start_time": "2023-07-19T09:15:08.014175Z"
    }
   }
  },
  {
   "cell_type": "code",
   "execution_count": 83,
   "outputs": [
    {
     "name": "stdout",
     "output_type": "stream",
     "text": [
      "<class 'pandas.core.frame.DataFrame'>\n",
      "RangeIndex: 39116 entries, 0 to 39115\n",
      "Data columns (total 16 columns):\n",
      " #   Column                          Non-Null Count  Dtype  \n",
      "---  ------                          --------------  -----  \n",
      " 0   id                              39116 non-null  int64  \n",
      " 1   name                            39104 non-null  object \n",
      " 2   host_id                         39116 non-null  int64  \n",
      " 3   host_name                       39099 non-null  object \n",
      " 4   neighbourhood_group             39116 non-null  object \n",
      " 5   neighbourhood                   39116 non-null  object \n",
      " 6   latitude                        39116 non-null  float64\n",
      " 7   longitude                       39116 non-null  float64\n",
      " 8   room_type                       39116 non-null  object \n",
      " 9   price                           39116 non-null  int64  \n",
      " 10  minimum_nights                  39116 non-null  int64  \n",
      " 11  number_of_reviews               39116 non-null  int64  \n",
      " 12  last_review                     31122 non-null  object \n",
      " 13  reviews_per_month               31122 non-null  float64\n",
      " 14  calculated_host_listings_count  39116 non-null  int64  \n",
      " 15  availability_365                39116 non-null  int64  \n",
      "dtypes: float64(3), int64(7), object(6)\n",
      "memory usage: 4.8+ MB\n"
     ]
    }
   ],
   "source": [
    "# 데이터 타입\n",
    "train.info()"
   ],
   "metadata": {
    "collapsed": false,
    "ExecuteTime": {
     "end_time": "2023-07-19T09:15:08.064327Z",
     "start_time": "2023-07-19T09:15:08.027498Z"
    }
   }
  },
  {
   "cell_type": "code",
   "execution_count": 84,
   "outputs": [
    {
     "data": {
      "text/plain": "id                                   0\nname                                12\nhost_id                              0\nhost_name                           17\nneighbourhood_group                  0\nneighbourhood                        0\nlatitude                             0\nlongitude                            0\nroom_type                            0\nprice                                0\nminimum_nights                       0\nnumber_of_reviews                    0\nlast_review                       7994\nreviews_per_month                 7994\ncalculated_host_listings_count       0\navailability_365                     0\ndtype: int64"
     },
     "execution_count": 84,
     "metadata": {},
     "output_type": "execute_result"
    }
   ],
   "source": [
    "# 결측치(train)\n",
    "train.isnull().sum()"
   ],
   "metadata": {
    "collapsed": false,
    "ExecuteTime": {
     "end_time": "2023-07-19T09:15:08.141800Z",
     "start_time": "2023-07-19T09:15:08.056135Z"
    }
   }
  },
  {
   "cell_type": "code",
   "execution_count": 85,
   "outputs": [
    {
     "data": {
      "text/plain": "id                                   0\nname                                 4\nhost_id                              0\nhost_name                            4\nneighbourhood_group                  0\nneighbourhood                        0\nlatitude                             0\nlongitude                            0\nroom_type                            0\nminimum_nights                       0\nnumber_of_reviews                    0\nlast_review                       2058\nreviews_per_month                 2058\ncalculated_host_listings_count       0\navailability_365                     0\ndtype: int64"
     },
     "execution_count": 85,
     "metadata": {},
     "output_type": "execute_result"
    }
   ],
   "source": [
    "# 결측치(test)\n",
    "test.isnull().sum()"
   ],
   "metadata": {
    "collapsed": false,
    "ExecuteTime": {
     "end_time": "2023-07-19T09:15:08.146069Z",
     "start_time": "2023-07-19T09:15:08.082738Z"
    }
   }
  },
  {
   "cell_type": "code",
   "execution_count": 86,
   "outputs": [
    {
     "data": {
      "text/plain": "<Axes: >"
     },
     "execution_count": 86,
     "metadata": {},
     "output_type": "execute_result"
    },
    {
     "data": {
      "text/plain": "<Figure size 640x480 with 1 Axes>",
      "image/png": "[encoded data removed]"
     },
     "metadata": {},
     "output_type": "display_data"
    }
   ],
   "source": [
    "# target(hist)\n",
    "train['price'].hist(bins=100)"
   ],
   "metadata": {
    "collapsed": false,
    "ExecuteTime": {
     "end_time": "2023-07-19T09:15:08.583964Z",
     "start_time": "2023-07-19T09:15:08.094360Z"
    }
   }
  },
  {
   "cell_type": "code",
   "execution_count": 87,
   "outputs": [
    {
     "data": {
      "text/plain": "count    39116.000000\nmean       152.751150\nstd        241.752501\nmin          0.000000\n25%         69.000000\n50%        105.000000\n75%        175.000000\nmax      10000.000000\nName: price, dtype: float64"
     },
     "execution_count": 87,
     "metadata": {},
     "output_type": "execute_result"
    }
   ],
   "source": [
    "# target(describe)\n",
    "train['price'].describe()"
   ],
   "metadata": {
    "collapsed": false,
    "ExecuteTime": {
     "end_time": "2023-07-19T09:15:08.584645Z",
     "start_time": "2023-07-19T09:15:08.583785Z"
    }
   }
  },
  {
   "cell_type": "code",
   "execution_count": 88,
   "outputs": [
    {
     "data": {
      "text/plain": "219517861    256\n107434423    181\n30283594      99\n137358866     82\n12243051      80\n            ... \n73369106       1\n26620387       1\n176660539      1\n26004891       1\n2609535        1\nName: host_id, Length: 30845, dtype: int64"
     },
     "execution_count": 88,
     "metadata": {},
     "output_type": "execute_result"
    }
   ],
   "source": [
    "# 피처(host_id)\n",
    "train['host_id'].value_counts()"
   ],
   "metadata": {
    "collapsed": false,
    "ExecuteTime": {
     "end_time": "2023-07-19T09:15:08.589932Z",
     "start_time": "2023-07-19T09:15:08.584116Z"
    }
   }
  },
  {
   "cell_type": "code",
   "execution_count": 89,
   "outputs": [],
   "source": [
    "#3. 데이터 전처리\n",
    "# 데이터를 살펴보고 판단하여 결측치 및 이상치를 처리"
   ],
   "metadata": {
    "collapsed": false,
    "ExecuteTime": {
     "end_time": "2023-07-19T09:15:08.591561Z",
     "start_time": "2023-07-19T09:15:08.588025Z"
    }
   }
  },
  {
   "cell_type": "code",
   "execution_count": 90,
   "outputs": [],
   "source": [
    "# 결측치 컬럼 삭제(last_review)\n",
    "train.drop('last_review', axis=1, inplace=True)\n",
    "test.drop('last_review', axis=1, inplace=True)"
   ],
   "metadata": {
    "collapsed": false,
    "ExecuteTime": {
     "end_time": "2023-07-19T09:15:08.669533Z",
     "start_time": "2023-07-19T09:15:08.594131Z"
    }
   }
  },
  {
   "cell_type": "code",
   "execution_count": 91,
   "outputs": [],
   "source": [
    "# 결측치 채우기\n",
    "train['reviews_per_month'].fillna(0, inplace=True)\n",
    "train['name'].fillna(0, inplace=True)\n",
    "train['host_name'].fillna(0, inplace=True)\n",
    "test['reviews_per_month'].fillna(0, inplace=True)\n",
    "test['name'].fillna(0, inplace=True)\n",
    "test['host_name'].fillna(0, inplace=True)"
   ],
   "metadata": {
    "collapsed": false,
    "ExecuteTime": {
     "end_time": "2023-07-19T09:15:08.669962Z",
     "start_time": "2023-07-19T09:15:08.627348Z"
    }
   }
  },
  {
   "cell_type": "code",
   "execution_count": 92,
   "outputs": [
    {
     "data": {
      "text/plain": "id                                0\nname                              0\nhost_id                           0\nhost_name                         0\nneighbourhood_group               0\nneighbourhood                     0\nlatitude                          0\nlongitude                         0\nroom_type                         0\nprice                             0\nminimum_nights                    0\nnumber_of_reviews                 0\nreviews_per_month                 0\ncalculated_host_listings_count    0\navailability_365                  0\ndtype: int64"
     },
     "execution_count": 92,
     "metadata": {},
     "output_type": "execute_result"
    }
   ],
   "source": [
    "# 결측치 확인\n",
    "train.isnull().sum()"
   ],
   "metadata": {
    "collapsed": false,
    "ExecuteTime": {
     "end_time": "2023-07-19T09:15:08.681579Z",
     "start_time": "2023-07-19T09:15:08.671075Z"
    }
   }
  },
  {
   "cell_type": "code",
   "execution_count": 93,
   "outputs": [
    {
     "data": {
      "text/plain": "id                                0\nname                              0\nhost_id                           0\nhost_name                         0\nneighbourhood_group               0\nneighbourhood                     0\nlatitude                          0\nlongitude                         0\nroom_type                         0\nminimum_nights                    0\nnumber_of_reviews                 0\nreviews_per_month                 0\ncalculated_host_listings_count    0\navailability_365                  0\ndtype: int64"
     },
     "execution_count": 93,
     "metadata": {},
     "output_type": "execute_result"
    }
   ],
   "source": [
    "test.isnull().sum()"
   ],
   "metadata": {
    "collapsed": false,
    "ExecuteTime": {
     "end_time": "2023-07-19T09:15:08.691686Z",
     "start_time": "2023-07-19T09:15:08.683845Z"
    }
   }
  },
  {
   "cell_type": "code",
   "execution_count": 94,
   "outputs": [],
   "source": [
    "# 가격 값 복사\n",
    "train['price_copy'] = train['price'].copy()"
   ],
   "metadata": {
    "collapsed": false,
    "ExecuteTime": {
     "end_time": "2023-07-19T09:15:08.717059Z",
     "start_time": "2023-07-19T09:15:08.692218Z"
    }
   }
  },
  {
   "cell_type": "code",
   "execution_count": 95,
   "outputs": [],
   "source": [
    "# 수치형 피처 선택\n",
    "numerical_features = train.dtypes[train.dtypes != 'object'].index"
   ],
   "metadata": {
    "collapsed": false,
    "ExecuteTime": {
     "end_time": "2023-07-19T09:15:08.717411Z",
     "start_time": "2023-07-19T09:15:08.698544Z"
    }
   }
  },
  {
   "cell_type": "code",
   "execution_count": 96,
   "outputs": [],
   "source": [
    "# 4. 검증 데이터 분리\n",
    "# Train 데이터로 학습(훈련), Validation(검증용) 데이터로 예측 성능 평가\n",
    "X_train = train.drop('price_copy', axis=1)\n",
    "y_train = train['price_copy']\n",
    "# test 데이터에서 입력은 전체 컬럼, 출력은 존재하지 않음\n"
   ],
   "metadata": {
    "collapsed": false,
    "ExecuteTime": {
     "end_time": "2023-07-19T09:15:08.717511Z",
     "start_time": "2023-07-19T09:15:08.708865Z"
    }
   }
  },
  {
   "cell_type": "code",
   "execution_count": 97,
   "outputs": [
    {
     "ename": "NotFittedError",
     "evalue": "This LinearRegression instance is not fitted yet. Call 'fit' with appropriate arguments before using this estimator.",
     "output_type": "error",
     "traceback": [
      "\u001B[0;31m---------------------------------------------------------------------------\u001B[0m",
      "\u001B[0;31mNotFittedError\u001B[0m                            Traceback (most recent call last)",
      "Cell \u001B[0;32mIn[97], line 12\u001B[0m\n\u001B[1;32m     10\u001B[0m X_test \u001B[38;5;241m=\u001B[39m test\n\u001B[1;32m     11\u001B[0m \u001B[38;5;66;03m# 모델 학습 후, 예측 결과로만 출력(y_test) 구성\u001B[39;00m\n\u001B[0;32m---> 12\u001B[0m y_test \u001B[38;5;241m=\u001B[39m \u001B[43mmodel\u001B[49m\u001B[38;5;241;43m.\u001B[39;49m\u001B[43mpredict\u001B[49m\u001B[43m(\u001B[49m\u001B[43mX_test\u001B[49m\u001B[43m)\u001B[49m\n\u001B[1;32m     13\u001B[0m model\u001B[38;5;241m.\u001B[39mfit(X_train, y_train)\n\u001B[1;32m     14\u001B[0m pred \u001B[38;5;241m=\u001B[39m model\u001B[38;5;241m.\u001B[39mpredict(X_valid)\n",
      "File \u001B[0;32m~/anaconda3/lib/python3.10/site-packages/sklearn/linear_model/_base.py:354\u001B[0m, in \u001B[0;36mLinearModel.predict\u001B[0;34m(self, X)\u001B[0m\n\u001B[1;32m    340\u001B[0m \u001B[38;5;28;01mdef\u001B[39;00m \u001B[38;5;21mpredict\u001B[39m(\u001B[38;5;28mself\u001B[39m, X):\n\u001B[1;32m    341\u001B[0m     \u001B[38;5;124;03m\"\"\"\u001B[39;00m\n\u001B[1;32m    342\u001B[0m \u001B[38;5;124;03m    Predict using the linear model.\u001B[39;00m\n\u001B[1;32m    343\u001B[0m \n\u001B[0;32m   (...)\u001B[0m\n\u001B[1;32m    352\u001B[0m \u001B[38;5;124;03m        Returns predicted values.\u001B[39;00m\n\u001B[1;32m    353\u001B[0m \u001B[38;5;124;03m    \"\"\"\u001B[39;00m\n\u001B[0;32m--> 354\u001B[0m     \u001B[38;5;28;01mreturn\u001B[39;00m \u001B[38;5;28;43mself\u001B[39;49m\u001B[38;5;241;43m.\u001B[39;49m\u001B[43m_decision_function\u001B[49m\u001B[43m(\u001B[49m\u001B[43mX\u001B[49m\u001B[43m)\u001B[49m\n",
      "File \u001B[0;32m~/anaconda3/lib/python3.10/site-packages/sklearn/linear_model/_base.py:335\u001B[0m, in \u001B[0;36mLinearModel._decision_function\u001B[0;34m(self, X)\u001B[0m\n\u001B[1;32m    334\u001B[0m \u001B[38;5;28;01mdef\u001B[39;00m \u001B[38;5;21m_decision_function\u001B[39m(\u001B[38;5;28mself\u001B[39m, X):\n\u001B[0;32m--> 335\u001B[0m     \u001B[43mcheck_is_fitted\u001B[49m\u001B[43m(\u001B[49m\u001B[38;5;28;43mself\u001B[39;49m\u001B[43m)\u001B[49m\n\u001B[1;32m    337\u001B[0m     X \u001B[38;5;241m=\u001B[39m \u001B[38;5;28mself\u001B[39m\u001B[38;5;241m.\u001B[39m_validate_data(X, accept_sparse\u001B[38;5;241m=\u001B[39m[\u001B[38;5;124m\"\u001B[39m\u001B[38;5;124mcsr\u001B[39m\u001B[38;5;124m\"\u001B[39m, \u001B[38;5;124m\"\u001B[39m\u001B[38;5;124mcsc\u001B[39m\u001B[38;5;124m\"\u001B[39m, \u001B[38;5;124m\"\u001B[39m\u001B[38;5;124mcoo\u001B[39m\u001B[38;5;124m\"\u001B[39m], reset\u001B[38;5;241m=\u001B[39m\u001B[38;5;28;01mFalse\u001B[39;00m)\n\u001B[1;32m    338\u001B[0m     \u001B[38;5;28;01mreturn\u001B[39;00m safe_sparse_dot(X, \u001B[38;5;28mself\u001B[39m\u001B[38;5;241m.\u001B[39mcoef_\u001B[38;5;241m.\u001B[39mT, dense_output\u001B[38;5;241m=\u001B[39m\u001B[38;5;28;01mTrue\u001B[39;00m) \u001B[38;5;241m+\u001B[39m \u001B[38;5;28mself\u001B[39m\u001B[38;5;241m.\u001B[39mintercept_\n",
      "File \u001B[0;32m~/anaconda3/lib/python3.10/site-packages/sklearn/utils/validation.py:1390\u001B[0m, in \u001B[0;36mcheck_is_fitted\u001B[0;34m(estimator, attributes, msg, all_or_any)\u001B[0m\n\u001B[1;32m   1385\u001B[0m     fitted \u001B[38;5;241m=\u001B[39m [\n\u001B[1;32m   1386\u001B[0m         v \u001B[38;5;28;01mfor\u001B[39;00m v \u001B[38;5;129;01min\u001B[39;00m \u001B[38;5;28mvars\u001B[39m(estimator) \u001B[38;5;28;01mif\u001B[39;00m v\u001B[38;5;241m.\u001B[39mendswith(\u001B[38;5;124m\"\u001B[39m\u001B[38;5;124m_\u001B[39m\u001B[38;5;124m\"\u001B[39m) \u001B[38;5;129;01mand\u001B[39;00m \u001B[38;5;129;01mnot\u001B[39;00m v\u001B[38;5;241m.\u001B[39mstartswith(\u001B[38;5;124m\"\u001B[39m\u001B[38;5;124m__\u001B[39m\u001B[38;5;124m\"\u001B[39m)\n\u001B[1;32m   1387\u001B[0m     ]\n\u001B[1;32m   1389\u001B[0m \u001B[38;5;28;01mif\u001B[39;00m \u001B[38;5;129;01mnot\u001B[39;00m fitted:\n\u001B[0;32m-> 1390\u001B[0m     \u001B[38;5;28;01mraise\u001B[39;00m NotFittedError(msg \u001B[38;5;241m%\u001B[39m {\u001B[38;5;124m\"\u001B[39m\u001B[38;5;124mname\u001B[39m\u001B[38;5;124m\"\u001B[39m: \u001B[38;5;28mtype\u001B[39m(estimator)\u001B[38;5;241m.\u001B[39m\u001B[38;5;18m__name__\u001B[39m})\n",
      "\u001B[0;31mNotFittedError\u001B[0m: This LinearRegression instance is not fitted yet. Call 'fit' with appropriate arguments before using this estimator."
     ]
    }
   ],
   "source": [
    "# 5. 머신러닝\n",
    "# <참고> : 6. 지도학습(회귀) 노드에서 프로젝트에 활용된 회귀 모델을 복습하실 수 있습니다.\n",
    "# 머신러닝(회귀)\n",
    "from sklearn.linear_model import LinearRegression\n",
    "from sklearn.tree import DecisionTreeRegressor\n",
    "from sklearn.ensemble import RandomForestRegressor\n",
    "from sklearn.metrics import mean_squared_error\n",
    "model = LinearRegression()\n",
    "\n",
    "X_test = test\n",
    "# 모델 학습 후, 예측 결과로만 출력(y_test) 구성\n",
    "y_test = model.predict(X_test)\n",
    "model.fit(X_train, y_train)\n",
    "pred = model.predict(X_valid)\n",
    "print(accuracy_score(y_valid, pred))"
   ],
   "metadata": {
    "collapsed": false,
    "ExecuteTime": {
     "end_time": "2023-07-19T09:15:08.746956Z",
     "start_time": "2023-07-19T09:15:08.740974Z"
    }
   }
  },
  {
   "cell_type": "code",
   "execution_count": null,
   "outputs": [],
   "source": [],
   "metadata": {
    "collapsed": false,
    "ExecuteTime": {
     "start_time": "2023-07-19T09:15:08.745158Z"
    }
   }
  }
 ],
 "metadata": {
  "kernelspec": {
   "display_name": "Python 3",
   "language": "python",
   "name": "python3"
  },
  "language_info": {
   "codemirror_mode": {
    "name": "ipython",
    "version": 2
   },
   "file_extension": ".py",
   "mimetype": "text/x-python",
   "name": "python",
   "nbconvert_exporter": "python",
   "pygments_lexer": "ipython2",
   "version": "2.7.6"
  }
 },
 "nbformat": 4,
 "nbformat_minor": 0
}
