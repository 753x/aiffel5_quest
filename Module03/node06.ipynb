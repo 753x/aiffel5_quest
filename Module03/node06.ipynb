{
 "cells": [
  {
   "cell_type": "markdown",
   "source": [
    "# 6. 지도학습(회귀)\n",
    "\n",
    "## 1. 선형 회귀\n",
    "\n",
    "선형 회귀\n",
    "\n",
    "- 단순 선형 회귀 : 독립변수가 1개인 선형 회귀\n",
    "\n",
    "- 다중 선형 회귀 : 독립변수가 2개 이상인 선형 회귀\n",
    "\n",
    "비용함수(cost function)\n",
    "\n",
    "-손실함수(loss function), 목적함수(objective function)\n",
    "\n",
    "- 오차(error) : 실제값과 예측값의 차이\n",
    "\n",
    "-평균 제곱 오차를 최소화 하는 파라미터를 찾음\n",
    "\n",
    "![](./img_12.png)\n",
    "\n",
    "실제값과 예측값의 거리를 찾음 거리가 가까울수록 좋음\n",
    "\n",
    "경사하강법(Gradient Descent)\n",
    "\n",
    "- 경사하강법을 활용해 최소 에러값을 찾음\n",
    "\n",
    "![](./img_13.png)"
   ],
   "metadata": {
    "collapsed": false
   }
  },
  {
   "cell_type": "code",
   "execution_count": 1,
   "outputs": [],
   "source": [
    "#라이브러리 불러오기\n",
    "\n",
    "import pandas as pd\n",
    "from sklearn.model_selection import train_test_split\n",
    "from sklearn.metrics import mean_squared_error"
   ],
   "metadata": {
    "collapsed": false,
    "ExecuteTime": {
     "end_time": "2023-07-13T07:01:10.291531Z",
     "start_time": "2023-07-13T07:01:09.217017Z"
    }
   }
  },
  {
   "cell_type": "code",
   "execution_count": 2,
   "outputs": [
    {
     "data": {
      "text/plain": "((353, 10), (89, 10), (353,), (89,))"
     },
     "execution_count": 2,
     "metadata": {},
     "output_type": "execute_result"
    }
   ],
   "source": [
    "#데이터 불러오기\n",
    "#데이터 생성\n",
    "\n",
    "from sklearn.datasets import load_diabetes #당뇨병 데이터셋 불러오기\n",
    "\n",
    "def make_dataset():\n",
    "    dataset = load_diabetes()\n",
    "    df = pd.DataFrame(dataset.data, columns=dataset.feature_names)\n",
    "    df['target'] = dataset.target\n",
    "    X_train, X_test, y_train, y_test = train_test_split(\n",
    "        df.drop('target', axis=1), df['target'], test_size=0.2, random_state=1004)\n",
    "    return X_train, X_test, y_train, y_test\n",
    "\n",
    "X_train, X_test, y_train, y_test = make_dataset()\n",
    "X_train.shape, X_test.shape, y_train.shape, y_test.shape"
   ],
   "metadata": {
    "collapsed": false,
    "ExecuteTime": {
     "end_time": "2023-07-13T07:02:15.038206Z",
     "start_time": "2023-07-13T07:02:14.925669Z"
    }
   }
  },
  {
   "cell_type": "code",
   "execution_count": null,
   "outputs": [],
   "source": [],
   "metadata": {
    "collapsed": false
   }
  }
 ],
 "metadata": {
  "kernelspec": {
   "display_name": "Python 3",
   "language": "python",
   "name": "python3"
  },
  "language_info": {
   "codemirror_mode": {
    "name": "ipython",
    "version": 2
   },
   "file_extension": ".py",
   "mimetype": "text/x-python",
   "name": "python",
   "nbconvert_exporter": "python",
   "pygments_lexer": "ipython2",
   "version": "2.7.6"
  }
 },
 "nbformat": 4,
 "nbformat_minor": 0
}
