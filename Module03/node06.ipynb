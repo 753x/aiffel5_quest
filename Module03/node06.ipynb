{
 "cells": [
  {
   "cell_type": "markdown",
   "source": [
    "# 6. 지도학습(회귀)\n",
    "\n",
    "## 1. 선형 회귀\n",
    "\n",
    "선형 회귀\n",
    "\n",
    "- 단순 선형 회귀 : 독립변수가 1개인 선형 회귀\n",
    "\n",
    "- 다중 선형 회귀 : 독립변수가 2개 이상인 선형 회귀\n",
    "\n",
    "비용함수(cost function)\n",
    "\n",
    "-손실함수(loss function), 목적함수(objective function)\n",
    "\n",
    "- 오차(error) : 실제값과 예측값의 차이\n",
    "\n",
    "-평균 제곱 오차를 최소화 하는 파라미터를 찾음\n",
    "\n",
    "![](./img_12.png)\n",
    "\n",
    "실제값과 예측값의 거리를 찾음 거리가 가까울수록 좋음\n",
    "\n",
    "경사하강법(Gradient Descent)\n",
    "\n",
    "- 경사하강법을 활용해 최소 에러값을 찾음\n",
    "\n",
    "![](./img_13.png)"
   ],
   "metadata": {
    "collapsed": false
   }
  },
  {
   "cell_type": "code",
   "execution_count": 1,
   "outputs": [],
   "source": [
    "#라이브러리 불러오기\n",
    "\n",
    "import pandas as pd\n",
    "from sklearn.model_selection import train_test_split\n",
    "from sklearn.metrics import mean_squared_error"
   ],
   "metadata": {
    "collapsed": false,
    "ExecuteTime": {
     "end_time": "2023-07-13T07:01:10.291531Z",
     "start_time": "2023-07-13T07:01:09.217017Z"
    }
   }
  },
  {
   "cell_type": "code",
   "execution_count": 2,
   "outputs": [
    {
     "data": {
      "text/plain": "((353, 10), (89, 10), (353,), (89,))"
     },
     "execution_count": 2,
     "metadata": {},
     "output_type": "execute_result"
    }
   ],
   "source": [
    "#데이터 불러오기\n",
    "#데이터 생성\n",
    "\n",
    "from sklearn.datasets import load_diabetes #당뇨병 데이터셋 불러오기\n",
    "\n",
    "def make_dataset():\n",
    "    dataset = load_diabetes()\n",
    "    df = pd.DataFrame(dataset.data, columns=dataset.feature_names)\n",
    "    df['target'] = dataset.target\n",
    "    X_train, X_test, y_train, y_test = train_test_split(\n",
    "        df.drop('target', axis=1), df['target'], test_size=0.2, random_state=1004)\n",
    "    return X_train, X_test, y_train, y_test\n",
    "\n",
    "X_train, X_test, y_train, y_test = make_dataset()\n",
    "X_train.shape, X_test.shape, y_train.shape, y_test.shape"
   ],
   "metadata": {
    "collapsed": false,
    "ExecuteTime": {
     "end_time": "2023-07-13T07:02:15.038206Z",
     "start_time": "2023-07-13T07:02:14.925669Z"
    }
   }
  },
  {
   "cell_type": "code",
   "execution_count": 3,
   "outputs": [
    {
     "data": {
      "text/plain": "          age       sex       bmi        bp        s1        s2        s3  \\\n152 -0.034575  0.050680 -0.000817  0.070072  0.039710  0.066952 -0.065491   \n417 -0.052738 -0.044642  0.071397 -0.074527 -0.015328 -0.001314  0.004460   \n172  0.041708  0.050680  0.071397  0.008101  0.038334  0.015909 -0.017629   \n438 -0.005515  0.050680 -0.015906 -0.067642  0.049341  0.079165 -0.028674   \n296  0.067136 -0.044642 -0.061174 -0.040099 -0.026336 -0.024487  0.033914   \n\n           s4        s5        s6  \n152  0.108111  0.026717  0.073480  \n417 -0.021412 -0.046883  0.003064  \n172  0.034309  0.073407  0.085907  \n438  0.034309 -0.018114  0.044485  \n296 -0.039493 -0.056153 -0.059067  ",
      "text/html": "<div>\n<style scoped>\n    .dataframe tbody tr th:only-of-type {\n        vertical-align: middle;\n    }\n\n    .dataframe tbody tr th {\n        vertical-align: top;\n    }\n\n    .dataframe thead th {\n        text-align: right;\n    }\n</style>\n<table border=\"1\" class=\"dataframe\">\n  <thead>\n    <tr style=\"text-align: right;\">\n      <th></th>\n      <th>age</th>\n      <th>sex</th>\n      <th>bmi</th>\n      <th>bp</th>\n      <th>s1</th>\n      <th>s2</th>\n      <th>s3</th>\n      <th>s4</th>\n      <th>s5</th>\n      <th>s6</th>\n    </tr>\n  </thead>\n  <tbody>\n    <tr>\n      <th>152</th>\n      <td>-0.034575</td>\n      <td>0.050680</td>\n      <td>-0.000817</td>\n      <td>0.070072</td>\n      <td>0.039710</td>\n      <td>0.066952</td>\n      <td>-0.065491</td>\n      <td>0.108111</td>\n      <td>0.026717</td>\n      <td>0.073480</td>\n    </tr>\n    <tr>\n      <th>417</th>\n      <td>-0.052738</td>\n      <td>-0.044642</td>\n      <td>0.071397</td>\n      <td>-0.074527</td>\n      <td>-0.015328</td>\n      <td>-0.001314</td>\n      <td>0.004460</td>\n      <td>-0.021412</td>\n      <td>-0.046883</td>\n      <td>0.003064</td>\n    </tr>\n    <tr>\n      <th>172</th>\n      <td>0.041708</td>\n      <td>0.050680</td>\n      <td>0.071397</td>\n      <td>0.008101</td>\n      <td>0.038334</td>\n      <td>0.015909</td>\n      <td>-0.017629</td>\n      <td>0.034309</td>\n      <td>0.073407</td>\n      <td>0.085907</td>\n    </tr>\n    <tr>\n      <th>438</th>\n      <td>-0.005515</td>\n      <td>0.050680</td>\n      <td>-0.015906</td>\n      <td>-0.067642</td>\n      <td>0.049341</td>\n      <td>0.079165</td>\n      <td>-0.028674</td>\n      <td>0.034309</td>\n      <td>-0.018114</td>\n      <td>0.044485</td>\n    </tr>\n    <tr>\n      <th>296</th>\n      <td>0.067136</td>\n      <td>-0.044642</td>\n      <td>-0.061174</td>\n      <td>-0.040099</td>\n      <td>-0.026336</td>\n      <td>-0.024487</td>\n      <td>0.033914</td>\n      <td>-0.039493</td>\n      <td>-0.056153</td>\n      <td>-0.059067</td>\n    </tr>\n  </tbody>\n</table>\n</div>"
     },
     "execution_count": 3,
     "metadata": {},
     "output_type": "execute_result"
    }
   ],
   "source": [
    "#train sample\n",
    "X_train.head()"
   ],
   "metadata": {
    "collapsed": false,
    "ExecuteTime": {
     "end_time": "2023-07-13T07:03:26.844809Z",
     "start_time": "2023-07-13T07:03:26.831255Z"
    }
   }
  },
  {
   "cell_type": "code",
   "execution_count": 4,
   "outputs": [
    {
     "data": {
      "text/plain": "152    292.0\n417     55.0\n172    295.0\n438    104.0\n296     89.0\nName: target, dtype: float64"
     },
     "execution_count": 4,
     "metadata": {},
     "output_type": "execute_result"
    }
   ],
   "source": [
    "#타겟 샘플\n",
    "y_train.head()"
   ],
   "metadata": {
    "collapsed": false,
    "ExecuteTime": {
     "end_time": "2023-07-13T07:03:50.437737Z",
     "start_time": "2023-07-13T07:03:50.432440Z"
    }
   }
  },
  {
   "cell_type": "code",
   "execution_count": 5,
   "outputs": [
    {
     "data": {
      "text/plain": "<Axes: >"
     },
     "execution_count": 5,
     "metadata": {},
     "output_type": "execute_result"
    },
    {
     "data": {
      "text/plain": "<Figure size 640x480 with 1 Axes>",
      "image/png": "[encoded data removed]"
     },
     "metadata": {},
     "output_type": "display_data"
    }
   ],
   "source": [
    "#타겟 확인\n",
    "y_train.hist()"
   ],
   "metadata": {
    "collapsed": false,
    "ExecuteTime": {
     "end_time": "2023-07-13T07:04:14.437620Z",
     "start_time": "2023-07-13T07:04:13.645279Z"
    }
   }
  },
  {
   "cell_type": "code",
   "execution_count": 9,
   "outputs": [
    {
     "data": {
      "text/plain": "2707.6318521641574"
     },
     "execution_count": 9,
     "metadata": {},
     "output_type": "execute_result"
    }
   ],
   "source": [
    "#선형 회귀 모델 생성\n",
    "from sklearn.linear_model import LinearRegression\n",
    "model = LinearRegression()\n",
    "model.fit(X_train, y_train)\n",
    "model.predict(X_test)\n",
    "mean_squared_error(y_test, model.predict(X_test))"
   ],
   "metadata": {
    "collapsed": false,
    "ExecuteTime": {
     "end_time": "2023-07-13T07:07:55.886741Z",
     "start_time": "2023-07-13T07:07:55.880192Z"
    }
   }
  },
  {
   "cell_type": "markdown",
   "source": [
    "## 2. 릿지회귀\n",
    "\n",
    "회귀를 위한 선형 모델\n",
    "\n",
    "규제(Regularization) 적용\n",
    "\n",
    "- 오버피팅이 되지 않도록 함\n",
    "\n",
    "- 규제방식 : L2 규제\n",
    "\n",
    "- 파라미터(Alpha) 값을 활용해 조절\n",
    "\n",
    "- Alpha 값이 커질수록 회귀 계수 값을 작게 만듬\n",
    "\n",
    "![](./img_14.png)"
   ],
   "metadata": {
    "collapsed": false
   }
  },
  {
   "cell_type": "code",
   "execution_count": 12,
   "outputs": [
    {
     "data": {
      "text/plain": "3522.1191842072667"
     },
     "execution_count": 12,
     "metadata": {},
     "output_type": "execute_result"
    }
   ],
   "source": [
    "# 릿지회귀\n",
    "from sklearn.linear_model import Ridge\n",
    "model = Ridge(alpha=1)\n",
    "model.fit(X_train, y_train)\n",
    "model.predict(X_test)\n",
    "mean_squared_error(y_test, model.predict(X_test))\n",
    "\n",
    "# 오차가 더 커졌다는 것은 더 좋지 않은 모델이라는 의미"
   ],
   "metadata": {
    "collapsed": false,
    "ExecuteTime": {
     "end_time": "2023-07-13T07:15:26.850762Z",
     "start_time": "2023-07-13T07:15:26.840391Z"
    }
   }
  },
  {
   "cell_type": "code",
   "execution_count": 16,
   "outputs": [
    {
     "data": {
      "text/plain": "        alpha=1\nage   31.293421\nsex  -71.448655\nbmi  267.605962\nbp   197.362492\ns1    14.613257\ns2   -13.884237\ns3  -124.649836\ns4   106.212967\ns5   221.068493\ns6   101.202546",
      "text/html": "<div>\n<style scoped>\n    .dataframe tbody tr th:only-of-type {\n        vertical-align: middle;\n    }\n\n    .dataframe tbody tr th {\n        vertical-align: top;\n    }\n\n    .dataframe thead th {\n        text-align: right;\n    }\n</style>\n<table border=\"1\" class=\"dataframe\">\n  <thead>\n    <tr style=\"text-align: right;\">\n      <th></th>\n      <th>alpha=1</th>\n    </tr>\n  </thead>\n  <tbody>\n    <tr>\n      <th>age</th>\n      <td>31.293421</td>\n    </tr>\n    <tr>\n      <th>sex</th>\n      <td>-71.448655</td>\n    </tr>\n    <tr>\n      <th>bmi</th>\n      <td>267.605962</td>\n    </tr>\n    <tr>\n      <th>bp</th>\n      <td>197.362492</td>\n    </tr>\n    <tr>\n      <th>s1</th>\n      <td>14.613257</td>\n    </tr>\n    <tr>\n      <th>s2</th>\n      <td>-13.884237</td>\n    </tr>\n    <tr>\n      <th>s3</th>\n      <td>-124.649836</td>\n    </tr>\n    <tr>\n      <th>s4</th>\n      <td>106.212967</td>\n    </tr>\n    <tr>\n      <th>s5</th>\n      <td>221.068493</td>\n    </tr>\n    <tr>\n      <th>s6</th>\n      <td>101.202546</td>\n    </tr>\n  </tbody>\n</table>\n</div>"
     },
     "execution_count": 16,
     "metadata": {},
     "output_type": "execute_result"
    }
   ],
   "source": [
    "# 회귀 계수\n",
    "coef = pd.DataFrame(model.coef_, index=X_train.columns, columns=['alpha=1'])\n",
    "coef"
   ],
   "metadata": {
    "collapsed": false,
    "ExecuteTime": {
     "end_time": "2023-07-13T07:17:39.774234Z",
     "start_time": "2023-07-13T07:17:39.771632Z"
    }
   }
  },
  {
   "cell_type": "code",
   "execution_count": 17,
   "outputs": [
    {
     "data": {
      "text/plain": "5521.884843903383"
     },
     "execution_count": 17,
     "metadata": {},
     "output_type": "execute_result"
    }
   ],
   "source": [
    "#릿지 회귀(Alpha=10)\n",
    "from sklearn.linear_model import Ridge\n",
    "model = Ridge(alpha=10)\n",
    "model.fit(X_train, y_train)\n",
    "model.predict(X_test)\n",
    "mean_squared_error(y_test, model.predict(X_test))"
   ],
   "metadata": {
    "collapsed": false,
    "ExecuteTime": {
     "end_time": "2023-07-13T07:18:21.646688Z",
     "start_time": "2023-07-13T07:18:21.605421Z"
    }
   }
  },
  {
   "cell_type": "code",
   "execution_count": 18,
   "outputs": [
    {
     "data": {
      "text/plain": "        alpha=1   alpha=10\nage   31.293421  16.703166\nsex  -71.448655  -1.796418\nbmi  267.605962  61.026376\nbp   197.362492  47.434846\ns1    14.613257  18.491238\ns2   -13.884237  13.440104\ns3  -124.649836 -35.542087\ns4   106.212967  38.896140\ns5   221.068493  55.276290\ns6   101.202546  35.868345",
      "text/html": "<div>\n<style scoped>\n    .dataframe tbody tr th:only-of-type {\n        vertical-align: middle;\n    }\n\n    .dataframe tbody tr th {\n        vertical-align: top;\n    }\n\n    .dataframe thead th {\n        text-align: right;\n    }\n</style>\n<table border=\"1\" class=\"dataframe\">\n  <thead>\n    <tr style=\"text-align: right;\">\n      <th></th>\n      <th>alpha=1</th>\n      <th>alpha=10</th>\n    </tr>\n  </thead>\n  <tbody>\n    <tr>\n      <th>age</th>\n      <td>31.293421</td>\n      <td>16.703166</td>\n    </tr>\n    <tr>\n      <th>sex</th>\n      <td>-71.448655</td>\n      <td>-1.796418</td>\n    </tr>\n    <tr>\n      <th>bmi</th>\n      <td>267.605962</td>\n      <td>61.026376</td>\n    </tr>\n    <tr>\n      <th>bp</th>\n      <td>197.362492</td>\n      <td>47.434846</td>\n    </tr>\n    <tr>\n      <th>s1</th>\n      <td>14.613257</td>\n      <td>18.491238</td>\n    </tr>\n    <tr>\n      <th>s2</th>\n      <td>-13.884237</td>\n      <td>13.440104</td>\n    </tr>\n    <tr>\n      <th>s3</th>\n      <td>-124.649836</td>\n      <td>-35.542087</td>\n    </tr>\n    <tr>\n      <th>s4</th>\n      <td>106.212967</td>\n      <td>38.896140</td>\n    </tr>\n    <tr>\n      <th>s5</th>\n      <td>221.068493</td>\n      <td>55.276290</td>\n    </tr>\n    <tr>\n      <th>s6</th>\n      <td>101.202546</td>\n      <td>35.868345</td>\n    </tr>\n  </tbody>\n</table>\n</div>"
     },
     "execution_count": 18,
     "metadata": {},
     "output_type": "execute_result"
    }
   ],
   "source": [
    "# 회귀 계수(Alpha=10)\n",
    "coef['alpha=10'] = model.coef_\n",
    "coef"
   ],
   "metadata": {
    "collapsed": false,
    "ExecuteTime": {
     "end_time": "2023-07-13T07:18:33.784825Z",
     "start_time": "2023-07-13T07:18:33.773857Z"
    }
   }
  },
  {
   "cell_type": "code",
   "execution_count": 19,
   "outputs": [
    {
     "data": {
      "text/plain": "2744.90267421467"
     },
     "execution_count": 19,
     "metadata": {},
     "output_type": "execute_result"
    }
   ],
   "source": [
    "#릿지 회귀(Alpha=0.1)\n",
    "from sklearn.linear_model import Ridge\n",
    "model = Ridge(alpha=0.1)\n",
    "model.fit(X_train, y_train)\n",
    "model.predict(X_test)\n",
    "mean_squared_error(y_test, model.predict(X_test))"
   ],
   "metadata": {
    "collapsed": false,
    "ExecuteTime": {
     "end_time": "2023-07-13T07:19:05.937423Z",
     "start_time": "2023-07-13T07:19:05.898448Z"
    }
   }
  },
  {
   "cell_type": "code",
   "execution_count": 20,
   "outputs": [
    {
     "data": {
      "text/plain": "        alpha=1   alpha=10   alpha=0.1\nage   31.293421  16.703166    4.275162\nsex  -71.448655  -1.796418 -205.210484\nbmi  267.605962  61.026376  450.909749\nbp   197.362492  47.434846  331.923682\ns1    14.613257  18.491238  -84.311149\ns2   -13.884237  13.440104  -54.662514\ns3  -124.649836 -35.542087 -158.706512\ns4   106.212967  38.896140  114.066890\ns5   221.068493  55.276290  391.231834\ns6   101.202546  35.868345   78.555458",
      "text/html": "<div>\n<style scoped>\n    .dataframe tbody tr th:only-of-type {\n        vertical-align: middle;\n    }\n\n    .dataframe tbody tr th {\n        vertical-align: top;\n    }\n\n    .dataframe thead th {\n        text-align: right;\n    }\n</style>\n<table border=\"1\" class=\"dataframe\">\n  <thead>\n    <tr style=\"text-align: right;\">\n      <th></th>\n      <th>alpha=1</th>\n      <th>alpha=10</th>\n      <th>alpha=0.1</th>\n    </tr>\n  </thead>\n  <tbody>\n    <tr>\n      <th>age</th>\n      <td>31.293421</td>\n      <td>16.703166</td>\n      <td>4.275162</td>\n    </tr>\n    <tr>\n      <th>sex</th>\n      <td>-71.448655</td>\n      <td>-1.796418</td>\n      <td>-205.210484</td>\n    </tr>\n    <tr>\n      <th>bmi</th>\n      <td>267.605962</td>\n      <td>61.026376</td>\n      <td>450.909749</td>\n    </tr>\n    <tr>\n      <th>bp</th>\n      <td>197.362492</td>\n      <td>47.434846</td>\n      <td>331.923682</td>\n    </tr>\n    <tr>\n      <th>s1</th>\n      <td>14.613257</td>\n      <td>18.491238</td>\n      <td>-84.311149</td>\n    </tr>\n    <tr>\n      <th>s2</th>\n      <td>-13.884237</td>\n      <td>13.440104</td>\n      <td>-54.662514</td>\n    </tr>\n    <tr>\n      <th>s3</th>\n      <td>-124.649836</td>\n      <td>-35.542087</td>\n      <td>-158.706512</td>\n    </tr>\n    <tr>\n      <th>s4</th>\n      <td>106.212967</td>\n      <td>38.896140</td>\n      <td>114.066890</td>\n    </tr>\n    <tr>\n      <th>s5</th>\n      <td>221.068493</td>\n      <td>55.276290</td>\n      <td>391.231834</td>\n    </tr>\n    <tr>\n      <th>s6</th>\n      <td>101.202546</td>\n      <td>35.868345</td>\n      <td>78.555458</td>\n    </tr>\n  </tbody>\n</table>\n</div>"
     },
     "execution_count": 20,
     "metadata": {},
     "output_type": "execute_result"
    }
   ],
   "source": [
    "# 회귀 계수(Alpha=0.1)\n",
    "coef['alpha=0.1'] = model.coef_\n",
    "coef"
   ],
   "metadata": {
    "collapsed": false,
    "ExecuteTime": {
     "end_time": "2023-07-13T07:19:13.917985Z",
     "start_time": "2023-07-13T07:19:13.904979Z"
    }
   }
  },
  {
   "cell_type": "code",
   "execution_count": 21,
   "outputs": [
    {
     "data": {
      "text/plain": "2675.811312404543"
     },
     "execution_count": 21,
     "metadata": {},
     "output_type": "execute_result"
    }
   ],
   "source": [
    "#릿지 회귀(Alpha=0.01)\n",
    "from sklearn.linear_model import Ridge\n",
    "model = Ridge(alpha=0.01)\n",
    "model.fit(X_train, y_train)\n",
    "model.predict(X_test)\n",
    "mean_squared_error(y_test, model.predict(X_test))"
   ],
   "metadata": {
    "collapsed": false,
    "ExecuteTime": {
     "end_time": "2023-07-13T07:19:34.712724Z",
     "start_time": "2023-07-13T07:19:34.699823Z"
    }
   }
  },
  {
   "cell_type": "code",
   "execution_count": 23,
   "outputs": [
    {
     "data": {
      "text/plain": "        alpha=1   alpha=10   alpha=0.1  alpha=0.01\nage   31.293421  16.703166    4.275162   -7.293063\nsex  -71.448655  -1.796418 -205.210484 -242.212217\nbmi  267.605962  61.026376  450.909749  482.043260\nbp   197.362492  47.434846  331.923682  365.353880\ns1    14.613257  18.491238  -84.311149 -441.489567\ns2   -13.884237  13.440104  -54.662514  206.076459\ns3  -124.649836 -35.542087 -158.706512  -24.375056\ns4   106.212967  38.896140  114.066890  141.806880\ns5   221.068493  55.276290  391.231834  561.312338\ns6   101.202546  35.868345   78.555458   58.588744",
      "text/html": "<div>\n<style scoped>\n    .dataframe tbody tr th:only-of-type {\n        vertical-align: middle;\n    }\n\n    .dataframe tbody tr th {\n        vertical-align: top;\n    }\n\n    .dataframe thead th {\n        text-align: right;\n    }\n</style>\n<table border=\"1\" class=\"dataframe\">\n  <thead>\n    <tr style=\"text-align: right;\">\n      <th></th>\n      <th>alpha=1</th>\n      <th>alpha=10</th>\n      <th>alpha=0.1</th>\n      <th>alpha=0.01</th>\n    </tr>\n  </thead>\n  <tbody>\n    <tr>\n      <th>age</th>\n      <td>31.293421</td>\n      <td>16.703166</td>\n      <td>4.275162</td>\n      <td>-7.293063</td>\n    </tr>\n    <tr>\n      <th>sex</th>\n      <td>-71.448655</td>\n      <td>-1.796418</td>\n      <td>-205.210484</td>\n      <td>-242.212217</td>\n    </tr>\n    <tr>\n      <th>bmi</th>\n      <td>267.605962</td>\n      <td>61.026376</td>\n      <td>450.909749</td>\n      <td>482.043260</td>\n    </tr>\n    <tr>\n      <th>bp</th>\n      <td>197.362492</td>\n      <td>47.434846</td>\n      <td>331.923682</td>\n      <td>365.353880</td>\n    </tr>\n    <tr>\n      <th>s1</th>\n      <td>14.613257</td>\n      <td>18.491238</td>\n      <td>-84.311149</td>\n      <td>-441.489567</td>\n    </tr>\n    <tr>\n      <th>s2</th>\n      <td>-13.884237</td>\n      <td>13.440104</td>\n      <td>-54.662514</td>\n      <td>206.076459</td>\n    </tr>\n    <tr>\n      <th>s3</th>\n      <td>-124.649836</td>\n      <td>-35.542087</td>\n      <td>-158.706512</td>\n      <td>-24.375056</td>\n    </tr>\n    <tr>\n      <th>s4</th>\n      <td>106.212967</td>\n      <td>38.896140</td>\n      <td>114.066890</td>\n      <td>141.806880</td>\n    </tr>\n    <tr>\n      <th>s5</th>\n      <td>221.068493</td>\n      <td>55.276290</td>\n      <td>391.231834</td>\n      <td>561.312338</td>\n    </tr>\n    <tr>\n      <th>s6</th>\n      <td>101.202546</td>\n      <td>35.868345</td>\n      <td>78.555458</td>\n      <td>58.588744</td>\n    </tr>\n  </tbody>\n</table>\n</div>"
     },
     "execution_count": 23,
     "metadata": {},
     "output_type": "execute_result"
    }
   ],
   "source": [
    "# 회귀 계수(Alpha=0.01)\n",
    "coef['alpha=0.01'] = model.coef_\n",
    "coef"
   ],
   "metadata": {
    "collapsed": false,
    "ExecuteTime": {
     "end_time": "2023-07-13T07:37:45.135633Z",
     "start_time": "2023-07-13T07:37:45.123566Z"
    }
   }
  },
  {
   "cell_type": "code",
   "execution_count": 24,
   "outputs": [],
   "source": [
    "#릿지회귀 연습문제"
   ],
   "metadata": {
    "collapsed": false,
    "ExecuteTime": {
     "end_time": "2023-07-13T07:37:55.279852Z",
     "start_time": "2023-07-13T07:37:55.266629Z"
    }
   }
  },
  {
   "cell_type": "code",
   "execution_count": 26,
   "outputs": [
    {
     "data": {
      "text/plain": "     alpha=0.001  alpha=0.01  alpha=0.05      alpha=0     alpha=1     alpha=1  \\\nage   -12.875946   -7.293063   -0.508850   -14.224890   31.293421   31.293421   \nsex  -250.863173 -242.212217 -223.345659  -252.589756  -71.448655  -71.448655   \nbmi   479.520459  482.043260  469.447848   478.243826  267.605962  267.605962   \nbp    373.038388  365.353880  348.368885   374.565795  197.362492  197.362492   \ns1   -903.695809 -441.489567 -146.952481 -1027.290590   14.613257   14.613257   \ns2    571.685411  206.076459  -18.297550   669.717479  -13.884237  -13.884237   \ns3    174.829975  -24.375056 -141.658486   228.646717 -124.649836 -124.649836   \ns4    194.433758  141.806880  115.860926   209.055061  106.212967  106.212967   \ns5    740.629804  561.312338  432.508101   787.871969  221.068493  221.068493   \ns6     52.924300   58.588744   69.578796    51.760505  101.202546  101.202546   \n\n      alpha=10  \nage  16.703166  \nsex  -1.796418  \nbmi  61.026376  \nbp   47.434846  \ns1   18.491238  \ns2   13.440104  \ns3  -35.542087  \ns4   38.896140  \ns5   55.276290  \ns6   35.868345  ",
      "text/html": "<div>\n<style scoped>\n    .dataframe tbody tr th:only-of-type {\n        vertical-align: middle;\n    }\n\n    .dataframe tbody tr th {\n        vertical-align: top;\n    }\n\n    .dataframe thead th {\n        text-align: right;\n    }\n</style>\n<table border=\"1\" class=\"dataframe\">\n  <thead>\n    <tr style=\"text-align: right;\">\n      <th></th>\n      <th>alpha=0.001</th>\n      <th>alpha=0.01</th>\n      <th>alpha=0.05</th>\n      <th>alpha=0</th>\n      <th>alpha=1</th>\n      <th>alpha=1</th>\n      <th>alpha=10</th>\n    </tr>\n  </thead>\n  <tbody>\n    <tr>\n      <th>age</th>\n      <td>-12.875946</td>\n      <td>-7.293063</td>\n      <td>-0.508850</td>\n      <td>-14.224890</td>\n      <td>31.293421</td>\n      <td>31.293421</td>\n      <td>16.703166</td>\n    </tr>\n    <tr>\n      <th>sex</th>\n      <td>-250.863173</td>\n      <td>-242.212217</td>\n      <td>-223.345659</td>\n      <td>-252.589756</td>\n      <td>-71.448655</td>\n      <td>-71.448655</td>\n      <td>-1.796418</td>\n    </tr>\n    <tr>\n      <th>bmi</th>\n      <td>479.520459</td>\n      <td>482.043260</td>\n      <td>469.447848</td>\n      <td>478.243826</td>\n      <td>267.605962</td>\n      <td>267.605962</td>\n      <td>61.026376</td>\n    </tr>\n    <tr>\n      <th>bp</th>\n      <td>373.038388</td>\n      <td>365.353880</td>\n      <td>348.368885</td>\n      <td>374.565795</td>\n      <td>197.362492</td>\n      <td>197.362492</td>\n      <td>47.434846</td>\n    </tr>\n    <tr>\n      <th>s1</th>\n      <td>-903.695809</td>\n      <td>-441.489567</td>\n      <td>-146.952481</td>\n      <td>-1027.290590</td>\n      <td>14.613257</td>\n      <td>14.613257</td>\n      <td>18.491238</td>\n    </tr>\n    <tr>\n      <th>s2</th>\n      <td>571.685411</td>\n      <td>206.076459</td>\n      <td>-18.297550</td>\n      <td>669.717479</td>\n      <td>-13.884237</td>\n      <td>-13.884237</td>\n      <td>13.440104</td>\n    </tr>\n    <tr>\n      <th>s3</th>\n      <td>174.829975</td>\n      <td>-24.375056</td>\n      <td>-141.658486</td>\n      <td>228.646717</td>\n      <td>-124.649836</td>\n      <td>-124.649836</td>\n      <td>-35.542087</td>\n    </tr>\n    <tr>\n      <th>s4</th>\n      <td>194.433758</td>\n      <td>141.806880</td>\n      <td>115.860926</td>\n      <td>209.055061</td>\n      <td>106.212967</td>\n      <td>106.212967</td>\n      <td>38.896140</td>\n    </tr>\n    <tr>\n      <th>s5</th>\n      <td>740.629804</td>\n      <td>561.312338</td>\n      <td>432.508101</td>\n      <td>787.871969</td>\n      <td>221.068493</td>\n      <td>221.068493</td>\n      <td>55.276290</td>\n    </tr>\n    <tr>\n      <th>s6</th>\n      <td>52.924300</td>\n      <td>58.588744</td>\n      <td>69.578796</td>\n      <td>51.760505</td>\n      <td>101.202546</td>\n      <td>101.202546</td>\n      <td>35.868345</td>\n    </tr>\n  </tbody>\n</table>\n</div>"
     },
     "execution_count": 26,
     "metadata": {},
     "output_type": "execute_result"
    }
   ],
   "source": [
    "# Q. 릿지 회귀의 alpha 값을 0.001, 0.01, 0.05, 0.1, 1, 10을 각각 넣어보고,\n",
    "# 어떤 alpha 값이 가장 mean squared error가 작은지 찾아보세요.\n",
    "# 힌트 : for문을 사용하면 좀더 효율적으로 퀴즈를 풀 수 있습니다.\n",
    "from sklearn.linear_model import Ridge\n",
    "import pandas as ps\n",
    "alpha_value = [0.001,0.01,0.05,0,1,1,10]\n",
    "coef = []\n",
    "for i in alpha_value:\n",
    "    model = Ridge(alpha=i)\n",
    "    model.fit(X_train, y_train)\n",
    "    model.predict(X_test)\n",
    "    mean_squared_error(y_test, model.predict(X_test))\n",
    "    coef.append(pd.DataFrame(model.coef_, index=X_train.columns, columns=[f'alpha={i}']))\n",
    "coef_df = pd.concat(coef, axis=1)\n",
    "\n",
    "coef_df\n"
   ],
   "metadata": {
    "collapsed": false,
    "ExecuteTime": {
     "end_time": "2023-07-13T07:38:31.917129Z",
     "start_time": "2023-07-13T07:38:31.887616Z"
    }
   }
  },
  {
   "cell_type": "markdown",
   "source": [
    "## 3. 라쏘 회귀\n",
    "![](./img_15.png)\n",
    "\n",
    "L2 규제 대비 중요한 피처만 선택하는 특성이 있어 나머지는 0을 만들어 버림\n",
    "\n",
    "Alpha 3으로 했을때는 0.1대비 중요하다고 생각파는 피처만 남겨두고 나머지는 0으로 만듬"
   ],
   "metadata": {
    "collapsed": false
   }
  },
  {
   "cell_type": "code",
   "execution_count": 27,
   "outputs": [
    {
     "data": {
      "text/plain": "4179.152642946343"
     },
     "execution_count": 27,
     "metadata": {},
     "output_type": "execute_result"
    }
   ],
   "source": [
    "from sklearn.linear_model import Lasso\n",
    "model = Lasso(alpha=1) # 기본값이 1\n",
    "model.fit(X_train, y_train)\n",
    "model.predict(X_test)\n",
    "mean_squared_error(y_test, model.predict(X_test))"
   ],
   "metadata": {
    "collapsed": false,
    "ExecuteTime": {
     "end_time": "2023-07-13T07:42:03.715277Z",
     "start_time": "2023-07-13T07:42:03.698700Z"
    }
   }
  },
  {
   "cell_type": "code",
   "execution_count": 28,
   "outputs": [
    {
     "data": {
      "text/plain": "        alpha=1\nage    0.000000\nsex   -0.000000\nbmi  343.589790\nbp    46.369923\ns1     0.000000\ns2     0.000000\ns3    -0.000000\ns4     0.000000\ns5   245.170617\ns6     0.000000",
      "text/html": "<div>\n<style scoped>\n    .dataframe tbody tr th:only-of-type {\n        vertical-align: middle;\n    }\n\n    .dataframe tbody tr th {\n        vertical-align: top;\n    }\n\n    .dataframe thead th {\n        text-align: right;\n    }\n</style>\n<table border=\"1\" class=\"dataframe\">\n  <thead>\n    <tr style=\"text-align: right;\">\n      <th></th>\n      <th>alpha=1</th>\n    </tr>\n  </thead>\n  <tbody>\n    <tr>\n      <th>age</th>\n      <td>0.000000</td>\n    </tr>\n    <tr>\n      <th>sex</th>\n      <td>-0.000000</td>\n    </tr>\n    <tr>\n      <th>bmi</th>\n      <td>343.589790</td>\n    </tr>\n    <tr>\n      <th>bp</th>\n      <td>46.369923</td>\n    </tr>\n    <tr>\n      <th>s1</th>\n      <td>0.000000</td>\n    </tr>\n    <tr>\n      <th>s2</th>\n      <td>0.000000</td>\n    </tr>\n    <tr>\n      <th>s3</th>\n      <td>-0.000000</td>\n    </tr>\n    <tr>\n      <th>s4</th>\n      <td>0.000000</td>\n    </tr>\n    <tr>\n      <th>s5</th>\n      <td>245.170617</td>\n    </tr>\n    <tr>\n      <th>s6</th>\n      <td>0.000000</td>\n    </tr>\n  </tbody>\n</table>\n</div>"
     },
     "execution_count": 28,
     "metadata": {},
     "output_type": "execute_result"
    }
   ],
   "source": [
    "# 회귀 계수\n",
    "coef = pd.DataFrame(model.coef_, index=X_train.columns, columns=['alpha=1'])\n",
    "coef"
   ],
   "metadata": {
    "collapsed": false,
    "ExecuteTime": {
     "end_time": "2023-07-13T07:43:01.322311Z",
     "start_time": "2023-07-13T07:43:01.305290Z"
    }
   }
  },
  {
   "cell_type": "code",
   "execution_count": 29,
   "outputs": [
    {
     "data": {
      "text/plain": "6398.637179449031"
     },
     "execution_count": 29,
     "metadata": {},
     "output_type": "execute_result"
    }
   ],
   "source": [
    "# 라쏘 회귀(Alpha=2)\n",
    "from sklearn.linear_model import Lasso\n",
    "model = Lasso(alpha=2)\n",
    "model.fit(X_train, y_train)\n",
    "model.predict(X_test)\n",
    "mean_squared_error(y_test, model.predict(X_test))"
   ],
   "metadata": {
    "collapsed": false,
    "ExecuteTime": {
     "end_time": "2023-07-13T07:43:36.865556Z",
     "start_time": "2023-07-13T07:43:36.851223Z"
    }
   }
  },
  {
   "cell_type": "code",
   "execution_count": 31,
   "outputs": [
    {
     "data": {
      "text/plain": "        alpha=1    alpha=2\nage    0.000000   0.000000\nsex   -0.000000   0.000000\nbmi  343.589790  42.963888\nbp    46.369923   0.000000\ns1     0.000000   0.000000\ns2     0.000000   0.000000\ns3    -0.000000  -0.000000\ns4     0.000000   0.000000\ns5   245.170617   0.000000\ns6     0.000000   0.000000",
      "text/html": "<div>\n<style scoped>\n    .dataframe tbody tr th:only-of-type {\n        vertical-align: middle;\n    }\n\n    .dataframe tbody tr th {\n        vertical-align: top;\n    }\n\n    .dataframe thead th {\n        text-align: right;\n    }\n</style>\n<table border=\"1\" class=\"dataframe\">\n  <thead>\n    <tr style=\"text-align: right;\">\n      <th></th>\n      <th>alpha=1</th>\n      <th>alpha=2</th>\n    </tr>\n  </thead>\n  <tbody>\n    <tr>\n      <th>age</th>\n      <td>0.000000</td>\n      <td>0.000000</td>\n    </tr>\n    <tr>\n      <th>sex</th>\n      <td>-0.000000</td>\n      <td>0.000000</td>\n    </tr>\n    <tr>\n      <th>bmi</th>\n      <td>343.589790</td>\n      <td>42.963888</td>\n    </tr>\n    <tr>\n      <th>bp</th>\n      <td>46.369923</td>\n      <td>0.000000</td>\n    </tr>\n    <tr>\n      <th>s1</th>\n      <td>0.000000</td>\n      <td>0.000000</td>\n    </tr>\n    <tr>\n      <th>s2</th>\n      <td>0.000000</td>\n      <td>0.000000</td>\n    </tr>\n    <tr>\n      <th>s3</th>\n      <td>-0.000000</td>\n      <td>-0.000000</td>\n    </tr>\n    <tr>\n      <th>s4</th>\n      <td>0.000000</td>\n      <td>0.000000</td>\n    </tr>\n    <tr>\n      <th>s5</th>\n      <td>245.170617</td>\n      <td>0.000000</td>\n    </tr>\n    <tr>\n      <th>s6</th>\n      <td>0.000000</td>\n      <td>0.000000</td>\n    </tr>\n  </tbody>\n</table>\n</div>"
     },
     "execution_count": 31,
     "metadata": {},
     "output_type": "execute_result"
    }
   ],
   "source": [
    "# 회귀 계수(Alpha=2)\n",
    "coef['alpha=2'] = model.coef_\n",
    "coef"
   ],
   "metadata": {
    "collapsed": false,
    "ExecuteTime": {
     "end_time": "2023-07-13T07:44:03.776518Z",
     "start_time": "2023-07-13T07:44:03.759135Z"
    }
   }
  },
  {
   "cell_type": "code",
   "execution_count": 32,
   "outputs": [
    {
     "data": {
      "text/plain": "2703.4583679188177"
     },
     "execution_count": 32,
     "metadata": {},
     "output_type": "execute_result"
    }
   ],
   "source": [
    "# 라쏘 회귀(Alpha=0.05)\n",
    "from sklearn.linear_model import Lasso\n",
    "model = Lasso(alpha=0.05)\n",
    "model.fit(X_train, y_train)\n",
    "model.predict(X_test)\n",
    "mean_squared_error(y_test, model.predict(X_test))\n"
   ],
   "metadata": {
    "collapsed": false,
    "ExecuteTime": {
     "end_time": "2023-07-13T07:45:02.170237Z",
     "start_time": "2023-07-13T07:45:02.153434Z"
    }
   }
  },
  {
   "cell_type": "code",
   "execution_count": 33,
   "outputs": [
    {
     "data": {
      "text/plain": "        alpha=1    alpha=2  alpha=0.05\nage    0.000000   0.000000   -0.000000\nsex   -0.000000   0.000000 -198.948213\nbmi  343.589790  42.963888  487.198584\nbp    46.369923   0.000000  340.490360\ns1     0.000000   0.000000  -95.576361\ns2     0.000000   0.000000   -0.000000\ns3    -0.000000  -0.000000 -189.867452\ns4     0.000000   0.000000   10.487703\ns5   245.170617   0.000000  457.332197\ns6     0.000000   0.000000   39.292925",
      "text/html": "<div>\n<style scoped>\n    .dataframe tbody tr th:only-of-type {\n        vertical-align: middle;\n    }\n\n    .dataframe tbody tr th {\n        vertical-align: top;\n    }\n\n    .dataframe thead th {\n        text-align: right;\n    }\n</style>\n<table border=\"1\" class=\"dataframe\">\n  <thead>\n    <tr style=\"text-align: right;\">\n      <th></th>\n      <th>alpha=1</th>\n      <th>alpha=2</th>\n      <th>alpha=0.05</th>\n    </tr>\n  </thead>\n  <tbody>\n    <tr>\n      <th>age</th>\n      <td>0.000000</td>\n      <td>0.000000</td>\n      <td>-0.000000</td>\n    </tr>\n    <tr>\n      <th>sex</th>\n      <td>-0.000000</td>\n      <td>0.000000</td>\n      <td>-198.948213</td>\n    </tr>\n    <tr>\n      <th>bmi</th>\n      <td>343.589790</td>\n      <td>42.963888</td>\n      <td>487.198584</td>\n    </tr>\n    <tr>\n      <th>bp</th>\n      <td>46.369923</td>\n      <td>0.000000</td>\n      <td>340.490360</td>\n    </tr>\n    <tr>\n      <th>s1</th>\n      <td>0.000000</td>\n      <td>0.000000</td>\n      <td>-95.576361</td>\n    </tr>\n    <tr>\n      <th>s2</th>\n      <td>0.000000</td>\n      <td>0.000000</td>\n      <td>-0.000000</td>\n    </tr>\n    <tr>\n      <th>s3</th>\n      <td>-0.000000</td>\n      <td>-0.000000</td>\n      <td>-189.867452</td>\n    </tr>\n    <tr>\n      <th>s4</th>\n      <td>0.000000</td>\n      <td>0.000000</td>\n      <td>10.487703</td>\n    </tr>\n    <tr>\n      <th>s5</th>\n      <td>245.170617</td>\n      <td>0.000000</td>\n      <td>457.332197</td>\n    </tr>\n    <tr>\n      <th>s6</th>\n      <td>0.000000</td>\n      <td>0.000000</td>\n      <td>39.292925</td>\n    </tr>\n  </tbody>\n</table>\n</div>"
     },
     "execution_count": 33,
     "metadata": {},
     "output_type": "execute_result"
    }
   ],
   "source": [
    "# 회귀 계수(Alpha=0.05)\n",
    "coef['alpha=0.05'] = model.coef_\n",
    "coef"
   ],
   "metadata": {
    "collapsed": false,
    "ExecuteTime": {
     "end_time": "2023-07-13T07:45:07.393915Z",
     "start_time": "2023-07-13T07:45:07.373041Z"
    }
   }
  },
  {
   "cell_type": "code",
   "execution_count": 36,
   "outputs": [
    {
     "name": "stdout",
     "output_type": "stream",
     "text": [
      "     alpha=0.001  alpha=0.01  alpha=0.05      alpha=0     alpha=1     alpha=1  \\\n",
      "age   -12.866944   -2.720658   -0.000000   -14.224890    0.000000    0.000000   \n",
      "sex  -251.292080 -239.362392 -198.948213  -252.589756   -0.000000   -0.000000   \n",
      "bmi   478.850419  484.708977  487.198584   478.243827  343.589790  343.589790   \n",
      "bp    373.333822  364.253167  340.490360   374.565794   46.369923   46.369923   \n",
      "s1   -957.796590 -500.350679  -95.576361 -1027.290574    0.000000    0.000000   \n",
      "s2    616.335189  254.427235   -0.000000   669.717467    0.000000    0.000000   \n",
      "s3    195.960670   -0.000000 -189.867452   228.646710   -0.000000   -0.000000   \n",
      "s4    197.075688  139.245552   10.487703   209.055059    0.000000    0.000000   \n",
      "s5    762.509258  591.415053  457.332197   787.871963  245.170617  245.170617   \n",
      "s6     51.787040   50.870090   39.292925    51.760505    0.000000    0.000000   \n",
      "\n",
      "     alpha=10  \n",
      "age       0.0  \n",
      "sex       0.0  \n",
      "bmi       0.0  \n",
      "bp        0.0  \n",
      "s1        0.0  \n",
      "s2        0.0  \n",
      "s3       -0.0  \n",
      "s4        0.0  \n",
      "s5        0.0  \n",
      "s6        0.0  \n",
      "가장 작은 mean squared error를 가진 alpha 값: 0.01 (MSE: 2676.3872487581543)\n"
     ]
    },
    {
     "name": "stderr",
     "output_type": "stream",
     "text": [
      "/var/folders/jd/qspsq8mn2db0y77ryp1w10_c0000gp/T/ipykernel_45100/1459781263.py:11: UserWarning: With alpha=0, this algorithm does not converge well. You are advised to use the LinearRegression estimator\n",
      "  model.fit(X_train, y_train)\n",
      "/Users/ralphpark/anaconda3/lib/python3.10/site-packages/sklearn/linear_model/_coordinate_descent.py:631: UserWarning: Coordinate descent with no regularization may lead to unexpected results and is discouraged.\n",
      "  model = cd_fast.enet_coordinate_descent(\n",
      "/Users/ralphpark/anaconda3/lib/python3.10/site-packages/sklearn/linear_model/_coordinate_descent.py:631: ConvergenceWarning: Objective did not converge. You might want to increase the number of iterations, check the scale of the features or consider increasing regularisation. Duality gap: 5.157e+05, tolerance: 2.035e+02 Linear regression models with null weight for the l1 regularization term are more efficiently fitted using one of the solvers implemented in sklearn.linear_model.Ridge/RidgeCV instead.\n",
      "  model = cd_fast.enet_coordinate_descent(\n"
     ]
    }
   ],
   "source": [
    "# 라쏘 연습문제\n",
    "# Q. 라쏘 회귀의 alpha 값을 0.001, 0.01, 0.05, 0.1, 1, 10을 각각 넣어보고,\n",
    "# 어떤 alpha 값이 가장 mean squared error가 작은지 찾아보세요.\n",
    "from sklearn.linear_model import Lasso\n",
    "import pandas as pd\n",
    "alpha_value = [0.001,0.01,0.05,0,1,1,10]\n",
    "coef = []\n",
    "mse_alpha = []\n",
    "for i in alpha_value:\n",
    "    model =Lasso(alpha=i)\n",
    "    model.fit(X_train, y_train)\n",
    "    model.predict(X_test)\n",
    "    mse = mean_squared_error(y_test, model.predict(X_test))\n",
    "    coef.append(pd.DataFrame(model.coef_, index=X_train.columns, columns=[f'alpha={i}']))\n",
    "    mse_alpha.append((mse, i))\n",
    "\n",
    "coef_df = pd.concat(coef, axis=1)\n",
    "print(coef_df)\n",
    "min_mse_alpha = min(mse_alpha)\n",
    "print(f\"가장 작은 mean squared error를 가진 alpha 값: {min_mse_alpha[1]} (MSE: {min_mse_alpha[0]})\")"
   ],
   "metadata": {
    "collapsed": false,
    "ExecuteTime": {
     "end_time": "2023-07-13T07:56:43.248188Z",
     "start_time": "2023-07-13T07:56:43.219623Z"
    }
   }
  },
  {
   "cell_type": "markdown",
   "source": [
    "## 4. 엘라스틱넷 회귀\n",
    "\n",
    "회귀를 위한 선형 모델\n",
    "\n",
    "L2규제와 L1 규제 결합한 회귀\n",
    "\n",
    "시간이 상대적으로 오래 걸림\n",
    "\n",
    "![](./img_16.png)"
   ],
   "metadata": {
    "collapsed": false
   }
  },
  {
   "cell_type": "code",
   "execution_count": 37,
   "outputs": [
    {
     "data": {
      "text/plain": "6539.270961171604"
     },
     "execution_count": 37,
     "metadata": {},
     "output_type": "execute_result"
    }
   ],
   "source": [
    "# 엘라스틱넷 회귀\n",
    "from sklearn.linear_model import ElasticNet\n",
    "model = ElasticNet(alpha=1) # 기본값이 1\n",
    "model.fit(X_train, y_train)\n",
    "model.predict(X_test)\n",
    "mean_squared_error(y_test, model.predict(X_test))"
   ],
   "metadata": {
    "collapsed": false,
    "ExecuteTime": {
     "end_time": "2023-07-13T08:00:38.807966Z",
     "start_time": "2023-07-13T08:00:38.793235Z"
    }
   }
  },
  {
   "cell_type": "code",
   "execution_count": 38,
   "outputs": [
    {
     "data": {
      "text/plain": "2675.6031657225312"
     },
     "execution_count": 38,
     "metadata": {},
     "output_type": "execute_result"
    }
   ],
   "source": [
    "# 엘라스틱넷 회귀(Alpha=0.0001)\n",
    "from sklearn.linear_model import ElasticNet\n",
    "model = ElasticNet(alpha=0.0001, l1_ratio=0.6) # L1규제 비율을 정할 수 있음, 기본값이 0.5\n",
    "model.fit(X_train, y_train)\n",
    "model.predict(X_test)\n",
    "mean_squared_error(y_test, model.predict(X_test))"
   ],
   "metadata": {
    "collapsed": false,
    "ExecuteTime": {
     "end_time": "2023-07-13T08:01:49.210531Z",
     "start_time": "2023-07-13T08:01:49.185625Z"
    }
   }
  },
  {
   "cell_type": "code",
   "execution_count": 40,
   "outputs": [
    {
     "name": "stdout",
     "output_type": "stream",
     "text": [
      "         L1=0.1      L1=0.2      L1=0.3      L1=0.4      L1=0.5      L1=0.6  \\\n",
      "age   -2.786105   -3.302796   -3.863803   -4.484376   -5.188428   -6.015735   \n",
      "sex -230.942642 -232.519786 -234.152572 -235.856985 -237.658051 -239.597359   \n",
      "bmi  476.097749  477.314195  478.482402  479.581305  480.577902  481.417355   \n",
      "bp   355.236608  356.660870  358.133713  359.669051  361.288721  363.029107   \n",
      "s1  -206.882031 -225.348327 -247.839056 -275.861581 -311.783503 -359.548299   \n",
      "s2    24.612650   38.415466   55.436132   76.875979  104.620363  141.807274   \n",
      "s3  -120.164565 -113.086803 -104.284341  -93.100152  -78.500283  -58.759760   \n",
      "s4   119.611393  121.021398  122.858437  125.298818  128.622707  133.301380   \n",
      "s5   462.613416  471.125117  481.190936  493.382958  508.598675  528.331451   \n",
      "s6    65.364628   64.447112   63.483805   62.463351   61.368114   60.168969   \n",
      "\n",
      "         L1=0.7      L1=0.8      L1=0.9  \n",
      "age   -7.037757   -8.384127  -10.407944  \n",
      "sex -241.749590 -244.275604 -247.496966  \n",
      "bmi  482.001256  482.118523  481.344309  \n",
      "bp   364.955702  367.187746  370.049032  \n",
      "s1  -426.247527 -525.165617 -690.614154  \n",
      "s2   194.076370  272.127592  402.971707  \n",
      "s3   -30.772380   11.049132   82.194764  \n",
      "s4   140.189238  150.618982  169.271903  \n",
      "s5   555.264624  594.479596  658.841927  \n",
      "s6    58.813831   57.204455   55.092304  \n",
      "가장 작은 mean squared error를 가진 alpha 값: 0.6 (MSE: 2675.6031657225312)\n"
     ]
    }
   ],
   "source": [
    "#실습문제\n",
    "# Q. 엘라스틱넷 회귀의 alpha 값을 0.0001로 설정하고,\n",
    "# l1 규제의 비율 0.1, 0.2, 0.3, 0.4, 0.5, 0.6, 0.7, 0.8, 0.9 중\n",
    "# 어떤 비율일 때 mean squared error가 가장 작은지 찾아보세요.\n",
    "from sklearn.linear_model import ElasticNet\n",
    "import pandas as pd\n",
    "alpha_value = [0.1, 0.2, 0.3, 0.4, 0.5, 0.6, 0.7, 0.8, 0.9]\n",
    "coef = []\n",
    "mse_alpha = []\n",
    "for i in alpha_value:\n",
    "    model =ElasticNet(alpha=0.0001, l1_ratio = i)\n",
    "    model.fit(X_train, y_train)\n",
    "    model.predict(X_test)\n",
    "    mse = mean_squared_error(y_test, model.predict(X_test))\n",
    "    coef.append(pd.DataFrame(model.coef_, index=X_train.columns, columns=[f'L1={i}']))\n",
    "    mse_alpha.append((mse, i))\n",
    "\n",
    "coef_df = pd.concat(coef, axis=1)\n",
    "print(coef_df)\n",
    "min_mse_alpha = min(mse_alpha)\n",
    "print(f\"가장 작은 mean squared error를 가진 alpha 값: {min_mse_alpha[1]} (MSE: {min_mse_alpha[0]})\")"
   ],
   "metadata": {
    "collapsed": false,
    "ExecuteTime": {
     "end_time": "2023-07-13T08:05:56.585423Z",
     "start_time": "2023-07-13T08:05:56.534743Z"
    }
   }
  },
  {
   "cell_type": "markdown",
   "source": [
    "## 5. 랜덤포레스트 & XGBoost\n"
   ],
   "metadata": {
    "collapsed": false
   }
  }
 ],
 "metadata": {
  "kernelspec": {
   "display_name": "Python 3",
   "language": "python",
   "name": "python3"
  },
  "language_info": {
   "codemirror_mode": {
    "name": "ipython",
    "version": 2
   },
   "file_extension": ".py",
   "mimetype": "text/x-python",
   "name": "python",
   "nbconvert_exporter": "python",
   "pygments_lexer": "ipython2",
   "version": "2.7.6"
  }
 },
 "nbformat": 4,
 "nbformat_minor": 0
}
