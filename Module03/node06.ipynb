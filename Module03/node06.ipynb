{
 "cells": [
  {
   "cell_type": "markdown",
   "source": [
    "# 6. 지도학습(회귀)\n",
    "\n",
    "## 1. 선형 회귀\n",
    "\n",
    "선형 회귀\n",
    "\n",
    "- 단순 선형 회귀 : 독립변수가 1개인 선형 회귀\n",
    "\n",
    "- 다중 선형 회귀 : 독립변수가 2개 이상인 선형 회귀\n",
    "\n",
    "비용함수(cost function)\n",
    "\n",
    "-손실함수(loss function), 목적함수(objective function)\n",
    "\n",
    "- 오차(error) : 실제값과 예측값의 차이\n",
    "\n",
    "-평균 제곱 오차를 최소화 하는 파라미터를 찾음\n",
    "\n",
    "![](./img_12.png)\n",
    "\n",
    "실제값과 예측값의 거리를 찾음 거리가 가까울수록 좋음\n",
    "\n",
    "경사하강법(Gradient Descent)\n",
    "\n",
    "- 경사하강법을 활용해 최소 에러값을 찾음\n",
    "\n",
    "![](./img_13.png)"
   ],
   "metadata": {
    "collapsed": false
   }
  },
  {
   "cell_type": "code",
   "execution_count": 1,
   "outputs": [],
   "source": [
    "#라이브러리 불러오기\n",
    "\n",
    "import pandas as pd\n",
    "from sklearn.model_selection import train_test_split\n",
    "from sklearn.metrics import mean_squared_error"
   ],
   "metadata": {
    "collapsed": false,
    "ExecuteTime": {
     "end_time": "2023-07-13T07:01:10.291531Z",
     "start_time": "2023-07-13T07:01:09.217017Z"
    }
   }
  },
  {
   "cell_type": "code",
   "execution_count": 2,
   "outputs": [
    {
     "data": {
      "text/plain": "((353, 10), (89, 10), (353,), (89,))"
     },
     "execution_count": 2,
     "metadata": {},
     "output_type": "execute_result"
    }
   ],
   "source": [
    "#데이터 불러오기\n",
    "#데이터 생성\n",
    "\n",
    "from sklearn.datasets import load_diabetes #당뇨병 데이터셋 불러오기\n",
    "\n",
    "def make_dataset():\n",
    "    dataset = load_diabetes()\n",
    "    df = pd.DataFrame(dataset.data, columns=dataset.feature_names)\n",
    "    df['target'] = dataset.target\n",
    "    X_train, X_test, y_train, y_test = train_test_split(\n",
    "        df.drop('target', axis=1), df['target'], test_size=0.2, random_state=1004)\n",
    "    return X_train, X_test, y_train, y_test\n",
    "\n",
    "X_train, X_test, y_train, y_test = make_dataset()\n",
    "X_train.shape, X_test.shape, y_train.shape, y_test.shape"
   ],
   "metadata": {
    "collapsed": false,
    "ExecuteTime": {
     "end_time": "2023-07-13T07:02:15.038206Z",
     "start_time": "2023-07-13T07:02:14.925669Z"
    }
   }
  },
  {
   "cell_type": "code",
   "execution_count": 3,
   "outputs": [
    {
     "data": {
      "text/plain": "          age       sex       bmi        bp        s1        s2        s3  \\\n152 -0.034575  0.050680 -0.000817  0.070072  0.039710  0.066952 -0.065491   \n417 -0.052738 -0.044642  0.071397 -0.074527 -0.015328 -0.001314  0.004460   \n172  0.041708  0.050680  0.071397  0.008101  0.038334  0.015909 -0.017629   \n438 -0.005515  0.050680 -0.015906 -0.067642  0.049341  0.079165 -0.028674   \n296  0.067136 -0.044642 -0.061174 -0.040099 -0.026336 -0.024487  0.033914   \n\n           s4        s5        s6  \n152  0.108111  0.026717  0.073480  \n417 -0.021412 -0.046883  0.003064  \n172  0.034309  0.073407  0.085907  \n438  0.034309 -0.018114  0.044485  \n296 -0.039493 -0.056153 -0.059067  ",
      "text/html": "<div>\n<style scoped>\n    .dataframe tbody tr th:only-of-type {\n        vertical-align: middle;\n    }\n\n    .dataframe tbody tr th {\n        vertical-align: top;\n    }\n\n    .dataframe thead th {\n        text-align: right;\n    }\n</style>\n<table border=\"1\" class=\"dataframe\">\n  <thead>\n    <tr style=\"text-align: right;\">\n      <th></th>\n      <th>age</th>\n      <th>sex</th>\n      <th>bmi</th>\n      <th>bp</th>\n      <th>s1</th>\n      <th>s2</th>\n      <th>s3</th>\n      <th>s4</th>\n      <th>s5</th>\n      <th>s6</th>\n    </tr>\n  </thead>\n  <tbody>\n    <tr>\n      <th>152</th>\n      <td>-0.034575</td>\n      <td>0.050680</td>\n      <td>-0.000817</td>\n      <td>0.070072</td>\n      <td>0.039710</td>\n      <td>0.066952</td>\n      <td>-0.065491</td>\n      <td>0.108111</td>\n      <td>0.026717</td>\n      <td>0.073480</td>\n    </tr>\n    <tr>\n      <th>417</th>\n      <td>-0.052738</td>\n      <td>-0.044642</td>\n      <td>0.071397</td>\n      <td>-0.074527</td>\n      <td>-0.015328</td>\n      <td>-0.001314</td>\n      <td>0.004460</td>\n      <td>-0.021412</td>\n      <td>-0.046883</td>\n      <td>0.003064</td>\n    </tr>\n    <tr>\n      <th>172</th>\n      <td>0.041708</td>\n      <td>0.050680</td>\n      <td>0.071397</td>\n      <td>0.008101</td>\n      <td>0.038334</td>\n      <td>0.015909</td>\n      <td>-0.017629</td>\n      <td>0.034309</td>\n      <td>0.073407</td>\n      <td>0.085907</td>\n    </tr>\n    <tr>\n      <th>438</th>\n      <td>-0.005515</td>\n      <td>0.050680</td>\n      <td>-0.015906</td>\n      <td>-0.067642</td>\n      <td>0.049341</td>\n      <td>0.079165</td>\n      <td>-0.028674</td>\n      <td>0.034309</td>\n      <td>-0.018114</td>\n      <td>0.044485</td>\n    </tr>\n    <tr>\n      <th>296</th>\n      <td>0.067136</td>\n      <td>-0.044642</td>\n      <td>-0.061174</td>\n      <td>-0.040099</td>\n      <td>-0.026336</td>\n      <td>-0.024487</td>\n      <td>0.033914</td>\n      <td>-0.039493</td>\n      <td>-0.056153</td>\n      <td>-0.059067</td>\n    </tr>\n  </tbody>\n</table>\n</div>"
     },
     "execution_count": 3,
     "metadata": {},
     "output_type": "execute_result"
    }
   ],
   "source": [
    "#train sample\n",
    "X_train.head()"
   ],
   "metadata": {
    "collapsed": false,
    "ExecuteTime": {
     "end_time": "2023-07-13T07:03:26.844809Z",
     "start_time": "2023-07-13T07:03:26.831255Z"
    }
   }
  },
  {
   "cell_type": "code",
   "execution_count": 4,
   "outputs": [
    {
     "data": {
      "text/plain": "152    292.0\n417     55.0\n172    295.0\n438    104.0\n296     89.0\nName: target, dtype: float64"
     },
     "execution_count": 4,
     "metadata": {},
     "output_type": "execute_result"
    }
   ],
   "source": [
    "#타겟 샘플\n",
    "y_train.head()"
   ],
   "metadata": {
    "collapsed": false,
    "ExecuteTime": {
     "end_time": "2023-07-13T07:03:50.437737Z",
     "start_time": "2023-07-13T07:03:50.432440Z"
    }
   }
  },
  {
   "cell_type": "code",
   "execution_count": 5,
   "outputs": [
    {
     "data": {
      "text/plain": "<Axes: >"
     },
     "execution_count": 5,
     "metadata": {},
     "output_type": "execute_result"
    },
    {
     "data": {
      "text/plain": "<Figure size 640x480 with 1 Axes>",
      "image/png": "[encoded data removed]"
     },
     "metadata": {},
     "output_type": "display_data"
    }
   ],
   "source": [
    "#타겟 확인\n",
    "y_train.hist()"
   ],
   "metadata": {
    "collapsed": false,
    "ExecuteTime": {
     "end_time": "2023-07-13T07:04:14.437620Z",
     "start_time": "2023-07-13T07:04:13.645279Z"
    }
   }
  },
  {
   "cell_type": "code",
   "execution_count": 9,
   "outputs": [
    {
     "data": {
      "text/plain": "2707.6318521641574"
     },
     "execution_count": 9,
     "metadata": {},
     "output_type": "execute_result"
    }
   ],
   "source": [
    "#선형 회귀 모델 생성\n",
    "from sklearn.linear_model import LinearRegression\n",
    "model = LinearRegression()\n",
    "model.fit(X_train, y_train)\n",
    "model.predict(X_test)\n",
    "mean_squared_error(y_test, model.predict(X_test))"
   ],
   "metadata": {
    "collapsed": false,
    "ExecuteTime": {
     "end_time": "2023-07-13T07:07:55.886741Z",
     "start_time": "2023-07-13T07:07:55.880192Z"
    }
   }
  },
  {
   "cell_type": "markdown",
   "source": [
    "## 2. 릿지회귀\n",
    "\n",
    "회귀를 위한 선형 모델\n",
    "\n",
    "규제(Regularization) 적용\n",
    "\n",
    "- 오버피팅이 되지 않도록 함\n",
    "\n",
    "- 규제방식 : L2 규제\n",
    "\n",
    "- 파라미터(Alpha) 값을 활용해 조절\n",
    "\n",
    "- Alpha 값이 커질수록 회귀 계수 값을 작게 만듬\n",
    "\n",
    "![](./img_14.png)"
   ],
   "metadata": {
    "collapsed": false
   }
  },
  {
   "cell_type": "code",
   "execution_count": null,
   "outputs": [],
   "source": [],
   "metadata": {
    "collapsed": false
   }
  }
 ],
 "metadata": {
  "kernelspec": {
   "display_name": "Python 3",
   "language": "python",
   "name": "python3"
  },
  "language_info": {
   "codemirror_mode": {
    "name": "ipython",
    "version": 2
   },
   "file_extension": ".py",
   "mimetype": "text/x-python",
   "name": "python",
   "nbconvert_exporter": "python",
   "pygments_lexer": "ipython2",
   "version": "2.7.6"
  }
 },
 "nbformat": 4,
 "nbformat_minor": 0
}
