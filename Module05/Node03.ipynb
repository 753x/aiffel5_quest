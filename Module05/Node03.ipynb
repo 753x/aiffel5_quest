{
 "cells": [
  {
   "cell_type": "markdown",
   "source": [
    "## 딥러닝 한번에 끝내기\n",
    "### 3. 딥러닝 구조와 모델"
   ],
   "metadata": {
    "collapsed": false
   }
  },
  {
   "cell_type": "markdown",
   "source": [
    "### 3-1 들어가며"
   ],
   "metadata": {
    "collapsed": false
   }
  },
  {
   "cell_type": "markdown",
   "source": [
    "![](./img03/01.png)"
   ],
   "metadata": {
    "collapsed": false
   }
  },
  {
   "cell_type": "markdown",
   "source": [
    "![](./img03/02.png)"
   ],
   "metadata": {
    "collapsed": false
   }
  },
  {
   "cell_type": "markdown",
   "source": [
    "### 3-2 딥러닝 구조와 레이어"
   ],
   "metadata": {
    "collapsed": false
   }
  },
  {
   "cell_type": "markdown",
   "source": [
    "1. 딥러닝 구조\n",
    "모델구조"
   ],
   "metadata": {
    "collapsed": false
   }
  },
  {
   "cell_type": "markdown",
   "source": [
    "케라스에서 제공하는 API들의 구성도를 살펴보면, 크게 Model API와 Layer API가 있고 필요한 모듈들을 Modules API를 호출해서 사용합니다. 딥러닝 모델은 여러 레이어들로 구성되어 있습니다.\n",
    "\n",
    "\n",
    "![](./img03/03.png)\n",
    "\n",
    "레이어들을 사용해서 모델을 구성한다.\n"
   ],
   "metadata": {
    "collapsed": false
   }
  },
  {
   "cell_type": "markdown",
   "source": [
    "2. 레이어\n",
    "\n",
    "먼저 딥러닝을 사용하는데 필요한 라이브러리인 TensorFlow와 keras를 임포트합니다. 또한 케라스(Keras)의 레이어를 사용할 수 있도록 임포트합니다."
   ],
   "metadata": {
    "collapsed": false
   }
  },
  {
   "cell_type": "code",
   "execution_count": 152,
   "outputs": [],
   "source": [
    "import tensorflow as tf\n",
    "from tensorflow import keras\n",
    "from tensorflow.keras import layers"
   ],
   "metadata": {
    "collapsed": false,
    "ExecuteTime": {
     "end_time": "2023-08-07T08:22:47.138055Z",
     "start_time": "2023-08-07T08:22:46.605502Z"
    }
   }
  },
  {
   "cell_type": "markdown",
   "source": [
    "본 강의에서는 코어 레이어만 학습한다.\n",
    "\n",
    "레이어는 강의 교안외에도 다양하게 존재함"
   ],
   "metadata": {
    "collapsed": false
   }
  },
  {
   "cell_type": "markdown",
   "source": [
    "![](./img03/04.png)\n",
    "\n",
    "딥러닝은 여러 개의 레이어(Layer)로 구성되어 있으며, 기본적으로 입력층(Input Layer), 은닉층(Hidden Layer), 출력층(Output Layer) 으로 구분됩니다. 레이어는 딥러닝 모델을 구성하는 핵심 데이터 구조로서 하나 이상의 텐서를 입력받아 하나 이상의 텐서를 출력하는 데이터 처리 모듈입니다."
   ],
   "metadata": {
    "collapsed": false
   }
  },
  {
   "cell_type": "markdown",
   "source": [
    "![](./img03/05.png)\n",
    "인풋객체에서는 shape를 지정해줘야 하며 데이터 유형도 지정해줘야 한다.\n",
    "\n",
    "완전연결계층은 모든 노드가 연결되어 있음\n",
    "\n",
    "flatten은 2차원을 1차원으로 바꿔줌\n",
    "\n",
    "activation은 활성화 함수를 지정해줌 (Dense에 포함될수도 있음)\n",
    "\n"
   ],
   "metadata": {
    "collapsed": false
   }
  },
  {
   "cell_type": "markdown",
   "source": [
    "#### input 객체\n",
    "\n",
    "딥러닝 모델의 입력을 정의할 때 사용하는 Input 객체는 입력 데이터의 모양인 shape와 예상되는 데이터 유형인 dtype 등을 포함하고 있습니다."
   ],
   "metadata": {
    "collapsed": false
   }
  },
  {
   "cell_type": "code",
   "execution_count": 153,
   "outputs": [
    {
     "data": {
      "text/plain": "<KerasTensor: shape=(None, 8) dtype=int32 (created by layer 'input_44')>"
     },
     "execution_count": 153,
     "metadata": {},
     "output_type": "execute_result"
    }
   ],
   "source": [
    "keras.Input(shape=(8,), dtype=tf.int32)"
   ],
   "metadata": {
    "collapsed": false,
    "ExecuteTime": {
     "end_time": "2023-08-07T08:22:47.364072Z",
     "start_time": "2023-08-07T08:22:46.682895Z"
    }
   }
  },
  {
   "cell_type": "code",
   "execution_count": 154,
   "outputs": [
    {
     "data": {
      "text/plain": "<KerasTensor: shape=(None, 28, 28) dtype=float32 (created by layer 'input_45')>"
     },
     "execution_count": 154,
     "metadata": {},
     "output_type": "execute_result"
    }
   ],
   "source": [
    "keras.Input(shape=(28, 28), dtype=tf.float32)"
   ],
   "metadata": {
    "collapsed": false,
    "ExecuteTime": {
     "end_time": "2023-08-07T08:22:47.364314Z",
     "start_time": "2023-08-07T08:22:46.688531Z"
    }
   }
  },
  {
   "cell_type": "code",
   "execution_count": 155,
   "outputs": [
    {
     "data": {
      "text/plain": "<KerasTensor: shape=(16, 28, 28) dtype=float32 (created by layer 'input_46')>"
     },
     "execution_count": 155,
     "metadata": {},
     "output_type": "execute_result"
    }
   ],
   "source": [
    "#Input 객체는 배치 크기를 batch_size로 지정할 수 있고, name을 통해서 이름을 지정할 수도 있습니다.\n",
    "keras.Input(shape=(28, 28), dtype=tf.float32, batch_size=16)"
   ],
   "metadata": {
    "collapsed": false,
    "ExecuteTime": {
     "end_time": "2023-08-07T08:22:47.383951Z",
     "start_time": "2023-08-07T08:22:46.691103Z"
    }
   }
  },
  {
   "cell_type": "code",
   "execution_count": 156,
   "outputs": [
    {
     "data": {
      "text/plain": "<KerasTensor: shape=(16, 28, 28) dtype=float32 (created by layer 'input')>"
     },
     "execution_count": 156,
     "metadata": {},
     "output_type": "execute_result"
    }
   ],
   "source": [
    "keras.Input(shape=(28, 28), dtype=tf.float32, batch_size=16, name='input')"
   ],
   "metadata": {
    "collapsed": false,
    "ExecuteTime": {
     "end_time": "2023-08-07T08:22:47.384227Z",
     "start_time": "2023-08-07T08:22:46.698980Z"
    }
   }
  },
  {
   "cell_type": "markdown",
   "source": [
    "#### Dense 레이어\n",
    "\n",
    "Dense 레이어는 완전연결계층(Fully-Connected Layer)으로 노드수(유닛수)를 지정하면 생성됩니다. Dense 레이어에 대한 자세한 내용은 다음 링크를 참조하면 됩니다. https://keras.io/api/layers/core_layers/dense/"
   ],
   "metadata": {
    "collapsed": false
   }
  },
  {
   "cell_type": "code",
   "execution_count": 157,
   "outputs": [
    {
     "data": {
      "text/plain": "<keras.src.layers.core.dense.Dense at 0x7fe881e620e0>"
     },
     "execution_count": 157,
     "metadata": {},
     "output_type": "execute_result"
    }
   ],
   "source": [
    "layers.Dense(10)"
   ],
   "metadata": {
    "collapsed": false,
    "ExecuteTime": {
     "end_time": "2023-08-07T08:22:47.384967Z",
     "start_time": "2023-08-07T08:22:46.705490Z"
    }
   }
  },
  {
   "cell_type": "code",
   "execution_count": 158,
   "outputs": [
    {
     "data": {
      "text/plain": "<keras.src.layers.core.dense.Dense at 0x7fe8b25fee60>"
     },
     "execution_count": 158,
     "metadata": {},
     "output_type": "execute_result"
    }
   ],
   "source": [
    "# 레이어에 name을 통해 이름을 지정하여 레이어간의 구분이 가능합니다.\n",
    "layers.Dense(10, name='layer1')"
   ],
   "metadata": {
    "collapsed": false,
    "ExecuteTime": {
     "end_time": "2023-08-07T08:22:47.385124Z",
     "start_time": "2023-08-07T08:22:46.708923Z"
    }
   }
  },
  {
   "cell_type": "code",
   "execution_count": 159,
   "outputs": [
    {
     "data": {
      "text/plain": "<keras.src.layers.core.dense.Dense at 0x7fe8b25fc460>"
     },
     "execution_count": 159,
     "metadata": {},
     "output_type": "execute_result"
    }
   ],
   "source": [
    "# 레이어에서 사용할 활성화 함수(activation)를 지정하여 생성하는 것이 가능합니다.\n",
    "layers.Dense(10, activation='softmax')"
   ],
   "metadata": {
    "collapsed": false,
    "ExecuteTime": {
     "end_time": "2023-08-07T08:22:47.386735Z",
     "start_time": "2023-08-07T08:22:46.713165Z"
    }
   }
  },
  {
   "cell_type": "code",
   "execution_count": 160,
   "outputs": [
    {
     "data": {
      "text/plain": "<keras.src.layers.core.dense.Dense at 0x7fe8b25fd090>"
     },
     "execution_count": 160,
     "metadata": {},
     "output_type": "execute_result"
    }
   ],
   "source": [
    "#레이어에 유닛수와 활성화 함수 그리고 이름까지 지정하여 사용하는 것도 가능합니다.\n",
    "layers.Dense(10, activation='relu', name='Dense Layer')"
   ],
   "metadata": {
    "collapsed": false,
    "ExecuteTime": {
     "end_time": "2023-08-07T08:22:47.386894Z",
     "start_time": "2023-08-07T08:22:46.720338Z"
    }
   }
  },
  {
   "cell_type": "code",
   "execution_count": 161,
   "outputs": [
    {
     "name": "stdout",
     "output_type": "stream",
     "text": [
      "tf.Tensor(\n",
      "[[0.6551266  0.0320518 ]\n",
      " [0.8830751  0.95290816]\n",
      " [0.95936227 0.67962646]\n",
      " [0.9931327  0.9991865 ]\n",
      " [0.55894077 0.99750316]], shape=(5, 2), dtype=float32)\n",
      "[<tf.Variable 'dense_109/kernel:0' shape=(2, 10) dtype=float32, numpy=\n",
      "array([[ 0.10969967,  0.00743741, -0.70081186,  0.03504866,  0.44942933,\n",
      "        -0.38103515, -0.08524704, -0.07994062, -0.09723884, -0.42781073],\n",
      "       [-0.14082187,  0.46763676, -0.6340223 , -0.03881693,  0.10993296,\n",
      "        -0.05138206, -0.30664328, -0.07155019,  0.01951063, -0.05927986]],\n",
      "      dtype=float32)>, <tf.Variable 'dense_109/bias:0' shape=(10,) dtype=float32, numpy=array([0., 0., 0., 0., 0., 0., 0., 0., 0., 0.], dtype=float32)>]\n",
      "<tf.Variable 'dense_109/bias:0' shape=(10,) dtype=float32, numpy=array([0., 0., 0., 0., 0., 0., 0., 0., 0., 0.], dtype=float32)>\n",
      "tf.Tensor(\n",
      "[[0.06735358 0.01986104 0.         0.02171716 0.29795665 0.\n",
      "  0.         0.         0.         0.        ]\n",
      " [0.         0.45218268 0.         0.         0.50163585 0.\n",
      "  0.         0.         0.         0.        ]\n",
      " [0.00953545 0.3249535  0.         0.00724335 0.50587887 0.\n",
      "  0.         0.         0.         0.        ]\n",
      " [0.         0.4746427  0.         0.         0.5561865  0.\n",
      "  0.         0.         0.         0.        ]\n",
      " [0.         0.47062624 0.         0.         0.36086285 0.\n",
      "  0.         0.         0.         0.        ]], shape=(5, 10), dtype=float32)\n"
     ]
    }
   ],
   "source": [
    "# 랜덤으로 값을 만들고, 생성한 레이어에 그 값을 입력으로 사용한 뒤에 레이어 가중치 값과 결과 값을 확인해 봅시다.\n",
    "inputs = tf.random.uniform(shape=(5, 2))\n",
    "print(inputs)\n",
    "layer = layers.Dense(10, activation='relu')\n",
    "outputs = layer(inputs)\n",
    "print(layer.weights)\n",
    "print(layer.bias)\n",
    "print(outputs)"
   ],
   "metadata": {
    "collapsed": false,
    "ExecuteTime": {
     "end_time": "2023-08-07T08:22:47.389089Z",
     "start_time": "2023-08-07T08:22:46.725019Z"
    }
   }
  },
  {
   "cell_type": "markdown",
   "source": [
    "#### Activation 레이어\n",
    "\n",
    "활성화 함수는 이전 레이어의 결과값을 변환하여 다른 레이어로 전달하는 역할을 하는데, 크게 선형 활성화 함수(Linear activation function)와 비선형 활성화 함수(Non-linear activation function)로 구분할 수 있습니다. 다만 딥러닝에서는 선형 활성화 함수를 사용하면 다층 구조를 사용하는 의미가 없기 때문에 모델 표현력을 위해서 비선형 활성화 함수 를 사용합니다.\n",
    "\n",
    "케라스의 Dense 레이어에서 미리 활성화 함수를 지정할 수도 있지만, 필요에 따라 별도의 Activation 레이어를 만들어줄 수 있습니다.\n",
    "\n",
    "Keras에서 제공하는 활성화 함수(activation function)의 종류: https://keras.io/api/layers/activations/"
   ],
   "metadata": {
    "collapsed": false
   }
  },
  {
   "cell_type": "code",
   "execution_count": 162,
   "outputs": [
    {
     "data": {
      "text/plain": "<Figure size 640x480 with 1 Axes>",
      "image/png": "[encoded data removed]"
     },
     "metadata": {},
     "output_type": "display_data"
    }
   ],
   "source": [
    "# Activation 레이어가 어떤식으로 동작하는지 살펴보기 위해서 -10부터 10 사이의 수 가운데 100개의 값을 입력 데이터로 사용해 봅시다.\n",
    "import numpy as np\n",
    "import matplotlib.pyplot as plt\n",
    "\n",
    "input = np.linspace(-10, 10, 100)\n",
    "x = np.linspace(-10, 10, 100)\n",
    "plt.scatter(x, input)\n",
    "plt.show()"
   ],
   "metadata": {
    "collapsed": false,
    "ExecuteTime": {
     "end_time": "2023-08-07T08:22:47.424688Z",
     "start_time": "2023-08-07T08:22:46.741364Z"
    }
   }
  },
  {
   "cell_type": "markdown",
   "source": [
    "![](./img03/06.png)\n",
    "\n",
    "<시그모이드함수>\n",
    "활성화 함수 중에서도 오래전부터 사용되던 시그모이드(sigmoid) 함수는 다음과 같이 표현됩니다.\n",
    "\n",
    "$$\\sigma(x) = \\frac{1}{1+e^{-x}}$$\n",
    "\n",
    "시그모이드 함수는 주로 확률 예측 모델에 자주 사용되며, 출력값이 0과 1 사이로 나타납니다. 그러다보니 0과 1 사이에서 포화(saturate)되는 문제가 있습니다. 즉, 입력값이 작아도 출력값이 0 이하가 될 수 없고, 커져도 1 이상이 될 수 없기 때문에 훈련 시간이 오래걸리고, 그래디언트(gradient)가 0에 가까워져서 가중치 업데이트가 발생하지 않게 됩니다.\n",
    "\n",
    "시그모이드 함수는 0과 1에서 포화되는 문제가 있음 (0이거나 1이거나)\n",
    "\n",
    "0과 1로 제한이 되다보니 훈련시간 오래 걸림\n",
    "\n",
    "베니싱그레디언트 발생\n"
   ],
   "metadata": {
    "collapsed": false
   }
  },
  {
   "cell_type": "code",
   "execution_count": 163,
   "outputs": [
    {
     "data": {
      "text/plain": "<Figure size 640x480 with 1 Axes>",
      "image/png": "[encoded data removed]"
     },
     "metadata": {},
     "output_type": "display_data"
    }
   ],
   "source": [
    "layer = layers.Activation('sigmoid')\n",
    "output = layer(input)\n",
    "\n",
    "plt.scatter(x, output)\n",
    "plt.show()"
   ],
   "metadata": {
    "collapsed": false,
    "ExecuteTime": {
     "end_time": "2023-08-07T08:22:47.446659Z",
     "start_time": "2023-08-07T08:22:46.876041Z"
    }
   }
  },
  {
   "cell_type": "markdown",
   "source": [],
   "metadata": {
    "collapsed": false
   }
  },
  {
   "cell_type": "markdown",
   "source": [
    "<하이퍼볼릭 탄젠트 함수>\n",
    "\n",
    "하이퍼볼릭 탄젠트(tanh, Hyperbolic tangent) 함수는 다음과 같이 표현됩니다.\n",
    "\n",
    "$$\\tanh(x) = \\frac{e^x - e^{-x}}{e^x + e^{-x}}$$\n",
    "\n",
    "하이퍼볼릭 탄젠트 함수는 0을 중심으로 -1과 1 사이의 값이 나타납니다. 일반적으로 시그모이드 함수보다는 빨리 훈련되지만, 여전히 -1과 1 사이에서 포화되는 문제가 있습니다."
   ],
   "metadata": {
    "collapsed": false
   }
  },
  {
   "cell_type": "code",
   "execution_count": 164,
   "outputs": [
    {
     "data": {
      "text/plain": "<Figure size 640x480 with 1 Axes>",
      "image/png": "[encoded data removed]"
     },
     "metadata": {},
     "output_type": "display_data"
    }
   ],
   "source": [
    "layer = layers.Activation('tanh')\n",
    "output = layer(input)\n",
    "\n",
    "plt.scatter(x, output)\n",
    "plt.show()"
   ],
   "metadata": {
    "collapsed": false,
    "ExecuteTime": {
     "end_time": "2023-08-07T08:22:47.472385Z",
     "start_time": "2023-08-07T08:22:46.980978Z"
    }
   }
  },
  {
   "cell_type": "markdown",
   "source": [
    "![](./img03/07.png)\n",
    "\n",
    "<relu>\n",
    "\n",
    "최근에 가장 많이 사용하는 활성화 함수인 ReLU(Rectified Linear Unit)는 다음과 같이 표현됩니다.\n",
    "\n",
    "$$f(x) = max(0, x)$$\n",
    "\n",
    "ReLU 함수의 출력값은 0부터 무한대까지의 범위의 값을 가지므로 하이퍼볼릭 탄젠트 함수보다 몇 배는 더 빠르게 훈련됩니다. 다만 ReLU 함수 출력값이 0이 중심이 아니고, 학습률(learning rate)이 크면 ReLU를 사용한 노드에서 출력이 0으로만 나온다는 문제가 있습니다.\n",
    "\n",
    "특정기준 이하는 다 0이기 때문에  출력을 0으로 만들어버림"
   ],
   "metadata": {
    "collapsed": false
   }
  },
  {
   "cell_type": "code",
   "execution_count": 165,
   "outputs": [
    {
     "data": {
      "text/plain": "<Figure size 640x480 with 1 Axes>",
      "image/png": "[encoded data removed]"
     },
     "metadata": {},
     "output_type": "display_data"
    }
   ],
   "source": [
    "layer = layers.Activation('relu')\n",
    "output = layer(input)\n",
    "\n",
    "plt.scatter(x, output)\n",
    "plt.show()"
   ],
   "metadata": {
    "collapsed": false,
    "ExecuteTime": {
     "end_time": "2023-08-07T08:22:47.483723Z",
     "start_time": "2023-08-07T08:22:47.112598Z"
    }
   }
  },
  {
   "cell_type": "markdown",
   "source": [
    "<Leaky Relu>\n",
    "\n",
    "Leaky ReLU 함수는 ReLU 함수의 문제점, 즉 노드 출력을 0으로만 하던 문제를 해결하였으며 다음과 같이 표현됩니다.\n",
    "\n",
    "$$f(x) = max(0.01x, x)$$\n",
    "\n",
    "relu의 문제점을 보완한 것. Leaky ReLU 함수는 노드 출력을 0이 아닌 아주 작은 음수값으로 출력하게 만들어 해결하였습니다."
   ],
   "metadata": {
    "collapsed": false
   }
  },
  {
   "cell_type": "code",
   "execution_count": 166,
   "outputs": [
    {
     "data": {
      "text/plain": "<Figure size 640x480 with 1 Axes>",
      "image/png": "[encoded data removed]"
     },
     "metadata": {},
     "output_type": "display_data"
    }
   ],
   "source": [
    "layer = layers.LeakyReLU()\n",
    "output = layer(input)\n",
    "\n",
    "plt.scatter(x, output)\n",
    "plt.show()"
   ],
   "metadata": {
    "collapsed": false,
    "ExecuteTime": {
     "end_time": "2023-08-07T08:22:47.484169Z",
     "start_time": "2023-08-07T08:22:47.227933Z"
    }
   }
  },
  {
   "cell_type": "markdown",
   "source": [
    "#### ELU\n",
    "\n",
    "ELU(Exponential Linear Unit) 함수는 ReLU가 중심점이 0이 아니고, 노드 출력을 0으로만 하던 문제를 해결한 활성화 함수이며, 다음과 같이 표현됩니다.\n",
    "\n",
    "$$f(x) = \\begin{cases} x & \\text{if } x > 0 \\\\ \\alpha(e^x - 1) & \\text{if } x \\leq 0 \\end{cases}$$\n",
    "\n",
    "ELU 함수는 0 이하에서는 exponential 연산이 수행되므로 계산 비용이 높아지는 단점이 있습니다."
   ],
   "metadata": {
    "collapsed": false
   }
  },
  {
   "cell_type": "code",
   "execution_count": 167,
   "outputs": [
    {
     "data": {
      "text/plain": "<Figure size 640x480 with 1 Axes>",
      "image/png": "[encoded data removed]"
     },
     "metadata": {},
     "output_type": "display_data"
    }
   ],
   "source": [
    "layer = layers.ELU()\n",
    "output = layer(input)\n",
    "\n",
    "plt.scatter(x, output)\n",
    "plt.show()"
   ],
   "metadata": {
    "collapsed": false,
    "ExecuteTime": {
     "end_time": "2023-08-07T08:22:47.718147Z",
     "start_time": "2023-08-07T08:22:47.349404Z"
    }
   }
  },
  {
   "cell_type": "markdown",
   "source": [
    "![](./img03/08.png)\n",
    "\n",
    "0이하에서는 exponential 연산 진행"
   ],
   "metadata": {
    "collapsed": false
   }
  },
  {
   "cell_type": "markdown",
   "source": [
    "#### Flatten 레이어\n",
    "\n",
    "Flatten 레이어는 배치 크기(또는 데이터 크기)를 제외하고 데이터를 1차원 형태로 평평하게 변환합니다."
   ],
   "metadata": {
    "collapsed": false
   }
  },
  {
   "cell_type": "code",
   "execution_count": 168,
   "outputs": [
    {
     "name": "stdout",
     "output_type": "stream",
     "text": [
      "(None, 784)\n"
     ]
    }
   ],
   "source": [
    "inputs = keras.Input(shape=(28, 28, 1))\n",
    "layer = layers.Flatten(input_shape=(28, 28, 1))(inputs)\n",
    "print(layer.shape)"
   ],
   "metadata": {
    "collapsed": false,
    "ExecuteTime": {
     "end_time": "2023-08-07T08:22:47.718795Z",
     "start_time": "2023-08-07T08:22:47.485623Z"
    }
   }
  },
  {
   "cell_type": "markdown",
   "source": [
    "Q.입력값 (224, 224, 1)를 Flatten 레이어에 넣으면 어떤 크기의 1차원 형태 데이터가 나올까요?\n",
    "\n",
    "입력값이 (224, 224, 1)인 경우, Flatten 레이어는 224 x 224 x 1 = 50176 크기의 1차원 형태 데이터를 출력합니다. Flatten 레이어는 입력된 다차원 배열을 하나의 차원으로 평탄화(flatten)하여 1차원 배열 형태로 반환합니다. 따라서, 입력 데이터의 크기와 상관없이 모든 입력값에 대해 고정된 크기의 1차원 배열을 출력합니다.\n"
   ],
   "metadata": {
    "collapsed": false
   }
  },
  {
   "cell_type": "code",
   "execution_count": 169,
   "outputs": [
    {
     "name": "stdout",
     "output_type": "stream",
     "text": [
      "(None, 50176)\n"
     ]
    }
   ],
   "source": [
    "inputs = keras.Input(shape=(224, 224, 1))\n",
    "layer = layers.Flatten()(inputs)\n",
    "print(layer.shape)"
   ],
   "metadata": {
    "collapsed": false,
    "ExecuteTime": {
     "end_time": "2023-08-07T08:22:47.719349Z",
     "start_time": "2023-08-07T08:22:47.501588Z"
    }
   }
  },
  {
   "cell_type": "markdown",
   "source": [
    "### 3-3 딥러닝 모델\n",
    "\n",
    "딥러닝 모델을 구성하는 방법은 1) Sequential() 함수를 이용한 Sequential API 방법과 2) Functional API를 이용하는 방법, 그리고 3) Subclassing API를 이용하는 방법이 있습니다."
   ],
   "metadata": {
    "collapsed": false
   }
  },
  {
   "cell_type": "markdown",
   "source": [
    "![](./img03/09.png)\n",
    "\n",
    "단순 모델일때는 Sequential 모델을 사용하면 됨\n",
    "\n",
    "복잡한 모델일때는 Functional API를 사용해야함\n",
    "\n",
    "Subclassing API는 Functional API를 사용할 수 없는 특수한 경우에 사용"
   ],
   "metadata": {
    "collapsed": false
   }
  },
  {
   "cell_type": "markdown",
   "source": [
    "먼저 케라스(Keras)에서 모델과 유틸리티들을 사용할 수 있도록 `models`, `utils`를 임포트하겠습니다."
   ],
   "metadata": {
    "collapsed": false
   }
  },
  {
   "cell_type": "code",
   "execution_count": 170,
   "outputs": [],
   "source": [
    "from tensorflow.keras import models, utils"
   ],
   "metadata": {
    "collapsed": false,
    "ExecuteTime": {
     "end_time": "2023-08-07T08:22:47.719738Z",
     "start_time": "2023-08-07T08:22:47.507464Z"
    }
   }
  },
  {
   "cell_type": "markdown",
   "source": [
    "#### Sequential API\n",
    "Sequential API를 이용하는 방법은 모델이 순차적인 구조로 진행할 때 사용하는 간단한 방법입니다. 다만 이 방법은 다중 입력 및 출력이 존재하는 등의 복잡한 모델을 구성할 수 없습니다.\n",
    "\n",
    "Sequential API를 이용한 방법 중 첫번째는 Sequential 객체 생성 후,add()를 이용하여 사용할 레이어들을 추가하는 방법입니다."
   ],
   "metadata": {
    "collapsed": false
   }
  },
  {
   "cell_type": "code",
   "execution_count": 171,
   "outputs": [
    {
     "name": "stdout",
     "output_type": "stream",
     "text": [
      "Model: \"sequential_20\"\n",
      "_________________________________________________________________\n",
      " Layer (type)                Output Shape              Param #   \n",
      "=================================================================\n",
      " dense_110 (Dense)           (None, 28, 300)           8700      \n",
      "                                                                 \n",
      " dense_111 (Dense)           (None, 28, 100)           30100     \n",
      "                                                                 \n",
      " dense_112 (Dense)           (None, 28, 10)            1010      \n",
      "                                                                 \n",
      "=================================================================\n",
      "Total params: 39810 (155.51 KB)\n",
      "Trainable params: 39810 (155.51 KB)\n",
      "Non-trainable params: 0 (0.00 Byte)\n",
      "_________________________________________________________________\n"
     ]
    }
   ],
   "source": [
    "model = models.Sequential()\n",
    "model.add(layers.Input(shape=(28, 28)))\n",
    "model.add(layers.Dense(300, activation='relu'))\n",
    "model.add(layers.Dense(100, activation='relu'))\n",
    "model.add(layers.Dense(10, activation='softmax'))\n",
    "model.summary()"
   ],
   "metadata": {
    "collapsed": false,
    "ExecuteTime": {
     "end_time": "2023-08-07T08:22:47.769842Z",
     "start_time": "2023-08-07T08:22:47.509525Z"
    }
   }
  },
  {
   "cell_type": "code",
   "execution_count": 172,
   "outputs": [
    {
     "data": {
      "image/png": "[encoded data removed]",
      "text/plain": "<IPython.core.display.Image object>"
     },
     "execution_count": 172,
     "metadata": {},
     "output_type": "execute_result"
    }
   ],
   "source": [
    "# plot_model() 함수를 통해 딥러닝 모델의 모습을 시각적으로 확인할 수 있습니다.\n",
    "utils.plot_model(model)"
   ],
   "metadata": {
    "collapsed": false,
    "ExecuteTime": {
     "end_time": "2023-08-07T08:22:47.771497Z",
     "start_time": "2023-08-07T08:22:47.569355Z"
    }
   }
  },
  {
   "cell_type": "markdown",
   "source": [],
   "metadata": {
    "collapsed": false,
    "ExecuteTime": {
     "end_time": "2023-08-07T08:22:47.933299Z",
     "start_time": "2023-08-07T08:22:47.707735Z"
    }
   },
   "outputs": [
    {
     "name": "stdout",
     "output_type": "stream",
     "text": [
      "Model: \"sequential_21\"\n",
      "_________________________________________________________________\n",
      " Layer (type)                Output Shape              Param #   \n",
      "=================================================================\n",
      " Dense1 (Dense)              (None, 28, 300)           8700      \n",
      "                                                                 \n",
      " Dense2 (Dense)              (None, 28, 100)           30100     \n",
      "                                                                 \n",
      " Output (Dense)              (None, 28, 10)            1010      \n",
      "                                                                 \n",
      "=================================================================\n",
      "Total params: 39810 (155.51 KB)\n",
      "Trainable params: 39810 (155.51 KB)\n",
      "Non-trainable params: 0 (0.00 Byte)\n",
      "_________________________________________________________________\n"
     ]
    }
   ],
   "execution_count": 173
  },
  {
   "cell_type": "markdown",
   "source": [],
   "metadata": {
    "collapsed": false,
    "ExecuteTime": {
     "end_time": "2023-08-07T08:22:47.957802Z",
     "start_time": "2023-08-07T08:22:47.793401Z"
    }
   },
   "outputs": [
    {
     "data": {
      "image/png": "[encoded data removed]",
      "text/plain": "<IPython.core.display.Image object>"
     },
     "execution_count": 174,
     "metadata": {},
     "output_type": "execute_result"
    }
   ],
   "execution_count": 174
  },
  {
   "cell_type": "markdown",
   "source": [],
   "metadata": {
    "collapsed": false,
    "ExecuteTime": {
     "end_time": "2023-08-07T07:50:50.625167Z",
     "start_time": "2023-08-07T07:50:50.483389Z"
    }
   },
   "outputs": [
    {
     "data": {
      "image/png": "[encoded data removed]",
      "text/plain": "<IPython.core.display.Image object>"
     },
     "execution_count": 24,
     "metadata": {},
     "output_type": "execute_result"
    }
   ],
   "execution_count": 24
  },
  {
   "cell_type": "markdown",
   "source": [],
   "metadata": {
    "collapsed": false,
    "ExecuteTime": {
     "end_time": "2023-08-07T08:22:48.067158Z",
     "start_time": "2023-08-07T08:22:47.927947Z"
    }
   },
   "outputs": [
    {
     "name": "stdout",
     "output_type": "stream",
     "text": [
      "Model: \"model_22\"\n",
      "_________________________________________________________________\n",
      " Layer (type)                Output Shape              Param #   \n",
      "=================================================================\n",
      " input_50 (InputLayer)       [(None, 28, 28, 1)]       0         \n",
      "                                                                 \n",
      " flatten_25 (Flatten)        (None, 784)               0         \n",
      "                                                                 \n",
      " dense_113 (Dense)           (None, 300)               235500    \n",
      "                                                                 \n",
      " dense_114 (Dense)           (None, 100)               30100     \n",
      "                                                                 \n",
      " dense_115 (Dense)           (None, 10)                1010      \n",
      "                                                                 \n",
      "=================================================================\n",
      "Total params: 266610 (1.02 MB)\n",
      "Trainable params: 266610 (1.02 MB)\n",
      "Non-trainable params: 0 (0.00 Byte)\n",
      "_________________________________________________________________\n"
     ]
    }
   ],
   "execution_count": 175
  },
  {
   "cell_type": "markdown",
   "source": [],
   "metadata": {
    "collapsed": false,
    "ExecuteTime": {
     "end_time": "2023-08-07T08:22:48.165395Z",
     "start_time": "2023-08-07T08:22:47.967349Z"
    }
   },
   "outputs": [
    {
     "data": {
      "image/png": "[encoded data removed]",
      "text/plain": "<IPython.core.display.Image object>"
     },
     "execution_count": 176,
     "metadata": {},
     "output_type": "execute_result"
    }
   ],
   "execution_count": 176
  },
  {
   "cell_type": "markdown",
   "source": [],
   "metadata": {
    "collapsed": false
   }
  },
  {
   "cell_type": "markdown",
   "source": [],
   "metadata": {
    "collapsed": false,
    "ExecuteTime": {
     "end_time": "2023-08-07T08:22:48.227272Z",
     "start_time": "2023-08-07T08:22:48.138108Z"
    }
   },
   "outputs": [
    {
     "name": "stdout",
     "output_type": "stream",
     "text": [
      "Model: \"model_23\"\n",
      "__________________________________________________________________________________________________\n",
      " Layer (type)                Output Shape                 Param #   Connected to                  \n",
      "==================================================================================================\n",
      " input_51 (InputLayer)       [(None, 28, 28)]             0         []                            \n",
      "                                                                                                  \n",
      " dense_116 (Dense)           (None, 28, 100)              2900      ['input_51[0][0]']            \n",
      "                                                                                                  \n",
      " dense_117 (Dense)           (None, 28, 30)               3030      ['dense_116[0][0]']           \n",
      "                                                                                                  \n",
      " concatenate_12 (Concatenat  (None, 28, 58)               0         ['input_51[0][0]',            \n",
      " e)                                                                  'dense_117[0][0]']           \n",
      "                                                                                                  \n",
      " dense_118 (Dense)           (None, 28, 1)                59        ['concatenate_12[0][0]']      \n",
      "                                                                                                  \n",
      "==================================================================================================\n",
      "Total params: 5989 (23.39 KB)\n",
      "Trainable params: 5989 (23.39 KB)\n",
      "Non-trainable params: 0 (0.00 Byte)\n",
      "__________________________________________________________________________________________________\n"
     ]
    }
   ],
   "execution_count": 177
  },
  {
   "cell_type": "markdown",
   "source": [],
   "metadata": {
    "collapsed": false,
    "ExecuteTime": {
     "end_time": "2023-08-07T08:22:48.325566Z",
     "start_time": "2023-08-07T08:22:48.193663Z"
    }
   },
   "outputs": [
    {
     "data": {
      "image/png": "[encoded data removed]",
      "text/plain": "<IPython.core.display.Image object>"
     },
     "execution_count": 178,
     "metadata": {},
     "output_type": "execute_result"
    }
   ],
   "execution_count": 178
  },
  {
   "cell_type": "markdown",
   "source": [],
   "metadata": {
    "collapsed": false
   }
  },
  {
   "cell_type": "markdown",
   "source": [],
   "metadata": {
    "collapsed": false,
    "ExecuteTime": {
     "end_time": "2023-08-07T08:22:48.389090Z",
     "start_time": "2023-08-07T08:22:48.333356Z"
    }
   },
   "outputs": [
    {
     "name": "stdout",
     "output_type": "stream",
     "text": [
      "Model: \"model_24\"\n",
      "__________________________________________________________________________________________________\n",
      " Layer (type)                Output Shape                 Param #   Connected to                  \n",
      "==================================================================================================\n",
      " Input_2 (InputLayer)        [(None, 10, 28)]             0         []                            \n",
      "                                                                                                  \n",
      " dense_119 (Dense)           (None, 10, 100)              2900      ['Input_2[0][0]']             \n",
      "                                                                                                  \n",
      " Input_1 (InputLayer)        [(None, 10, 10)]             0         []                            \n",
      "                                                                                                  \n",
      " dense_120 (Dense)           (None, 10, 10)               1010      ['dense_119[0][0]']           \n",
      "                                                                                                  \n",
      " concatenate_13 (Concatenat  (None, 10, 20)               0         ['Input_1[0][0]',             \n",
      " e)                                                                  'dense_120[0][0]']           \n",
      "                                                                                                  \n",
      " output (Dense)              (None, 10, 1)                21        ['concatenate_13[0][0]']      \n",
      "                                                                                                  \n",
      "==================================================================================================\n",
      "Total params: 3931 (15.36 KB)\n",
      "Trainable params: 3931 (15.36 KB)\n",
      "Non-trainable params: 0 (0.00 Byte)\n",
      "__________________________________________________________________________________________________\n"
     ]
    }
   ],
   "execution_count": 179
  },
  {
   "cell_type": "markdown",
   "source": [],
   "metadata": {
    "collapsed": false,
    "ExecuteTime": {
     "end_time": "2023-08-07T08:22:48.528962Z",
     "start_time": "2023-08-07T08:22:48.393965Z"
    }
   },
   "outputs": [
    {
     "data": {
      "image/png": "[encoded data removed]",
      "text/plain": "<IPython.core.display.Image object>"
     },
     "execution_count": 180,
     "metadata": {},
     "output_type": "execute_result"
    }
   ],
   "execution_count": 180
  },
  {
   "cell_type": "markdown",
   "source": [],
   "metadata": {
    "collapsed": false,
    "ExecuteTime": {
     "end_time": "2023-08-07T07:53:35.812486Z",
     "start_time": "2023-08-07T07:53:35.747419Z"
    }
   },
   "outputs": [
    {
     "name": "stdout",
     "output_type": "stream",
     "text": [
      "Model: \"model_3\"\n",
      "__________________________________________________________________________________________________\n",
      " Layer (type)                Output Shape                 Param #   Connected to                  \n",
      "==================================================================================================\n",
      " input_ (InputLayer)         [(None, 10, 10)]             0         []                            \n",
      "                                                                                                  \n",
      " dense_14 (Dense)            (None, 10, 100)              1100      ['input_[0][0]']              \n",
      "                                                                                                  \n",
      " dense_15 (Dense)            (None, 10, 10)               1010      ['dense_14[0][0]']            \n",
      "                                                                                                  \n",
      " main_output (Dense)         (None, 10, 1)                11        ['dense_15[0][0]']            \n",
      "                                                                                                  \n",
      " sum_output (Dense)          (None, 10, 1)                11        ['dense_15[0][0]']            \n",
      "                                                                                                  \n",
      "==================================================================================================\n",
      "Total params: 2132 (8.33 KB)\n",
      "Trainable params: 2132 (8.33 KB)\n",
      "Non-trainable params: 0 (0.00 Byte)\n",
      "__________________________________________________________________________________________________\n"
     ]
    }
   ],
   "execution_count": 33
  },
  {
   "cell_type": "markdown",
   "source": [],
   "metadata": {
    "collapsed": false,
    "ExecuteTime": {
     "end_time": "2023-08-07T08:22:48.612876Z",
     "start_time": "2023-08-07T08:22:48.537715Z"
    }
   },
   "outputs": [
    {
     "name": "stdout",
     "output_type": "stream",
     "text": [
      "Model: \"model_25\"\n",
      "__________________________________________________________________________________________________\n",
      " Layer (type)                Output Shape                 Param #   Connected to                  \n",
      "==================================================================================================\n",
      " input_ (InputLayer)         [(None, 10, 10)]             0         []                            \n",
      "                                                                                                  \n",
      " dense_121 (Dense)           (None, 10, 100)              1100      ['input_[0][0]']              \n",
      "                                                                                                  \n",
      " dense_122 (Dense)           (None, 10, 10)               1010      ['dense_121[0][0]']           \n",
      "                                                                                                  \n",
      " main_output (Dense)         (None, 10, 1)                11        ['dense_122[0][0]']           \n",
      "                                                                                                  \n",
      " sum_output (Dense)          (None, 10, 1)                11        ['dense_122[0][0]']           \n",
      "                                                                                                  \n",
      "==================================================================================================\n",
      "Total params: 2132 (8.33 KB)\n",
      "Trainable params: 2132 (8.33 KB)\n",
      "Non-trainable params: 0 (0.00 Byte)\n",
      "__________________________________________________________________________________________________\n"
     ]
    }
   ],
   "execution_count": 181
  },
  {
   "cell_type": "markdown",
   "source": [],
   "metadata": {
    "collapsed": false,
    "ExecuteTime": {
     "end_time": "2023-08-07T08:22:48.759509Z",
     "start_time": "2023-08-07T08:22:48.615341Z"
    }
   },
   "outputs": [
    {
     "data": {
      "image/png": "[encoded data removed]",
      "text/plain": "<IPython.core.display.Image object>"
     },
     "execution_count": 182,
     "metadata": {},
     "output_type": "execute_result"
    }
   ],
   "execution_count": 182
  },
  {
   "cell_type": "markdown",
   "source": [],
   "metadata": {
    "collapsed": false
   }
  },
  {
   "cell_type": "markdown",
   "source": [],
   "metadata": {
    "collapsed": false,
    "ExecuteTime": {
     "end_time": "2023-08-07T08:22:48.854400Z",
     "start_time": "2023-08-07T08:22:48.784591Z"
    }
   },
   "outputs": [
    {
     "name": "stdout",
     "output_type": "stream",
     "text": [
      "Model: \"model_26\"\n",
      "__________________________________________________________________________________________________\n",
      " Layer (type)                Output Shape                 Param #   Connected to                  \n",
      "==================================================================================================\n",
      " input_2 (InputLayer)        [(None, 10, 28)]             0         []                            \n",
      "                                                                                                  \n",
      " dense_123 (Dense)           (None, 10, 100)              2900      ['input_2[0][0]']             \n",
      "                                                                                                  \n",
      " input_1 (InputLayer)        [(None, 10, 10)]             0         []                            \n",
      "                                                                                                  \n",
      " dense_124 (Dense)           (None, 10, 10)               1010      ['dense_123[0][0]']           \n",
      "                                                                                                  \n",
      " concatenate_14 (Concatenat  (None, 10, 20)               0         ['input_1[0][0]',             \n",
      " e)                                                                  'dense_124[0][0]']           \n",
      "                                                                                                  \n",
      " main_output (Dense)         (None, 10, 1)                21        ['concatenate_14[0][0]']      \n",
      "                                                                                                  \n",
      " sum_output (Dense)          (None, 10, 1)                11        ['dense_124[0][0]']           \n",
      "                                                                                                  \n",
      "==================================================================================================\n",
      "Total params: 3942 (15.40 KB)\n",
      "Trainable params: 3942 (15.40 KB)\n",
      "Non-trainable params: 0 (0.00 Byte)\n",
      "__________________________________________________________________________________________________\n"
     ]
    }
   ],
   "execution_count": 183
  },
  {
   "cell_type": "markdown",
   "source": [],
   "metadata": {
    "collapsed": false,
    "ExecuteTime": {
     "end_time": "2023-08-07T08:22:48.996452Z",
     "start_time": "2023-08-07T08:22:48.860565Z"
    }
   },
   "outputs": [
    {
     "data": {
      "image/png": "[encoded data removed]",
      "text/plain": "<IPython.core.display.Image object>"
     },
     "execution_count": 184,
     "metadata": {},
     "output_type": "execute_result"
    }
   ],
   "execution_count": 184
  },
  {
   "cell_type": "markdown",
   "source": [],
   "metadata": {
    "collapsed": false
   }
  },
  {
   "cell_type": "markdown",
   "source": [],
   "metadata": {
    "collapsed": false
   }
  },
  {
   "cell_type": "markdown",
   "source": [],
   "metadata": {
    "collapsed": false,
    "ExecuteTime": {
     "end_time": "2023-08-07T08:22:49.002546Z",
     "start_time": "2023-08-07T08:22:49.000566Z"
    }
   },
   "outputs": [],
   "execution_count": 185
  },
  {
   "cell_type": "markdown",
   "source": [],
   "metadata": {
    "collapsed": false
   }
  },
  {
   "cell_type": "markdown",
   "source": [],
   "metadata": {
    "collapsed": false,
    "ExecuteTime": {
     "end_time": "2023-08-07T08:22:49.101414Z",
     "start_time": "2023-08-07T08:22:49.009061Z"
    }
   },
   "outputs": [
    {
     "name": "stdout",
     "output_type": "stream",
     "text": [
      "Model: \"sequential_22\"\n",
      "_________________________________________________________________\n",
      " Layer (type)                Output Shape              Param #   \n",
      "=================================================================\n",
      " flatten_26 (Flatten)        (None, 30000)             0         \n",
      "                                                                 \n",
      " dense_125 (Dense)           (None, 400)               12000400  \n",
      "                                                                 \n",
      " dense_126 (Dense)           (None, 200)               80200     \n",
      "                                                                 \n",
      " dense_127 (Dense)           (None, 100)               20100     \n",
      "                                                                 \n",
      "=================================================================\n",
      "Total params: 12100700 (46.16 MB)\n",
      "Trainable params: 12100700 (46.16 MB)\n",
      "Non-trainable params: 0 (0.00 Byte)\n",
      "_________________________________________________________________\n"
     ]
    }
   ],
   "execution_count": 186
  },
  {
   "cell_type": "markdown",
   "source": [],
   "metadata": {
    "collapsed": false
   }
  }
 ],
 "metadata": {
  "kernelspec": {
   "display_name": "Python 3",
   "language": "python",
   "name": "python3"
  },
  "language_info": {
   "codemirror_mode": {
    "name": "ipython",
    "version": 2
   },
   "file_extension": ".py",
   "mimetype": "text/x-python",
   "name": "python",
   "nbconvert_exporter": "python",
   "pygments_lexer": "ipython2",
   "version": "2.7.6"
  }
 },
 "nbformat": 4,
 "nbformat_minor": 0
}
