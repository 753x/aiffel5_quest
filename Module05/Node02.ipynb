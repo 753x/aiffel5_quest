{
 "cells": [
  {
   "cell_type": "markdown",
   "source": [
    "## 딥러닝 한번에 끝내기\n",
    "### 2. 텐서 표현과 연산"
   ],
   "metadata": {
    "collapsed": false
   }
  },
  {
   "cell_type": "markdown",
   "source": [
    "### 2-1 들어가며"
   ],
   "metadata": {
    "collapsed": false
   }
  },
  {
   "cell_type": "markdown",
   "source": [
    "1. tensor\n",
    "2. tensor 타입 및 변환\n",
    "3. tensor 연산"
   ],
   "metadata": {
    "collapsed": false
   }
  },
  {
   "cell_type": "markdown",
   "source": [
    "학습목표\n",
    "\n",
    "텐서의 개념을 이해합니다.\n",
    "\n",
    "텐서의 데이터 타입을 이해합니다.\n",
    "\n",
    "텐서의 연산을 수행합니다."
   ],
   "metadata": {
    "collapsed": false
   }
  },
  {
   "cell_type": "markdown",
   "source": [
    "## 2-2 텐서(Tensor)"
   ],
   "metadata": {
    "collapsed": false
   }
  },
  {
   "cell_type": "markdown",
   "source": [
    "![](./img02/01.png)\n",
    "\n",
    "2차원의 텐서는 축이 2개라 rank 2 텐서라고 부릅니다.\n",
    "\n",
    "4차원 텐서는 기존 3차원 텐서의 축 3개 외 추가적인 축 1개가 더 생겨 rank 4 텐서라고 부릅니다.\n",
    "\n",
    "6차원을 넘는 다양한 텐서가 존재\n"
   ],
   "metadata": {
    "collapsed": false
   }
  },
  {
   "cell_type": "markdown",
   "source": [
    "![](./img02/02.png)\n",
    "\n",
    "3차원 텐서의 대표적인 데이터는 주가 데이터"
   ],
   "metadata": {
    "collapsed": false
   }
  },
  {
   "cell_type": "markdown",
   "source": [
    "![](./img02/03.png)\n",
    "\n",
    "컬러 이미지가 여러장이면 영상데이터 저장 가능"
   ],
   "metadata": {
    "collapsed": false
   }
  },
  {
   "cell_type": "markdown",
   "source": [
    "## 0D Tensor(Scalar)"
   ],
   "metadata": {
    "collapsed": false
   }
  },
  {
   "cell_type": "code",
   "execution_count": 52,
   "outputs": [
    {
     "name": "stdout",
     "output_type": "stream",
     "text": [
      "tf.Tensor(1, shape=(), dtype=int32)\n",
      "tf.Tensor(0, shape=(), dtype=int32)\n"
     ]
    }
   ],
   "source": [
    "import tensorflow as tf\n",
    "\n",
    "#0차원 텐서는 하나의 숫자를 담고 있는 텐서(tensor)입니다. 스칼라(scalar)라고도 부르며, 축과 형상이 없습니다.\n",
    "\n",
    "# tf.constant()를 사용하면 상수(constant) 텐서를 만들 수 있고, 만든 텐서에 tf.rank()를 적용하면 축의 개수를 알 수 있습니다.\n",
    "\n",
    "t0 = tf.constant(1)\n",
    "print(t0)\n",
    "print(tf.rank(t0)) # rank는 축의 개수를 의미합니다."
   ],
   "metadata": {
    "collapsed": false,
    "ExecuteTime": {
     "end_time": "2023-08-07T06:48:27.785197Z",
     "start_time": "2023-08-07T06:48:27.413265Z"
    }
   }
  },
  {
   "cell_type": "markdown",
   "source": [
    "## 1D Tensor(Vector)"
   ],
   "metadata": {
    "collapsed": false
   }
  },
  {
   "cell_type": "code",
   "execution_count": 53,
   "outputs": [
    {
     "name": "stdout",
     "output_type": "stream",
     "text": [
      "tf.Tensor([1 2 3], shape=(3,), dtype=int32)\n",
      "tf.Tensor(1, shape=(), dtype=int32)\n"
     ]
    }
   ],
   "source": [
    "t1 = tf.constant([1, 2, 3])\n",
    "print(t1)\n",
    "print(tf.rank(t1))"
   ],
   "metadata": {
    "collapsed": false,
    "ExecuteTime": {
     "end_time": "2023-08-07T06:48:27.786650Z",
     "start_time": "2023-08-07T06:48:27.425074Z"
    }
   }
  },
  {
   "cell_type": "markdown",
   "source": [
    "## 2D Tensor(Matrix)"
   ],
   "metadata": {
    "collapsed": false
   }
  },
  {
   "cell_type": "code",
   "execution_count": 54,
   "outputs": [
    {
     "name": "stdout",
     "output_type": "stream",
     "text": [
      "tf.Tensor(\n",
      "[[1 2 3]\n",
      " [4 5 6]], shape=(2, 3), dtype=int32)\n",
      "tf.Tensor(2, shape=(), dtype=int32)\n"
     ]
    }
   ],
   "source": [
    "t2 = tf.constant([[1, 2, 3], [4, 5, 6]])\n",
    "print(t2)\n",
    "print(tf.rank(t2))"
   ],
   "metadata": {
    "collapsed": false,
    "ExecuteTime": {
     "end_time": "2023-08-07T06:48:27.930768Z",
     "start_time": "2023-08-07T06:48:27.436688Z"
    }
   }
  },
  {
   "cell_type": "markdown",
   "source": [
    "## 3D Tensor\n",
    "\n",
    "3차원 텐서는 큐브(cube)와 같은 모양으로 세개의 축이 존재하며, 일반적으로 데이터가 연속된 시퀀스 데이터나 시간 축이 포함된 시계열 데이터에 해당합니다. 주로 샘플(samples), 타임스텝(timesteps), 특성(features)을 가진 구조로 사용됩니다. 3차원 텐서를 이용하는 데이터로는 주식 가격 데이터셋, 시간에 따른 질병 발병 데이터 등이 존재합니다."
   ],
   "metadata": {
    "collapsed": false
   }
  },
  {
   "cell_type": "code",
   "execution_count": 55,
   "outputs": [
    {
     "name": "stdout",
     "output_type": "stream",
     "text": [
      "tf.Tensor(\n",
      "[[[ 1  2  3]\n",
      "  [ 4  5  6]]\n",
      "\n",
      " [[ 7  8  9]\n",
      "  [10 11 12]]\n",
      "\n",
      " [[13 14 15]\n",
      "  [16 17 18]]], shape=(3, 2, 3), dtype=int32)\n",
      "tf.Tensor(3, shape=(), dtype=int32)\n"
     ]
    }
   ],
   "source": [
    "t3 = tf.constant([[[1, 2, 3], [4, 5, 6]], [[7, 8, 9], [\n",
    "                 10, 11, 12]], [[13, 14, 15], [16, 17, 18]]])\n",
    "print(t3)\n",
    "print(tf.rank(t3))"
   ],
   "metadata": {
    "collapsed": false,
    "ExecuteTime": {
     "end_time": "2023-08-07T06:48:27.932126Z",
     "start_time": "2023-08-07T06:48:27.447294Z"
    }
   }
  },
  {
   "cell_type": "markdown",
   "source": [
    "## 4D Tensor\n",
    "\n",
    "4차원 텐서는 4개의 축이 존재하며, 컬러 이미지 데이터가 대표적인 사례 (흑백 이미지 데이터는 3D Tensor로 가능)입니다. 주로 샘플(samples), 높이(height), 너비(width), 컬러 채널(channel)을 가진 구조로 사용됩니다."
   ],
   "metadata": {
    "collapsed": false
   }
  },
  {
   "cell_type": "code",
   "execution_count": 56,
   "outputs": [
    {
     "name": "stdout",
     "output_type": "stream",
     "text": [
      "tf.Tensor(\n",
      "[[[[ 1  2  3]\n",
      "   [ 4  5  6]]\n",
      "\n",
      "  [[ 7  8  9]\n",
      "   [10 11 12]]\n",
      "\n",
      "  [[13 14 15]\n",
      "   [16 17 18]]]\n",
      "\n",
      "\n",
      " [[[19 20 21]\n",
      "   [22 23 24]]\n",
      "\n",
      "  [[25 26 27]\n",
      "   [28 29 30]]\n",
      "\n",
      "  [[31 32 33]\n",
      "   [34 35 36]]]], shape=(2, 3, 2, 3), dtype=int32)\n",
      "tf.Tensor(4, shape=(), dtype=int32)\n"
     ]
    }
   ],
   "source": [
    "t4 = tf.constant([[[[1, 2, 3], [4, 5, 6]], [[7, 8, 9], [\n",
    "                 10, 11, 12]], [[13, 14, 15], [16, 17, 18]]], [[[19, 20, 21], [22, 23, 24]], [[25, 26, 27], [28, 29, 30]], [[31, 32, 33], [34, 35, 36]]]])\n",
    "print(t4)\n",
    "print(tf.rank(t4))"
   ],
   "metadata": {
    "collapsed": false,
    "ExecuteTime": {
     "end_time": "2023-08-07T06:48:27.933339Z",
     "start_time": "2023-08-07T06:48:27.459274Z"
    }
   }
  },
  {
   "cell_type": "markdown",
   "source": [
    "5D Tensor\n",
    "\n",
    "5차원 텐서는 5개의 축이 존재하며, 비디오 데이터가 대표적인 사례입니다. 주로 샘플(samples), 프레임(frames), 높이(height), 너비(width), 컬러 채널(channel)을 가진 구조로 사용됩니다."
   ],
   "metadata": {
    "collapsed": false
   }
  },
  {
   "cell_type": "code",
   "execution_count": 57,
   "outputs": [
    {
     "name": "stdout",
     "output_type": "stream",
     "text": [
      "tf.Tensor(\n",
      "[[[[[ 1  2  3]\n",
      "    [ 4  5  6]]\n",
      "\n",
      "   [[ 7  8  9]\n",
      "    [10 11 12]]\n",
      "\n",
      "   [[13 14 15]\n",
      "    [16 17 18]]]\n",
      "\n",
      "\n",
      "  [[[19 20 21]\n",
      "    [22 23 24]]\n",
      "\n",
      "   [[25 26 27]\n",
      "    [28 29 30]]\n",
      "\n",
      "   [[31 32 33]\n",
      "    [34 35 36]]]]\n",
      "\n",
      "\n",
      "\n",
      " [[[[37 38 39]\n",
      "    [40 41 42]]\n",
      "\n",
      "   [[43 44 45]\n",
      "    [46 47 48]]\n",
      "\n",
      "   [[49 50 51]\n",
      "    [52 53 54]]]\n",
      "\n",
      "\n",
      "  [[[55 56 57]\n",
      "    [58 59 60]]\n",
      "\n",
      "   [[61 62 63]\n",
      "    [64 65 66]]\n",
      "\n",
      "   [[67 68 69]\n",
      "    [70 71 72]]]]], shape=(2, 2, 3, 2, 3), dtype=int32)\n",
      "tf.Tensor(5, shape=(), dtype=int32)\n"
     ]
    }
   ],
   "source": [
    "t5 = tf.constant([[[[[1, 2, 3], [4, 5, 6]], [[7, 8, 9], [\n",
    "                 10, 11, 12]], [[13, 14, 15], [16, 17, 18]]], [[[19, 20, 21], [22, 23, 24]], [[25, 26, 27], [28, 29, 30]], [[31, 32, 33], [34, 35, 36]]]], [[[[37, 38, 39], [40, 41, 42]], [[43, 44, 45], [\n",
    "                     46, 47, 48]], [[49, 50, 51], [52, 53, 54]]], [[[55, 56, 57], [58, 59, 60]], [[61, 62, 63], [64, 65, 66]], [[67, 68, 69], [70, 71, 72]]]]])\n",
    "print(t5)\n",
    "print(tf.rank(t5))"
   ],
   "metadata": {
    "collapsed": false,
    "ExecuteTime": {
     "end_time": "2023-08-07T06:48:27.934424Z",
     "start_time": "2023-08-07T06:48:27.480198Z"
    }
   }
  },
  {
   "cell_type": "markdown",
   "source": [
    "## 2-3 텐서의 데이터 타입 및 변환"
   ],
   "metadata": {
    "collapsed": false
   }
  },
  {
   "cell_type": "markdown",
   "source": [
    "![](./img02/04.png)"
   ],
   "metadata": {
    "collapsed": false
   }
  },
  {
   "cell_type": "markdown",
   "source": [
    "![](./img02/05.png)"
   ],
   "metadata": {
    "collapsed": false
   }
  },
  {
   "cell_type": "markdown",
   "source": [
    "## 텐서의 생성"
   ],
   "metadata": {
    "collapsed": false
   }
  },
  {
   "cell_type": "code",
   "execution_count": 58,
   "outputs": [
    {
     "name": "stdout",
     "output_type": "stream",
     "text": [
      "tf.Tensor(2, shape=(), dtype=int32)\n"
     ]
    }
   ],
   "source": [
    "# 상수 값 2인 텐서를 생성해 봅시다. 기본적으로 정수형 int32 타입을 가지는 것을 알 수 있습니다.\n",
    "i = tf.constant(2)\n",
    "print(i)"
   ],
   "metadata": {
    "collapsed": false,
    "ExecuteTime": {
     "end_time": "2023-08-07T06:48:27.974737Z",
     "start_time": "2023-08-07T06:48:27.513369Z"
    }
   }
  },
  {
   "cell_type": "code",
   "execution_count": 59,
   "outputs": [
    {
     "name": "stdout",
     "output_type": "stream",
     "text": [
      "tf.Tensor(2.0, shape=(), dtype=float32)\n"
     ]
    }
   ],
   "source": [
    "# 상수 값 2.0으로 지정하면, 실수형 float32인 텐서를 생성합니다.\n",
    "i = tf.constant(2.0)\n",
    "print(i)"
   ],
   "metadata": {
    "collapsed": false,
    "ExecuteTime": {
     "end_time": "2023-08-07T06:48:27.975070Z",
     "start_time": "2023-08-07T06:48:27.517688Z"
    }
   }
  },
  {
   "cell_type": "code",
   "execution_count": 60,
   "outputs": [
    {
     "name": "stdout",
     "output_type": "stream",
     "text": [
      "tf.Tensor(b'Hello, World!', shape=(), dtype=string)\n"
     ]
    }
   ],
   "source": [
    "# 문자열을 값으로 가지는 텐서를 생성할 수도 있으며, 타입은 string이 됩니다.\n",
    "i = tf.constant('Hello, World!')\n",
    "print(i)"
   ],
   "metadata": {
    "collapsed": false,
    "ExecuteTime": {
     "end_time": "2023-08-07T06:48:27.977051Z",
     "start_time": "2023-08-07T06:48:27.521597Z"
    }
   }
  },
  {
   "cell_type": "code",
   "execution_count": 61,
   "outputs": [
    {
     "name": "stdout",
     "output_type": "stream",
     "text": [
      "tf.Tensor(2.0, shape=(), dtype=float16)\n"
     ]
    }
   ],
   "source": [
    "# 지정한 상수 값의 타입을 보고 자동으로 텐서 타입이 정해지는 것 외에도 필요한 텐서의 타입을 지정하여 생성할 수 있습니다. 여기서는 tf.float16으로 16비트 실수형으로 타입을 지정하였습니다.\n",
    "f16 = tf.constant(2.0, dtype=tf.float16)\n",
    "print(f16)"
   ],
   "metadata": {
    "collapsed": false,
    "ExecuteTime": {
     "end_time": "2023-08-07T06:48:27.977200Z",
     "start_time": "2023-08-07T06:48:27.524768Z"
    }
   }
  },
  {
   "cell_type": "code",
   "execution_count": 62,
   "outputs": [
    {
     "name": "stdout",
     "output_type": "stream",
     "text": [
      "tf.Tensor(2, shape=(), dtype=int8)\n"
     ]
    }
   ],
   "source": [
    "# 그 밖에도 8비트의 정수형인 tf.int8을 지정하여 텐서를 생성할 수 있습니다. 직접 코드를 작성해 보세요.\n",
    "i8 = tf.constant(2, dtype=tf.int8)\n",
    "print(i8)"
   ],
   "metadata": {
    "collapsed": false,
    "ExecuteTime": {
     "end_time": "2023-08-07T06:48:27.980698Z",
     "start_time": "2023-08-07T06:48:27.530230Z"
    }
   }
  },
  {
   "cell_type": "markdown",
   "source": [
    "## 텐서 변환\n",
    "\n",
    "### 텐서 타입 변환"
   ],
   "metadata": {
    "collapsed": false
   }
  },
  {
   "cell_type": "code",
   "execution_count": 63,
   "outputs": [
    {
     "name": "stdout",
     "output_type": "stream",
     "text": [
      "tf.Tensor(2.0, shape=(), dtype=float32)\n"
     ]
    }
   ],
   "source": [
    "# 텐서의 타입을 변환하고자 할 때는 tf.cast를 사용합니다. 여기서는 16비트 실수형 tf.float16을 32비트 실수형 tf.float32로 변환하였습니다.\n",
    "f32 = tf.cast(f16, dtype=tf.float32)\n",
    "print(f32)"
   ],
   "metadata": {
    "collapsed": false,
    "ExecuteTime": {
     "end_time": "2023-08-07T06:48:27.980900Z",
     "start_time": "2023-08-07T06:48:27.533761Z"
    }
   }
  },
  {
   "cell_type": "code",
   "execution_count": 64,
   "outputs": [
    {
     "name": "stdout",
     "output_type": "stream",
     "text": [
      "tf.Tensor(2, shape=(), dtype=int32)\n"
     ]
    }
   ],
   "source": [
    "# 다음 예제에서는 8비트 정수형 tf.int8을 32비트 정수형인 tf.int32로 변환하고자 합니다. 직접 코드를 작성해 보세요.\n",
    "i32 = tf.cast(i8, dtype=tf.int32)\n",
    "print(i32)"
   ],
   "metadata": {
    "collapsed": false,
    "ExecuteTime": {
     "end_time": "2023-08-07T06:48:27.981055Z",
     "start_time": "2023-08-07T06:48:27.537877Z"
    }
   }
  },
  {
   "cell_type": "markdown",
   "source": [
    "### 텐서 형상 변환"
   ],
   "metadata": {
    "collapsed": false
   }
  },
  {
   "cell_type": "code",
   "execution_count": 65,
   "outputs": [
    {
     "name": "stdout",
     "output_type": "stream",
     "text": [
      "tf.Tensor(\n",
      "[[1]\n",
      " [2]\n",
      " [3]], shape=(3, 1), dtype=int32)\n",
      "(3, 1)\n",
      "tf.Tensor([[1 2 3]], shape=(1, 3), dtype=int32)\n",
      "(1, 3)\n"
     ]
    }
   ],
   "source": [
    "# 텐서의 형상을 변환하는 것은 tf.reshape 함수를 통해 가능합니다. 이 함수는 텐서의 원소는 그대로 유지하면서 텐서의 구조를 바꿉니다.\n",
    "x = tf.constant([[1], [2], [3]])\n",
    "print(x)\n",
    "print(x.shape)\n",
    "\n",
    "y = tf.reshape(x, [1, 3])\n",
    "print(y)\n",
    "print(y.shape)"
   ],
   "metadata": {
    "collapsed": false,
    "ExecuteTime": {
     "end_time": "2023-08-07T06:48:27.982162Z",
     "start_time": "2023-08-07T06:48:27.543775Z"
    }
   }
  },
  {
   "cell_type": "markdown",
   "source": [
    "### 텐서 전치"
   ],
   "metadata": {
    "collapsed": false
   }
  },
  {
   "cell_type": "code",
   "execution_count": 66,
   "outputs": [
    {
     "name": "stdout",
     "output_type": "stream",
     "text": [
      "tf.Tensor([[1 2 3]], shape=(1, 3), dtype=int32)\n",
      "tf.Tensor(\n",
      "[[1]\n",
      " [2]\n",
      " [3]], shape=(3, 1), dtype=int32)\n",
      "(1, 3)\n"
     ]
    }
   ],
   "source": [
    "# 텐서를 전치하여 형상을 바꾸는 역할로 tf.transpose 함수를 사용할 수 있습니다.\n",
    "print(y)\n",
    "print(tf.transpose(y))\n",
    "print(y.shape)"
   ],
   "metadata": {
    "collapsed": false,
    "ExecuteTime": {
     "end_time": "2023-08-07T06:48:27.982313Z",
     "start_time": "2023-08-07T06:48:27.548207Z"
    }
   }
  },
  {
   "cell_type": "markdown",
   "source": [
    "### 차원압축"
   ],
   "metadata": {
    "collapsed": false
   }
  },
  {
   "cell_type": "code",
   "execution_count": 67,
   "outputs": [
    {
     "name": "stdout",
     "output_type": "stream",
     "text": [
      "tf.Tensor(\n",
      "[[1]\n",
      " [2]\n",
      " [3]], shape=(3, 1), dtype=int32)\n",
      "tf.Tensor([1 2 3], shape=(3,), dtype=int32)\n"
     ]
    }
   ],
   "source": [
    "# 텐서에서 크기가 1인 차원을 제거하는 tf.squeeze 함수를 이용해 형상을 변경합니다.\n",
    "print(x)\n",
    "print(tf.squeeze(x))"
   ],
   "metadata": {
    "collapsed": false,
    "ExecuteTime": {
     "end_time": "2023-08-07T06:48:27.983421Z",
     "start_time": "2023-08-07T06:48:27.557223Z"
    }
   }
  },
  {
   "cell_type": "markdown",
   "source": [
    "### 차원 추가"
   ],
   "metadata": {
    "collapsed": false
   }
  },
  {
   "cell_type": "code",
   "execution_count": 68,
   "outputs": [
    {
     "name": "stdout",
     "output_type": "stream",
     "text": [
      "tf.Tensor([[1 2 3]], shape=(1, 3), dtype=int32)\n",
      "tf.Tensor([[[1 2 3]]], shape=(1, 1, 3), dtype=int32)\n",
      "tf.Tensor([[[1 2 3]]], shape=(1, 1, 3), dtype=int32)\n",
      "tf.Tensor(\n",
      "[[[1]\n",
      "  [2]\n",
      "  [3]]], shape=(1, 3, 1), dtype=int32)\n"
     ]
    }
   ],
   "source": [
    "# 텐서의 차원을 추가하는 tf.expand_dims 함수를 이용해 형상을 변경합니다. 여기서 axis는 차원을 확장할 텐서의 축을 지정해주는 역할을 합니다.\n",
    "print(y)\n",
    "print(tf.expand_dims(y, axis=0))\n",
    "print(tf.expand_dims(y, axis=1))\n",
    "print(tf.expand_dims(y, axis=2))"
   ],
   "metadata": {
    "collapsed": false,
    "ExecuteTime": {
     "end_time": "2023-08-07T06:48:27.984526Z",
     "start_time": "2023-08-07T06:48:27.569510Z"
    }
   }
  },
  {
   "cell_type": "markdown",
   "source": [
    "### 텐서 분리"
   ],
   "metadata": {
    "collapsed": false
   }
  },
  {
   "cell_type": "code",
   "execution_count": 69,
   "outputs": [
    {
     "name": "stdout",
     "output_type": "stream",
     "text": [
      "tf.Tensor(\n",
      "[[1]\n",
      " [2]\n",
      " [3]], shape=(3, 1), dtype=int32)\n",
      "[<tf.Tensor: shape=(1, 1), dtype=int32, numpy=array([[1]], dtype=int32)>, <tf.Tensor: shape=(1, 1), dtype=int32, numpy=array([[2]], dtype=int32)>, <tf.Tensor: shape=(1, 1), dtype=int32, numpy=array([[3]], dtype=int32)>]\n"
     ]
    }
   ],
   "source": [
    "# tf.split 함수를 이용하여 텐서의 지정한 차원을 기준으로 여러 개의 텐서로 구분합니다. 예제에서는 텐서 x를 3개로 분리한 것을 알 수 있습니다.\n",
    "print(x)\n",
    "print(tf.split(x, 3))"
   ],
   "metadata": {
    "collapsed": false,
    "ExecuteTime": {
     "end_time": "2023-08-07T06:48:27.985601Z",
     "start_time": "2023-08-07T06:48:27.580261Z"
    }
   }
  },
  {
   "cell_type": "markdown",
   "source": [
    "### 텐서 연결"
   ],
   "metadata": {
    "collapsed": false
   }
  },
  {
   "cell_type": "code",
   "execution_count": 70,
   "outputs": [
    {
     "name": "stdout",
     "output_type": "stream",
     "text": [
      "tf.Tensor(\n",
      "[[1]\n",
      " [2]\n",
      " [3]], shape=(3, 1), dtype=int32)\n",
      "tf.Tensor(\n",
      "[[1]\n",
      " [2]\n",
      " [3]\n",
      " [1]\n",
      " [2]\n",
      " [3]], shape=(6, 1), dtype=int32)\n",
      "tf.Tensor(\n",
      "[[1 1]\n",
      " [2 2]\n",
      " [3 3]], shape=(3, 2), dtype=int32)\n"
     ]
    }
   ],
   "source": [
    "# tf.concat 함수는 지정한 축 axis를 기준으로 텐서들을 이어붙입니다.\n",
    "print(x)\n",
    "print(tf.concat([x, x], axis=0))\n",
    "print(tf.concat([x, x], axis=1))"
   ],
   "metadata": {
    "collapsed": false,
    "ExecuteTime": {
     "end_time": "2023-08-07T06:48:27.987480Z",
     "start_time": "2023-08-07T06:48:27.591996Z"
    }
   }
  },
  {
   "cell_type": "markdown",
   "source": [
    "### 2-4 텐서의 연산"
   ],
   "metadata": {
    "collapsed": false
   }
  },
  {
   "cell_type": "markdown",
   "source": [
    "![](./img02/06.png)\n"
   ],
   "metadata": {
    "collapsed": false
   }
  },
  {
   "cell_type": "markdown",
   "source": [
    "####0차원 텐서의 연산"
   ],
   "metadata": {
    "collapsed": false
   }
  },
  {
   "cell_type": "code",
   "execution_count": 71,
   "outputs": [
    {
     "name": "stdout",
     "output_type": "stream",
     "text": [
      "tf.Tensor(4, shape=(), dtype=int32)\n",
      "tf.Tensor(0, shape=(), dtype=int32)\n",
      "tf.Tensor(4, shape=(), dtype=int32)\n",
      "tf.Tensor(0, shape=(), dtype=int32)\n"
     ]
    }
   ],
   "source": [
    "# 먼저 더하기와 빼기 연산을 수행해보겠습니다. 더하기 연산자인 +와 빼기 연산자인 -를 이용해서 텐서간의 계산이 가능하고, add와 subtract 함수를 이용해서도 계산이 가능합니다.\n",
    "\n",
    "print(tf.constant(2) + tf.constant(2))\n",
    "print(tf.constant(2) - tf.constant(2))\n",
    "print(tf.add(tf.constant(2), tf.constant(2)))\n",
    "print(tf.subtract(tf.constant(2), tf.constant(2)))"
   ],
   "metadata": {
    "collapsed": false,
    "ExecuteTime": {
     "end_time": "2023-08-07T06:48:27.991139Z",
     "start_time": "2023-08-07T06:48:27.640459Z"
    }
   }
  },
  {
   "cell_type": "code",
   "execution_count": 72,
   "outputs": [
    {
     "name": "stdout",
     "output_type": "stream",
     "text": [
      "tf.Tensor(4, shape=(), dtype=int32)\n",
      "tf.Tensor(1.0, shape=(), dtype=float64)\n",
      "tf.Tensor(4, shape=(), dtype=int32)\n",
      "tf.Tensor(1.0, shape=(), dtype=float64)\n"
     ]
    }
   ],
   "source": [
    "# 곱하기와 나누기 연산도 *와 / 연산자를 이용하는 방법과 multiply와 divide 함수를 이용하는 방법이 있습니다.\n",
    "print(tf.constant(2) * tf.constant(2))\n",
    "print(tf.constant(2) / tf.constant(2))\n",
    "print(tf.multiply(tf.constant(2), tf.constant(2)))\n",
    "print(tf.divide(tf.constant(2), tf.constant(2)))"
   ],
   "metadata": {
    "collapsed": false,
    "ExecuteTime": {
     "end_time": "2023-08-07T06:48:27.991351Z",
     "start_time": "2023-08-07T06:48:27.645940Z"
    }
   }
  },
  {
   "cell_type": "code",
   "execution_count": 73,
   "outputs": [
    {
     "ename": "InvalidArgumentError",
     "evalue": "cannot compute AddV2 as input #1(zero-based) was expected to be a int32 tensor but is a float tensor [Op:AddV2] name: ",
     "output_type": "error",
     "traceback": [
      "\u001B[0;31m---------------------------------------------------------------------------\u001B[0m",
      "\u001B[0;31mInvalidArgumentError\u001B[0m                      Traceback (most recent call last)",
      "Cell \u001B[0;32mIn[73], line 2\u001B[0m\n\u001B[1;32m      1\u001B[0m \u001B[38;5;66;03m# 텐서 연산에서 주의할 점은 서로 다른 타입을 가지는 텐서는 연산이 되지 않고, 에러가 발생한다는 점입니다.\u001B[39;00m\n\u001B[0;32m----> 2\u001B[0m \u001B[38;5;28mprint\u001B[39m(\u001B[43mtf\u001B[49m\u001B[38;5;241;43m.\u001B[39;49m\u001B[43mconstant\u001B[49m\u001B[43m(\u001B[49m\u001B[38;5;241;43m2\u001B[39;49m\u001B[43m)\u001B[49m\u001B[43m \u001B[49m\u001B[38;5;241;43m+\u001B[39;49m\u001B[43m \u001B[49m\u001B[43mtf\u001B[49m\u001B[38;5;241;43m.\u001B[39;49m\u001B[43mconstant\u001B[49m\u001B[43m(\u001B[49m\u001B[38;5;241;43m2.2\u001B[39;49m\u001B[43m)\u001B[49m)\n",
      "File \u001B[0;32m~/anaconda3/lib/python3.10/site-packages/tensorflow/python/util/traceback_utils.py:153\u001B[0m, in \u001B[0;36mfilter_traceback.<locals>.error_handler\u001B[0;34m(*args, **kwargs)\u001B[0m\n\u001B[1;32m    151\u001B[0m \u001B[38;5;28;01mexcept\u001B[39;00m \u001B[38;5;167;01mException\u001B[39;00m \u001B[38;5;28;01mas\u001B[39;00m e:\n\u001B[1;32m    152\u001B[0m   filtered_tb \u001B[38;5;241m=\u001B[39m _process_traceback_frames(e\u001B[38;5;241m.\u001B[39m__traceback__)\n\u001B[0;32m--> 153\u001B[0m   \u001B[38;5;28;01mraise\u001B[39;00m e\u001B[38;5;241m.\u001B[39mwith_traceback(filtered_tb) \u001B[38;5;28;01mfrom\u001B[39;00m \u001B[38;5;28mNone\u001B[39m\n\u001B[1;32m    154\u001B[0m \u001B[38;5;28;01mfinally\u001B[39;00m:\n\u001B[1;32m    155\u001B[0m   \u001B[38;5;28;01mdel\u001B[39;00m filtered_tb\n",
      "File \u001B[0;32m~/anaconda3/lib/python3.10/site-packages/tensorflow/python/framework/ops.py:6656\u001B[0m, in \u001B[0;36mraise_from_not_ok_status\u001B[0;34m(e, name)\u001B[0m\n\u001B[1;32m   6654\u001B[0m \u001B[38;5;28;01mdef\u001B[39;00m \u001B[38;5;21mraise_from_not_ok_status\u001B[39m(e, name):\n\u001B[1;32m   6655\u001B[0m   e\u001B[38;5;241m.\u001B[39mmessage \u001B[38;5;241m+\u001B[39m\u001B[38;5;241m=\u001B[39m (\u001B[38;5;124m\"\u001B[39m\u001B[38;5;124m name: \u001B[39m\u001B[38;5;124m\"\u001B[39m \u001B[38;5;241m+\u001B[39m \u001B[38;5;28mstr\u001B[39m(name \u001B[38;5;28;01mif\u001B[39;00m name \u001B[38;5;129;01mis\u001B[39;00m \u001B[38;5;129;01mnot\u001B[39;00m \u001B[38;5;28;01mNone\u001B[39;00m \u001B[38;5;28;01melse\u001B[39;00m \u001B[38;5;124m\"\u001B[39m\u001B[38;5;124m\"\u001B[39m))\n\u001B[0;32m-> 6656\u001B[0m   \u001B[38;5;28;01mraise\u001B[39;00m core\u001B[38;5;241m.\u001B[39m_status_to_exception(e) \u001B[38;5;28;01mfrom\u001B[39;00m \u001B[38;5;28mNone\u001B[39m\n",
      "\u001B[0;31mInvalidArgumentError\u001B[0m: cannot compute AddV2 as input #1(zero-based) was expected to be a int32 tensor but is a float tensor [Op:AddV2] name: "
     ]
    }
   ],
   "source": [
    "# 텐서 연산에서 주의할 점은 서로 다른 타입을 가지는 텐서는 연산이 되지 않고, 에러가 발생한다는 점입니다.\n",
    "print(tf.constant(2) + tf.constant(2.2))"
   ],
   "metadata": {
    "collapsed": false,
    "ExecuteTime": {
     "end_time": "2023-08-07T06:48:27.994909Z",
     "start_time": "2023-08-07T06:48:27.650491Z"
    }
   }
  },
  {
   "cell_type": "code",
   "execution_count": null,
   "outputs": [],
   "source": [
    "# 다른 타입을 가지는 텐서는 연산을 위해서 타입을 변환해 주어야합니다. 2-3 스텝에서 언급했던 tf.cast를 사용하여 텐서의 타입을 서로 맞춰준 후에 연산을 할 수 있습니다.\n",
    "print(tf.cast(tf.constant(2), tf.float32) + tf.constant(2.2))"
   ],
   "metadata": {
    "collapsed": false,
    "ExecuteTime": {
     "start_time": "2023-08-07T06:48:27.681538Z"
    }
   }
  },
  {
   "cell_type": "markdown",
   "source": [
    "#### 1차원 이상의 텐서 연산\n",
    "0차원의 상수값만 존재하는 텐서 계산 외에도 1차원 이상의 텐서에 대해서도 연산이 가능합니다. 다만 텐서의 모양이 직사각형이거나 연산이 가능하도록 형상을 맞춰주어야 합니다."
   ],
   "metadata": {
    "collapsed": false
   }
  },
  {
   "cell_type": "code",
   "execution_count": null,
   "outputs": [],
   "source": [
    "# 1차원 텐서 2개를 만들어 봅시다.\n",
    "x = tf.constant([1, 2, 3])\n",
    "y = tf.constant([4, 5, 6])"
   ],
   "metadata": {
    "collapsed": false,
    "ExecuteTime": {
     "start_time": "2023-08-07T06:48:27.683735Z"
    }
   }
  },
  {
   "cell_type": "code",
   "execution_count": null,
   "outputs": [],
   "source": [
    "## Q. 사칙연산(더하기, 빼기, 곱하기, 나누기)을 해보세요.\n",
    "print(x + y)\n",
    "print(x - y)\n",
    "print(x * y)\n",
    "print(x / y)"
   ],
   "metadata": {
    "collapsed": false,
    "ExecuteTime": {
     "start_time": "2023-08-07T06:48:27.686436Z"
    }
   }
  },
  {
   "cell_type": "markdown",
   "source": [
    "#### 2차원 텐서의 연산"
   ],
   "metadata": {
    "collapsed": false
   }
  },
  {
   "cell_type": "code",
   "execution_count": null,
   "outputs": [],
   "source": [
    "# # Q. 크기 (2,2)인 2차원 텐서 2개를 생성해 보세요.\n",
    "a = tf.constant([[1, 2], [3, 4]])\n",
    "b = tf.constant([[5, 6], [7, 8]])"
   ],
   "metadata": {
    "collapsed": false,
    "ExecuteTime": {
     "start_time": "2023-08-07T06:48:27.688277Z"
    }
   }
  },
  {
   "cell_type": "code",
   "execution_count": null,
   "outputs": [],
   "source": [
    "# 텐서를 계산하기 위한 여러 연산자들을 제공하고 있으며, +, -, *, / 연산자는 요소별(element-wise) 연산을 수행하고, @ 연산자의 경우에는 행렬 곱 연산을 수행합니다.\n",
    "# 텐서 연산은 연산자를 통해서도 가능하지만, 제공되는 함수를 통해서도 연산이 가능합니다.\n",
    "print(a + b) # element-wise addition\n",
    "print(a - b) # element-wise subtraction\n",
    "print(a * b) # element-wise multiplication\n",
    "print(a @ b) # matrix multiplication\n",
    "print(a / b) # element-wise division"
   ],
   "metadata": {
    "collapsed": false,
    "ExecuteTime": {
     "start_time": "2023-08-07T06:48:27.689588Z"
    }
   }
  },
  {
   "cell_type": "markdown",
   "source": [
    "그 밖에도 유용한 여러 함수들이 존재합니다.\n",
    "\n",
    "reduce_max(): 텐서 값 중에서 최대값을 계산합니다.\n",
    "\n",
    "argmax(): 최대값의 위치를 반환합니다. 예제에서는 [4.0, 5.0, 6.0] 보다 [10.0, 9.0, 8.0]이 다 크기 때문에 [0 0 0]이 아니라 [1 1 1]의 결과를 보여주고 있습니다.\n",
    "\n",
    "nn.softmax(): 텐서의 값을 0과 1 사이의 값으로 보여줍니다. 예제에서는 [4.0, 5.0, 6.0] 값이 [0.09003057 0.24472848 0.66524094]으로 변환되었고, [10.0, 9.0, 8.0]이 [0.66524094 0.24472848 0.09003057]로 변환되었습니다."
   ],
   "metadata": {
    "collapsed": false
   }
  },
  {
   "cell_type": "code",
   "execution_count": 74,
   "outputs": [
    {
     "name": "stdout",
     "output_type": "stream",
     "text": [
      "tf.Tensor(10.0, shape=(), dtype=float32)\n",
      "tf.Tensor([1 1 1], shape=(3,), dtype=int64)\n",
      "tf.Tensor(\n",
      "[[0.09003057 0.24472848 0.66524094]\n",
      " [0.66524094 0.24472848 0.09003057]], shape=(2, 3), dtype=float32)\n"
     ]
    }
   ],
   "source": [
    "c = tf.constant([[4.0, 5.0, 6.0],\n",
    "                 [10.0, 9.0, 8.0]])\n",
    "\n",
    "print(tf.reduce_max(c))\n",
    "print(tf.argmax(c))\n",
    "print(tf.nn.softmax(c))"
   ],
   "metadata": {
    "collapsed": false,
    "ExecuteTime": {
     "end_time": "2023-08-07T06:48:27.996303Z",
     "start_time": "2023-08-07T06:48:27.691688Z"
    }
   }
  },
  {
   "cell_type": "markdown",
   "source": [],
   "metadata": {
    "collapsed": false
   }
  },
  {
   "cell_type": "markdown",
   "source": [
    "### 이번시간 정리\n",
    "딥러닝의 기본 데이터 표현 방법인 텐서 개념을 이해했습니다.\n",
    "\n",
    "텐서의 데이터 타입과 변환에 대한 원리를 이해했습니다.\n",
    "\n",
    "텐서 간의 연산 방법이나 함수에 대해서 이해했습니다."
   ],
   "metadata": {
    "collapsed": false
   }
  },
  {
   "cell_type": "markdown",
   "source": [
    "종합문제"
   ],
   "metadata": {
    "collapsed": false
   }
  },
  {
   "cell_type": "code",
   "execution_count": 75,
   "outputs": [
    {
     "name": "stdout",
     "output_type": "stream",
     "text": [
      "tf.Tensor(\n",
      "[[[  7.  10.]\n",
      "  [ 15.  22.]]\n",
      "\n",
      " [[ 67.  78.]\n",
      "  [ 91. 106.]]], shape=(2, 2, 2), dtype=float32)\n"
     ]
    }
   ],
   "source": [
    "# 아래 텐서를 각각 (2,2,2)의 형태를 가진 3차원 텐서로 만들고 행렬곱 연산을 해보세요.\n",
    "a = tf.constant([1, 2, 3, 4, 5, 6, 7, 8], dtype=tf.float32) # float32로 dtype을 지정해줍니다.\n",
    "b = tf.constant([[1., 2., 3., 4., 5., 6., 7., 8.]], dtype=tf.float32)\n",
    "\n",
    "# Q. 위에 있는 2개의 텐서를 행렬곱연산이 가능하도록 3차원 텐서로 변환해주세요.\n",
    "a = tf.reshape(a, (2, 2, 2))\n",
    "b = tf.reshape(b, (2, 2, 2))\n",
    "\n",
    "print(a@b)"
   ],
   "metadata": {
    "collapsed": false,
    "ExecuteTime": {
     "end_time": "2023-08-07T06:48:27.997309Z",
     "start_time": "2023-08-07T06:48:27.727798Z"
    }
   }
  }
 ],
 "metadata": {
  "kernelspec": {
   "display_name": "Python 3",
   "language": "python",
   "name": "python3"
  },
  "language_info": {
   "codemirror_mode": {
    "name": "ipython",
    "version": 2
   },
   "file_extension": ".py",
   "mimetype": "text/x-python",
   "name": "python",
   "nbconvert_exporter": "python",
   "pygments_lexer": "ipython2",
   "version": "2.7.6"
  }
 },
 "nbformat": 4,
 "nbformat_minor": 0
}
