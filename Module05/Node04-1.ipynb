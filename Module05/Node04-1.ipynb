{
 "cells": [
  {
   "cell_type": "markdown",
   "source": [
    "#### 모델 학습\n"
   ],
   "metadata": {
    "collapsed": false
   }
  },
  {
   "cell_type": "markdown",
   "source": [
    "딥러닝 모델의 학습 진행 방식을 결정하는 옵티마이저(optimizer)로 SGD(Stochastic Gradient Descent) 를 사용합니다. compile() 함수를 통해서 손실 함수(loss function), 옵티마이저(optimizer), 지표(metrics)를 지정합니다.\n",
    "\n",
    "모델의 학습에 필요한 손실 함수로 mse를 지정하여 Mean Square Error를 사용하고, 옵티마이저는 정의했던 SGD를 사용합니다. 지표로는 mae와 mse를 사용하는데 여기서 MAE는 Mean Absolute Error를 의미합니다.\n",
    "\n",
    "이제 모델 학습을 진행하기위해 fit() 함수를 호출합니다. 학습을 위해 x_train과 y_train를 지정하고, 학습 반복 횟수인 epochs를 40으로 지정합니다."
   ],
   "metadata": {
    "collapsed": false
   }
  },
  {
   "cell_type": "code",
   "execution_count": 17,
   "outputs": [
    {
     "name": "stdout",
     "output_type": "stream",
     "text": [
      "Model: \"sequential_3\"\n",
      "_________________________________________________________________\n",
      " Layer (type)                Output Shape              Param #   \n",
      "=================================================================\n",
      " dense_3 (Dense)             (None, 1)                 2         \n",
      "                                                                 \n",
      "=================================================================\n",
      "Total params: 2 (8.00 Byte)\n",
      "Trainable params: 2 (8.00 Byte)\n",
      "Non-trainable params: 0 (0.00 Byte)\n",
      "_________________________________________________________________\n",
      "Epoch 1/40\n",
      "5/5 [==============================] - 0s 2ms/step - loss: 604.1657 - mae: 19.7363 - mse: 604.1657\n",
      "Epoch 2/40\n",
      "5/5 [==============================] - 0s 2ms/step - loss: 485.9576 - mae: 17.7645 - mse: 485.9576\n",
      "Epoch 3/40\n",
      "5/5 [==============================] - 0s 2ms/step - loss: 390.8428 - mae: 15.9239 - mse: 390.8428\n",
      "Epoch 4/40\n",
      "5/5 [==============================] - 0s 2ms/step - loss: 316.4797 - mae: 14.3399 - mse: 316.4797\n",
      "Epoch 5/40\n",
      "5/5 [==============================] - 0s 3ms/step - loss: 255.5393 - mae: 12.8869 - mse: 255.5393\n",
      "Epoch 6/40\n",
      "5/5 [==============================] - 0s 2ms/step - loss: 207.8929 - mae: 11.6097 - mse: 207.8929\n",
      "Epoch 7/40\n",
      "5/5 [==============================] - 0s 2ms/step - loss: 169.7194 - mae: 10.4785 - mse: 169.7194\n",
      "Epoch 8/40\n",
      "5/5 [==============================] - 0s 3ms/step - loss: 139.4534 - mae: 9.4395 - mse: 139.4534\n",
      "Epoch 9/40\n",
      "5/5 [==============================] - 0s 2ms/step - loss: 115.2922 - mae: 8.6172 - mse: 115.2922\n",
      "Epoch 10/40\n",
      "5/5 [==============================] - 0s 2ms/step - loss: 95.8299 - mae: 7.8259 - mse: 95.8299\n",
      "Epoch 11/40\n",
      "5/5 [==============================] - 0s 2ms/step - loss: 80.6301 - mae: 7.1759 - mse: 80.6301\n",
      "Epoch 12/40\n",
      "5/5 [==============================] - 0s 2ms/step - loss: 68.4881 - mae: 6.6321 - mse: 68.4881\n",
      "Epoch 13/40\n",
      "5/5 [==============================] - 0s 2ms/step - loss: 58.7415 - mae: 6.1485 - mse: 58.7415\n",
      "Epoch 14/40\n",
      "5/5 [==============================] - 0s 2ms/step - loss: 50.9231 - mae: 5.7193 - mse: 50.9231\n",
      "Epoch 15/40\n",
      "5/5 [==============================] - 0s 2ms/step - loss: 44.7678 - mae: 5.3260 - mse: 44.7678\n",
      "Epoch 16/40\n",
      "5/5 [==============================] - 0s 2ms/step - loss: 39.9298 - mae: 5.0170 - mse: 39.9298\n",
      "Epoch 17/40\n",
      "5/5 [==============================] - 0s 2ms/step - loss: 35.9436 - mae: 4.7527 - mse: 35.9436\n",
      "Epoch 18/40\n",
      "5/5 [==============================] - 0s 2ms/step - loss: 32.7979 - mae: 4.5197 - mse: 32.7979\n",
      "Epoch 19/40\n",
      "5/5 [==============================] - 0s 2ms/step - loss: 30.3265 - mae: 4.3421 - mse: 30.3265\n",
      "Epoch 20/40\n",
      "5/5 [==============================] - 0s 2ms/step - loss: 28.3620 - mae: 4.1785 - mse: 28.3620\n",
      "Epoch 21/40\n",
      "5/5 [==============================] - 0s 2ms/step - loss: 26.7982 - mae: 4.0594 - mse: 26.7982\n",
      "Epoch 22/40\n",
      "5/5 [==============================] - 0s 2ms/step - loss: 25.5131 - mae: 3.9576 - mse: 25.5131\n",
      "Epoch 23/40\n",
      "5/5 [==============================] - 0s 2ms/step - loss: 24.5626 - mae: 3.8969 - mse: 24.5626\n",
      "Epoch 24/40\n",
      "5/5 [==============================] - 0s 2ms/step - loss: 23.7583 - mae: 3.8387 - mse: 23.7583\n",
      "Epoch 25/40\n",
      "5/5 [==============================] - 0s 2ms/step - loss: 23.1377 - mae: 3.7918 - mse: 23.1377\n",
      "Epoch 26/40\n",
      "5/5 [==============================] - 0s 2ms/step - loss: 22.5961 - mae: 3.7503 - mse: 22.5961\n",
      "Epoch 27/40\n",
      "5/5 [==============================] - 0s 2ms/step - loss: 22.1863 - mae: 3.7201 - mse: 22.1863\n",
      "Epoch 28/40\n",
      "5/5 [==============================] - 0s 3ms/step - loss: 21.8860 - mae: 3.6977 - mse: 21.8860\n",
      "Epoch 29/40\n",
      "5/5 [==============================] - 0s 2ms/step - loss: 21.6149 - mae: 3.6801 - mse: 21.6149\n",
      "Epoch 30/40\n",
      "5/5 [==============================] - 0s 3ms/step - loss: 21.4358 - mae: 3.6624 - mse: 21.4358\n",
      "Epoch 31/40\n",
      "5/5 [==============================] - 0s 3ms/step - loss: 21.2581 - mae: 3.6483 - mse: 21.2581\n",
      "Epoch 32/40\n",
      "5/5 [==============================] - 0s 3ms/step - loss: 21.1205 - mae: 3.6407 - mse: 21.1205\n",
      "Epoch 33/40\n",
      "5/5 [==============================] - 0s 3ms/step - loss: 21.0605 - mae: 3.6368 - mse: 21.0605\n",
      "Epoch 34/40\n",
      "5/5 [==============================] - 0s 3ms/step - loss: 20.9557 - mae: 3.6278 - mse: 20.9557\n",
      "Epoch 35/40\n",
      "5/5 [==============================] - 0s 2ms/step - loss: 20.8821 - mae: 3.6220 - mse: 20.8821\n",
      "Epoch 36/40\n",
      "5/5 [==============================] - 0s 2ms/step - loss: 20.8312 - mae: 3.6154 - mse: 20.8312\n",
      "Epoch 37/40\n",
      "5/5 [==============================] - 0s 2ms/step - loss: 20.7742 - mae: 3.6108 - mse: 20.7742\n",
      "Epoch 38/40\n",
      "5/5 [==============================] - 0s 2ms/step - loss: 20.7596 - mae: 3.6085 - mse: 20.7596\n",
      "Epoch 39/40\n",
      "5/5 [==============================] - 0s 2ms/step - loss: 20.7292 - mae: 3.6066 - mse: 20.7292\n",
      "Epoch 40/40\n",
      "5/5 [==============================] - 0s 2ms/step - loss: 20.6988 - mae: 3.6024 - mse: 20.6988\n"
     ]
    }
   ],
   "source": [
    "import tensorflow as tf\n",
    "from tensorflow import keras\n",
    "from tensorflow.keras import models, layers, optimizers, utils\n",
    "from sklearn.model_selection import train_test_split\n",
    "import numpy as np\n",
    "import matplotlib.pyplot as plt\n",
    "from sklearn.datasets import make_regression\n",
    "\n",
    "X, y = make_regression(n_samples=200, n_features=1,\n",
    "                       bias=5.0, noise=5.0, random_state=123)\n",
    "y = np.expand_dims(y, axis=1)\n",
    "\n",
    "x_train, x_test, y_train, y_test = train_test_split(X, y,\n",
    "                                                    test_size=0.2,\n",
    "                                                    shuffle=True,\n",
    "                                                    random_state=123)\n",
    "\n",
    "model = keras.Sequential()\n",
    "model.add(layers.Dense(1, activation='linear', input_shape=(1,)))\n",
    "model.summary()\n",
    "\n",
    "optimizer = optimizers.SGD()\n",
    "model.compile(loss='mse', optimizer=optimizer, metrics=['mae', 'mse'])\n",
    "history = model.fit(x_train, y_train, epochs=40)"
   ],
   "metadata": {
    "collapsed": false,
    "ExecuteTime": {
     "start_time": "2023-08-08T01:42:04.773647Z",
     "end_time": "2023-08-08T01:42:05.711473Z"
    }
   }
  },
  {
   "cell_type": "markdown",
   "source": [
    "모델이 학습하면서 각 epoch 마다 저장한 mae와 mse 지표를 차트를 통해서 확인합니다."
   ],
   "metadata": {
    "collapsed": false
   }
  },
  {
   "cell_type": "code",
   "execution_count": 18,
   "outputs": [
    {
     "data": {
      "text/plain": "<Figure size 640x480 with 1 Axes>",
      "image/png": "[encoded data removed]"
     },
     "metadata": {},
     "output_type": "display_data"
    }
   ],
   "source": [
    "plt.plot(history.history['mae'])\n",
    "plt.plot(history.history['mse'])\n",
    "plt.xlabel('Epoch')\n",
    "plt.legend(['mae', 'mse'])\n",
    "plt.show();"
   ],
   "metadata": {
    "collapsed": false,
    "ExecuteTime": {
     "start_time": "2023-08-08T01:42:05.714445Z",
     "end_time": "2023-08-08T01:42:05.884769Z"
    }
   }
  },
  {
   "cell_type": "markdown",
   "source": [
    "#### 모델 평가"
   ],
   "metadata": {
    "collapsed": false
   }
  },
  {
   "cell_type": "markdown",
   "source": [
    "이제 모델의 평가를 위해 evaluate() 함수를 이용하여 데이터셋인 x_test, y_test에 대해서 지표인 mae와 mse를 확인합니다."
   ],
   "metadata": {
    "collapsed": false
   }
  },
  {
   "cell_type": "code",
   "execution_count": 19,
   "outputs": [
    {
     "name": "stdout",
     "output_type": "stream",
     "text": [
      "2/2 [==============================] - 0s 5ms/step - loss: 21.9222 - mae: 3.9886 - mse: 21.9222\n"
     ]
    },
    {
     "data": {
      "text/plain": "[21.922216415405273, 3.9886043071746826, 21.922216415405273]"
     },
     "execution_count": 19,
     "metadata": {},
     "output_type": "execute_result"
    }
   ],
   "source": [
    "model.evaluate(x_test, y_test)"
   ],
   "metadata": {
    "collapsed": false,
    "ExecuteTime": {
     "start_time": "2023-08-08T01:42:05.887416Z",
     "end_time": "2023-08-08T01:42:06.027127Z"
    }
   }
  },
  {
   "cell_type": "markdown",
   "source": [
    "#### 모델 예측"
   ],
   "metadata": {
    "collapsed": false
   }
  },
  {
   "cell_type": "markdown",
   "source": [
    "학습된 모델을 통해 입력 데이터 X에 대한 예측값을 predict()를 통해 결과로 받아옵니다. 실제 데이터의 결과값 y와 모델의 예측 결과인 result를 살펴봅니다."
   ],
   "metadata": {
    "collapsed": false
   }
  },
  {
   "cell_type": "code",
   "execution_count": 20,
   "outputs": [
    {
     "name": "stdout",
     "output_type": "stream",
     "text": [
      "7/7 [==============================] - 0s 1ms/step\n"
     ]
    },
    {
     "data": {
      "text/plain": "<Figure size 640x480 with 1 Axes>",
      "image/png": "[encoded data removed]"
     },
     "metadata": {},
     "output_type": "display_data"
    }
   ],
   "source": [
    "result = model.predict(X)\n",
    "\n",
    "plt.scatter(X, y)\n",
    "plt.plot(X, result, 'r')\n",
    "plt.show()"
   ],
   "metadata": {
    "collapsed": false,
    "ExecuteTime": {
     "start_time": "2023-08-08T01:42:06.034590Z",
     "end_time": "2023-08-08T01:42:06.261438Z"
    }
   }
  },
  {
   "cell_type": "markdown",
   "source": [
    "딥러닝 모델에서 사용한 레이어를 layers로 접근하여 살펴볼 수 있습니다. 여기에서는 Dense 레이어 하나만 사용된 것을 알 수 있습니다."
   ],
   "metadata": {
    "collapsed": false
   }
  },
  {
   "cell_type": "code",
   "execution_count": 21,
   "outputs": [
    {
     "data": {
      "text/plain": "[<keras.src.layers.core.dense.Dense at 0x7fee73ed6320>]"
     },
     "execution_count": 21,
     "metadata": {},
     "output_type": "execute_result"
    }
   ],
   "source": [
    "model.layers"
   ],
   "metadata": {
    "collapsed": false,
    "ExecuteTime": {
     "start_time": "2023-08-08T01:42:06.263363Z",
     "end_time": "2023-08-08T01:42:06.269538Z"
    }
   }
  },
  {
   "cell_type": "markdown",
   "source": [
    "모델의 0번째 레이어인 layers[0]를 가져와서 layer.name으로 레이어의 이름을 확인할 수 있습니다. 또한, get_layer() 함수를 통해 같은 이름의 레이어를 얻을 수도 있습니다."
   ],
   "metadata": {
    "collapsed": false
   }
  },
  {
   "cell_type": "code",
   "execution_count": 23,
   "outputs": [
    {
     "name": "stdout",
     "output_type": "stream",
     "text": [
      "dense_3\n",
      "dense_3\n"
     ]
    }
   ],
   "source": [
    "layer = model.layers[0]\n",
    "print(layer.name)\n",
    "layer = model.get_layer('dense_3')\n",
    "print(layer.name)"
   ],
   "metadata": {
    "collapsed": false,
    "ExecuteTime": {
     "start_time": "2023-08-08T01:42:29.678010Z",
     "end_time": "2023-08-08T01:42:29.689392Z"
    }
   }
  },
  {
   "cell_type": "markdown",
   "source": [
    "레이어에서 사용하는 가중치(weights)와 바이어스(biases)를 get_weights() 함수를 통해서 얻을 수 있습니다. 즉, 레이어에 있는 가중치와 바이어스를 통해 선형 회귀식을 얻을 수 있습니다."
   ],
   "metadata": {
    "collapsed": false
   }
  },
  {
   "cell_type": "code",
   "execution_count": 24,
   "outputs": [
    {
     "name": "stdout",
     "output_type": "stream",
     "text": [
      "[[22.905226]]\n",
      "[4.173599]\n"
     ]
    }
   ],
   "source": [
    "weights, biases = layer.get_weights()\n",
    "print(weights)\n",
    "print(biases)"
   ],
   "metadata": {
    "collapsed": false,
    "ExecuteTime": {
     "start_time": "2023-08-08T01:42:52.172306Z",
     "end_time": "2023-08-08T01:42:52.183144Z"
    }
   }
  },
  {
   "cell_type": "markdown",
   "source": [
    "딥러닝 모델에서 학습된 가중치(weights)와 바이어스(biases)를 통해 선형회귀식을 np.array(weights * X + biases)로 표현할 수 있습니다."
   ],
   "metadata": {
    "collapsed": false
   }
  },
  {
   "cell_type": "code",
   "execution_count": 25,
   "outputs": [
    {
     "data": {
      "text/plain": "<Figure size 640x480 with 1 Axes>",
      "image/png": "[encoded data removed]"
     },
     "metadata": {},
     "output_type": "display_data"
    }
   ],
   "source": [
    "plt.scatter(X, y)\n",
    "plt.plot(X, np.array(weights * X + biases), 'r')\n",
    "plt.show()"
   ],
   "metadata": {
    "collapsed": false,
    "ExecuteTime": {
     "start_time": "2023-08-08T01:43:14.340742Z",
     "end_time": "2023-08-08T01:43:14.476972Z"
    }
   }
  },
  {
   "cell_type": "markdown",
   "source": [
    "#### 이번시간 정리"
   ],
   "metadata": {
    "collapsed": false
   }
  },
  {
   "cell_type": "markdown",
   "source": [
    "딥러닝 모델을 학습하는 구성과 관련 요소들을 이해했습니다.\n",
    "모델이 잘 학습되고 있는지 비교를 위해 사용하는 손실함수에 대해서 이해했습니다.\n",
    "모델이 어떻게 업데이트되어야 하는지 결정하는 옵티마이저에 대해서 이해했습니다."
   ],
   "metadata": {
    "collapsed": false
   }
  },
  {
   "cell_type": "markdown",
   "source": [
    "Q.사람과 달리 딥러닝의 학습은 어떻게 이루어지는지 딥러닝을 처음 접하는 사람에게 설명하실 수 있을까요?\n",
    "\n",
    "실제 정답과 딥러닝 모델이 예측한 정답을 비교하여 실제 정답에 가깝게 예측할 수 있도록 스스로 학습합니다.\n",
    "\n",
    "\n",
    "GPT 답변\n",
    "\n",
    "딥러닝의 학습은 인공신경망(Artificial Neural Network)이라는 구조로 이루어져 있습니다. 이 인공신경망은 여러개의 뉴런(Neuron)으로 구성되어있으며, 이 뉴런들이 데이터를 입력받아 처리하는 과정을 통해 학습이 이루어집니다.\n",
    "\n",
    "인공신경망은 입력층(Input Layer), 은닉층(Hidden Layer), 출력층(Output Layer)으로 나누어져 있습니다. 입력층은 외부에서 데이터를 받아들이는 역할을 하며, 출력층은 인공신경망에서 결과를 출력하는 역할을 합니다. 중간에 위치한 은닉층은 입력층과 출력층 사이에서 신경망의 핵심 처리를 담당하는 층으로, 하나 이상의 은닉층을 가진 딥러닝 모델을 사용하는 경우도 많습니다.\n",
    "\n",
    "인공신경망의 학습은 두 가지 단계로 이루어집니다. 첫번째는 순전파(Forward Propagation) 과정입니다. 입력층에서부터 시작하여 출력층에 도달하며, 각 층에서는 입력의 가중치 합과 편향(Bias)을 더한 값을 활성화 함수(Activation Function)에 적용하여 출력값을 계산합니다. 이러한 과정을 통해 입력값이 출력값에 매핑되는 활성화함수의 일종인 함수 approximator로서 동작합니다.\n",
    "\n",
    "두번째 단계는 오차역전파(Back Propagation) 과정입니다. 출력값과 실제값 사이에서 생긴 오차를 이용하여 각 층에 대한 가중치의 기울기를 계산하고, 경사 하강법(Gradient Descent) 등의 최적화 알고리즘을 사용하여 이를 갱신합니다. 이를 반복하며 가중치와 편향이 최적화되며, 신경망은 더 정확한 예측 및 분류를 수행할 수 있게 됩니다.\n",
    "\n",
    "딥러닝의 학습은 이와 같은 과정을 여러번 반복하면서 모델의 정확도를 개선해 나가는 것입니다. 이 과정에서는 대량의 데이터를 사용하여 모델을 학습시키며, GPU와 같은 하드웨어 가속기를 활용하여 학습 속도를 높일 수 있습니다."
   ],
   "metadata": {
    "collapsed": false
   }
  }
 ],
 "metadata": {
  "kernelspec": {
   "display_name": "Python 3",
   "language": "python",
   "name": "python3"
  },
  "language_info": {
   "codemirror_mode": {
    "name": "ipython",
    "version": 2
   },
   "file_extension": ".py",
   "mimetype": "text/x-python",
   "name": "python",
   "nbconvert_exporter": "python",
   "pygments_lexer": "ipython2",
   "version": "2.7.6"
  }
 },
 "nbformat": 4,
 "nbformat_minor": 0
}
