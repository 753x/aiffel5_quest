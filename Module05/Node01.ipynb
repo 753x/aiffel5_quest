{
 "cells": [
  {
   "cell_type": "markdown",
   "source": [
    "## 딥러닝 한번에 끝내기\n",
    "### 1. 딥러닝이란"
   ],
   "metadata": {
    "collapsed": false
   }
  },
  {
   "cell_type": "markdown",
   "source": [
    "### ‘딥러닝 한 번에 끝내기’를 모두 학습하면 할 수 있는 것은?\n",
    "\n",
    "![](https://d3s0tskafalll9.cloudfront.net/media/images/ON_DLF_1_1.max-800x600.png)\n",
    "\n",
    "다양한 모델 학습 방법\n",
    "1. 가중치 초기화\n",
    "\n",
    "2. 배치 정규화\n",
    "\n",
    "3. 규제\n",
    "\n",
    "4. 드롭아웃\n",
    "\n",
    "또한 아래와 같은 프로젝트를 진행할 수 있습니다.\n",
    "\n",
    "프로젝트 1. Boston 주택 가격 예측 모델\n",
    "프로젝트 1에서는 Boston의 주택별 여러가지 조건을 보고 가격을 예측하는 프로젝트를 진행합니다.\n",
    "\n",
    "프로젝트 2. Reuters 딥러닝 모델\n",
    "프로젝트 2에서는 Reuter의 기사를 보고 해당 기사의 class를 구분해내는 프로젝트를 진행합니다.\n",
    "\n",
    "프로젝트 3. CIFAR10 딥러닝 모델\n",
    "프로젝트 3에선 10가지 class에 대한 이미지 데이터가 주어지며 각 이미지의 class를 구분해내는 프로젝트입니다.\n",
    "\n",
    "각 프로젝트에선 기본적인 딥러닝 프로세스가 제공되지만 세부 코드의 경우 여러분이 원하는 대로 작성할 수 있습니다.\n",
    "\n",
    "‘딥러닝 한 번에 끝내기’에서 소개된 여러가지 내용들, 모델 설계부터 모델 학습까지의 내용을 참고하여 여러분의 모델을 설계하고 성능을 끌어올려 보시기 바랍니다."
   ],
   "metadata": {
    "collapsed": false
   }
  },
  {
   "cell_type": "markdown",
   "source": [
    "### 콘텐츠 구성 및 학습 가이드\n",
    "콘텐츠 구성\n",
    "'딥러닝 한 번에 끝내기'는 총 10개의 노드로 구성되어있습니다.\n",
    "\n",
    "이론\n",
    "\n",
    "1. 딥러닝이란\n",
    "2. 텐서 표현과 연산\n",
    "3. 딥러닝 구조와 모델\n",
    "4. 딥러닝 모델 학습\n",
    "5. 모델 저장과 콜백\n",
    "6. 모델 학습 기술\n",
    "7. 모델 크기 조절과 규제\n",
    "8. 가중치 초기화와 배치 정규화\n",
    "9. 딥러닝 모델 실습\n",
    "\n",
    "프로젝트\n",
    "\n",
    "딥러닝 프로젝트\n",
    "1~9번 노드는 영상으로 이론과 사용법을 설명하고 설명한 내용을 퀴즈와 코드를 통해 확인합니다. 뿐만 아니라 학습한 내용을 점검하거나 복습할 수 있는 이론 퀴즈와 코드 퀴즈, 그리고 배운 내용을 정리하는 마무리 퀴즈가 있습니다.\n",
    "\n",
    "10번 노드에서는 회귀 예측(Regression)과 서로 다른 타입의 데이터에 대한 classification에 대한 프로젝트가 제공됩니다."
   ],
   "metadata": {
    "collapsed": false
   }
  },
  {
   "cell_type": "markdown",
   "source": [
    "## 1-2 들어가며"
   ],
   "metadata": {
    "collapsed": false
   }
  },
  {
   "cell_type": "markdown",
   "source": [
    "딥러닝이란?\n",
    "\n",
    "Contents\n",
    "\n",
    "![](./img01/02.png)"
   ],
   "metadata": {
    "collapsed": false
   }
  },
  {
   "cell_type": "markdown",
   "source": [
    "학습목표\n",
    "\n",
    "인공신경망의 개념과 구조를 이해합니다.\n",
    "\n",
    "최초의 인공신경망과 역사를 이해합니다.\n",
    "\n",
    "인공신경망의 문제점과 딥러닝 역사와 발전을 살펴봅니다."
   ],
   "metadata": {
    "collapsed": false
   }
  },
  {
   "cell_type": "markdown",
   "source": [
    "## 1-3 인공신경망"
   ],
   "metadata": {
    "collapsed": false
   }
  },
  {
   "cell_type": "markdown",
   "source": [
    "![](./img01/03.png)"
   ],
   "metadata": {
    "collapsed": false
   }
  },
  {
   "cell_type": "markdown",
   "source": [
    "![](./img01/04.png)"
   ],
   "metadata": {
    "collapsed": false
   }
  },
  {
   "cell_type": "markdown",
   "source": [
    "![](./img01/05.png)"
   ],
   "metadata": {
    "collapsed": false
   }
  },
  {
   "cell_type": "markdown",
   "source": [
    "![](./img01/06.png)"
   ],
   "metadata": {
    "collapsed": false
   }
  },
  {
   "cell_type": "markdown",
   "source": [
    "Q. 인공신경망(Artificail Neural Network)은 인간의 뇌에서 어떤 부분을 모방해 구현하나요?\n",
    "\n",
    "인간의 두뇌, 그중에서도 신경 세포의 구조와 동작을 모방하여 구현했습니다."
   ],
   "metadata": {
    "collapsed": false
   }
  },
  {
   "cell_type": "markdown",
   "source": [
    "Q. 신경 세포(Neuron)와 인공 뉴런(Artificial Neuron)은 동작 혹은 구조적으로 어떤 부분이 닮았나요?\n",
    "\n",
    "여러 신호를 받아 하나의 신호를 흘려주는 동작과 각각이 세포 혹은 노드 단위로 작동하는 구조가 닮았습니다. 또한 신호를 그대로 흘려보내는 것이 아니라 보내지 않을 수도 있고 혹은 다른 크기로 보내는 것이 닮았습니다."
   ],
   "metadata": {
    "collapsed": false
   }
  },
  {
   "cell_type": "markdown",
   "source": [
    "Q. 인공신경망은 여러 층으로 이루어질 수 있습니다. 실제 신경망과는 어떤 차이가 있을까요?\n",
    "\n",
    "일반적으로 인공신경망은 layer 단위로 순차적으로 쌓이는 구조를 띄지만 실제 신경망은 layer 단위에 구속되지 않고 연결할 수 있습니다."
   ],
   "metadata": {
    "collapsed": false
   }
  },
  {
   "cell_type": "markdown",
   "source": [
    "## 1-4 인공신경망의 역사"
   ],
   "metadata": {
    "collapsed": false
   }
  },
  {
   "cell_type": "markdown",
   "source": [
    "![](./img01/07.png)"
   ],
   "metadata": {
    "collapsed": false
   }
  },
  {
   "cell_type": "markdown",
   "source": [
    "![](./img01/08.png)"
   ],
   "metadata": {
    "collapsed": false
   }
  },
  {
   "cell_type": "markdown",
   "source": [
    "![](./img01/09.png)"
   ],
   "metadata": {
    "collapsed": false
   }
  },
  {
   "cell_type": "markdown",
   "source": [
    "![](./img01/10.png)"
   ],
   "metadata": {
    "collapsed": false
   }
  },
  {
   "cell_type": "markdown",
   "source": [
    "![](./img01/11.png)"
   ],
   "metadata": {
    "collapsed": false
   }
  },
  {
   "cell_type": "markdown",
   "source": [
    "![](./img01/12.png)"
   ],
   "metadata": {
    "collapsed": false
   }
  },
  {
   "cell_type": "markdown",
   "source": [
    "![](./img01/13.png)"
   ],
   "metadata": {
    "collapsed": false
   }
  },
  {
   "cell_type": "markdown",
   "source": [
    "![](./img01/14.png)"
   ],
   "metadata": {
    "collapsed": false
   }
  },
  {
   "cell_type": "markdown",
   "source": [],
   "metadata": {
    "collapsed": false
   }
  },
  {
   "cell_type": "markdown",
   "source": [
    "Q. 퍼셉트론에서는 활성화 함수를 통해 받아들인 정보를 전달할 수도 전달하지 않을 수도 있습니다. 이를 신경세포의 어떤 과정을 모방한 것일까요?\n",
    "\n",
    "세포체의 신호 발화 과정을 모방했습니다."
   ],
   "metadata": {
    "collapsed": false
   }
  },
  {
   "cell_type": "markdown",
   "source": [
    "영상에 등장하진 않았지만 다른 논리회로 게이트 종류도 많습니다. 다른 논리 회로 게이트 중에서도 단일 퍼셉트론으로는 해결할 수 없는 것들이 있을까요?\n",
    "\n",
    "XOR 게이트의 반전 형태인 XNOR 게이트가 있습니다. XNOR 게이트는 입력 받은 데이터가 같으면 1, 다르면 0을 출력합니다."
   ],
   "metadata": {
    "collapsed": false
   }
  },
  {
   "cell_type": "markdown",
   "source": [
    "Q. 다층 퍼셉트론을 학습시키는것이 어려운 이유는 무엇일까요?\n",
    "\n",
    "많은 은닉층의 수와 미분이 불가능한 계단함수의 존재가 학습의 난이도를 높입니다."
   ],
   "metadata": {
    "collapsed": false
   }
  },
  {
   "cell_type": "markdown",
   "source": [
    "## 1-5 딥러닝의 역사"
   ],
   "metadata": {
    "collapsed": false
   }
  },
  {
   "cell_type": "markdown",
   "source": [
    "![](./img01/15.png)"
   ],
   "metadata": {
    "collapsed": false
   }
  },
  {
   "cell_type": "markdown",
   "source": [
    "![](./img01/16.png)"
   ],
   "metadata": {
    "collapsed": false
   }
  },
  {
   "cell_type": "markdown",
   "source": [
    " ![](./img01/17.png)"
   ],
   "metadata": {
    "collapsed": false
   }
  },
  {
   "cell_type": "markdown",
   "source": [
    "![](./img01/18.png)"
   ],
   "metadata": {
    "collapsed": false
   }
  },
  {
   "cell_type": "markdown",
   "source": [
    "![](./img01/19.png)"
   ],
   "metadata": {
    "collapsed": false
   }
  },
  {
   "cell_type": "markdown",
   "source": [
    "![](./img01/20.png)"
   ],
   "metadata": {
    "collapsed": false
   }
  },
  {
   "cell_type": "markdown",
   "source": [
    "![](./img01/21.png)"
   ],
   "metadata": {
    "collapsed": false
   }
  },
  {
   "cell_type": "markdown",
   "source": [
    "![](./img01/22.png)"
   ],
   "metadata": {
    "collapsed": false
   }
  },
  {
   "cell_type": "markdown",
   "source": [
    "![](./img01/23.png)"
   ],
   "metadata": {
    "collapsed": false
   }
  },
  {
   "cell_type": "markdown",
   "source": [
    "![](./img01/24.png)\n"
   ],
   "metadata": {
    "collapsed": false
   }
  },
  {
   "cell_type": "markdown",
   "source": [
    "Q. 일반 신경망과 딥러닝 신경망의 차이 중 하나는 특징 추출과정의 포함 여부입니다. 특징 추출을 포함했을 때 어떤 장점이 있나요?\n",
    "\n",
    "사람의 개입이 들어가지 않아 사람의 편견으로 인한 오류가 적고 추론시간이 짧아지며 성능이 높아지는 장점이 있습니다."
   ],
   "metadata": {
    "collapsed": false
   }
  },
  {
   "cell_type": "markdown",
   "source": [
    "Q. 딥러닝 신경망은 일반 신경망과 비교했을 때 어떤 문제점들을 갖고 있나요?\n",
    "\n",
    "더 많은 학습 데이터를 필요로하며 훈련을 위해 많은 시간과 비용이 쓰이고, 기울기 소멸 문제, 과적합 등의 문제가 있습니다."
   ],
   "metadata": {
    "collapsed": false
   }
  },
  {
   "cell_type": "markdown",
   "source": [
    "![](./img01/25.png)"
   ],
   "metadata": {
    "collapsed": false
   }
  },
  {
   "cell_type": "markdown",
   "source": [
    "Q. 초기 인공신경망 퍼셉트론과 현재의 딥러닝 사이의 공통점과 차이점은 무엇일까요?\n",
    "\n",
    "스스로 학습한다는 공통점이 있지만 딥러닝은 퍼셉트론보다 규모도 클 뿐더러 확장성도 넓습니다.\n"
   ],
   "metadata": {
    "collapsed": false
   }
  },
  {
   "cell_type": "markdown",
   "source": [],
   "metadata": {
    "collapsed": false
   }
  },
  {
   "cell_type": "markdown",
   "source": [],
   "metadata": {
    "collapsed": false
   }
  },
  {
   "cell_type": "markdown",
   "source": [],
   "metadata": {
    "collapsed": false
   }
  },
  {
   "cell_type": "markdown",
   "source": [],
   "metadata": {
    "collapsed": false
   }
  },
  {
   "cell_type": "markdown",
   "source": [],
   "metadata": {
    "collapsed": false
   }
  },
  {
   "cell_type": "markdown",
   "source": [],
   "metadata": {
    "collapsed": false
   }
  },
  {
   "cell_type": "markdown",
   "source": [],
   "metadata": {
    "collapsed": false
   }
  },
  {
   "cell_type": "markdown",
   "source": [],
   "metadata": {
    "collapsed": false
   }
  },
  {
   "cell_type": "markdown",
   "source": [],
   "metadata": {
    "collapsed": false
   }
  },
  {
   "cell_type": "markdown",
   "source": [],
   "metadata": {
    "collapsed": false
   }
  }
 ],
 "metadata": {
  "kernelspec": {
   "display_name": "Python 3",
   "language": "python",
   "name": "python3"
  },
  "language_info": {
   "codemirror_mode": {
    "name": "ipython",
    "version": 2
   },
   "file_extension": ".py",
   "mimetype": "text/x-python",
   "name": "python",
   "nbconvert_exporter": "python",
   "pygments_lexer": "ipython2",
   "version": "2.7.6"
  }
 },
 "nbformat": 4,
 "nbformat_minor": 0
}
